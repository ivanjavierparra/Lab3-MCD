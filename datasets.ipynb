{
 "cells": [
  {
   "cell_type": "code",
   "execution_count": 1,
   "id": "c1751ce1",
   "metadata": {},
   "outputs": [],
   "source": [
    "import pandas as pd\n",
    "import numpy as np\n",
    "import matplotlib.pyplot as plt\n",
    "import seaborn as sns"
   ]
  },
  {
   "cell_type": "code",
   "execution_count": 2,
   "id": "a9682af0",
   "metadata": {},
   "outputs": [],
   "source": [
    "sellin = pd.read_csv(\"datasets/sell-in.csv\", sep='\\t')\n",
    "productos = pd.read_csv(\"datasets/tb_productos.csv\", sep='\\t')\n",
    "stocks = pd.read_csv(\"datasets/tb_stocks.csv\", sep='\\t')"
   ]
  },
  {
   "cell_type": "code",
   "execution_count": 3,
   "id": "634afbd0",
   "metadata": {},
   "outputs": [
    {
     "name": "stdout",
     "output_type": "stream",
     "text": [
      "Sell-In: 2945818 filas y 7 columnas\n",
      "Productos: 1262 filas y 6 columnas\n",
      "Stocks: 13691 filas y 3 columnas\n"
     ]
    }
   ],
   "source": [
    "# Verificación inicial\n",
    "print(f\"Sell-In: {sellin.shape[0]} filas y {sellin.shape[1]} columnas\")\n",
    "print(f\"Productos: {productos.shape[0]} filas y {productos.shape[1]} columnas\")\n",
    "print(f\"Stocks: {stocks.shape[0]} filas y {stocks.shape[1]} columnas\")"
   ]
  },
  {
   "cell_type": "code",
   "execution_count": 4,
   "id": "c4e1219c",
   "metadata": {},
   "outputs": [
    {
     "name": "stdout",
     "output_type": "stream",
     "text": [
      "Ventas-Productos-Stocks: 2988650 filas y 13 columnas\n"
     ]
    }
   ],
   "source": [
    "# 3. MERGE INICIAL\n",
    "df = sellin.merge(productos, on=\"product_id\", how=\"left\")\n",
    "df = df.merge(stocks, on=[\"product_id\", \"periodo\"], how=\"left\")\n",
    "print(f\"Ventas-Productos-Stocks: {df.shape[0]} filas y {df.shape[1]} columnas\")"
   ]
  },
  {
   "cell_type": "code",
   "execution_count": 5,
   "id": "37326e31",
   "metadata": {},
   "outputs": [
    {
     "name": "stdout",
     "output_type": "stream",
     "text": [
      "(1251, 6)\n"
     ]
    }
   ],
   "source": [
    "productos_clean = productos.drop_duplicates(subset=['product_id'], keep='first')\n",
    "print(productos_clean.shape)"
   ]
  },
  {
   "cell_type": "code",
   "execution_count": 6,
   "id": "6c6237db",
   "metadata": {},
   "outputs": [
    {
     "name": "stdout",
     "output_type": "stream",
     "text": [
      "(2945818, 7)\n",
      "(2945818, 13)\n"
     ]
    }
   ],
   "source": [
    "df = sellin.merge(productos_clean, on=\"product_id\", how=\"left\")\n",
    "df = df.merge(stocks, on=[\"product_id\", \"periodo\"], how=\"left\")\n",
    "print(sellin.shape)\n",
    "print(df.shape)"
   ]
  },
  {
   "cell_type": "code",
   "execution_count": 7,
   "id": "669eab73",
   "metadata": {},
   "outputs": [],
   "source": [
    "df['periodo_dt'] = pd.to_datetime(df['periodo'].astype(str), format='%Y%m')"
   ]
  },
  {
   "cell_type": "markdown",
   "id": "4fae27b9",
   "metadata": {},
   "source": [
    "# Dataset: <periodo, producto>"
   ]
  },
  {
   "cell_type": "markdown",
   "id": "30d41a3b",
   "metadata": {},
   "source": [
    "### Si hace falta llenar periodos vacios para un producto  usar este codigo"
   ]
  },
  {
   "cell_type": "code",
   "execution_count": 165,
   "id": "55e6d193",
   "metadata": {},
   "outputs": [
    {
     "data": {
      "text/html": [
       "<div>\n",
       "<style scoped>\n",
       "    .dataframe tbody tr th:only-of-type {\n",
       "        vertical-align: middle;\n",
       "    }\n",
       "\n",
       "    .dataframe tbody tr th {\n",
       "        vertical-align: top;\n",
       "    }\n",
       "\n",
       "    .dataframe thead th {\n",
       "        text-align: right;\n",
       "    }\n",
       "</style>\n",
       "<table border=\"1\" class=\"dataframe\">\n",
       "  <thead>\n",
       "    <tr style=\"text-align: right;\">\n",
       "      <th></th>\n",
       "      <th>periodo_dt</th>\n",
       "      <th>product_id</th>\n",
       "      <th>periodo</th>\n",
       "    </tr>\n",
       "  </thead>\n",
       "  <tbody>\n",
       "    <tr>\n",
       "      <th>31517</th>\n",
       "      <td>2017-01-01</td>\n",
       "      <td>21295</td>\n",
       "      <td>201701</td>\n",
       "    </tr>\n",
       "    <tr>\n",
       "      <th>31518</th>\n",
       "      <td>2017-08-01</td>\n",
       "      <td>21296</td>\n",
       "      <td>201708</td>\n",
       "    </tr>\n",
       "    <tr>\n",
       "      <th>31519</th>\n",
       "      <td>2017-01-01</td>\n",
       "      <td>21297</td>\n",
       "      <td>201701</td>\n",
       "    </tr>\n",
       "    <tr>\n",
       "      <th>31520</th>\n",
       "      <td>2017-08-01</td>\n",
       "      <td>21298</td>\n",
       "      <td>201708</td>\n",
       "    </tr>\n",
       "    <tr>\n",
       "      <th>31521</th>\n",
       "      <td>2017-08-01</td>\n",
       "      <td>21299</td>\n",
       "      <td>201708</td>\n",
       "    </tr>\n",
       "  </tbody>\n",
       "</table>\n",
       "</div>"
      ],
      "text/plain": [
       "      periodo_dt  product_id  periodo\n",
       "31517 2017-01-01       21295   201701\n",
       "31518 2017-08-01       21296   201708\n",
       "31519 2017-01-01       21297   201701\n",
       "31520 2017-08-01       21298   201708\n",
       "31521 2017-08-01       21299   201708"
      ]
     },
     "metadata": {},
     "output_type": "display_data"
    },
    {
     "name": "stdout",
     "output_type": "stream",
     "text": [
      "(31522, 3)\n"
     ]
    }
   ],
   "source": [
    "# Suponemos que ya tenés cargado tu DataFrame `df` con columnas: periodo (AAAAMM), customer_id, product_id, tn\n",
    "# Convertimos periodo a datetime\n",
    "df[\"periodo_dt\"] = pd.to_datetime(df[\"periodo\"].astype(str), format=\"%Y%m\")\n",
    "\n",
    "# Paso 2: Determinar periodo de vida útil de cada producto\n",
    "vida_producto = df.groupby(\"product_id\")[\"periodo_dt\"].agg([\"min\", \"max\"]).reset_index()\n",
    "\n",
    "# Expandimos cada producto con todos los periodos de su vida útil\n",
    "periodos_producto = []\n",
    "for _, row in vida_producto.iterrows():\n",
    "    periodos = pd.date_range(start=row[\"min\"], end=row[\"max\"], freq=\"MS\")\n",
    "    for p in periodos:\n",
    "        periodos_producto.append((p, row[\"product_id\"]))\n",
    "df_producto_periodo = pd.DataFrame(periodos_producto, columns=[\"periodo_dt\", \"product_id\"])\n",
    "df_producto_periodo[\"periodo\"] = df_producto_periodo[\"periodo_dt\"].dt.strftime(\"%Y%m\").astype(int)\n",
    "display(df_producto_periodo.tail())\n",
    "print(df_producto_periodo.shape)\n"
   ]
  },
  {
   "cell_type": "code",
   "execution_count": 166,
   "id": "0d19af0e",
   "metadata": {},
   "outputs": [
    {
     "data": {
      "text/plain": [
       "(31243, 3)"
      ]
     },
     "execution_count": 166,
     "metadata": {},
     "output_type": "execute_result"
    }
   ],
   "source": [
    "ts_2 = df.copy()\n",
    "# Agregar los datos por periodo y product_id para obtener la serie temporal\n",
    "ts_2 = ts_2.groupby(['periodo', 'product_id'])['tn'].sum().reset_index()\n",
    "\n",
    "ts_2.shape"
   ]
  },
  {
   "cell_type": "code",
   "execution_count": 168,
   "id": "32f53eed",
   "metadata": {},
   "outputs": [
    {
     "data": {
      "text/plain": [
       "(31522,)"
      ]
     },
     "execution_count": 168,
     "metadata": {},
     "output_type": "execute_result"
    }
   ],
   "source": [
    "# Paso 5: Unir con las toneladas efectivamente vendidas (tn)\n",
    "df_merge = df_producto_periodo.merge(ts_2[[\"periodo\", \"product_id\", \"tn\"]],\n",
    "                             on=[\"periodo\", \"product_id\"],\n",
    "                             how=\"left\")\n",
    "df_merge[\"tn\"] = df_merge[\"tn\"].fillna(0)\n",
    "\n",
    "df_merge[\"tn\"].shape"
   ]
  },
  {
   "cell_type": "code",
   "execution_count": 181,
   "id": "6ded3792",
   "metadata": {},
   "outputs": [
    {
     "data": {
      "text/plain": [
       "Index(['periodo', 'customer_id', 'product_id', 'plan_precios_cuidados',\n",
       "       'cust_request_qty', 'cust_request_tn', 'tn'],\n",
       "      dtype='object')"
      ]
     },
     "execution_count": 181,
     "metadata": {},
     "output_type": "execute_result"
    }
   ],
   "source": [
    "sellin.columns"
   ]
  },
  {
   "cell_type": "code",
   "execution_count": null,
   "id": "d4e12cb3",
   "metadata": {},
   "outputs": [],
   "source": [
    "# Unir las categorías de productos desde el archivo tb_productos\n",
    "df_merge = df_merge.merge(productos[['product_id', 'cat1', 'cat2', 'cat3','brand','sku_size']], on='product_id', how='left')\n",
    "df_merge = df_merge.merge(stocks[['product_id', 'periodo', 'stock_final']], on=['product_id', 'periodo'], how='left')\n",
    "# df_merge = df_merge.merge(sellin[['product_id', 'periodo', 'plan_precios_cuidados', 'cust_request_qty','cust_request_tn']], on=['product_id', 'periodo', 'customer_id'], how='left')\n",
    "\n",
    "##########################################################################################################\n",
    "##########################################################################################################\n",
    "##########################################################################################################\n",
    "#### HAY QUE SUMARIZAR: 'plan_precios_cuidados', 'cust_request_qty','cust_request_tn' ####################\n",
    "##########################################################################################################"
   ]
  },
  {
   "cell_type": "markdown",
   "id": "fda850a7",
   "metadata": {},
   "source": [
    "### Si no hace falta ir acumulando productos usar este codigo"
   ]
  },
  {
   "cell_type": "code",
   "execution_count": null,
   "id": "14206e4b",
   "metadata": {},
   "outputs": [],
   "source": [
    "ts_2 = df.copy()\n",
    "\n",
    "\n",
    "\n",
    "# Agregar los datos por periodo y product_id para obtener la serie temporal\n",
    "ts_2 = ts_2.groupby(['periodo', 'product_id'])['tn'].sum().reset_index()\n",
    "\n",
    "# Unir las categorías de productos desde el archivo tb_productos\n",
    "ts_2 = ts_2.merge(productos[['product_id', 'cat1', 'cat2', 'cat3','brand','sku_size']], on='product_id', how='left')\n",
    "ts_2 = ts_2.merge(stocks[['product_id', 'periodo', 'stock_final']], on=['product_id', 'periodo'], how='left')\n",
    "\n",
    "# Convertir el periodo a formato datetime\n",
    "ts_2['periodo_dt'] = pd.to_datetime(df['periodo'], format='%Y%m')\n",
    "\n",
    "# Convertir las columnas de categoría a tipo 'category' para que las detecte LGBM\n",
    "ts_2['cat1'] = ts_2['cat1'].astype('category')\n",
    "ts_2['cat2'] = ts_2['cat2'].astype('category')\n",
    "ts_2['cat3'] = ts_2['cat3'].astype('category')\n",
    "ts_2['brand'] = ts_2['brand'].astype('category')\n",
    "ts_2['sku_size'] = ts_2['sku_size'].astype('category')\n",
    "\n",
    "# Crear características adicionales\n",
    "ts_2['crisis'] = (ts_2['periodo_dt'].dt.year == 2019) & (ts_2['periodo_dt'].dt.month == 8)\n",
    "ts_2['quarter'] = ts_2['periodo_dt'].dt.quarter\n",
    "ts_2['month'] = ts_2['periodo_dt'].dt.month\n",
    "ts_2['year'] = ts_2['periodo_dt'].dt.year\n",
    "ts_2['season'] = ts_2['periodo_dt'].apply(lambda x: 1 if x.month in [6, 7, 8] else 0)\n",
    "ts_2['tn_diff'] = ts_2.groupby('product_id')['tn'].diff()\n",
    "ts_2['rolling_mean'] = ts_2.groupby('product_id')['tn'].rolling(window=3).mean().reset_index(level=0, drop=True)\n",
    "ts_2['interaction'] = ts_2['year'] * ts_2['month']\n",
    "\n",
    "# Normalización por producto\n",
    "ts_2['tn_norm'] = ts_2.groupby('product_id')['tn'].transform(lambda x: (x - x.mean()) / x.std())\n",
    "\n",
    "# Agregar lags a los datos\n",
    "for lag in range(1, 13):\n",
    "    ts_2[f'tn_lag_{lag}'] = ts_2.groupby('product_id')['tn'].shift(lag)\n",
    "\n",
    "# Identificar el primer y último periodo de ventas para cada producto\n",
    "ts_2['first_sale'] = ts_2.groupby('product_id')['periodo_dt'].transform('min')\n",
    "ts_2['last_sale'] = ts_2.groupby('product_id')['periodo_dt'].transform('max')\n",
    "\n",
    "# Calcular el tiempo desde la primera venta para cada registro\n",
    "ts_2['months_since_launch'] = (ts_2['periodo_dt'] - ts_2['first_sale']).dt.days // 30  # en meses\n",
    "\n",
    "# Crear una categoría de madurez basada en el tiempo desde la primera venta\n",
    "conditions = [\n",
    "    (ts_2['months_since_launch'] < 6),\n",
    "    (ts_2['months_since_launch'] >= 6) & (ts_2['months_since_launch'] < 18),\n",
    "    (ts_2['months_since_launch'] >= 18) & (ts_2['months_since_launch'] < 30),\n",
    "    (ts_2['months_since_launch'] >= 30)\n",
    "]\n",
    "choices = ['new', 'growth', 'mature', 'decline']\n",
    "ts_2['grado_de_madurez'] = np.select(conditions, choices, default='unknown')\n",
    "\n",
    "# One-Hot Encode the grado_de_madurez feature\n",
    "ts_2 = pd.get_dummies(ts_2, columns=['grado_de_madurez'], drop_first=True)\n",
    "\n",
    "\n",
    "\n",
    "\n",
    "\n",
    "# PESOS para el LGB: podria cambiarlo: por cantidad de ventas.\n",
    "# Paso 1: Calcular la suma total por producto\n",
    "participacion = ts_2.groupby('product_id')['tn'].sum()\n",
    "# Paso 2: Calcular el total global\n",
    "total_global = participacion.sum()\n",
    "# Paso 3: Calcular la proporción por producto\n",
    "participacion = participacion / total_global\n",
    "participacion.name = 'participacion_tn'\n",
    "# Paso 4: Merge con el DataFrame original\n",
    "ts_2 = ts_2.merge(participacion, on='product_id', how='left')\n",
    "\n",
    "\n",
    "\n",
    "\n",
    "\n",
    "\n",
    "\n",
    "# Agrupar por categorias y ver estadisticas\n",
    "\n",
    "\n",
    "\n",
    "\n",
    "\n",
    "# stock de prodctos: velocidad de rotacion\n",
    "ts_2['stock_ratio'] = ts_2['tn'] / ts_2['stock_final']\n",
    "ts_2['stock_ratio'] = ts_2.apply(\n",
    "    lambda x: x['tn'] / x['stock_final'] if x['stock_final'] > 0 else 0,\n",
    "    axis=1\n",
    ")\n",
    "ts_2['stock_ratio'] = ts_2['stock_ratio'].replace([np.inf, -np.inf], 0).fillna(0)\n",
    "\n",
    "\n",
    "\n",
    "\n",
    "# Crecimiento del stock entre periodos\n",
    "# Útil para detectar si el producto está acumulando inventario o escaseando.\n",
    "ts_2['stock_growth'] = ts_2.groupby('product_id')['stock_final'].pct_change() #  calcula el cambio porcentual entre el valor actual y el valor anterior en la columna stock_final para cada grupo. \n",
    "ts_2['stock_growth'] = ts_2['stock_growth'].replace([np.inf, -np.inf], 0).fillna(0)\n",
    "\n",
    "\n",
    "\n",
    "\n",
    "# Relación stock actual vs. promedio histórico\n",
    "# Promedio histórico del stock por producto\n",
    "avg_stock = ts_2.groupby('product_id')['stock_final'].transform('mean')\n",
    "ts_2['stock_vs_avg'] = ts_2['stock_final'] / avg_stock\n",
    "ts_2['stock_vs_avg'] = ts_2['stock_vs_avg'].replace([np.inf, -np.inf], 0).fillna(0)\n",
    "\n",
    "\n",
    "\n",
    "\n",
    "# Stock lagueado (ej: t-1, t-2)\n",
    "# Ideal para que LightGBM aprenda con información de meses previos.\n",
    "ts_2['stock_lag1'] = ts_2.groupby('product_id')['stock_final'].shift(1)\n",
    "ts_2['stock_lag1'] = ts_2['stock_lag1'].replace([np.inf, -np.inf], 0).fillna(0)\n",
    "ts_2['stock_lag2'] = ts_2.groupby('product_id')['stock_final'].shift(2)\n",
    "ts_2['stock_lag2'] = ts_2['stock_lag2'].replace([np.inf, -np.inf], 0).fillna(0)\n",
    "\n",
    "\n",
    "# Categorizar el nivel de stock\n",
    "# Podés discretizar la variable si pensás que LightGBM puede beneficiarse de eso.\n",
    "ts_2['stock_level'] = pd.qcut(ts_2['stock_final'], q=4, labels=['Muy bajo', 'Bajo', 'Medio', 'Alto'])\n",
    "ts_2['stock_level'] = ts_2['stock_level'].replace([np.inf, -np.inf], 0).fillna(0)\n",
    "\n",
    "\n",
    "\n",
    "######## EL STOCK SE PUEDE RECONSTRUIR EN BASE A LAS TONELADAS VENDIDAS ########\n",
    "\n",
    "\n",
    "\n",
    "\n",
    "# Clustering de productos\n",
    "\n",
    "\n",
    "\n",
    "\n",
    "# Porcentaje vendido al top 13 de clientes: Nueva columna que, para cada combinación periodo-producto, indique qué porcentaje de toneladas fue vendido a los top 13 clientes.\n",
    "# Paso 1: Identificar los top 13 clientes\n",
    "df_copy = df.copy() \n",
    "top_13 = (df_copy.groupby('customer_id')['tn'].sum()\n",
    "          .sort_values(ascending=False)\n",
    "          .head(13)\n",
    "          .index)\n",
    "# Paso 2: Calcular toneladas por periodo-producto para top13\n",
    "df_copy['is_top13'] = df_copy['customer_id'].isin(top_13)\n",
    "agregado_total = df_copy.groupby(['periodo', 'product_id'])['tn'].sum()\n",
    "agregado_top13 = df_copy[df_copy['is_top13']].groupby(['periodo', 'product_id'])['tn'].sum()\n",
    "# Paso 3: Crear DataFrame de proporción\n",
    "df_prop = (agregado_top13 / agregado_total).reset_index(name='porcentaje_top13')\n",
    "# Paso 4: Merge con tu dataset original\n",
    "ts_2 = ts_2.merge(df_prop, on=['periodo', 'product_id'], how='left')\n",
    "\n",
    "\n",
    "\n",
    "# Numero de clientes distintos por producto y mes: Esto indica cuán diversificada es la demanda por producto en cada periodo.\n",
    "clientes_distintos = df.groupby(['periodo', 'product_id'])['customer_id'].nunique().reset_index(name='n_clientes')\n",
    "ts_2 = ts_2.merge(clientes_distintos, on=['periodo', 'product_id'], how='left')\n",
    "\n",
    "\n",
    "\n",
    "# Concentración (índice de Herfindahl): Podés calcular el índice de concentración por producto y mes. \n",
    "# El índice de Herfindahl es la suma de los cuadrados de las participaciones de los clientes:\n",
    "# Calcular la participación de cada cliente por periodo-producto\n",
    "participaciones = df.groupby(['periodo', 'product_id', 'customer_id'])['tn'].sum()\n",
    "# Calcular el índice de Herfindahl-Hirschman\n",
    "participaciones_pct = participaciones.groupby(['periodo', 'product_id']).apply(\n",
    "    lambda x: ((x / x.sum())**2).sum()\n",
    ").reset_index(name='hh_index')\n",
    "# Merge con tu dataframe agregado por periodo y producto\n",
    "ts_2 = ts_2.merge(participaciones_pct, on=['periodo', 'product_id'], how='left')\n",
    "\n",
    "\n",
    "\n",
    "\n",
    "\n",
    "# Tasa de repetición de clientes\n",
    "# % de clientes que ya compraron el producto en el período anterior\n",
    "# Paso 1: Agrupar y obtener clientes únicos por período y producto\n",
    "clientes_por_periodo = df.groupby(['periodo', 'product_id'])['customer_id'].unique().reset_index()\n",
    "# Paso 2: Ordenar\n",
    "clientes_por_periodo = clientes_por_periodo.sort_values(['product_id', 'periodo'])\n",
    "# Paso 3: Shift preservando la estructura (usando transform)\n",
    "clientes_por_periodo['clientes_prev'] = (\n",
    "    clientes_por_periodo.groupby('product_id')['customer_id']\n",
    "    .transform(lambda x: x.shift(1))\n",
    ")\n",
    "# Paso 4: Función corregida para tasa de repetición\n",
    "def tasa_repeticion(row):\n",
    "    clientes_actuales = set(row['customer_id']) if isinstance(row['customer_id'], np.ndarray) else set()\n",
    "    clientes_anteriores = set(row['clientes_prev']) if isinstance(row['clientes_prev'], np.ndarray) else set()\n",
    "    \n",
    "    if not clientes_actuales:\n",
    "        return 0.0\n",
    "    \n",
    "    repetidos = clientes_actuales & clientes_anteriores\n",
    "    return len(repetidos) / len(clientes_actuales)\n",
    "clientes_por_periodo['tasa_repeticion'] = clientes_por_periodo.apply(tasa_repeticion, axis=1)\n",
    "# Resultado\n",
    "resultado = clientes_por_periodo[['periodo', 'product_id', 'tasa_repeticion']]\n",
    "ts_2 = ts_2.merge(resultado, on=['periodo', 'product_id'], how='left')\n",
    "\n",
    "\n",
    "\n",
    "\n",
    "# Clientes nuevos para ese producto\n",
    "# Construir un historial de compras por cliente-producto\n",
    "df_copy = df.copy()\n",
    "df_copy['first_purchase'] = df_copy.groupby(['customer_id', 'product_id'])['periodo'].transform('min')\n",
    "# Cliente nuevo = primera compra de ese producto en ese mes\n",
    "df_copy['cliente_nuevo'] = (df_copy['periodo'] == df_copy['first_purchase']).astype(int)\n",
    "# Agregar a nivel periodo-producto\n",
    "clientes_nuevos = df_copy.groupby(['periodo', 'product_id'])['cliente_nuevo'].sum().reset_index()\n",
    "# Merge con el DataFrame original\n",
    "ts_2 = ts_2.merge(clientes_nuevos, on=['periodo', 'product_id'], how='left')\n",
    "\n",
    "\n",
    "\n",
    "\n",
    "\n",
    "\n",
    "# Promedio histórico de toneladas por cliente (en un mes): promedio de compra\n",
    "promedio_tn_cliente = (\n",
    "    df.groupby(['product_id', 'customer_id'])['tn']\n",
    "    .mean()\n",
    "    .reset_index()\n",
    "    .groupby('product_id')['tn']\n",
    "    .mean()\n",
    "    .reset_index()\n",
    "    .rename(columns={'tn': 'prom_tn_cliente'})\n",
    ")\n",
    "ts_2 = ts_2.merge(promedio_tn_cliente, on='product_id', how='left')\n",
    "\n",
    "\n",
    "\n",
    "\n",
    "\n",
    "\n",
    "# Varianza de las toneladas por cliente (en un mes): dispersión en tamaño de compra\n",
    "var_tn_cliente = (\n",
    "    df.groupby(['periodo', 'product_id'])['tn']\n",
    "    .std()\n",
    "    .reset_index()\n",
    "    .rename(columns={'tn': 'std_tn_cliente'})\n",
    ")\n",
    "ts_2 = ts_2.merge(var_tn_cliente, on=['periodo', 'product_id'], how='left')\n",
    "\n",
    "\n",
    "\n",
    "\n",
    "\n",
    "# Coeficiente de Gini de participación de clientes: desigualdad en la distribución de compras\n",
    "def gini(array):\n",
    "    array = np.sort(np.array(array))\n",
    "    n = len(array)\n",
    "    if n == 0:\n",
    "        return np.nan\n",
    "    cumx = np.cumsum(array, dtype=float)\n",
    "    return (n + 1 - 2 * np.sum(cumx) / cumx[-1]) / n\n",
    "\n",
    "gini_por_producto = (\n",
    "    df.groupby(['periodo', 'product_id'])['tn']\n",
    "    .apply(gini)\n",
    "    .reset_index()\n",
    "    .rename(columns={'tn': 'gini_clientes'})\n",
    ")\n",
    "ts_2 = ts_2.merge(gini_por_producto, on=['periodo', 'product_id'], how='left')\n",
    "\n",
    "\n",
    "\n",
    "\n",
    "\n",
    "\n",
    "\n",
    "\n",
    "\n",
    "\n",
    "# Prediccion: SARIMA, PMDARIMA, STATSFORECAST, PROPHET, DARTS\n",
    "\n",
    "# clientes: ocasionales, esporadicos, regulares, frecuentes\n",
    "\n",
    "\n",
    "\n",
    "# Eventos politicos\n",
    "\n",
    "\n",
    "\n",
    "\n",
    "# Target\n",
    "ts_2['tn_target'] = ts_2['tn'].shift(-2)\n",
    "# Elimino las 2 ultimas filas porque el target es NaN\n",
    "ts_2 = ts_2[:-2]\n"
   ]
  },
  {
   "cell_type": "markdown",
   "id": "e993c8ae",
   "metadata": {},
   "source": [
    "Agregar la siguiente segmentacion de clientes arriba "
   ]
  },
  {
   "cell_type": "code",
   "execution_count": null,
   "id": "847be643",
   "metadata": {},
   "outputs": [],
   "source": [
    "conteo_customers = (\n",
    "    df.groupby('customer_id')\n",
    "    .size()\n",
    "    .reset_index(name='cantidad_compras')\n",
    ")\n",
    "\n",
    "\n",
    "conteo_customers['media'] = conteo_customers['cantidad_compras'].median()\n",
    "conteo_customers['ds'] = conteo_customers['cantidad_compras'].std()\n",
    "conteo_customers['q10'] = conteo_customers['cantidad_compras'].quantile(0.1)\n",
    "conteo_customers['q90'] = conteo_customers['cantidad_compras'].quantile(0.9)\n",
    "\n",
    "def clasificar_frecuencia(frecuencia,median,q10,q90):\n",
    "\n",
    "    if frecuencia <= q10:\n",
    "        return \"🕸 Inactivo\"\n",
    "    elif  frecuencia <= median :\n",
    "        return \"🟡 Ocasional\"\n",
    "    elif  frecuencia <= q90:\n",
    "        return \"🟢 Frecuente\"\n",
    "    else:\n",
    "        return \"🔵 Fiel\"\n",
    "    \n",
    "\n",
    "conteo_customers['segmento_frecuencia'] = conteo_customers.apply(\n",
    "    lambda row: clasificar_frecuencia(\n",
    "        row['cantidad_compras'],\n",
    "        row['media'],  # <- Esto no tiene sentido en tu caso, porque 'media' es igual para todos\n",
    "        row['q10'],\n",
    "        row['q90']\n",
    "    ),\n",
    "    axis=1\n",
    ")\n",
    "\n",
    "\n",
    "\n",
    "# Supongamos que df tiene una columna 'segmento' asociada al cliente\n",
    "segmento_dominante = (\n",
    "    df.groupby(['periodo', 'product_id', 'segmento'])['tn']\n",
    "    .sum()\n",
    "    .reset_index()\n",
    "    .sort_values(['periodo', 'product_id', 'tn'], ascending=False)\n",
    "    .drop_duplicates(subset=['periodo', 'product_id'])\n",
    "    .rename(columns={'segmento': 'segmento_dominante'})\n",
    ")"
   ]
  },
  {
   "cell_type": "markdown",
   "id": "53790a5d",
   "metadata": {},
   "source": [
    "# Dataset <periodo, cliente, producto>"
   ]
  },
  {
   "cell_type": "markdown",
   "id": "575439b7",
   "metadata": {},
   "source": [
    "Vale la pena predecir aquellos clientes que compraron una sola vez? No en los ultimos 3 meses, sino mas anteriormente. Rta: No borra nada!!!!\n",
    "\n",
    "Como podemos saber si un producto esta discontinuado?\n",
    "Cuando dejaron de haber ventas del mismo para siempre.\n",
    "\n",
    "Estamos hablando se sell-in, que son las ventas de La Multinacional a sus clientes (cadenas de supermercados, mayoristas, distribuidores). No hablamos del sell-out que son las ventas a consumidor final.\n",
    "\n",
    "La Multinacional da la bienvenida a tu idea de incorporar esos factores externos y que les expliques como afectan a sus ventas"
   ]
  },
  {
   "cell_type": "markdown",
   "id": "b0031118",
   "metadata": {},
   "source": [
    "Pablo Cablinski: Buen día.\n",
    "Consulto porque ayer me quedó una duda respecto a la generación de filas en cero para sell in. Entiendo que es conveniente generar registros con valor cero para evitar \"huecos\" en las combinaciones de customer_id y product_id durante los períodos en que ambos están activos.\n",
    "Mi pregunta es:\n",
    "Si un customer_id nunca compró un determinado producto, ¿igualmente conviene generar registros en cero para todos los períodos en los que ese cliente estuvo activo?\n",
    "Y, en caso de que así sea, ¿aunque el producto haya tenido ventas solo en un período y el cliente también estuvo activo en ese mismo período, igual se beneficia el análisis al agregar ese registro en cero?Gustavo Denicolay: @Pablo Cablinski \n",
    " Si un customer_id nunca compró un determinado producto, ¿igualmente conviene generar registros en cero para todos los períodos en los que ese cliente estuvo activo? \n",
    "AfirmativoGustavo Denicolay: @Pablo Cablinski \n",
    "Y, en caso de que así sea, ¿aunque el producto haya tenido ventas solo en un período y el cliente también estuvo activo en ese mismo período, igual se beneficia el análisis al agregar ese registro en cero?\n",
    "AfirmativoGustavo Denicolay: @Pablo Cablinski \n",
    "Racional  a los dos  \"Afirmativo\"  previos\n",
    "\n",
    "Si se decide utilizar solamente las 800 series de tiempo en forma individual,  ya sea para un algoritmo de la Estadistica Clasica como ARIMA  o uno de Deep Learning ,  en realidad eshacer un loop que genere 800 modelos. Ahi la informacion extra no cuenta.\n",
    "Si se decide utilzar un algoritmo como LightGBM es necesaria  crear un dataset estructurado a partir de las series de tiempo, y cada registro sera un   < periodo, customer_id, product_id,   multiples_campos_historicos_derivados,  informacion_externa>.   En este caso,  cada registro cuenta,  cada bit de informacion va a ayudar al LightGBM a predecir mejor, incluso un  cliente que vivio un solo mes y decidio no comprar un producto ese unico mes de efimera vida.  Ese registro contribuira a la \"probabilidad de compra\" al  \"monto promedio comprado\"  al considerarse con los datos de otros clientes ya establecidos\n",
    "Gustavo Denicolay: @Pablo Cablinski \n",
    "No le quites posibilidad de aprender al algortimo  cercenando el dataset !\n",
    "No le quites datos outliers\n",
    "No le quites el mes malo de 2019-08  si  existe la ingeniosa posibilidad de marcarlo como \"problematico\"\n",
    "Se ingenioso en como incorporar a medias y lags a las ventas de un mes problematico,  aunque ello demande crear mas campos"
   ]
  },
  {
   "cell_type": "markdown",
   "id": "ea0fee4f",
   "metadata": {},
   "source": [
    "Tendria que:\n",
    "- Clientes: para cada mes, buscar cuales son todos los clientes anteriores y de este mes.\n",
    "- Productos: para cada tabla, armar <producto, fecha_inicio, fecha_fin>"
   ]
  },
  {
   "cell_type": "code",
   "execution_count": 79,
   "id": "74a6d2be",
   "metadata": {},
   "outputs": [],
   "source": [
    "import pandas as pd\n",
    "import numpy as np\n",
    "from itertools import product"
   ]
  },
  {
   "cell_type": "code",
   "execution_count": 93,
   "id": "48b5ec34",
   "metadata": {},
   "outputs": [
    {
     "data": {
      "text/html": [
       "<div>\n",
       "<style scoped>\n",
       "    .dataframe tbody tr th:only-of-type {\n",
       "        vertical-align: middle;\n",
       "    }\n",
       "\n",
       "    .dataframe tbody tr th {\n",
       "        vertical-align: top;\n",
       "    }\n",
       "\n",
       "    .dataframe thead th {\n",
       "        text-align: right;\n",
       "    }\n",
       "</style>\n",
       "<table border=\"1\" class=\"dataframe\">\n",
       "  <thead>\n",
       "    <tr style=\"text-align: right;\">\n",
       "      <th></th>\n",
       "      <th>product_id</th>\n",
       "      <th>min</th>\n",
       "      <th>max</th>\n",
       "    </tr>\n",
       "  </thead>\n",
       "  <tbody>\n",
       "    <tr>\n",
       "      <th>0</th>\n",
       "      <td>20001</td>\n",
       "      <td>2017-01-01</td>\n",
       "      <td>2019-12-01</td>\n",
       "    </tr>\n",
       "    <tr>\n",
       "      <th>1</th>\n",
       "      <td>20002</td>\n",
       "      <td>2017-01-01</td>\n",
       "      <td>2019-12-01</td>\n",
       "    </tr>\n",
       "    <tr>\n",
       "      <th>2</th>\n",
       "      <td>20003</td>\n",
       "      <td>2017-01-01</td>\n",
       "      <td>2019-12-01</td>\n",
       "    </tr>\n",
       "    <tr>\n",
       "      <th>3</th>\n",
       "      <td>20004</td>\n",
       "      <td>2017-01-01</td>\n",
       "      <td>2019-12-01</td>\n",
       "    </tr>\n",
       "    <tr>\n",
       "      <th>4</th>\n",
       "      <td>20005</td>\n",
       "      <td>2017-01-01</td>\n",
       "      <td>2019-12-01</td>\n",
       "    </tr>\n",
       "  </tbody>\n",
       "</table>\n",
       "</div>"
      ],
      "text/plain": [
       "   product_id        min        max\n",
       "0       20001 2017-01-01 2019-12-01\n",
       "1       20002 2017-01-01 2019-12-01\n",
       "2       20003 2017-01-01 2019-12-01\n",
       "3       20004 2017-01-01 2019-12-01\n",
       "4       20005 2017-01-01 2019-12-01"
      ]
     },
     "execution_count": 93,
     "metadata": {},
     "output_type": "execute_result"
    }
   ],
   "source": [
    "# Suponemos que ya tenés cargado tu DataFrame `df` con columnas: periodo (AAAAMM), customer_id, product_id, tn\n",
    "# Convertimos periodo a datetime\n",
    "df[\"periodo_dt\"] = pd.to_datetime(df[\"periodo\"].astype(str), format=\"%Y%m\")\n",
    "\n",
    "# Paso 2: Determinar periodo de vida útil de cada producto\n",
    "vida_producto = df.groupby(\"product_id\")[\"periodo_dt\"].agg([\"min\", \"max\"]).reset_index()\n",
    "\n",
    "vida_producto.head()"
   ]
  },
  {
   "cell_type": "code",
   "execution_count": 94,
   "id": "4ae87291",
   "metadata": {},
   "outputs": [
    {
     "data": {
      "text/html": [
       "<div>\n",
       "<style scoped>\n",
       "    .dataframe tbody tr th:only-of-type {\n",
       "        vertical-align: middle;\n",
       "    }\n",
       "\n",
       "    .dataframe tbody tr th {\n",
       "        vertical-align: top;\n",
       "    }\n",
       "\n",
       "    .dataframe thead th {\n",
       "        text-align: right;\n",
       "    }\n",
       "</style>\n",
       "<table border=\"1\" class=\"dataframe\">\n",
       "  <thead>\n",
       "    <tr style=\"text-align: right;\">\n",
       "      <th></th>\n",
       "      <th>periodo_dt</th>\n",
       "      <th>product_id</th>\n",
       "    </tr>\n",
       "  </thead>\n",
       "  <tbody>\n",
       "    <tr>\n",
       "      <th>31517</th>\n",
       "      <td>2017-01-01</td>\n",
       "      <td>21295</td>\n",
       "    </tr>\n",
       "    <tr>\n",
       "      <th>31518</th>\n",
       "      <td>2017-08-01</td>\n",
       "      <td>21296</td>\n",
       "    </tr>\n",
       "    <tr>\n",
       "      <th>31519</th>\n",
       "      <td>2017-01-01</td>\n",
       "      <td>21297</td>\n",
       "    </tr>\n",
       "    <tr>\n",
       "      <th>31520</th>\n",
       "      <td>2017-08-01</td>\n",
       "      <td>21298</td>\n",
       "    </tr>\n",
       "    <tr>\n",
       "      <th>31521</th>\n",
       "      <td>2017-08-01</td>\n",
       "      <td>21299</td>\n",
       "    </tr>\n",
       "  </tbody>\n",
       "</table>\n",
       "</div>"
      ],
      "text/plain": [
       "      periodo_dt  product_id\n",
       "31517 2017-01-01       21295\n",
       "31518 2017-08-01       21296\n",
       "31519 2017-01-01       21297\n",
       "31520 2017-08-01       21298\n",
       "31521 2017-08-01       21299"
      ]
     },
     "execution_count": 94,
     "metadata": {},
     "output_type": "execute_result"
    }
   ],
   "source": [
    "# Expandimos cada producto con todos los periodos de su vida útil\n",
    "periodos_producto = []\n",
    "for _, row in vida_producto.iterrows():\n",
    "    periodos = pd.date_range(start=row[\"min\"], end=row[\"max\"], freq=\"MS\")\n",
    "    for p in periodos:\n",
    "        periodos_producto.append((p, row[\"product_id\"]))\n",
    "df_producto_periodo = pd.DataFrame(periodos_producto, columns=[\"periodo_dt\", \"product_id\"])\n",
    "df_producto_periodo.tail()"
   ]
  },
  {
   "cell_type": "code",
   "execution_count": 96,
   "id": "83e61928",
   "metadata": {},
   "outputs": [],
   "source": [
    "# Paso 3: Clientes activos acumulados hasta cada mes\n",
    "clientes_por_periodo = df.groupby(\"periodo_dt\")[\"customer_id\"].unique().to_dict()\n",
    "clientes_acumulados = set()\n",
    "clientes_periodo_total = {}\n",
    "for p in sorted(clientes_por_periodo.keys()):\n",
    "    clientes_acumulados.update(clientes_por_periodo[p])\n",
    "    clientes_periodo_total[p] = list(clientes_acumulados)\n"
   ]
  },
  {
   "cell_type": "code",
   "execution_count": 92,
   "id": "523f384b",
   "metadata": {},
   "outputs": [
    {
     "data": {
      "text/plain": [
       "<pandas.core.groupby.generic.DataFrameGroupBy object at 0x000001E2DACBDA50>"
      ]
     },
     "execution_count": 92,
     "metadata": {},
     "output_type": "execute_result"
    }
   ],
   "source": [
    "df_producto_periodo = pd.DataFrame(periodos_producto, columns=[\"periodo_dt\", \"product_id\"])\n",
    "df_producto_periodo.groupby(\"periodo_dt\")"
   ]
  },
  {
   "cell_type": "code",
   "execution_count": null,
   "id": "2690e4a2",
   "metadata": {},
   "outputs": [],
   "source": [
    "# Paso 4: Generar combinaciones <periodo, producto, cliente>\n",
    "combinaciones = []\n",
    "for p, grupo in df_producto_periodo.groupby(\"periodo_dt\"):\n",
    "    clientes = clientes_periodo_total.get(p, [])\n",
    "    for product_id in grupo[\"product_id\"]:\n",
    "        for customer_id in clientes:\n",
    "            combinaciones.append((p, product_id, customer_id))\n",
    "df_completo = pd.DataFrame(combinaciones, columns=[\"periodo_dt\", \"product_id\", \"customer_id\"])"
   ]
  },
  {
   "cell_type": "markdown",
   "id": "073d0cf2",
   "metadata": {},
   "source": [
    "##### Original"
   ]
  },
  {
   "cell_type": "code",
   "execution_count": 8,
   "id": "2d09a717",
   "metadata": {},
   "outputs": [
    {
     "data": {
      "text/html": [
       "<div>\n",
       "<style scoped>\n",
       "    .dataframe tbody tr th:only-of-type {\n",
       "        vertical-align: middle;\n",
       "    }\n",
       "\n",
       "    .dataframe tbody tr th {\n",
       "        vertical-align: top;\n",
       "    }\n",
       "\n",
       "    .dataframe thead th {\n",
       "        text-align: right;\n",
       "    }\n",
       "</style>\n",
       "<table border=\"1\" class=\"dataframe\">\n",
       "  <thead>\n",
       "    <tr style=\"text-align: right;\">\n",
       "      <th></th>\n",
       "      <th>periodo</th>\n",
       "      <th>product_id</th>\n",
       "      <th>customer_id</th>\n",
       "      <th>tn</th>\n",
       "    </tr>\n",
       "  </thead>\n",
       "  <tbody>\n",
       "    <tr>\n",
       "      <th>0</th>\n",
       "      <td>201701</td>\n",
       "      <td>20001</td>\n",
       "      <td>10240</td>\n",
       "      <td>0.00000</td>\n",
       "    </tr>\n",
       "    <tr>\n",
       "      <th>1</th>\n",
       "      <td>201701</td>\n",
       "      <td>20001</td>\n",
       "      <td>10241</td>\n",
       "      <td>0.00000</td>\n",
       "    </tr>\n",
       "    <tr>\n",
       "      <th>2</th>\n",
       "      <td>201701</td>\n",
       "      <td>20001</td>\n",
       "      <td>10242</td>\n",
       "      <td>0.22386</td>\n",
       "    </tr>\n",
       "    <tr>\n",
       "      <th>3</th>\n",
       "      <td>201701</td>\n",
       "      <td>20001</td>\n",
       "      <td>10243</td>\n",
       "      <td>0.00000</td>\n",
       "    </tr>\n",
       "    <tr>\n",
       "      <th>4</th>\n",
       "      <td>201701</td>\n",
       "      <td>20001</td>\n",
       "      <td>10244</td>\n",
       "      <td>0.00000</td>\n",
       "    </tr>\n",
       "  </tbody>\n",
       "</table>\n",
       "</div>"
      ],
      "text/plain": [
       "   periodo  product_id  customer_id       tn\n",
       "0   201701       20001        10240  0.00000\n",
       "1   201701       20001        10241  0.00000\n",
       "2   201701       20001        10242  0.22386\n",
       "3   201701       20001        10243  0.00000\n",
       "4   201701       20001        10244  0.00000"
      ]
     },
     "execution_count": 8,
     "metadata": {},
     "output_type": "execute_result"
    }
   ],
   "source": [
    "############## ANTES QUE NADA SUMARIZAR POR PERIODO, CUSTOMER_ID Y PRODUCT_ID LAS TN #######################\n",
    "df_agrupado = df.groupby(['periodo', 'customer_id', 'product_id'])['tn'].sum().reset_index()\n",
    "\n",
    "\n",
    "\n",
    "\n",
    "# Suponemos que ya tenés cargado tu DataFrame `df` con columnas: periodo (AAAAMM), customer_id, product_id, tn\n",
    "# Convertimos periodo a datetime\n",
    "df[\"periodo_dt\"] = pd.to_datetime(df[\"periodo\"].astype(str), format=\"%Y%m\")\n",
    "\n",
    "# Paso 1: Rango de periodos disponibles\n",
    "# todos_los_periodos = pd.date_range(start=df[\"periodo_dt\"].min(), end=df[\"periodo_dt\"].max(), freq=\"MS\")\n",
    "\n",
    "# Paso 2: Determinar periodo de vida útil de cada producto\n",
    "vida_producto = df.groupby(\"product_id\")[\"periodo_dt\"].agg([\"min\", \"max\"]).reset_index()\n",
    "\n",
    "# Expandimos cada producto con todos los periodos de su vida útil\n",
    "periodos_producto = []\n",
    "for _, row in vida_producto.iterrows():\n",
    "    periodos = pd.date_range(start=row[\"min\"], end=row[\"max\"], freq=\"MS\")\n",
    "    for p in periodos:\n",
    "        periodos_producto.append((p, row[\"product_id\"]))\n",
    "df_producto_periodo = pd.DataFrame(periodos_producto, columns=[\"periodo_dt\", \"product_id\"])\n",
    "\n",
    "# Paso 3: Clientes activos acumulados hasta cada mes\n",
    "clientes_por_periodo = df.groupby(\"periodo_dt\")[\"customer_id\"].unique().to_dict()\n",
    "clientes_acumulados = set()\n",
    "clientes_periodo_total = {}\n",
    "for p in sorted(clientes_por_periodo.keys()):\n",
    "    clientes_acumulados.update(clientes_por_periodo[p])\n",
    "    clientes_periodo_total[p] = list(clientes_acumulados)\n",
    "\n",
    "# Paso 4: Generar combinaciones <periodo, producto, cliente>\n",
    "combinaciones = []\n",
    "for p, grupo in df_producto_periodo.groupby(\"periodo_dt\"):\n",
    "    clientes = clientes_periodo_total.get(p, [])\n",
    "    for product_id in grupo[\"product_id\"]:\n",
    "        for customer_id in clientes:\n",
    "            combinaciones.append((p, product_id, customer_id))\n",
    "df_completo = pd.DataFrame(combinaciones, columns=[\"periodo_dt\", \"product_id\", \"customer_id\"])\n",
    "\n",
    "# Paso 5: Unir con las toneladas efectivamente vendidas (tn)\n",
    "df_merge = df_completo.merge(df[[\"periodo_dt\", \"product_id\", \"customer_id\", \"tn\"]],\n",
    "                             on=[\"periodo_dt\", \"product_id\", \"customer_id\"],\n",
    "                             how=\"left\")\n",
    "df_merge[\"tn\"] = df_merge[\"tn\"].fillna(0)\n",
    "\n",
    "# Paso 6: Recuperar periodo AAAAMM si lo necesitás\n",
    "df_merge[\"periodo\"] = df_merge[\"periodo_dt\"].dt.strftime(\"%Y%m\").astype(int)\n",
    "\n",
    "# Resultado final\n",
    "df_final = df_merge[[\"periodo\", \"product_id\", \"customer_id\", \"tn\"]]\n",
    "\n",
    "# Ejemplo de vista previa\n",
    "df_final.head()\n"
   ]
  },
  {
   "cell_type": "markdown",
   "id": "e6b5136c",
   "metadata": {},
   "source": [
    "##### Intento 3 meses antes y despues"
   ]
  },
  {
   "cell_type": "code",
   "execution_count": 31,
   "id": "45391805",
   "metadata": {},
   "outputs": [
    {
     "name": "stdout",
     "output_type": "stream",
     "text": [
      "   periodo  product_id  customer_id       tn\n",
      "0   201701       20001        10240  0.00000\n",
      "1   201701       20001        10241  0.00000\n",
      "2   201701       20001        10242  0.22386\n",
      "3   201701       20001        10243  0.00000\n",
      "4   201701       20001        10244  0.00000\n"
     ]
    }
   ],
   "source": [
    "import pandas as pd\n",
    "\n",
    "# Sumamos por periodo, customer_id y product_id\n",
    "df_agrupado = df.groupby(['periodo', 'customer_id', 'product_id'])['tn'].sum().reset_index()\n",
    "\n",
    "# Convertimos periodo a datetime\n",
    "df[\"periodo_dt\"] = pd.to_datetime(df[\"periodo\"].astype(str), format=\"%Y%m\")\n",
    "\n",
    "# Paso 1: Determinar vida útil del producto (min y max)\n",
    "vida_producto = df.groupby(\"product_id\")[\"periodo_dt\"].agg([\"min\", \"max\"]).reset_index()\n",
    "\n",
    "# Paso 2: Marcar productos nuevos a partir del periodo 2017-02\n",
    "limite_nuevos = pd.to_datetime(\"2017-04\", format=\"%Y-%m\")\n",
    "vida_producto[\"es_nuevo_201702\"] = vida_producto[\"min\"] >= limite_nuevos\n",
    "\n",
    "# Paso 3: Expandir cada producto con todos los periodos de su vida útil\n",
    "periodos_producto = []\n",
    "for _, row in vida_producto.iterrows():\n",
    "    periodos = pd.date_range(start=row[\"min\"], end=row[\"max\"], freq=\"MS\")\n",
    "    for p in periodos:\n",
    "        # Condición 1: excluir primeros 3 meses de productos nuevos\n",
    "        if row[\"es_nuevo_201702\"] and (p < row[\"min\"] + pd.DateOffset(months=3)):\n",
    "            continue  # Skip este periodo para producto nuevo\n",
    "        # Condición 2: excluir últimos 3 meses de vida del producto\n",
    "        # if p > row[\"max\"] - pd.DateOffset(months=3):\n",
    "        #     continue  # Skip este periodo para productos que \"mueren\"\n",
    "        periodos_producto.append((p, row[\"product_id\"]))\n",
    "df_producto_periodo = pd.DataFrame(periodos_producto, columns=[\"periodo_dt\", \"product_id\"])\n",
    "\n",
    "# Paso 4: Clientes activos acumulados hasta cada mes\n",
    "clientes_por_periodo = df.groupby(\"periodo_dt\")[\"customer_id\"].unique().to_dict()\n",
    "clientes_acumulados = set()\n",
    "clientes_periodo_total = {}\n",
    "for p in sorted(clientes_por_periodo.keys()):\n",
    "    clientes_acumulados.update(clientes_por_periodo[p])\n",
    "    clientes_periodo_total[p] = list(clientes_acumulados)\n",
    "\n",
    "# Paso 5: Generar combinaciones <periodo, producto, cliente>\n",
    "combinaciones = []\n",
    "for p, grupo in df_producto_periodo.groupby(\"periodo_dt\"):\n",
    "    clientes = clientes_periodo_total.get(p, [])\n",
    "    for product_id in grupo[\"product_id\"]:\n",
    "        for customer_id in clientes:\n",
    "            combinaciones.append((p, product_id, customer_id))\n",
    "df_completo = pd.DataFrame(combinaciones, columns=[\"periodo_dt\", \"product_id\", \"customer_id\"])\n",
    "\n",
    "# Paso 6: Unir con toneladas vendidas (tn)\n",
    "df_merge = df_completo.merge(df[[\"periodo_dt\", \"product_id\", \"customer_id\", \"tn\"]],\n",
    "                             on=[\"periodo_dt\", \"product_id\", \"customer_id\"],\n",
    "                             how=\"left\")\n",
    "df_merge[\"tn\"] = df_merge[\"tn\"].fillna(0)\n",
    "\n",
    "# Paso 7: Recuperar periodo AAAAMM\n",
    "df_merge[\"periodo\"] = df_merge[\"periodo_dt\"].dt.strftime(\"%Y%m\").astype(int)\n",
    "\n",
    "# Resultado final\n",
    "df_final = df_merge[[\"periodo\", \"product_id\", \"customer_id\", \"tn\"]]\n",
    "\n",
    "# Ejemplo de vista previa\n",
    "print(df_final.head())\n"
   ]
  },
  {
   "cell_type": "markdown",
   "id": "76049b1e",
   "metadata": {},
   "source": [
    "##### segundo intento"
   ]
  },
  {
   "cell_type": "code",
   "execution_count": 37,
   "id": "bd089266",
   "metadata": {},
   "outputs": [
    {
     "name": "stdout",
     "output_type": "stream",
     "text": [
      "   periodo  product_id  customer_id       tn\n",
      "0   201701       20524        10234  0.05300\n",
      "1   201702       20524        10234  0.00000\n",
      "2   201703       20524        10234  0.01514\n",
      "3   201704       20524        10234  0.00000\n",
      "4   201705       20524        10234  0.00000\n"
     ]
    }
   ],
   "source": [
    "import pandas as pd\n",
    "\n",
    "# Sumamos por periodo, customer_id y product_id las toneladas (tn)\n",
    "df_agrupado = df.groupby(['periodo', 'customer_id', 'product_id'])['tn'].sum().reset_index()\n",
    "\n",
    "# Convertimos periodo a datetime\n",
    "df[\"periodo_dt\"] = pd.to_datetime(df[\"periodo\"].astype(str), format=\"%Y%m\")\n",
    "\n",
    "# Paso 1: Determinar vida útil del producto (min y max)\n",
    "vida_producto = df.groupby(\"product_id\")[\"periodo_dt\"].agg([\"min\", \"max\"]).reset_index()\n",
    "\n",
    "# Paso 2: Obtener todos los periodos de la historia\n",
    "todos_los_periodos = pd.date_range(start=df[\"periodo_dt\"].min(), end=df[\"periodo_dt\"].max(), freq=\"MS\")\n",
    "\n",
    "# Paso 3: Obtener pares (customer_id, product_id) que hayan comprado alguna vez\n",
    "pares_con_compra = df[df[\"tn\"] > 0][[\"customer_id\", \"product_id\"]].drop_duplicates()\n",
    "\n",
    "# Paso 4: Generar combinaciones periodo, product_id, customer_id solo si hubo compra alguna vez\n",
    "combinaciones = []\n",
    "for _, row in pares_con_compra.iterrows():\n",
    "    customer_id, product_id = row[\"customer_id\"], row[\"product_id\"]\n",
    "    # Obtenemos periodo de vida útil del producto\n",
    "    vida = vida_producto[vida_producto[\"product_id\"] == product_id].iloc[0]\n",
    "    periodos = pd.date_range(start=vida[\"min\"], end=vida[\"max\"], freq=\"MS\")\n",
    "    for p in periodos:\n",
    "        combinaciones.append((p, product_id, customer_id))\n",
    "\n",
    "df_completo = pd.DataFrame(combinaciones, columns=[\"periodo_dt\", \"product_id\", \"customer_id\"])\n",
    "\n",
    "# Paso 5: Unir con toneladas efectivas (tn)\n",
    "df_merge = df_completo.merge(df[[\"periodo_dt\", \"product_id\", \"customer_id\", \"tn\"]],\n",
    "                             on=[\"periodo_dt\", \"product_id\", \"customer_id\"],\n",
    "                             how=\"left\")\n",
    "df_merge[\"tn\"] = df_merge[\"tn\"].fillna(0)\n",
    "\n",
    "# Paso 6: Recuperar periodo AAAAMM si lo necesitás\n",
    "df_merge[\"periodo\"] = df_merge[\"periodo_dt\"].dt.strftime(\"%Y%m\").astype(int)\n",
    "\n",
    "# Resultado final\n",
    "df_final = df_merge[[\"periodo\", \"product_id\", \"customer_id\", \"tn\"]]\n",
    "\n",
    "# Ejemplo de vista previa\n",
    "print(df_final.head())\n"
   ]
  },
  {
   "cell_type": "markdown",
   "id": "1f4a33e5",
   "metadata": {},
   "source": [
    "##### tercer intento"
   ]
  },
  {
   "cell_type": "code",
   "execution_count": 60,
   "id": "26c6cc8f",
   "metadata": {},
   "outputs": [
    {
     "name": "stdout",
     "output_type": "stream",
     "text": [
      "   periodo  product_id  customer_id        tn\n",
      "0   201701       20001        10234   0.33579\n",
      "1   201701       20001        10032  12.31230\n",
      "2   201701       20001        10217   0.00000\n",
      "3   201701       20001        10125   0.08954\n",
      "4   201701       20001        10012   6.97324\n"
     ]
    }
   ],
   "source": [
    "import pandas as pd\n",
    "\n",
    "# Supongamos que df ya contiene las columnas: periodo, customer_id, product_id, tn\n",
    "df[\"periodo_dt\"] = pd.to_datetime(df[\"periodo\"].astype(str), format=\"%Y%m\")\n",
    "\n",
    "# Paso 1: Rango total de periodos\n",
    "todos_los_periodos = pd.date_range(start=df[\"periodo_dt\"].min(), end=df[\"periodo_dt\"].max(), freq=\"MS\")\n",
    "\n",
    "# Paso 2: Todos los clientes únicos\n",
    "todos_los_clientes = df[\"customer_id\"].unique()\n",
    "\n",
    "# Paso 3: Determinar vida útil de cada producto\n",
    "vida_producto = df.groupby(\"product_id\")[\"periodo_dt\"].agg([\"min\", \"max\"]).reset_index()\n",
    "\n",
    "# Paso 4: Generar combinaciones (periodo, producto) considerando restricciones\n",
    "combinaciones_producto_periodo = []\n",
    "fecha_limite_nuevos = pd.to_datetime(\"2020-04\", format=\"%Y-%m\")\n",
    "\n",
    "for _, row in vida_producto.iterrows():\n",
    "    producto = row[\"product_id\"]\n",
    "    min_fecha = row[\"min\"]\n",
    "    max_fecha = row[\"max\"]\n",
    "    periodos_validos = pd.date_range(start=min_fecha, end=max_fecha, freq=\"MS\")\n",
    "    es_nuevo = min_fecha >= fecha_limite_nuevos  # solo si el producto es nuevo a partir de 2017-02\n",
    "    \n",
    "    for p in periodos_validos:\n",
    "        # Excluir primeros 3 meses si es nuevo (a partir de 2017-02)\n",
    "        if es_nuevo and (p < min_fecha + pd.DateOffset(months=3)):\n",
    "            continue\n",
    "        # Excluir últimos 3 meses del producto\n",
    "        # if p > max_fecha - pd.DateOffset(months=4):\n",
    "        #     continue\n",
    "        combinaciones_producto_periodo.append((p, producto))\n",
    "\n",
    "df_producto_periodo = pd.DataFrame(combinaciones_producto_periodo, columns=[\"periodo_dt\", \"product_id\"])\n",
    "\n",
    "# Paso 5: Generar combinaciones de todos los clientes con (periodo, producto)\n",
    "combinaciones = []\n",
    "for _, row in df_producto_periodo.iterrows():\n",
    "    periodo = row[\"periodo_dt\"]\n",
    "    producto = row[\"product_id\"]\n",
    "    for cliente in todos_los_clientes:\n",
    "        combinaciones.append((periodo, producto, cliente))\n",
    "\n",
    "df_completo = pd.DataFrame(combinaciones, columns=[\"periodo_dt\", \"product_id\", \"customer_id\"])\n",
    "\n",
    "# Paso 6: Unir con toneladas efectivas\n",
    "df_merge = df_completo.merge(df[[\"periodo_dt\", \"product_id\", \"customer_id\", \"tn\"]],\n",
    "                             on=[\"periodo_dt\", \"product_id\", \"customer_id\"],\n",
    "                             how=\"left\")\n",
    "df_merge[\"tn\"] = df_merge[\"tn\"].fillna(0)\n",
    "\n",
    "# Paso 7: Recuperar periodo AAAAMM si lo necesitás\n",
    "df_merge[\"periodo\"] = df_merge[\"periodo_dt\"].dt.strftime(\"%Y%m\").astype(int)\n",
    "\n",
    "# Resultado final\n",
    "df_final = df_merge[[\"periodo\", \"product_id\", \"customer_id\", \"tn\"]]\n",
    "\n",
    "# Vista previa\n",
    "print(df_final.head())\n"
   ]
  },
  {
   "cell_type": "code",
   "execution_count": 61,
   "id": "f24844d3",
   "metadata": {},
   "outputs": [
    {
     "data": {
      "text/plain": [
       "(18818634, 4)"
      ]
     },
     "execution_count": 61,
     "metadata": {},
     "output_type": "execute_result"
    }
   ],
   "source": [
    "df_final.shape"
   ]
  },
  {
   "cell_type": "markdown",
   "id": "9b11e86d",
   "metadata": {},
   "source": [
    "##### tercer intento"
   ]
  },
  {
   "cell_type": "code",
   "execution_count": 34,
   "id": "659ca7c4",
   "metadata": {},
   "outputs": [
    {
     "name": "stdout",
     "output_type": "stream",
     "text": [
      "   periodo  customer_id  product_id         tn\n",
      "0   201701        10001       20001   99.43861\n",
      "1   201702        10001       20001  198.84365\n",
      "2   201703        10001       20001   92.46537\n",
      "3   201704        10001       20001   13.29728\n",
      "4   201705        10001       20001  101.00563\n"
     ]
    }
   ],
   "source": [
    "import pandas as pd\n",
    "\n",
    "# Sumamos toneladas por periodo, cliente, producto\n",
    "df_agrupado = df.groupby(['periodo', 'customer_id', 'product_id'])['tn'].sum().reset_index()\n",
    "\n",
    "# Convertimos periodo a datetime\n",
    "df_agrupado['periodo_dt'] = pd.to_datetime(df_agrupado['periodo'].astype(str), format='%Y%m')\n",
    "\n",
    "# Paso 1: Lista de periodos disponibles\n",
    "todos_los_periodos = pd.date_range(start=df_agrupado['periodo_dt'].min(), end=df_agrupado['periodo_dt'].max(), freq='MS')\n",
    "\n",
    "# Paso 2: Obtener pares únicos cliente-producto que alguna vez compraron\n",
    "pares_cliente_producto = df_agrupado[df_agrupado['tn'] > 0][['customer_id', 'product_id']].drop_duplicates()\n",
    "\n",
    "# Paso 3: Crear combinaciones <periodo, customer_id, product_id>\n",
    "combinaciones = []\n",
    "for _, row in pares_cliente_producto.iterrows():\n",
    "    customer_id = row['customer_id']\n",
    "    product_id = row['product_id']\n",
    "    for periodo_dt in todos_los_periodos:\n",
    "        combinaciones.append((periodo_dt, customer_id, product_id))\n",
    "\n",
    "df_completo = pd.DataFrame(combinaciones, columns=['periodo_dt', 'customer_id', 'product_id'])\n",
    "\n",
    "# Paso 4: Unir con las toneladas originales\n",
    "df_merge = df_completo.merge(df_agrupado[['periodo_dt', 'customer_id', 'product_id', 'tn']],\n",
    "                             on=['periodo_dt', 'customer_id', 'product_id'],\n",
    "                             how='left')\n",
    "\n",
    "# Rellenar tn con 0 si no había compras ese mes\n",
    "df_merge['tn'] = df_merge['tn'].fillna(0)\n",
    "\n",
    "# Paso 5: Recuperar periodo en formato AAAAMM\n",
    "df_merge['periodo'] = df_merge['periodo_dt'].dt.strftime('%Y%m').astype(int)\n",
    "\n",
    "# Resultado final\n",
    "df_final = df_merge[['periodo', 'customer_id', 'product_id', 'tn']]\n",
    "\n",
    "# Vista previa\n",
    "print(df_final.head())\n"
   ]
  },
  {
   "cell_type": "code",
   "execution_count": 36,
   "id": "6292fc15",
   "metadata": {},
   "outputs": [
    {
     "data": {
      "text/plain": [
       "(13479804, 4)"
      ]
     },
     "execution_count": 36,
     "metadata": {},
     "output_type": "execute_result"
    }
   ],
   "source": [
    "df_final.shape"
   ]
  },
  {
   "cell_type": "code",
   "execution_count": 122,
   "id": "9d217d55",
   "metadata": {},
   "outputs": [
    {
     "data": {
      "text/plain": [
       "Index(['periodo', 'customer_id', 'product_id', 'plan_precios_cuidados',\n",
       "       'cust_request_qty', 'cust_request_tn', 'tn', 'cat1', 'cat2', 'cat3',\n",
       "       'brand', 'sku_size', 'stock_final', 'periodo_dt', 'año', 'stock_ratio',\n",
       "       'stock_growth', 'stock_level'],\n",
       "      dtype='object')"
      ]
     },
     "execution_count": 122,
     "metadata": {},
     "output_type": "execute_result"
    }
   ],
   "source": [
    "df.columns"
   ]
  },
  {
   "cell_type": "code",
   "execution_count": 118,
   "id": "3db9d556",
   "metadata": {},
   "outputs": [
    {
     "data": {
      "text/plain": [
       "(17173448, 8)"
      ]
     },
     "execution_count": 118,
     "metadata": {},
     "output_type": "execute_result"
    }
   ],
   "source": [
    "df_final = df_final.merge(df[[\"periodo\", \"product_id\", \"customer_id\", \"tn\", \"plan_precios_cuidados\", \"cust_request_qty\", \"cust_request_tn\"]],\n",
    "                             on=[\"periodo\", \"product_id\", \"customer_id\"],\n",
    "                             how=\"left\")\n",
    "df_final.shape"
   ]
  },
  {
   "cell_type": "code",
   "execution_count": 124,
   "id": "e37b99b0",
   "metadata": {},
   "outputs": [
    {
     "data": {
      "text/plain": [
       "(17173448, 13)"
      ]
     },
     "execution_count": 124,
     "metadata": {},
     "output_type": "execute_result"
    }
   ],
   "source": [
    "df_final = df_final.merge(productos_clean[[\"product_id\", \"cat1\", \"cat2\", \"cat3\", \"brand\", \"sku_size\"]],\n",
    "                             on=[\"product_id\"],\n",
    "                             how=\"left\")\n",
    "df_final.shape"
   ]
  },
  {
   "cell_type": "code",
   "execution_count": 125,
   "id": "9bef020d",
   "metadata": {},
   "outputs": [
    {
     "data": {
      "text/plain": [
       "Index(['periodo', 'product_id', 'stock_final'], dtype='object')"
      ]
     },
     "execution_count": 125,
     "metadata": {},
     "output_type": "execute_result"
    }
   ],
   "source": [
    "stocks.columns"
   ]
  },
  {
   "cell_type": "code",
   "execution_count": 127,
   "id": "66e25247",
   "metadata": {},
   "outputs": [
    {
     "data": {
      "text/plain": [
       "(17173448, 14)"
      ]
     },
     "execution_count": 127,
     "metadata": {},
     "output_type": "execute_result"
    }
   ],
   "source": [
    "df_final = df_final.merge(stocks[[\"product_id\", \"periodo\", \"stock_final\"]],\n",
    "                             on=[\"periodo\", \"product_id\"],\n",
    "                             how=\"left\")\n",
    "df_final.shape"
   ]
  },
  {
   "cell_type": "code",
   "execution_count": 128,
   "id": "6d8a524b",
   "metadata": {},
   "outputs": [],
   "source": [
    "df_final.to_csv('./datasets/df_final.csv', sep=',', index=False)"
   ]
  },
  {
   "cell_type": "code",
   "execution_count": 144,
   "id": "07bb1af8",
   "metadata": {},
   "outputs": [
    {
     "data": {
      "text/plain": [
       "433"
      ]
     },
     "execution_count": 144,
     "metadata": {},
     "output_type": "execute_result"
    }
   ],
   "source": [
    "df_final[df_final['periodo'] == 201701]['customer_id'].nunique()"
   ]
  },
  {
   "cell_type": "code",
   "execution_count": 143,
   "id": "7ab0dd03",
   "metadata": {},
   "outputs": [
    {
     "data": {
      "text/plain": [
       "433"
      ]
     },
     "execution_count": 143,
     "metadata": {},
     "output_type": "execute_result"
    }
   ],
   "source": [
    "mask = df['periodo'] == 201701\n",
    "df[mask]['customer_id'].nunique()"
   ]
  },
  {
   "cell_type": "markdown",
   "id": "b0a5ed72",
   "metadata": {},
   "source": [
    "# Periodo de productos: min max"
   ]
  },
  {
   "cell_type": "code",
   "execution_count": 146,
   "id": "98e2cd00",
   "metadata": {},
   "outputs": [
    {
     "data": {
      "image/png": "[encoded data removed]",
      "text/plain": [
       "<Figure size 1400x700 with 1 Axes>"
      ]
     },
     "metadata": {},
     "output_type": "display_data"
    }
   ],
   "source": [
    "import matplotlib.pyplot as plt\n",
    "import seaborn as sns\n",
    "import numpy as np\n",
    "# Suponemos que ya tenés cargado tu DataFrame df con columnas: periodo (AAAAMM), customer_id, product_id, tn\n",
    "# Convertimos periodo a datetime\n",
    "df[\"periodo_dt\"] = pd.to_datetime(df[\"periodo\"].astype(str), format=\"%Y%m\")\n",
    "\n",
    "# Paso 2: Determinar periodo de vida útil de cada producto\n",
    "vida_producto = df.groupby(\"product_id\")[\"periodo_dt\"].agg([\"min\", \"max\"]).reset_index()\n",
    "\n",
    "\n",
    "# Función para calcular meses exactos\n",
    "def meses_entre_fechas(f1, f2):\n",
    "    return (f2.year - f1.year) * 12 + (f2.month - f1.month)\n",
    "\n",
    "# Calcular duración en meses exactos\n",
    "vida_producto['duracion_meses'] = vida_producto.apply(\n",
    "    lambda x: meses_entre_fechas(x['min'], x['max']), \n",
    "    axis=1\n",
    ")\n",
    "\n",
    "\n",
    "# Calcular duración máxima en meses (asegurando cubrir todo el rango)\n",
    "max_meses = vida_producto['duracion_meses'].max()\n",
    "bins = int(max_meses) + 1  # +1 para incluir el último mes\n",
    "\n",
    "# Crear el gráfico con bins exactos por mes\n",
    "plt.figure(figsize=(14, 7))\n",
    "ax = sns.histplot(\n",
    "    data=vida_producto,\n",
    "    x='duracion_meses',\n",
    "    bins=bins,  # ¡Ajuste clave aquí!\n",
    "    discrete=True,  # Para que cada barra sea un mes entero\n",
    "    color='#4e79a7',\n",
    "    edgecolor='white',\n",
    "    alpha=0.8\n",
    ")\n",
    "\n",
    "# Añadir etiquetas a las barras\n",
    "for p in ax.patches:\n",
    "    height = p.get_height()\n",
    "    if height > 0:\n",
    "        ax.annotate(\n",
    "            f'{int(height)}',\n",
    "            (p.get_x() + p.get_width() / 2., height),\n",
    "            ha='center', va='center',\n",
    "            xytext=(0, 5),\n",
    "            textcoords='offset points',\n",
    "            fontsize=9\n",
    "        )\n",
    "\n",
    "# Personalización avanzada\n",
    "plt.title('Distribución Exacta de Vida Útil por Mes', pad=20, fontsize=14)\n",
    "plt.xlabel('Duración en Meses', fontsize=12)\n",
    "plt.ylabel('Cantidad de Productos', fontsize=12)\n",
    "plt.xticks(np.arange(0, max_meses + 1, step=3))  # Muestra cada 3 meses\n",
    "plt.grid(axis='y', linestyle='--', alpha=0.3)\n",
    "\n",
    "# Ajustar ejes\n",
    "ax.set_xlim(-0.5, max_meses + 0.5)  # Margen para visualización\n",
    "\n",
    "plt.tight_layout()\n",
    "plt.show()"
   ]
  },
  {
   "cell_type": "code",
   "execution_count": 155,
   "id": "1ea1720b",
   "metadata": {},
   "outputs": [
    {
     "data": {
      "text/plain": [
       "(959, 4)"
      ]
     },
     "execution_count": 155,
     "metadata": {},
     "output_type": "execute_result"
    }
   ],
   "source": [
    "vida_producto[vida_producto['max']>='2019-10-01'].shape"
   ]
  },
  {
   "cell_type": "markdown",
   "id": "070417ea",
   "metadata": {},
   "source": [
    "# ¿Cuales son los 750 productos a predecir?"
   ]
  },
  {
   "cell_type": "code",
   "execution_count": null,
   "id": "dab1bb61",
   "metadata": {},
   "outputs": [],
   "source": [
    "# Suponiendo que tienes una columna de fecha (ej: 'periodo_dt')\n",
    "fecha_maxima = df['periodo_dt'].max()\n",
    "fecha_corte = fecha_maxima - pd.DateOffset(months=3)  # Resta exactamente 3 meses\n",
    "# Agrupar por producto y encontrar su primera fecha de venta\n",
    "primeras_ventas = df.groupby('product_id')['periodo_dt'].min().reset_index()\n",
    "primeras_ventas.rename(columns={'periodo_dt': 'primera_fecha_venta'}, inplace=True)\n",
    "\n",
    "# Filtrar productos cuya primera venta es >= fecha_corte\n",
    "productos_nuevos = primeras_ventas[primeras_ventas['primera_fecha_venta'] >= fecha_corte]\n",
    "df_productos_nuevos = df[df['product_id'].isin(productos_nuevos['product_id'])]\n",
    "\n",
    "print(f\"📅 Fecha de corte (hace 3 meses): {fecha_corte}\")\n",
    "print(f\"🔍 Productos nuevos encontrados: {len(productos_nuevos)}\")\n",
    "print(\"📝 Ejemplo de productos nuevos:\")\n",
    "print(productos_nuevos.head())"
   ]
  },
  {
   "cell_type": "code",
   "execution_count": 68,
   "id": "7c405b22",
   "metadata": {},
   "outputs": [
    {
     "data": {
      "text/plain": [
       "product_id    927\n",
       "dtype: int64"
      ]
     },
     "execution_count": 68,
     "metadata": {},
     "output_type": "execute_result"
    }
   ],
   "source": [
    "mask = (df['tn']>0) & (df['periodo'] == 201912)\n",
    "df[mask][['product_id']].nunique()"
   ]
  },
  {
   "cell_type": "code",
   "execution_count": null,
   "id": "8d2be9c9",
   "metadata": {},
   "outputs": [],
   "source": []
  },
  {
   "cell_type": "markdown",
   "id": "a8be58ec",
   "metadata": {},
   "source": [
    "# Clientes chicos"
   ]
  },
  {
   "cell_type": "code",
   "execution_count": 73,
   "id": "dc76288f",
   "metadata": {},
   "outputs": [
    {
     "data": {
      "text/html": [
       "<div>\n",
       "<style scoped>\n",
       "    .dataframe tbody tr th:only-of-type {\n",
       "        vertical-align: middle;\n",
       "    }\n",
       "\n",
       "    .dataframe tbody tr th {\n",
       "        vertical-align: top;\n",
       "    }\n",
       "\n",
       "    .dataframe thead th {\n",
       "        text-align: right;\n",
       "    }\n",
       "</style>\n",
       "<table border=\"1\" class=\"dataframe\">\n",
       "  <thead>\n",
       "    <tr style=\"text-align: right;\">\n",
       "      <th></th>\n",
       "      <th>customer_id</th>\n",
       "      <th>tn</th>\n",
       "    </tr>\n",
       "  </thead>\n",
       "  <tbody>\n",
       "    <tr>\n",
       "      <th>596</th>\n",
       "      <td>10637</td>\n",
       "      <td>0.00288</td>\n",
       "    </tr>\n",
       "  </tbody>\n",
       "</table>\n",
       "</div>"
      ],
      "text/plain": [
       "     customer_id       tn\n",
       "596        10637  0.00288"
      ]
     },
     "execution_count": 73,
     "metadata": {},
     "output_type": "execute_result"
    }
   ],
   "source": [
    "dfc = df.groupby(['customer_id'])['tn'].sum().reset_index().sort_values(by='tn', ascending=False)\n",
    "dfc.tail(1)\n"
   ]
  },
  {
   "cell_type": "code",
   "execution_count": 72,
   "id": "134e78be",
   "metadata": {},
   "outputs": [
    {
     "data": {
      "text/html": [
       "<div>\n",
       "<style scoped>\n",
       "    .dataframe tbody tr th:only-of-type {\n",
       "        vertical-align: middle;\n",
       "    }\n",
       "\n",
       "    .dataframe tbody tr th {\n",
       "        vertical-align: top;\n",
       "    }\n",
       "\n",
       "    .dataframe thead th {\n",
       "        text-align: right;\n",
       "    }\n",
       "</style>\n",
       "<table border=\"1\" class=\"dataframe\">\n",
       "  <thead>\n",
       "    <tr style=\"text-align: right;\">\n",
       "      <th></th>\n",
       "      <th>periodo</th>\n",
       "      <th>customer_id</th>\n",
       "      <th>tn</th>\n",
       "    </tr>\n",
       "  </thead>\n",
       "  <tbody>\n",
       "    <tr>\n",
       "      <th>0</th>\n",
       "      <td>201701</td>\n",
       "      <td>10611</td>\n",
       "      <td>0.72393</td>\n",
       "    </tr>\n",
       "    <tr>\n",
       "      <th>1</th>\n",
       "      <td>201705</td>\n",
       "      <td>10611</td>\n",
       "      <td>0.66474</td>\n",
       "    </tr>\n",
       "    <tr>\n",
       "      <th>2</th>\n",
       "      <td>201706</td>\n",
       "      <td>10611</td>\n",
       "      <td>0.54832</td>\n",
       "    </tr>\n",
       "    <tr>\n",
       "      <th>4</th>\n",
       "      <td>201710</td>\n",
       "      <td>10611</td>\n",
       "      <td>0.19047</td>\n",
       "    </tr>\n",
       "    <tr>\n",
       "      <th>5</th>\n",
       "      <td>201711</td>\n",
       "      <td>10611</td>\n",
       "      <td>0.07688</td>\n",
       "    </tr>\n",
       "    <tr>\n",
       "      <th>3</th>\n",
       "      <td>201707</td>\n",
       "      <td>10611</td>\n",
       "      <td>0.04586</td>\n",
       "    </tr>\n",
       "  </tbody>\n",
       "</table>\n",
       "</div>"
      ],
      "text/plain": [
       "   periodo  customer_id       tn\n",
       "0   201701        10611  0.72393\n",
       "1   201705        10611  0.66474\n",
       "2   201706        10611  0.54832\n",
       "4   201710        10611  0.19047\n",
       "5   201711        10611  0.07688\n",
       "3   201707        10611  0.04586"
      ]
     },
     "execution_count": 72,
     "metadata": {},
     "output_type": "execute_result"
    }
   ],
   "source": [
    "compras = df[df['customer_id']==10611].groupby(['periodo','customer_id'])['tn'].sum().reset_index().sort_values(by='tn', ascending=False)\n",
    "compras"
   ]
  },
  {
   "cell_type": "markdown",
   "id": "b0d79da4",
   "metadata": {},
   "source": [
    "# Excel"
   ]
  },
  {
   "cell_type": "code",
   "execution_count": 35,
   "id": "2d8acad4",
   "metadata": {},
   "outputs": [],
   "source": [
    "import pandas as pd\n",
    "\n",
    "# Seleccionar columnas deseadas\n",
    "columnas = ['cat1', 'cat2', 'cat3', 'brand', 'sku_size', 'product_id']\n",
    "df_export = productos[columnas].drop_duplicates().sort_values(by=columnas)\n",
    "\n",
    "# Reemplazar valores repetidos por cadena vacía (\"\"), para simular jerarquía\n",
    "df_export[['cat1', 'cat2', 'cat3']] = df_export[['cat1', 'cat2', 'cat3']].mask(\n",
    "    df_export[['cat1', 'cat2', 'cat3']].eq(df_export[['cat1', 'cat2', 'cat3']].shift())\n",
    ")\n",
    "\n",
    "# Exportar a Excel\n",
    "df_export.to_excel(\"productos_jerarquico.xlsx\", index=False)\n"
   ]
  },
  {
   "cell_type": "code",
   "execution_count": 45,
   "id": "052195a6",
   "metadata": {},
   "outputs": [],
   "source": [
    "\n",
    "# Seleccionar columnas deseadas y eliminar duplicados\n",
    "df_simple = df[['cat1', 'cat2', 'cat3', 'brand', 'sku_size', 'product_id']].drop_duplicates()\n",
    "\n",
    "# Exportar a Excel\n",
    "df_simple.to_excel(\"catalogo_productos_simple.xlsx\", index=False)\n"
   ]
  }
 ],
 "metadata": {
  "kernelspec": {
   "display_name": "base",
   "language": "python",
   "name": "python3"
  },
  "language_info": {
   "codemirror_mode": {
    "name": "ipython",
    "version": 3
   },
   "file_extension": ".py",
   "mimetype": "text/x-python",
   "name": "python",
   "nbconvert_exporter": "python",
   "pygments_lexer": "ipython3",
   "version": "3.12.4"
  }
 },
 "nbformat": 4,
 "nbformat_minor": 5
}
