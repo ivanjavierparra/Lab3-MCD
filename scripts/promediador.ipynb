{
 "cells": [
  {
   "cell_type": "code",
   "execution_count": 2,
   "id": "f0990a13",
   "metadata": {},
   "outputs": [],
   "source": [
    "import pandas as pd"
   ]
  },
  {
   "cell_type": "code",
   "execution_count": 2,
   "id": "a7df60fc",
   "metadata": {},
   "outputs": [
    {
     "data": {
      "application/vnd.microsoft.datawrangler.viewer.v0+json": {
       "columns": [
        {
         "name": "index",
         "rawType": "int64",
         "type": "integer"
        },
        {
         "name": "product_id",
         "rawType": "int64",
         "type": "integer"
        },
        {
         "name": "tn",
         "rawType": "float64",
         "type": "float"
        }
       ],
       "ref": "f184d539-880e-4923-9678-b94b3a6c9d5a",
       "rows": [
        [
         "0",
         "20001",
         "1302.8211472739797"
        ],
        [
         "1",
         "20002",
         "1087.357424486418"
        ],
        [
         "2",
         "20003",
         "682.9755659290678"
        ],
        [
         "3",
         "20004",
         "522.4121225146363"
        ],
        [
         "4",
         "20005",
         "529.1320872142329"
        ],
        [
         "5",
         "20006",
         "472.1338530325566"
        ],
        [
         "6",
         "20007",
         "418.84807230217945"
        ],
        [
         "7",
         "20008",
         "411.1983320356978"
        ],
        [
         "8",
         "20009",
         "489.6907459024525"
        ],
        [
         "9",
         "20010",
         "404.1834344700993"
        ],
        [
         "10",
         "20011",
         "419.3465331248428"
        ],
        [
         "11",
         "20012",
         "335.5790018213652"
        ],
        [
         "12",
         "20013",
         "386.58264364613495"
        ],
        [
         "13",
         "20014",
         "386.6487918197847"
        ],
        [
         "14",
         "20015",
         "361.5908314783517"
        ],
        [
         "15",
         "20016",
         "294.34084243254244"
        ],
        [
         "16",
         "20017",
         "283.2991679532349"
        ],
        [
         "17",
         "20018",
         "265.9471370732724"
        ],
        [
         "18",
         "20019",
         "311.6287074422155"
        ],
        [
         "19",
         "20020",
         "297.83725756373025"
        ],
        [
         "20",
         "20021",
         "242.88885821690167"
        ],
        [
         "21",
         "20022",
         "277.3579935922721"
        ],
        [
         "22",
         "20023",
         "217.03533346971312"
        ],
        [
         "23",
         "20024",
         "223.97341029508505"
        ],
        [
         "24",
         "20025",
         "223.78401897758252"
        ],
        [
         "25",
         "20026",
         "233.63667591664924"
        ],
        [
         "26",
         "20027",
         "227.78227943279276"
        ],
        [
         "27",
         "20028",
         "207.06162164521024"
        ],
        [
         "28",
         "20029",
         "188.14066281166268"
        ],
        [
         "29",
         "20030",
         "155.68950212688804"
        ],
        [
         "30",
         "20031",
         "190.7148333243057"
        ],
        [
         "31",
         "20033",
         "128.63064304153914"
        ],
        [
         "32",
         "20035",
         "172.30759550617836"
        ],
        [
         "33",
         "20037",
         "171.61147903517727"
        ],
        [
         "34",
         "20038",
         "174.94884662498666"
        ],
        [
         "35",
         "20039",
         "148.3217947644831"
        ],
        [
         "36",
         "20041",
         "132.95822966778627"
        ],
        [
         "37",
         "20042",
         "159.5263008512129"
        ],
        [
         "38",
         "20043",
         "130.6806324414345"
        ],
        [
         "39",
         "20044",
         "157.71448499006164"
        ],
        [
         "40",
         "20045",
         "148.17749627071868"
        ],
        [
         "41",
         "20046",
         "149.3438802485567"
        ],
        [
         "42",
         "20047",
         "163.48151618829536"
        ],
        [
         "43",
         "20050",
         "131.5020636473452"
        ],
        [
         "44",
         "20051",
         "138.096210996225"
        ],
        [
         "45",
         "20052",
         "118.2562567419526"
        ],
        [
         "46",
         "20053",
         "150.33051591639605"
        ],
        [
         "47",
         "20054",
         "136.49547424522763"
        ],
        [
         "48",
         "20055",
         "106.84153258328092"
        ],
        [
         "49",
         "20056",
         "106.62572695590052"
        ]
       ],
       "shape": {
        "columns": 2,
        "rows": 780
       }
      },
      "text/html": [
       "<div>\n",
       "<style scoped>\n",
       "    .dataframe tbody tr th:only-of-type {\n",
       "        vertical-align: middle;\n",
       "    }\n",
       "\n",
       "    .dataframe tbody tr th {\n",
       "        vertical-align: top;\n",
       "    }\n",
       "\n",
       "    .dataframe thead th {\n",
       "        text-align: right;\n",
       "    }\n",
       "</style>\n",
       "<table border=\"1\" class=\"dataframe\">\n",
       "  <thead>\n",
       "    <tr style=\"text-align: right;\">\n",
       "      <th></th>\n",
       "      <th>product_id</th>\n",
       "      <th>tn</th>\n",
       "    </tr>\n",
       "  </thead>\n",
       "  <tbody>\n",
       "    <tr>\n",
       "      <th>0</th>\n",
       "      <td>20001</td>\n",
       "      <td>1302.821147</td>\n",
       "    </tr>\n",
       "    <tr>\n",
       "      <th>1</th>\n",
       "      <td>20002</td>\n",
       "      <td>1087.357424</td>\n",
       "    </tr>\n",
       "    <tr>\n",
       "      <th>2</th>\n",
       "      <td>20003</td>\n",
       "      <td>682.975566</td>\n",
       "    </tr>\n",
       "    <tr>\n",
       "      <th>3</th>\n",
       "      <td>20004</td>\n",
       "      <td>522.412123</td>\n",
       "    </tr>\n",
       "    <tr>\n",
       "      <th>4</th>\n",
       "      <td>20005</td>\n",
       "      <td>529.132087</td>\n",
       "    </tr>\n",
       "    <tr>\n",
       "      <th>...</th>\n",
       "      <td>...</td>\n",
       "      <td>...</td>\n",
       "    </tr>\n",
       "    <tr>\n",
       "      <th>775</th>\n",
       "      <td>20962</td>\n",
       "      <td>2.844398</td>\n",
       "    </tr>\n",
       "    <tr>\n",
       "      <th>776</th>\n",
       "      <td>20975</td>\n",
       "      <td>2.550540</td>\n",
       "    </tr>\n",
       "    <tr>\n",
       "      <th>777</th>\n",
       "      <td>20995</td>\n",
       "      <td>2.374717</td>\n",
       "    </tr>\n",
       "    <tr>\n",
       "      <th>778</th>\n",
       "      <td>21087</td>\n",
       "      <td>0.848318</td>\n",
       "    </tr>\n",
       "    <tr>\n",
       "      <th>779</th>\n",
       "      <td>21214</td>\n",
       "      <td>0.305271</td>\n",
       "    </tr>\n",
       "  </tbody>\n",
       "</table>\n",
       "<p>780 rows × 2 columns</p>\n",
       "</div>"
      ],
      "text/plain": [
       "     product_id           tn\n",
       "0         20001  1302.821147\n",
       "1         20002  1087.357424\n",
       "2         20003   682.975566\n",
       "3         20004   522.412123\n",
       "4         20005   529.132087\n",
       "..          ...          ...\n",
       "775       20962     2.844398\n",
       "776       20975     2.550540\n",
       "777       20995     2.374717\n",
       "778       21087     0.848318\n",
       "779       21214     0.305271\n",
       "\n",
       "[780 rows x 2 columns]"
      ]
     },
     "execution_count": 2,
     "metadata": {},
     "output_type": "execute_result"
    }
   ],
   "source": [
    "p = pd.read_csv('../outputs/prediccion_autogluon_2ventanas.csv', sep=',')\n",
    "p"
   ]
  },
  {
   "cell_type": "code",
   "execution_count": 8,
   "id": "8f11780b",
   "metadata": {},
   "outputs": [],
   "source": [
    "nombre_archivo = '../outputs/prediccion_autogluon_2ventanas_'"
   ]
  },
  {
   "cell_type": "markdown",
   "id": "15952669",
   "metadata": {},
   "source": [
    "##### Ratios aplicados al mejor output"
   ]
  },
  {
   "cell_type": "code",
   "execution_count": 7,
   "id": "dc72c3d0",
   "metadata": {},
   "outputs": [],
   "source": [
    "RATIOS = [0.97, 0.98, 0.99, 1.01, 1.02, 1.03, 1.04, 1.05]\n",
    "\n",
    "for ratio in RATIOS:\n",
    "    p = pd.read_csv('../outputs/prediccion_autogluon_2ventanas.csv', sep=',')\n",
    "    p['tn'] = p['tn'] * ratio\n",
    "    p.to_csv(nombre_archivo + str(ratio) + '.csv', index=False, sep=',')    \n"
   ]
  },
  {
   "cell_type": "markdown",
   "id": "7a7cc230",
   "metadata": {},
   "source": [
    "##### Mejor output multiplicado por N(1,0.1)"
   ]
  },
  {
   "cell_type": "code",
   "execution_count": 9,
   "id": "94db8d71",
   "metadata": {},
   "outputs": [],
   "source": [
    "import numpy as np\n",
    "p = pd.read_csv('../outputs/prediccion_autogluon_2ventanas.csv', sep=',')\n",
    "\n",
    "# Generar números aleatorios con distribución normal: media=1, desviación=1% (0.01)\n",
    "np.random.seed(12345)  # Opcional: para reproducibilidad\n",
    "random_numbers = np.random.normal(loc=1, scale=0.01, size=len(p))\n",
    "\n",
    "\n",
    "# Multiplicar cada valor de 'tn' por su número aleatorio correspondiente\n",
    "p['tn'] = p['tn'] * random_numbers\n",
    "p.to_csv(nombre_archivo + \"dist_normal\" + '.csv', index=False, sep=',') "
   ]
  }
 ],
 "metadata": {
  "kernelspec": {
   "display_name": "Python 3",
   "language": "python",
   "name": "python3"
  },
  "language_info": {
   "codemirror_mode": {
    "name": "ipython",
    "version": 3
   },
   "file_extension": ".py",
   "mimetype": "text/x-python",
   "name": "python",
   "nbconvert_exporter": "python",
   "pygments_lexer": "ipython3",
   "version": "3.11.4"
  }
 },
 "nbformat": 4,
 "nbformat_minor": 5
}
