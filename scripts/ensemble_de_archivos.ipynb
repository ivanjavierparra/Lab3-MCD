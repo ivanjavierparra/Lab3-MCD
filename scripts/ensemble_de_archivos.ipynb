{
 "cells": [
  {
   "cell_type": "code",
   "execution_count": 1,
   "id": "a84c82fa",
   "metadata": {},
   "outputs": [],
   "source": [
    "import pandas as pd"
   ]
  },
  {
   "cell_type": "code",
   "execution_count": 4,
   "id": "ffe935a3",
   "metadata": {},
   "outputs": [],
   "source": [
    "a1 = \"../outputs/prediccion_autogluon_hiperparametros_highquality.csv\"\n",
    "a2 = \"../outputs/prediccion_autogluon_2ventanas.csv\"\n",
    "a3= \"../outputs/prediccion_autogluon_hiperparametros_highquality_2ventana.csv\"\n",
    "\n",
    "df_1 = pd.read_csv(a1, sep=',')\n",
    "df_2 = pd.read_csv(a2, sep=',')\n",
    "df_3 = pd.read_csv(a3, sep=',')"
   ]
  },
  {
   "cell_type": "code",
   "execution_count": 5,
   "id": "b5b6763a",
   "metadata": {},
   "outputs": [
    {
     "name": "stdout",
     "output_type": "stream",
     "text": [
      "     product_id           tn\n",
      "0         20001  1328.799171\n",
      "1         20002  1086.664711\n",
      "2         20003   733.441351\n",
      "3         20004   533.000729\n",
      "4         20005   532.794668\n",
      "..          ...          ...\n",
      "775       21263     0.033188\n",
      "776       21265     0.051604\n",
      "777       21266     0.054267\n",
      "778       21267     0.047466\n",
      "779       21276     0.022121\n",
      "\n",
      "[780 rows x 2 columns]\n"
     ]
    }
   ],
   "source": [
    "\n",
    "# Unir los DataFrames y calcular el promedio por product_id\n",
    "df_promedio = (\n",
    "    pd.concat([df_1, df_2, df_3])  # Concatenar todos los datos\n",
    "    .groupby('product_id', as_index=False)  # Agrupar por product_id (sin que sea índice)\n",
    "    ['tn'].mean()  # Calcular el promedio de tn\n",
    ")\n",
    "\n",
    "print(df_promedio)"
   ]
  },
  {
   "cell_type": "code",
   "execution_count": 8,
   "id": "f3ee9fb1",
   "metadata": {},
   "outputs": [],
   "source": [
    "df_promedio.to_csv(\"../outputs/prediccion_autogluon_3_mejores_v2.csv\", index=False, sep=',')  # Guardar el resultado en un nuevo archivo CSV"
   ]
  }
 ],
 "metadata": {
  "kernelspec": {
   "display_name": "Python 3",
   "language": "python",
   "name": "python3"
  },
  "language_info": {
   "codemirror_mode": {
    "name": "ipython",
    "version": 3
   },
   "file_extension": ".py",
   "mimetype": "text/x-python",
   "name": "python",
   "nbconvert_exporter": "python",
   "pygments_lexer": "ipython3",
   "version": "3.11.4"
  }
 },
 "nbformat": 4,
 "nbformat_minor": 5
}
