{
 "cells": [
  {
   "cell_type": "code",
   "execution_count": null,
   "id": "c1d9fd53",
   "metadata": {},
   "outputs": [],
   "source": [
    "import pandas as pd\n",
    "from pmdarima import auto_arima\n",
    "from joblib import Parallel, delayed  # Para paralelizar (opcional)\n",
    "import warnings\n",
    "warnings.filterwarnings('ignore')  # Ignorar warnings"
   ]
  },
  {
   "cell_type": "code",
   "execution_count": null,
   "id": "c347e4eb",
   "metadata": {},
   "outputs": [],
   "source": [
    "productos_ok = pd.read_csv(\"https://storage.googleapis.com/open-courses/austral2025-af91/labo3v/product_id_apredecir201912.txt\", sep=\"\\t\")\n",
    "\n",
    "df = pd.read_csv(\"./datasets/sell-in.csv\", sep=\"\\t\")\n",
    "df.shape"
   ]
  },
  {
   "cell_type": "code",
   "execution_count": null,
   "id": "7837aa2d",
   "metadata": {},
   "outputs": [],
   "source": [
    "ts = df.groupby([\"periodo\", \"product_id\"]).agg({\"tn\": \"sum\"}).reset_index()\n",
    "\n",
    "ts = ts[ts['product_id'].isin(productos_ok['product_id'])]"
   ]
  },
  {
   "cell_type": "code",
   "execution_count": null,
   "id": "a1892e0e",
   "metadata": {},
   "outputs": [],
   "source": [
    "# Convertir 'periodo' (yyyymm) a datetime\n",
    "ts['periodo_dt'] = pd.to_datetime(ts['periodo'].astype(str), format='%Y%m')\n",
    "ts = ts.sort_values(['product_id', 'periodo_dt'])  # Ordenar por producto y fecha\n",
    "ts"
   ]
  },
  {
   "cell_type": "code",
   "execution_count": null,
   "id": "91a8070a",
   "metadata": {},
   "outputs": [],
   "source": [
    "# Convertir 'periodo' (yyyymm) a datetime y ordenar\n",
    "ts['periodo_dt'] = pd.to_datetime(ts['periodo'].astype(str), format='%Y%m')\n",
    "ts = ts.sort_values(['product_id', 'periodo_dt'])\n",
    "\n",
    "# Diccionario para almacenar predicciones\n",
    "predictions = {}\n",
    "\n",
    "# Iterar sobre cada producto\n",
    "for product_id in productos_ok['product_id'].unique():\n",
    "    # Filtrar datos del producto actual\n",
    "    df_product = ts[ts['product_id'] == product_id].copy()\n",
    "    \n",
    "    # Configurar serie temporal correctamente\n",
    "    df_product = df_product.set_index('periodo_dt').asfreq('MS')\n",
    "    \n",
    "    # Verificar que hay suficientes datos\n",
    "    if len(df_product) >= 12:\n",
    "        try:\n",
    "            # Ajustar AutoARIMA con parámetros estacionales adecuados\n",
    "            model = auto_arima(\n",
    "                df_product['tn'],\n",
    "                seasonal=True,\n",
    "                m=12,  # Estacionalidad anual para datos mensuales\n",
    "                suppress_warnings=True,\n",
    "                error_action='ignore',\n",
    "                trace=True  # Para ver el proceso de ajuste\n",
    "            )\n",
    "            \n",
    "            # Predecir 2 meses adelante\n",
    "            pred = model.predict(n_periods=2)\n",
    "            predictions[product_id] = pred[-1]  # Tomar el segundo mes\n",
    "            \n",
    "            print(f\"Producto {product_id}: Modelo {model} ajustado\")\n",
    "            \n",
    "        except Exception as e:\n",
    "            print(f\"Error en producto {product_id}: {str(e)}\")\n",
    "            predictions[product_id] = None\n",
    "    else:\n",
    "        print(f\"Producto {product_id} no tiene suficientes datos ({len(df_product)} observaciones)\")\n",
    "        predictions[product_id] = None\n",
    "\n",
    "# Convertir a DataFrame\n",
    "df_predictions = pd.DataFrame({\n",
    "    'product_id': predictions.keys(),\n",
    "    'prediccion_mes+2': predictions.values()\n",
    "})\n",
    "\n",
    "print(\"\\nPredicciones finales:\")\n",
    "print(df_predictions)"
   ]
  },
  {
   "cell_type": "code",
   "execution_count": null,
   "id": "d7cb942d",
   "metadata": {},
   "outputs": [],
   "source": [
    "df_predictions.isna().sum()"
   ]
  },
  {
   "cell_type": "code",
   "execution_count": null,
   "id": "d1a0800f",
   "metadata": {},
   "outputs": [],
   "source": [
    "df_predictions.head()"
   ]
  },
  {
   "cell_type": "code",
   "execution_count": null,
   "id": "246ac39c",
   "metadata": {},
   "outputs": [],
   "source": [
    "df_predictions_copy = df_predictions.copy()\n",
    "df_predictions_copy"
   ]
  },
  {
   "cell_type": "code",
   "execution_count": null,
   "id": "602a44cb",
   "metadata": {},
   "outputs": [],
   "source": [
    "df_predictions_copy.rename(columns={'prediccion_mes+2': 'tn'}, inplace=True)"
   ]
  },
  {
   "cell_type": "code",
   "execution_count": null,
   "id": "115171b0",
   "metadata": {},
   "outputs": [],
   "source": [
    "df_predictions_copy.fillna(0, inplace=True)  # Reemplazar NaN por 0\n",
    "df_predictions_copy.to_csv(\"../../outputs/predicciones_autoarima.csv\", index=False)"
   ]
  },
  {
   "cell_type": "code",
   "execution_count": null,
   "id": "94e09333",
   "metadata": {},
   "outputs": [],
   "source": [
    "df_predictions_copy[df_predictions_copy['tn'] < 0]"
   ]
  },
  {
   "cell_type": "code",
   "execution_count": null,
   "id": "9c67d4ea",
   "metadata": {},
   "outputs": [],
   "source": [
    "df_predictions_copy.loc[df_predictions_copy['tn'] < 0, 'tn'] = 0\n",
    "df_predictions_copy.to_csv(\"./kaggle/predicciones_autoarima_sin_negativos.csv\", index=False)"
   ]
  }
 ],
 "metadata": {
  "language_info": {
   "name": "python"
  }
 },
 "nbformat": 4,
 "nbformat_minor": 5
}
