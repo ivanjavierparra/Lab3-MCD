{
 "cells": [
  {
   "cell_type": "code",
   "execution_count": 5,
   "id": "5ba55933",
   "metadata": {},
   "outputs": [],
   "source": [
    "import pandas as pd\n",
    "import numpy as np\n",
    "import matplotlib.pyplot as plt\n",
    "import seaborn as sns\n",
    "import gc\n"
   ]
  },
  {
   "cell_type": "markdown",
   "id": "ca745175",
   "metadata": {},
   "source": [
    "##### Merge: periodos + clientes + productos"
   ]
  },
  {
   "cell_type": "code",
   "execution_count": 6,
   "id": "6fc2274b",
   "metadata": {},
   "outputs": [
    {
     "name": "stdout",
     "output_type": "stream",
     "text": [
      "Ventas-Productos-Stocks: 2945818 filas y 13 columnas\n"
     ]
    },
    {
     "data": {
      "application/vnd.microsoft.datawrangler.viewer.v0+json": {
       "columns": [
        {
         "name": "index",
         "rawType": "int64",
         "type": "integer"
        },
        {
         "name": "product_id",
         "rawType": "int64",
         "type": "integer"
        },
        {
         "name": "customer_id",
         "rawType": "int64",
         "type": "integer"
        },
        {
         "name": "periodo",
         "rawType": "int32",
         "type": "integer"
        }
       ],
       "ref": "e9e77df3-5206-4b3c-aeae-9ad00104ff7a",
       "rows": [
        [
         "0",
         "20524",
         "10234",
         "201701"
        ],
        [
         "1",
         "20524",
         "10234",
         "201702"
        ],
        [
         "2",
         "20524",
         "10234",
         "201703"
        ],
        [
         "3",
         "20524",
         "10234",
         "201704"
        ],
        [
         "4",
         "20524",
         "10234",
         "201705"
        ]
       ],
       "shape": {
        "columns": 3,
        "rows": 5
       }
      },
      "text/html": [
       "<div>\n",
       "<style scoped>\n",
       "    .dataframe tbody tr th:only-of-type {\n",
       "        vertical-align: middle;\n",
       "    }\n",
       "\n",
       "    .dataframe tbody tr th {\n",
       "        vertical-align: top;\n",
       "    }\n",
       "\n",
       "    .dataframe thead th {\n",
       "        text-align: right;\n",
       "    }\n",
       "</style>\n",
       "<table border=\"1\" class=\"dataframe\">\n",
       "  <thead>\n",
       "    <tr style=\"text-align: right;\">\n",
       "      <th></th>\n",
       "      <th>product_id</th>\n",
       "      <th>customer_id</th>\n",
       "      <th>periodo</th>\n",
       "    </tr>\n",
       "  </thead>\n",
       "  <tbody>\n",
       "    <tr>\n",
       "      <th>0</th>\n",
       "      <td>20524</td>\n",
       "      <td>10234</td>\n",
       "      <td>201701</td>\n",
       "    </tr>\n",
       "    <tr>\n",
       "      <th>1</th>\n",
       "      <td>20524</td>\n",
       "      <td>10234</td>\n",
       "      <td>201702</td>\n",
       "    </tr>\n",
       "    <tr>\n",
       "      <th>2</th>\n",
       "      <td>20524</td>\n",
       "      <td>10234</td>\n",
       "      <td>201703</td>\n",
       "    </tr>\n",
       "    <tr>\n",
       "      <th>3</th>\n",
       "      <td>20524</td>\n",
       "      <td>10234</td>\n",
       "      <td>201704</td>\n",
       "    </tr>\n",
       "    <tr>\n",
       "      <th>4</th>\n",
       "      <td>20524</td>\n",
       "      <td>10234</td>\n",
       "      <td>201705</td>\n",
       "    </tr>\n",
       "  </tbody>\n",
       "</table>\n",
       "</div>"
      ],
      "text/plain": [
       "   product_id  customer_id  periodo\n",
       "0       20524        10234   201701\n",
       "1       20524        10234   201702\n",
       "2       20524        10234   201703\n",
       "3       20524        10234   201704\n",
       "4       20524        10234   201705"
      ]
     },
     "execution_count": 6,
     "metadata": {},
     "output_type": "execute_result"
    }
   ],
   "source": [
    "\n",
    "sellin = pd.read_csv(\"../../data/raw/sell-in.csv\", sep='\\t')\n",
    "productos = pd.read_csv(\"../../data/raw/tb_productos.csv\", sep='\\t')\n",
    "productos = productos.drop_duplicates(subset=['product_id'], keep='first')\n",
    "stocks = pd.read_csv(\"../../data/raw/tb_stocks.csv\", sep='\\t')\n",
    "\n",
    "df = pd.merge(sellin, productos, how=\"left\", on=\"product_id\")\n",
    "df = df.merge(stocks, how=\"left\", on=[\"product_id\", \"periodo\"])\n",
    "print(f\"Ventas-Productos-Stocks: {df.shape[0]} filas y {df.shape[1]} columnas\")\n",
    "del sellin, productos, stocks\n",
    "\n",
    "df[\"periodo_dt\"] = pd.to_datetime(df[\"periodo\"].astype(str), format=\"%Y%m\")\n",
    "\n",
    "periodos = pd.date_range(start=df['periodo_dt'].min(), end=df['periodo_dt'].max(), freq=\"MS\")\n",
    "productos = df['product_id'].unique()\n",
    "clientes = df['customer_id'].unique()\n",
    "\n",
    "idx = pd.MultiIndex.from_product([productos, clientes, periodos], names=['product_id', 'customer_id', 'periodo'])\n",
    "completo = idx.to_frame(index=False)\n",
    "completo[\"periodo\"] = completo[\"periodo\"].dt.strftime(\"%Y%m\").astype(int)\n",
    "\n",
    "del periodos, productos, clientes\n",
    "gc.collect()\n",
    "completo.head()"
   ]
  },
  {
   "cell_type": "markdown",
   "id": "569ada19",
   "metadata": {},
   "source": [
    "##### Cruzamos con productos"
   ]
  },
  {
   "cell_type": "code",
   "execution_count": 9,
   "id": "77790d88",
   "metadata": {},
   "outputs": [
    {
     "data": {
      "text/plain": [
       "72"
      ]
     },
     "execution_count": 9,
     "metadata": {},
     "output_type": "execute_result"
    }
   ],
   "source": [
    "productos = pd.read_csv(\"../../data/raw/tb_productos.csv\", sep='\\t')\n",
    "productos = productos.drop_duplicates(subset=['product_id'], keep='first')\n",
    "completo = completo.merge(productos, how='left', on=\"product_id\")\n",
    "del productos\n",
    "gc.collect()"
   ]
  },
  {
   "cell_type": "markdown",
   "id": "24237785",
   "metadata": {},
   "source": [
    "##### Cruzamos con stock"
   ]
  },
  {
   "cell_type": "code",
   "execution_count": 10,
   "id": "debac465",
   "metadata": {},
   "outputs": [
    {
     "data": {
      "application/vnd.microsoft.datawrangler.viewer.v0+json": {
       "columns": [
        {
         "name": "index",
         "rawType": "int64",
         "type": "integer"
        },
        {
         "name": "product_id",
         "rawType": "int64",
         "type": "integer"
        },
        {
         "name": "customer_id",
         "rawType": "int64",
         "type": "integer"
        },
        {
         "name": "periodo",
         "rawType": "int32",
         "type": "integer"
        },
        {
         "name": "cat1",
         "rawType": "object",
         "type": "string"
        },
        {
         "name": "cat2",
         "rawType": "object",
         "type": "string"
        },
        {
         "name": "cat3",
         "rawType": "object",
         "type": "string"
        },
        {
         "name": "brand",
         "rawType": "object",
         "type": "string"
        },
        {
         "name": "sku_size",
         "rawType": "float64",
         "type": "float"
        },
        {
         "name": "stock_final",
         "rawType": "float64",
         "type": "float"
        }
       ],
       "ref": "578e6905-f584-4826-bac6-6265052cc897",
       "rows": [
        [
         "0",
         "20524",
         "10234",
         "201701",
         "HC",
         "VAJILLA",
         "Cristalino",
         "Importado",
         "500.0",
         null
        ],
        [
         "1",
         "20524",
         "10234",
         "201702",
         "HC",
         "VAJILLA",
         "Cristalino",
         "Importado",
         "500.0",
         null
        ],
        [
         "2",
         "20524",
         "10234",
         "201703",
         "HC",
         "VAJILLA",
         "Cristalino",
         "Importado",
         "500.0",
         null
        ],
        [
         "3",
         "20524",
         "10234",
         "201704",
         "HC",
         "VAJILLA",
         "Cristalino",
         "Importado",
         "500.0",
         null
        ],
        [
         "4",
         "20524",
         "10234",
         "201705",
         "HC",
         "VAJILLA",
         "Cristalino",
         "Importado",
         "500.0",
         null
        ]
       ],
       "shape": {
        "columns": 9,
        "rows": 5
       }
      },
      "text/html": [
       "<div>\n",
       "<style scoped>\n",
       "    .dataframe tbody tr th:only-of-type {\n",
       "        vertical-align: middle;\n",
       "    }\n",
       "\n",
       "    .dataframe tbody tr th {\n",
       "        vertical-align: top;\n",
       "    }\n",
       "\n",
       "    .dataframe thead th {\n",
       "        text-align: right;\n",
       "    }\n",
       "</style>\n",
       "<table border=\"1\" class=\"dataframe\">\n",
       "  <thead>\n",
       "    <tr style=\"text-align: right;\">\n",
       "      <th></th>\n",
       "      <th>product_id</th>\n",
       "      <th>customer_id</th>\n",
       "      <th>periodo</th>\n",
       "      <th>cat1</th>\n",
       "      <th>cat2</th>\n",
       "      <th>cat3</th>\n",
       "      <th>brand</th>\n",
       "      <th>sku_size</th>\n",
       "      <th>stock_final</th>\n",
       "    </tr>\n",
       "  </thead>\n",
       "  <tbody>\n",
       "    <tr>\n",
       "      <th>0</th>\n",
       "      <td>20524</td>\n",
       "      <td>10234</td>\n",
       "      <td>201701</td>\n",
       "      <td>HC</td>\n",
       "      <td>VAJILLA</td>\n",
       "      <td>Cristalino</td>\n",
       "      <td>Importado</td>\n",
       "      <td>500.0</td>\n",
       "      <td>NaN</td>\n",
       "    </tr>\n",
       "    <tr>\n",
       "      <th>1</th>\n",
       "      <td>20524</td>\n",
       "      <td>10234</td>\n",
       "      <td>201702</td>\n",
       "      <td>HC</td>\n",
       "      <td>VAJILLA</td>\n",
       "      <td>Cristalino</td>\n",
       "      <td>Importado</td>\n",
       "      <td>500.0</td>\n",
       "      <td>NaN</td>\n",
       "    </tr>\n",
       "    <tr>\n",
       "      <th>2</th>\n",
       "      <td>20524</td>\n",
       "      <td>10234</td>\n",
       "      <td>201703</td>\n",
       "      <td>HC</td>\n",
       "      <td>VAJILLA</td>\n",
       "      <td>Cristalino</td>\n",
       "      <td>Importado</td>\n",
       "      <td>500.0</td>\n",
       "      <td>NaN</td>\n",
       "    </tr>\n",
       "    <tr>\n",
       "      <th>3</th>\n",
       "      <td>20524</td>\n",
       "      <td>10234</td>\n",
       "      <td>201704</td>\n",
       "      <td>HC</td>\n",
       "      <td>VAJILLA</td>\n",
       "      <td>Cristalino</td>\n",
       "      <td>Importado</td>\n",
       "      <td>500.0</td>\n",
       "      <td>NaN</td>\n",
       "    </tr>\n",
       "    <tr>\n",
       "      <th>4</th>\n",
       "      <td>20524</td>\n",
       "      <td>10234</td>\n",
       "      <td>201705</td>\n",
       "      <td>HC</td>\n",
       "      <td>VAJILLA</td>\n",
       "      <td>Cristalino</td>\n",
       "      <td>Importado</td>\n",
       "      <td>500.0</td>\n",
       "      <td>NaN</td>\n",
       "    </tr>\n",
       "  </tbody>\n",
       "</table>\n",
       "</div>"
      ],
      "text/plain": [
       "   product_id  customer_id  periodo cat1     cat2        cat3      brand  \\\n",
       "0       20524        10234   201701   HC  VAJILLA  Cristalino  Importado   \n",
       "1       20524        10234   201702   HC  VAJILLA  Cristalino  Importado   \n",
       "2       20524        10234   201703   HC  VAJILLA  Cristalino  Importado   \n",
       "3       20524        10234   201704   HC  VAJILLA  Cristalino  Importado   \n",
       "4       20524        10234   201705   HC  VAJILLA  Cristalino  Importado   \n",
       "\n",
       "   sku_size  stock_final  \n",
       "0     500.0          NaN  \n",
       "1     500.0          NaN  \n",
       "2     500.0          NaN  \n",
       "3     500.0          NaN  \n",
       "4     500.0          NaN  "
      ]
     },
     "execution_count": 10,
     "metadata": {},
     "output_type": "execute_result"
    }
   ],
   "source": [
    "stocks = pd.read_csv(\"../../data/raw/tb_stocks.csv\", sep='\\t')\n",
    "stocks = stocks.groupby(by=[\"periodo\", \"product_id\"]).agg({\"stock_final\": \"sum\"}).reset_index()\n",
    "completo = completo.merge(stocks, how='left', on=['periodo', 'product_id'])\n",
    "del stocks\n",
    "gc.collect()\n",
    "completo.head()"
   ]
  },
  {
   "cell_type": "markdown",
   "id": "bd1a2d2f",
   "metadata": {},
   "source": [
    "##### Cruzamos con ventas"
   ]
  },
  {
   "cell_type": "code",
   "execution_count": 11,
   "id": "21817bff",
   "metadata": {},
   "outputs": [
    {
     "data": {
      "text/plain": [
       "40"
      ]
     },
     "execution_count": 11,
     "metadata": {},
     "output_type": "execute_result"
    }
   ],
   "source": [
    "sellin = pd.read_csv(\"../../data/raw/sell-in.csv\", sep='\\t')\n",
    "# Agrupar ventas por periodo, cliente y producto\n",
    "dt = sellin.groupby(by=[\"periodo\",\"customer_id\",\"product_id\"]).agg({\"tn\":\"sum\",\n",
    "                                                                \"cust_request_tn\":\"sum\",\n",
    "                                                                \"cust_request_qty\":\"sum\",\n",
    "                                                                \"plan_precios_cuidados\":\"first\"\n",
    "                                                                }).reset_index()\n",
    "df_completo = completo.merge(dt, how='left', on=['periodo', 'customer_id','product_id'])\n",
    "df_completo['tn'] = df_completo['tn'].fillna(0)\n",
    "del sellin, dt, completo\n",
    "gc.collect()"
   ]
  },
  {
   "cell_type": "markdown",
   "id": "369b7902",
   "metadata": {},
   "source": [
    "##### Target"
   ]
  },
  {
   "cell_type": "code",
   "execution_count": 13,
   "id": "0014756d",
   "metadata": {},
   "outputs": [
    {
     "name": "stdout",
     "output_type": "stream",
     "text": [
      "✅ Target generado. Filas con target no nulo: 25027434\n"
     ]
    }
   ],
   "source": [
    "# Asegurarte de tener 'periodo_dt' (datetime) en completo\n",
    "df_completo['periodo_dt'] = pd.to_datetime(df_completo['periodo'], format='%Y%m')\n",
    "\n",
    "# Crear DataFrame auxiliar con tn como target y fecha adelantada\n",
    "ventas_futuras = df_completo[['periodo_dt', 'customer_id', 'product_id', 'tn']].copy()\n",
    "ventas_futuras['periodo_target_dt'] = ventas_futuras['periodo_dt'] - pd.DateOffset(months=2)\n",
    "ventas_futuras = ventas_futuras.rename(columns={'tn': 'target'})\n",
    "\n",
    "# Merge con completo usando periodo adelantado\n",
    "df_completo = df_completo.merge(\n",
    "    ventas_futuras[['periodo_target_dt', 'customer_id', 'product_id', 'target']],\n",
    "    how='left',\n",
    "    left_on=['periodo_dt', 'customer_id', 'product_id'],\n",
    "    right_on=['periodo_target_dt', 'customer_id', 'product_id']\n",
    ")\n",
    "\n",
    "# Eliminar columna auxiliar\n",
    "df_completo = df_completo.drop(columns=['periodo_target_dt'])\n",
    "\n",
    "print(f\"✅ Target generado. Filas con target no nulo: {df_completo['target'].notna().sum()}\")"
   ]
  },
  {
   "cell_type": "markdown",
   "id": "84ccd7d4",
   "metadata": {},
   "source": [
    "##### Verifico las NaN en el target: Existen porque hay clientes que solo compraron 2 veces."
   ]
  },
  {
   "cell_type": "code",
   "execution_count": null,
   "id": "dc56e92e",
   "metadata": {},
   "outputs": [],
   "source": [
    "nan_count = df_completo['target'].isna().sum()\n",
    "print(f\"🔍 Total de NaN en target: {nan_count}\")"
   ]
  },
  {
   "cell_type": "markdown",
   "id": "c8ef2f1f",
   "metadata": {},
   "source": [
    "##### Generación de IDs"
   ]
  },
  {
   "cell_type": "code",
   "execution_count": 14,
   "id": "f50ec128",
   "metadata": {},
   "outputs": [],
   "source": [
    "df_completo = df_completo.sort_values(['periodo', 'customer_id', 'product_id'])\n",
    "df_completo['id'] = df_completo.groupby(['customer_id', 'product_id']).cumcount() + 1"
   ]
  }
 ],
 "metadata": {
  "kernelspec": {
   "display_name": "Python 3",
   "language": "python",
   "name": "python3"
  },
  "language_info": {
   "codemirror_mode": {
    "name": "ipython",
    "version": 3
   },
   "file_extension": ".py",
   "mimetype": "text/x-python",
   "name": "python",
   "nbconvert_exporter": "python",
   "pygments_lexer": "ipython3",
   "version": "3.11.4"
  }
 },
 "nbformat": 4,
 "nbformat_minor": 5
}
