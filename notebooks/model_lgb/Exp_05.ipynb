{
 "cells": [
  {
   "cell_type": "code",
   "execution_count": 1,
   "id": "5ba55933",
   "metadata": {},
   "outputs": [],
   "source": [
    "import pandas as pd\n",
    "import numpy as np\n",
    "import matplotlib.pyplot as plt\n",
    "import seaborn as sns\n",
    "import gc"
   ]
  },
  {
   "cell_type": "markdown",
   "id": "ca745175",
   "metadata": {},
   "source": [
    "##### Merge: periodos + clientes + productos"
   ]
  },
  {
   "cell_type": "code",
   "execution_count": 3,
   "id": "6fc2274b",
   "metadata": {},
   "outputs": [
    {
     "name": "stdout",
     "output_type": "stream",
     "text": [
      "Ventas-Productos-Stocks: 2945818 filas y 13 columnas\n"
     ]
    },
    {
     "data": {
      "application/vnd.microsoft.datawrangler.viewer.v0+json": {
       "columns": [
        {
         "name": "index",
         "rawType": "int64",
         "type": "integer"
        },
        {
         "name": "product_id",
         "rawType": "int64",
         "type": "integer"
        },
        {
         "name": "customer_id",
         "rawType": "int64",
         "type": "integer"
        },
        {
         "name": "periodo",
         "rawType": "int32",
         "type": "integer"
        }
       ],
       "ref": "db4f1518-8c06-47f1-8420-d0260b0bd29f",
       "rows": [
        [
         "0",
         "20524",
         "10234",
         "201701"
        ],
        [
         "1",
         "20524",
         "10234",
         "201702"
        ],
        [
         "2",
         "20524",
         "10234",
         "201703"
        ],
        [
         "3",
         "20524",
         "10234",
         "201704"
        ],
        [
         "4",
         "20524",
         "10234",
         "201705"
        ]
       ],
       "shape": {
        "columns": 3,
        "rows": 5
       }
      },
      "text/html": [
       "<div>\n",
       "<style scoped>\n",
       "    .dataframe tbody tr th:only-of-type {\n",
       "        vertical-align: middle;\n",
       "    }\n",
       "\n",
       "    .dataframe tbody tr th {\n",
       "        vertical-align: top;\n",
       "    }\n",
       "\n",
       "    .dataframe thead th {\n",
       "        text-align: right;\n",
       "    }\n",
       "</style>\n",
       "<table border=\"1\" class=\"dataframe\">\n",
       "  <thead>\n",
       "    <tr style=\"text-align: right;\">\n",
       "      <th></th>\n",
       "      <th>product_id</th>\n",
       "      <th>customer_id</th>\n",
       "      <th>periodo</th>\n",
       "    </tr>\n",
       "  </thead>\n",
       "  <tbody>\n",
       "    <tr>\n",
       "      <th>0</th>\n",
       "      <td>20524</td>\n",
       "      <td>10234</td>\n",
       "      <td>201701</td>\n",
       "    </tr>\n",
       "    <tr>\n",
       "      <th>1</th>\n",
       "      <td>20524</td>\n",
       "      <td>10234</td>\n",
       "      <td>201702</td>\n",
       "    </tr>\n",
       "    <tr>\n",
       "      <th>2</th>\n",
       "      <td>20524</td>\n",
       "      <td>10234</td>\n",
       "      <td>201703</td>\n",
       "    </tr>\n",
       "    <tr>\n",
       "      <th>3</th>\n",
       "      <td>20524</td>\n",
       "      <td>10234</td>\n",
       "      <td>201704</td>\n",
       "    </tr>\n",
       "    <tr>\n",
       "      <th>4</th>\n",
       "      <td>20524</td>\n",
       "      <td>10234</td>\n",
       "      <td>201705</td>\n",
       "    </tr>\n",
       "  </tbody>\n",
       "</table>\n",
       "</div>"
      ],
      "text/plain": [
       "   product_id  customer_id  periodo\n",
       "0       20524        10234   201701\n",
       "1       20524        10234   201702\n",
       "2       20524        10234   201703\n",
       "3       20524        10234   201704\n",
       "4       20524        10234   201705"
      ]
     },
     "execution_count": 3,
     "metadata": {},
     "output_type": "execute_result"
    }
   ],
   "source": [
    "\n",
    "sellin = pd.read_csv(\"../../data/raw/sell-in.csv\", sep='\\t')\n",
    "productos = pd.read_csv(\"../../data/raw/tb_productos.csv\", sep='\\t')\n",
    "productos = productos.drop_duplicates(subset=['product_id'], keep='first')\n",
    "stocks = pd.read_csv(\"../../data/raw/tb_stocks.csv\", sep='\\t')\n",
    "\n",
    "df = pd.merge(sellin, productos, how=\"left\", on=\"product_id\")\n",
    "df = df.merge(stocks, how=\"left\", on=[\"product_id\", \"periodo\"])\n",
    "print(f\"Ventas-Productos-Stocks: {df.shape[0]} filas y {df.shape[1]} columnas\")\n",
    "del sellin, productos, stocks\n",
    "\n",
    "df[\"periodo_dt\"] = pd.to_datetime(df[\"periodo\"].astype(str), format=\"%Y%m\")\n",
    "\n",
    "periodos = pd.date_range(start=df['periodo_dt'].min(), end=df['periodo_dt'].max(), freq=\"MS\")\n",
    "productos = df['product_id'].unique()\n",
    "clientes = df['customer_id'].unique()\n",
    "\n",
    "idx = pd.MultiIndex.from_product([productos, clientes, periodos], names=['product_id', 'customer_id', 'periodo'])\n",
    "completo = idx.to_frame(index=False)\n",
    "completo[\"periodo\"] = completo[\"periodo\"].dt.strftime(\"%Y%m\").astype(int)\n",
    "\n",
    "del periodos, productos, clientes\n",
    "gc.collect()\n",
    "completo.head()"
   ]
  },
  {
   "cell_type": "markdown",
   "id": "569ada19",
   "metadata": {},
   "source": [
    "##### Cruzamos con productos"
   ]
  },
  {
   "cell_type": "code",
   "execution_count": 5,
   "id": "77790d88",
   "metadata": {},
   "outputs": [
    {
     "data": {
      "text/plain": [
       "18"
      ]
     },
     "execution_count": 5,
     "metadata": {},
     "output_type": "execute_result"
    }
   ],
   "source": [
    "productos = pd.read_csv(\"../../data/raw/tb_productos.csv\", sep='\\t')\n",
    "productos = productos.drop_duplicates(subset=['product_id'], keep='first')\n",
    "completo = completo.merge(productos, how='left', on=\"product_id\")\n",
    "del productos\n",
    "gc.collect()"
   ]
  },
  {
   "cell_type": "markdown",
   "id": "24237785",
   "metadata": {},
   "source": [
    "##### Cruzamos con stock"
   ]
  },
  {
   "cell_type": "code",
   "execution_count": 6,
   "id": "debac465",
   "metadata": {},
   "outputs": [
    {
     "data": {
      "application/vnd.microsoft.datawrangler.viewer.v0+json": {
       "columns": [
        {
         "name": "index",
         "rawType": "int64",
         "type": "integer"
        },
        {
         "name": "product_id",
         "rawType": "int64",
         "type": "integer"
        },
        {
         "name": "customer_id",
         "rawType": "int64",
         "type": "integer"
        },
        {
         "name": "periodo",
         "rawType": "int32",
         "type": "integer"
        },
        {
         "name": "cat1_x",
         "rawType": "object",
         "type": "string"
        },
        {
         "name": "cat2_x",
         "rawType": "object",
         "type": "string"
        },
        {
         "name": "cat3_x",
         "rawType": "object",
         "type": "string"
        },
        {
         "name": "brand_x",
         "rawType": "object",
         "type": "string"
        },
        {
         "name": "sku_size_x",
         "rawType": "float64",
         "type": "float"
        },
        {
         "name": "cat1_y",
         "rawType": "object",
         "type": "string"
        },
        {
         "name": "cat2_y",
         "rawType": "object",
         "type": "string"
        },
        {
         "name": "cat3_y",
         "rawType": "object",
         "type": "string"
        },
        {
         "name": "brand_y",
         "rawType": "object",
         "type": "string"
        },
        {
         "name": "sku_size_y",
         "rawType": "float64",
         "type": "float"
        },
        {
         "name": "stock_final",
         "rawType": "float64",
         "type": "float"
        }
       ],
       "ref": "ab918683-1e32-4c05-851c-ad0a582a4199",
       "rows": [
        [
         "0",
         "20524",
         "10234",
         "201701",
         "HC",
         "VAJILLA",
         "Cristalino",
         "Importado",
         "500.0",
         "HC",
         "VAJILLA",
         "Cristalino",
         "Importado",
         "500.0",
         null
        ],
        [
         "1",
         "20524",
         "10234",
         "201702",
         "HC",
         "VAJILLA",
         "Cristalino",
         "Importado",
         "500.0",
         "HC",
         "VAJILLA",
         "Cristalino",
         "Importado",
         "500.0",
         null
        ],
        [
         "2",
         "20524",
         "10234",
         "201703",
         "HC",
         "VAJILLA",
         "Cristalino",
         "Importado",
         "500.0",
         "HC",
         "VAJILLA",
         "Cristalino",
         "Importado",
         "500.0",
         null
        ],
        [
         "3",
         "20524",
         "10234",
         "201704",
         "HC",
         "VAJILLA",
         "Cristalino",
         "Importado",
         "500.0",
         "HC",
         "VAJILLA",
         "Cristalino",
         "Importado",
         "500.0",
         null
        ],
        [
         "4",
         "20524",
         "10234",
         "201705",
         "HC",
         "VAJILLA",
         "Cristalino",
         "Importado",
         "500.0",
         "HC",
         "VAJILLA",
         "Cristalino",
         "Importado",
         "500.0",
         null
        ]
       ],
       "shape": {
        "columns": 14,
        "rows": 5
       }
      },
      "text/html": [
       "<div>\n",
       "<style scoped>\n",
       "    .dataframe tbody tr th:only-of-type {\n",
       "        vertical-align: middle;\n",
       "    }\n",
       "\n",
       "    .dataframe tbody tr th {\n",
       "        vertical-align: top;\n",
       "    }\n",
       "\n",
       "    .dataframe thead th {\n",
       "        text-align: right;\n",
       "    }\n",
       "</style>\n",
       "<table border=\"1\" class=\"dataframe\">\n",
       "  <thead>\n",
       "    <tr style=\"text-align: right;\">\n",
       "      <th></th>\n",
       "      <th>product_id</th>\n",
       "      <th>customer_id</th>\n",
       "      <th>periodo</th>\n",
       "      <th>cat1_x</th>\n",
       "      <th>cat2_x</th>\n",
       "      <th>cat3_x</th>\n",
       "      <th>brand_x</th>\n",
       "      <th>sku_size_x</th>\n",
       "      <th>cat1_y</th>\n",
       "      <th>cat2_y</th>\n",
       "      <th>cat3_y</th>\n",
       "      <th>brand_y</th>\n",
       "      <th>sku_size_y</th>\n",
       "      <th>stock_final</th>\n",
       "    </tr>\n",
       "  </thead>\n",
       "  <tbody>\n",
       "    <tr>\n",
       "      <th>0</th>\n",
       "      <td>20524</td>\n",
       "      <td>10234</td>\n",
       "      <td>201701</td>\n",
       "      <td>HC</td>\n",
       "      <td>VAJILLA</td>\n",
       "      <td>Cristalino</td>\n",
       "      <td>Importado</td>\n",
       "      <td>500.0</td>\n",
       "      <td>HC</td>\n",
       "      <td>VAJILLA</td>\n",
       "      <td>Cristalino</td>\n",
       "      <td>Importado</td>\n",
       "      <td>500.0</td>\n",
       "      <td>NaN</td>\n",
       "    </tr>\n",
       "    <tr>\n",
       "      <th>1</th>\n",
       "      <td>20524</td>\n",
       "      <td>10234</td>\n",
       "      <td>201702</td>\n",
       "      <td>HC</td>\n",
       "      <td>VAJILLA</td>\n",
       "      <td>Cristalino</td>\n",
       "      <td>Importado</td>\n",
       "      <td>500.0</td>\n",
       "      <td>HC</td>\n",
       "      <td>VAJILLA</td>\n",
       "      <td>Cristalino</td>\n",
       "      <td>Importado</td>\n",
       "      <td>500.0</td>\n",
       "      <td>NaN</td>\n",
       "    </tr>\n",
       "    <tr>\n",
       "      <th>2</th>\n",
       "      <td>20524</td>\n",
       "      <td>10234</td>\n",
       "      <td>201703</td>\n",
       "      <td>HC</td>\n",
       "      <td>VAJILLA</td>\n",
       "      <td>Cristalino</td>\n",
       "      <td>Importado</td>\n",
       "      <td>500.0</td>\n",
       "      <td>HC</td>\n",
       "      <td>VAJILLA</td>\n",
       "      <td>Cristalino</td>\n",
       "      <td>Importado</td>\n",
       "      <td>500.0</td>\n",
       "      <td>NaN</td>\n",
       "    </tr>\n",
       "    <tr>\n",
       "      <th>3</th>\n",
       "      <td>20524</td>\n",
       "      <td>10234</td>\n",
       "      <td>201704</td>\n",
       "      <td>HC</td>\n",
       "      <td>VAJILLA</td>\n",
       "      <td>Cristalino</td>\n",
       "      <td>Importado</td>\n",
       "      <td>500.0</td>\n",
       "      <td>HC</td>\n",
       "      <td>VAJILLA</td>\n",
       "      <td>Cristalino</td>\n",
       "      <td>Importado</td>\n",
       "      <td>500.0</td>\n",
       "      <td>NaN</td>\n",
       "    </tr>\n",
       "    <tr>\n",
       "      <th>4</th>\n",
       "      <td>20524</td>\n",
       "      <td>10234</td>\n",
       "      <td>201705</td>\n",
       "      <td>HC</td>\n",
       "      <td>VAJILLA</td>\n",
       "      <td>Cristalino</td>\n",
       "      <td>Importado</td>\n",
       "      <td>500.0</td>\n",
       "      <td>HC</td>\n",
       "      <td>VAJILLA</td>\n",
       "      <td>Cristalino</td>\n",
       "      <td>Importado</td>\n",
       "      <td>500.0</td>\n",
       "      <td>NaN</td>\n",
       "    </tr>\n",
       "  </tbody>\n",
       "</table>\n",
       "</div>"
      ],
      "text/plain": [
       "   product_id  customer_id  periodo cat1_x   cat2_x      cat3_x    brand_x  \\\n",
       "0       20524        10234   201701     HC  VAJILLA  Cristalino  Importado   \n",
       "1       20524        10234   201702     HC  VAJILLA  Cristalino  Importado   \n",
       "2       20524        10234   201703     HC  VAJILLA  Cristalino  Importado   \n",
       "3       20524        10234   201704     HC  VAJILLA  Cristalino  Importado   \n",
       "4       20524        10234   201705     HC  VAJILLA  Cristalino  Importado   \n",
       "\n",
       "   sku_size_x cat1_y   cat2_y      cat3_y    brand_y  sku_size_y  stock_final  \n",
       "0       500.0     HC  VAJILLA  Cristalino  Importado       500.0          NaN  \n",
       "1       500.0     HC  VAJILLA  Cristalino  Importado       500.0          NaN  \n",
       "2       500.0     HC  VAJILLA  Cristalino  Importado       500.0          NaN  \n",
       "3       500.0     HC  VAJILLA  Cristalino  Importado       500.0          NaN  \n",
       "4       500.0     HC  VAJILLA  Cristalino  Importado       500.0          NaN  "
      ]
     },
     "execution_count": 6,
     "metadata": {},
     "output_type": "execute_result"
    }
   ],
   "source": [
    "stocks = pd.read_csv(\"../../data/raw/tb_stocks.csv\", sep='\\t')\n",
    "stocks = stocks.groupby(by=[\"periodo\", \"product_id\"]).agg({\"stock_final\": \"sum\"}).reset_index()\n",
    "completo = completo.merge(stocks, how='left', on=['periodo', 'product_id'])\n",
    "del stocks\n",
    "gc.collect()\n",
    "completo.head()"
   ]
  },
  {
   "cell_type": "markdown",
   "id": "bd1a2d2f",
   "metadata": {},
   "source": [
    "##### Cruzamos con ventas"
   ]
  },
  {
   "cell_type": "code",
   "execution_count": 7,
   "id": "21817bff",
   "metadata": {},
   "outputs": [
    {
     "data": {
      "text/plain": [
       "40"
      ]
     },
     "execution_count": 7,
     "metadata": {},
     "output_type": "execute_result"
    }
   ],
   "source": [
    "sellin = pd.read_csv(\"../../data/raw/sell-in.csv\", sep='\\t')\n",
    "# Agrupar ventas por periodo, cliente y producto\n",
    "dt = sellin.groupby(by=[\"periodo\",\"customer_id\",\"product_id\"]).agg({\"tn\":\"sum\",\n",
    "                                                                \"cust_request_tn\":\"sum\",\n",
    "                                                                \"cust_request_qty\":\"sum\",\n",
    "                                                                \"plan_precios_cuidados\":\"first\"\n",
    "                                                                }).reset_index()\n",
    "df_completo = completo.merge(dt, how='left', on=['periodo', 'customer_id','product_id'])\n",
    "df_completo['tn'] = df_completo['tn'].fillna(0)\n",
    "del sellin, dt, completo\n",
    "gc.collect()"
   ]
  },
  {
   "cell_type": "markdown",
   "id": "369b7902",
   "metadata": {},
   "source": [
    "##### Target"
   ]
  },
  {
   "cell_type": "code",
   "execution_count": null,
   "id": "0014756d",
   "metadata": {},
   "outputs": [
    {
     "name": "stdout",
     "output_type": "stream",
     "text": [
      "✅ Target generado. Filas con target no nulo: 25027434\n"
     ]
    }
   ],
   "source": [
    "# Asegurarte de tener 'periodo_dt' (datetime) en completo\n",
    "df_completo['periodo_dt'] = pd.to_datetime(df_completo['periodo'], format='%Y%m')\n",
    "\n",
    "# Crear DataFrame auxiliar con tn como target y fecha adelantada\n",
    "ventas_futuras = df_completo[['periodo_dt', 'customer_id', 'product_id', 'tn']].copy()\n",
    "ventas_futuras['periodo_target_dt'] = ventas_futuras['periodo_dt'] - pd.DateOffset(months=2)\n",
    "ventas_futuras = ventas_futuras.rename(columns={'tn': 'target'})\n",
    "\n",
    "# Merge con completo usando periodo adelantado\n",
    "df_completo = df_completo.merge(\n",
    "    ventas_futuras[['periodo_target_dt', 'customer_id', 'product_id', 'target']],\n",
    "    how='left',\n",
    "    left_on=['periodo_dt', 'customer_id', 'product_id'],\n",
    "    right_on=['periodo_target_dt', 'customer_id', 'product_id']\n",
    ")\n",
    "\n",
    "# Eliminar columna auxiliar\n",
    "df_completo = df_completo.drop(columns=['periodo_target_dt'])\n",
    "del ventas_futuras\n",
    "gc.collect()\n",
    "print(f\"✅ Target generado. Filas con target no nulo: {df_completo['target'].notna().sum()}\")"
   ]
  },
  {
   "cell_type": "markdown",
   "id": "84ccd7d4",
   "metadata": {},
   "source": [
    "##### Verifico las NaN en el target: Existen porque hay clientes que solo compraron 2 veces."
   ]
  },
  {
   "cell_type": "code",
   "execution_count": 10,
   "id": "dc56e92e",
   "metadata": {},
   "outputs": [
    {
     "name": "stdout",
     "output_type": "stream",
     "text": [
      "🔍 Total de NaN en target: 1472202\n"
     ]
    },
    {
     "data": {
      "text/plain": [
       "0"
      ]
     },
     "execution_count": 10,
     "metadata": {},
     "output_type": "execute_result"
    }
   ],
   "source": [
    "nan_count = df_completo['target'].isna().sum()\n",
    "print(f\"🔍 Total de NaN en target: {nan_count}\")\n",
    "del nan_count\n",
    "gc.collect()"
   ]
  },
  {
   "cell_type": "markdown",
   "id": "c8ef2f1f",
   "metadata": {},
   "source": [
    "##### Generación de IDs"
   ]
  },
  {
   "cell_type": "code",
   "execution_count": 11,
   "id": "f50ec128",
   "metadata": {},
   "outputs": [],
   "source": [
    "df_completo = df_completo.sort_values(['periodo', 'customer_id', 'product_id'])\n",
    "df_completo['id'] = df_completo.groupby(['customer_id', 'product_id']).cumcount() + 1"
   ]
  },
  {
   "cell_type": "markdown",
   "id": "bdc4f661",
   "metadata": {},
   "source": [
    "##### Periodo "
   ]
  },
  {
   "cell_type": "code",
   "execution_count": 19,
   "id": "a11e6652",
   "metadata": {},
   "outputs": [],
   "source": [
    "df_completo[\"periodo_dt\"] = pd.to_datetime(df_completo[\"periodo\"].astype(str), format=\"%Y%m\")"
   ]
  },
  {
   "cell_type": "markdown",
   "id": "2d03316f",
   "metadata": {},
   "source": [
    "##### Eliminar productos que no nacieron"
   ]
  },
  {
   "cell_type": "code",
   "execution_count": 12,
   "id": "65875648",
   "metadata": {},
   "outputs": [
    {
     "name": "stdout",
     "output_type": "stream",
     "text": [
      "✅ Dataset filtrado con 21,425,136 filas.\n"
     ]
    }
   ],
   "source": [
    "nacimiento_producto = df.groupby(\"product_id\")[\"periodo_dt\"].agg([\"min\"]).reset_index()\n",
    "# Renombrar columna max a muerte_cliente_dt\n",
    "nacimiento_producto = nacimiento_producto.rename(columns={'min': 'nacimiento_producto'})\n",
    "\n",
    "\n",
    "# Unir con df_final para traer fecha de muerte del cliente\n",
    "df_completo = df_completo.merge(nacimiento_producto, on='product_id', how='left')\n",
    "\n",
    "# Filtrar filas donde periodo_dt > muerte_cliente_dt\n",
    "df_completo = df_completo[df_completo['periodo_dt'] >= df_completo['nacimiento_producto']]\n",
    "\n",
    "# Opcional: eliminar columna auxiliar\n",
    "# df_final = df_final.drop(columns=['muerte_cliente_dt'])\n",
    "del nacimiento_producto\n",
    "gc.collect()\n",
    "print(f\"✅ Dataset filtrado con {len(df_completo):,} filas.\")"
   ]
  },
  {
   "cell_type": "markdown",
   "id": "2b8d4b93",
   "metadata": {},
   "source": [
    "##### Eliminamos clientes que no nacieron"
   ]
  },
  {
   "cell_type": "code",
   "execution_count": 13,
   "id": "063b972f",
   "metadata": {},
   "outputs": [
    {
     "name": "stdout",
     "output_type": "stream",
     "text": [
      "✅ Dataset filtrado con 19,639,107 filas.\n"
     ]
    }
   ],
   "source": [
    "# df_final[\"periodo_dt\"] = pd.to_datetime(df_final[\"periodo\"].astype(str), format=\"%Y%m\")\n",
    "\n",
    "nacimiento_cliente = df.groupby(\"customer_id\")[\"periodo_dt\"].agg([\"min\"]).reset_index()\n",
    "\n",
    "# Renombrar columna max a nacimiento_cliente_dt\n",
    "nacimiento_cliente = nacimiento_cliente.rename(columns={'min': 'nacimiento_cliente_dt'})\n",
    "\n",
    "# Unir con df_final para traer fecha de muerte del cliente\n",
    "df_completo = df_completo.merge(nacimiento_cliente, on='customer_id', how='left')\n",
    "\n",
    "# Filtrar filas donde periodo_dt > nacimiento_cliente_dt\n",
    "df_completo = df_completo[df_completo['periodo_dt'] >= df_completo['nacimiento_cliente_dt']]\n",
    "\n",
    "# Opcional: eliminar columna auxiliar\n",
    "# df_final = df_final.drop(columns=['nacimiento_cliente_dt'])\n",
    "del nacimiento_cliente\n",
    "gc.collect()\n",
    "\n",
    "print(f\"✅ Dataset filtrado con {len(df_completo):,} filas.\")\n"
   ]
  },
  {
   "cell_type": "markdown",
   "id": "355eafc0",
   "metadata": {},
   "source": [
    "##### Correlograma"
   ]
  },
  {
   "cell_type": "code",
   "execution_count": 15,
   "id": "6c30b0a6",
   "metadata": {},
   "outputs": [
    {
     "name": "stdout",
     "output_type": "stream",
     "text": [
      "    Variable 1       Variable 2  Correlación\n",
      "29     periodo               id     0.955593\n",
      "30  sku_size_x       sku_size_y     1.000000\n",
      "51          tn  cust_request_tn     0.993594\n"
     ]
    },
    {
     "data": {
      "text/plain": [
       "47"
      ]
     },
     "execution_count": 15,
     "metadata": {},
     "output_type": "execute_result"
    }
   ],
   "source": [
    "# Supongamos que tu DataFrame se llama df\n",
    "cor_matrix = df_completo.corr(numeric_only=True)\n",
    "\n",
    "# Tomamos solo la parte superior de la matriz (sin la diagonal)\n",
    "upper = cor_matrix.where(np.triu(np.ones(cor_matrix.shape), k=1).astype(bool))\n",
    "\n",
    "# Filtramos correlaciones fuertes (valor absoluto mayor a 0.7)\n",
    "high_corr = upper.stack().reset_index()\n",
    "high_corr.columns = ['Variable 1', 'Variable 2', 'Correlación']\n",
    "high_corr_filtrada = high_corr[high_corr['Correlación'].abs() > 0.7]\n",
    "\n",
    "print(high_corr_filtrada)\n",
    "\n",
    "del high_corr_filtrada, cor_matrix, upper, high_corr\n",
    "gc.collect()"
   ]
  },
  {
   "cell_type": "markdown",
   "id": "bfbbb5e8",
   "metadata": {},
   "source": [
    "##### Elimino variables muy correlacionadas"
   ]
  },
  {
   "cell_type": "code",
   "execution_count": 16,
   "id": "661360a8",
   "metadata": {},
   "outputs": [],
   "source": [
    "df_completo.drop(columns=['cust_request_tn', 'periodo', 'sku_size_y'], inplace=True)"
   ]
  },
  {
   "cell_type": "markdown",
   "id": "aae033dc",
   "metadata": {},
   "source": [
    "##### Extracción de componentes temporales"
   ]
  },
  {
   "cell_type": "code",
   "execution_count": 17,
   "id": "967989f0",
   "metadata": {},
   "outputs": [],
   "source": [
    "df_completo['year'] = df_completo['periodo_dt'].dt.year\n",
    "df_completo['month'] = df_completo['periodo_dt'].dt.month\n",
    "# Variables dummy estacionales\n",
    "df_completo['quarter'] = df_completo['periodo_dt'].dt.quarter\n",
    "df_completo['semester'] = np.where(df_completo['month'] <= 6, 1, 2)\n",
    "# Efectos de fin de año\n",
    "df_completo['year_end'] = np.where(df_completo['month'].isin([11, 12]), 1, 0)\n",
    "df_completo['year_start'] = np.where(df_completo['month'].isin([1, 2]), 1, 0)\n",
    "# Indicadores estacionales\n",
    "df_completo['season'] = df_completo['month'] % 12 // 3 + 1  # 1:Invierno, 2:Primavera, etc.\n",
    "# Variables cíclicas (para capturar patrones estacionales)\n",
    "df_completo['month_sin'] = np.sin(2 * np.pi * df_completo['month']/12)\n",
    "df_completo['month_cos'] = np.cos(2 * np.pi * df_completo['month']/12)"
   ]
  },
  {
   "cell_type": "markdown",
   "id": "fefc60c1",
   "metadata": {},
   "source": [
    "#####  Lags, diferencias, medias móviles y otras yerbas"
   ]
  },
  {
   "cell_type": "code",
   "execution_count": null,
   "id": "2405d79c",
   "metadata": {},
   "outputs": [],
   "source": [
    "# # Aseguramos el orden por grupo y tiempo\n",
    "# df_completo = df_completo.sort_values(['customer_id', 'product_id', 'periodo_dt'])\n",
    "\n",
    "# # Definimos la función que genera todas las variables para cada grupo\n",
    "# def generar_features(grupo):\n",
    "#     # Lags\n",
    "#     for i in range(1, 13):\n",
    "#         grupo[f'lag_{i}'] = grupo['target'].shift(i)\n",
    "#         grupo[f'delta_{i}'] = grupo['target'].diff(i)\n",
    "#         grupo[f'pct_change_{i}'] = grupo['target'].pct_change(i)\n",
    "\n",
    "#     # Rolling statistics\n",
    "#     windows = [2, 3, 6, 9, 12]\n",
    "#     for w in windows:\n",
    "#         grupo[f'rolling_mean_{w}'] = grupo['target'].rolling(window=w, min_periods=1).mean()\n",
    "#         grupo[f'rolling_std_{w}'] = grupo['target'].rolling(window=w, min_periods=1).std()\n",
    "#         grupo[f'rolling_min_{w}'] = grupo['target'].rolling(window=w, min_periods=1).min()\n",
    "#         grupo[f'rolling_max_{w}'] = grupo['target'].rolling(window=w, min_periods=1).max()\n",
    "#         grupo[f'rolling_median_{w}'] = grupo['target'].rolling(window=w, min_periods=1).median()\n",
    "\n",
    "#     # Tendencia acumulada\n",
    "#     grupo['expanding_mean'] = grupo['target'].expanding().mean()\n",
    "#     grupo['cumulative_sum'] = grupo['target'].cumsum()\n",
    "\n",
    "#     # Diferencia estacional y comparación interanual\n",
    "#     grupo['seasonal_diff_12'] = grupo['target'].diff(12)\n",
    "#     grupo['vs_prev_year'] = grupo['target'] / grupo['target'].shift(12) - 1\n",
    "\n",
    "#     # Descomposición simple\n",
    "#     grupo['trend'] = grupo['target'].rolling(window=12, min_periods=1).mean()\n",
    "#     grupo['seasonality'] = grupo['target'] - grupo['trend']\n",
    "\n",
    "#     # Eventos especiales\n",
    "#     grupo['new_high'] = (grupo['target'] == grupo[f'rolling_max_12']).astype(int)\n",
    "#     grupo['new_low'] = (grupo['target'] == grupo[f'rolling_min_12']).astype(int)\n",
    "\n",
    "#     # Aceleración\n",
    "#     grupo['acceleration'] = grupo['target'].diff(1).diff(1)  # o bien: delta_1.diff(1)\n",
    "    \n",
    "#     return grupo\n",
    "\n",
    "# # Aplicamos la función por grupo\n",
    "# df_completo = df_completo.groupby(['customer_id', 'product_id'], group_keys=False).apply(generar_features)\n"
   ]
  },
  {
   "cell_type": "code",
   "execution_count": null,
   "id": "151291c8",
   "metadata": {},
   "outputs": [],
   "source": [
    "df_completo = df_completo.sort_values(['periodo_dt', 'customer_id', 'product_id'])"
   ]
  },
  {
   "cell_type": "code",
   "execution_count": 18,
   "id": "5754935b",
   "metadata": {},
   "outputs": [
    {
     "ename": "KeyboardInterrupt",
     "evalue": "",
     "output_type": "error",
     "traceback": [
      "\u001b[1;31m---------------------------------------------------------------------------\u001b[0m",
      "\u001b[1;31mKeyboardInterrupt\u001b[0m                         Traceback (most recent call last)",
      "Cell \u001b[1;32mIn[18], line 2\u001b[0m\n\u001b[0;32m      1\u001b[0m \u001b[38;5;28;01mfor\u001b[39;00m i \u001b[38;5;129;01min\u001b[39;00m \u001b[38;5;28mrange\u001b[39m(\u001b[38;5;241m1\u001b[39m, \u001b[38;5;241m13\u001b[39m):\n\u001b[1;32m----> 2\u001b[0m     df_completo[\u001b[38;5;124mf\u001b[39m\u001b[38;5;124m'\u001b[39m\u001b[38;5;124mlag_\u001b[39m\u001b[38;5;132;01m{\u001b[39;00mi\u001b[38;5;132;01m}\u001b[39;00m\u001b[38;5;124m'\u001b[39m] \u001b[38;5;241m=\u001b[39m \u001b[43mdf_completo\u001b[49m\u001b[38;5;241;43m.\u001b[39;49m\u001b[43mgroupby\u001b[49m\u001b[43m(\u001b[49m\u001b[43m[\u001b[49m\u001b[38;5;124;43m'\u001b[39;49m\u001b[38;5;124;43mcustomer_id\u001b[39;49m\u001b[38;5;124;43m'\u001b[39;49m\u001b[43m,\u001b[49m\u001b[43m \u001b[49m\u001b[38;5;124;43m'\u001b[39;49m\u001b[38;5;124;43mproduct_id\u001b[39;49m\u001b[38;5;124;43m'\u001b[39;49m\u001b[43m]\u001b[49m\u001b[43m)\u001b[49m\u001b[43m[\u001b[49m\u001b[38;5;124;43m'\u001b[39;49m\u001b[38;5;124;43mtarget\u001b[39;49m\u001b[38;5;124;43m'\u001b[39;49m\u001b[43m]\u001b[49m\u001b[38;5;241;43m.\u001b[39;49m\u001b[43mtransform\u001b[49m\u001b[43m(\u001b[49m\u001b[38;5;28;43;01mlambda\u001b[39;49;00m\u001b[43m \u001b[49m\u001b[43mx\u001b[49m\u001b[43m:\u001b[49m\u001b[43m \u001b[49m\u001b[43mx\u001b[49m\u001b[38;5;241;43m.\u001b[39;49m\u001b[43mshift\u001b[49m\u001b[43m(\u001b[49m\u001b[43mi\u001b[49m\u001b[43m)\u001b[49m\u001b[43m)\u001b[49m\n",
      "File \u001b[1;32mc:\\Users\\Usuario\\AppData\\Local\\Programs\\Python\\Python311\\Lib\\site-packages\\pandas\\core\\groupby\\generic.py:517\u001b[0m, in \u001b[0;36mSeriesGroupBy.transform\u001b[1;34m(self, func, engine, engine_kwargs, *args, **kwargs)\u001b[0m\n\u001b[0;32m    514\u001b[0m \u001b[38;5;129m@Substitution\u001b[39m(klass\u001b[38;5;241m=\u001b[39m\u001b[38;5;124m\"\u001b[39m\u001b[38;5;124mSeries\u001b[39m\u001b[38;5;124m\"\u001b[39m, example\u001b[38;5;241m=\u001b[39m__examples_series_doc)\n\u001b[0;32m    515\u001b[0m \u001b[38;5;129m@Appender\u001b[39m(_transform_template)\n\u001b[0;32m    516\u001b[0m \u001b[38;5;28;01mdef\u001b[39;00m \u001b[38;5;21mtransform\u001b[39m(\u001b[38;5;28mself\u001b[39m, func, \u001b[38;5;241m*\u001b[39margs, engine\u001b[38;5;241m=\u001b[39m\u001b[38;5;28;01mNone\u001b[39;00m, engine_kwargs\u001b[38;5;241m=\u001b[39m\u001b[38;5;28;01mNone\u001b[39;00m, \u001b[38;5;241m*\u001b[39m\u001b[38;5;241m*\u001b[39mkwargs):\n\u001b[1;32m--> 517\u001b[0m     \u001b[38;5;28;01mreturn\u001b[39;00m \u001b[38;5;28;43mself\u001b[39;49m\u001b[38;5;241;43m.\u001b[39;49m\u001b[43m_transform\u001b[49m\u001b[43m(\u001b[49m\n\u001b[0;32m    518\u001b[0m \u001b[43m        \u001b[49m\u001b[43mfunc\u001b[49m\u001b[43m,\u001b[49m\u001b[43m \u001b[49m\u001b[38;5;241;43m*\u001b[39;49m\u001b[43margs\u001b[49m\u001b[43m,\u001b[49m\u001b[43m \u001b[49m\u001b[43mengine\u001b[49m\u001b[38;5;241;43m=\u001b[39;49m\u001b[43mengine\u001b[49m\u001b[43m,\u001b[49m\u001b[43m \u001b[49m\u001b[43mengine_kwargs\u001b[49m\u001b[38;5;241;43m=\u001b[39;49m\u001b[43mengine_kwargs\u001b[49m\u001b[43m,\u001b[49m\u001b[43m \u001b[49m\u001b[38;5;241;43m*\u001b[39;49m\u001b[38;5;241;43m*\u001b[39;49m\u001b[43mkwargs\u001b[49m\n\u001b[0;32m    519\u001b[0m \u001b[43m    \u001b[49m\u001b[43m)\u001b[49m\n",
      "File \u001b[1;32mc:\\Users\\Usuario\\AppData\\Local\\Programs\\Python\\Python311\\Lib\\site-packages\\pandas\\core\\groupby\\groupby.py:2021\u001b[0m, in \u001b[0;36mGroupBy._transform\u001b[1;34m(self, func, engine, engine_kwargs, *args, **kwargs)\u001b[0m\n\u001b[0;32m   2018\u001b[0m     warn_alias_replacement(\u001b[38;5;28mself\u001b[39m, orig_func, func)\n\u001b[0;32m   2020\u001b[0m \u001b[38;5;28;01mif\u001b[39;00m \u001b[38;5;129;01mnot\u001b[39;00m \u001b[38;5;28misinstance\u001b[39m(func, \u001b[38;5;28mstr\u001b[39m):\n\u001b[1;32m-> 2021\u001b[0m     \u001b[38;5;28;01mreturn\u001b[39;00m \u001b[38;5;28;43mself\u001b[39;49m\u001b[38;5;241;43m.\u001b[39;49m\u001b[43m_transform_general\u001b[49m\u001b[43m(\u001b[49m\u001b[43mfunc\u001b[49m\u001b[43m,\u001b[49m\u001b[43m \u001b[49m\u001b[43mengine\u001b[49m\u001b[43m,\u001b[49m\u001b[43m \u001b[49m\u001b[43mengine_kwargs\u001b[49m\u001b[43m,\u001b[49m\u001b[43m \u001b[49m\u001b[38;5;241;43m*\u001b[39;49m\u001b[43margs\u001b[49m\u001b[43m,\u001b[49m\u001b[43m \u001b[49m\u001b[38;5;241;43m*\u001b[39;49m\u001b[38;5;241;43m*\u001b[39;49m\u001b[43mkwargs\u001b[49m\u001b[43m)\u001b[49m\n\u001b[0;32m   2023\u001b[0m \u001b[38;5;28;01melif\u001b[39;00m func \u001b[38;5;129;01mnot\u001b[39;00m \u001b[38;5;129;01min\u001b[39;00m base\u001b[38;5;241m.\u001b[39mtransform_kernel_allowlist:\n\u001b[0;32m   2024\u001b[0m     msg \u001b[38;5;241m=\u001b[39m \u001b[38;5;124mf\u001b[39m\u001b[38;5;124m\"\u001b[39m\u001b[38;5;124m'\u001b[39m\u001b[38;5;132;01m{\u001b[39;00mfunc\u001b[38;5;132;01m}\u001b[39;00m\u001b[38;5;124m'\u001b[39m\u001b[38;5;124m is not a valid function name for transform(name)\u001b[39m\u001b[38;5;124m\"\u001b[39m\n",
      "File \u001b[1;32mc:\\Users\\Usuario\\AppData\\Local\\Programs\\Python\\Python311\\Lib\\site-packages\\pandas\\core\\groupby\\generic.py:557\u001b[0m, in \u001b[0;36mSeriesGroupBy._transform_general\u001b[1;34m(self, func, engine, engine_kwargs, *args, **kwargs)\u001b[0m\n\u001b[0;32m    552\u001b[0m \u001b[38;5;28;01mfor\u001b[39;00m name, group \u001b[38;5;129;01min\u001b[39;00m \u001b[38;5;28mself\u001b[39m\u001b[38;5;241m.\u001b[39m_grouper\u001b[38;5;241m.\u001b[39mget_iterator(\n\u001b[0;32m    553\u001b[0m     \u001b[38;5;28mself\u001b[39m\u001b[38;5;241m.\u001b[39m_obj_with_exclusions, axis\u001b[38;5;241m=\u001b[39m\u001b[38;5;28mself\u001b[39m\u001b[38;5;241m.\u001b[39maxis\n\u001b[0;32m    554\u001b[0m ):\n\u001b[0;32m    555\u001b[0m     \u001b[38;5;66;03m# this setattr is needed for test_transform_lambda_with_datetimetz\u001b[39;00m\n\u001b[0;32m    556\u001b[0m     \u001b[38;5;28mobject\u001b[39m\u001b[38;5;241m.\u001b[39m\u001b[38;5;21m__setattr__\u001b[39m(group, \u001b[38;5;124m\"\u001b[39m\u001b[38;5;124mname\u001b[39m\u001b[38;5;124m\"\u001b[39m, name)\n\u001b[1;32m--> 557\u001b[0m     res \u001b[38;5;241m=\u001b[39m \u001b[43mfunc\u001b[49m\u001b[43m(\u001b[49m\u001b[43mgroup\u001b[49m\u001b[43m,\u001b[49m\u001b[43m \u001b[49m\u001b[38;5;241;43m*\u001b[39;49m\u001b[43margs\u001b[49m\u001b[43m,\u001b[49m\u001b[43m \u001b[49m\u001b[38;5;241;43m*\u001b[39;49m\u001b[38;5;241;43m*\u001b[39;49m\u001b[43mkwargs\u001b[49m\u001b[43m)\u001b[49m\n\u001b[0;32m    559\u001b[0m     results\u001b[38;5;241m.\u001b[39mappend(klass(res, index\u001b[38;5;241m=\u001b[39mgroup\u001b[38;5;241m.\u001b[39mindex))\n\u001b[0;32m    561\u001b[0m \u001b[38;5;66;03m# check for empty \"results\" to avoid concat ValueError\u001b[39;00m\n",
      "Cell \u001b[1;32mIn[18], line 2\u001b[0m, in \u001b[0;36m<lambda>\u001b[1;34m(x)\u001b[0m\n\u001b[0;32m      1\u001b[0m \u001b[38;5;28;01mfor\u001b[39;00m i \u001b[38;5;129;01min\u001b[39;00m \u001b[38;5;28mrange\u001b[39m(\u001b[38;5;241m1\u001b[39m, \u001b[38;5;241m13\u001b[39m):\n\u001b[1;32m----> 2\u001b[0m     df_completo[\u001b[38;5;124mf\u001b[39m\u001b[38;5;124m'\u001b[39m\u001b[38;5;124mlag_\u001b[39m\u001b[38;5;132;01m{\u001b[39;00mi\u001b[38;5;132;01m}\u001b[39;00m\u001b[38;5;124m'\u001b[39m] \u001b[38;5;241m=\u001b[39m df_completo\u001b[38;5;241m.\u001b[39mgroupby([\u001b[38;5;124m'\u001b[39m\u001b[38;5;124mcustomer_id\u001b[39m\u001b[38;5;124m'\u001b[39m, \u001b[38;5;124m'\u001b[39m\u001b[38;5;124mproduct_id\u001b[39m\u001b[38;5;124m'\u001b[39m])[\u001b[38;5;124m'\u001b[39m\u001b[38;5;124mtarget\u001b[39m\u001b[38;5;124m'\u001b[39m]\u001b[38;5;241m.\u001b[39mtransform(\u001b[38;5;28;01mlambda\u001b[39;00m x: \u001b[43mx\u001b[49m\u001b[38;5;241;43m.\u001b[39;49m\u001b[43mshift\u001b[49m\u001b[43m(\u001b[49m\u001b[43mi\u001b[49m\u001b[43m)\u001b[49m)\n",
      "File \u001b[1;32mc:\\Users\\Usuario\\AppData\\Local\\Programs\\Python\\Python311\\Lib\\site-packages\\pandas\\core\\generic.py:11228\u001b[0m, in \u001b[0;36mNDFrame.shift\u001b[1;34m(self, periods, freq, axis, fill_value, suffix)\u001b[0m\n\u001b[0;32m  11226\u001b[0m     axis \u001b[38;5;241m=\u001b[39m \u001b[38;5;28mself\u001b[39m\u001b[38;5;241m.\u001b[39m_get_axis_number(axis)\n\u001b[0;32m  11227\u001b[0m     \u001b[38;5;28;01massert\u001b[39;00m axis \u001b[38;5;241m==\u001b[39m \u001b[38;5;241m0\u001b[39m  \u001b[38;5;66;03m# axis == 1 cases handled in DataFrame.shift\u001b[39;00m\n\u001b[1;32m> 11228\u001b[0m     new_data \u001b[38;5;241m=\u001b[39m \u001b[38;5;28;43mself\u001b[39;49m\u001b[38;5;241;43m.\u001b[39;49m\u001b[43m_mgr\u001b[49m\u001b[38;5;241;43m.\u001b[39;49m\u001b[43mshift\u001b[49m\u001b[43m(\u001b[49m\u001b[43mperiods\u001b[49m\u001b[38;5;241;43m=\u001b[39;49m\u001b[43mperiods\u001b[49m\u001b[43m,\u001b[49m\u001b[43m \u001b[49m\u001b[43mfill_value\u001b[49m\u001b[38;5;241;43m=\u001b[39;49m\u001b[43mfill_value\u001b[49m\u001b[43m)\u001b[49m\n\u001b[0;32m  11229\u001b[0m     \u001b[38;5;28;01mreturn\u001b[39;00m \u001b[38;5;28mself\u001b[39m\u001b[38;5;241m.\u001b[39m_constructor_from_mgr(\n\u001b[0;32m  11230\u001b[0m         new_data, axes\u001b[38;5;241m=\u001b[39mnew_data\u001b[38;5;241m.\u001b[39maxes\n\u001b[0;32m  11231\u001b[0m     )\u001b[38;5;241m.\u001b[39m__finalize__(\u001b[38;5;28mself\u001b[39m, method\u001b[38;5;241m=\u001b[39m\u001b[38;5;124m\"\u001b[39m\u001b[38;5;124mshift\u001b[39m\u001b[38;5;124m\"\u001b[39m)\n\u001b[0;32m  11233\u001b[0m \u001b[38;5;28;01mreturn\u001b[39;00m \u001b[38;5;28mself\u001b[39m\u001b[38;5;241m.\u001b[39m_shift_with_freq(periods, axis, freq)\n",
      "File \u001b[1;32mc:\\Users\\Usuario\\AppData\\Local\\Programs\\Python\\Python311\\Lib\\site-packages\\pandas\\core\\internals\\base.py:312\u001b[0m, in \u001b[0;36mDataManager.shift\u001b[1;34m(self, periods, fill_value)\u001b[0m\n\u001b[0;32m    309\u001b[0m \u001b[38;5;28;01mif\u001b[39;00m fill_value \u001b[38;5;129;01mis\u001b[39;00m lib\u001b[38;5;241m.\u001b[39mno_default:\n\u001b[0;32m    310\u001b[0m     fill_value \u001b[38;5;241m=\u001b[39m \u001b[38;5;28;01mNone\u001b[39;00m\n\u001b[1;32m--> 312\u001b[0m \u001b[38;5;28;01mreturn\u001b[39;00m \u001b[38;5;28;43mself\u001b[39;49m\u001b[38;5;241;43m.\u001b[39;49m\u001b[43mapply_with_block\u001b[49m\u001b[43m(\u001b[49m\u001b[38;5;124;43m\"\u001b[39;49m\u001b[38;5;124;43mshift\u001b[39;49m\u001b[38;5;124;43m\"\u001b[39;49m\u001b[43m,\u001b[49m\u001b[43m \u001b[49m\u001b[43mperiods\u001b[49m\u001b[38;5;241;43m=\u001b[39;49m\u001b[43mperiods\u001b[49m\u001b[43m,\u001b[49m\u001b[43m \u001b[49m\u001b[43mfill_value\u001b[49m\u001b[38;5;241;43m=\u001b[39;49m\u001b[43mfill_value\u001b[49m\u001b[43m)\u001b[49m\n",
      "File \u001b[1;32mc:\\Users\\Usuario\\AppData\\Local\\Programs\\Python\\Python311\\Lib\\site-packages\\pandas\\core\\internals\\managers.py:363\u001b[0m, in \u001b[0;36mBaseBlockManager.apply\u001b[1;34m(self, f, align_keys, **kwargs)\u001b[0m\n\u001b[0;32m    361\u001b[0m         applied \u001b[38;5;241m=\u001b[39m b\u001b[38;5;241m.\u001b[39mapply(f, \u001b[38;5;241m*\u001b[39m\u001b[38;5;241m*\u001b[39mkwargs)\n\u001b[0;32m    362\u001b[0m     \u001b[38;5;28;01melse\u001b[39;00m:\n\u001b[1;32m--> 363\u001b[0m         applied \u001b[38;5;241m=\u001b[39m \u001b[38;5;28;43mgetattr\u001b[39;49m\u001b[43m(\u001b[49m\u001b[43mb\u001b[49m\u001b[43m,\u001b[49m\u001b[43m \u001b[49m\u001b[43mf\u001b[49m\u001b[43m)\u001b[49m\u001b[43m(\u001b[49m\u001b[38;5;241;43m*\u001b[39;49m\u001b[38;5;241;43m*\u001b[39;49m\u001b[43mkwargs\u001b[49m\u001b[43m)\u001b[49m\n\u001b[0;32m    364\u001b[0m     result_blocks \u001b[38;5;241m=\u001b[39m extend_blocks(applied, result_blocks)\n\u001b[0;32m    366\u001b[0m out \u001b[38;5;241m=\u001b[39m \u001b[38;5;28mtype\u001b[39m(\u001b[38;5;28mself\u001b[39m)\u001b[38;5;241m.\u001b[39mfrom_blocks(result_blocks, \u001b[38;5;28mself\u001b[39m\u001b[38;5;241m.\u001b[39maxes)\n",
      "File \u001b[1;32mc:\\Users\\Usuario\\AppData\\Local\\Programs\\Python\\Python311\\Lib\\site-packages\\pandas\\core\\internals\\blocks.py:1864\u001b[0m, in \u001b[0;36mBlock.shift\u001b[1;34m(self, periods, fill_value)\u001b[0m\n\u001b[0;32m   1862\u001b[0m \u001b[38;5;28;01melse\u001b[39;00m:\n\u001b[0;32m   1863\u001b[0m     values \u001b[38;5;241m=\u001b[39m cast(np\u001b[38;5;241m.\u001b[39mndarray, \u001b[38;5;28mself\u001b[39m\u001b[38;5;241m.\u001b[39mvalues)\n\u001b[1;32m-> 1864\u001b[0m     new_values \u001b[38;5;241m=\u001b[39m \u001b[43mshift\u001b[49m\u001b[43m(\u001b[49m\u001b[43mvalues\u001b[49m\u001b[43m,\u001b[49m\u001b[43m \u001b[49m\u001b[43mperiods\u001b[49m\u001b[43m,\u001b[49m\u001b[43m \u001b[49m\u001b[43maxis\u001b[49m\u001b[43m,\u001b[49m\u001b[43m \u001b[49m\u001b[43mcasted\u001b[49m\u001b[43m)\u001b[49m\n\u001b[0;32m   1865\u001b[0m     \u001b[38;5;28;01mreturn\u001b[39;00m [\u001b[38;5;28mself\u001b[39m\u001b[38;5;241m.\u001b[39mmake_block_same_class(new_values)]\n",
      "File \u001b[1;32mc:\\Users\\Usuario\\AppData\\Local\\Programs\\Python\\Python311\\Lib\\site-packages\\pandas\\core\\array_algos\\transforms.py:33\u001b[0m, in \u001b[0;36mshift\u001b[1;34m(values, periods, axis, fill_value)\u001b[0m\n\u001b[0;32m     30\u001b[0m     axis \u001b[38;5;241m=\u001b[39m new_values\u001b[38;5;241m.\u001b[39mndim \u001b[38;5;241m-\u001b[39m axis \u001b[38;5;241m-\u001b[39m \u001b[38;5;241m1\u001b[39m\n\u001b[0;32m     32\u001b[0m \u001b[38;5;28;01mif\u001b[39;00m new_values\u001b[38;5;241m.\u001b[39msize:\n\u001b[1;32m---> 33\u001b[0m     new_values \u001b[38;5;241m=\u001b[39m \u001b[43mnp\u001b[49m\u001b[38;5;241;43m.\u001b[39;49m\u001b[43mroll\u001b[49m\u001b[43m(\u001b[49m\n\u001b[0;32m     34\u001b[0m \u001b[43m        \u001b[49m\u001b[43mnew_values\u001b[49m\u001b[43m,\u001b[49m\n\u001b[0;32m     35\u001b[0m \u001b[43m        \u001b[49m\u001b[43mnp\u001b[49m\u001b[38;5;241;43m.\u001b[39;49m\u001b[43mintp\u001b[49m\u001b[43m(\u001b[49m\u001b[43mperiods\u001b[49m\u001b[43m)\u001b[49m\u001b[43m,\u001b[49m\n\u001b[0;32m     36\u001b[0m \u001b[43m        \u001b[49m\u001b[43maxis\u001b[49m\u001b[38;5;241;43m=\u001b[39;49m\u001b[43maxis\u001b[49m\u001b[43m,\u001b[49m\n\u001b[0;32m     37\u001b[0m \u001b[43m    \u001b[49m\u001b[43m)\u001b[49m\n\u001b[0;32m     39\u001b[0m axis_indexer \u001b[38;5;241m=\u001b[39m [\u001b[38;5;28mslice\u001b[39m(\u001b[38;5;28;01mNone\u001b[39;00m)] \u001b[38;5;241m*\u001b[39m values\u001b[38;5;241m.\u001b[39mndim\n\u001b[0;32m     40\u001b[0m \u001b[38;5;28;01mif\u001b[39;00m periods \u001b[38;5;241m>\u001b[39m \u001b[38;5;241m0\u001b[39m:\n",
      "File \u001b[1;32mc:\\Users\\Usuario\\AppData\\Local\\Programs\\Python\\Python311\\Lib\\site-packages\\numpy\\core\\numeric.py:1231\u001b[0m, in \u001b[0;36mroll\u001b[1;34m(a, shift, axis)\u001b[0m\n\u001b[0;32m   1229\u001b[0m \u001b[38;5;28;01mfor\u001b[39;00m indices \u001b[38;5;129;01min\u001b[39;00m itertools\u001b[38;5;241m.\u001b[39mproduct(\u001b[38;5;241m*\u001b[39mrolls):\n\u001b[0;32m   1230\u001b[0m     arr_index, res_index \u001b[38;5;241m=\u001b[39m \u001b[38;5;28mzip\u001b[39m(\u001b[38;5;241m*\u001b[39mindices)\n\u001b[1;32m-> 1231\u001b[0m     result[res_index] \u001b[38;5;241m=\u001b[39m a[arr_index]\n\u001b[0;32m   1233\u001b[0m \u001b[38;5;28;01mreturn\u001b[39;00m result\n",
      "\u001b[1;31mKeyboardInterrupt\u001b[0m: "
     ]
    }
   ],
   "source": [
    "for i in range(1, 13):\n",
    "    df_completo[f'lag_{i}'] = df_completo.groupby(['customer_id', 'product_id'])['target'].transform(lambda x: x.shift(i))"
   ]
  },
  {
   "cell_type": "code",
   "execution_count": null,
   "id": "e4d036d0",
   "metadata": {},
   "outputs": [],
   "source": [
    "for i in range(1, 13):\n",
    "    df_completo[f'delta_{i}'] = df_completo.groupby(['customer_id', 'product_id'])['target'].transform(lambda x: x.diff(i))"
   ]
  },
  {
   "cell_type": "code",
   "execution_count": null,
   "id": "5824e753",
   "metadata": {},
   "outputs": [],
   "source": [
    "for i in range(1, 13):\n",
    "    df_completo[f'pct_change_{i}'] = df_completo.groupby(['customer_id', 'product_id'])['target'].transform(lambda x: x.pct_change(i))"
   ]
  },
  {
   "cell_type": "code",
   "execution_count": null,
   "id": "47576e0c",
   "metadata": {},
   "outputs": [],
   "source": [
    "# Rolling statistics\n",
    "windows = [2, 3, 6, 9, 12]\n",
    "for w in windows:\n",
    "    df_completo[f'rolling_mean_{w}'] = df_completo.groupby(['customer_id', 'product_id'])['target'].transform(lambda x: x.rolling(window=w, min_periods=1).mean())"
   ]
  },
  {
   "cell_type": "code",
   "execution_count": null,
   "id": "60fdad7b",
   "metadata": {},
   "outputs": [],
   "source": [
    "# Rolling statistics\n",
    "windows = [2, 3, 6, 9, 12]\n",
    "for w in windows:\n",
    "    df_completo[f'rolling_std_{w}'] = df_completo.groupby(['customer_id', 'product_id'])['target'].transform(lambda x: x.rolling(window=w, min_periods=1).std())"
   ]
  },
  {
   "cell_type": "code",
   "execution_count": null,
   "id": "f926aa0b",
   "metadata": {},
   "outputs": [],
   "source": [
    "# Rolling statistics\n",
    "windows = [2, 3, 6, 9, 12]\n",
    "for w in windows:\n",
    "    df_completo[f'rolling_median_{w}'] = df_completo.groupby(['customer_id', 'product_id'])['target'].transform(lambda x: x.rolling(window=w, min_periods=1).median())"
   ]
  },
  {
   "cell_type": "code",
   "execution_count": null,
   "id": "4c2d3a76",
   "metadata": {},
   "outputs": [],
   "source": [
    "# Tendencia acumulada\n",
    "df_completo[f'expanding_mean'] = df_completo.groupby(['customer_id', 'product_id'])['target'].transform(lambda x: x.expanding().mean())\n",
    "df_completo[f'cumulative_sum'] = df_completo.groupby(['customer_id', 'product_id'])['target'].transform(lambda x: x.cumsum())"
   ]
  },
  {
   "cell_type": "code",
   "execution_count": null,
   "id": "7f4e3b26",
   "metadata": {},
   "outputs": [],
   "source": [
    "# Diferencia estacional y comparación interanual\n",
    "df_completo[f'seasonal_diff_12'] = df_completo.groupby(['customer_id', 'product_id'])['target'].transform(lambda x: x.diff(12))\n",
    "df_completo[f'vs_prev_year'] = df_completo.groupby(['customer_id', 'product_id'])['target'].transform(lambda x: x / x.shift(12) - 1)"
   ]
  },
  {
   "cell_type": "code",
   "execution_count": null,
   "id": "0717937a",
   "metadata": {},
   "outputs": [],
   "source": [
    "# Descomposición simple\n",
    "df_completo[f'trend'] = df_completo.groupby(['customer_id', 'product_id'])['target'].transform(lambda x: x.rolling(window=12, min_periods=1).mean())\n",
    "df_completo['seasonality'] = df_completo['target'] - df_completo['trend']"
   ]
  },
  {
   "cell_type": "code",
   "execution_count": null,
   "id": "e7087403",
   "metadata": {},
   "outputs": [],
   "source": [
    "# Eventos especiales   \n",
    "df_completo['new_high'] = (df_completo['target'] == df_completo['rolling_max_12']).astype(int)\n",
    "df_completo['new_low'] = (df_completo['target'] == df_completo['rolling_min_12']).astype(int)"
   ]
  },
  {
   "cell_type": "code",
   "execution_count": null,
   "id": "cd7ba90a",
   "metadata": {},
   "outputs": [],
   "source": [
    "# Acelaración\n",
    "df_completo[f'trend'] = df_completo.groupby(['customer_id', 'product_id'])['target'].transform(lambda x: x.diff(1).diff(1)) # o bien: delta_1.diff(1)"
   ]
  }
 ],
 "metadata": {
  "kernelspec": {
   "display_name": "Python 3",
   "language": "python",
   "name": "python3"
  },
  "language_info": {
   "codemirror_mode": {
    "name": "ipython",
    "version": 3
   },
   "file_extension": ".py",
   "mimetype": "text/x-python",
   "name": "python",
   "nbconvert_exporter": "python",
   "pygments_lexer": "ipython3",
   "version": "3.11.4"
  }
 },
 "nbformat": 4,
 "nbformat_minor": 5
}
