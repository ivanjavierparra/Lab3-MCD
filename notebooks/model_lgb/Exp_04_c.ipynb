{
 "cells": [
  {
   "cell_type": "markdown",
   "id": "06a1e089",
   "metadata": {},
   "source": [
    "# Exp 04: lgb agrupando por periodo-product_id\n",
    "\n",
    "Con FE sin optimización bayesiana"
   ]
  },
  {
   "cell_type": "code",
   "execution_count": 1,
   "id": "5ba55933",
   "metadata": {},
   "outputs": [],
   "source": [
    "import pandas as pd\n",
    "import numpy as np\n",
    "import matplotlib.pyplot as plt\n",
    "import seaborn as sns\n",
    "import gc"
   ]
  },
  {
   "cell_type": "markdown",
   "id": "ca745175",
   "metadata": {},
   "source": [
    "##### Merge: periodos + clientes + productos"
   ]
  },
  {
   "cell_type": "code",
   "execution_count": 2,
   "id": "6fc2274b",
   "metadata": {},
   "outputs": [
    {
     "data": {
      "application/vnd.microsoft.datawrangler.viewer.v0+json": {
       "columns": [
        {
         "name": "index",
         "rawType": "int64",
         "type": "integer"
        },
        {
         "name": "product_id",
         "rawType": "int64",
         "type": "integer"
        },
        {
         "name": "periodo",
         "rawType": "int32",
         "type": "integer"
        }
       ],
       "ref": "55a59cbb-2d25-453d-92ae-4e4d5199b8c5",
       "rows": [
        [
         "0",
         "20524",
         "201701"
        ],
        [
         "1",
         "20524",
         "201702"
        ],
        [
         "2",
         "20524",
         "201703"
        ],
        [
         "3",
         "20524",
         "201704"
        ],
        [
         "4",
         "20524",
         "201705"
        ],
        [
         "5",
         "20524",
         "201706"
        ],
        [
         "6",
         "20524",
         "201707"
        ],
        [
         "7",
         "20524",
         "201708"
        ],
        [
         "8",
         "20524",
         "201709"
        ],
        [
         "9",
         "20524",
         "201710"
        ],
        [
         "10",
         "20524",
         "201711"
        ],
        [
         "11",
         "20524",
         "201712"
        ],
        [
         "12",
         "20524",
         "201801"
        ],
        [
         "13",
         "20524",
         "201802"
        ],
        [
         "14",
         "20524",
         "201803"
        ],
        [
         "15",
         "20524",
         "201804"
        ],
        [
         "16",
         "20524",
         "201805"
        ],
        [
         "17",
         "20524",
         "201806"
        ],
        [
         "18",
         "20524",
         "201807"
        ],
        [
         "19",
         "20524",
         "201808"
        ],
        [
         "20",
         "20524",
         "201809"
        ],
        [
         "21",
         "20524",
         "201810"
        ],
        [
         "22",
         "20524",
         "201811"
        ],
        [
         "23",
         "20524",
         "201812"
        ],
        [
         "24",
         "20524",
         "201901"
        ],
        [
         "25",
         "20524",
         "201902"
        ],
        [
         "26",
         "20524",
         "201903"
        ],
        [
         "27",
         "20524",
         "201904"
        ],
        [
         "28",
         "20524",
         "201905"
        ],
        [
         "29",
         "20524",
         "201906"
        ],
        [
         "30",
         "20524",
         "201907"
        ],
        [
         "31",
         "20524",
         "201908"
        ],
        [
         "32",
         "20524",
         "201909"
        ],
        [
         "33",
         "20524",
         "201910"
        ],
        [
         "34",
         "20524",
         "201911"
        ],
        [
         "35",
         "20524",
         "201912"
        ],
        [
         "36",
         "20311",
         "201701"
        ],
        [
         "37",
         "20311",
         "201702"
        ],
        [
         "38",
         "20311",
         "201703"
        ],
        [
         "39",
         "20311",
         "201704"
        ],
        [
         "40",
         "20311",
         "201705"
        ],
        [
         "41",
         "20311",
         "201706"
        ],
        [
         "42",
         "20311",
         "201707"
        ],
        [
         "43",
         "20311",
         "201708"
        ],
        [
         "44",
         "20311",
         "201709"
        ],
        [
         "45",
         "20311",
         "201710"
        ],
        [
         "46",
         "20311",
         "201711"
        ],
        [
         "47",
         "20311",
         "201712"
        ],
        [
         "48",
         "20311",
         "201801"
        ],
        [
         "49",
         "20311",
         "201802"
        ]
       ],
       "shape": {
        "columns": 2,
        "rows": 44388
       }
      },
      "text/html": [
       "<div>\n",
       "<style scoped>\n",
       "    .dataframe tbody tr th:only-of-type {\n",
       "        vertical-align: middle;\n",
       "    }\n",
       "\n",
       "    .dataframe tbody tr th {\n",
       "        vertical-align: top;\n",
       "    }\n",
       "\n",
       "    .dataframe thead th {\n",
       "        text-align: right;\n",
       "    }\n",
       "</style>\n",
       "<table border=\"1\" class=\"dataframe\">\n",
       "  <thead>\n",
       "    <tr style=\"text-align: right;\">\n",
       "      <th></th>\n",
       "      <th>product_id</th>\n",
       "      <th>periodo</th>\n",
       "    </tr>\n",
       "  </thead>\n",
       "  <tbody>\n",
       "    <tr>\n",
       "      <th>0</th>\n",
       "      <td>20524</td>\n",
       "      <td>201701</td>\n",
       "    </tr>\n",
       "    <tr>\n",
       "      <th>1</th>\n",
       "      <td>20524</td>\n",
       "      <td>201702</td>\n",
       "    </tr>\n",
       "    <tr>\n",
       "      <th>2</th>\n",
       "      <td>20524</td>\n",
       "      <td>201703</td>\n",
       "    </tr>\n",
       "    <tr>\n",
       "      <th>3</th>\n",
       "      <td>20524</td>\n",
       "      <td>201704</td>\n",
       "    </tr>\n",
       "    <tr>\n",
       "      <th>4</th>\n",
       "      <td>20524</td>\n",
       "      <td>201705</td>\n",
       "    </tr>\n",
       "    <tr>\n",
       "      <th>...</th>\n",
       "      <td>...</td>\n",
       "      <td>...</td>\n",
       "    </tr>\n",
       "    <tr>\n",
       "      <th>44383</th>\n",
       "      <td>20770</td>\n",
       "      <td>201908</td>\n",
       "    </tr>\n",
       "    <tr>\n",
       "      <th>44384</th>\n",
       "      <td>20770</td>\n",
       "      <td>201909</td>\n",
       "    </tr>\n",
       "    <tr>\n",
       "      <th>44385</th>\n",
       "      <td>20770</td>\n",
       "      <td>201910</td>\n",
       "    </tr>\n",
       "    <tr>\n",
       "      <th>44386</th>\n",
       "      <td>20770</td>\n",
       "      <td>201911</td>\n",
       "    </tr>\n",
       "    <tr>\n",
       "      <th>44387</th>\n",
       "      <td>20770</td>\n",
       "      <td>201912</td>\n",
       "    </tr>\n",
       "  </tbody>\n",
       "</table>\n",
       "<p>44388 rows × 2 columns</p>\n",
       "</div>"
      ],
      "text/plain": [
       "       product_id  periodo\n",
       "0           20524   201701\n",
       "1           20524   201702\n",
       "2           20524   201703\n",
       "3           20524   201704\n",
       "4           20524   201705\n",
       "...           ...      ...\n",
       "44383       20770   201908\n",
       "44384       20770   201909\n",
       "44385       20770   201910\n",
       "44386       20770   201911\n",
       "44387       20770   201912\n",
       "\n",
       "[44388 rows x 2 columns]"
      ]
     },
     "execution_count": 2,
     "metadata": {},
     "output_type": "execute_result"
    }
   ],
   "source": [
    "df = pd.read_csv(\"../../data/preprocessed/base.csv\", sep=',')\n",
    "df[\"periodo_dt\"] = pd.to_datetime(df[\"periodo\"].astype(str), format=\"%Y%m\")\n",
    "\n",
    "\n",
    "periodos = pd.date_range(start=df['periodo_dt'].min(), end=df['periodo_dt'].max(), freq=\"MS\")\n",
    "productos = df['product_id'].unique()\n",
    "\n",
    "\n",
    "idx = pd.MultiIndex.from_product([productos, periodos], names=['product_id', 'periodo'])\n",
    "completo = idx.to_frame(index=False)\n",
    "completo[\"periodo\"] = completo[\"periodo\"].dt.strftime(\"%Y%m\").astype(int)\n",
    "\n",
    "del periodos, productos, \n",
    "gc.collect()\n",
    "completo"
   ]
  },
  {
   "cell_type": "markdown",
   "id": "569ada19",
   "metadata": {},
   "source": [
    "##### Cruzamos con productos"
   ]
  },
  {
   "cell_type": "code",
   "execution_count": 3,
   "id": "77790d88",
   "metadata": {},
   "outputs": [
    {
     "data": {
      "text/plain": [
       "20"
      ]
     },
     "execution_count": 3,
     "metadata": {},
     "output_type": "execute_result"
    }
   ],
   "source": [
    "productos = pd.read_csv(\"../../data/raw/tb_productos.csv\", sep='\\t')\n",
    "productos = productos.drop_duplicates(subset=['product_id'], keep='first')\n",
    "completo = completo.merge(productos, how='left', on=\"product_id\")\n",
    "del productos\n",
    "gc.collect()"
   ]
  },
  {
   "cell_type": "markdown",
   "id": "24237785",
   "metadata": {},
   "source": [
    "##### Cruzamos con stock"
   ]
  },
  {
   "cell_type": "code",
   "execution_count": 4,
   "id": "debac465",
   "metadata": {},
   "outputs": [
    {
     "data": {
      "application/vnd.microsoft.datawrangler.viewer.v0+json": {
       "columns": [
        {
         "name": "index",
         "rawType": "int64",
         "type": "integer"
        },
        {
         "name": "product_id",
         "rawType": "int64",
         "type": "integer"
        },
        {
         "name": "periodo",
         "rawType": "int32",
         "type": "integer"
        },
        {
         "name": "cat1",
         "rawType": "object",
         "type": "string"
        },
        {
         "name": "cat2",
         "rawType": "object",
         "type": "string"
        },
        {
         "name": "cat3",
         "rawType": "object",
         "type": "string"
        },
        {
         "name": "brand",
         "rawType": "object",
         "type": "string"
        },
        {
         "name": "sku_size",
         "rawType": "float64",
         "type": "float"
        },
        {
         "name": "stock_final",
         "rawType": "float64",
         "type": "float"
        }
       ],
       "ref": "e969a487-74da-496f-9026-c95fa221c5fd",
       "rows": [
        [
         "0",
         "20524",
         "201701",
         "HC",
         "VAJILLA",
         "Cristalino",
         "Importado",
         "500.0",
         null
        ],
        [
         "1",
         "20524",
         "201702",
         "HC",
         "VAJILLA",
         "Cristalino",
         "Importado",
         "500.0",
         null
        ],
        [
         "2",
         "20524",
         "201703",
         "HC",
         "VAJILLA",
         "Cristalino",
         "Importado",
         "500.0",
         null
        ],
        [
         "3",
         "20524",
         "201704",
         "HC",
         "VAJILLA",
         "Cristalino",
         "Importado",
         "500.0",
         null
        ],
        [
         "4",
         "20524",
         "201705",
         "HC",
         "VAJILLA",
         "Cristalino",
         "Importado",
         "500.0",
         null
        ]
       ],
       "shape": {
        "columns": 8,
        "rows": 5
       }
      },
      "text/html": [
       "<div>\n",
       "<style scoped>\n",
       "    .dataframe tbody tr th:only-of-type {\n",
       "        vertical-align: middle;\n",
       "    }\n",
       "\n",
       "    .dataframe tbody tr th {\n",
       "        vertical-align: top;\n",
       "    }\n",
       "\n",
       "    .dataframe thead th {\n",
       "        text-align: right;\n",
       "    }\n",
       "</style>\n",
       "<table border=\"1\" class=\"dataframe\">\n",
       "  <thead>\n",
       "    <tr style=\"text-align: right;\">\n",
       "      <th></th>\n",
       "      <th>product_id</th>\n",
       "      <th>periodo</th>\n",
       "      <th>cat1</th>\n",
       "      <th>cat2</th>\n",
       "      <th>cat3</th>\n",
       "      <th>brand</th>\n",
       "      <th>sku_size</th>\n",
       "      <th>stock_final</th>\n",
       "    </tr>\n",
       "  </thead>\n",
       "  <tbody>\n",
       "    <tr>\n",
       "      <th>0</th>\n",
       "      <td>20524</td>\n",
       "      <td>201701</td>\n",
       "      <td>HC</td>\n",
       "      <td>VAJILLA</td>\n",
       "      <td>Cristalino</td>\n",
       "      <td>Importado</td>\n",
       "      <td>500.0</td>\n",
       "      <td>NaN</td>\n",
       "    </tr>\n",
       "    <tr>\n",
       "      <th>1</th>\n",
       "      <td>20524</td>\n",
       "      <td>201702</td>\n",
       "      <td>HC</td>\n",
       "      <td>VAJILLA</td>\n",
       "      <td>Cristalino</td>\n",
       "      <td>Importado</td>\n",
       "      <td>500.0</td>\n",
       "      <td>NaN</td>\n",
       "    </tr>\n",
       "    <tr>\n",
       "      <th>2</th>\n",
       "      <td>20524</td>\n",
       "      <td>201703</td>\n",
       "      <td>HC</td>\n",
       "      <td>VAJILLA</td>\n",
       "      <td>Cristalino</td>\n",
       "      <td>Importado</td>\n",
       "      <td>500.0</td>\n",
       "      <td>NaN</td>\n",
       "    </tr>\n",
       "    <tr>\n",
       "      <th>3</th>\n",
       "      <td>20524</td>\n",
       "      <td>201704</td>\n",
       "      <td>HC</td>\n",
       "      <td>VAJILLA</td>\n",
       "      <td>Cristalino</td>\n",
       "      <td>Importado</td>\n",
       "      <td>500.0</td>\n",
       "      <td>NaN</td>\n",
       "    </tr>\n",
       "    <tr>\n",
       "      <th>4</th>\n",
       "      <td>20524</td>\n",
       "      <td>201705</td>\n",
       "      <td>HC</td>\n",
       "      <td>VAJILLA</td>\n",
       "      <td>Cristalino</td>\n",
       "      <td>Importado</td>\n",
       "      <td>500.0</td>\n",
       "      <td>NaN</td>\n",
       "    </tr>\n",
       "  </tbody>\n",
       "</table>\n",
       "</div>"
      ],
      "text/plain": [
       "   product_id  periodo cat1     cat2        cat3      brand  sku_size  \\\n",
       "0       20524   201701   HC  VAJILLA  Cristalino  Importado     500.0   \n",
       "1       20524   201702   HC  VAJILLA  Cristalino  Importado     500.0   \n",
       "2       20524   201703   HC  VAJILLA  Cristalino  Importado     500.0   \n",
       "3       20524   201704   HC  VAJILLA  Cristalino  Importado     500.0   \n",
       "4       20524   201705   HC  VAJILLA  Cristalino  Importado     500.0   \n",
       "\n",
       "   stock_final  \n",
       "0          NaN  \n",
       "1          NaN  \n",
       "2          NaN  \n",
       "3          NaN  \n",
       "4          NaN  "
      ]
     },
     "execution_count": 4,
     "metadata": {},
     "output_type": "execute_result"
    }
   ],
   "source": [
    "stocks = pd.read_csv(\"../../data/raw/tb_stocks.csv\", sep='\\t')\n",
    "stocks = stocks.groupby(by=[\"periodo\", \"product_id\"]).agg({\"stock_final\": \"sum\"}).reset_index()\n",
    "completo = completo.merge(stocks, how='left', on=['periodo', 'product_id'])\n",
    "del stocks\n",
    "gc.collect()\n",
    "completo.head()"
   ]
  },
  {
   "cell_type": "markdown",
   "id": "bd1a2d2f",
   "metadata": {},
   "source": [
    "##### Cruzamos con ventas"
   ]
  },
  {
   "cell_type": "code",
   "execution_count": 5,
   "id": "21817bff",
   "metadata": {},
   "outputs": [
    {
     "data": {
      "application/vnd.microsoft.datawrangler.viewer.v0+json": {
       "columns": [
        {
         "name": "index",
         "rawType": "int64",
         "type": "integer"
        },
        {
         "name": "product_id",
         "rawType": "int64",
         "type": "integer"
        },
        {
         "name": "periodo",
         "rawType": "int32",
         "type": "integer"
        },
        {
         "name": "cat1",
         "rawType": "object",
         "type": "unknown"
        },
        {
         "name": "cat2",
         "rawType": "object",
         "type": "unknown"
        },
        {
         "name": "cat3",
         "rawType": "object",
         "type": "unknown"
        },
        {
         "name": "brand",
         "rawType": "object",
         "type": "unknown"
        },
        {
         "name": "sku_size",
         "rawType": "float64",
         "type": "float"
        },
        {
         "name": "stock_final",
         "rawType": "float64",
         "type": "float"
        },
        {
         "name": "tn",
         "rawType": "float64",
         "type": "float"
        }
       ],
       "ref": "d5a1b0e5-cdc5-4b13-abc6-e187b9c5a311",
       "rows": [
        [
         "0",
         "20524",
         "201701",
         "HC",
         "VAJILLA",
         "Cristalino",
         "Importado",
         "500.0",
         null,
         "6.48085"
        ],
        [
         "1",
         "20524",
         "201702",
         "HC",
         "VAJILLA",
         "Cristalino",
         "Importado",
         "500.0",
         null,
         "3.99755"
        ],
        [
         "2",
         "20524",
         "201703",
         "HC",
         "VAJILLA",
         "Cristalino",
         "Importado",
         "500.0",
         null,
         "7.14711"
        ],
        [
         "3",
         "20524",
         "201704",
         "HC",
         "VAJILLA",
         "Cristalino",
         "Importado",
         "500.0",
         null,
         "6.82163"
        ],
        [
         "4",
         "20524",
         "201705",
         "HC",
         "VAJILLA",
         "Cristalino",
         "Importado",
         "500.0",
         null,
         "9.25949"
        ],
        [
         "5",
         "20524",
         "201706",
         "HC",
         "VAJILLA",
         "Cristalino",
         "Importado",
         "500.0",
         null,
         "7.04113"
        ],
        [
         "6",
         "20524",
         "201707",
         "HC",
         "VAJILLA",
         "Cristalino",
         "Importado",
         "500.0",
         null,
         "5.92819"
        ],
        [
         "7",
         "20524",
         "201708",
         "HC",
         "VAJILLA",
         "Cristalino",
         "Importado",
         "500.0",
         null,
         "6.09476"
        ],
        [
         "8",
         "20524",
         "201709",
         "HC",
         "VAJILLA",
         "Cristalino",
         "Importado",
         "500.0",
         null,
         "7.2077"
        ],
        [
         "9",
         "20524",
         "201710",
         "HC",
         "VAJILLA",
         "Cristalino",
         "Importado",
         "500.0",
         null,
         "10.68287"
        ],
        [
         "10",
         "20524",
         "201711",
         "HC",
         "VAJILLA",
         "Cristalino",
         "Importado",
         "500.0",
         null,
         "7.82857"
        ],
        [
         "11",
         "20524",
         "201712",
         "HC",
         "VAJILLA",
         "Cristalino",
         "Importado",
         "500.0",
         null,
         "9.25196"
        ],
        [
         "12",
         "20524",
         "201801",
         "HC",
         "VAJILLA",
         "Cristalino",
         "Importado",
         "500.0",
         null,
         "7.132"
        ],
        [
         "13",
         "20524",
         "201802",
         "HC",
         "VAJILLA",
         "Cristalino",
         "Importado",
         "500.0",
         null,
         "8.33586"
        ],
        [
         "14",
         "20524",
         "201803",
         "HC",
         "VAJILLA",
         "Cristalino",
         "Importado",
         "500.0",
         null,
         "8.44937"
        ],
        [
         "15",
         "20524",
         "201804",
         "HC",
         "VAJILLA",
         "Cristalino",
         "Importado",
         "500.0",
         null,
         "7.60902"
        ],
        [
         "16",
         "20524",
         "201805",
         "HC",
         "VAJILLA",
         "Cristalino",
         "Importado",
         "500.0",
         null,
         "9.01727"
        ],
        [
         "17",
         "20524",
         "201806",
         "HC",
         "VAJILLA",
         "Cristalino",
         "Importado",
         "500.0",
         null,
         "7.76802"
        ],
        [
         "18",
         "20524",
         "201807",
         "HC",
         "VAJILLA",
         "Cristalino",
         "Importado",
         "500.0",
         null,
         "7.01084"
        ],
        [
         "19",
         "20524",
         "201808",
         "HC",
         "VAJILLA",
         "Cristalino",
         "Importado",
         "500.0",
         null,
         "9.11564"
        ],
        [
         "20",
         "20524",
         "201809",
         "HC",
         "VAJILLA",
         "Cristalino",
         "Importado",
         "500.0",
         null,
         "10.88731"
        ],
        [
         "21",
         "20524",
         "201810",
         "HC",
         "VAJILLA",
         "Cristalino",
         "Importado",
         "500.0",
         "1.61267",
         "9.69105"
        ],
        [
         "22",
         "20524",
         "201811",
         "HC",
         "VAJILLA",
         "Cristalino",
         "Importado",
         "500.0",
         "13.65087",
         "0.9388000000000001"
        ],
        [
         "23",
         "20524",
         "201812",
         "HC",
         "VAJILLA",
         "Cristalino",
         "Importado",
         "500.0",
         "31.68547",
         "11.71262"
        ],
        [
         "24",
         "20524",
         "201901",
         "HC",
         "VAJILLA",
         "Cristalino",
         "Importado",
         "500.0",
         "41.73245",
         "6.6399"
        ],
        [
         "25",
         "20524",
         "201902",
         "HC",
         "VAJILLA",
         "Cristalino",
         "Importado",
         "500.0",
         "31.70061",
         "6.41273"
        ],
        [
         "26",
         "20524",
         "201903",
         "HC",
         "VAJILLA",
         "Cristalino",
         "Importado",
         "500.0",
         "41.90659",
         "9.41094"
        ],
        [
         "27",
         "20524",
         "201904",
         "HC",
         "VAJILLA",
         "Cristalino",
         "Importado",
         "500.0",
         "33.29057",
         "7.54083"
        ],
        [
         "28",
         "20524",
         "201905",
         "HC",
         "VAJILLA",
         "Cristalino",
         "Importado",
         "500.0",
         "44.24609",
         "6.53386"
        ],
        [
         "29",
         "20524",
         "201906",
         "HC",
         "VAJILLA",
         "Cristalino",
         "Importado",
         "500.0",
         "36.12977",
         "6.65498"
        ],
        [
         "30",
         "20524",
         "201907",
         "HC",
         "VAJILLA",
         "Cristalino",
         "Importado",
         "500.0",
         "45.55591",
         "10.12256"
        ],
        [
         "31",
         "20524",
         "201908",
         "HC",
         "VAJILLA",
         "Cristalino",
         "Importado",
         "500.0",
         "55.45147",
         "7.30616"
        ],
        [
         "32",
         "20524",
         "201909",
         "HC",
         "VAJILLA",
         "Cristalino",
         "Importado",
         "500.0",
         "46.25246",
         "7.10931"
        ],
        [
         "33",
         "20524",
         "201910",
         "HC",
         "VAJILLA",
         "Cristalino",
         "Importado",
         "500.0",
         "38.08314",
         "8.71438"
        ],
        [
         "34",
         "20524",
         "201911",
         "HC",
         "VAJILLA",
         "Cristalino",
         "Importado",
         "500.0",
         "23.59943",
         "5.29974"
        ],
        [
         "35",
         "20524",
         "201912",
         "HC",
         "VAJILLA",
         "Cristalino",
         "Importado",
         "500.0",
         "19.76083",
         "3.37671"
        ],
        [
         "36",
         "20311",
         "201701",
         "HC",
         "VAJILLA",
         "Cristalino",
         "Importado",
         "1000.0",
         null,
         "19.27562"
        ],
        [
         "37",
         "20311",
         "201702",
         "HC",
         "VAJILLA",
         "Cristalino",
         "Importado",
         "1000.0",
         null,
         "5.01956"
        ],
        [
         "38",
         "20311",
         "201703",
         "HC",
         "VAJILLA",
         "Cristalino",
         "Importado",
         "1000.0",
         null,
         "26.6266"
        ],
        [
         "39",
         "20311",
         "201704",
         "HC",
         "VAJILLA",
         "Cristalino",
         "Importado",
         "1000.0",
         null,
         "19.44761"
        ],
        [
         "40",
         "20311",
         "201705",
         "HC",
         "VAJILLA",
         "Cristalino",
         "Importado",
         "1000.0",
         null,
         "27.46107"
        ],
        [
         "41",
         "20311",
         "201706",
         "HC",
         "VAJILLA",
         "Cristalino",
         "Importado",
         "1000.0",
         null,
         "18.1545"
        ],
        [
         "42",
         "20311",
         "201707",
         "HC",
         "VAJILLA",
         "Cristalino",
         "Importado",
         "1000.0",
         null,
         "9.69514"
        ],
        [
         "43",
         "20311",
         "201708",
         "HC",
         "VAJILLA",
         "Cristalino",
         "Importado",
         "1000.0",
         null,
         "17.61305"
        ],
        [
         "44",
         "20311",
         "201709",
         "HC",
         "VAJILLA",
         "Cristalino",
         "Importado",
         "1000.0",
         null,
         "22.30137"
        ],
        [
         "45",
         "20311",
         "201710",
         "HC",
         "VAJILLA",
         "Cristalino",
         "Importado",
         "1000.0",
         null,
         "25.93227"
        ],
        [
         "46",
         "20311",
         "201711",
         "HC",
         "VAJILLA",
         "Cristalino",
         "Importado",
         "1000.0",
         null,
         "23.23139"
        ],
        [
         "47",
         "20311",
         "201712",
         "HC",
         "VAJILLA",
         "Cristalino",
         "Importado",
         "1000.0",
         null,
         "14.479009999999999"
        ],
        [
         "48",
         "20311",
         "201801",
         "HC",
         "VAJILLA",
         "Cristalino",
         "Importado",
         "1000.0",
         null,
         "19.27562"
        ],
        [
         "49",
         "20311",
         "201802",
         "HC",
         "VAJILLA",
         "Cristalino",
         "Importado",
         "1000.0",
         null,
         "9.49767"
        ]
       ],
       "shape": {
        "columns": 9,
        "rows": 44388
       }
      },
      "text/html": [
       "<div>\n",
       "<style scoped>\n",
       "    .dataframe tbody tr th:only-of-type {\n",
       "        vertical-align: middle;\n",
       "    }\n",
       "\n",
       "    .dataframe tbody tr th {\n",
       "        vertical-align: top;\n",
       "    }\n",
       "\n",
       "    .dataframe thead th {\n",
       "        text-align: right;\n",
       "    }\n",
       "</style>\n",
       "<table border=\"1\" class=\"dataframe\">\n",
       "  <thead>\n",
       "    <tr style=\"text-align: right;\">\n",
       "      <th></th>\n",
       "      <th>product_id</th>\n",
       "      <th>periodo</th>\n",
       "      <th>cat1</th>\n",
       "      <th>cat2</th>\n",
       "      <th>cat3</th>\n",
       "      <th>brand</th>\n",
       "      <th>sku_size</th>\n",
       "      <th>stock_final</th>\n",
       "      <th>tn</th>\n",
       "    </tr>\n",
       "  </thead>\n",
       "  <tbody>\n",
       "    <tr>\n",
       "      <th>0</th>\n",
       "      <td>20524</td>\n",
       "      <td>201701</td>\n",
       "      <td>HC</td>\n",
       "      <td>VAJILLA</td>\n",
       "      <td>Cristalino</td>\n",
       "      <td>Importado</td>\n",
       "      <td>500.0</td>\n",
       "      <td>NaN</td>\n",
       "      <td>6.48085</td>\n",
       "    </tr>\n",
       "    <tr>\n",
       "      <th>1</th>\n",
       "      <td>20524</td>\n",
       "      <td>201702</td>\n",
       "      <td>HC</td>\n",
       "      <td>VAJILLA</td>\n",
       "      <td>Cristalino</td>\n",
       "      <td>Importado</td>\n",
       "      <td>500.0</td>\n",
       "      <td>NaN</td>\n",
       "      <td>3.99755</td>\n",
       "    </tr>\n",
       "    <tr>\n",
       "      <th>2</th>\n",
       "      <td>20524</td>\n",
       "      <td>201703</td>\n",
       "      <td>HC</td>\n",
       "      <td>VAJILLA</td>\n",
       "      <td>Cristalino</td>\n",
       "      <td>Importado</td>\n",
       "      <td>500.0</td>\n",
       "      <td>NaN</td>\n",
       "      <td>7.14711</td>\n",
       "    </tr>\n",
       "    <tr>\n",
       "      <th>3</th>\n",
       "      <td>20524</td>\n",
       "      <td>201704</td>\n",
       "      <td>HC</td>\n",
       "      <td>VAJILLA</td>\n",
       "      <td>Cristalino</td>\n",
       "      <td>Importado</td>\n",
       "      <td>500.0</td>\n",
       "      <td>NaN</td>\n",
       "      <td>6.82163</td>\n",
       "    </tr>\n",
       "    <tr>\n",
       "      <th>4</th>\n",
       "      <td>20524</td>\n",
       "      <td>201705</td>\n",
       "      <td>HC</td>\n",
       "      <td>VAJILLA</td>\n",
       "      <td>Cristalino</td>\n",
       "      <td>Importado</td>\n",
       "      <td>500.0</td>\n",
       "      <td>NaN</td>\n",
       "      <td>9.25949</td>\n",
       "    </tr>\n",
       "    <tr>\n",
       "      <th>...</th>\n",
       "      <td>...</td>\n",
       "      <td>...</td>\n",
       "      <td>...</td>\n",
       "      <td>...</td>\n",
       "      <td>...</td>\n",
       "      <td>...</td>\n",
       "      <td>...</td>\n",
       "      <td>...</td>\n",
       "      <td>...</td>\n",
       "    </tr>\n",
       "    <tr>\n",
       "      <th>44383</th>\n",
       "      <td>20770</td>\n",
       "      <td>201908</td>\n",
       "      <td>HC</td>\n",
       "      <td>PROFESIONAL</td>\n",
       "      <td>LV ROPA POLVO</td>\n",
       "      <td>INDUSTRIAL</td>\n",
       "      <td>25.0</td>\n",
       "      <td>NaN</td>\n",
       "      <td>0.00000</td>\n",
       "    </tr>\n",
       "    <tr>\n",
       "      <th>44384</th>\n",
       "      <td>20770</td>\n",
       "      <td>201909</td>\n",
       "      <td>HC</td>\n",
       "      <td>PROFESIONAL</td>\n",
       "      <td>LV ROPA POLVO</td>\n",
       "      <td>INDUSTRIAL</td>\n",
       "      <td>25.0</td>\n",
       "      <td>NaN</td>\n",
       "      <td>0.00000</td>\n",
       "    </tr>\n",
       "    <tr>\n",
       "      <th>44385</th>\n",
       "      <td>20770</td>\n",
       "      <td>201910</td>\n",
       "      <td>HC</td>\n",
       "      <td>PROFESIONAL</td>\n",
       "      <td>LV ROPA POLVO</td>\n",
       "      <td>INDUSTRIAL</td>\n",
       "      <td>25.0</td>\n",
       "      <td>NaN</td>\n",
       "      <td>0.00000</td>\n",
       "    </tr>\n",
       "    <tr>\n",
       "      <th>44386</th>\n",
       "      <td>20770</td>\n",
       "      <td>201911</td>\n",
       "      <td>HC</td>\n",
       "      <td>PROFESIONAL</td>\n",
       "      <td>LV ROPA POLVO</td>\n",
       "      <td>INDUSTRIAL</td>\n",
       "      <td>25.0</td>\n",
       "      <td>NaN</td>\n",
       "      <td>0.00000</td>\n",
       "    </tr>\n",
       "    <tr>\n",
       "      <th>44387</th>\n",
       "      <td>20770</td>\n",
       "      <td>201912</td>\n",
       "      <td>HC</td>\n",
       "      <td>PROFESIONAL</td>\n",
       "      <td>LV ROPA POLVO</td>\n",
       "      <td>INDUSTRIAL</td>\n",
       "      <td>25.0</td>\n",
       "      <td>9.53225</td>\n",
       "      <td>3.18500</td>\n",
       "    </tr>\n",
       "  </tbody>\n",
       "</table>\n",
       "<p>44388 rows × 9 columns</p>\n",
       "</div>"
      ],
      "text/plain": [
       "       product_id  periodo cat1         cat2           cat3       brand  \\\n",
       "0           20524   201701   HC      VAJILLA     Cristalino   Importado   \n",
       "1           20524   201702   HC      VAJILLA     Cristalino   Importado   \n",
       "2           20524   201703   HC      VAJILLA     Cristalino   Importado   \n",
       "3           20524   201704   HC      VAJILLA     Cristalino   Importado   \n",
       "4           20524   201705   HC      VAJILLA     Cristalino   Importado   \n",
       "...           ...      ...  ...          ...            ...         ...   \n",
       "44383       20770   201908   HC  PROFESIONAL  LV ROPA POLVO  INDUSTRIAL   \n",
       "44384       20770   201909   HC  PROFESIONAL  LV ROPA POLVO  INDUSTRIAL   \n",
       "44385       20770   201910   HC  PROFESIONAL  LV ROPA POLVO  INDUSTRIAL   \n",
       "44386       20770   201911   HC  PROFESIONAL  LV ROPA POLVO  INDUSTRIAL   \n",
       "44387       20770   201912   HC  PROFESIONAL  LV ROPA POLVO  INDUSTRIAL   \n",
       "\n",
       "       sku_size  stock_final       tn  \n",
       "0         500.0          NaN  6.48085  \n",
       "1         500.0          NaN  3.99755  \n",
       "2         500.0          NaN  7.14711  \n",
       "3         500.0          NaN  6.82163  \n",
       "4         500.0          NaN  9.25949  \n",
       "...         ...          ...      ...  \n",
       "44383      25.0          NaN  0.00000  \n",
       "44384      25.0          NaN  0.00000  \n",
       "44385      25.0          NaN  0.00000  \n",
       "44386      25.0          NaN  0.00000  \n",
       "44387      25.0      9.53225  3.18500  \n",
       "\n",
       "[44388 rows x 9 columns]"
      ]
     },
     "execution_count": 5,
     "metadata": {},
     "output_type": "execute_result"
    }
   ],
   "source": [
    "sellin = pd.read_csv(\"../../data/raw/sell-in.csv\", sep='\\t')\n",
    "# Agrupar ventas por periodo, cliente y producto\n",
    "dt = sellin.groupby(by=[\"periodo\",\"product_id\"]).agg({\"tn\":\"sum\"}).reset_index()\n",
    "df_completo = completo.merge(dt, how='left', on=['periodo', 'product_id'])\n",
    "df_completo['tn'] = df_completo['tn'].fillna(0)\n",
    "del sellin, dt, completo\n",
    "gc.collect()\n",
    "df_completo"
   ]
  },
  {
   "cell_type": "markdown",
   "id": "369b7902",
   "metadata": {},
   "source": [
    "##### Target"
   ]
  },
  {
   "cell_type": "code",
   "execution_count": 6,
   "id": "0014756d",
   "metadata": {},
   "outputs": [
    {
     "name": "stdout",
     "output_type": "stream",
     "text": [
      "✅ Target generado. Filas con target no nulo: 41922\n"
     ]
    }
   ],
   "source": [
    "# Asegurarte de tener 'periodo_dt' (datetime) en completo\n",
    "df_completo['periodo_dt'] = pd.to_datetime(df_completo['periodo'], format='%Y%m')\n",
    "\n",
    "# Crear DataFrame auxiliar con tn como target y fecha adelantada\n",
    "ventas_futuras = df_completo[['periodo_dt', 'product_id', 'tn']].copy()\n",
    "ventas_futuras['periodo_target_dt'] = ventas_futuras['periodo_dt'] - pd.DateOffset(months=2)\n",
    "ventas_futuras = ventas_futuras.rename(columns={'tn': 'target'})\n",
    "\n",
    "# Merge con completo usando periodo adelantado\n",
    "df_completo = df_completo.merge(\n",
    "    ventas_futuras[['periodo_target_dt', 'product_id', 'target']],\n",
    "    how='left',\n",
    "    left_on=['periodo_dt', 'product_id'],\n",
    "    right_on=['periodo_target_dt', 'product_id']\n",
    ")\n",
    "\n",
    "# Eliminar columna auxiliar\n",
    "df_completo = df_completo.drop(columns=['periodo_target_dt'])\n",
    "del ventas_futuras\n",
    "gc.collect()\n",
    "print(f\"✅ Target generado. Filas con target no nulo: {df_completo['target'].notna().sum()}\")"
   ]
  },
  {
   "cell_type": "code",
   "execution_count": 12,
   "id": "088100d7",
   "metadata": {},
   "outputs": [
    {
     "data": {
      "application/vnd.microsoft.datawrangler.viewer.v0+json": {
       "columns": [
        {
         "name": "index",
         "rawType": "int64",
         "type": "integer"
        },
        {
         "name": "product_id",
         "rawType": "int64",
         "type": "integer"
        },
        {
         "name": "periodo",
         "rawType": "int32",
         "type": "integer"
        },
        {
         "name": "cat1",
         "rawType": "object",
         "type": "unknown"
        },
        {
         "name": "cat2",
         "rawType": "object",
         "type": "unknown"
        },
        {
         "name": "cat3",
         "rawType": "object",
         "type": "unknown"
        },
        {
         "name": "brand",
         "rawType": "object",
         "type": "unknown"
        },
        {
         "name": "sku_size",
         "rawType": "float64",
         "type": "float"
        },
        {
         "name": "stock_final",
         "rawType": "float64",
         "type": "float"
        },
        {
         "name": "tn",
         "rawType": "float64",
         "type": "float"
        },
        {
         "name": "periodo_dt",
         "rawType": "datetime64[ns]",
         "type": "datetime"
        },
        {
         "name": "target",
         "rawType": "float64",
         "type": "float"
        }
       ],
       "ref": "e3ee6de0-1d24-4f0e-b087-06bd0bba9e6f",
       "rows": [
        [
         "0",
         "20524",
         "201701",
         "HC",
         "VAJILLA",
         "Cristalino",
         "Importado",
         "500.0",
         null,
         "6.48085",
         "2017-01-01 00:00:00",
         "7.14711"
        ],
        [
         "1",
         "20524",
         "201702",
         "HC",
         "VAJILLA",
         "Cristalino",
         "Importado",
         "500.0",
         null,
         "3.99755",
         "2017-02-01 00:00:00",
         "6.82163"
        ],
        [
         "2",
         "20524",
         "201703",
         "HC",
         "VAJILLA",
         "Cristalino",
         "Importado",
         "500.0",
         null,
         "7.14711",
         "2017-03-01 00:00:00",
         "9.25949"
        ],
        [
         "3",
         "20524",
         "201704",
         "HC",
         "VAJILLA",
         "Cristalino",
         "Importado",
         "500.0",
         null,
         "6.82163",
         "2017-04-01 00:00:00",
         "7.04113"
        ],
        [
         "4",
         "20524",
         "201705",
         "HC",
         "VAJILLA",
         "Cristalino",
         "Importado",
         "500.0",
         null,
         "9.25949",
         "2017-05-01 00:00:00",
         "5.92819"
        ],
        [
         "5",
         "20524",
         "201706",
         "HC",
         "VAJILLA",
         "Cristalino",
         "Importado",
         "500.0",
         null,
         "7.04113",
         "2017-06-01 00:00:00",
         "6.09476"
        ],
        [
         "6",
         "20524",
         "201707",
         "HC",
         "VAJILLA",
         "Cristalino",
         "Importado",
         "500.0",
         null,
         "5.92819",
         "2017-07-01 00:00:00",
         "7.2077"
        ],
        [
         "7",
         "20524",
         "201708",
         "HC",
         "VAJILLA",
         "Cristalino",
         "Importado",
         "500.0",
         null,
         "6.09476",
         "2017-08-01 00:00:00",
         "10.68287"
        ],
        [
         "8",
         "20524",
         "201709",
         "HC",
         "VAJILLA",
         "Cristalino",
         "Importado",
         "500.0",
         null,
         "7.2077",
         "2017-09-01 00:00:00",
         "7.82857"
        ],
        [
         "9",
         "20524",
         "201710",
         "HC",
         "VAJILLA",
         "Cristalino",
         "Importado",
         "500.0",
         null,
         "10.68287",
         "2017-10-01 00:00:00",
         "9.25196"
        ],
        [
         "10",
         "20524",
         "201711",
         "HC",
         "VAJILLA",
         "Cristalino",
         "Importado",
         "500.0",
         null,
         "7.82857",
         "2017-11-01 00:00:00",
         "7.132"
        ],
        [
         "11",
         "20524",
         "201712",
         "HC",
         "VAJILLA",
         "Cristalino",
         "Importado",
         "500.0",
         null,
         "9.25196",
         "2017-12-01 00:00:00",
         "8.33586"
        ],
        [
         "12",
         "20524",
         "201801",
         "HC",
         "VAJILLA",
         "Cristalino",
         "Importado",
         "500.0",
         null,
         "7.132",
         "2018-01-01 00:00:00",
         "8.44937"
        ],
        [
         "13",
         "20524",
         "201802",
         "HC",
         "VAJILLA",
         "Cristalino",
         "Importado",
         "500.0",
         null,
         "8.33586",
         "2018-02-01 00:00:00",
         "7.60902"
        ],
        [
         "14",
         "20524",
         "201803",
         "HC",
         "VAJILLA",
         "Cristalino",
         "Importado",
         "500.0",
         null,
         "8.44937",
         "2018-03-01 00:00:00",
         "9.01727"
        ],
        [
         "15",
         "20524",
         "201804",
         "HC",
         "VAJILLA",
         "Cristalino",
         "Importado",
         "500.0",
         null,
         "7.60902",
         "2018-04-01 00:00:00",
         "7.76802"
        ],
        [
         "16",
         "20524",
         "201805",
         "HC",
         "VAJILLA",
         "Cristalino",
         "Importado",
         "500.0",
         null,
         "9.01727",
         "2018-05-01 00:00:00",
         "7.01084"
        ],
        [
         "17",
         "20524",
         "201806",
         "HC",
         "VAJILLA",
         "Cristalino",
         "Importado",
         "500.0",
         null,
         "7.76802",
         "2018-06-01 00:00:00",
         "9.11564"
        ],
        [
         "18",
         "20524",
         "201807",
         "HC",
         "VAJILLA",
         "Cristalino",
         "Importado",
         "500.0",
         null,
         "7.01084",
         "2018-07-01 00:00:00",
         "10.88731"
        ],
        [
         "19",
         "20524",
         "201808",
         "HC",
         "VAJILLA",
         "Cristalino",
         "Importado",
         "500.0",
         null,
         "9.11564",
         "2018-08-01 00:00:00",
         "9.69105"
        ],
        [
         "20",
         "20524",
         "201809",
         "HC",
         "VAJILLA",
         "Cristalino",
         "Importado",
         "500.0",
         null,
         "10.88731",
         "2018-09-01 00:00:00",
         "0.9388000000000001"
        ],
        [
         "21",
         "20524",
         "201810",
         "HC",
         "VAJILLA",
         "Cristalino",
         "Importado",
         "500.0",
         "1.61267",
         "9.69105",
         "2018-10-01 00:00:00",
         "11.71262"
        ],
        [
         "22",
         "20524",
         "201811",
         "HC",
         "VAJILLA",
         "Cristalino",
         "Importado",
         "500.0",
         "13.65087",
         "0.9388000000000001",
         "2018-11-01 00:00:00",
         "6.6399"
        ],
        [
         "23",
         "20524",
         "201812",
         "HC",
         "VAJILLA",
         "Cristalino",
         "Importado",
         "500.0",
         "31.68547",
         "11.71262",
         "2018-12-01 00:00:00",
         "6.41273"
        ],
        [
         "24",
         "20524",
         "201901",
         "HC",
         "VAJILLA",
         "Cristalino",
         "Importado",
         "500.0",
         "41.73245",
         "6.6399",
         "2019-01-01 00:00:00",
         "9.41094"
        ],
        [
         "25",
         "20524",
         "201902",
         "HC",
         "VAJILLA",
         "Cristalino",
         "Importado",
         "500.0",
         "31.70061",
         "6.41273",
         "2019-02-01 00:00:00",
         "7.54083"
        ],
        [
         "26",
         "20524",
         "201903",
         "HC",
         "VAJILLA",
         "Cristalino",
         "Importado",
         "500.0",
         "41.90659",
         "9.41094",
         "2019-03-01 00:00:00",
         "6.53386"
        ],
        [
         "27",
         "20524",
         "201904",
         "HC",
         "VAJILLA",
         "Cristalino",
         "Importado",
         "500.0",
         "33.29057",
         "7.54083",
         "2019-04-01 00:00:00",
         "6.65498"
        ],
        [
         "28",
         "20524",
         "201905",
         "HC",
         "VAJILLA",
         "Cristalino",
         "Importado",
         "500.0",
         "44.24609",
         "6.53386",
         "2019-05-01 00:00:00",
         "10.12256"
        ],
        [
         "29",
         "20524",
         "201906",
         "HC",
         "VAJILLA",
         "Cristalino",
         "Importado",
         "500.0",
         "36.12977",
         "6.65498",
         "2019-06-01 00:00:00",
         "7.30616"
        ],
        [
         "30",
         "20524",
         "201907",
         "HC",
         "VAJILLA",
         "Cristalino",
         "Importado",
         "500.0",
         "45.55591",
         "10.12256",
         "2019-07-01 00:00:00",
         "7.10931"
        ],
        [
         "31",
         "20524",
         "201908",
         "HC",
         "VAJILLA",
         "Cristalino",
         "Importado",
         "500.0",
         "55.45147",
         "7.30616",
         "2019-08-01 00:00:00",
         "8.71438"
        ],
        [
         "32",
         "20524",
         "201909",
         "HC",
         "VAJILLA",
         "Cristalino",
         "Importado",
         "500.0",
         "46.25246",
         "7.10931",
         "2019-09-01 00:00:00",
         "5.29974"
        ],
        [
         "33",
         "20524",
         "201910",
         "HC",
         "VAJILLA",
         "Cristalino",
         "Importado",
         "500.0",
         "38.08314",
         "8.71438",
         "2019-10-01 00:00:00",
         "3.37671"
        ],
        [
         "34",
         "20524",
         "201911",
         "HC",
         "VAJILLA",
         "Cristalino",
         "Importado",
         "500.0",
         "23.59943",
         "5.29974",
         "2019-11-01 00:00:00",
         null
        ],
        [
         "35",
         "20524",
         "201912",
         "HC",
         "VAJILLA",
         "Cristalino",
         "Importado",
         "500.0",
         "19.76083",
         "3.37671",
         "2019-12-01 00:00:00",
         null
        ],
        [
         "36",
         "20311",
         "201701",
         "HC",
         "VAJILLA",
         "Cristalino",
         "Importado",
         "1000.0",
         null,
         "19.27562",
         "2017-01-01 00:00:00",
         "26.6266"
        ],
        [
         "37",
         "20311",
         "201702",
         "HC",
         "VAJILLA",
         "Cristalino",
         "Importado",
         "1000.0",
         null,
         "5.01956",
         "2017-02-01 00:00:00",
         "19.44761"
        ],
        [
         "38",
         "20311",
         "201703",
         "HC",
         "VAJILLA",
         "Cristalino",
         "Importado",
         "1000.0",
         null,
         "26.6266",
         "2017-03-01 00:00:00",
         "27.46107"
        ],
        [
         "39",
         "20311",
         "201704",
         "HC",
         "VAJILLA",
         "Cristalino",
         "Importado",
         "1000.0",
         null,
         "19.44761",
         "2017-04-01 00:00:00",
         "18.1545"
        ],
        [
         "40",
         "20311",
         "201705",
         "HC",
         "VAJILLA",
         "Cristalino",
         "Importado",
         "1000.0",
         null,
         "27.46107",
         "2017-05-01 00:00:00",
         "9.69514"
        ],
        [
         "41",
         "20311",
         "201706",
         "HC",
         "VAJILLA",
         "Cristalino",
         "Importado",
         "1000.0",
         null,
         "18.1545",
         "2017-06-01 00:00:00",
         "17.61305"
        ],
        [
         "42",
         "20311",
         "201707",
         "HC",
         "VAJILLA",
         "Cristalino",
         "Importado",
         "1000.0",
         null,
         "9.69514",
         "2017-07-01 00:00:00",
         "22.30137"
        ],
        [
         "43",
         "20311",
         "201708",
         "HC",
         "VAJILLA",
         "Cristalino",
         "Importado",
         "1000.0",
         null,
         "17.61305",
         "2017-08-01 00:00:00",
         "25.93227"
        ],
        [
         "44",
         "20311",
         "201709",
         "HC",
         "VAJILLA",
         "Cristalino",
         "Importado",
         "1000.0",
         null,
         "22.30137",
         "2017-09-01 00:00:00",
         "23.23139"
        ],
        [
         "45",
         "20311",
         "201710",
         "HC",
         "VAJILLA",
         "Cristalino",
         "Importado",
         "1000.0",
         null,
         "25.93227",
         "2017-10-01 00:00:00",
         "14.479009999999999"
        ],
        [
         "46",
         "20311",
         "201711",
         "HC",
         "VAJILLA",
         "Cristalino",
         "Importado",
         "1000.0",
         null,
         "23.23139",
         "2017-11-01 00:00:00",
         "19.27562"
        ],
        [
         "47",
         "20311",
         "201712",
         "HC",
         "VAJILLA",
         "Cristalino",
         "Importado",
         "1000.0",
         null,
         "14.479009999999999",
         "2017-12-01 00:00:00",
         "9.49767"
        ],
        [
         "48",
         "20311",
         "201801",
         "HC",
         "VAJILLA",
         "Cristalino",
         "Importado",
         "1000.0",
         null,
         "19.27562",
         "2018-01-01 00:00:00",
         "38.0289"
        ],
        [
         "49",
         "20311",
         "201802",
         "HC",
         "VAJILLA",
         "Cristalino",
         "Importado",
         "1000.0",
         null,
         "9.49767",
         "2018-02-01 00:00:00",
         "18.51759"
        ]
       ],
       "shape": {
        "columns": 11,
        "rows": 44388
       }
      },
      "text/html": [
       "<div>\n",
       "<style scoped>\n",
       "    .dataframe tbody tr th:only-of-type {\n",
       "        vertical-align: middle;\n",
       "    }\n",
       "\n",
       "    .dataframe tbody tr th {\n",
       "        vertical-align: top;\n",
       "    }\n",
       "\n",
       "    .dataframe thead th {\n",
       "        text-align: right;\n",
       "    }\n",
       "</style>\n",
       "<table border=\"1\" class=\"dataframe\">\n",
       "  <thead>\n",
       "    <tr style=\"text-align: right;\">\n",
       "      <th></th>\n",
       "      <th>product_id</th>\n",
       "      <th>periodo</th>\n",
       "      <th>cat1</th>\n",
       "      <th>cat2</th>\n",
       "      <th>cat3</th>\n",
       "      <th>brand</th>\n",
       "      <th>sku_size</th>\n",
       "      <th>stock_final</th>\n",
       "      <th>tn</th>\n",
       "      <th>periodo_dt</th>\n",
       "      <th>target</th>\n",
       "    </tr>\n",
       "  </thead>\n",
       "  <tbody>\n",
       "    <tr>\n",
       "      <th>0</th>\n",
       "      <td>20524</td>\n",
       "      <td>201701</td>\n",
       "      <td>HC</td>\n",
       "      <td>VAJILLA</td>\n",
       "      <td>Cristalino</td>\n",
       "      <td>Importado</td>\n",
       "      <td>500.0</td>\n",
       "      <td>NaN</td>\n",
       "      <td>6.48085</td>\n",
       "      <td>2017-01-01</td>\n",
       "      <td>7.14711</td>\n",
       "    </tr>\n",
       "    <tr>\n",
       "      <th>1</th>\n",
       "      <td>20524</td>\n",
       "      <td>201702</td>\n",
       "      <td>HC</td>\n",
       "      <td>VAJILLA</td>\n",
       "      <td>Cristalino</td>\n",
       "      <td>Importado</td>\n",
       "      <td>500.0</td>\n",
       "      <td>NaN</td>\n",
       "      <td>3.99755</td>\n",
       "      <td>2017-02-01</td>\n",
       "      <td>6.82163</td>\n",
       "    </tr>\n",
       "    <tr>\n",
       "      <th>2</th>\n",
       "      <td>20524</td>\n",
       "      <td>201703</td>\n",
       "      <td>HC</td>\n",
       "      <td>VAJILLA</td>\n",
       "      <td>Cristalino</td>\n",
       "      <td>Importado</td>\n",
       "      <td>500.0</td>\n",
       "      <td>NaN</td>\n",
       "      <td>7.14711</td>\n",
       "      <td>2017-03-01</td>\n",
       "      <td>9.25949</td>\n",
       "    </tr>\n",
       "    <tr>\n",
       "      <th>3</th>\n",
       "      <td>20524</td>\n",
       "      <td>201704</td>\n",
       "      <td>HC</td>\n",
       "      <td>VAJILLA</td>\n",
       "      <td>Cristalino</td>\n",
       "      <td>Importado</td>\n",
       "      <td>500.0</td>\n",
       "      <td>NaN</td>\n",
       "      <td>6.82163</td>\n",
       "      <td>2017-04-01</td>\n",
       "      <td>7.04113</td>\n",
       "    </tr>\n",
       "    <tr>\n",
       "      <th>4</th>\n",
       "      <td>20524</td>\n",
       "      <td>201705</td>\n",
       "      <td>HC</td>\n",
       "      <td>VAJILLA</td>\n",
       "      <td>Cristalino</td>\n",
       "      <td>Importado</td>\n",
       "      <td>500.0</td>\n",
       "      <td>NaN</td>\n",
       "      <td>9.25949</td>\n",
       "      <td>2017-05-01</td>\n",
       "      <td>5.92819</td>\n",
       "    </tr>\n",
       "    <tr>\n",
       "      <th>...</th>\n",
       "      <td>...</td>\n",
       "      <td>...</td>\n",
       "      <td>...</td>\n",
       "      <td>...</td>\n",
       "      <td>...</td>\n",
       "      <td>...</td>\n",
       "      <td>...</td>\n",
       "      <td>...</td>\n",
       "      <td>...</td>\n",
       "      <td>...</td>\n",
       "      <td>...</td>\n",
       "    </tr>\n",
       "    <tr>\n",
       "      <th>44383</th>\n",
       "      <td>20770</td>\n",
       "      <td>201908</td>\n",
       "      <td>HC</td>\n",
       "      <td>PROFESIONAL</td>\n",
       "      <td>LV ROPA POLVO</td>\n",
       "      <td>INDUSTRIAL</td>\n",
       "      <td>25.0</td>\n",
       "      <td>NaN</td>\n",
       "      <td>0.00000</td>\n",
       "      <td>2019-08-01</td>\n",
       "      <td>0.00000</td>\n",
       "    </tr>\n",
       "    <tr>\n",
       "      <th>44384</th>\n",
       "      <td>20770</td>\n",
       "      <td>201909</td>\n",
       "      <td>HC</td>\n",
       "      <td>PROFESIONAL</td>\n",
       "      <td>LV ROPA POLVO</td>\n",
       "      <td>INDUSTRIAL</td>\n",
       "      <td>25.0</td>\n",
       "      <td>NaN</td>\n",
       "      <td>0.00000</td>\n",
       "      <td>2019-09-01</td>\n",
       "      <td>0.00000</td>\n",
       "    </tr>\n",
       "    <tr>\n",
       "      <th>44385</th>\n",
       "      <td>20770</td>\n",
       "      <td>201910</td>\n",
       "      <td>HC</td>\n",
       "      <td>PROFESIONAL</td>\n",
       "      <td>LV ROPA POLVO</td>\n",
       "      <td>INDUSTRIAL</td>\n",
       "      <td>25.0</td>\n",
       "      <td>NaN</td>\n",
       "      <td>0.00000</td>\n",
       "      <td>2019-10-01</td>\n",
       "      <td>3.18500</td>\n",
       "    </tr>\n",
       "    <tr>\n",
       "      <th>44386</th>\n",
       "      <td>20770</td>\n",
       "      <td>201911</td>\n",
       "      <td>HC</td>\n",
       "      <td>PROFESIONAL</td>\n",
       "      <td>LV ROPA POLVO</td>\n",
       "      <td>INDUSTRIAL</td>\n",
       "      <td>25.0</td>\n",
       "      <td>NaN</td>\n",
       "      <td>0.00000</td>\n",
       "      <td>2019-11-01</td>\n",
       "      <td>NaN</td>\n",
       "    </tr>\n",
       "    <tr>\n",
       "      <th>44387</th>\n",
       "      <td>20770</td>\n",
       "      <td>201912</td>\n",
       "      <td>HC</td>\n",
       "      <td>PROFESIONAL</td>\n",
       "      <td>LV ROPA POLVO</td>\n",
       "      <td>INDUSTRIAL</td>\n",
       "      <td>25.0</td>\n",
       "      <td>9.53225</td>\n",
       "      <td>3.18500</td>\n",
       "      <td>2019-12-01</td>\n",
       "      <td>NaN</td>\n",
       "    </tr>\n",
       "  </tbody>\n",
       "</table>\n",
       "<p>44388 rows × 11 columns</p>\n",
       "</div>"
      ],
      "text/plain": [
       "       product_id  periodo cat1         cat2           cat3       brand  \\\n",
       "0           20524   201701   HC      VAJILLA     Cristalino   Importado   \n",
       "1           20524   201702   HC      VAJILLA     Cristalino   Importado   \n",
       "2           20524   201703   HC      VAJILLA     Cristalino   Importado   \n",
       "3           20524   201704   HC      VAJILLA     Cristalino   Importado   \n",
       "4           20524   201705   HC      VAJILLA     Cristalino   Importado   \n",
       "...           ...      ...  ...          ...            ...         ...   \n",
       "44383       20770   201908   HC  PROFESIONAL  LV ROPA POLVO  INDUSTRIAL   \n",
       "44384       20770   201909   HC  PROFESIONAL  LV ROPA POLVO  INDUSTRIAL   \n",
       "44385       20770   201910   HC  PROFESIONAL  LV ROPA POLVO  INDUSTRIAL   \n",
       "44386       20770   201911   HC  PROFESIONAL  LV ROPA POLVO  INDUSTRIAL   \n",
       "44387       20770   201912   HC  PROFESIONAL  LV ROPA POLVO  INDUSTRIAL   \n",
       "\n",
       "       sku_size  stock_final       tn periodo_dt   target  \n",
       "0         500.0          NaN  6.48085 2017-01-01  7.14711  \n",
       "1         500.0          NaN  3.99755 2017-02-01  6.82163  \n",
       "2         500.0          NaN  7.14711 2017-03-01  9.25949  \n",
       "3         500.0          NaN  6.82163 2017-04-01  7.04113  \n",
       "4         500.0          NaN  9.25949 2017-05-01  5.92819  \n",
       "...         ...          ...      ...        ...      ...  \n",
       "44383      25.0          NaN  0.00000 2019-08-01  0.00000  \n",
       "44384      25.0          NaN  0.00000 2019-09-01  0.00000  \n",
       "44385      25.0          NaN  0.00000 2019-10-01  3.18500  \n",
       "44386      25.0          NaN  0.00000 2019-11-01      NaN  \n",
       "44387      25.0      9.53225  3.18500 2019-12-01      NaN  \n",
       "\n",
       "[44388 rows x 11 columns]"
      ]
     },
     "execution_count": 12,
     "metadata": {},
     "output_type": "execute_result"
    }
   ],
   "source": [
    "df_completo"
   ]
  },
  {
   "cell_type": "markdown",
   "id": "84ccd7d4",
   "metadata": {},
   "source": [
    "##### Verifico las NaN en el target: Existen porque hay clientes que solo compraron 2 veces."
   ]
  },
  {
   "cell_type": "code",
   "execution_count": 13,
   "id": "dc56e92e",
   "metadata": {},
   "outputs": [
    {
     "name": "stdout",
     "output_type": "stream",
     "text": [
      "🔍 Total de NaN en target: 2466\n"
     ]
    },
    {
     "data": {
      "text/plain": [
       "49"
      ]
     },
     "execution_count": 13,
     "metadata": {},
     "output_type": "execute_result"
    }
   ],
   "source": [
    "nan_count = df_completo['target'].isna().sum()\n",
    "print(f\"🔍 Total de NaN en target: {nan_count}\")\n",
    "del nan_count\n",
    "gc.collect()"
   ]
  },
  {
   "cell_type": "markdown",
   "id": "c8ef2f1f",
   "metadata": {},
   "source": [
    "##### Generación de IDs"
   ]
  },
  {
   "cell_type": "code",
   "execution_count": 7,
   "id": "f50ec128",
   "metadata": {},
   "outputs": [],
   "source": [
    "df_completo = df_completo.sort_values(['periodo', 'product_id'])\n",
    "df_completo['id'] = df_completo.groupby(['product_id']).cumcount() + 1"
   ]
  },
  {
   "cell_type": "markdown",
   "id": "bdc4f661",
   "metadata": {},
   "source": [
    "##### Periodo "
   ]
  },
  {
   "cell_type": "code",
   "execution_count": 8,
   "id": "a11e6652",
   "metadata": {},
   "outputs": [],
   "source": [
    "df_completo[\"periodo_dt\"] = pd.to_datetime(df_completo[\"periodo\"].astype(str), format=\"%Y%m\")"
   ]
  },
  {
   "cell_type": "markdown",
   "id": "2d03316f",
   "metadata": {},
   "source": [
    "##### Eliminar productos que no nacieron"
   ]
  },
  {
   "cell_type": "code",
   "execution_count": 9,
   "id": "65875648",
   "metadata": {},
   "outputs": [
    {
     "name": "stdout",
     "output_type": "stream",
     "text": [
      "✅ Dataset filtrado con 35,888 filas.\n"
     ]
    }
   ],
   "source": [
    "nacimiento_producto = df.groupby(\"product_id\")[\"periodo_dt\"].agg([\"min\"]).reset_index()\n",
    "# Renombrar columna max a muerte_cliente_dt\n",
    "nacimiento_producto = nacimiento_producto.rename(columns={'min': 'nacimiento_producto'})\n",
    "\n",
    "\n",
    "# Unir con df_final para traer fecha de muerte del cliente\n",
    "df_completo = df_completo.merge(nacimiento_producto, on='product_id', how='left')\n",
    "\n",
    "# Filtrar filas donde periodo_dt > muerte_cliente_dt\n",
    "df_completo = df_completo[df_completo['periodo_dt'] >= df_completo['nacimiento_producto']]\n",
    "\n",
    "# Opcional: eliminar columna auxiliar\n",
    "# df_final = df_final.drop(columns=['muerte_cliente_dt'])\n",
    "del nacimiento_producto\n",
    "gc.collect()\n",
    "print(f\"✅ Dataset filtrado con {len(df_completo):,} filas.\")"
   ]
  },
  {
   "cell_type": "markdown",
   "id": "355eafc0",
   "metadata": {},
   "source": [
    "##### Correlograma"
   ]
  },
  {
   "cell_type": "code",
   "execution_count": 10,
   "id": "6c30b0a6",
   "metadata": {},
   "outputs": [
    {
     "name": "stdout",
     "output_type": "stream",
     "text": [
      "   Variable 1 Variable 2  Correlación\n",
      "10    periodo         id     0.955974\n",
      "18         tn     target     0.930409\n"
     ]
    },
    {
     "data": {
      "text/plain": [
       "0"
      ]
     },
     "execution_count": 10,
     "metadata": {},
     "output_type": "execute_result"
    }
   ],
   "source": [
    "# Supongamos que tu DataFrame se llama df\n",
    "cor_matrix = df_completo.corr(numeric_only=True)\n",
    "\n",
    "# Tomamos solo la parte superior de la matriz (sin la diagonal)\n",
    "upper = cor_matrix.where(np.triu(np.ones(cor_matrix.shape), k=1).astype(bool))\n",
    "\n",
    "# Filtramos correlaciones fuertes (valor absoluto mayor a 0.7)\n",
    "high_corr = upper.stack().reset_index()\n",
    "high_corr.columns = ['Variable 1', 'Variable 2', 'Correlación']\n",
    "high_corr_filtrada = high_corr[high_corr['Correlación'].abs() > 0.7]\n",
    "\n",
    "print(high_corr_filtrada)\n",
    "\n",
    "del high_corr_filtrada, cor_matrix, upper, high_corr\n",
    "gc.collect()"
   ]
  },
  {
   "cell_type": "markdown",
   "id": "bfbbb5e8",
   "metadata": {},
   "source": [
    "##### Elimino variables muy correlacionadas"
   ]
  },
  {
   "cell_type": "code",
   "execution_count": 11,
   "id": "661360a8",
   "metadata": {},
   "outputs": [],
   "source": [
    "df_completo.drop(columns=['periodo'], inplace=True)"
   ]
  },
  {
   "cell_type": "markdown",
   "id": "aae033dc",
   "metadata": {},
   "source": [
    "##### Extracción de componentes temporales"
   ]
  },
  {
   "cell_type": "code",
   "execution_count": 12,
   "id": "967989f0",
   "metadata": {},
   "outputs": [],
   "source": [
    "df_completo['year'] = df_completo['periodo_dt'].dt.year\n",
    "df_completo['month'] = df_completo['periodo_dt'].dt.month\n",
    "# Variables dummy estacionales\n",
    "df_completo['quarter'] = df_completo['periodo_dt'].dt.quarter\n",
    "df_completo['semester'] = np.where(df_completo['month'] <= 6, 1, 2)\n",
    "# Efectos de fin de año\n",
    "df_completo['year_end'] = np.where(df_completo['month'].isin([11, 12]), 1, 0)\n",
    "df_completo['year_start'] = np.where(df_completo['month'].isin([1, 2]), 1, 0)\n",
    "# Indicadores estacionales\n",
    "df_completo['season'] = df_completo['month'] % 12 // 3 + 1  # 1:Invierno, 2:Primavera, etc.\n",
    "# Variables cíclicas (para capturar patrones estacionales)\n",
    "df_completo['month_sin'] = np.sin(2 * np.pi * df_completo['month']/12)\n",
    "df_completo['month_cos'] = np.cos(2 * np.pi * df_completo['month']/12)"
   ]
  },
  {
   "cell_type": "markdown",
   "id": "fefc60c1",
   "metadata": {},
   "source": [
    "#####  Lags, diferencias, medias móviles y otras yerbas"
   ]
  },
  {
   "cell_type": "code",
   "execution_count": 13,
   "id": "2405d79c",
   "metadata": {},
   "outputs": [
    {
     "name": "stderr",
     "output_type": "stream",
     "text": [
      "C:\\Users\\Usuario\\AppData\\Local\\Temp\\ipykernel_10680\\3144824403.py:14: FutureWarning: The default fill_method='pad' in Series.pct_change is deprecated and will be removed in a future version. Either fill in any non-leading NA values prior to calling pct_change or specify 'fill_method=None' to not fill NA values.\n",
      "  df_completo[f'pct_change_{i}'] = df_completo['target'].pct_change(i)\n",
      "C:\\Users\\Usuario\\AppData\\Local\\Temp\\ipykernel_10680\\3144824403.py:14: FutureWarning: The default fill_method='pad' in Series.pct_change is deprecated and will be removed in a future version. Either fill in any non-leading NA values prior to calling pct_change or specify 'fill_method=None' to not fill NA values.\n",
      "  df_completo[f'pct_change_{i}'] = df_completo['target'].pct_change(i)\n",
      "C:\\Users\\Usuario\\AppData\\Local\\Temp\\ipykernel_10680\\3144824403.py:14: FutureWarning: The default fill_method='pad' in Series.pct_change is deprecated and will be removed in a future version. Either fill in any non-leading NA values prior to calling pct_change or specify 'fill_method=None' to not fill NA values.\n",
      "  df_completo[f'pct_change_{i}'] = df_completo['target'].pct_change(i)\n",
      "C:\\Users\\Usuario\\AppData\\Local\\Temp\\ipykernel_10680\\3144824403.py:14: FutureWarning: The default fill_method='pad' in Series.pct_change is deprecated and will be removed in a future version. Either fill in any non-leading NA values prior to calling pct_change or specify 'fill_method=None' to not fill NA values.\n",
      "  df_completo[f'pct_change_{i}'] = df_completo['target'].pct_change(i)\n",
      "C:\\Users\\Usuario\\AppData\\Local\\Temp\\ipykernel_10680\\3144824403.py:14: FutureWarning: The default fill_method='pad' in Series.pct_change is deprecated and will be removed in a future version. Either fill in any non-leading NA values prior to calling pct_change or specify 'fill_method=None' to not fill NA values.\n",
      "  df_completo[f'pct_change_{i}'] = df_completo['target'].pct_change(i)\n",
      "C:\\Users\\Usuario\\AppData\\Local\\Temp\\ipykernel_10680\\3144824403.py:14: FutureWarning: The default fill_method='pad' in Series.pct_change is deprecated and will be removed in a future version. Either fill in any non-leading NA values prior to calling pct_change or specify 'fill_method=None' to not fill NA values.\n",
      "  df_completo[f'pct_change_{i}'] = df_completo['target'].pct_change(i)\n",
      "C:\\Users\\Usuario\\AppData\\Local\\Temp\\ipykernel_10680\\3144824403.py:14: FutureWarning: The default fill_method='pad' in Series.pct_change is deprecated and will be removed in a future version. Either fill in any non-leading NA values prior to calling pct_change or specify 'fill_method=None' to not fill NA values.\n",
      "  df_completo[f'pct_change_{i}'] = df_completo['target'].pct_change(i)\n",
      "C:\\Users\\Usuario\\AppData\\Local\\Temp\\ipykernel_10680\\3144824403.py:14: FutureWarning: The default fill_method='pad' in Series.pct_change is deprecated and will be removed in a future version. Either fill in any non-leading NA values prior to calling pct_change or specify 'fill_method=None' to not fill NA values.\n",
      "  df_completo[f'pct_change_{i}'] = df_completo['target'].pct_change(i)\n",
      "C:\\Users\\Usuario\\AppData\\Local\\Temp\\ipykernel_10680\\3144824403.py:14: FutureWarning: The default fill_method='pad' in Series.pct_change is deprecated and will be removed in a future version. Either fill in any non-leading NA values prior to calling pct_change or specify 'fill_method=None' to not fill NA values.\n",
      "  df_completo[f'pct_change_{i}'] = df_completo['target'].pct_change(i)\n",
      "C:\\Users\\Usuario\\AppData\\Local\\Temp\\ipykernel_10680\\3144824403.py:14: FutureWarning: The default fill_method='pad' in Series.pct_change is deprecated and will be removed in a future version. Either fill in any non-leading NA values prior to calling pct_change or specify 'fill_method=None' to not fill NA values.\n",
      "  df_completo[f'pct_change_{i}'] = df_completo['target'].pct_change(i)\n",
      "C:\\Users\\Usuario\\AppData\\Local\\Temp\\ipykernel_10680\\3144824403.py:14: FutureWarning: The default fill_method='pad' in Series.pct_change is deprecated and will be removed in a future version. Either fill in any non-leading NA values prior to calling pct_change or specify 'fill_method=None' to not fill NA values.\n",
      "  df_completo[f'pct_change_{i}'] = df_completo['target'].pct_change(i)\n",
      "C:\\Users\\Usuario\\AppData\\Local\\Temp\\ipykernel_10680\\3144824403.py:14: FutureWarning: The default fill_method='pad' in Series.pct_change is deprecated and will be removed in a future version. Either fill in any non-leading NA values prior to calling pct_change or specify 'fill_method=None' to not fill NA values.\n",
      "  df_completo[f'pct_change_{i}'] = df_completo['target'].pct_change(i)\n"
     ]
    }
   ],
   "source": [
    "# Ordenamos por fecha para asegurar consistencia\n",
    "df_completo = df_completo.sort_values('periodo_dt')\n",
    "\n",
    "## 1. Lags (rezagos) de 1 a 12 meses\n",
    "for i in range(1, 15):\n",
    "    df_completo[f'lag_{i}'] = df_completo['target'].shift(i)\n",
    "\n",
    "## 2. Diferencias (deltas) - cambio respecto al mes anterior\n",
    "for i in range(1, 13):\n",
    "    df_completo[f'delta_{i}'] = df_completo['target'].diff(i)\n",
    "\n",
    "## 3. Diferencias porcentuales\n",
    "for i in range(1, 13):\n",
    "    df_completo[f'pct_change_{i}'] = df_completo['target'].pct_change(i)\n",
    "\n",
    "## 4. Medias móviles (promedios móviles)\n",
    "windows = [2, 3, 6, 9, 12]  # También puedes incluir [2,4,5,7] según necesidad\n",
    "for w in windows:\n",
    "    df_completo[f'rolling_mean_{w}'] = df_completo['target'].rolling(window=w, min_periods=1).mean()\n",
    "    df_completo[f'rolling_std_{w}'] = df_completo['target'].rolling(window=w, min_periods=1).std()\n",
    "    df_completo[f'rolling_min_{w}'] = df_completo['target'].rolling(window=w, min_periods=1).min()\n",
    "    df_completo[f'rolling_max_{w}'] = df_completo['target'].rolling(window=w, min_periods=1).max()\n",
    "    df_completo[f'rolling_median_{w}'] = df_completo['target'].rolling(window=w, min_periods=1).median()\n",
    "\n",
    "## 5. Características de tendencia y estacionalidad\n",
    "df_completo['expanding_mean'] = df_completo['target'].expanding().mean()\n",
    "df_completo['cumulative_sum'] = df_completo['target'].cumsum()\n",
    "\n",
    "## 6. Características de diferencia estacional (12 meses para datos mensuales)\n",
    "df_completo['seasonal_diff_12'] = df_completo['target'].diff(12)\n",
    "\n",
    "## 7. Estadísticas anuales comparativas\n",
    "df_completo['vs_prev_year'] = df_completo['target'] / df_completo['lag_12'] - 1  # Crecimiento interanual\n",
    "\n",
    "## 8. Componentes de descomposición (simplificada)\n",
    "# Tendencia (usando media móvil de 12 meses)\n",
    "df_completo['trend'] = df_completo['target'].rolling(window=12, min_periods=1).mean()\n",
    "# Estacionalidad (diferencia entre valor real y tendencia)\n",
    "df_completo['seasonality'] = df_completo['target'] - df_completo['trend']\n",
    "\n",
    "## 9. Variables booleanas para eventos especiales\n",
    "df_completo['new_high'] = (df_completo['target'] == df_completo['rolling_max_12']).astype(int)\n",
    "df_completo['new_low'] = (df_completo['target'] == df_completo['rolling_min_12']).astype(int)\n",
    "\n",
    "## 10. Características de aceleración/deceleración\n",
    "df_completo['acceleration'] = df_completo['delta_1'].diff(1)  # Cambio en la tasa de cambio"
   ]
  },
  {
   "cell_type": "markdown",
   "id": "23911a05",
   "metadata": {},
   "source": [
    "##### Estadísticas de Ventana Dinámica"
   ]
  },
  {
   "cell_type": "code",
   "execution_count": 14,
   "id": "5b5bd696",
   "metadata": {},
   "outputs": [],
   "source": [
    "# Medias móviles exponenciales\n",
    "df_completo['ewm_alpha_0.3'] = df_completo['target'].ewm(alpha=0.3, adjust=False).mean()\n",
    "df_completo['ewm_alpha_0.5'] = df_completo['target'].ewm(alpha=0.5, adjust=False).mean()\n",
    "\n",
    "# Medias móviles centradas\n",
    "df_completo['rolling_center_mean_3'] = df_completo['target'].rolling(window=3, center=True).mean()\n",
    "\n",
    "# Sumas acumuladas por año\n",
    "df_completo['ytd_sum'] = df_completo.groupby(df_completo['periodo_dt'].dt.year)['target'].cumsum()"
   ]
  },
  {
   "cell_type": "markdown",
   "id": "64244fbf",
   "metadata": {},
   "source": [
    "##### Características de Tendencia y Ciclo"
   ]
  },
  {
   "cell_type": "code",
   "execution_count": 15,
   "id": "7f94981f",
   "metadata": {},
   "outputs": [],
   "source": [
    "# Modelado de tendencia polinomial\n",
    "df_completo['time_index'] = range(len(df_completo))\n",
    "df_completo['trend_linear'] = np.poly1d(np.polyfit(df_completo['time_index'], df_completo['target'], 1))(df_completo['time_index'])\n",
    "df_completo['trend_quadratic'] = np.poly1d(np.polyfit(df_completo['time_index'], df_completo['target'], 2))(df_completo['time_index'])\n",
    "\n",
    "# Residuales de tendencia\n",
    "df_completo['residual_trend'] = df_completo['target'] - df_completo['trend_linear']"
   ]
  },
  {
   "cell_type": "markdown",
   "id": "74047d4b",
   "metadata": {},
   "source": [
    "##### Características de Cambio de Régimen"
   ]
  },
  {
   "cell_type": "code",
   "execution_count": 16,
   "id": "f733c8cb",
   "metadata": {},
   "outputs": [],
   "source": [
    "# Z-Score respecto a ventana móvil\n",
    "df_completo['zscore_6'] = (df_completo['target'] - df_completo['rolling_mean_6']) / df_completo['rolling_std_6']\n",
    "\n",
    "# Detección de outliers\n",
    "df_completo['is_outlier_3sigma'] = np.where(np.abs(df_completo['zscore_6']) > 3, 1, 0)\n",
    "\n",
    "# Cambios bruscos (spikes)\n",
    "df_completo['spike_up'] = np.where(df_completo['delta_1'] > df_completo['rolling_std_3'], 1, 0)\n",
    "df_completo['spike_down'] = np.where(df_completo['delta_1'] < -df_completo['rolling_std_3'], 1, 0)"
   ]
  },
  {
   "cell_type": "markdown",
   "id": "84cb8539",
   "metadata": {},
   "source": [
    "##### Características de Patrones Temporales"
   ]
  },
  {
   "cell_type": "code",
   "execution_count": 17,
   "id": "3f6b2f8e",
   "metadata": {},
   "outputs": [
    {
     "name": "stderr",
     "output_type": "stream",
     "text": [
      "C:\\Users\\Usuario\\AppData\\Local\\Temp\\ipykernel_10680\\2015791206.py:5: PerformanceWarning: DataFrame is highly fragmented.  This is usually the result of calling `frame.insert` many times, which has poor performance.  Consider joining all columns at once using pd.concat(axis=1) instead. To get a de-fragmented frame, use `newframe = frame.copy()`\n",
      "  df_completo[f'pacf_{i}'] = df_completo['target'].shift(i) * pacf_values[i]\n",
      "C:\\Users\\Usuario\\AppData\\Local\\Temp\\ipykernel_10680\\2015791206.py:5: PerformanceWarning: DataFrame is highly fragmented.  This is usually the result of calling `frame.insert` many times, which has poor performance.  Consider joining all columns at once using pd.concat(axis=1) instead. To get a de-fragmented frame, use `newframe = frame.copy()`\n",
      "  df_completo[f'pacf_{i}'] = df_completo['target'].shift(i) * pacf_values[i]\n",
      "C:\\Users\\Usuario\\AppData\\Local\\Temp\\ipykernel_10680\\2015791206.py:5: PerformanceWarning: DataFrame is highly fragmented.  This is usually the result of calling `frame.insert` many times, which has poor performance.  Consider joining all columns at once using pd.concat(axis=1) instead. To get a de-fragmented frame, use `newframe = frame.copy()`\n",
      "  df_completo[f'pacf_{i}'] = df_completo['target'].shift(i) * pacf_values[i]\n",
      "C:\\Users\\Usuario\\AppData\\Local\\Temp\\ipykernel_10680\\2015791206.py:8: PerformanceWarning: DataFrame is highly fragmented.  This is usually the result of calling `frame.insert` many times, which has poor performance.  Consider joining all columns at once using pd.concat(axis=1) instead. To get a de-fragmented frame, use `newframe = frame.copy()`\n",
      "  df_completo['semester_mean'] = df_completo.groupby(['year', 'semester'])['target'].transform('mean')\n"
     ]
    }
   ],
   "source": [
    "# Autocorrelaciones parciales\n",
    "from statsmodels.tsa.stattools import pacf\n",
    "pacf_values = pacf(df_completo['target'].dropna(), nlags=12)\n",
    "for i in range(1, 6):\n",
    "    df_completo[f'pacf_{i}'] = df_completo['target'].shift(i) * pacf_values[i]\n",
    "\n",
    "# Estacionalidad múltiple (si hay patrones semestrales)\n",
    "df_completo['semester_mean'] = df_completo.groupby(['year', 'semester'])['target'].transform('mean')"
   ]
  },
  {
   "cell_type": "markdown",
   "id": "05c0a34f",
   "metadata": {},
   "source": [
    "##### Características de Forecast Ingenieriles"
   ]
  },
  {
   "cell_type": "code",
   "execution_count": 18,
   "id": "0a477c23",
   "metadata": {},
   "outputs": [
    {
     "name": "stderr",
     "output_type": "stream",
     "text": [
      "C:\\Users\\Usuario\\AppData\\Local\\Temp\\ipykernel_10680\\3917092472.py:2: PerformanceWarning: DataFrame is highly fragmented.  This is usually the result of calling `frame.insert` many times, which has poor performance.  Consider joining all columns at once using pd.concat(axis=1) instead. To get a de-fragmented frame, use `newframe = frame.copy()`\n",
      "  df_completo['naive_forecast'] = df_completo['target'].shift(1)\n",
      "C:\\Users\\Usuario\\AppData\\Local\\Temp\\ipykernel_10680\\3917092472.py:5: PerformanceWarning: DataFrame is highly fragmented.  This is usually the result of calling `frame.insert` many times, which has poor performance.  Consider joining all columns at once using pd.concat(axis=1) instead. To get a de-fragmented frame, use `newframe = frame.copy()`\n",
      "  df_completo['seasonal_naive'] = df_completo['target'].shift(12)\n",
      "C:\\Users\\Usuario\\AppData\\Local\\Temp\\ipykernel_10680\\3917092472.py:8: PerformanceWarning: DataFrame is highly fragmented.  This is usually the result of calling `frame.insert` many times, which has poor performance.  Consider joining all columns at once using pd.concat(axis=1) instead. To get a de-fragmented frame, use `newframe = frame.copy()`\n",
      "  df_completo['ma_forecast_3'] = df_completo['rolling_mean_3'].shift(1)\n"
     ]
    }
   ],
   "source": [
    "# Método ingenuo (último valor)\n",
    "df_completo['naive_forecast'] = df_completo['target'].shift(1)\n",
    "\n",
    "# Seasonal naive (valor del mismo período año anterior)\n",
    "df_completo['seasonal_naive'] = df_completo['target'].shift(12)\n",
    "\n",
    "# Promedio móvil como forecast\n",
    "df_completo['ma_forecast_3'] = df_completo['rolling_mean_3'].shift(1)"
   ]
  },
  {
   "cell_type": "markdown",
   "id": "73673ece",
   "metadata": {},
   "source": [
    "##### Características de Decomposición Temporal"
   ]
  },
  {
   "cell_type": "code",
   "execution_count": 19,
   "id": "8124c16e",
   "metadata": {},
   "outputs": [
    {
     "name": "stderr",
     "output_type": "stream",
     "text": [
      "C:\\Users\\Usuario\\AppData\\Local\\Temp\\ipykernel_10680\\3535570325.py:4: PerformanceWarning: DataFrame is highly fragmented.  This is usually the result of calling `frame.insert` many times, which has poor performance.  Consider joining all columns at once using pd.concat(axis=1) instead. To get a de-fragmented frame, use `newframe = frame.copy()`\n",
      "  df_completo['trend_decomposed'] = result.trend\n",
      "C:\\Users\\Usuario\\AppData\\Local\\Temp\\ipykernel_10680\\3535570325.py:5: PerformanceWarning: DataFrame is highly fragmented.  This is usually the result of calling `frame.insert` many times, which has poor performance.  Consider joining all columns at once using pd.concat(axis=1) instead. To get a de-fragmented frame, use `newframe = frame.copy()`\n",
      "  df_completo['seasonal_decomposed'] = result.seasonal\n",
      "C:\\Users\\Usuario\\AppData\\Local\\Temp\\ipykernel_10680\\3535570325.py:6: PerformanceWarning: DataFrame is highly fragmented.  This is usually the result of calling `frame.insert` many times, which has poor performance.  Consider joining all columns at once using pd.concat(axis=1) instead. To get a de-fragmented frame, use `newframe = frame.copy()`\n",
      "  df_completo['residual_decomposed'] = result.resid\n"
     ]
    }
   ],
   "source": [
    "from statsmodels.tsa.seasonal import seasonal_decompose\n",
    "# Descomposición clásica (additiva o multiplicativa)\n",
    "result = seasonal_decompose(df_completo['target'].dropna(), model='additive', period=12)\n",
    "df_completo['trend_decomposed'] = result.trend\n",
    "df_completo['seasonal_decomposed'] = result.seasonal\n",
    "df_completo['residual_decomposed'] = result.resid"
   ]
  },
  {
   "cell_type": "markdown",
   "id": "22e7ac06",
   "metadata": {},
   "source": [
    "##### Características de Ventanas Asimétricas"
   ]
  },
  {
   "cell_type": "code",
   "execution_count": 20,
   "id": "e45de1a2",
   "metadata": {},
   "outputs": [
    {
     "name": "stderr",
     "output_type": "stream",
     "text": [
      "C:\\Users\\Usuario\\AppData\\Local\\Temp\\ipykernel_10680\\3773183492.py:2: PerformanceWarning: DataFrame is highly fragmented.  This is usually the result of calling `frame.insert` many times, which has poor performance.  Consider joining all columns at once using pd.concat(axis=1) instead. To get a de-fragmented frame, use `newframe = frame.copy()`\n",
      "  df_completo['best_month_rank'] = df_completo.groupby('month')['target'].rank(ascending=False)\n",
      "C:\\Users\\Usuario\\AppData\\Local\\Temp\\ipykernel_10680\\3773183492.py:5: PerformanceWarning: DataFrame is highly fragmented.  This is usually the result of calling `frame.insert` many times, which has poor performance.  Consider joining all columns at once using pd.concat(axis=1) instead. To get a de-fragmented frame, use `newframe = frame.copy()`\n",
      "  df_completo['vs_last_year_same_month'] = df_completo['target'] / df_completo['lag_12'] - 1\n",
      "C:\\Users\\Usuario\\AppData\\Local\\Temp\\ipykernel_10680\\3773183492.py:8: PerformanceWarning: DataFrame is highly fragmented.  This is usually the result of calling `frame.insert` many times, which has poor performance.  Consider joining all columns at once using pd.concat(axis=1) instead. To get a de-fragmented frame, use `newframe = frame.copy()`\n",
      "  df_completo['last3_vs_ly3'] = (df_completo['target'] + df_completo['lag_1'] + df_completo['lag_2']) / (df_completo['lag_12'] + df_completo['lag_13'] + df_completo['lag_14']) - 1\n"
     ]
    }
   ],
   "source": [
    "# Mejor mes histórico\n",
    "df_completo['best_month_rank'] = df_completo.groupby('month')['target'].rank(ascending=False)\n",
    "\n",
    "# Comparación con mismo mes año anterior\n",
    "df_completo['vs_last_year_same_month'] = df_completo['target'] / df_completo['lag_12'] - 1\n",
    "\n",
    "# Acumulado últimos 3 vs mismos 3 meses año anterior\n",
    "df_completo['last3_vs_ly3'] = (df_completo['target'] + df_completo['lag_1'] + df_completo['lag_2']) / (df_completo['lag_12'] + df_completo['lag_13'] + df_completo['lag_14']) - 1"
   ]
  },
  {
   "cell_type": "markdown",
   "id": "eee444b2",
   "metadata": {},
   "source": [
    "##### Transformaciones Matemáticas"
   ]
  },
  {
   "cell_type": "code",
   "execution_count": 21,
   "id": "89700e75",
   "metadata": {},
   "outputs": [
    {
     "name": "stderr",
     "output_type": "stream",
     "text": [
      "C:\\Users\\Usuario\\AppData\\Local\\Temp\\ipykernel_10680\\337718504.py:5: PerformanceWarning: DataFrame is highly fragmented.  This is usually the result of calling `frame.insert` many times, which has poor performance.  Consider joining all columns at once using pd.concat(axis=1) instead. To get a de-fragmented frame, use `newframe = frame.copy()`\n",
      "  df_completo['log_target'] = np.log1p(df_completo['target'])\n",
      "C:\\Users\\Usuario\\AppData\\Local\\Temp\\ipykernel_10680\\337718504.py:6: PerformanceWarning: DataFrame is highly fragmented.  This is usually the result of calling `frame.insert` many times, which has poor performance.  Consider joining all columns at once using pd.concat(axis=1) instead. To get a de-fragmented frame, use `newframe = frame.copy()`\n",
      "  df_completo['sqrt_target'] = np.sqrt(df_completo['target'])\n",
      "C:\\Users\\Usuario\\AppData\\Local\\Temp\\ipykernel_10680\\337718504.py:10: PerformanceWarning: DataFrame is highly fragmented.  This is usually the result of calling `frame.insert` many times, which has poor performance.  Consider joining all columns at once using pd.concat(axis=1) instead. To get a de-fragmented frame, use `newframe = frame.copy()`\n",
      "  df_completo['boxcox_target'] = np.nan\n",
      "C:\\Users\\Usuario\\AppData\\Local\\Temp\\ipykernel_10680\\337718504.py:14: PerformanceWarning: DataFrame is highly fragmented.  This is usually the result of calling `frame.insert` many times, which has poor performance.  Consider joining all columns at once using pd.concat(axis=1) instead. To get a de-fragmented frame, use `newframe = frame.copy()`\n",
      "  df_completo['diff1_log'] = df_completo['log_target'].diff(1)\n"
     ]
    }
   ],
   "source": [
    "from scipy import stats\n",
    "from scipy.special import boxcox1p\n",
    "\n",
    "# Transformaciones clásicas\n",
    "df_completo['log_target'] = np.log1p(df_completo['target'])\n",
    "df_completo['sqrt_target'] = np.sqrt(df_completo['target'])\n",
    "\n",
    "# Box-Cox (solo si target > 0)\n",
    "mask = df_completo['target'] > 0\n",
    "df_completo['boxcox_target'] = np.nan\n",
    "df_completo.loc[mask, 'boxcox_target'], _ = stats.boxcox(df_completo.loc[mask, 'target'])\n",
    "\n",
    "# Diferenciación\n",
    "df_completo['diff1_log'] = df_completo['log_target'].diff(1)\n"
   ]
  },
  {
   "cell_type": "markdown",
   "id": "c9019a2b",
   "metadata": {},
   "source": [
    "##### Características de Interacción"
   ]
  },
  {
   "cell_type": "code",
   "execution_count": 22,
   "id": "d9667d50",
   "metadata": {},
   "outputs": [
    {
     "name": "stderr",
     "output_type": "stream",
     "text": [
      "C:\\Users\\Usuario\\AppData\\Local\\Temp\\ipykernel_10680\\1620691952.py:2: PerformanceWarning: DataFrame is highly fragmented.  This is usually the result of calling `frame.insert` many times, which has poor performance.  Consider joining all columns at once using pd.concat(axis=1) instead. To get a de-fragmented frame, use `newframe = frame.copy()`\n",
      "  df_completo['trend_season_interaction'] = df_completo['trend'] * df_completo['seasonal_decomposed']\n",
      "C:\\Users\\Usuario\\AppData\\Local\\Temp\\ipykernel_10680\\1620691952.py:6: PerformanceWarning: DataFrame is highly fragmented.  This is usually the result of calling `frame.insert` many times, which has poor performance.  Consider joining all columns at once using pd.concat(axis=1) instead. To get a de-fragmented frame, use `newframe = frame.copy()`\n",
      "  df_completo[f'lag_{i}_season_adj'] = df_completo[f'lag_{i}'] / df_completo['seasonal_decomposed']\n",
      "C:\\Users\\Usuario\\AppData\\Local\\Temp\\ipykernel_10680\\1620691952.py:6: PerformanceWarning: DataFrame is highly fragmented.  This is usually the result of calling `frame.insert` many times, which has poor performance.  Consider joining all columns at once using pd.concat(axis=1) instead. To get a de-fragmented frame, use `newframe = frame.copy()`\n",
      "  df_completo[f'lag_{i}_season_adj'] = df_completo[f'lag_{i}'] / df_completo['seasonal_decomposed']\n",
      "C:\\Users\\Usuario\\AppData\\Local\\Temp\\ipykernel_10680\\1620691952.py:6: PerformanceWarning: DataFrame is highly fragmented.  This is usually the result of calling `frame.insert` many times, which has poor performance.  Consider joining all columns at once using pd.concat(axis=1) instead. To get a de-fragmented frame, use `newframe = frame.copy()`\n",
      "  df_completo[f'lag_{i}_season_adj'] = df_completo[f'lag_{i}'] / df_completo['seasonal_decomposed']\n",
      "C:\\Users\\Usuario\\AppData\\Local\\Temp\\ipykernel_10680\\1620691952.py:6: PerformanceWarning: DataFrame is highly fragmented.  This is usually the result of calling `frame.insert` many times, which has poor performance.  Consider joining all columns at once using pd.concat(axis=1) instead. To get a de-fragmented frame, use `newframe = frame.copy()`\n",
      "  df_completo[f'lag_{i}_season_adj'] = df_completo[f'lag_{i}'] / df_completo['seasonal_decomposed']\n"
     ]
    }
   ],
   "source": [
    "# Interacción entre tendencia y estacionalidad\n",
    "df_completo['trend_season_interaction'] = df_completo['trend'] * df_completo['seasonal_decomposed']\n",
    "\n",
    "# Interacción lags con estacionalidad\n",
    "for i in [1, 2, 3, 12]:\n",
    "    df_completo[f'lag_{i}_season_adj'] = df_completo[f'lag_{i}'] / df_completo['seasonal_decomposed']"
   ]
  },
  {
   "cell_type": "markdown",
   "id": "fa7cb1fd",
   "metadata": {},
   "source": [
    "##### Completamos NaN del target con ceros"
   ]
  },
  {
   "cell_type": "code",
   "execution_count": 23,
   "id": "38804121",
   "metadata": {},
   "outputs": [
    {
     "name": "stderr",
     "output_type": "stream",
     "text": [
      "C:\\Users\\Usuario\\AppData\\Local\\Temp\\ipykernel_10680\\3329406196.py:1: FutureWarning: A value is trying to be set on a copy of a DataFrame or Series through chained assignment using an inplace method.\n",
      "The behavior will change in pandas 3.0. This inplace method will never work because the intermediate object on which we are setting values always behaves as a copy.\n",
      "\n",
      "For example, when doing 'df[col].method(value, inplace=True)', try using 'df.method({col: value}, inplace=True)' or df[col] = df[col].method(value) instead, to perform the operation inplace on the original object.\n",
      "\n",
      "\n",
      "  df_completo['target'].fillna(0, inplace=True)\n"
     ]
    }
   ],
   "source": [
    "df_completo['target'].fillna(0, inplace=True)"
   ]
  },
  {
   "cell_type": "markdown",
   "id": "5257c1b5",
   "metadata": {},
   "source": [
    "##### Dividimos el dataset"
   ]
  },
  {
   "cell_type": "code",
   "execution_count": 26,
   "id": "9a8d1a12",
   "metadata": {},
   "outputs": [
    {
     "name": "stderr",
     "output_type": "stream",
     "text": [
      "C:\\Users\\Usuario\\AppData\\Local\\Temp\\ipykernel_10680\\1219747113.py:1: PerformanceWarning: DataFrame is highly fragmented.  This is usually the result of calling `frame.insert` many times, which has poor performance.  Consider joining all columns at once using pd.concat(axis=1) instead. To get a de-fragmented frame, use `newframe = frame.copy()`\n",
      "  df_completo[\"periodo\"] = df_completo[\"periodo_dt\"].dt.year * 100 + df_completo[\"periodo_dt\"].dt.month\n"
     ]
    }
   ],
   "source": [
    "df_completo[\"periodo\"] = df_completo[\"periodo_dt\"].dt.year * 100 + df_completo[\"periodo_dt\"].dt.month\n",
    "dt_kgl = df_completo[df_completo[\"periodo\"].isin([201912])]\n",
    "ts = df_completo.drop(df_completo[df_completo[\"periodo\"].isin([201911,201912])].index,axis=0)"
   ]
  },
  {
   "cell_type": "markdown",
   "id": "fb52cb54",
   "metadata": {},
   "source": [
    "##### Productos a predecir"
   ]
  },
  {
   "cell_type": "code",
   "execution_count": 29,
   "id": "daab1375",
   "metadata": {},
   "outputs": [
    {
     "data": {
      "text/plain": [
       "780"
      ]
     },
     "execution_count": 29,
     "metadata": {},
     "output_type": "execute_result"
    }
   ],
   "source": [
    "feature_columns = [col for col in ts.columns if col not in ['periodo_dt', 'tn_target', 'periodo', 'nacimiento_producto', 'target']]\n",
    "X_kgl = dt_kgl[feature_columns]\n",
    "productos_a_predecir = pd.read_csv(\"../../data/raw/product_id_apredecir201912.csv\")\n",
    "# Filtrar filas\n",
    "productos_filtrados = productos_a_predecir['product_id'].unique()\n",
    "X_kgl = X_kgl[X_kgl['product_id'].isin(productos_filtrados)]\n",
    "X_kgl['product_id'].nunique()"
   ]
  },
  {
   "cell_type": "markdown",
   "id": "b2da0db5",
   "metadata": {},
   "source": [
    "##### Optimización de Hiperparámetros con Optuna"
   ]
  },
  {
   "cell_type": "code",
   "execution_count": 27,
   "id": "ea8645b2",
   "metadata": {},
   "outputs": [
    {
     "name": "stderr",
     "output_type": "stream",
     "text": [
      "C:\\Users\\Usuario\\AppData\\Local\\Temp\\ipykernel_10680\\2951985469.py:13: SettingWithCopyWarning: \n",
      "A value is trying to be set on a copy of a slice from a DataFrame.\n",
      "Try using .loc[row_indexer,col_indexer] = value instead\n",
      "\n",
      "See the caveats in the documentation: https://pandas.pydata.org/pandas-docs/stable/user_guide/indexing.html#returning-a-view-versus-a-copy\n",
      "  X[col] = X[col].astype('category')\n",
      "C:\\Users\\Usuario\\AppData\\Local\\Temp\\ipykernel_10680\\2951985469.py:13: SettingWithCopyWarning: \n",
      "A value is trying to be set on a copy of a slice from a DataFrame.\n",
      "Try using .loc[row_indexer,col_indexer] = value instead\n",
      "\n",
      "See the caveats in the documentation: https://pandas.pydata.org/pandas-docs/stable/user_guide/indexing.html#returning-a-view-versus-a-copy\n",
      "  X[col] = X[col].astype('category')\n",
      "C:\\Users\\Usuario\\AppData\\Local\\Temp\\ipykernel_10680\\2951985469.py:13: SettingWithCopyWarning: \n",
      "A value is trying to be set on a copy of a slice from a DataFrame.\n",
      "Try using .loc[row_indexer,col_indexer] = value instead\n",
      "\n",
      "See the caveats in the documentation: https://pandas.pydata.org/pandas-docs/stable/user_guide/indexing.html#returning-a-view-versus-a-copy\n",
      "  X[col] = X[col].astype('category')\n",
      "C:\\Users\\Usuario\\AppData\\Local\\Temp\\ipykernel_10680\\2951985469.py:13: SettingWithCopyWarning: \n",
      "A value is trying to be set on a copy of a slice from a DataFrame.\n",
      "Try using .loc[row_indexer,col_indexer] = value instead\n",
      "\n",
      "See the caveats in the documentation: https://pandas.pydata.org/pandas-docs/stable/user_guide/indexing.html#returning-a-view-versus-a-copy\n",
      "  X[col] = X[col].astype('category')\n"
     ]
    },
    {
     "name": "stdout",
     "output_type": "stream",
     "text": [
      "[LightGBM] [Info] Auto-choosing row-wise multi-threading, the overhead of testing was 0,009662 seconds.\n",
      "You can set `force_row_wise=true` to remove the overhead.\n",
      "And if memory is not enough, you can set `force_col_wise=true`.\n",
      "[LightGBM] [Info] Total Bins 26096\n",
      "[LightGBM] [Info] Number of data points in the train set: 33425, number of used features: 122\n",
      "[LightGBM] [Info] Start training from score 37,177162\n",
      "Modelo LightGBM entrenado con éxito.\n"
     ]
    }
   ],
   "source": [
    "import lightgbm as lgb\n",
    "from sklearn.model_selection import TimeSeriesSplit\n",
    "from sklearn.metrics import mean_squared_error\n",
    "import optuna\n",
    "import numpy as np\n",
    "\n",
    "# Preparar datos\n",
    "feature_columns = [col for col in ts.columns if col not in ['periodo_dt', 'tn_target', 'periodo', 'nacimiento_producto', 'target']]\n",
    "X = ts[feature_columns]\n",
    "y = ts['target']\n",
    "\n",
    "for col in ['cat1', 'cat2', 'cat3', 'brand']:\n",
    "    X[col] = X[col].astype('category')\n",
    "\n",
    "\n",
    "# Dividir los datos en conjuntos de entrenamiento y prueba (opcional, pero recomendado)\n",
    "# Para este caso, vamos a entrenar con todos los datos disponibles antes de 201911\n",
    "# Si quisieras validación, podrías usar un periodo anterior como validación\n",
    "\n",
    "# Definir el modelo LightGBM\n",
    "lgb_reg = lgb.LGBMRegressor(random_state=12345)\n",
    "\n",
    "# Entrenar el modelo\n",
    "lgb_reg.fit(X, y)\n",
    "\n",
    "print(\"Modelo LightGBM entrenado con éxito.\")\n"
   ]
  },
  {
   "cell_type": "code",
   "execution_count": 30,
   "id": "8a89c55d",
   "metadata": {},
   "outputs": [],
   "source": [
    "for col in ['cat1', 'cat2', 'cat3', 'brand']:\n",
    "    X_kgl[col] = X_kgl[col].astype('category')\n",
    "\n",
    "\n",
    "y_pred = lgb_reg.predict(X_kgl)\n"
   ]
  },
  {
   "cell_type": "code",
   "execution_count": 31,
   "id": "d253d9ac",
   "metadata": {},
   "outputs": [
    {
     "data": {
      "application/vnd.microsoft.datawrangler.viewer.v0+json": {
       "columns": [
        {
         "name": "index",
         "rawType": "int64",
         "type": "integer"
        },
        {
         "name": "product_id",
         "rawType": "int64",
         "type": "integer"
        },
        {
         "name": "tn",
         "rawType": "float64",
         "type": "float"
        }
       ],
       "ref": "dba98e6b-0506-4074-bb72-34e7ce50efd7",
       "rows": [
        [
         "0",
         "20001",
         "1.1184516754376843"
        ],
        [
         "1",
         "20002",
         "1.1368866781598839"
        ],
        [
         "2",
         "20003",
         "1.1368866781598839"
        ],
        [
         "3",
         "20004",
         "6.73228879514494"
        ],
        [
         "4",
         "20005",
         "6.900513587476939"
        ],
        [
         "5",
         "20006",
         "6.311224122251998"
        ],
        [
         "6",
         "20007",
         "6.516356052969957"
        ],
        [
         "7",
         "20008",
         "6.311224122251998"
        ],
        [
         "8",
         "20009",
         "6.311224122251998"
        ],
        [
         "9",
         "20010",
         "6.311224122251998"
        ],
        [
         "10",
         "20011",
         "6.311224122251998"
        ],
        [
         "11",
         "20012",
         "6.311224122251998"
        ],
        [
         "12",
         "20013",
         "7.950133846950951"
        ],
        [
         "13",
         "20014",
         "7.950133846950951"
        ],
        [
         "14",
         "20015",
         "7.950133846950951"
        ],
        [
         "15",
         "20016",
         "7.7450019162329955"
        ],
        [
         "16",
         "20017",
         "7.7450019162329955"
        ],
        [
         "17",
         "20018",
         "7.7450019162329955"
        ],
        [
         "18",
         "20019",
         "7.7450019162329955"
        ],
        [
         "19",
         "20020",
         "7.7450019162329955"
        ],
        [
         "20",
         "20021",
         "7.7450019162329955"
        ],
        [
         "21",
         "20022",
         "7.7450019162329955"
        ],
        [
         "22",
         "20023",
         "7.7450019162329955"
        ],
        [
         "23",
         "20024",
         "7.7450019162329955"
        ],
        [
         "24",
         "20025",
         "7.7450019162329955"
        ],
        [
         "25",
         "20026",
         "7.7450019162329955"
        ],
        [
         "26",
         "20027",
         "7.7450019162329955"
        ],
        [
         "27",
         "20028",
         "7.7450019162329955"
        ],
        [
         "28",
         "20029",
         "7.7450019162329955"
        ],
        [
         "29",
         "20030",
         "7.7450019162329955"
        ],
        [
         "30",
         "20031",
         "7.7450019162329955"
        ],
        [
         "31",
         "20032",
         "7.7450019162329955"
        ],
        [
         "32",
         "20033",
         "7.7450019162329955"
        ],
        [
         "33",
         "20035",
         "7.7450019162329955"
        ],
        [
         "34",
         "20037",
         "7.7450019162329955"
        ],
        [
         "35",
         "20038",
         "7.7450019162329955"
        ],
        [
         "36",
         "20039",
         "7.7450019162329955"
        ],
        [
         "37",
         "20041",
         "7.7450019162329955"
        ],
        [
         "38",
         "20042",
         "7.7450019162329955"
        ],
        [
         "39",
         "20043",
         "7.7450019162329955"
        ],
        [
         "40",
         "20044",
         "7.7450019162329955"
        ],
        [
         "41",
         "20045",
         "7.7450019162329955"
        ],
        [
         "42",
         "20046",
         "7.950133846950951"
        ],
        [
         "43",
         "20047",
         "7.7450019162329955"
        ],
        [
         "44",
         "20049",
         "7.950133846950951"
        ],
        [
         "45",
         "20050",
         "7.7450019162329955"
        ],
        [
         "46",
         "20051",
         "7.7450019162329955"
        ],
        [
         "47",
         "20052",
         "7.7450019162329955"
        ],
        [
         "48",
         "20053",
         "7.7450019162329955"
        ],
        [
         "49",
         "20054",
         "7.7450019162329955"
        ]
       ],
       "shape": {
        "columns": 2,
        "rows": 780
       }
      },
      "text/html": [
       "<div>\n",
       "<style scoped>\n",
       "    .dataframe tbody tr th:only-of-type {\n",
       "        vertical-align: middle;\n",
       "    }\n",
       "\n",
       "    .dataframe tbody tr th {\n",
       "        vertical-align: top;\n",
       "    }\n",
       "\n",
       "    .dataframe thead th {\n",
       "        text-align: right;\n",
       "    }\n",
       "</style>\n",
       "<table border=\"1\" class=\"dataframe\">\n",
       "  <thead>\n",
       "    <tr style=\"text-align: right;\">\n",
       "      <th></th>\n",
       "      <th>product_id</th>\n",
       "      <th>tn</th>\n",
       "    </tr>\n",
       "  </thead>\n",
       "  <tbody>\n",
       "    <tr>\n",
       "      <th>0</th>\n",
       "      <td>20001</td>\n",
       "      <td>1.118452</td>\n",
       "    </tr>\n",
       "    <tr>\n",
       "      <th>1</th>\n",
       "      <td>20002</td>\n",
       "      <td>1.136887</td>\n",
       "    </tr>\n",
       "    <tr>\n",
       "      <th>2</th>\n",
       "      <td>20003</td>\n",
       "      <td>1.136887</td>\n",
       "    </tr>\n",
       "    <tr>\n",
       "      <th>3</th>\n",
       "      <td>20004</td>\n",
       "      <td>6.732289</td>\n",
       "    </tr>\n",
       "    <tr>\n",
       "      <th>4</th>\n",
       "      <td>20005</td>\n",
       "      <td>6.900514</td>\n",
       "    </tr>\n",
       "    <tr>\n",
       "      <th>...</th>\n",
       "      <td>...</td>\n",
       "      <td>...</td>\n",
       "    </tr>\n",
       "    <tr>\n",
       "      <th>775</th>\n",
       "      <td>21263</td>\n",
       "      <td>7.719531</td>\n",
       "    </tr>\n",
       "    <tr>\n",
       "      <th>776</th>\n",
       "      <td>21265</td>\n",
       "      <td>7.719531</td>\n",
       "    </tr>\n",
       "    <tr>\n",
       "      <th>777</th>\n",
       "      <td>21266</td>\n",
       "      <td>7.719531</td>\n",
       "    </tr>\n",
       "    <tr>\n",
       "      <th>778</th>\n",
       "      <td>21267</td>\n",
       "      <td>7.719531</td>\n",
       "    </tr>\n",
       "    <tr>\n",
       "      <th>779</th>\n",
       "      <td>21276</td>\n",
       "      <td>7.719531</td>\n",
       "    </tr>\n",
       "  </tbody>\n",
       "</table>\n",
       "<p>780 rows × 2 columns</p>\n",
       "</div>"
      ],
      "text/plain": [
       "     product_id        tn\n",
       "0         20001  1.118452\n",
       "1         20002  1.136887\n",
       "2         20003  1.136887\n",
       "3         20004  6.732289\n",
       "4         20005  6.900514\n",
       "..          ...       ...\n",
       "775       21263  7.719531\n",
       "776       21265  7.719531\n",
       "777       21266  7.719531\n",
       "778       21267  7.719531\n",
       "779       21276  7.719531\n",
       "\n",
       "[780 rows x 2 columns]"
      ]
     },
     "execution_count": 31,
     "metadata": {},
     "output_type": "execute_result"
    }
   ],
   "source": [
    "productos_ok = pd.read_csv(\"https://storage.googleapis.com/open-courses/austral2025-af91/labo3v/product_id_apredecir201912.txt\", sep=\"\\t\")\n",
    "result = pd.DataFrame({\"product_id\": X_kgl[\"product_id\"],  \"tn\": y_pred})\n",
    "result = result[result[\"product_id\"].isin(productos_ok[\"product_id\"])]\n",
    "result = result.groupby(\"product_id\").agg({\"tn\":\"sum\"}).reset_index()\n",
    "result"
   ]
  },
  {
   "cell_type": "code",
   "execution_count": 32,
   "id": "8add0973",
   "metadata": {},
   "outputs": [],
   "source": [
    "result.to_csv(\"../../outputs/lgb_exp04_sin_bayesiana_con_fe.csv\", index=False, sep=',')"
   ]
  }
 ],
 "metadata": {
  "kernelspec": {
   "display_name": "Python 3",
   "language": "python",
   "name": "python3"
  },
  "language_info": {
   "codemirror_mode": {
    "name": "ipython",
    "version": 3
   },
   "file_extension": ".py",
   "mimetype": "text/x-python",
   "name": "python",
   "nbconvert_exporter": "python",
   "pygments_lexer": "ipython3",
   "version": "3.11.4"
  }
 },
 "nbformat": 4,
 "nbformat_minor": 5
}
