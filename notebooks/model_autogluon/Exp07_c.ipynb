{
 "cells": [
  {
   "cell_type": "markdown",
   "id": "7791a93b",
   "metadata": {},
   "source": [
    "# Experimento 7\n",
    "\n",
    "Feature Engineering con Autogluon: solo Crisis (Pasos 201918)"
   ]
  },
  {
   "cell_type": "code",
   "execution_count": 1,
   "id": "cd8344e2",
   "metadata": {},
   "outputs": [],
   "source": [
    "import pandas as pd\n",
    "import numpy as np\n",
    "from autogluon.timeseries import TimeSeriesDataFrame, TimeSeriesPredictor\n",
    "from statsmodels.tsa.seasonal import seasonal_decompose"
   ]
  },
  {
   "cell_type": "code",
   "execution_count": 2,
   "id": "09f9e79b",
   "metadata": {},
   "outputs": [
    {
     "data": {
      "application/vnd.microsoft.datawrangler.viewer.v0+json": {
       "columns": [
        {
         "name": "index",
         "rawType": "int64",
         "type": "integer"
        },
        {
         "name": "periodo",
         "rawType": "int64",
         "type": "integer"
        },
        {
         "name": "customer_id",
         "rawType": "int64",
         "type": "integer"
        },
        {
         "name": "product_id",
         "rawType": "int64",
         "type": "integer"
        },
        {
         "name": "plan_precios_cuidados",
         "rawType": "int64",
         "type": "integer"
        },
        {
         "name": "cust_request_qty",
         "rawType": "int64",
         "type": "integer"
        },
        {
         "name": "cust_request_tn",
         "rawType": "float64",
         "type": "float"
        },
        {
         "name": "tn",
         "rawType": "float64",
         "type": "float"
        },
        {
         "name": "cat1",
         "rawType": "object",
         "type": "string"
        },
        {
         "name": "cat2",
         "rawType": "object",
         "type": "string"
        },
        {
         "name": "cat3",
         "rawType": "object",
         "type": "string"
        },
        {
         "name": "brand",
         "rawType": "object",
         "type": "string"
        },
        {
         "name": "sku_size",
         "rawType": "float64",
         "type": "float"
        },
        {
         "name": "stock_final",
         "rawType": "float64",
         "type": "float"
        }
       ],
       "ref": "4516190d-7750-4d8d-a68a-6735423c576e",
       "rows": [
        [
         "0",
         "201701",
         "10234",
         "20524",
         "0",
         "2",
         "0.053",
         "0.053",
         "HC",
         "VAJILLA",
         "Cristalino",
         "Importado",
         "500.0",
         null
        ],
        [
         "1",
         "201701",
         "10032",
         "20524",
         "0",
         "1",
         "0.13628",
         "0.13628",
         "HC",
         "VAJILLA",
         "Cristalino",
         "Importado",
         "500.0",
         null
        ],
        [
         "2",
         "201701",
         "10217",
         "20524",
         "0",
         "1",
         "0.03028",
         "0.03028",
         "HC",
         "VAJILLA",
         "Cristalino",
         "Importado",
         "500.0",
         null
        ],
        [
         "3",
         "201701",
         "10125",
         "20524",
         "0",
         "1",
         "0.02271",
         "0.02271",
         "HC",
         "VAJILLA",
         "Cristalino",
         "Importado",
         "500.0",
         null
        ],
        [
         "4",
         "201701",
         "10012",
         "20524",
         "0",
         "11",
         "1.54452",
         "1.54452",
         "HC",
         "VAJILLA",
         "Cristalino",
         "Importado",
         "500.0",
         null
        ]
       ],
       "shape": {
        "columns": 13,
        "rows": 5
       }
      },
      "text/html": [
       "<div>\n",
       "<style scoped>\n",
       "    .dataframe tbody tr th:only-of-type {\n",
       "        vertical-align: middle;\n",
       "    }\n",
       "\n",
       "    .dataframe tbody tr th {\n",
       "        vertical-align: top;\n",
       "    }\n",
       "\n",
       "    .dataframe thead th {\n",
       "        text-align: right;\n",
       "    }\n",
       "</style>\n",
       "<table border=\"1\" class=\"dataframe\">\n",
       "  <thead>\n",
       "    <tr style=\"text-align: right;\">\n",
       "      <th></th>\n",
       "      <th>periodo</th>\n",
       "      <th>customer_id</th>\n",
       "      <th>product_id</th>\n",
       "      <th>plan_precios_cuidados</th>\n",
       "      <th>cust_request_qty</th>\n",
       "      <th>cust_request_tn</th>\n",
       "      <th>tn</th>\n",
       "      <th>cat1</th>\n",
       "      <th>cat2</th>\n",
       "      <th>cat3</th>\n",
       "      <th>brand</th>\n",
       "      <th>sku_size</th>\n",
       "      <th>stock_final</th>\n",
       "    </tr>\n",
       "  </thead>\n",
       "  <tbody>\n",
       "    <tr>\n",
       "      <th>0</th>\n",
       "      <td>201701</td>\n",
       "      <td>10234</td>\n",
       "      <td>20524</td>\n",
       "      <td>0</td>\n",
       "      <td>2</td>\n",
       "      <td>0.05300</td>\n",
       "      <td>0.05300</td>\n",
       "      <td>HC</td>\n",
       "      <td>VAJILLA</td>\n",
       "      <td>Cristalino</td>\n",
       "      <td>Importado</td>\n",
       "      <td>500.0</td>\n",
       "      <td>NaN</td>\n",
       "    </tr>\n",
       "    <tr>\n",
       "      <th>1</th>\n",
       "      <td>201701</td>\n",
       "      <td>10032</td>\n",
       "      <td>20524</td>\n",
       "      <td>0</td>\n",
       "      <td>1</td>\n",
       "      <td>0.13628</td>\n",
       "      <td>0.13628</td>\n",
       "      <td>HC</td>\n",
       "      <td>VAJILLA</td>\n",
       "      <td>Cristalino</td>\n",
       "      <td>Importado</td>\n",
       "      <td>500.0</td>\n",
       "      <td>NaN</td>\n",
       "    </tr>\n",
       "    <tr>\n",
       "      <th>2</th>\n",
       "      <td>201701</td>\n",
       "      <td>10217</td>\n",
       "      <td>20524</td>\n",
       "      <td>0</td>\n",
       "      <td>1</td>\n",
       "      <td>0.03028</td>\n",
       "      <td>0.03028</td>\n",
       "      <td>HC</td>\n",
       "      <td>VAJILLA</td>\n",
       "      <td>Cristalino</td>\n",
       "      <td>Importado</td>\n",
       "      <td>500.0</td>\n",
       "      <td>NaN</td>\n",
       "    </tr>\n",
       "    <tr>\n",
       "      <th>3</th>\n",
       "      <td>201701</td>\n",
       "      <td>10125</td>\n",
       "      <td>20524</td>\n",
       "      <td>0</td>\n",
       "      <td>1</td>\n",
       "      <td>0.02271</td>\n",
       "      <td>0.02271</td>\n",
       "      <td>HC</td>\n",
       "      <td>VAJILLA</td>\n",
       "      <td>Cristalino</td>\n",
       "      <td>Importado</td>\n",
       "      <td>500.0</td>\n",
       "      <td>NaN</td>\n",
       "    </tr>\n",
       "    <tr>\n",
       "      <th>4</th>\n",
       "      <td>201701</td>\n",
       "      <td>10012</td>\n",
       "      <td>20524</td>\n",
       "      <td>0</td>\n",
       "      <td>11</td>\n",
       "      <td>1.54452</td>\n",
       "      <td>1.54452</td>\n",
       "      <td>HC</td>\n",
       "      <td>VAJILLA</td>\n",
       "      <td>Cristalino</td>\n",
       "      <td>Importado</td>\n",
       "      <td>500.0</td>\n",
       "      <td>NaN</td>\n",
       "    </tr>\n",
       "  </tbody>\n",
       "</table>\n",
       "</div>"
      ],
      "text/plain": [
       "   periodo  customer_id  product_id  plan_precios_cuidados  cust_request_qty  \\\n",
       "0   201701        10234       20524                      0                 2   \n",
       "1   201701        10032       20524                      0                 1   \n",
       "2   201701        10217       20524                      0                 1   \n",
       "3   201701        10125       20524                      0                 1   \n",
       "4   201701        10012       20524                      0                11   \n",
       "\n",
       "   cust_request_tn       tn cat1     cat2        cat3      brand  sku_size  \\\n",
       "0          0.05300  0.05300   HC  VAJILLA  Cristalino  Importado     500.0   \n",
       "1          0.13628  0.13628   HC  VAJILLA  Cristalino  Importado     500.0   \n",
       "2          0.03028  0.03028   HC  VAJILLA  Cristalino  Importado     500.0   \n",
       "3          0.02271  0.02271   HC  VAJILLA  Cristalino  Importado     500.0   \n",
       "4          1.54452  1.54452   HC  VAJILLA  Cristalino  Importado     500.0   \n",
       "\n",
       "   stock_final  \n",
       "0          NaN  \n",
       "1          NaN  \n",
       "2          NaN  \n",
       "3          NaN  \n",
       "4          NaN  "
      ]
     },
     "execution_count": 2,
     "metadata": {},
     "output_type": "execute_result"
    }
   ],
   "source": [
    "df = pd.read_csv('../../data/preprocessed/base.csv', sep=',')\n",
    "df.head()"
   ]
  },
  {
   "cell_type": "code",
   "execution_count": 3,
   "id": "e3140ca3",
   "metadata": {},
   "outputs": [
    {
     "data": {
      "application/vnd.microsoft.datawrangler.viewer.v0+json": {
       "columns": [
        {
         "name": "index",
         "rawType": "int64",
         "type": "integer"
        },
        {
         "name": "periodo",
         "rawType": "int64",
         "type": "integer"
        },
        {
         "name": "product_id",
         "rawType": "int64",
         "type": "integer"
        },
        {
         "name": "tn",
         "rawType": "float64",
         "type": "float"
        }
       ],
       "ref": "e5f2e261-3d02-48d5-a95d-8a92757cba70",
       "rows": [
        [
         "0",
         "201701",
         "20001",
         "934.77222"
        ],
        [
         "1",
         "201701",
         "20002",
         "550.15707"
        ],
        [
         "2",
         "201701",
         "20003",
         "1063.45835"
        ],
        [
         "3",
         "201701",
         "20004",
         "555.9161399999999"
        ],
        [
         "4",
         "201701",
         "20005",
         "494.27011"
        ]
       ],
       "shape": {
        "columns": 3,
        "rows": 5
       }
      },
      "text/html": [
       "<div>\n",
       "<style scoped>\n",
       "    .dataframe tbody tr th:only-of-type {\n",
       "        vertical-align: middle;\n",
       "    }\n",
       "\n",
       "    .dataframe tbody tr th {\n",
       "        vertical-align: top;\n",
       "    }\n",
       "\n",
       "    .dataframe thead th {\n",
       "        text-align: right;\n",
       "    }\n",
       "</style>\n",
       "<table border=\"1\" class=\"dataframe\">\n",
       "  <thead>\n",
       "    <tr style=\"text-align: right;\">\n",
       "      <th></th>\n",
       "      <th>periodo</th>\n",
       "      <th>product_id</th>\n",
       "      <th>tn</th>\n",
       "    </tr>\n",
       "  </thead>\n",
       "  <tbody>\n",
       "    <tr>\n",
       "      <th>0</th>\n",
       "      <td>201701</td>\n",
       "      <td>20001</td>\n",
       "      <td>934.77222</td>\n",
       "    </tr>\n",
       "    <tr>\n",
       "      <th>1</th>\n",
       "      <td>201701</td>\n",
       "      <td>20002</td>\n",
       "      <td>550.15707</td>\n",
       "    </tr>\n",
       "    <tr>\n",
       "      <th>2</th>\n",
       "      <td>201701</td>\n",
       "      <td>20003</td>\n",
       "      <td>1063.45835</td>\n",
       "    </tr>\n",
       "    <tr>\n",
       "      <th>3</th>\n",
       "      <td>201701</td>\n",
       "      <td>20004</td>\n",
       "      <td>555.91614</td>\n",
       "    </tr>\n",
       "    <tr>\n",
       "      <th>4</th>\n",
       "      <td>201701</td>\n",
       "      <td>20005</td>\n",
       "      <td>494.27011</td>\n",
       "    </tr>\n",
       "  </tbody>\n",
       "</table>\n",
       "</div>"
      ],
      "text/plain": [
       "   periodo  product_id          tn\n",
       "0   201701       20001   934.77222\n",
       "1   201701       20002   550.15707\n",
       "2   201701       20003  1063.45835\n",
       "3   201701       20004   555.91614\n",
       "4   201701       20005   494.27011"
      ]
     },
     "execution_count": 3,
     "metadata": {},
     "output_type": "execute_result"
    }
   ],
   "source": [
    "dfg = df.groupby(['periodo', 'product_id']).agg({'tn': 'sum'}).reset_index()\n",
    "dfg.head()"
   ]
  },
  {
   "cell_type": "code",
   "execution_count": 4,
   "id": "d4a5d723",
   "metadata": {},
   "outputs": [],
   "source": [
    "dfg['periodo_dt'] = pd.to_datetime(dfg['periodo'].astype(str), format='%Y%m')\n",
    "dfg.rename(columns={'tn': 'target', 'product_id':'item_id', 'periodo_dt': 'timestamp'}, inplace=True)\n",
    "dfg.drop(columns=['periodo'], inplace=True)\n"
   ]
  },
  {
   "cell_type": "code",
   "execution_count": 5,
   "id": "6a823609",
   "metadata": {},
   "outputs": [],
   "source": [
    "# Versión más concisa usando merge cruzado\n",
    "future_periods = pd.DataFrame({\n",
    "    'timestamp': pd.to_datetime(['2020-01-01', '2020-02-01'])\n",
    "})\n",
    "\n",
    "df_future = (dfg[['item_id']].drop_duplicates()\n",
    "             .merge(future_periods, how='cross')\n",
    "             .assign(target=0))  # Asignar 0 a tn\n",
    "\n",
    "dfg_completo = pd.concat([dfg, df_future], ignore_index=True)\n",
    "\n",
    "dfg = dfg_completo.copy()"
   ]
  },
  {
   "cell_type": "markdown",
   "id": "36131ed3",
   "metadata": {},
   "source": [
    "##### Productos"
   ]
  },
  {
   "cell_type": "code",
   "execution_count": 6,
   "id": "49d5f7f3",
   "metadata": {},
   "outputs": [],
   "source": [
    "productos_df = pd.read_csv('../../data/raw/tb_productos.csv', sep='\\t')\n",
    "productos_df = productos_df.drop_duplicates(subset=['product_id'], keep='first')\n",
    "productos_df.rename(columns={'product_id': 'item_id'}, inplace=True)"
   ]
  },
  {
   "cell_type": "markdown",
   "id": "bed28970",
   "metadata": {},
   "source": [
    "##### Crisis"
   ]
  },
  {
   "cell_type": "code",
   "execution_count": 7,
   "id": "eda2d364",
   "metadata": {},
   "outputs": [],
   "source": [
    "# Opción 1: Usando condiciones booleanas\n",
    "dfg['crisis'] = ((dfg['timestamp'].dt.year == 2019) & (dfg['timestamp'].dt.month == 8)).astype(int)"
   ]
  },
  {
   "cell_type": "markdown",
   "id": "43c5d17e",
   "metadata": {},
   "source": [
    "##### Levantamos productos a predecir"
   ]
  },
  {
   "cell_type": "code",
   "execution_count": 8,
   "id": "12abeb36",
   "metadata": {},
   "outputs": [
    {
     "data": {
      "application/vnd.microsoft.datawrangler.viewer.v0+json": {
       "columns": [
        {
         "name": "index",
         "rawType": "int64",
         "type": "integer"
        },
        {
         "name": "product_id",
         "rawType": "int64",
         "type": "integer"
        }
       ],
       "ref": "359d3963-daf9-4b7c-a691-73233e910cc0",
       "rows": [
        [
         "0",
         "20001"
        ],
        [
         "1",
         "20002"
        ],
        [
         "2",
         "20003"
        ],
        [
         "3",
         "20004"
        ],
        [
         "4",
         "20005"
        ]
       ],
       "shape": {
        "columns": 1,
        "rows": 5
       }
      },
      "text/html": [
       "<div>\n",
       "<style scoped>\n",
       "    .dataframe tbody tr th:only-of-type {\n",
       "        vertical-align: middle;\n",
       "    }\n",
       "\n",
       "    .dataframe tbody tr th {\n",
       "        vertical-align: top;\n",
       "    }\n",
       "\n",
       "    .dataframe thead th {\n",
       "        text-align: right;\n",
       "    }\n",
       "</style>\n",
       "<table border=\"1\" class=\"dataframe\">\n",
       "  <thead>\n",
       "    <tr style=\"text-align: right;\">\n",
       "      <th></th>\n",
       "      <th>product_id</th>\n",
       "    </tr>\n",
       "  </thead>\n",
       "  <tbody>\n",
       "    <tr>\n",
       "      <th>0</th>\n",
       "      <td>20001</td>\n",
       "    </tr>\n",
       "    <tr>\n",
       "      <th>1</th>\n",
       "      <td>20002</td>\n",
       "    </tr>\n",
       "    <tr>\n",
       "      <th>2</th>\n",
       "      <td>20003</td>\n",
       "    </tr>\n",
       "    <tr>\n",
       "      <th>3</th>\n",
       "      <td>20004</td>\n",
       "    </tr>\n",
       "    <tr>\n",
       "      <th>4</th>\n",
       "      <td>20005</td>\n",
       "    </tr>\n",
       "  </tbody>\n",
       "</table>\n",
       "</div>"
      ],
      "text/plain": [
       "   product_id\n",
       "0       20001\n",
       "1       20002\n",
       "2       20003\n",
       "3       20004\n",
       "4       20005"
      ]
     },
     "execution_count": 8,
     "metadata": {},
     "output_type": "execute_result"
    }
   ],
   "source": [
    "productos_ok = pd.read_csv('../../data/raw/product_id_apredecir201912.csv', sep=',')\n",
    "productos_ok.head()"
   ]
  },
  {
   "cell_type": "markdown",
   "id": "1232d76c",
   "metadata": {},
   "source": [
    "##### Filtramos productos a predecir"
   ]
  },
  {
   "cell_type": "code",
   "execution_count": 9,
   "id": "1f142eab",
   "metadata": {},
   "outputs": [],
   "source": [
    "dfg = dfg[dfg['item_id'].isin(productos_ok['product_id'].unique())]"
   ]
  },
  {
   "cell_type": "markdown",
   "id": "b1470f82",
   "metadata": {},
   "source": [
    "##### Sacamos dataset de entrenamiento y dataset futuro para la predicción"
   ]
  },
  {
   "cell_type": "code",
   "execution_count": 10,
   "id": "2fb6dcec",
   "metadata": {},
   "outputs": [],
   "source": [
    "futuro = dfg[dfg['timestamp'] >= '2020-01-01'].copy()\n",
    "dfg = dfg[dfg['timestamp'] < '2020-01-01'].copy()"
   ]
  },
  {
   "cell_type": "markdown",
   "id": "b551045b",
   "metadata": {},
   "source": [
    "##### Dataset para Autogluon "
   ]
  },
  {
   "cell_type": "code",
   "execution_count": 11,
   "id": "96a87d37",
   "metadata": {},
   "outputs": [
    {
     "data": {
      "text/html": [
       "<div>\n",
       "<style scoped>\n",
       "    .dataframe tbody tr th:only-of-type {\n",
       "        vertical-align: middle;\n",
       "    }\n",
       "\n",
       "    .dataframe tbody tr th {\n",
       "        vertical-align: top;\n",
       "    }\n",
       "\n",
       "    .dataframe thead th {\n",
       "        text-align: right;\n",
       "    }\n",
       "</style>\n",
       "<table border=\"1\" class=\"dataframe\">\n",
       "  <thead>\n",
       "    <tr style=\"text-align: right;\">\n",
       "      <th></th>\n",
       "      <th></th>\n",
       "      <th>target</th>\n",
       "      <th>crisis</th>\n",
       "    </tr>\n",
       "    <tr>\n",
       "      <th>item_id</th>\n",
       "      <th>timestamp</th>\n",
       "      <th></th>\n",
       "      <th></th>\n",
       "    </tr>\n",
       "  </thead>\n",
       "  <tbody>\n",
       "    <tr>\n",
       "      <th>20001</th>\n",
       "      <th>2017-01-01</th>\n",
       "      <td>934.77222</td>\n",
       "      <td>0</td>\n",
       "    </tr>\n",
       "    <tr>\n",
       "      <th>20002</th>\n",
       "      <th>2017-01-01</th>\n",
       "      <td>550.15707</td>\n",
       "      <td>0</td>\n",
       "    </tr>\n",
       "    <tr>\n",
       "      <th>20003</th>\n",
       "      <th>2017-01-01</th>\n",
       "      <td>1063.45835</td>\n",
       "      <td>0</td>\n",
       "    </tr>\n",
       "    <tr>\n",
       "      <th>20004</th>\n",
       "      <th>2017-01-01</th>\n",
       "      <td>555.91614</td>\n",
       "      <td>0</td>\n",
       "    </tr>\n",
       "    <tr>\n",
       "      <th>20005</th>\n",
       "      <th>2017-01-01</th>\n",
       "      <td>494.27011</td>\n",
       "      <td>0</td>\n",
       "    </tr>\n",
       "  </tbody>\n",
       "</table>\n",
       "</div>"
      ],
      "text/plain": [
       "                        target  crisis\n",
       "item_id timestamp                     \n",
       "20001   2017-01-01   934.77222       0\n",
       "20002   2017-01-01   550.15707       0\n",
       "20003   2017-01-01  1063.45835       0\n",
       "20004   2017-01-01   555.91614       0\n",
       "20005   2017-01-01   494.27011       0"
      ]
     },
     "execution_count": 11,
     "metadata": {},
     "output_type": "execute_result"
    }
   ],
   "source": [
    "data = TimeSeriesDataFrame.from_data_frame(dfg,\n",
    "                                           id_column=\"item_id\",\n",
    "                                           timestamp_column=\"timestamp\",\n",
    "                                           static_features_df=productos_df\n",
    "                                           )\n",
    "data.head()"
   ]
  },
  {
   "cell_type": "code",
   "execution_count": 12,
   "id": "bb37aa29",
   "metadata": {},
   "outputs": [
    {
     "data": {
      "application/vnd.microsoft.datawrangler.viewer.v0+json": {
       "columns": [
        {
         "name": "item_id",
         "rawType": "int64",
         "type": "integer"
        },
        {
         "name": "cat1",
         "rawType": "object",
         "type": "string"
        },
        {
         "name": "cat2",
         "rawType": "object",
         "type": "string"
        },
        {
         "name": "cat3",
         "rawType": "object",
         "type": "string"
        },
        {
         "name": "brand",
         "rawType": "object",
         "type": "string"
        },
        {
         "name": "sku_size",
         "rawType": "int64",
         "type": "integer"
        }
       ],
       "ref": "dc6c3129-84d4-436c-93e9-04e871e880a0",
       "rows": [
        [
         "20001",
         "HC",
         "ROPA LAVADO",
         "Liquido",
         "ARIEL",
         "3000"
        ],
        [
         "20002",
         "HC",
         "ROPA LAVADO",
         "Liquido",
         "LIMPIEX",
         "3000"
        ],
        [
         "20003",
         "FOODS",
         "ADEREZOS",
         "Mayonesa",
         "NATURA",
         "475"
        ],
        [
         "20004",
         "FOODS",
         "ADEREZOS",
         "Mayonesa",
         "NATURA",
         "240"
        ],
        [
         "20005",
         "FOODS",
         "ADEREZOS",
         "Mayonesa",
         "NATURA",
         "120"
        ]
       ],
       "shape": {
        "columns": 5,
        "rows": 5
       }
      },
      "text/html": [
       "<div>\n",
       "<style scoped>\n",
       "    .dataframe tbody tr th:only-of-type {\n",
       "        vertical-align: middle;\n",
       "    }\n",
       "\n",
       "    .dataframe tbody tr th {\n",
       "        vertical-align: top;\n",
       "    }\n",
       "\n",
       "    .dataframe thead th {\n",
       "        text-align: right;\n",
       "    }\n",
       "</style>\n",
       "<table border=\"1\" class=\"dataframe\">\n",
       "  <thead>\n",
       "    <tr style=\"text-align: right;\">\n",
       "      <th></th>\n",
       "      <th>cat1</th>\n",
       "      <th>cat2</th>\n",
       "      <th>cat3</th>\n",
       "      <th>brand</th>\n",
       "      <th>sku_size</th>\n",
       "    </tr>\n",
       "    <tr>\n",
       "      <th>item_id</th>\n",
       "      <th></th>\n",
       "      <th></th>\n",
       "      <th></th>\n",
       "      <th></th>\n",
       "      <th></th>\n",
       "    </tr>\n",
       "  </thead>\n",
       "  <tbody>\n",
       "    <tr>\n",
       "      <th>20001</th>\n",
       "      <td>HC</td>\n",
       "      <td>ROPA LAVADO</td>\n",
       "      <td>Liquido</td>\n",
       "      <td>ARIEL</td>\n",
       "      <td>3000</td>\n",
       "    </tr>\n",
       "    <tr>\n",
       "      <th>20002</th>\n",
       "      <td>HC</td>\n",
       "      <td>ROPA LAVADO</td>\n",
       "      <td>Liquido</td>\n",
       "      <td>LIMPIEX</td>\n",
       "      <td>3000</td>\n",
       "    </tr>\n",
       "    <tr>\n",
       "      <th>20003</th>\n",
       "      <td>FOODS</td>\n",
       "      <td>ADEREZOS</td>\n",
       "      <td>Mayonesa</td>\n",
       "      <td>NATURA</td>\n",
       "      <td>475</td>\n",
       "    </tr>\n",
       "    <tr>\n",
       "      <th>20004</th>\n",
       "      <td>FOODS</td>\n",
       "      <td>ADEREZOS</td>\n",
       "      <td>Mayonesa</td>\n",
       "      <td>NATURA</td>\n",
       "      <td>240</td>\n",
       "    </tr>\n",
       "    <tr>\n",
       "      <th>20005</th>\n",
       "      <td>FOODS</td>\n",
       "      <td>ADEREZOS</td>\n",
       "      <td>Mayonesa</td>\n",
       "      <td>NATURA</td>\n",
       "      <td>120</td>\n",
       "    </tr>\n",
       "  </tbody>\n",
       "</table>\n",
       "</div>"
      ],
      "text/plain": [
       "          cat1         cat2      cat3    brand  sku_size\n",
       "item_id                                                 \n",
       "20001       HC  ROPA LAVADO   Liquido    ARIEL      3000\n",
       "20002       HC  ROPA LAVADO   Liquido  LIMPIEX      3000\n",
       "20003    FOODS     ADEREZOS  Mayonesa   NATURA       475\n",
       "20004    FOODS     ADEREZOS  Mayonesa   NATURA       240\n",
       "20005    FOODS     ADEREZOS  Mayonesa   NATURA       120"
      ]
     },
     "execution_count": 12,
     "metadata": {},
     "output_type": "execute_result"
    }
   ],
   "source": [
    "data.static_features.head()"
   ]
  },
  {
   "cell_type": "markdown",
   "id": "d34e8d8d",
   "metadata": {},
   "source": [
    "##### Entrenamiento\n",
    "\n",
    "El entrenamiento tardó 98 minutos"
   ]
  },
  {
   "cell_type": "code",
   "execution_count": 13,
   "id": "a27d87fc",
   "metadata": {},
   "outputs": [
    {
     "name": "stderr",
     "output_type": "stream",
     "text": [
      "c:\\Users\\Usuario\\AppData\\Local\\Programs\\Python\\Python311\\Lib\\site-packages\\autogluon\\timeseries\\predictor.py:197: FutureWarning: 'M' is deprecated and will be removed in a future version, please use 'ME' instead.\n",
      "  std_freq = pd.tseries.frequencies.to_offset(self.freq).freqstr\n",
      "Frequency 'M' stored as 'ME'\n",
      "Beginning AutoGluon training...\n",
      "AutoGluon will save models to 'c:\\Users\\Usuario\\Documents\\Universidad\\austral\\2025\\Lab3\\Lab3-MCD\\notebooks\\model_autogluon\\AutogluonModels\\ag-20250607_151827'\n",
      "=================== System Info ===================\n",
      "AutoGluon Version:  1.2\n",
      "Python Version:     3.11.4\n",
      "Operating System:   Windows\n",
      "Platform Machine:   AMD64\n",
      "Platform Version:   10.0.26100\n",
      "CPU Count:          4\n",
      "GPU Count:          0\n",
      "Memory Avail:       4.33 GB / 15.89 GB (27.3%)\n",
      "Disk Space Avail:   411.65 GB / 893.49 GB (46.1%)\n",
      "===================================================\n",
      "\n",
      "Fitting with arguments:\n",
      "{'enable_ensemble': True,\n",
      " 'eval_metric': WQL,\n",
      " 'freq': 'ME',\n",
      " 'hyperparameters': 'default',\n",
      " 'known_covariates_names': ['crisis'],\n",
      " 'num_val_windows': 2,\n",
      " 'prediction_length': 2,\n",
      " 'quantile_levels': [0.1, 0.2, 0.3, 0.4, 0.5, 0.6, 0.7, 0.8, 0.9],\n",
      " 'random_seed': 123,\n",
      " 'refit_every_n_windows': 1,\n",
      " 'refit_full': False,\n",
      " 'skip_model_selection': False,\n",
      " 'target': 'target',\n",
      " 'verbosity': 2}\n",
      "\n",
      "train_data with frequency 'None' has been resampled to frequency 'ME'.\n",
      "Provided train_data has 22375 rows (NaN fraction=0.1%), 780 time series. Median time series length is 36 (min=4, max=36). \n",
      "\tRemoving 75 short time series from train_data. Only series with length >= 9 will be used for training.\n",
      "\tAfter filtering, train_data has 21916 rows (NaN fraction=0.1%), 705 time series. Median time series length is 36 (min=9, max=36). \n",
      "\n",
      "Provided data contains following columns:\n",
      "\ttarget: 'target'\n",
      "\tknown_covariates:\n",
      "\t\tcategorical:        []\n",
      "\t\tcontinuous (float): ['crisis']\n",
      "\tstatic_features:\n",
      "\t\tcategorical:        ['cat1', 'cat2', 'cat3', 'brand']\n",
      "\t\tcontinuous (float): ['sku_size']\n",
      "\n",
      "To learn how to fix incorrectly inferred types, please see documentation for TimeSeriesPredictor.fit\n",
      "\n",
      "AutoGluon will gauge predictive performance using evaluation metric: 'WQL'\n",
      "\tThis metric's sign has been flipped to adhere to being higher_is_better. The metric score can be multiplied by -1 to get the metric value.\n",
      "===================================================\n",
      "\n",
      "Starting training. Start time is 2025-06-07 12:18:37\n",
      "Models that will be trained: ['SeasonalNaive', 'RecursiveTabular', 'DirectTabular', 'NPTS', 'DynamicOptimizedTheta', 'AutoETS', 'ChronosZeroShot[bolt_base]', 'ChronosFineTuned[bolt_small]', 'TemporalFusionTransformer', 'DeepAR', 'PatchTST', 'TiDE']\n",
      "Training timeseries model SeasonalNaive. \n",
      "\t-0.2298       = Validation score (-WQL)\n",
      "\t3.69    s     = Training runtime\n",
      "\t0.79    s     = Validation (prediction) runtime\n",
      "Training timeseries model RecursiveTabular. \n",
      "\tTime series in the dataset are too short for chosen differences [12]. Setting differences to [1].\n",
      "\tTime series in the dataset are too short for chosen differences [12]. Setting differences to [1].\n",
      "\t-0.2117       = Validation score (-WQL)\n",
      "\t3.71    s     = Training runtime\n",
      "\t0.21    s     = Validation (prediction) runtime\n",
      "Training timeseries model DirectTabular. \n",
      "\t-0.2239       = Validation score (-WQL)\n",
      "\t24.19   s     = Training runtime\n",
      "\t0.39    s     = Validation (prediction) runtime\n",
      "Training timeseries model NPTS. \n",
      "\t-0.2789       = Validation score (-WQL)\n",
      "\t1.37    s     = Training runtime\n",
      "\t1.27    s     = Validation (prediction) runtime\n",
      "Training timeseries model DynamicOptimizedTheta. \n",
      "\t-0.2080       = Validation score (-WQL)\n",
      "\t43.99   s     = Training runtime\n",
      "\t1.79    s     = Validation (prediction) runtime\n",
      "Training timeseries model AutoETS. \n",
      "\tWarning: AutoETS\\W0 failed for 45 time series (6.4%). Fallback model SeasonalNaive was used for these time series.\n",
      "\t-0.2011       = Validation score (-WQL)\n",
      "\t11.82   s     = Training runtime\n",
      "\t12.57   s     = Validation (prediction) runtime\n",
      "Training timeseries model ChronosZeroShot[bolt_base]. \n",
      "\t-0.1905       = Validation score (-WQL)\n",
      "\t36.87   s     = Training runtime\n",
      "\t6.81    s     = Validation (prediction) runtime\n",
      "Training timeseries model ChronosFineTuned[bolt_small]. \n",
      "\tFine-tuning on the CPU detected. We recommend using a GPU for faster fine-tuning of Chronos.\n",
      "\tWarning: Exception caused ChronosFineTuned[bolt_small] to fail during training... Skipping this model.\n",
      "\tTrainingArguments.__init__() got an unexpected keyword argument 'evaluation_strategy'\n",
      "Training timeseries model TemporalFusionTransformer. \n",
      "\t-0.1713       = Validation score (-WQL)\n",
      "\t571.70  s     = Training runtime\n",
      "\t0.75    s     = Validation (prediction) runtime\n",
      "Training timeseries model DeepAR. \n",
      "\t-0.1894       = Validation score (-WQL)\n",
      "\t168.18  s     = Training runtime\n",
      "\t0.98    s     = Validation (prediction) runtime\n",
      "Training timeseries model PatchTST. \n",
      "\t-0.1794       = Validation score (-WQL)\n",
      "\t122.31  s     = Training runtime\n",
      "\t0.45    s     = Validation (prediction) runtime\n",
      "Training timeseries model TiDE. \n",
      "\t-0.2266       = Validation score (-WQL)\n",
      "\t439.33  s     = Training runtime\n",
      "\t0.88    s     = Validation (prediction) runtime\n",
      "Fitting simple weighted ensemble.\n",
      "\tEnsemble weights: {'AutoETS': 0.16, 'DeepAR': 0.06, 'NPTS': 0.06, 'PatchTST': 0.19, 'SeasonalNaive': 0.02, 'TemporalFusionTransformer': 0.5}\n",
      "\t-0.1652       = Validation score (-WQL)\n",
      "\t2.89    s     = Training runtime\n",
      "\t16.82   s     = Validation (prediction) runtime\n",
      "Training complete. Models trained: ['SeasonalNaive', 'RecursiveTabular', 'DirectTabular', 'NPTS', 'DynamicOptimizedTheta', 'AutoETS', 'ChronosZeroShot[bolt_base]', 'TemporalFusionTransformer', 'DeepAR', 'PatchTST', 'TiDE', 'WeightedEnsemble']\n",
      "Total runtime: 1473.52 s\n",
      "Best model: WeightedEnsemble\n",
      "Best model score: -0.1652\n"
     ]
    }
   ],
   "source": [
    "covariates = data.drop(columns = \"target\").columns\n",
    "\n",
    "predictor = TimeSeriesPredictor(target='target',\n",
    "                                prediction_length=2, \n",
    "                                freq=\"M\",\n",
    "                                #eval_metric = \"MSE\",\n",
    "                                known_covariates_names = covariates).fit(data, \n",
    "                                                                         num_val_windows=2)"
   ]
  },
  {
   "cell_type": "markdown",
   "id": "f43fc8ac",
   "metadata": {},
   "source": [
    "##### Leaderboard"
   ]
  },
  {
   "cell_type": "code",
   "execution_count": 36,
   "id": "59b710a4",
   "metadata": {},
   "outputs": [
    {
     "data": {
      "application/vnd.microsoft.datawrangler.viewer.v0+json": {
       "columns": [
        {
         "name": "index",
         "rawType": "int64",
         "type": "integer"
        },
        {
         "name": "model",
         "rawType": "object",
         "type": "string"
        },
        {
         "name": "score_val",
         "rawType": "float64",
         "type": "float"
        },
        {
         "name": "pred_time_val",
         "rawType": "float64",
         "type": "float"
        },
        {
         "name": "fit_time_marginal",
         "rawType": "float64",
         "type": "float"
        },
        {
         "name": "fit_order",
         "rawType": "int64",
         "type": "integer"
        }
       ],
       "ref": "797c21e9-5c5f-42e2-bf28-d16f51f78bcd",
       "rows": [
        [
         "0",
         "WeightedEnsemble",
         "-0.03421234527118546",
         "15.090804100036621",
         "3.053643226623535",
         "12"
        ],
        [
         "1",
         "DirectTabular",
         "-0.03421234527118546",
         "15.090804100036621",
         "2805.955685853958",
         "3"
        ],
        [
         "2",
         "RecursiveTabular",
         "-0.17692658917316806",
         "1.8743681907653809",
         "325.1700482368469",
         "2"
        ],
        [
         "3",
         "ChronosZeroShot[bolt_base]",
         "-0.19028353488123748",
         "10.255714178085327",
         "40.61923599243164",
         "7"
        ],
        [
         "4",
         "AutoETS",
         "-0.1955499176047433",
         "18.24963879585266",
         "16.638717651367188",
         "6"
        ],
        [
         "5",
         "DynamicOptimizedTheta",
         "-0.20198958693496302",
         "2.4658946990966797",
         "64.11153745651245",
         "5"
        ],
        [
         "6",
         "TiDE",
         "-0.23193772585626607",
         "1.30118727684021",
         "616.5814807415009",
         "11"
        ],
        [
         "7",
         "SeasonalNaive",
         "-0.2376114262180185",
         "0.884859561920166",
         "3.8096730709075928",
         "1"
        ],
        [
         "8",
         "NPTS",
         "-0.28820711978182034",
         "1.9684014320373535",
         "6.7632317543029785",
         "4"
        ],
        [
         "9",
         "TemporalFusionTransformer",
         "-0.31126453180131364",
         "1.119807243347168",
         "1174.841227531433",
         "8"
        ],
        [
         "10",
         "DeepAR",
         "-0.31706979375189637",
         "1.5175771713256836",
         "307.9728248119354",
         "9"
        ],
        [
         "11",
         "PatchTST",
         "-0.32886073929332454",
         "0.8874752521514893",
         "320.5104057788849",
         "10"
        ]
       ],
       "shape": {
        "columns": 5,
        "rows": 12
       }
      },
      "text/html": [
       "<div>\n",
       "<style scoped>\n",
       "    .dataframe tbody tr th:only-of-type {\n",
       "        vertical-align: middle;\n",
       "    }\n",
       "\n",
       "    .dataframe tbody tr th {\n",
       "        vertical-align: top;\n",
       "    }\n",
       "\n",
       "    .dataframe thead th {\n",
       "        text-align: right;\n",
       "    }\n",
       "</style>\n",
       "<table border=\"1\" class=\"dataframe\">\n",
       "  <thead>\n",
       "    <tr style=\"text-align: right;\">\n",
       "      <th></th>\n",
       "      <th>model</th>\n",
       "      <th>score_val</th>\n",
       "      <th>pred_time_val</th>\n",
       "      <th>fit_time_marginal</th>\n",
       "      <th>fit_order</th>\n",
       "    </tr>\n",
       "  </thead>\n",
       "  <tbody>\n",
       "    <tr>\n",
       "      <th>0</th>\n",
       "      <td>WeightedEnsemble</td>\n",
       "      <td>-0.034212</td>\n",
       "      <td>15.090804</td>\n",
       "      <td>3.053643</td>\n",
       "      <td>12</td>\n",
       "    </tr>\n",
       "    <tr>\n",
       "      <th>1</th>\n",
       "      <td>DirectTabular</td>\n",
       "      <td>-0.034212</td>\n",
       "      <td>15.090804</td>\n",
       "      <td>2805.955686</td>\n",
       "      <td>3</td>\n",
       "    </tr>\n",
       "    <tr>\n",
       "      <th>2</th>\n",
       "      <td>RecursiveTabular</td>\n",
       "      <td>-0.176927</td>\n",
       "      <td>1.874368</td>\n",
       "      <td>325.170048</td>\n",
       "      <td>2</td>\n",
       "    </tr>\n",
       "    <tr>\n",
       "      <th>3</th>\n",
       "      <td>ChronosZeroShot[bolt_base]</td>\n",
       "      <td>-0.190284</td>\n",
       "      <td>10.255714</td>\n",
       "      <td>40.619236</td>\n",
       "      <td>7</td>\n",
       "    </tr>\n",
       "    <tr>\n",
       "      <th>4</th>\n",
       "      <td>AutoETS</td>\n",
       "      <td>-0.195550</td>\n",
       "      <td>18.249639</td>\n",
       "      <td>16.638718</td>\n",
       "      <td>6</td>\n",
       "    </tr>\n",
       "    <tr>\n",
       "      <th>5</th>\n",
       "      <td>DynamicOptimizedTheta</td>\n",
       "      <td>-0.201990</td>\n",
       "      <td>2.465895</td>\n",
       "      <td>64.111537</td>\n",
       "      <td>5</td>\n",
       "    </tr>\n",
       "    <tr>\n",
       "      <th>6</th>\n",
       "      <td>TiDE</td>\n",
       "      <td>-0.231938</td>\n",
       "      <td>1.301187</td>\n",
       "      <td>616.581481</td>\n",
       "      <td>11</td>\n",
       "    </tr>\n",
       "    <tr>\n",
       "      <th>7</th>\n",
       "      <td>SeasonalNaive</td>\n",
       "      <td>-0.237611</td>\n",
       "      <td>0.884860</td>\n",
       "      <td>3.809673</td>\n",
       "      <td>1</td>\n",
       "    </tr>\n",
       "    <tr>\n",
       "      <th>8</th>\n",
       "      <td>NPTS</td>\n",
       "      <td>-0.288207</td>\n",
       "      <td>1.968401</td>\n",
       "      <td>6.763232</td>\n",
       "      <td>4</td>\n",
       "    </tr>\n",
       "    <tr>\n",
       "      <th>9</th>\n",
       "      <td>TemporalFusionTransformer</td>\n",
       "      <td>-0.311265</td>\n",
       "      <td>1.119807</td>\n",
       "      <td>1174.841228</td>\n",
       "      <td>8</td>\n",
       "    </tr>\n",
       "    <tr>\n",
       "      <th>10</th>\n",
       "      <td>DeepAR</td>\n",
       "      <td>-0.317070</td>\n",
       "      <td>1.517577</td>\n",
       "      <td>307.972825</td>\n",
       "      <td>9</td>\n",
       "    </tr>\n",
       "    <tr>\n",
       "      <th>11</th>\n",
       "      <td>PatchTST</td>\n",
       "      <td>-0.328861</td>\n",
       "      <td>0.887475</td>\n",
       "      <td>320.510406</td>\n",
       "      <td>10</td>\n",
       "    </tr>\n",
       "  </tbody>\n",
       "</table>\n",
       "</div>"
      ],
      "text/plain": [
       "                         model  score_val  pred_time_val  fit_time_marginal  \\\n",
       "0             WeightedEnsemble  -0.034212      15.090804           3.053643   \n",
       "1                DirectTabular  -0.034212      15.090804        2805.955686   \n",
       "2             RecursiveTabular  -0.176927       1.874368         325.170048   \n",
       "3   ChronosZeroShot[bolt_base]  -0.190284      10.255714          40.619236   \n",
       "4                      AutoETS  -0.195550      18.249639          16.638718   \n",
       "5        DynamicOptimizedTheta  -0.201990       2.465895          64.111537   \n",
       "6                         TiDE  -0.231938       1.301187         616.581481   \n",
       "7                SeasonalNaive  -0.237611       0.884860           3.809673   \n",
       "8                         NPTS  -0.288207       1.968401           6.763232   \n",
       "9    TemporalFusionTransformer  -0.311265       1.119807        1174.841228   \n",
       "10                      DeepAR  -0.317070       1.517577         307.972825   \n",
       "11                    PatchTST  -0.328861       0.887475         320.510406   \n",
       "\n",
       "    fit_order  \n",
       "0          12  \n",
       "1           3  \n",
       "2           2  \n",
       "3           7  \n",
       "4           6  \n",
       "5           5  \n",
       "6          11  \n",
       "7           1  \n",
       "8           4  \n",
       "9           8  \n",
       "10          9  \n",
       "11         10  "
      ]
     },
     "execution_count": 36,
     "metadata": {},
     "output_type": "execute_result"
    }
   ],
   "source": [
    "predictor.leaderboard()\n"
   ]
  },
  {
   "cell_type": "markdown",
   "id": "3557b390",
   "metadata": {},
   "source": [
    "##### Feature Importance\n",
    "\n",
    "TARDA 22 MINUTOS"
   ]
  },
  {
   "cell_type": "code",
   "execution_count": 18,
   "id": "5c8628f3",
   "metadata": {},
   "outputs": [
    {
     "name": "stderr",
     "output_type": "stream",
     "text": [
      "Computing feature importance\n"
     ]
    },
    {
     "data": {
      "application/vnd.microsoft.datawrangler.viewer.v0+json": {
       "columns": [
        {
         "name": "index",
         "rawType": "object",
         "type": "string"
        },
        {
         "name": "importance",
         "rawType": "float64",
         "type": "float"
        },
        {
         "name": "stdev",
         "rawType": "float64",
         "type": "float"
        },
        {
         "name": "n",
         "rawType": "float64",
         "type": "float"
        },
        {
         "name": "p99_low",
         "rawType": "float64",
         "type": "float"
        },
        {
         "name": "p99_high",
         "rawType": "float64",
         "type": "float"
        }
       ],
       "ref": "06e45e29-1491-4807-a42e-0e59ca15c400",
       "rows": [
        [
         "cat1",
         "0.0001356641818068549",
         "0.0007112733253368901",
         "5.0",
         "-0.0013288574259038902",
         "0.0016001857895176"
        ],
        [
         "cat2",
         "0.0003291068529046759",
         "0.0004895805222814215",
         "5.0",
         "-0.0006789462091946945",
         "0.0013371599150040464"
        ],
        [
         "cat3",
         "-1.7316666339539655e-05",
         "0.0005208994593072551",
         "5.0",
         "-0.001089855852648813",
         "0.0010552225199697337"
        ],
        [
         "brand",
         "-7.958261362485119e-05",
         "0.0005704550509966806",
         "5.0",
         "-0.001254157448153717",
         "0.0010949922209040146"
        ],
        [
         "sku_size",
         "-0.0001753882395495898",
         "0.0013843282816230007",
         "5.0",
         "-0.0030257393048615283",
         "0.002674962825762349"
        ],
        [
         "crisis",
         "0.0033084785868694234",
         "0.01083537550987651",
         "5.0",
         "-0.01900170934877107",
         "0.02561866652250992"
        ]
       ],
       "shape": {
        "columns": 5,
        "rows": 6
       }
      },
      "text/html": [
       "<div>\n",
       "<style scoped>\n",
       "    .dataframe tbody tr th:only-of-type {\n",
       "        vertical-align: middle;\n",
       "    }\n",
       "\n",
       "    .dataframe tbody tr th {\n",
       "        vertical-align: top;\n",
       "    }\n",
       "\n",
       "    .dataframe thead th {\n",
       "        text-align: right;\n",
       "    }\n",
       "</style>\n",
       "<table border=\"1\" class=\"dataframe\">\n",
       "  <thead>\n",
       "    <tr style=\"text-align: right;\">\n",
       "      <th></th>\n",
       "      <th>importance</th>\n",
       "      <th>stdev</th>\n",
       "      <th>n</th>\n",
       "      <th>p99_low</th>\n",
       "      <th>p99_high</th>\n",
       "    </tr>\n",
       "  </thead>\n",
       "  <tbody>\n",
       "    <tr>\n",
       "      <th>cat1</th>\n",
       "      <td>0.000136</td>\n",
       "      <td>0.000711</td>\n",
       "      <td>5.0</td>\n",
       "      <td>-0.001329</td>\n",
       "      <td>0.001600</td>\n",
       "    </tr>\n",
       "    <tr>\n",
       "      <th>cat2</th>\n",
       "      <td>0.000329</td>\n",
       "      <td>0.000490</td>\n",
       "      <td>5.0</td>\n",
       "      <td>-0.000679</td>\n",
       "      <td>0.001337</td>\n",
       "    </tr>\n",
       "    <tr>\n",
       "      <th>cat3</th>\n",
       "      <td>-0.000017</td>\n",
       "      <td>0.000521</td>\n",
       "      <td>5.0</td>\n",
       "      <td>-0.001090</td>\n",
       "      <td>0.001055</td>\n",
       "    </tr>\n",
       "    <tr>\n",
       "      <th>brand</th>\n",
       "      <td>-0.000080</td>\n",
       "      <td>0.000570</td>\n",
       "      <td>5.0</td>\n",
       "      <td>-0.001254</td>\n",
       "      <td>0.001095</td>\n",
       "    </tr>\n",
       "    <tr>\n",
       "      <th>sku_size</th>\n",
       "      <td>-0.000175</td>\n",
       "      <td>0.001384</td>\n",
       "      <td>5.0</td>\n",
       "      <td>-0.003026</td>\n",
       "      <td>0.002675</td>\n",
       "    </tr>\n",
       "    <tr>\n",
       "      <th>crisis</th>\n",
       "      <td>0.003308</td>\n",
       "      <td>0.010835</td>\n",
       "      <td>5.0</td>\n",
       "      <td>-0.019002</td>\n",
       "      <td>0.025619</td>\n",
       "    </tr>\n",
       "  </tbody>\n",
       "</table>\n",
       "</div>"
      ],
      "text/plain": [
       "          importance     stdev    n   p99_low  p99_high\n",
       "cat1        0.000136  0.000711  5.0 -0.001329  0.001600\n",
       "cat2        0.000329  0.000490  5.0 -0.000679  0.001337\n",
       "cat3       -0.000017  0.000521  5.0 -0.001090  0.001055\n",
       "brand      -0.000080  0.000570  5.0 -0.001254  0.001095\n",
       "sku_size   -0.000175  0.001384  5.0 -0.003026  0.002675\n",
       "crisis      0.003308  0.010835  5.0 -0.019002  0.025619"
      ]
     },
     "execution_count": 18,
     "metadata": {},
     "output_type": "execute_result"
    }
   ],
   "source": [
    "predictor.feature_importance()"
   ]
  },
  {
   "cell_type": "markdown",
   "id": "4a3ee45f",
   "metadata": {},
   "source": [
    "##### Filtramos fechas futuras"
   ]
  },
  {
   "cell_type": "code",
   "execution_count": 14,
   "id": "62762b34",
   "metadata": {},
   "outputs": [
    {
     "name": "stdout",
     "output_type": "stream",
     "text": [
      "2020-01-01 00:00:00 2020-02-01 00:00:00\n"
     ]
    },
    {
     "data": {
      "text/html": [
       "<div>\n",
       "<style scoped>\n",
       "    .dataframe tbody tr th:only-of-type {\n",
       "        vertical-align: middle;\n",
       "    }\n",
       "\n",
       "    .dataframe tbody tr th {\n",
       "        vertical-align: top;\n",
       "    }\n",
       "\n",
       "    .dataframe thead th {\n",
       "        text-align: right;\n",
       "    }\n",
       "</style>\n",
       "<table border=\"1\" class=\"dataframe\">\n",
       "  <thead>\n",
       "    <tr style=\"text-align: right;\">\n",
       "      <th></th>\n",
       "      <th></th>\n",
       "      <th>crisis</th>\n",
       "    </tr>\n",
       "    <tr>\n",
       "      <th>item_id</th>\n",
       "      <th>timestamp</th>\n",
       "      <th></th>\n",
       "    </tr>\n",
       "  </thead>\n",
       "  <tbody>\n",
       "    <tr>\n",
       "      <th rowspan=\"2\" valign=\"top\">20001</th>\n",
       "      <th>2020-01-31</th>\n",
       "      <td>0</td>\n",
       "    </tr>\n",
       "    <tr>\n",
       "      <th>2020-02-29</th>\n",
       "      <td>0</td>\n",
       "    </tr>\n",
       "    <tr>\n",
       "      <th rowspan=\"2\" valign=\"top\">20002</th>\n",
       "      <th>2020-01-31</th>\n",
       "      <td>0</td>\n",
       "    </tr>\n",
       "    <tr>\n",
       "      <th>2020-02-29</th>\n",
       "      <td>0</td>\n",
       "    </tr>\n",
       "    <tr>\n",
       "      <th>20003</th>\n",
       "      <th>2020-01-31</th>\n",
       "      <td>0</td>\n",
       "    </tr>\n",
       "  </tbody>\n",
       "</table>\n",
       "</div>"
      ],
      "text/plain": [
       "                    crisis\n",
       "item_id timestamp         \n",
       "20001   2020-01-31       0\n",
       "        2020-02-29       0\n",
       "20002   2020-01-31       0\n",
       "        2020-02-29       0\n",
       "20003   2020-01-31       0"
      ]
     },
     "execution_count": 14,
     "metadata": {},
     "output_type": "execute_result"
    }
   ],
   "source": [
    "futuro_c = futuro.copy()\n",
    "futuro_c.drop(columns=['target'], inplace=True)\n",
    "futuro_c['timestamp'] = futuro_c['timestamp'] + pd.offsets.MonthEnd(0)\n",
    "futuro_c['timestamp'] = futuro_c['timestamp'].dt.strftime('%Y-%m-%d')\n",
    "\n",
    "print(futuro.timestamp.min(), futuro.timestamp.max())\n",
    "\n",
    "known_covariates_future = TimeSeriesDataFrame.from_data_frame(futuro_c,\n",
    "                                                              id_column=\"item_id\",\n",
    "                                                              timestamp_column=\"timestamp\")\n",
    "known_covariates_future.head()"
   ]
  },
  {
   "cell_type": "code",
   "execution_count": 15,
   "id": "31192333",
   "metadata": {},
   "outputs": [
    {
     "name": "stderr",
     "output_type": "stream",
     "text": [
      "data with frequency 'None' has been resampled to frequency 'ME'.\n",
      "Model not specified in predict, will default to the model with the best validation score: WeightedEnsemble\n",
      "\tWarning: AutoETS\\W1 failed for 46 time series (5.9%). Fallback model SeasonalNaive was used for these time series.\n"
     ]
    }
   ],
   "source": [
    "predictions = predictor.predict(data,\n",
    "                                known_covariates = known_covariates_future)"
   ]
  },
  {
   "cell_type": "code",
   "execution_count": 16,
   "id": "3d54ec95",
   "metadata": {},
   "outputs": [
    {
     "data": {
      "text/html": [
       "<div>\n",
       "<style scoped>\n",
       "    .dataframe tbody tr th:only-of-type {\n",
       "        vertical-align: middle;\n",
       "    }\n",
       "\n",
       "    .dataframe tbody tr th {\n",
       "        vertical-align: top;\n",
       "    }\n",
       "\n",
       "    .dataframe thead th {\n",
       "        text-align: right;\n",
       "    }\n",
       "</style>\n",
       "<table border=\"1\" class=\"dataframe\">\n",
       "  <thead>\n",
       "    <tr style=\"text-align: right;\">\n",
       "      <th></th>\n",
       "      <th>product_id</th>\n",
       "      <th>tn</th>\n",
       "    </tr>\n",
       "  </thead>\n",
       "  <tbody>\n",
       "    <tr>\n",
       "      <th>1</th>\n",
       "      <td>20001</td>\n",
       "      <td>1285.106555</td>\n",
       "    </tr>\n",
       "    <tr>\n",
       "      <th>3</th>\n",
       "      <td>20002</td>\n",
       "      <td>1062.697731</td>\n",
       "    </tr>\n",
       "    <tr>\n",
       "      <th>5</th>\n",
       "      <td>20003</td>\n",
       "      <td>664.628900</td>\n",
       "    </tr>\n",
       "    <tr>\n",
       "      <th>7</th>\n",
       "      <td>20004</td>\n",
       "      <td>516.781357</td>\n",
       "    </tr>\n",
       "    <tr>\n",
       "      <th>9</th>\n",
       "      <td>20005</td>\n",
       "      <td>499.909334</td>\n",
       "    </tr>\n",
       "  </tbody>\n",
       "</table>\n",
       "</div>"
      ],
      "text/plain": [
       "   product_id           tn\n",
       "1       20001  1285.106555\n",
       "3       20002  1062.697731\n",
       "5       20003   664.628900\n",
       "7       20004   516.781357\n",
       "9       20005   499.909334"
      ]
     },
     "execution_count": 16,
     "metadata": {},
     "output_type": "execute_result"
    }
   ],
   "source": [
    "predictions_v1 = predictions.copy()\n",
    "predictions_v1 = predictions_v1.reset_index()\n",
    "predictions_v1 = predictions_v1[[\"item_id\", \"timestamp\", \"mean\"]]\n",
    "predictions_v1 = predictions_v1[predictions_v1.timestamp == \"2020-02-29\"]\n",
    "predictions_v1 = predictions_v1.drop(columns = {\"timestamp\"})\n",
    "predictions_v1 = predictions_v1.rename(columns = {\"item_id\":\"product_id\", \"mean\":\"tn\"})\n",
    "predictions_v1.head(5)"
   ]
  },
  {
   "cell_type": "code",
   "execution_count": 17,
   "id": "d8fa0177",
   "metadata": {},
   "outputs": [],
   "source": [
    "predictions_v1.to_csv(\"../../outputs/autogluon_FE_con_crisis.csv\", sep = \",\", index = False)"
   ]
  }
 ],
 "metadata": {
  "kernelspec": {
   "display_name": "Python 3",
   "language": "python",
   "name": "python3"
  },
  "language_info": {
   "codemirror_mode": {
    "name": "ipython",
    "version": 3
   },
   "file_extension": ".py",
   "mimetype": "text/x-python",
   "name": "python",
   "nbconvert_exporter": "python",
   "pygments_lexer": "ipython3",
   "version": "3.11.4"
  }
 },
 "nbformat": 4,
 "nbformat_minor": 5
}
