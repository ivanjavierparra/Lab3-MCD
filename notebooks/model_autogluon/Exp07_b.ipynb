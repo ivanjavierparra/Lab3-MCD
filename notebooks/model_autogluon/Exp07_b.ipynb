{
 "cells": [
  {
   "cell_type": "markdown",
   "id": "7791a93b",
   "metadata": {},
   "source": [
    "# Experimento 7\n",
    "\n",
    "Feature Engineering con Autogluon"
   ]
  },
  {
   "cell_type": "code",
   "execution_count": null,
   "id": "cd8344e2",
   "metadata": {},
   "outputs": [],
   "source": [
    "import pandas as pd\n",
    "import numpy as np\n",
    "from autogluon.timeseries import TimeSeriesDataFrame, TimeSeriesPredictor\n",
    "from statsmodels.tsa.seasonal import seasonal_decompose"
   ]
  },
  {
   "cell_type": "code",
   "execution_count": 3,
   "id": "09f9e79b",
   "metadata": {},
   "outputs": [
    {
     "data": {
      "application/vnd.microsoft.datawrangler.viewer.v0+json": {
       "columns": [
        {
         "name": "index",
         "rawType": "int64",
         "type": "integer"
        },
        {
         "name": "periodo",
         "rawType": "int64",
         "type": "integer"
        },
        {
         "name": "customer_id",
         "rawType": "int64",
         "type": "integer"
        },
        {
         "name": "product_id",
         "rawType": "int64",
         "type": "integer"
        },
        {
         "name": "plan_precios_cuidados",
         "rawType": "int64",
         "type": "integer"
        },
        {
         "name": "cust_request_qty",
         "rawType": "int64",
         "type": "integer"
        },
        {
         "name": "cust_request_tn",
         "rawType": "float64",
         "type": "float"
        },
        {
         "name": "tn",
         "rawType": "float64",
         "type": "float"
        },
        {
         "name": "cat1",
         "rawType": "object",
         "type": "string"
        },
        {
         "name": "cat2",
         "rawType": "object",
         "type": "string"
        },
        {
         "name": "cat3",
         "rawType": "object",
         "type": "string"
        },
        {
         "name": "brand",
         "rawType": "object",
         "type": "string"
        },
        {
         "name": "sku_size",
         "rawType": "float64",
         "type": "float"
        },
        {
         "name": "stock_final",
         "rawType": "float64",
         "type": "float"
        }
       ],
       "ref": "0c18cf0b-b04e-4d87-91fc-acff12c4a822",
       "rows": [
        [
         "0",
         "201701",
         "10234",
         "20524",
         "0",
         "2",
         "0.053",
         "0.053",
         "HC",
         "VAJILLA",
         "Cristalino",
         "Importado",
         "500.0",
         null
        ],
        [
         "1",
         "201701",
         "10032",
         "20524",
         "0",
         "1",
         "0.13628",
         "0.13628",
         "HC",
         "VAJILLA",
         "Cristalino",
         "Importado",
         "500.0",
         null
        ],
        [
         "2",
         "201701",
         "10217",
         "20524",
         "0",
         "1",
         "0.03028",
         "0.03028",
         "HC",
         "VAJILLA",
         "Cristalino",
         "Importado",
         "500.0",
         null
        ],
        [
         "3",
         "201701",
         "10125",
         "20524",
         "0",
         "1",
         "0.02271",
         "0.02271",
         "HC",
         "VAJILLA",
         "Cristalino",
         "Importado",
         "500.0",
         null
        ],
        [
         "4",
         "201701",
         "10012",
         "20524",
         "0",
         "11",
         "1.54452",
         "1.54452",
         "HC",
         "VAJILLA",
         "Cristalino",
         "Importado",
         "500.0",
         null
        ]
       ],
       "shape": {
        "columns": 13,
        "rows": 5
       }
      },
      "text/html": [
       "<div>\n",
       "<style scoped>\n",
       "    .dataframe tbody tr th:only-of-type {\n",
       "        vertical-align: middle;\n",
       "    }\n",
       "\n",
       "    .dataframe tbody tr th {\n",
       "        vertical-align: top;\n",
       "    }\n",
       "\n",
       "    .dataframe thead th {\n",
       "        text-align: right;\n",
       "    }\n",
       "</style>\n",
       "<table border=\"1\" class=\"dataframe\">\n",
       "  <thead>\n",
       "    <tr style=\"text-align: right;\">\n",
       "      <th></th>\n",
       "      <th>periodo</th>\n",
       "      <th>customer_id</th>\n",
       "      <th>product_id</th>\n",
       "      <th>plan_precios_cuidados</th>\n",
       "      <th>cust_request_qty</th>\n",
       "      <th>cust_request_tn</th>\n",
       "      <th>tn</th>\n",
       "      <th>cat1</th>\n",
       "      <th>cat2</th>\n",
       "      <th>cat3</th>\n",
       "      <th>brand</th>\n",
       "      <th>sku_size</th>\n",
       "      <th>stock_final</th>\n",
       "    </tr>\n",
       "  </thead>\n",
       "  <tbody>\n",
       "    <tr>\n",
       "      <th>0</th>\n",
       "      <td>201701</td>\n",
       "      <td>10234</td>\n",
       "      <td>20524</td>\n",
       "      <td>0</td>\n",
       "      <td>2</td>\n",
       "      <td>0.05300</td>\n",
       "      <td>0.05300</td>\n",
       "      <td>HC</td>\n",
       "      <td>VAJILLA</td>\n",
       "      <td>Cristalino</td>\n",
       "      <td>Importado</td>\n",
       "      <td>500.0</td>\n",
       "      <td>NaN</td>\n",
       "    </tr>\n",
       "    <tr>\n",
       "      <th>1</th>\n",
       "      <td>201701</td>\n",
       "      <td>10032</td>\n",
       "      <td>20524</td>\n",
       "      <td>0</td>\n",
       "      <td>1</td>\n",
       "      <td>0.13628</td>\n",
       "      <td>0.13628</td>\n",
       "      <td>HC</td>\n",
       "      <td>VAJILLA</td>\n",
       "      <td>Cristalino</td>\n",
       "      <td>Importado</td>\n",
       "      <td>500.0</td>\n",
       "      <td>NaN</td>\n",
       "    </tr>\n",
       "    <tr>\n",
       "      <th>2</th>\n",
       "      <td>201701</td>\n",
       "      <td>10217</td>\n",
       "      <td>20524</td>\n",
       "      <td>0</td>\n",
       "      <td>1</td>\n",
       "      <td>0.03028</td>\n",
       "      <td>0.03028</td>\n",
       "      <td>HC</td>\n",
       "      <td>VAJILLA</td>\n",
       "      <td>Cristalino</td>\n",
       "      <td>Importado</td>\n",
       "      <td>500.0</td>\n",
       "      <td>NaN</td>\n",
       "    </tr>\n",
       "    <tr>\n",
       "      <th>3</th>\n",
       "      <td>201701</td>\n",
       "      <td>10125</td>\n",
       "      <td>20524</td>\n",
       "      <td>0</td>\n",
       "      <td>1</td>\n",
       "      <td>0.02271</td>\n",
       "      <td>0.02271</td>\n",
       "      <td>HC</td>\n",
       "      <td>VAJILLA</td>\n",
       "      <td>Cristalino</td>\n",
       "      <td>Importado</td>\n",
       "      <td>500.0</td>\n",
       "      <td>NaN</td>\n",
       "    </tr>\n",
       "    <tr>\n",
       "      <th>4</th>\n",
       "      <td>201701</td>\n",
       "      <td>10012</td>\n",
       "      <td>20524</td>\n",
       "      <td>0</td>\n",
       "      <td>11</td>\n",
       "      <td>1.54452</td>\n",
       "      <td>1.54452</td>\n",
       "      <td>HC</td>\n",
       "      <td>VAJILLA</td>\n",
       "      <td>Cristalino</td>\n",
       "      <td>Importado</td>\n",
       "      <td>500.0</td>\n",
       "      <td>NaN</td>\n",
       "    </tr>\n",
       "  </tbody>\n",
       "</table>\n",
       "</div>"
      ],
      "text/plain": [
       "   periodo  customer_id  product_id  plan_precios_cuidados  cust_request_qty  \\\n",
       "0   201701        10234       20524                      0                 2   \n",
       "1   201701        10032       20524                      0                 1   \n",
       "2   201701        10217       20524                      0                 1   \n",
       "3   201701        10125       20524                      0                 1   \n",
       "4   201701        10012       20524                      0                11   \n",
       "\n",
       "   cust_request_tn       tn cat1     cat2        cat3      brand  sku_size  \\\n",
       "0          0.05300  0.05300   HC  VAJILLA  Cristalino  Importado     500.0   \n",
       "1          0.13628  0.13628   HC  VAJILLA  Cristalino  Importado     500.0   \n",
       "2          0.03028  0.03028   HC  VAJILLA  Cristalino  Importado     500.0   \n",
       "3          0.02271  0.02271   HC  VAJILLA  Cristalino  Importado     500.0   \n",
       "4          1.54452  1.54452   HC  VAJILLA  Cristalino  Importado     500.0   \n",
       "\n",
       "   stock_final  \n",
       "0          NaN  \n",
       "1          NaN  \n",
       "2          NaN  \n",
       "3          NaN  \n",
       "4          NaN  "
      ]
     },
     "execution_count": 3,
     "metadata": {},
     "output_type": "execute_result"
    }
   ],
   "source": [
    "df = pd.read_csv('../../data/preprocessed/base.csv', sep=',')\n",
    "df.head()"
   ]
  },
  {
   "cell_type": "code",
   "execution_count": 4,
   "id": "e3140ca3",
   "metadata": {},
   "outputs": [
    {
     "data": {
      "application/vnd.microsoft.datawrangler.viewer.v0+json": {
       "columns": [
        {
         "name": "index",
         "rawType": "int64",
         "type": "integer"
        },
        {
         "name": "periodo",
         "rawType": "int64",
         "type": "integer"
        },
        {
         "name": "product_id",
         "rawType": "int64",
         "type": "integer"
        },
        {
         "name": "tn",
         "rawType": "float64",
         "type": "float"
        }
       ],
       "ref": "74db8a6d-1553-4950-804c-dcf70de96a1e",
       "rows": [
        [
         "0",
         "201701",
         "20001",
         "934.77222"
        ],
        [
         "1",
         "201701",
         "20002",
         "550.15707"
        ],
        [
         "2",
         "201701",
         "20003",
         "1063.45835"
        ],
        [
         "3",
         "201701",
         "20004",
         "555.9161399999999"
        ],
        [
         "4",
         "201701",
         "20005",
         "494.27011"
        ]
       ],
       "shape": {
        "columns": 3,
        "rows": 5
       }
      },
      "text/html": [
       "<div>\n",
       "<style scoped>\n",
       "    .dataframe tbody tr th:only-of-type {\n",
       "        vertical-align: middle;\n",
       "    }\n",
       "\n",
       "    .dataframe tbody tr th {\n",
       "        vertical-align: top;\n",
       "    }\n",
       "\n",
       "    .dataframe thead th {\n",
       "        text-align: right;\n",
       "    }\n",
       "</style>\n",
       "<table border=\"1\" class=\"dataframe\">\n",
       "  <thead>\n",
       "    <tr style=\"text-align: right;\">\n",
       "      <th></th>\n",
       "      <th>periodo</th>\n",
       "      <th>product_id</th>\n",
       "      <th>tn</th>\n",
       "    </tr>\n",
       "  </thead>\n",
       "  <tbody>\n",
       "    <tr>\n",
       "      <th>0</th>\n",
       "      <td>201701</td>\n",
       "      <td>20001</td>\n",
       "      <td>934.77222</td>\n",
       "    </tr>\n",
       "    <tr>\n",
       "      <th>1</th>\n",
       "      <td>201701</td>\n",
       "      <td>20002</td>\n",
       "      <td>550.15707</td>\n",
       "    </tr>\n",
       "    <tr>\n",
       "      <th>2</th>\n",
       "      <td>201701</td>\n",
       "      <td>20003</td>\n",
       "      <td>1063.45835</td>\n",
       "    </tr>\n",
       "    <tr>\n",
       "      <th>3</th>\n",
       "      <td>201701</td>\n",
       "      <td>20004</td>\n",
       "      <td>555.91614</td>\n",
       "    </tr>\n",
       "    <tr>\n",
       "      <th>4</th>\n",
       "      <td>201701</td>\n",
       "      <td>20005</td>\n",
       "      <td>494.27011</td>\n",
       "    </tr>\n",
       "  </tbody>\n",
       "</table>\n",
       "</div>"
      ],
      "text/plain": [
       "   periodo  product_id          tn\n",
       "0   201701       20001   934.77222\n",
       "1   201701       20002   550.15707\n",
       "2   201701       20003  1063.45835\n",
       "3   201701       20004   555.91614\n",
       "4   201701       20005   494.27011"
      ]
     },
     "execution_count": 4,
     "metadata": {},
     "output_type": "execute_result"
    }
   ],
   "source": [
    "dfg = df.groupby(['periodo', 'product_id']).agg({'tn': 'sum'}).reset_index()\n",
    "dfg.head()"
   ]
  },
  {
   "cell_type": "code",
   "execution_count": 5,
   "id": "d4a5d723",
   "metadata": {},
   "outputs": [],
   "source": [
    "dfg['periodo_dt'] = pd.to_datetime(dfg['periodo'].astype(str), format='%Y%m')\n",
    "dfg.rename(columns={'tn': 'target', 'product_id':'item_id', 'periodo_dt': 'timestamp'}, inplace=True)\n",
    "dfg.drop(columns=['periodo'], inplace=True)"
   ]
  },
  {
   "cell_type": "code",
   "execution_count": null,
   "id": "3893da31",
   "metadata": {},
   "outputs": [],
   "source": [
    "# Versión más concisa usando merge cruzado\n",
    "future_periods = pd.DataFrame({\n",
    "    'timestamp': pd.to_datetime(['2020-01-01', '2020-02-01'])\n",
    "})\n",
    "\n",
    "df_future = (dfg[['item_id']].drop_duplicates()\n",
    "             .merge(future_periods, how='cross')\n",
    "             .assign(target=0))  # Asignar 0 a tn\n",
    "\n",
    "dfg_completo = pd.concat([dfg, df_future], ignore_index=True)\n",
    "\n",
    "dfg = dfg_completo.copy()"
   ]
  },
  {
   "cell_type": "code",
   "execution_count": null,
   "id": "49d5f7f3",
   "metadata": {},
   "outputs": [
    {
     "data": {
      "application/vnd.microsoft.datawrangler.viewer.v0+json": {
       "columns": [
        {
         "name": "index",
         "rawType": "int64",
         "type": "integer"
        },
        {
         "name": "item_id",
         "rawType": "int64",
         "type": "integer"
        },
        {
         "name": "target",
         "rawType": "float64",
         "type": "float"
        },
        {
         "name": "timestamp",
         "rawType": "datetime64[ns]",
         "type": "datetime"
        },
        {
         "name": "cat1",
         "rawType": "object",
         "type": "unknown"
        },
        {
         "name": "cat2",
         "rawType": "object",
         "type": "unknown"
        },
        {
         "name": "cat3",
         "rawType": "object",
         "type": "unknown"
        },
        {
         "name": "brand",
         "rawType": "object",
         "type": "unknown"
        },
        {
         "name": "sku_size",
         "rawType": "float64",
         "type": "float"
        },
        {
         "name": "product_id",
         "rawType": "float64",
         "type": "float"
        }
       ],
       "ref": "d323ca0d-ea03-4fc8-8f16-26dcfa818c19",
       "rows": [
        [
         "0",
         "20001",
         "934.77222",
         "2017-01-01 00:00:00",
         "HC",
         "ROPA LAVADO",
         "Liquido",
         "ARIEL",
         "3000.0",
         "20001.0"
        ],
        [
         "1",
         "20002",
         "550.15707",
         "2017-01-01 00:00:00",
         "HC",
         "ROPA LAVADO",
         "Liquido",
         "LIMPIEX",
         "3000.0",
         "20002.0"
        ],
        [
         "2",
         "20003",
         "1063.45835",
         "2017-01-01 00:00:00",
         "FOODS",
         "ADEREZOS",
         "Mayonesa",
         "NATURA",
         "475.0",
         "20003.0"
        ],
        [
         "3",
         "20004",
         "555.9161399999999",
         "2017-01-01 00:00:00",
         "FOODS",
         "ADEREZOS",
         "Mayonesa",
         "NATURA",
         "240.0",
         "20004.0"
        ],
        [
         "4",
         "20005",
         "494.27011",
         "2017-01-01 00:00:00",
         "FOODS",
         "ADEREZOS",
         "Mayonesa",
         "NATURA",
         "120.0",
         "20005.0"
        ],
        [
         "5",
         "20006",
         "528.40996",
         "2017-01-01 00:00:00",
         "HC",
         "VAJILLA",
         "Cristalino",
         "LIMPIEX",
         "750.0",
         "20006.0"
        ],
        [
         "6",
         "20007",
         "464.67137",
         "2017-01-01 00:00:00",
         "HC",
         "ROPA ACONDICIONADOR",
         "ACONDICIONADOR",
         "DOWNY",
         "900.0",
         "20007.0"
        ],
        [
         "7",
         "20008",
         "523.04609",
         "2017-01-01 00:00:00",
         "HC",
         "VAJILLA",
         "Opaco",
         "LIMPIEX",
         "750.0",
         "20008.0"
        ],
        [
         "8",
         "20009",
         "378.08172",
         "2017-01-01 00:00:00",
         "HC",
         "ROPA LAVADO",
         "Liquido",
         "ROPEX1",
         "3000.0",
         "20009.0"
        ],
        [
         "9",
         "20010",
         "441.25546",
         "2017-01-01 00:00:00",
         "HC",
         "ROPA LAVADO",
         "Polvo",
         "LIMPIEX",
         "400.0",
         "20010.0"
        ],
        [
         "10",
         "20011",
         "489.25422000000003",
         "2017-01-01 00:00:00",
         "HC",
         "ROPA LAVADO",
         "Polvo",
         "LIMPIEX",
         "3000.0",
         "20011.0"
        ],
        [
         "11",
         "20012",
         "476.39728",
         "2017-01-01 00:00:00",
         "HC",
         "ROPA ACONDICIONADOR",
         "ACONDICIONADOR",
         "DOWNY",
         "800.0",
         "20012.0"
        ],
        [
         "12",
         "20013",
         "433.34928",
         "2017-01-01 00:00:00",
         "HC",
         "HOGAR",
         "Cremoso",
         "MUSCULO",
         "750.0",
         "20013.0"
        ],
        [
         "13",
         "20014",
         "248.65917",
         "2017-01-01 00:00:00",
         "HC",
         "ROPA ACONDICIONADOR",
         "ACONDICIONADOR",
         "DOWNY",
         "3000.0",
         "20014.0"
        ],
        [
         "14",
         "20015",
         "304.24755",
         "2017-01-01 00:00:00",
         "HC",
         "ROPA LAVADO",
         "Liquido",
         "ROPEX1",
         "800.0",
         "20015.0"
        ],
        [
         "15",
         "20016",
         "293.66064",
         "2017-01-01 00:00:00",
         "HC",
         "ROPA LAVADO",
         "Polvo",
         "LIMPIEX",
         "3000.0",
         "20016.0"
        ],
        [
         "16",
         "20017",
         "327.60433",
         "2017-01-01 00:00:00",
         "HC",
         "VAJILLA",
         "Opaco",
         "LIMPIEX",
         "750.0",
         "20017.0"
        ],
        [
         "17",
         "20018",
         "343.26727999999997",
         "2017-01-01 00:00:00",
         "HC",
         "VAJILLA",
         "Cristalino",
         "LIMPIEX",
         "750.0",
         "20018.0"
        ],
        [
         "18",
         "20019",
         "409.5724",
         "2017-01-01 00:00:00",
         "FOODS",
         "ADEREZOS",
         "Mayonesa",
         "NATURA",
         "950.0",
         "20019.0"
        ],
        [
         "19",
         "20020",
         "293.38983",
         "2017-01-01 00:00:00",
         "HC",
         "ROPA LAVADO",
         "Polvo",
         "LIMPIEX",
         "800.0",
         "20020.0"
        ],
        [
         "20",
         "20021",
         "331.17312",
         "2017-01-01 00:00:00",
         "HC",
         "ROPA LAVADO",
         "Polvo",
         "LIMPIEX",
         "400.0",
         "20021.0"
        ],
        [
         "21",
         "20022",
         "316.55771",
         "2017-01-01 00:00:00",
         "HC",
         "ROPA LAVADO",
         "Polvo",
         "LIMPIEX",
         "800.0",
         "20022.0"
        ],
        [
         "22",
         "20023",
         "207.13875",
         "2017-01-01 00:00:00",
         "FOODS",
         "ADEREZOS",
         "Mostaza",
         "MOSTAZA1",
         "240.0",
         "20023.0"
        ],
        [
         "23",
         "20024",
         "313.33302",
         "2017-01-01 00:00:00",
         "HC",
         "ROPA LAVADO",
         "Polvo",
         "LIMPIEX",
         "3000.0",
         "20024.0"
        ],
        [
         "24",
         "20025",
         "166.81392",
         "2017-01-01 00:00:00",
         "HC",
         "ROPA LAVADO",
         "Polvo",
         "LIMPIEX",
         "3000.0",
         "20025.0"
        ],
        [
         "25",
         "20026",
         "184.40019999999998",
         "2017-01-01 00:00:00",
         "HC",
         "ROPA LAVADO",
         "Liquido",
         "LIMPIEX",
         "800.0",
         "20026.0"
        ],
        [
         "26",
         "20027",
         "223.33358",
         "2017-01-01 00:00:00",
         "HC",
         "HOGAR",
         "Antigrasa",
         "MUSCULO",
         "450.0",
         "20027.0"
        ],
        [
         "27",
         "20028",
         "280.32732",
         "2017-01-01 00:00:00",
         "HC",
         "ROPA LAVADO",
         "Polvo",
         "ROPEX1",
         "3000.0",
         "20028.0"
        ],
        [
         "28",
         "20029",
         "236.03158000000002",
         "2017-01-01 00:00:00",
         "HC",
         "VAJILLA",
         "Cristalino",
         "LIMPIEX",
         "750.0",
         "20029.0"
        ],
        [
         "29",
         "20030",
         "354.354",
         "2017-01-01 00:00:00",
         "HC",
         "ROPA LAVADO",
         "Polvo",
         "LIMPIEX",
         "5000.0",
         "20030.0"
        ],
        [
         "30",
         "20031",
         "138.09868",
         "2017-01-01 00:00:00",
         "HC",
         "ROPA LAVADO",
         "Polvo",
         "LIMPIEX",
         "800.0",
         "20031.0"
        ],
        [
         "31",
         "20033",
         "196.83573",
         "2017-01-01 00:00:00",
         "FOODS",
         "ADEREZOS",
         "Ketchup",
         "NATURA",
         "240.0",
         "20033.0"
        ],
        [
         "32",
         "20034",
         "391.17078",
         "2017-01-01 00:00:00",
         "HC",
         "ROPA LAVADO",
         "Polvo",
         "ARIEL",
         "3000.0",
         "20034.0"
        ],
        [
         "33",
         "20035",
         "196.32423",
         "2017-01-01 00:00:00",
         "HC",
         "ROPA LAVADO",
         "Polvo",
         "LIMPIEX",
         "400.0",
         "20035.0"
        ],
        [
         "34",
         "20036",
         "396.3232",
         "2017-01-01 00:00:00",
         "HC",
         "ROPA LAVADO",
         "Polvo",
         "ARIEL",
         "5000.0",
         "20036.0"
        ],
        [
         "35",
         "20037",
         "107.01826",
         "2017-01-01 00:00:00",
         "FOODS",
         "SOPAS Y CALDOS",
         "Caldo Cubo",
         "MAGGI",
         "12.0",
         "20037.0"
        ],
        [
         "36",
         "20038",
         "230.12367",
         "2017-01-01 00:00:00",
         "HC",
         "ROPA LAVADO",
         "Polvo",
         "ROPEX1",
         "800.0",
         "20038.0"
        ],
        [
         "37",
         "20039",
         "232.57636",
         "2017-01-01 00:00:00",
         "HC",
         "ROPA MANCHAS",
         "Ladrillo",
         "LIMPIEX",
         "200.0",
         "20039.0"
        ],
        [
         "38",
         "20040",
         "251.02532",
         "2017-01-01 00:00:00",
         "HC",
         "VAJILLA",
         "Cristalino",
         "LIMPIEX",
         "750.0",
         "20040.0"
        ],
        [
         "39",
         "20041",
         "191.12626",
         "2017-01-01 00:00:00",
         "HC",
         "ROPA LAVADO",
         "Polvo",
         "LIMPIEX",
         "400.0",
         "20041.0"
        ],
        [
         "40",
         "20042",
         "158.67551",
         "2017-01-01 00:00:00",
         "HC",
         "VAJILLA",
         "Gel",
         "MUSCULO",
         "500.0",
         "20042.0"
        ],
        [
         "41",
         "20043",
         "178.5289",
         "2017-01-01 00:00:00",
         "HC",
         "ROPA LAVADO",
         "Polvo",
         "LIMPIEX",
         "800.0",
         "20043.0"
        ],
        [
         "42",
         "20044",
         "194.83483",
         "2017-01-01 00:00:00",
         "PC",
         "CABELLO",
         "SHAMPOO",
         "SHAMPOO2",
         "930.0",
         "20044.0"
        ],
        [
         "43",
         "20045",
         "114.16856",
         "2017-01-01 00:00:00",
         "HC",
         "ROPA LAVADO",
         "Liquido",
         "ARIEL",
         "800.0",
         "20045.0"
        ],
        [
         "44",
         "20046",
         "258.48154999999997",
         "2017-01-01 00:00:00",
         "FOODS",
         "ADEREZOS",
         "Mayonesa",
         "NATURA",
         "475.0",
         "20046.0"
        ],
        [
         "45",
         "20047",
         "180.06395",
         "2017-01-01 00:00:00",
         "PC",
         "CABELLO",
         "SHAMPOO",
         "SHAMPOO2",
         "930.0",
         "20047.0"
        ],
        [
         "46",
         "20048",
         "209.69153",
         "2017-01-01 00:00:00",
         "FOODS",
         "SOPAS Y CALDOS",
         "Salsas Wet",
         "MAGGI",
         "350.0",
         "20048.0"
        ],
        [
         "47",
         "20050",
         "155.55315",
         "2017-01-01 00:00:00",
         "HC",
         "ROPA LAVADO",
         "Polvo",
         "LIMPIEX",
         "800.0",
         "20050.0"
        ],
        [
         "48",
         "20051",
         "124.07345000000001",
         "2017-01-01 00:00:00",
         "HC",
         "ROPA ACONDICIONADOR",
         "ACONDICIONADOR",
         "DOWNY",
         "900.0",
         "20051.0"
        ],
        [
         "49",
         "20052",
         "150.34129000000001",
         "2017-01-01 00:00:00",
         "FOODS",
         "SOPAS Y CALDOS",
         "Pure de Tomate",
         "MAGGI",
         "500.0",
         "20052.0"
        ]
       ],
       "shape": {
        "columns": 9,
        "rows": 31243
       }
      },
      "text/html": [
       "<div>\n",
       "<style scoped>\n",
       "    .dataframe tbody tr th:only-of-type {\n",
       "        vertical-align: middle;\n",
       "    }\n",
       "\n",
       "    .dataframe tbody tr th {\n",
       "        vertical-align: top;\n",
       "    }\n",
       "\n",
       "    .dataframe thead th {\n",
       "        text-align: right;\n",
       "    }\n",
       "</style>\n",
       "<table border=\"1\" class=\"dataframe\">\n",
       "  <thead>\n",
       "    <tr style=\"text-align: right;\">\n",
       "      <th></th>\n",
       "      <th>item_id</th>\n",
       "      <th>target</th>\n",
       "      <th>timestamp</th>\n",
       "      <th>cat1</th>\n",
       "      <th>cat2</th>\n",
       "      <th>cat3</th>\n",
       "      <th>brand</th>\n",
       "      <th>sku_size</th>\n",
       "      <th>product_id</th>\n",
       "    </tr>\n",
       "  </thead>\n",
       "  <tbody>\n",
       "    <tr>\n",
       "      <th>0</th>\n",
       "      <td>20001</td>\n",
       "      <td>934.77222</td>\n",
       "      <td>2017-01-01</td>\n",
       "      <td>HC</td>\n",
       "      <td>ROPA LAVADO</td>\n",
       "      <td>Liquido</td>\n",
       "      <td>ARIEL</td>\n",
       "      <td>3000.0</td>\n",
       "      <td>20001.0</td>\n",
       "    </tr>\n",
       "    <tr>\n",
       "      <th>1</th>\n",
       "      <td>20002</td>\n",
       "      <td>550.15707</td>\n",
       "      <td>2017-01-01</td>\n",
       "      <td>HC</td>\n",
       "      <td>ROPA LAVADO</td>\n",
       "      <td>Liquido</td>\n",
       "      <td>LIMPIEX</td>\n",
       "      <td>3000.0</td>\n",
       "      <td>20002.0</td>\n",
       "    </tr>\n",
       "    <tr>\n",
       "      <th>2</th>\n",
       "      <td>20003</td>\n",
       "      <td>1063.45835</td>\n",
       "      <td>2017-01-01</td>\n",
       "      <td>FOODS</td>\n",
       "      <td>ADEREZOS</td>\n",
       "      <td>Mayonesa</td>\n",
       "      <td>NATURA</td>\n",
       "      <td>475.0</td>\n",
       "      <td>20003.0</td>\n",
       "    </tr>\n",
       "    <tr>\n",
       "      <th>3</th>\n",
       "      <td>20004</td>\n",
       "      <td>555.91614</td>\n",
       "      <td>2017-01-01</td>\n",
       "      <td>FOODS</td>\n",
       "      <td>ADEREZOS</td>\n",
       "      <td>Mayonesa</td>\n",
       "      <td>NATURA</td>\n",
       "      <td>240.0</td>\n",
       "      <td>20004.0</td>\n",
       "    </tr>\n",
       "    <tr>\n",
       "      <th>4</th>\n",
       "      <td>20005</td>\n",
       "      <td>494.27011</td>\n",
       "      <td>2017-01-01</td>\n",
       "      <td>FOODS</td>\n",
       "      <td>ADEREZOS</td>\n",
       "      <td>Mayonesa</td>\n",
       "      <td>NATURA</td>\n",
       "      <td>120.0</td>\n",
       "      <td>20005.0</td>\n",
       "    </tr>\n",
       "    <tr>\n",
       "      <th>...</th>\n",
       "      <td>...</td>\n",
       "      <td>...</td>\n",
       "      <td>...</td>\n",
       "      <td>...</td>\n",
       "      <td>...</td>\n",
       "      <td>...</td>\n",
       "      <td>...</td>\n",
       "      <td>...</td>\n",
       "      <td>...</td>\n",
       "    </tr>\n",
       "    <tr>\n",
       "      <th>31238</th>\n",
       "      <td>21265</td>\n",
       "      <td>0.05007</td>\n",
       "      <td>2019-12-01</td>\n",
       "      <td>PC</td>\n",
       "      <td>PIEL1</td>\n",
       "      <td>CUIDADO ESPECIAL</td>\n",
       "      <td>LANCOME</td>\n",
       "      <td>32.0</td>\n",
       "      <td>21265.0</td>\n",
       "    </tr>\n",
       "    <tr>\n",
       "      <th>31239</th>\n",
       "      <td>21266</td>\n",
       "      <td>0.05121</td>\n",
       "      <td>2019-12-01</td>\n",
       "      <td>PC</td>\n",
       "      <td>PIEL1</td>\n",
       "      <td>CUIDADO ESPECIAL</td>\n",
       "      <td>LANCOME</td>\n",
       "      <td>32.0</td>\n",
       "      <td>21266.0</td>\n",
       "    </tr>\n",
       "    <tr>\n",
       "      <th>31240</th>\n",
       "      <td>21267</td>\n",
       "      <td>0.01569</td>\n",
       "      <td>2019-12-01</td>\n",
       "      <td>PC</td>\n",
       "      <td>PIEL1</td>\n",
       "      <td>Cara</td>\n",
       "      <td>NIVEA</td>\n",
       "      <td>250.0</td>\n",
       "      <td>21267.0</td>\n",
       "    </tr>\n",
       "    <tr>\n",
       "      <th>31241</th>\n",
       "      <td>21271</td>\n",
       "      <td>0.00298</td>\n",
       "      <td>2019-12-01</td>\n",
       "      <td>REF</td>\n",
       "      <td>TE</td>\n",
       "      <td>Frutas</td>\n",
       "      <td>TWININGS</td>\n",
       "      <td>20.0</td>\n",
       "      <td>21271.0</td>\n",
       "    </tr>\n",
       "    <tr>\n",
       "      <th>31242</th>\n",
       "      <td>21276</td>\n",
       "      <td>0.00892</td>\n",
       "      <td>2019-12-01</td>\n",
       "      <td>PC</td>\n",
       "      <td>PIEL1</td>\n",
       "      <td>Cara</td>\n",
       "      <td>NIVEA</td>\n",
       "      <td>140.0</td>\n",
       "      <td>21276.0</td>\n",
       "    </tr>\n",
       "  </tbody>\n",
       "</table>\n",
       "<p>31243 rows × 9 columns</p>\n",
       "</div>"
      ],
      "text/plain": [
       "       item_id      target  timestamp   cat1         cat2              cat3  \\\n",
       "0        20001   934.77222 2017-01-01     HC  ROPA LAVADO           Liquido   \n",
       "1        20002   550.15707 2017-01-01     HC  ROPA LAVADO           Liquido   \n",
       "2        20003  1063.45835 2017-01-01  FOODS     ADEREZOS          Mayonesa   \n",
       "3        20004   555.91614 2017-01-01  FOODS     ADEREZOS          Mayonesa   \n",
       "4        20005   494.27011 2017-01-01  FOODS     ADEREZOS          Mayonesa   \n",
       "...        ...         ...        ...    ...          ...               ...   \n",
       "31238    21265     0.05007 2019-12-01     PC        PIEL1  CUIDADO ESPECIAL   \n",
       "31239    21266     0.05121 2019-12-01     PC        PIEL1  CUIDADO ESPECIAL   \n",
       "31240    21267     0.01569 2019-12-01     PC        PIEL1              Cara   \n",
       "31241    21271     0.00298 2019-12-01    REF           TE            Frutas   \n",
       "31242    21276     0.00892 2019-12-01     PC        PIEL1              Cara   \n",
       "\n",
       "          brand  sku_size  product_id  \n",
       "0         ARIEL    3000.0     20001.0  \n",
       "1       LIMPIEX    3000.0     20002.0  \n",
       "2        NATURA     475.0     20003.0  \n",
       "3        NATURA     240.0     20004.0  \n",
       "4        NATURA     120.0     20005.0  \n",
       "...         ...       ...         ...  \n",
       "31238   LANCOME      32.0     21265.0  \n",
       "31239   LANCOME      32.0     21266.0  \n",
       "31240     NIVEA     250.0     21267.0  \n",
       "31241  TWININGS      20.0     21271.0  \n",
       "31242     NIVEA     140.0     21276.0  \n",
       "\n",
       "[31243 rows x 9 columns]"
      ]
     },
     "execution_count": 7,
     "metadata": {},
     "output_type": "execute_result"
    }
   ],
   "source": [
    "productos_df = pd.read_csv('../../data/raw/tb_productos.csv', sep='\\t')\n",
    "productos_df = productos_df.drop_duplicates(subset=['product_id'], keep='first')\n",
    "productos_df.rename(columns={'product_id': 'item_id'}, inplace=True)"
   ]
  },
  {
   "cell_type": "markdown",
   "id": "bed28970",
   "metadata": {},
   "source": [
    "##### Extracción de componentes temporales\n"
   ]
  },
  {
   "cell_type": "code",
   "execution_count": null,
   "id": "eda2d364",
   "metadata": {},
   "outputs": [],
   "source": [
    "dfg['year'] = dfg['timestamp'].dt.year\n",
    "dfg['month'] = dfg['timestamp'].dt.month\n",
    "dfg['quarter'] = dfg['timestamp'].dt.quarter\n",
    "# Variables dummy estacionales\n",
    "dfg['semester'] = np.where(dfg['month'] <= 6, 1, 2)\n",
    "dfg['quarter'] = dfg['timestamp'].dt.quarter\n",
    "\n",
    "# Efectos de fin de año\n",
    "dfg['year_end'] = np.where(dfg['month'].isin([11, 12]), 1, 0)\n",
    "dfg['year_start'] = np.where(dfg['month'].isin([1, 2]), 1, 0)\n",
    "# Indicadores estacionales\n",
    "dfg['season'] = dfg['month'] % 12 // 3 + 1  # 1:Invierno, 2:Primavera, etc.\n",
    "# Variables cíclicas (para capturar patrones estacionales)\n",
    "dfg['month_sin'] = np.sin(2 * np.pi * dfg['month']/12)\n",
    "dfg['month_cos'] = np.cos(2 * np.pi * dfg['month']/12)"
   ]
  },
  {
   "cell_type": "markdown",
   "id": "391aca1f",
   "metadata": {},
   "source": [
    "#####  Lags, diferencias, medias móviles y otras yerbas"
   ]
  },
  {
   "cell_type": "code",
   "execution_count": null,
   "id": "ddb7fe72",
   "metadata": {},
   "outputs": [],
   "source": [
    "# Ordenamos por fecha para asegurar consistencia\n",
    "dfg = dfg.sort_values('timestamp')\n",
    "\n",
    "## 1. Lags (rezagos) de 1 a 12 meses\n",
    "for i in range(1, 13):\n",
    "    dfg[f'lag_{i}'] = dfg['target'].shift(i)\n",
    "\n",
    "## 2. Diferencias (deltas) - cambio respecto al mes anterior\n",
    "for i in range(1, 13):\n",
    "    dfg[f'delta_{i}'] = dfg['target'].diff(i)\n",
    "\n",
    "## 3. Diferencias porcentuales\n",
    "for i in range(1, 13):\n",
    "    dfg[f'pct_change_{i}'] = dfg['target'].pct_change(i)\n",
    "\n",
    "## 4. Medias móviles (promedios móviles)\n",
    "windows = [2, 3, 6, 9, 12]  # También puedes incluir [2,4,5,7] según necesidad\n",
    "for w in windows:\n",
    "    dfg[f'rolling_mean_{w}'] = dfg['target'].rolling(window=w, min_periods=1).mean()\n",
    "    dfg[f'rolling_std_{w}'] = dfg['target'].rolling(window=w, min_periods=1).std()\n",
    "    dfg[f'rolling_min_{w}'] = dfg['target'].rolling(window=w, min_periods=1).min()\n",
    "    dfg[f'rolling_max_{w}'] = dfg['target'].rolling(window=w, min_periods=1).max()\n",
    "    dfg[f'rolling_median_{w}'] = dfg['target'].rolling(window=w, min_periods=1).median()\n",
    "\n",
    "## 5. Características de tendencia y estacionalidad\n",
    "dfg['expanding_mean'] = dfg['target'].expanding().mean()\n",
    "dfg['cumulative_sum'] = dfg['target'].cumsum()\n",
    "\n",
    "## 6. Características de diferencia estacional (12 meses para datos mensuales)\n",
    "dfg['seasonal_diff_12'] = dfg['target'].diff(12)\n",
    "\n",
    "## 7. Estadísticas anuales comparativas\n",
    "dfg['vs_prev_year'] = dfg['target'] / dfg['lag_12'] - 1  # Crecimiento interanual\n",
    "\n",
    "## 8. Componentes de descomposición (simplificada)\n",
    "# Tendencia (usando media móvil de 12 meses)\n",
    "dfg['trend'] = dfg['target'].rolling(window=12, min_periods=1).mean()\n",
    "# Estacionalidad (diferencia entre valor real y tendencia)\n",
    "dfg['seasonality'] = dfg['target'] - dfg['trend']\n",
    "\n",
    "## 9. Variables booleanas para eventos especiales\n",
    "dfg['new_high'] = (dfg['target'] == dfg['rolling_max_12']).astype(int)\n",
    "dfg['new_low'] = (dfg['target'] == dfg['rolling_min_12']).astype(int)\n",
    "\n",
    "## 10. Características de aceleración/deceleración\n",
    "dfg['acceleration'] = dfg['delta_1'].diff(1)  # Cambio en la tasa de cambio"
   ]
  },
  {
   "cell_type": "markdown",
   "id": "4e87661f",
   "metadata": {},
   "source": [
    "##### Estadísticas de Ventana Dinámica"
   ]
  },
  {
   "cell_type": "code",
   "execution_count": null,
   "id": "70f3de44",
   "metadata": {},
   "outputs": [],
   "source": [
    "# Medias móviles exponenciales\n",
    "dfg['ewm_alpha_0.3'] = dfg['target'].ewm(alpha=0.3, adjust=False).mean()\n",
    "dfg['ewm_alpha_0.5'] = dfg['target'].ewm(alpha=0.5, adjust=False).mean()\n",
    "\n",
    "# Medias móviles centradas\n",
    "dfg['rolling_center_mean_3'] = dfg['target'].rolling(window=3, center=True).mean()\n",
    "\n",
    "# Sumas acumuladas por año\n",
    "dfg['ytd_sum'] = dfg.groupby(dfg['timestamp'].dt.year)['target'].cumsum()"
   ]
  },
  {
   "cell_type": "markdown",
   "id": "e2e2e6d4",
   "metadata": {},
   "source": [
    "##### Características de Tendencia y Ciclo"
   ]
  },
  {
   "cell_type": "code",
   "execution_count": null,
   "id": "db48ee7a",
   "metadata": {},
   "outputs": [],
   "source": [
    "# Modelado de tendencia polinomial\n",
    "dfg['time_index'] = range(len(dfg))\n",
    "dfg['trend_linear'] = np.poly1d(np.polyfit(dfg['time_index'], dfg['target'], 1))(dfg['time_index'])\n",
    "dfg['trend_quadratic'] = np.poly1d(np.polyfit(dfg['time_index'], dfg['target'], 2))(dfg['time_index'])\n",
    "\n",
    "# Residuales de tendencia\n",
    "dfg['residual_trend'] = dfg['target'] - dfg['trend_linear']"
   ]
  },
  {
   "cell_type": "markdown",
   "id": "2d0e1fe2",
   "metadata": {},
   "source": [
    "##### Características de Cambio de Régimen"
   ]
  },
  {
   "cell_type": "code",
   "execution_count": null,
   "id": "f562ec36",
   "metadata": {},
   "outputs": [],
   "source": [
    "# Z-Score respecto a ventana móvil\n",
    "dfg['zscore_6'] = (dfg['target'] - dfg['rolling_mean_6']) / dfg['rolling_std_6']\n",
    "\n",
    "# Detección de outliers\n",
    "dfg['is_outlier_3sigma'] = np.where(np.abs(dfg['zscore_6']) > 3, 1, 0)\n",
    "\n",
    "# Cambios bruscos (spikes)\n",
    "dfg['spike_up'] = np.where(dfg['delta_1'] > dfg['rolling_std_3'], 1, 0)\n",
    "dfg['spike_down'] = np.where(dfg['delta_1'] < -dfg['rolling_std_3'], 1, 0)"
   ]
  },
  {
   "cell_type": "markdown",
   "id": "96cc88c9",
   "metadata": {},
   "source": [
    "##### Características de Patrones Temporales"
   ]
  },
  {
   "cell_type": "code",
   "execution_count": null,
   "id": "3ffb2662",
   "metadata": {},
   "outputs": [],
   "source": [
    "# Autocorrelaciones parciales\n",
    "from statsmodels.tsa.stattools import pacf\n",
    "pacf_values = pacf(dfg['target'].dropna(), nlags=12)\n",
    "for i in range(1, 6):\n",
    "    dfg[f'pacf_{i}'] = dfg['target'].shift(i) * pacf_values[i]\n",
    "\n",
    "# Estacionalidad múltiple (si hay patrones semestrales)\n",
    "dfg['semester_mean'] = dfg.groupby(['year', 'semester'])['target'].transform('mean')"
   ]
  },
  {
   "cell_type": "markdown",
   "id": "6233499e",
   "metadata": {},
   "source": [
    "##### Características de Forecast Ingenieriles"
   ]
  },
  {
   "cell_type": "code",
   "execution_count": null,
   "id": "73cf81bf",
   "metadata": {},
   "outputs": [],
   "source": [
    "# Método ingenuo (último valor)\n",
    "dfg['naive_forecast'] = dfg['target'].shift(1)\n",
    "\n",
    "# Seasonal naive (valor del mismo período año anterior)\n",
    "dfg['seasonal_naive'] = dfg['target'].shift(12)\n",
    "\n",
    "# Promedio móvil como forecast\n",
    "dfg['ma_forecast_3'] = dfg['rolling_mean_3'].shift(1)"
   ]
  },
  {
   "cell_type": "markdown",
   "id": "5cead520",
   "metadata": {},
   "source": [
    "##### Características de Decomposición Temporal"
   ]
  },
  {
   "cell_type": "code",
   "execution_count": null,
   "id": "e34d7ad0",
   "metadata": {},
   "outputs": [],
   "source": [
    "# Descomposición clásica (additiva o multiplicativa)\n",
    "result = seasonal_decompose(dfg['target'].dropna(), model='additive', period=12)\n",
    "dfg['trend_decomposed'] = result.trend\n",
    "dfg['seasonal_decomposed'] = result.seasonal\n",
    "dfg['residual_decomposed'] = result.resid"
   ]
  },
  {
   "cell_type": "markdown",
   "id": "540e306b",
   "metadata": {},
   "source": [
    "##### Características de Ventanas Asimétricas"
   ]
  },
  {
   "cell_type": "code",
   "execution_count": null,
   "id": "4e1847ce",
   "metadata": {},
   "outputs": [],
   "source": [
    "# Mejor mes histórico\n",
    "dfg['best_month_rank'] = dfg.groupby('month')['target'].rank(ascending=False)\n",
    "\n",
    "# Comparación con mismo mes año anterior\n",
    "dfg['vs_last_year_same_month'] = dfg['target'] / dfg['lag_12'] - 1\n",
    "\n",
    "# Acumulado últimos 3 vs mismos 3 meses año anterior\n",
    "dfg['last3_vs_ly3'] = (dfg['target'] + dfg['lag_1'] + dfg['lag_2']) / (dfg['lag_12'] + dfg['lag_13'] + dfg['lag_14']) - 1"
   ]
  },
  {
   "cell_type": "markdown",
   "id": "796b659e",
   "metadata": {},
   "source": [
    "##### Transformaciones Matemáticas"
   ]
  },
  {
   "cell_type": "code",
   "execution_count": null,
   "id": "ff12f0da",
   "metadata": {},
   "outputs": [],
   "source": [
    "# Transformaciones para estabilizar varianza\n",
    "dfg['log_target'] = np.log1p(dfg['target'])\n",
    "dfg['sqrt_target'] = np.sqrt(dfg['target'])\n",
    "dfg['boxcox_target'], _ = stats.boxcox(dfg['target'] + 1)  # Requiere from scipy import stats\n",
    "\n",
    "# Diferenciación para estacionariedad\n",
    "dfg['diff1_log'] = np.log1p(dfg['target']).diff(1)"
   ]
  },
  {
   "cell_type": "markdown",
   "id": "0129c27f",
   "metadata": {},
   "source": [
    "##### Características de Interacción"
   ]
  },
  {
   "cell_type": "code",
   "execution_count": null,
   "id": "5f7f52b0",
   "metadata": {},
   "outputs": [],
   "source": [
    "# Interacción entre tendencia y estacionalidad\n",
    "dfg['trend_season_interaction'] = dfg['trend'] * dfg['seasonal_decomposed']\n",
    "\n",
    "# Interacción lags con estacionalidad\n",
    "for i in [1, 2, 3, 12]:\n",
    "    dfg[f'lag_{i}_season_adj'] = dfg[f'lag_{i}'] / dfg['seasonal_decomposed']"
   ]
  },
  {
   "cell_type": "markdown",
   "id": "43c5d17e",
   "metadata": {},
   "source": [
    "##### Levantamos productos a predecir"
   ]
  },
  {
   "cell_type": "code",
   "execution_count": 5,
   "id": "12abeb36",
   "metadata": {},
   "outputs": [
    {
     "data": {
      "application/vnd.microsoft.datawrangler.viewer.v0+json": {
       "columns": [
        {
         "name": "index",
         "rawType": "int64",
         "type": "integer"
        },
        {
         "name": "product_id",
         "rawType": "int64",
         "type": "integer"
        }
       ],
       "ref": "5f215170-dd04-46d4-a80a-45e5c864f6ec",
       "rows": [
        [
         "0",
         "20001"
        ],
        [
         "1",
         "20002"
        ],
        [
         "2",
         "20003"
        ],
        [
         "3",
         "20004"
        ],
        [
         "4",
         "20005"
        ]
       ],
       "shape": {
        "columns": 1,
        "rows": 5
       }
      },
      "text/html": [
       "<div>\n",
       "<style scoped>\n",
       "    .dataframe tbody tr th:only-of-type {\n",
       "        vertical-align: middle;\n",
       "    }\n",
       "\n",
       "    .dataframe tbody tr th {\n",
       "        vertical-align: top;\n",
       "    }\n",
       "\n",
       "    .dataframe thead th {\n",
       "        text-align: right;\n",
       "    }\n",
       "</style>\n",
       "<table border=\"1\" class=\"dataframe\">\n",
       "  <thead>\n",
       "    <tr style=\"text-align: right;\">\n",
       "      <th></th>\n",
       "      <th>product_id</th>\n",
       "    </tr>\n",
       "  </thead>\n",
       "  <tbody>\n",
       "    <tr>\n",
       "      <th>0</th>\n",
       "      <td>20001</td>\n",
       "    </tr>\n",
       "    <tr>\n",
       "      <th>1</th>\n",
       "      <td>20002</td>\n",
       "    </tr>\n",
       "    <tr>\n",
       "      <th>2</th>\n",
       "      <td>20003</td>\n",
       "    </tr>\n",
       "    <tr>\n",
       "      <th>3</th>\n",
       "      <td>20004</td>\n",
       "    </tr>\n",
       "    <tr>\n",
       "      <th>4</th>\n",
       "      <td>20005</td>\n",
       "    </tr>\n",
       "  </tbody>\n",
       "</table>\n",
       "</div>"
      ],
      "text/plain": [
       "   product_id\n",
       "0       20001\n",
       "1       20002\n",
       "2       20003\n",
       "3       20004\n",
       "4       20005"
      ]
     },
     "execution_count": 5,
     "metadata": {},
     "output_type": "execute_result"
    }
   ],
   "source": [
    "productos_ok = pd.read_csv('../../data/raw/product_id_apredecir201912.csv', sep=',')\n",
    "productos_ok.head()"
   ]
  },
  {
   "cell_type": "markdown",
   "id": "9fbf98e9",
   "metadata": {},
   "source": [
    "##### Filtramos productos a predecir"
   ]
  },
  {
   "cell_type": "code",
   "execution_count": 6,
   "id": "1f142eab",
   "metadata": {},
   "outputs": [],
   "source": [
    "dfg = dfg[dfg['item_id'].isin(productos_ok['product_id'].unique())]"
   ]
  },
  {
   "cell_type": "markdown",
   "id": "2040b106",
   "metadata": {},
   "source": [
    "##### Sacamos dataset de entrenamiento y dataset futuro para la predicción"
   ]
  },
  {
   "cell_type": "code",
   "execution_count": null,
   "id": "741a9f79",
   "metadata": {},
   "outputs": [],
   "source": [
    "futuro = dfg[dfg['timestamp'] >= '2020-01-01'].copy()\n",
    "dfg = dfg[dfg['timestamp'] < '2020-01-01'].copy()"
   ]
  },
  {
   "cell_type": "markdown",
   "id": "8050372a",
   "metadata": {},
   "source": [
    "##### Dataset para Autogluon "
   ]
  },
  {
   "cell_type": "code",
   "execution_count": null,
   "id": "1a478197",
   "metadata": {},
   "outputs": [],
   "source": [
    "data = TimeSeriesDataFrame.from_data_frame(dfg,\n",
    "                                           id_column=\"item_id\",\n",
    "                                           timestamp_column=\"timestamp\",\n",
    "                                           static_features_df=productos_df\n",
    "                                           )\n",
    "data.head()"
   ]
  },
  {
   "cell_type": "code",
   "execution_count": null,
   "id": "b5c97be3",
   "metadata": {},
   "outputs": [],
   "source": [
    "data.static_features.head()"
   ]
  },
  {
   "cell_type": "markdown",
   "id": "8bce5a9d",
   "metadata": {},
   "source": [
    "##### Entrenamiento"
   ]
  },
  {
   "cell_type": "code",
   "execution_count": null,
   "id": "96a87d37",
   "metadata": {},
   "outputs": [
    {
     "name": "stderr",
     "output_type": "stream",
     "text": [
      "c:\\Users\\Usuario\\AppData\\Local\\Programs\\Python\\Python311\\Lib\\site-packages\\autogluon\\timeseries\\predictor.py:197: FutureWarning: 'M' is deprecated and will be removed in a future version, please use 'ME' instead.\n",
      "  std_freq = pd.tseries.frequencies.to_offset(self.freq).freqstr\n",
      "Frequency 'M' stored as 'ME'\n",
      "Beginning AutoGluon training...\n",
      "AutoGluon will save models to 'c:\\Users\\Usuario\\Documents\\Universidad\\austral\\2025\\Lab3\\Lab3-MCD\\notebooks\\model_autogluon\\AutogluonModels\\ag-20250605_173243'\n",
      "=================== System Info ===================\n",
      "AutoGluon Version:  1.2\n",
      "Python Version:     3.11.4\n",
      "Operating System:   Windows\n",
      "Platform Machine:   AMD64\n",
      "Platform Version:   10.0.26100\n",
      "CPU Count:          4\n",
      "GPU Count:          0\n",
      "Memory Avail:       5.15 GB / 15.89 GB (32.4%)\n",
      "Disk Space Avail:   415.90 GB / 893.49 GB (46.5%)\n",
      "===================================================\n",
      "Setting presets to: high_quality\n",
      "\n",
      "Fitting with arguments:\n",
      "{'enable_ensemble': True,\n",
      " 'eval_metric': MSE,\n",
      " 'freq': 'ME',\n",
      " 'hyperparameters': 'default',\n",
      " 'known_covariates_names': [],\n",
      " 'num_val_windows': 2,\n",
      " 'prediction_length': 2,\n",
      " 'quantile_levels': [0.1, 0.2, 0.3, 0.4, 0.5, 0.6, 0.7, 0.8, 0.9],\n",
      " 'random_seed': 123,\n",
      " 'refit_every_n_windows': 1,\n",
      " 'refit_full': True,\n",
      " 'skip_model_selection': False,\n",
      " 'target': 'target',\n",
      " 'val_step_size': 1,\n",
      " 'verbosity': 2}\n",
      "\n",
      "train_data with frequency 'None' has been resampled to frequency 'ME'.\n",
      "Provided train_data has 22375 rows (NaN fraction=0.1%), 780 time series. Median time series length is 36 (min=4, max=36). \n",
      "\tRemoving 62 short time series from train_data. Only series with length >= 8 will be used for training.\n",
      "\tAfter filtering, train_data has 22020 rows (NaN fraction=0.1%), 718 time series. Median time series length is 36 (min=8, max=36). \n",
      "\n",
      "Provided data contains following columns:\n",
      "\ttarget: 'target'\n",
      "\n",
      "AutoGluon will gauge predictive performance using evaluation metric: 'MSE'\n",
      "\tThis metric's sign has been flipped to adhere to being higher_is_better. The metric score can be multiplied by -1 to get the metric value.\n",
      "===================================================\n",
      "\n",
      "Starting training. Start time is 2025-06-05 14:32:51\n",
      "Models that will be trained: ['SeasonalNaive', 'RecursiveTabular', 'DirectTabular', 'NPTS', 'DynamicOptimizedTheta', 'AutoETS', 'ChronosZeroShot[bolt_base]', 'ChronosFineTuned[bolt_small]', 'TemporalFusionTransformer', 'DeepAR', 'PatchTST', 'TiDE']\n",
      "Training timeseries model SeasonalNaive. \n",
      "\t-1380.4444    = Validation score (-MSE)\n",
      "\t3.96    s     = Training runtime\n",
      "\t0.97    s     = Validation (prediction) runtime\n",
      "Training timeseries model RecursiveTabular. \n",
      "\tTime series in the dataset are too short for chosen differences [12]. Setting differences to [1].\n",
      "\tTime series in the dataset are too short for chosen differences [12]. Setting differences to [1].\n",
      "\t-1204.4467    = Validation score (-MSE)\n",
      "\t2.99    s     = Training runtime\n",
      "\t0.16    s     = Validation (prediction) runtime\n",
      "Training timeseries model DirectTabular. \n",
      "\t-1448.7027    = Validation score (-MSE)\n",
      "\t2.37    s     = Training runtime\n",
      "\t0.17    s     = Validation (prediction) runtime\n",
      "Training timeseries model NPTS. \n",
      "\t-1762.5913    = Validation score (-MSE)\n",
      "\t1.27    s     = Training runtime\n",
      "\t1.18    s     = Validation (prediction) runtime\n",
      "Training timeseries model DynamicOptimizedTheta. \n",
      "\t-1219.5168    = Validation score (-MSE)\n",
      "\t39.74   s     = Training runtime\n",
      "\t1.95    s     = Validation (prediction) runtime\n",
      "Training timeseries model AutoETS. \n",
      "\tWarning: AutoETS\\W0 failed for 43 time series (6.0%). Fallback model SeasonalNaive was used for these time series.\n",
      "\tWarning: AutoETS\\W1 failed for 13 time series (1.8%). Fallback model SeasonalNaive was used for these time series.\n",
      "\t-1252.0036    = Validation score (-MSE)\n",
      "\t12.36   s     = Training runtime\n",
      "\t12.66   s     = Validation (prediction) runtime\n",
      "Training timeseries model ChronosZeroShot[bolt_base]. \n",
      "\t-998.0500     = Validation score (-MSE)\n",
      "\t23.59   s     = Training runtime\n",
      "\t8.16    s     = Validation (prediction) runtime\n",
      "Training timeseries model ChronosFineTuned[bolt_small]. \n",
      "\tSkipping covariate_regressor since the dataset contains no covariates or static features.\n",
      "\tFine-tuning on the CPU detected. We recommend using a GPU for faster fine-tuning of Chronos.\n",
      "\tWarning: Exception caused ChronosFineTuned[bolt_small] to fail during training... Skipping this model.\n",
      "\tTrainingArguments.__init__() got an unexpected keyword argument 'evaluation_strategy'\n",
      "Training timeseries model TemporalFusionTransformer. \n",
      "\t-981.8488     = Validation score (-MSE)\n",
      "\t484.22  s     = Training runtime\n",
      "\t0.65    s     = Validation (prediction) runtime\n",
      "Training timeseries model DeepAR. \n",
      "\t-1100.2971    = Validation score (-MSE)\n",
      "\t265.45  s     = Training runtime\n",
      "\t1.25    s     = Validation (prediction) runtime\n",
      "Training timeseries model PatchTST. \n",
      "\t-1026.8282    = Validation score (-MSE)\n",
      "\t89.48   s     = Training runtime\n",
      "\t0.42    s     = Validation (prediction) runtime\n",
      "Training timeseries model TiDE. \n",
      "\t-1241.1812    = Validation score (-MSE)\n",
      "\t402.83  s     = Training runtime\n",
      "\t0.92    s     = Validation (prediction) runtime\n",
      "Fitting simple weighted ensemble.\n",
      "\tEnsemble weights: {'ChronosZeroShot[bolt_base]': 0.12, 'DynamicOptimizedTheta': 0.1, 'PatchTST': 0.09, 'RecursiveTabular': 0.07, 'SeasonalNaive': 0.33, 'TemporalFusionTransformer': 0.18, 'TiDE': 0.11}\n",
      "\t-825.3238     = Validation score (-MSE)\n",
      "\t2.44    s     = Training runtime\n",
      "\t13.22   s     = Validation (prediction) runtime\n",
      "Training complete. Models trained: ['SeasonalNaive', 'RecursiveTabular', 'DirectTabular', 'NPTS', 'DynamicOptimizedTheta', 'AutoETS', 'ChronosZeroShot[bolt_base]', 'TemporalFusionTransformer', 'DeepAR', 'PatchTST', 'TiDE', 'WeightedEnsemble']\n",
      "Total runtime: 1366.87 s\n",
      "Best model: WeightedEnsemble\n",
      "Best model score: -825.3238\n",
      "\tWARNING: refit_full functionality for TimeSeriesPredictor is experimental and is not yet supported by all models.\n",
      "Refitting models via `refit_full` using all of the data (combined train and validation)...\n",
      "\tModels trained in this way will have the suffix '_FULL' and have NaN validation score.\n",
      "\tThis process is not bound by time_limit, but should take less time than the original `fit` call.\n",
      "Fitting model: SeasonalNaive_FULL | Skipping fit via cloning parent ...\n",
      "Fitting model: RecursiveTabular_FULL\n",
      "\tTime series in the dataset are too short for chosen differences [12]. Setting differences to [1].\n",
      "\t1.83    s     = Training runtime\n",
      "Fitting model: DirectTabular_FULL\n",
      "\t2.18    s     = Training runtime\n",
      "Fitting model: NPTS_FULL | Skipping fit via cloning parent ...\n",
      "Fitting model: DynamicOptimizedTheta_FULL | Skipping fit via cloning parent ...\n",
      "Fitting model: AutoETS_FULL | Skipping fit via cloning parent ...\n",
      "Fitting model: ChronosZeroShot[bolt_base]_FULL | Skipping fit via cloning parent ...\n",
      "Fitting model: TemporalFusionTransformer_FULL | Skipping fit via cloning parent ...\n",
      "Fitting model: DeepAR_FULL | Skipping fit via cloning parent ...\n",
      "Fitting model: PatchTST_FULL | Skipping fit via cloning parent ...\n",
      "Fitting model: TiDE_FULL | Skipping fit via cloning parent ...\n",
      "Fitting model: WeightedEnsemble_FULL | Skipping fit via cloning parent ...\n",
      "Refit complete. Models trained: ['SeasonalNaive_FULL', 'RecursiveTabular_FULL', 'DirectTabular_FULL', 'NPTS_FULL', 'DynamicOptimizedTheta_FULL', 'AutoETS_FULL', 'ChronosZeroShot[bolt_base]_FULL', 'TemporalFusionTransformer_FULL', 'DeepAR_FULL', 'PatchTST_FULL', 'TiDE_FULL', 'WeightedEnsemble_FULL']\n",
      "Total runtime: 8.28 s\n",
      "Updated best model to 'WeightedEnsemble_FULL' (Previously 'WeightedEnsemble'). AutoGluon will default to using 'WeightedEnsemble_FULL' for predict().\n",
      "data with frequency 'None' has been resampled to frequency 'ME'.\n",
      "Model not specified in predict, will default to the model with the best validation score: WeightedEnsemble_FULL\n",
      "\tWarning: DynamicOptimizedTheta_FULL failed for 9 time series (1.2%). Fallback model SeasonalNaive was used for these time series.\n"
     ]
    }
   ],
   "source": [
    "covariates = data.drop(columns = \"target\").columns\n",
    "\n",
    "predictor = TimeSeriesPredictor(target='target',\n",
    "                                prediction_length=2, \n",
    "                                freq=\"M\",\n",
    "                                #eval_metric = \"MSE\",\n",
    "                                known_covariates_names = covariates).fit(data, \n",
    "                                                                         num_val_windows=2,\n",
    "                                                                         val_step_size=1)"
   ]
  },
  {
   "cell_type": "markdown",
   "id": "9ab60000",
   "metadata": {},
   "source": [
    "##### Leaderboard"
   ]
  },
  {
   "cell_type": "code",
   "execution_count": null,
   "id": "e756f34c",
   "metadata": {},
   "outputs": [],
   "source": [
    "predictor.leaderboard()"
   ]
  },
  {
   "cell_type": "markdown",
   "id": "6d3e7d31",
   "metadata": {},
   "source": [
    "##### Feature Importance"
   ]
  },
  {
   "cell_type": "code",
   "execution_count": null,
   "id": "7642acad",
   "metadata": {},
   "outputs": [],
   "source": [
    "predictor.feature_importance()"
   ]
  },
  {
   "cell_type": "markdown",
   "id": "9bc575b0",
   "metadata": {},
   "source": [
    "##### Filtramos fechas futuras"
   ]
  },
  {
   "cell_type": "code",
   "execution_count": null,
   "id": "542b7a49",
   "metadata": {},
   "outputs": [],
   "source": [
    "futuro_c = futuro.copy()\n",
    "futuro_c.drop(columns=['target'], inplace=True)\n",
    "futuro_c['timestamp'] = futuro_c['timestamp'] + pd.offsets.MonthEnd(0)\n",
    "futuro_c['timestamp'] = futuro_c['timestamp'].dt.strftime('%Y-%m-%d')\n",
    "\n",
    "print(futuro.timestamp.min(), futuro.timestamp.max())\n",
    "\n",
    "known_covariates_future = TimeSeriesDataFrame.from_data_frame(futuro_c,\n",
    "                                                              id_column=\"item_id\",\n",
    "                                                              timestamp_column=\"timestamp\")\n",
    "known_covariates_future.head()"
   ]
  },
  {
   "cell_type": "code",
   "execution_count": 9,
   "id": "3d54ec95",
   "metadata": {},
   "outputs": [
    {
     "data": {
      "text/html": [
       "<div>\n",
       "<style scoped>\n",
       "    .dataframe tbody tr th:only-of-type {\n",
       "        vertical-align: middle;\n",
       "    }\n",
       "\n",
       "    .dataframe tbody tr th {\n",
       "        vertical-align: top;\n",
       "    }\n",
       "\n",
       "    .dataframe thead th {\n",
       "        text-align: right;\n",
       "    }\n",
       "</style>\n",
       "<table border=\"1\" class=\"dataframe\">\n",
       "  <thead>\n",
       "    <tr style=\"text-align: right;\">\n",
       "      <th></th>\n",
       "      <th>product_id</th>\n",
       "      <th>tn</th>\n",
       "    </tr>\n",
       "  </thead>\n",
       "  <tbody>\n",
       "    <tr>\n",
       "      <th>1</th>\n",
       "      <td>20001</td>\n",
       "      <td>1335.368101</td>\n",
       "    </tr>\n",
       "    <tr>\n",
       "      <th>3</th>\n",
       "      <td>20002</td>\n",
       "      <td>1049.383669</td>\n",
       "    </tr>\n",
       "    <tr>\n",
       "      <th>5</th>\n",
       "      <td>20003</td>\n",
       "      <td>776.909453</td>\n",
       "    </tr>\n",
       "    <tr>\n",
       "      <th>7</th>\n",
       "      <td>20004</td>\n",
       "      <td>528.254723</td>\n",
       "    </tr>\n",
       "    <tr>\n",
       "      <th>9</th>\n",
       "      <td>20005</td>\n",
       "      <td>502.187073</td>\n",
       "    </tr>\n",
       "  </tbody>\n",
       "</table>\n",
       "</div>"
      ],
      "text/plain": [
       "   product_id           tn\n",
       "1       20001  1335.368101\n",
       "3       20002  1049.383669\n",
       "5       20003   776.909453\n",
       "7       20004   528.254723\n",
       "9       20005   502.187073"
      ]
     },
     "execution_count": 9,
     "metadata": {},
     "output_type": "execute_result"
    }
   ],
   "source": [
    "predictions_v1 = predictions.copy()\n",
    "predictions_v1 = predictions_v1.reset_index()\n",
    "predictions_v1 = predictions_v1[[\"item_id\", \"timestamp\", \"mean\"]]\n",
    "predictions_v1 = predictions_v1[predictions_v1.timestamp == \"2020-02-29\"]\n",
    "predictions_v1 = predictions_v1.drop(columns = {\"timestamp\"})\n",
    "predictions_v1 = predictions_v1.rename(columns = {\"item_id\":\"product_id\", \"mean\":\"tn\"})\n",
    "predictions_v1.head(5)"
   ]
  },
  {
   "cell_type": "code",
   "execution_count": null,
   "id": "d8fa0177",
   "metadata": {},
   "outputs": [],
   "source": [
    "predictions_v1.to_csv(\"../../outputs/prediccion_autogluon_hiperparametros_highquality.csv\", sep = \",\", index = False)"
   ]
  }
 ],
 "metadata": {
  "kernelspec": {
   "display_name": "Python 3",
   "language": "python",
   "name": "python3"
  },
  "language_info": {
   "codemirror_mode": {
    "name": "ipython",
    "version": 3
   },
   "file_extension": ".py",
   "mimetype": "text/x-python",
   "name": "python",
   "nbconvert_exporter": "python",
   "pygments_lexer": "ipython3",
   "version": "3.11.4"
  }
 },
 "nbformat": 4,
 "nbformat_minor": 5
}
