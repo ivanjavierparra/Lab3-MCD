{
 "cells": [
  {
   "cell_type": "markdown",
   "id": "2ae3d4bc",
   "metadata": {},
   "source": [
    "AutoGluon - Predicción de ventas (tn) por producto para febrero 2020"
   ]
  },
  {
   "cell_type": "code",
   "execution_count": 1,
   "id": "8f52d34a",
   "metadata": {},
   "outputs": [],
   "source": [
    "# 📦 1. Importar librerías\n",
    "import pandas as pd"
   ]
  },
  {
   "cell_type": "code",
   "execution_count": 2,
   "id": "a67eb1bb",
   "metadata": {},
   "outputs": [
    {
     "name": "stderr",
     "output_type": "stream",
     "text": [
      "c:\\Users\\Usuario\\.conda\\envs\\py311lab3\\Lib\\site-packages\\tqdm\\auto.py:21: TqdmWarning: IProgress not found. Please update jupyter and ipywidgets. See https://ipywidgets.readthedocs.io/en/stable/user_install.html\n",
      "  from .autonotebook import tqdm as notebook_tqdm\n"
     ]
    }
   ],
   "source": [
    "# 💬 Instalar AutoGluon si es necesario\n",
    "# %pip install autogluon.timeseries\n",
    "\n",
    "from autogluon.timeseries import TimeSeriesPredictor, TimeSeriesDataFrame"
   ]
  },
  {
   "cell_type": "code",
   "execution_count": 4,
   "id": "74387549",
   "metadata": {},
   "outputs": [],
   "source": [
    "# 📄 2. Cargar datasets\n",
    "df_sellin = pd.read_csv(\"../../data/raw/sell-in.csv\", sep=\"\\t\")\n",
    "df_productos = pd.read_csv(\"../../data/raw/tb_productos.csv\", sep=\"\\t\")"
   ]
  },
  {
   "cell_type": "code",
   "execution_count": 5,
   "id": "e14417ff",
   "metadata": {},
   "outputs": [],
   "source": [
    "product_ids = pd.read_csv(\"../../data/raw/product_id_apredecir201912.csv\", sep=\"\\t\")['product_id'].unique()"
   ]
  },
  {
   "cell_type": "code",
   "execution_count": 6,
   "id": "b1527b4d",
   "metadata": {},
   "outputs": [],
   "source": [
    "# 🧹 3. Preprocesamiento\n",
    "# Convertir periodo a datetime\n",
    "df_sellin['timestamp'] = pd.to_datetime(df_sellin['periodo'], format='%Y%m')"
   ]
  },
  {
   "cell_type": "code",
   "execution_count": 7,
   "id": "1083376b",
   "metadata": {},
   "outputs": [],
   "source": [
    "# Filtrar hasta dic 2019 y productos requeridos\n",
    "df_filtered = df_sellin[\n",
    "    (df_sellin['timestamp'] <= '2019-12-01') &\n",
    "    (df_sellin['product_id'].isin(product_ids))\n",
    "]"
   ]
  },
  {
   "cell_type": "code",
   "execution_count": 8,
   "id": "bb3c4bac",
   "metadata": {},
   "outputs": [],
   "source": [
    "# Agregar tn por periodo, cliente y producto\n",
    "df_grouped = df_filtered.groupby(['timestamp', 'customer_id', 'product_id'], as_index=False)['tn'].sum()"
   ]
  },
  {
   "cell_type": "code",
   "execution_count": 9,
   "id": "3df0c480",
   "metadata": {},
   "outputs": [],
   "source": [
    "# Agregar tn total por periodo y producto\n",
    "df_monthly_product = df_grouped.groupby(['timestamp', 'product_id'], as_index=False)['tn'].sum()"
   ]
  },
  {
   "cell_type": "code",
   "execution_count": 10,
   "id": "065d2ca2",
   "metadata": {},
   "outputs": [],
   "source": [
    "# Agregar columna 'item_id' para AutoGluon\n",
    "df_monthly_product['item_id'] = df_monthly_product['product_id']"
   ]
  },
  {
   "cell_type": "code",
   "execution_count": 11,
   "id": "eb4e2dfb",
   "metadata": {},
   "outputs": [],
   "source": [
    "# ⏰ 4. Crear TimeSeriesDataFrame\n",
    "ts_data = TimeSeriesDataFrame.from_data_frame(\n",
    "    df_monthly_product,\n",
    "    id_column='item_id',\n",
    "    timestamp_column='timestamp'\n",
    ")"
   ]
  },
  {
   "cell_type": "code",
   "execution_count": 12,
   "id": "ddac4147",
   "metadata": {},
   "outputs": [],
   "source": [
    "# Completar valores faltantes\n",
    "ts_data = ts_data.fill_missing_values()"
   ]
  },
  {
   "cell_type": "code",
   "execution_count": 13,
   "id": "5b7cc7be",
   "metadata": {},
   "outputs": [
    {
     "name": "stderr",
     "output_type": "stream",
     "text": [
      "Beginning AutoGluon training... Time limit = 3600s\n",
      "AutoGluon will save models to 'c:\\Users\\Usuario\\Documents\\Universidad\\austral\\2025\\Lab3\\Lab3-MCD\\notebooks\\model_autogluon\\AutogluonModels\\ag-20250704_005246'\n",
      "=================== System Info ===================\n",
      "AutoGluon Version:  1.3.1\n",
      "Python Version:     3.11.13\n",
      "Operating System:   Windows\n",
      "Platform Machine:   AMD64\n",
      "Platform Version:   10.0.26100\n",
      "CPU Count:          4\n",
      "GPU Count:          0\n",
      "Memory Avail:       2.23 GB / 15.89 GB (14.0%)\n",
      "Disk Space Avail:   409.62 GB / 893.49 GB (45.8%)\n",
      "===================================================\n",
      "\n",
      "Fitting with arguments:\n",
      "{'enable_ensemble': True,\n",
      " 'eval_metric': WQL,\n",
      " 'freq': 'MS',\n",
      " 'hyperparameters': 'default',\n",
      " 'known_covariates_names': [],\n",
      " 'num_val_windows': 2,\n",
      " 'prediction_length': 2,\n",
      " 'quantile_levels': [0.1, 0.2, 0.3, 0.4, 0.5, 0.6, 0.7, 0.8, 0.9],\n",
      " 'random_seed': 123,\n",
      " 'refit_every_n_windows': 1,\n",
      " 'refit_full': False,\n",
      " 'skip_model_selection': False,\n",
      " 'target': 'tn',\n",
      " 'time_limit': 3600,\n",
      " 'verbosity': 2}\n",
      "\n",
      "train_data with frequency 'IRREG' has been resampled to frequency 'MS'.\n",
      "Provided train_data has 22375 rows (NaN fraction=0.1%), 780 time series. Median time series length is 36 (min=4, max=36). \n",
      "\tRemoving 75 short time series from train_data. Only series with length >= 9 will be used for training.\n",
      "\tAfter filtering, train_data has 21916 rows (NaN fraction=0.1%), 705 time series. Median time series length is 36 (min=9, max=36). \n",
      "\n",
      "Provided data contains following columns:\n",
      "\ttarget: 'tn'\n",
      "\tpast_covariates:\n",
      "\t\tcategorical:        []\n",
      "\t\tcontinuous (float): ['product_id']\n",
      "\n",
      "To learn how to fix incorrectly inferred types, please see documentation for TimeSeriesPredictor.fit\n",
      "\n",
      "AutoGluon will gauge predictive performance using evaluation metric: 'WQL'\n",
      "\tThis metric's sign has been flipped to adhere to being higher_is_better. The metric score can be multiplied by -1 to get the metric value.\n",
      "===================================================\n",
      "\n",
      "Starting training. Start time is 2025-07-03 21:53:01\n",
      "Models that will be trained: ['SeasonalNaive', 'RecursiveTabular', 'DirectTabular', 'NPTS', 'DynamicOptimizedTheta', 'AutoETS', 'ChronosZeroShot[bolt_base]', 'ChronosFineTuned[bolt_small]', 'TemporalFusionTransformer', 'DeepAR', 'PatchTST', 'TiDE']\n",
      "Training timeseries model SeasonalNaive. Training for up to 275.4s of the 3579.9s of remaining time.\n",
      "\t-0.2298       = Validation score (-WQL)\n",
      "\t6.00    s     = Training runtime\n",
      "\t1.32    s     = Validation (prediction) runtime\n",
      "Training timeseries model RecursiveTabular. Training for up to 297.7s of the 3572.5s of remaining time.\n",
      "\tTime series in the dataset are too short for chosen differences [12]. Setting differences to [1].\n",
      "\tTime series in the dataset are too short for chosen differences [12]. Setting differences to [1].\n",
      "\t-0.2285       = Validation score (-WQL)\n",
      "\t4.41    s     = Training runtime\n",
      "\t0.58    s     = Validation (prediction) runtime\n",
      "Training timeseries model DirectTabular. Training for up to 324.3s of the 3567.5s of remaining time.\n",
      "\t-0.2436       = Validation score (-WQL)\n",
      "\t39.09   s     = Training runtime\n",
      "\t0.26    s     = Validation (prediction) runtime\n",
      "Training timeseries model NPTS. Training for up to 352.8s of the 3528.1s of remaining time.\n",
      "\t-0.2784       = Validation score (-WQL)\n",
      "\t3.10    s     = Training runtime\n",
      "\t2.14    s     = Validation (prediction) runtime\n",
      "Training timeseries model DynamicOptimizedTheta. Training for up to 391.4s of the 3522.9s of remaining time.\n",
      "\t-0.2039       = Validation score (-WQL)\n",
      "\t27.87   s     = Training runtime\n",
      "\t3.41    s     = Validation (prediction) runtime\n",
      "Training timeseries model AutoETS. Training for up to 436.4s of the 3491.5s of remaining time.\n",
      "\tWarning: AutoETS\\W0 failed for 45 time series (6.4%). Fallback model SeasonalNaive was used for these time series.\n",
      "\t-0.2010       = Validation score (-WQL)\n",
      "\t21.27   s     = Training runtime\n",
      "\t21.87   s     = Validation (prediction) runtime\n",
      "Training timeseries model ChronosZeroShot[bolt_base]. Training for up to 492.6s of the 3448.4s of remaining time.\n",
      "\tWarning: Exception caused ChronosZeroShot[bolt_base] to fail during training... Skipping this model.\n",
      "\tFailed to import transformers.integrations.integration_utils because of the following error (look up to see its traceback):\n",
      "Failed to import transformers.modeling_tf_utils because of the following error (look up to see its traceback):\n",
      "Your currently installed version of Keras is Keras 3, but this is not yet supported in Transformers. Please install the backwards-compatible tf-keras package with `pip install tf-keras`.\n",
      "Training timeseries model ChronosFineTuned[bolt_small]. Training for up to 564.6s of the 3387.8s of remaining time.\n",
      "\tSkipping covariate_regressor since the dataset contains no covariates or static features.\n",
      "\tWarning: Exception caused ChronosFineTuned[bolt_small] to fail during training... Skipping this model.\n",
      "\tFailed to import transformers.integrations.integration_utils because of the following error (look up to see its traceback):\n",
      "Failed to import transformers.modeling_tf_utils because of the following error (look up to see its traceback):\n",
      "Your currently installed version of Keras is Keras 3, but this is not yet supported in Transformers. Please install the backwards-compatible tf-keras package with `pip install tf-keras`.\n",
      "Training timeseries model TemporalFusionTransformer. Training for up to 696.9s of the 3387.7s of remaining time.\n",
      "\t-0.1897       = Validation score (-WQL)\n",
      "\t660.92  s     = Training runtime\n",
      "\t0.85    s     = Validation (prediction) runtime\n",
      "Training timeseries model DeepAR. Training for up to 708.6s of the 2725.9s of remaining time.\n",
      "\t-0.1863       = Validation score (-WQL)\n",
      "\t245.00  s     = Training runtime\n",
      "\t0.86    s     = Validation (prediction) runtime\n",
      "Training timeseries model PatchTST. Training for up to 940.0s of the 2480.0s of remaining time.\n",
      "\t-0.1839       = Validation score (-WQL)\n",
      "\t109.33  s     = Training runtime\n",
      "\t0.41    s     = Validation (prediction) runtime\n",
      "Training timeseries model TiDE. Training for up to 1770.3s of the 2370.3s of remaining time.\n",
      "\t-0.2194       = Validation score (-WQL)\n",
      "\t551.42  s     = Training runtime\n",
      "\t0.93    s     = Validation (prediction) runtime\n",
      "Fitting simple weighted ensemble.\n",
      "\tEnsemble weights: {'AutoETS': 0.16, 'DeepAR': 0.09, 'NPTS': 0.1, 'PatchTST': 0.22, 'SeasonalNaive': 0.05, 'TemporalFusionTransformer': 0.37}\n",
      "\t-0.1725       = Validation score (-WQL)\n",
      "\t2.44    s     = Training runtime\n",
      "\t27.45   s     = Validation (prediction) runtime\n",
      "Training complete. Models trained: ['SeasonalNaive', 'RecursiveTabular', 'DirectTabular', 'NPTS', 'DynamicOptimizedTheta', 'AutoETS', 'TemporalFusionTransformer', 'DeepAR', 'PatchTST', 'TiDE', 'WeightedEnsemble']\n",
      "Total runtime: 1769.64 s\n",
      "Best model: WeightedEnsemble\n",
      "Best model score: -0.1725\n"
     ]
    },
    {
     "data": {
      "text/plain": [
       "<autogluon.timeseries.predictor.TimeSeriesPredictor at 0x2ee44d10a10>"
      ]
     },
     "execution_count": 13,
     "metadata": {},
     "output_type": "execute_result"
    }
   ],
   "source": [
    "# ⚙️ 5. Definir y entrenar predictor\n",
    "predictor = TimeSeriesPredictor(\n",
    "    prediction_length=2,\n",
    "    target='tn',\n",
    "    freq='MS'  # Frecuencia mensual (Month Start), \n",
    ")\n",
    "\n",
    "predictor.fit(ts_data, num_val_windows=2, time_limit=60*60)"
   ]
  },
  {
   "cell_type": "code",
   "execution_count": null,
   "id": "30ea18f5",
   "metadata": {},
   "outputs": [],
   "source": []
  },
  {
   "cell_type": "code",
   "execution_count": 14,
   "id": "2c27fefb",
   "metadata": {},
   "outputs": [
    {
     "name": "stderr",
     "output_type": "stream",
     "text": [
      "data with frequency 'IRREG' has been resampled to frequency 'MS'.\n",
      "Model not specified in predict, will default to the model with the best validation score: WeightedEnsemble\n",
      "\tWarning: AutoETS\\W1 failed for 46 time series (5.9%). Fallback model SeasonalNaive was used for these time series.\n"
     ]
    }
   ],
   "source": [
    "# 🔮 6. Generar predicción\n",
    "forecast = predictor.predict(ts_data)"
   ]
  },
  {
   "cell_type": "code",
   "execution_count": 15,
   "id": "57205cb3",
   "metadata": {},
   "outputs": [
    {
     "name": "stdout",
     "output_type": "stream",
     "text": [
      "Index(['item_id', 'timestamp', 'mean'], dtype='object')\n"
     ]
    }
   ],
   "source": [
    "# Extraer predicción media y filtrar febrero 2020\n",
    "forecast_mean = forecast['mean'].reset_index()\n",
    "print(forecast_mean.columns)"
   ]
  },
  {
   "cell_type": "code",
   "execution_count": 16,
   "id": "d62a0982",
   "metadata": {},
   "outputs": [],
   "source": [
    "# Tomar solo item_id y la predicción 'mean'\n",
    "resultado = forecast['mean'].reset_index()[['item_id', 'mean']]\n",
    "resultado.columns = ['product_id', 'tn']\n",
    "\n",
    "# Filtrar solo febrero 2020\n",
    "resultado = forecast['mean'].reset_index()\n",
    "resultado = resultado[resultado['timestamp'] == '2020-02-01']\n",
    "\n",
    "# Renombrar columnas\n",
    "resultado = resultado[['item_id', 'mean']]\n",
    "resultado.columns = ['product_id', 'tn']\n"
   ]
  },
  {
   "cell_type": "code",
   "execution_count": 17,
   "id": "81a9323c",
   "metadata": {},
   "outputs": [
    {
     "data": {
      "application/vnd.microsoft.datawrangler.viewer.v0+json": {
       "columns": [
        {
         "name": "index",
         "rawType": "int64",
         "type": "integer"
        },
        {
         "name": "product_id",
         "rawType": "int64",
         "type": "integer"
        },
        {
         "name": "tn",
         "rawType": "float64",
         "type": "float"
        }
       ],
       "ref": "b5fa29f6-24ba-4612-aa3b-8af38a471756",
       "rows": [
        [
         "1",
         "20001",
         "1290.1832335576294"
        ],
        [
         "3",
         "20002",
         "1059.0231933514635"
        ],
        [
         "5",
         "20003",
         "715.5453467052215"
        ],
        [
         "7",
         "20004",
         "543.4554120854998"
        ],
        [
         "9",
         "20005",
         "519.7519457147098"
        ]
       ],
       "shape": {
        "columns": 2,
        "rows": 5
       }
      },
      "text/html": [
       "<div>\n",
       "<style scoped>\n",
       "    .dataframe tbody tr th:only-of-type {\n",
       "        vertical-align: middle;\n",
       "    }\n",
       "\n",
       "    .dataframe tbody tr th {\n",
       "        vertical-align: top;\n",
       "    }\n",
       "\n",
       "    .dataframe thead th {\n",
       "        text-align: right;\n",
       "    }\n",
       "</style>\n",
       "<table border=\"1\" class=\"dataframe\">\n",
       "  <thead>\n",
       "    <tr style=\"text-align: right;\">\n",
       "      <th></th>\n",
       "      <th>product_id</th>\n",
       "      <th>tn</th>\n",
       "    </tr>\n",
       "  </thead>\n",
       "  <tbody>\n",
       "    <tr>\n",
       "      <th>1</th>\n",
       "      <td>20001</td>\n",
       "      <td>1290.183234</td>\n",
       "    </tr>\n",
       "    <tr>\n",
       "      <th>3</th>\n",
       "      <td>20002</td>\n",
       "      <td>1059.023193</td>\n",
       "    </tr>\n",
       "    <tr>\n",
       "      <th>5</th>\n",
       "      <td>20003</td>\n",
       "      <td>715.545347</td>\n",
       "    </tr>\n",
       "    <tr>\n",
       "      <th>7</th>\n",
       "      <td>20004</td>\n",
       "      <td>543.455412</td>\n",
       "    </tr>\n",
       "    <tr>\n",
       "      <th>9</th>\n",
       "      <td>20005</td>\n",
       "      <td>519.751946</td>\n",
       "    </tr>\n",
       "  </tbody>\n",
       "</table>\n",
       "</div>"
      ],
      "text/plain": [
       "   product_id           tn\n",
       "1       20001  1290.183234\n",
       "3       20002  1059.023193\n",
       "5       20003   715.545347\n",
       "7       20004   543.455412\n",
       "9       20005   519.751946"
      ]
     },
     "execution_count": 17,
     "metadata": {},
     "output_type": "execute_result"
    }
   ],
   "source": [
    "# 💾 7. Guardar archivo\n",
    "resultado.to_csv(\"./dataset/predicciones_febrero2020_fecha_01_07.csv\", index=False)\n",
    "resultado.head()"
   ]
  },
  {
   "cell_type": "markdown",
   "id": "6b97884c",
   "metadata": {},
   "source": [
    "Ensemble archivos"
   ]
  },
  {
   "cell_type": "code",
   "execution_count": 19,
   "id": "1806f1c6",
   "metadata": {},
   "outputs": [],
   "source": [
    "reg_lineal = pd.read_csv(\"./dataset/predicciones_regresion_lineal_v1.csv\", sep=\",\")\n",
    "reg_lineal.rename(columns={'tn': 'tn_rl'}, inplace=True)\n",
    "resultado.rename(columns={'tn': 'tn_ag'}, inplace=True)\n"
   ]
  },
  {
   "cell_type": "code",
   "execution_count": null,
   "id": "49478ac8",
   "metadata": {},
   "outputs": [],
   "source": [
    "resultado = resultado.merge(reg_lineal, on='product_id', how='left')"
   ]
  },
  {
   "cell_type": "code",
   "execution_count": 24,
   "id": "fea4290c",
   "metadata": {},
   "outputs": [],
   "source": [
    "resultado['tn'] = (resultado['tn_ag'] + resultado['tn_rl']) / 2\n",
    "resultado[['product_id','tn']].to_csv(\"./dataset/predicciones_febrero2020_fecha_01_07_ensemble.csv\", index=False)"
   ]
  },
  {
   "cell_type": "code",
   "execution_count": 26,
   "id": "fa9b9ef6",
   "metadata": {},
   "outputs": [],
   "source": [
    "reg_ag = pd.read_csv(\"./dataset/prediccion_autogluon_2ventanas.csv\", sep=\",\")\n",
    "reg_ag.rename(columns={'tn': 'tn_ag'}, inplace=True)\n"
   ]
  },
  {
   "cell_type": "code",
   "execution_count": 30,
   "id": "f8f67c5e",
   "metadata": {},
   "outputs": [],
   "source": [
    "resultado = resultado.merge(reg_ag, on='product_id', how='left')\n",
    "resultado['tn'] = (resultado['tn_ag1'] + resultado['tn_ag']) / 2\n",
    "resultado[['product_id','tn']].to_csv(\"./dataset/predicciones_febrero2020_fecha_01_07_ensemble_v2.csv\", index=False)"
   ]
  }
 ],
 "metadata": {
  "kernelspec": {
   "display_name": "py311lab3",
   "language": "python",
   "name": "python3"
  },
  "language_info": {
   "codemirror_mode": {
    "name": "ipython",
    "version": 3
   },
   "file_extension": ".py",
   "mimetype": "text/x-python",
   "name": "python",
   "nbconvert_exporter": "python",
   "pygments_lexer": "ipython3",
   "version": "3.11.13"
  }
 },
 "nbformat": 4,
 "nbformat_minor": 5
}
