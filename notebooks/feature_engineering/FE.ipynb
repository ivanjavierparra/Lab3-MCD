{
 "cells": [
  {
   "cell_type": "code",
   "execution_count": 1,
   "id": "f8e31518",
   "metadata": {},
   "outputs": [],
   "source": [
    "import pandas as pd\n",
    "import numpy as np\n",
    "import gc"
   ]
  },
  {
   "cell_type": "code",
   "execution_count": 2,
   "id": "da9bf0bc",
   "metadata": {},
   "outputs": [
    {
     "data": {
      "text/plain": [
       "(17173448, 17)"
      ]
     },
     "execution_count": 2,
     "metadata": {},
     "output_type": "execute_result"
    }
   ],
   "source": [
    "df = pd.read_csv(\"./datasets/dataset.csv\", sep=',')\n",
    "df.shape"
   ]
  },
  {
   "cell_type": "code",
   "execution_count": 3,
   "id": "22cf4269",
   "metadata": {},
   "outputs": [
    {
     "name": "stdout",
     "output_type": "stream",
     "text": [
      "<class 'pandas.core.frame.DataFrame'>\n",
      "RangeIndex: 17173448 entries, 0 to 17173447\n",
      "Data columns (total 12 columns):\n",
      " #   Column                 Dtype  \n",
      "---  ------                 -----  \n",
      " 0   product_id             int64  \n",
      " 1   customer_id            int64  \n",
      " 2   periodo                int64  \n",
      " 3   nacimiento_producto    int64  \n",
      " 4   muerte_de_producto     int64  \n",
      " 5   sku_size               float64\n",
      " 6   stock_final            float64\n",
      " 7   tn                     float64\n",
      " 8   cust_request_tn        float64\n",
      " 9   cust_request_qty       float64\n",
      " 10  plan_precios_cuidados  float64\n",
      " 11  target                 float64\n",
      "dtypes: float64(7), int64(5)\n",
      "memory usage: 1.5 GB\n"
     ]
    }
   ],
   "source": [
    "df.drop(columns=['nacimiento_cliente_dt','cat1','cat2','cat3','brand'], inplace=True)\n",
    "df.info()"
   ]
  },
  {
   "cell_type": "code",
   "execution_count": 4,
   "id": "5351c3f3",
   "metadata": {},
   "outputs": [],
   "source": [
    "df.drop(columns=['sku_size','stock_final','cust_request_tn','cust_request_qty','plan_precios_cuidados'], inplace=True)"
   ]
  },
  {
   "cell_type": "code",
   "execution_count": 5,
   "id": "4db38413",
   "metadata": {},
   "outputs": [
    {
     "data": {
      "text/plain": [
       "7"
      ]
     },
     "execution_count": 5,
     "metadata": {},
     "output_type": "execute_result"
    }
   ],
   "source": [
    "gc.collect()"
   ]
  },
  {
   "cell_type": "code",
   "execution_count": 6,
   "id": "8aa7da42",
   "metadata": {},
   "outputs": [
    {
     "name": "stdout",
     "output_type": "stream",
     "text": [
      "✅ Feature engineering completo. Dataset tiene 44 columnas y 17,173,448 filas.\n"
     ]
    },
    {
     "name": "stderr",
     "output_type": "stream",
     "text": [
      "C:\\Users\\iparra\\AppData\\Local\\Temp\\ipykernel_8728\\1806397932.py:88: FutureWarning: A value is trying to be set on a copy of a DataFrame or Series through chained assignment using an inplace method.\n",
      "The behavior will change in pandas 3.0. This inplace method will never work because the intermediate object on which we are setting values always behaves as a copy.\n",
      "\n",
      "For example, when doing 'df[col].method(value, inplace=True)', try using 'df.method({col: value}, inplace=True)' or df[col] = df[col].method(value) instead, to perform the operation inplace on the original object.\n",
      "\n",
      "\n",
      "  df['target'].fillna(0, inplace=True)\n"
     ]
    }
   ],
   "source": [
    "# Convertir periodo a datetime para cálculos temporales\n",
    "df['periodo_dt'] = pd.to_datetime(df['periodo'].astype(str), format='%Y%m')\n",
    "df['crisis'] = (df['periodo_dt'].dt.year == 2019) & (df['periodo_dt'].dt.month == 8)\n",
    "\n",
    "\n",
    "# 🧩 1️⃣ Lags de tn por producto y cliente\n",
    "lags = [1, 2, 3, 6, 12, 14, 16, 18, 20, 22, 24]\n",
    "for lag in lags:\n",
    "    df[f'tn_lag_{lag}'] = df.groupby(['product_id', 'customer_id'])['tn'].shift(lag)\n",
    "\n",
    "# 🧩 2️⃣ Deltas (diferencias) entre lags\n",
    "for lag in lags:\n",
    "    df[f'tn_delta_{lag}'] = df['tn'] - df[f'tn_lag_{lag}']\n",
    "\n",
    "# 🧩 3️⃣ Rolling mean, std por producto y cliente\n",
    "windows = [3, 6, 12]\n",
    "for window in windows:\n",
    "    df[f'tn_roll_mean_{window}'] = (\n",
    "        df.groupby(['product_id', 'customer_id'])['tn']\n",
    "        .rolling(window=window, min_periods=1).mean().reset_index(level=[0,1], drop=True)\n",
    "    )\n",
    "    df[f'tn_roll_std_{window}'] = (\n",
    "        df.groupby(['product_id', 'customer_id'])['tn']\n",
    "        .rolling(window=window, min_periods=1).std().reset_index(level=[0,1], drop=True)\n",
    "    )\n",
    "\n",
    "# 🧩 4️⃣ Tendencia (diferencia entre rolling mean de largo y corto plazo)\n",
    "df['tn_trend'] = df['tn_roll_mean_12'] - df['tn_roll_mean_3']\n",
    "\n",
    "# 🧩 5️⃣ Ratio entre tn y rolling mean\n",
    "df['tn_ratio_mean_3'] = df['tn'] / (df['tn_roll_mean_3'] + 1e-6)  # Evitar división por cero\n",
    "\n",
    "# 🧩 6️⃣ Velocidad de crecimiento (delta con respecto al mes anterior)\n",
    "df['tn_growth_1'] = df['tn_delta_1'] / (df['tn_lag_1'] + 1e-6)\n",
    "\n",
    "# 🧩 7️⃣ Codificación de categorías (con numeración o one-hot)\n",
    "# for col in ['cat1', 'cat2', 'cat3', 'brand']:\n",
    "#     df[f'{col}_code'] = df[col].astype('category').cat.codes\n",
    "\n",
    "# 🧩 8️⃣ Rolling features de stock_final (igual que tn)\n",
    "# for lag in lags:\n",
    "#     df[f'stock_lag_{lag}'] = df.groupby(['product_id', 'customer_id'])['stock_final'].shift(lag)\n",
    "# for window in windows:\n",
    "#     df[f'stock_roll_mean_{window}'] = (\n",
    "#         df.groupby(['product_id', 'customer_id'])['stock_final']\n",
    "#         .rolling(window=window, min_periods=1).mean().reset_index(level=[0,1], drop=True)\n",
    "#     )\n",
    "\n",
    "# 🧩 9️⃣ Tendencia del stock\n",
    "# df['stock_trend'] = df['stock_roll_mean_12'] - df['stock_roll_mean_3']\n",
    "\n",
    "# 🧩 🔟 Interacciones entre tn y stock\n",
    "# df['tn_stock_ratio'] = df['tn'] / (df['stock_final'] + 1e-6)\n",
    "# df.drop(columns=['stock_final'], inplace=True)\n",
    "# gc.collect()\n",
    "\n",
    "# 🧩 🔟.5 Codificación temporal (año, mes, trimestre)\n",
    "df['year'] = df['periodo_dt'].dt.year\n",
    "df['month'] = df['periodo_dt'].dt.month\n",
    "df['quarter'] = df['periodo_dt'].dt.quarter\n",
    "\n",
    "# 🧩 🔟.6 Diferencia de periodo (en meses) respecto al nacimiento del producto\n",
    "df['months_since_nacimiento_producto'] = (\n",
    "    (df['periodo_dt'] - pd.to_datetime(df['nacimiento_producto'], format='%Y%m')).dt.days // 30\n",
    ")\n",
    "df.drop(columns=['nacimiento_producto','muerte_de_producto', 'periodo_dt' ], inplace=True)\n",
    "gc.collect()\n",
    "\n",
    "\n",
    "# 🧩 🔟.7 Posición temporal (crecimiento acumulado por cliente-producto)\n",
    "df['tn_cumsum'] = df.groupby(['product_id', 'customer_id'])['tn'].cumsum()\n",
    "\n",
    "# 🧩 🔟.8 Recuento de compras anteriores por cliente-producto\n",
    "df['compra_count'] = df.groupby(['product_id', 'customer_id']).cumcount()\n",
    "\n",
    "# 🧩 🔟.9 Flag de plan_precios_cuidados (puede ser útil)\n",
    "# df['plan_precios_cuidados_flag'] = (df['plan_precios_cuidados'] > 0).astype(int)\n",
    "# df.drop(columns=['plan_precios_cuidados'], inplace=True)\n",
    "# gc.collect()\n",
    "\n",
    "# 🧩 🔟🔟 Si querés, normalizar tn (z-score) por producto\n",
    "df['tn_norm_producto'] = (\n",
    "    df.groupby('product_id')['tn'].transform(lambda x: (x - x.mean()) / (x.std() + 1e-6))\n",
    ")\n",
    "# gc.collect()\n",
    "\n",
    "# 🧹 Eliminá los registros sin target (por ejemplo si querés predecir)\n",
    "df['target'].fillna(0, inplace=True)\n",
    "\n",
    "print(f\"✅ Feature engineering completo. Dataset tiene {df.shape[1]} columnas y {len(df):,} filas.\")\n"
   ]
  },
  {
   "cell_type": "code",
   "execution_count": 7,
   "id": "11a3eeb8",
   "metadata": {},
   "outputs": [],
   "source": [
    "dt_kgl = df[df[\"periodo\"].isin([201912])]\n",
    "df = df.drop(df[df[\"periodo\"].isin([201911,201912])].index,axis=0)"
   ]
  },
  {
   "cell_type": "code",
   "execution_count": 8,
   "id": "d2679c50",
   "metadata": {},
   "outputs": [
    {
     "data": {
      "text/plain": [
       "0"
      ]
     },
     "execution_count": 8,
     "metadata": {},
     "output_type": "execute_result"
    }
   ],
   "source": [
    "import gc\n",
    "gc.collect()"
   ]
  },
  {
   "cell_type": "code",
   "execution_count": null,
   "id": "e1589d92",
   "metadata": {},
   "outputs": [],
   "source": []
  },
  {
   "cell_type": "code",
   "execution_count": 9,
   "id": "c41d2bc8",
   "metadata": {},
   "outputs": [
    {
     "name": "stdout",
     "output_type": "stream",
     "text": [
      "[LightGBM] [Info] Auto-choosing row-wise multi-threading, the overhead of testing was 0.817451 seconds.\n",
      "You can set `force_row_wise=true` to remove the overhead.\n",
      "And if memory is not enough, you can set `force_col_wise=true`.\n",
      "[LightGBM] [Info] Total Bins 9270\n",
      "[LightGBM] [Info] Number of data points in the train set: 16058944, number of used features: 42\n",
      "[LightGBM] [Info] Start training from score 0.077271\n",
      "Modelo LightGBM entrenado con éxito.\n"
     ]
    }
   ],
   "source": [
    "import lightgbm as lgb\n",
    "import numpy as np\n",
    "from sklearn.metrics import mean_squared_error, mean_absolute_error, r2_score\n",
    "\n",
    "# 🧹 Preparar features y target\n",
    "feature_cols = [col for col in df.columns if col not in ['periodo_dt', 'target', 'nacimiento_producto', 'muerte_de_producto', 'periodo']]\n",
    "X = df[feature_cols].astype(np.float32)  # Convertir a float32\n",
    "y = df['target'].astype(np.float32)\n",
    "\n",
    "\n",
    "# Definir el modelo LightGBM\n",
    "lgb_reg = lgb.LGBMRegressor(random_state=12345)\n",
    "\n",
    "# Entrenar el modelo\n",
    "lgb_reg.fit(X, y)\n",
    "\n",
    "print(\"Modelo LightGBM entrenado con éxito.\")\n",
    "\n"
   ]
  },
  {
   "cell_type": "code",
   "execution_count": 12,
   "id": "47c75574",
   "metadata": {},
   "outputs": [],
   "source": [
    "X_kgl = dt_kgl.drop(columns=['target','periodo'])\n",
    "y_pred = lgb_reg.predict(X_kgl)"
   ]
  },
  {
   "cell_type": "code",
   "execution_count": 13,
   "id": "59e291c6",
   "metadata": {},
   "outputs": [
    {
     "data": {
      "text/html": [
       "<div>\n",
       "<style scoped>\n",
       "    .dataframe tbody tr th:only-of-type {\n",
       "        vertical-align: middle;\n",
       "    }\n",
       "\n",
       "    .dataframe tbody tr th {\n",
       "        vertical-align: top;\n",
       "    }\n",
       "\n",
       "    .dataframe thead th {\n",
       "        text-align: right;\n",
       "    }\n",
       "</style>\n",
       "<table border=\"1\" class=\"dataframe\">\n",
       "  <thead>\n",
       "    <tr style=\"text-align: right;\">\n",
       "      <th></th>\n",
       "      <th>product_id</th>\n",
       "      <th>tn</th>\n",
       "    </tr>\n",
       "  </thead>\n",
       "  <tbody>\n",
       "    <tr>\n",
       "      <th>0</th>\n",
       "      <td>20001</td>\n",
       "      <td>1175.854757</td>\n",
       "    </tr>\n",
       "    <tr>\n",
       "      <th>1</th>\n",
       "      <td>20002</td>\n",
       "      <td>1056.297877</td>\n",
       "    </tr>\n",
       "    <tr>\n",
       "      <th>2</th>\n",
       "      <td>20003</td>\n",
       "      <td>837.931074</td>\n",
       "    </tr>\n",
       "    <tr>\n",
       "      <th>3</th>\n",
       "      <td>20004</td>\n",
       "      <td>619.455506</td>\n",
       "    </tr>\n",
       "    <tr>\n",
       "      <th>4</th>\n",
       "      <td>20005</td>\n",
       "      <td>490.001896</td>\n",
       "    </tr>\n",
       "    <tr>\n",
       "      <th>...</th>\n",
       "      <td>...</td>\n",
       "      <td>...</td>\n",
       "    </tr>\n",
       "    <tr>\n",
       "      <th>775</th>\n",
       "      <td>21263</td>\n",
       "      <td>2.932130</td>\n",
       "    </tr>\n",
       "    <tr>\n",
       "      <th>776</th>\n",
       "      <td>21265</td>\n",
       "      <td>2.943556</td>\n",
       "    </tr>\n",
       "    <tr>\n",
       "      <th>777</th>\n",
       "      <td>21266</td>\n",
       "      <td>2.943556</td>\n",
       "    </tr>\n",
       "    <tr>\n",
       "      <th>778</th>\n",
       "      <td>21267</td>\n",
       "      <td>2.946382</td>\n",
       "    </tr>\n",
       "    <tr>\n",
       "      <th>779</th>\n",
       "      <td>21276</td>\n",
       "      <td>2.931790</td>\n",
       "    </tr>\n",
       "  </tbody>\n",
       "</table>\n",
       "<p>780 rows × 2 columns</p>\n",
       "</div>"
      ],
      "text/plain": [
       "     product_id           tn\n",
       "0         20001  1175.854757\n",
       "1         20002  1056.297877\n",
       "2         20003   837.931074\n",
       "3         20004   619.455506\n",
       "4         20005   490.001896\n",
       "..          ...          ...\n",
       "775       21263     2.932130\n",
       "776       21265     2.943556\n",
       "777       21266     2.943556\n",
       "778       21267     2.946382\n",
       "779       21276     2.931790\n",
       "\n",
       "[780 rows x 2 columns]"
      ]
     },
     "execution_count": 13,
     "metadata": {},
     "output_type": "execute_result"
    }
   ],
   "source": [
    "productos_ok = pd.read_csv(\"https://storage.googleapis.com/open-courses/austral2025-af91/labo3v/product_id_apredecir201912.txt\", sep=\"\\t\")\n",
    "result = pd.DataFrame({\"product_id\": X_kgl[\"product_id\"],  \"tn\": y_pred})\n",
    "result = result[result[\"product_id\"].isin(productos_ok[\"product_id\"])]\n",
    "result = result.groupby(\"product_id\").agg({\"tn\":\"sum\"}).reset_index()\n",
    "result"
   ]
  },
  {
   "cell_type": "code",
   "execution_count": 14,
   "id": "feb8a74c",
   "metadata": {},
   "outputs": [],
   "source": [
    "result.to_csv(\"./kaggle/lgb-probando12345.csv\", index=False, sep=\",\")"
   ]
  }
 ],
 "metadata": {
  "kernelspec": {
   "display_name": "base",
   "language": "python",
   "name": "python3"
  },
  "language_info": {
   "codemirror_mode": {
    "name": "ipython",
    "version": 3
   },
   "file_extension": ".py",
   "mimetype": "text/x-python",
   "name": "python",
   "nbconvert_exporter": "python",
   "pygments_lexer": "ipython3",
   "version": "3.12.4"
  }
 },
 "nbformat": 4,
 "nbformat_minor": 5
}
