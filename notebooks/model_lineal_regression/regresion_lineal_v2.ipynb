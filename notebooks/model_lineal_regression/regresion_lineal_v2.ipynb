{
 "cells": [
  {
   "cell_type": "markdown",
   "id": "a5018f11",
   "metadata": {},
   "source": [
    "# 🔧 PASO 1 – Preparar dataset"
   ]
  },
  {
   "cell_type": "code",
   "execution_count": 1,
   "id": "514c2350",
   "metadata": {},
   "outputs": [],
   "source": [
    "import pandas as pd\n",
    "import numpy as np\n",
    "from sklearn.linear_model import Ridge, Lasso, LinearRegression\n",
    "from sklearn.metrics import mean_squared_error\n",
    "from sklearn.preprocessing import StandardScaler\n",
    "import matplotlib.pyplot as plt\n",
    "import seaborn as sns"
   ]
  },
  {
   "cell_type": "code",
   "execution_count": 1,
   "id": "8ed9508d",
   "metadata": {},
   "outputs": [],
   "source": [
    "import pandas as pd\n",
    "import numpy as np\n",
    "from sklearn.linear_model import LinearRegression\n",
    "\n",
    "# Crear función de preparación con lags y clase\n",
    "def preparar_dataset_para_regresion(df):\n",
    "    df = df.sort_values(['product_id', 'periodo'])\n",
    "    \n",
    "    # Generar lags tn_1 a tn_11 por producto\n",
    "    for i in range(1, 12):\n",
    "        df[f'tn_{i}'] = df.groupby('product_id')['tn'].shift(i)\n",
    "    \n",
    "    # Crear campo \"clase\" con tn en periodo+2\n",
    "    df['clase'] = df.groupby('product_id')['tn'].shift(-2)\n",
    "    \n",
    "    return df"
   ]
  },
  {
   "cell_type": "code",
   "execution_count": null,
   "id": "5176c70d",
   "metadata": {},
   "outputs": [
    {
     "data": {
      "text/html": [
       "<div>\n",
       "<style scoped>\n",
       "    .dataframe tbody tr th:only-of-type {\n",
       "        vertical-align: middle;\n",
       "    }\n",
       "\n",
       "    .dataframe tbody tr th {\n",
       "        vertical-align: top;\n",
       "    }\n",
       "\n",
       "    .dataframe thead th {\n",
       "        text-align: right;\n",
       "    }\n",
       "</style>\n",
       "<table border=\"1\" class=\"dataframe\">\n",
       "  <thead>\n",
       "    <tr style=\"text-align: right;\">\n",
       "      <th></th>\n",
       "      <th>periodo\\tcustomer_id\\tproduct_id\\tplan_precios_cuidados\\tcust_request_qty\\tcust_request_tn\\ttn</th>\n",
       "    </tr>\n",
       "  </thead>\n",
       "  <tbody>\n",
       "    <tr>\n",
       "      <th>0</th>\n",
       "      <td>201701\\t10234\\t20524\\t0\\t2\\t0.053\\t0.053</td>\n",
       "    </tr>\n",
       "    <tr>\n",
       "      <th>1</th>\n",
       "      <td>201701\\t10032\\t20524\\t0\\t1\\t0.13628\\t0.13628</td>\n",
       "    </tr>\n",
       "    <tr>\n",
       "      <th>2</th>\n",
       "      <td>201701\\t10217\\t20524\\t0\\t1\\t0.03028\\t0.03028</td>\n",
       "    </tr>\n",
       "    <tr>\n",
       "      <th>3</th>\n",
       "      <td>201701\\t10125\\t20524\\t0\\t1\\t0.02271\\t0.02271</td>\n",
       "    </tr>\n",
       "    <tr>\n",
       "      <th>4</th>\n",
       "      <td>201701\\t10012\\t20524\\t0\\t11\\t1.54452\\t1.54452</td>\n",
       "    </tr>\n",
       "    <tr>\n",
       "      <th>...</th>\n",
       "      <td>...</td>\n",
       "    </tr>\n",
       "    <tr>\n",
       "      <th>2945813</th>\n",
       "      <td>201912\\t10105\\t20853\\t0\\t1\\t0.0223\\t0.0223</td>\n",
       "    </tr>\n",
       "    <tr>\n",
       "      <th>2945814</th>\n",
       "      <td>201912\\t10092\\t20853\\t0\\t1\\t0.00669\\t0.00669</td>\n",
       "    </tr>\n",
       "    <tr>\n",
       "      <th>2945815</th>\n",
       "      <td>201912\\t10006\\t20853\\t0\\t7\\t0.02898\\t0.02898</td>\n",
       "    </tr>\n",
       "    <tr>\n",
       "      <th>2945816</th>\n",
       "      <td>201912\\t10018\\t20853\\t0\\t4\\t0.01561\\t0.01561</td>\n",
       "    </tr>\n",
       "    <tr>\n",
       "      <th>2945817</th>\n",
       "      <td>201912\\t10020\\t20853\\t0\\t2\\t0.01561\\t0.01561</td>\n",
       "    </tr>\n",
       "  </tbody>\n",
       "</table>\n",
       "<p>2945818 rows × 1 columns</p>\n",
       "</div>"
      ],
      "text/plain": [
       "        periodo\\tcustomer_id\\tproduct_id\\tplan_precios_cuidados\\tcust_request_qty\\tcust_request_tn\\ttn\n",
       "0                 201701\\t10234\\t20524\\t0\\t2\\t0.053\\t0.053                                            \n",
       "1             201701\\t10032\\t20524\\t0\\t1\\t0.13628\\t0.13628                                            \n",
       "2             201701\\t10217\\t20524\\t0\\t1\\t0.03028\\t0.03028                                            \n",
       "3             201701\\t10125\\t20524\\t0\\t1\\t0.02271\\t0.02271                                            \n",
       "4            201701\\t10012\\t20524\\t0\\t11\\t1.54452\\t1.54452                                            \n",
       "...                                                    ...                                            \n",
       "2945813         201912\\t10105\\t20853\\t0\\t1\\t0.0223\\t0.0223                                            \n",
       "2945814       201912\\t10092\\t20853\\t0\\t1\\t0.00669\\t0.00669                                            \n",
       "2945815       201912\\t10006\\t20853\\t0\\t7\\t0.02898\\t0.02898                                            \n",
       "2945816       201912\\t10018\\t20853\\t0\\t4\\t0.01561\\t0.01561                                            \n",
       "2945817       201912\\t10020\\t20853\\t0\\t2\\t0.01561\\t0.01561                                            \n",
       "\n",
       "[2945818 rows x 1 columns]"
      ]
     },
     "execution_count": 2,
     "metadata": {},
     "output_type": "execute_result"
    }
   ],
   "source": [
    "df = pd.read_csv(\"../../data/raw/sell-in.csv\", sep='\\t')\n",
    "df = df.groupby(['periodo','product_id']).agg({'tn':'sum'})\n",
    "df = preparar_dataset_para_regresion(df)"
   ]
  },
  {
   "cell_type": "markdown",
   "id": "829bd070",
   "metadata": {},
   "source": [
    "# 📚 PASO 2 – Entrenar regresión lineal"
   ]
  },
  {
   "cell_type": "code",
   "execution_count": null,
   "id": "9a3c1a92",
   "metadata": {},
   "outputs": [],
   "source": [
    "# Lista de productos mágicos\n",
    "magicos = [\n",
    "    20002, 20003, 20006, 20010, 20011, 20018, 20019, 20021,\n",
    "    20026, 20028, 20035, 20039, 20042, 20044, 20045, 20046, 20049,\n",
    "    20051, 20052, 20053, 20055, 20008, 20001, 20017, 20086, 20180,\n",
    "    20193, 20320, 20532, 20612, 20637, 20807, 20838\n",
    "]\n",
    "\n",
    "# Entrenar regresión lineal en periodo base con productos mágicos\n",
    "def entrenar_regresion_lineal(df, periodo_base, magicos,  modelo='ridge', alpha=1.0, random_state=42):\n",
    "    columnas_tn = ['tn'] + [f'tn_{i}' for i in range(1, 12)]\n",
    "    \n",
    "    # Filtrar registros del periodo base y productos mágicos\n",
    "    df_train = df[(df['periodo'] == periodo_base) & (df['product_id'].isin(magicos))].copy()\n",
    "    \n",
    "    # Eliminar filas con datos faltantes\n",
    "    df_train = df_train.dropna(subset=columnas_tn + ['clase'])\n",
    "\n",
    "    # Entrenar modelo\n",
    "    X = df_train[columnas_tn]\n",
    "    y = df_train['clase']\n",
    "\n",
    "    scaler = StandardScaler()\n",
    "    X_scaled = scaler.fit_transform(X)\n",
    "    \n",
    "    if modelo == 'ridge':\n",
    "        reg = Ridge(alpha=alpha, random_state=random_state)\n",
    "    elif modelo == 'lasso':\n",
    "        reg = Lasso(alpha=alpha, random_state=random_state, max_iter=5000)\n",
    "    else:\n",
    "        reg = LinearRegression()\n",
    "    \n",
    "    reg.fit(X_scaled, y)\n",
    "    y_pred = reg.predict(X_scaled)\n",
    "    \n",
    "    \n",
    "    # Mostrar coeficientes\n",
    "    coef = pd.Series([reg.intercept_] + reg.coef_.tolist(), index=['intercept'] + columnas_tn)\n",
    "    return reg, scaler, coef.sort_values(ascending=False)\n",
    "\n",
    "\n",
    "\n",
    "    \n",
    "\n",
    "   \n"
   ]
  },
  {
   "cell_type": "markdown",
   "id": "6ff11192",
   "metadata": {},
   "source": [
    "# 🔮 PASO 3 – Predecir con el modelo entrenado"
   ]
  },
  {
   "cell_type": "code",
   "execution_count": null,
   "id": "b47d74f5",
   "metadata": {},
   "outputs": [],
   "source": [
    "# Predecir para un periodo futuro\n",
    "def predecir_regresion(df, model, periodo_a_predecir):\n",
    "    columnas_tn = ['tn'] + [f'tn_{i}' for i in range(1, 12)]\n",
    "    \n",
    "    df_pred = df[df['periodo'] == periodo_a_predecir].copy()\n",
    "    \n",
    "    # Separar registros completos e incompletos\n",
    "    completos = df_pred.dropna(subset=columnas_tn).copy()\n",
    "    incompletos = df_pred[~df_pred.index.isin(completos.index)].copy()\n",
    "    \n",
    "    # Predecir usando regresión lineal\n",
    "    completos['pred'] = model.predict(completos[columnas_tn])\n",
    "    \n",
    "    # Asignar promedio para los incompletos\n",
    "    pred_media = completos['pred'].mean()\n",
    "    incompletos['pred'] = pred_media\n",
    "\n",
    "    # Unir resultados\n",
    "    df_final = pd.concat([completos, incompletos]).sort_index()\n",
    "    \n",
    "    return df_final[['product_id', 'periodo'] + columnas_tn + ['pred']]\n"
   ]
  },
  {
   "cell_type": "markdown",
   "id": "9b96f2d6",
   "metadata": {},
   "source": [
    "# ▶️ PASO 4 – Ejecutar todo el flujo"
   ]
  },
  {
   "cell_type": "code",
   "execution_count": null,
   "id": "910c691d",
   "metadata": {},
   "outputs": [],
   "source": [
    "# Paso A: preparar dataset (con tus datos originales en df)\n",
    "df_prep = preparar_dataset_para_regresion(df)\n",
    "\n",
    "# Paso B: entrenar el modelo con periodo 201812\n",
    "modelo, coeficientes = entrenar_regresion_lineal(df_prep, periodo_base=201812, magicos=magicos)\n",
    "print(\"Coeficientes encontrados:\")\n",
    "print(coeficientes)\n",
    "\n",
    "# Paso C: predecir para registros del periodo 201912 → objetivo: predecir 202002\n",
    "df_predicho = predecir_regresion(df_prep, modelo, periodo_a_predecir=201912)\n",
    "\n",
    "# Paso D: ver primeras predicciones\n",
    "print(df_predicho[['product_id', 'periodo', 'pred']].head())"
   ]
  },
  {
   "cell_type": "markdown",
   "id": "bef7b480",
   "metadata": {},
   "source": [
    "# 💾 PASO 5 – Exportar a CSV (opcional)"
   ]
  },
  {
   "cell_type": "code",
   "execution_count": null,
   "id": "cc4fbff6",
   "metadata": {},
   "outputs": [],
   "source": [
    "# Exportar archivo para enviar a Kaggle (ajustar columnas si necesario)\n",
    "df_predicho[['product_id', 'pred']].to_csv(\"predicciones_regresion_lineal.csv\", index=False)"
   ]
  }
 ],
 "metadata": {
  "kernelspec": {
   "display_name": "base",
   "language": "python",
   "name": "python3"
  },
  "language_info": {
   "codemirror_mode": {
    "name": "ipython",
    "version": 3
   },
   "file_extension": ".py",
   "mimetype": "text/x-python",
   "name": "python",
   "nbconvert_exporter": "python",
   "pygments_lexer": "ipython3",
   "version": "3.12.4"
  }
 },
 "nbformat": 4,
 "nbformat_minor": 5
}
