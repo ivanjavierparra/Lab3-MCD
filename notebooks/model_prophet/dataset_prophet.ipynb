{
 "cells": [
  {
   "cell_type": "code",
   "execution_count": 1,
   "id": "1c10c744",
   "metadata": {},
   "outputs": [],
   "source": [
    "import pandas as pd\n",
    "import numpy as np\n",
    "import matplotlib.pyplot as plt\n",
    "import seaborn as sns"
   ]
  },
  {
   "cell_type": "code",
   "execution_count": 2,
   "id": "9e79372a",
   "metadata": {},
   "outputs": [],
   "source": [
    "sellin = pd.read_csv(\"datasets/sell-in.csv\", sep='\\t')\n",
    "productos = pd.read_csv(\"datasets/tb_productos.csv\", sep='\\t')\n",
    "stocks = pd.read_csv(\"datasets/tb_stocks.csv\", sep='\\t')"
   ]
  },
  {
   "cell_type": "code",
   "execution_count": 3,
   "id": "fc858b09",
   "metadata": {},
   "outputs": [
    {
     "name": "stdout",
     "output_type": "stream",
     "text": [
      "Sell-In: 2945818 filas y 7 columnas\n",
      "Productos: 1262 filas y 6 columnas\n",
      "Stocks: 13691 filas y 3 columnas\n"
     ]
    }
   ],
   "source": [
    "# Verificación inicial\n",
    "print(f\"Sell-In: {sellin.shape[0]} filas y {sellin.shape[1]} columnas\")\n",
    "print(f\"Productos: {productos.shape[0]} filas y {productos.shape[1]} columnas\")\n",
    "print(f\"Stocks: {stocks.shape[0]} filas y {stocks.shape[1]} columnas\")"
   ]
  },
  {
   "cell_type": "code",
   "execution_count": 4,
   "id": "ecc34c25",
   "metadata": {},
   "outputs": [
    {
     "name": "stdout",
     "output_type": "stream",
     "text": [
      "Ventas-Productos-Stocks: 2988650 filas y 13 columnas\n"
     ]
    }
   ],
   "source": [
    "# 3. MERGE INICIAL\n",
    "df = sellin.merge(productos, on=\"product_id\", how=\"left\")\n",
    "df = df.merge(stocks, on=[\"product_id\", \"periodo\"], how=\"left\")\n",
    "print(f\"Ventas-Productos-Stocks: {df.shape[0]} filas y {df.shape[1]} columnas\")"
   ]
  },
  {
   "cell_type": "code",
   "execution_count": 5,
   "id": "e74c4505",
   "metadata": {},
   "outputs": [
    {
     "name": "stdout",
     "output_type": "stream",
     "text": [
      "(1251, 6)\n"
     ]
    }
   ],
   "source": [
    "productos_clean = productos.drop_duplicates(subset=['product_id'], keep='first')\n",
    "print(productos_clean.shape)"
   ]
  },
  {
   "cell_type": "code",
   "execution_count": 6,
   "id": "6decf625",
   "metadata": {},
   "outputs": [
    {
     "name": "stdout",
     "output_type": "stream",
     "text": [
      "(2945818, 7)\n",
      "(2945818, 13)\n"
     ]
    }
   ],
   "source": [
    "df = sellin.merge(productos_clean, on=\"product_id\", how=\"left\")\n",
    "df = df.merge(stocks, on=[\"product_id\", \"periodo\"], how=\"left\")\n",
    "print(sellin.shape)\n",
    "print(df.shape)"
   ]
  },
  {
   "cell_type": "code",
   "execution_count": 7,
   "id": "07d12ef7",
   "metadata": {},
   "outputs": [],
   "source": [
    "df['periodo_dt'] = pd.to_datetime(df['periodo'].astype(str), format='%Y%m')"
   ]
  },
  {
   "cell_type": "markdown",
   "id": "68e0ec4c",
   "metadata": {},
   "source": [
    "# Armado del Dataset"
   ]
  },
  {
   "cell_type": "code",
   "execution_count": 8,
   "id": "c5a29fee",
   "metadata": {},
   "outputs": [
    {
     "name": "stdout",
     "output_type": "stream",
     "text": [
      "(31522, 3)\n"
     ]
    }
   ],
   "source": [
    "# Convertimos periodo a datetime\n",
    "df[\"periodo_dt\"] = pd.to_datetime(df[\"periodo\"].astype(str), format=\"%Y%m\")\n",
    "\n",
    "# Determinar vida útil de cada producto (primer y último periodo)\n",
    "vida_producto = df.groupby(\"product_id\")[\"periodo_dt\"].agg([\"min\", \"max\"]).reset_index()\n",
    "\n",
    "# Expandimos cada producto con todos los periodos de su vida útil\n",
    "periodos_producto = []\n",
    "for _, row in vida_producto.iterrows():\n",
    "    periodos = pd.date_range(start=row[\"min\"], end=row[\"max\"], freq=\"MS\")\n",
    "    for p in periodos:\n",
    "        periodos_producto.append((p, row[\"product_id\"]))\n",
    "\n",
    "df_producto_periodo = pd.DataFrame(periodos_producto, columns=[\"periodo_dt\", \"product_id\"])\n",
    "\n",
    "\n",
    "\n",
    "# Agregar columna periodo en formato AAAAMM\n",
    "df_producto_periodo[\"periodo\"] = df_producto_periodo[\"periodo_dt\"].dt.strftime(\"%Y%m\").astype(int)\n",
    "\n",
    "df_producto_periodo.drop(columns=['periodo_dt'],inplace=True)\n",
    "# Ordenar por periodo_dt (ascendente) y luego por product_id\n",
    "df_producto_periodo = df_producto_periodo.sort_values(by=[\"product_id\", \"periodo\"], ascending=True).reset_index(drop=True)\n",
    "\n",
    "\n",
    "\n",
    "###########\n",
    "toneladas_vendidas = df.copy()\n",
    "# Agregar los datos por periodo y product_id para obtener la serie temporal\n",
    "# Sumamos tn, cust_request_qty y cust_request_tn por periodo y product_id\n",
    "toneladas_vendidas = df.groupby(['periodo', 'product_id']).agg({\n",
    "    'tn': 'sum',\n",
    "    'cust_request_qty': 'sum',\n",
    "    'cust_request_tn': 'sum'\n",
    "}).reset_index()\n",
    "\n",
    "# Paso 5: Unir con las toneladas efectivamente vendidas (tn)\n",
    "df_merge = df_producto_periodo.merge(toneladas_vendidas[[\"periodo\", \"product_id\", \"tn\"]],\n",
    "                             on=[\"periodo\", \"product_id\"],\n",
    "                             how=\"left\")\n",
    "\n",
    "print(df_merge.shape)\n",
    "df_merge[\"tn\"] = df_merge[\"tn\"].fillna(0)"
   ]
  },
  {
   "cell_type": "markdown",
   "id": "efcd29d9",
   "metadata": {},
   "source": [
    "# Prophet"
   ]
  },
  {
   "cell_type": "code",
   "execution_count": 9,
   "id": "59eeb46e",
   "metadata": {},
   "outputs": [
    {
     "data": {
      "text/html": [
       "<div>\n",
       "<style scoped>\n",
       "    .dataframe tbody tr th:only-of-type {\n",
       "        vertical-align: middle;\n",
       "    }\n",
       "\n",
       "    .dataframe tbody tr th {\n",
       "        vertical-align: top;\n",
       "    }\n",
       "\n",
       "    .dataframe thead th {\n",
       "        text-align: right;\n",
       "    }\n",
       "</style>\n",
       "<table border=\"1\" class=\"dataframe\">\n",
       "  <thead>\n",
       "    <tr style=\"text-align: right;\">\n",
       "      <th></th>\n",
       "      <th>product_id</th>\n",
       "      <th>periodo</th>\n",
       "      <th>tn</th>\n",
       "    </tr>\n",
       "  </thead>\n",
       "  <tbody>\n",
       "    <tr>\n",
       "      <th>0</th>\n",
       "      <td>20001</td>\n",
       "      <td>201701</td>\n",
       "      <td>934.77222</td>\n",
       "    </tr>\n",
       "    <tr>\n",
       "      <th>1</th>\n",
       "      <td>20001</td>\n",
       "      <td>201702</td>\n",
       "      <td>798.01620</td>\n",
       "    </tr>\n",
       "    <tr>\n",
       "      <th>2</th>\n",
       "      <td>20001</td>\n",
       "      <td>201703</td>\n",
       "      <td>1303.35771</td>\n",
       "    </tr>\n",
       "    <tr>\n",
       "      <th>3</th>\n",
       "      <td>20001</td>\n",
       "      <td>201704</td>\n",
       "      <td>1069.96130</td>\n",
       "    </tr>\n",
       "    <tr>\n",
       "      <th>4</th>\n",
       "      <td>20001</td>\n",
       "      <td>201705</td>\n",
       "      <td>1502.20132</td>\n",
       "    </tr>\n",
       "  </tbody>\n",
       "</table>\n",
       "</div>"
      ],
      "text/plain": [
       "   product_id  periodo          tn\n",
       "0       20001   201701   934.77222\n",
       "1       20001   201702   798.01620\n",
       "2       20001   201703  1303.35771\n",
       "3       20001   201704  1069.96130\n",
       "4       20001   201705  1502.20132"
      ]
     },
     "execution_count": 9,
     "metadata": {},
     "output_type": "execute_result"
    }
   ],
   "source": [
    "df_merge.head()"
   ]
  },
  {
   "cell_type": "markdown",
   "id": "8ee57b74",
   "metadata": {},
   "source": [
    "# Prophet"
   ]
  },
  {
   "cell_type": "code",
   "execution_count": 14,
   "id": "13c15ebc",
   "metadata": {},
   "outputs": [],
   "source": [
    "productos_a_predecir = pd.read_csv(\"datasets/product_id_apredecir201912.csv\")\n",
    "# productos_a_predecir = list(productos_a_predecir['product_id'])"
   ]
  },
  {
   "cell_type": "code",
   "execution_count": 21,
   "id": "b7976e1e",
   "metadata": {},
   "outputs": [
    {
     "ename": "AttributeError",
     "evalue": "'Prophet' object has no attribute 'stan_backend'",
     "output_type": "error",
     "traceback": [
      "\u001b[1;31m---------------------------------------------------------------------------\u001b[0m",
      "\u001b[1;31mAttributeError\u001b[0m                            Traceback (most recent call last)",
      "Cell \u001b[1;32mIn[21], line 33\u001b[0m\n\u001b[0;32m     30\u001b[0m df_prophet \u001b[38;5;241m=\u001b[39m df_prod[[\u001b[38;5;124m'\u001b[39m\u001b[38;5;124mds\u001b[39m\u001b[38;5;124m'\u001b[39m, \u001b[38;5;124m'\u001b[39m\u001b[38;5;124my\u001b[39m\u001b[38;5;124m'\u001b[39m]]\u001b[38;5;241m.\u001b[39msort_values(\u001b[38;5;124m'\u001b[39m\u001b[38;5;124mds\u001b[39m\u001b[38;5;124m'\u001b[39m)\n\u001b[0;32m     32\u001b[0m \u001b[38;5;66;03m# Entrenar Prophet\u001b[39;00m\n\u001b[1;32m---> 33\u001b[0m m \u001b[38;5;241m=\u001b[39m \u001b[43mProphet\u001b[49m\u001b[43m(\u001b[49m\u001b[43m)\u001b[49m\n\u001b[0;32m     34\u001b[0m m\u001b[38;5;241m.\u001b[39mfit(df_prophet)\n\u001b[0;32m     36\u001b[0m \u001b[38;5;66;03m# Crear dataframe para fechas futuras\u001b[39;00m\n",
      "File \u001b[1;32m~\\AppData\\Roaming\\Python\\Python312\\site-packages\\prophet\\forecaster.py:155\u001b[0m, in \u001b[0;36mProphet.__init__\u001b[1;34m(self, growth, changepoints, n_changepoints, changepoint_range, yearly_seasonality, weekly_seasonality, daily_seasonality, holidays, seasonality_mode, seasonality_prior_scale, holidays_prior_scale, changepoint_prior_scale, mcmc_samples, interval_width, uncertainty_samples, stan_backend, scaling, holidays_mode)\u001b[0m\n\u001b[0;32m    153\u001b[0m \u001b[38;5;28mself\u001b[39m\u001b[38;5;241m.\u001b[39mfit_kwargs \u001b[38;5;241m=\u001b[39m {}\n\u001b[0;32m    154\u001b[0m \u001b[38;5;28mself\u001b[39m\u001b[38;5;241m.\u001b[39mvalidate_inputs()\n\u001b[1;32m--> 155\u001b[0m \u001b[38;5;28;43mself\u001b[39;49m\u001b[38;5;241;43m.\u001b[39;49m\u001b[43m_load_stan_backend\u001b[49m\u001b[43m(\u001b[49m\u001b[43mstan_backend\u001b[49m\u001b[43m)\u001b[49m\n",
      "File \u001b[1;32m~\\AppData\\Roaming\\Python\\Python312\\site-packages\\prophet\\forecaster.py:168\u001b[0m, in \u001b[0;36mProphet._load_stan_backend\u001b[1;34m(self, stan_backend)\u001b[0m\n\u001b[0;32m    165\u001b[0m \u001b[38;5;28;01melse\u001b[39;00m:\n\u001b[0;32m    166\u001b[0m     \u001b[38;5;28mself\u001b[39m\u001b[38;5;241m.\u001b[39mstan_backend \u001b[38;5;241m=\u001b[39m StanBackendEnum\u001b[38;5;241m.\u001b[39mget_backend_class(stan_backend)()\n\u001b[1;32m--> 168\u001b[0m logger\u001b[38;5;241m.\u001b[39mdebug(\u001b[38;5;124m\"\u001b[39m\u001b[38;5;124mLoaded stan backend: \u001b[39m\u001b[38;5;132;01m%s\u001b[39;00m\u001b[38;5;124m\"\u001b[39m, \u001b[38;5;28;43mself\u001b[39;49m\u001b[38;5;241;43m.\u001b[39;49m\u001b[43mstan_backend\u001b[49m\u001b[38;5;241m.\u001b[39mget_type())\n",
      "\u001b[1;31mAttributeError\u001b[0m: 'Prophet' object has no attribute 'stan_backend'"
     ]
    }
   ],
   "source": [
    "import pandas as pd\n",
    "from prophet import Prophet\n",
    "\n",
    "df = df_merge.copy()\n",
    "\n",
    "# Asegurar que el campo periodo esté en formato datetime (Prophet espera columna 'ds' de fechas)\n",
    "df['ds'] = pd.to_datetime(df['periodo'].astype(str), format='%Y%m')\n",
    "df = df.rename(columns={'tn': 'y'})\n",
    "\n",
    "# 📤 2. Filtrar solo las columnas necesarias\n",
    "df = df[['product_id', 'ds', 'y']]\n",
    "\n",
    "# 📅 Fecha objetivo\n",
    "fecha_prediccion = pd.to_datetime('2020-02-01')\n",
    "\n",
    "# 📈 3. Crear diccionario para almacenar predicciones\n",
    "predicciones = []\n",
    "\n",
    "# 4️⃣ Recorrer cada producto de la lista (750 productos)\n",
    "for product_id in productos_a_predecir['product_id']:\n",
    "    # Filtrar datos de este producto\n",
    "    df_prod = df[df['product_id'] == product_id]\n",
    "    \n",
    "    if df_prod.empty or len(df_prod) < 3:\n",
    "        # Si no hay datos o son insuficientes para entrenar, guardar NaN\n",
    "        predicciones.append({'product_id': product_id, 'periodo': 202002, 'tn_pred': None})\n",
    "        continue\n",
    "    \n",
    "    # Preparar datos para Prophet\n",
    "    df_prophet = df_prod[['ds', 'y']].sort_values('ds')\n",
    "    \n",
    "    # Entrenar Prophet\n",
    "    m = Prophet()\n",
    "    m.fit(df_prophet)\n",
    "    \n",
    "    # Crear dataframe para fechas futuras\n",
    "    future = pd.DataFrame({'ds': [fecha_prediccion]})\n",
    "    \n",
    "    # Hacer predicción\n",
    "    forecast = m.predict(future)\n",
    "    y_pred = forecast.loc[forecast['ds'] == fecha_prediccion, 'yhat'].values[0]\n",
    "    \n",
    "    # Guardar predicción\n",
    "    predicciones.append({'product_id': product_id, 'periodo': 202002, 'tn_pred': y_pred})\n",
    "\n",
    "# 📈 5. Convertir resultados a DataFrame\n",
    "df_predicciones = pd.DataFrame(predicciones)\n",
    "\n",
    "# 📤 Mostrar resultados\n",
    "print(df_predicciones)\n"
   ]
  },
  {
   "cell_type": "code",
   "execution_count": 20,
   "id": "748dadf7",
   "metadata": {},
   "outputs": [
    {
     "name": "stdout",
     "output_type": "stream",
     "text": [
      "Defaulting to user installation because normal site-packages is not writeable\n",
      "Requirement already satisfied: prophet in c:\\users\\iparra\\appdata\\roaming\\python\\python312\\site-packages (1.1.6)\n",
      "Requirement already satisfied: cmdstanpy>=1.0.4 in c:\\users\\iparra\\appdata\\roaming\\python\\python312\\site-packages (from prophet) (1.2.5)\n",
      "Requirement already satisfied: numpy>=1.15.4 in c:\\programdata\\anaconda3\\lib\\site-packages (from prophet) (1.26.4)\n",
      "Requirement already satisfied: matplotlib>=2.0.0 in c:\\programdata\\anaconda3\\lib\\site-packages (from prophet) (3.8.4)\n",
      "Requirement already satisfied: pandas>=1.0.4 in c:\\programdata\\anaconda3\\lib\\site-packages (from prophet) (2.2.2)\n",
      "Requirement already satisfied: holidays<1,>=0.25 in c:\\users\\iparra\\appdata\\roaming\\python\\python312\\site-packages (from prophet) (0.67)\n",
      "Requirement already satisfied: tqdm>=4.36.1 in c:\\programdata\\anaconda3\\lib\\site-packages (from prophet) (4.66.4)\n",
      "Requirement already satisfied: importlib-resources in c:\\users\\iparra\\appdata\\roaming\\python\\python312\\site-packages (from prophet) (6.5.2)\n",
      "Requirement already satisfied: stanio<2.0.0,>=0.4.0 in c:\\users\\iparra\\appdata\\roaming\\python\\python312\\site-packages (from cmdstanpy>=1.0.4->prophet) (0.5.1)\n",
      "Requirement already satisfied: python-dateutil in c:\\users\\iparra\\appdata\\roaming\\python\\python312\\site-packages (from holidays<1,>=0.25->prophet) (2.9.0.post0)\n",
      "Requirement already satisfied: contourpy>=1.0.1 in c:\\programdata\\anaconda3\\lib\\site-packages (from matplotlib>=2.0.0->prophet) (1.2.0)\n",
      "Requirement already satisfied: cycler>=0.10 in c:\\programdata\\anaconda3\\lib\\site-packages (from matplotlib>=2.0.0->prophet) (0.11.0)\n",
      "Requirement already satisfied: fonttools>=4.22.0 in c:\\programdata\\anaconda3\\lib\\site-packages (from matplotlib>=2.0.0->prophet) (4.51.0)\n",
      "Requirement already satisfied: kiwisolver>=1.3.1 in c:\\programdata\\anaconda3\\lib\\site-packages (from matplotlib>=2.0.0->prophet) (1.4.4)\n",
      "Requirement already satisfied: packaging>=20.0 in c:\\users\\iparra\\appdata\\roaming\\python\\python312\\site-packages (from matplotlib>=2.0.0->prophet) (24.1)\n",
      "Requirement already satisfied: pillow>=8 in c:\\programdata\\anaconda3\\lib\\site-packages (from matplotlib>=2.0.0->prophet) (10.3.0)\n",
      "Requirement already satisfied: pyparsing>=2.3.1 in c:\\programdata\\anaconda3\\lib\\site-packages (from matplotlib>=2.0.0->prophet) (3.0.9)\n",
      "Requirement already satisfied: pytz>=2020.1 in c:\\programdata\\anaconda3\\lib\\site-packages (from pandas>=1.0.4->prophet) (2024.1)\n",
      "Requirement already satisfied: tzdata>=2022.7 in c:\\programdata\\anaconda3\\lib\\site-packages (from pandas>=1.0.4->prophet) (2023.3)\n",
      "Requirement already satisfied: colorama in c:\\users\\iparra\\appdata\\roaming\\python\\python312\\site-packages (from tqdm>=4.36.1->prophet) (0.4.6)\n",
      "Requirement already satisfied: six>=1.5 in c:\\users\\iparra\\appdata\\roaming\\python\\python312\\site-packages (from python-dateutil->holidays<1,>=0.25->prophet) (1.16.0)\n"
     ]
    }
   ],
   "source": [
    "!pip install prophet"
   ]
  }
 ],
 "metadata": {
  "kernelspec": {
   "display_name": "base",
   "language": "python",
   "name": "python3"
  },
  "language_info": {
   "codemirror_mode": {
    "name": "ipython",
    "version": 3
   },
   "file_extension": ".py",
   "mimetype": "text/x-python",
   "name": "python",
   "nbconvert_exporter": "python",
   "pygments_lexer": "ipython3",
   "version": "3.12.4"
  }
 },
 "nbformat": 4,
 "nbformat_minor": 5
}
