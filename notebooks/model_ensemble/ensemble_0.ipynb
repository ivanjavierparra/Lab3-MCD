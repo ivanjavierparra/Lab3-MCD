{
 "cells": [
  {
   "cell_type": "code",
   "execution_count": null,
   "id": "7a04978d",
   "metadata": {},
   "outputs": [],
   "source": [
    "import pandas as pd\n",
    "import numpy as np\n",
    "import matplotlib.pyplot as plt\n",
    "import seaborn as sns\n",
    "from sklearn.model_selection import TimeSeriesSplit, RandomizedSearchCV\n",
    "import lightgbm as lgb\n",
    "import xgboost as xgb\n",
    "from sklearn.ensemble import RandomForestRegressor, VotingRegressor\n",
    "from scipy.stats import uniform\n",
    "import joblib\n",
    "from sklearn.metrics import mean_squared_error, mean_absolute_error, r2_score"
   ]
  },
  {
   "cell_type": "markdown",
   "id": "cc19c7c9",
   "metadata": {},
   "source": [
    "#### Importamos librerías"
   ]
  },
  {
   "cell_type": "code",
   "execution_count": null,
   "id": "ba380b48",
   "metadata": {},
   "outputs": [],
   "source": [
    "df = pd.read_csv(\"../../data/preprocessed/base.csv\")\n",
    "df['periodo_dt'] = pd.to_datetime(df['periodo'].astype(str), format='%Y%m')\n",
    "df.shape"
   ]
  },
  {
   "cell_type": "markdown",
   "id": "f7404f08",
   "metadata": {},
   "source": [
    "#### Generación de Dataset"
   ]
  },
  {
   "cell_type": "code",
   "execution_count": null,
   "id": "1c5658f7",
   "metadata": {},
   "outputs": [],
   "source": [
    "# Determinar vida útil de cada producto (primer y último periodo)\n",
    "vida_producto = df.groupby(\"product_id\")[\"periodo_dt\"].agg([\"min\", \"max\"]).reset_index()\n",
    "periodos_producto = []\n",
    "for _, row in vida_producto.iterrows():\n",
    "    periodos = pd.date_range(start=row[\"min\"], end=row[\"max\"], freq=\"MS\")\n",
    "    for p in periodos:\n",
    "        periodos_producto.append((p, row[\"product_id\"]))\n",
    "df_producto_periodo = pd.DataFrame(periodos_producto, columns=[\"periodo_dt\", \"product_id\"])\n",
    "\n",
    "\n",
    "\n",
    "# Agregar columna periodo en formato AAAAMM\n",
    "df_producto_periodo[\"periodo\"] = df_producto_periodo[\"periodo_dt\"].dt.strftime(\"%Y%m\").astype(int)\n",
    "df_producto_periodo.drop(columns=['periodo_dt'],inplace=True)\n",
    "df_producto_periodo = df_producto_periodo.sort_values(by=[\"product_id\", \"periodo\"], ascending=True).reset_index(drop=True)\n",
    "\n",
    "\n",
    "\n",
    "# Sumarizacion de toneladas\n",
    "toneladas_vendidas = df.copy()\n",
    "toneladas_vendidas = df.groupby(['periodo', 'product_id']).agg({\n",
    "    'tn': 'sum',\n",
    "    'cust_request_qty': 'sum',\n",
    "    'cust_request_tn': 'sum'\n",
    "}).reset_index()\n",
    "\n",
    "\n",
    "# Unir con las toneladas efectivamente vendidas (tn)\n",
    "df_merge = df_producto_periodo.merge(toneladas_vendidas[[\"periodo\", \"product_id\", \"tn\",\"cust_request_qty\", \"cust_request_tn\"]],\n",
    "                             on=[\"periodo\", \"product_id\"],\n",
    "                             how=\"left\")\n",
    "df_merge[\"tn\"] = df_merge[\"tn\"].fillna(0)\n",
    "\n",
    "\n",
    "# Unir con productos y stocks\n",
    "productos = pd.read_csv(\"../../data/raw/tb_productos.csv\", sep='\\t')\n",
    "productos = productos.drop_duplicates(subset=['product_id'], keep='first')\n",
    "df_merge = df_merge.merge(productos[['product_id', 'cat1', 'cat2', 'cat3','brand','sku_size']], on='product_id', how='left')\n",
    "stocks = pd.read_csv(\"../../data/raw/tb_stocks.csv\", sep='\\t')\n",
    "df_merge = df_merge.merge(stocks[['product_id', 'periodo', 'stock_final']], on=['product_id', 'periodo'], how='left')\n",
    "print(df_merge.shape)\n",
    "\n",
    "\n",
    "# precios cuidados\n",
    "df_precios = df[['product_id', 'periodo_dt', 'plan_precios_cuidados']].drop_duplicates()\n",
    "periodos_producto = []\n",
    "for _, row in vida_producto.iterrows():\n",
    "    product_id = row['product_id']\n",
    "    min_fecha = row['min']\n",
    "    max_fecha = row['max']\n",
    "    periodos = pd.date_range(start=min_fecha, end=max_fecha, freq='MS')\n",
    "    for p in periodos:\n",
    "        periodos_producto.append((product_id, p))\n",
    "\n",
    "df_periodos = pd.DataFrame(periodos_producto, columns=['product_id', 'periodo_dt'])\n",
    "df_final = df_periodos.merge(df_precios, on=['product_id', 'periodo_dt'], how='left')\n",
    "df_final[\"periodo\"] = df_final[\"periodo_dt\"].dt.strftime(\"%Y%m\").astype(int)\n",
    "df_final.drop(columns=['periodo_dt'],inplace=True)\n",
    "\n",
    "df_merge = df_merge.merge(df_final[['product_id', 'periodo', 'plan_precios_cuidados']], on=['product_id', 'periodo'], how='left')\n",
    "df_merge.shape"
   ]
  },
  {
   "cell_type": "markdown",
   "id": "d31bc965",
   "metadata": {},
   "source": [
    "#### Feature Engineering"
   ]
  },
  {
   "cell_type": "code",
   "execution_count": null,
   "id": "0c2932a1",
   "metadata": {},
   "outputs": [],
   "source": [
    "ts = df_merge.copy()\n",
    "ts['periodo_dt'] = pd.to_datetime(df['periodo'], format='%Y%m')"
   ]
  },
  {
   "cell_type": "markdown",
   "id": "6c966b0e",
   "metadata": {},
   "source": [
    "Categóricas"
   ]
  },
  {
   "cell_type": "code",
   "execution_count": null,
   "id": "82fdfaaa",
   "metadata": {},
   "outputs": [],
   "source": [
    "# Convertir las columnas de categoría a tipo 'category' para que las detecte LGBM\n",
    "ts['cat1'] = ts['cat1'].astype('category')\n",
    "ts['cat2'] = ts['cat2'].astype('category')\n",
    "ts['cat3'] = ts['cat3'].astype('category')\n",
    "ts['brand'] = ts['brand'].astype('category')\n",
    "ts['sku_size'] = ts['sku_size'].astype('category')"
   ]
  },
  {
   "cell_type": "markdown",
   "id": "514d42ed",
   "metadata": {},
   "source": [
    "Desagregación de Fechas"
   ]
  },
  {
   "cell_type": "code",
   "execution_count": null,
   "id": "99cf05fc",
   "metadata": {},
   "outputs": [],
   "source": [
    "# Crear características adicionales\n",
    "ts['crisis'] = (ts['periodo_dt'].dt.year == 2019) & (ts['periodo_dt'].dt.month == 8)\n",
    "ts['quarter'] = ts['periodo_dt'].dt.quarter\n",
    "ts['month'] = ts['periodo_dt'].dt.month\n",
    "ts['year'] = ts['periodo_dt'].dt.year\n",
    "ts['season'] = ts['periodo_dt'].apply(lambda x: 1 if x.month in [6, 7, 8] else 0)\n",
    "ts['tn_diff'] = ts.groupby('product_id')['tn'].diff()\n",
    "ts['rolling_mean'] = ts.groupby('product_id')['tn'].rolling(window=3).mean().reset_index(level=0, drop=True)\n",
    "ts['interaction'] = ts['year'] * ts['month']"
   ]
  },
  {
   "cell_type": "markdown",
   "id": "cf782827",
   "metadata": {},
   "source": [
    "Normalización"
   ]
  },
  {
   "cell_type": "code",
   "execution_count": null,
   "id": "63ca6014",
   "metadata": {},
   "outputs": [],
   "source": [
    "# Normalización por producto\n",
    "# ts['tn_norm'] = ts.groupby('product_id')['tn'].transform(lambda x: (x - x.mean()) / x.std())"
   ]
  },
  {
   "cell_type": "markdown",
   "id": "55d718da",
   "metadata": {},
   "source": [
    "Lags en Toneladas"
   ]
  },
  {
   "cell_type": "code",
   "execution_count": null,
   "id": "7243c9e4",
   "metadata": {},
   "outputs": [],
   "source": [
    "# Agregar lags a las toneladas\n",
    "for lag in range(0, 13):\n",
    "    ts[f'tn_lag_{lag}'] = ts.groupby('product_id')['tn'].shift(lag)"
   ]
  },
  {
   "cell_type": "markdown",
   "id": "e8356512",
   "metadata": {},
   "source": [
    "Fecha Primera y Ultima Venta"
   ]
  },
  {
   "cell_type": "code",
   "execution_count": null,
   "id": "9fb291d6",
   "metadata": {},
   "outputs": [],
   "source": [
    "# Identificar el primer y último periodo de ventas para cada producto\n",
    "ts['first_sale'] = ts.groupby('product_id')['periodo_dt'].transform('min')\n",
    "ts['last_sale'] = ts.groupby('product_id')['periodo_dt'].transform('max')\n",
    "ts['months_since_launch'] = (ts['periodo_dt'] - ts['first_sale']).dt.days // 30  # en meses\n",
    "# Calculamos el tiempo desde la primera venta para cada registro"
   ]
  },
  {
   "cell_type": "markdown",
   "id": "bb8af159",
   "metadata": {},
   "source": [
    "Grado de Madurez del Producto"
   ]
  },
  {
   "cell_type": "code",
   "execution_count": null,
   "id": "415767a6",
   "metadata": {},
   "outputs": [],
   "source": [
    "# Crear una categoría de madurez basada en el tiempo desde la primera venta\n",
    "conditions = [\n",
    "    (ts['months_since_launch'] < 6),\n",
    "    (ts['months_since_launch'] >= 6) & (ts['months_since_launch'] < 18),\n",
    "    (ts['months_since_launch'] >= 18) & (ts['months_since_launch'] < 30),\n",
    "    (ts['months_since_launch'] >= 30)\n",
    "]\n",
    "choices = ['new', 'growth', 'mature', 'decline']\n",
    "ts['grado_de_madurez'] = np.select(conditions, choices, default='unknown')\n",
    "\n",
    "# One-Hot Encode the grado_de_madurez feature\n",
    "ts = pd.get_dummies(ts, columns=['grado_de_madurez'], drop_first=True)"
   ]
  },
  {
   "cell_type": "markdown",
   "id": "c294d9f9",
   "metadata": {},
   "source": [
    "Pesos"
   ]
  },
  {
   "cell_type": "code",
   "execution_count": null,
   "id": "044d26e4",
   "metadata": {},
   "outputs": [],
   "source": [
    "# Paso 1: Calcular la suma total por producto\n",
    "participacion = ts.groupby('product_id')['tn'].sum()\n",
    "# Paso 2: Calcular el total global\n",
    "total_global = participacion.sum()\n",
    "# Paso 3: Calcular la proporción por producto\n",
    "participacion = participacion / total_global\n",
    "participacion.name = 'participacion_tn'\n",
    "# Paso 4: Merge con el DataFrame original\n",
    "ts = ts.merge(participacion, on='product_id', how='left')"
   ]
  },
  {
   "cell_type": "markdown",
   "id": "ab7d3e0a",
   "metadata": {},
   "source": [
    "Stock ratio"
   ]
  },
  {
   "cell_type": "code",
   "execution_count": null,
   "id": "1c7bc578",
   "metadata": {},
   "outputs": [],
   "source": [
    "# stock de prodctos: velocidad de rotacion\n",
    "ts['stock_ratio'] = ts['tn'] / ts['stock_final']\n",
    "ts['stock_ratio'] = ts.apply(\n",
    "    lambda x: x['tn'] / x['stock_final'] if x['stock_final'] > 0 else 0,\n",
    "    axis=1\n",
    ")\n",
    "ts['stock_ratio'] = ts['stock_ratio'].replace([np.inf, -np.inf], 0).fillna(0)"
   ]
  },
  {
   "cell_type": "markdown",
   "id": "f020b390",
   "metadata": {},
   "source": [
    "Crecimiento de stock"
   ]
  },
  {
   "cell_type": "code",
   "execution_count": null,
   "id": "bb4db453",
   "metadata": {},
   "outputs": [],
   "source": [
    "# Crecimiento del stock entre periodos:  Útil para detectar si el producto está acumulando inventario o escaseando.\n",
    "ts['stock_growth'] = ts.groupby('product_id')['stock_final'].pct_change() #  calcula el cambio porcentual entre el valor actual y el valor anterior en la columna stock_final para cada grupo. \n",
    "ts['stock_growth'] = ts['stock_growth'].replace([np.inf, -np.inf], 0).fillna(0)"
   ]
  },
  {
   "cell_type": "markdown",
   "id": "570f032d",
   "metadata": {},
   "source": [
    "Stock vs Promedio"
   ]
  },
  {
   "cell_type": "code",
   "execution_count": null,
   "id": "2c3a9ed3",
   "metadata": {},
   "outputs": [],
   "source": [
    "# Relación stock actual vs. promedio histórico\n",
    "avg_stock = ts.groupby('product_id')['stock_final'].transform('mean')\n",
    "ts['stock_vs_avg'] = ts['stock_final'] / avg_stock\n",
    "ts['stock_vs_avg'] = ts['stock_vs_avg'].replace([np.inf, -np.inf], 0).fillna(0)"
   ]
  },
  {
   "cell_type": "markdown",
   "id": "f03b251b",
   "metadata": {},
   "source": [
    "Lags de stock"
   ]
  },
  {
   "cell_type": "code",
   "execution_count": null,
   "id": "b4af7032",
   "metadata": {},
   "outputs": [],
   "source": [
    "# Stock lagueado: Ideal para que LightGBM aprenda con información de meses previos.\n",
    "ts['stock_lag1'] = ts.groupby('product_id')['stock_final'].shift(1)\n",
    "ts['stock_lag1'] = ts['stock_lag1'].replace([np.inf, -np.inf], 0).fillna(0)\n",
    "ts['stock_lag2'] = ts.groupby('product_id')['stock_final'].shift(2)\n",
    "ts['stock_lag2'] = ts['stock_lag2'].replace([np.inf, -np.inf], 0).fillna(0)"
   ]
  },
  {
   "cell_type": "markdown",
   "id": "08304b61",
   "metadata": {},
   "source": [
    "Categorizar el nivel de stock"
   ]
  },
  {
   "cell_type": "code",
   "execution_count": null,
   "id": "5d45ccca",
   "metadata": {},
   "outputs": [],
   "source": [
    "\n",
    "ts['stock_level'] = pd.qcut(ts['stock_final'], q=4, labels=['Muy bajo', 'Bajo', 'Medio', 'Alto'])\n",
    "ts['stock_level'] = ts['stock_level'].cat.codes"
   ]
  },
  {
   "cell_type": "markdown",
   "id": "c4266d25",
   "metadata": {},
   "source": [
    "Porcentaje vendido al top 13 de clientes"
   ]
  },
  {
   "cell_type": "code",
   "execution_count": null,
   "id": "c41645d8",
   "metadata": {},
   "outputs": [],
   "source": [
    "# Porcentaje vendido al top 13 de clientes: Nueva columna que, para cada combinación periodo-producto, indique qué porcentaje de toneladas fue vendido a los top 13 clientes.\n",
    "# Paso 1: Identificar los top 13 clientes\n",
    "df_copy = df.copy() \n",
    "top_13 = (df_copy.groupby('customer_id')['tn'].sum()\n",
    "          .sort_values(ascending=False)\n",
    "          .head(13)\n",
    "          .index)\n",
    "# Paso 2: Calcular toneladas por periodo-producto para top13\n",
    "df_copy['is_top13'] = df_copy['customer_id'].isin(top_13)\n",
    "agregado_total = df_copy.groupby(['periodo', 'product_id'])['tn'].sum()\n",
    "agregado_top13 = df_copy[df_copy['is_top13']].groupby(['periodo', 'product_id'])['tn'].sum()\n",
    "# Paso 3: Crear DataFrame de proporción\n",
    "df_prop = (agregado_top13 / agregado_total).reset_index(name='porcentaje_top13')\n",
    "# Paso 4: Merge con tu dataset original\n",
    "ts = ts.merge(df_prop, on=['periodo', 'product_id'], how='left')"
   ]
  },
  {
   "cell_type": "markdown",
   "id": "bdda4dbd",
   "metadata": {},
   "source": [
    "Numero de clientes distintos por producto y mes"
   ]
  },
  {
   "cell_type": "code",
   "execution_count": null,
   "id": "9d1e3d66",
   "metadata": {},
   "outputs": [],
   "source": [
    "# Numero de clientes distintos por producto y mes: Esto indica cuán diversificada es la demanda por producto en cada periodo.\n",
    "clientes_distintos = df.groupby(['periodo', 'product_id'])['customer_id'].nunique().reset_index(name='n_clientes')\n",
    "ts = ts.merge(clientes_distintos, on=['periodo', 'product_id'], how='left')"
   ]
  },
  {
   "cell_type": "markdown",
   "id": "c98ed6b2",
   "metadata": {},
   "source": [
    "Indice de Herfindahl"
   ]
  },
  {
   "cell_type": "code",
   "execution_count": null,
   "id": "0db75d8a",
   "metadata": {},
   "outputs": [],
   "source": [
    "\n",
    "# Concentración (índice de Herfindahl): Podés calcular el índice de concentración por producto y mes. \n",
    "# El índice de Herfindahl es la suma de los cuadrados de las participaciones de los clientes:\n",
    "# Calcular la participación de cada cliente por periodo-producto\n",
    "participaciones = df.groupby(['periodo', 'product_id', 'customer_id'])['tn'].sum()\n",
    "# Calcular el índice de Herfindahl-Hirschman\n",
    "participaciones_pct = participaciones.groupby(['periodo', 'product_id']).apply(\n",
    "    lambda x: ((x / x.sum())**2).sum()\n",
    ").reset_index(name='hh_index')\n",
    "# Merge con tu dataframe agregado por periodo y producto\n",
    "ts = ts.merge(participaciones_pct, on=['periodo', 'product_id'], how='left')"
   ]
  },
  {
   "cell_type": "markdown",
   "id": "340e8560",
   "metadata": {},
   "source": [
    "Tasa de repetición de clientes"
   ]
  },
  {
   "cell_type": "code",
   "execution_count": null,
   "id": "97733631",
   "metadata": {},
   "outputs": [],
   "source": [
    "# % de clientes que ya compraron el producto en el período anterior\n",
    "# Paso 1: Agrupar y obtener clientes únicos por período y producto\n",
    "clientes_por_periodo = df.groupby(['periodo', 'product_id'])['customer_id'].unique().reset_index()\n",
    "# Paso 2: Ordenar\n",
    "clientes_por_periodo = clientes_por_periodo.sort_values(['product_id', 'periodo'])\n",
    "# Paso 3: Shift preservando la estructura (usando transform)\n",
    "clientes_por_periodo['clientes_prev'] = (\n",
    "    clientes_por_periodo.groupby('product_id')['customer_id']\n",
    "    .transform(lambda x: x.shift(1))\n",
    ")\n",
    "# Paso 4: Función corregida para tasa de repetición\n",
    "def tasa_repeticion(row):\n",
    "    clientes_actuales = set(row['customer_id']) if isinstance(row['customer_id'], np.ndarray) else set()\n",
    "    clientes_anteriores = set(row['clientes_prev']) if isinstance(row['clientes_prev'], np.ndarray) else set()\n",
    "    \n",
    "    if not clientes_actuales:\n",
    "        return 0.0\n",
    "    \n",
    "    repetidos = clientes_actuales & clientes_anteriores\n",
    "    return len(repetidos) / len(clientes_actuales)\n",
    "clientes_por_periodo['tasa_repeticion'] = clientes_por_periodo.apply(tasa_repeticion, axis=1)\n",
    "# Resultado\n",
    "resultado = clientes_por_periodo[['periodo', 'product_id', 'tasa_repeticion']]\n",
    "ts = ts.merge(resultado, on=['periodo', 'product_id'], how='left')\n"
   ]
  },
  {
   "cell_type": "markdown",
   "id": "5c04aa6b",
   "metadata": {},
   "source": [
    "Clientes nuevos para ese producto"
   ]
  },
  {
   "cell_type": "code",
   "execution_count": null,
   "id": "a8a33822",
   "metadata": {},
   "outputs": [],
   "source": [
    "# Construir un historial de compras por cliente-producto\n",
    "df_copy = df.copy()\n",
    "df_copy['first_purchase'] = df_copy.groupby(['customer_id', 'product_id'])['periodo'].transform('min')\n",
    "# Cliente nuevo = primera compra de ese producto en ese mes\n",
    "df_copy['cliente_nuevo'] = (df_copy['periodo'] == df_copy['first_purchase']).astype(int)\n",
    "# Agregar a nivel periodo-producto\n",
    "clientes_nuevos = df_copy.groupby(['periodo', 'product_id'])['cliente_nuevo'].sum().reset_index()\n",
    "# Merge con el DataFrame original\n",
    "ts = ts.merge(clientes_nuevos, on=['periodo', 'product_id'], how='left')"
   ]
  },
  {
   "cell_type": "markdown",
   "id": "a674e8e7",
   "metadata": {},
   "source": [
    "Se podría agregar esta segmentación de cliente..."
   ]
  },
  {
   "cell_type": "code",
   "execution_count": null,
   "id": "c2e19ad6",
   "metadata": {},
   "outputs": [],
   "source": [
    "# conteo_customers = (\n",
    "#     df.groupby('customer_id')\n",
    "#     .size()\n",
    "#     .reset_index(name='cantidad_compras')\n",
    "# )\n",
    "\n",
    "# conteo_customers['media'] = conteo_customers['cantidad_compras'].median()\n",
    "# conteo_customers['ds'] = conteo_customers['cantidad_compras'].std()\n",
    "# conteo_customers['q10'] = conteo_customers['cantidad_compras'].quantile(0.1)\n",
    "# conteo_customers['q90'] = conteo_customers['cantidad_compras'].quantile(0.9)\n",
    "\n",
    "# def clasificar_frecuencia(frecuencia,median,q10,q90):\n",
    "\n",
    "#     if frecuencia <= q10:\n",
    "#         return \"🕸 Inactivo\"\n",
    "#     elif  frecuencia <= median :\n",
    "#         return \"🟡 Ocasional\"\n",
    "#     elif  frecuencia <= q90:\n",
    "#         return \"🟢 Frecuente\"\n",
    "#     else:\n",
    "#         return \"🔵 Fiel\"\n",
    "    \n",
    "\n",
    "# conteo_customers['segmento_frecuencia'] = conteo_customers.apply(\n",
    "#     lambda row: clasificar_frecuencia(\n",
    "#         row['cantidad_compras'],\n",
    "#         row['media'],  # <- Esto no tiene sentido en tu caso, porque 'media' es igual para todos\n",
    "#         row['q10'],\n",
    "#         row['q90']\n",
    "#     ),\n",
    "#     axis=1\n",
    "# )\n",
    "\n",
    "\n",
    "\n",
    "# # Supongamos que df tiene una columna 'segmento' asociada al cliente\n",
    "# segmento_dominante = (\n",
    "#     df.groupby(['periodo', 'product_id', 'segmento'])['tn']\n",
    "#     .sum()\n",
    "#     .reset_index()\n",
    "#     .sort_values(['periodo', 'product_id', 'tn'], ascending=False)\n",
    "#     .drop_duplicates(subset=['periodo', 'product_id'])\n",
    "#     .rename(columns={'segmento': 'segmento_dominante'})\n",
    "# )"
   ]
  },
  {
   "cell_type": "markdown",
   "id": "8ee88297",
   "metadata": {},
   "source": [
    "Promedio histórico de toneladas por cliente (en un mes): promedio de compra"
   ]
  },
  {
   "cell_type": "code",
   "execution_count": null,
   "id": "95245d04",
   "metadata": {},
   "outputs": [],
   "source": [
    "promedio_tn_cliente = (\n",
    "    df.groupby(['product_id', 'customer_id'])['tn']\n",
    "    .mean()\n",
    "    .reset_index()\n",
    "    .groupby('product_id')['tn']\n",
    "    .mean()\n",
    "    .reset_index()\n",
    "    .rename(columns={'tn': 'prom_tn_cliente'})\n",
    ")\n",
    "ts = ts.merge(promedio_tn_cliente, on='product_id', how='left')"
   ]
  },
  {
   "cell_type": "markdown",
   "id": "8124b388",
   "metadata": {},
   "source": [
    "Varianza de las toneladas por cliente (en un mes)"
   ]
  },
  {
   "cell_type": "code",
   "execution_count": null,
   "id": "a9ae6901",
   "metadata": {},
   "outputs": [],
   "source": [
    "# Dispersión en tamaño de compra\n",
    "var_tn_cliente = (\n",
    "    df.groupby(['periodo', 'product_id'])['tn']\n",
    "    .std()\n",
    "    .reset_index()\n",
    "    .rename(columns={'tn': 'std_tn_cliente'})\n",
    ")\n",
    "ts = ts.merge(var_tn_cliente, on=['periodo', 'product_id'], how='left')"
   ]
  },
  {
   "cell_type": "markdown",
   "id": "b6b48f30",
   "metadata": {},
   "source": [
    "Coeficiente de Gini de participación de clientes"
   ]
  },
  {
   "cell_type": "code",
   "execution_count": null,
   "id": "d4d02b54",
   "metadata": {},
   "outputs": [],
   "source": [
    "# Coeficiente de Gini de participación de clientes: desigualdad en la distribución de compras\n",
    "def gini(array):\n",
    "    array = np.sort(np.array(array))\n",
    "    n = len(array)\n",
    "    if n == 0:\n",
    "        return np.nan\n",
    "    cumx = np.cumsum(array, dtype=float)\n",
    "    return (n + 1 - 2 * np.sum(cumx) / cumx[-1]) / n\n",
    "\n",
    "gini_por_producto = (\n",
    "    df.groupby(['periodo', 'product_id'])['tn']\n",
    "    .apply(gini)\n",
    "    .reset_index()\n",
    "    .rename(columns={'tn': 'gini_clientes'})\n",
    ")\n",
    "ts = ts.merge(gini_por_producto, on=['periodo', 'product_id'], how='left')"
   ]
  },
  {
   "cell_type": "markdown",
   "id": "3e51f846",
   "metadata": {},
   "source": [
    "Fechas"
   ]
  },
  {
   "cell_type": "code",
   "execution_count": null,
   "id": "fa7b7205",
   "metadata": {},
   "outputs": [],
   "source": [
    "ts['periodo_dt'] = ts['periodo_dt'].dt.year * 100 + ts['periodo_dt'].dt.month\n",
    "ts['first_sale'] = ts['first_sale'].dt.year * 100 + ts['first_sale'].dt.month\n",
    "ts['last_sale'] = ts['last_sale'].dt.year * 100 + ts['last_sale'].dt.month"
   ]
  },
  {
   "cell_type": "markdown",
   "id": "a96088bc",
   "metadata": {},
   "source": [
    "Target"
   ]
  },
  {
   "cell_type": "code",
   "execution_count": null,
   "id": "5426787e",
   "metadata": {},
   "outputs": [],
   "source": [
    "ts['tn_target'] = ts['tn'].shift(-2)"
   ]
  },
  {
   "cell_type": "markdown",
   "id": "9fa93504",
   "metadata": {},
   "source": [
    "#### Función para calcular pesos"
   ]
  },
  {
   "cell_type": "code",
   "execution_count": null,
   "id": "6f740458",
   "metadata": {},
   "outputs": [],
   "source": [
    "def calcular_pesos(ts):\n",
    "    ventas_totales = ts.groupby('product_id')['tn'].sum()\n",
    "    pesos = ventas_totales / ventas_totales.sum()\n",
    "    return pesos"
   ]
  },
  {
   "cell_type": "markdown",
   "id": "8d374f17",
   "metadata": {},
   "source": [
    "#### Entrenamiento de Ensemble: LGB + RF + XGB"
   ]
  },
  {
   "cell_type": "code",
   "execution_count": null,
   "id": "b202c3c1",
   "metadata": {},
   "outputs": [],
   "source": [
    "# quito 201911 y 201912\n",
    "ts = ts[:-2]\n",
    "\n",
    "X = ts.drop(columns=['tn_target'])\n",
    "y = ts['tn_target']\n",
    "\n",
    "pesos_ventas = calcular_pesos(ts)\n",
    "\n",
    "# Validación temporal en lugar de train_test_split\n",
    "tscv = TimeSeriesSplit(n_splits=5)\n",
    "X_train, X_test, y_train, y_test = None, None, None, None\n",
    "for train_index, test_index in tscv.split(X):\n",
    "    X_train, X_test = X.iloc[train_index].copy(), X.iloc[test_index].copy()  # Hacer una copia explícita\n",
    "    y_train, y_test = y.iloc[train_index], y.iloc[test_index]\n",
    "\n",
    "# Codificar las características categóricas 'cat1', 'cat2', 'cat3'\n",
    "for col in ['cat1', 'cat2', 'cat3', 'brand', 'sku_size']:\n",
    "    X_train.loc[:, col] = X_train[col].astype('category').cat.codes\n",
    "    X_test.loc[:, col] = X_test[col].astype('category').cat.codes\n",
    "\n",
    "# Obtener los pesos para el conjunto de entrenamiento\n",
    "pesos_entrenamiento = pesos_ventas.loc[X_train['product_id']].values\n",
    "\n",
    "# Definir el espacio de búsqueda de hiperparámetros para LightGBM\n",
    "param_dist = {\n",
    "    'num_leaves': [15, 31, 50, 70, 128],  # [31, 50, 70, 128],\n",
    "    'max_depth': [-1, 10, 20, 30],  # [-1, 10, 20, 30],\n",
    "    'learning_rate': uniform(0.01, 0.1),\n",
    "    'n_estimators': [100, 200, 500, 700],  # [100, 200, 500],\n",
    "    'min_child_samples': [10, 20, 30],  # [20, 30, 40],\n",
    "    'subsample': uniform(0.8, 0.2),\n",
    "    'colsample_bytree': uniform(0.8, 0.2),\n",
    "    'reg_alpha': uniform(0.0, 0.5),\n",
    "    'reg_lambda': uniform(0.0, 0.5)\n",
    "}\n",
    "\n",
    "# Definir el modelo de LightGBM con RandomizedSearchCV\n",
    "lgb_model = lgb.LGBMRegressor(random_state=42)\n",
    "random_search = RandomizedSearchCV(lgb_model, param_distributions=param_dist, n_iter=100, cv=5, verbose=1, n_jobs=-1, random_state=42)\n",
    "random_search.fit(X_train, y_train, sample_weight=pesos_entrenamiento)\n",
    "\n",
    "print(f\"Best parameters found: {random_search.best_params_}\")\n",
    "\n",
    "# Crear y ajustar el modelo de Random Forest con pesos\n",
    "rf_model = RandomForestRegressor(n_estimators=100, random_state=42)\n",
    "rf_model.fit(X_train, y_train, sample_weight=pesos_entrenamiento)\n",
    "\n",
    "# Crear y ajustar el modelo de XGBoost con pesos\n",
    "xgb_model = xgb.XGBRegressor(objective='reg:squarederror', random_state=42)\n",
    "xgb_model.fit(X_train, y_train, sample_weight=pesos_entrenamiento)\n",
    "\n",
    "# Obtener el mejor modelo de LightGBM\n",
    "lgb_model = random_search.best_estimator_\n",
    "\n",
    "# Crear el modelo de ensemble con VotingRegressor\n",
    "ensemble_model = VotingRegressor(estimators=[\n",
    "    ('lgb', lgb_model),\n",
    "    ('rf', rf_model),\n",
    "    ('xgb', xgb_model)\n",
    "])\n",
    "\n",
    "# Ajustar el modelo de ensemble\n",
    "ensemble_model.fit(X_train, y_train, sample_weight=pesos_entrenamiento)\n",
    "\n",
    "# Predecir en el conjunto de prueba\n",
    "y_pred = ensemble_model.predict(X_test)\n",
    "\n",
    "# Calcular métricas de rendimiento\n",
    "mse = mean_squared_error(y_test, y_pred)\n",
    "mae = mean_absolute_error(y_test, y_pred)\n",
    "r2 = r2_score(y_test, y_pred)\n",
    "print(f\"Ensemble Model MSE: {mse:.4f}, MAE: {mae:.4f}, R²: {r2:.4f}\")\n",
    "\n",
    "joblib.dump(ensemble_model, './models/model_E1.pkl')"
   ]
  },
  {
   "cell_type": "markdown",
   "id": "93cb2a80",
   "metadata": {},
   "source": [
    "#### Lista de Productos a Predecir"
   ]
  },
  {
   "cell_type": "code",
   "execution_count": null,
   "id": "8ebde8ff",
   "metadata": {},
   "outputs": [],
   "source": [
    "# Levantamos\n",
    "productos_a_predecir = pd.read_csv(\"../../data/raw/product_id_apredecir201912.csv\")\n",
    "productos_filtrados = productos_a_predecir['product_id'].unique()\n",
    "filtro = (ts['periodo'] == 201912) & (ts['product_id'].isin(productos_filtrados))\n",
    "\n",
    "# Subconjunto filtrado\n",
    "ts_filtrado = ts[filtro]\n",
    "for col in ['cat1', 'cat2', 'cat3', 'brand', 'sku_size']:\n",
    "    ts_filtrado.loc[:, col] = ts_filtrado[col].astype('category').cat.codes\n",
    "    \n",
    "# Quitamos target\n",
    "ts_filtrado.drop(columns=['tn_target'], inplace=True)"
   ]
  },
  {
   "cell_type": "markdown",
   "id": "00b8a21d",
   "metadata": {},
   "source": [
    "#### Predecimos y Guardamos los Resultados"
   ]
  },
  {
   "cell_type": "code",
   "execution_count": null,
   "id": "98e768cd",
   "metadata": {},
   "outputs": [],
   "source": [
    "# Predecimos\n",
    "y_pred = ensemble_model.predict(ts_filtrado)\n",
    "\n",
    "# Calculamos los pesos\n",
    "resultados = ts_filtrado[['product_id', 'periodo']].copy()\n",
    "resultados['tn_pred'] = y_pred\n",
    "pesos_ventas = calcular_pesos(ts)\n",
    "\n",
    "for idx, row in resultados.iterrows():\n",
    "    peso = pesos_ventas.get(row['product_id'],0)\n",
    "    # Guardar el nuevo valor\n",
    "    resultados.at[idx, 'tn_pred'] = row['tn_pred'] * peso\n",
    "\n",
    "# Mostrar resultados\n",
    "print(resultados)\n",
    "resultados.drop(columns=['periodo'],inplace=True)\n",
    "resultados.rename(columns={'tn_pred':'tn'}, inplace=True)\n",
    "resultados.to_csv(\"../../output/03-modelo-ensamblador.csv\", index=False, sep=',')"
   ]
  },
  {
   "cell_type": "code",
   "execution_count": null,
   "id": "a79c9196",
   "metadata": {},
   "outputs": [],
   "source": []
  }
 ],
 "metadata": {
  "language_info": {
   "name": "python"
  }
 },
 "nbformat": 4,
 "nbformat_minor": 5
}
