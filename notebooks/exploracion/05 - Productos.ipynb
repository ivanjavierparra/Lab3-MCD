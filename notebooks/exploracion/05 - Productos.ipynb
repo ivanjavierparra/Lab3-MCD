{
 "cells": [
  {
   "cell_type": "markdown",
   "id": "1994499b",
   "metadata": {},
   "source": [
    "#### Importamos Librerias"
   ]
  },
  {
   "cell_type": "code",
   "execution_count": null,
   "id": "150b666f",
   "metadata": {},
   "outputs": [],
   "source": [
    "import matplotlib.pyplot as plt\n",
    "import seaborn as sns\n",
    "import numpy as np\n",
    "import pandas as pd"
   ]
  },
  {
   "cell_type": "markdown",
   "id": "6d2b7b59",
   "metadata": {},
   "source": [
    "#### Levantamos dataset"
   ]
  },
  {
   "cell_type": "code",
   "execution_count": null,
   "id": "00847031",
   "metadata": {},
   "outputs": [],
   "source": [
    "df = pd.read_csv(\"../../data/preprocessed/base.csv\")\n",
    "df[\"periodo_dt\"] = pd.to_datetime(df[\"periodo\"].astype(str), format=\"%Y%m\")\n",
    "df.shape"
   ]
  },
  {
   "cell_type": "markdown",
   "id": "9d45ba4a",
   "metadata": {},
   "source": [
    "# Productos\n",
    "#### Periodo de productos\n",
    "\n",
    "Vemos cuantos productos perduraron a lo largo del tiempo"
   ]
  },
  {
   "cell_type": "code",
   "execution_count": null,
   "id": "b9b6d577",
   "metadata": {},
   "outputs": [
    {
     "data": {
      "text/plain": [
       "product_id    927\n",
       "dtype: int64"
      ]
     },
     "metadata": {},
     "output_type": "display_data"
    }
   ],
   "source": [
    "# Suponemos que ya tenés cargado tu DataFrame df con columnas: periodo (AAAAMM), customer_id, product_id, tn\n",
    "# Convertimos periodo a datetime\n",
    "\n",
    "\n",
    "# Paso 2: Determinar periodo de vida útil de cada producto\n",
    "vida_producto = df.groupby(\"product_id\")[\"periodo_dt\"].agg([\"min\", \"max\"]).reset_index()\n",
    "\n",
    "\n",
    "# Función para calcular meses exactos\n",
    "def meses_entre_fechas(f1, f2):\n",
    "    return (f2.year - f1.year) * 12 + (f2.month - f1.month)\n",
    "\n",
    "# Calcular duración en meses exactos\n",
    "vida_producto['duracion_meses'] = vida_producto.apply(\n",
    "    lambda x: meses_entre_fechas(x['min'], x['max']), \n",
    "    axis=1\n",
    ")\n",
    "\n",
    "\n",
    "# Calcular duración máxima en meses (asegurando cubrir todo el rango)\n",
    "max_meses = vida_producto['duracion_meses'].max()\n",
    "bins = int(max_meses) + 1  # +1 para incluir el último mes\n",
    "\n",
    "# Crear el gráfico con bins exactos por mes\n",
    "plt.figure(figsize=(14, 7))\n",
    "ax = sns.histplot(\n",
    "    data=vida_producto,\n",
    "    x='duracion_meses',\n",
    "    bins=bins,  # ¡Ajuste clave aquí!\n",
    "    discrete=True,  # Para que cada barra sea un mes entero\n",
    "    color='#4e79a7',\n",
    "    edgecolor='white',\n",
    "    alpha=0.8\n",
    ")\n",
    "\n",
    "# Añadir etiquetas a las barras\n",
    "for p in ax.patches:\n",
    "    height = p.get_height()\n",
    "    if height > 0:\n",
    "        ax.annotate(\n",
    "            f'{int(height)}',\n",
    "            (p.get_x() + p.get_width() / 2., height),\n",
    "            ha='center', va='center',\n",
    "            xytext=(0, 5),\n",
    "            textcoords='offset points',\n",
    "            fontsize=9\n",
    "        )\n",
    "\n",
    "# Personalización avanzada\n",
    "plt.title('Distribución Exacta de Vida Útil por Mes', pad=20, fontsize=14)\n",
    "plt.xlabel('Duración en Meses', fontsize=12)\n",
    "plt.ylabel('Cantidad de Productos', fontsize=12)\n",
    "plt.xticks(np.arange(0, max_meses + 1, step=3))  # Muestra cada 3 meses\n",
    "plt.grid(axis='y', linestyle='--', alpha=0.3)\n",
    "\n",
    "# Ajustar ejes\n",
    "ax.set_xlim(-0.5, max_meses + 0.5)  # Margen para visualización\n",
    "\n",
    "plt.tight_layout()\n",
    "plt.show()"
   ]
  },
  {
   "cell_type": "code",
   "execution_count": null,
   "id": "43867d41",
   "metadata": {},
   "outputs": [],
   "source": [
    "vida_producto[vida_producto['max']>='2019-10-01'].shape"
   ]
  }
 ],
 "metadata": {
  "language_info": {
   "name": "python"
  }
 },
 "nbformat": 4,
 "nbformat_minor": 5
}
