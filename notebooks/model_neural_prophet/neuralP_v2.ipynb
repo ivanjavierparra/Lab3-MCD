{
 "cells": [
  {
   "cell_type": "markdown",
   "id": "e1bda70c",
   "metadata": {},
   "source": [
    "# Neural Prophet\n",
    "### Kaggle \n",
    "score = 0.410"
   ]
  },
  {
   "cell_type": "code",
   "execution_count": 1,
   "id": "38e52603",
   "metadata": {},
   "outputs": [
    {
     "ename": "ModuleNotFoundError",
     "evalue": "No module named 'neuralprophet'",
     "output_type": "error",
     "traceback": [
      "\u001b[31m---------------------------------------------------------------------------\u001b[39m",
      "\u001b[31mModuleNotFoundError\u001b[39m                       Traceback (most recent call last)",
      "\u001b[36mCell\u001b[39m\u001b[36m \u001b[39m\u001b[32mIn[1]\u001b[39m\u001b[32m, line 2\u001b[39m\n\u001b[32m      1\u001b[39m \u001b[38;5;28;01mimport\u001b[39;00m\u001b[38;5;250m \u001b[39m\u001b[34;01mpandas\u001b[39;00m\u001b[38;5;250m \u001b[39m\u001b[38;5;28;01mas\u001b[39;00m\u001b[38;5;250m \u001b[39m\u001b[34;01mpd\u001b[39;00m\n\u001b[32m----> \u001b[39m\u001b[32m2\u001b[39m \u001b[38;5;28;01mfrom\u001b[39;00m\u001b[38;5;250m \u001b[39m\u001b[34;01mneuralprophet\u001b[39;00m\u001b[38;5;250m \u001b[39m\u001b[38;5;28;01mimport\u001b[39;00m NeuralProphet\n\u001b[32m      4\u001b[39m \u001b[38;5;66;03m# 1️⃣ Cargar los datasets\u001b[39;00m\n\u001b[32m      5\u001b[39m ventas = pd.read_csv(\u001b[33m\"\u001b[39m\u001b[33m./datasets/periodo_x_producto_con_target.csv\u001b[39m\u001b[33m\"\u001b[39m, sep=\u001b[33m'\u001b[39m\u001b[33m,\u001b[39m\u001b[33m'\u001b[39m, encoding=\u001b[33m'\u001b[39m\u001b[33mutf-8\u001b[39m\u001b[33m'\u001b[39m)\n",
      "\u001b[31mModuleNotFoundError\u001b[39m: No module named 'neuralprophet'"
     ]
    }
   ],
   "source": [
    "import pandas as pd\n",
    "from neuralprophet import NeuralProphet\n",
    "\n",
    "# 1️⃣ Cargar los datasets\n",
    "ventas = pd.read_csv(\"./datasets/periodo_x_producto_con_target.csv\", sep=',', encoding='utf-8')\n",
    "ventas['periodo_dt'] = pd.to_datetime(ventas['periodo'].astype(str), format='%Y%m')\n",
    "\n",
    "\n",
    "\n",
    "\n",
    "\n",
    "# Unir con ventas reales\n",
    "ventas = ventas[['product_id','periodo_dt','tn']]\n",
    "ventas['tn'] = ventas['tn'].fillna(0)\n",
    "ventas['ds'] = ventas['periodo_dt']\n",
    "ventas['y'] = ventas['tn']\n",
    "\n",
    "# Filtrar solo productos a predecir\n",
    "productos_ids = ventas['product_id'].unique()\n",
    "\n",
    "# 2️⃣ Entrenar un modelo por producto a predecir\n",
    "resultados = []\n",
    "fecha_prediccion = pd.to_datetime('2020-02-01')\n",
    "errores = []\n",
    "for pid in productos_ids:\n",
    "    df_prod = ventas[ventas['product_id']==pid][['ds','y']].sort_values('ds')\n",
    "    \n",
    "    if len(df_prod) < 3:\n",
    "        print(f\"⏩ Saltando producto {pid}: muy pocos datos.\")\n",
    "        errores.append({'product_id': pid, 'periodo': 202002, 'tn_pred': None})\n",
    "        continue\n",
    "    \n",
    "    m = NeuralProphet(n_lags=12, n_forecasts=2, epochs=100, yearly_seasonality=True)\n",
    "    try:\n",
    "        m.fit(df_prod, freq='MS', progress='bar')\n",
    "        future = m.make_future_dataframe(df_prod, periods=2, n_historic_predictions=False)\n",
    "        forecast = m.predict(future)\n",
    "        resultados.append(forecast)\n",
    "    except Exception as e:\n",
    "        print(f\"❌ Error en producto {pid}: {e}\")\n",
    "        errores.append({'product_id': pid, 'periodo': 202002, 'tn_pred': None})\n",
    "\n",
    "# 3️⃣ Guardar resultados\n",
    "df_result = pd.DataFrame(resultados)"
   ]
  },
  {
   "cell_type": "code",
   "execution_count": null,
   "id": "a302bd0d",
   "metadata": {},
   "outputs": [],
   "source": [
    "df_result['tn_pred'] = df_result['tn_pred'].fillna(0)\n",
    "df_result['tn_pred'] = df_result['tn_pred'].apply(lambda x: 0 if x < 0 else x)"
   ]
  },
  {
   "cell_type": "code",
   "execution_count": 4,
   "id": "fb84bf9a",
   "metadata": {},
   "outputs": [
    {
     "data": {
      "text/html": [
       "<div>\n",
       "<style scoped>\n",
       "    .dataframe tbody tr th:only-of-type {\n",
       "        vertical-align: middle;\n",
       "    }\n",
       "\n",
       "    .dataframe tbody tr th {\n",
       "        vertical-align: top;\n",
       "    }\n",
       "\n",
       "    .dataframe thead th {\n",
       "        text-align: right;\n",
       "    }\n",
       "</style>\n",
       "<table border=\"1\" class=\"dataframe\">\n",
       "  <thead>\n",
       "    <tr style=\"text-align: right;\">\n",
       "      <th></th>\n",
       "      <th>product_id</th>\n",
       "      <th>periodo</th>\n",
       "      <th>tn_pred</th>\n",
       "    </tr>\n",
       "  </thead>\n",
       "  <tbody>\n",
       "    <tr>\n",
       "      <th>0</th>\n",
       "      <td>20001</td>\n",
       "      <td>202002</td>\n",
       "      <td>1282.631958</td>\n",
       "    </tr>\n",
       "    <tr>\n",
       "      <th>1</th>\n",
       "      <td>20002</td>\n",
       "      <td>202002</td>\n",
       "      <td>1019.728638</td>\n",
       "    </tr>\n",
       "    <tr>\n",
       "      <th>2</th>\n",
       "      <td>20003</td>\n",
       "      <td>202002</td>\n",
       "      <td>850.583252</td>\n",
       "    </tr>\n",
       "    <tr>\n",
       "      <th>3</th>\n",
       "      <td>20004</td>\n",
       "      <td>202002</td>\n",
       "      <td>428.728302</td>\n",
       "    </tr>\n",
       "    <tr>\n",
       "      <th>4</th>\n",
       "      <td>20005</td>\n",
       "      <td>202002</td>\n",
       "      <td>639.941406</td>\n",
       "    </tr>\n",
       "    <tr>\n",
       "      <th>...</th>\n",
       "      <td>...</td>\n",
       "      <td>...</td>\n",
       "      <td>...</td>\n",
       "    </tr>\n",
       "    <tr>\n",
       "      <th>775</th>\n",
       "      <td>21263</td>\n",
       "      <td>202002</td>\n",
       "      <td>0.000000</td>\n",
       "    </tr>\n",
       "    <tr>\n",
       "      <th>776</th>\n",
       "      <td>21265</td>\n",
       "      <td>202002</td>\n",
       "      <td>0.000000</td>\n",
       "    </tr>\n",
       "    <tr>\n",
       "      <th>777</th>\n",
       "      <td>21266</td>\n",
       "      <td>202002</td>\n",
       "      <td>0.000000</td>\n",
       "    </tr>\n",
       "    <tr>\n",
       "      <th>778</th>\n",
       "      <td>21267</td>\n",
       "      <td>202002</td>\n",
       "      <td>0.000000</td>\n",
       "    </tr>\n",
       "    <tr>\n",
       "      <th>779</th>\n",
       "      <td>21276</td>\n",
       "      <td>202002</td>\n",
       "      <td>0.000000</td>\n",
       "    </tr>\n",
       "  </tbody>\n",
       "</table>\n",
       "<p>780 rows × 3 columns</p>\n",
       "</div>"
      ],
      "text/plain": [
       "     product_id  periodo      tn_pred\n",
       "0         20001   202002  1282.631958\n",
       "1         20002   202002  1019.728638\n",
       "2         20003   202002   850.583252\n",
       "3         20004   202002   428.728302\n",
       "4         20005   202002   639.941406\n",
       "..          ...      ...          ...\n",
       "775       21263   202002     0.000000\n",
       "776       21265   202002     0.000000\n",
       "777       21266   202002     0.000000\n",
       "778       21267   202002     0.000000\n",
       "779       21276   202002     0.000000\n",
       "\n",
       "[780 rows x 3 columns]"
      ]
     },
     "execution_count": 4,
     "metadata": {},
     "output_type": "execute_result"
    }
   ],
   "source": [
    "df_result"
   ]
  },
  {
   "cell_type": "code",
   "execution_count": 5,
   "id": "a380b86e",
   "metadata": {},
   "outputs": [],
   "source": [
    "df_result.rename(columns={'tn_pred': 'tn'}, inplace=True)\n",
    "df_result.drop(columns=['periodo'], inplace=True)"
   ]
  },
  {
   "cell_type": "code",
   "execution_count": 8,
   "id": "a46b6127",
   "metadata": {},
   "outputs": [],
   "source": [
    "df_result.to_csv('./kaggle/neuralprophet_feb2020.csv', index=False)"
   ]
  }
 ],
 "metadata": {
  "kernelspec": {
   "display_name": "py311lab3",
   "language": "python",
   "name": "python3"
  },
  "language_info": {
   "codemirror_mode": {
    "name": "ipython",
    "version": 3
   },
   "file_extension": ".py",
   "mimetype": "text/x-python",
   "name": "python",
   "nbconvert_exporter": "python",
   "pygments_lexer": "ipython3",
   "version": "3.11.13"
  }
 },
 "nbformat": 4,
 "nbformat_minor": 5
}
