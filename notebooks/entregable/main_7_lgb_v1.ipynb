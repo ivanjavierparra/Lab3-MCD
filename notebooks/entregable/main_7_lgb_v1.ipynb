{
 "cells": [
  {
   "cell_type": "code",
   "execution_count": 37,
   "id": "dbae8eac",
   "metadata": {},
   "outputs": [],
   "source": [
    "import pandas as pd\n",
    "import numpy as np\n",
    "import importlib\n",
    "import gc\n",
    "import sys\n",
    "import warnings\n",
    "sys.path.append('./scripts')  \n",
    "import preprocesamiento\n",
    "import feature_engineering\n",
    "import model_lgb\n",
    "importlib.reload(preprocesamiento)\n",
    "importlib.reload(model_lgb)\n",
    "importlib.reload(feature_engineering)\n",
    "warnings.filterwarnings(\"ignore\")"
   ]
  },
  {
   "cell_type": "markdown",
   "id": "14763c97",
   "metadata": {},
   "source": [
    "# Experimento 7: \n",
    "- LGBM\n",
    "- Usando funcion entrenamiento: model_lgb.semillerio_en_prediccion(train, test, version=\"v1\")\n",
    "- optuna = sqlite:///optuna_studies_v14.db\n",
    "- Kaggle =  \n"
   ]
  },
  {
   "cell_type": "markdown",
   "id": "3e128128",
   "metadata": {},
   "source": [
    "##### Levantamos el dataset con target ya calculado"
   ]
  },
  {
   "cell_type": "code",
   "execution_count": 3,
   "id": "23d157af",
   "metadata": {},
   "outputs": [
    {
     "data": {
      "text/plain": [
       "(31362, 19)"
      ]
     },
     "execution_count": 3,
     "metadata": {},
     "output_type": "execute_result"
    }
   ],
   "source": [
    "df = pd.read_csv(\"./datasets/periodo_x_producto_con_target.csv\", sep=',', encoding='utf-8')\n",
    "df.shape"
   ]
  },
  {
   "cell_type": "code",
   "execution_count": 4,
   "id": "dd58191b",
   "metadata": {},
   "outputs": [
    {
     "data": {
      "text/plain": [
       "['product_id',\n",
       " 'periodo',\n",
       " 'nacimiento_producto',\n",
       " 'muerte_producto',\n",
       " 'mes_n',\n",
       " 'total_meses',\n",
       " 'producto_nuevo',\n",
       " 'ciclo_de_vida_inicial',\n",
       " 'cat1',\n",
       " 'cat2',\n",
       " 'cat3',\n",
       " 'brand',\n",
       " 'sku_size',\n",
       " 'stock_final',\n",
       " 'tn',\n",
       " 'plan_precios_cuidados',\n",
       " 'cust_request_qty',\n",
       " 'cust_request_tn',\n",
       " 'target']"
      ]
     },
     "execution_count": 4,
     "metadata": {},
     "output_type": "execute_result"
    }
   ],
   "source": [
    "columnas_baseline = df.columns.tolist()\n",
    "columnas_baseline"
   ]
  },
  {
   "cell_type": "markdown",
   "id": "b6556d30",
   "metadata": {},
   "source": [
    "##### Preprocesamiento a la minima expresión :)"
   ]
  },
  {
   "cell_type": "code",
   "execution_count": 50,
   "id": "9665b526",
   "metadata": {},
   "outputs": [],
   "source": [
    "# ##### aplicamos OHE\n",
    "# df = preprocesamiento.aplicarOHE(df)\n",
    "# df.shape"
   ]
  },
  {
   "cell_type": "markdown",
   "id": "902b1e13",
   "metadata": {},
   "source": [
    "### Feature Engineering"
   ]
  },
  {
   "cell_type": "markdown",
   "id": "2bd77df9",
   "metadata": {},
   "source": [
    "##### Neural Prophet"
   ]
  },
  {
   "cell_type": "code",
   "execution_count": 5,
   "id": "34d306ff",
   "metadata": {},
   "outputs": [
    {
     "data": {
      "text/plain": [
       "(31362, 22)"
      ]
     },
     "execution_count": 5,
     "metadata": {},
     "output_type": "execute_result"
    }
   ],
   "source": [
    "neural_prophet_fe = pd.read_csv(\"./datasets/features_neuralprophet_completo.csv\", sep=',', encoding='utf-8')\n",
    "neural_prophet_fe['ds'] = pd.to_datetime(neural_prophet_fe['ds'], errors='coerce')\n",
    "# Versión alternativa más robusta:\n",
    "neural_prophet_fe['periodo'] = neural_prophet_fe['ds'].apply(\n",
    "    lambda x: x.year * 100 + x.month if pd.notnull(x) else None\n",
    ")\n",
    "neural_prophet_fe = neural_prophet_fe[['periodo', 'product_id', 'trend', \"season_yearly\", \"season_monthly\"]]\n",
    "df = df.merge(neural_prophet_fe, on=['periodo', 'product_id'], how='left')\n",
    "df.shape"
   ]
  },
  {
   "cell_type": "markdown",
   "id": "ff026986",
   "metadata": {},
   "source": [
    "##### Prophet"
   ]
  },
  {
   "cell_type": "code",
   "execution_count": 6,
   "id": "4318910f",
   "metadata": {},
   "outputs": [
    {
     "data": {
      "text/plain": [
       "(31362, 28)"
      ]
     },
     "execution_count": 6,
     "metadata": {},
     "output_type": "execute_result"
    }
   ],
   "source": [
    "prophet_fe = pd.read_csv(\"./datasets/prophet_features_tn_zscore.csv\", sep=',', encoding='utf-8')\n",
    "prophet_fe['ds'] = pd.to_datetime(prophet_fe['ds'], errors='coerce')\n",
    "prophet_fe['periodo'] = prophet_fe['ds'].apply(\n",
    "    lambda x: x.year * 100 + x.month if pd.notnull(x) else None\n",
    ")\n",
    "prophet_fe = prophet_fe[['periodo', 'product_id', 'trend_add', \"yearly_add\", \"additive_terms\", 'trend_mult', 'yearly_mult', 'multiplicative_terms']]\n",
    "df = df.merge(prophet_fe, on=['periodo', 'product_id'], how='left')\n",
    "df.shape"
   ]
  },
  {
   "cell_type": "markdown",
   "id": "2eb4d3aa",
   "metadata": {},
   "source": [
    "##### FE Moviles"
   ]
  },
  {
   "cell_type": "code",
   "execution_count": 7,
   "id": "7dc30b4c",
   "metadata": {},
   "outputs": [
    {
     "data": {
      "text/plain": [
       "(31362, 590)"
      ]
     },
     "execution_count": 7,
     "metadata": {},
     "output_type": "execute_result"
    }
   ],
   "source": [
    "df = feature_engineering.get_lags(df, \"tn\", 201912)\n",
    "df = feature_engineering.get_delta_lags(df, \"tn\", 24)\n",
    "df = feature_engineering.get_rolling_means(df, \"tn\", 201912)\n",
    "df = feature_engineering.get_rolling_stds(df, \"tn\", 201912)\n",
    "df = feature_engineering.get_rolling_mins(df, \"tn\", 201912)\n",
    "df = feature_engineering.get_rolling_maxs(df, \"tn\", 201912)\n",
    "df = feature_engineering.get_rolling_medians(df, \"tn\", 201912)\n",
    "df = feature_engineering.get_rolling_skewness(df, \"tn\", 201912)\n",
    "df = feature_engineering.get_autocorrelaciones(df, \"tn\", 201912)\n",
    "df.shape"
   ]
  },
  {
   "cell_type": "code",
   "execution_count": 8,
   "id": "e0500070",
   "metadata": {},
   "outputs": [],
   "source": [
    "df = feature_engineering.get_lags(df, \"cust_request_qty\", 201912)\n",
    "df = feature_engineering.get_delta_lags(df, \"cust_request_qty\", 24)\n",
    "df = feature_engineering.get_rolling_means(df, \"cust_request_qty\", 201912)\n",
    "df = feature_engineering.get_rolling_stds(df, \"cust_request_qty\", 201912)\n",
    "df = feature_engineering.get_rolling_mins(df, \"cust_request_qty\", 201912)\n",
    "df = feature_engineering.get_rolling_maxs(df, \"cust_request_qty\", 201912)"
   ]
  },
  {
   "cell_type": "code",
   "execution_count": null,
   "id": "195bd5b9",
   "metadata": {},
   "outputs": [
    {
     "data": {
      "text/plain": [
       "(31362, 1500)"
      ]
     },
     "execution_count": 55,
     "metadata": {},
     "output_type": "execute_result"
    }
   ],
   "source": [
    "# df = feature_engineering.get_lags(df, \"stock_final\", 201912)\n",
    "# df = feature_engineering.get_delta_lags(df, \"stock_final\", 24)\n",
    "# df = feature_engineering.get_rolling_means(df, \"stock_final\", 201912)\n",
    "# df = feature_engineering.get_rolling_stds(df, \"stock_final\", 201912)\n",
    "# df = feature_engineering.get_rolling_mins(df, \"stock_final\", 201912)\n",
    "# df = feature_engineering.get_rolling_maxs(df, \"stock_final\", 201912)\n",
    "# df.shape"
   ]
  },
  {
   "cell_type": "markdown",
   "id": "e2436c9b",
   "metadata": {},
   "source": [
    "##### FE Moviles sobre otras variables"
   ]
  },
  {
   "cell_type": "code",
   "execution_count": 56,
   "id": "0dca7531",
   "metadata": {},
   "outputs": [],
   "source": [
    "# #  stock final\n",
    "# df = feature_engineering.get_lagsEspecificos(df, col='stock_final_zscore')\n",
    "# df = feature_engineering.get_delta_lags_especificos(df, col='stock_final_zscore')\n",
    "# df = feature_engineering.get_rolling_means_especificos(df, col='stock_final_zscore')\n",
    "# df = feature_engineering.get_rolling_stds_especificos(df, col='stock_final_zscore')\n",
    "# df = feature_engineering.get_rolling_medians_especificos(df, col='stock_final_zscore')\n",
    "# df = feature_engineering.get_rolling_mins_especificos(df, col='stock_final_zscore')\n",
    "# df = feature_engineering.get_rolling_maxs_especificos(df, col='stock_final_zscore')\n",
    "# df = feature_engineering.get_rolling_skewness_especificos(df, col='stock_final_zscore')\n",
    "\n",
    "#  cust_request_qty\n",
    "# df = feature_engineering.get_lagsEspecificos(df, col='cust_request_qty')\n",
    "# df = feature_engineering.get_delta_lags_especificos(df, col='cust_request_qty')\n",
    "# df = feature_engineering.get_rolling_means_especificos(df, col='cust_request_qty')\n",
    "# df = feature_engineering.get_rolling_stds_especificos(df, col='cust_request_qty')\n",
    "# df = feature_engineering.get_rolling_mins_especificos(df, col='cust_request_qty')\n",
    "# df = feature_engineering.get_rolling_maxs_especificos(df, col='cust_request_qty')\n",
    "# df = feature_engineering.get_rolling_medians_especificos(df, col='cust_request_qty')\n",
    "# df = feature_engineering.get_rolling_skewness_especificos(df, col='cust_request_qty')"
   ]
  },
  {
   "cell_type": "markdown",
   "id": "6fb9716d",
   "metadata": {},
   "source": [
    "##### FE Calendario"
   ]
  },
  {
   "cell_type": "code",
   "execution_count": 9,
   "id": "3e810260",
   "metadata": {},
   "outputs": [
    {
     "data": {
      "text/plain": [
       "(31362, 1070)"
      ]
     },
     "execution_count": 9,
     "metadata": {},
     "output_type": "execute_result"
    }
   ],
   "source": [
    "df = feature_engineering.generar_ids(df)\n",
    "df = feature_engineering.get_componentesTemporales(df)\n",
    "df = feature_engineering.get_anomaliasPoliticas(df)\n",
    "# df = feature_engineering.descomposicion_serie_temporal(df, col='tn')\n",
    "df.shape"
   ]
  },
  {
   "cell_type": "markdown",
   "id": "b34d19db",
   "metadata": {},
   "source": [
    "##### FE sobre FE"
   ]
  },
  {
   "cell_type": "code",
   "execution_count": 10,
   "id": "14345585",
   "metadata": {},
   "outputs": [
    {
     "data": {
      "text/plain": [
       "(31362, 1099)"
      ]
     },
     "execution_count": 10,
     "metadata": {},
     "output_type": "execute_result"
    }
   ],
   "source": [
    "df = feature_engineering.chatGPT_features_serie(df, \"tn\")\n",
    "df = feature_engineering.mes_con_feriado(df)\n",
    "df.shape"
   ]
  },
  {
   "cell_type": "markdown",
   "id": "62f1cbad",
   "metadata": {},
   "source": [
    "##### Variables Exogenas"
   ]
  },
  {
   "cell_type": "code",
   "execution_count": 11,
   "id": "d10e572a",
   "metadata": {},
   "outputs": [
    {
     "data": {
      "text/plain": [
       "(31362, 1102)"
      ]
     },
     "execution_count": 11,
     "metadata": {},
     "output_type": "execute_result"
    }
   ],
   "source": [
    "df = feature_engineering.get_dolar(df)\n",
    "df = feature_engineering.get_IPC(df)\n",
    "df['ipc'] = df['ipc'].str.replace(',', '.').astype(float)\n",
    "df['dolar'] = df['dolar'].str.replace(',', '.').astype(float)\n",
    "# df.drop(columns=['ds'], inplace=True)\n",
    "df.fillna(0, inplace=True) ##### EXPERIMENTAR\n",
    "df = feature_engineering.correlacion_exogenas(df)\n",
    "df = feature_engineering.get_mes_receso_escolar(df)\n",
    "df.shape"
   ]
  },
  {
   "cell_type": "markdown",
   "id": "574cbf29",
   "metadata": {},
   "source": [
    "##### Nuevas FE"
   ]
  },
  {
   "cell_type": "code",
   "execution_count": 12,
   "id": "ac0b5e13",
   "metadata": {},
   "outputs": [
    {
     "data": {
      "text/plain": [
       "(31362, 1144)"
      ]
     },
     "execution_count": 12,
     "metadata": {},
     "output_type": "execute_result"
    }
   ],
   "source": [
    "df = feature_engineering.create_ratio_features(df)\n",
    "df = feature_engineering.enhance_lifecycle_features(df)\n",
    "df = feature_engineering.create_category_features(df)\n",
    "df = feature_engineering.create_regime_features(df)\n",
    "df = feature_engineering.create_nonlinear_trends(df)\n",
    "df = feature_engineering.create_temporal_interactions(df)\n",
    "df = feature_engineering.create_asymmetric_window_features(df)\n",
    "df = feature_engineering.recomendaciones_deepseek(df)\n",
    "df = feature_engineering.get_nuevas_features(df)\n",
    "df.shape"
   ]
  },
  {
   "cell_type": "markdown",
   "id": "01403c73",
   "metadata": {},
   "source": [
    "##### Elimino aquellas que no sirven"
   ]
  },
  {
   "cell_type": "code",
   "execution_count": 13,
   "id": "394f26c7",
   "metadata": {},
   "outputs": [
    {
     "data": {
      "application/vnd.microsoft.datawrangler.viewer.v0+json": {
       "columns": [
        {
         "name": "index",
         "rawType": "int64",
         "type": "integer"
        },
        {
         "name": "feature",
         "rawType": "object",
         "type": "string"
        },
        {
         "name": "importance",
         "rawType": "int64",
         "type": "integer"
        }
       ],
       "ref": "87fa4b9b-5553-4771-9749-4241efc53e0e",
       "rows": [
        [
         "67",
         "tn_vs_prev_year",
         "100"
        ],
        [
         "68",
         "tn_delta_lag5_lag8",
         "99"
        ],
        [
         "69",
         "tn_rolling_min_4",
         "96"
        ],
        [
         "70",
         "tn_lag_5",
         "95"
        ],
        [
         "71",
         "tn_rolling_std_6",
         "95"
        ],
        [
         "72",
         "tn_delta_lag4_lag9",
         "94"
        ],
        [
         "73",
         "tn_rolling_std_7",
         "92"
        ],
        [
         "74",
         "season_yearly",
         "92"
        ],
        [
         "75",
         "tn_delta_lag3_lag8",
         "91"
        ],
        [
         "76",
         "tn_delta_lag9_lag10",
         "90"
        ],
        [
         "77",
         "tn_lag_7",
         "89"
        ],
        [
         "78",
         "tn_delta_lag4_lag8",
         "88"
        ],
        [
         "79",
         "tn_lag_8",
         "87"
        ],
        [
         "80",
         "tn_rolling_max_4",
         "87"
        ],
        [
         "81",
         "tn_delta_lag7_lag10",
         "86"
        ],
        [
         "82",
         "tn_delta_lag2_lag8",
         "84"
        ],
        [
         "83",
         "tn_delta_lag5_lag7",
         "84"
        ],
        [
         "84",
         "tn_delta_lag1_lag9",
         "83"
        ],
        [
         "85",
         "tn_delta_lag4_lag10",
         "83"
        ],
        [
         "86",
         "tn_rolling_std_8",
         "83"
        ],
        [
         "88",
         "tn_delta_lag8_lag11",
         "83"
        ],
        [
         "89",
         "tn_delta_lag5_lag10",
         "82"
        ],
        [
         "90",
         "tn_seasonal_diff_12",
         "82"
        ],
        [
         "91",
         "tn_delta_lag2_lag9",
         "82"
        ],
        [
         "92",
         "tn_delta_lag3_lag11",
         "81"
        ],
        [
         "93",
         "tn_rolling_max_3",
         "81"
        ],
        [
         "94",
         "tn_delta_lag11_lag12",
         "81"
        ],
        [
         "95",
         "tn_delta_lag7_lag9",
         "78"
        ],
        [
         "96",
         "tn_delta_lag1_lag8",
         "78"
        ],
        [
         "97",
         "tn_delta_lag2_lag10",
         "78"
        ],
        [
         "98",
         "tn_delta_lag5_lag9",
         "77"
        ],
        [
         "99",
         "tn_delta_lag10_lag12",
         "77"
        ],
        [
         "100",
         "tn_rolling_mean_4",
         "75"
        ],
        [
         "101",
         "tn_trend_linear",
         "72"
        ],
        [
         "102",
         "tn_delta_lag6_lag9",
         "72"
        ],
        [
         "103",
         "tn_last3_vs_ly3",
         "71"
        ],
        [
         "105",
         "tn_rolling_min_6",
         "71"
        ],
        [
         "106",
         "tn_delta_lag2_lag11",
         "71"
        ],
        [
         "107",
         "tn_rolling_min_5",
         "71"
        ],
        [
         "108",
         "tn_lag_9",
         "70"
        ],
        [
         "109",
         "tn_delta_lag3_lag9",
         "70"
        ],
        [
         "110",
         "tn_rolling_mean_3",
         "69"
        ],
        [
         "112",
         "tn_lag_10",
         "68"
        ],
        [
         "113",
         "tn_delta_lag9_lag12",
         "67"
        ],
        [
         "114",
         "tn_delta_lag8_lag10",
         "66"
        ],
        [
         "115",
         "additive_terms",
         "65"
        ],
        [
         "116",
         "tn_delta_lag5_lag11",
         "65"
        ],
        [
         "117",
         "cat2_ROPA LAVADO",
         "64"
        ],
        [
         "118",
         "tn_delta_lag9_lag11",
         "62"
        ],
        [
         "119",
         "tn_delta_lag10_lag11",
         "61"
        ]
       ],
       "shape": {
        "columns": 2,
        "rows": 608
       }
      },
      "text/html": [
       "<div>\n",
       "<style scoped>\n",
       "    .dataframe tbody tr th:only-of-type {\n",
       "        vertical-align: middle;\n",
       "    }\n",
       "\n",
       "    .dataframe tbody tr th {\n",
       "        vertical-align: top;\n",
       "    }\n",
       "\n",
       "    .dataframe thead th {\n",
       "        text-align: right;\n",
       "    }\n",
       "</style>\n",
       "<table border=\"1\" class=\"dataframe\">\n",
       "  <thead>\n",
       "    <tr style=\"text-align: right;\">\n",
       "      <th></th>\n",
       "      <th>feature</th>\n",
       "      <th>importance</th>\n",
       "    </tr>\n",
       "  </thead>\n",
       "  <tbody>\n",
       "    <tr>\n",
       "      <th>67</th>\n",
       "      <td>tn_vs_prev_year</td>\n",
       "      <td>100</td>\n",
       "    </tr>\n",
       "    <tr>\n",
       "      <th>68</th>\n",
       "      <td>tn_delta_lag5_lag8</td>\n",
       "      <td>99</td>\n",
       "    </tr>\n",
       "    <tr>\n",
       "      <th>69</th>\n",
       "      <td>tn_rolling_min_4</td>\n",
       "      <td>96</td>\n",
       "    </tr>\n",
       "    <tr>\n",
       "      <th>70</th>\n",
       "      <td>tn_lag_5</td>\n",
       "      <td>95</td>\n",
       "    </tr>\n",
       "    <tr>\n",
       "      <th>71</th>\n",
       "      <td>tn_rolling_std_6</td>\n",
       "      <td>95</td>\n",
       "    </tr>\n",
       "    <tr>\n",
       "      <th>...</th>\n",
       "      <td>...</td>\n",
       "      <td>...</td>\n",
       "    </tr>\n",
       "    <tr>\n",
       "      <th>677</th>\n",
       "      <td>dia_del_year</td>\n",
       "      <td>0</td>\n",
       "    </tr>\n",
       "    <tr>\n",
       "      <th>678</th>\n",
       "      <td>cat2_TE</td>\n",
       "      <td>0</td>\n",
       "    </tr>\n",
       "    <tr>\n",
       "      <th>680</th>\n",
       "      <td>cat2_PIEL1</td>\n",
       "      <td>0</td>\n",
       "    </tr>\n",
       "    <tr>\n",
       "      <th>681</th>\n",
       "      <td>cat2_OTROS</td>\n",
       "      <td>0</td>\n",
       "    </tr>\n",
       "    <tr>\n",
       "      <th>682</th>\n",
       "      <td>tn_is_outlier_3sigma</td>\n",
       "      <td>0</td>\n",
       "    </tr>\n",
       "  </tbody>\n",
       "</table>\n",
       "<p>608 rows × 2 columns</p>\n",
       "</div>"
      ],
      "text/plain": [
       "                  feature  importance\n",
       "67        tn_vs_prev_year         100\n",
       "68     tn_delta_lag5_lag8          99\n",
       "69       tn_rolling_min_4          96\n",
       "70               tn_lag_5          95\n",
       "71       tn_rolling_std_6          95\n",
       "..                    ...         ...\n",
       "677          dia_del_year           0\n",
       "678               cat2_TE           0\n",
       "680            cat2_PIEL1           0\n",
       "681            cat2_OTROS           0\n",
       "682  tn_is_outlier_3sigma           0\n",
       "\n",
       "[608 rows x 2 columns]"
      ]
     },
     "execution_count": 13,
     "metadata": {},
     "output_type": "execute_result"
    }
   ],
   "source": [
    "importantes = pd.read_csv(\"./feature_importance/exp04_3.csv\", sep=',', encoding='utf-8')\n",
    "no_importantes = importantes[importantes['importance'] <= 100]\n",
    "no_importantes = no_importantes[~no_importantes['feature'].isin(columnas_baseline)]\n",
    "no_importantes"
   ]
  },
  {
   "cell_type": "code",
   "execution_count": 14,
   "id": "64ffa0fc",
   "metadata": {},
   "outputs": [
    {
     "name": "stdout",
     "output_type": "stream",
     "text": [
      "Antes de eliminar: 1144 columnas\n",
      "Después de eliminar: 684 columnas\n"
     ]
    }
   ],
   "source": [
    "cols_a_eliminar = no_importantes.feature.unique()\n",
    "print(f\"Antes de eliminar: {df.shape[1]} columnas\")\n",
    "df = df.drop(columns=cols_a_eliminar, errors='ignore')\n",
    "print(f\"Después de eliminar: {df.shape[1]} columnas\")"
   ]
  },
  {
   "cell_type": "markdown",
   "id": "db213673",
   "metadata": {},
   "source": [
    "Eliminar object/categorical columnas"
   ]
  },
  {
   "cell_type": "code",
   "execution_count": 15,
   "id": "a71a529b",
   "metadata": {},
   "outputs": [],
   "source": [
    "df = df.select_dtypes(exclude=['datetime', 'datetime64', 'object'])"
   ]
  },
  {
   "cell_type": "markdown",
   "id": "4ff4ee13",
   "metadata": {},
   "source": [
    "Train Test Split"
   ]
  },
  {
   "cell_type": "code",
   "execution_count": 16,
   "id": "32557458",
   "metadata": {},
   "outputs": [],
   "source": [
    "train = df[df['periodo'] <= 201912]\n",
    "test = df[df['periodo'] == 201912]"
   ]
  },
  {
   "cell_type": "markdown",
   "id": "cf3fabe4",
   "metadata": {},
   "source": [
    "Entrenamiento"
   ]
  },
  {
   "cell_type": "code",
   "execution_count": 35,
   "id": "73042e3d",
   "metadata": {},
   "outputs": [
    {
     "name": "stderr",
     "output_type": "stream",
     "text": [
      "[I 2025-06-29 22:19:14,389] Using an existing study with name 'lightgbm_optimization_v14' instead of creating a new one.\n"
     ]
    },
    {
     "name": "stdout",
     "output_type": "stream",
     "text": [
      "\n",
      "Para visualizar los resultados en tiempo real:\n",
      "1. Abre otra terminal y ejecuta:\n",
      "   optuna-dashboard sqlite:///optuna_studies_v14.db\n",
      "2. Abre en tu navegador: http://127.0.0.1:8080/\n"
     ]
    },
    {
     "name": "stderr",
     "output_type": "stream",
     "text": [
      "[I 2025-06-29 22:24:35,898] Trial 16 finished with value: 12.889061597019383 and parameters: {'num_leaves': 81, 'learning_rate': 0.016642751070396707, 'feature_fraction': 0.6030189277265172, 'bagging_fraction': 0.7053885626844458, 'bagging_freq': 9, 'lambda_l1': 0.016301353379407614, 'lambda_l2': 4.3444691085504505, 'min_child_samples': 11, 'max_depth': 10, 'max_bin': 104, 'min_data_in_leaf': 58, 'extra_trees': True, 'early_stopping_rounds': 47, 'path_smooth': 0.07644843397269116, 'min_gain_to_split': 0.4555376912834475}. Best is trial 6 with value: 0.001158291164702125.\n"
     ]
    },
    {
     "name": "stdout",
     "output_type": "stream",
     "text": [
      "Mejor trial hasta ahora: RMSE=0.001158, Parámetros={'num_leaves': 59, 'learning_rate': 0.042808491617570936, 'feature_fraction': 0.610167650697638, 'bagging_fraction': 0.7323674280979913, 'bagging_freq': 1, 'lambda_l1': 0.005341874754868531, 'lambda_l2': 6.748446817464346e-06, 'min_child_samples': 30, 'max_depth': 10, 'max_bin': 199, 'min_data_in_leaf': 53, 'extra_trees': True, 'early_stopping_rounds': 13, 'path_smooth': 0.289751452913768, 'min_gain_to_split': 0.08061064362700221}\n"
     ]
    },
    {
     "name": "stderr",
     "output_type": "stream",
     "text": [
      "[I 2025-06-29 22:27:40,613] Trial 17 finished with value: 1.3439178191178622 and parameters: {'num_leaves': 68, 'learning_rate': 0.14027758719310485, 'feature_fraction': 0.8690135987041901, 'bagging_fraction': 0.8535675375405839, 'bagging_freq': 1, 'lambda_l1': 0.0006140317027634772, 'lambda_l2': 1.6535721007135704e-08, 'min_child_samples': 39, 'max_depth': 8, 'max_bin': 488, 'min_data_in_leaf': 54, 'extra_trees': True, 'early_stopping_rounds': 24, 'path_smooth': 0.07846238496678071, 'min_gain_to_split': 0.0016499476527944285}. Best is trial 6 with value: 0.001158291164702125.\n"
     ]
    },
    {
     "name": "stdout",
     "output_type": "stream",
     "text": [
      "Mejor trial hasta ahora: RMSE=0.001158, Parámetros={'num_leaves': 59, 'learning_rate': 0.042808491617570936, 'feature_fraction': 0.610167650697638, 'bagging_fraction': 0.7323674280979913, 'bagging_freq': 1, 'lambda_l1': 0.005341874754868531, 'lambda_l2': 6.748446817464346e-06, 'min_child_samples': 30, 'max_depth': 10, 'max_bin': 199, 'min_data_in_leaf': 53, 'extra_trees': True, 'early_stopping_rounds': 13, 'path_smooth': 0.289751452913768, 'min_gain_to_split': 0.08061064362700221}\n"
     ]
    },
    {
     "name": "stderr",
     "output_type": "stream",
     "text": [
      "[I 2025-06-29 22:31:47,508] Trial 18 finished with value: 7.063331522841193 and parameters: {'num_leaves': 73, 'learning_rate': 0.02973506525230785, 'feature_fraction': 0.8661013468152179, 'bagging_fraction': 0.7973772758892925, 'bagging_freq': 3, 'lambda_l1': 0.00014211618981379697, 'lambda_l2': 3.1568761076878264e-06, 'min_child_samples': 36, 'max_depth': 8, 'max_bin': 196, 'min_data_in_leaf': 100, 'extra_trees': True, 'early_stopping_rounds': 26, 'path_smooth': 0.45553648281208736, 'min_gain_to_split': 0.16042508930990865}. Best is trial 6 with value: 0.001158291164702125.\n"
     ]
    },
    {
     "name": "stdout",
     "output_type": "stream",
     "text": [
      "Mejor trial hasta ahora: RMSE=0.001158, Parámetros={'num_leaves': 59, 'learning_rate': 0.042808491617570936, 'feature_fraction': 0.610167650697638, 'bagging_fraction': 0.7323674280979913, 'bagging_freq': 1, 'lambda_l1': 0.005341874754868531, 'lambda_l2': 6.748446817464346e-06, 'min_child_samples': 30, 'max_depth': 10, 'max_bin': 199, 'min_data_in_leaf': 53, 'extra_trees': True, 'early_stopping_rounds': 13, 'path_smooth': 0.289751452913768, 'min_gain_to_split': 0.08061064362700221}\n"
     ]
    },
    {
     "name": "stderr",
     "output_type": "stream",
     "text": [
      "[I 2025-06-29 22:34:02,545] Trial 19 finished with value: 5.332813389102418 and parameters: {'num_leaves': 52, 'learning_rate': 0.12294015357420421, 'feature_fraction': 0.6884959738788349, 'bagging_fraction': 0.8893016851154663, 'bagging_freq': 2, 'lambda_l1': 0.011854334294437031, 'lambda_l2': 1.9863082342427101e-07, 'min_child_samples': 50, 'max_depth': 9, 'max_bin': 228, 'min_data_in_leaf': 47, 'extra_trees': True, 'early_stopping_rounds': 17, 'path_smooth': 0.1750663809652526, 'min_gain_to_split': 0.37549861800626294}. Best is trial 6 with value: 0.001158291164702125.\n"
     ]
    },
    {
     "name": "stdout",
     "output_type": "stream",
     "text": [
      "Mejor trial hasta ahora: RMSE=0.001158, Parámetros={'num_leaves': 59, 'learning_rate': 0.042808491617570936, 'feature_fraction': 0.610167650697638, 'bagging_fraction': 0.7323674280979913, 'bagging_freq': 1, 'lambda_l1': 0.005341874754868531, 'lambda_l2': 6.748446817464346e-06, 'min_child_samples': 30, 'max_depth': 10, 'max_bin': 199, 'min_data_in_leaf': 53, 'extra_trees': True, 'early_stopping_rounds': 13, 'path_smooth': 0.289751452913768, 'min_gain_to_split': 0.08061064362700221}\n"
     ]
    },
    {
     "name": "stderr",
     "output_type": "stream",
     "text": [
      "[I 2025-06-29 22:37:38,034] Trial 20 finished with value: 14.103455949229073 and parameters: {'num_leaves': 97, 'learning_rate': 0.0322904109289715, 'feature_fraction': 0.9152299074558112, 'bagging_fraction': 0.7510810444206487, 'bagging_freq': 6, 'lambda_l1': 7.53454112354002e-06, 'lambda_l2': 7.504931009658391e-05, 'min_child_samples': 41, 'max_depth': 5, 'max_bin': 351, 'min_data_in_leaf': 73, 'extra_trees': True, 'early_stopping_rounds': 27, 'path_smooth': 0.9652325178791951, 'min_gain_to_split': 0.1671876770805229}. Best is trial 6 with value: 0.001158291164702125.\n"
     ]
    },
    {
     "name": "stdout",
     "output_type": "stream",
     "text": [
      "Mejor trial hasta ahora: RMSE=0.001158, Parámetros={'num_leaves': 59, 'learning_rate': 0.042808491617570936, 'feature_fraction': 0.610167650697638, 'bagging_fraction': 0.7323674280979913, 'bagging_freq': 1, 'lambda_l1': 0.005341874754868531, 'lambda_l2': 6.748446817464346e-06, 'min_child_samples': 30, 'max_depth': 10, 'max_bin': 199, 'min_data_in_leaf': 53, 'extra_trees': True, 'early_stopping_rounds': 13, 'path_smooth': 0.289751452913768, 'min_gain_to_split': 0.08061064362700221}\n"
     ]
    },
    {
     "name": "stderr",
     "output_type": "stream",
     "text": [
      "[I 2025-06-29 22:40:50,614] Trial 21 finished with value: 44.044787710386274 and parameters: {'num_leaves': 30, 'learning_rate': 0.0280351297963673, 'feature_fraction': 0.8137079626972323, 'bagging_fraction': 0.9889458246924632, 'bagging_freq': 1, 'lambda_l1': 0.029126327349281892, 'lambda_l2': 6.203231210920832e-05, 'min_child_samples': 33, 'max_depth': 5, 'max_bin': 117, 'min_data_in_leaf': 71, 'extra_trees': True, 'early_stopping_rounds': 17, 'path_smooth': 0.20720989774818283, 'min_gain_to_split': 0.02167854796167923}. Best is trial 6 with value: 0.001158291164702125.\n"
     ]
    },
    {
     "name": "stdout",
     "output_type": "stream",
     "text": [
      "Mejor trial hasta ahora: RMSE=0.001158, Parámetros={'num_leaves': 59, 'learning_rate': 0.042808491617570936, 'feature_fraction': 0.610167650697638, 'bagging_fraction': 0.7323674280979913, 'bagging_freq': 1, 'lambda_l1': 0.005341874754868531, 'lambda_l2': 6.748446817464346e-06, 'min_child_samples': 30, 'max_depth': 10, 'max_bin': 199, 'min_data_in_leaf': 53, 'extra_trees': True, 'early_stopping_rounds': 13, 'path_smooth': 0.289751452913768, 'min_gain_to_split': 0.08061064362700221}\n"
     ]
    },
    {
     "name": "stderr",
     "output_type": "stream",
     "text": [
      "[I 2025-06-29 22:49:03,213] Trial 22 finished with value: 9.49852016095819 and parameters: {'num_leaves': 57, 'learning_rate': 0.010772327371165246, 'feature_fraction': 0.6142275525638915, 'bagging_fraction': 0.8297521980629978, 'bagging_freq': 3, 'lambda_l1': 7.390662391235462e-06, 'lambda_l2': 3.885396727420375e-07, 'min_child_samples': 20, 'max_depth': 9, 'max_bin': 234, 'min_data_in_leaf': 92, 'extra_trees': True, 'early_stopping_rounds': 49, 'path_smooth': 0.0010096755175581507, 'min_gain_to_split': 0.13323950745284918}. Best is trial 6 with value: 0.001158291164702125.\n"
     ]
    },
    {
     "name": "stdout",
     "output_type": "stream",
     "text": [
      "Mejor trial hasta ahora: RMSE=0.001158, Parámetros={'num_leaves': 59, 'learning_rate': 0.042808491617570936, 'feature_fraction': 0.610167650697638, 'bagging_fraction': 0.7323674280979913, 'bagging_freq': 1, 'lambda_l1': 0.005341874754868531, 'lambda_l2': 6.748446817464346e-06, 'min_child_samples': 30, 'max_depth': 10, 'max_bin': 199, 'min_data_in_leaf': 53, 'extra_trees': True, 'early_stopping_rounds': 13, 'path_smooth': 0.289751452913768, 'min_gain_to_split': 0.08061064362700221}\n"
     ]
    },
    {
     "name": "stderr",
     "output_type": "stream",
     "text": [
      "[I 2025-06-29 22:51:12,763] Trial 23 finished with value: 6.651489742279651 and parameters: {'num_leaves': 74, 'learning_rate': 0.14012594021723326, 'feature_fraction': 0.8251323334561256, 'bagging_fraction': 0.8340321188249346, 'bagging_freq': 5, 'lambda_l1': 0.0010778784808627027, 'lambda_l2': 2.560350482436236e-07, 'min_child_samples': 42, 'max_depth': 7, 'max_bin': 354, 'min_data_in_leaf': 47, 'extra_trees': True, 'early_stopping_rounds': 21, 'path_smooth': 0.5595322834209612, 'min_gain_to_split': 0.33404193824642164}. Best is trial 6 with value: 0.001158291164702125.\n"
     ]
    },
    {
     "name": "stdout",
     "output_type": "stream",
     "text": [
      "Mejor trial hasta ahora: RMSE=0.001158, Parámetros={'num_leaves': 59, 'learning_rate': 0.042808491617570936, 'feature_fraction': 0.610167650697638, 'bagging_fraction': 0.7323674280979913, 'bagging_freq': 1, 'lambda_l1': 0.005341874754868531, 'lambda_l2': 6.748446817464346e-06, 'min_child_samples': 30, 'max_depth': 10, 'max_bin': 199, 'min_data_in_leaf': 53, 'extra_trees': True, 'early_stopping_rounds': 13, 'path_smooth': 0.289751452913768, 'min_gain_to_split': 0.08061064362700221}\n"
     ]
    },
    {
     "name": "stderr",
     "output_type": "stream",
     "text": [
      "[I 2025-06-29 22:54:33,101] Trial 24 finished with value: 6.937737214926048 and parameters: {'num_leaves': 32, 'learning_rate': 0.04038370046194382, 'feature_fraction': 0.9341493309961006, 'bagging_fraction': 0.7462049127237006, 'bagging_freq': 2, 'lambda_l1': 0.1329881610841278, 'lambda_l2': 0.0004312594315050397, 'min_child_samples': 32, 'max_depth': 9, 'max_bin': 151, 'min_data_in_leaf': 65, 'extra_trees': True, 'early_stopping_rounds': 31, 'path_smooth': 0.4385986624728322, 'min_gain_to_split': 0.20916310567758917}. Best is trial 6 with value: 0.001158291164702125.\n"
     ]
    },
    {
     "name": "stdout",
     "output_type": "stream",
     "text": [
      "Mejor trial hasta ahora: RMSE=0.001158, Parámetros={'num_leaves': 59, 'learning_rate': 0.042808491617570936, 'feature_fraction': 0.610167650697638, 'bagging_fraction': 0.7323674280979913, 'bagging_freq': 1, 'lambda_l1': 0.005341874754868531, 'lambda_l2': 6.748446817464346e-06, 'min_child_samples': 30, 'max_depth': 10, 'max_bin': 199, 'min_data_in_leaf': 53, 'extra_trees': True, 'early_stopping_rounds': 13, 'path_smooth': 0.289751452913768, 'min_gain_to_split': 0.08061064362700221}\n"
     ]
    },
    {
     "name": "stderr",
     "output_type": "stream",
     "text": [
      "[I 2025-06-29 22:56:16,291] Trial 25 finished with value: 16.253080238171748 and parameters: {'num_leaves': 61, 'learning_rate': 0.10461035750608404, 'feature_fraction': 0.6895817974643395, 'bagging_fraction': 0.9037633466282822, 'bagging_freq': 3, 'lambda_l1': 1.4856996380287946e-08, 'lambda_l2': 4.184085784078879e-05, 'min_child_samples': 21, 'max_depth': 5, 'max_bin': 259, 'min_data_in_leaf': 86, 'extra_trees': True, 'early_stopping_rounds': 15, 'path_smooth': 0.23647666005333734, 'min_gain_to_split': 0.11862847942354168}. Best is trial 6 with value: 0.001158291164702125.\n"
     ]
    },
    {
     "name": "stdout",
     "output_type": "stream",
     "text": [
      "Mejor trial hasta ahora: RMSE=0.001158, Parámetros={'num_leaves': 59, 'learning_rate': 0.042808491617570936, 'feature_fraction': 0.610167650697638, 'bagging_fraction': 0.7323674280979913, 'bagging_freq': 1, 'lambda_l1': 0.005341874754868531, 'lambda_l2': 6.748446817464346e-06, 'min_child_samples': 30, 'max_depth': 10, 'max_bin': 199, 'min_data_in_leaf': 53, 'extra_trees': True, 'early_stopping_rounds': 13, 'path_smooth': 0.289751452913768, 'min_gain_to_split': 0.08061064362700221}\n"
     ]
    },
    {
     "name": "stderr",
     "output_type": "stream",
     "text": [
      "[I 2025-06-29 22:58:43,012] Trial 26 finished with value: 5.55778006997967 and parameters: {'num_leaves': 50, 'learning_rate': 0.18357744822237132, 'feature_fraction': 0.7354748937944072, 'bagging_fraction': 0.9923921299229225, 'bagging_freq': 5, 'lambda_l1': 6.546279995164853e-05, 'lambda_l2': 1.0461530068825647e-06, 'min_child_samples': 12, 'max_depth': 8, 'max_bin': 485, 'min_data_in_leaf': 43, 'extra_trees': True, 'early_stopping_rounds': 10, 'path_smooth': 0.36312256267693066, 'min_gain_to_split': 0.034455641834973474}. Best is trial 6 with value: 0.001158291164702125.\n"
     ]
    },
    {
     "name": "stdout",
     "output_type": "stream",
     "text": [
      "Mejor trial hasta ahora: RMSE=0.001158, Parámetros={'num_leaves': 59, 'learning_rate': 0.042808491617570936, 'feature_fraction': 0.610167650697638, 'bagging_fraction': 0.7323674280979913, 'bagging_freq': 1, 'lambda_l1': 0.005341874754868531, 'lambda_l2': 6.748446817464346e-06, 'min_child_samples': 30, 'max_depth': 10, 'max_bin': 199, 'min_data_in_leaf': 53, 'extra_trees': True, 'early_stopping_rounds': 13, 'path_smooth': 0.289751452913768, 'min_gain_to_split': 0.08061064362700221}\n"
     ]
    },
    {
     "name": "stderr",
     "output_type": "stream",
     "text": [
      "[I 2025-06-29 23:00:39,501] Trial 27 finished with value: 4.753171427983469 and parameters: {'num_leaves': 49, 'learning_rate': 0.2768512600909468, 'feature_fraction': 0.8890194809166676, 'bagging_fraction': 0.8772576886088559, 'bagging_freq': 2, 'lambda_l1': 1.2577496789566316e-06, 'lambda_l2': 1.0895493413733894e-08, 'min_child_samples': 45, 'max_depth': 7, 'max_bin': 366, 'min_data_in_leaf': 33, 'extra_trees': True, 'early_stopping_rounds': 20, 'path_smooth': 0.13436080589885738, 'min_gain_to_split': 0.10540956927639529}. Best is trial 6 with value: 0.001158291164702125.\n"
     ]
    },
    {
     "name": "stdout",
     "output_type": "stream",
     "text": [
      "Mejor trial hasta ahora: RMSE=0.001158, Parámetros={'num_leaves': 59, 'learning_rate': 0.042808491617570936, 'feature_fraction': 0.610167650697638, 'bagging_fraction': 0.7323674280979913, 'bagging_freq': 1, 'lambda_l1': 0.005341874754868531, 'lambda_l2': 6.748446817464346e-06, 'min_child_samples': 30, 'max_depth': 10, 'max_bin': 199, 'min_data_in_leaf': 53, 'extra_trees': True, 'early_stopping_rounds': 13, 'path_smooth': 0.289751452913768, 'min_gain_to_split': 0.08061064362700221}\n"
     ]
    },
    {
     "name": "stderr",
     "output_type": "stream",
     "text": [
      "[I 2025-06-29 23:02:57,439] Trial 28 finished with value: 8.087374559989504 and parameters: {'num_leaves': 48, 'learning_rate': 0.18545119947871933, 'feature_fraction': 0.8362431409126239, 'bagging_fraction': 0.8618240563329436, 'bagging_freq': 2, 'lambda_l1': 1.4703676311209418e-06, 'lambda_l2': 5.5094720298786936e-08, 'min_child_samples': 45, 'max_depth': 7, 'max_bin': 383, 'min_data_in_leaf': 27, 'extra_trees': True, 'early_stopping_rounds': 17, 'path_smooth': 0.24406416289065996, 'min_gain_to_split': 0.05945978031058319}. Best is trial 6 with value: 0.001158291164702125.\n"
     ]
    },
    {
     "name": "stdout",
     "output_type": "stream",
     "text": [
      "Mejor trial hasta ahora: RMSE=0.001158, Parámetros={'num_leaves': 59, 'learning_rate': 0.042808491617570936, 'feature_fraction': 0.610167650697638, 'bagging_fraction': 0.7323674280979913, 'bagging_freq': 1, 'lambda_l1': 0.005341874754868531, 'lambda_l2': 6.748446817464346e-06, 'min_child_samples': 30, 'max_depth': 10, 'max_bin': 199, 'min_data_in_leaf': 53, 'extra_trees': True, 'early_stopping_rounds': 13, 'path_smooth': 0.289751452913768, 'min_gain_to_split': 0.08061064362700221}\n"
     ]
    },
    {
     "name": "stderr",
     "output_type": "stream",
     "text": [
      "[I 2025-06-29 23:05:58,501] Trial 29 finished with value: 9.174875653948881 and parameters: {'num_leaves': 32, 'learning_rate': 0.08279284375665742, 'feature_fraction': 0.9046487099804195, 'bagging_fraction': 0.8980125847620228, 'bagging_freq': 1, 'lambda_l1': 1.221809606536089e-08, 'lambda_l2': 6.836352633334304e-08, 'min_child_samples': 50, 'max_depth': 6, 'max_bin': 332, 'min_data_in_leaf': 43, 'extra_trees': True, 'early_stopping_rounds': 23, 'path_smooth': 0.0032867638915155817, 'min_gain_to_split': 0.1328715025459128}. Best is trial 6 with value: 0.001158291164702125.\n"
     ]
    },
    {
     "name": "stdout",
     "output_type": "stream",
     "text": [
      "Mejor trial hasta ahora: RMSE=0.001158, Parámetros={'num_leaves': 59, 'learning_rate': 0.042808491617570936, 'feature_fraction': 0.610167650697638, 'bagging_fraction': 0.7323674280979913, 'bagging_freq': 1, 'lambda_l1': 0.005341874754868531, 'lambda_l2': 6.748446817464346e-06, 'min_child_samples': 30, 'max_depth': 10, 'max_bin': 199, 'min_data_in_leaf': 53, 'extra_trees': True, 'early_stopping_rounds': 13, 'path_smooth': 0.289751452913768, 'min_gain_to_split': 0.08061064362700221}\n"
     ]
    },
    {
     "name": "stderr",
     "output_type": "stream",
     "text": [
      "[I 2025-06-29 23:09:31,608] Trial 30 finished with value: 24.726867864404632 and parameters: {'num_leaves': 57, 'learning_rate': 0.04195801009241162, 'feature_fraction': 0.8491281934856283, 'bagging_fraction': 0.8303613393301374, 'bagging_freq': 3, 'lambda_l1': 0.0023138652131741693, 'lambda_l2': 1.2443942304332292e-05, 'min_child_samples': 37, 'max_depth': 4, 'max_bin': 450, 'min_data_in_leaf': 30, 'extra_trees': True, 'early_stopping_rounds': 14, 'path_smooth': 0.11494061737779453, 'min_gain_to_split': 0.2170211687085366}. Best is trial 6 with value: 0.001158291164702125.\n"
     ]
    },
    {
     "name": "stdout",
     "output_type": "stream",
     "text": [
      "Mejor trial hasta ahora: RMSE=0.001158, Parámetros={'num_leaves': 59, 'learning_rate': 0.042808491617570936, 'feature_fraction': 0.610167650697638, 'bagging_fraction': 0.7323674280979913, 'bagging_freq': 1, 'lambda_l1': 0.005341874754868531, 'lambda_l2': 6.748446817464346e-06, 'min_child_samples': 30, 'max_depth': 10, 'max_bin': 199, 'min_data_in_leaf': 53, 'extra_trees': True, 'early_stopping_rounds': 13, 'path_smooth': 0.289751452913768, 'min_gain_to_split': 0.08061064362700221}\n"
     ]
    },
    {
     "name": "stderr",
     "output_type": "stream",
     "text": [
      "[I 2025-06-29 23:11:56,883] Trial 31 finished with value: 2.650078256247498 and parameters: {'num_leaves': 67, 'learning_rate': 0.1982669710482507, 'feature_fraction': 0.935993871227142, 'bagging_fraction': 0.9152719594255755, 'bagging_freq': 2, 'lambda_l1': 1.0386711861546654e-06, 'lambda_l2': 8.218003694336813e-07, 'min_child_samples': 43, 'max_depth': 8, 'max_bin': 330, 'min_data_in_leaf': 54, 'extra_trees': True, 'early_stopping_rounds': 19, 'path_smooth': 0.28130738670328614, 'min_gain_to_split': 0.3064999371160939}. Best is trial 6 with value: 0.001158291164702125.\n"
     ]
    },
    {
     "name": "stdout",
     "output_type": "stream",
     "text": [
      "Mejor trial hasta ahora: RMSE=0.001158, Parámetros={'num_leaves': 59, 'learning_rate': 0.042808491617570936, 'feature_fraction': 0.610167650697638, 'bagging_fraction': 0.7323674280979913, 'bagging_freq': 1, 'lambda_l1': 0.005341874754868531, 'lambda_l2': 6.748446817464346e-06, 'min_child_samples': 30, 'max_depth': 10, 'max_bin': 199, 'min_data_in_leaf': 53, 'extra_trees': True, 'early_stopping_rounds': 13, 'path_smooth': 0.289751452913768, 'min_gain_to_split': 0.08061064362700221}\n"
     ]
    },
    {
     "name": "stderr",
     "output_type": "stream",
     "text": [
      "[I 2025-06-29 23:17:26,555] Trial 32 finished with value: 11.78600852403395 and parameters: {'num_leaves': 44, 'learning_rate': 0.09301650698514388, 'feature_fraction': 0.9532899040953572, 'bagging_fraction': 0.8078995021093169, 'bagging_freq': 1, 'lambda_l1': 4.941299539759749e-05, 'lambda_l2': 3.916751554207005e-08, 'min_child_samples': 32, 'max_depth': 10, 'max_bin': 382, 'min_data_in_leaf': 39, 'extra_trees': False, 'early_stopping_rounds': 28, 'path_smooth': 0.4046892234123509, 'min_gain_to_split': 0.054139179084681875}. Best is trial 6 with value: 0.001158291164702125.\n"
     ]
    },
    {
     "name": "stdout",
     "output_type": "stream",
     "text": [
      "Mejor trial hasta ahora: RMSE=0.001158, Parámetros={'num_leaves': 59, 'learning_rate': 0.042808491617570936, 'feature_fraction': 0.610167650697638, 'bagging_fraction': 0.7323674280979913, 'bagging_freq': 1, 'lambda_l1': 0.005341874754868531, 'lambda_l2': 6.748446817464346e-06, 'min_child_samples': 30, 'max_depth': 10, 'max_bin': 199, 'min_data_in_leaf': 53, 'extra_trees': True, 'early_stopping_rounds': 13, 'path_smooth': 0.289751452913768, 'min_gain_to_split': 0.08061064362700221}\n"
     ]
    },
    {
     "name": "stderr",
     "output_type": "stream",
     "text": [
      "[I 2025-06-29 23:19:17,518] Trial 33 finished with value: 5.509280805627078 and parameters: {'num_leaves': 35, 'learning_rate': 0.29055037513608073, 'feature_fraction': 0.7965828686092559, 'bagging_fraction': 0.8710748820451125, 'bagging_freq': 3, 'lambda_l1': 0.0035187222104770804, 'lambda_l2': 0.0005948489604745829, 'min_child_samples': 39, 'max_depth': 7, 'max_bin': 455, 'min_data_in_leaf': 64, 'extra_trees': True, 'early_stopping_rounds': 14, 'path_smooth': 0.17608478767924363, 'min_gain_to_split': 0.48720507865614043}. Best is trial 6 with value: 0.001158291164702125.\n"
     ]
    },
    {
     "name": "stdout",
     "output_type": "stream",
     "text": [
      "Mejor trial hasta ahora: RMSE=0.001158, Parámetros={'num_leaves': 59, 'learning_rate': 0.042808491617570936, 'feature_fraction': 0.610167650697638, 'bagging_fraction': 0.7323674280979913, 'bagging_freq': 1, 'lambda_l1': 0.005341874754868531, 'lambda_l2': 6.748446817464346e-06, 'min_child_samples': 30, 'max_depth': 10, 'max_bin': 199, 'min_data_in_leaf': 53, 'extra_trees': True, 'early_stopping_rounds': 13, 'path_smooth': 0.289751452913768, 'min_gain_to_split': 0.08061064362700221}\n"
     ]
    },
    {
     "name": "stderr",
     "output_type": "stream",
     "text": [
      "[I 2025-06-29 23:24:35,810] Trial 34 finished with value: 17.163306140445098 and parameters: {'num_leaves': 25, 'learning_rate': 0.043247406839255265, 'feature_fraction': 0.8766713508167155, 'bagging_fraction': 0.9652404572435337, 'bagging_freq': 4, 'lambda_l1': 2.4517378917709346e-05, 'lambda_l2': 1.0033023078672261e-07, 'min_child_samples': 47, 'max_depth': 9, 'max_bin': 262, 'min_data_in_leaf': 20, 'extra_trees': True, 'early_stopping_rounds': 24, 'path_smooth': 0.06534926628376207, 'min_gain_to_split': 0.0881405732064197}. Best is trial 6 with value: 0.001158291164702125.\n"
     ]
    },
    {
     "name": "stdout",
     "output_type": "stream",
     "text": [
      "Mejor trial hasta ahora: RMSE=0.001158, Parámetros={'num_leaves': 59, 'learning_rate': 0.042808491617570936, 'feature_fraction': 0.610167650697638, 'bagging_fraction': 0.7323674280979913, 'bagging_freq': 1, 'lambda_l1': 0.005341874754868531, 'lambda_l2': 6.748446817464346e-06, 'min_child_samples': 30, 'max_depth': 10, 'max_bin': 199, 'min_data_in_leaf': 53, 'extra_trees': True, 'early_stopping_rounds': 13, 'path_smooth': 0.289751452913768, 'min_gain_to_split': 0.08061064362700221}\n"
     ]
    },
    {
     "name": "stderr",
     "output_type": "stream",
     "text": [
      "[I 2025-06-29 23:28:53,479] Trial 35 finished with value: 15.845777769898557 and parameters: {'num_leaves': 55, 'learning_rate': 0.06844420108097751, 'feature_fraction': 0.7800231295212753, 'bagging_fraction': 0.7549770780616177, 'bagging_freq': 7, 'lambda_l1': 4.360426791890985e-07, 'lambda_l2': 9.89769441879666e-06, 'min_child_samples': 24, 'max_depth': 6, 'max_bin': 406, 'min_data_in_leaf': 39, 'extra_trees': False, 'early_stopping_rounds': 10, 'path_smooth': 0.5209780049942703, 'min_gain_to_split': 0.004641588896625026}. Best is trial 6 with value: 0.001158291164702125.\n"
     ]
    },
    {
     "name": "stdout",
     "output_type": "stream",
     "text": [
      "Mejor trial hasta ahora: RMSE=0.001158, Parámetros={'num_leaves': 59, 'learning_rate': 0.042808491617570936, 'feature_fraction': 0.610167650697638, 'bagging_fraction': 0.7323674280979913, 'bagging_freq': 1, 'lambda_l1': 0.005341874754868531, 'lambda_l2': 6.748446817464346e-06, 'min_child_samples': 30, 'max_depth': 10, 'max_bin': 199, 'min_data_in_leaf': 53, 'extra_trees': True, 'early_stopping_rounds': 13, 'path_smooth': 0.289751452913768, 'min_gain_to_split': 0.08061064362700221}\n"
     ]
    },
    {
     "name": "stderr",
     "output_type": "stream",
     "text": [
      "[I 2025-06-29 23:32:56,984] Trial 36 finished with value: 26.337624368821224 and parameters: {'num_leaves': 44, 'learning_rate': 0.02197821526321137, 'feature_fraction': 0.7413315119267839, 'bagging_fraction': 0.7736707140632018, 'bagging_freq': 6, 'lambda_l1': 0.10786808832502509, 'lambda_l2': 1.3763305772649093e-06, 'min_child_samples': 30, 'max_depth': 4, 'max_bin': 329, 'min_data_in_leaf': 32, 'extra_trees': True, 'early_stopping_rounds': 44, 'path_smooth': 0.7362506042898429, 'min_gain_to_split': 0.1448770468968066}. Best is trial 6 with value: 0.001158291164702125.\n"
     ]
    },
    {
     "name": "stdout",
     "output_type": "stream",
     "text": [
      "Mejor trial hasta ahora: RMSE=0.001158, Parámetros={'num_leaves': 59, 'learning_rate': 0.042808491617570936, 'feature_fraction': 0.610167650697638, 'bagging_fraction': 0.7323674280979913, 'bagging_freq': 1, 'lambda_l1': 0.005341874754868531, 'lambda_l2': 6.748446817464346e-06, 'min_child_samples': 30, 'max_depth': 10, 'max_bin': 199, 'min_data_in_leaf': 53, 'extra_trees': True, 'early_stopping_rounds': 13, 'path_smooth': 0.289751452913768, 'min_gain_to_split': 0.08061064362700221}\n"
     ]
    },
    {
     "name": "stderr",
     "output_type": "stream",
     "text": [
      "[I 2025-06-29 23:34:40,567] Trial 37 finished with value: 19.291151422321274 and parameters: {'num_leaves': 19, 'learning_rate': 0.22496187063230424, 'feature_fraction': 0.9561284207825861, 'bagging_fraction': 0.9180953828353208, 'bagging_freq': 4, 'lambda_l1': 5.3322844222159944e-08, 'lambda_l2': 0.12789542926807676, 'min_child_samples': 29, 'max_depth': 4, 'max_bin': 273, 'min_data_in_leaf': 24, 'extra_trees': True, 'early_stopping_rounds': 40, 'path_smooth': 0.31881028245081944, 'min_gain_to_split': 0.31186521572560244}. Best is trial 6 with value: 0.001158291164702125.\n"
     ]
    },
    {
     "name": "stdout",
     "output_type": "stream",
     "text": [
      "Mejor trial hasta ahora: RMSE=0.001158, Parámetros={'num_leaves': 59, 'learning_rate': 0.042808491617570936, 'feature_fraction': 0.610167650697638, 'bagging_fraction': 0.7323674280979913, 'bagging_freq': 1, 'lambda_l1': 0.005341874754868531, 'lambda_l2': 6.748446817464346e-06, 'min_child_samples': 30, 'max_depth': 10, 'max_bin': 199, 'min_data_in_leaf': 53, 'extra_trees': True, 'early_stopping_rounds': 13, 'path_smooth': 0.289751452913768, 'min_gain_to_split': 0.08061064362700221}\n"
     ]
    },
    {
     "name": "stderr",
     "output_type": "stream",
     "text": [
      "[I 2025-06-29 23:36:42,500] Trial 38 finished with value: 22.84421945764391 and parameters: {'num_leaves': 15, 'learning_rate': 0.15839621220159406, 'feature_fraction': 0.9847589201571219, 'bagging_fraction': 0.8783882990334541, 'bagging_freq': 2, 'lambda_l1': 8.668815028550601e-08, 'lambda_l2': 0.0027518053025611163, 'min_child_samples': 27, 'max_depth': 5, 'max_bin': 197, 'min_data_in_leaf': 20, 'extra_trees': True, 'early_stopping_rounds': 37, 'path_smooth': 0.2691014058373239, 'min_gain_to_split': 0.19042450720586163}. Best is trial 6 with value: 0.001158291164702125.\n"
     ]
    },
    {
     "name": "stdout",
     "output_type": "stream",
     "text": [
      "Mejor trial hasta ahora: RMSE=0.001158, Parámetros={'num_leaves': 59, 'learning_rate': 0.042808491617570936, 'feature_fraction': 0.610167650697638, 'bagging_fraction': 0.7323674280979913, 'bagging_freq': 1, 'lambda_l1': 0.005341874754868531, 'lambda_l2': 6.748446817464346e-06, 'min_child_samples': 30, 'max_depth': 10, 'max_bin': 199, 'min_data_in_leaf': 53, 'extra_trees': True, 'early_stopping_rounds': 13, 'path_smooth': 0.289751452913768, 'min_gain_to_split': 0.08061064362700221}\n"
     ]
    },
    {
     "name": "stderr",
     "output_type": "stream",
     "text": [
      "[I 2025-06-29 23:38:36,993] Trial 39 finished with value: 7.934451366893851 and parameters: {'num_leaves': 62, 'learning_rate': 0.21963408743182258, 'feature_fraction': 0.9630452108416557, 'bagging_fraction': 0.9663190982122862, 'bagging_freq': 1, 'lambda_l1': 2.76437310972223e-08, 'lambda_l2': 0.44840295573029404, 'min_child_samples': 34, 'max_depth': 6, 'max_bin': 232, 'min_data_in_leaf': 26, 'extra_trees': True, 'early_stopping_rounds': 34, 'path_smooth': 0.34403462954681163, 'min_gain_to_split': 0.2611314668530303}. Best is trial 6 with value: 0.001158291164702125.\n"
     ]
    },
    {
     "name": "stdout",
     "output_type": "stream",
     "text": [
      "Mejor trial hasta ahora: RMSE=0.001158, Parámetros={'num_leaves': 59, 'learning_rate': 0.042808491617570936, 'feature_fraction': 0.610167650697638, 'bagging_fraction': 0.7323674280979913, 'bagging_freq': 1, 'lambda_l1': 0.005341874754868531, 'lambda_l2': 6.748446817464346e-06, 'min_child_samples': 30, 'max_depth': 10, 'max_bin': 199, 'min_data_in_leaf': 53, 'extra_trees': True, 'early_stopping_rounds': 13, 'path_smooth': 0.289751452913768, 'min_gain_to_split': 0.08061064362700221}\n"
     ]
    },
    {
     "name": "stderr",
     "output_type": "stream",
     "text": [
      "[I 2025-06-29 23:40:41,624] Trial 40 finished with value: 8.103941127086486 and parameters: {'num_leaves': 39, 'learning_rate': 0.2956760761130833, 'feature_fraction': 0.9136118628578299, 'bagging_fraction': 0.9339355132353093, 'bagging_freq': 3, 'lambda_l1': 2.84116113518437e-07, 'lambda_l2': 0.004251451759638607, 'min_child_samples': 23, 'max_depth': 7, 'max_bin': 149, 'min_data_in_leaf': 28, 'extra_trees': False, 'early_stopping_rounds': 40, 'path_smooth': 0.17247153717746022, 'min_gain_to_split': 0.07807322600130262}. Best is trial 6 with value: 0.001158291164702125.\n"
     ]
    },
    {
     "name": "stdout",
     "output_type": "stream",
     "text": [
      "Mejor trial hasta ahora: RMSE=0.001158, Parámetros={'num_leaves': 59, 'learning_rate': 0.042808491617570936, 'feature_fraction': 0.610167650697638, 'bagging_fraction': 0.7323674280979913, 'bagging_freq': 1, 'lambda_l1': 0.005341874754868531, 'lambda_l2': 6.748446817464346e-06, 'min_child_samples': 30, 'max_depth': 10, 'max_bin': 199, 'min_data_in_leaf': 53, 'extra_trees': True, 'early_stopping_rounds': 13, 'path_smooth': 0.289751452913768, 'min_gain_to_split': 0.08061064362700221}\n"
     ]
    },
    {
     "name": "stderr",
     "output_type": "stream",
     "text": [
      "[I 2025-06-29 23:43:00,630] Trial 41 finished with value: 56.43337469969357 and parameters: {'num_leaves': 27, 'learning_rate': 0.16827575038842024, 'feature_fraction': 0.9980288048176426, 'bagging_fraction': 0.9490060212224346, 'bagging_freq': 8, 'lambda_l1': 3.1964695129556727e-06, 'lambda_l2': 0.0001674246635040605, 'min_child_samples': 26, 'max_depth': 3, 'max_bin': 315, 'min_data_in_leaf': 36, 'extra_trees': False, 'early_stopping_rounds': 12, 'path_smooth': 0.4052538137473829, 'min_gain_to_split': 0.3771181115680398}. Best is trial 6 with value: 0.001158291164702125.\n"
     ]
    },
    {
     "name": "stdout",
     "output_type": "stream",
     "text": [
      "Mejor trial hasta ahora: RMSE=0.001158, Parámetros={'num_leaves': 59, 'learning_rate': 0.042808491617570936, 'feature_fraction': 0.610167650697638, 'bagging_fraction': 0.7323674280979913, 'bagging_freq': 1, 'lambda_l1': 0.005341874754868531, 'lambda_l2': 6.748446817464346e-06, 'min_child_samples': 30, 'max_depth': 10, 'max_bin': 199, 'min_data_in_leaf': 53, 'extra_trees': True, 'early_stopping_rounds': 13, 'path_smooth': 0.289751452913768, 'min_gain_to_split': 0.08061064362700221}\n"
     ]
    },
    {
     "name": "stderr",
     "output_type": "stream",
     "text": [
      "[I 2025-06-29 23:45:03,677] Trial 42 finished with value: 10.244912114535088 and parameters: {'num_leaves': 37, 'learning_rate': 0.23251555600358154, 'feature_fraction': 0.6584848472933433, 'bagging_fraction': 0.8433672457283502, 'bagging_freq': 5, 'lambda_l1': 2.460124650529456e-07, 'lambda_l2': 2.360555322351063, 'min_child_samples': 17, 'max_depth': 8, 'max_bin': 389, 'min_data_in_leaf': 25, 'extra_trees': True, 'early_stopping_rounds': 29, 'path_smooth': 0.22354151564729383, 'min_gain_to_split': 0.22616681473344827}. Best is trial 6 with value: 0.001158291164702125.\n"
     ]
    },
    {
     "name": "stdout",
     "output_type": "stream",
     "text": [
      "Mejor trial hasta ahora: RMSE=0.001158, Parámetros={'num_leaves': 59, 'learning_rate': 0.042808491617570936, 'feature_fraction': 0.610167650697638, 'bagging_fraction': 0.7323674280979913, 'bagging_freq': 1, 'lambda_l1': 0.005341874754868531, 'lambda_l2': 6.748446817464346e-06, 'min_child_samples': 30, 'max_depth': 10, 'max_bin': 199, 'min_data_in_leaf': 53, 'extra_trees': True, 'early_stopping_rounds': 13, 'path_smooth': 0.289751452913768, 'min_gain_to_split': 0.08061064362700221}\n"
     ]
    },
    {
     "name": "stderr",
     "output_type": "stream",
     "text": [
      "[I 2025-06-29 23:48:04,041] Trial 43 finished with value: 3.1540479200800435 and parameters: {'num_leaves': 44, 'learning_rate': 0.10725629241335993, 'feature_fraction': 0.8497480709452105, 'bagging_fraction': 0.9222140188678227, 'bagging_freq': 4, 'lambda_l1': 6.087278230819692, 'lambda_l2': 0.015945502050087948, 'min_child_samples': 30, 'max_depth': 10, 'max_bin': 446, 'min_data_in_leaf': 80, 'extra_trees': True, 'early_stopping_rounds': 33, 'path_smooth': 0.2981544579495101, 'min_gain_to_split': 0.2839031222139813}. Best is trial 6 with value: 0.001158291164702125.\n"
     ]
    },
    {
     "name": "stdout",
     "output_type": "stream",
     "text": [
      "Mejor trial hasta ahora: RMSE=0.001158, Parámetros={'num_leaves': 59, 'learning_rate': 0.042808491617570936, 'feature_fraction': 0.610167650697638, 'bagging_fraction': 0.7323674280979913, 'bagging_freq': 1, 'lambda_l1': 0.005341874754868531, 'lambda_l2': 6.748446817464346e-06, 'min_child_samples': 30, 'max_depth': 10, 'max_bin': 199, 'min_data_in_leaf': 53, 'extra_trees': True, 'early_stopping_rounds': 13, 'path_smooth': 0.289751452913768, 'min_gain_to_split': 0.08061064362700221}\n"
     ]
    },
    {
     "name": "stderr",
     "output_type": "stream",
     "text": [
      "[I 2025-06-29 23:52:38,002] Trial 44 finished with value: 13.676345796175479 and parameters: {'num_leaves': 81, 'learning_rate': 0.07268312926127052, 'feature_fraction': 0.7695643401171832, 'bagging_fraction': 0.808950538180295, 'bagging_freq': 1, 'lambda_l1': 0.0003486429737066465, 'lambda_l2': 3.180537126040793e-08, 'min_child_samples': 35, 'max_depth': 6, 'max_bin': 411, 'min_data_in_leaf': 33, 'extra_trees': False, 'early_stopping_rounds': 19, 'path_smooth': 0.6037541445521777, 'min_gain_to_split': 0.09693582867078873}. Best is trial 6 with value: 0.001158291164702125.\n"
     ]
    },
    {
     "name": "stdout",
     "output_type": "stream",
     "text": [
      "Mejor trial hasta ahora: RMSE=0.001158, Parámetros={'num_leaves': 59, 'learning_rate': 0.042808491617570936, 'feature_fraction': 0.610167650697638, 'bagging_fraction': 0.7323674280979913, 'bagging_freq': 1, 'lambda_l1': 0.005341874754868531, 'lambda_l2': 6.748446817464346e-06, 'min_child_samples': 30, 'max_depth': 10, 'max_bin': 199, 'min_data_in_leaf': 53, 'extra_trees': True, 'early_stopping_rounds': 13, 'path_smooth': 0.289751452913768, 'min_gain_to_split': 0.08061064362700221}\n"
     ]
    },
    {
     "name": "stderr",
     "output_type": "stream",
     "text": [
      "[I 2025-06-29 23:55:17,571] Trial 45 finished with value: 44.46136362139655 and parameters: {'num_leaves': 69, 'learning_rate': 0.05180070454843603, 'feature_fraction': 0.9722898423000171, 'bagging_fraction': 0.891461451233979, 'bagging_freq': 10, 'lambda_l1': 4.246135459170971e-08, 'lambda_l2': 0.16530129914057332, 'min_child_samples': 38, 'max_depth': 3, 'max_bin': 167, 'min_data_in_leaf': 20, 'extra_trees': True, 'early_stopping_rounds': 16, 'path_smooth': 0.12714506189401187, 'min_gain_to_split': 0.18020754533240704}. Best is trial 6 with value: 0.001158291164702125.\n"
     ]
    },
    {
     "name": "stdout",
     "output_type": "stream",
     "text": [
      "Mejor trial hasta ahora: RMSE=0.001158, Parámetros={'num_leaves': 59, 'learning_rate': 0.042808491617570936, 'feature_fraction': 0.610167650697638, 'bagging_fraction': 0.7323674280979913, 'bagging_freq': 1, 'lambda_l1': 0.005341874754868531, 'lambda_l2': 6.748446817464346e-06, 'min_child_samples': 30, 'max_depth': 10, 'max_bin': 199, 'min_data_in_leaf': 53, 'extra_trees': True, 'early_stopping_rounds': 13, 'path_smooth': 0.289751452913768, 'min_gain_to_split': 0.08061064362700221}\n"
     ]
    },
    {
     "name": "stderr",
     "output_type": "stream",
     "text": [
      "[I 2025-06-29 23:58:09,032] Trial 46 finished with value: 10.668984266560368 and parameters: {'num_leaves': 24, 'learning_rate': 0.13891879695562295, 'feature_fraction': 0.9323634016628799, 'bagging_fraction': 0.9738107294160434, 'bagging_freq': 2, 'lambda_l1': 0.5370189352753698, 'lambda_l2': 8.67536323925369e-06, 'min_child_samples': 46, 'max_depth': 8, 'max_bin': 297, 'min_data_in_leaf': 52, 'extra_trees': True, 'early_stopping_rounds': 12, 'path_smooth': 0.3890739849354591, 'min_gain_to_split': 0.05101395602093636}. Best is trial 6 with value: 0.001158291164702125.\n"
     ]
    },
    {
     "name": "stdout",
     "output_type": "stream",
     "text": [
      "Mejor trial hasta ahora: RMSE=0.001158, Parámetros={'num_leaves': 59, 'learning_rate': 0.042808491617570936, 'feature_fraction': 0.610167650697638, 'bagging_fraction': 0.7323674280979913, 'bagging_freq': 1, 'lambda_l1': 0.005341874754868531, 'lambda_l2': 6.748446817464346e-06, 'min_child_samples': 30, 'max_depth': 10, 'max_bin': 199, 'min_data_in_leaf': 53, 'extra_trees': True, 'early_stopping_rounds': 13, 'path_smooth': 0.289751452913768, 'min_gain_to_split': 0.08061064362700221}\n"
     ]
    },
    {
     "name": "stderr",
     "output_type": "stream",
     "text": [
      "[I 2025-06-29 23:59:47,840] Trial 47 finished with value: 24.608201695825205 and parameters: {'num_leaves': 20, 'learning_rate': 0.2544326946644223, 'feature_fraction': 0.9805978575403036, 'bagging_fraction': 0.9534080180269581, 'bagging_freq': 4, 'lambda_l1': 1.1426073086315199e-07, 'lambda_l2': 0.015472787040463506, 'min_child_samples': 28, 'max_depth': 3, 'max_bin': 286, 'min_data_in_leaf': 22, 'extra_trees': True, 'early_stopping_rounds': 37, 'path_smooth': 0.4756228051755343, 'min_gain_to_split': 0.27337853602034157}. Best is trial 6 with value: 0.001158291164702125.\n"
     ]
    },
    {
     "name": "stdout",
     "output_type": "stream",
     "text": [
      "Mejor trial hasta ahora: RMSE=0.001158, Parámetros={'num_leaves': 59, 'learning_rate': 0.042808491617570936, 'feature_fraction': 0.610167650697638, 'bagging_fraction': 0.7323674280979913, 'bagging_freq': 1, 'lambda_l1': 0.005341874754868531, 'lambda_l2': 6.748446817464346e-06, 'min_child_samples': 30, 'max_depth': 10, 'max_bin': 199, 'min_data_in_leaf': 53, 'extra_trees': True, 'early_stopping_rounds': 13, 'path_smooth': 0.289751452913768, 'min_gain_to_split': 0.08061064362700221}\n"
     ]
    },
    {
     "name": "stderr",
     "output_type": "stream",
     "text": [
      "[I 2025-06-30 00:01:33,382] Trial 48 finished with value: 14.150699814583422 and parameters: {'num_leaves': 20, 'learning_rate': 0.23854888157553683, 'feature_fraction': 0.8932734923364006, 'bagging_fraction': 0.7008419179396964, 'bagging_freq': 3, 'lambda_l1': 5.600294703538062e-07, 'lambda_l2': 0.4648083316255691, 'min_child_samples': 14, 'max_depth': 4, 'max_bin': 310, 'min_data_in_leaf': 29, 'extra_trees': True, 'early_stopping_rounds': 42, 'path_smooth': 0.319521370488557, 'min_gain_to_split': 0.24332656921811235}. Best is trial 6 with value: 0.001158291164702125.\n"
     ]
    },
    {
     "name": "stdout",
     "output_type": "stream",
     "text": [
      "Mejor trial hasta ahora: RMSE=0.001158, Parámetros={'num_leaves': 59, 'learning_rate': 0.042808491617570936, 'feature_fraction': 0.610167650697638, 'bagging_fraction': 0.7323674280979913, 'bagging_freq': 1, 'lambda_l1': 0.005341874754868531, 'lambda_l2': 6.748446817464346e-06, 'min_child_samples': 30, 'max_depth': 10, 'max_bin': 199, 'min_data_in_leaf': 53, 'extra_trees': True, 'early_stopping_rounds': 13, 'path_smooth': 0.289751452913768, 'min_gain_to_split': 0.08061064362700221}\n"
     ]
    },
    {
     "name": "stderr",
     "output_type": "stream",
     "text": [
      "[I 2025-06-30 00:03:20,979] Trial 49 finished with value: 29.769000346721924 and parameters: {'num_leaves': 53, 'learning_rate': 0.2047127034827401, 'feature_fraction': 0.9953936427975175, 'bagging_fraction': 0.9326974585907368, 'bagging_freq': 5, 'lambda_l1': 1.2608334458858867e-07, 'lambda_l2': 0.07097514866781668, 'min_child_samples': 48, 'max_depth': 3, 'max_bin': 430, 'min_data_in_leaf': 25, 'extra_trees': True, 'early_stopping_rounds': 35, 'path_smooth': 0.19213757914133234, 'min_gain_to_split': 0.35319493511803723}. Best is trial 6 with value: 0.001158291164702125.\n"
     ]
    },
    {
     "name": "stdout",
     "output_type": "stream",
     "text": [
      "Mejor trial hasta ahora: RMSE=0.001158, Parámetros={'num_leaves': 59, 'learning_rate': 0.042808491617570936, 'feature_fraction': 0.610167650697638, 'bagging_fraction': 0.7323674280979913, 'bagging_freq': 1, 'lambda_l1': 0.005341874754868531, 'lambda_l2': 6.748446817464346e-06, 'min_child_samples': 30, 'max_depth': 10, 'max_bin': 199, 'min_data_in_leaf': 53, 'extra_trees': True, 'early_stopping_rounds': 13, 'path_smooth': 0.289751452913768, 'min_gain_to_split': 0.08061064362700221}\n"
     ]
    },
    {
     "name": "stderr",
     "output_type": "stream",
     "text": [
      "[I 2025-06-30 00:05:00,791] Trial 50 finished with value: 22.956132657959643 and parameters: {'num_leaves': 64, 'learning_rate': 0.16019722931394123, 'feature_fraction': 0.9420956951265965, 'bagging_fraction': 0.7216112427017265, 'bagging_freq': 6, 'lambda_l1': 3.5136467819870038e-06, 'lambda_l2': 0.001069511761884323, 'min_child_samples': 40, 'max_depth': 4, 'max_bin': 250, 'min_data_in_leaf': 36, 'extra_trees': True, 'early_stopping_rounds': 31, 'path_smooth': 0.06310195885109343, 'min_gain_to_split': 0.40119247917978207}. Best is trial 6 with value: 0.001158291164702125.\n"
     ]
    },
    {
     "name": "stdout",
     "output_type": "stream",
     "text": [
      "Mejor trial hasta ahora: RMSE=0.001158, Parámetros={'num_leaves': 59, 'learning_rate': 0.042808491617570936, 'feature_fraction': 0.610167650697638, 'bagging_fraction': 0.7323674280979913, 'bagging_freq': 1, 'lambda_l1': 0.005341874754868531, 'lambda_l2': 6.748446817464346e-06, 'min_child_samples': 30, 'max_depth': 10, 'max_bin': 199, 'min_data_in_leaf': 53, 'extra_trees': True, 'early_stopping_rounds': 13, 'path_smooth': 0.289751452913768, 'min_gain_to_split': 0.08061064362700221}\n"
     ]
    },
    {
     "name": "stderr",
     "output_type": "stream",
     "text": [
      "[I 2025-06-30 00:07:16,503] Trial 51 finished with value: 41.10925476760771 and parameters: {'num_leaves': 28, 'learning_rate': 0.05636000767998742, 'feature_fraction': 0.7092743148640159, 'bagging_fraction': 0.9039628625415268, 'bagging_freq': 1, 'lambda_l1': 1.0193549535351415e-08, 'lambda_l2': 0.006367236217623053, 'min_child_samples': 23, 'max_depth': 3, 'max_bin': 216, 'min_data_in_leaf': 23, 'extra_trees': True, 'early_stopping_rounds': 37, 'path_smooth': 0.25583843458358396, 'min_gain_to_split': 0.19544451658023326}. Best is trial 6 with value: 0.001158291164702125.\n"
     ]
    },
    {
     "name": "stdout",
     "output_type": "stream",
     "text": [
      "Mejor trial hasta ahora: RMSE=0.001158, Parámetros={'num_leaves': 59, 'learning_rate': 0.042808491617570936, 'feature_fraction': 0.610167650697638, 'bagging_fraction': 0.7323674280979913, 'bagging_freq': 1, 'lambda_l1': 0.005341874754868531, 'lambda_l2': 6.748446817464346e-06, 'min_child_samples': 30, 'max_depth': 10, 'max_bin': 199, 'min_data_in_leaf': 53, 'extra_trees': True, 'early_stopping_rounds': 13, 'path_smooth': 0.289751452913768, 'min_gain_to_split': 0.08061064362700221}\n"
     ]
    },
    {
     "name": "stderr",
     "output_type": "stream",
     "text": [
      "[I 2025-06-30 00:08:54,877] Trial 52 finished with value: 13.45692216008788 and parameters: {'num_leaves': 78, 'learning_rate': 0.2640884228176639, 'feature_fraction': 0.9157044465808806, 'bagging_fraction': 0.947969743549703, 'bagging_freq': 4, 'lambda_l1': 0.005479229991018023, 'lambda_l2': 1.682430106656604e-07, 'min_child_samples': 44, 'max_depth': 5, 'max_bin': 280, 'min_data_in_leaf': 31, 'extra_trees': True, 'early_stopping_rounds': 45, 'path_smooth': 0.7064311235974146, 'min_gain_to_split': 0.15613801497042018}. Best is trial 6 with value: 0.001158291164702125.\n"
     ]
    },
    {
     "name": "stdout",
     "output_type": "stream",
     "text": [
      "Mejor trial hasta ahora: RMSE=0.001158, Parámetros={'num_leaves': 59, 'learning_rate': 0.042808491617570936, 'feature_fraction': 0.610167650697638, 'bagging_fraction': 0.7323674280979913, 'bagging_freq': 1, 'lambda_l1': 0.005341874754868531, 'lambda_l2': 6.748446817464346e-06, 'min_child_samples': 30, 'max_depth': 10, 'max_bin': 199, 'min_data_in_leaf': 53, 'extra_trees': True, 'early_stopping_rounds': 13, 'path_smooth': 0.289751452913768, 'min_gain_to_split': 0.08061064362700221}\n"
     ]
    },
    {
     "name": "stderr",
     "output_type": "stream",
     "text": [
      "[I 2025-06-30 00:15:35,068] Trial 53 finished with value: 25.50486094216712 and parameters: {'num_leaves': 15, 'learning_rate': 0.016546733432707364, 'feature_fraction': 0.6379310370939363, 'bagging_fraction': 0.9820187150083245, 'bagging_freq': 2, 'lambda_l1': 2.935339244594605e-08, 'lambda_l2': 0.0012822807375442553, 'min_child_samples': 18, 'max_depth': 8, 'max_bin': 357, 'min_data_in_leaf': 60, 'extra_trees': True, 'early_stopping_rounds': 23, 'path_smooth': 0.9504371916180117, 'min_gain_to_split': 0.2347382946841037}. Best is trial 6 with value: 0.001158291164702125.\n"
     ]
    },
    {
     "name": "stdout",
     "output_type": "stream",
     "text": [
      "Mejor trial hasta ahora: RMSE=0.001158, Parámetros={'num_leaves': 59, 'learning_rate': 0.042808491617570936, 'feature_fraction': 0.610167650697638, 'bagging_fraction': 0.7323674280979913, 'bagging_freq': 1, 'lambda_l1': 0.005341874754868531, 'lambda_l2': 6.748446817464346e-06, 'min_child_samples': 30, 'max_depth': 10, 'max_bin': 199, 'min_data_in_leaf': 53, 'extra_trees': True, 'early_stopping_rounds': 13, 'path_smooth': 0.289751452913768, 'min_gain_to_split': 0.08061064362700221}\n"
     ]
    },
    {
     "name": "stderr",
     "output_type": "stream",
     "text": [
      "[I 2025-06-30 00:17:34,899] Trial 54 finished with value: 2.4797369948299446 and parameters: {'num_leaves': 89, 'learning_rate': 0.12364472324093977, 'feature_fraction': 0.972879742137107, 'bagging_fraction': 0.8587989569504556, 'bagging_freq': 3, 'lambda_l1': 1.9121928758185097e-05, 'lambda_l2': 0.0001921499661415303, 'min_child_samples': 31, 'max_depth': 9, 'max_bin': 123, 'min_data_in_leaf': 100, 'extra_trees': True, 'early_stopping_rounds': 25, 'path_smooth': 0.15430815071540452, 'min_gain_to_split': 0.11707714606199687}. Best is trial 6 with value: 0.001158291164702125.\n"
     ]
    },
    {
     "name": "stdout",
     "output_type": "stream",
     "text": [
      "Mejor trial hasta ahora: RMSE=0.001158, Parámetros={'num_leaves': 59, 'learning_rate': 0.042808491617570936, 'feature_fraction': 0.610167650697638, 'bagging_fraction': 0.7323674280979913, 'bagging_freq': 1, 'lambda_l1': 0.005341874754868531, 'lambda_l2': 6.748446817464346e-06, 'min_child_samples': 30, 'max_depth': 10, 'max_bin': 199, 'min_data_in_leaf': 53, 'extra_trees': True, 'early_stopping_rounds': 13, 'path_smooth': 0.289751452913768, 'min_gain_to_split': 0.08061064362700221}\n"
     ]
    },
    {
     "name": "stderr",
     "output_type": "stream",
     "text": [
      "[I 2025-06-30 00:27:40,690] Trial 55 finished with value: 16.447168337571846 and parameters: {'num_leaves': 35, 'learning_rate': 0.02496708824412097, 'feature_fraction': 0.8588988253061159, 'bagging_fraction': 0.8179645518727479, 'bagging_freq': 4, 'lambda_l1': 0.00020272837241006852, 'lambda_l2': 0.01955520669243712, 'min_child_samples': 26, 'max_depth': 10, 'max_bin': 338, 'min_data_in_leaf': 46, 'extra_trees': False, 'early_stopping_rounds': 50, 'path_smooth': 0.36011783329814295, 'min_gain_to_split': 0.29644908657686203}. Best is trial 6 with value: 0.001158291164702125.\n"
     ]
    },
    {
     "name": "stdout",
     "output_type": "stream",
     "text": [
      "Mejor trial hasta ahora: RMSE=0.001158, Parámetros={'num_leaves': 59, 'learning_rate': 0.042808491617570936, 'feature_fraction': 0.610167650697638, 'bagging_fraction': 0.7323674280979913, 'bagging_freq': 1, 'lambda_l1': 0.005341874754868531, 'lambda_l2': 6.748446817464346e-06, 'min_child_samples': 30, 'max_depth': 10, 'max_bin': 199, 'min_data_in_leaf': 53, 'extra_trees': True, 'early_stopping_rounds': 13, 'path_smooth': 0.289751452913768, 'min_gain_to_split': 0.08061064362700221}\n"
     ]
    },
    {
     "name": "stderr",
     "output_type": "stream",
     "text": [
      "[I 2025-06-30 00:30:59,597] Trial 56 finished with value: 15.008300023626981 and parameters: {'num_leaves': 59, 'learning_rate': 0.04846133680273855, 'feature_fraction': 0.7983821967015172, 'bagging_fraction': 0.9995088024190574, 'bagging_freq': 1, 'lambda_l1': 0.04184893814147528, 'lambda_l2': 1.9704127164409704e-08, 'min_child_samples': 21, 'max_depth': 5, 'max_bin': 374, 'min_data_in_leaf': 40, 'extra_trees': True, 'early_stopping_rounds': 40, 'path_smooth': 0.23199381138725944, 'min_gain_to_split': 0.2573300441780557}. Best is trial 6 with value: 0.001158291164702125.\n"
     ]
    },
    {
     "name": "stdout",
     "output_type": "stream",
     "text": [
      "Mejor trial hasta ahora: RMSE=0.001158, Parámetros={'num_leaves': 59, 'learning_rate': 0.042808491617570936, 'feature_fraction': 0.610167650697638, 'bagging_fraction': 0.7323674280979913, 'bagging_freq': 1, 'lambda_l1': 0.005341874754868531, 'lambda_l2': 6.748446817464346e-06, 'min_child_samples': 30, 'max_depth': 10, 'max_bin': 199, 'min_data_in_leaf': 53, 'extra_trees': True, 'early_stopping_rounds': 13, 'path_smooth': 0.289751452913768, 'min_gain_to_split': 0.08061064362700221}\n"
     ]
    },
    {
     "name": "stderr",
     "output_type": "stream",
     "text": [
      "[I 2025-06-30 00:40:40,801] Trial 57 finished with value: 5.550089469199489 and parameters: {'num_leaves': 96, 'learning_rate': 0.033360979339509586, 'feature_fraction': 0.6201110352679251, 'bagging_fraction': 0.7427758409498262, 'bagging_freq': 5, 'lambda_l1': 7.179840492018187e-07, 'lambda_l2': 0.0473224235739147, 'min_child_samples': 41, 'max_depth': 9, 'max_bin': 296, 'min_data_in_leaf': 23, 'extra_trees': False, 'early_stopping_rounds': 32, 'path_smooth': 0.6540819583315141, 'min_gain_to_split': 0.42123379326530436}. Best is trial 6 with value: 0.001158291164702125.\n"
     ]
    },
    {
     "name": "stdout",
     "output_type": "stream",
     "text": [
      "Mejor trial hasta ahora: RMSE=0.001158, Parámetros={'num_leaves': 59, 'learning_rate': 0.042808491617570936, 'feature_fraction': 0.610167650697638, 'bagging_fraction': 0.7323674280979913, 'bagging_freq': 1, 'lambda_l1': 0.005341874754868531, 'lambda_l2': 6.748446817464346e-06, 'min_child_samples': 30, 'max_depth': 10, 'max_bin': 199, 'min_data_in_leaf': 53, 'extra_trees': True, 'early_stopping_rounds': 13, 'path_smooth': 0.289751452913768, 'min_gain_to_split': 0.08061064362700221}\n"
     ]
    },
    {
     "name": "stderr",
     "output_type": "stream",
     "text": [
      "[I 2025-06-30 00:44:31,355] Trial 58 finished with value: 5.076325181779086 and parameters: {'num_leaves': 89, 'learning_rate': 0.17762790579577095, 'feature_fraction': 0.6709996450033907, 'bagging_fraction': 0.7781083791258361, 'bagging_freq': 2, 'lambda_l1': 1.6920624451649155e-07, 'lambda_l2': 0.008343208535286983, 'min_child_samples': 35, 'max_depth': 10, 'max_bin': 399, 'min_data_in_leaf': 27, 'extra_trees': False, 'early_stopping_rounds': 38, 'path_smooth': 0.8473680453485039, 'min_gain_to_split': 0.07345672385156618}. Best is trial 6 with value: 0.001158291164702125.\n"
     ]
    },
    {
     "name": "stdout",
     "output_type": "stream",
     "text": [
      "Mejor trial hasta ahora: RMSE=0.001158, Parámetros={'num_leaves': 59, 'learning_rate': 0.042808491617570936, 'feature_fraction': 0.610167650697638, 'bagging_fraction': 0.7323674280979913, 'bagging_freq': 1, 'lambda_l1': 0.005341874754868531, 'lambda_l2': 6.748446817464346e-06, 'min_child_samples': 30, 'max_depth': 10, 'max_bin': 199, 'min_data_in_leaf': 53, 'extra_trees': True, 'early_stopping_rounds': 13, 'path_smooth': 0.289751452913768, 'min_gain_to_split': 0.08061064362700221}\n"
     ]
    },
    {
     "name": "stderr",
     "output_type": "stream",
     "text": [
      "[I 2025-06-30 00:47:08,780] Trial 59 finished with value: 11.660388138165334 and parameters: {'num_leaves': 42, 'learning_rate': 0.19786505189534467, 'feature_fraction': 0.7449407941775259, 'bagging_fraction': 0.7379864809407887, 'bagging_freq': 3, 'lambda_l1': 2.4726954474628e-06, 'lambda_l2': 3.9083346716813084e-07, 'min_child_samples': 33, 'max_depth': 9, 'max_bin': 315, 'min_data_in_leaf': 34, 'extra_trees': False, 'early_stopping_rounds': 18, 'path_smooth': 0.9006575746401073, 'min_gain_to_split': 0.03236911827874378}. Best is trial 6 with value: 0.001158291164702125.\n"
     ]
    },
    {
     "name": "stdout",
     "output_type": "stream",
     "text": [
      "Mejor trial hasta ahora: RMSE=0.001158, Parámetros={'num_leaves': 59, 'learning_rate': 0.042808491617570936, 'feature_fraction': 0.610167650697638, 'bagging_fraction': 0.7323674280979913, 'bagging_freq': 1, 'lambda_l1': 0.005341874754868531, 'lambda_l2': 6.748446817464346e-06, 'min_child_samples': 30, 'max_depth': 10, 'max_bin': 199, 'min_data_in_leaf': 53, 'extra_trees': True, 'early_stopping_rounds': 13, 'path_smooth': 0.289751452913768, 'min_gain_to_split': 0.08061064362700221}\n"
     ]
    },
    {
     "name": "stderr",
     "output_type": "stream",
     "text": [
      "[I 2025-06-30 00:49:57,064] Trial 60 finished with value: 6.667597814393474 and parameters: {'num_leaves': 48, 'learning_rate': 0.24765176010596301, 'feature_fraction': 0.8300954381930773, 'bagging_fraction': 0.7158644340956578, 'bagging_freq': 9, 'lambda_l1': 8.976958750423909e-06, 'lambda_l2': 0.9811824554038986, 'min_child_samples': 48, 'max_depth': 10, 'max_bin': 346, 'min_data_in_leaf': 29, 'extra_trees': False, 'early_stopping_rounds': 35, 'path_smooth': 0.09638754225277754, 'min_gain_to_split': 0.3412128700132272}. Best is trial 6 with value: 0.001158291164702125.\n"
     ]
    },
    {
     "name": "stdout",
     "output_type": "stream",
     "text": [
      "Mejor trial hasta ahora: RMSE=0.001158, Parámetros={'num_leaves': 59, 'learning_rate': 0.042808491617570936, 'feature_fraction': 0.610167650697638, 'bagging_fraction': 0.7323674280979913, 'bagging_freq': 1, 'lambda_l1': 0.005341874754868531, 'lambda_l2': 6.748446817464346e-06, 'min_child_samples': 30, 'max_depth': 10, 'max_bin': 199, 'min_data_in_leaf': 53, 'extra_trees': True, 'early_stopping_rounds': 13, 'path_smooth': 0.289751452913768, 'min_gain_to_split': 0.08061064362700221}\n"
     ]
    },
    {
     "name": "stderr",
     "output_type": "stream",
     "text": [
      "[I 2025-06-30 00:52:02,985] Trial 61 finished with value: 3.302783397638193 and parameters: {'num_leaves': 74, 'learning_rate': 0.14034749273965968, 'feature_fraction': 0.7211045951744793, 'bagging_fraction': 0.7254536708662377, 'bagging_freq': 4, 'lambda_l1': 7.051104131658462e-08, 'lambda_l2': 0.03861368891461302, 'min_child_samples': 28, 'max_depth': 7, 'max_bin': 253, 'min_data_in_leaf': 22, 'extra_trees': True, 'early_stopping_rounds': 21, 'path_smooth': 0.4453001988401365, 'min_gain_to_split': 0.16656436790120238}. Best is trial 6 with value: 0.001158291164702125.\n"
     ]
    },
    {
     "name": "stdout",
     "output_type": "stream",
     "text": [
      "Mejor trial hasta ahora: RMSE=0.001158, Parámetros={'num_leaves': 59, 'learning_rate': 0.042808491617570936, 'feature_fraction': 0.610167650697638, 'bagging_fraction': 0.7323674280979913, 'bagging_freq': 1, 'lambda_l1': 0.005341874754868531, 'lambda_l2': 6.748446817464346e-06, 'min_child_samples': 30, 'max_depth': 10, 'max_bin': 199, 'min_data_in_leaf': 53, 'extra_trees': True, 'early_stopping_rounds': 13, 'path_smooth': 0.289751452913768, 'min_gain_to_split': 0.08061064362700221}\n"
     ]
    },
    {
     "name": "stderr",
     "output_type": "stream",
     "text": [
      "[I 2025-06-30 00:53:42,489] Trial 62 finished with value: 4.0432299026365595 and parameters: {'num_leaves': 32, 'learning_rate': 0.2974822775580209, 'feature_fraction': 0.7650361256251803, 'bagging_fraction': 0.8470717815089055, 'bagging_freq': 2, 'lambda_l1': 2.206662120504735e-08, 'lambda_l2': 2.698138202526071e-05, 'min_child_samples': 36, 'max_depth': 10, 'max_bin': 204, 'min_data_in_leaf': 73, 'extra_trees': True, 'early_stopping_rounds': 27, 'path_smooth': 0.5184681508997016, 'min_gain_to_split': 0.20555901666286036}. Best is trial 6 with value: 0.001158291164702125.\n"
     ]
    },
    {
     "name": "stdout",
     "output_type": "stream",
     "text": [
      "Mejor trial hasta ahora: RMSE=0.001158, Parámetros={'num_leaves': 59, 'learning_rate': 0.042808491617570936, 'feature_fraction': 0.610167650697638, 'bagging_fraction': 0.7323674280979913, 'bagging_freq': 1, 'lambda_l1': 0.005341874754868531, 'lambda_l2': 6.748446817464346e-06, 'min_child_samples': 30, 'max_depth': 10, 'max_bin': 199, 'min_data_in_leaf': 53, 'extra_trees': True, 'early_stopping_rounds': 13, 'path_smooth': 0.289751452913768, 'min_gain_to_split': 0.08061064362700221}\n"
     ]
    },
    {
     "name": "stderr",
     "output_type": "stream",
     "text": [
      "[I 2025-06-30 01:00:00,553] Trial 63 finished with value: 11.709687258907639 and parameters: {'num_leaves': 87, 'learning_rate': 0.034473965433419594, 'feature_fraction': 0.688865498683139, 'bagging_fraction': 0.7630389664222782, 'bagging_freq': 5, 'lambda_l1': 0.001017809698229271, 'lambda_l2': 0.2577691786453594, 'min_child_samples': 42, 'max_depth': 6, 'max_bin': 366, 'min_data_in_leaf': 20, 'extra_trees': False, 'early_stopping_rounds': 15, 'path_smooth': 0.7560981571114435, 'min_gain_to_split': 0.10880637386372334}. Best is trial 6 with value: 0.001158291164702125.\n"
     ]
    },
    {
     "name": "stdout",
     "output_type": "stream",
     "text": [
      "Mejor trial hasta ahora: RMSE=0.001158, Parámetros={'num_leaves': 59, 'learning_rate': 0.042808491617570936, 'feature_fraction': 0.610167650697638, 'bagging_fraction': 0.7323674280979913, 'bagging_freq': 1, 'lambda_l1': 0.005341874754868531, 'lambda_l2': 6.748446817464346e-06, 'min_child_samples': 30, 'max_depth': 10, 'max_bin': 199, 'min_data_in_leaf': 53, 'extra_trees': True, 'early_stopping_rounds': 13, 'path_smooth': 0.289751452913768, 'min_gain_to_split': 0.08061064362700221}\n"
     ]
    },
    {
     "name": "stderr",
     "output_type": "stream",
     "text": [
      "[I 2025-06-30 01:02:11,442] Trial 64 finished with value: 2.195516748495206 and parameters: {'num_leaves': 70, 'learning_rate': 0.21452954913241762, 'feature_fraction': 0.6011117946918656, 'bagging_fraction': 0.8822410395406273, 'bagging_freq': 3, 'lambda_l1': 3.7977385894547785e-07, 'lambda_l2': 3.767016562854649e-06, 'min_child_samples': 25, 'max_depth': 8, 'max_bin': 425, 'min_data_in_leaf': 52, 'extra_trees': True, 'early_stopping_rounds': 29, 'path_smooth': 0.2111835531171458, 'min_gain_to_split': 0.12638417820570863}. Best is trial 6 with value: 0.001158291164702125.\n"
     ]
    },
    {
     "name": "stdout",
     "output_type": "stream",
     "text": [
      "Mejor trial hasta ahora: RMSE=0.001158, Parámetros={'num_leaves': 59, 'learning_rate': 0.042808491617570936, 'feature_fraction': 0.610167650697638, 'bagging_fraction': 0.7323674280979913, 'bagging_freq': 1, 'lambda_l1': 0.005341874754868531, 'lambda_l2': 6.748446817464346e-06, 'min_child_samples': 30, 'max_depth': 10, 'max_bin': 199, 'min_data_in_leaf': 53, 'extra_trees': True, 'early_stopping_rounds': 13, 'path_smooth': 0.289751452913768, 'min_gain_to_split': 0.08061064362700221}\n"
     ]
    },
    {
     "name": "stderr",
     "output_type": "stream",
     "text": [
      "[I 2025-06-30 01:07:01,153] Trial 65 finished with value: 2.872884138239094 and parameters: {'num_leaves': 100, 'learning_rate': 0.07833957441887288, 'feature_fraction': 0.8743249141887899, 'bagging_fraction': 0.9076343890252017, 'bagging_freq': 1, 'lambda_l1': 2.0067730616990686e-06, 'lambda_l2': 1.0325112314265467e-07, 'min_child_samples': 32, 'max_depth': 9, 'max_bin': 474, 'min_data_in_leaf': 27, 'extra_trees': True, 'early_stopping_rounds': 35, 'path_smooth': 0.030530233309008892, 'min_gain_to_split': 0.14989213661978817}. Best is trial 6 with value: 0.001158291164702125.\n"
     ]
    },
    {
     "name": "stdout",
     "output_type": "stream",
     "text": [
      "Mejor trial hasta ahora: RMSE=0.001158, Parámetros={'num_leaves': 59, 'learning_rate': 0.042808491617570936, 'feature_fraction': 0.610167650697638, 'bagging_fraction': 0.7323674280979913, 'bagging_freq': 1, 'lambda_l1': 0.005341874754868531, 'lambda_l2': 6.748446817464346e-06, 'min_child_samples': 30, 'max_depth': 10, 'max_bin': 199, 'min_data_in_leaf': 53, 'extra_trees': True, 'early_stopping_rounds': 13, 'path_smooth': 0.289751452913768, 'min_gain_to_split': 0.08061064362700221}\n"
     ]
    },
    {
     "name": "stderr",
     "output_type": "stream",
     "text": [
      "[I 2025-06-30 01:10:21,678] Trial 66 finished with value: 7.95697977270992 and parameters: {'num_leaves': 51, 'learning_rate': 0.03760202258983195, 'feature_fraction': 0.8186808142041505, 'bagging_fraction': 0.7335063725691879, 'bagging_freq': 6, 'lambda_l1': 8.478783801751503e-07, 'lambda_l2': 0.0021362303214849864, 'min_child_samples': 31, 'max_depth': 7, 'max_bin': 240, 'min_data_in_leaf': 95, 'extra_trees': True, 'early_stopping_rounds': 39, 'path_smooth': 0.2918548254167997, 'min_gain_to_split': 0.3302447657523592}. Best is trial 6 with value: 0.001158291164702125.\n"
     ]
    },
    {
     "name": "stdout",
     "output_type": "stream",
     "text": [
      "Mejor trial hasta ahora: RMSE=0.001158, Parámetros={'num_leaves': 59, 'learning_rate': 0.042808491617570936, 'feature_fraction': 0.610167650697638, 'bagging_fraction': 0.7323674280979913, 'bagging_freq': 1, 'lambda_l1': 0.005341874754868531, 'lambda_l2': 6.748446817464346e-06, 'min_child_samples': 30, 'max_depth': 10, 'max_bin': 199, 'min_data_in_leaf': 53, 'extra_trees': True, 'early_stopping_rounds': 13, 'path_smooth': 0.289751452913768, 'min_gain_to_split': 0.08061064362700221}\n"
     ]
    },
    {
     "name": "stderr",
     "output_type": "stream",
     "text": [
      "[I 2025-06-30 01:13:10,853] Trial 67 finished with value: 57.996183550015814 and parameters: {'num_leaves': 24, 'learning_rate': 0.061030701662364455, 'feature_fraction': 0.7847411257002807, 'bagging_fraction': 0.7099688832999878, 'bagging_freq': 7, 'lambda_l1': 2.3467254262855743e-07, 'lambda_l2': 3.3835571827033893e-07, 'min_child_samples': 29, 'max_depth': 4, 'max_bin': 395, 'min_data_in_leaf': 67, 'extra_trees': False, 'early_stopping_rounds': 11, 'path_smooth': 0.5539120122487817, 'min_gain_to_split': 0.06824519700416878}. Best is trial 6 with value: 0.001158291164702125.\n"
     ]
    },
    {
     "name": "stdout",
     "output_type": "stream",
     "text": [
      "Mejor trial hasta ahora: RMSE=0.001158, Parámetros={'num_leaves': 59, 'learning_rate': 0.042808491617570936, 'feature_fraction': 0.610167650697638, 'bagging_fraction': 0.7323674280979913, 'bagging_freq': 1, 'lambda_l1': 0.005341874754868531, 'lambda_l2': 6.748446817464346e-06, 'min_child_samples': 30, 'max_depth': 10, 'max_bin': 199, 'min_data_in_leaf': 53, 'extra_trees': True, 'early_stopping_rounds': 13, 'path_smooth': 0.289751452913768, 'min_gain_to_split': 0.08061064362700221}\n"
     ]
    },
    {
     "name": "stderr",
     "output_type": "stream",
     "text": [
      "[I 2025-06-30 01:15:50,602] Trial 68 finished with value: 98.462107295068 and parameters: {'num_leaves': 47, 'learning_rate': 0.04720424818788646, 'feature_fraction': 0.7025960550695486, 'bagging_fraction': 0.8682425119392283, 'bagging_freq': 8, 'lambda_l1': 5.0905136911883744e-08, 'lambda_l2': 1.2362711673959513e-06, 'min_child_samples': 50, 'max_depth': 3, 'max_bin': 268, 'min_data_in_leaf': 32, 'extra_trees': False, 'early_stopping_rounds': 13, 'path_smooth': 0.8205641855175438, 'min_gain_to_split': 0.04376490870753164}. Best is trial 6 with value: 0.001158291164702125.\n"
     ]
    },
    {
     "name": "stdout",
     "output_type": "stream",
     "text": [
      "Mejor trial hasta ahora: RMSE=0.001158, Parámetros={'num_leaves': 59, 'learning_rate': 0.042808491617570936, 'feature_fraction': 0.610167650697638, 'bagging_fraction': 0.7323674280979913, 'bagging_freq': 1, 'lambda_l1': 0.005341874754868531, 'lambda_l2': 6.748446817464346e-06, 'min_child_samples': 30, 'max_depth': 10, 'max_bin': 199, 'min_data_in_leaf': 53, 'extra_trees': True, 'early_stopping_rounds': 13, 'path_smooth': 0.289751452913768, 'min_gain_to_split': 0.08061064362700221}\n"
     ]
    },
    {
     "name": "stderr",
     "output_type": "stream",
     "text": [
      "[I 2025-06-30 01:19:26,832] Trial 69 finished with value: 14.568964518218905 and parameters: {'num_leaves': 41, 'learning_rate': 0.09850655661617769, 'feature_fraction': 0.9245826779918879, 'bagging_fraction': 0.7634521063793515, 'bagging_freq': 8, 'lambda_l1': 5.131445266883285e-06, 'lambda_l2': 7.952049505896054e-05, 'min_child_samples': 24, 'max_depth': 7, 'max_bin': 326, 'min_data_in_leaf': 42, 'extra_trees': False, 'early_stopping_rounds': 10, 'path_smooth': 0.6251530489206609, 'min_gain_to_split': 0.017272593884831544}. Best is trial 6 with value: 0.001158291164702125.\n"
     ]
    },
    {
     "name": "stdout",
     "output_type": "stream",
     "text": [
      "Mejor trial hasta ahora: RMSE=0.001158, Parámetros={'num_leaves': 59, 'learning_rate': 0.042808491617570936, 'feature_fraction': 0.610167650697638, 'bagging_fraction': 0.7323674280979913, 'bagging_freq': 1, 'lambda_l1': 0.005341874754868531, 'lambda_l2': 6.748446817464346e-06, 'min_child_samples': 30, 'max_depth': 10, 'max_bin': 199, 'min_data_in_leaf': 53, 'extra_trees': True, 'early_stopping_rounds': 13, 'path_smooth': 0.289751452913768, 'min_gain_to_split': 0.08061064362700221}\n",
      "Estudio guardado en: sqlite:///optuna_studies_v14.db\n",
      "\n",
      "Mejores hiperparámetros encontrados:\n",
      "num_leaves: 59\n",
      "learning_rate: 0.042808491617570936\n",
      "feature_fraction: 0.610167650697638\n",
      "bagging_fraction: 0.7323674280979913\n",
      "bagging_freq: 1\n",
      "lambda_l1: 0.005341874754868531\n",
      "lambda_l2: 6.748446817464346e-06\n",
      "min_child_samples: 30\n",
      "max_depth: 10\n",
      "max_bin: 199\n",
      "min_data_in_leaf: 53\n",
      "extra_trees: True\n",
      "early_stopping_rounds: 13\n",
      "path_smooth: 0.289751452913768\n",
      "min_gain_to_split: 0.08061064362700221\n"
     ]
    },
    {
     "data": {
      "text/plain": [
       "(<optuna.study.study.Study at 0x15646bf5dd0>,\n",
       " {'num_leaves': 59,\n",
       "  'learning_rate': 0.042808491617570936,\n",
       "  'feature_fraction': 0.610167650697638,\n",
       "  'bagging_fraction': 0.7323674280979913,\n",
       "  'bagging_freq': 1,\n",
       "  'lambda_l1': 0.005341874754868531,\n",
       "  'lambda_l2': 6.748446817464346e-06,\n",
       "  'min_child_samples': 30,\n",
       "  'max_depth': 10,\n",
       "  'max_bin': 199,\n",
       "  'min_data_in_leaf': 53,\n",
       "  'extra_trees': True,\n",
       "  'early_stopping_rounds': 13,\n",
       "  'path_smooth': 0.289751452913768,\n",
       "  'min_gain_to_split': 0.08061064362700221,\n",
       "  'objective': 'regression',\n",
       "  'metric': 'rmse',\n",
       "  'boosting_type': 'gbdt',\n",
       "  'verbosity': -1})"
      ]
     },
     "execution_count": 35,
     "metadata": {},
     "output_type": "execute_result"
    }
   ],
   "source": [
    "model_lgb.optimizar_con_optuna_con_semillerio_db(train, version=\"v14\")"
   ]
  },
  {
   "cell_type": "markdown",
   "id": "99697cdb",
   "metadata": {},
   "source": [
    "Prediccion"
   ]
  },
  {
   "cell_type": "code",
   "execution_count": 38,
   "id": "2cff69ee",
   "metadata": {},
   "outputs": [],
   "source": [
    "df_future = model_lgb.semillerio_en_prediccion_con_pesos(train, test, version=\"v1\")"
   ]
  },
  {
   "cell_type": "code",
   "execution_count": 39,
   "id": "793edd1d",
   "metadata": {},
   "outputs": [
    {
     "data": {
      "application/vnd.microsoft.datawrangler.viewer.v0+json": {
       "columns": [
        {
         "name": "index",
         "rawType": "int64",
         "type": "integer"
        },
        {
         "name": "periodo",
         "rawType": "int64",
         "type": "integer"
        },
        {
         "name": "product_id",
         "rawType": "int64",
         "type": "integer"
        },
        {
         "name": "target",
         "rawType": "float64",
         "type": "float"
        },
        {
         "name": "pred",
         "rawType": "float64",
         "type": "float"
        }
       ],
       "ref": "b7f232ea-37bb-4b59-9653-dd891b91618e",
       "rows": [
        [
         "30476",
         "201912",
         "20001",
         "0.0",
         "1490.5238185340509"
        ],
        [
         "30477",
         "201912",
         "20002",
         "0.0",
         "1176.6011767794141"
        ],
        [
         "30478",
         "201912",
         "20003",
         "0.0",
         "760.6533730225121"
        ],
        [
         "30479",
         "201912",
         "20004",
         "0.0",
         "713.9711331373322"
        ],
        [
         "30480",
         "201912",
         "20005",
         "0.0",
         "610.8168940073323"
        ],
        [
         "30481",
         "201912",
         "20006",
         "0.0",
         "376.7064571849695"
        ],
        [
         "30482",
         "201912",
         "20007",
         "0.0",
         "430.9686918093233"
        ],
        [
         "30483",
         "201912",
         "20008",
         "0.0",
         "305.58862471300233"
        ],
        [
         "30484",
         "201912",
         "20009",
         "0.0",
         "529.145253178925"
        ],
        [
         "30485",
         "201912",
         "20010",
         "0.0",
         "330.9154001436592"
        ],
        [
         "30486",
         "201912",
         "20011",
         "0.0",
         "275.1610172394497"
        ],
        [
         "30487",
         "201912",
         "20012",
         "0.0",
         "277.8974228365917"
        ],
        [
         "30488",
         "201912",
         "20013",
         "0.0",
         "397.3243893103235"
        ],
        [
         "30489",
         "201912",
         "20014",
         "0.0",
         "334.68007916067603"
        ],
        [
         "30490",
         "201912",
         "20015",
         "0.0",
         "253.63207389763002"
        ],
        [
         "30491",
         "201912",
         "20016",
         "0.0",
         "244.36984580537592"
        ],
        [
         "30492",
         "201912",
         "20017",
         "0.0",
         "182.23786174472318"
        ],
        [
         "30493",
         "201912",
         "20018",
         "0.0",
         "209.31210100023623"
        ],
        [
         "30494",
         "201912",
         "20019",
         "0.0",
         "266.3183531201177"
        ],
        [
         "30495",
         "201912",
         "20020",
         "0.0",
         "222.81783227972537"
        ],
        [
         "30496",
         "201912",
         "20021",
         "0.0",
         "210.60962851585123"
        ],
        [
         "30497",
         "201912",
         "20022",
         "0.0",
         "215.0341519699552"
        ],
        [
         "30498",
         "201912",
         "20023",
         "0.0",
         "171.80619743910515"
        ],
        [
         "30499",
         "201912",
         "20024",
         "0.0",
         "128.75542472969238"
        ],
        [
         "30500",
         "201912",
         "20025",
         "0.0",
         "175.03869149891662"
        ],
        [
         "30501",
         "201912",
         "20026",
         "0.0",
         "204.20620608218496"
        ],
        [
         "30502",
         "201912",
         "20027",
         "0.0",
         "197.90318505434362"
        ],
        [
         "30503",
         "201912",
         "20028",
         "0.0",
         "162.8249846145366"
        ],
        [
         "30504",
         "201912",
         "20029",
         "0.0",
         "144.3478498813368"
        ],
        [
         "30505",
         "201912",
         "20030",
         "0.0",
         "80.02218962898986"
        ],
        [
         "30506",
         "201912",
         "20031",
         "0.0",
         "133.60787864079498"
        ],
        [
         "30507",
         "201912",
         "20032",
         "0.0",
         "495.66762039836374"
        ],
        [
         "30508",
         "201912",
         "20033",
         "0.0",
         "89.40437974987034"
        ],
        [
         "30509",
         "201912",
         "20035",
         "0.0",
         "144.75514510284523"
        ],
        [
         "30510",
         "201912",
         "20037",
         "0.0",
         "131.9879353828301"
        ],
        [
         "30511",
         "201912",
         "20038",
         "0.0",
         "122.1823518848526"
        ],
        [
         "30512",
         "201912",
         "20039",
         "0.0",
         "147.3813108345558"
        ],
        [
         "30513",
         "201912",
         "20041",
         "0.0",
         "90.25915700396243"
        ],
        [
         "30514",
         "201912",
         "20042",
         "0.0",
         "137.335890927682"
        ],
        [
         "30515",
         "201912",
         "20043",
         "0.0",
         "107.04984389016595"
        ],
        [
         "30516",
         "201912",
         "20044",
         "0.0",
         "84.27644353773186"
        ],
        [
         "30517",
         "201912",
         "20045",
         "0.0",
         "130.61803553873247"
        ],
        [
         "30518",
         "201912",
         "20046",
         "0.0",
         "115.41454480267018"
        ],
        [
         "30519",
         "201912",
         "20047",
         "0.0",
         "100.63719297871543"
        ],
        [
         "30520",
         "201912",
         "20048",
         "0.0",
         "77.8816545849595"
        ],
        [
         "30521",
         "201912",
         "20049",
         "0.0",
         "133.56580278192632"
        ],
        [
         "30522",
         "201912",
         "20050",
         "0.0",
         "86.44535647313305"
        ],
        [
         "30523",
         "201912",
         "20051",
         "0.0",
         "66.1453222364861"
        ],
        [
         "30524",
         "201912",
         "20052",
         "0.0",
         "88.57397961321897"
        ],
        [
         "30525",
         "201912",
         "20053",
         "0.0",
         "127.03312247280186"
        ]
       ],
       "shape": {
        "columns": 4,
        "rows": 886
       }
      },
      "text/html": [
       "<div>\n",
       "<style scoped>\n",
       "    .dataframe tbody tr th:only-of-type {\n",
       "        vertical-align: middle;\n",
       "    }\n",
       "\n",
       "    .dataframe tbody tr th {\n",
       "        vertical-align: top;\n",
       "    }\n",
       "\n",
       "    .dataframe thead th {\n",
       "        text-align: right;\n",
       "    }\n",
       "</style>\n",
       "<table border=\"1\" class=\"dataframe\">\n",
       "  <thead>\n",
       "    <tr style=\"text-align: right;\">\n",
       "      <th></th>\n",
       "      <th>periodo</th>\n",
       "      <th>product_id</th>\n",
       "      <th>target</th>\n",
       "      <th>pred</th>\n",
       "    </tr>\n",
       "  </thead>\n",
       "  <tbody>\n",
       "    <tr>\n",
       "      <th>30476</th>\n",
       "      <td>201912</td>\n",
       "      <td>20001</td>\n",
       "      <td>0.0</td>\n",
       "      <td>1490.523819</td>\n",
       "    </tr>\n",
       "    <tr>\n",
       "      <th>30477</th>\n",
       "      <td>201912</td>\n",
       "      <td>20002</td>\n",
       "      <td>0.0</td>\n",
       "      <td>1176.601177</td>\n",
       "    </tr>\n",
       "    <tr>\n",
       "      <th>30478</th>\n",
       "      <td>201912</td>\n",
       "      <td>20003</td>\n",
       "      <td>0.0</td>\n",
       "      <td>760.653373</td>\n",
       "    </tr>\n",
       "    <tr>\n",
       "      <th>30479</th>\n",
       "      <td>201912</td>\n",
       "      <td>20004</td>\n",
       "      <td>0.0</td>\n",
       "      <td>713.971133</td>\n",
       "    </tr>\n",
       "    <tr>\n",
       "      <th>30480</th>\n",
       "      <td>201912</td>\n",
       "      <td>20005</td>\n",
       "      <td>0.0</td>\n",
       "      <td>610.816894</td>\n",
       "    </tr>\n",
       "    <tr>\n",
       "      <th>...</th>\n",
       "      <td>...</td>\n",
       "      <td>...</td>\n",
       "      <td>...</td>\n",
       "      <td>...</td>\n",
       "    </tr>\n",
       "    <tr>\n",
       "      <th>31357</th>\n",
       "      <td>201912</td>\n",
       "      <td>21265</td>\n",
       "      <td>0.0</td>\n",
       "      <td>-8.235051</td>\n",
       "    </tr>\n",
       "    <tr>\n",
       "      <th>31358</th>\n",
       "      <td>201912</td>\n",
       "      <td>21266</td>\n",
       "      <td>0.0</td>\n",
       "      <td>-8.913198</td>\n",
       "    </tr>\n",
       "    <tr>\n",
       "      <th>31359</th>\n",
       "      <td>201912</td>\n",
       "      <td>21267</td>\n",
       "      <td>0.0</td>\n",
       "      <td>-5.841841</td>\n",
       "    </tr>\n",
       "    <tr>\n",
       "      <th>31360</th>\n",
       "      <td>201912</td>\n",
       "      <td>21271</td>\n",
       "      <td>0.0</td>\n",
       "      <td>-1.394455</td>\n",
       "    </tr>\n",
       "    <tr>\n",
       "      <th>31361</th>\n",
       "      <td>201912</td>\n",
       "      <td>21276</td>\n",
       "      <td>0.0</td>\n",
       "      <td>-3.092464</td>\n",
       "    </tr>\n",
       "  </tbody>\n",
       "</table>\n",
       "<p>886 rows × 4 columns</p>\n",
       "</div>"
      ],
      "text/plain": [
       "       periodo  product_id  target         pred\n",
       "30476   201912       20001     0.0  1490.523819\n",
       "30477   201912       20002     0.0  1176.601177\n",
       "30478   201912       20003     0.0   760.653373\n",
       "30479   201912       20004     0.0   713.971133\n",
       "30480   201912       20005     0.0   610.816894\n",
       "...        ...         ...     ...          ...\n",
       "31357   201912       21265     0.0    -8.235051\n",
       "31358   201912       21266     0.0    -8.913198\n",
       "31359   201912       21267     0.0    -5.841841\n",
       "31360   201912       21271     0.0    -1.394455\n",
       "31361   201912       21276     0.0    -3.092464\n",
       "\n",
       "[886 rows x 4 columns]"
      ]
     },
     "execution_count": 39,
     "metadata": {},
     "output_type": "execute_result"
    }
   ],
   "source": [
    "df_future"
   ]
  },
  {
   "cell_type": "code",
   "execution_count": null,
   "id": "d0ab5e05",
   "metadata": {},
   "outputs": [
    {
     "data": {
      "application/vnd.microsoft.datawrangler.viewer.v0+json": {
       "columns": [
        {
         "name": "index",
         "rawType": "int64",
         "type": "integer"
        },
        {
         "name": "periodo",
         "rawType": "int64",
         "type": "integer"
        },
        {
         "name": "product_id",
         "rawType": "int64",
         "type": "integer"
        },
        {
         "name": "target",
         "rawType": "float64",
         "type": "float"
        },
        {
         "name": "pred",
         "rawType": "float64",
         "type": "float"
        }
       ],
       "ref": "6fedff74-18c6-4dda-9439-86a384618341",
       "rows": [
        [
         "30476",
         "201912",
         "20001",
         "0.0",
         "1490.5238185340509"
        ],
        [
         "30477",
         "201912",
         "20002",
         "0.0",
         "1176.6011767794141"
        ],
        [
         "30478",
         "201912",
         "20003",
         "0.0",
         "760.6533730225121"
        ],
        [
         "30479",
         "201912",
         "20004",
         "0.0",
         "713.9711331373322"
        ],
        [
         "30480",
         "201912",
         "20005",
         "0.0",
         "610.8168940073323"
        ],
        [
         "30481",
         "201912",
         "20006",
         "0.0",
         "376.7064571849695"
        ],
        [
         "30482",
         "201912",
         "20007",
         "0.0",
         "430.9686918093233"
        ],
        [
         "30483",
         "201912",
         "20008",
         "0.0",
         "305.58862471300233"
        ],
        [
         "30484",
         "201912",
         "20009",
         "0.0",
         "529.145253178925"
        ],
        [
         "30485",
         "201912",
         "20010",
         "0.0",
         "330.9154001436592"
        ],
        [
         "30486",
         "201912",
         "20011",
         "0.0",
         "275.1610172394497"
        ],
        [
         "30487",
         "201912",
         "20012",
         "0.0",
         "277.8974228365917"
        ],
        [
         "30488",
         "201912",
         "20013",
         "0.0",
         "397.3243893103235"
        ],
        [
         "30489",
         "201912",
         "20014",
         "0.0",
         "334.68007916067603"
        ],
        [
         "30490",
         "201912",
         "20015",
         "0.0",
         "253.63207389763002"
        ],
        [
         "30491",
         "201912",
         "20016",
         "0.0",
         "244.36984580537592"
        ],
        [
         "30492",
         "201912",
         "20017",
         "0.0",
         "182.23786174472318"
        ],
        [
         "30493",
         "201912",
         "20018",
         "0.0",
         "209.31210100023623"
        ],
        [
         "30494",
         "201912",
         "20019",
         "0.0",
         "266.3183531201177"
        ],
        [
         "30495",
         "201912",
         "20020",
         "0.0",
         "222.81783227972537"
        ],
        [
         "30496",
         "201912",
         "20021",
         "0.0",
         "210.60962851585123"
        ],
        [
         "30497",
         "201912",
         "20022",
         "0.0",
         "215.0341519699552"
        ],
        [
         "30498",
         "201912",
         "20023",
         "0.0",
         "171.80619743910515"
        ],
        [
         "30499",
         "201912",
         "20024",
         "0.0",
         "128.75542472969238"
        ],
        [
         "30500",
         "201912",
         "20025",
         "0.0",
         "175.03869149891662"
        ],
        [
         "30501",
         "201912",
         "20026",
         "0.0",
         "204.20620608218496"
        ],
        [
         "30502",
         "201912",
         "20027",
         "0.0",
         "197.90318505434362"
        ],
        [
         "30503",
         "201912",
         "20028",
         "0.0",
         "162.8249846145366"
        ],
        [
         "30504",
         "201912",
         "20029",
         "0.0",
         "144.3478498813368"
        ],
        [
         "30505",
         "201912",
         "20030",
         "0.0",
         "80.02218962898986"
        ],
        [
         "30506",
         "201912",
         "20031",
         "0.0",
         "133.60787864079498"
        ],
        [
         "30507",
         "201912",
         "20032",
         "0.0",
         "495.66762039836374"
        ],
        [
         "30508",
         "201912",
         "20033",
         "0.0",
         "89.40437974987034"
        ],
        [
         "30509",
         "201912",
         "20035",
         "0.0",
         "144.75514510284523"
        ],
        [
         "30510",
         "201912",
         "20037",
         "0.0",
         "131.9879353828301"
        ],
        [
         "30511",
         "201912",
         "20038",
         "0.0",
         "122.1823518848526"
        ],
        [
         "30512",
         "201912",
         "20039",
         "0.0",
         "147.3813108345558"
        ],
        [
         "30513",
         "201912",
         "20041",
         "0.0",
         "90.25915700396243"
        ],
        [
         "30514",
         "201912",
         "20042",
         "0.0",
         "137.335890927682"
        ],
        [
         "30515",
         "201912",
         "20043",
         "0.0",
         "107.04984389016595"
        ],
        [
         "30516",
         "201912",
         "20044",
         "0.0",
         "84.27644353773186"
        ],
        [
         "30517",
         "201912",
         "20045",
         "0.0",
         "130.61803553873247"
        ],
        [
         "30518",
         "201912",
         "20046",
         "0.0",
         "115.41454480267018"
        ],
        [
         "30519",
         "201912",
         "20047",
         "0.0",
         "100.63719297871543"
        ],
        [
         "30521",
         "201912",
         "20049",
         "0.0",
         "133.56580278192632"
        ],
        [
         "30522",
         "201912",
         "20050",
         "0.0",
         "86.44535647313305"
        ],
        [
         "30523",
         "201912",
         "20051",
         "0.0",
         "66.1453222364861"
        ],
        [
         "30524",
         "201912",
         "20052",
         "0.0",
         "88.57397961321897"
        ],
        [
         "30525",
         "201912",
         "20053",
         "0.0",
         "127.03312247280186"
        ],
        [
         "30526",
         "201912",
         "20054",
         "0.0",
         "93.74336871485988"
        ]
       ],
       "shape": {
        "columns": 4,
        "rows": 780
       }
      },
      "text/html": [
       "<div>\n",
       "<style scoped>\n",
       "    .dataframe tbody tr th:only-of-type {\n",
       "        vertical-align: middle;\n",
       "    }\n",
       "\n",
       "    .dataframe tbody tr th {\n",
       "        vertical-align: top;\n",
       "    }\n",
       "\n",
       "    .dataframe thead th {\n",
       "        text-align: right;\n",
       "    }\n",
       "</style>\n",
       "<table border=\"1\" class=\"dataframe\">\n",
       "  <thead>\n",
       "    <tr style=\"text-align: right;\">\n",
       "      <th></th>\n",
       "      <th>periodo</th>\n",
       "      <th>product_id</th>\n",
       "      <th>target</th>\n",
       "      <th>pred</th>\n",
       "    </tr>\n",
       "  </thead>\n",
       "  <tbody>\n",
       "    <tr>\n",
       "      <th>30476</th>\n",
       "      <td>201912</td>\n",
       "      <td>20001</td>\n",
       "      <td>0.0</td>\n",
       "      <td>1490.523819</td>\n",
       "    </tr>\n",
       "    <tr>\n",
       "      <th>30477</th>\n",
       "      <td>201912</td>\n",
       "      <td>20002</td>\n",
       "      <td>0.0</td>\n",
       "      <td>1176.601177</td>\n",
       "    </tr>\n",
       "    <tr>\n",
       "      <th>30478</th>\n",
       "      <td>201912</td>\n",
       "      <td>20003</td>\n",
       "      <td>0.0</td>\n",
       "      <td>760.653373</td>\n",
       "    </tr>\n",
       "    <tr>\n",
       "      <th>30479</th>\n",
       "      <td>201912</td>\n",
       "      <td>20004</td>\n",
       "      <td>0.0</td>\n",
       "      <td>713.971133</td>\n",
       "    </tr>\n",
       "    <tr>\n",
       "      <th>30480</th>\n",
       "      <td>201912</td>\n",
       "      <td>20005</td>\n",
       "      <td>0.0</td>\n",
       "      <td>610.816894</td>\n",
       "    </tr>\n",
       "    <tr>\n",
       "      <th>...</th>\n",
       "      <td>...</td>\n",
       "      <td>...</td>\n",
       "      <td>...</td>\n",
       "      <td>...</td>\n",
       "    </tr>\n",
       "    <tr>\n",
       "      <th>31355</th>\n",
       "      <td>201912</td>\n",
       "      <td>21263</td>\n",
       "      <td>0.0</td>\n",
       "      <td>-6.386380</td>\n",
       "    </tr>\n",
       "    <tr>\n",
       "      <th>31357</th>\n",
       "      <td>201912</td>\n",
       "      <td>21265</td>\n",
       "      <td>0.0</td>\n",
       "      <td>-8.235051</td>\n",
       "    </tr>\n",
       "    <tr>\n",
       "      <th>31358</th>\n",
       "      <td>201912</td>\n",
       "      <td>21266</td>\n",
       "      <td>0.0</td>\n",
       "      <td>-8.913198</td>\n",
       "    </tr>\n",
       "    <tr>\n",
       "      <th>31359</th>\n",
       "      <td>201912</td>\n",
       "      <td>21267</td>\n",
       "      <td>0.0</td>\n",
       "      <td>-5.841841</td>\n",
       "    </tr>\n",
       "    <tr>\n",
       "      <th>31361</th>\n",
       "      <td>201912</td>\n",
       "      <td>21276</td>\n",
       "      <td>0.0</td>\n",
       "      <td>-3.092464</td>\n",
       "    </tr>\n",
       "  </tbody>\n",
       "</table>\n",
       "<p>780 rows × 4 columns</p>\n",
       "</div>"
      ],
      "text/plain": [
       "       periodo  product_id  target         pred\n",
       "30476   201912       20001     0.0  1490.523819\n",
       "30477   201912       20002     0.0  1176.601177\n",
       "30478   201912       20003     0.0   760.653373\n",
       "30479   201912       20004     0.0   713.971133\n",
       "30480   201912       20005     0.0   610.816894\n",
       "...        ...         ...     ...          ...\n",
       "31355   201912       21263     0.0    -6.386380\n",
       "31357   201912       21265     0.0    -8.235051\n",
       "31358   201912       21266     0.0    -8.913198\n",
       "31359   201912       21267     0.0    -5.841841\n",
       "31361   201912       21276     0.0    -3.092464\n",
       "\n",
       "[780 rows x 4 columns]"
      ]
     },
     "execution_count": 41,
     "metadata": {},
     "output_type": "execute_result"
    }
   ],
   "source": [
    "productos_ok = pd.read_csv(\"https://storage.googleapis.com/open-courses/austral2025-af91/labo3v/product_id_apredecir201912.txt\", sep=\"\\t\")\n",
    "df_future = df_future[df_future['periodo'] == 201912]\n",
    "df_future = df_future[df_future['product_id'].isin(productos_ok['product_id'].unique())]\n"
   ]
  },
  {
   "cell_type": "code",
   "execution_count": null,
   "id": "09ff8fd8",
   "metadata": {},
   "outputs": [
    {
     "data": {
      "application/vnd.microsoft.datawrangler.viewer.v0+json": {
       "columns": [
        {
         "name": "index",
         "rawType": "int64",
         "type": "integer"
        },
        {
         "name": "product_id",
         "rawType": "int64",
         "type": "integer"
        },
        {
         "name": "pred",
         "rawType": "float64",
         "type": "float"
        },
        {
         "name": "tn",
         "rawType": "float64",
         "type": "float"
        }
       ],
       "ref": "1818bbad-1c4b-42f6-8ea5-cc213f3fcf2e",
       "rows": [
        [
         "0",
         "20001",
         "1232.7643362474146",
         "1232.7643362474146"
        ],
        [
         "1",
         "20002",
         "1135.4990143417845",
         "1135.4990143417845"
        ],
        [
         "2",
         "20003",
         "683.8697482214533",
         "683.8697482214533"
        ],
        [
         "3",
         "20004",
         "551.448541821773",
         "551.448541821773"
        ],
        [
         "4",
         "20005",
         "546.3464337223663",
         "546.3464337223663"
        ],
        [
         "5",
         "20006",
         "376.7064571849695",
         "477.51035980329175"
        ],
        [
         "6",
         "20007",
         "430.9686918093233",
         "404.8862461824637"
        ],
        [
         "7",
         "20008",
         "305.58862471300233",
         "416.7692653804349"
        ],
        [
         "8",
         "20009",
         "529.145253178925",
         "470.1256817362127"
        ],
        [
         "9",
         "20010",
         "330.9154001436592",
         "411.4366614500751"
        ],
        [
         "10",
         "20011",
         "275.1610172394497",
         "373.1739110006838"
        ],
        [
         "11",
         "20012",
         "277.8974228365917",
         "313.498035781696"
        ],
        [
         "12",
         "20013",
         "397.3243893103235",
         "379.9337662316634"
        ],
        [
         "13",
         "20014",
         "334.68007916067603",
         "385.98736491070144"
        ],
        [
         "14",
         "20015",
         "253.63207389763002",
         "344.0620069318061"
        ],
        [
         "15",
         "20016",
         "244.36984580537592",
         "274.62820185613407"
        ],
        [
         "16",
         "20017",
         "182.23786174472318",
         "277.0631983483384"
        ],
        [
         "17",
         "20018",
         "209.31210100023623",
         "278.3825185766289"
        ],
        [
         "18",
         "20019",
         "266.3183531201177",
         "300.0752066177584"
        ],
        [
         "19",
         "20020",
         "222.81783227972537",
         "267.61676159470267"
        ],
        [
         "20",
         "20021",
         "210.60962851585123",
         "240.88301469607737"
        ],
        [
         "21",
         "20022",
         "215.0341519699552",
         "251.5875005134351"
        ],
        [
         "22",
         "20023",
         "171.80619743910515",
         "217.73300507780223"
        ],
        [
         "23",
         "20024",
         "128.75542472969238",
         "192.5688846943561"
        ],
        [
         "24",
         "20025",
         "175.03869149891662",
         "201.595350781838"
        ],
        [
         "25",
         "20026",
         "204.20620608218496",
         "244.3252309505501"
        ],
        [
         "26",
         "20027",
         "197.90318505434362",
         "216.495017279163"
        ],
        [
         "27",
         "20028",
         "162.8249846145366",
         "215.5981902300205"
        ],
        [
         "28",
         "20029",
         "144.3478498813368",
         "189.4083841787772"
        ],
        [
         "29",
         "20030",
         "80.02218962898986",
         "128.37617645413275"
        ],
        [
         "30",
         "20031",
         "133.60787864079498",
         "194.26929532762324"
        ],
        [
         "31",
         "20032",
         "495.66762039836374",
         "558.5893324355286"
        ],
        [
         "32",
         "20033",
         "89.40437974987034",
         "125.81686245967484"
        ],
        [
         "33",
         "20035",
         "144.75514510284523",
         "162.64972984925728"
        ],
        [
         "34",
         "20037",
         "131.9879353828301",
         "172.92764577579354"
        ],
        [
         "35",
         "20038",
         "122.1823518848526",
         "164.77937892649695"
        ],
        [
         "36",
         "20039",
         "147.3813108345558",
         "137.4510493204554"
        ],
        [
         "37",
         "20041",
         "90.25915700396243",
         "134.94239014794266"
        ],
        [
         "38",
         "20042",
         "137.335890927682",
         "159.43144728076112"
        ],
        [
         "39",
         "20043",
         "107.04984389016595",
         "131.40837059891516"
        ],
        [
         "40",
         "20044",
         "84.27644353773186",
         "171.5783720289696"
        ],
        [
         "41",
         "20045",
         "130.61803553873247",
         "143.81022877204634"
        ],
        [
         "42",
         "20046",
         "115.41454480267018",
         "138.15014153652473"
        ],
        [
         "43",
         "20047",
         "100.63719297871543",
         "163.9505483355428"
        ],
        [
         "44",
         "20049",
         "133.56580278192632",
         "164.90686047577404"
        ],
        [
         "45",
         "20050",
         "86.44535647313305",
         "119.9070316440193"
        ],
        [
         "46",
         "20051",
         "66.1453222364861",
         "135.49245569409345"
        ],
        [
         "47",
         "20052",
         "88.57397961321897",
         "104.75333299081215"
        ],
        [
         "48",
         "20053",
         "127.03312247280186",
         "147.30795609851646"
        ],
        [
         "49",
         "20054",
         "93.74336871485988",
         "139.1090544897968"
        ]
       ],
       "shape": {
        "columns": 3,
        "rows": 780
       }
      },
      "text/html": [
       "<div>\n",
       "<style scoped>\n",
       "    .dataframe tbody tr th:only-of-type {\n",
       "        vertical-align: middle;\n",
       "    }\n",
       "\n",
       "    .dataframe tbody tr th {\n",
       "        vertical-align: top;\n",
       "    }\n",
       "\n",
       "    .dataframe thead th {\n",
       "        text-align: right;\n",
       "    }\n",
       "</style>\n",
       "<table border=\"1\" class=\"dataframe\">\n",
       "  <thead>\n",
       "    <tr style=\"text-align: right;\">\n",
       "      <th></th>\n",
       "      <th>product_id</th>\n",
       "      <th>pred</th>\n",
       "      <th>tn</th>\n",
       "    </tr>\n",
       "  </thead>\n",
       "  <tbody>\n",
       "    <tr>\n",
       "      <th>0</th>\n",
       "      <td>20001</td>\n",
       "      <td>1232.764336</td>\n",
       "      <td>1232.764336</td>\n",
       "    </tr>\n",
       "    <tr>\n",
       "      <th>1</th>\n",
       "      <td>20002</td>\n",
       "      <td>1135.499014</td>\n",
       "      <td>1135.499014</td>\n",
       "    </tr>\n",
       "    <tr>\n",
       "      <th>2</th>\n",
       "      <td>20003</td>\n",
       "      <td>683.869748</td>\n",
       "      <td>683.869748</td>\n",
       "    </tr>\n",
       "    <tr>\n",
       "      <th>3</th>\n",
       "      <td>20004</td>\n",
       "      <td>551.448542</td>\n",
       "      <td>551.448542</td>\n",
       "    </tr>\n",
       "    <tr>\n",
       "      <th>4</th>\n",
       "      <td>20005</td>\n",
       "      <td>546.346434</td>\n",
       "      <td>546.346434</td>\n",
       "    </tr>\n",
       "    <tr>\n",
       "      <th>...</th>\n",
       "      <td>...</td>\n",
       "      <td>...</td>\n",
       "      <td>...</td>\n",
       "    </tr>\n",
       "    <tr>\n",
       "      <th>775</th>\n",
       "      <td>21263</td>\n",
       "      <td>0.249044</td>\n",
       "      <td>0.249044</td>\n",
       "    </tr>\n",
       "    <tr>\n",
       "      <th>776</th>\n",
       "      <td>21265</td>\n",
       "      <td>0.072234</td>\n",
       "      <td>0.072234</td>\n",
       "    </tr>\n",
       "    <tr>\n",
       "      <th>777</th>\n",
       "      <td>21266</td>\n",
       "      <td>0.076151</td>\n",
       "      <td>0.076151</td>\n",
       "    </tr>\n",
       "    <tr>\n",
       "      <th>778</th>\n",
       "      <td>21267</td>\n",
       "      <td>0.075869</td>\n",
       "      <td>0.075869</td>\n",
       "    </tr>\n",
       "    <tr>\n",
       "      <th>779</th>\n",
       "      <td>21276</td>\n",
       "      <td>0.037895</td>\n",
       "      <td>0.037895</td>\n",
       "    </tr>\n",
       "  </tbody>\n",
       "</table>\n",
       "<p>780 rows × 3 columns</p>\n",
       "</div>"
      ],
      "text/plain": [
       "     product_id         pred           tn\n",
       "0         20001  1232.764336  1232.764336\n",
       "1         20002  1135.499014  1135.499014\n",
       "2         20003   683.869748   683.869748\n",
       "3         20004   551.448542   551.448542\n",
       "4         20005   546.346434   546.346434\n",
       "..          ...          ...          ...\n",
       "775       21263     0.249044     0.249044\n",
       "776       21265     0.072234     0.072234\n",
       "777       21266     0.076151     0.076151\n",
       "778       21267     0.075869     0.075869\n",
       "779       21276     0.037895     0.037895\n",
       "\n",
       "[780 rows x 3 columns]"
      ]
     },
     "execution_count": 44,
     "metadata": {},
     "output_type": "execute_result"
    }
   ],
   "source": [
    "linear_regression = pd.read_csv(\"./outputs/predicciones_regresion_lineal_v2.csv\", sep=',', encoding='utf-8')\n",
    "df_future = df_future[['product_id', 'pred']]\n",
    "df_future = df_future.merge(linear_regression, on='product_id', how='left')\n",
    "df_future.loc[df_future['pred'] < 0, 'pred'] = df_future['tn']\n",
    "# Definir el rango de product_ids\n",
    "mask = (df_future['product_id'] >= 20001) & (df_future['product_id'] <= 20005)\n",
    "\n",
    "# Asignar el valor de tn a pred para esos productos\n",
    "df_future.loc[mask, 'pred'] = df_future.loc[mask, 'tn']\n",
    "df_future\n",
    "\n"
   ]
  },
  {
   "cell_type": "code",
   "execution_count": 45,
   "id": "d2cddb61",
   "metadata": {},
   "outputs": [],
   "source": [
    "df_future.drop(columns=['tn'], inplace=True)\n",
    "df_future.rename(columns={'pred': 'tn'}, inplace=True)\n",
    "df_future.to_csv(\"./outputs/predicciones_exp_07_lgb_v1.csv\", index=False, sep=',')"
   ]
  },
  {
   "cell_type": "markdown",
   "id": "a1ea63eb",
   "metadata": {},
   "source": [
    "Feature importance"
   ]
  },
  {
   "cell_type": "code",
   "execution_count": 78,
   "id": "60e96a4f",
   "metadata": {},
   "outputs": [],
   "source": [
    "model_lgb.feature_importance(df, models, \"05\")"
   ]
  },
  {
   "cell_type": "code",
   "execution_count": 79,
   "id": "18b2c7df",
   "metadata": {},
   "outputs": [
    {
     "data": {
      "application/vnd.microsoft.datawrangler.viewer.v0+json": {
       "columns": [
        {
         "name": "index",
         "rawType": "int64",
         "type": "integer"
        },
        {
         "name": "feature",
         "rawType": "object",
         "type": "string"
        },
        {
         "name": "importance",
         "rawType": "float64",
         "type": "float"
        }
       ],
       "ref": "1f51023d-c067-4e2d-a426-a0f960dcc1bd",
       "rows": [
        [
         "16",
         "yearly_add",
         "0.025628317625392704"
        ],
        [
         "0",
         "product_id",
         "0.01794421574645819"
        ],
        [
         "1084",
         "tn_seasonal_naive",
         "0.014613425173629917"
        ],
        [
         "1119",
         "naive_forecast_error",
         "0.014388262978610719"
        ],
        [
         "1080",
         "tn_ytd_sum",
         "0.012997982342108113"
        ],
        [
         "1101",
         "cat2_avg_tn",
         "0.011976326749238675"
        ],
        [
         "1076",
         "tn_seasonality",
         "0.011506254589005643"
        ],
        [
         "1075",
         "tn_trend",
         "0.010463534707928596"
        ],
        [
         "17",
         "trend_mult",
         "0.009442104803861385"
        ],
        [
         "1086",
         "tn_best_month_rank",
         "0.009299093332851864"
        ],
        [
         "1091",
         "corr_tn_dolar_x_prod",
         "0.0089718445696265"
        ],
        [
         "1074",
         "tn_seasonal_diff_6",
         "0.00874664475980693"
        ],
        [
         "1093",
         "cust_request_ratio",
         "0.008603445214795556"
        ],
        [
         "15",
         "trend_add",
         "0.008256599140577041"
        ],
        [
         "1112",
         "tn_elecciones_legislativas_1_interaction",
         "0.00782812894955404"
        ],
        [
         "1083",
         "tn_naive_forecast",
         "0.007459315831919017"
        ],
        [
         "1117",
         "yearly_trend_interaction",
         "0.007255180310307058"
        ],
        [
         "18",
         "yearly_mult",
         "0.006867146029682592"
        ],
        [
         "1097",
         "tn_per_sku_size",
         "0.00656058540666113"
        ],
        [
         "1130",
         "tn_momentum_3",
         "0.0065398220368564864"
        ],
        [
         "1078",
         "tn_ewm_alpha_0.5",
         "0.006458197920051999"
        ],
        [
         "1133",
         "tn_trend_add_ratio",
         "0.006416934484045306"
        ],
        [
         "48",
         "tn_rolling_std_2",
         "0.006356111351845832"
        ],
        [
         "1100",
         "tn_life_velocity",
         "0.006294498308838575"
        ],
        [
         "1092",
         "tn_to_stock_ratio",
         "0.006193088807039083"
        ],
        [
         "12",
         "cust_request_qty",
         "0.006172287822434068"
        ],
        [
         "1120",
         "trend_season_std_interaction",
         "0.006151862985832761"
        ],
        [
         "1090",
         "corr_tn_ipc",
         "0.006008512981619904"
        ],
        [
         "510",
         "cust_request_qty_rolling_std_2",
         "0.006008437752019163"
        ],
        [
         "40",
         "tn_delta_lag4_lag6",
         "0.005803850852802754"
        ],
        [
         "1123",
         "tn_lag2_minus_rolling_median3",
         "0.005701425751393253"
        ],
        [
         "24",
         "tn_delta_lag1_lag2",
         "0.005538440821386873"
        ],
        [
         "29",
         "tn_delta_lag1_lag7",
         "0.005538177517784278"
        ],
        [
         "1089",
         "corr_tn_dolar",
         "0.005457042393384609"
        ],
        [
         "1124",
         "tn_acceleration_1_2",
         "0.005456666245380903"
        ],
        [
         "42",
         "tn_delta_lag5_lag6",
         "0.005313692389171752"
        ],
        [
         "1111",
         "month_life_interaction",
         "0.005253057330974133"
        ],
        [
         "130",
         "autocorr_lag_4",
         "0.005252756412571166"
        ],
        [
         "1125",
         "tn_acceleration_2_3",
         "0.005252493108968572"
        ],
        [
         "25",
         "tn_delta_lag1_lag3",
         "0.005170793762563343"
        ],
        [
         "36",
         "tn_delta_lag3_lag5",
         "0.005149879933557216"
        ],
        [
         "26",
         "tn_delta_lag1_lag4",
         "0.005047943824552534"
        ],
        [
         "128",
         "autocorr_lag_2",
         "0.004844109221343541"
        ],
        [
         "39",
         "tn_delta_lag4_lag5",
         "0.004823157777537043"
        ],
        [
         "1072",
         "tn_expanding_mean",
         "0.0048028834001372185"
        ],
        [
         "31",
         "tn_delta_lag2_lag4",
         "0.004782609022737395"
        ],
        [
         "30",
         "tn_delta_lag2_lag3",
         "0.004680334380529376"
        ],
        [
         "45",
         "tn_delta_lag7_lag8",
         "0.004679281166118996"
        ],
        [
         "35",
         "tn_delta_lag3_lag4",
         "0.004598710263724889"
        ],
        [
         "1088",
         "ipc",
         "0.004598296500920811"
        ]
       ],
       "shape": {
        "columns": 2,
        "rows": 1135
       }
      },
      "text/html": [
       "<div>\n",
       "<style scoped>\n",
       "    .dataframe tbody tr th:only-of-type {\n",
       "        vertical-align: middle;\n",
       "    }\n",
       "\n",
       "    .dataframe tbody tr th {\n",
       "        vertical-align: top;\n",
       "    }\n",
       "\n",
       "    .dataframe thead th {\n",
       "        text-align: right;\n",
       "    }\n",
       "</style>\n",
       "<table border=\"1\" class=\"dataframe\">\n",
       "  <thead>\n",
       "    <tr style=\"text-align: right;\">\n",
       "      <th></th>\n",
       "      <th>feature</th>\n",
       "      <th>importance</th>\n",
       "    </tr>\n",
       "  </thead>\n",
       "  <tbody>\n",
       "    <tr>\n",
       "      <th>16</th>\n",
       "      <td>yearly_add</td>\n",
       "      <td>0.025628</td>\n",
       "    </tr>\n",
       "    <tr>\n",
       "      <th>0</th>\n",
       "      <td>product_id</td>\n",
       "      <td>0.017944</td>\n",
       "    </tr>\n",
       "    <tr>\n",
       "      <th>1084</th>\n",
       "      <td>tn_seasonal_naive</td>\n",
       "      <td>0.014613</td>\n",
       "    </tr>\n",
       "    <tr>\n",
       "      <th>1119</th>\n",
       "      <td>naive_forecast_error</td>\n",
       "      <td>0.014388</td>\n",
       "    </tr>\n",
       "    <tr>\n",
       "      <th>1080</th>\n",
       "      <td>tn_ytd_sum</td>\n",
       "      <td>0.012998</td>\n",
       "    </tr>\n",
       "    <tr>\n",
       "      <th>...</th>\n",
       "      <td>...</td>\n",
       "      <td>...</td>\n",
       "    </tr>\n",
       "    <tr>\n",
       "      <th>1053</th>\n",
       "      <td>stock_final_rolling_max_18</td>\n",
       "      <td>0.000000</td>\n",
       "    </tr>\n",
       "    <tr>\n",
       "      <th>1052</th>\n",
       "      <td>stock_final_rolling_max_17</td>\n",
       "      <td>0.000000</td>\n",
       "    </tr>\n",
       "    <tr>\n",
       "      <th>1051</th>\n",
       "      <td>stock_final_rolling_max_16</td>\n",
       "      <td>0.000000</td>\n",
       "    </tr>\n",
       "    <tr>\n",
       "      <th>1050</th>\n",
       "      <td>stock_final_rolling_max_15</td>\n",
       "      <td>0.000000</td>\n",
       "    </tr>\n",
       "    <tr>\n",
       "      <th>630</th>\n",
       "      <td>stock_final_lag_14</td>\n",
       "      <td>0.000000</td>\n",
       "    </tr>\n",
       "  </tbody>\n",
       "</table>\n",
       "<p>1135 rows × 2 columns</p>\n",
       "</div>"
      ],
      "text/plain": [
       "                         feature  importance\n",
       "16                    yearly_add    0.025628\n",
       "0                     product_id    0.017944\n",
       "1084           tn_seasonal_naive    0.014613\n",
       "1119        naive_forecast_error    0.014388\n",
       "1080                  tn_ytd_sum    0.012998\n",
       "...                          ...         ...\n",
       "1053  stock_final_rolling_max_18    0.000000\n",
       "1052  stock_final_rolling_max_17    0.000000\n",
       "1051  stock_final_rolling_max_16    0.000000\n",
       "1050  stock_final_rolling_max_15    0.000000\n",
       "630           stock_final_lag_14    0.000000\n",
       "\n",
       "[1135 rows x 2 columns]"
      ]
     },
     "execution_count": 79,
     "metadata": {},
     "output_type": "execute_result"
    }
   ],
   "source": [
    "importances = model_lgb.feature_importance_promedio(models, df.drop(columns=['target']))\n",
    "importances.sort_values(by='importance', ascending=False, inplace=True) \n",
    "importances"
   ]
  }
 ],
 "metadata": {
  "kernelspec": {
   "display_name": "py311lab3",
   "language": "python",
   "name": "python3"
  },
  "language_info": {
   "codemirror_mode": {
    "name": "ipython",
    "version": 3
   },
   "file_extension": ".py",
   "mimetype": "text/x-python",
   "name": "python",
   "nbconvert_exporter": "python",
   "pygments_lexer": "ipython3",
   "version": "3.11.13"
  }
 },
 "nbformat": 4,
 "nbformat_minor": 5
}
