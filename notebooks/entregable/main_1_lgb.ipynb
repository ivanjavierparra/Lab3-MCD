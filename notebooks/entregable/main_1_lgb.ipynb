{
 "cells": [
  {
   "cell_type": "code",
   "execution_count": 253,
   "id": "dbae8eac",
   "metadata": {},
   "outputs": [],
   "source": [
    "import pandas as pd\n",
    "import numpy as np\n",
    "import importlib\n",
    "import gc\n",
    "import sys\n",
    "import warnings\n",
    "sys.path.append('./scripts')  \n",
    "import preprocesamiento\n",
    "import feature_engineering\n",
    "import model_lgb\n",
    "importlib.reload(preprocesamiento)\n",
    "importlib.reload(model_lgb)\n",
    "importlib.reload(feature_engineering)\n",
    "warnings.filterwarnings(\"ignore\")"
   ]
  },
  {
   "cell_type": "markdown",
   "id": "3e128128",
   "metadata": {},
   "source": [
    "##### Levantamos el dataset con target ya calculado"
   ]
  },
  {
   "cell_type": "code",
   "execution_count": 254,
   "id": "23d157af",
   "metadata": {},
   "outputs": [
    {
     "data": {
      "text/plain": [
       "(31362, 19)"
      ]
     },
     "execution_count": 254,
     "metadata": {},
     "output_type": "execute_result"
    }
   ],
   "source": [
    "df = pd.read_csv(\"./datasets/periodo_x_producto_con_target.csv\", sep=',', encoding='utf-8')\n",
    "df.shape"
   ]
  },
  {
   "cell_type": "markdown",
   "id": "b6556d30",
   "metadata": {},
   "source": [
    "##### Preprocesamiento a la minima expresión :)"
   ]
  },
  {
   "cell_type": "code",
   "execution_count": 255,
   "id": "9665b526",
   "metadata": {},
   "outputs": [
    {
     "data": {
      "text/plain": [
       "(31362, 162)"
      ]
     },
     "execution_count": 255,
     "metadata": {},
     "output_type": "execute_result"
    }
   ],
   "source": [
    "##### aplicamos OHE\n",
    "df = preprocesamiento.aplicarOHE(df)\n",
    "df.shape"
   ]
  },
  {
   "cell_type": "markdown",
   "id": "902b1e13",
   "metadata": {},
   "source": [
    "### Feature Engineering"
   ]
  },
  {
   "cell_type": "markdown",
   "id": "2bd77df9",
   "metadata": {},
   "source": [
    "##### Neural Prophet"
   ]
  },
  {
   "cell_type": "code",
   "execution_count": 256,
   "id": "34d306ff",
   "metadata": {},
   "outputs": [
    {
     "data": {
      "text/plain": [
       "(31362, 165)"
      ]
     },
     "execution_count": 256,
     "metadata": {},
     "output_type": "execute_result"
    }
   ],
   "source": [
    "neural_prophet_fe = pd.read_csv(\"./datasets/features_neuralprophet_completo.csv\", sep=',', encoding='utf-8')\n",
    "neural_prophet_fe['ds'] = pd.to_datetime(neural_prophet_fe['ds'], errors='coerce')\n",
    "# Versión alternativa más robusta:\n",
    "neural_prophet_fe['periodo'] = neural_prophet_fe['ds'].apply(\n",
    "    lambda x: x.year * 100 + x.month if pd.notnull(x) else None\n",
    ")\n",
    "neural_prophet_fe = neural_prophet_fe[['periodo', 'product_id', 'trend', \"season_yearly\", \"season_monthly\"]]\n",
    "df = df.merge(neural_prophet_fe, on=['periodo', 'product_id'], how='left')\n",
    "df.shape"
   ]
  },
  {
   "cell_type": "markdown",
   "id": "ff026986",
   "metadata": {},
   "source": [
    "##### Prophet"
   ]
  },
  {
   "cell_type": "code",
   "execution_count": 257,
   "id": "4318910f",
   "metadata": {},
   "outputs": [
    {
     "data": {
      "text/plain": [
       "(31362, 171)"
      ]
     },
     "execution_count": 257,
     "metadata": {},
     "output_type": "execute_result"
    }
   ],
   "source": [
    "prophet_fe = pd.read_csv(\"./datasets/prophet_features_tn_zscore.csv\", sep=',', encoding='utf-8')\n",
    "prophet_fe['ds'] = pd.to_datetime(prophet_fe['ds'], errors='coerce')\n",
    "prophet_fe['periodo'] = prophet_fe['ds'].apply(\n",
    "    lambda x: x.year * 100 + x.month if pd.notnull(x) else None\n",
    ")\n",
    "prophet_fe = prophet_fe[['periodo', 'product_id', 'trend_add', \"yearly_add\", \"additive_terms\", 'trend_mult', 'yearly_mult', 'multiplicative_terms']]\n",
    "df = df.merge(prophet_fe, on=['periodo', 'product_id'], how='left')\n",
    "df.shape"
   ]
  },
  {
   "cell_type": "markdown",
   "id": "2eb4d3aa",
   "metadata": {},
   "source": [
    "##### FE Moviles"
   ]
  },
  {
   "cell_type": "code",
   "execution_count": 258,
   "id": "7dc30b4c",
   "metadata": {},
   "outputs": [
    {
     "data": {
      "text/plain": [
       "(31362, 626)"
      ]
     },
     "execution_count": 258,
     "metadata": {},
     "output_type": "execute_result"
    }
   ],
   "source": [
    "df = feature_engineering.get_lags(df, \"tn\", 201912)\n",
    "df = feature_engineering.get_delta_lags(df, \"tn\", 24)\n",
    "df = feature_engineering.get_rolling_means(df, \"tn\", 201912)\n",
    "df = feature_engineering.get_rolling_stds(df, \"tn\", 201912)\n",
    "df = feature_engineering.get_rolling_mins(df, \"tn\", 201912)\n",
    "df = feature_engineering.get_rolling_maxs(df, \"tn\", 201912)\n",
    "# df = feature_engineering.get_rolling_medians(df, \"tn\", 201912)\n",
    "# df = feature_engineering.get_rolling_skewness(df, \"tn\", 201912)\n",
    "# df = feature_engineering.get_autocorrelaciones(df, \"tn\", 201912)\n",
    "df.shape"
   ]
  },
  {
   "cell_type": "markdown",
   "id": "e2436c9b",
   "metadata": {},
   "source": [
    "##### FE Moviles sobre otras variables"
   ]
  },
  {
   "cell_type": "code",
   "execution_count": 259,
   "id": "0dca7531",
   "metadata": {},
   "outputs": [],
   "source": [
    "# #  stock final\n",
    "# df = feature_engineering.get_lagsEspecificos(df, col='stock_final_zscore')\n",
    "# df = feature_engineering.get_delta_lags_especificos(df, col='stock_final_zscore')\n",
    "# df = feature_engineering.get_rolling_means_especificos(df, col='stock_final_zscore')\n",
    "# df = feature_engineering.get_rolling_stds_especificos(df, col='stock_final_zscore')\n",
    "# df = feature_engineering.get_rolling_medians_especificos(df, col='stock_final_zscore')\n",
    "# df = feature_engineering.get_rolling_mins_especificos(df, col='stock_final_zscore')\n",
    "# df = feature_engineering.get_rolling_maxs_especificos(df, col='stock_final_zscore')\n",
    "# df = feature_engineering.get_rolling_skewness_especificos(df, col='stock_final_zscore')\n",
    "\n",
    "# #  cust_request_qty\n",
    "# df = feature_engineering.get_lagsEspecificos(df, col='cust_request_qty_zscore')\n",
    "# df = feature_engineering.get_delta_lags_especificos(df, col='cust_request_qty_zscore')\n",
    "# df = feature_engineering.get_rolling_means_especificos(df, col='cust_request_qty_zscore')\n",
    "# df = feature_engineering.get_rolling_stds_especificos(df, col='cust_request_qty_zscore')\n",
    "# df = feature_engineering.get_rolling_medians_especificos(df, col='cust_request_qty_zscore')\n",
    "# df = feature_engineering.get_rolling_mins_especificos(df, col='cust_request_qty_zscore')\n",
    "# df = feature_engineering.get_rolling_maxs_especificos(df, col='cust_request_qty_zscore')\n",
    "# df = feature_engineering.get_rolling_skewness_especificos(df, col='cust_request_qty_zscore')"
   ]
  },
  {
   "cell_type": "markdown",
   "id": "6fb9716d",
   "metadata": {},
   "source": [
    "##### FE Calendario"
   ]
  },
  {
   "cell_type": "code",
   "execution_count": 260,
   "id": "3e810260",
   "metadata": {},
   "outputs": [
    {
     "data": {
      "text/plain": [
       "(31362, 651)"
      ]
     },
     "execution_count": 260,
     "metadata": {},
     "output_type": "execute_result"
    }
   ],
   "source": [
    "df = feature_engineering.generar_ids(df)\n",
    "df = feature_engineering.get_componentesTemporales(df)\n",
    "df = feature_engineering.get_anomaliasPoliticas(df)\n",
    "# df = feature_engineering.descomposicion_serie_temporal(df, col='tn')\n",
    "df.shape"
   ]
  },
  {
   "cell_type": "markdown",
   "id": "b34d19db",
   "metadata": {},
   "source": [
    "##### FE sobre FE"
   ]
  },
  {
   "cell_type": "code",
   "execution_count": 261,
   "id": "14345585",
   "metadata": {},
   "outputs": [
    {
     "data": {
      "text/plain": [
       "(31362, 680)"
      ]
     },
     "execution_count": 261,
     "metadata": {},
     "output_type": "execute_result"
    }
   ],
   "source": [
    "df = feature_engineering.chatGPT_features_serie(df, \"tn\")\n",
    "df = feature_engineering.mes_con_feriado(df)\n",
    "df.shape"
   ]
  },
  {
   "cell_type": "markdown",
   "id": "62f1cbad",
   "metadata": {},
   "source": [
    "##### Variables Exogenas"
   ]
  },
  {
   "cell_type": "code",
   "execution_count": 262,
   "id": "d10e572a",
   "metadata": {},
   "outputs": [
    {
     "data": {
      "text/plain": [
       "(31362, 683)"
      ]
     },
     "execution_count": 262,
     "metadata": {},
     "output_type": "execute_result"
    }
   ],
   "source": [
    "df = feature_engineering.get_dolar(df)\n",
    "df = feature_engineering.get_IPC(df)\n",
    "df['ipc'] = df['ipc'].str.replace(',', '.').astype(float)\n",
    "df['dolar'] = df['dolar'].str.replace(',', '.').astype(float)\n",
    "# df.drop(columns=['ds'], inplace=True)\n",
    "df.fillna(0, inplace=True) ##### EXPERIMENTAR\n",
    "df = feature_engineering.correlacion_exogenas(df)\n",
    "df = feature_engineering.get_mes_receso_escolar(df)\n",
    "df.shape"
   ]
  },
  {
   "cell_type": "markdown",
   "id": "4ff4ee13",
   "metadata": {},
   "source": [
    "##### EXP 1\n",
    "\n",
    "-   \n"
   ]
  },
  {
   "cell_type": "code",
   "execution_count": 263,
   "id": "f43f0ecc",
   "metadata": {},
   "outputs": [
    {
     "name": "stderr",
     "output_type": "stream",
     "text": [
      "[I 2025-06-25 23:44:36,469] A new study created in memory with name: no-name-8b2f3921-c1eb-41d0-bf9d-853e0e9356f3\n"
     ]
    },
    {
     "name": "stdout",
     "output_type": "stream",
     "text": [
      "Features: ['product_id', 'periodo', 'nacimiento_producto', 'muerte_producto', 'mes_n', 'total_meses', 'producto_nuevo', 'ciclo_de_vida_inicial', 'sku_size', 'stock_final', 'tn', 'plan_precios_cuidados', 'cust_request_qty', 'cust_request_tn', 'cat1_FOODS', 'cat1_HC', 'cat1_PC', 'cat1_REF', 'cat1_nan', 'cat2_ADEREZOS', 'cat2_CABELLO', 'cat2_DENTAL', 'cat2_DEOS', 'cat2_HOGAR', 'cat2_OTROS', 'cat2_PIEL1', 'cat2_PIEL2', 'cat2_PROFESIONAL', 'cat2_ROPA ACONDICIONADOR', 'cat2_ROPA LAVADO', 'cat2_ROPA MANCHAS', 'cat2_SOPAS Y CALDOS', 'cat2_TE', 'cat2_VAJILLA', 'cat2_nan', 'cat3_ACONDICIONADOR', 'cat3_Acond Bebe', 'cat3_Acond Mujer', 'cat3_Aero', 'cat3_Aji Picante', 'cat3_Almidon', 'cat3_Antigrasa', 'cat3_Azul', 'cat3_BARRAS', 'cat3_Baking Bags', 'cat3_Barbacoa', 'cat3_Barra', 'cat3_Baño', 'cat3_Bizcochuelo', 'cat3_CREMA', 'cat3_CUIDADO ESPECIAL', 'cat3_Caldo Cubo', 'cat3_Caldos Granulados', 'cat3_Cara', 'cat3_Cepilllo', 'cat3_Chimichurri', 'cat3_Concentrado', 'cat3_Cremoso', 'cat3_Cristalino', 'cat3_Cuerpo', 'cat3_DETOX', 'cat3_Desmaquillante', 'cat3_Diluido', 'cat3_Dishes', 'cat3_Especial', 'cat3_Esponja', 'cat3_Frutas', 'cat3_Galletitas', 'cat3_Gel', 'cat3_Gel Ducha', 'cat3_Granolas', 'cat3_Hierbas', 'cat3_INDUSTRIAL', 'cat3_Jabon Antibacterial', 'cat3_Jabon Barba', 'cat3_Jabon Barra', 'cat3_Jabon Bebe', 'cat3_Jabon Glicerina', 'cat3_Jabon Hotel', 'cat3_Jabon Regular', 'cat3_Ketchup', 'cat3_LAVANDINA EN GEL', 'cat3_LIQUIDOS', 'cat3_Ladrillo', 'cat3_Limpieza', 'cat3_Limpieza Cara', 'cat3_Liquido', 'cat3_Mayonesa', 'cat3_Mostaza', 'cat3_NUTRICION', 'cat3_Niños', 'cat3_NoAero', 'cat3_Opaco', 'cat3_PACKS', 'cat3_PISOS', 'cat3_POST WASH', 'cat3_Paño', 'cat3_Pies Aero', 'cat3_Pies NoAero', 'cat3_Pies Talco', 'cat3_Polvo', 'cat3_Pure de Papas', 'cat3_Pure de Tomate', 'cat3_PurePapas', 'cat3_Repelente', 'cat3_RollOn', 'cat3_SHAMPOO', 'cat3_SUAVIZANTE', 'cat3_Salsa Golf', 'cat3_Salsas', 'cat3_Salsas Dry', 'cat3_Salsas Wet', 'cat3_Sazonadores', 'cat3_Shampoo Bebe', 'cat3_Sopas', 'cat3_Stick', 'cat3_Styling', 'cat3_TOILETTE', 'cat3_Talco', 'cat3_Toallitas Bebe', 'cat3_Tratamiento Fem', 'cat3_Tratamiento Masc', 'cat3_Verde', 'cat3_Vidrios', 'cat3_nan', 'brand_ARIEL', 'brand_AYUDIN', 'brand_CAPILATIS', 'brand_COLBERT', 'brand_COLGATE', 'brand_DEOS1', 'brand_DEOS2', 'brand_DEOS3', 'brand_DOWNY', 'brand_ESPADOL', 'brand_GOMINA', 'brand_HARINAMA', 'brand_Importado', 'brand_JABON1', 'brand_LANCOME', 'brand_LIMPIEX', 'brand_MAGGI', 'brand_MAGGI2', 'brand_MAJESTA', 'brand_MAYOS3', 'brand_MOSTAZA1', 'brand_MUSCULO', 'brand_NATURA', 'brand_NIVEA', 'brand_OFF', 'brand_ROPEX1', 'brand_ROPEX2', 'brand_SALSATI', 'brand_SHAMPOO1', 'brand_SHAMPOO2', 'brand_SHAMPOO3', 'brand_SKIN1', 'brand_TWININGS', 'brand_VICHY', 'brand_VIVERE', 'brand_nan', 'trend', 'season_yearly', 'season_monthly', 'trend_add', 'yearly_add', 'additive_terms', 'trend_mult', 'yearly_mult', 'multiplicative_terms', 'tn_lag_1', 'tn_lag_2', 'tn_lag_3', 'tn_lag_4', 'tn_lag_5', 'tn_lag_6', 'tn_lag_7', 'tn_lag_8', 'tn_lag_9', 'tn_lag_10', 'tn_lag_11', 'tn_lag_12', 'tn_lag_13', 'tn_lag_14', 'tn_lag_15', 'tn_lag_16', 'tn_lag_17', 'tn_lag_18', 'tn_lag_19', 'tn_lag_20', 'tn_lag_21', 'tn_lag_22', 'tn_lag_23', 'tn_lag_24', 'tn_lag_25', 'tn_lag_26', 'tn_lag_27', 'tn_lag_28', 'tn_lag_29', 'tn_lag_30', 'tn_lag_31', 'tn_lag_32', 'tn_lag_33', 'tn_lag_34', 'tn_lag_35', 'tn_delta_lag1_lag2', 'tn_delta_lag1_lag3', 'tn_delta_lag1_lag4', 'tn_delta_lag1_lag5', 'tn_delta_lag1_lag6', 'tn_delta_lag1_lag7', 'tn_delta_lag1_lag8', 'tn_delta_lag1_lag9', 'tn_delta_lag1_lag10', 'tn_delta_lag1_lag11', 'tn_delta_lag1_lag12', 'tn_delta_lag1_lag13', 'tn_delta_lag1_lag14', 'tn_delta_lag1_lag15', 'tn_delta_lag1_lag16', 'tn_delta_lag1_lag17', 'tn_delta_lag1_lag18', 'tn_delta_lag1_lag19', 'tn_delta_lag1_lag20', 'tn_delta_lag1_lag21', 'tn_delta_lag1_lag22', 'tn_delta_lag1_lag23', 'tn_delta_lag1_lag24', 'tn_delta_lag2_lag3', 'tn_delta_lag2_lag4', 'tn_delta_lag2_lag5', 'tn_delta_lag2_lag6', 'tn_delta_lag2_lag7', 'tn_delta_lag2_lag8', 'tn_delta_lag2_lag9', 'tn_delta_lag2_lag10', 'tn_delta_lag2_lag11', 'tn_delta_lag2_lag12', 'tn_delta_lag2_lag13', 'tn_delta_lag2_lag14', 'tn_delta_lag2_lag15', 'tn_delta_lag2_lag16', 'tn_delta_lag2_lag17', 'tn_delta_lag2_lag18', 'tn_delta_lag2_lag19', 'tn_delta_lag2_lag20', 'tn_delta_lag2_lag21', 'tn_delta_lag2_lag22', 'tn_delta_lag2_lag23', 'tn_delta_lag2_lag24', 'tn_delta_lag3_lag4', 'tn_delta_lag3_lag5', 'tn_delta_lag3_lag6', 'tn_delta_lag3_lag7', 'tn_delta_lag3_lag8', 'tn_delta_lag3_lag9', 'tn_delta_lag3_lag10', 'tn_delta_lag3_lag11', 'tn_delta_lag3_lag12', 'tn_delta_lag3_lag13', 'tn_delta_lag3_lag14', 'tn_delta_lag3_lag15', 'tn_delta_lag3_lag16', 'tn_delta_lag3_lag17', 'tn_delta_lag3_lag18', 'tn_delta_lag3_lag19', 'tn_delta_lag3_lag20', 'tn_delta_lag3_lag21', 'tn_delta_lag3_lag22', 'tn_delta_lag3_lag23', 'tn_delta_lag3_lag24', 'tn_delta_lag4_lag5', 'tn_delta_lag4_lag6', 'tn_delta_lag4_lag7', 'tn_delta_lag4_lag8', 'tn_delta_lag4_lag9', 'tn_delta_lag4_lag10', 'tn_delta_lag4_lag11', 'tn_delta_lag4_lag12', 'tn_delta_lag4_lag13', 'tn_delta_lag4_lag14', 'tn_delta_lag4_lag15', 'tn_delta_lag4_lag16', 'tn_delta_lag4_lag17', 'tn_delta_lag4_lag18', 'tn_delta_lag4_lag19', 'tn_delta_lag4_lag20', 'tn_delta_lag4_lag21', 'tn_delta_lag4_lag22', 'tn_delta_lag4_lag23', 'tn_delta_lag4_lag24', 'tn_delta_lag5_lag6', 'tn_delta_lag5_lag7', 'tn_delta_lag5_lag8', 'tn_delta_lag5_lag9', 'tn_delta_lag5_lag10', 'tn_delta_lag5_lag11', 'tn_delta_lag5_lag12', 'tn_delta_lag5_lag13', 'tn_delta_lag5_lag14', 'tn_delta_lag5_lag15', 'tn_delta_lag5_lag16', 'tn_delta_lag5_lag17', 'tn_delta_lag5_lag18', 'tn_delta_lag5_lag19', 'tn_delta_lag5_lag20', 'tn_delta_lag5_lag21', 'tn_delta_lag5_lag22', 'tn_delta_lag5_lag23', 'tn_delta_lag5_lag24', 'tn_delta_lag6_lag7', 'tn_delta_lag6_lag8', 'tn_delta_lag6_lag9', 'tn_delta_lag6_lag10', 'tn_delta_lag6_lag11', 'tn_delta_lag6_lag12', 'tn_delta_lag6_lag13', 'tn_delta_lag6_lag14', 'tn_delta_lag6_lag15', 'tn_delta_lag6_lag16', 'tn_delta_lag6_lag17', 'tn_delta_lag6_lag18', 'tn_delta_lag6_lag19', 'tn_delta_lag6_lag20', 'tn_delta_lag6_lag21', 'tn_delta_lag6_lag22', 'tn_delta_lag6_lag23', 'tn_delta_lag6_lag24', 'tn_delta_lag7_lag8', 'tn_delta_lag7_lag9', 'tn_delta_lag7_lag10', 'tn_delta_lag7_lag11', 'tn_delta_lag7_lag12', 'tn_delta_lag7_lag13', 'tn_delta_lag7_lag14', 'tn_delta_lag7_lag15', 'tn_delta_lag7_lag16', 'tn_delta_lag7_lag17', 'tn_delta_lag7_lag18', 'tn_delta_lag7_lag19', 'tn_delta_lag7_lag20', 'tn_delta_lag7_lag21', 'tn_delta_lag7_lag22', 'tn_delta_lag7_lag23', 'tn_delta_lag7_lag24', 'tn_delta_lag8_lag9', 'tn_delta_lag8_lag10', 'tn_delta_lag8_lag11', 'tn_delta_lag8_lag12', 'tn_delta_lag8_lag13', 'tn_delta_lag8_lag14', 'tn_delta_lag8_lag15', 'tn_delta_lag8_lag16', 'tn_delta_lag8_lag17', 'tn_delta_lag8_lag18', 'tn_delta_lag8_lag19', 'tn_delta_lag8_lag20', 'tn_delta_lag8_lag21', 'tn_delta_lag8_lag22', 'tn_delta_lag8_lag23', 'tn_delta_lag8_lag24', 'tn_delta_lag9_lag10', 'tn_delta_lag9_lag11', 'tn_delta_lag9_lag12', 'tn_delta_lag9_lag13', 'tn_delta_lag9_lag14', 'tn_delta_lag9_lag15', 'tn_delta_lag9_lag16', 'tn_delta_lag9_lag17', 'tn_delta_lag9_lag18', 'tn_delta_lag9_lag19', 'tn_delta_lag9_lag20', 'tn_delta_lag9_lag21', 'tn_delta_lag9_lag22', 'tn_delta_lag9_lag23', 'tn_delta_lag9_lag24', 'tn_delta_lag10_lag11', 'tn_delta_lag10_lag12', 'tn_delta_lag10_lag13', 'tn_delta_lag10_lag14', 'tn_delta_lag10_lag15', 'tn_delta_lag10_lag16', 'tn_delta_lag10_lag17', 'tn_delta_lag10_lag18', 'tn_delta_lag10_lag19', 'tn_delta_lag10_lag20', 'tn_delta_lag10_lag21', 'tn_delta_lag10_lag22', 'tn_delta_lag10_lag23', 'tn_delta_lag10_lag24', 'tn_delta_lag11_lag12', 'tn_delta_lag11_lag13', 'tn_delta_lag11_lag14', 'tn_delta_lag11_lag15', 'tn_delta_lag11_lag16', 'tn_delta_lag11_lag17', 'tn_delta_lag11_lag18', 'tn_delta_lag11_lag19', 'tn_delta_lag11_lag20', 'tn_delta_lag11_lag21', 'tn_delta_lag11_lag22', 'tn_delta_lag11_lag23', 'tn_delta_lag11_lag24', 'tn_delta_lag12_lag13', 'tn_delta_lag12_lag14', 'tn_delta_lag12_lag15', 'tn_delta_lag12_lag16', 'tn_delta_lag12_lag17', 'tn_delta_lag12_lag18', 'tn_delta_lag12_lag19', 'tn_delta_lag12_lag20', 'tn_delta_lag12_lag21', 'tn_delta_lag12_lag22', 'tn_delta_lag12_lag23', 'tn_delta_lag12_lag24', 'tn_delta_lag13_lag14', 'tn_delta_lag13_lag15', 'tn_delta_lag13_lag16', 'tn_delta_lag13_lag17', 'tn_delta_lag13_lag18', 'tn_delta_lag13_lag19', 'tn_delta_lag13_lag20', 'tn_delta_lag13_lag21', 'tn_delta_lag13_lag22', 'tn_delta_lag13_lag23', 'tn_delta_lag13_lag24', 'tn_delta_lag14_lag15', 'tn_delta_lag14_lag16', 'tn_delta_lag14_lag17', 'tn_delta_lag14_lag18', 'tn_delta_lag14_lag19', 'tn_delta_lag14_lag20', 'tn_delta_lag14_lag21', 'tn_delta_lag14_lag22', 'tn_delta_lag14_lag23', 'tn_delta_lag14_lag24', 'tn_delta_lag15_lag16', 'tn_delta_lag15_lag17', 'tn_delta_lag15_lag18', 'tn_delta_lag15_lag19', 'tn_delta_lag15_lag20', 'tn_delta_lag15_lag21', 'tn_delta_lag15_lag22', 'tn_delta_lag15_lag23', 'tn_delta_lag15_lag24', 'tn_delta_lag16_lag17', 'tn_delta_lag16_lag18', 'tn_delta_lag16_lag19', 'tn_delta_lag16_lag20', 'tn_delta_lag16_lag21', 'tn_delta_lag16_lag22', 'tn_delta_lag16_lag23', 'tn_delta_lag16_lag24', 'tn_delta_lag17_lag18', 'tn_delta_lag17_lag19', 'tn_delta_lag17_lag20', 'tn_delta_lag17_lag21', 'tn_delta_lag17_lag22', 'tn_delta_lag17_lag23', 'tn_delta_lag17_lag24', 'tn_delta_lag18_lag19', 'tn_delta_lag18_lag20', 'tn_delta_lag18_lag21', 'tn_delta_lag18_lag22', 'tn_delta_lag18_lag23', 'tn_delta_lag18_lag24', 'tn_delta_lag19_lag20', 'tn_delta_lag19_lag21', 'tn_delta_lag19_lag22', 'tn_delta_lag19_lag23', 'tn_delta_lag19_lag24', 'tn_delta_lag20_lag21', 'tn_delta_lag20_lag22', 'tn_delta_lag20_lag23', 'tn_delta_lag20_lag24', 'tn_delta_lag21_lag22', 'tn_delta_lag21_lag23', 'tn_delta_lag21_lag24', 'tn_delta_lag22_lag23', 'tn_delta_lag22_lag24', 'tn_delta_lag23_lag24', 'tn_rolling_mean_1', 'tn_rolling_mean_2', 'tn_rolling_mean_3', 'tn_rolling_mean_4', 'tn_rolling_mean_5', 'tn_rolling_mean_6', 'tn_rolling_mean_7', 'tn_rolling_mean_8', 'tn_rolling_mean_9', 'tn_rolling_mean_10', 'tn_rolling_mean_11', 'tn_rolling_mean_12', 'tn_rolling_mean_13', 'tn_rolling_mean_14', 'tn_rolling_mean_15', 'tn_rolling_mean_16', 'tn_rolling_mean_17', 'tn_rolling_mean_18', 'tn_rolling_mean_19', 'tn_rolling_mean_20', 'tn_rolling_mean_21', 'tn_rolling_mean_22', 'tn_rolling_mean_23', 'tn_rolling_mean_24', 'tn_rolling_mean_25', 'tn_rolling_mean_26', 'tn_rolling_mean_27', 'tn_rolling_mean_28', 'tn_rolling_mean_29', 'tn_rolling_mean_30', 'tn_rolling_mean_31', 'tn_rolling_mean_32', 'tn_rolling_mean_33', 'tn_rolling_mean_34', 'tn_rolling_mean_35', 'tn_rolling_mean_36', 'tn_rolling_std_1', 'tn_rolling_std_2', 'tn_rolling_std_3', 'tn_rolling_std_4', 'tn_rolling_std_5', 'tn_rolling_std_6', 'tn_rolling_std_7', 'tn_rolling_std_8', 'tn_rolling_std_9', 'tn_rolling_std_10', 'tn_rolling_std_11', 'tn_rolling_std_12', 'tn_rolling_std_13', 'tn_rolling_std_14', 'tn_rolling_std_15', 'tn_rolling_std_16', 'tn_rolling_std_17', 'tn_rolling_std_18', 'tn_rolling_std_19', 'tn_rolling_std_20', 'tn_rolling_std_21', 'tn_rolling_std_22', 'tn_rolling_std_23', 'tn_rolling_std_24', 'tn_rolling_std_25', 'tn_rolling_std_26', 'tn_rolling_std_27', 'tn_rolling_std_28', 'tn_rolling_std_29', 'tn_rolling_std_30', 'tn_rolling_std_31', 'tn_rolling_std_32', 'tn_rolling_std_33', 'tn_rolling_std_34', 'tn_rolling_std_35', 'tn_rolling_std_36', 'tn_rolling_min_1', 'tn_rolling_min_2', 'tn_rolling_min_3', 'tn_rolling_min_4', 'tn_rolling_min_5', 'tn_rolling_min_6', 'tn_rolling_min_7', 'tn_rolling_min_8', 'tn_rolling_min_9', 'tn_rolling_min_10', 'tn_rolling_min_11', 'tn_rolling_min_12', 'tn_rolling_min_13', 'tn_rolling_min_14', 'tn_rolling_min_15', 'tn_rolling_min_16', 'tn_rolling_min_17', 'tn_rolling_min_18', 'tn_rolling_min_19', 'tn_rolling_min_20', 'tn_rolling_min_21', 'tn_rolling_min_22', 'tn_rolling_min_23', 'tn_rolling_min_24', 'tn_rolling_min_25', 'tn_rolling_min_26', 'tn_rolling_min_27', 'tn_rolling_min_28', 'tn_rolling_min_29', 'tn_rolling_min_30', 'tn_rolling_min_31', 'tn_rolling_min_32', 'tn_rolling_min_33', 'tn_rolling_min_34', 'tn_rolling_min_35', 'tn_rolling_min_36', 'tn_rolling_max_1', 'tn_rolling_max_2', 'tn_rolling_max_3', 'tn_rolling_max_4', 'tn_rolling_max_5', 'tn_rolling_max_6', 'tn_rolling_max_7', 'tn_rolling_max_8', 'tn_rolling_max_9', 'tn_rolling_max_10', 'tn_rolling_max_11', 'tn_rolling_max_12', 'tn_rolling_max_13', 'tn_rolling_max_14', 'tn_rolling_max_15', 'tn_rolling_max_16', 'tn_rolling_max_17', 'tn_rolling_max_18', 'tn_rolling_max_19', 'tn_rolling_max_20', 'tn_rolling_max_21', 'tn_rolling_max_22', 'tn_rolling_max_23', 'tn_rolling_max_24', 'tn_rolling_max_25', 'tn_rolling_max_26', 'tn_rolling_max_27', 'tn_rolling_max_28', 'tn_rolling_max_29', 'tn_rolling_max_30', 'tn_rolling_max_31', 'tn_rolling_max_32', 'tn_rolling_max_33', 'tn_rolling_max_34', 'tn_rolling_max_35', 'tn_rolling_max_36', 'id', 'year', 'month', 'quarter', 'semester', 'dias_en_mes', 'week_of_year', 'year_end', 'year_start', 'season', 'month_sin', 'month_cos', 'quarter_sin', 'quarter_cos', 'dia_del_year', 'dia_del_year_sin', 'dia_del_year_cos', 'elecciones_legislativas_1', 'elecciones_legislativas_2', 'crisis_cambiaria_1', 'crisis_cambiaria_2', 'las_paso_2019_1', 'las_paso_2019_2', 'devaluacion_post_PASO', 'elecciones_presidenciales_2019', 'tn_expanding_mean', 'tn_cumulative_sum', 'tn_seasonal_diff_6', 'tn_seasonal_diff_12', 'tn_seasonal_diff_18', 'tn_seasonal_diff_24', 'tn_vs_prev_year', 'tn_trend', 'tn_seasonality', 'tn_ewm_alpha_0.3', 'tn_ewm_alpha_0.5', 'tn_rolling_center_mean_3', 'tn_ytd_sum', 'tn_time_index', 'tn_trend_linear', 'tn_trend_quadratic', 'tn_residual_trend', 'tn_ratio_mean6_std6', 'tn_is_outlier_3sigma', 'tn_naive_forecast', 'tn_seasonal_naive', 'tn_ma_forecast_3', 'tn_best_month_rank', 'tn_vs_last_year_same_month', 'tn_last3_vs_ly3', 'contiene_feriado', 'dolar', 'ipc', 'corr_tn_dolar', 'corr_tn_ipc', 'corr_tn_dolar_x_prod', 'receso_escolar', 'tn_scaled']\n",
      "Training until validation scores don't improve for 30 rounds\n",
      "Early stopping, best iteration is:\n",
      "[10]\tvalid_0's l1: 26.7815\n",
      "Training until validation scores don't improve for 30 rounds\n",
      "Early stopping, best iteration is:\n",
      "[17]\tvalid_0's l1: 20.1856\n",
      "Training until validation scores don't improve for 30 rounds\n",
      "Early stopping, best iteration is:\n",
      "[17]\tvalid_0's l1: 21.4642\n",
      "Training until validation scores don't improve for 30 rounds\n",
      "Early stopping, best iteration is:\n",
      "[22]\tvalid_0's l1: 17.1527\n",
      "Training until validation scores don't improve for 30 rounds\n",
      "Early stopping, best iteration is:\n",
      "[15]\tvalid_0's l1: 16.5042\n",
      "Training until validation scores don't improve for 30 rounds\n",
      "Early stopping, best iteration is:\n",
      "[19]\tvalid_0's l1: 15.1433\n",
      "Training until validation scores don't improve for 30 rounds\n",
      "Early stopping, best iteration is:\n",
      "[41]\tvalid_0's l1: 13.5792\n",
      "Training until validation scores don't improve for 30 rounds\n",
      "Early stopping, best iteration is:\n",
      "[26]\tvalid_0's l1: 13.1556\n",
      "Training until validation scores don't improve for 30 rounds\n",
      "Early stopping, best iteration is:\n",
      "[21]\tvalid_0's l1: 13.1676\n",
      "Training until validation scores don't improve for 30 rounds\n",
      "Early stopping, best iteration is:\n",
      "[11]\tvalid_0's l1: 16.3614\n",
      "Training until validation scores don't improve for 30 rounds\n",
      "Early stopping, best iteration is:\n",
      "[15]\tvalid_0's l1: 13.05\n",
      "Training until validation scores don't improve for 30 rounds\n",
      "Early stopping, best iteration is:\n",
      "[14]\tvalid_0's l1: 12.4773\n",
      "Training until validation scores don't improve for 30 rounds\n",
      "Early stopping, best iteration is:\n",
      "[97]\tvalid_0's l1: 10.9719\n",
      "Training until validation scores don't improve for 30 rounds\n",
      "Early stopping, best iteration is:\n",
      "[91]\tvalid_0's l1: 11.8044\n",
      "Training until validation scores don't improve for 30 rounds\n",
      "Early stopping, best iteration is:\n",
      "[26]\tvalid_0's l1: 12.1758\n",
      "Training until validation scores don't improve for 30 rounds\n",
      "Did not meet early stopping. Best iteration is:\n",
      "[759]\tvalid_0's l1: 1.6824\n",
      "Training until validation scores don't improve for 30 rounds\n",
      "Did not meet early stopping. Best iteration is:\n",
      "[759]\tvalid_0's l1: 1.84522\n",
      "Training until validation scores don't improve for 30 rounds\n",
      "Did not meet early stopping. Best iteration is:\n",
      "[759]\tvalid_0's l1: 1.69222\n"
     ]
    },
    {
     "name": "stderr",
     "output_type": "stream",
     "text": [
      "[I 2025-06-25 23:46:27,293] Trial 0 finished with value: 15.59830462682434 and parameters: {'max_depth': 9, 'learning_rate': 0.2536999076681772, 'n_estimators': 759, 'min_child_weight': 6, 'subsample': 0.5780093202212182, 'colsample_bytree': 0.5779972601681014, 'reg_alpha': 0.05808361216819946, 'reg_lambda': 0.8661761457749352}. Best is trial 0 with value: 15.59830462682434.\n"
     ]
    },
    {
     "name": "stdout",
     "output_type": "stream",
     "text": [
      "Training until validation scores don't improve for 30 rounds\n",
      "Early stopping, best iteration is:\n",
      "[27]\tvalid_0's l1: 26.1512\n",
      "Training until validation scores don't improve for 30 rounds\n",
      "Early stopping, best iteration is:\n",
      "[31]\tvalid_0's l1: 28.7795\n",
      "Training until validation scores don't improve for 30 rounds\n",
      "Early stopping, best iteration is:\n",
      "[28]\tvalid_0's l1: 25.1314\n",
      "Training until validation scores don't improve for 30 rounds\n",
      "Early stopping, best iteration is:\n",
      "[49]\tvalid_0's l1: 14.4094\n",
      "Training until validation scores don't improve for 30 rounds\n",
      "Early stopping, best iteration is:\n",
      "[50]\tvalid_0's l1: 14.4708\n",
      "Training until validation scores don't improve for 30 rounds\n",
      "Early stopping, best iteration is:\n",
      "[47]\tvalid_0's l1: 14.4938\n",
      "Training until validation scores don't improve for 30 rounds\n",
      "Early stopping, best iteration is:\n",
      "[53]\tvalid_0's l1: 12.1418\n",
      "Training until validation scores don't improve for 30 rounds\n",
      "Did not meet early stopping. Best iteration is:\n",
      "[118]\tvalid_0's l1: 12.1514\n",
      "Training until validation scores don't improve for 30 rounds\n",
      "Did not meet early stopping. Best iteration is:\n",
      "[116]\tvalid_0's l1: 12.6251\n",
      "Training until validation scores don't improve for 30 rounds\n",
      "Early stopping, best iteration is:\n",
      "[29]\tvalid_0's l1: 14.6195\n",
      "Training until validation scores don't improve for 30 rounds\n",
      "Early stopping, best iteration is:\n",
      "[37]\tvalid_0's l1: 12.4005\n",
      "Training until validation scores don't improve for 30 rounds\n",
      "Early stopping, best iteration is:\n",
      "[29]\tvalid_0's l1: 14.974\n",
      "Training until validation scores don't improve for 30 rounds\n",
      "Did not meet early stopping. Best iteration is:\n",
      "[118]\tvalid_0's l1: 10.6212\n",
      "Training until validation scores don't improve for 30 rounds\n",
      "Did not meet early stopping. Best iteration is:\n",
      "[116]\tvalid_0's l1: 10.8539\n",
      "Training until validation scores don't improve for 30 rounds\n",
      "Did not meet early stopping. Best iteration is:\n",
      "[118]\tvalid_0's l1: 10.8486\n",
      "Training until validation scores don't improve for 30 rounds\n",
      "Did not meet early stopping. Best iteration is:\n",
      "[118]\tvalid_0's l1: 7.0956\n",
      "Training until validation scores don't improve for 30 rounds\n",
      "Did not meet early stopping. Best iteration is:\n",
      "[115]\tvalid_0's l1: 7.47623\n",
      "Training until validation scores don't improve for 30 rounds\n"
     ]
    },
    {
     "name": "stderr",
     "output_type": "stream",
     "text": [
      "[I 2025-06-25 23:47:22,379] Trial 1 finished with value: 15.64481160015418 and parameters: {'max_depth': 13, 'learning_rate': 0.11114989443094977, 'n_estimators': 118, 'min_child_weight': 10, 'subsample': 0.9162213204002109, 'colsample_bytree': 0.6061695553391381, 'reg_alpha': 0.18182496720710062, 'reg_lambda': 0.18340450985343382}. Best is trial 0 with value: 15.59830462682434.\n"
     ]
    },
    {
     "name": "stdout",
     "output_type": "stream",
     "text": [
      "Did not meet early stopping. Best iteration is:\n",
      "[118]\tvalid_0's l1: 7.08846\n",
      "Training until validation scores don't improve for 30 rounds\n",
      "Early stopping, best iteration is:\n",
      "[174]\tvalid_0's l1: 18.6855\n",
      "Training until validation scores don't improve for 30 rounds\n",
      "Early stopping, best iteration is:\n",
      "[73]\tvalid_0's l1: 19.5026\n",
      "Training until validation scores don't improve for 30 rounds\n",
      "Early stopping, best iteration is:\n",
      "[88]\tvalid_0's l1: 19.764\n",
      "Training until validation scores don't improve for 30 rounds\n",
      "Early stopping, best iteration is:\n",
      "[100]\tvalid_0's l1: 13.5629\n",
      "Training until validation scores don't improve for 30 rounds\n",
      "Early stopping, best iteration is:\n",
      "[93]\tvalid_0's l1: 13.3196\n",
      "Training until validation scores don't improve for 30 rounds\n",
      "Early stopping, best iteration is:\n",
      "[94]\tvalid_0's l1: 14.0337\n",
      "Training until validation scores don't improve for 30 rounds\n",
      "Early stopping, best iteration is:\n",
      "[222]\tvalid_0's l1: 10.8279\n",
      "Training until validation scores don't improve for 30 rounds\n",
      "Early stopping, best iteration is:\n",
      "[278]\tvalid_0's l1: 10.8506\n",
      "Training until validation scores don't improve for 30 rounds\n",
      "Early stopping, best iteration is:\n",
      "[266]\tvalid_0's l1: 10.5633\n",
      "Training until validation scores don't improve for 30 rounds\n",
      "Early stopping, best iteration is:\n",
      "[86]\tvalid_0's l1: 11.4607\n",
      "Training until validation scores don't improve for 30 rounds\n",
      "Early stopping, best iteration is:\n",
      "[82]\tvalid_0's l1: 12.0809\n",
      "Training until validation scores don't improve for 30 rounds\n",
      "Early stopping, best iteration is:\n",
      "[84]\tvalid_0's l1: 11.4645\n",
      "Training until validation scores don't improve for 30 rounds\n",
      "Early stopping, best iteration is:\n",
      "[272]\tvalid_0's l1: 9.6316\n",
      "Training until validation scores don't improve for 30 rounds\n",
      "Early stopping, best iteration is:\n",
      "[297]\tvalid_0's l1: 9.73305\n",
      "Training until validation scores don't improve for 30 rounds\n",
      "Early stopping, best iteration is:\n",
      "[262]\tvalid_0's l1: 9.72616\n",
      "Training until validation scores don't improve for 30 rounds\n",
      "Did not meet early stopping. Best iteration is:\n",
      "[489]\tvalid_0's l1: 4.08792\n",
      "Training until validation scores don't improve for 30 rounds\n",
      "Did not meet early stopping. Best iteration is:\n",
      "[489]\tvalid_0's l1: 4.05702\n",
      "Training until validation scores don't improve for 30 rounds\n",
      "Did not meet early stopping. Best iteration is:\n",
      "[489]\tvalid_0's l1: 4.09044\n"
     ]
    },
    {
     "name": "stderr",
     "output_type": "stream",
     "text": [
      "[I 2025-06-25 23:49:28,154] Trial 2 finished with value: 13.013808985164818 and parameters: {'max_depth': 8, 'learning_rate': 0.05958389350068958, 'n_estimators': 489, 'min_child_weight': 3, 'subsample': 0.8059264473611898, 'colsample_bytree': 0.569746930326021, 'reg_alpha': 0.29214464853521815, 'reg_lambda': 0.3663618432936917}. Best is trial 2 with value: 13.013808985164818.\n"
     ]
    },
    {
     "name": "stdout",
     "output_type": "stream",
     "text": [
      "Training until validation scores don't improve for 30 rounds\n",
      "Early stopping, best iteration is:\n",
      "[29]\tvalid_0's l1: 20.4801\n",
      "Training until validation scores don't improve for 30 rounds\n",
      "Early stopping, best iteration is:\n",
      "[86]\tvalid_0's l1: 20.2676\n",
      "Training until validation scores don't improve for 30 rounds\n",
      "Early stopping, best iteration is:\n",
      "[23]\tvalid_0's l1: 20.7131\n",
      "Training until validation scores don't improve for 30 rounds\n",
      "Early stopping, best iteration is:\n",
      "[39]\tvalid_0's l1: 14.4153\n",
      "Training until validation scores don't improve for 30 rounds\n",
      "Early stopping, best iteration is:\n",
      "[47]\tvalid_0's l1: 14.4145\n",
      "Training until validation scores don't improve for 30 rounds\n",
      "Early stopping, best iteration is:\n",
      "[37]\tvalid_0's l1: 14.5572\n",
      "Training until validation scores don't improve for 30 rounds\n",
      "Early stopping, best iteration is:\n",
      "[129]\tvalid_0's l1: 11.3126\n",
      "Training until validation scores don't improve for 30 rounds\n",
      "Early stopping, best iteration is:\n",
      "[60]\tvalid_0's l1: 12.1284\n",
      "Training until validation scores don't improve for 30 rounds\n",
      "Early stopping, best iteration is:\n",
      "[27]\tvalid_0's l1: 12.4475\n",
      "Training until validation scores don't improve for 30 rounds\n",
      "Early stopping, best iteration is:\n",
      "[49]\tvalid_0's l1: 10.8959\n",
      "Training until validation scores don't improve for 30 rounds\n",
      "Early stopping, best iteration is:\n",
      "[44]\tvalid_0's l1: 11.7849\n",
      "Training until validation scores don't improve for 30 rounds\n",
      "Early stopping, best iteration is:\n",
      "[24]\tvalid_0's l1: 13.0362\n",
      "Training until validation scores don't improve for 30 rounds\n",
      "Early stopping, best iteration is:\n",
      "[31]\tvalid_0's l1: 11.9785\n",
      "Training until validation scores don't improve for 30 rounds\n",
      "Early stopping, best iteration is:\n",
      "[98]\tvalid_0's l1: 10.9365\n",
      "Training until validation scores don't improve for 30 rounds\n",
      "Early stopping, best iteration is:\n",
      "[126]\tvalid_0's l1: 10.4527\n",
      "Training until validation scores don't improve for 30 rounds\n",
      "Did not meet early stopping. Best iteration is:\n",
      "[279]\tvalid_0's l1: 4.01009\n",
      "Training until validation scores don't improve for 30 rounds\n",
      "Did not meet early stopping. Best iteration is:\n",
      "[279]\tvalid_0's l1: 4.18449\n",
      "Training until validation scores don't improve for 30 rounds\n"
     ]
    },
    {
     "name": "stderr",
     "output_type": "stream",
     "text": [
      "[I 2025-06-25 23:50:38,509] Trial 3 finished with value: 13.988071755152237 and parameters: {'max_depth': 11, 'learning_rate': 0.14447746112718687, 'n_estimators': 279, 'min_child_weight': 6, 'subsample': 0.7962072844310213, 'colsample_bytree': 0.5232252063599989, 'reg_alpha': 0.6075448519014384, 'reg_lambda': 0.17052412368729153}. Best is trial 2 with value: 13.013808985164818.\n"
     ]
    },
    {
     "name": "stdout",
     "output_type": "stream",
     "text": [
      "Did not meet early stopping. Best iteration is:\n",
      "[279]\tvalid_0's l1: 4.06419\n",
      "Training until validation scores don't improve for 30 rounds\n",
      "Early stopping, best iteration is:\n",
      "[20]\tvalid_0's l1: 20.5552\n",
      "Training until validation scores don't improve for 30 rounds\n",
      "Early stopping, best iteration is:\n",
      "[33]\tvalid_0's l1: 29.693\n",
      "Training until validation scores don't improve for 30 rounds\n",
      "Early stopping, best iteration is:\n",
      "[10]\tvalid_0's l1: 29.8427\n",
      "Training until validation scores don't improve for 30 rounds\n",
      "Early stopping, best iteration is:\n",
      "[26]\tvalid_0's l1: 15.7732\n",
      "Training until validation scores don't improve for 30 rounds\n",
      "Early stopping, best iteration is:\n",
      "[27]\tvalid_0's l1: 17.5036\n",
      "Training until validation scores don't improve for 30 rounds\n",
      "Early stopping, best iteration is:\n",
      "[42]\tvalid_0's l1: 18.1469\n",
      "Training until validation scores don't improve for 30 rounds\n",
      "Early stopping, best iteration is:\n",
      "[15]\tvalid_0's l1: 21.879\n",
      "Training until validation scores don't improve for 30 rounds\n",
      "Early stopping, best iteration is:\n",
      "[42]\tvalid_0's l1: 16.9697\n",
      "Training until validation scores don't improve for 30 rounds\n",
      "Early stopping, best iteration is:\n",
      "[32]\tvalid_0's l1: 15.5625\n",
      "Training until validation scores don't improve for 30 rounds\n",
      "Early stopping, best iteration is:\n",
      "[16]\tvalid_0's l1: 14.9211\n",
      "Training until validation scores don't improve for 30 rounds\n",
      "Early stopping, best iteration is:\n",
      "[24]\tvalid_0's l1: 14.3849\n",
      "Training until validation scores don't improve for 30 rounds\n",
      "Early stopping, best iteration is:\n",
      "[31]\tvalid_0's l1: 12.5551\n",
      "Training until validation scores don't improve for 30 rounds\n",
      "Early stopping, best iteration is:\n",
      "[81]\tvalid_0's l1: 12.1967\n",
      "Training until validation scores don't improve for 30 rounds\n",
      "Early stopping, best iteration is:\n",
      "[43]\tvalid_0's l1: 12.3854\n",
      "Training until validation scores don't improve for 30 rounds\n",
      "Early stopping, best iteration is:\n",
      "[36]\tvalid_0's l1: 12.3014\n",
      "Training until validation scores don't improve for 30 rounds\n",
      "Early stopping, best iteration is:\n",
      "[56]\tvalid_0's l1: 10.9654\n",
      "Training until validation scores don't improve for 30 rounds\n",
      "Did not meet early stopping. Best iteration is:\n",
      "[959]\tvalid_0's l1: 4.31124\n",
      "Training until validation scores don't improve for 30 rounds\n"
     ]
    },
    {
     "name": "stderr",
     "output_type": "stream",
     "text": [
      "[I 2025-06-25 23:51:45,909] Trial 4 finished with value: 17.64469177406094 and parameters: {'max_depth': 4, 'learning_rate': 0.2521267904777921, 'n_estimators': 970, 'min_child_weight': 9, 'subsample': 0.6523068845866853, 'colsample_bytree': 0.5488360570031919, 'reg_alpha': 0.6842330265121569, 'reg_lambda': 0.4401524937396013}. Best is trial 2 with value: 13.013808985164818.\n"
     ]
    },
    {
     "name": "stdout",
     "output_type": "stream",
     "text": [
      "Did not meet early stopping. Best iteration is:\n",
      "[970]\tvalid_0's l1: 3.99749\n",
      "\n",
      "🏆 Mejores parámetros:\n",
      "max_depth: 8\n",
      "learning_rate: 0.05958389350068958\n",
      "n_estimators: 489\n",
      "min_child_weight: 3\n",
      "subsample: 0.8059264473611898\n",
      "colsample_bytree: 0.569746930326021\n",
      "reg_alpha: 0.29214464853521815\n",
      "reg_lambda: 0.3663618432936917\n",
      "boosting_type: gbdt\n",
      "objective: regression\n",
      "metric: mae\n",
      "verbosity: -1\n",
      "deterministic: True\n",
      "force_col_wise: True\n",
      "\n",
      "Entrenando modelo final...\n",
      "Training until validation scores don't improve for 30 rounds\n",
      "Did not meet early stopping. Best iteration is:\n",
      "[489]\tvalid_0's l1: 3.87246\n",
      "Training until validation scores don't improve for 30 rounds\n",
      "Did not meet early stopping. Best iteration is:\n",
      "[489]\tvalid_0's l1: 3.84801\n",
      "Training until validation scores don't improve for 30 rounds\n",
      "Did not meet early stopping. Best iteration is:\n",
      "[489]\tvalid_0's l1: 3.95444\n",
      "Ensemble MAE Val: 3.7899\n",
      "\n",
      "🎯 MAE Test Ensemble: 3.8775\n",
      "\n",
      "Top 5 mejores trials:\n",
      "1. MAE: 13.0138\n",
      "2. MAE: 13.9881\n",
      "3. MAE: 15.5983\n",
      "4. MAE: 15.6448\n",
      "5. MAE: 17.6447\n"
     ]
    }
   ],
   "source": [
    "study, models, results = model_lgb.main_entrenar(df, VERSION=\"v12\")"
   ]
  },
  {
   "cell_type": "code",
   "execution_count": 264,
   "id": "562ed0c1",
   "metadata": {},
   "outputs": [
    {
     "name": "stdout",
     "output_type": "stream",
     "text": [
      "📊 MAE Future: 29.2295\n"
     ]
    }
   ],
   "source": [
    "from sklearn.metrics import mean_squared_error, mean_absolute_error\n",
    "\n",
    "# Supongamos que querés predecir para los períodos 202011 y 202012\n",
    "periodos_future = [201911, 201912]\n",
    "df_future = df[df['periodo'].isin(periodos_future)].copy()\n",
    "\n",
    "# Asegurate de tener las mismas columnas que en entrenamiento\n",
    "features = [col for col in df.columns if col not in ['target']]\n",
    "\n",
    "# Predecir\n",
    "future_preds = model_lgb.predict_with_ensemble(models, df_future, features)\n",
    "\n",
    "# Si querés evaluar el MAE (solo si tenés target en esos períodos)\n",
    "if 'target' in df_future:\n",
    "    mae_future = mean_absolute_error(df_future['target'], future_preds)\n",
    "    print(f\"📊 MAE Future: {mae_future:.4f}\")\n",
    "\n",
    "# Guardar las predicciones\n",
    "df_future['pred_ensemble'] = future_preds"
   ]
  },
  {
   "cell_type": "code",
   "execution_count": 265,
   "id": "bca64c61",
   "metadata": {},
   "outputs": [
    {
     "data": {
      "application/vnd.microsoft.datawrangler.viewer.v0+json": {
       "columns": [
        {
         "name": "index",
         "rawType": "int64",
         "type": "integer"
        },
        {
         "name": "product_id",
         "rawType": "int64",
         "type": "integer"
        },
        {
         "name": "pred_ensemble",
         "rawType": "float64",
         "type": "float"
        }
       ],
       "ref": "3bc48e28-b5f8-4c2f-b54d-c216ae934560",
       "rows": [
        [
         "30476",
         "20001",
         "1495.8239141673957"
        ],
        [
         "30477",
         "20002",
         "1093.1485981169365"
        ],
        [
         "30478",
         "20003",
         "617.7728351792268"
        ],
        [
         "30479",
         "20004",
         "473.9619376480527"
        ],
        [
         "30480",
         "20005",
         "586.4664328126515"
        ],
        [
         "30481",
         "20006",
         "403.3494266225484"
        ],
        [
         "30482",
         "20007",
         "379.19785564704983"
        ],
        [
         "30483",
         "20008",
         "332.70785188068595"
        ],
        [
         "30484",
         "20009",
         "523.0196246274196"
        ],
        [
         "30485",
         "20010",
         "342.7482731362688"
        ],
        [
         "30486",
         "20011",
         "366.36068224372184"
        ],
        [
         "30487",
         "20012",
         "312.1724489526543"
        ],
        [
         "30488",
         "20013",
         "348.55955072373354"
        ],
        [
         "30489",
         "20014",
         "381.6289786545561"
        ],
        [
         "30490",
         "20015",
         "321.74213478552116"
        ],
        [
         "30491",
         "20016",
         "321.2226609121481"
        ],
        [
         "30492",
         "20017",
         "244.1025704665703"
        ],
        [
         "30493",
         "20018",
         "245.5129439687694"
        ],
        [
         "30494",
         "20019",
         "211.25018186465368"
        ],
        [
         "30495",
         "20020",
         "241.11045713869228"
        ],
        [
         "30496",
         "20021",
         "200.90338093545847"
        ],
        [
         "30497",
         "20022",
         "203.82394360759227"
        ],
        [
         "30498",
         "20023",
         "186.38985016995647"
        ],
        [
         "30499",
         "20024",
         "157.54673362680214"
        ],
        [
         "30500",
         "20025",
         "198.9208212039259"
        ],
        [
         "30501",
         "20026",
         "266.3901349057829"
        ],
        [
         "30502",
         "20027",
         "230.4697890553447"
        ],
        [
         "30503",
         "20028",
         "163.89630447877644"
        ],
        [
         "30504",
         "20029",
         "152.06395424776107"
        ],
        [
         "30505",
         "20030",
         "93.12249579714894"
        ],
        [
         "30506",
         "20031",
         "188.7951242801619"
        ],
        [
         "30507",
         "20032",
         "419.03588479222077"
        ],
        [
         "30508",
         "20033",
         "119.7391270375464"
        ],
        [
         "30509",
         "20035",
         "129.10901830871032"
        ],
        [
         "30510",
         "20037",
         "141.9664616037368"
        ],
        [
         "30511",
         "20038",
         "137.5384810144055"
        ],
        [
         "30512",
         "20039",
         "123.73384553810395"
        ],
        [
         "30513",
         "20041",
         "99.60287056907264"
        ],
        [
         "30514",
         "20042",
         "181.00309637308285"
        ],
        [
         "30515",
         "20043",
         "112.44618330107114"
        ],
        [
         "30516",
         "20044",
         "147.46051623023698"
        ],
        [
         "30517",
         "20045",
         "113.55879519922387"
        ],
        [
         "30518",
         "20046",
         "98.36182049527103"
        ],
        [
         "30519",
         "20047",
         "140.30323457483283"
        ],
        [
         "30521",
         "20049",
         "179.7203238698293"
        ],
        [
         "30522",
         "20050",
         "93.56267105026139"
        ],
        [
         "30523",
         "20051",
         "86.26938363767736"
        ],
        [
         "30524",
         "20052",
         "90.66148597792373"
        ],
        [
         "30525",
         "20053",
         "115.91074826517223"
        ],
        [
         "30526",
         "20054",
         "107.71304902393142"
        ]
       ],
       "shape": {
        "columns": 2,
        "rows": 780
       }
      },
      "text/html": [
       "<div>\n",
       "<style scoped>\n",
       "    .dataframe tbody tr th:only-of-type {\n",
       "        vertical-align: middle;\n",
       "    }\n",
       "\n",
       "    .dataframe tbody tr th {\n",
       "        vertical-align: top;\n",
       "    }\n",
       "\n",
       "    .dataframe thead th {\n",
       "        text-align: right;\n",
       "    }\n",
       "</style>\n",
       "<table border=\"1\" class=\"dataframe\">\n",
       "  <thead>\n",
       "    <tr style=\"text-align: right;\">\n",
       "      <th></th>\n",
       "      <th>product_id</th>\n",
       "      <th>pred_ensemble</th>\n",
       "    </tr>\n",
       "  </thead>\n",
       "  <tbody>\n",
       "    <tr>\n",
       "      <th>30476</th>\n",
       "      <td>20001</td>\n",
       "      <td>1495.823914</td>\n",
       "    </tr>\n",
       "    <tr>\n",
       "      <th>30477</th>\n",
       "      <td>20002</td>\n",
       "      <td>1093.148598</td>\n",
       "    </tr>\n",
       "    <tr>\n",
       "      <th>30478</th>\n",
       "      <td>20003</td>\n",
       "      <td>617.772835</td>\n",
       "    </tr>\n",
       "    <tr>\n",
       "      <th>30479</th>\n",
       "      <td>20004</td>\n",
       "      <td>473.961938</td>\n",
       "    </tr>\n",
       "    <tr>\n",
       "      <th>30480</th>\n",
       "      <td>20005</td>\n",
       "      <td>586.466433</td>\n",
       "    </tr>\n",
       "    <tr>\n",
       "      <th>...</th>\n",
       "      <td>...</td>\n",
       "      <td>...</td>\n",
       "    </tr>\n",
       "    <tr>\n",
       "      <th>31355</th>\n",
       "      <td>21263</td>\n",
       "      <td>-2.557755</td>\n",
       "    </tr>\n",
       "    <tr>\n",
       "      <th>31357</th>\n",
       "      <td>21265</td>\n",
       "      <td>1.405267</td>\n",
       "    </tr>\n",
       "    <tr>\n",
       "      <th>31358</th>\n",
       "      <td>21266</td>\n",
       "      <td>-3.076221</td>\n",
       "    </tr>\n",
       "    <tr>\n",
       "      <th>31359</th>\n",
       "      <td>21267</td>\n",
       "      <td>-5.054987</td>\n",
       "    </tr>\n",
       "    <tr>\n",
       "      <th>31361</th>\n",
       "      <td>21276</td>\n",
       "      <td>8.403505</td>\n",
       "    </tr>\n",
       "  </tbody>\n",
       "</table>\n",
       "<p>780 rows × 2 columns</p>\n",
       "</div>"
      ],
      "text/plain": [
       "       product_id  pred_ensemble\n",
       "30476       20001    1495.823914\n",
       "30477       20002    1093.148598\n",
       "30478       20003     617.772835\n",
       "30479       20004     473.961938\n",
       "30480       20005     586.466433\n",
       "...           ...            ...\n",
       "31355       21263      -2.557755\n",
       "31357       21265       1.405267\n",
       "31358       21266      -3.076221\n",
       "31359       21267      -5.054987\n",
       "31361       21276       8.403505\n",
       "\n",
       "[780 rows x 2 columns]"
      ]
     },
     "execution_count": 265,
     "metadata": {},
     "output_type": "execute_result"
    }
   ],
   "source": [
    "productos_ok = pd.read_csv(\"https://storage.googleapis.com/open-courses/austral2025-af91/labo3v/product_id_apredecir201912.txt\", sep=\"\\t\")\n",
    "df_future = df_future[df_future['periodo'] == 201912]\n",
    "df_future = df_future[df_future['product_id'].isin(productos_ok['product_id'].unique())]\n",
    "df_future = df_future[['product_id', 'pred_ensemble']]\n",
    "df_future\n"
   ]
  },
  {
   "cell_type": "code",
   "execution_count": 266,
   "id": "6d5f1587",
   "metadata": {},
   "outputs": [
    {
     "data": {
      "application/vnd.microsoft.datawrangler.viewer.v0+json": {
       "columns": [
        {
         "name": "index",
         "rawType": "int64",
         "type": "integer"
        },
        {
         "name": "tn",
         "rawType": "float64",
         "type": "float"
        }
       ],
       "ref": "29295abd-1d1e-4093-bd14-09dc8b169d57",
       "rows": [
        [
         "30808",
         "4.38548"
        ]
       ],
       "shape": {
        "columns": 1,
        "rows": 1
       }
      },
      "text/html": [
       "<div>\n",
       "<style scoped>\n",
       "    .dataframe tbody tr th:only-of-type {\n",
       "        vertical-align: middle;\n",
       "    }\n",
       "\n",
       "    .dataframe tbody tr th {\n",
       "        vertical-align: top;\n",
       "    }\n",
       "\n",
       "    .dataframe thead th {\n",
       "        text-align: right;\n",
       "    }\n",
       "</style>\n",
       "<table border=\"1\" class=\"dataframe\">\n",
       "  <thead>\n",
       "    <tr style=\"text-align: right;\">\n",
       "      <th></th>\n",
       "      <th>tn</th>\n",
       "    </tr>\n",
       "  </thead>\n",
       "  <tbody>\n",
       "    <tr>\n",
       "      <th>30808</th>\n",
       "      <td>4.38548</td>\n",
       "    </tr>\n",
       "  </tbody>\n",
       "</table>\n",
       "</div>"
      ],
      "text/plain": [
       "            tn\n",
       "30808  4.38548"
      ]
     },
     "execution_count": 266,
     "metadata": {},
     "output_type": "execute_result"
    }
   ],
   "source": [
    "df[(df['periodo'] == 201912 ) & (df['product_id'].isin([20375]))][['tn']]"
   ]
  },
  {
   "cell_type": "code",
   "execution_count": 267,
   "id": "e51fdd76",
   "metadata": {},
   "outputs": [
    {
     "data": {
      "text/plain": [
       "463"
      ]
     },
     "execution_count": 267,
     "metadata": {},
     "output_type": "execute_result"
    }
   ],
   "source": [
    "len(df_future[df_future['pred_ensemble'] < 10]['product_id'].unique())"
   ]
  },
  {
   "cell_type": "code",
   "execution_count": 272,
   "id": "88aa221b",
   "metadata": {},
   "outputs": [
    {
     "data": {
      "text/plain": [
       "705"
      ]
     },
     "execution_count": 272,
     "metadata": {},
     "output_type": "execute_result"
    }
   ],
   "source": [
    "\n",
    "len(df_future[df_future['pred_ensemble'] < 81]['product_id'].unique())"
   ]
  },
  {
   "cell_type": "markdown",
   "id": "976d8c8c",
   "metadata": {},
   "source": [
    "opcion 1: \n",
    "-   menores a 10 tn => promedio 12 meses => 0.291\n",
    "-   menores a 50 tn => promedio 12 meses => 0.273\n",
    "-   menores a 81 tn => promedio 12 meses => 0.265\n",
    "-   menores a 101 tn => promedio 12 meses => 0.275\n",
    "-   menores a 90 tn => promedio 12 meses => 0.272\n"
   ]
  },
  {
   "cell_type": "code",
   "execution_count": 268,
   "id": "e98e6e0b",
   "metadata": {},
   "outputs": [
    {
     "data": {
      "application/vnd.microsoft.datawrangler.viewer.v0+json": {
       "columns": [
        {
         "name": "index",
         "rawType": "int64",
         "type": "integer"
        },
        {
         "name": "product_id",
         "rawType": "int64",
         "type": "integer"
        },
        {
         "name": "pred_ensemble",
         "rawType": "float64",
         "type": "float"
        },
        {
         "name": "promedio_12m",
         "rawType": "float64",
         "type": "float"
        }
       ],
       "ref": "3a64d225-a9c4-4539-a292-3ead57866423",
       "rows": [
        [
         "0",
         "20001",
         "1495.8239141673957",
         "1495.8239141673957"
        ],
        [
         "1",
         "20002",
         "1093.1485981169365",
         "1093.1485981169365"
        ],
        [
         "2",
         "20003",
         "617.7728351792268",
         "617.7728351792268"
        ],
        [
         "3",
         "20004",
         "473.9619376480527",
         "473.9619376480527"
        ],
        [
         "4",
         "20005",
         "586.4664328126515",
         "586.4664328126515"
        ],
        [
         "5",
         "20006",
         "403.3494266225484",
         "403.3494266225484"
        ],
        [
         "6",
         "20007",
         "379.19785564704983",
         "379.19785564704983"
        ],
        [
         "7",
         "20008",
         "332.70785188068595",
         "332.70785188068595"
        ],
        [
         "8",
         "20009",
         "523.0196246274196",
         "523.0196246274196"
        ],
        [
         "9",
         "20010",
         "342.7482731362688",
         "342.7482731362688"
        ],
        [
         "10",
         "20011",
         "366.36068224372184",
         "366.36068224372184"
        ],
        [
         "11",
         "20012",
         "312.1724489526543",
         "312.1724489526543"
        ],
        [
         "12",
         "20013",
         "348.55955072373354",
         "348.55955072373354"
        ],
        [
         "13",
         "20014",
         "381.6289786545561",
         "381.6289786545561"
        ],
        [
         "14",
         "20015",
         "321.74213478552116",
         "321.74213478552116"
        ],
        [
         "15",
         "20016",
         "321.2226609121481",
         "321.2226609121481"
        ],
        [
         "16",
         "20017",
         "244.1025704665703",
         "244.1025704665703"
        ],
        [
         "17",
         "20018",
         "245.5129439687694",
         "245.5129439687694"
        ],
        [
         "18",
         "20019",
         "211.25018186465368",
         "211.25018186465368"
        ],
        [
         "19",
         "20020",
         "241.11045713869228",
         "241.11045713869228"
        ],
        [
         "20",
         "20021",
         "200.90338093545847",
         "200.90338093545847"
        ],
        [
         "21",
         "20022",
         "203.82394360759227",
         "203.82394360759227"
        ],
        [
         "22",
         "20023",
         "186.38985016995647",
         "186.38985016995647"
        ],
        [
         "23",
         "20024",
         "157.54673362680214",
         "157.54673362680214"
        ],
        [
         "24",
         "20025",
         "198.9208212039259",
         "198.9208212039259"
        ],
        [
         "25",
         "20026",
         "266.3901349057829",
         "266.3901349057829"
        ],
        [
         "26",
         "20027",
         "230.4697890553447",
         "230.4697890553447"
        ],
        [
         "27",
         "20028",
         "163.89630447877644",
         "163.89630447877644"
        ],
        [
         "28",
         "20029",
         "152.06395424776107",
         "152.06395424776107"
        ],
        [
         "29",
         "20030",
         "93.12249579714894",
         "93.12249579714894"
        ],
        [
         "30",
         "20031",
         "188.7951242801619",
         "188.7951242801619"
        ],
        [
         "31",
         "20032",
         "419.03588479222077",
         "419.03588479222077"
        ],
        [
         "32",
         "20033",
         "119.7391270375464",
         "119.7391270375464"
        ],
        [
         "33",
         "20035",
         "129.10901830871032",
         "129.10901830871032"
        ],
        [
         "34",
         "20037",
         "141.9664616037368",
         "141.9664616037368"
        ],
        [
         "35",
         "20038",
         "137.5384810144055",
         "137.5384810144055"
        ],
        [
         "36",
         "20039",
         "123.73384553810395",
         "123.73384553810395"
        ],
        [
         "37",
         "20041",
         "99.60287056907264",
         "99.60287056907264"
        ],
        [
         "38",
         "20042",
         "181.00309637308285",
         "181.00309637308285"
        ],
        [
         "39",
         "20043",
         "112.44618330107114",
         "112.44618330107114"
        ],
        [
         "40",
         "20044",
         "147.46051623023698",
         "147.46051623023698"
        ],
        [
         "41",
         "20045",
         "113.55879519922387",
         "113.55879519922387"
        ],
        [
         "42",
         "20046",
         "98.36182049527103",
         "98.36182049527103"
        ],
        [
         "43",
         "20047",
         "140.30323457483283",
         "140.30323457483283"
        ],
        [
         "44",
         "20049",
         "179.7203238698293",
         "179.7203238698293"
        ],
        [
         "45",
         "20050",
         "93.56267105026139",
         "93.56267105026139"
        ],
        [
         "46",
         "20051",
         "86.26938363767736",
         "150.87717916666665"
        ],
        [
         "47",
         "20052",
         "90.66148597792373",
         "90.66148597792373"
        ],
        [
         "48",
         "20053",
         "115.91074826517223",
         "115.91074826517223"
        ],
        [
         "49",
         "20054",
         "107.71304902393142",
         "107.71304902393142"
        ]
       ],
       "shape": {
        "columns": 3,
        "rows": 780
       }
      },
      "text/html": [
       "<div>\n",
       "<style scoped>\n",
       "    .dataframe tbody tr th:only-of-type {\n",
       "        vertical-align: middle;\n",
       "    }\n",
       "\n",
       "    .dataframe tbody tr th {\n",
       "        vertical-align: top;\n",
       "    }\n",
       "\n",
       "    .dataframe thead th {\n",
       "        text-align: right;\n",
       "    }\n",
       "</style>\n",
       "<table border=\"1\" class=\"dataframe\">\n",
       "  <thead>\n",
       "    <tr style=\"text-align: right;\">\n",
       "      <th></th>\n",
       "      <th>product_id</th>\n",
       "      <th>pred_ensemble</th>\n",
       "      <th>promedio_12m</th>\n",
       "    </tr>\n",
       "  </thead>\n",
       "  <tbody>\n",
       "    <tr>\n",
       "      <th>0</th>\n",
       "      <td>20001</td>\n",
       "      <td>1495.823914</td>\n",
       "      <td>1495.823914</td>\n",
       "    </tr>\n",
       "    <tr>\n",
       "      <th>1</th>\n",
       "      <td>20002</td>\n",
       "      <td>1093.148598</td>\n",
       "      <td>1093.148598</td>\n",
       "    </tr>\n",
       "    <tr>\n",
       "      <th>2</th>\n",
       "      <td>20003</td>\n",
       "      <td>617.772835</td>\n",
       "      <td>617.772835</td>\n",
       "    </tr>\n",
       "    <tr>\n",
       "      <th>3</th>\n",
       "      <td>20004</td>\n",
       "      <td>473.961938</td>\n",
       "      <td>473.961938</td>\n",
       "    </tr>\n",
       "    <tr>\n",
       "      <th>4</th>\n",
       "      <td>20005</td>\n",
       "      <td>586.466433</td>\n",
       "      <td>586.466433</td>\n",
       "    </tr>\n",
       "    <tr>\n",
       "      <th>...</th>\n",
       "      <td>...</td>\n",
       "      <td>...</td>\n",
       "      <td>...</td>\n",
       "    </tr>\n",
       "    <tr>\n",
       "      <th>775</th>\n",
       "      <td>21263</td>\n",
       "      <td>-2.557755</td>\n",
       "      <td>0.029993</td>\n",
       "    </tr>\n",
       "    <tr>\n",
       "      <th>776</th>\n",
       "      <td>21265</td>\n",
       "      <td>1.405267</td>\n",
       "      <td>0.089541</td>\n",
       "    </tr>\n",
       "    <tr>\n",
       "      <th>777</th>\n",
       "      <td>21266</td>\n",
       "      <td>-3.076221</td>\n",
       "      <td>0.094659</td>\n",
       "    </tr>\n",
       "    <tr>\n",
       "      <th>778</th>\n",
       "      <td>21267</td>\n",
       "      <td>-5.054987</td>\n",
       "      <td>0.092835</td>\n",
       "    </tr>\n",
       "    <tr>\n",
       "      <th>779</th>\n",
       "      <td>21276</td>\n",
       "      <td>8.403505</td>\n",
       "      <td>0.045447</td>\n",
       "    </tr>\n",
       "  </tbody>\n",
       "</table>\n",
       "<p>780 rows × 3 columns</p>\n",
       "</div>"
      ],
      "text/plain": [
       "     product_id  pred_ensemble  promedio_12m\n",
       "0         20001    1495.823914   1495.823914\n",
       "1         20002    1093.148598   1093.148598\n",
       "2         20003     617.772835    617.772835\n",
       "3         20004     473.961938    473.961938\n",
       "4         20005     586.466433    586.466433\n",
       "..          ...            ...           ...\n",
       "775       21263      -2.557755      0.029993\n",
       "776       21265       1.405267      0.089541\n",
       "777       21266      -3.076221      0.094659\n",
       "778       21267      -5.054987      0.092835\n",
       "779       21276       8.403505      0.045447\n",
       "\n",
       "[780 rows x 3 columns]"
      ]
     },
     "execution_count": 268,
     "metadata": {},
     "output_type": "execute_result"
    }
   ],
   "source": [
    "# A los productos < 10 tn les pongo el PROMEDIO ULTIMOS 12 MESES\n",
    "productos_negativos = df_future[df_future['pred_ensemble'] < 90]['product_id'].unique()\n",
    "df_negativos = feature_engineering.calcular_promedios_12m(productos_negativos, df )\n",
    "df_future = df_future.merge(df_negativos, on='product_id', how='left')\n",
    "\n",
    "df_future['promedio_12m'] = df_future['promedio_12m'].fillna(df_future['pred_ensemble'])\n",
    "df_future\n",
    "\n"
   ]
  },
  {
   "cell_type": "markdown",
   "id": "cb32e131",
   "metadata": {},
   "source": [
    "opcion 2: pred negativas => promedio 12 meses\n"
   ]
  },
  {
   "cell_type": "code",
   "execution_count": 269,
   "id": "672b5ff3",
   "metadata": {},
   "outputs": [],
   "source": [
    "# productos_negativos = df_future[df_future['pred_ensemble'] < 0 ]['product_id'].unique()\n",
    "# df_negativos = feature_engineering.calcular_promedios_12m(productos_negativos, df )\n",
    "# df_future.drop(columns=['promedio_12m'], inplace=True)\n",
    "# df_future = df_future.merge(df_negativos, on='product_id', how='left')\n",
    "# df_future['pred_ensemble'] = df_future['pred_ensemble'].mask(\n",
    "#     df_future['pred_ensemble'] < 0, \n",
    "#     df_future['promedio_12m']\n",
    "# )\n",
    "\n",
    "###### Funciono peor que el promedio de los ultimos 12 meses"
   ]
  },
  {
   "cell_type": "markdown",
   "id": "2c6def4f",
   "metadata": {},
   "source": [
    "guardo el archivo"
   ]
  },
  {
   "cell_type": "code",
   "execution_count": null,
   "id": "6f45d2fd",
   "metadata": {},
   "outputs": [],
   "source": [
    "df_future_c = df_future[['product_id', 'promedio_12m']].copy()\n",
    "df_future_c.rename(columns={'promedio_12m': 'tn'}, inplace=True)\n",
    "df_future_c.to_csv(\"./outputs/predicciones_exp_01_lgb_fe_v6.csv\", index=False, sep=',')"
   ]
  }
 ],
 "metadata": {
  "kernelspec": {
   "display_name": "py311lab3",
   "language": "python",
   "name": "python3"
  },
  "language_info": {
   "codemirror_mode": {
    "name": "ipython",
    "version": 3
   },
   "file_extension": ".py",
   "mimetype": "text/x-python",
   "name": "python",
   "nbconvert_exporter": "python",
   "pygments_lexer": "ipython3",
   "version": "3.11.13"
  }
 },
 "nbformat": 4,
 "nbformat_minor": 5
}
