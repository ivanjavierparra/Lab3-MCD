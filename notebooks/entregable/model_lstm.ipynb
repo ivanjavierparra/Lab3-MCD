{
 "cells": [
  {
   "cell_type": "code",
   "execution_count": 1,
   "id": "5ee82db2",
   "metadata": {},
   "outputs": [],
   "source": [
    "import pandas as pd\n",
    "import gc\n",
    "import numpy as np\n",
    "from sklearn.preprocessing import StandardScaler, RobustScaler\n",
    "\n",
    "import tensorflow as tf"
   ]
  },
  {
   "cell_type": "code",
   "execution_count": 2,
   "id": "e8a45cdb",
   "metadata": {},
   "outputs": [],
   "source": [
    "ESTOY_EN_KAGGLE = True"
   ]
  },
  {
   "cell_type": "code",
   "execution_count": 10,
   "id": "4b3b1e01",
   "metadata": {},
   "outputs": [],
   "source": [
    "config = {\n",
    "        # Arquitectura\n",
    "        \"lstm_units_1\": 64,\n",
    "        \"lstm_units_2\": 32,\n",
    "        \"dense_units\": 16,\n",
    "        \"dropout_rate\": 0.3,\n",
    "\n",
    "        # Entrenamiento\n",
    "        \"epochs\": 150,\n",
    "        \"batch_size\": 250,\n",
    "        \"early_stopping_patience\": 20,\n",
    "        \"learning_rate\": None,  # Si querés usar Adam con tasa específica\n",
    "\n",
    "        # Regularización\n",
    "        \"l2_lambda\": 0.001,\n",
    "\n",
    "        # Optimizador\n",
    "        \"optimizer\": \"rmsprop\",  # adam, sgd, rmsprop, etc.\n",
    "\n",
    "        # Preprocesamiento\n",
    "        \"scaler_name\": \"robust\",  # standard o robust\n",
    "\n",
    "        # Ventana temporal\n",
    "        \"window_size\": 3,\n",
    "        \"feature_cols\" : ['tn', 'tn_lag1', \n",
    "                          #'tn_lag6', \n",
    "                          #'tn_lag12', \n",
    "                          'tn_diff1', \n",
    "                          #'tn_diff6',\n",
    "                'rolling_mean3', 'rolling_std3', 'rolling_max3', 'rolling_min3','rolling_max6','rolling_min6',\"size\"],\n",
    "    }\n"
   ]
  },
  {
   "cell_type": "code",
   "execution_count": 11,
   "id": "6f76caaa",
   "metadata": {},
   "outputs": [
    {
     "name": "stdout",
     "output_type": "stream",
     "text": [
      "(31362, 12)\n"
     ]
    }
   ],
   "source": [
    "if ESTOY_EN_KAGGLE:\n",
    "    df = pd.read_csv(\"../entregable/datasets/periodo_x_producto_con_target_transformado_con_feature_engineering_201912.csv\", sep=',', encoding='utf-8')\n",
    "else:\n",
    "    # Cargar de nuevo por claridad\n",
    "    df = pd.read_csv(\"../../data/raw/sell-in.csv\", sep=\"\\t\")\n",
    "\n",
    "df[\"periodo\"] = pd.to_datetime(df[\"periodo\"], format=\"%Y%m\")\n",
    "\n",
    "# Agregación mensual por producto\n",
    "df = df.groupby([\"product_id\", \"periodo\"]).agg({\"tn\": \"sum\"}).sort_values([\"product_id\", \"periodo\"]).reset_index()\n",
    "\n",
    "# Crear características por producto\n",
    "def agregar_features(df):\n",
    "    df = df.copy()\n",
    "    df = df.sort_values([\"product_id\", \"periodo\"])\n",
    "    \n",
    "    # Crear features con groupby + transform\n",
    "    df[\"tn_lag1\"] = df.groupby(\"product_id\")[\"tn\"].shift(1)\n",
    "    #df[\"tn_lag6\"] = df.groupby(\"product_id\")[\"tn\"].shift(6)\n",
    "    #df[\"tn_lag12\"] = df.groupby(\"product_id\")[\"tn\"].shift(12)\n",
    "\n",
    "    df[\"tn_diff1\"] = df[\"tn\"] - df[\"tn_lag1\"]\n",
    "    #df[\"tn_diff6\"] = df[\"tn\"] - df[\"tn_lag6\"]\n",
    "    df[\"size\"] = df.groupby(\"product_id\")[\"tn\"].transform(\"size\")\n",
    "    \n",
    "\n",
    "    df[\"rolling_mean3\"] = df.groupby(\"product_id\")[\"tn\"].transform(lambda x: x.shift(1).rolling(3).mean())\n",
    "    df[\"rolling_std3\"] = df.groupby(\"product_id\")[\"tn\"].transform(lambda x: x.shift(1).rolling(3).std())\n",
    "    \n",
    "    df[\"rolling_max3\"] = df.groupby(\"product_id\")[\"tn\"].transform(lambda x: x.shift(1).rolling(3).max())\n",
    "    df[\"rolling_min3\"] = df.groupby(\"product_id\")[\"tn\"].transform(lambda x: x.shift(1).rolling(3).min())\n",
    "    df[\"rolling_max6\"] = df.groupby(\"product_id\")[\"tn\"].transform(lambda x: x.shift(1).rolling(6).max())\n",
    "    df[\"rolling_min6\"] = df.groupby(\"product_id\")[\"tn\"].transform(lambda x: x.shift(1).rolling(6).min())\n",
    "\n",
    "    return df\n",
    "\n",
    "df_features = agregar_features(df).fillna(0)\n",
    "del df\n",
    "gc.collect()\n",
    "print(df_features.shape)"
   ]
  },
  {
   "cell_type": "code",
   "execution_count": 12,
   "id": "d921303a",
   "metadata": {},
   "outputs": [
    {
     "name": "stdout",
     "output_type": "stream",
     "text": [
      "(25844, 12)\n"
     ]
    }
   ],
   "source": [
    "# Último período disponible\n",
    "ultimo_mes = df_features[\"periodo\"].max()\n",
    "\n",
    "# Definir los 3 meses anteriores\n",
    "ultimos_3_meses = pd.date_range(end=ultimo_mes - pd.DateOffset(months=1), periods=3, freq='MS')\n",
    "\n",
    "# Filtrar productos con datos en al menos 3 de esos meses\n",
    "df_filtrado = df_features[df_features[\"periodo\"].isin(ultimos_3_meses)]\n",
    "\n",
    "# Contar cuántos meses tiene cada producto\n",
    "conteo_por_producto = df_filtrado[df_filtrado[\"tn\"] > 0].groupby(\"product_id\").size()\n",
    "\n",
    "# Seleccionar productos válidos\n",
    "productos_validos = conteo_por_producto[conteo_por_producto >= 3].index\n",
    "\n",
    "# Filtrar el dataframe original\n",
    "df_features = df_features[df_features[\"product_id\"].isin(productos_validos)].copy()\n",
    "print(df_features.shape)"
   ]
  },
  {
   "cell_type": "code",
   "execution_count": 13,
   "id": "5382a179",
   "metadata": {},
   "outputs": [],
   "source": [
    "if ESTOY_EN_KAGGLE:\n",
    "    df_test = df_features[df_features[\"periodo\"] == pd.to_datetime(201912, format=\"%Y%m\")].copy()\n",
    "    df_features[df_features[\"periodo\"].isin(pd.to_datetime([201911, 201912], format=\"%Y%m\")) ]\n",
    "else:\n",
    "    df_test = df_features[df_features[\"periodo\"] == pd.to_datetime(201910, format=\"%Y%m\")].copy()\n",
    "    df_features[df_features[\"periodo\"].isin(pd.to_datetime([201910, 201911, 201912], format=\"%Y%m\")) ]"
   ]
  },
  {
   "cell_type": "code",
   "execution_count": 14,
   "id": "384dbeff",
   "metadata": {},
   "outputs": [],
   "source": [
    "# ================================\n",
    "# 2. SCALING Y VENTANAS TEMPORALES\n",
    "# ================================\n",
    "\n",
    "window_size = config[\"window_size\"]\n",
    "scaler_name = config[\"scaler_name\"]\n",
    "\n",
    "feature_cols = config[\"feature_cols\"]\n",
    "\n",
    "# Agrupar por producto\n",
    "productos = df_features[\"product_id\"].unique()\n",
    "scalers = {}  # Guardamos los scalers por producto\n",
    "\n",
    "X, y, productos_list = [], [], []\n",
    "\n",
    "for producto in productos:\n",
    "    df_prod = df_features[df_features[\"product_id\"] == producto].copy()\n",
    "\n",
    "    if len(df_prod) < window_size + 2:\n",
    "        continue  # No tiene suficientes datos\n",
    "\n",
    "    # Escalado por producto\n",
    "    \n",
    "    scaler = StandardScaler() if scaler_name == \"standard\" else RobustScaler()\n",
    "    scaled_features = scaler.fit_transform(df_prod[feature_cols])\n",
    "    scalers[producto] = scaler\n",
    "\n",
    "    for i in range(window_size, len(df_prod) - 2):\n",
    "        X.append(scaled_features[i - window_size:i])  # (window_size, n_features)\n",
    "        y.append(scaled_features[i + 2][0])  ###### Target: tn escalado en t+2\n",
    "        productos_list.append(producto)\n",
    "\n",
    "X = np.array(X)\n",
    "y = np.array(y).reshape(-1, 1)"
   ]
  },
  {
   "cell_type": "code",
   "execution_count": 15,
   "id": "d46a0c19",
   "metadata": {},
   "outputs": [],
   "source": [
    "\n",
    "# ================================\n",
    "# 3. TRAIN / TEST SPLIT\n",
    "# ================================\n",
    "from sklearn.model_selection import train_test_split\n",
    "\n",
    "# productos_train, productos_test = train_test_split(np.unique(productos_list), test_size=0.2, random_state=42)\n",
    "\n",
    "# train_mask = [p in productos_train for p in productos_list]\n",
    "# test_mask = [p in productos_test for p in productos_list]\n",
    "\n",
    "# X_train, X_test = X[train_mask], X[test_mask]\n",
    "# y_train, y_test = y[train_mask], y[test_mask]\n",
    "\n",
    "# Primero reconstruimos la lista de periodos asociados a cada muestra\n",
    "periodos = []\n",
    "\n",
    "for producto in productos:\n",
    "    df_prod = df_features[df_features[\"product_id\"] == producto].copy()\n",
    "\n",
    "    if len(df_prod) < window_size + 2:\n",
    "        continue\n",
    "\n",
    "    for i in range(window_size, len(df_prod) - 2):\n",
    "        # El periodo objetivo (de y) es en t+2, entonces corresponde a:\n",
    "        periodo_target = df_prod.iloc[i + 2][\"periodo\"]\n",
    "        periodos.append(periodo_target)\n",
    "\n",
    "# Convertimos a numpy para facilitar indexado\n",
    "periodos = np.array(periodos)\n",
    "\n",
    "# Definimos el umbral de corte (por ejemplo, predecimos diciembre 2019)\n",
    "fecha_corte = pd.to_datetime(\"2019-12-01\")\n",
    "\n",
    "# Creamos máscaras según el periodo de y\n",
    "train_mask = periodos < fecha_corte\n",
    "test_mask = periodos == fecha_corte  # opcional: podrías usar > fecha_corte para más test\n",
    "\n",
    "# Aplicamos la máscara\n",
    "X_train, X_test = X[train_mask], X[test_mask]\n",
    "y_train, y_test = y[train_mask], y[test_mask]\n",
    "productos_test = np.array(productos_list)[test_mask]"
   ]
  },
  {
   "cell_type": "code",
   "execution_count": 16,
   "id": "e8dbdc91",
   "metadata": {},
   "outputs": [
    {
     "name": "stdout",
     "output_type": "stream",
     "text": [
      "\n",
      "Entrenando modelo con semilla 42 (1/5)\n"
     ]
    },
    {
     "name": "stderr",
     "output_type": "stream",
     "text": [
      "c:\\Users\\Usuario\\.conda\\envs\\py311lab3\\Lib\\site-packages\\keras\\src\\layers\\rnn\\rnn.py:199: UserWarning: Do not pass an `input_shape`/`input_dim` argument to a layer. When using Sequential models, prefer using an `Input(shape)` object as the first layer in the model instead.\n",
      "  super().__init__(**kwargs)\n"
     ]
    },
    {
     "name": "stdout",
     "output_type": "stream",
     "text": [
      "Epoch 1/150\n",
      "\u001b[1m83/83\u001b[0m \u001b[32m━━━━━━━━━━━━━━━━━━━━\u001b[0m\u001b[37m\u001b[0m \u001b[1m6s\u001b[0m 33ms/step - loss: 0.6102 - mae: 0.5757 - val_loss: 0.8219 - val_mae: 0.7381 - learning_rate: 0.0010\n",
      "Epoch 2/150\n",
      "\u001b[1m83/83\u001b[0m \u001b[32m━━━━━━━━━━━━━━━━━━━━\u001b[0m\u001b[37m\u001b[0m \u001b[1m2s\u001b[0m 26ms/step - loss: 0.5858 - mae: 0.5660 - val_loss: 0.7998 - val_mae: 0.7252 - learning_rate: 0.0010\n",
      "Epoch 3/150\n",
      "\u001b[1m83/83\u001b[0m \u001b[32m━━━━━━━━━━━━━━━━━━━━\u001b[0m\u001b[37m\u001b[0m \u001b[1m2s\u001b[0m 21ms/step - loss: 0.5770 - mae: 0.5622 - val_loss: 0.7867 - val_mae: 0.7174 - learning_rate: 0.0010\n",
      "Epoch 4/150\n",
      "\u001b[1m83/83\u001b[0m \u001b[32m━━━━━━━━━━━━━━━━━━━━\u001b[0m\u001b[37m\u001b[0m \u001b[1m2s\u001b[0m 23ms/step - loss: 0.5726 - mae: 0.5606 - val_loss: 0.7841 - val_mae: 0.7163 - learning_rate: 0.0010\n",
      "Epoch 5/150\n",
      "\u001b[1m83/83\u001b[0m \u001b[32m━━━━━━━━━━━━━━━━━━━━\u001b[0m\u001b[37m\u001b[0m \u001b[1m2s\u001b[0m 23ms/step - loss: 0.5686 - mae: 0.5592 - val_loss: 0.7762 - val_mae: 0.7119 - learning_rate: 0.0010\n",
      "Epoch 6/150\n",
      "\u001b[1m83/83\u001b[0m \u001b[32m━━━━━━━━━━━━━━━━━━━━\u001b[0m\u001b[37m\u001b[0m \u001b[1m3s\u001b[0m 24ms/step - loss: 0.5672 - mae: 0.5587 - val_loss: 0.8043 - val_mae: 0.7272 - learning_rate: 0.0010\n",
      "Epoch 7/150\n",
      "\u001b[1m83/83\u001b[0m \u001b[32m━━━━━━━━━━━━━━━━━━━━\u001b[0m\u001b[37m\u001b[0m \u001b[1m2s\u001b[0m 25ms/step - loss: 0.5655 - mae: 0.5578 - val_loss: 0.7961 - val_mae: 0.7228 - learning_rate: 0.0010\n",
      "Epoch 8/150\n",
      "\u001b[1m83/83\u001b[0m \u001b[32m━━━━━━━━━━━━━━━━━━━━\u001b[0m\u001b[37m\u001b[0m \u001b[1m3s\u001b[0m 24ms/step - loss: 0.5641 - mae: 0.5575 - val_loss: 0.7832 - val_mae: 0.7155 - learning_rate: 0.0010\n",
      "Epoch 9/150\n",
      "\u001b[1m83/83\u001b[0m \u001b[32m━━━━━━━━━━━━━━━━━━━━\u001b[0m\u001b[37m\u001b[0m \u001b[1m2s\u001b[0m 30ms/step - loss: 0.5637 - mae: 0.5573 - val_loss: 0.7931 - val_mae: 0.7210 - learning_rate: 0.0010\n",
      "Epoch 10/150\n",
      "\u001b[1m83/83\u001b[0m \u001b[32m━━━━━━━━━━━━━━━━━━━━\u001b[0m\u001b[37m\u001b[0m \u001b[1m2s\u001b[0m 24ms/step - loss: 0.5616 - mae: 0.5566 - val_loss: 0.7981 - val_mae: 0.7239 - learning_rate: 0.0010\n",
      "Epoch 11/150\n",
      "\u001b[1m83/83\u001b[0m \u001b[32m━━━━━━━━━━━━━━━━━━━━\u001b[0m\u001b[37m\u001b[0m \u001b[1m2s\u001b[0m 23ms/step - loss: 0.5613 - mae: 0.5562 - val_loss: 0.7918 - val_mae: 0.7205 - learning_rate: 0.0010\n",
      "Epoch 12/150\n",
      "\u001b[1m83/83\u001b[0m \u001b[32m━━━━━━━━━━━━━━━━━━━━\u001b[0m\u001b[37m\u001b[0m \u001b[1m2s\u001b[0m 23ms/step - loss: 0.5585 - mae: 0.5547 - val_loss: 0.8063 - val_mae: 0.7285 - learning_rate: 0.0010\n",
      "Epoch 13/150\n",
      "\u001b[1m83/83\u001b[0m \u001b[32m━━━━━━━━━━━━━━━━━━━━\u001b[0m\u001b[37m\u001b[0m \u001b[1m2s\u001b[0m 24ms/step - loss: 0.5588 - mae: 0.5552 - val_loss: 0.8116 - val_mae: 0.7313 - learning_rate: 0.0010\n",
      "Epoch 14/150\n",
      "\u001b[1m83/83\u001b[0m \u001b[32m━━━━━━━━━━━━━━━━━━━━\u001b[0m\u001b[37m\u001b[0m \u001b[1m2s\u001b[0m 26ms/step - loss: 0.5583 - mae: 0.5547 - val_loss: 0.8039 - val_mae: 0.7276 - learning_rate: 0.0010\n",
      "Epoch 15/150\n",
      "\u001b[1m83/83\u001b[0m \u001b[32m━━━━━━━━━━━━━━━━━━━━\u001b[0m\u001b[37m\u001b[0m \u001b[1m3s\u001b[0m 24ms/step - loss: 0.5585 - mae: 0.5548 - val_loss: 0.8009 - val_mae: 0.7258 - learning_rate: 0.0010\n",
      "Epoch 16/150\n",
      "\u001b[1m83/83\u001b[0m \u001b[32m━━━━━━━━━━━━━━━━━━━━\u001b[0m\u001b[37m\u001b[0m \u001b[1m2s\u001b[0m 27ms/step - loss: 0.5564 - mae: 0.5537 - val_loss: 0.8181 - val_mae: 0.7355 - learning_rate: 0.0010\n",
      "Epoch 17/150\n",
      "\u001b[1m83/83\u001b[0m \u001b[32m━━━━━━━━━━━━━━━━━━━━\u001b[0m\u001b[37m\u001b[0m \u001b[1m2s\u001b[0m 26ms/step - loss: 0.5568 - mae: 0.5540 - val_loss: 0.8054 - val_mae: 0.7282 - learning_rate: 0.0010\n",
      "Epoch 18/150\n",
      "\u001b[1m83/83\u001b[0m \u001b[32m━━━━━━━━━━━━━━━━━━━━\u001b[0m\u001b[37m\u001b[0m \u001b[1m2s\u001b[0m 24ms/step - loss: 0.5565 - mae: 0.5537 - val_loss: 0.8228 - val_mae: 0.7386 - learning_rate: 0.0010\n",
      "Epoch 19/150\n",
      "\u001b[1m83/83\u001b[0m \u001b[32m━━━━━━━━━━━━━━━━━━━━\u001b[0m\u001b[37m\u001b[0m \u001b[1m3s\u001b[0m 23ms/step - loss: 0.5553 - mae: 0.5530 - val_loss: 0.8156 - val_mae: 0.7338 - learning_rate: 0.0010\n",
      "Epoch 20/150\n",
      "\u001b[1m83/83\u001b[0m \u001b[32m━━━━━━━━━━━━━━━━━━━━\u001b[0m\u001b[37m\u001b[0m \u001b[1m3s\u001b[0m 24ms/step - loss: 0.5549 - mae: 0.5530 - val_loss: 0.8186 - val_mae: 0.7357 - learning_rate: 0.0010\n",
      "Epoch 21/150\n",
      "\u001b[1m83/83\u001b[0m \u001b[32m━━━━━━━━━━━━━━━━━━━━\u001b[0m\u001b[37m\u001b[0m \u001b[1m3s\u001b[0m 24ms/step - loss: 0.5563 - mae: 0.5557 - val_loss: 0.7339 - val_mae: 0.6862 - learning_rate: 1.0000e-04\n",
      "Epoch 22/150\n",
      "\u001b[1m83/83\u001b[0m \u001b[32m━━━━━━━━━━━━━━━━━━━━\u001b[0m\u001b[37m\u001b[0m \u001b[1m2s\u001b[0m 26ms/step - loss: 0.5504 - mae: 0.5501 - val_loss: 0.7270 - val_mae: 0.6819 - learning_rate: 1.0000e-04\n",
      "Epoch 23/150\n",
      "\u001b[1m83/83\u001b[0m \u001b[32m━━━━━━━━━━━━━━━━━━━━\u001b[0m\u001b[37m\u001b[0m \u001b[1m2s\u001b[0m 24ms/step - loss: 0.5501 - mae: 0.5498 - val_loss: 0.7254 - val_mae: 0.6807 - learning_rate: 1.0000e-04\n",
      "Epoch 24/150\n",
      "\u001b[1m83/83\u001b[0m \u001b[32m━━━━━━━━━━━━━━━━━━━━\u001b[0m\u001b[37m\u001b[0m \u001b[1m2s\u001b[0m 27ms/step - loss: 0.5502 - mae: 0.5493 - val_loss: 0.7248 - val_mae: 0.6803 - learning_rate: 1.0000e-04\n",
      "Epoch 25/150\n",
      "\u001b[1m83/83\u001b[0m \u001b[32m━━━━━━━━━━━━━━━━━━━━\u001b[0m\u001b[37m\u001b[0m \u001b[1m2s\u001b[0m 25ms/step - loss: 0.5502 - mae: 0.5495 - val_loss: 0.7234 - val_mae: 0.6794 - learning_rate: 1.0000e-04\n",
      "Epoch 26/150\n",
      "\u001b[1m83/83\u001b[0m \u001b[32m━━━━━━━━━━━━━━━━━━━━\u001b[0m\u001b[37m\u001b[0m \u001b[1m3s\u001b[0m 26ms/step - loss: 0.5497 - mae: 0.5494 - val_loss: 0.7232 - val_mae: 0.6793 - learning_rate: 1.0000e-04\n",
      "Epoch 27/150\n",
      "\u001b[1m83/83\u001b[0m \u001b[32m━━━━━━━━━━━━━━━━━━━━\u001b[0m\u001b[37m\u001b[0m \u001b[1m2s\u001b[0m 28ms/step - loss: 0.5499 - mae: 0.5494 - val_loss: 0.7219 - val_mae: 0.6785 - learning_rate: 1.0000e-04\n",
      "Epoch 28/150\n",
      "\u001b[1m83/83\u001b[0m \u001b[32m━━━━━━━━━━━━━━━━━━━━\u001b[0m\u001b[37m\u001b[0m \u001b[1m2s\u001b[0m 25ms/step - loss: 0.5490 - mae: 0.5487 - val_loss: 0.7217 - val_mae: 0.6784 - learning_rate: 1.0000e-04\n",
      "Epoch 29/150\n",
      "\u001b[1m83/83\u001b[0m \u001b[32m━━━━━━━━━━━━━━━━━━━━\u001b[0m\u001b[37m\u001b[0m \u001b[1m3s\u001b[0m 26ms/step - loss: 0.5490 - mae: 0.5491 - val_loss: 0.7218 - val_mae: 0.6784 - learning_rate: 1.0000e-04\n",
      "Epoch 30/150\n",
      "\u001b[1m83/83\u001b[0m \u001b[32m━━━━━━━━━━━━━━━━━━━━\u001b[0m\u001b[37m\u001b[0m \u001b[1m3s\u001b[0m 27ms/step - loss: 0.5494 - mae: 0.5490 - val_loss: 0.7212 - val_mae: 0.6780 - learning_rate: 1.0000e-04\n",
      "Epoch 31/150\n",
      "\u001b[1m83/83\u001b[0m \u001b[32m━━━━━━━━━━━━━━━━━━━━\u001b[0m\u001b[37m\u001b[0m \u001b[1m3s\u001b[0m 27ms/step - loss: 0.5489 - mae: 0.5490 - val_loss: 0.7205 - val_mae: 0.6775 - learning_rate: 1.0000e-04\n",
      "Epoch 32/150\n",
      "\u001b[1m83/83\u001b[0m \u001b[32m━━━━━━━━━━━━━━━━━━━━\u001b[0m\u001b[37m\u001b[0m \u001b[1m3s\u001b[0m 28ms/step - loss: 0.5489 - mae: 0.5489 - val_loss: 0.7211 - val_mae: 0.6779 - learning_rate: 1.0000e-04\n",
      "Epoch 33/150\n",
      "\u001b[1m83/83\u001b[0m \u001b[32m━━━━━━━━━━━━━━━━━━━━\u001b[0m\u001b[37m\u001b[0m \u001b[1m3s\u001b[0m 32ms/step - loss: 0.5486 - mae: 0.5485 - val_loss: 0.7220 - val_mae: 0.6784 - learning_rate: 1.0000e-04\n",
      "Epoch 34/150\n",
      "\u001b[1m83/83\u001b[0m \u001b[32m━━━━━━━━━━━━━━━━━━━━\u001b[0m\u001b[37m\u001b[0m \u001b[1m5s\u001b[0m 34ms/step - loss: 0.5488 - mae: 0.5490 - val_loss: 0.7236 - val_mae: 0.6793 - learning_rate: 1.0000e-04\n",
      "Epoch 35/150\n",
      "\u001b[1m83/83\u001b[0m \u001b[32m━━━━━━━━━━━━━━━━━━━━\u001b[0m\u001b[37m\u001b[0m \u001b[1m5s\u001b[0m 28ms/step - loss: 0.5480 - mae: 0.5486 - val_loss: 0.7218 - val_mae: 0.6782 - learning_rate: 1.0000e-04\n",
      "Epoch 36/150\n",
      "\u001b[1m83/83\u001b[0m \u001b[32m━━━━━━━━━━━━━━━━━━━━\u001b[0m\u001b[37m\u001b[0m \u001b[1m2s\u001b[0m 26ms/step - loss: 0.5493 - mae: 0.5487 - val_loss: 0.7209 - val_mae: 0.6777 - learning_rate: 1.0000e-04\n",
      "Epoch 37/150\n",
      "\u001b[1m83/83\u001b[0m \u001b[32m━━━━━━━━━━━━━━━━━━━━\u001b[0m\u001b[37m\u001b[0m \u001b[1m2s\u001b[0m 27ms/step - loss: 0.5486 - mae: 0.5487 - val_loss: 0.7211 - val_mae: 0.6778 - learning_rate: 1.0000e-04\n",
      "Epoch 38/150\n",
      "\u001b[1m83/83\u001b[0m \u001b[32m━━━━━━━━━━━━━━━━━━━━\u001b[0m\u001b[37m\u001b[0m \u001b[1m2s\u001b[0m 27ms/step - loss: 0.5490 - mae: 0.5485 - val_loss: 0.7232 - val_mae: 0.6791 - learning_rate: 1.0000e-04\n",
      "Epoch 39/150\n",
      "\u001b[1m83/83\u001b[0m \u001b[32m━━━━━━━━━━━━━━━━━━━━\u001b[0m\u001b[37m\u001b[0m \u001b[1m3s\u001b[0m 31ms/step - loss: 0.5476 - mae: 0.5483 - val_loss: 0.7219 - val_mae: 0.6782 - learning_rate: 1.0000e-04\n",
      "Epoch 40/150\n",
      "\u001b[1m83/83\u001b[0m \u001b[32m━━━━━━━━━━━━━━━━━━━━\u001b[0m\u001b[37m\u001b[0m \u001b[1m3s\u001b[0m 31ms/step - loss: 0.5482 - mae: 0.5479 - val_loss: 0.7200 - val_mae: 0.6770 - learning_rate: 1.0000e-04\n",
      "Epoch 41/150\n",
      "\u001b[1m83/83\u001b[0m \u001b[32m━━━━━━━━━━━━━━━━━━━━\u001b[0m\u001b[37m\u001b[0m \u001b[1m2s\u001b[0m 28ms/step - loss: 0.5478 - mae: 0.5478 - val_loss: 0.7211 - val_mae: 0.6777 - learning_rate: 1.0000e-04\n",
      "Epoch 42/150\n",
      "\u001b[1m83/83\u001b[0m \u001b[32m━━━━━━━━━━━━━━━━━━━━\u001b[0m\u001b[37m\u001b[0m \u001b[1m2s\u001b[0m 26ms/step - loss: 0.5481 - mae: 0.5481 - val_loss: 0.7214 - val_mae: 0.6779 - learning_rate: 1.0000e-04\n",
      "Epoch 43/150\n",
      "\u001b[1m83/83\u001b[0m \u001b[32m━━━━━━━━━━━━━━━━━━━━\u001b[0m\u001b[37m\u001b[0m \u001b[1m3s\u001b[0m 28ms/step - loss: 0.5482 - mae: 0.5481 - val_loss: 0.7200 - val_mae: 0.6770 - learning_rate: 1.0000e-04\n",
      "Epoch 44/150\n",
      "\u001b[1m83/83\u001b[0m \u001b[32m━━━━━━━━━━━━━━━━━━━━\u001b[0m\u001b[37m\u001b[0m \u001b[1m3s\u001b[0m 29ms/step - loss: 0.5485 - mae: 0.5487 - val_loss: 0.7226 - val_mae: 0.6785 - learning_rate: 1.0000e-04\n",
      "Epoch 45/150\n",
      "\u001b[1m83/83\u001b[0m \u001b[32m━━━━━━━━━━━━━━━━━━━━\u001b[0m\u001b[37m\u001b[0m \u001b[1m2s\u001b[0m 27ms/step - loss: 0.5475 - mae: 0.5485 - val_loss: 0.7201 - val_mae: 0.6769 - learning_rate: 1.0000e-04\n",
      "Epoch 46/150\n",
      "\u001b[1m83/83\u001b[0m \u001b[32m━━━━━━━━━━━━━━━━━━━━\u001b[0m\u001b[37m\u001b[0m \u001b[1m3s\u001b[0m 30ms/step - loss: 0.5475 - mae: 0.5477 - val_loss: 0.7207 - val_mae: 0.6773 - learning_rate: 1.0000e-04\n",
      "Epoch 47/150\n",
      "\u001b[1m83/83\u001b[0m \u001b[32m━━━━━━━━━━━━━━━━━━━━\u001b[0m\u001b[37m\u001b[0m \u001b[1m2s\u001b[0m 25ms/step - loss: 0.5468 - mae: 0.5475 - val_loss: 0.7223 - val_mae: 0.6782 - learning_rate: 1.0000e-04\n",
      "Epoch 48/150\n",
      "\u001b[1m83/83\u001b[0m \u001b[32m━━━━━━━━━━━━━━━━━━━━\u001b[0m\u001b[37m\u001b[0m \u001b[1m2s\u001b[0m 27ms/step - loss: 0.5477 - mae: 0.5480 - val_loss: 0.7232 - val_mae: 0.6788 - learning_rate: 1.0000e-04\n",
      "Epoch 49/150\n",
      "\u001b[1m83/83\u001b[0m \u001b[32m━━━━━━━━━━━━━━━━━━━━\u001b[0m\u001b[37m\u001b[0m \u001b[1m2s\u001b[0m 26ms/step - loss: 0.5476 - mae: 0.5483 - val_loss: 0.7220 - val_mae: 0.6780 - learning_rate: 1.0000e-04\n",
      "Epoch 50/150\n",
      "\u001b[1m83/83\u001b[0m \u001b[32m━━━━━━━━━━━━━━━━━━━━\u001b[0m\u001b[37m\u001b[0m \u001b[1m2s\u001b[0m 24ms/step - loss: 0.5478 - mae: 0.5487 - val_loss: 0.7223 - val_mae: 0.6783 - learning_rate: 1.0000e-04\n",
      "Epoch 51/150\n",
      "\u001b[1m83/83\u001b[0m \u001b[32m━━━━━━━━━━━━━━━━━━━━\u001b[0m\u001b[37m\u001b[0m \u001b[1m2s\u001b[0m 25ms/step - loss: 0.5474 - mae: 0.5483 - val_loss: 0.7208 - val_mae: 0.6773 - learning_rate: 1.0000e-04\n",
      "Epoch 52/150\n",
      "\u001b[1m83/83\u001b[0m \u001b[32m━━━━━━━━━━━━━━━━━━━━\u001b[0m\u001b[37m\u001b[0m \u001b[1m3s\u001b[0m 29ms/step - loss: 0.5471 - mae: 0.5481 - val_loss: 0.7210 - val_mae: 0.6774 - learning_rate: 1.0000e-04\n",
      "Epoch 53/150\n",
      "\u001b[1m83/83\u001b[0m \u001b[32m━━━━━━━━━━━━━━━━━━━━\u001b[0m\u001b[37m\u001b[0m \u001b[1m2s\u001b[0m 24ms/step - loss: 0.5466 - mae: 0.5474 - val_loss: 0.7204 - val_mae: 0.6770 - learning_rate: 1.0000e-04\n",
      "Epoch 54/150\n",
      "\u001b[1m83/83\u001b[0m \u001b[32m━━━━━━━━━━━━━━━━━━━━\u001b[0m\u001b[37m\u001b[0m \u001b[1m3s\u001b[0m 24ms/step - loss: 0.5470 - mae: 0.5476 - val_loss: 0.7209 - val_mae: 0.6773 - learning_rate: 1.0000e-04\n",
      "Epoch 55/150\n",
      "\u001b[1m83/83\u001b[0m \u001b[32m━━━━━━━━━━━━━━━━━━━━\u001b[0m\u001b[37m\u001b[0m \u001b[1m2s\u001b[0m 25ms/step - loss: 0.5469 - mae: 0.5478 - val_loss: 0.7202 - val_mae: 0.6768 - learning_rate: 1.0000e-04\n",
      "Epoch 56/150\n",
      "\u001b[1m83/83\u001b[0m \u001b[32m━━━━━━━━━━━━━━━━━━━━\u001b[0m\u001b[37m\u001b[0m \u001b[1m3s\u001b[0m 26ms/step - loss: 0.5463 - mae: 0.5475 - val_loss: 0.7198 - val_mae: 0.6765 - learning_rate: 1.0000e-05\n",
      "Epoch 57/150\n",
      "\u001b[1m83/83\u001b[0m \u001b[32m━━━━━━━━━━━━━━━━━━━━\u001b[0m\u001b[37m\u001b[0m \u001b[1m2s\u001b[0m 26ms/step - loss: 0.5461 - mae: 0.5481 - val_loss: 0.7192 - val_mae: 0.6761 - learning_rate: 1.0000e-05\n",
      "Epoch 58/150\n",
      "\u001b[1m83/83\u001b[0m \u001b[32m━━━━━━━━━━━━━━━━━━━━\u001b[0m\u001b[37m\u001b[0m \u001b[1m2s\u001b[0m 25ms/step - loss: 0.5471 - mae: 0.5479 - val_loss: 0.7186 - val_mae: 0.6758 - learning_rate: 1.0000e-05\n",
      "Epoch 59/150\n",
      "\u001b[1m83/83\u001b[0m \u001b[32m━━━━━━━━━━━━━━━━━━━━\u001b[0m\u001b[37m\u001b[0m \u001b[1m2s\u001b[0m 26ms/step - loss: 0.5453 - mae: 0.5469 - val_loss: 0.7185 - val_mae: 0.6757 - learning_rate: 1.0000e-05\n",
      "Epoch 60/150\n",
      "\u001b[1m83/83\u001b[0m \u001b[32m━━━━━━━━━━━━━━━━━━━━\u001b[0m\u001b[37m\u001b[0m \u001b[1m2s\u001b[0m 25ms/step - loss: 0.5456 - mae: 0.5472 - val_loss: 0.7181 - val_mae: 0.6754 - learning_rate: 1.0000e-05\n",
      "Epoch 61/150\n",
      "\u001b[1m83/83\u001b[0m \u001b[32m━━━━━━━━━━━━━━━━━━━━\u001b[0m\u001b[37m\u001b[0m \u001b[1m2s\u001b[0m 23ms/step - loss: 0.5459 - mae: 0.5472 - val_loss: 0.7179 - val_mae: 0.6753 - learning_rate: 1.0000e-05\n",
      "Epoch 62/150\n",
      "\u001b[1m83/83\u001b[0m \u001b[32m━━━━━━━━━━━━━━━━━━━━\u001b[0m\u001b[37m\u001b[0m \u001b[1m3s\u001b[0m 28ms/step - loss: 0.5463 - mae: 0.5472 - val_loss: 0.7178 - val_mae: 0.6752 - learning_rate: 1.0000e-05\n",
      "Epoch 63/150\n",
      "\u001b[1m83/83\u001b[0m \u001b[32m━━━━━━━━━━━━━━━━━━━━\u001b[0m\u001b[37m\u001b[0m \u001b[1m2s\u001b[0m 25ms/step - loss: 0.5460 - mae: 0.5473 - val_loss: 0.7173 - val_mae: 0.6749 - learning_rate: 1.0000e-05\n",
      "Epoch 64/150\n",
      "\u001b[1m83/83\u001b[0m \u001b[32m━━━━━━━━━━━━━━━━━━━━\u001b[0m\u001b[37m\u001b[0m \u001b[1m3s\u001b[0m 26ms/step - loss: 0.5455 - mae: 0.5469 - val_loss: 0.7172 - val_mae: 0.6748 - learning_rate: 1.0000e-05\n",
      "Epoch 65/150\n",
      "\u001b[1m83/83\u001b[0m \u001b[32m━━━━━━━━━━━━━━━━━━━━\u001b[0m\u001b[37m\u001b[0m \u001b[1m3s\u001b[0m 24ms/step - loss: 0.5464 - mae: 0.5476 - val_loss: 0.7174 - val_mae: 0.6750 - learning_rate: 1.0000e-05\n",
      "Epoch 66/150\n",
      "\u001b[1m83/83\u001b[0m \u001b[32m━━━━━━━━━━━━━━━━━━━━\u001b[0m\u001b[37m\u001b[0m \u001b[1m3s\u001b[0m 24ms/step - loss: 0.5465 - mae: 0.5475 - val_loss: 0.7173 - val_mae: 0.6749 - learning_rate: 1.0000e-05\n",
      "Epoch 67/150\n",
      "\u001b[1m83/83\u001b[0m \u001b[32m━━━━━━━━━━━━━━━━━━━━\u001b[0m\u001b[37m\u001b[0m \u001b[1m3s\u001b[0m 24ms/step - loss: 0.5466 - mae: 0.5478 - val_loss: 0.7172 - val_mae: 0.6748 - learning_rate: 1.0000e-05\n",
      "Epoch 68/150\n",
      "\u001b[1m83/83\u001b[0m \u001b[32m━━━━━━━━━━━━━━━━━━━━\u001b[0m\u001b[37m\u001b[0m \u001b[1m2s\u001b[0m 25ms/step - loss: 0.5455 - mae: 0.5470 - val_loss: 0.7169 - val_mae: 0.6746 - learning_rate: 1.0000e-05\n",
      "Epoch 69/150\n",
      "\u001b[1m83/83\u001b[0m \u001b[32m━━━━━━━━━━━━━━━━━━━━\u001b[0m\u001b[37m\u001b[0m \u001b[1m2s\u001b[0m 28ms/step - loss: 0.5461 - mae: 0.5472 - val_loss: 0.7167 - val_mae: 0.6745 - learning_rate: 1.0000e-05\n",
      "Epoch 70/150\n",
      "\u001b[1m83/83\u001b[0m \u001b[32m━━━━━━━━━━━━━━━━━━━━\u001b[0m\u001b[37m\u001b[0m \u001b[1m2s\u001b[0m 24ms/step - loss: 0.5463 - mae: 0.5474 - val_loss: 0.7166 - val_mae: 0.6744 - learning_rate: 1.0000e-05\n",
      "Epoch 71/150\n",
      "\u001b[1m83/83\u001b[0m \u001b[32m━━━━━━━━━━━━━━━━━━━━\u001b[0m\u001b[37m\u001b[0m \u001b[1m3s\u001b[0m 23ms/step - loss: 0.5468 - mae: 0.5477 - val_loss: 0.7166 - val_mae: 0.6744 - learning_rate: 1.0000e-05\n",
      "Epoch 72/150\n",
      "\u001b[1m83/83\u001b[0m \u001b[32m━━━━━━━━━━━━━━━━━━━━\u001b[0m\u001b[37m\u001b[0m \u001b[1m3s\u001b[0m 26ms/step - loss: 0.5457 - mae: 0.5471 - val_loss: 0.7163 - val_mae: 0.6742 - learning_rate: 1.0000e-05\n",
      "Epoch 73/150\n",
      "\u001b[1m83/83\u001b[0m \u001b[32m━━━━━━━━━━━━━━━━━━━━\u001b[0m\u001b[37m\u001b[0m \u001b[1m3s\u001b[0m 24ms/step - loss: 0.5463 - mae: 0.5471 - val_loss: 0.7164 - val_mae: 0.6743 - learning_rate: 1.0000e-05\n",
      "Epoch 74/150\n",
      "\u001b[1m83/83\u001b[0m \u001b[32m━━━━━━━━━━━━━━━━━━━━\u001b[0m\u001b[37m\u001b[0m \u001b[1m2s\u001b[0m 23ms/step - loss: 0.5463 - mae: 0.5479 - val_loss: 0.7162 - val_mae: 0.6742 - learning_rate: 1.0000e-05\n",
      "Epoch 75/150\n",
      "\u001b[1m83/83\u001b[0m \u001b[32m━━━━━━━━━━━━━━━━━━━━\u001b[0m\u001b[37m\u001b[0m \u001b[1m3s\u001b[0m 25ms/step - loss: 0.5457 - mae: 0.5468 - val_loss: 0.7164 - val_mae: 0.6742 - learning_rate: 1.0000e-05\n",
      "Epoch 76/150\n",
      "\u001b[1m83/83\u001b[0m \u001b[32m━━━━━━━━━━━━━━━━━━━━\u001b[0m\u001b[37m\u001b[0m \u001b[1m2s\u001b[0m 24ms/step - loss: 0.5456 - mae: 0.5471 - val_loss: 0.7161 - val_mae: 0.6741 - learning_rate: 1.0000e-05\n",
      "Epoch 77/150\n",
      "\u001b[1m83/83\u001b[0m \u001b[32m━━━━━━━━━━━━━━━━━━━━\u001b[0m\u001b[37m\u001b[0m \u001b[1m2s\u001b[0m 25ms/step - loss: 0.5461 - mae: 0.5466 - val_loss: 0.7160 - val_mae: 0.6740 - learning_rate: 1.0000e-05\n",
      "Epoch 78/150\n",
      "\u001b[1m83/83\u001b[0m \u001b[32m━━━━━━━━━━━━━━━━━━━━\u001b[0m\u001b[37m\u001b[0m \u001b[1m2s\u001b[0m 24ms/step - loss: 0.5470 - mae: 0.5478 - val_loss: 0.7161 - val_mae: 0.6741 - learning_rate: 1.0000e-05\n",
      "Epoch 79/150\n",
      "\u001b[1m83/83\u001b[0m \u001b[32m━━━━━━━━━━━━━━━━━━━━\u001b[0m\u001b[37m\u001b[0m \u001b[1m3s\u001b[0m 23ms/step - loss: 0.5457 - mae: 0.5469 - val_loss: 0.7163 - val_mae: 0.6742 - learning_rate: 1.0000e-05\n",
      "Epoch 80/150\n",
      "\u001b[1m83/83\u001b[0m \u001b[32m━━━━━━━━━━━━━━━━━━━━\u001b[0m\u001b[37m\u001b[0m \u001b[1m2s\u001b[0m 26ms/step - loss: 0.5463 - mae: 0.5474 - val_loss: 0.7162 - val_mae: 0.6741 - learning_rate: 1.0000e-05\n",
      "Epoch 81/150\n",
      "\u001b[1m83/83\u001b[0m \u001b[32m━━━━━━━━━━━━━━━━━━━━\u001b[0m\u001b[37m\u001b[0m \u001b[1m2s\u001b[0m 25ms/step - loss: 0.5461 - mae: 0.5467 - val_loss: 0.7160 - val_mae: 0.6740 - learning_rate: 1.0000e-05\n",
      "Epoch 82/150\n",
      "\u001b[1m83/83\u001b[0m \u001b[32m━━━━━━━━━━━━━━━━━━━━\u001b[0m\u001b[37m\u001b[0m \u001b[1m3s\u001b[0m 27ms/step - loss: 0.5456 - mae: 0.5472 - val_loss: 0.7160 - val_mae: 0.6740 - learning_rate: 1.0000e-05\n",
      "Epoch 83/150\n",
      "\u001b[1m83/83\u001b[0m \u001b[32m━━━━━━━━━━━━━━━━━━━━\u001b[0m\u001b[37m\u001b[0m \u001b[1m3s\u001b[0m 27ms/step - loss: 0.5460 - mae: 0.5471 - val_loss: 0.7161 - val_mae: 0.6740 - learning_rate: 1.0000e-05\n",
      "Epoch 84/150\n",
      "\u001b[1m83/83\u001b[0m \u001b[32m━━━━━━━━━━━━━━━━━━━━\u001b[0m\u001b[37m\u001b[0m \u001b[1m2s\u001b[0m 25ms/step - loss: 0.5462 - mae: 0.5471 - val_loss: 0.7162 - val_mae: 0.6741 - learning_rate: 1.0000e-05\n",
      "Epoch 85/150\n",
      "\u001b[1m83/83\u001b[0m \u001b[32m━━━━━━━━━━━━━━━━━━━━\u001b[0m\u001b[37m\u001b[0m \u001b[1m2s\u001b[0m 29ms/step - loss: 0.5458 - mae: 0.5473 - val_loss: 0.7162 - val_mae: 0.6741 - learning_rate: 1.0000e-05\n",
      "Epoch 86/150\n",
      "\u001b[1m83/83\u001b[0m \u001b[32m━━━━━━━━━━━━━━━━━━━━\u001b[0m\u001b[37m\u001b[0m \u001b[1m2s\u001b[0m 28ms/step - loss: 0.5465 - mae: 0.5471 - val_loss: 0.7163 - val_mae: 0.6741 - learning_rate: 1.0000e-05\n",
      "Epoch 87/150\n",
      "\u001b[1m83/83\u001b[0m \u001b[32m━━━━━━━━━━━━━━━━━━━━\u001b[0m\u001b[37m\u001b[0m \u001b[1m2s\u001b[0m 26ms/step - loss: 0.5458 - mae: 0.5469 - val_loss: 0.7161 - val_mae: 0.6740 - learning_rate: 1.0000e-05\n",
      "Epoch 88/150\n",
      "\u001b[1m83/83\u001b[0m \u001b[32m━━━━━━━━━━━━━━━━━━━━\u001b[0m\u001b[37m\u001b[0m \u001b[1m2s\u001b[0m 26ms/step - loss: 0.5455 - mae: 0.5470 - val_loss: 0.7165 - val_mae: 0.6742 - learning_rate: 1.0000e-05\n",
      "Epoch 89/150\n",
      "\u001b[1m83/83\u001b[0m \u001b[32m━━━━━━━━━━━━━━━━━━━━\u001b[0m\u001b[37m\u001b[0m \u001b[1m2s\u001b[0m 27ms/step - loss: 0.5450 - mae: 0.5465 - val_loss: 0.7164 - val_mae: 0.6742 - learning_rate: 1.0000e-05\n",
      "Epoch 90/150\n",
      "\u001b[1m83/83\u001b[0m \u001b[32m━━━━━━━━━━━━━━━━━━━━\u001b[0m\u001b[37m\u001b[0m \u001b[1m2s\u001b[0m 24ms/step - loss: 0.5465 - mae: 0.5474 - val_loss: 0.7164 - val_mae: 0.6742 - learning_rate: 1.0000e-05\n",
      "Epoch 91/150\n",
      "\u001b[1m83/83\u001b[0m \u001b[32m━━━━━━━━━━━━━━━━━━━━\u001b[0m\u001b[37m\u001b[0m \u001b[1m2s\u001b[0m 25ms/step - loss: 0.5464 - mae: 0.5475 - val_loss: 0.7166 - val_mae: 0.6743 - learning_rate: 1.0000e-05\n",
      "Epoch 92/150\n",
      "\u001b[1m83/83\u001b[0m \u001b[32m━━━━━━━━━━━━━━━━━━━━\u001b[0m\u001b[37m\u001b[0m \u001b[1m3s\u001b[0m 25ms/step - loss: 0.5469 - mae: 0.5476 - val_loss: 0.7166 - val_mae: 0.6743 - learning_rate: 1.0000e-06\n",
      "Epoch 93/150\n",
      "\u001b[1m83/83\u001b[0m \u001b[32m━━━━━━━━━━━━━━━━━━━━\u001b[0m\u001b[37m\u001b[0m \u001b[1m2s\u001b[0m 26ms/step - loss: 0.5461 - mae: 0.5476 - val_loss: 0.7166 - val_mae: 0.6743 - learning_rate: 1.0000e-06\n",
      "Epoch 94/150\n",
      "\u001b[1m83/83\u001b[0m \u001b[32m━━━━━━━━━━━━━━━━━━━━\u001b[0m\u001b[37m\u001b[0m \u001b[1m3s\u001b[0m 25ms/step - loss: 0.5459 - mae: 0.5470 - val_loss: 0.7166 - val_mae: 0.6743 - learning_rate: 1.0000e-06\n",
      "Epoch 95/150\n",
      "\u001b[1m83/83\u001b[0m \u001b[32m━━━━━━━━━━━━━━━━━━━━\u001b[0m\u001b[37m\u001b[0m \u001b[1m3s\u001b[0m 25ms/step - loss: 0.5465 - mae: 0.5476 - val_loss: 0.7166 - val_mae: 0.6743 - learning_rate: 1.0000e-06\n",
      "Epoch 96/150\n",
      "\u001b[1m83/83\u001b[0m \u001b[32m━━━━━━━━━━━━━━━━━━━━\u001b[0m\u001b[37m\u001b[0m \u001b[1m2s\u001b[0m 26ms/step - loss: 0.5457 - mae: 0.5473 - val_loss: 0.7165 - val_mae: 0.6743 - learning_rate: 1.0000e-06\n",
      "Epoch 97/150\n",
      "\u001b[1m83/83\u001b[0m \u001b[32m━━━━━━━━━━━━━━━━━━━━\u001b[0m\u001b[37m\u001b[0m \u001b[1m2s\u001b[0m 27ms/step - loss: 0.5460 - mae: 0.5471 - val_loss: 0.7165 - val_mae: 0.6743 - learning_rate: 1.0000e-06\n",
      "\n",
      "Entrenando modelo con semilla 101 (2/5)\n",
      "Epoch 1/150\n",
      "\u001b[1m83/83\u001b[0m \u001b[32m━━━━━━━━━━━━━━━━━━━━\u001b[0m\u001b[37m\u001b[0m \u001b[1m6s\u001b[0m 32ms/step - loss: 0.6235 - mae: 0.5750 - val_loss: 0.7372 - val_mae: 0.6876 - learning_rate: 0.0010\n",
      "Epoch 2/150\n",
      "\u001b[1m83/83\u001b[0m \u001b[32m━━━━━━━━━━━━━━━━━━━━\u001b[0m\u001b[37m\u001b[0m \u001b[1m2s\u001b[0m 24ms/step - loss: 0.6020 - mae: 0.5672 - val_loss: 0.7293 - val_mae: 0.6835 - learning_rate: 0.0010\n",
      "Epoch 3/150\n",
      "\u001b[1m83/83\u001b[0m \u001b[32m━━━━━━━━━━━━━━━━━━━━\u001b[0m\u001b[37m\u001b[0m \u001b[1m3s\u001b[0m 27ms/step - loss: 0.5933 - mae: 0.5634 - val_loss: 0.7268 - val_mae: 0.6831 - learning_rate: 0.0010\n",
      "Epoch 4/150\n",
      "\u001b[1m83/83\u001b[0m \u001b[32m━━━━━━━━━━━━━━━━━━━━\u001b[0m\u001b[37m\u001b[0m \u001b[1m2s\u001b[0m 24ms/step - loss: 0.5881 - mae: 0.5607 - val_loss: 0.7280 - val_mae: 0.6838 - learning_rate: 0.0010\n",
      "Epoch 5/150\n",
      "\u001b[1m83/83\u001b[0m \u001b[32m━━━━━━━━━━━━━━━━━━━━\u001b[0m\u001b[37m\u001b[0m \u001b[1m3s\u001b[0m 31ms/step - loss: 0.5853 - mae: 0.5596 - val_loss: 0.7210 - val_mae: 0.6791 - learning_rate: 0.0010\n",
      "Epoch 6/150\n",
      "\u001b[1m83/83\u001b[0m \u001b[32m━━━━━━━━━━━━━━━━━━━━\u001b[0m\u001b[37m\u001b[0m \u001b[1m3s\u001b[0m 30ms/step - loss: 0.5842 - mae: 0.5591 - val_loss: 0.7235 - val_mae: 0.6805 - learning_rate: 0.0010\n",
      "Epoch 7/150\n",
      "\u001b[1m83/83\u001b[0m \u001b[32m━━━━━━━━━━━━━━━━━━━━\u001b[0m\u001b[37m\u001b[0m \u001b[1m2s\u001b[0m 27ms/step - loss: 0.5826 - mae: 0.5586 - val_loss: 0.7174 - val_mae: 0.6770 - learning_rate: 0.0010\n",
      "Epoch 8/150\n",
      "\u001b[1m83/83\u001b[0m \u001b[32m━━━━━━━━━━━━━━━━━━━━\u001b[0m\u001b[37m\u001b[0m \u001b[1m2s\u001b[0m 25ms/step - loss: 0.5815 - mae: 0.5583 - val_loss: 0.7294 - val_mae: 0.6846 - learning_rate: 0.0010\n",
      "Epoch 9/150\n",
      "\u001b[1m83/83\u001b[0m \u001b[32m━━━━━━━━━━━━━━━━━━━━\u001b[0m\u001b[37m\u001b[0m \u001b[1m2s\u001b[0m 25ms/step - loss: 0.5813 - mae: 0.5579 - val_loss: 0.7171 - val_mae: 0.6770 - learning_rate: 0.0010\n",
      "Epoch 10/150\n",
      "\u001b[1m83/83\u001b[0m \u001b[32m━━━━━━━━━━━━━━━━━━━━\u001b[0m\u001b[37m\u001b[0m \u001b[1m3s\u001b[0m 28ms/step - loss: 0.5794 - mae: 0.5570 - val_loss: 0.7200 - val_mae: 0.6788 - learning_rate: 0.0010\n",
      "Epoch 11/150\n",
      "\u001b[1m83/83\u001b[0m \u001b[32m━━━━━━━━━━━━━━━━━━━━\u001b[0m\u001b[37m\u001b[0m \u001b[1m2s\u001b[0m 28ms/step - loss: 0.5791 - mae: 0.5574 - val_loss: 0.7134 - val_mae: 0.6746 - learning_rate: 0.0010\n",
      "Epoch 12/150\n",
      "\u001b[1m83/83\u001b[0m \u001b[32m━━━━━━━━━━━━━━━━━━━━\u001b[0m\u001b[37m\u001b[0m \u001b[1m2s\u001b[0m 26ms/step - loss: 0.5780 - mae: 0.5569 - val_loss: 0.7178 - val_mae: 0.6776 - learning_rate: 0.0010\n",
      "Epoch 13/150\n",
      "\u001b[1m83/83\u001b[0m \u001b[32m━━━━━━━━━━━━━━━━━━━━\u001b[0m\u001b[37m\u001b[0m \u001b[1m2s\u001b[0m 27ms/step - loss: 0.5778 - mae: 0.5568 - val_loss: 0.7197 - val_mae: 0.6784 - learning_rate: 0.0010\n",
      "Epoch 14/150\n",
      "\u001b[1m83/83\u001b[0m \u001b[32m━━━━━━━━━━━━━━━━━━━━\u001b[0m\u001b[37m\u001b[0m \u001b[1m3s\u001b[0m 26ms/step - loss: 0.5770 - mae: 0.5563 - val_loss: 0.7118 - val_mae: 0.6732 - learning_rate: 0.0010\n",
      "Epoch 15/150\n",
      "\u001b[1m83/83\u001b[0m \u001b[32m━━━━━━━━━━━━━━━━━━━━\u001b[0m\u001b[37m\u001b[0m \u001b[1m2s\u001b[0m 24ms/step - loss: 0.5760 - mae: 0.5554 - val_loss: 0.7015 - val_mae: 0.6668 - learning_rate: 0.0010\n",
      "Epoch 16/150\n",
      "\u001b[1m83/83\u001b[0m \u001b[32m━━━━━━━━━━━━━━━━━━━━\u001b[0m\u001b[37m\u001b[0m \u001b[1m3s\u001b[0m 28ms/step - loss: 0.5765 - mae: 0.5559 - val_loss: 0.7219 - val_mae: 0.6788 - learning_rate: 0.0010\n",
      "Epoch 17/150\n",
      "\u001b[1m83/83\u001b[0m \u001b[32m━━━━━━━━━━━━━━━━━━━━\u001b[0m\u001b[37m\u001b[0m \u001b[1m2s\u001b[0m 24ms/step - loss: 0.5761 - mae: 0.5561 - val_loss: 0.7111 - val_mae: 0.6725 - learning_rate: 0.0010\n",
      "Epoch 18/150\n",
      "\u001b[1m83/83\u001b[0m \u001b[32m━━━━━━━━━━━━━━━━━━━━\u001b[0m\u001b[37m\u001b[0m \u001b[1m2s\u001b[0m 25ms/step - loss: 0.5757 - mae: 0.5559 - val_loss: 0.7085 - val_mae: 0.6702 - learning_rate: 0.0010\n",
      "Epoch 19/150\n",
      "\u001b[1m83/83\u001b[0m \u001b[32m━━━━━━━━━━━━━━━━━━━━\u001b[0m\u001b[37m\u001b[0m \u001b[1m2s\u001b[0m 26ms/step - loss: 0.5740 - mae: 0.5546 - val_loss: 0.7139 - val_mae: 0.6736 - learning_rate: 0.0010\n",
      "Epoch 20/150\n",
      "\u001b[1m83/83\u001b[0m \u001b[32m━━━━━━━━━━━━━━━━━━━━\u001b[0m\u001b[37m\u001b[0m \u001b[1m2s\u001b[0m 27ms/step - loss: 0.5736 - mae: 0.5548 - val_loss: 0.7218 - val_mae: 0.6780 - learning_rate: 0.0010\n",
      "Epoch 21/150\n",
      "\u001b[1m83/83\u001b[0m \u001b[32m━━━━━━━━━━━━━━━━━━━━\u001b[0m\u001b[37m\u001b[0m \u001b[1m2s\u001b[0m 24ms/step - loss: 0.5738 - mae: 0.5543 - val_loss: 0.7255 - val_mae: 0.6801 - learning_rate: 0.0010\n",
      "Epoch 22/150\n",
      "\u001b[1m83/83\u001b[0m \u001b[32m━━━━━━━━━━━━━━━━━━━━\u001b[0m\u001b[37m\u001b[0m \u001b[1m2s\u001b[0m 29ms/step - loss: 0.5736 - mae: 0.5545 - val_loss: 0.7183 - val_mae: 0.6760 - learning_rate: 0.0010\n",
      "Epoch 23/150\n",
      "\u001b[1m83/83\u001b[0m \u001b[32m━━━━━━━━━━━━━━━━━━━━\u001b[0m\u001b[37m\u001b[0m \u001b[1m3s\u001b[0m 29ms/step - loss: 0.5732 - mae: 0.5542 - val_loss: 0.7117 - val_mae: 0.6707 - learning_rate: 0.0010\n",
      "Epoch 24/150\n",
      "\u001b[1m83/83\u001b[0m \u001b[32m━━━━━━━━━━━━━━━━━━━━\u001b[0m\u001b[37m\u001b[0m \u001b[1m2s\u001b[0m 25ms/step - loss: 0.5723 - mae: 0.5540 - val_loss: 0.7134 - val_mae: 0.6715 - learning_rate: 0.0010\n",
      "Epoch 25/150\n",
      "\u001b[1m83/83\u001b[0m \u001b[32m━━━━━━━━━━━━━━━━━━━━\u001b[0m\u001b[37m\u001b[0m \u001b[1m3s\u001b[0m 27ms/step - loss: 0.5715 - mae: 0.5540 - val_loss: 0.7089 - val_mae: 0.6690 - learning_rate: 0.0010\n",
      "Epoch 26/150\n",
      "\u001b[1m83/83\u001b[0m \u001b[32m━━━━━━━━━━━━━━━━━━━━\u001b[0m\u001b[37m\u001b[0m \u001b[1m2s\u001b[0m 27ms/step - loss: 0.5724 - mae: 0.5539 - val_loss: 0.7082 - val_mae: 0.6680 - learning_rate: 0.0010\n",
      "Epoch 27/150\n",
      "\u001b[1m83/83\u001b[0m \u001b[32m━━━━━━━━━━━━━━━━━━━━\u001b[0m\u001b[37m\u001b[0m \u001b[1m2s\u001b[0m 27ms/step - loss: 0.5704 - mae: 0.5529 - val_loss: 0.6971 - val_mae: 0.6612 - learning_rate: 0.0010\n",
      "Epoch 28/150\n",
      "\u001b[1m83/83\u001b[0m \u001b[32m━━━━━━━━━━━━━━━━━━━━\u001b[0m\u001b[37m\u001b[0m \u001b[1m2s\u001b[0m 25ms/step - loss: 0.5702 - mae: 0.5528 - val_loss: 0.7085 - val_mae: 0.6682 - learning_rate: 0.0010\n",
      "Epoch 29/150\n",
      "\u001b[1m83/83\u001b[0m \u001b[32m━━━━━━━━━━━━━━━━━━━━\u001b[0m\u001b[37m\u001b[0m \u001b[1m2s\u001b[0m 25ms/step - loss: 0.5708 - mae: 0.5533 - val_loss: 0.7217 - val_mae: 0.6754 - learning_rate: 0.0010\n",
      "Epoch 30/150\n",
      "\u001b[1m83/83\u001b[0m \u001b[32m━━━━━━━━━━━━━━━━━━━━\u001b[0m\u001b[37m\u001b[0m \u001b[1m3s\u001b[0m 28ms/step - loss: 0.5694 - mae: 0.5527 - val_loss: 0.7082 - val_mae: 0.6677 - learning_rate: 0.0010\n",
      "Epoch 31/150\n",
      "\u001b[1m83/83\u001b[0m \u001b[32m━━━━━━━━━━━━━━━━━━━━\u001b[0m\u001b[37m\u001b[0m \u001b[1m2s\u001b[0m 27ms/step - loss: 0.5693 - mae: 0.5520 - val_loss: 0.7059 - val_mae: 0.6660 - learning_rate: 0.0010\n",
      "Epoch 32/150\n",
      "\u001b[1m83/83\u001b[0m \u001b[32m━━━━━━━━━━━━━━━━━━━━\u001b[0m\u001b[37m\u001b[0m \u001b[1m2s\u001b[0m 25ms/step - loss: 0.5695 - mae: 0.5529 - val_loss: 0.7202 - val_mae: 0.6750 - learning_rate: 0.0010\n",
      "Epoch 33/150\n",
      "\u001b[1m83/83\u001b[0m \u001b[32m━━━━━━━━━━━━━━━━━━━━\u001b[0m\u001b[37m\u001b[0m \u001b[1m2s\u001b[0m 29ms/step - loss: 0.5692 - mae: 0.5524 - val_loss: 0.7250 - val_mae: 0.6769 - learning_rate: 0.0010\n",
      "Epoch 34/150\n",
      "\u001b[1m83/83\u001b[0m \u001b[32m━━━━━━━━━━━━━━━━━━━━\u001b[0m\u001b[37m\u001b[0m \u001b[1m2s\u001b[0m 26ms/step - loss: 0.5683 - mae: 0.5519 - val_loss: 0.7153 - val_mae: 0.6716 - learning_rate: 0.0010\n",
      "Epoch 35/150\n",
      "\u001b[1m83/83\u001b[0m \u001b[32m━━━━━━━━━━━━━━━━━━━━\u001b[0m\u001b[37m\u001b[0m \u001b[1m3s\u001b[0m 25ms/step - loss: 0.5681 - mae: 0.5517 - val_loss: 0.7146 - val_mae: 0.6706 - learning_rate: 0.0010\n",
      "Epoch 36/150\n",
      "\u001b[1m83/83\u001b[0m \u001b[32m━━━━━━━━━━━━━━━━━━━━\u001b[0m\u001b[37m\u001b[0m \u001b[1m3s\u001b[0m 27ms/step - loss: 0.5684 - mae: 0.5522 - val_loss: 0.7253 - val_mae: 0.6766 - learning_rate: 0.0010\n",
      "Epoch 37/150\n",
      "\u001b[1m83/83\u001b[0m \u001b[32m━━━━━━━━━━━━━━━━━━━━\u001b[0m\u001b[37m\u001b[0m \u001b[1m2s\u001b[0m 24ms/step - loss: 0.5674 - mae: 0.5508 - val_loss: 0.7163 - val_mae: 0.6715 - learning_rate: 0.0010\n",
      "Epoch 38/150\n",
      "\u001b[1m83/83\u001b[0m \u001b[32m━━━━━━━━━━━━━━━━━━━━\u001b[0m\u001b[37m\u001b[0m \u001b[1m2s\u001b[0m 25ms/step - loss: 0.5672 - mae: 0.5508 - val_loss: 0.7245 - val_mae: 0.6756 - learning_rate: 0.0010\n",
      "Epoch 39/150\n",
      "\u001b[1m83/83\u001b[0m \u001b[32m━━━━━━━━━━━━━━━━━━━━\u001b[0m\u001b[37m\u001b[0m \u001b[1m2s\u001b[0m 28ms/step - loss: 0.5660 - mae: 0.5502 - val_loss: 0.7073 - val_mae: 0.6657 - learning_rate: 0.0010\n",
      "Epoch 40/150\n",
      "\u001b[1m83/83\u001b[0m \u001b[32m━━━━━━━━━━━━━━━━━━━━\u001b[0m\u001b[37m\u001b[0m \u001b[1m2s\u001b[0m 25ms/step - loss: 0.5661 - mae: 0.5503 - val_loss: 0.7201 - val_mae: 0.6730 - learning_rate: 0.0010\n",
      "Epoch 41/150\n",
      "\u001b[1m83/83\u001b[0m \u001b[32m━━━━━━━━━━━━━━━━━━━━\u001b[0m\u001b[37m\u001b[0m \u001b[1m3s\u001b[0m 25ms/step - loss: 0.5652 - mae: 0.5503 - val_loss: 0.7094 - val_mae: 0.6661 - learning_rate: 0.0010\n",
      "Epoch 42/150\n",
      "\u001b[1m83/83\u001b[0m \u001b[32m━━━━━━━━━━━━━━━━━━━━\u001b[0m\u001b[37m\u001b[0m \u001b[1m3s\u001b[0m 27ms/step - loss: 0.5641 - mae: 0.5493 - val_loss: 0.7147 - val_mae: 0.6695 - learning_rate: 0.0010\n",
      "Epoch 43/150\n",
      "\u001b[1m83/83\u001b[0m \u001b[32m━━━━━━━━━━━━━━━━━━━━\u001b[0m\u001b[37m\u001b[0m \u001b[1m2s\u001b[0m 25ms/step - loss: 0.5619 - mae: 0.5498 - val_loss: 0.7052 - val_mae: 0.6632 - learning_rate: 1.0000e-04\n",
      "Epoch 44/150\n",
      "\u001b[1m83/83\u001b[0m \u001b[32m━━━━━━━━━━━━━━━━━━━━\u001b[0m\u001b[37m\u001b[0m \u001b[1m2s\u001b[0m 28ms/step - loss: 0.5601 - mae: 0.5472 - val_loss: 0.7035 - val_mae: 0.6623 - learning_rate: 1.0000e-04\n",
      "Epoch 45/150\n",
      "\u001b[1m83/83\u001b[0m \u001b[32m━━━━━━━━━━━━━━━━━━━━\u001b[0m\u001b[37m\u001b[0m \u001b[1m2s\u001b[0m 27ms/step - loss: 0.5586 - mae: 0.5457 - val_loss: 0.7039 - val_mae: 0.6629 - learning_rate: 1.0000e-04\n",
      "Epoch 46/150\n",
      "\u001b[1m83/83\u001b[0m \u001b[32m━━━━━━━━━━━━━━━━━━━━\u001b[0m\u001b[37m\u001b[0m \u001b[1m2s\u001b[0m 24ms/step - loss: 0.5594 - mae: 0.5464 - val_loss: 0.7063 - val_mae: 0.6646 - learning_rate: 1.0000e-04\n",
      "Epoch 47/150\n",
      "\u001b[1m83/83\u001b[0m \u001b[32m━━━━━━━━━━━━━━━━━━━━\u001b[0m\u001b[37m\u001b[0m \u001b[1m2s\u001b[0m 28ms/step - loss: 0.5589 - mae: 0.5461 - val_loss: 0.7037 - val_mae: 0.6629 - learning_rate: 1.0000e-04\n",
      "\n",
      "Entrenando modelo con semilla 202 (3/5)\n",
      "Epoch 1/150\n",
      "\u001b[1m83/83\u001b[0m \u001b[32m━━━━━━━━━━━━━━━━━━━━\u001b[0m\u001b[37m\u001b[0m \u001b[1m6s\u001b[0m 32ms/step - loss: 0.6171 - mae: 0.5751 - val_loss: 0.7779 - val_mae: 0.7147 - learning_rate: 0.0010\n",
      "Epoch 2/150\n",
      "\u001b[1m83/83\u001b[0m \u001b[32m━━━━━━━━━━━━━━━━━━━━\u001b[0m\u001b[37m\u001b[0m \u001b[1m4s\u001b[0m 24ms/step - loss: 0.5948 - mae: 0.5683 - val_loss: 0.7721 - val_mae: 0.7121 - learning_rate: 0.0010\n",
      "Epoch 3/150\n",
      "\u001b[1m83/83\u001b[0m \u001b[32m━━━━━━━━━━━━━━━━━━━━\u001b[0m\u001b[37m\u001b[0m \u001b[1m2s\u001b[0m 24ms/step - loss: 0.5840 - mae: 0.5640 - val_loss: 0.7595 - val_mae: 0.7043 - learning_rate: 0.0010\n",
      "Epoch 4/150\n",
      "\u001b[1m83/83\u001b[0m \u001b[32m━━━━━━━━━━━━━━━━━━━━\u001b[0m\u001b[37m\u001b[0m \u001b[1m3s\u001b[0m 27ms/step - loss: 0.5787 - mae: 0.5612 - val_loss: 0.7594 - val_mae: 0.7044 - learning_rate: 0.0010\n",
      "Epoch 5/150\n",
      "\u001b[1m83/83\u001b[0m \u001b[32m━━━━━━━━━━━━━━━━━━━━\u001b[0m\u001b[37m\u001b[0m \u001b[1m2s\u001b[0m 25ms/step - loss: 0.5763 - mae: 0.5605 - val_loss: 0.7567 - val_mae: 0.7025 - learning_rate: 0.0010\n",
      "Epoch 6/150\n",
      "\u001b[1m83/83\u001b[0m \u001b[32m━━━━━━━━━━━━━━━━━━━━\u001b[0m\u001b[37m\u001b[0m \u001b[1m2s\u001b[0m 24ms/step - loss: 0.5748 - mae: 0.5593 - val_loss: 0.7567 - val_mae: 0.7024 - learning_rate: 0.0010\n",
      "Epoch 7/150\n",
      "\u001b[1m83/83\u001b[0m \u001b[32m━━━━━━━━━━━━━━━━━━━━\u001b[0m\u001b[37m\u001b[0m \u001b[1m2s\u001b[0m 28ms/step - loss: 0.5730 - mae: 0.5585 - val_loss: 0.7552 - val_mae: 0.7010 - learning_rate: 0.0010\n",
      "Epoch 8/150\n",
      "\u001b[1m83/83\u001b[0m \u001b[32m━━━━━━━━━━━━━━━━━━━━\u001b[0m\u001b[37m\u001b[0m \u001b[1m2s\u001b[0m 26ms/step - loss: 0.5717 - mae: 0.5579 - val_loss: 0.7563 - val_mae: 0.7017 - learning_rate: 0.0010\n",
      "Epoch 9/150\n",
      "\u001b[1m83/83\u001b[0m \u001b[32m━━━━━━━━━━━━━━━━━━━━\u001b[0m\u001b[37m\u001b[0m \u001b[1m3s\u001b[0m 28ms/step - loss: 0.5711 - mae: 0.5576 - val_loss: 0.7541 - val_mae: 0.7004 - learning_rate: 0.0010\n",
      "Epoch 10/150\n",
      "\u001b[1m83/83\u001b[0m \u001b[32m━━━━━━━━━━━━━━━━━━━━\u001b[0m\u001b[37m\u001b[0m \u001b[1m3s\u001b[0m 27ms/step - loss: 0.5708 - mae: 0.5574 - val_loss: 0.7525 - val_mae: 0.6991 - learning_rate: 0.0010\n",
      "Epoch 11/150\n",
      "\u001b[1m83/83\u001b[0m \u001b[32m━━━━━━━━━━━━━━━━━━━━\u001b[0m\u001b[37m\u001b[0m \u001b[1m2s\u001b[0m 26ms/step - loss: 0.5692 - mae: 0.5565 - val_loss: 0.7532 - val_mae: 0.6993 - learning_rate: 0.0010\n",
      "Epoch 12/150\n",
      "\u001b[1m83/83\u001b[0m \u001b[32m━━━━━━━━━━━━━━━━━━━━\u001b[0m\u001b[37m\u001b[0m \u001b[1m2s\u001b[0m 28ms/step - loss: 0.5676 - mae: 0.5559 - val_loss: 0.7523 - val_mae: 0.6986 - learning_rate: 0.0010\n",
      "Epoch 13/150\n",
      "\u001b[1m83/83\u001b[0m \u001b[32m━━━━━━━━━━━━━━━━━━━━\u001b[0m\u001b[37m\u001b[0m \u001b[1m2s\u001b[0m 26ms/step - loss: 0.5678 - mae: 0.5560 - val_loss: 0.7483 - val_mae: 0.6966 - learning_rate: 0.0010\n",
      "Epoch 14/150\n",
      "\u001b[1m83/83\u001b[0m \u001b[32m━━━━━━━━━━━━━━━━━━━━\u001b[0m\u001b[37m\u001b[0m \u001b[1m2s\u001b[0m 24ms/step - loss: 0.5669 - mae: 0.5556 - val_loss: 0.7528 - val_mae: 0.6989 - learning_rate: 0.0010\n",
      "Epoch 15/150\n",
      "\u001b[1m83/83\u001b[0m \u001b[32m━━━━━━━━━━━━━━━━━━━━\u001b[0m\u001b[37m\u001b[0m \u001b[1m2s\u001b[0m 28ms/step - loss: 0.5664 - mae: 0.5554 - val_loss: 0.7533 - val_mae: 0.6990 - learning_rate: 0.0010\n",
      "Epoch 16/150\n",
      "\u001b[1m83/83\u001b[0m \u001b[32m━━━━━━━━━━━━━━━━━━━━\u001b[0m\u001b[37m\u001b[0m \u001b[1m3s\u001b[0m 26ms/step - loss: 0.5650 - mae: 0.5545 - val_loss: 0.7499 - val_mae: 0.6971 - learning_rate: 0.0010\n",
      "Epoch 17/150\n",
      "\u001b[1m83/83\u001b[0m \u001b[32m━━━━━━━━━━━━━━━━━━━━\u001b[0m\u001b[37m\u001b[0m \u001b[1m3s\u001b[0m 28ms/step - loss: 0.5649 - mae: 0.5540 - val_loss: 0.7518 - val_mae: 0.6980 - learning_rate: 0.0010\n",
      "Epoch 18/150\n",
      "\u001b[1m83/83\u001b[0m \u001b[32m━━━━━━━━━━━━━━━━━━━━\u001b[0m\u001b[37m\u001b[0m \u001b[1m2s\u001b[0m 25ms/step - loss: 0.5630 - mae: 0.5534 - val_loss: 0.7521 - val_mae: 0.6977 - learning_rate: 0.0010\n",
      "Epoch 19/150\n",
      "\u001b[1m83/83\u001b[0m \u001b[32m━━━━━━━━━━━━━━━━━━━━\u001b[0m\u001b[37m\u001b[0m \u001b[1m2s\u001b[0m 28ms/step - loss: 0.5625 - mae: 0.5530 - val_loss: 0.7439 - val_mae: 0.6930 - learning_rate: 0.0010\n",
      "Epoch 20/150\n",
      "\u001b[1m83/83\u001b[0m \u001b[32m━━━━━━━━━━━━━━━━━━━━\u001b[0m\u001b[37m\u001b[0m \u001b[1m3s\u001b[0m 26ms/step - loss: 0.5617 - mae: 0.5527 - val_loss: 0.7615 - val_mae: 0.7029 - learning_rate: 0.0010\n",
      "Epoch 21/150\n",
      "\u001b[1m83/83\u001b[0m \u001b[32m━━━━━━━━━━━━━━━━━━━━\u001b[0m\u001b[37m\u001b[0m \u001b[1m3s\u001b[0m 28ms/step - loss: 0.5618 - mae: 0.5528 - val_loss: 0.7502 - val_mae: 0.6964 - learning_rate: 0.0010\n",
      "Epoch 22/150\n",
      "\u001b[1m83/83\u001b[0m \u001b[32m━━━━━━━━━━━━━━━━━━━━\u001b[0m\u001b[37m\u001b[0m \u001b[1m3s\u001b[0m 26ms/step - loss: 0.5604 - mae: 0.5521 - val_loss: 0.7517 - val_mae: 0.6973 - learning_rate: 0.0010\n",
      "Epoch 23/150\n",
      "\u001b[1m83/83\u001b[0m \u001b[32m━━━━━━━━━━━━━━━━━━━━\u001b[0m\u001b[37m\u001b[0m \u001b[1m2s\u001b[0m 26ms/step - loss: 0.5609 - mae: 0.5522 - val_loss: 0.7516 - val_mae: 0.6961 - learning_rate: 0.0010\n",
      "Epoch 24/150\n",
      "\u001b[1m83/83\u001b[0m \u001b[32m━━━━━━━━━━━━━━━━━━━━\u001b[0m\u001b[37m\u001b[0m \u001b[1m2s\u001b[0m 24ms/step - loss: 0.5605 - mae: 0.5523 - val_loss: 0.7481 - val_mae: 0.6942 - learning_rate: 0.0010\n",
      "Epoch 25/150\n",
      "\u001b[1m83/83\u001b[0m \u001b[32m━━━━━━━━━━━━━━━━━━━━\u001b[0m\u001b[37m\u001b[0m \u001b[1m2s\u001b[0m 26ms/step - loss: 0.5597 - mae: 0.5520 - val_loss: 0.7478 - val_mae: 0.6942 - learning_rate: 0.0010\n",
      "Epoch 26/150\n",
      "\u001b[1m83/83\u001b[0m \u001b[32m━━━━━━━━━━━━━━━━━━━━\u001b[0m\u001b[37m\u001b[0m \u001b[1m3s\u001b[0m 27ms/step - loss: 0.5588 - mae: 0.5505 - val_loss: 0.7568 - val_mae: 0.6992 - learning_rate: 0.0010\n",
      "Epoch 27/150\n",
      "\u001b[1m83/83\u001b[0m \u001b[32m━━━━━━━━━━━━━━━━━━━━\u001b[0m\u001b[37m\u001b[0m \u001b[1m2s\u001b[0m 25ms/step - loss: 0.5582 - mae: 0.5508 - val_loss: 0.7610 - val_mae: 0.7013 - learning_rate: 0.0010\n",
      "Epoch 28/150\n",
      "\u001b[1m83/83\u001b[0m \u001b[32m━━━━━━━━━━━━━━━━━━━━\u001b[0m\u001b[37m\u001b[0m \u001b[1m3s\u001b[0m 26ms/step - loss: 0.5575 - mae: 0.5505 - val_loss: 0.7603 - val_mae: 0.7013 - learning_rate: 0.0010\n",
      "Epoch 29/150\n",
      "\u001b[1m83/83\u001b[0m \u001b[32m━━━━━━━━━━━━━━━━━━━━\u001b[0m\u001b[37m\u001b[0m \u001b[1m2s\u001b[0m 26ms/step - loss: 0.5567 - mae: 0.5502 - val_loss: 0.7579 - val_mae: 0.6991 - learning_rate: 0.0010\n",
      "Epoch 30/150\n",
      "\u001b[1m83/83\u001b[0m \u001b[32m━━━━━━━━━━━━━━━━━━━━\u001b[0m\u001b[37m\u001b[0m \u001b[1m3s\u001b[0m 29ms/step - loss: 0.5572 - mae: 0.5505 - val_loss: 0.7492 - val_mae: 0.6944 - learning_rate: 0.0010\n",
      "Epoch 31/150\n",
      "\u001b[1m83/83\u001b[0m \u001b[32m━━━━━━━━━━━━━━━━━━━━\u001b[0m\u001b[37m\u001b[0m \u001b[1m2s\u001b[0m 27ms/step - loss: 0.5567 - mae: 0.5498 - val_loss: 0.7486 - val_mae: 0.6945 - learning_rate: 0.0010\n",
      "Epoch 32/150\n",
      "\u001b[1m83/83\u001b[0m \u001b[32m━━━━━━━━━━━━━━━━━━━━\u001b[0m\u001b[37m\u001b[0m \u001b[1m2s\u001b[0m 28ms/step - loss: 0.5562 - mae: 0.5496 - val_loss: 0.7575 - val_mae: 0.6983 - learning_rate: 0.0010\n",
      "Epoch 33/150\n",
      "\u001b[1m83/83\u001b[0m \u001b[32m━━━━━━━━━━━━━━━━━━━━\u001b[0m\u001b[37m\u001b[0m \u001b[1m2s\u001b[0m 26ms/step - loss: 0.5561 - mae: 0.5498 - val_loss: 0.7637 - val_mae: 0.7023 - learning_rate: 0.0010\n",
      "Epoch 34/150\n",
      "\u001b[1m83/83\u001b[0m \u001b[32m━━━━━━━━━━━━━━━━━━━━\u001b[0m\u001b[37m\u001b[0m \u001b[1m3s\u001b[0m 29ms/step - loss: 0.5547 - mae: 0.5486 - val_loss: 0.7569 - val_mae: 0.6989 - learning_rate: 0.0010\n",
      "Epoch 35/150\n",
      "\u001b[1m83/83\u001b[0m \u001b[32m━━━━━━━━━━━━━━━━━━━━\u001b[0m\u001b[37m\u001b[0m \u001b[1m2s\u001b[0m 25ms/step - loss: 0.5542 - mae: 0.5507 - val_loss: 0.7115 - val_mae: 0.6706 - learning_rate: 1.0000e-04\n",
      "Epoch 36/150\n",
      "\u001b[1m83/83\u001b[0m \u001b[32m━━━━━━━━━━━━━━━━━━━━\u001b[0m\u001b[37m\u001b[0m \u001b[1m2s\u001b[0m 28ms/step - loss: 0.5508 - mae: 0.5460 - val_loss: 0.7068 - val_mae: 0.6675 - learning_rate: 1.0000e-04\n",
      "Epoch 37/150\n",
      "\u001b[1m83/83\u001b[0m \u001b[32m━━━━━━━━━━━━━━━━━━━━\u001b[0m\u001b[37m\u001b[0m \u001b[1m2s\u001b[0m 25ms/step - loss: 0.5493 - mae: 0.5448 - val_loss: 0.7071 - val_mae: 0.6675 - learning_rate: 1.0000e-04\n",
      "Epoch 38/150\n",
      "\u001b[1m83/83\u001b[0m \u001b[32m━━━━━━━━━━━━━━━━━━━━\u001b[0m\u001b[37m\u001b[0m \u001b[1m3s\u001b[0m 29ms/step - loss: 0.5490 - mae: 0.5450 - val_loss: 0.7070 - val_mae: 0.6674 - learning_rate: 1.0000e-04\n",
      "Epoch 39/150\n",
      "\u001b[1m83/83\u001b[0m \u001b[32m━━━━━━━━━━━━━━━━━━━━\u001b[0m\u001b[37m\u001b[0m \u001b[1m2s\u001b[0m 27ms/step - loss: 0.5486 - mae: 0.5446 - val_loss: 0.7085 - val_mae: 0.6683 - learning_rate: 1.0000e-04\n",
      "Epoch 40/150\n",
      "\u001b[1m83/83\u001b[0m \u001b[32m━━━━━━━━━━━━━━━━━━━━\u001b[0m\u001b[37m\u001b[0m \u001b[1m2s\u001b[0m 28ms/step - loss: 0.5493 - mae: 0.5444 - val_loss: 0.7070 - val_mae: 0.6674 - learning_rate: 1.0000e-04\n",
      "Epoch 41/150\n",
      "\u001b[1m83/83\u001b[0m \u001b[32m━━━━━━━━━━━━━━━━━━━━\u001b[0m\u001b[37m\u001b[0m \u001b[1m3s\u001b[0m 27ms/step - loss: 0.5483 - mae: 0.5441 - val_loss: 0.7080 - val_mae: 0.6681 - learning_rate: 1.0000e-04\n",
      "Epoch 42/150\n",
      "\u001b[1m83/83\u001b[0m \u001b[32m━━━━━━━━━━━━━━━━━━━━\u001b[0m\u001b[37m\u001b[0m \u001b[1m3s\u001b[0m 29ms/step - loss: 0.5477 - mae: 0.5443 - val_loss: 0.7098 - val_mae: 0.6692 - learning_rate: 1.0000e-04\n",
      "Epoch 43/150\n",
      "\u001b[1m83/83\u001b[0m \u001b[32m━━━━━━━━━━━━━━━━━━━━\u001b[0m\u001b[37m\u001b[0m \u001b[1m3s\u001b[0m 32ms/step - loss: 0.5488 - mae: 0.5445 - val_loss: 0.7078 - val_mae: 0.6680 - learning_rate: 1.0000e-04\n",
      "Epoch 44/150\n",
      "\u001b[1m83/83\u001b[0m \u001b[32m━━━━━━━━━━━━━━━━━━━━\u001b[0m\u001b[37m\u001b[0m \u001b[1m5s\u001b[0m 26ms/step - loss: 0.5469 - mae: 0.5435 - val_loss: 0.7084 - val_mae: 0.6683 - learning_rate: 1.0000e-04\n",
      "Epoch 45/150\n",
      "\u001b[1m83/83\u001b[0m \u001b[32m━━━━━━━━━━━━━━━━━━━━\u001b[0m\u001b[37m\u001b[0m \u001b[1m2s\u001b[0m 27ms/step - loss: 0.5470 - mae: 0.5440 - val_loss: 0.7076 - val_mae: 0.6677 - learning_rate: 1.0000e-04\n",
      "Epoch 46/150\n",
      "\u001b[1m83/83\u001b[0m \u001b[32m━━━━━━━━━━━━━━━━━━━━\u001b[0m\u001b[37m\u001b[0m \u001b[1m3s\u001b[0m 30ms/step - loss: 0.5479 - mae: 0.5443 - val_loss: 0.7074 - val_mae: 0.6675 - learning_rate: 1.0000e-04\n",
      "Epoch 47/150\n",
      "\u001b[1m83/83\u001b[0m \u001b[32m━━━━━━━━━━━━━━━━━━━━\u001b[0m\u001b[37m\u001b[0m \u001b[1m3s\u001b[0m 29ms/step - loss: 0.5479 - mae: 0.5443 - val_loss: 0.7077 - val_mae: 0.6678 - learning_rate: 1.0000e-04\n",
      "Epoch 48/150\n",
      "\u001b[1m83/83\u001b[0m \u001b[32m━━━━━━━━━━━━━━━━━━━━\u001b[0m\u001b[37m\u001b[0m \u001b[1m2s\u001b[0m 26ms/step - loss: 0.5488 - mae: 0.5443 - val_loss: 0.7095 - val_mae: 0.6689 - learning_rate: 1.0000e-04\n",
      "Epoch 49/150\n",
      "\u001b[1m83/83\u001b[0m \u001b[32m━━━━━━━━━━━━━━━━━━━━\u001b[0m\u001b[37m\u001b[0m \u001b[1m2s\u001b[0m 27ms/step - loss: 0.5476 - mae: 0.5443 - val_loss: 0.7101 - val_mae: 0.6693 - learning_rate: 1.0000e-04\n",
      "Epoch 50/150\n",
      "\u001b[1m83/83\u001b[0m \u001b[32m━━━━━━━━━━━━━━━━━━━━\u001b[0m\u001b[37m\u001b[0m \u001b[1m3s\u001b[0m 30ms/step - loss: 0.5468 - mae: 0.5436 - val_loss: 0.7083 - val_mae: 0.6681 - learning_rate: 1.0000e-04\n",
      "Epoch 51/150\n",
      "\u001b[1m83/83\u001b[0m \u001b[32m━━━━━━━━━━━━━━━━━━━━\u001b[0m\u001b[37m\u001b[0m \u001b[1m2s\u001b[0m 29ms/step - loss: 0.5479 - mae: 0.5440 - val_loss: 0.7084 - val_mae: 0.6680 - learning_rate: 1.0000e-04\n",
      "Epoch 52/150\n",
      "\u001b[1m83/83\u001b[0m \u001b[32m━━━━━━━━━━━━━━━━━━━━\u001b[0m\u001b[37m\u001b[0m \u001b[1m2s\u001b[0m 28ms/step - loss: 0.5465 - mae: 0.5433 - val_loss: 0.7083 - val_mae: 0.6679 - learning_rate: 1.0000e-05\n",
      "Epoch 53/150\n",
      "\u001b[1m83/83\u001b[0m \u001b[32m━━━━━━━━━━━━━━━━━━━━\u001b[0m\u001b[37m\u001b[0m \u001b[1m2s\u001b[0m 27ms/step - loss: 0.5469 - mae: 0.5432 - val_loss: 0.7084 - val_mae: 0.6679 - learning_rate: 1.0000e-05\n",
      "Epoch 54/150\n",
      "\u001b[1m83/83\u001b[0m \u001b[32m━━━━━━━━━━━━━━━━━━━━\u001b[0m\u001b[37m\u001b[0m \u001b[1m3s\u001b[0m 29ms/step - loss: 0.5474 - mae: 0.5436 - val_loss: 0.7086 - val_mae: 0.6681 - learning_rate: 1.0000e-05\n",
      "Epoch 55/150\n",
      "\u001b[1m83/83\u001b[0m \u001b[32m━━━━━━━━━━━━━━━━━━━━\u001b[0m\u001b[37m\u001b[0m \u001b[1m2s\u001b[0m 29ms/step - loss: 0.5474 - mae: 0.5437 - val_loss: 0.7088 - val_mae: 0.6682 - learning_rate: 1.0000e-05\n",
      "Epoch 56/150\n",
      "\u001b[1m83/83\u001b[0m \u001b[32m━━━━━━━━━━━━━━━━━━━━\u001b[0m\u001b[37m\u001b[0m \u001b[1m3s\u001b[0m 28ms/step - loss: 0.5463 - mae: 0.5430 - val_loss: 0.7087 - val_mae: 0.6682 - learning_rate: 1.0000e-05\n",
      "\n",
      "Entrenando modelo con semilla 303 (4/5)\n",
      "Epoch 1/150\n",
      "\u001b[1m83/83\u001b[0m \u001b[32m━━━━━━━━━━━━━━━━━━━━\u001b[0m\u001b[37m\u001b[0m \u001b[1m6s\u001b[0m 34ms/step - loss: 0.6102 - mae: 0.5689 - val_loss: 0.8091 - val_mae: 0.7316 - learning_rate: 0.0010\n",
      "Epoch 2/150\n",
      "\u001b[1m83/83\u001b[0m \u001b[32m━━━━━━━━━━━━━━━━━━━━\u001b[0m\u001b[37m\u001b[0m \u001b[1m5s\u001b[0m 27ms/step - loss: 0.5854 - mae: 0.5613 - val_loss: 0.7984 - val_mae: 0.7266 - learning_rate: 0.0010\n",
      "Epoch 3/150\n",
      "\u001b[1m83/83\u001b[0m \u001b[32m━━━━━━━━━━━━━━━━━━━━\u001b[0m\u001b[37m\u001b[0m \u001b[1m3s\u001b[0m 28ms/step - loss: 0.5760 - mae: 0.5580 - val_loss: 0.7972 - val_mae: 0.7262 - learning_rate: 0.0010\n",
      "Epoch 4/150\n",
      "\u001b[1m83/83\u001b[0m \u001b[32m━━━━━━━━━━━━━━━━━━━━\u001b[0m\u001b[37m\u001b[0m \u001b[1m3s\u001b[0m 29ms/step - loss: 0.5715 - mae: 0.5563 - val_loss: 0.7964 - val_mae: 0.7262 - learning_rate: 0.0010\n",
      "Epoch 5/150\n",
      "\u001b[1m83/83\u001b[0m \u001b[32m━━━━━━━━━━━━━━━━━━━━\u001b[0m\u001b[37m\u001b[0m \u001b[1m2s\u001b[0m 26ms/step - loss: 0.5691 - mae: 0.5552 - val_loss: 0.7932 - val_mae: 0.7244 - learning_rate: 0.0010\n",
      "Epoch 6/150\n",
      "\u001b[1m83/83\u001b[0m \u001b[32m━━━━━━━━━━━━━━━━━━━━\u001b[0m\u001b[37m\u001b[0m \u001b[1m2s\u001b[0m 28ms/step - loss: 0.5664 - mae: 0.5540 - val_loss: 0.7886 - val_mae: 0.7213 - learning_rate: 0.0010\n",
      "Epoch 7/150\n",
      "\u001b[1m83/83\u001b[0m \u001b[32m━━━━━━━━━━━━━━━━━━━━\u001b[0m\u001b[37m\u001b[0m \u001b[1m2s\u001b[0m 26ms/step - loss: 0.5656 - mae: 0.5539 - val_loss: 0.7870 - val_mae: 0.7200 - learning_rate: 0.0010\n",
      "Epoch 8/150\n",
      "\u001b[1m83/83\u001b[0m \u001b[32m━━━━━━━━━━━━━━━━━━━━\u001b[0m\u001b[37m\u001b[0m \u001b[1m2s\u001b[0m 28ms/step - loss: 0.5641 - mae: 0.5528 - val_loss: 0.7900 - val_mae: 0.7219 - learning_rate: 0.0010\n",
      "Epoch 9/150\n",
      "\u001b[1m83/83\u001b[0m \u001b[32m━━━━━━━━━━━━━━━━━━━━\u001b[0m\u001b[37m\u001b[0m \u001b[1m2s\u001b[0m 26ms/step - loss: 0.5624 - mae: 0.5523 - val_loss: 0.7927 - val_mae: 0.7231 - learning_rate: 0.0010\n",
      "Epoch 10/150\n",
      "\u001b[1m83/83\u001b[0m \u001b[32m━━━━━━━━━━━━━━━━━━━━\u001b[0m\u001b[37m\u001b[0m \u001b[1m2s\u001b[0m 28ms/step - loss: 0.5617 - mae: 0.5520 - val_loss: 0.7905 - val_mae: 0.7218 - learning_rate: 0.0010\n",
      "Epoch 11/150\n",
      "\u001b[1m83/83\u001b[0m \u001b[32m━━━━━━━━━━━━━━━━━━━━\u001b[0m\u001b[37m\u001b[0m \u001b[1m3s\u001b[0m 29ms/step - loss: 0.5598 - mae: 0.5512 - val_loss: 0.7914 - val_mae: 0.7224 - learning_rate: 0.0010\n",
      "Epoch 12/150\n",
      "\u001b[1m83/83\u001b[0m \u001b[32m━━━━━━━━━━━━━━━━━━━━\u001b[0m\u001b[37m\u001b[0m \u001b[1m3s\u001b[0m 32ms/step - loss: 0.5599 - mae: 0.5511 - val_loss: 0.7970 - val_mae: 0.7254 - learning_rate: 0.0010\n",
      "Epoch 13/150\n",
      "\u001b[1m83/83\u001b[0m \u001b[32m━━━━━━━━━━━━━━━━━━━━\u001b[0m\u001b[37m\u001b[0m \u001b[1m5s\u001b[0m 26ms/step - loss: 0.5590 - mae: 0.5507 - val_loss: 0.7969 - val_mae: 0.7255 - learning_rate: 0.0010\n",
      "Epoch 14/150\n",
      "\u001b[1m83/83\u001b[0m \u001b[32m━━━━━━━━━━━━━━━━━━━━\u001b[0m\u001b[37m\u001b[0m \u001b[1m2s\u001b[0m 27ms/step - loss: 0.5582 - mae: 0.5504 - val_loss: 0.7955 - val_mae: 0.7244 - learning_rate: 0.0010\n",
      "Epoch 15/150\n",
      "\u001b[1m83/83\u001b[0m \u001b[32m━━━━━━━━━━━━━━━━━━━━\u001b[0m\u001b[37m\u001b[0m \u001b[1m3s\u001b[0m 28ms/step - loss: 0.5575 - mae: 0.5506 - val_loss: 0.7941 - val_mae: 0.7237 - learning_rate: 0.0010\n",
      "Epoch 16/150\n",
      "\u001b[1m83/83\u001b[0m \u001b[32m━━━━━━━━━━━━━━━━━━━━\u001b[0m\u001b[37m\u001b[0m \u001b[1m3s\u001b[0m 28ms/step - loss: 0.5569 - mae: 0.5500 - val_loss: 0.7941 - val_mae: 0.7232 - learning_rate: 0.0010\n",
      "Epoch 17/150\n",
      "\u001b[1m83/83\u001b[0m \u001b[32m━━━━━━━━━━━━━━━━━━━━\u001b[0m\u001b[37m\u001b[0m \u001b[1m2s\u001b[0m 27ms/step - loss: 0.5560 - mae: 0.5492 - val_loss: 0.7935 - val_mae: 0.7227 - learning_rate: 0.0010\n",
      "Epoch 18/150\n",
      "\u001b[1m83/83\u001b[0m \u001b[32m━━━━━━━━━━━━━━━━━━━━\u001b[0m\u001b[37m\u001b[0m \u001b[1m2s\u001b[0m 28ms/step - loss: 0.5557 - mae: 0.5494 - val_loss: 0.7979 - val_mae: 0.7255 - learning_rate: 0.0010\n",
      "Epoch 19/150\n",
      "\u001b[1m83/83\u001b[0m \u001b[32m━━━━━━━━━━━━━━━━━━━━\u001b[0m\u001b[37m\u001b[0m \u001b[1m3s\u001b[0m 29ms/step - loss: 0.5554 - mae: 0.5496 - val_loss: 0.8018 - val_mae: 0.7278 - learning_rate: 0.0010\n",
      "Epoch 20/150\n",
      "\u001b[1m83/83\u001b[0m \u001b[32m━━━━━━━━━━━━━━━━━━━━\u001b[0m\u001b[37m\u001b[0m \u001b[1m3s\u001b[0m 29ms/step - loss: 0.5537 - mae: 0.5487 - val_loss: 0.7978 - val_mae: 0.7248 - learning_rate: 0.0010\n",
      "Epoch 21/150\n",
      "\u001b[1m83/83\u001b[0m \u001b[32m━━━━━━━━━━━━━━━━━━━━\u001b[0m\u001b[37m\u001b[0m \u001b[1m3s\u001b[0m 30ms/step - loss: 0.5539 - mae: 0.5490 - val_loss: 0.8004 - val_mae: 0.7265 - learning_rate: 0.0010\n",
      "Epoch 22/150\n",
      "\u001b[1m83/83\u001b[0m \u001b[32m━━━━━━━━━━━━━━━━━━━━\u001b[0m\u001b[37m\u001b[0m \u001b[1m3s\u001b[0m 29ms/step - loss: 0.5531 - mae: 0.5484 - val_loss: 0.7951 - val_mae: 0.7235 - learning_rate: 0.0010\n",
      "Epoch 23/150\n",
      "\u001b[1m83/83\u001b[0m \u001b[32m━━━━━━━━━━━━━━━━━━━━\u001b[0m\u001b[37m\u001b[0m \u001b[1m3s\u001b[0m 29ms/step - loss: 0.5532 - mae: 0.5518 - val_loss: 0.7288 - val_mae: 0.6825 - learning_rate: 1.0000e-04\n",
      "Epoch 24/150\n",
      "\u001b[1m83/83\u001b[0m \u001b[32m━━━━━━━━━━━━━━━━━━━━\u001b[0m\u001b[37m\u001b[0m \u001b[1m2s\u001b[0m 26ms/step - loss: 0.5487 - mae: 0.5458 - val_loss: 0.7186 - val_mae: 0.6756 - learning_rate: 1.0000e-04\n",
      "Epoch 25/150\n",
      "\u001b[1m83/83\u001b[0m \u001b[32m━━━━━━━━━━━━━━━━━━━━\u001b[0m\u001b[37m\u001b[0m \u001b[1m2s\u001b[0m 27ms/step - loss: 0.5480 - mae: 0.5455 - val_loss: 0.7173 - val_mae: 0.6746 - learning_rate: 1.0000e-04\n",
      "Epoch 26/150\n",
      "\u001b[1m83/83\u001b[0m \u001b[32m━━━━━━━━━━━━━━━━━━━━\u001b[0m\u001b[37m\u001b[0m \u001b[1m3s\u001b[0m 30ms/step - loss: 0.5488 - mae: 0.5457 - val_loss: 0.7169 - val_mae: 0.6742 - learning_rate: 1.0000e-04\n",
      "Epoch 27/150\n",
      "\u001b[1m83/83\u001b[0m \u001b[32m━━━━━━━━━━━━━━━━━━━━\u001b[0m\u001b[37m\u001b[0m \u001b[1m2s\u001b[0m 29ms/step - loss: 0.5482 - mae: 0.5452 - val_loss: 0.7163 - val_mae: 0.6737 - learning_rate: 1.0000e-04\n",
      "Epoch 28/150\n",
      "\u001b[1m83/83\u001b[0m \u001b[32m━━━━━━━━━━━━━━━━━━━━\u001b[0m\u001b[37m\u001b[0m \u001b[1m3s\u001b[0m 33ms/step - loss: 0.5459 - mae: 0.5439 - val_loss: 0.7167 - val_mae: 0.6738 - learning_rate: 1.0000e-04\n",
      "Epoch 29/150\n",
      "\u001b[1m83/83\u001b[0m \u001b[32m━━━━━━━━━━━━━━━━━━━━\u001b[0m\u001b[37m\u001b[0m \u001b[1m2s\u001b[0m 29ms/step - loss: 0.5473 - mae: 0.5442 - val_loss: 0.7167 - val_mae: 0.6738 - learning_rate: 1.0000e-04\n",
      "Epoch 30/150\n",
      "\u001b[1m83/83\u001b[0m \u001b[32m━━━━━━━━━━━━━━━━━━━━\u001b[0m\u001b[37m\u001b[0m \u001b[1m3s\u001b[0m 32ms/step - loss: 0.5477 - mae: 0.5448 - val_loss: 0.7164 - val_mae: 0.6737 - learning_rate: 1.0000e-04\n",
      "Epoch 31/150\n",
      "\u001b[1m83/83\u001b[0m \u001b[32m━━━━━━━━━━━━━━━━━━━━\u001b[0m\u001b[37m\u001b[0m \u001b[1m3s\u001b[0m 34ms/step - loss: 0.5468 - mae: 0.5444 - val_loss: 0.7163 - val_mae: 0.6736 - learning_rate: 1.0000e-04\n",
      "Epoch 32/150\n",
      "\u001b[1m83/83\u001b[0m \u001b[32m━━━━━━━━━━━━━━━━━━━━\u001b[0m\u001b[37m\u001b[0m \u001b[1m3s\u001b[0m 32ms/step - loss: 0.5472 - mae: 0.5444 - val_loss: 0.7161 - val_mae: 0.6734 - learning_rate: 1.0000e-04\n",
      "Epoch 33/150\n",
      "\u001b[1m83/83\u001b[0m \u001b[32m━━━━━━━━━━━━━━━━━━━━\u001b[0m\u001b[37m\u001b[0m \u001b[1m5s\u001b[0m 31ms/step - loss: 0.5462 - mae: 0.5444 - val_loss: 0.7158 - val_mae: 0.6731 - learning_rate: 1.0000e-04\n",
      "Epoch 34/150\n",
      "\u001b[1m83/83\u001b[0m \u001b[32m━━━━━━━━━━━━━━━━━━━━\u001b[0m\u001b[37m\u001b[0m \u001b[1m3s\u001b[0m 34ms/step - loss: 0.5463 - mae: 0.5442 - val_loss: 0.7159 - val_mae: 0.6733 - learning_rate: 1.0000e-04\n",
      "Epoch 35/150\n",
      "\u001b[1m83/83\u001b[0m \u001b[32m━━━━━━━━━━━━━━━━━━━━\u001b[0m\u001b[37m\u001b[0m \u001b[1m2s\u001b[0m 29ms/step - loss: 0.5461 - mae: 0.5444 - val_loss: 0.7157 - val_mae: 0.6731 - learning_rate: 1.0000e-04\n",
      "Epoch 36/150\n",
      "\u001b[1m83/83\u001b[0m \u001b[32m━━━━━━━━━━━━━━━━━━━━\u001b[0m\u001b[37m\u001b[0m \u001b[1m3s\u001b[0m 30ms/step - loss: 0.5455 - mae: 0.5439 - val_loss: 0.7153 - val_mae: 0.6729 - learning_rate: 1.0000e-04\n",
      "Epoch 37/150\n",
      "\u001b[1m83/83\u001b[0m \u001b[32m━━━━━━━━━━━━━━━━━━━━\u001b[0m\u001b[37m\u001b[0m \u001b[1m3s\u001b[0m 31ms/step - loss: 0.5457 - mae: 0.5442 - val_loss: 0.7163 - val_mae: 0.6734 - learning_rate: 1.0000e-04\n",
      "Epoch 38/150\n",
      "\u001b[1m83/83\u001b[0m \u001b[32m━━━━━━━━━━━━━━━━━━━━\u001b[0m\u001b[37m\u001b[0m \u001b[1m3s\u001b[0m 30ms/step - loss: 0.5460 - mae: 0.5444 - val_loss: 0.7166 - val_mae: 0.6735 - learning_rate: 1.0000e-04\n",
      "Epoch 39/150\n",
      "\u001b[1m83/83\u001b[0m \u001b[32m━━━━━━━━━━━━━━━━━━━━\u001b[0m\u001b[37m\u001b[0m \u001b[1m2s\u001b[0m 27ms/step - loss: 0.5462 - mae: 0.5445 - val_loss: 0.7162 - val_mae: 0.6733 - learning_rate: 1.0000e-04\n",
      "Epoch 40/150\n",
      "\u001b[1m83/83\u001b[0m \u001b[32m━━━━━━━━━━━━━━━━━━━━\u001b[0m\u001b[37m\u001b[0m \u001b[1m2s\u001b[0m 29ms/step - loss: 0.5461 - mae: 0.5441 - val_loss: 0.7163 - val_mae: 0.6734 - learning_rate: 1.0000e-04\n",
      "Epoch 41/150\n",
      "\u001b[1m83/83\u001b[0m \u001b[32m━━━━━━━━━━━━━━━━━━━━\u001b[0m\u001b[37m\u001b[0m \u001b[1m2s\u001b[0m 28ms/step - loss: 0.5454 - mae: 0.5436 - val_loss: 0.7158 - val_mae: 0.6731 - learning_rate: 1.0000e-04\n",
      "Epoch 42/150\n",
      "\u001b[1m83/83\u001b[0m \u001b[32m━━━━━━━━━━━━━━━━━━━━\u001b[0m\u001b[37m\u001b[0m \u001b[1m3s\u001b[0m 32ms/step - loss: 0.5455 - mae: 0.5440 - val_loss: 0.7170 - val_mae: 0.6738 - learning_rate: 1.0000e-04\n",
      "Epoch 43/150\n",
      "\u001b[1m83/83\u001b[0m \u001b[32m━━━━━━━━━━━━━━━━━━━━\u001b[0m\u001b[37m\u001b[0m \u001b[1m3s\u001b[0m 32ms/step - loss: 0.5462 - mae: 0.5443 - val_loss: 0.7155 - val_mae: 0.6729 - learning_rate: 1.0000e-04\n",
      "Epoch 44/150\n",
      "\u001b[1m83/83\u001b[0m \u001b[32m━━━━━━━━━━━━━━━━━━━━\u001b[0m\u001b[37m\u001b[0m \u001b[1m5s\u001b[0m 25ms/step - loss: 0.5453 - mae: 0.5438 - val_loss: 0.7165 - val_mae: 0.6735 - learning_rate: 1.0000e-04\n",
      "Epoch 45/150\n",
      "\u001b[1m83/83\u001b[0m \u001b[32m━━━━━━━━━━━━━━━━━━━━\u001b[0m\u001b[37m\u001b[0m \u001b[1m3s\u001b[0m 30ms/step - loss: 0.5450 - mae: 0.5437 - val_loss: 0.7176 - val_mae: 0.6742 - learning_rate: 1.0000e-04\n",
      "Epoch 46/150\n",
      "\u001b[1m83/83\u001b[0m \u001b[32m━━━━━━━━━━━━━━━━━━━━\u001b[0m\u001b[37m\u001b[0m \u001b[1m3s\u001b[0m 31ms/step - loss: 0.5456 - mae: 0.5439 - val_loss: 0.7180 - val_mae: 0.6745 - learning_rate: 1.0000e-04\n",
      "Epoch 47/150\n",
      "\u001b[1m83/83\u001b[0m \u001b[32m━━━━━━━━━━━━━━━━━━━━\u001b[0m\u001b[37m\u001b[0m \u001b[1m3s\u001b[0m 30ms/step - loss: 0.5454 - mae: 0.5437 - val_loss: 0.7157 - val_mae: 0.6730 - learning_rate: 1.0000e-04\n",
      "Epoch 48/150\n",
      "\u001b[1m83/83\u001b[0m \u001b[32m━━━━━━━━━━━━━━━━━━━━\u001b[0m\u001b[37m\u001b[0m \u001b[1m3s\u001b[0m 30ms/step - loss: 0.5443 - mae: 0.5433 - val_loss: 0.7170 - val_mae: 0.6738 - learning_rate: 1.0000e-04\n",
      "Epoch 49/150\n",
      "\u001b[1m83/83\u001b[0m \u001b[32m━━━━━━━━━━━━━━━━━━━━\u001b[0m\u001b[37m\u001b[0m \u001b[1m3s\u001b[0m 30ms/step - loss: 0.5447 - mae: 0.5436 - val_loss: 0.7177 - val_mae: 0.6742 - learning_rate: 1.0000e-04\n",
      "Epoch 50/150\n",
      "\u001b[1m83/83\u001b[0m \u001b[32m━━━━━━━━━━━━━━━━━━━━\u001b[0m\u001b[37m\u001b[0m \u001b[1m3s\u001b[0m 32ms/step - loss: 0.5450 - mae: 0.5438 - val_loss: 0.7165 - val_mae: 0.6734 - learning_rate: 1.0000e-04\n",
      "Epoch 51/150\n",
      "\u001b[1m83/83\u001b[0m \u001b[32m━━━━━━━━━━━━━━━━━━━━\u001b[0m\u001b[37m\u001b[0m \u001b[1m3s\u001b[0m 32ms/step - loss: 0.5448 - mae: 0.5434 - val_loss: 0.7161 - val_mae: 0.6731 - learning_rate: 1.0000e-04\n",
      "Epoch 52/150\n",
      "\u001b[1m83/83\u001b[0m \u001b[32m━━━━━━━━━━━━━━━━━━━━\u001b[0m\u001b[37m\u001b[0m \u001b[1m3s\u001b[0m 31ms/step - loss: 0.5445 - mae: 0.5437 - val_loss: 0.7149 - val_mae: 0.6724 - learning_rate: 1.0000e-05\n",
      "Epoch 53/150\n",
      "\u001b[1m83/83\u001b[0m \u001b[32m━━━━━━━━━━━━━━━━━━━━\u001b[0m\u001b[37m\u001b[0m \u001b[1m5s\u001b[0m 31ms/step - loss: 0.5447 - mae: 0.5436 - val_loss: 0.7137 - val_mae: 0.6716 - learning_rate: 1.0000e-05\n",
      "Epoch 54/150\n",
      "\u001b[1m83/83\u001b[0m \u001b[32m━━━━━━━━━━━━━━━━━━━━\u001b[0m\u001b[37m\u001b[0m \u001b[1m3s\u001b[0m 32ms/step - loss: 0.5455 - mae: 0.5444 - val_loss: 0.7130 - val_mae: 0.6711 - learning_rate: 1.0000e-05\n",
      "Epoch 55/150\n",
      "\u001b[1m83/83\u001b[0m \u001b[32m━━━━━━━━━━━━━━━━━━━━\u001b[0m\u001b[37m\u001b[0m \u001b[1m3s\u001b[0m 31ms/step - loss: 0.5437 - mae: 0.5434 - val_loss: 0.7122 - val_mae: 0.6706 - learning_rate: 1.0000e-05\n",
      "Epoch 56/150\n",
      "\u001b[1m83/83\u001b[0m \u001b[32m━━━━━━━━━━━━━━━━━━━━\u001b[0m\u001b[37m\u001b[0m \u001b[1m3s\u001b[0m 28ms/step - loss: 0.5439 - mae: 0.5432 - val_loss: 0.7115 - val_mae: 0.6702 - learning_rate: 1.0000e-05\n",
      "Epoch 57/150\n",
      "\u001b[1m83/83\u001b[0m \u001b[32m━━━━━━━━━━━━━━━━━━━━\u001b[0m\u001b[37m\u001b[0m \u001b[1m2s\u001b[0m 29ms/step - loss: 0.5444 - mae: 0.5432 - val_loss: 0.7112 - val_mae: 0.6700 - learning_rate: 1.0000e-05\n",
      "Epoch 58/150\n",
      "\u001b[1m83/83\u001b[0m \u001b[32m━━━━━━━━━━━━━━━━━━━━\u001b[0m\u001b[37m\u001b[0m \u001b[1m2s\u001b[0m 28ms/step - loss: 0.5452 - mae: 0.5432 - val_loss: 0.7111 - val_mae: 0.6699 - learning_rate: 1.0000e-05\n",
      "Epoch 59/150\n",
      "\u001b[1m83/83\u001b[0m \u001b[32m━━━━━━━━━━━━━━━━━━━━\u001b[0m\u001b[37m\u001b[0m \u001b[1m3s\u001b[0m 33ms/step - loss: 0.5449 - mae: 0.5435 - val_loss: 0.7106 - val_mae: 0.6696 - learning_rate: 1.0000e-05\n",
      "Epoch 60/150\n",
      "\u001b[1m83/83\u001b[0m \u001b[32m━━━━━━━━━━━━━━━━━━━━\u001b[0m\u001b[37m\u001b[0m \u001b[1m3s\u001b[0m 30ms/step - loss: 0.5447 - mae: 0.5432 - val_loss: 0.7105 - val_mae: 0.6696 - learning_rate: 1.0000e-05\n",
      "Epoch 61/150\n",
      "\u001b[1m83/83\u001b[0m \u001b[32m━━━━━━━━━━━━━━━━━━━━\u001b[0m\u001b[37m\u001b[0m \u001b[1m3s\u001b[0m 33ms/step - loss: 0.5449 - mae: 0.5431 - val_loss: 0.7106 - val_mae: 0.6696 - learning_rate: 1.0000e-05\n",
      "Epoch 62/150\n",
      "\u001b[1m83/83\u001b[0m \u001b[32m━━━━━━━━━━━━━━━━━━━━\u001b[0m\u001b[37m\u001b[0m \u001b[1m3s\u001b[0m 29ms/step - loss: 0.5441 - mae: 0.5428 - val_loss: 0.7107 - val_mae: 0.6697 - learning_rate: 1.0000e-05\n",
      "Epoch 63/150\n",
      "\u001b[1m83/83\u001b[0m \u001b[32m━━━━━━━━━━━━━━━━━━━━\u001b[0m\u001b[37m\u001b[0m \u001b[1m3s\u001b[0m 33ms/step - loss: 0.5447 - mae: 0.5432 - val_loss: 0.7107 - val_mae: 0.6697 - learning_rate: 1.0000e-05\n",
      "Epoch 64/150\n",
      "\u001b[1m83/83\u001b[0m \u001b[32m━━━━━━━━━━━━━━━━━━━━\u001b[0m\u001b[37m\u001b[0m \u001b[1m5s\u001b[0m 25ms/step - loss: 0.5436 - mae: 0.5428 - val_loss: 0.7105 - val_mae: 0.6695 - learning_rate: 1.0000e-05\n",
      "Epoch 65/150\n",
      "\u001b[1m83/83\u001b[0m \u001b[32m━━━━━━━━━━━━━━━━━━━━\u001b[0m\u001b[37m\u001b[0m \u001b[1m2s\u001b[0m 29ms/step - loss: 0.5438 - mae: 0.5429 - val_loss: 0.7103 - val_mae: 0.6694 - learning_rate: 1.0000e-05\n",
      "Epoch 66/150\n",
      "\u001b[1m83/83\u001b[0m \u001b[32m━━━━━━━━━━━━━━━━━━━━\u001b[0m\u001b[37m\u001b[0m \u001b[1m2s\u001b[0m 28ms/step - loss: 0.5440 - mae: 0.5426 - val_loss: 0.7100 - val_mae: 0.6692 - learning_rate: 1.0000e-05\n",
      "Epoch 67/150\n",
      "\u001b[1m83/83\u001b[0m \u001b[32m━━━━━━━━━━━━━━━━━━━━\u001b[0m\u001b[37m\u001b[0m \u001b[1m2s\u001b[0m 29ms/step - loss: 0.5450 - mae: 0.5432 - val_loss: 0.7099 - val_mae: 0.6691 - learning_rate: 1.0000e-05\n",
      "Epoch 68/150\n",
      "\u001b[1m83/83\u001b[0m \u001b[32m━━━━━━━━━━━━━━━━━━━━\u001b[0m\u001b[37m\u001b[0m \u001b[1m3s\u001b[0m 29ms/step - loss: 0.5448 - mae: 0.5433 - val_loss: 0.7100 - val_mae: 0.6692 - learning_rate: 1.0000e-05\n",
      "Epoch 69/150\n",
      "\u001b[1m83/83\u001b[0m \u001b[32m━━━━━━━━━━━━━━━━━━━━\u001b[0m\u001b[37m\u001b[0m \u001b[1m3s\u001b[0m 31ms/step - loss: 0.5453 - mae: 0.5434 - val_loss: 0.7097 - val_mae: 0.6690 - learning_rate: 1.0000e-05\n",
      "Epoch 70/150\n",
      "\u001b[1m83/83\u001b[0m \u001b[32m━━━━━━━━━━━━━━━━━━━━\u001b[0m\u001b[37m\u001b[0m \u001b[1m3s\u001b[0m 31ms/step - loss: 0.5444 - mae: 0.5429 - val_loss: 0.7098 - val_mae: 0.6691 - learning_rate: 1.0000e-05\n",
      "Epoch 71/150\n",
      "\u001b[1m83/83\u001b[0m \u001b[32m━━━━━━━━━━━━━━━━━━━━\u001b[0m\u001b[37m\u001b[0m \u001b[1m2s\u001b[0m 26ms/step - loss: 0.5443 - mae: 0.5427 - val_loss: 0.7098 - val_mae: 0.6690 - learning_rate: 1.0000e-05\n",
      "Epoch 72/150\n",
      "\u001b[1m83/83\u001b[0m \u001b[32m━━━━━━━━━━━━━━━━━━━━\u001b[0m\u001b[37m\u001b[0m \u001b[1m3s\u001b[0m 29ms/step - loss: 0.5451 - mae: 0.5435 - val_loss: 0.7097 - val_mae: 0.6690 - learning_rate: 1.0000e-05\n",
      "Epoch 73/150\n",
      "\u001b[1m83/83\u001b[0m \u001b[32m━━━━━━━━━━━━━━━━━━━━\u001b[0m\u001b[37m\u001b[0m \u001b[1m3s\u001b[0m 31ms/step - loss: 0.5434 - mae: 0.5424 - val_loss: 0.7096 - val_mae: 0.6689 - learning_rate: 1.0000e-05\n",
      "Epoch 74/150\n",
      "\u001b[1m83/83\u001b[0m \u001b[32m━━━━━━━━━━━━━━━━━━━━\u001b[0m\u001b[37m\u001b[0m \u001b[1m2s\u001b[0m 29ms/step - loss: 0.5442 - mae: 0.5431 - val_loss: 0.7097 - val_mae: 0.6690 - learning_rate: 1.0000e-05\n",
      "Epoch 75/150\n",
      "\u001b[1m83/83\u001b[0m \u001b[32m━━━━━━━━━━━━━━━━━━━━\u001b[0m\u001b[37m\u001b[0m \u001b[1m3s\u001b[0m 31ms/step - loss: 0.5442 - mae: 0.5428 - val_loss: 0.7098 - val_mae: 0.6690 - learning_rate: 1.0000e-05\n",
      "Epoch 76/150\n",
      "\u001b[1m83/83\u001b[0m \u001b[32m━━━━━━━━━━━━━━━━━━━━\u001b[0m\u001b[37m\u001b[0m \u001b[1m5s\u001b[0m 24ms/step - loss: 0.5445 - mae: 0.5431 - val_loss: 0.7097 - val_mae: 0.6690 - learning_rate: 1.0000e-05\n",
      "Epoch 77/150\n",
      "\u001b[1m83/83\u001b[0m \u001b[32m━━━━━━━━━━━━━━━━━━━━\u001b[0m\u001b[37m\u001b[0m \u001b[1m3s\u001b[0m 29ms/step - loss: 0.5442 - mae: 0.5428 - val_loss: 0.7096 - val_mae: 0.6689 - learning_rate: 1.0000e-05\n",
      "Epoch 78/150\n",
      "\u001b[1m83/83\u001b[0m \u001b[32m━━━━━━━━━━━━━━━━━━━━\u001b[0m\u001b[37m\u001b[0m \u001b[1m3s\u001b[0m 31ms/step - loss: 0.5434 - mae: 0.5427 - val_loss: 0.7097 - val_mae: 0.6690 - learning_rate: 1.0000e-05\n",
      "Epoch 79/150\n",
      "\u001b[1m83/83\u001b[0m \u001b[32m━━━━━━━━━━━━━━━━━━━━\u001b[0m\u001b[37m\u001b[0m \u001b[1m2s\u001b[0m 26ms/step - loss: 0.5441 - mae: 0.5425 - val_loss: 0.7099 - val_mae: 0.6691 - learning_rate: 1.0000e-05\n",
      "Epoch 80/150\n",
      "\u001b[1m83/83\u001b[0m \u001b[32m━━━━━━━━━━━━━━━━━━━━\u001b[0m\u001b[37m\u001b[0m \u001b[1m3s\u001b[0m 27ms/step - loss: 0.5446 - mae: 0.5430 - val_loss: 0.7100 - val_mae: 0.6692 - learning_rate: 1.0000e-05\n",
      "Epoch 81/150\n",
      "\u001b[1m83/83\u001b[0m \u001b[32m━━━━━━━━━━━━━━━━━━━━\u001b[0m\u001b[37m\u001b[0m \u001b[1m3s\u001b[0m 31ms/step - loss: 0.5444 - mae: 0.5432 - val_loss: 0.7101 - val_mae: 0.6692 - learning_rate: 1.0000e-05\n",
      "Epoch 82/150\n",
      "\u001b[1m83/83\u001b[0m \u001b[32m━━━━━━━━━━━━━━━━━━━━\u001b[0m\u001b[37m\u001b[0m \u001b[1m5s\u001b[0m 26ms/step - loss: 0.5434 - mae: 0.5425 - val_loss: 0.7101 - val_mae: 0.6692 - learning_rate: 1.0000e-05\n",
      "Epoch 83/150\n",
      "\u001b[1m83/83\u001b[0m \u001b[32m━━━━━━━━━━━━━━━━━━━━\u001b[0m\u001b[37m\u001b[0m \u001b[1m2s\u001b[0m 26ms/step - loss: 0.5448 - mae: 0.5433 - val_loss: 0.7102 - val_mae: 0.6692 - learning_rate: 1.0000e-05\n",
      "Epoch 84/150\n",
      "\u001b[1m83/83\u001b[0m \u001b[32m━━━━━━━━━━━━━━━━━━━━\u001b[0m\u001b[37m\u001b[0m \u001b[1m3s\u001b[0m 32ms/step - loss: 0.5442 - mae: 0.5431 - val_loss: 0.7103 - val_mae: 0.6693 - learning_rate: 1.0000e-05\n",
      "Epoch 85/150\n",
      "\u001b[1m83/83\u001b[0m \u001b[32m━━━━━━━━━━━━━━━━━━━━\u001b[0m\u001b[37m\u001b[0m \u001b[1m2s\u001b[0m 29ms/step - loss: 0.5438 - mae: 0.5428 - val_loss: 0.7101 - val_mae: 0.6692 - learning_rate: 1.0000e-05\n",
      "Epoch 86/150\n",
      "\u001b[1m83/83\u001b[0m \u001b[32m━━━━━━━━━━━━━━━━━━━━\u001b[0m\u001b[37m\u001b[0m \u001b[1m3s\u001b[0m 31ms/step - loss: 0.5446 - mae: 0.5431 - val_loss: 0.7098 - val_mae: 0.6690 - learning_rate: 1.0000e-05\n",
      "Epoch 87/150\n",
      "\u001b[1m83/83\u001b[0m \u001b[32m━━━━━━━━━━━━━━━━━━━━\u001b[0m\u001b[37m\u001b[0m \u001b[1m3s\u001b[0m 30ms/step - loss: 0.5442 - mae: 0.5429 - val_loss: 0.7098 - val_mae: 0.6690 - learning_rate: 1.0000e-05\n",
      "Epoch 88/150\n",
      "\u001b[1m83/83\u001b[0m \u001b[32m━━━━━━━━━━━━━━━━━━━━\u001b[0m\u001b[37m\u001b[0m \u001b[1m2s\u001b[0m 27ms/step - loss: 0.5441 - mae: 0.5430 - val_loss: 0.7097 - val_mae: 0.6690 - learning_rate: 1.0000e-05\n",
      "Epoch 89/150\n",
      "\u001b[1m83/83\u001b[0m \u001b[32m━━━━━━━━━━━━━━━━━━━━\u001b[0m\u001b[37m\u001b[0m \u001b[1m3s\u001b[0m 27ms/step - loss: 0.5442 - mae: 0.5429 - val_loss: 0.7097 - val_mae: 0.6690 - learning_rate: 1.0000e-06\n",
      "Epoch 90/150\n",
      "\u001b[1m83/83\u001b[0m \u001b[32m━━━━━━━━━━━━━━━━━━━━\u001b[0m\u001b[37m\u001b[0m \u001b[1m3s\u001b[0m 28ms/step - loss: 0.5447 - mae: 0.5436 - val_loss: 0.7097 - val_mae: 0.6690 - learning_rate: 1.0000e-06\n",
      "Epoch 91/150\n",
      "\u001b[1m83/83\u001b[0m \u001b[32m━━━━━━━━━━━━━━━━━━━━\u001b[0m\u001b[37m\u001b[0m \u001b[1m3s\u001b[0m 32ms/step - loss: 0.5437 - mae: 0.5426 - val_loss: 0.7097 - val_mae: 0.6690 - learning_rate: 1.0000e-06\n",
      "Epoch 92/150\n",
      "\u001b[1m83/83\u001b[0m \u001b[32m━━━━━━━━━━━━━━━━━━━━\u001b[0m\u001b[37m\u001b[0m \u001b[1m2s\u001b[0m 28ms/step - loss: 0.5435 - mae: 0.5428 - val_loss: 0.7097 - val_mae: 0.6690 - learning_rate: 1.0000e-06\n",
      "Epoch 93/150\n",
      "\u001b[1m83/83\u001b[0m \u001b[32m━━━━━━━━━━━━━━━━━━━━\u001b[0m\u001b[37m\u001b[0m \u001b[1m2s\u001b[0m 28ms/step - loss: 0.5442 - mae: 0.5430 - val_loss: 0.7097 - val_mae: 0.6690 - learning_rate: 1.0000e-06\n",
      "\n",
      "Entrenando modelo con semilla 404 (5/5)\n",
      "Epoch 1/150\n",
      "\u001b[1m83/83\u001b[0m \u001b[32m━━━━━━━━━━━━━━━━━━━━\u001b[0m\u001b[37m\u001b[0m \u001b[1m6s\u001b[0m 36ms/step - loss: 0.6070 - mae: 0.5726 - val_loss: 0.7382 - val_mae: 0.6890 - learning_rate: 0.0010\n",
      "Epoch 2/150\n",
      "\u001b[1m83/83\u001b[0m \u001b[32m━━━━━━━━━━━━━━━━━━━━\u001b[0m\u001b[37m\u001b[0m \u001b[1m2s\u001b[0m 28ms/step - loss: 0.5831 - mae: 0.5618 - val_loss: 0.7166 - val_mae: 0.6757 - learning_rate: 0.0010\n",
      "Epoch 3/150\n",
      "\u001b[1m83/83\u001b[0m \u001b[32m━━━━━━━━━━━━━━━━━━━━\u001b[0m\u001b[37m\u001b[0m \u001b[1m3s\u001b[0m 31ms/step - loss: 0.5737 - mae: 0.5578 - val_loss: 0.7127 - val_mae: 0.6734 - learning_rate: 0.0010\n",
      "Epoch 4/150\n",
      "\u001b[1m83/83\u001b[0m \u001b[32m━━━━━━━━━━━━━━━━━━━━\u001b[0m\u001b[37m\u001b[0m \u001b[1m3s\u001b[0m 29ms/step - loss: 0.5700 - mae: 0.5561 - val_loss: 0.7086 - val_mae: 0.6714 - learning_rate: 0.0010\n",
      "Epoch 5/150\n",
      "\u001b[1m83/83\u001b[0m \u001b[32m━━━━━━━━━━━━━━━━━━━━\u001b[0m\u001b[37m\u001b[0m \u001b[1m3s\u001b[0m 34ms/step - loss: 0.5666 - mae: 0.5545 - val_loss: 0.7091 - val_mae: 0.6719 - learning_rate: 0.0010\n",
      "Epoch 6/150\n",
      "\u001b[1m83/83\u001b[0m \u001b[32m━━━━━━━━━━━━━━━━━━━━\u001b[0m\u001b[37m\u001b[0m \u001b[1m5s\u001b[0m 26ms/step - loss: 0.5644 - mae: 0.5538 - val_loss: 0.7082 - val_mae: 0.6715 - learning_rate: 0.0010\n",
      "Epoch 7/150\n",
      "\u001b[1m83/83\u001b[0m \u001b[32m━━━━━━━━━━━━━━━━━━━━\u001b[0m\u001b[37m\u001b[0m \u001b[1m3s\u001b[0m 31ms/step - loss: 0.5630 - mae: 0.5529 - val_loss: 0.7019 - val_mae: 0.6677 - learning_rate: 0.0010\n",
      "Epoch 8/150\n",
      "\u001b[1m83/83\u001b[0m \u001b[32m━━━━━━━━━━━━━━━━━━━━\u001b[0m\u001b[37m\u001b[0m \u001b[1m2s\u001b[0m 26ms/step - loss: 0.5614 - mae: 0.5521 - val_loss: 0.6949 - val_mae: 0.6631 - learning_rate: 0.0010\n",
      "Epoch 9/150\n",
      "\u001b[1m83/83\u001b[0m \u001b[32m━━━━━━━━━━━━━━━━━━━━\u001b[0m\u001b[37m\u001b[0m \u001b[1m3s\u001b[0m 28ms/step - loss: 0.5605 - mae: 0.5516 - val_loss: 0.6908 - val_mae: 0.6607 - learning_rate: 0.0010\n",
      "Epoch 10/150\n",
      "\u001b[1m83/83\u001b[0m \u001b[32m━━━━━━━━━━━━━━━━━━━━\u001b[0m\u001b[37m\u001b[0m \u001b[1m2s\u001b[0m 28ms/step - loss: 0.5590 - mae: 0.5510 - val_loss: 0.6919 - val_mae: 0.6610 - learning_rate: 0.0010\n",
      "Epoch 11/150\n",
      "\u001b[1m83/83\u001b[0m \u001b[32m━━━━━━━━━━━━━━━━━━━━\u001b[0m\u001b[37m\u001b[0m \u001b[1m3s\u001b[0m 27ms/step - loss: 0.5583 - mae: 0.5503 - val_loss: 0.6860 - val_mae: 0.6576 - learning_rate: 0.0010\n",
      "Epoch 12/150\n",
      "\u001b[1m83/83\u001b[0m \u001b[32m━━━━━━━━━━━━━━━━━━━━\u001b[0m\u001b[37m\u001b[0m \u001b[1m3s\u001b[0m 32ms/step - loss: 0.5579 - mae: 0.5503 - val_loss: 0.6822 - val_mae: 0.6551 - learning_rate: 0.0010\n",
      "Epoch 13/150\n",
      "\u001b[1m83/83\u001b[0m \u001b[32m━━━━━━━━━━━━━━━━━━━━\u001b[0m\u001b[37m\u001b[0m \u001b[1m3s\u001b[0m 37ms/step - loss: 0.5572 - mae: 0.5497 - val_loss: 0.6832 - val_mae: 0.6552 - learning_rate: 0.0010\n",
      "Epoch 14/150\n",
      "\u001b[1m83/83\u001b[0m \u001b[32m━━━━━━━━━━━━━━━━━━━━\u001b[0m\u001b[37m\u001b[0m \u001b[1m4s\u001b[0m 24ms/step - loss: 0.5568 - mae: 0.5496 - val_loss: 0.6780 - val_mae: 0.6518 - learning_rate: 0.0010\n",
      "Epoch 15/150\n",
      "\u001b[1m83/83\u001b[0m \u001b[32m━━━━━━━━━━━━━━━━━━━━\u001b[0m\u001b[37m\u001b[0m \u001b[1m3s\u001b[0m 29ms/step - loss: 0.5560 - mae: 0.5488 - val_loss: 0.6740 - val_mae: 0.6491 - learning_rate: 0.0010\n",
      "Epoch 16/150\n",
      "\u001b[1m83/83\u001b[0m \u001b[32m━━━━━━━━━━━━━━━━━━━━\u001b[0m\u001b[37m\u001b[0m \u001b[1m2s\u001b[0m 27ms/step - loss: 0.5558 - mae: 0.5488 - val_loss: 0.6740 - val_mae: 0.6487 - learning_rate: 0.0010\n",
      "Epoch 17/150\n",
      "\u001b[1m83/83\u001b[0m \u001b[32m━━━━━━━━━━━━━━━━━━━━\u001b[0m\u001b[37m\u001b[0m \u001b[1m2s\u001b[0m 29ms/step - loss: 0.5553 - mae: 0.5487 - val_loss: 0.6742 - val_mae: 0.6488 - learning_rate: 0.0010\n",
      "Epoch 18/150\n",
      "\u001b[1m83/83\u001b[0m \u001b[32m━━━━━━━━━━━━━━━━━━━━\u001b[0m\u001b[37m\u001b[0m \u001b[1m3s\u001b[0m 30ms/step - loss: 0.5544 - mae: 0.5480 - val_loss: 0.6710 - val_mae: 0.6464 - learning_rate: 0.0010\n",
      "Epoch 19/150\n",
      "\u001b[1m83/83\u001b[0m \u001b[32m━━━━━━━━━━━━━━━━━━━━\u001b[0m\u001b[37m\u001b[0m \u001b[1m3s\u001b[0m 31ms/step - loss: 0.5541 - mae: 0.5481 - val_loss: 0.6711 - val_mae: 0.6467 - learning_rate: 0.0010\n",
      "Epoch 20/150\n",
      "\u001b[1m83/83\u001b[0m \u001b[32m━━━━━━━━━━━━━━━━━━━━\u001b[0m\u001b[37m\u001b[0m \u001b[1m3s\u001b[0m 32ms/step - loss: 0.5533 - mae: 0.5478 - val_loss: 0.6633 - val_mae: 0.6418 - learning_rate: 0.0010\n",
      "Epoch 21/150\n",
      "\u001b[1m83/83\u001b[0m \u001b[32m━━━━━━━━━━━━━━━━━━━━\u001b[0m\u001b[37m\u001b[0m \u001b[1m3s\u001b[0m 30ms/step - loss: 0.5527 - mae: 0.5472 - val_loss: 0.6639 - val_mae: 0.6425 - learning_rate: 0.0010\n",
      "Epoch 22/150\n",
      "\u001b[1m83/83\u001b[0m \u001b[32m━━━━━━━━━━━━━━━━━━━━\u001b[0m\u001b[37m\u001b[0m \u001b[1m3s\u001b[0m 31ms/step - loss: 0.5525 - mae: 0.5472 - val_loss: 0.6600 - val_mae: 0.6395 - learning_rate: 0.0010\n",
      "Epoch 23/150\n",
      "\u001b[1m83/83\u001b[0m \u001b[32m━━━━━━━━━━━━━━━━━━━━\u001b[0m\u001b[37m\u001b[0m \u001b[1m3s\u001b[0m 30ms/step - loss: 0.5516 - mae: 0.5466 - val_loss: 0.6623 - val_mae: 0.6407 - learning_rate: 0.0010\n",
      "Epoch 24/150\n",
      "\u001b[1m83/83\u001b[0m \u001b[32m━━━━━━━━━━━━━━━━━━━━\u001b[0m\u001b[37m\u001b[0m \u001b[1m3s\u001b[0m 28ms/step - loss: 0.5509 - mae: 0.5461 - val_loss: 0.6637 - val_mae: 0.6414 - learning_rate: 0.0010\n",
      "Epoch 25/150\n",
      "\u001b[1m83/83\u001b[0m \u001b[32m━━━━━━━━━━━━━━━━━━━━\u001b[0m\u001b[37m\u001b[0m \u001b[1m3s\u001b[0m 28ms/step - loss: 0.5507 - mae: 0.5464 - val_loss: 0.6583 - val_mae: 0.6384 - learning_rate: 0.0010\n",
      "Epoch 26/150\n",
      "\u001b[1m83/83\u001b[0m \u001b[32m━━━━━━━━━━━━━━━━━━━━\u001b[0m\u001b[37m\u001b[0m \u001b[1m3s\u001b[0m 28ms/step - loss: 0.5508 - mae: 0.5465 - val_loss: 0.6553 - val_mae: 0.6359 - learning_rate: 0.0010\n",
      "Epoch 27/150\n",
      "\u001b[1m83/83\u001b[0m \u001b[32m━━━━━━━━━━━━━━━━━━━━\u001b[0m\u001b[37m\u001b[0m \u001b[1m3s\u001b[0m 31ms/step - loss: 0.5497 - mae: 0.5458 - val_loss: 0.6552 - val_mae: 0.6360 - learning_rate: 0.0010\n",
      "Epoch 28/150\n",
      "\u001b[1m83/83\u001b[0m \u001b[32m━━━━━━━━━━━━━━━━━━━━\u001b[0m\u001b[37m\u001b[0m \u001b[1m3s\u001b[0m 30ms/step - loss: 0.5493 - mae: 0.5450 - val_loss: 0.6492 - val_mae: 0.6322 - learning_rate: 0.0010\n",
      "Epoch 29/150\n",
      "\u001b[1m83/83\u001b[0m \u001b[32m━━━━━━━━━━━━━━━━━━━━\u001b[0m\u001b[37m\u001b[0m \u001b[1m2s\u001b[0m 27ms/step - loss: 0.5491 - mae: 0.5455 - val_loss: 0.6458 - val_mae: 0.6291 - learning_rate: 0.0010\n",
      "Epoch 30/150\n",
      "\u001b[1m83/83\u001b[0m \u001b[32m━━━━━━━━━━━━━━━━━━━━\u001b[0m\u001b[37m\u001b[0m \u001b[1m2s\u001b[0m 27ms/step - loss: 0.5483 - mae: 0.5447 - val_loss: 0.6516 - val_mae: 0.6337 - learning_rate: 0.0010\n",
      "Epoch 31/150\n",
      "\u001b[1m83/83\u001b[0m \u001b[32m━━━━━━━━━━━━━━━━━━━━\u001b[0m\u001b[37m\u001b[0m \u001b[1m3s\u001b[0m 27ms/step - loss: 0.5473 - mae: 0.5438 - val_loss: 0.6479 - val_mae: 0.6308 - learning_rate: 0.0010\n",
      "Epoch 32/150\n",
      "\u001b[1m83/83\u001b[0m \u001b[32m━━━━━━━━━━━━━━━━━━━━\u001b[0m\u001b[37m\u001b[0m \u001b[1m3s\u001b[0m 29ms/step - loss: 0.5486 - mae: 0.5448 - val_loss: 0.6479 - val_mae: 0.6309 - learning_rate: 0.0010\n",
      "Epoch 33/150\n",
      "\u001b[1m83/83\u001b[0m \u001b[32m━━━━━━━━━━━━━━━━━━━━\u001b[0m\u001b[37m\u001b[0m \u001b[1m3s\u001b[0m 35ms/step - loss: 0.5466 - mae: 0.5436 - val_loss: 0.6468 - val_mae: 0.6299 - learning_rate: 0.0010\n",
      "Epoch 34/150\n",
      "\u001b[1m83/83\u001b[0m \u001b[32m━━━━━━━━━━━━━━━━━━━━\u001b[0m\u001b[37m\u001b[0m \u001b[1m5s\u001b[0m 30ms/step - loss: 0.5472 - mae: 0.5437 - val_loss: 0.6419 - val_mae: 0.6268 - learning_rate: 0.0010\n",
      "Epoch 35/150\n",
      "\u001b[1m83/83\u001b[0m \u001b[32m━━━━━━━━━━━━━━━━━━━━\u001b[0m\u001b[37m\u001b[0m \u001b[1m2s\u001b[0m 28ms/step - loss: 0.5463 - mae: 0.5433 - val_loss: 0.6393 - val_mae: 0.6252 - learning_rate: 0.0010\n",
      "Epoch 36/150\n",
      "\u001b[1m83/83\u001b[0m \u001b[32m━━━━━━━━━━━━━━━━━━━━\u001b[0m\u001b[37m\u001b[0m \u001b[1m3s\u001b[0m 27ms/step - loss: 0.5461 - mae: 0.5432 - val_loss: 0.6435 - val_mae: 0.6278 - learning_rate: 0.0010\n",
      "Epoch 37/150\n",
      "\u001b[1m83/83\u001b[0m \u001b[32m━━━━━━━━━━━━━━━━━━━━\u001b[0m\u001b[37m\u001b[0m \u001b[1m3s\u001b[0m 31ms/step - loss: 0.5452 - mae: 0.5428 - val_loss: 0.6457 - val_mae: 0.6292 - learning_rate: 0.0010\n",
      "Epoch 38/150\n",
      "\u001b[1m83/83\u001b[0m \u001b[32m━━━━━━━━━━━━━━━━━━━━\u001b[0m\u001b[37m\u001b[0m \u001b[1m2s\u001b[0m 29ms/step - loss: 0.5445 - mae: 0.5418 - val_loss: 0.6406 - val_mae: 0.6257 - learning_rate: 0.0010\n",
      "Epoch 39/150\n",
      "\u001b[1m83/83\u001b[0m \u001b[32m━━━━━━━━━━━━━━━━━━━━\u001b[0m\u001b[37m\u001b[0m \u001b[1m2s\u001b[0m 29ms/step - loss: 0.5437 - mae: 0.5418 - val_loss: 0.6403 - val_mae: 0.6256 - learning_rate: 0.0010\n",
      "Epoch 40/150\n",
      "\u001b[1m83/83\u001b[0m \u001b[32m━━━━━━━━━━━━━━━━━━━━\u001b[0m\u001b[37m\u001b[0m \u001b[1m2s\u001b[0m 28ms/step - loss: 0.5442 - mae: 0.5420 - val_loss: 0.6348 - val_mae: 0.6218 - learning_rate: 0.0010\n",
      "Epoch 41/150\n",
      "\u001b[1m83/83\u001b[0m \u001b[32m━━━━━━━━━━━━━━━━━━━━\u001b[0m\u001b[37m\u001b[0m \u001b[1m3s\u001b[0m 32ms/step - loss: 0.5438 - mae: 0.5417 - val_loss: 0.6349 - val_mae: 0.6215 - learning_rate: 0.0010\n",
      "Epoch 42/150\n",
      "\u001b[1m83/83\u001b[0m \u001b[32m━━━━━━━━━━━━━━━━━━━━\u001b[0m\u001b[37m\u001b[0m \u001b[1m3s\u001b[0m 32ms/step - loss: 0.5421 - mae: 0.5407 - val_loss: 0.6349 - val_mae: 0.6218 - learning_rate: 0.0010\n",
      "Epoch 43/150\n",
      "\u001b[1m83/83\u001b[0m \u001b[32m━━━━━━━━━━━━━━━━━━━━\u001b[0m\u001b[37m\u001b[0m \u001b[1m3s\u001b[0m 30ms/step - loss: 0.5434 - mae: 0.5414 - val_loss: 0.6400 - val_mae: 0.6255 - learning_rate: 0.0010\n",
      "Epoch 44/150\n",
      "\u001b[1m83/83\u001b[0m \u001b[32m━━━━━━━━━━━━━━━━━━━━\u001b[0m\u001b[37m\u001b[0m \u001b[1m2s\u001b[0m 29ms/step - loss: 0.5425 - mae: 0.5415 - val_loss: 0.6400 - val_mae: 0.6246 - learning_rate: 0.0010\n",
      "Epoch 45/150\n",
      "\u001b[1m83/83\u001b[0m \u001b[32m━━━━━━━━━━━━━━━━━━━━\u001b[0m\u001b[37m\u001b[0m \u001b[1m3s\u001b[0m 30ms/step - loss: 0.5424 - mae: 0.5411 - val_loss: 0.6452 - val_mae: 0.6279 - learning_rate: 0.0010\n",
      "Epoch 46/150\n",
      "\u001b[1m83/83\u001b[0m \u001b[32m━━━━━━━━━━━━━━━━━━━━\u001b[0m\u001b[37m\u001b[0m \u001b[1m3s\u001b[0m 32ms/step - loss: 0.5416 - mae: 0.5401 - val_loss: 0.6331 - val_mae: 0.6202 - learning_rate: 0.0010\n",
      "Epoch 47/150\n",
      "\u001b[1m83/83\u001b[0m \u001b[32m━━━━━━━━━━━━━━━━━━━━\u001b[0m\u001b[37m\u001b[0m \u001b[1m3s\u001b[0m 31ms/step - loss: 0.5402 - mae: 0.5394 - val_loss: 0.6371 - val_mae: 0.6223 - learning_rate: 0.0010\n",
      "Epoch 48/150\n",
      "\u001b[1m83/83\u001b[0m \u001b[32m━━━━━━━━━━━━━━━━━━━━\u001b[0m\u001b[37m\u001b[0m \u001b[1m2s\u001b[0m 27ms/step - loss: 0.5405 - mae: 0.5395 - val_loss: 0.6378 - val_mae: 0.6235 - learning_rate: 0.0010\n",
      "Epoch 49/150\n",
      "\u001b[1m83/83\u001b[0m \u001b[32m━━━━━━━━━━━━━━━━━━━━\u001b[0m\u001b[37m\u001b[0m \u001b[1m3s\u001b[0m 30ms/step - loss: 0.5397 - mae: 0.5395 - val_loss: 0.6453 - val_mae: 0.6273 - learning_rate: 0.0010\n",
      "Epoch 50/150\n",
      "\u001b[1m83/83\u001b[0m \u001b[32m━━━━━━━━━━━━━━━━━━━━\u001b[0m\u001b[37m\u001b[0m \u001b[1m3s\u001b[0m 30ms/step - loss: 0.5395 - mae: 0.5391 - val_loss: 0.6388 - val_mae: 0.6233 - learning_rate: 0.0010\n",
      "Epoch 51/150\n",
      "\u001b[1m83/83\u001b[0m \u001b[32m━━━━━━━━━━━━━━━━━━━━\u001b[0m\u001b[37m\u001b[0m \u001b[1m2s\u001b[0m 27ms/step - loss: 0.5393 - mae: 0.5393 - val_loss: 0.6391 - val_mae: 0.6240 - learning_rate: 0.0010\n",
      "Epoch 52/150\n",
      "\u001b[1m83/83\u001b[0m \u001b[32m━━━━━━━━━━━━━━━━━━━━\u001b[0m\u001b[37m\u001b[0m \u001b[1m3s\u001b[0m 31ms/step - loss: 0.5386 - mae: 0.5388 - val_loss: 0.6321 - val_mae: 0.6186 - learning_rate: 0.0010\n",
      "Epoch 53/150\n",
      "\u001b[1m83/83\u001b[0m \u001b[32m━━━━━━━━━━━━━━━━━━━━\u001b[0m\u001b[37m\u001b[0m \u001b[1m3s\u001b[0m 32ms/step - loss: 0.5389 - mae: 0.5386 - val_loss: 0.6360 - val_mae: 0.6211 - learning_rate: 0.0010\n",
      "Epoch 54/150\n",
      "\u001b[1m83/83\u001b[0m \u001b[32m━━━━━━━━━━━━━━━━━━━━\u001b[0m\u001b[37m\u001b[0m \u001b[1m2s\u001b[0m 27ms/step - loss: 0.5381 - mae: 0.5389 - val_loss: 0.6403 - val_mae: 0.6242 - learning_rate: 0.0010\n",
      "Epoch 55/150\n",
      "\u001b[1m83/83\u001b[0m \u001b[32m━━━━━━━━━━━━━━━━━━━━\u001b[0m\u001b[37m\u001b[0m \u001b[1m3s\u001b[0m 30ms/step - loss: 0.5373 - mae: 0.5377 - val_loss: 0.6398 - val_mae: 0.6240 - learning_rate: 0.0010\n",
      "Epoch 56/150\n",
      "\u001b[1m83/83\u001b[0m \u001b[32m━━━━━━━━━━━━━━━━━━━━\u001b[0m\u001b[37m\u001b[0m \u001b[1m3s\u001b[0m 29ms/step - loss: 0.5357 - mae: 0.5369 - val_loss: 0.6394 - val_mae: 0.6227 - learning_rate: 0.0010\n",
      "Epoch 57/150\n",
      "\u001b[1m83/83\u001b[0m \u001b[32m━━━━━━━━━━━━━━━━━━━━\u001b[0m\u001b[37m\u001b[0m \u001b[1m3s\u001b[0m 28ms/step - loss: 0.5369 - mae: 0.5378 - val_loss: 0.6352 - val_mae: 0.6204 - learning_rate: 0.0010\n",
      "Epoch 58/150\n",
      "\u001b[1m83/83\u001b[0m \u001b[32m━━━━━━━━━━━━━━━━━━━━\u001b[0m\u001b[37m\u001b[0m \u001b[1m3s\u001b[0m 31ms/step - loss: 0.5346 - mae: 0.5366 - val_loss: 0.6417 - val_mae: 0.6240 - learning_rate: 0.0010\n",
      "Epoch 59/150\n",
      "\u001b[1m83/83\u001b[0m \u001b[32m━━━━━━━━━━━━━━━━━━━━\u001b[0m\u001b[37m\u001b[0m \u001b[1m3s\u001b[0m 31ms/step - loss: 0.5345 - mae: 0.5370 - val_loss: 0.6425 - val_mae: 0.6244 - learning_rate: 0.0010\n",
      "Epoch 60/150\n",
      "\u001b[1m83/83\u001b[0m \u001b[32m━━━━━━━━━━━━━━━━━━━━\u001b[0m\u001b[37m\u001b[0m \u001b[1m2s\u001b[0m 28ms/step - loss: 0.5345 - mae: 0.5366 - val_loss: 0.6395 - val_mae: 0.6218 - learning_rate: 0.0010\n",
      "Epoch 61/150\n",
      "\u001b[1m83/83\u001b[0m \u001b[32m━━━━━━━━━━━━━━━━━━━━\u001b[0m\u001b[37m\u001b[0m \u001b[1m3s\u001b[0m 28ms/step - loss: 0.5337 - mae: 0.5363 - val_loss: 0.6391 - val_mae: 0.6223 - learning_rate: 0.0010\n",
      "Epoch 62/150\n",
      "\u001b[1m83/83\u001b[0m \u001b[32m━━━━━━━━━━━━━━━━━━━━\u001b[0m\u001b[37m\u001b[0m \u001b[1m3s\u001b[0m 30ms/step - loss: 0.5345 - mae: 0.5364 - val_loss: 0.6431 - val_mae: 0.6250 - learning_rate: 0.0010\n",
      "Epoch 63/150\n",
      "\u001b[1m83/83\u001b[0m \u001b[32m━━━━━━━━━━━━━━━━━━━━\u001b[0m\u001b[37m\u001b[0m \u001b[1m3s\u001b[0m 30ms/step - loss: 0.5335 - mae: 0.5358 - val_loss: 0.6456 - val_mae: 0.6266 - learning_rate: 0.0010\n",
      "Epoch 64/150\n",
      "\u001b[1m83/83\u001b[0m \u001b[32m━━━━━━━━━━━━━━━━━━━━\u001b[0m\u001b[37m\u001b[0m \u001b[1m3s\u001b[0m 29ms/step - loss: 0.5320 - mae: 0.5350 - val_loss: 0.6321 - val_mae: 0.6174 - learning_rate: 0.0010\n",
      "Epoch 65/150\n",
      "\u001b[1m83/83\u001b[0m \u001b[32m━━━━━━━━━━━━━━━━━━━━\u001b[0m\u001b[37m\u001b[0m \u001b[1m3s\u001b[0m 29ms/step - loss: 0.5310 - mae: 0.5345 - val_loss: 0.6351 - val_mae: 0.6193 - learning_rate: 0.0010\n",
      "Epoch 66/150\n",
      "\u001b[1m83/83\u001b[0m \u001b[32m━━━━━━━━━━━━━━━━━━━━\u001b[0m\u001b[37m\u001b[0m \u001b[1m3s\u001b[0m 30ms/step - loss: 0.5309 - mae: 0.5348 - val_loss: 0.6505 - val_mae: 0.6287 - learning_rate: 0.0010\n",
      "Epoch 67/150\n",
      "\u001b[1m83/83\u001b[0m \u001b[32m━━━━━━━━━━━━━━━━━━━━\u001b[0m\u001b[37m\u001b[0m \u001b[1m3s\u001b[0m 29ms/step - loss: 0.5299 - mae: 0.5341 - val_loss: 0.6321 - val_mae: 0.6176 - learning_rate: 0.0010\n",
      "Epoch 68/150\n",
      "\u001b[1m83/83\u001b[0m \u001b[32m━━━━━━━━━━━━━━━━━━━━\u001b[0m\u001b[37m\u001b[0m \u001b[1m2s\u001b[0m 29ms/step - loss: 0.5300 - mae: 0.5322 - val_loss: 0.6756 - val_mae: 0.6458 - learning_rate: 1.0000e-04\n",
      "Epoch 69/150\n",
      "\u001b[1m83/83\u001b[0m \u001b[32m━━━━━━━━━━━━━━━━━━━━\u001b[0m\u001b[37m\u001b[0m \u001b[1m2s\u001b[0m 28ms/step - loss: 0.5259 - mae: 0.5316 - val_loss: 0.6799 - val_mae: 0.6483 - learning_rate: 1.0000e-04\n",
      "Epoch 70/150\n",
      "\u001b[1m83/83\u001b[0m \u001b[32m━━━━━━━━━━━━━━━━━━━━\u001b[0m\u001b[37m\u001b[0m \u001b[1m3s\u001b[0m 28ms/step - loss: 0.5243 - mae: 0.5316 - val_loss: 0.6790 - val_mae: 0.6477 - learning_rate: 1.0000e-04\n",
      "Epoch 71/150\n",
      "\u001b[1m83/83\u001b[0m \u001b[32m━━━━━━━━━━━━━━━━━━━━\u001b[0m\u001b[37m\u001b[0m \u001b[1m3s\u001b[0m 32ms/step - loss: 0.5240 - mae: 0.5313 - val_loss: 0.6789 - val_mae: 0.6476 - learning_rate: 1.0000e-04\n",
      "Epoch 72/150\n",
      "\u001b[1m83/83\u001b[0m \u001b[32m━━━━━━━━━━━━━━━━━━━━\u001b[0m\u001b[37m\u001b[0m \u001b[1m3s\u001b[0m 32ms/step - loss: 0.5230 - mae: 0.5311 - val_loss: 0.6783 - val_mae: 0.6470 - learning_rate: 1.0000e-04\n"
     ]
    }
   ],
   "source": [
    "\n",
    "# ================================\n",
    "# 4. MODELO LSTM\n",
    "# ================================\n",
    "from tensorflow.keras.models import Sequential\n",
    "from tensorflow.keras.layers import LSTM, Dense, Dropout\n",
    "from tensorflow.keras.regularizers import l2\n",
    "from tensorflow.keras.callbacks import EarlyStopping, ReduceLROnPlateau\n",
    "import random\n",
    "from tensorflow.keras.optimizers import Adam, RMSprop\n",
    "\n",
    "\n",
    "\n",
    "# Configuración y semillas\n",
    "semillas = [42, 101, 202, 303, 404]  # Tus semillas\n",
    "l2_lambda = config[\"l2_lambda\"]\n",
    "optimizer_name = config[\"optimizer\"]\n",
    "epochs = config[\"epochs\"]\n",
    "batch_size = config[\"batch_size\"]\n",
    "early_stopping_patience = config[\"early_stopping_patience\"]\n",
    "\n",
    "# Función para crear modelo (con semilla como parámetro)\n",
    "def crear_modelo(semilla, window_size, n_features):\n",
    "    tf.keras.utils.set_random_seed(semilla)  # Fija semilla para TensorFlow\n",
    "    \n",
    "    model = Sequential([\n",
    "        LSTM(200, activation='tanh', return_sequences=True, \n",
    "             input_shape=(window_size, n_features),\n",
    "             kernel_regularizer=l2(l2_lambda) if l2_lambda > 0 else None),\n",
    "        Dropout(0.2, seed=semilla),\n",
    "        LSTM(32, activation='tanh'),\n",
    "        Dense(16, activation='relu'),\n",
    "        Dense(1)\n",
    "    ])\n",
    "    \n",
    "    # Configurar optimizer con semilla\n",
    "    if optimizer_name.lower() == 'adam':\n",
    "        optimizer = Adam(learning_rate=0.001)\n",
    "    elif optimizer_name.lower() == 'rmsprop':\n",
    "        optimizer = RMSprop(learning_rate=0.001)\n",
    "    else:\n",
    "        optimizer = optimizer_name\n",
    "    \n",
    "    model.compile(optimizer=optimizer, loss='mse', metrics=['mae'])\n",
    "    return model\n",
    "\n",
    "# Entrenamiento con semillerio\n",
    "def entrenar_con_semillerio(X_train, y_train, X_test, y_test):\n",
    "    modelos = []\n",
    "    historiales = []\n",
    "    window_size = X_train.shape[1]\n",
    "    n_features = X_train.shape[2]\n",
    "    \n",
    "    callbacks = [\n",
    "        EarlyStopping(patience=early_stopping_patience, restore_best_weights=True),\n",
    "        ReduceLROnPlateau(factor=0.1, patience=15)\n",
    "    ]\n",
    "    \n",
    "    for i, semilla in enumerate(semillas):\n",
    "        print(f\"\\nEntrenando modelo con semilla {semilla} ({i+1}/{len(semillas)})\")\n",
    "        \n",
    "        model = crear_modelo(semilla, window_size, n_features)\n",
    "        \n",
    "        history = model.fit(\n",
    "            X_train, y_train,\n",
    "            epochs=epochs,\n",
    "            batch_size=batch_size,\n",
    "            validation_data=(X_test, y_test),\n",
    "            callbacks=callbacks,\n",
    "            verbose=1\n",
    "        )\n",
    "        \n",
    "        modelos.append(model)\n",
    "        historiales.append(history)\n",
    "    \n",
    "    return modelos, historiales\n",
    "\n",
    "\n",
    "\n",
    "modelos, historiales = entrenar_con_semillerio(X_train, y_train, X_test, y_test)\n"
   ]
  },
  {
   "cell_type": "code",
   "execution_count": null,
   "id": "865dbf29",
   "metadata": {},
   "outputs": [],
   "source": [
    "# # ================================\n",
    "# # 5. PREDICCIÓN t+2\n",
    "# # ================================\n",
    "\n",
    "# def predecir_t2(product_id, df_features_full):\n",
    "#     \"\"\"\n",
    "#     product_id: ID del producto a predecir.\n",
    "#     df_features_full: dataframe con las features ya procesadas.\n",
    "#     \"\"\"\n",
    "#     df_prod = df_features_full[df_features_full[\"product_id\"] == product_id].copy()\n",
    "#     scaler = scalers[product_id]\n",
    "\n",
    "#     ultimos = df_prod[feature_cols].iloc[-window_size:]\n",
    "#     ultimos_scaled = scaler.transform(ultimos)\n",
    "\n",
    "#     X_new = ultimos_scaled.reshape(1, window_size, len(feature_cols))\n",
    "#     y_pred_scaled = model.predict(X_new)\n",
    "\n",
    "#     # Inversión del escalado solo sobre la primera columna (tn)\n",
    "#     tn_mean = scaler.center_[0]\n",
    "#     tn_std = scaler.scale_[0]\n",
    "\n",
    "#     y_pred = y_pred_scaled[0][0] * tn_std + tn_mean\n",
    "#     return y_pred"
   ]
  },
  {
   "cell_type": "code",
   "execution_count": 17,
   "id": "6c8495f9",
   "metadata": {},
   "outputs": [],
   "source": [
    "# # ================================\n",
    "# # 5. PREDICCIÓN t+2\n",
    "# # ================================\n",
    "\n",
    "def predecir_todos_t2_semillerio(df_features_full, modelos, scalers, feature_cols, window_size):\n",
    "    \"\"\"\n",
    "    Predice tn en t+2 para todos los productos usando un ensemble de modelos con semillerio.\n",
    "\n",
    "    Args:\n",
    "        df_features_full (pd.DataFrame): dataframe completo con features\n",
    "        modelos (list): lista de modelos LSTM entrenados con diferentes semillas\n",
    "        scalers (dict): diccionario con los StandardScaler por producto\n",
    "        feature_cols (list): lista de columnas de features\n",
    "        window_size (int): tamaño de la ventana temporal\n",
    "\n",
    "    Returns:\n",
    "        pd.DataFrame: dataframe con columnas [\"product_id\", \"tn_t2_pred\"]\n",
    "    \"\"\"\n",
    "    productos = df_features_full[\"product_id\"].unique()\n",
    "    resultados = []\n",
    "\n",
    "    for pid in productos:\n",
    "        df_prod = df_features_full[df_features_full[\"product_id\"] == pid]\n",
    "        \n",
    "        if len(df_prod) < window_size:\n",
    "            continue  # no hay suficientes datos\n",
    "\n",
    "        try:\n",
    "            # Preparar datos\n",
    "            ultimos = df_prod[feature_cols].iloc[-window_size:]\n",
    "            scaler = scalers[pid]\n",
    "            ultimos_scaled = scaler.transform(ultimos)\n",
    "            X_new = ultimos_scaled.reshape(1, window_size, len(feature_cols))\n",
    "            \n",
    "            # Predecir con todos los modelos y promediar\n",
    "            predicciones = []\n",
    "            for model in modelos:\n",
    "                y_pred_scaled = model.predict(X_new, verbose=0)\n",
    "                tn_mean = scaler.center_[0]\n",
    "                tn_std = scaler.scale_[0]\n",
    "                y_pred = y_pred_scaled[0][0] * tn_std + tn_mean\n",
    "                predicciones.append(y_pred)\n",
    "            \n",
    "            y_pred_final = np.mean(predicciones)\n",
    "            \n",
    "            # Opcional: eliminar outliers extremos antes de promediar\n",
    "            # y_pred_final = np.mean(np.clip(predicciones, \n",
    "            #                           np.percentile(predicciones, 10),\n",
    "            #                           np.percentile(predicciones, 90)))\n",
    "\n",
    "        except Exception as e:\n",
    "            print(f\"Error al predecir producto {pid}: {e}\")\n",
    "            y_pred_final = np.mean(df_prod[\"tn\"])  # Valor por defecto si falla\n",
    "            \n",
    "        # Asegurar predicción positiva\n",
    "        y_pred_final = max(0, y_pred_final)\n",
    "        resultados.append({\"product_id\": pid, \"tn_t2_pred\": y_pred_final})\n",
    "\n",
    "    return pd.DataFrame(resultados)"
   ]
  },
  {
   "cell_type": "code",
   "execution_count": 18,
   "id": "925e4b81",
   "metadata": {},
   "outputs": [
    {
     "name": "stdout",
     "output_type": "stream",
     "text": [
      "WARNING:tensorflow:6 out of the last 6 calls to <function TensorFlowTrainer.make_predict_function.<locals>.one_step_on_data_distributed at 0x00000195579C77E0> triggered tf.function retracing. Tracing is expensive and the excessive number of tracings could be due to (1) creating @tf.function repeatedly in a loop, (2) passing tensors with different shapes, (3) passing Python objects instead of tensors. For (1), please define your @tf.function outside of the loop. For (2), @tf.function has reduce_retracing=True option that can avoid unnecessary retracing. For (3), please refer to https://www.tensorflow.org/guide/function#controlling_retracing and https://www.tensorflow.org/api_docs/python/tf/function for  more details.\n",
      "Error al predecir producto 20127: np.int64(20127)\n",
      "Error al predecir producto 20210: np.int64(20210)\n",
      "Error al predecir producto 20686: np.int64(20686)\n",
      "Error al predecir producto 20703: np.int64(20703)\n",
      "Error al predecir producto 20962: np.int64(20962)\n",
      "Error al predecir producto 20975: np.int64(20975)\n",
      "Error al predecir producto 20995: np.int64(20995)\n",
      "Error al predecir producto 21087: np.int64(21087)\n",
      "Error al predecir producto 21214: np.int64(21214)\n",
      "   product_id   tn_t2_pred\n",
      "0       20001  1368.557567\n",
      "1       20002  1061.426158\n",
      "2       20003   798.040597\n",
      "3       20004   597.680743\n",
      "4       20005   572.593556\n"
     ]
    }
   ],
   "source": [
    "df_preds_t2 = predecir_todos_t2_semillerio(\n",
    "    df_features,\n",
    "    modelos,\n",
    "    scalers,\n",
    "    feature_cols,\n",
    "    window_size\n",
    ")\n",
    "\n",
    "print(df_preds_t2.head())"
   ]
  },
  {
   "cell_type": "code",
   "execution_count": null,
   "id": "ba8a4591",
   "metadata": {},
   "outputs": [
    {
     "name": "stdout",
     "output_type": "stream",
     "text": [
      "Error al predecir producto 20127: np.int64(20127)\n",
      "Error al predecir producto 20210: np.int64(20210)\n",
      "Error al predecir producto 20686: np.int64(20686)\n",
      "Error al predecir producto 20703: np.int64(20703)\n",
      "Error al predecir producto 20962: np.int64(20962)\n",
      "Error al predecir producto 20975: np.int64(20975)\n",
      "Error al predecir producto 20995: np.int64(20995)\n",
      "Error al predecir producto 21087: np.int64(21087)\n",
      "Error al predecir producto 21214: np.int64(21214)\n",
      "   product_id   tn_t2_pred\n",
      "0       20001  1386.858321\n",
      "1       20002  1049.577596\n",
      "2       20003   805.068777\n",
      "3       20004   594.459138\n",
      "4       20005   567.989714\n"
     ]
    }
   ],
   "source": [
    "# df_preds_t2 = predecir_todos_t2(\n",
    "#     df_features_full=df_features,\n",
    "#     model=model,\n",
    "#     scalers=scalers,\n",
    "#     feature_cols=feature_cols,\n",
    "#     window_size=window_size\n",
    "# )\n",
    "\n",
    "# print(df_preds_t2.head())"
   ]
  },
  {
   "cell_type": "code",
   "execution_count": 19,
   "id": "fac38ee6",
   "metadata": {},
   "outputs": [
    {
     "data": {
      "application/vnd.microsoft.datawrangler.viewer.v0+json": {
       "columns": [
        {
         "name": "index",
         "rawType": "int64",
         "type": "integer"
        },
        {
         "name": "product_id",
         "rawType": "int64",
         "type": "integer"
        },
        {
         "name": "tn_t2_pred",
         "rawType": "float64",
         "type": "float"
        }
       ],
       "ref": "43e8612e-c7ba-4528-98cc-2b9c3c9c3e46",
       "rows": [
        [
         "0",
         "20001",
         "1368.5575674877643"
        ],
        [
         "1",
         "20002",
         "1061.4261583114098"
        ],
        [
         "2",
         "20003",
         "798.0405966352357"
        ],
        [
         "3",
         "20004",
         "597.6807432474684"
        ],
        [
         "4",
         "20005",
         "572.5935562758511"
        ],
        [
         "5",
         "20006",
         "538.1403510970442"
        ],
        [
         "6",
         "20007",
         "492.81371199044116"
        ],
        [
         "7",
         "20008",
         "473.08302866442966"
        ],
        [
         "8",
         "20009",
         "455.85752784530666"
        ],
        [
         "9",
         "20010",
         "420.55204603860494"
        ],
        [
         "10",
         "20011",
         "388.9815815878943"
        ],
        [
         "11",
         "20012",
         "416.6072952274919"
        ],
        [
         "12",
         "20013",
         "410.8653413148544"
        ],
        [
         "13",
         "20014",
         "423.44222665426224"
        ],
        [
         "14",
         "20015",
         "385.4234111572755"
        ],
        [
         "15",
         "20016",
         "345.88316439703357"
        ],
        [
         "16",
         "20017",
         "317.5545266764011"
        ],
        [
         "17",
         "20018",
         "322.4717887833582"
        ],
        [
         "18",
         "20019",
         "335.0761069189646"
        ],
        [
         "19",
         "20020",
         "281.21134799574156"
        ],
        [
         "20",
         "20021",
         "274.5400187762305"
        ],
        [
         "21",
         "20022",
         "261.8915003458308"
        ],
        [
         "22",
         "20023",
         "264.61695275242465"
        ],
        [
         "23",
         "20024",
         "259.9492895747059"
        ],
        [
         "24",
         "20025",
         "230.5608851242313"
        ],
        [
         "25",
         "20026",
         "240.2866545706127"
        ],
        [
         "26",
         "20027",
         "226.2185096902712"
        ],
        [
         "27",
         "20028",
         "236.272300647534"
        ],
        [
         "28",
         "20029",
         "222.86730854925912"
        ],
        [
         "29",
         "20030",
         "190.79549511038545"
        ],
        [
         "30",
         "20031",
         "196.02299821455213"
        ],
        [
         "31",
         "20032",
         "581.1088880322587"
        ],
        [
         "32",
         "20033",
         "196.57220101041304"
        ],
        [
         "33",
         "20035",
         "180.36941180236096"
        ],
        [
         "34",
         "20037",
         "109.88892196390643"
        ],
        [
         "35",
         "20038",
         "173.19582382282408"
        ],
        [
         "36",
         "20039",
         "159.449647352282"
        ],
        [
         "37",
         "20041",
         "154.01604685459859"
        ],
        [
         "38",
         "20042",
         "157.8302103755908"
        ],
        [
         "39",
         "20043",
         "172.62264677087396"
        ],
        [
         "40",
         "20044",
         "166.77546454990596"
        ],
        [
         "41",
         "20045",
         "151.39781992693307"
        ],
        [
         "42",
         "20046",
         "148.64084461866247"
        ],
        [
         "43",
         "20047",
         "159.46793797498944"
        ],
        [
         "44",
         "20048",
         "164.94098011231716"
        ],
        [
         "45",
         "20049",
         "205.41855530011907"
        ],
        [
         "46",
         "20050",
         "146.9040351620601"
        ],
        [
         "47",
         "20051",
         "159.67906114632322"
        ],
        [
         "48",
         "20052",
         "134.1872979676638"
        ],
        [
         "49",
         "20053",
         "154.97755866776643"
        ]
       ],
       "shape": {
        "columns": 2,
        "rows": 898
       }
      },
      "text/html": [
       "<div>\n",
       "<style scoped>\n",
       "    .dataframe tbody tr th:only-of-type {\n",
       "        vertical-align: middle;\n",
       "    }\n",
       "\n",
       "    .dataframe tbody tr th {\n",
       "        vertical-align: top;\n",
       "    }\n",
       "\n",
       "    .dataframe thead th {\n",
       "        text-align: right;\n",
       "    }\n",
       "</style>\n",
       "<table border=\"1\" class=\"dataframe\">\n",
       "  <thead>\n",
       "    <tr style=\"text-align: right;\">\n",
       "      <th></th>\n",
       "      <th>product_id</th>\n",
       "      <th>tn_t2_pred</th>\n",
       "    </tr>\n",
       "  </thead>\n",
       "  <tbody>\n",
       "    <tr>\n",
       "      <th>0</th>\n",
       "      <td>20001</td>\n",
       "      <td>1368.557567</td>\n",
       "    </tr>\n",
       "    <tr>\n",
       "      <th>1</th>\n",
       "      <td>20002</td>\n",
       "      <td>1061.426158</td>\n",
       "    </tr>\n",
       "    <tr>\n",
       "      <th>2</th>\n",
       "      <td>20003</td>\n",
       "      <td>798.040597</td>\n",
       "    </tr>\n",
       "    <tr>\n",
       "      <th>3</th>\n",
       "      <td>20004</td>\n",
       "      <td>597.680743</td>\n",
       "    </tr>\n",
       "    <tr>\n",
       "      <th>4</th>\n",
       "      <td>20005</td>\n",
       "      <td>572.593556</td>\n",
       "    </tr>\n",
       "    <tr>\n",
       "      <th>...</th>\n",
       "      <td>...</td>\n",
       "      <td>...</td>\n",
       "    </tr>\n",
       "    <tr>\n",
       "      <th>893</th>\n",
       "      <td>21265</td>\n",
       "      <td>0.053078</td>\n",
       "    </tr>\n",
       "    <tr>\n",
       "      <th>894</th>\n",
       "      <td>21266</td>\n",
       "      <td>0.055428</td>\n",
       "    </tr>\n",
       "    <tr>\n",
       "      <th>895</th>\n",
       "      <td>21267</td>\n",
       "      <td>0.059385</td>\n",
       "    </tr>\n",
       "    <tr>\n",
       "      <th>896</th>\n",
       "      <td>21271</td>\n",
       "      <td>0.013538</td>\n",
       "    </tr>\n",
       "    <tr>\n",
       "      <th>897</th>\n",
       "      <td>21276</td>\n",
       "      <td>0.020050</td>\n",
       "    </tr>\n",
       "  </tbody>\n",
       "</table>\n",
       "<p>898 rows × 2 columns</p>\n",
       "</div>"
      ],
      "text/plain": [
       "     product_id   tn_t2_pred\n",
       "0         20001  1368.557567\n",
       "1         20002  1061.426158\n",
       "2         20003   798.040597\n",
       "3         20004   597.680743\n",
       "4         20005   572.593556\n",
       "..          ...          ...\n",
       "893       21265     0.053078\n",
       "894       21266     0.055428\n",
       "895       21267     0.059385\n",
       "896       21271     0.013538\n",
       "897       21276     0.020050\n",
       "\n",
       "[898 rows x 2 columns]"
      ]
     },
     "execution_count": 19,
     "metadata": {},
     "output_type": "execute_result"
    }
   ],
   "source": [
    "df_preds_t2"
   ]
  },
  {
   "cell_type": "code",
   "execution_count": 20,
   "id": "8f1d8260",
   "metadata": {},
   "outputs": [
    {
     "data": {
      "application/vnd.microsoft.datawrangler.viewer.v0+json": {
       "columns": [
        {
         "name": "index",
         "rawType": "int64",
         "type": "integer"
        },
        {
         "name": "product_id",
         "rawType": "int64",
         "type": "integer"
        },
        {
         "name": "periodo",
         "rawType": "datetime64[ns]",
         "type": "datetime"
        },
        {
         "name": "tn",
         "rawType": "float64",
         "type": "float"
        },
        {
         "name": "tn_lag1",
         "rawType": "float64",
         "type": "float"
        },
        {
         "name": "tn_diff1",
         "rawType": "float64",
         "type": "float"
        },
        {
         "name": "size",
         "rawType": "int64",
         "type": "integer"
        },
        {
         "name": "rolling_mean3",
         "rawType": "float64",
         "type": "float"
        },
        {
         "name": "rolling_std3",
         "rawType": "float64",
         "type": "float"
        },
        {
         "name": "rolling_max3",
         "rawType": "float64",
         "type": "float"
        },
        {
         "name": "rolling_min3",
         "rawType": "float64",
         "type": "float"
        },
        {
         "name": "rolling_max6",
         "rawType": "float64",
         "type": "float"
        },
        {
         "name": "rolling_min6",
         "rawType": "float64",
         "type": "float"
        },
        {
         "name": "tn_t2_pred",
         "rawType": "float64",
         "type": "float"
        }
       ],
       "ref": "265e59f0-01bc-4305-9873-2a6b75098405",
       "rows": [
        [
         "0",
         "20001",
         "2019-12-01 00:00:00",
         "1504.68856",
         "1397.37231",
         "107.31625000000008",
         "36",
         "1539.6278133333333",
         "132.676441405275",
         "1660.00561",
         "1397.37231",
         "1678.99318",
         "1109.93769",
         "1368.5575674877643"
        ],
        [
         "1",
         "20002",
         "2019-12-01 00:00:00",
         "1087.30855",
         "1423.5773900000002",
         "-336.2688400000002",
         "36",
         "1497.76715",
         "449.29204448121067",
         "1979.53635",
         "1090.18771",
         "1979.53635",
         "813.78215",
         "1061.4261583114098"
        ],
        [
         "2",
         "20003",
         "2019-12-01 00:00:00",
         "892.5012899999999",
         "948.29393",
         "-55.79264000000012",
         "36",
         "999.1438466666665",
         "71.86972934623559",
         "1081.36645",
         "948.29393",
         "1081.36645",
         "635.59563",
         "798.0405966352357"
        ],
        [
         "3",
         "20004",
         "2019-12-01 00:00:00",
         "637.90002",
         "723.94206",
         "-86.04203999999993",
         "36",
         "858.2699299999999",
         "181.4580300012345",
         "1064.69633",
         "723.94206",
         "1064.69633",
         "482.13372",
         "597.6807432474684"
        ],
        [
         "4",
         "20005",
         "2019-12-01 00:00:00",
         "593.24443",
         "606.91173",
         "-13.667300000000068",
         "36",
         "827.7408533333333",
         "200.02822474173158",
         "996.78275",
         "606.91173",
         "996.78275",
         "536.668",
         "572.5935562758511"
        ],
        [
         "5",
         "20006",
         "2019-12-01 00:00:00",
         "417.23228",
         "399.6142",
         "17.61808000000002",
         "36",
         "445.96516999999994",
         "71.51398387044313",
         "528.3263",
         "399.6142",
         "528.3263",
         "262.73593",
         "538.1403510970442"
        ],
        [
         "6",
         "20007",
         "2019-12-01 00:00:00",
         "390.43432",
         "357.85913",
         "32.57519000000002",
         "36",
         "390.9856366666667",
         "47.45377016586924",
         "445.34884",
         "357.85913",
         "573.37257",
         "307.82899",
         "492.81371199044116"
        ],
        [
         "7",
         "20008",
         "2019-12-01 00:00:00",
         "195.36854",
         "396.49833",
         "-201.12979",
         "36",
         "393.2779100000001",
         "61.16788488222487",
         "452.77197",
         "330.56343",
         "567.42091",
         "233.00983",
         "473.08302866442966"
        ],
        [
         "8",
         "20009",
         "2019-12-01 00:00:00",
         "495.03574",
         "711.89025",
         "-216.85451000000006",
         "36",
         "608.8330866666666",
         "89.25756476873117",
         "711.89025",
         "556.15182",
         "716.07987",
         "520.41758",
         "455.85752784530666"
        ],
        [
         "9",
         "20010",
         "2019-12-01 00:00:00",
         "359.59998",
         "470.96658",
         "-111.3666",
         "36",
         "481.57788",
         "39.15638777173009",
         "524.94628",
         "448.82078",
         "600.2506",
         "199.86233",
         "420.55204603860494"
        ],
        [
         "10",
         "20011",
         "2019-12-01 00:00:00",
         "392.3829",
         "294.15204",
         "98.23086",
         "36",
         "372.95622000000003",
         "69.17998126435937",
         "423.68508",
         "294.15204",
         "451.71126",
         "287.89488",
         "388.9815815878943"
        ],
        [
         "11",
         "20012",
         "2019-12-01 00:00:00",
         "173.13004",
         "357.11018",
         "-183.98014",
         "36",
         "323.34447",
         "37.93285686386383",
         "357.11018",
         "282.29947",
         "427.69487",
         "258.41742",
         "416.6072952274919"
        ],
        [
         "12",
         "20013",
         "2019-12-01 00:00:00",
         "318.09141",
         "336.1995",
         "-18.108090000000004",
         "36",
         "449.92857000000004",
         "100.60380857965013",
         "527.29677",
         "336.1995",
         "585.41301",
         "192.57147",
         "410.8653413148544"
        ],
        [
         "13",
         "20014",
         "2019-12-01 00:00:00",
         "272.02812",
         "415.85544",
         "-143.82732",
         "36",
         "477.1676",
         "53.26234934800361",
         "512.00604",
         "415.85544",
         "523.3519200000001",
         "262.11276",
         "423.44222665426224"
        ],
        [
         "14",
         "20015",
         "2019-12-01 00:00:00",
         "297.27663",
         "322.45923",
         "-25.18259999999998",
         "36",
         "400.01029666666665",
         "75.17942153774364",
         "472.56925",
         "322.45923",
         "474.26299",
         "277.54758",
         "385.4234111572755"
        ],
        [
         "15",
         "20016",
         "2019-12-01 00:00:00",
         "273.20202",
         "302.11272",
         "-28.91070000000002",
         "36",
         "310.74498",
         "46.930083560756295",
         "361.39194",
         "268.73028",
         "361.39194",
         "184.25862",
         "345.88316439703357"
        ],
        [
         "16",
         "20017",
         "2019-12-01 00:00:00",
         "216.90773",
         "216.83455",
         "0.07317999999997937",
         "36",
         "258.8637800000001",
         "42.674060619087925",
         "302.15469",
         "216.83455",
         "302.15469",
         "165.1092",
         "317.5545266764011"
        ],
        [
         "17",
         "20018",
         "2019-12-01 00:00:00",
         "141.6357",
         "254.22485",
         "-112.58914999999999",
         "36",
         "255.05087333333327",
         "22.39226453951249",
         "277.84472",
         "233.08305",
         "288.46796",
         "127.56209",
         "322.4717887833582"
        ],
        [
         "18",
         "20019",
         "2019-12-01 00:00:00",
         "351.54708",
         "375.38656",
         "-23.83947999999998",
         "36",
         "393.50645333333324",
         "55.32479221727031",
         "455.61906",
         "349.51374",
         "455.61906",
         "231.82421",
         "335.0761069189646"
        ],
        [
         "19",
         "20020",
         "2019-12-01 00:00:00",
         "266.06358",
         "320.50638",
         "-54.44279999999998",
         "36",
         "285.8361033333333",
         "41.94675574379269",
         "320.50638",
         "239.20917",
         "334.15196",
         "235.55749",
         "281.21134799574156"
        ],
        [
         "20",
         "20021",
         "2019-12-01 00:00:00",
         "203.76721",
         "284.14722",
         "-80.38001",
         "36",
         "282.83973",
         "35.813699714733694",
         "317.98178",
         "246.39019",
         "379.40454",
         "187.75422",
         "274.5400187762305"
        ],
        [
         "21",
         "20022",
         "2019-12-01 00:00:00",
         "210.8346",
         "346.19018",
         "-135.35558",
         "36",
         "274.7996",
         "95.70176575563248",
         "346.19018",
         "166.05387000000002",
         "366.85959",
         "166.05387000000002",
         "261.8915003458308"
        ],
        [
         "22",
         "20023",
         "2019-12-01 00:00:00",
         "181.13277",
         "276.31695",
         "-95.18418000000003",
         "36",
         "342.9407800000001",
         "58.579909998188874",
         "386.37963",
         "276.31695",
         "386.37963",
         "252.34755",
         "264.61695275242465"
        ],
        [
         "23",
         "20024",
         "2019-12-01 00:00:00",
         "270.45018",
         "158.4765",
         "111.97368",
         "36",
         "213.02736000000002",
         "60.923454857054296",
         "278.77122",
         "158.4765",
         "278.77122",
         "158.4765",
         "259.9492895747059"
        ],
        [
         "24",
         "20025",
         "2019-12-01 00:00:00",
         "241.83432",
         "243.78354",
         "-1.9492199999999968",
         "36",
         "230.18814",
         "79.69508676564445",
         "302.211",
         "144.56988",
         "302.211",
         "144.56988",
         "230.5608851242313"
        ],
        [
         "25",
         "20026",
         "2019-12-01 00:00:00",
         "235.10419",
         "310.41326",
         "-75.30906999999999",
         "36",
         "298.00460666666663",
         "83.00638461870894",
         "374.10811",
         "209.49245",
         "374.10811",
         "119.35544",
         "240.2866545706127"
        ],
        [
         "26",
         "20027",
         "2019-12-01 00:00:00",
         "155.25876",
         "280.99034",
         "-125.73158000000001",
         "36",
         "246.33545999999998",
         "34.129893935717",
         "280.99034",
         "212.75597",
         "280.99034",
         "210.70695",
         "226.2185096902712"
        ],
        [
         "27",
         "20028",
         "2019-12-01 00:00:00",
         "109.92618",
         "320.29452",
         "-210.36834",
         "36",
         "224.95746",
         "124.89980642591712",
         "320.29452",
         "83.57076",
         "320.29452",
         "61.6707",
         "236.272300647534"
        ],
        [
         "28",
         "20029",
         "2019-12-01 00:00:00",
         "150.64869000000002",
         "160.46681",
         "-9.818119999999993",
         "36",
         "165.94220333333337",
         "29.126638008524427",
         "197.41796",
         "139.94184",
         "197.41796",
         "91.49965",
         "222.86730854925912"
        ],
        [
         "29",
         "20030",
         "2019-12-01 00:00:00",
         "102.7572",
         "96.5328",
         "6.224400000000003",
         "36",
         "112.85820000000005",
         "37.60301026620065",
         "155.8648",
         "86.177",
         "156.9386",
         "86.177",
         "190.79549511038545"
        ],
        [
         "30",
         "20031",
         "2019-12-01 00:00:00",
         "139.91577",
         "349.59721",
         "-209.68144",
         "36",
         "210.14736333333337",
         "123.64895583190035",
         "349.59721",
         "113.88248",
         "349.59721",
         "113.88248",
         "196.02299821455213"
        ],
        [
         "31",
         "20032",
         "2019-12-01 00:00:00",
         "527.79811",
         "906.69823",
         "-378.90012",
         "11",
         "762.58901",
         "138.75173374447868",
         "906.69823",
         "629.90072",
         "906.69823",
         "605.54931",
         "581.1088880322587"
        ],
        [
         "32",
         "20033",
         "2019-12-01 00:00:00",
         "96.76212",
         "184.6026",
         "-87.84048",
         "36",
         "213.92644000000004",
         "35.71351163566496",
         "253.6989",
         "184.6026",
         "257.59188",
         "160.32744",
         "196.57220101041304"
        ],
        [
         "33",
         "20035",
         "2019-12-01 00:00:00",
         "179.97912",
         "189.03836",
         "-9.059240000000017",
         "36",
         "176.59832333333335",
         "34.44451277102412",
         "203.09464",
         "137.66197",
         "219.22125",
         "122.06823",
         "180.36941180236096"
        ],
        [
         "34",
         "20037",
         "2019-12-01 00:00:00",
         "63.37274",
         "93.49887",
         "-30.126129999999996",
         "36",
         "128.41358333333332",
         "33.82393133244196",
         "161.02945",
         "93.49887",
         "265.50803",
         "93.49887",
         "109.88892196390643"
        ],
        [
         "35",
         "20038",
         "2019-12-01 00:00:00",
         "157.68477",
         "135.39051",
         "22.29425999999998",
         "36",
         "164.48139999999995",
         "28.80691344106938",
         "192.99568",
         "135.39051",
         "201.90643",
         "116.57316",
         "173.19582382282408"
        ],
        [
         "36",
         "20039",
         "2019-12-01 00:00:00",
         "128.40394",
         "114.01793",
         "14.386009999999999",
         "36",
         "165.42128000000002",
         "46.2960322470241",
         "203.83493",
         "114.01793",
         "203.83493",
         "105.77768",
         "159.449647352282"
        ],
        [
         "37",
         "20041",
         "2019-12-01 00:00:00",
         "113.11379",
         "97.96554",
         "15.14824999999999",
         "36",
         "154.89228",
         "66.35277260794967",
         "227.76511",
         "97.96554",
         "227.76511",
         "97.96554",
         "154.01604685459859"
        ],
        [
         "38",
         "20042",
         "2019-12-01 00:00:00",
         "124.20086",
         "204.14113",
         "-79.94027",
         "36",
         "223.19168333333334",
         "23.745168137539782",
         "249.79444",
         "204.14113",
         "249.79444",
         "119.0272",
         "157.8302103755908"
        ],
        [
         "39",
         "20043",
         "2019-12-01 00:00:00",
         "93.77222",
         "152.42573",
         "-58.65350999999998",
         "36",
         "157.57996",
         "4.701515533346142",
         "161.63344999999998",
         "152.42573",
         "161.63344999999998",
         "79.39276",
         "172.62264677087396"
        ],
        [
         "40",
         "20044",
         "2019-12-01 00:00:00",
         "59.61747",
         "228.48682",
         "-168.86935",
         "36",
         "211.15558333333334",
         "15.350150099026916",
         "228.48682",
         "199.27309",
         "228.48682",
         "67.96227",
         "166.77546454990596"
        ],
        [
         "41",
         "20045",
         "2019-12-01 00:00:00",
         "149.89961",
         "137.49552",
         "12.404089999999997",
         "36",
         "159.30449000000002",
         "49.91355032443296",
         "216.41113",
         "124.00682",
         "216.41113",
         "106.41326",
         "151.39781992693307"
        ],
        [
         "42",
         "20046",
         "2019-12-01 00:00:00",
         "149.9563",
         "145.50198",
         "4.454319999999996",
         "36",
         "198.23221",
         "50.3039677099918",
         "245.69546",
         "145.50198",
         "245.69546",
         "91.65451",
         "148.64084461866247"
        ],
        [
         "43",
         "20047",
         "2019-12-01 00:00:00",
         "71.49763",
         "251.43491",
         "-179.93728",
         "36",
         "182.32697666666664",
         "67.0106543983368",
         "251.43491",
         "117.63171",
         "251.43491",
         "113.47343",
         "159.46793797498944"
        ],
        [
         "44",
         "20048",
         "2019-12-01 00:00:00",
         "58.89241",
         "133.17067",
         "-74.27826",
         "36",
         "176.90997666666667",
         "47.231858801252415",
         "226.99316",
         "133.17067",
         "226.99316",
         "103.20842",
         "164.94098011231716"
        ],
        [
         "45",
         "20049",
         "2019-12-01 00:00:00",
         "124.84836",
         "153.36048",
         "-28.512119999999996",
         "29",
         "211.57864000000004",
         "54.19016011278804",
         "260.5512",
         "153.36048",
         "260.5512",
         "153.36048",
         "205.41855530011907"
        ],
        [
         "46",
         "20050",
         "2019-12-01 00:00:00",
         "117.02742",
         "145.10495",
         "-28.077529999999996",
         "36",
         "138.59953333333334",
         "6.864831336837771",
         "145.10495",
         "131.42438",
         "151.46476",
         "109.82896",
         "146.9040351620601"
        ],
        [
         "47",
         "20051",
         "2019-12-01 00:00:00",
         "132.46038",
         "105.18797",
         "27.27240999999998",
         "36",
         "136.62474333333333",
         "33.92014914308202",
         "172.57611",
         "105.18797",
         "175.49517",
         "105.18797",
         "159.67906114632322"
        ],
        [
         "48",
         "20052",
         "2019-12-01 00:00:00",
         "95.51068",
         "79.25908",
         "16.251599999999996",
         "36",
         "133.27769666666669",
         "47.62072852971537",
         "169.18788",
         "79.25908",
         "169.18788",
         "79.25908",
         "134.1872979676638"
        ],
        [
         "49",
         "20053",
         "2019-12-01 00:00:00",
         "146.36584",
         "174.10464",
         "-27.738799999999998",
         "36",
         "151.63951999999998",
         "22.58843359555506",
         "174.10464",
         "128.92976",
         "197.59135",
         "101.27047",
         "154.97755866776643"
        ]
       ],
       "shape": {
        "columns": 13,
        "rows": 880
       }
      },
      "text/html": [
       "<div>\n",
       "<style scoped>\n",
       "    .dataframe tbody tr th:only-of-type {\n",
       "        vertical-align: middle;\n",
       "    }\n",
       "\n",
       "    .dataframe tbody tr th {\n",
       "        vertical-align: top;\n",
       "    }\n",
       "\n",
       "    .dataframe thead th {\n",
       "        text-align: right;\n",
       "    }\n",
       "</style>\n",
       "<table border=\"1\" class=\"dataframe\">\n",
       "  <thead>\n",
       "    <tr style=\"text-align: right;\">\n",
       "      <th></th>\n",
       "      <th>product_id</th>\n",
       "      <th>periodo</th>\n",
       "      <th>tn</th>\n",
       "      <th>tn_lag1</th>\n",
       "      <th>tn_diff1</th>\n",
       "      <th>size</th>\n",
       "      <th>rolling_mean3</th>\n",
       "      <th>rolling_std3</th>\n",
       "      <th>rolling_max3</th>\n",
       "      <th>rolling_min3</th>\n",
       "      <th>rolling_max6</th>\n",
       "      <th>rolling_min6</th>\n",
       "      <th>tn_t2_pred</th>\n",
       "    </tr>\n",
       "  </thead>\n",
       "  <tbody>\n",
       "    <tr>\n",
       "      <th>0</th>\n",
       "      <td>20001</td>\n",
       "      <td>2019-12-01</td>\n",
       "      <td>1504.68856</td>\n",
       "      <td>1397.37231</td>\n",
       "      <td>107.31625</td>\n",
       "      <td>36</td>\n",
       "      <td>1539.627813</td>\n",
       "      <td>132.676441</td>\n",
       "      <td>1660.00561</td>\n",
       "      <td>1397.37231</td>\n",
       "      <td>1678.99318</td>\n",
       "      <td>1109.93769</td>\n",
       "      <td>1368.557567</td>\n",
       "    </tr>\n",
       "    <tr>\n",
       "      <th>1</th>\n",
       "      <td>20002</td>\n",
       "      <td>2019-12-01</td>\n",
       "      <td>1087.30855</td>\n",
       "      <td>1423.57739</td>\n",
       "      <td>-336.26884</td>\n",
       "      <td>36</td>\n",
       "      <td>1497.767150</td>\n",
       "      <td>449.292044</td>\n",
       "      <td>1979.53635</td>\n",
       "      <td>1090.18771</td>\n",
       "      <td>1979.53635</td>\n",
       "      <td>813.78215</td>\n",
       "      <td>1061.426158</td>\n",
       "    </tr>\n",
       "    <tr>\n",
       "      <th>2</th>\n",
       "      <td>20003</td>\n",
       "      <td>2019-12-01</td>\n",
       "      <td>892.50129</td>\n",
       "      <td>948.29393</td>\n",
       "      <td>-55.79264</td>\n",
       "      <td>36</td>\n",
       "      <td>999.143847</td>\n",
       "      <td>71.869729</td>\n",
       "      <td>1081.36645</td>\n",
       "      <td>948.29393</td>\n",
       "      <td>1081.36645</td>\n",
       "      <td>635.59563</td>\n",
       "      <td>798.040597</td>\n",
       "    </tr>\n",
       "    <tr>\n",
       "      <th>3</th>\n",
       "      <td>20004</td>\n",
       "      <td>2019-12-01</td>\n",
       "      <td>637.90002</td>\n",
       "      <td>723.94206</td>\n",
       "      <td>-86.04204</td>\n",
       "      <td>36</td>\n",
       "      <td>858.269930</td>\n",
       "      <td>181.458030</td>\n",
       "      <td>1064.69633</td>\n",
       "      <td>723.94206</td>\n",
       "      <td>1064.69633</td>\n",
       "      <td>482.13372</td>\n",
       "      <td>597.680743</td>\n",
       "    </tr>\n",
       "    <tr>\n",
       "      <th>4</th>\n",
       "      <td>20005</td>\n",
       "      <td>2019-12-01</td>\n",
       "      <td>593.24443</td>\n",
       "      <td>606.91173</td>\n",
       "      <td>-13.66730</td>\n",
       "      <td>36</td>\n",
       "      <td>827.740853</td>\n",
       "      <td>200.028225</td>\n",
       "      <td>996.78275</td>\n",
       "      <td>606.91173</td>\n",
       "      <td>996.78275</td>\n",
       "      <td>536.66800</td>\n",
       "      <td>572.593556</td>\n",
       "    </tr>\n",
       "    <tr>\n",
       "      <th>...</th>\n",
       "      <td>...</td>\n",
       "      <td>...</td>\n",
       "      <td>...</td>\n",
       "      <td>...</td>\n",
       "      <td>...</td>\n",
       "      <td>...</td>\n",
       "      <td>...</td>\n",
       "      <td>...</td>\n",
       "      <td>...</td>\n",
       "      <td>...</td>\n",
       "      <td>...</td>\n",
       "      <td>...</td>\n",
       "      <td>...</td>\n",
       "    </tr>\n",
       "    <tr>\n",
       "      <th>875</th>\n",
       "      <td>21265</td>\n",
       "      <td>2019-12-01</td>\n",
       "      <td>0.05007</td>\n",
       "      <td>0.06600</td>\n",
       "      <td>-0.01593</td>\n",
       "      <td>10</td>\n",
       "      <td>0.064093</td>\n",
       "      <td>0.046100</td>\n",
       "      <td>0.10921</td>\n",
       "      <td>0.01707</td>\n",
       "      <td>0.10921</td>\n",
       "      <td>0.01593</td>\n",
       "      <td>0.053078</td>\n",
       "    </tr>\n",
       "    <tr>\n",
       "      <th>876</th>\n",
       "      <td>21266</td>\n",
       "      <td>2019-12-01</td>\n",
       "      <td>0.05121</td>\n",
       "      <td>0.06713</td>\n",
       "      <td>-0.01592</td>\n",
       "      <td>10</td>\n",
       "      <td>0.071293</td>\n",
       "      <td>0.045079</td>\n",
       "      <td>0.11831</td>\n",
       "      <td>0.02844</td>\n",
       "      <td>0.11831</td>\n",
       "      <td>0.01480</td>\n",
       "      <td>0.055428</td>\n",
       "    </tr>\n",
       "    <tr>\n",
       "      <th>877</th>\n",
       "      <td>21267</td>\n",
       "      <td>2019-12-01</td>\n",
       "      <td>0.01569</td>\n",
       "      <td>0.04052</td>\n",
       "      <td>-0.02483</td>\n",
       "      <td>10</td>\n",
       "      <td>0.051860</td>\n",
       "      <td>0.040441</td>\n",
       "      <td>0.09676</td>\n",
       "      <td>0.01830</td>\n",
       "      <td>0.09676</td>\n",
       "      <td>0.01830</td>\n",
       "      <td>0.059385</td>\n",
       "    </tr>\n",
       "    <tr>\n",
       "      <th>878</th>\n",
       "      <td>21271</td>\n",
       "      <td>2019-12-01</td>\n",
       "      <td>0.00298</td>\n",
       "      <td>0.01301</td>\n",
       "      <td>-0.01003</td>\n",
       "      <td>30</td>\n",
       "      <td>0.022290</td>\n",
       "      <td>0.008387</td>\n",
       "      <td>0.02933</td>\n",
       "      <td>0.01301</td>\n",
       "      <td>0.02933</td>\n",
       "      <td>0.00445</td>\n",
       "      <td>0.013538</td>\n",
       "    </tr>\n",
       "    <tr>\n",
       "      <th>879</th>\n",
       "      <td>21276</td>\n",
       "      <td>2019-12-01</td>\n",
       "      <td>0.00892</td>\n",
       "      <td>0.03341</td>\n",
       "      <td>-0.02449</td>\n",
       "      <td>10</td>\n",
       "      <td>0.024253</td>\n",
       "      <td>0.008008</td>\n",
       "      <td>0.03341</td>\n",
       "      <td>0.01856</td>\n",
       "      <td>0.04086</td>\n",
       "      <td>0.00223</td>\n",
       "      <td>0.020050</td>\n",
       "    </tr>\n",
       "  </tbody>\n",
       "</table>\n",
       "<p>880 rows × 13 columns</p>\n",
       "</div>"
      ],
      "text/plain": [
       "     product_id    periodo          tn     tn_lag1   tn_diff1  size  \\\n",
       "0         20001 2019-12-01  1504.68856  1397.37231  107.31625    36   \n",
       "1         20002 2019-12-01  1087.30855  1423.57739 -336.26884    36   \n",
       "2         20003 2019-12-01   892.50129   948.29393  -55.79264    36   \n",
       "3         20004 2019-12-01   637.90002   723.94206  -86.04204    36   \n",
       "4         20005 2019-12-01   593.24443   606.91173  -13.66730    36   \n",
       "..          ...        ...         ...         ...        ...   ...   \n",
       "875       21265 2019-12-01     0.05007     0.06600   -0.01593    10   \n",
       "876       21266 2019-12-01     0.05121     0.06713   -0.01592    10   \n",
       "877       21267 2019-12-01     0.01569     0.04052   -0.02483    10   \n",
       "878       21271 2019-12-01     0.00298     0.01301   -0.01003    30   \n",
       "879       21276 2019-12-01     0.00892     0.03341   -0.02449    10   \n",
       "\n",
       "     rolling_mean3  rolling_std3  rolling_max3  rolling_min3  rolling_max6  \\\n",
       "0      1539.627813    132.676441    1660.00561    1397.37231    1678.99318   \n",
       "1      1497.767150    449.292044    1979.53635    1090.18771    1979.53635   \n",
       "2       999.143847     71.869729    1081.36645     948.29393    1081.36645   \n",
       "3       858.269930    181.458030    1064.69633     723.94206    1064.69633   \n",
       "4       827.740853    200.028225     996.78275     606.91173     996.78275   \n",
       "..             ...           ...           ...           ...           ...   \n",
       "875       0.064093      0.046100       0.10921       0.01707       0.10921   \n",
       "876       0.071293      0.045079       0.11831       0.02844       0.11831   \n",
       "877       0.051860      0.040441       0.09676       0.01830       0.09676   \n",
       "878       0.022290      0.008387       0.02933       0.01301       0.02933   \n",
       "879       0.024253      0.008008       0.03341       0.01856       0.04086   \n",
       "\n",
       "     rolling_min6   tn_t2_pred  \n",
       "0      1109.93769  1368.557567  \n",
       "1       813.78215  1061.426158  \n",
       "2       635.59563   798.040597  \n",
       "3       482.13372   597.680743  \n",
       "4       536.66800   572.593556  \n",
       "..            ...          ...  \n",
       "875       0.01593     0.053078  \n",
       "876       0.01480     0.055428  \n",
       "877       0.01830     0.059385  \n",
       "878       0.00445     0.013538  \n",
       "879       0.00223     0.020050  \n",
       "\n",
       "[880 rows x 13 columns]"
      ]
     },
     "execution_count": 20,
     "metadata": {},
     "output_type": "execute_result"
    }
   ],
   "source": [
    "df_final = df_test.merge(df_preds_t2, on=\"product_id\", how=\"left\")\n",
    "df_final"
   ]
  },
  {
   "cell_type": "code",
   "execution_count": 22,
   "id": "0de28d59",
   "metadata": {},
   "outputs": [],
   "source": [
    "df_final_copy = df_final.copy()\n",
    "df_final_copy = df_final_copy[['product_id', 'tn_t2_pred']].rename(columns={'tn_t2_pred': 'tn'})"
   ]
  },
  {
   "cell_type": "code",
   "execution_count": 25,
   "id": "0f9491f8",
   "metadata": {},
   "outputs": [
    {
     "data": {
      "application/vnd.microsoft.datawrangler.viewer.v0+json": {
       "columns": [
        {
         "name": "index",
         "rawType": "int64",
         "type": "integer"
        },
        {
         "name": "product_id",
         "rawType": "int64",
         "type": "integer"
        }
       ],
       "ref": "1f7494ff-53c5-4af0-b9e5-9e6ec9013329",
       "rows": [
        [
         "0",
         "20001"
        ],
        [
         "1",
         "20002"
        ],
        [
         "2",
         "20003"
        ],
        [
         "3",
         "20004"
        ],
        [
         "4",
         "20005"
        ],
        [
         "5",
         "20006"
        ],
        [
         "6",
         "20007"
        ],
        [
         "7",
         "20008"
        ],
        [
         "8",
         "20009"
        ],
        [
         "9",
         "20010"
        ],
        [
         "10",
         "20011"
        ],
        [
         "11",
         "20012"
        ],
        [
         "12",
         "20013"
        ],
        [
         "13",
         "20014"
        ],
        [
         "14",
         "20015"
        ],
        [
         "15",
         "20016"
        ],
        [
         "16",
         "20017"
        ],
        [
         "17",
         "20018"
        ],
        [
         "18",
         "20019"
        ],
        [
         "19",
         "20020"
        ],
        [
         "20",
         "20021"
        ],
        [
         "21",
         "20022"
        ],
        [
         "22",
         "20023"
        ],
        [
         "23",
         "20024"
        ],
        [
         "24",
         "20025"
        ],
        [
         "25",
         "20026"
        ],
        [
         "26",
         "20027"
        ],
        [
         "27",
         "20028"
        ],
        [
         "28",
         "20029"
        ],
        [
         "29",
         "20030"
        ],
        [
         "30",
         "20031"
        ],
        [
         "31",
         "20032"
        ],
        [
         "32",
         "20033"
        ],
        [
         "33",
         "20035"
        ],
        [
         "34",
         "20037"
        ],
        [
         "35",
         "20038"
        ],
        [
         "36",
         "20039"
        ],
        [
         "37",
         "20041"
        ],
        [
         "38",
         "20042"
        ],
        [
         "39",
         "20043"
        ],
        [
         "40",
         "20044"
        ],
        [
         "41",
         "20045"
        ],
        [
         "42",
         "20046"
        ],
        [
         "43",
         "20047"
        ],
        [
         "44",
         "20049"
        ],
        [
         "45",
         "20050"
        ],
        [
         "46",
         "20051"
        ],
        [
         "47",
         "20052"
        ],
        [
         "48",
         "20053"
        ],
        [
         "49",
         "20054"
        ]
       ],
       "shape": {
        "columns": 1,
        "rows": 780
       }
      },
      "text/html": [
       "<div>\n",
       "<style scoped>\n",
       "    .dataframe tbody tr th:only-of-type {\n",
       "        vertical-align: middle;\n",
       "    }\n",
       "\n",
       "    .dataframe tbody tr th {\n",
       "        vertical-align: top;\n",
       "    }\n",
       "\n",
       "    .dataframe thead th {\n",
       "        text-align: right;\n",
       "    }\n",
       "</style>\n",
       "<table border=\"1\" class=\"dataframe\">\n",
       "  <thead>\n",
       "    <tr style=\"text-align: right;\">\n",
       "      <th></th>\n",
       "      <th>product_id</th>\n",
       "    </tr>\n",
       "  </thead>\n",
       "  <tbody>\n",
       "    <tr>\n",
       "      <th>0</th>\n",
       "      <td>20001</td>\n",
       "    </tr>\n",
       "    <tr>\n",
       "      <th>1</th>\n",
       "      <td>20002</td>\n",
       "    </tr>\n",
       "    <tr>\n",
       "      <th>2</th>\n",
       "      <td>20003</td>\n",
       "    </tr>\n",
       "    <tr>\n",
       "      <th>3</th>\n",
       "      <td>20004</td>\n",
       "    </tr>\n",
       "    <tr>\n",
       "      <th>4</th>\n",
       "      <td>20005</td>\n",
       "    </tr>\n",
       "    <tr>\n",
       "      <th>...</th>\n",
       "      <td>...</td>\n",
       "    </tr>\n",
       "    <tr>\n",
       "      <th>775</th>\n",
       "      <td>21263</td>\n",
       "    </tr>\n",
       "    <tr>\n",
       "      <th>776</th>\n",
       "      <td>21265</td>\n",
       "    </tr>\n",
       "    <tr>\n",
       "      <th>777</th>\n",
       "      <td>21266</td>\n",
       "    </tr>\n",
       "    <tr>\n",
       "      <th>778</th>\n",
       "      <td>21267</td>\n",
       "    </tr>\n",
       "    <tr>\n",
       "      <th>779</th>\n",
       "      <td>21276</td>\n",
       "    </tr>\n",
       "  </tbody>\n",
       "</table>\n",
       "<p>780 rows × 1 columns</p>\n",
       "</div>"
      ],
      "text/plain": [
       "     product_id\n",
       "0         20001\n",
       "1         20002\n",
       "2         20003\n",
       "3         20004\n",
       "4         20005\n",
       "..          ...\n",
       "775       21263\n",
       "776       21265\n",
       "777       21266\n",
       "778       21267\n",
       "779       21276\n",
       "\n",
       "[780 rows x 1 columns]"
      ]
     },
     "execution_count": 25,
     "metadata": {},
     "output_type": "execute_result"
    }
   ],
   "source": [
    "productos = pd.read_csv(\"../../data/raw/product_id_apredecir201912.csv\", sep=',', encoding='utf-8')\n",
    "productos"
   ]
  },
  {
   "cell_type": "code",
   "execution_count": 26,
   "id": "8ae2ad5a",
   "metadata": {},
   "outputs": [
    {
     "data": {
      "application/vnd.microsoft.datawrangler.viewer.v0+json": {
       "columns": [
        {
         "name": "index",
         "rawType": "int64",
         "type": "integer"
        },
        {
         "name": "product_id",
         "rawType": "int64",
         "type": "integer"
        },
        {
         "name": "tn",
         "rawType": "float64",
         "type": "float"
        }
       ],
       "ref": "f3991f25-49c8-41f8-9b17-c730ddb4712b",
       "rows": [
        [
         "0",
         "20001",
         "1368.5575674877643"
        ],
        [
         "1",
         "20002",
         "1061.4261583114098"
        ],
        [
         "2",
         "20003",
         "798.0405966352357"
        ],
        [
         "3",
         "20004",
         "597.6807432474684"
        ],
        [
         "4",
         "20005",
         "572.5935562758511"
        ],
        [
         "5",
         "20006",
         "538.1403510970442"
        ],
        [
         "6",
         "20007",
         "492.81371199044116"
        ],
        [
         "7",
         "20008",
         "473.08302866442966"
        ],
        [
         "8",
         "20009",
         "455.85752784530666"
        ],
        [
         "9",
         "20010",
         "420.55204603860494"
        ],
        [
         "10",
         "20011",
         "388.9815815878943"
        ],
        [
         "11",
         "20012",
         "416.6072952274919"
        ],
        [
         "12",
         "20013",
         "410.8653413148544"
        ],
        [
         "13",
         "20014",
         "423.44222665426224"
        ],
        [
         "14",
         "20015",
         "385.4234111572755"
        ],
        [
         "15",
         "20016",
         "345.88316439703357"
        ],
        [
         "16",
         "20017",
         "317.5545266764011"
        ],
        [
         "17",
         "20018",
         "322.4717887833582"
        ],
        [
         "18",
         "20019",
         "335.0761069189646"
        ],
        [
         "19",
         "20020",
         "281.21134799574156"
        ],
        [
         "20",
         "20021",
         "274.5400187762305"
        ],
        [
         "21",
         "20022",
         "261.8915003458308"
        ],
        [
         "22",
         "20023",
         "264.61695275242465"
        ],
        [
         "23",
         "20024",
         "259.9492895747059"
        ],
        [
         "24",
         "20025",
         "230.5608851242313"
        ],
        [
         "25",
         "20026",
         "240.2866545706127"
        ],
        [
         "26",
         "20027",
         "226.2185096902712"
        ],
        [
         "27",
         "20028",
         "236.272300647534"
        ],
        [
         "28",
         "20029",
         "222.86730854925912"
        ],
        [
         "29",
         "20030",
         "190.79549511038545"
        ],
        [
         "30",
         "20031",
         "196.02299821455213"
        ],
        [
         "31",
         "20032",
         "581.1088880322587"
        ],
        [
         "32",
         "20033",
         "196.57220101041304"
        ],
        [
         "33",
         "20035",
         "180.36941180236096"
        ],
        [
         "34",
         "20037",
         "109.88892196390643"
        ],
        [
         "35",
         "20038",
         "173.19582382282408"
        ],
        [
         "36",
         "20039",
         "159.449647352282"
        ],
        [
         "37",
         "20041",
         "154.01604685459859"
        ],
        [
         "38",
         "20042",
         "157.8302103755908"
        ],
        [
         "39",
         "20043",
         "172.62264677087396"
        ],
        [
         "40",
         "20044",
         "166.77546454990596"
        ],
        [
         "41",
         "20045",
         "151.39781992693307"
        ],
        [
         "42",
         "20046",
         "148.64084461866247"
        ],
        [
         "43",
         "20047",
         "159.46793797498944"
        ],
        [
         "45",
         "20049",
         "205.41855530011907"
        ],
        [
         "46",
         "20050",
         "146.9040351620601"
        ],
        [
         "47",
         "20051",
         "159.67906114632322"
        ],
        [
         "48",
         "20052",
         "134.1872979676638"
        ],
        [
         "49",
         "20053",
         "154.97755866776643"
        ],
        [
         "50",
         "20054",
         "146.33583602542532"
        ]
       ],
       "shape": {
        "columns": 2,
        "rows": 780
       }
      },
      "text/html": [
       "<div>\n",
       "<style scoped>\n",
       "    .dataframe tbody tr th:only-of-type {\n",
       "        vertical-align: middle;\n",
       "    }\n",
       "\n",
       "    .dataframe tbody tr th {\n",
       "        vertical-align: top;\n",
       "    }\n",
       "\n",
       "    .dataframe thead th {\n",
       "        text-align: right;\n",
       "    }\n",
       "</style>\n",
       "<table border=\"1\" class=\"dataframe\">\n",
       "  <thead>\n",
       "    <tr style=\"text-align: right;\">\n",
       "      <th></th>\n",
       "      <th>product_id</th>\n",
       "      <th>tn</th>\n",
       "    </tr>\n",
       "  </thead>\n",
       "  <tbody>\n",
       "    <tr>\n",
       "      <th>0</th>\n",
       "      <td>20001</td>\n",
       "      <td>1368.557567</td>\n",
       "    </tr>\n",
       "    <tr>\n",
       "      <th>1</th>\n",
       "      <td>20002</td>\n",
       "      <td>1061.426158</td>\n",
       "    </tr>\n",
       "    <tr>\n",
       "      <th>2</th>\n",
       "      <td>20003</td>\n",
       "      <td>798.040597</td>\n",
       "    </tr>\n",
       "    <tr>\n",
       "      <th>3</th>\n",
       "      <td>20004</td>\n",
       "      <td>597.680743</td>\n",
       "    </tr>\n",
       "    <tr>\n",
       "      <th>4</th>\n",
       "      <td>20005</td>\n",
       "      <td>572.593556</td>\n",
       "    </tr>\n",
       "    <tr>\n",
       "      <th>...</th>\n",
       "      <td>...</td>\n",
       "      <td>...</td>\n",
       "    </tr>\n",
       "    <tr>\n",
       "      <th>873</th>\n",
       "      <td>21263</td>\n",
       "      <td>0.021371</td>\n",
       "    </tr>\n",
       "    <tr>\n",
       "      <th>875</th>\n",
       "      <td>21265</td>\n",
       "      <td>0.053078</td>\n",
       "    </tr>\n",
       "    <tr>\n",
       "      <th>876</th>\n",
       "      <td>21266</td>\n",
       "      <td>0.055428</td>\n",
       "    </tr>\n",
       "    <tr>\n",
       "      <th>877</th>\n",
       "      <td>21267</td>\n",
       "      <td>0.059385</td>\n",
       "    </tr>\n",
       "    <tr>\n",
       "      <th>879</th>\n",
       "      <td>21276</td>\n",
       "      <td>0.020050</td>\n",
       "    </tr>\n",
       "  </tbody>\n",
       "</table>\n",
       "<p>780 rows × 2 columns</p>\n",
       "</div>"
      ],
      "text/plain": [
       "     product_id           tn\n",
       "0         20001  1368.557567\n",
       "1         20002  1061.426158\n",
       "2         20003   798.040597\n",
       "3         20004   597.680743\n",
       "4         20005   572.593556\n",
       "..          ...          ...\n",
       "873       21263     0.021371\n",
       "875       21265     0.053078\n",
       "876       21266     0.055428\n",
       "877       21267     0.059385\n",
       "879       21276     0.020050\n",
       "\n",
       "[780 rows x 2 columns]"
      ]
     },
     "execution_count": 26,
     "metadata": {},
     "output_type": "execute_result"
    }
   ],
   "source": [
    "df_final_copy = df_final_copy[df_final_copy[\"product_id\"].isin(productos[\"product_id\"].unique())].copy()\n",
    "df_final_copy"
   ]
  },
  {
   "cell_type": "code",
   "execution_count": 27,
   "id": "3cd36585",
   "metadata": {},
   "outputs": [],
   "source": [
    "df_final_copy.to_csv(\"./outputs/predicciones_lstm_kaggle.csv\", index=False, sep=',')"
   ]
  },
  {
   "cell_type": "code",
   "execution_count": 37,
   "id": "2ba72dab",
   "metadata": {},
   "outputs": [
    {
     "data": {
      "text/plain": [
       "np.float64(0.2617732191017372)"
      ]
     },
     "execution_count": 37,
     "metadata": {},
     "output_type": "execute_result"
    }
   ],
   "source": [
    "numerador = (df_final[\"tn\"]- df_final[\"tn_t2_pred\"]).abs().sum()\n",
    "denominador = df_final[\"tn\"].sum()\n",
    "porcentaje_error = (numerador / denominador)\n",
    "porcentaje_error"
   ]
  },
  {
   "cell_type": "code",
   "execution_count": 168,
   "id": "83438dba",
   "metadata": {},
   "outputs": [
    {
     "data": {
      "image/png": "[encoded data removed]",
      "text/plain": [
       "<Figure size 640x480 with 1 Axes>"
      ]
     },
     "metadata": {},
     "output_type": "display_data"
    }
   ],
   "source": [
    "import matplotlib.pyplot as plt\n",
    "df_final.plot(kind=\"scatter\", x=\"tn\", y=\"tn_t2_pred\", title=\"Predicciones vs TN\")\n",
    "plt.plot([0, 1400], [0, 1400], 'r--')\n",
    "plt.show()"
   ]
  },
  {
   "cell_type": "code",
   "execution_count": 176,
   "id": "8efe03d7",
   "metadata": {},
   "outputs": [
    {
     "data": {
      "application/vnd.plotly.v1+json": {
       "config": {
        "plotlyServerURL": "https://plot.ly"
       },
       "data": [
        {
         "customdata": {
          "bdata": "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",
          "dtype": "i2"
         },
         "hovertemplate": "<b>TN Real</b>: %{x}<br><b>TN Predicho</b>: %{y}<br><b>Product ID</b>: %{customdata}<br><extra></extra>",
         "marker": {
          "opacity": 0.7,
          "size": 8
         },
         "mode": "markers",
         "name": "Datos",
         "type": "scatter",
         "x": {
          "bdata": "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",
          "dtype": "f8"
         },
         "y": {
          "bdata": "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",
          "dtype": "f8"
         }
        },
        {
         "line": {
          "color": "red",
          "dash": "dash"
         },
         "mode": "lines",
         "name": "y = x",
         "type": "scatter",
         "x": [
          0,
          1400
         ],
         "y": [
          0,
          1400
         ]
        }
       ],
       "layout": {
        "height": 600,
        "showlegend": true,
        "template": {
         "data": {
          "bar": [
           {
            "error_x": {
             "color": "#2a3f5f"
            },
            "error_y": {
             "color": "#2a3f5f"
            },
            "marker": {
             "line": {
              "color": "#E5ECF6",
              "width": 0.5
             },
             "pattern": {
              "fillmode": "overlay",
              "size": 10,
              "solidity": 0.2
             }
            },
            "type": "bar"
           }
          ],
          "barpolar": [
           {
            "marker": {
             "line": {
              "color": "#E5ECF6",
              "width": 0.5
             },
             "pattern": {
              "fillmode": "overlay",
              "size": 10,
              "solidity": 0.2
             }
            },
            "type": "barpolar"
           }
          ],
          "carpet": [
           {
            "aaxis": {
             "endlinecolor": "#2a3f5f",
             "gridcolor": "white",
             "linecolor": "white",
             "minorgridcolor": "white",
             "startlinecolor": "#2a3f5f"
            },
            "baxis": {
             "endlinecolor": "#2a3f5f",
             "gridcolor": "white",
             "linecolor": "white",
             "minorgridcolor": "white",
             "startlinecolor": "#2a3f5f"
            },
            "type": "carpet"
           }
          ],
          "choropleth": [
           {
            "colorbar": {
             "outlinewidth": 0,
             "ticks": ""
            },
            "type": "choropleth"
           }
          ],
          "contour": [
           {
            "colorbar": {
             "outlinewidth": 0,
             "ticks": ""
            },
            "colorscale": [
             [
              0,
              "#0d0887"
             ],
             [
              0.1111111111111111,
              "#46039f"
             ],
             [
              0.2222222222222222,
              "#7201a8"
             ],
             [
              0.3333333333333333,
              "#9c179e"
             ],
             [
              0.4444444444444444,
              "#bd3786"
             ],
             [
              0.5555555555555556,
              "#d8576b"
             ],
             [
              0.6666666666666666,
              "#ed7953"
             ],
             [
              0.7777777777777778,
              "#fb9f3a"
             ],
             [
              0.8888888888888888,
              "#fdca26"
             ],
             [
              1,
              "#f0f921"
             ]
            ],
            "type": "contour"
           }
          ],
          "contourcarpet": [
           {
            "colorbar": {
             "outlinewidth": 0,
             "ticks": ""
            },
            "type": "contourcarpet"
           }
          ],
          "heatmap": [
           {
            "colorbar": {
             "outlinewidth": 0,
             "ticks": ""
            },
            "colorscale": [
             [
              0,
              "#0d0887"
             ],
             [
              0.1111111111111111,
              "#46039f"
             ],
             [
              0.2222222222222222,
              "#7201a8"
             ],
             [
              0.3333333333333333,
              "#9c179e"
             ],
             [
              0.4444444444444444,
              "#bd3786"
             ],
             [
              0.5555555555555556,
              "#d8576b"
             ],
             [
              0.6666666666666666,
              "#ed7953"
             ],
             [
              0.7777777777777778,
              "#fb9f3a"
             ],
             [
              0.8888888888888888,
              "#fdca26"
             ],
             [
              1,
              "#f0f921"
             ]
            ],
            "type": "heatmap"
           }
          ],
          "histogram": [
           {
            "marker": {
             "pattern": {
              "fillmode": "overlay",
              "size": 10,
              "solidity": 0.2
             }
            },
            "type": "histogram"
           }
          ],
          "histogram2d": [
           {
            "colorbar": {
             "outlinewidth": 0,
             "ticks": ""
            },
            "colorscale": [
             [
              0,
              "#0d0887"
             ],
             [
              0.1111111111111111,
              "#46039f"
             ],
             [
              0.2222222222222222,
              "#7201a8"
             ],
             [
              0.3333333333333333,
              "#9c179e"
             ],
             [
              0.4444444444444444,
              "#bd3786"
             ],
             [
              0.5555555555555556,
              "#d8576b"
             ],
             [
              0.6666666666666666,
              "#ed7953"
             ],
             [
              0.7777777777777778,
              "#fb9f3a"
             ],
             [
              0.8888888888888888,
              "#fdca26"
             ],
             [
              1,
              "#f0f921"
             ]
            ],
            "type": "histogram2d"
           }
          ],
          "histogram2dcontour": [
           {
            "colorbar": {
             "outlinewidth": 0,
             "ticks": ""
            },
            "colorscale": [
             [
              0,
              "#0d0887"
             ],
             [
              0.1111111111111111,
              "#46039f"
             ],
             [
              0.2222222222222222,
              "#7201a8"
             ],
             [
              0.3333333333333333,
              "#9c179e"
             ],
             [
              0.4444444444444444,
              "#bd3786"
             ],
             [
              0.5555555555555556,
              "#d8576b"
             ],
             [
              0.6666666666666666,
              "#ed7953"
             ],
             [
              0.7777777777777778,
              "#fb9f3a"
             ],
             [
              0.8888888888888888,
              "#fdca26"
             ],
             [
              1,
              "#f0f921"
             ]
            ],
            "type": "histogram2dcontour"
           }
          ],
          "mesh3d": [
           {
            "colorbar": {
             "outlinewidth": 0,
             "ticks": ""
            },
            "type": "mesh3d"
           }
          ],
          "parcoords": [
           {
            "line": {
             "colorbar": {
              "outlinewidth": 0,
              "ticks": ""
             }
            },
            "type": "parcoords"
           }
          ],
          "pie": [
           {
            "automargin": true,
            "type": "pie"
           }
          ],
          "scatter": [
           {
            "fillpattern": {
             "fillmode": "overlay",
             "size": 10,
             "solidity": 0.2
            },
            "type": "scatter"
           }
          ],
          "scatter3d": [
           {
            "line": {
             "colorbar": {
              "outlinewidth": 0,
              "ticks": ""
             }
            },
            "marker": {
             "colorbar": {
              "outlinewidth": 0,
              "ticks": ""
             }
            },
            "type": "scatter3d"
           }
          ],
          "scattercarpet": [
           {
            "marker": {
             "colorbar": {
              "outlinewidth": 0,
              "ticks": ""
             }
            },
            "type": "scattercarpet"
           }
          ],
          "scattergeo": [
           {
            "marker": {
             "colorbar": {
              "outlinewidth": 0,
              "ticks": ""
             }
            },
            "type": "scattergeo"
           }
          ],
          "scattergl": [
           {
            "marker": {
             "colorbar": {
              "outlinewidth": 0,
              "ticks": ""
             }
            },
            "type": "scattergl"
           }
          ],
          "scattermap": [
           {
            "marker": {
             "colorbar": {
              "outlinewidth": 0,
              "ticks": ""
             }
            },
            "type": "scattermap"
           }
          ],
          "scattermapbox": [
           {
            "marker": {
             "colorbar": {
              "outlinewidth": 0,
              "ticks": ""
             }
            },
            "type": "scattermapbox"
           }
          ],
          "scatterpolar": [
           {
            "marker": {
             "colorbar": {
              "outlinewidth": 0,
              "ticks": ""
             }
            },
            "type": "scatterpolar"
           }
          ],
          "scatterpolargl": [
           {
            "marker": {
             "colorbar": {
              "outlinewidth": 0,
              "ticks": ""
             }
            },
            "type": "scatterpolargl"
           }
          ],
          "scatterternary": [
           {
            "marker": {
             "colorbar": {
              "outlinewidth": 0,
              "ticks": ""
             }
            },
            "type": "scatterternary"
           }
          ],
          "surface": [
           {
            "colorbar": {
             "outlinewidth": 0,
             "ticks": ""
            },
            "colorscale": [
             [
              0,
              "#0d0887"
             ],
             [
              0.1111111111111111,
              "#46039f"
             ],
             [
              0.2222222222222222,
              "#7201a8"
             ],
             [
              0.3333333333333333,
              "#9c179e"
             ],
             [
              0.4444444444444444,
              "#bd3786"
             ],
             [
              0.5555555555555556,
              "#d8576b"
             ],
             [
              0.6666666666666666,
              "#ed7953"
             ],
             [
              0.7777777777777778,
              "#fb9f3a"
             ],
             [
              0.8888888888888888,
              "#fdca26"
             ],
             [
              1,
              "#f0f921"
             ]
            ],
            "type": "surface"
           }
          ],
          "table": [
           {
            "cells": {
             "fill": {
              "color": "#EBF0F8"
             },
             "line": {
              "color": "white"
             }
            },
            "header": {
             "fill": {
              "color": "#C8D4E3"
             },
             "line": {
              "color": "white"
             }
            },
            "type": "table"
           }
          ]
         },
         "layout": {
          "annotationdefaults": {
           "arrowcolor": "#2a3f5f",
           "arrowhead": 0,
           "arrowwidth": 1
          },
          "autotypenumbers": "strict",
          "coloraxis": {
           "colorbar": {
            "outlinewidth": 0,
            "ticks": ""
           }
          },
          "colorscale": {
           "diverging": [
            [
             0,
             "#8e0152"
            ],
            [
             0.1,
             "#c51b7d"
            ],
            [
             0.2,
             "#de77ae"
            ],
            [
             0.3,
             "#f1b6da"
            ],
            [
             0.4,
             "#fde0ef"
            ],
            [
             0.5,
             "#f7f7f7"
            ],
            [
             0.6,
             "#e6f5d0"
            ],
            [
             0.7,
             "#b8e186"
            ],
            [
             0.8,
             "#7fbc41"
            ],
            [
             0.9,
             "#4d9221"
            ],
            [
             1,
             "#276419"
            ]
           ],
           "sequential": [
            [
             0,
             "#0d0887"
            ],
            [
             0.1111111111111111,
             "#46039f"
            ],
            [
             0.2222222222222222,
             "#7201a8"
            ],
            [
             0.3333333333333333,
             "#9c179e"
            ],
            [
             0.4444444444444444,
             "#bd3786"
            ],
            [
             0.5555555555555556,
             "#d8576b"
            ],
            [
             0.6666666666666666,
             "#ed7953"
            ],
            [
             0.7777777777777778,
             "#fb9f3a"
            ],
            [
             0.8888888888888888,
             "#fdca26"
            ],
            [
             1,
             "#f0f921"
            ]
           ],
           "sequentialminus": [
            [
             0,
             "#0d0887"
            ],
            [
             0.1111111111111111,
             "#46039f"
            ],
            [
             0.2222222222222222,
             "#7201a8"
            ],
            [
             0.3333333333333333,
             "#9c179e"
            ],
            [
             0.4444444444444444,
             "#bd3786"
            ],
            [
             0.5555555555555556,
             "#d8576b"
            ],
            [
             0.6666666666666666,
             "#ed7953"
            ],
            [
             0.7777777777777778,
             "#fb9f3a"
            ],
            [
             0.8888888888888888,
             "#fdca26"
            ],
            [
             1,
             "#f0f921"
            ]
           ]
          },
          "colorway": [
           "#636efa",
           "#EF553B",
           "#00cc96",
           "#ab63fa",
           "#FFA15A",
           "#19d3f3",
           "#FF6692",
           "#B6E880",
           "#FF97FF",
           "#FECB52"
          ],
          "font": {
           "color": "#2a3f5f"
          },
          "geo": {
           "bgcolor": "white",
           "lakecolor": "white",
           "landcolor": "#E5ECF6",
           "showlakes": true,
           "showland": true,
           "subunitcolor": "white"
          },
          "hoverlabel": {
           "align": "left"
          },
          "hovermode": "closest",
          "mapbox": {
           "style": "light"
          },
          "paper_bgcolor": "white",
          "plot_bgcolor": "#E5ECF6",
          "polar": {
           "angularaxis": {
            "gridcolor": "white",
            "linecolor": "white",
            "ticks": ""
           },
           "bgcolor": "#E5ECF6",
           "radialaxis": {
            "gridcolor": "white",
            "linecolor": "white",
            "ticks": ""
           }
          },
          "scene": {
           "xaxis": {
            "backgroundcolor": "#E5ECF6",
            "gridcolor": "white",
            "gridwidth": 2,
            "linecolor": "white",
            "showbackground": true,
            "ticks": "",
            "zerolinecolor": "white"
           },
           "yaxis": {
            "backgroundcolor": "#E5ECF6",
            "gridcolor": "white",
            "gridwidth": 2,
            "linecolor": "white",
            "showbackground": true,
            "ticks": "",
            "zerolinecolor": "white"
           },
           "zaxis": {
            "backgroundcolor": "#E5ECF6",
            "gridcolor": "white",
            "gridwidth": 2,
            "linecolor": "white",
            "showbackground": true,
            "ticks": "",
            "zerolinecolor": "white"
           }
          },
          "shapedefaults": {
           "line": {
            "color": "#2a3f5f"
           }
          },
          "ternary": {
           "aaxis": {
            "gridcolor": "white",
            "linecolor": "white",
            "ticks": ""
           },
           "baxis": {
            "gridcolor": "white",
            "linecolor": "white",
            "ticks": ""
           },
           "bgcolor": "#E5ECF6",
           "caxis": {
            "gridcolor": "white",
            "linecolor": "white",
            "ticks": ""
           }
          },
          "title": {
           "x": 0.05
          },
          "xaxis": {
           "automargin": true,
           "gridcolor": "white",
           "linecolor": "white",
           "ticks": "",
           "title": {
            "standoff": 15
           },
           "zerolinecolor": "white",
           "zerolinewidth": 2
          },
          "yaxis": {
           "automargin": true,
           "gridcolor": "white",
           "linecolor": "white",
           "ticks": "",
           "title": {
            "standoff": 15
           },
           "zerolinecolor": "white",
           "zerolinewidth": 2
          }
         }
        },
        "title": {
         "text": "Predicciones vs TN"
        },
        "width": 600,
        "xaxis": {
         "range": [
          0,
          50
         ],
         "scaleanchor": "y",
         "scaleratio": 1,
         "title": {
          "text": "TN Real"
         }
        },
        "yaxis": {
         "range": [
          0,
          50
         ],
         "scaleanchor": "x",
         "scaleratio": 1,
         "title": {
          "text": "TN Predicho"
         }
        }
       }
      }
     },
     "metadata": {},
     "output_type": "display_data"
    }
   ],
   "source": [
    "import plotly.graph_objects as go\n",
    "\n",
    "# Crear el gráfico de dispersión\n",
    "fig = go.Figure()\n",
    "\n",
    "# Añadir los puntos de dispersión con el product_id en el hover\n",
    "fig.add_trace(go.Scatter(\n",
    "    x=df_final[\"tn\"],\n",
    "    y=df_final[\"tn_t2_pred\"],\n",
    "    mode='markers',\n",
    "    name='Datos',\n",
    "    customdata=df_final[\"product_id\"],  # Pasamos el product_id como dato adicional\n",
    "    hovertemplate=(\n",
    "        \"<b>TN Real</b>: %{x}<br>\"\n",
    "        \"<b>TN Predicho</b>: %{y}<br>\"\n",
    "        \"<b>Product ID</b>: %{customdata}<br>\"\n",
    "        \"<extra></extra>\"  # Elimina información adicional automática\n",
    "    ),\n",
    "    marker=dict(size=8, opacity=0.7)  # Opcional: ajustar tamaño y transparencia\n",
    "))\n",
    "\n",
    "# Añadir la línea de referencia y=x\n",
    "fig.add_trace(go.Scatter(\n",
    "    x=[0, 1400],\n",
    "    y=[0, 1400],\n",
    "    mode='lines',\n",
    "    name='y = x',\n",
    "    line=dict(color='red', dash='dash')\n",
    "))\n",
    "\n",
    "# Configurar el diseño del gráfico para que sea cuadrado\n",
    "fig.update_layout(\n",
    "    title='Predicciones vs TN',\n",
    "    xaxis_title='TN Real',\n",
    "    yaxis_title='TN Predicho',\n",
    "    showlegend=True,\n",
    "    # Forzar misma escala en ejes X e Y\n",
    "    xaxis=dict(scaleanchor=\"y\", scaleratio=1),\n",
    "    yaxis=dict(scaleanchor=\"x\", scaleratio=1),\n",
    "    # Tamaño cuadrado (opcional)\n",
    "    width=600,\n",
    "    height=600,\n",
    "    # Rango fijo para ambos ejes (opcional)\n",
    "    xaxis_range=[0, 50],\n",
    "    yaxis_range=[0, 50]\n",
    ")\n",
    "\n",
    "# Mostrar el gráfico\n",
    "fig.show()"
   ]
  },
  {
   "cell_type": "code",
   "execution_count": 170,
   "id": "84871a94",
   "metadata": {},
   "outputs": [
    {
     "name": "stdout",
     "output_type": "stream",
     "text": [
      "32015.00363455506 | 25987.52668\n"
     ]
    }
   ],
   "source": [
    "print(df_final[\"tn_t2_pred\"].sum(),\"|\",df_final[\"tn\"].sum())"
   ]
  },
  {
   "cell_type": "code",
   "execution_count": 171,
   "id": "4750dc95",
   "metadata": {},
   "outputs": [
    {
     "data": {
      "application/vnd.microsoft.datawrangler.viewer.v0+json": {
       "columns": [
        {
         "name": "index",
         "rawType": "int64",
         "type": "integer"
        },
        {
         "name": "product_id",
         "rawType": "int64",
         "type": "integer"
        },
        {
         "name": "tn",
         "rawType": "float64",
         "type": "float"
        },
        {
         "name": "tn_t2_pred",
         "rawType": "float64",
         "type": "float"
        },
        {
         "name": "error",
         "rawType": "float64",
         "type": "float"
        },
        {
         "name": "error_relativo",
         "rawType": "float64",
         "type": "float"
        }
       ],
       "ref": "9464ed77-a1aa-47aa-b31f-eea149f9e1bc",
       "rows": [
        [
         "7",
         "20008",
         "195.36854",
         "476.1253151531958",
         "280.7567751531958",
         "1.4370623599541452"
        ],
        [
         "11",
         "20012",
         "173.13004",
         "416.9636488858013",
         "243.8336088858013",
         "1.4083841769215861"
        ],
        [
         "17",
         "20018",
         "141.63569999999999",
         "331.11157250545705",
         "189.47587250545706",
         "1.3377691676989423"
        ],
        [
         "0",
         "20001",
         "1504.68856",
         "1322.72769899932",
         "181.9608610006801",
         "0.12092925130013622"
        ],
        [
         "5",
         "20006",
         "417.23228",
         "561.6992073946953",
         "144.46692739469535",
         "0.3462506002524429"
        ],
        [
         "27",
         "20028",
         "109.92618",
         "247.65909225777136",
         "137.73291225777137",
         "1.2529582330412226"
        ],
        [
         "13",
         "20014",
         "272.02812",
         "408.5125768411975",
         "136.48445684119747",
         "0.5017292213804863"
        ],
        [
         "12",
         "20013",
         "318.09141",
         "453.88766247822116",
         "135.79625247822116",
         "0.4269095241466004"
        ],
        [
         "44",
         "20048",
         "58.89241",
         "175.99678967684062",
         "117.10437967684062",
         "1.9884460438423326"
        ],
        [
         "40",
         "20044",
         "59.617470000000004",
         "169.48463453085765",
         "109.86716453085765",
         "1.8428686177199005"
        ],
        [
         "2",
         "20003",
         "892.5012899999999",
         "785.4134309017161",
         "107.08785909828384",
         "0.11998622332331178"
        ],
        [
         "8",
         "20009",
         "495.03574",
         "390.8717802966382",
         "104.1639597033618",
         "0.21041704928892974"
        ],
        [
         "74",
         "20080",
         "8.84426",
         "107.64817845506187",
         "98.80391845506186",
         "11.171530286882323"
        ],
        [
         "16",
         "20017",
         "216.90773",
         "314.24810396956923",
         "97.34037396956924",
         "0.4487639696822665"
        ],
        [
         "66",
         "20072",
         "32.2686",
         "128.10855657172544",
         "95.83995657172545",
         "2.9700686293091567"
        ],
        [
         "15",
         "20016",
         "273.20202",
         "369.0179963384708",
         "95.81597633847082",
         "0.35071474339198083"
        ],
        [
         "43",
         "20047",
         "71.49763",
         "163.86813418194754",
         "92.37050418194754",
         "1.2919379870626135"
        ],
        [
         "39",
         "20043",
         "93.77222",
         "184.22346004410713",
         "90.45124004410712",
         "0.9645846077239839"
        ],
        [
         "32",
         "20033",
         "96.76212",
         "184.2851648648241",
         "87.52304486482412",
         "0.9045176445578509"
        ],
        [
         "92",
         "20100",
         "1.3792",
         "88.89317105712712",
         "87.51397105712712",
         "63.45270523283579"
        ]
       ],
       "shape": {
        "columns": 5,
        "rows": 20
       }
      },
      "text/html": [
       "<div>\n",
       "<style scoped>\n",
       "    .dataframe tbody tr th:only-of-type {\n",
       "        vertical-align: middle;\n",
       "    }\n",
       "\n",
       "    .dataframe tbody tr th {\n",
       "        vertical-align: top;\n",
       "    }\n",
       "\n",
       "    .dataframe thead th {\n",
       "        text-align: right;\n",
       "    }\n",
       "</style>\n",
       "<table border=\"1\" class=\"dataframe\">\n",
       "  <thead>\n",
       "    <tr style=\"text-align: right;\">\n",
       "      <th></th>\n",
       "      <th>product_id</th>\n",
       "      <th>tn</th>\n",
       "      <th>tn_t2_pred</th>\n",
       "      <th>error</th>\n",
       "      <th>error_relativo</th>\n",
       "    </tr>\n",
       "  </thead>\n",
       "  <tbody>\n",
       "    <tr>\n",
       "      <th>7</th>\n",
       "      <td>20008</td>\n",
       "      <td>195.36854</td>\n",
       "      <td>476.125315</td>\n",
       "      <td>280.756775</td>\n",
       "      <td>1.437062</td>\n",
       "    </tr>\n",
       "    <tr>\n",
       "      <th>11</th>\n",
       "      <td>20012</td>\n",
       "      <td>173.13004</td>\n",
       "      <td>416.963649</td>\n",
       "      <td>243.833609</td>\n",
       "      <td>1.408384</td>\n",
       "    </tr>\n",
       "    <tr>\n",
       "      <th>17</th>\n",
       "      <td>20018</td>\n",
       "      <td>141.63570</td>\n",
       "      <td>331.111573</td>\n",
       "      <td>189.475873</td>\n",
       "      <td>1.337769</td>\n",
       "    </tr>\n",
       "    <tr>\n",
       "      <th>0</th>\n",
       "      <td>20001</td>\n",
       "      <td>1504.68856</td>\n",
       "      <td>1322.727699</td>\n",
       "      <td>181.960861</td>\n",
       "      <td>0.120929</td>\n",
       "    </tr>\n",
       "    <tr>\n",
       "      <th>5</th>\n",
       "      <td>20006</td>\n",
       "      <td>417.23228</td>\n",
       "      <td>561.699207</td>\n",
       "      <td>144.466927</td>\n",
       "      <td>0.346251</td>\n",
       "    </tr>\n",
       "    <tr>\n",
       "      <th>27</th>\n",
       "      <td>20028</td>\n",
       "      <td>109.92618</td>\n",
       "      <td>247.659092</td>\n",
       "      <td>137.732912</td>\n",
       "      <td>1.252958</td>\n",
       "    </tr>\n",
       "    <tr>\n",
       "      <th>13</th>\n",
       "      <td>20014</td>\n",
       "      <td>272.02812</td>\n",
       "      <td>408.512577</td>\n",
       "      <td>136.484457</td>\n",
       "      <td>0.501729</td>\n",
       "    </tr>\n",
       "    <tr>\n",
       "      <th>12</th>\n",
       "      <td>20013</td>\n",
       "      <td>318.09141</td>\n",
       "      <td>453.887662</td>\n",
       "      <td>135.796252</td>\n",
       "      <td>0.426910</td>\n",
       "    </tr>\n",
       "    <tr>\n",
       "      <th>44</th>\n",
       "      <td>20048</td>\n",
       "      <td>58.89241</td>\n",
       "      <td>175.996790</td>\n",
       "      <td>117.104380</td>\n",
       "      <td>1.988446</td>\n",
       "    </tr>\n",
       "    <tr>\n",
       "      <th>40</th>\n",
       "      <td>20044</td>\n",
       "      <td>59.61747</td>\n",
       "      <td>169.484635</td>\n",
       "      <td>109.867165</td>\n",
       "      <td>1.842869</td>\n",
       "    </tr>\n",
       "    <tr>\n",
       "      <th>2</th>\n",
       "      <td>20003</td>\n",
       "      <td>892.50129</td>\n",
       "      <td>785.413431</td>\n",
       "      <td>107.087859</td>\n",
       "      <td>0.119986</td>\n",
       "    </tr>\n",
       "    <tr>\n",
       "      <th>8</th>\n",
       "      <td>20009</td>\n",
       "      <td>495.03574</td>\n",
       "      <td>390.871780</td>\n",
       "      <td>104.163960</td>\n",
       "      <td>0.210417</td>\n",
       "    </tr>\n",
       "    <tr>\n",
       "      <th>74</th>\n",
       "      <td>20080</td>\n",
       "      <td>8.84426</td>\n",
       "      <td>107.648178</td>\n",
       "      <td>98.803918</td>\n",
       "      <td>11.171530</td>\n",
       "    </tr>\n",
       "    <tr>\n",
       "      <th>16</th>\n",
       "      <td>20017</td>\n",
       "      <td>216.90773</td>\n",
       "      <td>314.248104</td>\n",
       "      <td>97.340374</td>\n",
       "      <td>0.448764</td>\n",
       "    </tr>\n",
       "    <tr>\n",
       "      <th>66</th>\n",
       "      <td>20072</td>\n",
       "      <td>32.26860</td>\n",
       "      <td>128.108557</td>\n",
       "      <td>95.839957</td>\n",
       "      <td>2.970069</td>\n",
       "    </tr>\n",
       "    <tr>\n",
       "      <th>15</th>\n",
       "      <td>20016</td>\n",
       "      <td>273.20202</td>\n",
       "      <td>369.017996</td>\n",
       "      <td>95.815976</td>\n",
       "      <td>0.350715</td>\n",
       "    </tr>\n",
       "    <tr>\n",
       "      <th>43</th>\n",
       "      <td>20047</td>\n",
       "      <td>71.49763</td>\n",
       "      <td>163.868134</td>\n",
       "      <td>92.370504</td>\n",
       "      <td>1.291938</td>\n",
       "    </tr>\n",
       "    <tr>\n",
       "      <th>39</th>\n",
       "      <td>20043</td>\n",
       "      <td>93.77222</td>\n",
       "      <td>184.223460</td>\n",
       "      <td>90.451240</td>\n",
       "      <td>0.964585</td>\n",
       "    </tr>\n",
       "    <tr>\n",
       "      <th>32</th>\n",
       "      <td>20033</td>\n",
       "      <td>96.76212</td>\n",
       "      <td>184.285165</td>\n",
       "      <td>87.523045</td>\n",
       "      <td>0.904518</td>\n",
       "    </tr>\n",
       "    <tr>\n",
       "      <th>92</th>\n",
       "      <td>20100</td>\n",
       "      <td>1.37920</td>\n",
       "      <td>88.893171</td>\n",
       "      <td>87.513971</td>\n",
       "      <td>63.452705</td>\n",
       "    </tr>\n",
       "  </tbody>\n",
       "</table>\n",
       "</div>"
      ],
      "text/plain": [
       "    product_id          tn   tn_t2_pred       error  error_relativo\n",
       "7        20008   195.36854   476.125315  280.756775        1.437062\n",
       "11       20012   173.13004   416.963649  243.833609        1.408384\n",
       "17       20018   141.63570   331.111573  189.475873        1.337769\n",
       "0        20001  1504.68856  1322.727699  181.960861        0.120929\n",
       "5        20006   417.23228   561.699207  144.466927        0.346251\n",
       "27       20028   109.92618   247.659092  137.732912        1.252958\n",
       "13       20014   272.02812   408.512577  136.484457        0.501729\n",
       "12       20013   318.09141   453.887662  135.796252        0.426910\n",
       "44       20048    58.89241   175.996790  117.104380        1.988446\n",
       "40       20044    59.61747   169.484635  109.867165        1.842869\n",
       "2        20003   892.50129   785.413431  107.087859        0.119986\n",
       "8        20009   495.03574   390.871780  104.163960        0.210417\n",
       "74       20080     8.84426   107.648178   98.803918       11.171530\n",
       "16       20017   216.90773   314.248104   97.340374        0.448764\n",
       "66       20072    32.26860   128.108557   95.839957        2.970069\n",
       "15       20016   273.20202   369.017996   95.815976        0.350715\n",
       "43       20047    71.49763   163.868134   92.370504        1.291938\n",
       "39       20043    93.77222   184.223460   90.451240        0.964585\n",
       "32       20033    96.76212   184.285165   87.523045        0.904518\n",
       "92       20100     1.37920    88.893171   87.513971       63.452705"
      ]
     },
     "execution_count": 171,
     "metadata": {},
     "output_type": "execute_result"
    }
   ],
   "source": [
    "df_final[\"error\"] = (df_final[\"tn\"] - df_final[\"tn_t2_pred\"]).abs()\n",
    "df_final[\"error_relativo\"] = df_final[\"error\"] / df_final[\"tn\"]\n",
    "df_final.sort_values(by=\"error\", ascending=False, inplace=True)\n",
    "df_final[[\"product_id\" ,\"tn\", \"tn_t2_pred\", \"error\", \"error_relativo\"]].head(20)\n"
   ]
  },
  {
   "cell_type": "code",
   "execution_count": 172,
   "id": "7f3a5e1f",
   "metadata": {},
   "outputs": [],
   "source": [
    "sellin = pd.read_csv(\"../datasets/sell-in.txt.gz\", sep=\"\\t\")"
   ]
  },
  {
   "cell_type": "code",
   "execution_count": 173,
   "id": "44148a78",
   "metadata": {},
   "outputs": [
    {
     "name": "stderr",
     "output_type": "stream",
     "text": [
      "C:\\Users\\carre\\AppData\\Local\\Temp\\ipykernel_11172\\804960764.py:3: SettingWithCopyWarning:\n",
      "\n",
      "\n",
      "A value is trying to be set on a copy of a slice from a DataFrame.\n",
      "Try using .loc[row_indexer,col_indexer] = value instead\n",
      "\n",
      "See the caveats in the documentation: https://pandas.pydata.org/pandas-docs/stable/user_guide/indexing.html#returning-a-view-versus-a-copy\n",
      "\n"
     ]
    },
    {
     "data": {
      "image/png": "[encoded data removed]",
      "text/plain": [
       "<Figure size 640x480 with 1 Axes>"
      ]
     },
     "metadata": {},
     "output_type": "display_data"
    }
   ],
   "source": [
    "\n",
    "prod = 20008\n",
    "prod_s = sellin[sellin[\"product_id\"] == prod]\n",
    "prod_s[\"periodo\"] = pd.to_datetime(prod_s[\"periodo\"], format='%Y%m')\n",
    "prod_s = prod_s.groupby(\"periodo\").agg({\"tn\": \"sum\"}).reset_index()\n",
    "#prod_s.plot(kind=\"line\", x=\"periodo\", y=\"tn\", title=\"TN por periodo para producto 20002\")\n",
    "\n",
    "import matplotlib.pyplot as plt\n",
    "\n",
    "ax = plt.gca()\n",
    "prod_s.plot(kind=\"line\", x=\"periodo\", y=\"tn\", title=f\"TN por periodo para producto {prod}\", ax=ax)\n",
    "#plt.axhline(y=813.82, color='red', linestyle='--', label='predict')\n",
    "prediccion = df_final[df_final[\"product_id\"] == prod][\"tn_t2_pred\"].values[0]\n",
    "plt.scatter(prod_s[\"periodo\"].iloc[-1], prediccion, color='red', label='prediccion')\n",
    "plt.legend()\n",
    "plt.show()"
   ]
  },
  {
   "cell_type": "code",
   "execution_count": 8,
   "id": "99387317",
   "metadata": {},
   "outputs": [
    {
     "name": "stdout",
     "output_type": "stream",
     "text": [
      "Cargando datos...\n",
      "Procesando datos...\n",
      "Filtrando productos...\n",
      "Preparando datos de entrenamiento...\n",
      "Preparando datos para predicción...\n",
      "Entrenando modelos...\n",
      "\n",
      "Entrenando modelo con semilla 42\n"
     ]
    },
    {
     "name": "stderr",
     "output_type": "stream",
     "text": [
      "c:\\Users\\Usuario\\.conda\\envs\\py311lab3\\Lib\\site-packages\\keras\\src\\layers\\rnn\\rnn.py:199: UserWarning: Do not pass an `input_shape`/`input_dim` argument to a layer. When using Sequential models, prefer using an `Input(shape)` object as the first layer in the model instead.\n",
      "  super().__init__(**kwargs)\n"
     ]
    },
    {
     "name": "stdout",
     "output_type": "stream",
     "text": [
      "Epoch 1/150\n",
      "\u001b[1m65/65\u001b[0m \u001b[32m━━━━━━━━━━━━━━━━━━━━\u001b[0m\u001b[37m\u001b[0m \u001b[1m12s\u001b[0m 41ms/step - loss: 0.6083 - mae: 0.5790 - val_loss: 0.6874 - val_mae: 0.5627 - learning_rate: 0.0010\n",
      "Epoch 2/150\n",
      "\u001b[1m65/65\u001b[0m \u001b[32m━━━━━━━━━━━━━━━━━━━━\u001b[0m\u001b[37m\u001b[0m \u001b[1m4s\u001b[0m 31ms/step - loss: 0.5812 - mae: 0.5653 - val_loss: 0.6742 - val_mae: 0.5577 - learning_rate: 0.0010\n",
      "Epoch 3/150\n",
      "\u001b[1m65/65\u001b[0m \u001b[32m━━━━━━━━━━━━━━━━━━━━\u001b[0m\u001b[37m\u001b[0m \u001b[1m2s\u001b[0m 26ms/step - loss: 0.5725 - mae: 0.5614 - val_loss: 0.6697 - val_mae: 0.5565 - learning_rate: 0.0010\n",
      "Epoch 4/150\n",
      "\u001b[1m65/65\u001b[0m \u001b[32m━━━━━━━━━━━━━━━━━━━━\u001b[0m\u001b[37m\u001b[0m \u001b[1m3s\u001b[0m 31ms/step - loss: 0.5674 - mae: 0.5593 - val_loss: 0.6673 - val_mae: 0.5557 - learning_rate: 0.0010\n",
      "Epoch 5/150\n",
      "\u001b[1m65/65\u001b[0m \u001b[32m━━━━━━━━━━━━━━━━━━━━\u001b[0m\u001b[37m\u001b[0m \u001b[1m2s\u001b[0m 28ms/step - loss: 0.5645 - mae: 0.5580 - val_loss: 0.6688 - val_mae: 0.5560 - learning_rate: 0.0010\n",
      "Epoch 6/150\n",
      "\u001b[1m65/65\u001b[0m \u001b[32m━━━━━━━━━━━━━━━━━━━━\u001b[0m\u001b[37m\u001b[0m \u001b[1m2s\u001b[0m 29ms/step - loss: 0.5623 - mae: 0.5571 - val_loss: 0.6701 - val_mae: 0.5563 - learning_rate: 0.0010\n",
      "Epoch 7/150\n",
      "\u001b[1m65/65\u001b[0m \u001b[32m━━━━━━━━━━━━━━━━━━━━\u001b[0m\u001b[37m\u001b[0m \u001b[1m2s\u001b[0m 25ms/step - loss: 0.5598 - mae: 0.5561 - val_loss: 0.6714 - val_mae: 0.5558 - learning_rate: 0.0010\n",
      "Epoch 8/150\n",
      "\u001b[1m65/65\u001b[0m \u001b[32m━━━━━━━━━━━━━━━━━━━━\u001b[0m\u001b[37m\u001b[0m \u001b[1m3s\u001b[0m 26ms/step - loss: 0.5588 - mae: 0.5553 - val_loss: 0.6723 - val_mae: 0.5567 - learning_rate: 0.0010\n",
      "Epoch 9/150\n",
      "\u001b[1m65/65\u001b[0m \u001b[32m━━━━━━━━━━━━━━━━━━━━\u001b[0m\u001b[37m\u001b[0m \u001b[1m2s\u001b[0m 26ms/step - loss: 0.5570 - mae: 0.5547 - val_loss: 0.6730 - val_mae: 0.5572 - learning_rate: 0.0010\n",
      "Epoch 10/150\n",
      "\u001b[1m65/65\u001b[0m \u001b[32m━━━━━━━━━━━━━━━━━━━━\u001b[0m\u001b[37m\u001b[0m \u001b[1m2s\u001b[0m 26ms/step - loss: 0.5548 - mae: 0.5535 - val_loss: 0.6734 - val_mae: 0.5569 - learning_rate: 0.0010\n",
      "Epoch 11/150\n",
      "\u001b[1m65/65\u001b[0m \u001b[32m━━━━━━━━━━━━━━━━━━━━\u001b[0m\u001b[37m\u001b[0m \u001b[1m2s\u001b[0m 27ms/step - loss: 0.5539 - mae: 0.5528 - val_loss: 0.6741 - val_mae: 0.5572 - learning_rate: 0.0010\n",
      "Epoch 12/150\n",
      "\u001b[1m65/65\u001b[0m \u001b[32m━━━━━━━━━━━━━━━━━━━━\u001b[0m\u001b[37m\u001b[0m \u001b[1m2s\u001b[0m 28ms/step - loss: 0.5522 - mae: 0.5520 - val_loss: 0.6732 - val_mae: 0.5570 - learning_rate: 0.0010\n",
      "Epoch 13/150\n",
      "\u001b[1m65/65\u001b[0m \u001b[32m━━━━━━━━━━━━━━━━━━━━\u001b[0m\u001b[37m\u001b[0m \u001b[1m2s\u001b[0m 26ms/step - loss: 0.5523 - mae: 0.5523 - val_loss: 0.6751 - val_mae: 0.5587 - learning_rate: 0.0010\n",
      "Epoch 14/150\n",
      "\u001b[1m65/65\u001b[0m \u001b[32m━━━━━━━━━━━━━━━━━━━━\u001b[0m\u001b[37m\u001b[0m \u001b[1m2s\u001b[0m 26ms/step - loss: 0.5509 - mae: 0.5513 - val_loss: 0.6735 - val_mae: 0.5584 - learning_rate: 0.0010\n",
      "Epoch 15/150\n",
      "\u001b[1m65/65\u001b[0m \u001b[32m━━━━━━━━━━━━━━━━━━━━\u001b[0m\u001b[37m\u001b[0m \u001b[1m2s\u001b[0m 32ms/step - loss: 0.5509 - mae: 0.5517 - val_loss: 0.6741 - val_mae: 0.5582 - learning_rate: 0.0010\n",
      "Epoch 16/150\n",
      "\u001b[1m65/65\u001b[0m \u001b[32m━━━━━━━━━━━━━━━━━━━━\u001b[0m\u001b[37m\u001b[0m \u001b[1m2s\u001b[0m 35ms/step - loss: 0.5500 - mae: 0.5514 - val_loss: 0.6748 - val_mae: 0.5578 - learning_rate: 0.0010\n",
      "Epoch 17/150\n",
      "\u001b[1m65/65\u001b[0m \u001b[32m━━━━━━━━━━━━━━━━━━━━\u001b[0m\u001b[37m\u001b[0m \u001b[1m2s\u001b[0m 29ms/step - loss: 0.5488 - mae: 0.5501 - val_loss: 0.6755 - val_mae: 0.5587 - learning_rate: 0.0010\n",
      "Epoch 18/150\n",
      "\u001b[1m65/65\u001b[0m \u001b[32m━━━━━━━━━━━━━━━━━━━━\u001b[0m\u001b[37m\u001b[0m \u001b[1m3s\u001b[0m 29ms/step - loss: 0.5484 - mae: 0.5504 - val_loss: 0.6771 - val_mae: 0.5584 - learning_rate: 0.0010\n",
      "Epoch 19/150\n",
      "\u001b[1m65/65\u001b[0m \u001b[32m━━━━━━━━━━━━━━━━━━━━\u001b[0m\u001b[37m\u001b[0m \u001b[1m2s\u001b[0m 28ms/step - loss: 0.5479 - mae: 0.5501 - val_loss: 0.6763 - val_mae: 0.5588 - learning_rate: 0.0010\n",
      "Epoch 20/150\n",
      "\u001b[1m65/65\u001b[0m \u001b[32m━━━━━━━━━━━━━━━━━━━━\u001b[0m\u001b[37m\u001b[0m \u001b[1m3s\u001b[0m 29ms/step - loss: 0.5456 - mae: 0.5496 - val_loss: 0.6758 - val_mae: 0.5547 - learning_rate: 1.0000e-04\n",
      "Epoch 21/150\n",
      "\u001b[1m65/65\u001b[0m \u001b[32m━━━━━━━━━━━━━━━━━━━━\u001b[0m\u001b[37m\u001b[0m \u001b[1m2s\u001b[0m 28ms/step - loss: 0.5447 - mae: 0.5477 - val_loss: 0.6762 - val_mae: 0.5545 - learning_rate: 1.0000e-04\n",
      "Epoch 22/150\n",
      "\u001b[1m65/65\u001b[0m \u001b[32m━━━━━━━━━━━━━━━━━━━━\u001b[0m\u001b[37m\u001b[0m \u001b[1m3s\u001b[0m 27ms/step - loss: 0.5435 - mae: 0.5475 - val_loss: 0.6764 - val_mae: 0.5546 - learning_rate: 1.0000e-04\n",
      "Epoch 23/150\n",
      "\u001b[1m65/65\u001b[0m \u001b[32m━━━━━━━━━━━━━━━━━━━━\u001b[0m\u001b[37m\u001b[0m \u001b[1m3s\u001b[0m 31ms/step - loss: 0.5436 - mae: 0.5479 - val_loss: 0.6766 - val_mae: 0.5548 - learning_rate: 1.0000e-04\n",
      "Epoch 24/150\n",
      "\u001b[1m65/65\u001b[0m \u001b[32m━━━━━━━━━━━━━━━━━━━━\u001b[0m\u001b[37m\u001b[0m \u001b[1m2s\u001b[0m 29ms/step - loss: 0.5432 - mae: 0.5473 - val_loss: 0.6764 - val_mae: 0.5546 - learning_rate: 1.0000e-04\n",
      "\n",
      "Entrenando modelo con semilla 101\n",
      "Epoch 1/150\n",
      "\u001b[1m65/65\u001b[0m \u001b[32m━━━━━━━━━━━━━━━━━━━━\u001b[0m\u001b[37m\u001b[0m \u001b[1m8s\u001b[0m 41ms/step - loss: 0.6110 - mae: 0.5777 - val_loss: 0.6881 - val_mae: 0.5607 - learning_rate: 0.0010\n",
      "Epoch 2/150\n",
      "\u001b[1m65/65\u001b[0m \u001b[32m━━━━━━━━━━━━━━━━━━━━\u001b[0m\u001b[37m\u001b[0m \u001b[1m2s\u001b[0m 28ms/step - loss: 0.5854 - mae: 0.5682 - val_loss: 0.6821 - val_mae: 0.5605 - learning_rate: 0.0010\n",
      "Epoch 3/150\n",
      "\u001b[1m65/65\u001b[0m \u001b[32m━━━━━━━━━━━━━━━━━━━━\u001b[0m\u001b[37m\u001b[0m \u001b[1m3s\u001b[0m 29ms/step - loss: 0.5768 - mae: 0.5652 - val_loss: 0.6790 - val_mae: 0.5599 - learning_rate: 0.0010\n",
      "Epoch 4/150\n",
      "\u001b[1m65/65\u001b[0m \u001b[32m━━━━━━━━━━━━━━━━━━━━\u001b[0m\u001b[37m\u001b[0m \u001b[1m2s\u001b[0m 31ms/step - loss: 0.5715 - mae: 0.5629 - val_loss: 0.6773 - val_mae: 0.5610 - learning_rate: 0.0010\n",
      "Epoch 5/150\n",
      "\u001b[1m65/65\u001b[0m \u001b[32m━━━━━━━━━━━━━━━━━━━━\u001b[0m\u001b[37m\u001b[0m \u001b[1m2s\u001b[0m 26ms/step - loss: 0.5692 - mae: 0.5620 - val_loss: 0.6771 - val_mae: 0.5623 - learning_rate: 0.0010\n",
      "Epoch 6/150\n",
      "\u001b[1m65/65\u001b[0m \u001b[32m━━━━━━━━━━━━━━━━━━━━\u001b[0m\u001b[37m\u001b[0m \u001b[1m3s\u001b[0m 27ms/step - loss: 0.5659 - mae: 0.5606 - val_loss: 0.6775 - val_mae: 0.5630 - learning_rate: 0.0010\n",
      "Epoch 7/150\n",
      "\u001b[1m65/65\u001b[0m \u001b[32m━━━━━━━━━━━━━━━━━━━━\u001b[0m\u001b[37m\u001b[0m \u001b[1m3s\u001b[0m 28ms/step - loss: 0.5630 - mae: 0.5593 - val_loss: 0.6785 - val_mae: 0.5638 - learning_rate: 0.0010\n",
      "Epoch 8/150\n",
      "\u001b[1m65/65\u001b[0m \u001b[32m━━━━━━━━━━━━━━━━━━━━\u001b[0m\u001b[37m\u001b[0m \u001b[1m2s\u001b[0m 33ms/step - loss: 0.5624 - mae: 0.5593 - val_loss: 0.6781 - val_mae: 0.5631 - learning_rate: 0.0010\n",
      "Epoch 9/150\n",
      "\u001b[1m65/65\u001b[0m \u001b[32m━━━━━━━━━━━━━━━━━━━━\u001b[0m\u001b[37m\u001b[0m \u001b[1m2s\u001b[0m 28ms/step - loss: 0.5608 - mae: 0.5585 - val_loss: 0.6793 - val_mae: 0.5641 - learning_rate: 0.0010\n",
      "Epoch 10/150\n",
      "\u001b[1m65/65\u001b[0m \u001b[32m━━━━━━━━━━━━━━━━━━━━\u001b[0m\u001b[37m\u001b[0m \u001b[1m2s\u001b[0m 27ms/step - loss: 0.5591 - mae: 0.5579 - val_loss: 0.6796 - val_mae: 0.5636 - learning_rate: 0.0010\n",
      "Epoch 11/150\n",
      "\u001b[1m65/65\u001b[0m \u001b[32m━━━━━━━━━━━━━━━━━━━━\u001b[0m\u001b[37m\u001b[0m \u001b[1m3s\u001b[0m 30ms/step - loss: 0.5588 - mae: 0.5576 - val_loss: 0.6798 - val_mae: 0.5637 - learning_rate: 0.0010\n",
      "Epoch 12/150\n",
      "\u001b[1m65/65\u001b[0m \u001b[32m━━━━━━━━━━━━━━━━━━━━\u001b[0m\u001b[37m\u001b[0m \u001b[1m3s\u001b[0m 28ms/step - loss: 0.5578 - mae: 0.5568 - val_loss: 0.6799 - val_mae: 0.5641 - learning_rate: 0.0010\n",
      "Epoch 13/150\n",
      "\u001b[1m65/65\u001b[0m \u001b[32m━━━━━━━━━━━━━━━━━━━━\u001b[0m\u001b[37m\u001b[0m \u001b[1m2s\u001b[0m 29ms/step - loss: 0.5556 - mae: 0.5560 - val_loss: 0.6806 - val_mae: 0.5640 - learning_rate: 0.0010\n",
      "Epoch 14/150\n",
      "\u001b[1m65/65\u001b[0m \u001b[32m━━━━━━━━━━━━━━━━━━━━\u001b[0m\u001b[37m\u001b[0m \u001b[1m2s\u001b[0m 26ms/step - loss: 0.5557 - mae: 0.5560 - val_loss: 0.6816 - val_mae: 0.5654 - learning_rate: 0.0010\n",
      "Epoch 15/150\n",
      "\u001b[1m65/65\u001b[0m \u001b[32m━━━━━━━━━━━━━━━━━━━━\u001b[0m\u001b[37m\u001b[0m \u001b[1m3s\u001b[0m 27ms/step - loss: 0.5556 - mae: 0.5561 - val_loss: 0.6818 - val_mae: 0.5650 - learning_rate: 0.0010\n",
      "Epoch 16/150\n",
      "\u001b[1m65/65\u001b[0m \u001b[32m━━━━━━━━━━━━━━━━━━━━\u001b[0m\u001b[37m\u001b[0m \u001b[1m2s\u001b[0m 29ms/step - loss: 0.5541 - mae: 0.5553 - val_loss: 0.6806 - val_mae: 0.5644 - learning_rate: 0.0010\n",
      "Epoch 17/150\n",
      "\u001b[1m65/65\u001b[0m \u001b[32m━━━━━━━━━━━━━━━━━━━━\u001b[0m\u001b[37m\u001b[0m \u001b[1m2s\u001b[0m 31ms/step - loss: 0.5527 - mae: 0.5545 - val_loss: 0.6813 - val_mae: 0.5645 - learning_rate: 0.0010\n",
      "Epoch 18/150\n",
      "\u001b[1m65/65\u001b[0m \u001b[32m━━━━━━━━━━━━━━━━━━━━\u001b[0m\u001b[37m\u001b[0m \u001b[1m2s\u001b[0m 29ms/step - loss: 0.5528 - mae: 0.5540 - val_loss: 0.6822 - val_mae: 0.5657 - learning_rate: 0.0010\n",
      "Epoch 19/150\n",
      "\u001b[1m65/65\u001b[0m \u001b[32m━━━━━━━━━━━━━━━━━━━━\u001b[0m\u001b[37m\u001b[0m \u001b[1m3s\u001b[0m 28ms/step - loss: 0.5519 - mae: 0.5543 - val_loss: 0.6831 - val_mae: 0.5648 - learning_rate: 0.0010\n",
      "Epoch 20/150\n",
      "\u001b[1m65/65\u001b[0m \u001b[32m━━━━━━━━━━━━━━━━━━━━\u001b[0m\u001b[37m\u001b[0m \u001b[1m3s\u001b[0m 30ms/step - loss: 0.5520 - mae: 0.5541 - val_loss: 0.6827 - val_mae: 0.5648 - learning_rate: 0.0010\n",
      "Epoch 21/150\n",
      "\u001b[1m65/65\u001b[0m \u001b[32m━━━━━━━━━━━━━━━━━━━━\u001b[0m\u001b[37m\u001b[0m \u001b[1m2s\u001b[0m 28ms/step - loss: 0.5489 - mae: 0.5544 - val_loss: 0.6799 - val_mae: 0.5589 - learning_rate: 1.0000e-04\n",
      "Epoch 22/150\n",
      "\u001b[1m65/65\u001b[0m \u001b[32m━━━━━━━━━━━━━━━━━━━━\u001b[0m\u001b[37m\u001b[0m \u001b[1m2s\u001b[0m 28ms/step - loss: 0.5464 - mae: 0.5507 - val_loss: 0.6800 - val_mae: 0.5583 - learning_rate: 1.0000e-04\n",
      "Epoch 23/150\n",
      "\u001b[1m65/65\u001b[0m \u001b[32m━━━━━━━━━━━━━━━━━━━━\u001b[0m\u001b[37m\u001b[0m \u001b[1m2s\u001b[0m 27ms/step - loss: 0.5455 - mae: 0.5506 - val_loss: 0.6802 - val_mae: 0.5584 - learning_rate: 1.0000e-04\n",
      "Epoch 24/150\n",
      "\u001b[1m65/65\u001b[0m \u001b[32m━━━━━━━━━━━━━━━━━━━━\u001b[0m\u001b[37m\u001b[0m \u001b[1m3s\u001b[0m 30ms/step - loss: 0.5456 - mae: 0.5506 - val_loss: 0.6803 - val_mae: 0.5584 - learning_rate: 1.0000e-04\n",
      "Epoch 25/150\n",
      "\u001b[1m65/65\u001b[0m \u001b[32m━━━━━━━━━━━━━━━━━━━━\u001b[0m\u001b[37m\u001b[0m \u001b[1m2s\u001b[0m 27ms/step - loss: 0.5460 - mae: 0.5506 - val_loss: 0.6802 - val_mae: 0.5584 - learning_rate: 1.0000e-04\n",
      "\n",
      "Entrenando modelo con semilla 202\n",
      "Epoch 1/150\n",
      "\u001b[1m65/65\u001b[0m \u001b[32m━━━━━━━━━━━━━━━━━━━━\u001b[0m\u001b[37m\u001b[0m \u001b[1m6s\u001b[0m 38ms/step - loss: 0.6244 - mae: 0.5808 - val_loss: 0.6956 - val_mae: 0.5627 - learning_rate: 0.0010\n",
      "Epoch 2/150\n",
      "\u001b[1m65/65\u001b[0m \u001b[32m━━━━━━━━━━━━━━━━━━━━\u001b[0m\u001b[37m\u001b[0m \u001b[1m2s\u001b[0m 27ms/step - loss: 0.6024 - mae: 0.5721 - val_loss: 0.6852 - val_mae: 0.5607 - learning_rate: 0.0010\n",
      "Epoch 3/150\n",
      "\u001b[1m65/65\u001b[0m \u001b[32m━━━━━━━━━━━━━━━━━━━━\u001b[0m\u001b[37m\u001b[0m \u001b[1m2s\u001b[0m 32ms/step - loss: 0.5916 - mae: 0.5670 - val_loss: 0.6789 - val_mae: 0.5597 - learning_rate: 0.0010\n",
      "Epoch 4/150\n",
      "\u001b[1m65/65\u001b[0m \u001b[32m━━━━━━━━━━━━━━━━━━━━\u001b[0m\u001b[37m\u001b[0m \u001b[1m2s\u001b[0m 32ms/step - loss: 0.5870 - mae: 0.5646 - val_loss: 0.6776 - val_mae: 0.5594 - learning_rate: 0.0010\n",
      "Epoch 5/150\n",
      "\u001b[1m65/65\u001b[0m \u001b[32m━━━━━━━━━━━━━━━━━━━━\u001b[0m\u001b[37m\u001b[0m \u001b[1m2s\u001b[0m 28ms/step - loss: 0.5832 - mae: 0.5631 - val_loss: 0.6791 - val_mae: 0.5607 - learning_rate: 0.0010\n",
      "Epoch 6/150\n",
      "\u001b[1m65/65\u001b[0m \u001b[32m━━━━━━━━━━━━━━━━━━━━\u001b[0m\u001b[37m\u001b[0m \u001b[1m3s\u001b[0m 31ms/step - loss: 0.5824 - mae: 0.5627 - val_loss: 0.6764 - val_mae: 0.5588 - learning_rate: 0.0010\n",
      "Epoch 7/150\n",
      "\u001b[1m65/65\u001b[0m \u001b[32m━━━━━━━━━━━━━━━━━━━━\u001b[0m\u001b[37m\u001b[0m \u001b[1m2s\u001b[0m 27ms/step - loss: 0.5794 - mae: 0.5612 - val_loss: 0.6777 - val_mae: 0.5596 - learning_rate: 0.0010\n",
      "Epoch 8/150\n",
      "\u001b[1m65/65\u001b[0m \u001b[32m━━━━━━━━━━━━━━━━━━━━\u001b[0m\u001b[37m\u001b[0m \u001b[1m2s\u001b[0m 29ms/step - loss: 0.5787 - mae: 0.5607 - val_loss: 0.6776 - val_mae: 0.5600 - learning_rate: 0.0010\n",
      "Epoch 9/150\n",
      "\u001b[1m65/65\u001b[0m \u001b[32m━━━━━━━━━━━━━━━━━━━━\u001b[0m\u001b[37m\u001b[0m \u001b[1m2s\u001b[0m 30ms/step - loss: 0.5776 - mae: 0.5602 - val_loss: 0.6775 - val_mae: 0.5598 - learning_rate: 0.0010\n",
      "Epoch 10/150\n",
      "\u001b[1m65/65\u001b[0m \u001b[32m━━━━━━━━━━━━━━━━━━━━\u001b[0m\u001b[37m\u001b[0m \u001b[1m3s\u001b[0m 28ms/step - loss: 0.5755 - mae: 0.5588 - val_loss: 0.6768 - val_mae: 0.5592 - learning_rate: 0.0010\n",
      "Epoch 11/150\n",
      "\u001b[1m65/65\u001b[0m \u001b[32m━━━━━━━━━━━━━━━━━━━━\u001b[0m\u001b[37m\u001b[0m \u001b[1m2s\u001b[0m 29ms/step - loss: 0.5745 - mae: 0.5584 - val_loss: 0.6808 - val_mae: 0.5613 - learning_rate: 0.0010\n",
      "Epoch 12/150\n",
      "\u001b[1m65/65\u001b[0m \u001b[32m━━━━━━━━━━━━━━━━━━━━\u001b[0m\u001b[37m\u001b[0m \u001b[1m2s\u001b[0m 30ms/step - loss: 0.5746 - mae: 0.5586 - val_loss: 0.6801 - val_mae: 0.5604 - learning_rate: 0.0010\n",
      "Epoch 13/150\n",
      "\u001b[1m65/65\u001b[0m \u001b[32m━━━━━━━━━━━━━━━━━━━━\u001b[0m\u001b[37m\u001b[0m \u001b[1m2s\u001b[0m 28ms/step - loss: 0.5736 - mae: 0.5577 - val_loss: 0.6819 - val_mae: 0.5612 - learning_rate: 0.0010\n",
      "Epoch 14/150\n",
      "\u001b[1m65/65\u001b[0m \u001b[32m━━━━━━━━━━━━━━━━━━━━\u001b[0m\u001b[37m\u001b[0m \u001b[1m3s\u001b[0m 30ms/step - loss: 0.5728 - mae: 0.5575 - val_loss: 0.6834 - val_mae: 0.5617 - learning_rate: 0.0010\n",
      "Epoch 15/150\n",
      "\u001b[1m65/65\u001b[0m \u001b[32m━━━━━━━━━━━━━━━━━━━━\u001b[0m\u001b[37m\u001b[0m \u001b[1m2s\u001b[0m 31ms/step - loss: 0.5725 - mae: 0.5575 - val_loss: 0.6855 - val_mae: 0.5634 - learning_rate: 0.0010\n",
      "Epoch 16/150\n",
      "\u001b[1m65/65\u001b[0m \u001b[32m━━━━━━━━━━━━━━━━━━━━\u001b[0m\u001b[37m\u001b[0m \u001b[1m2s\u001b[0m 28ms/step - loss: 0.5714 - mae: 0.5572 - val_loss: 0.6849 - val_mae: 0.5621 - learning_rate: 0.0010\n",
      "Epoch 17/150\n",
      "\u001b[1m65/65\u001b[0m \u001b[32m━━━━━━━━━━━━━━━━━━━━\u001b[0m\u001b[37m\u001b[0m \u001b[1m3s\u001b[0m 31ms/step - loss: 0.5705 - mae: 0.5563 - val_loss: 0.6854 - val_mae: 0.5628 - learning_rate: 0.0010\n",
      "Epoch 18/150\n",
      "\u001b[1m65/65\u001b[0m \u001b[32m━━━━━━━━━━━━━━━━━━━━\u001b[0m\u001b[37m\u001b[0m \u001b[1m3s\u001b[0m 33ms/step - loss: 0.5702 - mae: 0.5564 - val_loss: 0.6875 - val_mae: 0.5634 - learning_rate: 0.0010\n",
      "Epoch 19/150\n",
      "\u001b[1m65/65\u001b[0m \u001b[32m━━━━━━━━━━━━━━━━━━━━\u001b[0m\u001b[37m\u001b[0m \u001b[1m2s\u001b[0m 30ms/step - loss: 0.5704 - mae: 0.5561 - val_loss: 0.6886 - val_mae: 0.5638 - learning_rate: 0.0010\n",
      "Epoch 20/150\n",
      "\u001b[1m65/65\u001b[0m \u001b[32m━━━━━━━━━━━━━━━━━━━━\u001b[0m\u001b[37m\u001b[0m \u001b[1m2s\u001b[0m 33ms/step - loss: 0.5699 - mae: 0.5561 - val_loss: 0.6900 - val_mae: 0.5642 - learning_rate: 0.0010\n",
      "Epoch 21/150\n",
      "\u001b[1m65/65\u001b[0m \u001b[32m━━━━━━━━━━━━━━━━━━━━\u001b[0m\u001b[37m\u001b[0m \u001b[1m3s\u001b[0m 46ms/step - loss: 0.5685 - mae: 0.5557 - val_loss: 0.6908 - val_mae: 0.5643 - learning_rate: 0.0010\n",
      "Epoch 22/150\n",
      "\u001b[1m65/65\u001b[0m \u001b[32m━━━━━━━━━━━━━━━━━━━━\u001b[0m\u001b[37m\u001b[0m \u001b[1m2s\u001b[0m 34ms/step - loss: 0.5726 - mae: 0.5595 - val_loss: 0.6822 - val_mae: 0.5572 - learning_rate: 1.0000e-04\n",
      "Epoch 23/150\n",
      "\u001b[1m65/65\u001b[0m \u001b[32m━━━━━━━━━━━━━━━━━━━━\u001b[0m\u001b[37m\u001b[0m \u001b[1m2s\u001b[0m 33ms/step - loss: 0.5644 - mae: 0.5536 - val_loss: 0.6816 - val_mae: 0.5566 - learning_rate: 1.0000e-04\n",
      "Epoch 24/150\n",
      "\u001b[1m65/65\u001b[0m \u001b[32m━━━━━━━━━━━━━━━━━━━━\u001b[0m\u001b[37m\u001b[0m \u001b[1m3s\u001b[0m 32ms/step - loss: 0.5633 - mae: 0.5529 - val_loss: 0.6816 - val_mae: 0.5565 - learning_rate: 1.0000e-04\n",
      "Epoch 25/150\n",
      "\u001b[1m65/65\u001b[0m \u001b[32m━━━━━━━━━━━━━━━━━━━━\u001b[0m\u001b[37m\u001b[0m \u001b[1m2s\u001b[0m 33ms/step - loss: 0.5632 - mae: 0.5528 - val_loss: 0.6816 - val_mae: 0.5564 - learning_rate: 1.0000e-04\n",
      "Epoch 26/150\n",
      "\u001b[1m65/65\u001b[0m \u001b[32m━━━━━━━━━━━━━━━━━━━━\u001b[0m\u001b[37m\u001b[0m \u001b[1m2s\u001b[0m 36ms/step - loss: 0.5632 - mae: 0.5523 - val_loss: 0.6817 - val_mae: 0.5563 - learning_rate: 1.0000e-04\n",
      "\n",
      "Entrenando modelo con semilla 303\n",
      "Epoch 1/150\n",
      "\u001b[1m65/65\u001b[0m \u001b[32m━━━━━━━━━━━━━━━━━━━━\u001b[0m\u001b[37m\u001b[0m \u001b[1m10s\u001b[0m 54ms/step - loss: 0.5918 - mae: 0.5677 - val_loss: 0.6953 - val_mae: 0.5619 - learning_rate: 0.0010\n",
      "Epoch 2/150\n",
      "\u001b[1m65/65\u001b[0m \u001b[32m━━━━━━━━━━━━━━━━━━━━\u001b[0m\u001b[37m\u001b[0m \u001b[1m4s\u001b[0m 34ms/step - loss: 0.5712 - mae: 0.5602 - val_loss: 0.6866 - val_mae: 0.5613 - learning_rate: 0.0010\n",
      "Epoch 3/150\n",
      "\u001b[1m65/65\u001b[0m \u001b[32m━━━━━━━━━━━━━━━━━━━━\u001b[0m\u001b[37m\u001b[0m \u001b[1m2s\u001b[0m 30ms/step - loss: 0.5610 - mae: 0.5558 - val_loss: 0.6801 - val_mae: 0.5604 - learning_rate: 0.0010\n",
      "Epoch 4/150\n",
      "\u001b[1m65/65\u001b[0m \u001b[32m━━━━━━━━━━━━━━━━━━━━\u001b[0m\u001b[37m\u001b[0m \u001b[1m2s\u001b[0m 33ms/step - loss: 0.5559 - mae: 0.5535 - val_loss: 0.6777 - val_mae: 0.5610 - learning_rate: 0.0010\n",
      "Epoch 5/150\n",
      "\u001b[1m65/65\u001b[0m \u001b[32m━━━━━━━━━━━━━━━━━━━━\u001b[0m\u001b[37m\u001b[0m \u001b[1m3s\u001b[0m 35ms/step - loss: 0.5537 - mae: 0.5529 - val_loss: 0.6745 - val_mae: 0.5602 - learning_rate: 0.0010\n",
      "Epoch 6/150\n",
      "\u001b[1m65/65\u001b[0m \u001b[32m━━━━━━━━━━━━━━━━━━━━\u001b[0m\u001b[37m\u001b[0m \u001b[1m2s\u001b[0m 30ms/step - loss: 0.5508 - mae: 0.5514 - val_loss: 0.6744 - val_mae: 0.5602 - learning_rate: 0.0010\n",
      "Epoch 7/150\n",
      "\u001b[1m65/65\u001b[0m \u001b[32m━━━━━━━━━━━━━━━━━━━━\u001b[0m\u001b[37m\u001b[0m \u001b[1m2s\u001b[0m 33ms/step - loss: 0.5491 - mae: 0.5503 - val_loss: 0.6731 - val_mae: 0.5588 - learning_rate: 0.0010\n",
      "Epoch 8/150\n",
      "\u001b[1m65/65\u001b[0m \u001b[32m━━━━━━━━━━━━━━━━━━━━\u001b[0m\u001b[37m\u001b[0m \u001b[1m3s\u001b[0m 40ms/step - loss: 0.5480 - mae: 0.5498 - val_loss: 0.6746 - val_mae: 0.5602 - learning_rate: 0.0010\n",
      "Epoch 9/150\n",
      "\u001b[1m65/65\u001b[0m \u001b[32m━━━━━━━━━━━━━━━━━━━━\u001b[0m\u001b[37m\u001b[0m \u001b[1m2s\u001b[0m 32ms/step - loss: 0.5465 - mae: 0.5490 - val_loss: 0.6765 - val_mae: 0.5599 - learning_rate: 0.0010\n",
      "Epoch 10/150\n",
      "\u001b[1m65/65\u001b[0m \u001b[32m━━━━━━━━━━━━━━━━━━━━\u001b[0m\u001b[37m\u001b[0m \u001b[1m2s\u001b[0m 34ms/step - loss: 0.5465 - mae: 0.5493 - val_loss: 0.6773 - val_mae: 0.5607 - learning_rate: 0.0010\n",
      "Epoch 11/150\n",
      "\u001b[1m65/65\u001b[0m \u001b[32m━━━━━━━━━━━━━━━━━━━━\u001b[0m\u001b[37m\u001b[0m \u001b[1m3s\u001b[0m 32ms/step - loss: 0.5453 - mae: 0.5485 - val_loss: 0.6773 - val_mae: 0.5607 - learning_rate: 0.0010\n",
      "Epoch 12/150\n",
      "\u001b[1m65/65\u001b[0m \u001b[32m━━━━━━━━━━━━━━━━━━━━\u001b[0m\u001b[37m\u001b[0m \u001b[1m2s\u001b[0m 31ms/step - loss: 0.5446 - mae: 0.5484 - val_loss: 0.6789 - val_mae: 0.5619 - learning_rate: 0.0010\n",
      "Epoch 13/150\n",
      "\u001b[1m65/65\u001b[0m \u001b[32m━━━━━━━━━━━━━━━━━━━━\u001b[0m\u001b[37m\u001b[0m \u001b[1m2s\u001b[0m 32ms/step - loss: 0.5439 - mae: 0.5481 - val_loss: 0.6779 - val_mae: 0.5616 - learning_rate: 0.0010\n",
      "Epoch 14/150\n",
      "\u001b[1m65/65\u001b[0m \u001b[32m━━━━━━━━━━━━━━━━━━━━\u001b[0m\u001b[37m\u001b[0m \u001b[1m3s\u001b[0m 32ms/step - loss: 0.5427 - mae: 0.5477 - val_loss: 0.6799 - val_mae: 0.5619 - learning_rate: 0.0010\n",
      "Epoch 15/150\n",
      "\u001b[1m65/65\u001b[0m \u001b[32m━━━━━━━━━━━━━━━━━━━━\u001b[0m\u001b[37m\u001b[0m \u001b[1m3s\u001b[0m 42ms/step - loss: 0.5427 - mae: 0.5477 - val_loss: 0.6805 - val_mae: 0.5617 - learning_rate: 0.0010\n",
      "Epoch 16/150\n",
      "\u001b[1m65/65\u001b[0m \u001b[32m━━━━━━━━━━━━━━━━━━━━\u001b[0m\u001b[37m\u001b[0m \u001b[1m2s\u001b[0m 30ms/step - loss: 0.5419 - mae: 0.5477 - val_loss: 0.6810 - val_mae: 0.5618 - learning_rate: 0.0010\n",
      "Epoch 17/150\n",
      "\u001b[1m65/65\u001b[0m \u001b[32m━━━━━━━━━━━━━━━━━━━━\u001b[0m\u001b[37m\u001b[0m \u001b[1m2s\u001b[0m 30ms/step - loss: 0.5409 - mae: 0.5467 - val_loss: 0.6827 - val_mae: 0.5616 - learning_rate: 0.0010\n",
      "Epoch 18/150\n",
      "\u001b[1m65/65\u001b[0m \u001b[32m━━━━━━━━━━━━━━━━━━━━\u001b[0m\u001b[37m\u001b[0m \u001b[1m2s\u001b[0m 32ms/step - loss: 0.5406 - mae: 0.5463 - val_loss: 0.6836 - val_mae: 0.5616 - learning_rate: 0.0010\n",
      "Epoch 19/150\n",
      "\u001b[1m65/65\u001b[0m \u001b[32m━━━━━━━━━━━━━━━━━━━━\u001b[0m\u001b[37m\u001b[0m \u001b[1m2s\u001b[0m 30ms/step - loss: 0.5397 - mae: 0.5459 - val_loss: 0.6819 - val_mae: 0.5613 - learning_rate: 0.0010\n",
      "Epoch 20/150\n",
      "\u001b[1m65/65\u001b[0m \u001b[32m━━━━━━━━━━━━━━━━━━━━\u001b[0m\u001b[37m\u001b[0m \u001b[1m2s\u001b[0m 31ms/step - loss: 0.5397 - mae: 0.5464 - val_loss: 0.6854 - val_mae: 0.5622 - learning_rate: 0.0010\n",
      "Epoch 21/150\n",
      "\u001b[1m65/65\u001b[0m \u001b[32m━━━━━━━━━━━━━━━━━━━━\u001b[0m\u001b[37m\u001b[0m \u001b[1m2s\u001b[0m 30ms/step - loss: 0.5399 - mae: 0.5458 - val_loss: 0.6849 - val_mae: 0.5609 - learning_rate: 0.0010\n",
      "Epoch 22/150\n",
      "\u001b[1m65/65\u001b[0m \u001b[32m━━━━━━━━━━━━━━━━━━━━\u001b[0m\u001b[37m\u001b[0m \u001b[1m3s\u001b[0m 39ms/step - loss: 0.5385 - mae: 0.5456 - val_loss: 0.6865 - val_mae: 0.5616 - learning_rate: 0.0010\n",
      "Epoch 23/150\n",
      "\u001b[1m65/65\u001b[0m \u001b[32m━━━━━━━━━━━━━━━━━━━━\u001b[0m\u001b[37m\u001b[0m \u001b[1m2s\u001b[0m 29ms/step - loss: 0.5371 - mae: 0.5461 - val_loss: 0.6808 - val_mae: 0.5582 - learning_rate: 1.0000e-04\n",
      "Epoch 24/150\n",
      "\u001b[1m65/65\u001b[0m \u001b[32m━━━━━━━━━━━━━━━━━━━━\u001b[0m\u001b[37m\u001b[0m \u001b[1m2s\u001b[0m 36ms/step - loss: 0.5346 - mae: 0.5438 - val_loss: 0.6808 - val_mae: 0.5581 - learning_rate: 1.0000e-04\n",
      "Epoch 25/150\n",
      "\u001b[1m65/65\u001b[0m \u001b[32m━━━━━━━━━━━━━━━━━━━━\u001b[0m\u001b[37m\u001b[0m \u001b[1m2s\u001b[0m 35ms/step - loss: 0.5343 - mae: 0.5436 - val_loss: 0.6810 - val_mae: 0.5581 - learning_rate: 1.0000e-04\n",
      "Epoch 26/150\n",
      "\u001b[1m65/65\u001b[0m \u001b[32m━━━━━━━━━━━━━━━━━━━━\u001b[0m\u001b[37m\u001b[0m \u001b[1m3s\u001b[0m 35ms/step - loss: 0.5343 - mae: 0.5435 - val_loss: 0.6813 - val_mae: 0.5582 - learning_rate: 1.0000e-04\n",
      "Epoch 27/150\n",
      "\u001b[1m65/65\u001b[0m \u001b[32m━━━━━━━━━━━━━━━━━━━━\u001b[0m\u001b[37m\u001b[0m \u001b[1m2s\u001b[0m 29ms/step - loss: 0.5338 - mae: 0.5430 - val_loss: 0.6813 - val_mae: 0.5582 - learning_rate: 1.0000e-04\n",
      "\n",
      "Entrenando modelo con semilla 404\n",
      "Epoch 1/150\n",
      "\u001b[1m65/65\u001b[0m \u001b[32m━━━━━━━━━━━━━━━━━━━━\u001b[0m\u001b[37m\u001b[0m \u001b[1m9s\u001b[0m 48ms/step - loss: 0.6269 - mae: 0.5834 - val_loss: 0.6996 - val_mae: 0.5617 - learning_rate: 0.0010\n",
      "Epoch 2/150\n",
      "\u001b[1m65/65\u001b[0m \u001b[32m━━━━━━━━━━━━━━━━━━━━\u001b[0m\u001b[37m\u001b[0m \u001b[1m3s\u001b[0m 39ms/step - loss: 0.6045 - mae: 0.5744 - val_loss: 0.6871 - val_mae: 0.5577 - learning_rate: 0.0010\n",
      "Epoch 3/150\n",
      "\u001b[1m65/65\u001b[0m \u001b[32m━━━━━━━━━━━━━━━━━━━━\u001b[0m\u001b[37m\u001b[0m \u001b[1m2s\u001b[0m 32ms/step - loss: 0.5947 - mae: 0.5705 - val_loss: 0.6780 - val_mae: 0.5542 - learning_rate: 0.0010\n",
      "Epoch 4/150\n",
      "\u001b[1m65/65\u001b[0m \u001b[32m━━━━━━━━━━━━━━━━━━━━\u001b[0m\u001b[37m\u001b[0m \u001b[1m2s\u001b[0m 34ms/step - loss: 0.5897 - mae: 0.5685 - val_loss: 0.6734 - val_mae: 0.5529 - learning_rate: 0.0010\n",
      "Epoch 5/150\n",
      "\u001b[1m65/65\u001b[0m \u001b[32m━━━━━━━━━━━━━━━━━━━━\u001b[0m\u001b[37m\u001b[0m \u001b[1m2s\u001b[0m 31ms/step - loss: 0.5855 - mae: 0.5671 - val_loss: 0.6709 - val_mae: 0.5519 - learning_rate: 0.0010\n",
      "Epoch 6/150\n",
      "\u001b[1m65/65\u001b[0m \u001b[32m━━━━━━━━━━━━━━━━━━━━\u001b[0m\u001b[37m\u001b[0m \u001b[1m2s\u001b[0m 31ms/step - loss: 0.5833 - mae: 0.5660 - val_loss: 0.6699 - val_mae: 0.5515 - learning_rate: 0.0010\n",
      "Epoch 7/150\n",
      "\u001b[1m65/65\u001b[0m \u001b[32m━━━━━━━━━━━━━━━━━━━━\u001b[0m\u001b[37m\u001b[0m \u001b[1m2s\u001b[0m 30ms/step - loss: 0.5821 - mae: 0.5654 - val_loss: 0.6689 - val_mae: 0.5514 - learning_rate: 0.0010\n",
      "Epoch 8/150\n",
      "\u001b[1m65/65\u001b[0m \u001b[32m━━━━━━━━━━━━━━━━━━━━\u001b[0m\u001b[37m\u001b[0m \u001b[1m2s\u001b[0m 33ms/step - loss: 0.5807 - mae: 0.5646 - val_loss: 0.6681 - val_mae: 0.5514 - learning_rate: 0.0010\n",
      "Epoch 9/150\n",
      "\u001b[1m65/65\u001b[0m \u001b[32m━━━━━━━━━━━━━━━━━━━━\u001b[0m\u001b[37m\u001b[0m \u001b[1m2s\u001b[0m 36ms/step - loss: 0.5782 - mae: 0.5637 - val_loss: 0.6687 - val_mae: 0.5509 - learning_rate: 0.0010\n",
      "Epoch 10/150\n",
      "\u001b[1m65/65\u001b[0m \u001b[32m━━━━━━━━━━━━━━━━━━━━\u001b[0m\u001b[37m\u001b[0m \u001b[1m2s\u001b[0m 31ms/step - loss: 0.5770 - mae: 0.5631 - val_loss: 0.6697 - val_mae: 0.5516 - learning_rate: 0.0010\n",
      "Epoch 11/150\n",
      "\u001b[1m65/65\u001b[0m \u001b[32m━━━━━━━━━━━━━━━━━━━━\u001b[0m\u001b[37m\u001b[0m \u001b[1m2s\u001b[0m 32ms/step - loss: 0.5769 - mae: 0.5633 - val_loss: 0.6699 - val_mae: 0.5511 - learning_rate: 0.0010\n",
      "Epoch 12/150\n",
      "\u001b[1m65/65\u001b[0m \u001b[32m━━━━━━━━━━━━━━━━━━━━\u001b[0m\u001b[37m\u001b[0m \u001b[1m2s\u001b[0m 35ms/step - loss: 0.5759 - mae: 0.5623 - val_loss: 0.6701 - val_mae: 0.5520 - learning_rate: 0.0010\n",
      "Epoch 13/150\n",
      "\u001b[1m65/65\u001b[0m \u001b[32m━━━━━━━━━━━━━━━━━━━━\u001b[0m\u001b[37m\u001b[0m \u001b[1m2s\u001b[0m 31ms/step - loss: 0.5749 - mae: 0.5622 - val_loss: 0.6699 - val_mae: 0.5517 - learning_rate: 0.0010\n",
      "Epoch 14/150\n",
      "\u001b[1m65/65\u001b[0m \u001b[32m━━━━━━━━━━━━━━━━━━━━\u001b[0m\u001b[37m\u001b[0m \u001b[1m3s\u001b[0m 31ms/step - loss: 0.5738 - mae: 0.5618 - val_loss: 0.6709 - val_mae: 0.5515 - learning_rate: 0.0010\n",
      "Epoch 15/150\n",
      "\u001b[1m65/65\u001b[0m \u001b[32m━━━━━━━━━━━━━━━━━━━━\u001b[0m\u001b[37m\u001b[0m \u001b[1m3s\u001b[0m 33ms/step - loss: 0.5729 - mae: 0.5613 - val_loss: 0.6716 - val_mae: 0.5520 - learning_rate: 0.0010\n",
      "Epoch 16/150\n",
      "\u001b[1m65/65\u001b[0m \u001b[32m━━━━━━━━━━━━━━━━━━━━\u001b[0m\u001b[37m\u001b[0m \u001b[1m2s\u001b[0m 32ms/step - loss: 0.5717 - mae: 0.5605 - val_loss: 0.6733 - val_mae: 0.5523 - learning_rate: 0.0010\n",
      "Epoch 17/150\n",
      "\u001b[1m65/65\u001b[0m \u001b[32m━━━━━━━━━━━━━━━━━━━━\u001b[0m\u001b[37m\u001b[0m \u001b[1m2s\u001b[0m 36ms/step - loss: 0.5720 - mae: 0.5608 - val_loss: 0.6725 - val_mae: 0.5520 - learning_rate: 0.0010\n",
      "Epoch 18/150\n",
      "\u001b[1m65/65\u001b[0m \u001b[32m━━━━━━━━━━━━━━━━━━━━\u001b[0m\u001b[37m\u001b[0m \u001b[1m2s\u001b[0m 36ms/step - loss: 0.5711 - mae: 0.5605 - val_loss: 0.6743 - val_mae: 0.5525 - learning_rate: 0.0010\n",
      "Epoch 19/150\n",
      "\u001b[1m65/65\u001b[0m \u001b[32m━━━━━━━━━━━━━━━━━━━━\u001b[0m\u001b[37m\u001b[0m \u001b[1m2s\u001b[0m 33ms/step - loss: 0.5708 - mae: 0.5604 - val_loss: 0.6748 - val_mae: 0.5529 - learning_rate: 0.0010\n",
      "Epoch 20/150\n",
      "\u001b[1m65/65\u001b[0m \u001b[32m━━━━━━━━━━━━━━━━━━━━\u001b[0m\u001b[37m\u001b[0m \u001b[1m2s\u001b[0m 35ms/step - loss: 0.5686 - mae: 0.5598 - val_loss: 0.6761 - val_mae: 0.5538 - learning_rate: 0.0010\n",
      "Epoch 21/150\n",
      "\u001b[1m65/65\u001b[0m \u001b[32m━━━━━━━━━━━━━━━━━━━━\u001b[0m\u001b[37m\u001b[0m \u001b[1m2s\u001b[0m 30ms/step - loss: 0.5700 - mae: 0.5601 - val_loss: 0.6758 - val_mae: 0.5536 - learning_rate: 0.0010\n",
      "Epoch 22/150\n",
      "\u001b[1m65/65\u001b[0m \u001b[32m━━━━━━━━━━━━━━━━━━━━\u001b[0m\u001b[37m\u001b[0m \u001b[1m2s\u001b[0m 31ms/step - loss: 0.5692 - mae: 0.5593 - val_loss: 0.6760 - val_mae: 0.5525 - learning_rate: 0.0010\n",
      "Epoch 23/150\n",
      "\u001b[1m65/65\u001b[0m \u001b[32m━━━━━━━━━━━━━━━━━━━━\u001b[0m\u001b[37m\u001b[0m \u001b[1m2s\u001b[0m 32ms/step - loss: 0.5689 - mae: 0.5594 - val_loss: 0.6759 - val_mae: 0.5540 - learning_rate: 0.0010\n",
      "Epoch 24/150\n",
      "\u001b[1m65/65\u001b[0m \u001b[32m━━━━━━━━━━━━━━━━━━━━\u001b[0m\u001b[37m\u001b[0m \u001b[1m3s\u001b[0m 33ms/step - loss: 0.5659 - mae: 0.5576 - val_loss: 0.6749 - val_mae: 0.5518 - learning_rate: 1.0000e-04\n",
      "Epoch 25/150\n",
      "\u001b[1m65/65\u001b[0m \u001b[32m━━━━━━━━━━━━━━━━━━━━\u001b[0m\u001b[37m\u001b[0m \u001b[1m2s\u001b[0m 31ms/step - loss: 0.5637 - mae: 0.5557 - val_loss: 0.6747 - val_mae: 0.5518 - learning_rate: 1.0000e-04\n",
      "Epoch 26/150\n",
      "\u001b[1m65/65\u001b[0m \u001b[32m━━━━━━━━━━━━━━━━━━━━\u001b[0m\u001b[37m\u001b[0m \u001b[1m2s\u001b[0m 33ms/step - loss: 0.5630 - mae: 0.5553 - val_loss: 0.6749 - val_mae: 0.5520 - learning_rate: 1.0000e-04\n",
      "Epoch 27/150\n",
      "\u001b[1m65/65\u001b[0m \u001b[32m━━━━━━━━━━━━━━━━━━━━\u001b[0m\u001b[37m\u001b[0m \u001b[1m3s\u001b[0m 40ms/step - loss: 0.5637 - mae: 0.5557 - val_loss: 0.6748 - val_mae: 0.5518 - learning_rate: 1.0000e-04\n",
      "Epoch 28/150\n",
      "\u001b[1m65/65\u001b[0m \u001b[32m━━━━━━━━━━━━━━━━━━━━\u001b[0m\u001b[37m\u001b[0m \u001b[1m2s\u001b[0m 38ms/step - loss: 0.5639 - mae: 0.5555 - val_loss: 0.6750 - val_mae: 0.5520 - learning_rate: 1.0000e-04\n",
      "\n",
      "Realizando predicciones...\n",
      "WARNING:tensorflow:5 out of the last 5 calls to <function TensorFlowTrainer.make_predict_function.<locals>.one_step_on_data_distributed at 0x000001955282D120> triggered tf.function retracing. Tracing is expensive and the excessive number of tracings could be due to (1) creating @tf.function repeatedly in a loop, (2) passing tensors with different shapes, (3) passing Python objects instead of tensors. For (1), please define your @tf.function outside of the loop. For (2), @tf.function has reduce_retracing=True option that can avoid unnecessary retracing. For (3), please refer to https://www.tensorflow.org/guide/function#controlling_retracing and https://www.tensorflow.org/api_docs/python/tf/function for  more details.\n",
      "\n",
      "Resultados:\n",
      "MAE: 128.02\n",
      "MAPE: 8.51%\n",
      "\n",
      "Ejemplo de predicciones:\n",
      "   product_id periodo_real  prediccion_t+2          tn       error\n",
      "0       20001   2019-12-01     1376.673116  1504.68856  128.015444\n",
      "\n",
      "Proceso completado exitosamente!\n"
     ]
    }
   ],
   "source": [
    "import pandas as pd\n",
    "import numpy as np\n",
    "from sklearn.preprocessing import StandardScaler, RobustScaler\n",
    "import tensorflow as tf\n",
    "from tensorflow.keras.models import Sequential\n",
    "from tensorflow.keras.layers import LSTM, Dense, Dropout\n",
    "from tensorflow.keras.regularizers import l2\n",
    "from tensorflow.keras.callbacks import EarlyStopping, ReduceLROnPlateau\n",
    "from tensorflow.keras.optimizers import Adam, RMSprop\n",
    "\n",
    "# Configuración\n",
    "config = {\n",
    "    \"lstm_units_1\": 64,\n",
    "    \"lstm_units_2\": 32,\n",
    "    \"dense_units\": 16,\n",
    "    \"dropout_rate\": 0.3,\n",
    "    \"epochs\": 150,\n",
    "    \"batch_size\": 250,\n",
    "    \"early_stopping_patience\": 20,\n",
    "    \"learning_rate\": None,\n",
    "    \"l2_lambda\": 0.001,\n",
    "    \"optimizer\": \"rmsprop\",\n",
    "    \"scaler_name\": \"robust\",\n",
    "    \"window_size\": 3,\n",
    "    \"feature_cols\": ['tn', 'tn_lag1', 'tn_diff1', 'rolling_mean3', \n",
    "                   'rolling_std3', 'rolling_max3', 'rolling_min3',\n",
    "                   'rolling_max6', 'rolling_min6', \"size\"],\n",
    "}\n",
    "\n",
    "# Cargar datos\n",
    "print(\"Cargando datos...\")\n",
    "df = pd.read_csv(\"../entregable/datasets/periodo_x_producto_con_target_transformado_con_feature_engineering_201912.csv\", \n",
    "                 sep=',', encoding='utf-8')\n",
    "df[\"periodo\"] = pd.to_datetime(df[\"periodo\"], format=\"%Y%m\")\n",
    "\n",
    "# Agregación mensual por producto\n",
    "print(\"Procesando datos...\")\n",
    "df = df.groupby([\"product_id\", \"periodo\"]).agg({\"tn\": \"sum\"}).sort_values([\"product_id\", \"periodo\"]).reset_index()\n",
    "\n",
    "# Función para crear features\n",
    "def agregar_features(df):\n",
    "    df = df.copy()\n",
    "    df = df.sort_values([\"product_id\", \"periodo\"])\n",
    "    \n",
    "    df[\"tn_lag1\"] = df.groupby(\"product_id\")[\"tn\"].shift(1)\n",
    "    df[\"tn_diff1\"] = df[\"tn\"] - df[\"tn_lag1\"]\n",
    "    df[\"size\"] = df.groupby(\"product_id\")[\"tn\"].transform(\"size\")\n",
    "    \n",
    "    df[\"rolling_mean3\"] = df.groupby(\"product_id\")[\"tn\"].transform(lambda x: x.shift(1).rolling(3).mean())\n",
    "    df[\"rolling_std3\"] = df.groupby(\"product_id\")[\"tn\"].transform(lambda x: x.shift(1).rolling(3).std())\n",
    "    df[\"rolling_max3\"] = df.groupby(\"product_id\")[\"tn\"].transform(lambda x: x.shift(1).rolling(3).max())\n",
    "    df[\"rolling_min3\"] = df.groupby(\"product_id\")[\"tn\"].transform(lambda x: x.shift(1).rolling(3).min())\n",
    "    df[\"rolling_max6\"] = df.groupby(\"product_id\")[\"tn\"].transform(lambda x: x.shift(1).rolling(6).max())\n",
    "    df[\"rolling_min6\"] = df.groupby(\"product_id\")[\"tn\"].transform(lambda x: x.shift(1).rolling(6).min())\n",
    "\n",
    "    return df\n",
    "\n",
    "df_features = agregar_features(df).fillna(0)\n",
    "\n",
    "# Filtrar productos con suficiente historial\n",
    "print(\"Filtrando productos...\")\n",
    "ultimo_mes = pd.to_datetime(\"201910\", format=\"%Y%m\")  # Octubre 2019\n",
    "ultimos_3_meses = pd.date_range(end=ultimo_mes - pd.DateOffset(months=1), periods=3, freq='MS')\n",
    "df_filtrado = df_features[df_features[\"periodo\"].isin(ultimos_3_meses)]\n",
    "conteo_por_producto = df_filtrado[df_filtrado[\"tn\"] > 0].groupby(\"product_id\").size()\n",
    "productos_validos = conteo_por_producto[conteo_por_producto >= 3].index\n",
    "df_features = df_features[df_features[\"product_id\"].isin(productos_validos)].copy()\n",
    "\n",
    "# Definir períodos\n",
    "fecha_inicio_train = pd.to_datetime(\"201901\", format=\"%Y%m\")\n",
    "fecha_fin_train = pd.to_datetime(\"201910\", format=\"%Y%m\")\n",
    "fecha_prediccion = pd.to_datetime(\"201912\", format=\"%Y%m\")\n",
    "\n",
    "# Preparar datos de entrenamiento\n",
    "print(\"Preparando datos de entrenamiento...\")\n",
    "window_size = config[\"window_size\"]\n",
    "scaler_name = config[\"scaler_name\"]\n",
    "feature_cols = config[\"feature_cols\"]\n",
    "scalers = {}\n",
    "\n",
    "X_train, y_train = [], []\n",
    "periodos_train = []\n",
    "\n",
    "for producto in productos_validos:\n",
    "    df_prod = df_features[(df_features[\"product_id\"] == producto) & \n",
    "                         (df_features[\"periodo\"] <= fecha_fin_train)].copy()\n",
    "    \n",
    "    if len(df_prod) < window_size + 2:\n",
    "        continue\n",
    "        \n",
    "    scaler = StandardScaler() if scaler_name == \"standard\" else RobustScaler()\n",
    "    scaled_features = scaler.fit_transform(df_prod[feature_cols])\n",
    "    scalers[producto] = scaler\n",
    "    \n",
    "    for i in range(window_size, len(df_prod) - 2):\n",
    "        periodo_target = df_prod.iloc[i + 2][\"periodo\"]\n",
    "        if periodo_target <= fecha_fin_train:\n",
    "            X_train.append(scaled_features[i - window_size:i])\n",
    "            y_train.append(scaled_features[i + 2][0])\n",
    "            periodos_train.append(periodo_target)\n",
    "\n",
    "if len(X_train) == 0:\n",
    "    raise ValueError(\"No hay suficientes datos para entrenamiento. Revisa los filtros.\")\n",
    "\n",
    "X_train = np.array(X_train)\n",
    "y_train = np.array(y_train).reshape(-1, 1)\n",
    "\n",
    "# Preparar datos para predicción\n",
    "print(\"Preparando datos para predicción...\")\n",
    "X_predict = []\n",
    "productos_predict = []\n",
    "\n",
    "for producto in productos_validos:\n",
    "    df_prod = df_features[df_features[\"product_id\"] == producto].copy()\n",
    "    \n",
    "    # Encontrar índice de octubre 2019\n",
    "    idx_octubre = df_prod[df_prod[\"periodo\"] == fecha_fin_train].index\n",
    "    if len(idx_octubre) == 0:\n",
    "        continue\n",
    "    \n",
    "    idx_octubre = idx_octubre[0]\n",
    "    \n",
    "    # Verificar que tenga suficiente historia antes de octubre\n",
    "    if idx_octubre < window_size - 1:\n",
    "        continue\n",
    "    \n",
    "    # Obtener ventana temporal (agosto, septiembre, octubre 2019)\n",
    "    ventana = df_prod.iloc[idx_octubre - window_size + 1:idx_octubre + 1]\n",
    "    if len(ventana) != window_size:\n",
    "        continue\n",
    "    \n",
    "    # Escalar datos\n",
    "    scaler = scalers.get(producto)\n",
    "    if scaler is None:\n",
    "        continue\n",
    "    \n",
    "    try:\n",
    "        ultimos = ventana[feature_cols]\n",
    "        ultimos_scaled = scaler.transform(ultimos)\n",
    "        X_predict.append(ultimos_scaled)\n",
    "        productos_predict.append(producto)\n",
    "    except Exception as e:\n",
    "        print(f\"Error procesando producto {producto}: {str(e)}\")\n",
    "        continue\n",
    "\n",
    "if len(X_predict) == 0:\n",
    "    raise ValueError(\"No hay productos válidos para predicción.\")\n",
    "    \n",
    "X_predict = np.array(X_predict)\n",
    "\n",
    "# Crear modelo\n",
    "def crear_modelo(semilla, window_size, n_features):\n",
    "    tf.keras.utils.set_random_seed(semilla)\n",
    "    \n",
    "    model = Sequential([\n",
    "        LSTM(200, activation='tanh', return_sequences=True, \n",
    "             input_shape=(window_size, n_features),\n",
    "             kernel_regularizer=l2(config[\"l2_lambda\"]) if config[\"l2_lambda\"] > 0 else None),\n",
    "        Dropout(0.2, seed=semilla),\n",
    "        LSTM(32, activation='tanh'),\n",
    "        Dense(16, activation='relu'),\n",
    "        Dense(1)\n",
    "    ])\n",
    "    \n",
    "    if config[\"optimizer\"].lower() == 'adam':\n",
    "        optimizer = Adam(learning_rate=0.001)\n",
    "    elif config[\"optimizer\"].lower() == 'rmsprop':\n",
    "        optimizer = RMSprop(learning_rate=0.001)\n",
    "    else:\n",
    "        optimizer = config[\"optimizer\"]\n",
    "    \n",
    "    model.compile(optimizer=optimizer, loss='mse', metrics=['mae'])\n",
    "    return model\n",
    "\n",
    "# Entrenamiento\n",
    "print(\"Entrenando modelos...\")\n",
    "semillas = [42, 101, 202, 303, 404]\n",
    "modelos = []\n",
    "\n",
    "for semilla in semillas:\n",
    "    print(f\"\\nEntrenando modelo con semilla {semilla}\")\n",
    "    model = crear_modelo(semilla, X_train.shape[1], X_train.shape[2])\n",
    "    \n",
    "    history = model.fit(\n",
    "        X_train, y_train,\n",
    "        epochs=config[\"epochs\"],\n",
    "        batch_size=config[\"batch_size\"],\n",
    "        validation_split=0.2,\n",
    "        callbacks=[\n",
    "            EarlyStopping(patience=config[\"early_stopping_patience\"], restore_best_weights=True),\n",
    "            ReduceLROnPlateau(factor=0.1, patience=15)\n",
    "        ],\n",
    "        verbose=1\n",
    "    )\n",
    "    modelos.append(model)\n",
    "\n",
    "# Predicción\n",
    "print(\"\\nRealizando predicciones...\")\n",
    "predicciones = []\n",
    "\n",
    "for i, producto in enumerate(productos_predict):\n",
    "    scaler = scalers[producto]\n",
    "    preds_producto = []\n",
    "    \n",
    "    for modelo in modelos:\n",
    "        y_pred_scaled = modelo.predict(X_predict[i:i+1], verbose=0)\n",
    "        tn_mean = scaler.center_[0]\n",
    "        tn_std = scaler.scale_[0]\n",
    "        y_pred = y_pred_scaled[0][0] * tn_std + tn_mean\n",
    "        preds_producto.append(max(0, y_pred))  # Asegurar valor positivo\n",
    "    \n",
    "    # Promedio de las predicciones de todos los modelos\n",
    "    prediccion_final = np.mean(preds_producto)\n",
    "    \n",
    "    predicciones.append({\n",
    "        \"product_id\": producto,\n",
    "        \"periodo_real\": fecha_prediccion,\n",
    "        \"prediccion_t+2\": prediccion_final\n",
    "    })\n",
    "\n",
    "df_predicciones = pd.DataFrame(predicciones)\n",
    "\n",
    "# Obtener valores reales para comparación\n",
    "df_real = df_features[df_features[\"periodo\"] == fecha_prediccion][[\"product_id\", \"tn\"]]\n",
    "df_resultados = df_predicciones.merge(df_real, on=\"product_id\", how=\"left\")\n",
    "\n",
    "# Calcular métricas\n",
    "if not df_resultados.empty:\n",
    "    df_resultados[\"error\"] = abs(df_resultados[\"tn\"] - df_resultados[\"prediccion_t+2\"])\n",
    "    mae = df_resultados[\"error\"].mean()\n",
    "    mape = (df_resultados[\"error\"] / df_resultados[\"tn\"]).mean() * 100\n",
    "    \n",
    "    print(\"\\nResultados:\")\n",
    "    print(f\"MAE: {mae:.2f}\")\n",
    "    print(f\"MAPE: {mape:.2f}%\")\n",
    "    print(\"\\nEjemplo de predicciones:\")\n",
    "    print(df_resultados.head())\n",
    "else:\n",
    "    print(\"\\nNo hay datos reales para comparación en el período predicho.\")\n",
    "\n",
    "print(\"\\nProceso completado exitosamente!\")"
   ]
  },
  {
   "cell_type": "code",
   "execution_count": 9,
   "id": "b9dd7028",
   "metadata": {},
   "outputs": [
    {
     "data": {
      "application/vnd.microsoft.datawrangler.viewer.v0+json": {
       "columns": [
        {
         "name": "index",
         "rawType": "int64",
         "type": "integer"
        },
        {
         "name": "product_id",
         "rawType": "int64",
         "type": "integer"
        },
        {
         "name": "periodo_real",
         "rawType": "datetime64[ns]",
         "type": "datetime"
        },
        {
         "name": "prediccion_t+2",
         "rawType": "float64",
         "type": "float"
        },
        {
         "name": "tn",
         "rawType": "float64",
         "type": "float"
        },
        {
         "name": "error",
         "rawType": "float64",
         "type": "float"
        }
       ],
       "ref": "a44540ba-06c2-4254-a471-bd74bc88fedc",
       "rows": [
        [
         "0",
         "20001",
         "2019-12-01 00:00:00",
         "1376.6731162323638",
         "1504.68856",
         "128.01544376763627"
        ]
       ],
       "shape": {
        "columns": 5,
        "rows": 1
       }
      },
      "text/html": [
       "<div>\n",
       "<style scoped>\n",
       "    .dataframe tbody tr th:only-of-type {\n",
       "        vertical-align: middle;\n",
       "    }\n",
       "\n",
       "    .dataframe tbody tr th {\n",
       "        vertical-align: top;\n",
       "    }\n",
       "\n",
       "    .dataframe thead th {\n",
       "        text-align: right;\n",
       "    }\n",
       "</style>\n",
       "<table border=\"1\" class=\"dataframe\">\n",
       "  <thead>\n",
       "    <tr style=\"text-align: right;\">\n",
       "      <th></th>\n",
       "      <th>product_id</th>\n",
       "      <th>periodo_real</th>\n",
       "      <th>prediccion_t+2</th>\n",
       "      <th>tn</th>\n",
       "      <th>error</th>\n",
       "    </tr>\n",
       "  </thead>\n",
       "  <tbody>\n",
       "    <tr>\n",
       "      <th>0</th>\n",
       "      <td>20001</td>\n",
       "      <td>2019-12-01</td>\n",
       "      <td>1376.673116</td>\n",
       "      <td>1504.68856</td>\n",
       "      <td>128.015444</td>\n",
       "    </tr>\n",
       "  </tbody>\n",
       "</table>\n",
       "</div>"
      ],
      "text/plain": [
       "   product_id periodo_real  prediccion_t+2          tn       error\n",
       "0       20001   2019-12-01     1376.673116  1504.68856  128.015444"
      ]
     },
     "execution_count": 9,
     "metadata": {},
     "output_type": "execute_result"
    }
   ],
   "source": [
    "df_resultados"
   ]
  }
 ],
 "metadata": {
  "kernelspec": {
   "display_name": "py311lab3",
   "language": "python",
   "name": "python3"
  },
  "language_info": {
   "codemirror_mode": {
    "name": "ipython",
    "version": 3
   },
   "file_extension": ".py",
   "mimetype": "text/x-python",
   "name": "python",
   "nbconvert_exporter": "python",
   "pygments_lexer": "ipython3",
   "version": "3.11.13"
  }
 },
 "nbformat": 4,
 "nbformat_minor": 5
}
