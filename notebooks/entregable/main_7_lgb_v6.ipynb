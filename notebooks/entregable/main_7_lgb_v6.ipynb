{
 "cells": [
  {
   "cell_type": "code",
   "execution_count": 18,
   "id": "dbae8eac",
   "metadata": {},
   "outputs": [],
   "source": [
    "import pandas as pd\n",
    "import numpy as np\n",
    "import importlib\n",
    "import gc\n",
    "import sys\n",
    "import warnings\n",
    "sys.path.append('./scripts')  \n",
    "import preprocesamiento\n",
    "import feature_engineering\n",
    "import model_lgb\n",
    "importlib.reload(preprocesamiento)\n",
    "importlib.reload(model_lgb)\n",
    "importlib.reload(feature_engineering)\n",
    "warnings.filterwarnings(\"ignore\")"
   ]
  },
  {
   "cell_type": "markdown",
   "id": "14763c97",
   "metadata": {},
   "source": [
    "# Experimento 7: \n",
    "- LGBM\n",
    "- Estandarizacion del target\n",
    "- Usando funcion entrenamiento: semillerio_en_prediccion\n",
    "- Mismas variables\n",
    "- Pesos: (log o max?)\n",
    "- sqlite:///optuna_studies_v16.db\n",
    "- Kaggle =  \n"
   ]
  },
  {
   "cell_type": "markdown",
   "id": "3e128128",
   "metadata": {},
   "source": [
    "##### Levantamos el dataset con target ya calculado"
   ]
  },
  {
   "cell_type": "code",
   "execution_count": 2,
   "id": "23d157af",
   "metadata": {},
   "outputs": [
    {
     "name": "stdout",
     "output_type": "stream",
     "text": [
      "Dataset sin transformar tenia esto: (31362, 19)\n"
     ]
    },
    {
     "data": {
      "text/plain": [
       "(31362, 35)"
      ]
     },
     "execution_count": 2,
     "metadata": {},
     "output_type": "execute_result"
    }
   ],
   "source": [
    "df = pd.read_csv(\"./datasets/periodo_x_producto_con_target_transformado_201912.csv\", sep=',', encoding='utf-8')\n",
    "print(\"Dataset sin transformar tenia esto: (31362, 19)\")\n",
    "df.shape"
   ]
  },
  {
   "cell_type": "code",
   "execution_count": 3,
   "id": "dd58191b",
   "metadata": {},
   "outputs": [
    {
     "data": {
      "text/plain": [
       "['product_id',\n",
       " 'periodo',\n",
       " 'nacimiento_producto',\n",
       " 'muerte_producto',\n",
       " 'mes_n',\n",
       " 'total_meses',\n",
       " 'producto_nuevo',\n",
       " 'ciclo_de_vida_inicial',\n",
       " 'cat1',\n",
       " 'cat2',\n",
       " 'cat3',\n",
       " 'brand',\n",
       " 'sku_size',\n",
       " 'stock_final',\n",
       " 'tn',\n",
       " 'plan_precios_cuidados',\n",
       " 'cust_request_qty',\n",
       " 'cust_request_tn',\n",
       " 'target',\n",
       " 'tn_mean',\n",
       " 'tn_std',\n",
       " 'tn_zscore',\n",
       " 'stock_final_mean',\n",
       " 'stock_final_std',\n",
       " 'stock_final_zscore',\n",
       " 'cust_request_qty_mean',\n",
       " 'cust_request_qty_std',\n",
       " 'cust_request_qty_zscore',\n",
       " 'cust_request_tn_mean',\n",
       " 'cust_request_tn_std',\n",
       " 'cust_request_tn_zscore',\n",
       " 'tn_log',\n",
       " 'stock_final_log',\n",
       " 'cust_request_qty_log',\n",
       " 'cust_request_tn_log']"
      ]
     },
     "execution_count": 3,
     "metadata": {},
     "output_type": "execute_result"
    }
   ],
   "source": [
    "columnas_baseline = df.columns.tolist()\n",
    "columnas_baseline"
   ]
  },
  {
   "cell_type": "markdown",
   "id": "b6556d30",
   "metadata": {},
   "source": [
    "##### Preprocesamiento a la minima expresión :)"
   ]
  },
  {
   "cell_type": "code",
   "execution_count": 4,
   "id": "9665b526",
   "metadata": {},
   "outputs": [
    {
     "data": {
      "text/plain": [
       "(31362, 178)"
      ]
     },
     "execution_count": 4,
     "metadata": {},
     "output_type": "execute_result"
    }
   ],
   "source": [
    "# ##### aplicamos OHE\n",
    "df = preprocesamiento.aplicarOHE(df)\n",
    "df.shape"
   ]
  },
  {
   "cell_type": "markdown",
   "id": "902b1e13",
   "metadata": {},
   "source": [
    "### Feature Engineering"
   ]
  },
  {
   "cell_type": "markdown",
   "id": "2bd77df9",
   "metadata": {},
   "source": [
    "##### Neural Prophet"
   ]
  },
  {
   "cell_type": "code",
   "execution_count": 5,
   "id": "34d306ff",
   "metadata": {},
   "outputs": [
    {
     "data": {
      "text/plain": [
       "(31362, 181)"
      ]
     },
     "execution_count": 5,
     "metadata": {},
     "output_type": "execute_result"
    }
   ],
   "source": [
    "neural_prophet_fe = pd.read_csv(\"./datasets/features_neuralprophet_completo.csv\", sep=',', encoding='utf-8')\n",
    "neural_prophet_fe['ds'] = pd.to_datetime(neural_prophet_fe['ds'], errors='coerce')\n",
    "# Versión alternativa más robusta:\n",
    "neural_prophet_fe['periodo'] = neural_prophet_fe['ds'].apply(\n",
    "    lambda x: x.year * 100 + x.month if pd.notnull(x) else None\n",
    ")\n",
    "neural_prophet_fe = neural_prophet_fe[['periodo', 'product_id', 'trend', \"season_yearly\", \"season_monthly\"]]\n",
    "df = df.merge(neural_prophet_fe, on=['periodo', 'product_id'], how='left')\n",
    "df.shape"
   ]
  },
  {
   "cell_type": "markdown",
   "id": "ff026986",
   "metadata": {},
   "source": [
    "##### Prophet"
   ]
  },
  {
   "cell_type": "code",
   "execution_count": 6,
   "id": "4318910f",
   "metadata": {},
   "outputs": [
    {
     "data": {
      "text/plain": [
       "(31362, 187)"
      ]
     },
     "execution_count": 6,
     "metadata": {},
     "output_type": "execute_result"
    }
   ],
   "source": [
    "prophet_fe = pd.read_csv(\"./datasets/prophet_features_tn_zscore.csv\", sep=',', encoding='utf-8')\n",
    "prophet_fe['ds'] = pd.to_datetime(prophet_fe['ds'], errors='coerce')\n",
    "prophet_fe['periodo'] = prophet_fe['ds'].apply(\n",
    "    lambda x: x.year * 100 + x.month if pd.notnull(x) else None\n",
    ")\n",
    "prophet_fe = prophet_fe[['periodo', 'product_id', 'trend_add', \"yearly_add\", \"additive_terms\", 'trend_mult', 'yearly_mult', 'multiplicative_terms']]\n",
    "df = df.merge(prophet_fe, on=['periodo', 'product_id'], how='left')\n",
    "df.shape"
   ]
  },
  {
   "cell_type": "markdown",
   "id": "2eb4d3aa",
   "metadata": {},
   "source": [
    "##### FE Moviles"
   ]
  },
  {
   "cell_type": "code",
   "execution_count": 7,
   "id": "7dc30b4c",
   "metadata": {},
   "outputs": [
    {
     "data": {
      "text/plain": [
       "(31362, 749)"
      ]
     },
     "execution_count": 7,
     "metadata": {},
     "output_type": "execute_result"
    }
   ],
   "source": [
    "df = feature_engineering.get_lags(df, \"tn\", 201912)\n",
    "df = feature_engineering.get_delta_lags(df, \"tn\", 24)\n",
    "df = feature_engineering.get_rolling_means(df, \"tn\", 201912)\n",
    "df = feature_engineering.get_rolling_stds(df, \"tn\", 201912)\n",
    "df = feature_engineering.get_rolling_mins(df, \"tn\", 201912)\n",
    "df = feature_engineering.get_rolling_maxs(df, \"tn\", 201912)\n",
    "df = feature_engineering.get_rolling_medians(df, \"tn\", 201912)\n",
    "df = feature_engineering.get_rolling_skewness(df, \"tn\", 201912)\n",
    "df = feature_engineering.get_autocorrelaciones(df, \"tn\", 201912)\n",
    "df.shape"
   ]
  },
  {
   "cell_type": "code",
   "execution_count": 8,
   "id": "e0500070",
   "metadata": {},
   "outputs": [
    {
     "data": {
      "text/plain": [
       "(31362, 1204)"
      ]
     },
     "execution_count": 8,
     "metadata": {},
     "output_type": "execute_result"
    }
   ],
   "source": [
    "df = feature_engineering.get_lags(df, \"cust_request_qty\", 201912)\n",
    "df = feature_engineering.get_delta_lags(df, \"cust_request_qty\", 24)\n",
    "df = feature_engineering.get_rolling_means(df, \"cust_request_qty\", 201912)\n",
    "df = feature_engineering.get_rolling_stds(df, \"cust_request_qty\", 201912)\n",
    "df = feature_engineering.get_rolling_mins(df, \"cust_request_qty\", 201912)\n",
    "df = feature_engineering.get_rolling_maxs(df, \"cust_request_qty\", 201912)\n",
    "df.shape"
   ]
  },
  {
   "cell_type": "code",
   "execution_count": 9,
   "id": "195bd5b9",
   "metadata": {},
   "outputs": [
    {
     "data": {
      "text/plain": [
       "(31362, 1659)"
      ]
     },
     "execution_count": 9,
     "metadata": {},
     "output_type": "execute_result"
    }
   ],
   "source": [
    "df = feature_engineering.get_lags(df, \"stock_final\", 201912)\n",
    "df = feature_engineering.get_delta_lags(df, \"stock_final\", 24)\n",
    "df = feature_engineering.get_rolling_means(df, \"stock_final\", 201912)\n",
    "df = feature_engineering.get_rolling_stds(df, \"stock_final\", 201912)\n",
    "df = feature_engineering.get_rolling_mins(df, \"stock_final\", 201912)\n",
    "df = feature_engineering.get_rolling_maxs(df, \"stock_final\", 201912)\n",
    "df.shape"
   ]
  },
  {
   "cell_type": "markdown",
   "id": "2fbc712c",
   "metadata": {},
   "source": [
    "Features Diana"
   ]
  },
  {
   "cell_type": "code",
   "execution_count": 10,
   "id": "c6acf0b7",
   "metadata": {},
   "outputs": [],
   "source": [
    "df = feature_engineering.calcular_diferencia_con_medias_moviles(df)\n",
    "df = feature_engineering.calcular_ratios_con_medias_moviles(df)\n",
    "df.shape"
   ]
  },
  {
   "cell_type": "markdown",
   "id": "e2436c9b",
   "metadata": {},
   "source": [
    "##### FE Moviles sobre otras variables"
   ]
  },
  {
   "cell_type": "code",
   "execution_count": 56,
   "id": "0dca7531",
   "metadata": {},
   "outputs": [],
   "source": [
    "# #  stock final\n",
    "# df = feature_engineering.get_lagsEspecificos(df, col='stock_final_zscore')\n",
    "# df = feature_engineering.get_delta_lags_especificos(df, col='stock_final_zscore')\n",
    "# df = feature_engineering.get_rolling_means_especificos(df, col='stock_final_zscore')\n",
    "# df = feature_engineering.get_rolling_stds_especificos(df, col='stock_final_zscore')\n",
    "# df = feature_engineering.get_rolling_medians_especificos(df, col='stock_final_zscore')\n",
    "# df = feature_engineering.get_rolling_mins_especificos(df, col='stock_final_zscore')\n",
    "# df = feature_engineering.get_rolling_maxs_especificos(df, col='stock_final_zscore')\n",
    "# df = feature_engineering.get_rolling_skewness_especificos(df, col='stock_final_zscore')\n",
    "\n",
    "#  cust_request_qty\n",
    "# df = feature_engineering.get_lagsEspecificos(df, col='cust_request_qty')\n",
    "# df = feature_engineering.get_delta_lags_especificos(df, col='cust_request_qty')\n",
    "# df = feature_engineering.get_rolling_means_especificos(df, col='cust_request_qty')\n",
    "# df = feature_engineering.get_rolling_stds_especificos(df, col='cust_request_qty')\n",
    "# df = feature_engineering.get_rolling_mins_especificos(df, col='cust_request_qty')\n",
    "# df = feature_engineering.get_rolling_maxs_especificos(df, col='cust_request_qty')\n",
    "# df = feature_engineering.get_rolling_medians_especificos(df, col='cust_request_qty')\n",
    "# df = feature_engineering.get_rolling_skewness_especificos(df, col='cust_request_qty')"
   ]
  },
  {
   "cell_type": "markdown",
   "id": "6fb9716d",
   "metadata": {},
   "source": [
    "##### FE Calendario"
   ]
  },
  {
   "cell_type": "code",
   "execution_count": 11,
   "id": "3e810260",
   "metadata": {},
   "outputs": [
    {
     "data": {
      "text/plain": [
       "(31362, 1720)"
      ]
     },
     "execution_count": 11,
     "metadata": {},
     "output_type": "execute_result"
    }
   ],
   "source": [
    "df = feature_engineering.generar_ids(df)\n",
    "df = feature_engineering.get_componentesTemporales(df)\n",
    "df = feature_engineering.get_anomaliasPoliticas(df)\n",
    "# df = feature_engineering.descomposicion_serie_temporal(df, col='tn')\n",
    "df.shape"
   ]
  },
  {
   "cell_type": "markdown",
   "id": "b34d19db",
   "metadata": {},
   "source": [
    "##### FE sobre FE"
   ]
  },
  {
   "cell_type": "code",
   "execution_count": 12,
   "id": "14345585",
   "metadata": {},
   "outputs": [
    {
     "data": {
      "text/plain": [
       "(31362, 1749)"
      ]
     },
     "execution_count": 12,
     "metadata": {},
     "output_type": "execute_result"
    }
   ],
   "source": [
    "df = feature_engineering.chatGPT_features_serie(df, \"tn\")\n",
    "df = feature_engineering.mes_con_feriado(df)\n",
    "df.shape"
   ]
  },
  {
   "cell_type": "markdown",
   "id": "62f1cbad",
   "metadata": {},
   "source": [
    "##### Variables Exogenas"
   ]
  },
  {
   "cell_type": "code",
   "execution_count": 13,
   "id": "d10e572a",
   "metadata": {},
   "outputs": [
    {
     "data": {
      "text/plain": [
       "(31362, 1752)"
      ]
     },
     "execution_count": 13,
     "metadata": {},
     "output_type": "execute_result"
    }
   ],
   "source": [
    "df = feature_engineering.get_dolar(df)\n",
    "df = feature_engineering.get_IPC(df)\n",
    "df['ipc'] = df['ipc'].str.replace(',', '.').astype(float)\n",
    "df['dolar'] = df['dolar'].str.replace(',', '.').astype(float)\n",
    "# df.drop(columns=['ds'], inplace=True)\n",
    "df.fillna(0, inplace=True) ##### EXPERIMENTAR\n",
    "df = feature_engineering.correlacion_exogenas(df)\n",
    "df = feature_engineering.get_mes_receso_escolar(df)\n",
    "df.shape"
   ]
  },
  {
   "cell_type": "markdown",
   "id": "574cbf29",
   "metadata": {},
   "source": [
    "##### Nuevas FE"
   ]
  },
  {
   "cell_type": "code",
   "execution_count": 15,
   "id": "ac0b5e13",
   "metadata": {},
   "outputs": [
    {
     "data": {
      "text/plain": [
       "(31362, 1789)"
      ]
     },
     "execution_count": 15,
     "metadata": {},
     "output_type": "execute_result"
    }
   ],
   "source": [
    "df = feature_engineering.create_ratio_features(df)\n",
    "df = feature_engineering.enhance_lifecycle_features(df)\n",
    "# df = feature_engineering.create_category_features(df)\n",
    "df = feature_engineering.create_regime_features(df)\n",
    "df = feature_engineering.create_nonlinear_trends(df)\n",
    "df = feature_engineering.create_temporal_interactions(df)\n",
    "df = feature_engineering.create_asymmetric_window_features(df)\n",
    "df = feature_engineering.recomendaciones_deepseek(df)\n",
    "df = feature_engineering.get_nuevas_features(df)\n",
    "df.shape"
   ]
  },
  {
   "cell_type": "markdown",
   "id": "01403c73",
   "metadata": {},
   "source": [
    "##### Elimino aquellas que no sirven"
   ]
  },
  {
   "cell_type": "code",
   "execution_count": null,
   "id": "394f26c7",
   "metadata": {},
   "outputs": [
    {
     "data": {
      "application/vnd.microsoft.datawrangler.viewer.v0+json": {
       "columns": [
        {
         "name": "index",
         "rawType": "int64",
         "type": "integer"
        },
        {
         "name": "feature",
         "rawType": "object",
         "type": "string"
        },
        {
         "name": "importance",
         "rawType": "int64",
         "type": "integer"
        }
       ],
       "ref": "87fa4b9b-5553-4771-9749-4241efc53e0e",
       "rows": [
        [
         "67",
         "tn_vs_prev_year",
         "100"
        ],
        [
         "68",
         "tn_delta_lag5_lag8",
         "99"
        ],
        [
         "69",
         "tn_rolling_min_4",
         "96"
        ],
        [
         "70",
         "tn_lag_5",
         "95"
        ],
        [
         "71",
         "tn_rolling_std_6",
         "95"
        ],
        [
         "72",
         "tn_delta_lag4_lag9",
         "94"
        ],
        [
         "73",
         "tn_rolling_std_7",
         "92"
        ],
        [
         "74",
         "season_yearly",
         "92"
        ],
        [
         "75",
         "tn_delta_lag3_lag8",
         "91"
        ],
        [
         "76",
         "tn_delta_lag9_lag10",
         "90"
        ],
        [
         "77",
         "tn_lag_7",
         "89"
        ],
        [
         "78",
         "tn_delta_lag4_lag8",
         "88"
        ],
        [
         "79",
         "tn_lag_8",
         "87"
        ],
        [
         "80",
         "tn_rolling_max_4",
         "87"
        ],
        [
         "81",
         "tn_delta_lag7_lag10",
         "86"
        ],
        [
         "82",
         "tn_delta_lag2_lag8",
         "84"
        ],
        [
         "83",
         "tn_delta_lag5_lag7",
         "84"
        ],
        [
         "84",
         "tn_delta_lag1_lag9",
         "83"
        ],
        [
         "85",
         "tn_delta_lag4_lag10",
         "83"
        ],
        [
         "86",
         "tn_rolling_std_8",
         "83"
        ],
        [
         "88",
         "tn_delta_lag8_lag11",
         "83"
        ],
        [
         "89",
         "tn_delta_lag5_lag10",
         "82"
        ],
        [
         "90",
         "tn_seasonal_diff_12",
         "82"
        ],
        [
         "91",
         "tn_delta_lag2_lag9",
         "82"
        ],
        [
         "92",
         "tn_delta_lag3_lag11",
         "81"
        ],
        [
         "93",
         "tn_rolling_max_3",
         "81"
        ],
        [
         "94",
         "tn_delta_lag11_lag12",
         "81"
        ],
        [
         "95",
         "tn_delta_lag7_lag9",
         "78"
        ],
        [
         "96",
         "tn_delta_lag1_lag8",
         "78"
        ],
        [
         "97",
         "tn_delta_lag2_lag10",
         "78"
        ],
        [
         "98",
         "tn_delta_lag5_lag9",
         "77"
        ],
        [
         "99",
         "tn_delta_lag10_lag12",
         "77"
        ],
        [
         "100",
         "tn_rolling_mean_4",
         "75"
        ],
        [
         "101",
         "tn_trend_linear",
         "72"
        ],
        [
         "102",
         "tn_delta_lag6_lag9",
         "72"
        ],
        [
         "103",
         "tn_last3_vs_ly3",
         "71"
        ],
        [
         "105",
         "tn_rolling_min_6",
         "71"
        ],
        [
         "106",
         "tn_delta_lag2_lag11",
         "71"
        ],
        [
         "107",
         "tn_rolling_min_5",
         "71"
        ],
        [
         "108",
         "tn_lag_9",
         "70"
        ],
        [
         "109",
         "tn_delta_lag3_lag9",
         "70"
        ],
        [
         "110",
         "tn_rolling_mean_3",
         "69"
        ],
        [
         "112",
         "tn_lag_10",
         "68"
        ],
        [
         "113",
         "tn_delta_lag9_lag12",
         "67"
        ],
        [
         "114",
         "tn_delta_lag8_lag10",
         "66"
        ],
        [
         "115",
         "additive_terms",
         "65"
        ],
        [
         "116",
         "tn_delta_lag5_lag11",
         "65"
        ],
        [
         "117",
         "cat2_ROPA LAVADO",
         "64"
        ],
        [
         "118",
         "tn_delta_lag9_lag11",
         "62"
        ],
        [
         "119",
         "tn_delta_lag10_lag11",
         "61"
        ]
       ],
       "shape": {
        "columns": 2,
        "rows": 608
       }
      },
      "text/html": [
       "<div>\n",
       "<style scoped>\n",
       "    .dataframe tbody tr th:only-of-type {\n",
       "        vertical-align: middle;\n",
       "    }\n",
       "\n",
       "    .dataframe tbody tr th {\n",
       "        vertical-align: top;\n",
       "    }\n",
       "\n",
       "    .dataframe thead th {\n",
       "        text-align: right;\n",
       "    }\n",
       "</style>\n",
       "<table border=\"1\" class=\"dataframe\">\n",
       "  <thead>\n",
       "    <tr style=\"text-align: right;\">\n",
       "      <th></th>\n",
       "      <th>feature</th>\n",
       "      <th>importance</th>\n",
       "    </tr>\n",
       "  </thead>\n",
       "  <tbody>\n",
       "    <tr>\n",
       "      <th>67</th>\n",
       "      <td>tn_vs_prev_year</td>\n",
       "      <td>100</td>\n",
       "    </tr>\n",
       "    <tr>\n",
       "      <th>68</th>\n",
       "      <td>tn_delta_lag5_lag8</td>\n",
       "      <td>99</td>\n",
       "    </tr>\n",
       "    <tr>\n",
       "      <th>69</th>\n",
       "      <td>tn_rolling_min_4</td>\n",
       "      <td>96</td>\n",
       "    </tr>\n",
       "    <tr>\n",
       "      <th>70</th>\n",
       "      <td>tn_lag_5</td>\n",
       "      <td>95</td>\n",
       "    </tr>\n",
       "    <tr>\n",
       "      <th>71</th>\n",
       "      <td>tn_rolling_std_6</td>\n",
       "      <td>95</td>\n",
       "    </tr>\n",
       "    <tr>\n",
       "      <th>...</th>\n",
       "      <td>...</td>\n",
       "      <td>...</td>\n",
       "    </tr>\n",
       "    <tr>\n",
       "      <th>677</th>\n",
       "      <td>dia_del_year</td>\n",
       "      <td>0</td>\n",
       "    </tr>\n",
       "    <tr>\n",
       "      <th>678</th>\n",
       "      <td>cat2_TE</td>\n",
       "      <td>0</td>\n",
       "    </tr>\n",
       "    <tr>\n",
       "      <th>680</th>\n",
       "      <td>cat2_PIEL1</td>\n",
       "      <td>0</td>\n",
       "    </tr>\n",
       "    <tr>\n",
       "      <th>681</th>\n",
       "      <td>cat2_OTROS</td>\n",
       "      <td>0</td>\n",
       "    </tr>\n",
       "    <tr>\n",
       "      <th>682</th>\n",
       "      <td>tn_is_outlier_3sigma</td>\n",
       "      <td>0</td>\n",
       "    </tr>\n",
       "  </tbody>\n",
       "</table>\n",
       "<p>608 rows × 2 columns</p>\n",
       "</div>"
      ],
      "text/plain": [
       "                  feature  importance\n",
       "67        tn_vs_prev_year         100\n",
       "68     tn_delta_lag5_lag8          99\n",
       "69       tn_rolling_min_4          96\n",
       "70               tn_lag_5          95\n",
       "71       tn_rolling_std_6          95\n",
       "..                    ...         ...\n",
       "677          dia_del_year           0\n",
       "678               cat2_TE           0\n",
       "680            cat2_PIEL1           0\n",
       "681            cat2_OTROS           0\n",
       "682  tn_is_outlier_3sigma           0\n",
       "\n",
       "[608 rows x 2 columns]"
      ]
     },
     "execution_count": 13,
     "metadata": {},
     "output_type": "execute_result"
    }
   ],
   "source": [
    "# importantes = pd.read_csv(\"./feature_importance/exp04_3.csv\", sep=',', encoding='utf-8')\n",
    "# no_importantes = importantes[importantes['importance'] <= 100]\n",
    "# no_importantes = no_importantes[~no_importantes['feature'].isin(columnas_baseline)]\n",
    "# no_importantes"
   ]
  },
  {
   "cell_type": "code",
   "execution_count": null,
   "id": "64ffa0fc",
   "metadata": {},
   "outputs": [
    {
     "name": "stdout",
     "output_type": "stream",
     "text": [
      "Antes de eliminar: 1144 columnas\n",
      "Después de eliminar: 684 columnas\n"
     ]
    }
   ],
   "source": [
    "# cols_a_eliminar = no_importantes.feature.unique()\n",
    "# print(f\"Antes de eliminar: {df.shape[1]} columnas\")\n",
    "# df = df.drop(columns=cols_a_eliminar, errors='ignore')\n",
    "# print(f\"Después de eliminar: {df.shape[1]} columnas\")"
   ]
  },
  {
   "cell_type": "markdown",
   "id": "db213673",
   "metadata": {},
   "source": [
    "Eliminar object/categorical columnas"
   ]
  },
  {
   "cell_type": "code",
   "execution_count": 16,
   "id": "a71a529b",
   "metadata": {},
   "outputs": [],
   "source": [
    "df = df.select_dtypes(exclude=['datetime', 'datetime64', 'object'])"
   ]
  },
  {
   "cell_type": "markdown",
   "id": "4ff4ee13",
   "metadata": {},
   "source": [
    "Train Test Split"
   ]
  },
  {
   "cell_type": "code",
   "execution_count": 17,
   "id": "32557458",
   "metadata": {},
   "outputs": [],
   "source": [
    "train = df[df['periodo'] <= 201912]\n",
    "test = df[df['periodo'] == 201912]"
   ]
  },
  {
   "cell_type": "markdown",
   "id": "cf3fabe4",
   "metadata": {},
   "source": [
    "Entrenamiento"
   ]
  },
  {
   "cell_type": "code",
   "execution_count": 19,
   "id": "73042e3d",
   "metadata": {},
   "outputs": [
    {
     "name": "stdout",
     "output_type": "stream",
     "text": [
      "\n",
      "Para visualizar los resultados en tiempo real:\n",
      "1. Abre otra terminal y ejecuta:\n",
      "   optuna-dashboard sqlite:///optuna_studies_v19.db\n",
      "2. Abre en tu navegador: http://127.0.0.1:8080/\n"
     ]
    },
    {
     "name": "stderr",
     "output_type": "stream",
     "text": [
      "[I 2025-07-05 18:25:05,506] A new study created in RDB with name: lightgbm_optimization_v19\n",
      "[I 2025-07-05 18:32:32,527] Trial 0 finished with value: 0.5334971393323207 and parameters: {'num_leaves': 47, 'learning_rate': 0.2536999076681772, 'feature_fraction': 0.892797576724562, 'bagging_fraction': 0.8795975452591109, 'bagging_freq': 2, 'lambda_l1': 2.5348407664333426e-07, 'lambda_l2': 3.3323645788192616e-08, 'min_child_samples': 45, 'max_depth': 7, 'max_bin': 383, 'min_data_in_leaf': 21, 'extra_trees': True, 'early_stopping_rounds': 18, 'path_smooth': 0.18182496720710062, 'min_gain_to_split': 0.09170225492671691}. Best is trial 0 with value: 0.5334971393323207.\n"
     ]
    },
    {
     "name": "stdout",
     "output_type": "stream",
     "text": [
      "Mejor trial hasta ahora: RMSE=0.533497, Parámetros={'num_leaves': 47, 'learning_rate': 0.2536999076681772, 'feature_fraction': 0.892797576724562, 'bagging_fraction': 0.8795975452591109, 'bagging_freq': 2, 'lambda_l1': 2.5348407664333426e-07, 'lambda_l2': 3.3323645788192616e-08, 'min_child_samples': 45, 'max_depth': 7, 'max_bin': 383, 'min_data_in_leaf': 21, 'extra_trees': True, 'early_stopping_rounds': 18, 'path_smooth': 0.18182496720710062, 'min_gain_to_split': 0.09170225492671691}\n"
     ]
    },
    {
     "name": "stderr",
     "output_type": "stream",
     "text": [
      "[I 2025-07-05 18:41:18,584] Trial 1 finished with value: 1.0468776170540237 and parameters: {'num_leaves': 41, 'learning_rate': 0.05958389350068958, 'feature_fraction': 0.7727780074568463, 'bagging_fraction': 0.7873687420594125, 'bagging_freq': 7, 'lambda_l1': 1.8007140198129195e-07, 'lambda_l2': 4.258943089524393e-06, 'min_child_samples': 25, 'max_depth': 6, 'max_bin': 414, 'min_data_in_leaf': 36, 'extra_trees': False, 'early_stopping_rounds': 11, 'path_smooth': 0.6075448519014384, 'min_gain_to_split': 0.08526206184364576}. Best is trial 0 with value: 0.5334971393323207.\n"
     ]
    },
    {
     "name": "stdout",
     "output_type": "stream",
     "text": [
      "Mejor trial hasta ahora: RMSE=0.533497, Parámetros={'num_leaves': 47, 'learning_rate': 0.2536999076681772, 'feature_fraction': 0.892797576724562, 'bagging_fraction': 0.8795975452591109, 'bagging_freq': 2, 'lambda_l1': 2.5348407664333426e-07, 'lambda_l2': 3.3323645788192616e-08, 'min_child_samples': 45, 'max_depth': 7, 'max_bin': 383, 'min_data_in_leaf': 21, 'extra_trees': True, 'early_stopping_rounds': 18, 'path_smooth': 0.18182496720710062, 'min_gain_to_split': 0.09170225492671691}\n"
     ]
    },
    {
     "name": "stderr",
     "output_type": "stream",
     "text": [
      "[I 2025-07-05 18:45:49,781] Trial 2 finished with value: 1.0006790847614688 and parameters: {'num_leaves': 20, 'learning_rate': 0.2521267904777921, 'feature_fraction': 0.9862528132298237, 'bagging_fraction': 0.9425192044349383, 'bagging_freq': 4, 'lambda_l1': 7.569183361880229e-08, 'lambda_l2': 0.014391207615728067, 'min_child_samples': 28, 'max_depth': 3, 'max_bin': 298, 'min_data_in_leaf': 22, 'extra_trees': True, 'early_stopping_rounds': 37, 'path_smooth': 0.31171107608941095, 'min_gain_to_split': 0.2600340105889054}. Best is trial 0 with value: 0.5334971393323207.\n"
     ]
    },
    {
     "name": "stdout",
     "output_type": "stream",
     "text": [
      "Mejor trial hasta ahora: RMSE=0.533497, Parámetros={'num_leaves': 47, 'learning_rate': 0.2536999076681772, 'feature_fraction': 0.892797576724562, 'bagging_fraction': 0.8795975452591109, 'bagging_freq': 2, 'lambda_l1': 2.5348407664333426e-07, 'lambda_l2': 3.3323645788192616e-08, 'min_child_samples': 45, 'max_depth': 7, 'max_bin': 383, 'min_data_in_leaf': 21, 'extra_trees': True, 'early_stopping_rounds': 18, 'path_smooth': 0.18182496720710062, 'min_gain_to_split': 0.09170225492671691}\n"
     ]
    },
    {
     "name": "stderr",
     "output_type": "stream",
     "text": [
      "[I 2025-07-05 18:51:49,280] Trial 3 finished with value: 1.1997732268291257 and parameters: {'num_leaves': 62, 'learning_rate': 0.01875220945578641, 'feature_fraction': 0.9878338511058234, 'bagging_fraction': 0.9325398470083344, 'bagging_freq': 10, 'lambda_l1': 1.1309571585271483, 'lambda_l2': 0.002404915432737351, 'min_child_samples': 47, 'max_depth': 3, 'max_bin': 178, 'min_data_in_leaf': 23, 'extra_trees': False, 'early_stopping_rounds': 21, 'path_smooth': 0.8287375091519293, 'min_gain_to_split': 0.17837666334679464}. Best is trial 0 with value: 0.5334971393323207.\n"
     ]
    },
    {
     "name": "stdout",
     "output_type": "stream",
     "text": [
      "Mejor trial hasta ahora: RMSE=0.533497, Parámetros={'num_leaves': 47, 'learning_rate': 0.2536999076681772, 'feature_fraction': 0.892797576724562, 'bagging_fraction': 0.8795975452591109, 'bagging_freq': 2, 'lambda_l1': 2.5348407664333426e-07, 'lambda_l2': 3.3323645788192616e-08, 'min_child_samples': 45, 'max_depth': 7, 'max_bin': 383, 'min_data_in_leaf': 21, 'extra_trees': True, 'early_stopping_rounds': 18, 'path_smooth': 0.18182496720710062, 'min_gain_to_split': 0.09170225492671691}\n"
     ]
    },
    {
     "name": "stderr",
     "output_type": "stream",
     "text": [
      "[I 2025-07-05 18:57:41,262] Trial 4 finished with value: 1.1666993398369843 and parameters: {'num_leaves': 39, 'learning_rate': 0.06333268775321843, 'feature_fraction': 0.6563696899899051, 'bagging_fraction': 0.9406590942262119, 'bagging_freq': 1, 'lambda_l1': 7.620481786158549, 'lambda_l2': 0.08916674715636537, 'min_child_samples': 18, 'max_depth': 3, 'max_bin': 427, 'min_data_in_leaf': 77, 'extra_trees': False, 'early_stopping_rounds': 13, 'path_smooth': 0.3584657285442726, 'min_gain_to_split': 0.05793452976256486}. Best is trial 0 with value: 0.5334971393323207.\n"
     ]
    },
    {
     "name": "stdout",
     "output_type": "stream",
     "text": [
      "Mejor trial hasta ahora: RMSE=0.533497, Parámetros={'num_leaves': 47, 'learning_rate': 0.2536999076681772, 'feature_fraction': 0.892797576724562, 'bagging_fraction': 0.8795975452591109, 'bagging_freq': 2, 'lambda_l1': 2.5348407664333426e-07, 'lambda_l2': 3.3323645788192616e-08, 'min_child_samples': 45, 'max_depth': 7, 'max_bin': 383, 'min_data_in_leaf': 21, 'extra_trees': True, 'early_stopping_rounds': 18, 'path_smooth': 0.18182496720710062, 'min_gain_to_split': 0.09170225492671691}\n"
     ]
    },
    {
     "name": "stderr",
     "output_type": "stream",
     "text": [
      "[I 2025-07-05 19:09:00,429] Trial 5 finished with value: 0.5107252709403712 and parameters: {'num_leaves': 89, 'learning_rate': 0.08330803890301997, 'feature_fraction': 0.7323592099410596, 'bagging_fraction': 0.7190675050858071, 'bagging_freq': 4, 'lambda_l1': 8.445977074223802e-06, 'lambda_l2': 0.036851536911881845, 'min_child_samples': 36, 'max_depth': 10, 'max_bin': 289, 'min_data_in_leaf': 29, 'extra_trees': False, 'early_stopping_rounds': 33, 'path_smooth': 0.770967179954561, 'min_gain_to_split': 0.24689779818219537}. Best is trial 5 with value: 0.5107252709403712.\n"
     ]
    },
    {
     "name": "stdout",
     "output_type": "stream",
     "text": [
      "Mejor trial hasta ahora: RMSE=0.510725, Parámetros={'num_leaves': 89, 'learning_rate': 0.08330803890301997, 'feature_fraction': 0.7323592099410596, 'bagging_fraction': 0.7190675050858071, 'bagging_freq': 4, 'lambda_l1': 8.445977074223802e-06, 'lambda_l2': 0.036851536911881845, 'min_child_samples': 36, 'max_depth': 10, 'max_bin': 289, 'min_data_in_leaf': 29, 'extra_trees': False, 'early_stopping_rounds': 33, 'path_smooth': 0.770967179954561, 'min_gain_to_split': 0.24689779818219537}\n"
     ]
    },
    {
     "name": "stderr",
     "output_type": "stream",
     "text": [
      "[I 2025-07-05 19:14:23,806] Trial 6 finished with value: 1.0152640515114915 and parameters: {'num_leaves': 59, 'learning_rate': 0.042808491617570936, 'feature_fraction': 0.610167650697638, 'bagging_fraction': 0.7323674280979913, 'bagging_freq': 1, 'lambda_l1': 0.005341874754868531, 'lambda_l2': 6.748446817464346e-06, 'min_child_samples': 30, 'max_depth': 10, 'max_bin': 199, 'min_data_in_leaf': 53, 'extra_trees': True, 'early_stopping_rounds': 13, 'path_smooth': 0.289751452913768, 'min_gain_to_split': 0.08061064362700221}. Best is trial 5 with value: 0.5107252709403712.\n"
     ]
    },
    {
     "name": "stdout",
     "output_type": "stream",
     "text": [
      "Mejor trial hasta ahora: RMSE=0.510725, Parámetros={'num_leaves': 89, 'learning_rate': 0.08330803890301997, 'feature_fraction': 0.7323592099410596, 'bagging_fraction': 0.7190675050858071, 'bagging_freq': 4, 'lambda_l1': 8.445977074223802e-06, 'lambda_l2': 0.036851536911881845, 'min_child_samples': 36, 'max_depth': 10, 'max_bin': 289, 'min_data_in_leaf': 29, 'extra_trees': False, 'early_stopping_rounds': 33, 'path_smooth': 0.770967179954561, 'min_gain_to_split': 0.24689779818219537}\n"
     ]
    },
    {
     "name": "stderr",
     "output_type": "stream",
     "text": [
      "[I 2025-07-05 19:24:10,296] Trial 7 finished with value: 0.37995877519024535 and parameters: {'num_leaves': 94, 'learning_rate': 0.156203869845265, 'feature_fraction': 0.8533615026041694, 'bagging_fraction': 0.9614381770563153, 'bagging_freq': 9, 'lambda_l1': 4.776728196949699e-07, 'lambda_l2': 1.0790237065789294, 'min_child_samples': 32, 'max_depth': 9, 'max_bin': 459, 'min_data_in_leaf': 45, 'extra_trees': False, 'early_stopping_rounds': 27, 'path_smooth': 0.8180147659224931, 'min_gain_to_split': 0.4303652916281717}. Best is trial 7 with value: 0.37995877519024535.\n"
     ]
    },
    {
     "name": "stdout",
     "output_type": "stream",
     "text": [
      "Mejor trial hasta ahora: RMSE=0.379959, Parámetros={'num_leaves': 94, 'learning_rate': 0.156203869845265, 'feature_fraction': 0.8533615026041694, 'bagging_fraction': 0.9614381770563153, 'bagging_freq': 9, 'lambda_l1': 4.776728196949699e-07, 'lambda_l2': 1.0790237065789294, 'min_child_samples': 32, 'max_depth': 9, 'max_bin': 459, 'min_data_in_leaf': 45, 'extra_trees': False, 'early_stopping_rounds': 27, 'path_smooth': 0.8180147659224931, 'min_gain_to_split': 0.4303652916281717}\n"
     ]
    },
    {
     "name": "stderr",
     "output_type": "stream",
     "text": [
      "[I 2025-07-05 19:31:07,476] Trial 8 finished with value: 1.0933706360575997 and parameters: {'num_leaves': 15, 'learning_rate': 0.05681142678077596, 'feature_fraction': 0.7669644012595116, 'bagging_fraction': 0.7666323431412191, 'bagging_freq': 2, 'lambda_l1': 1.0927895733904103e-05, 'lambda_l2': 3.0632845126552133, 'min_child_samples': 23, 'max_depth': 7, 'max_bin': 381, 'min_data_in_leaf': 49, 'extra_trees': True, 'early_stopping_rounds': 20, 'path_smooth': 0.49724850589238545, 'min_gain_to_split': 0.15043915490838483}. Best is trial 7 with value: 0.37995877519024535.\n"
     ]
    },
    {
     "name": "stdout",
     "output_type": "stream",
     "text": [
      "Mejor trial hasta ahora: RMSE=0.379959, Parámetros={'num_leaves': 94, 'learning_rate': 0.156203869845265, 'feature_fraction': 0.8533615026041694, 'bagging_fraction': 0.9614381770563153, 'bagging_freq': 9, 'lambda_l1': 4.776728196949699e-07, 'lambda_l2': 1.0790237065789294, 'min_child_samples': 32, 'max_depth': 9, 'max_bin': 459, 'min_data_in_leaf': 45, 'extra_trees': False, 'early_stopping_rounds': 27, 'path_smooth': 0.8180147659224931, 'min_gain_to_split': 0.4303652916281717}\n"
     ]
    },
    {
     "name": "stderr",
     "output_type": "stream",
     "text": [
      "[I 2025-07-05 19:40:58,560] Trial 9 finished with value: 1.2706741197203968 and parameters: {'num_leaves': 39, 'learning_rate': 0.011336695817840537, 'feature_fraction': 0.8438257335919588, 'bagging_fraction': 0.8508037069686585, 'bagging_freq': 1, 'lambda_l1': 3.21972053981427e-06, 'lambda_l2': 1.49414578394363, 'min_child_samples': 19, 'max_depth': 4, 'max_bin': 296, 'min_data_in_leaf': 99, 'extra_trees': False, 'early_stopping_rounds': 41, 'path_smooth': 0.23763754399239967, 'min_gain_to_split': 0.3641081743059298}. Best is trial 7 with value: 0.37995877519024535.\n"
     ]
    },
    {
     "name": "stdout",
     "output_type": "stream",
     "text": [
      "Mejor trial hasta ahora: RMSE=0.379959, Parámetros={'num_leaves': 94, 'learning_rate': 0.156203869845265, 'feature_fraction': 0.8533615026041694, 'bagging_fraction': 0.9614381770563153, 'bagging_freq': 9, 'lambda_l1': 4.776728196949699e-07, 'lambda_l2': 1.0790237065789294, 'min_child_samples': 32, 'max_depth': 9, 'max_bin': 459, 'min_data_in_leaf': 45, 'extra_trees': False, 'early_stopping_rounds': 27, 'path_smooth': 0.8180147659224931, 'min_gain_to_split': 0.4303652916281717}\n"
     ]
    },
    {
     "name": "stderr",
     "output_type": "stream",
     "text": [
      "[I 2025-07-05 19:51:15,197] Trial 10 finished with value: 0.6074608240167729 and parameters: {'num_leaves': 99, 'learning_rate': 0.13416032434032454, 'feature_fraction': 0.8784471213433285, 'bagging_fraction': 0.9862830691251867, 'bagging_freq': 10, 'lambda_l1': 0.001502701089682037, 'lambda_l2': 6.3791369398325e-05, 'min_child_samples': 11, 'max_depth': 9, 'max_bin': 497, 'min_data_in_leaf': 70, 'extra_trees': False, 'early_stopping_rounds': 47, 'path_smooth': 0.990907327492855, 'min_gain_to_split': 0.49687192922818807}. Best is trial 7 with value: 0.37995877519024535.\n"
     ]
    },
    {
     "name": "stdout",
     "output_type": "stream",
     "text": [
      "Mejor trial hasta ahora: RMSE=0.379959, Parámetros={'num_leaves': 94, 'learning_rate': 0.156203869845265, 'feature_fraction': 0.8533615026041694, 'bagging_fraction': 0.9614381770563153, 'bagging_freq': 9, 'lambda_l1': 4.776728196949699e-07, 'lambda_l2': 1.0790237065789294, 'min_child_samples': 32, 'max_depth': 9, 'max_bin': 459, 'min_data_in_leaf': 45, 'extra_trees': False, 'early_stopping_rounds': 27, 'path_smooth': 0.8180147659224931, 'min_gain_to_split': 0.4303652916281717}\n"
     ]
    },
    {
     "name": "stderr",
     "output_type": "stream",
     "text": [
      "[I 2025-07-05 19:58:52,615] Trial 11 finished with value: 0.505020696469928 and parameters: {'num_leaves': 97, 'learning_rate': 0.1243300565762619, 'feature_fraction': 0.7039416229022941, 'bagging_fraction': 0.7023343263844064, 'bagging_freq': 7, 'lambda_l1': 3.276970769603863e-05, 'lambda_l2': 0.18940011184951952, 'min_child_samples': 39, 'max_depth': 9, 'max_bin': 245, 'min_data_in_leaf': 42, 'extra_trees': False, 'early_stopping_rounds': 30, 'path_smooth': 0.7160581759808042, 'min_gain_to_split': 0.33042786264614343}. Best is trial 7 with value: 0.37995877519024535.\n"
     ]
    },
    {
     "name": "stdout",
     "output_type": "stream",
     "text": [
      "Mejor trial hasta ahora: RMSE=0.379959, Parámetros={'num_leaves': 94, 'learning_rate': 0.156203869845265, 'feature_fraction': 0.8533615026041694, 'bagging_fraction': 0.9614381770563153, 'bagging_freq': 9, 'lambda_l1': 4.776728196949699e-07, 'lambda_l2': 1.0790237065789294, 'min_child_samples': 32, 'max_depth': 9, 'max_bin': 459, 'min_data_in_leaf': 45, 'extra_trees': False, 'early_stopping_rounds': 27, 'path_smooth': 0.8180147659224931, 'min_gain_to_split': 0.4303652916281717}\n"
     ]
    },
    {
     "name": "stderr",
     "output_type": "stream",
     "text": [
      "[I 2025-07-05 20:03:30,267] Trial 12 finished with value: 0.6817850379037412 and parameters: {'num_leaves': 79, 'learning_rate': 0.12955381036446154, 'feature_fraction': 0.6978753170579768, 'bagging_fraction': 0.8059496586274636, 'bagging_freq': 8, 'lambda_l1': 0.00014211618981379697, 'lambda_l2': 7.970582694153957, 'min_child_samples': 39, 'max_depth': 8, 'max_bin': 103, 'min_data_in_leaf': 42, 'extra_trees': False, 'early_stopping_rounds': 27, 'path_smooth': 0.694576792874968, 'min_gain_to_split': 0.4164995251036958}. Best is trial 7 with value: 0.37995877519024535.\n"
     ]
    },
    {
     "name": "stdout",
     "output_type": "stream",
     "text": [
      "Mejor trial hasta ahora: RMSE=0.379959, Parámetros={'num_leaves': 94, 'learning_rate': 0.156203869845265, 'feature_fraction': 0.8533615026041694, 'bagging_fraction': 0.9614381770563153, 'bagging_freq': 9, 'lambda_l1': 4.776728196949699e-07, 'lambda_l2': 1.0790237065789294, 'min_child_samples': 32, 'max_depth': 9, 'max_bin': 459, 'min_data_in_leaf': 45, 'extra_trees': False, 'early_stopping_rounds': 27, 'path_smooth': 0.8180147659224931, 'min_gain_to_split': 0.4303652916281717}\n"
     ]
    },
    {
     "name": "stderr",
     "output_type": "stream",
     "text": [
      "[I 2025-07-05 20:10:28,844] Trial 13 finished with value: 0.48899561664683394 and parameters: {'num_leaves': 77, 'learning_rate': 0.13900853621800094, 'feature_fraction': 0.8387196555366198, 'bagging_fraction': 0.8893016851154663, 'bagging_freq': 8, 'lambda_l1': 0.018049732518134867, 'lambda_l2': 0.30725539965868953, 'min_child_samples': 37, 'max_depth': 9, 'max_bin': 225, 'min_data_in_leaf': 60, 'extra_trees': False, 'early_stopping_rounds': 28, 'path_smooth': 0.9564554308008528, 'min_gain_to_split': 0.3406134471795371}. Best is trial 7 with value: 0.37995877519024535.\n"
     ]
    },
    {
     "name": "stdout",
     "output_type": "stream",
     "text": [
      "Mejor trial hasta ahora: RMSE=0.379959, Parámetros={'num_leaves': 94, 'learning_rate': 0.156203869845265, 'feature_fraction': 0.8533615026041694, 'bagging_fraction': 0.9614381770563153, 'bagging_freq': 9, 'lambda_l1': 4.776728196949699e-07, 'lambda_l2': 1.0790237065789294, 'min_child_samples': 32, 'max_depth': 9, 'max_bin': 459, 'min_data_in_leaf': 45, 'extra_trees': False, 'early_stopping_rounds': 27, 'path_smooth': 0.8180147659224931, 'min_gain_to_split': 0.4303652916281717}\n"
     ]
    },
    {
     "name": "stderr",
     "output_type": "stream",
     "text": [
      "[I 2025-07-05 20:18:03,379] Trial 14 finished with value: 0.6589602081483321 and parameters: {'num_leaves': 75, 'learning_rate': 0.1806005327531204, 'feature_fraction': 0.8293510631293778, 'bagging_fraction': 0.9009312770749308, 'bagging_freq': 8, 'lambda_l1': 0.06119446448686829, 'lambda_l2': 0.0019393158912542504, 'min_child_samples': 34, 'max_depth': 8, 'max_bin': 478, 'min_data_in_leaf': 65, 'extra_trees': False, 'early_stopping_rounds': 25, 'path_smooth': 0.9652325178791951, 'min_gain_to_split': 0.473083665699182}. Best is trial 7 with value: 0.37995877519024535.\n"
     ]
    },
    {
     "name": "stdout",
     "output_type": "stream",
     "text": [
      "Mejor trial hasta ahora: RMSE=0.379959, Parámetros={'num_leaves': 94, 'learning_rate': 0.156203869845265, 'feature_fraction': 0.8533615026041694, 'bagging_fraction': 0.9614381770563153, 'bagging_freq': 9, 'lambda_l1': 4.776728196949699e-07, 'lambda_l2': 1.0790237065789294, 'min_child_samples': 32, 'max_depth': 9, 'max_bin': 459, 'min_data_in_leaf': 45, 'extra_trees': False, 'early_stopping_rounds': 27, 'path_smooth': 0.8180147659224931, 'min_gain_to_split': 0.4303652916281717}\n"
     ]
    },
    {
     "name": "stderr",
     "output_type": "stream",
     "text": [
      "[I 2025-07-05 20:28:07,113] Trial 15 finished with value: 0.9716460811511473 and parameters: {'num_leaves': 78, 'learning_rate': 0.031334599336101464, 'feature_fraction': 0.9240498172838553, 'bagging_fraction': 0.997125168315985, 'bagging_freq': 9, 'lambda_l1': 0.06837880562185786, 'lambda_l2': 0.4903425708521485, 'min_child_samples': 43, 'max_depth': 6, 'max_bin': 147, 'min_data_in_leaf': 86, 'extra_trees': False, 'early_stopping_rounds': 35, 'path_smooth': 0.876601232474731, 'min_gain_to_split': 0.38875534995983463}. Best is trial 7 with value: 0.37995877519024535.\n"
     ]
    },
    {
     "name": "stdout",
     "output_type": "stream",
     "text": [
      "Mejor trial hasta ahora: RMSE=0.379959, Parámetros={'num_leaves': 94, 'learning_rate': 0.156203869845265, 'feature_fraction': 0.8533615026041694, 'bagging_fraction': 0.9614381770563153, 'bagging_freq': 9, 'lambda_l1': 4.776728196949699e-07, 'lambda_l2': 1.0790237065789294, 'min_child_samples': 32, 'max_depth': 9, 'max_bin': 459, 'min_data_in_leaf': 45, 'extra_trees': False, 'early_stopping_rounds': 27, 'path_smooth': 0.8180147659224931, 'min_gain_to_split': 0.4303652916281717}\n"
     ]
    },
    {
     "name": "stderr",
     "output_type": "stream",
     "text": [
      "[I 2025-07-05 20:37:05,033] Trial 16 finished with value: 0.5879367343038524 and parameters: {'num_leaves': 87, 'learning_rate': 0.10500107649238481, 'feature_fraction': 0.9336205145654952, 'bagging_fraction': 0.8432915749368503, 'bagging_freq': 6, 'lambda_l1': 0.014625050783140135, 'lambda_l2': 0.002002948193620956, 'min_child_samples': 50, 'max_depth': 9, 'max_bin': 236, 'min_data_in_leaf': 56, 'extra_trees': False, 'early_stopping_rounds': 25, 'path_smooth': 0.04226969265966529, 'min_gain_to_split': 0.2825448776053083}. Best is trial 7 with value: 0.37995877519024535.\n"
     ]
    },
    {
     "name": "stdout",
     "output_type": "stream",
     "text": [
      "Mejor trial hasta ahora: RMSE=0.379959, Parámetros={'num_leaves': 94, 'learning_rate': 0.156203869845265, 'feature_fraction': 0.8533615026041694, 'bagging_fraction': 0.9614381770563153, 'bagging_freq': 9, 'lambda_l1': 4.776728196949699e-07, 'lambda_l2': 1.0790237065789294, 'min_child_samples': 32, 'max_depth': 9, 'max_bin': 459, 'min_data_in_leaf': 45, 'extra_trees': False, 'early_stopping_rounds': 27, 'path_smooth': 0.8180147659224931, 'min_gain_to_split': 0.4303652916281717}\n"
     ]
    },
    {
     "name": "stderr",
     "output_type": "stream",
     "text": [
      "[I 2025-07-05 20:43:32,187] Trial 17 finished with value: 0.8467249301918709 and parameters: {'num_leaves': 70, 'learning_rate': 0.18961603335623625, 'feature_fraction': 0.8147324663134726, 'bagging_fraction': 0.9003030365159584, 'bagging_freq': 9, 'lambda_l1': 0.0005471703313556337, 'lambda_l2': 8.089096795583417, 'min_child_samples': 33, 'max_depth': 5, 'max_bin': 342, 'min_data_in_leaf': 75, 'extra_trees': False, 'early_stopping_rounds': 44, 'path_smooth': 0.5620404333428749, 'min_gain_to_split': 0.45178891310239155}. Best is trial 7 with value: 0.37995877519024535.\n"
     ]
    },
    {
     "name": "stdout",
     "output_type": "stream",
     "text": [
      "Mejor trial hasta ahora: RMSE=0.379959, Parámetros={'num_leaves': 94, 'learning_rate': 0.156203869845265, 'feature_fraction': 0.8533615026041694, 'bagging_fraction': 0.9614381770563153, 'bagging_freq': 9, 'lambda_l1': 4.776728196949699e-07, 'lambda_l2': 1.0790237065789294, 'min_child_samples': 32, 'max_depth': 9, 'max_bin': 459, 'min_data_in_leaf': 45, 'extra_trees': False, 'early_stopping_rounds': 27, 'path_smooth': 0.8180147659224931, 'min_gain_to_split': 0.4303652916281717}\n"
     ]
    },
    {
     "name": "stderr",
     "output_type": "stream",
     "text": [
      "[I 2025-07-05 20:48:49,621] Trial 18 finished with value: 0.935411694233176 and parameters: {'num_leaves': 89, 'learning_rate': 0.0879295307339416, 'feature_fraction': 0.8651167925051063, 'bagging_fraction': 0.9610547025539179, 'bagging_freq': 5, 'lambda_l1': 8.047813678788635e-07, 'lambda_l2': 0.0001446056072315146, 'min_child_samples': 41, 'max_depth': 8, 'max_bin': 248, 'min_data_in_leaf': 63, 'extra_trees': True, 'early_stopping_rounds': 30, 'path_smooth': 0.9099350863430166, 'min_gain_to_split': 0.3260968993108959}. Best is trial 7 with value: 0.37995877519024535.\n"
     ]
    },
    {
     "name": "stdout",
     "output_type": "stream",
     "text": [
      "Mejor trial hasta ahora: RMSE=0.379959, Parámetros={'num_leaves': 94, 'learning_rate': 0.156203869845265, 'feature_fraction': 0.8533615026041694, 'bagging_fraction': 0.9614381770563153, 'bagging_freq': 9, 'lambda_l1': 4.776728196949699e-07, 'lambda_l2': 1.0790237065789294, 'min_child_samples': 32, 'max_depth': 9, 'max_bin': 459, 'min_data_in_leaf': 45, 'extra_trees': False, 'early_stopping_rounds': 27, 'path_smooth': 0.8180147659224931, 'min_gain_to_split': 0.4303652916281717}\n"
     ]
    },
    {
     "name": "stderr",
     "output_type": "stream",
     "text": [
      "[I 2025-07-05 20:55:42,388] Trial 19 finished with value: 0.3586751413947704 and parameters: {'num_leaves': 66, 'learning_rate': 0.17857345844220188, 'feature_fraction': 0.7856340553452433, 'bagging_fraction': 0.852673967515869, 'bagging_freq': 8, 'lambda_l1': 1.9279891906075273e-08, 'lambda_l2': 1.333761028816826e-08, 'min_child_samples': 35, 'max_depth': 10, 'max_bin': 339, 'min_data_in_leaf': 47, 'extra_trees': False, 'early_stopping_rounds': 39, 'path_smooth': 0.4869863520491829, 'min_gain_to_split': 0.417645273324141}. Best is trial 19 with value: 0.3586751413947704.\n"
     ]
    },
    {
     "name": "stdout",
     "output_type": "stream",
     "text": [
      "Mejor trial hasta ahora: RMSE=0.358675, Parámetros={'num_leaves': 66, 'learning_rate': 0.17857345844220188, 'feature_fraction': 0.7856340553452433, 'bagging_fraction': 0.852673967515869, 'bagging_freq': 8, 'lambda_l1': 1.9279891906075273e-08, 'lambda_l2': 1.333761028816826e-08, 'min_child_samples': 35, 'max_depth': 10, 'max_bin': 339, 'min_data_in_leaf': 47, 'extra_trees': False, 'early_stopping_rounds': 39, 'path_smooth': 0.4869863520491829, 'min_gain_to_split': 0.417645273324141}\n"
     ]
    },
    {
     "name": "stderr",
     "output_type": "stream",
     "text": [
      "[I 2025-07-05 21:01:42,597] Trial 20 finished with value: 0.5676667740592479 and parameters: {'num_leaves': 52, 'learning_rate': 0.27695181472908825, 'feature_fraction': 0.783386574857749, 'bagging_fraction': 0.8301116603303896, 'bagging_freq': 6, 'lambda_l1': 1.0962269340011165e-08, 'lambda_l2': 1.3222914539793543e-08, 'min_child_samples': 32, 'max_depth': 10, 'max_bin': 452, 'min_data_in_leaf': 46, 'extra_trees': False, 'early_stopping_rounds': 50, 'path_smooth': 0.441329625250234, 'min_gain_to_split': 0.4528244147469831}. Best is trial 19 with value: 0.3586751413947704.\n"
     ]
    },
    {
     "name": "stdout",
     "output_type": "stream",
     "text": [
      "Mejor trial hasta ahora: RMSE=0.358675, Parámetros={'num_leaves': 66, 'learning_rate': 0.17857345844220188, 'feature_fraction': 0.7856340553452433, 'bagging_fraction': 0.852673967515869, 'bagging_freq': 8, 'lambda_l1': 1.9279891906075273e-08, 'lambda_l2': 1.333761028816826e-08, 'min_child_samples': 35, 'max_depth': 10, 'max_bin': 339, 'min_data_in_leaf': 47, 'extra_trees': False, 'early_stopping_rounds': 39, 'path_smooth': 0.4869863520491829, 'min_gain_to_split': 0.417645273324141}\n"
     ]
    },
    {
     "name": "stderr",
     "output_type": "stream",
     "text": [
      "[I 2025-07-05 21:10:51,792] Trial 21 finished with value: 0.4192258728577828 and parameters: {'num_leaves': 66, 'learning_rate': 0.1692864799113586, 'feature_fraction': 0.8171916329203682, 'bagging_fraction': 0.8743785904837248, 'bagging_freq': 8, 'lambda_l1': 3.668116183096292e-08, 'lambda_l2': 3.315364397113269e-07, 'min_child_samples': 38, 'max_depth': 9, 'max_bin': 354, 'min_data_in_leaf': 34, 'extra_trees': False, 'early_stopping_rounds': 38, 'path_smooth': 0.6322527510354742, 'min_gain_to_split': 0.4127591896193379}. Best is trial 19 with value: 0.3586751413947704.\n"
     ]
    },
    {
     "name": "stdout",
     "output_type": "stream",
     "text": [
      "Mejor trial hasta ahora: RMSE=0.358675, Parámetros={'num_leaves': 66, 'learning_rate': 0.17857345844220188, 'feature_fraction': 0.7856340553452433, 'bagging_fraction': 0.852673967515869, 'bagging_freq': 8, 'lambda_l1': 1.9279891906075273e-08, 'lambda_l2': 1.333761028816826e-08, 'min_child_samples': 35, 'max_depth': 10, 'max_bin': 339, 'min_data_in_leaf': 47, 'extra_trees': False, 'early_stopping_rounds': 39, 'path_smooth': 0.4869863520491829, 'min_gain_to_split': 0.417645273324141}\n"
     ]
    },
    {
     "name": "stderr",
     "output_type": "stream",
     "text": [
      "[I 2025-07-05 21:19:59,969] Trial 22 finished with value: 0.47424724651617006 and parameters: {'num_leaves': 66, 'learning_rate': 0.18545119947871933, 'feature_fraction': 0.7411757454996106, 'bagging_fraction': 0.864068105492662, 'bagging_freq': 9, 'lambda_l1': 1.2935659276578626e-08, 'lambda_l2': 1.3225880912684751e-07, 'min_child_samples': 27, 'max_depth': 10, 'max_bin': 357, 'min_data_in_leaf': 33, 'extra_trees': False, 'early_stopping_rounds': 40, 'path_smooth': 0.6359536897271646, 'min_gain_to_split': 0.42446684635733206}. Best is trial 19 with value: 0.3586751413947704.\n"
     ]
    },
    {
     "name": "stdout",
     "output_type": "stream",
     "text": [
      "Mejor trial hasta ahora: RMSE=0.358675, Parámetros={'num_leaves': 66, 'learning_rate': 0.17857345844220188, 'feature_fraction': 0.7856340553452433, 'bagging_fraction': 0.852673967515869, 'bagging_freq': 8, 'lambda_l1': 1.9279891906075273e-08, 'lambda_l2': 1.333761028816826e-08, 'min_child_samples': 35, 'max_depth': 10, 'max_bin': 339, 'min_data_in_leaf': 47, 'extra_trees': False, 'early_stopping_rounds': 39, 'path_smooth': 0.4869863520491829, 'min_gain_to_split': 0.417645273324141}\n"
     ]
    },
    {
     "name": "stderr",
     "output_type": "stream",
     "text": [
      "[I 2025-07-05 21:26:36,590] Trial 23 finished with value: 0.5870294737027864 and parameters: {'num_leaves': 54, 'learning_rate': 0.18143718562104943, 'feature_fraction': 0.8005187008777627, 'bagging_fraction': 0.821322245326835, 'bagging_freq': 7, 'lambda_l1': 5.621870067939555e-08, 'lambda_l2': 4.7256423792279365e-07, 'min_child_samples': 31, 'max_depth': 8, 'max_bin': 329, 'min_data_in_leaf': 40, 'extra_trees': False, 'early_stopping_rounds': 38, 'path_smooth': 0.48914897446254624, 'min_gain_to_split': 0.3836454504869728}. Best is trial 19 with value: 0.3586751413947704.\n"
     ]
    },
    {
     "name": "stdout",
     "output_type": "stream",
     "text": [
      "Mejor trial hasta ahora: RMSE=0.358675, Parámetros={'num_leaves': 66, 'learning_rate': 0.17857345844220188, 'feature_fraction': 0.7856340553452433, 'bagging_fraction': 0.852673967515869, 'bagging_freq': 8, 'lambda_l1': 1.9279891906075273e-08, 'lambda_l2': 1.333761028816826e-08, 'min_child_samples': 35, 'max_depth': 10, 'max_bin': 339, 'min_data_in_leaf': 47, 'extra_trees': False, 'early_stopping_rounds': 39, 'path_smooth': 0.4869863520491829, 'min_gain_to_split': 0.417645273324141}\n"
     ]
    },
    {
     "name": "stderr",
     "output_type": "stream",
     "text": [
      "[I 2025-07-05 21:37:26,663] Trial 24 finished with value: 0.4655645049910387 and parameters: {'num_leaves': 69, 'learning_rate': 0.09159435714892579, 'feature_fraction': 0.9181650364372415, 'bagging_fraction': 0.9088041117436763, 'bagging_freq': 10, 'lambda_l1': 3.7301324996230403e-07, 'lambda_l2': 6.798563231081839e-07, 'min_child_samples': 35, 'max_depth': 9, 'max_bin': 406, 'min_data_in_leaf': 30, 'extra_trees': False, 'early_stopping_rounds': 33, 'path_smooth': 0.7833016197798427, 'min_gain_to_split': 0.4124426615903639}. Best is trial 19 with value: 0.3586751413947704.\n"
     ]
    },
    {
     "name": "stdout",
     "output_type": "stream",
     "text": [
      "Mejor trial hasta ahora: RMSE=0.358675, Parámetros={'num_leaves': 66, 'learning_rate': 0.17857345844220188, 'feature_fraction': 0.7856340553452433, 'bagging_fraction': 0.852673967515869, 'bagging_freq': 8, 'lambda_l1': 1.9279891906075273e-08, 'lambda_l2': 1.333761028816826e-08, 'min_child_samples': 35, 'max_depth': 10, 'max_bin': 339, 'min_data_in_leaf': 47, 'extra_trees': False, 'early_stopping_rounds': 39, 'path_smooth': 0.4869863520491829, 'min_gain_to_split': 0.417645273324141}\n"
     ]
    },
    {
     "name": "stderr",
     "output_type": "stream",
     "text": [
      "[I 2025-07-05 21:50:39,587] Trial 25 finished with value: 0.902718516827337 and parameters: {'num_leaves': 83, 'learning_rate': 0.037883257495150605, 'feature_fraction': 0.7477168941215689, 'bagging_fraction': 0.8699801881459475, 'bagging_freq': 8, 'lambda_l1': 1.2297656899754927e-06, 'lambda_l2': 1.0548053434924425e-05, 'min_child_samples': 42, 'max_depth': 10, 'max_bin': 452, 'min_data_in_leaf': 49, 'extra_trees': False, 'early_stopping_rounds': 45, 'path_smooth': 0.40915264152589936, 'min_gain_to_split': 0.499839337875295}. Best is trial 19 with value: 0.3586751413947704.\n"
     ]
    },
    {
     "name": "stdout",
     "output_type": "stream",
     "text": [
      "Mejor trial hasta ahora: RMSE=0.358675, Parámetros={'num_leaves': 66, 'learning_rate': 0.17857345844220188, 'feature_fraction': 0.7856340553452433, 'bagging_fraction': 0.852673967515869, 'bagging_freq': 8, 'lambda_l1': 1.9279891906075273e-08, 'lambda_l2': 1.333761028816826e-08, 'min_child_samples': 35, 'max_depth': 10, 'max_bin': 339, 'min_data_in_leaf': 47, 'extra_trees': False, 'early_stopping_rounds': 39, 'path_smooth': 0.4869863520491829, 'min_gain_to_split': 0.417645273324141}\n"
     ]
    },
    {
     "name": "stderr",
     "output_type": "stream",
     "text": [
      "[I 2025-07-05 21:57:07,893] Trial 26 finished with value: 0.8623968145049229 and parameters: {'num_leaves': 93, 'learning_rate': 0.2170705516426962, 'feature_fraction': 0.802305993022478, 'bagging_fraction': 0.9188320205229983, 'bagging_freq': 9, 'lambda_l1': 2.1436868421629453e-08, 'lambda_l2': 8.882530495702591e-08, 'min_child_samples': 22, 'max_depth': 7, 'max_bin': 326, 'min_data_in_leaf': 36, 'extra_trees': True, 'early_stopping_rounds': 41, 'path_smooth': 0.5713648249206764, 'min_gain_to_split': 0.2971091938756171}. Best is trial 19 with value: 0.3586751413947704.\n"
     ]
    },
    {
     "name": "stdout",
     "output_type": "stream",
     "text": [
      "Mejor trial hasta ahora: RMSE=0.358675, Parámetros={'num_leaves': 66, 'learning_rate': 0.17857345844220188, 'feature_fraction': 0.7856340553452433, 'bagging_fraction': 0.852673967515869, 'bagging_freq': 8, 'lambda_l1': 1.9279891906075273e-08, 'lambda_l2': 1.333761028816826e-08, 'min_child_samples': 35, 'max_depth': 10, 'max_bin': 339, 'min_data_in_leaf': 47, 'extra_trees': False, 'early_stopping_rounds': 39, 'path_smooth': 0.4869863520491829, 'min_gain_to_split': 0.417645273324141}\n"
     ]
    },
    {
     "name": "stderr",
     "output_type": "stream",
     "text": [
      "[I 2025-07-05 22:18:02,946] Trial 27 finished with value: 0.535432296490836 and parameters: {'num_leaves': 47, 'learning_rate': 0.0727990244582899, 'feature_fraction': 0.8617283180851136, 'bagging_fraction': 0.9616662142293396, 'bagging_freq': 7, 'lambda_l1': 6.689413803198051e-08, 'lambda_l2': 6.979657832762651e-07, 'min_child_samples': 37, 'max_depth': 9, 'max_bin': 383, 'min_data_in_leaf': 54, 'extra_trees': False, 'early_stopping_rounds': 33, 'path_smooth': 0.6628001979816205, 'min_gain_to_split': 0.21034497725507512}. Best is trial 19 with value: 0.3586751413947704.\n"
     ]
    },
    {
     "name": "stdout",
     "output_type": "stream",
     "text": [
      "Mejor trial hasta ahora: RMSE=0.358675, Parámetros={'num_leaves': 66, 'learning_rate': 0.17857345844220188, 'feature_fraction': 0.7856340553452433, 'bagging_fraction': 0.852673967515869, 'bagging_freq': 8, 'lambda_l1': 1.9279891906075273e-08, 'lambda_l2': 1.333761028816826e-08, 'min_child_samples': 35, 'max_depth': 10, 'max_bin': 339, 'min_data_in_leaf': 47, 'extra_trees': False, 'early_stopping_rounds': 39, 'path_smooth': 0.4869863520491829, 'min_gain_to_split': 0.417645273324141}\n"
     ]
    },
    {
     "name": "stderr",
     "output_type": "stream",
     "text": [
      "[I 2025-07-05 22:23:57,968] Trial 28 finished with value: 0.26926062778300813 and parameters: {'num_leaves': 30, 'learning_rate': 0.2991961618916206, 'feature_fraction': 0.8901724174889525, 'bagging_fraction': 0.7737884399534997, 'bagging_freq': 5, 'lambda_l1': 2.147268545449047e-06, 'lambda_l2': 1.0305050066959539e-08, 'min_child_samples': 29, 'max_depth': 8, 'max_bin': 276, 'min_data_in_leaf': 27, 'extra_trees': False, 'early_stopping_rounds': 36, 'path_smooth': 0.7524843396074916, 'min_gain_to_split': 0.3701710509617548}. Best is trial 28 with value: 0.26926062778300813.\n"
     ]
    },
    {
     "name": "stdout",
     "output_type": "stream",
     "text": [
      "Mejor trial hasta ahora: RMSE=0.269261, Parámetros={'num_leaves': 30, 'learning_rate': 0.2991961618916206, 'feature_fraction': 0.8901724174889525, 'bagging_fraction': 0.7737884399534997, 'bagging_freq': 5, 'lambda_l1': 2.147268545449047e-06, 'lambda_l2': 1.0305050066959539e-08, 'min_child_samples': 29, 'max_depth': 8, 'max_bin': 276, 'min_data_in_leaf': 27, 'extra_trees': False, 'early_stopping_rounds': 36, 'path_smooth': 0.7524843396074916, 'min_gain_to_split': 0.3701710509617548}\n"
     ]
    },
    {
     "name": "stderr",
     "output_type": "stream",
     "text": [
      "[I 2025-07-05 22:28:55,547] Trial 29 finished with value: 0.6039387770822239 and parameters: {'num_leaves': 28, 'learning_rate': 0.2764035216479888, 'feature_fraction': 0.9409960386722874, 'bagging_fraction': 0.7597664559261456, 'bagging_freq': 4, 'lambda_l1': 4.481950037169302e-05, 'lambda_l2': 1.4662907558010417e-08, 'min_child_samples': 29, 'max_depth': 7, 'max_bin': 269, 'min_data_in_leaf': 26, 'extra_trees': True, 'early_stopping_rounds': 22, 'path_smooth': 0.15050503043932284, 'min_gain_to_split': 0.004641588896625026}. Best is trial 28 with value: 0.26926062778300813.\n"
     ]
    },
    {
     "name": "stdout",
     "output_type": "stream",
     "text": [
      "Mejor trial hasta ahora: RMSE=0.269261, Parámetros={'num_leaves': 30, 'learning_rate': 0.2991961618916206, 'feature_fraction': 0.8901724174889525, 'bagging_fraction': 0.7737884399534997, 'bagging_freq': 5, 'lambda_l1': 2.147268545449047e-06, 'lambda_l2': 1.0305050066959539e-08, 'min_child_samples': 29, 'max_depth': 8, 'max_bin': 276, 'min_data_in_leaf': 27, 'extra_trees': False, 'early_stopping_rounds': 36, 'path_smooth': 0.7524843396074916, 'min_gain_to_split': 0.3701710509617548}\n"
     ]
    },
    {
     "name": "stderr",
     "output_type": "stream",
     "text": [
      "[I 2025-07-05 22:34:18,905] Trial 30 finished with value: 0.5290685768374488 and parameters: {'num_leaves': 31, 'learning_rate': 0.24368611012949082, 'feature_fraction': 0.9064671701056604, 'bagging_fraction': 0.7949573693468404, 'bagging_freq': 5, 'lambda_l1': 2.396358301139867e-07, 'lambda_l2': 4.7358586001386085e-08, 'min_child_samples': 26, 'max_depth': 8, 'max_bin': 269, 'min_data_in_leaf': 45, 'extra_trees': False, 'early_stopping_rounds': 17, 'path_smooth': 0.7634446489030626, 'min_gain_to_split': 0.378797960596574}. Best is trial 28 with value: 0.26926062778300813.\n"
     ]
    },
    {
     "name": "stdout",
     "output_type": "stream",
     "text": [
      "Mejor trial hasta ahora: RMSE=0.269261, Parámetros={'num_leaves': 30, 'learning_rate': 0.2991961618916206, 'feature_fraction': 0.8901724174889525, 'bagging_fraction': 0.7737884399534997, 'bagging_freq': 5, 'lambda_l1': 2.147268545449047e-06, 'lambda_l2': 1.0305050066959539e-08, 'min_child_samples': 29, 'max_depth': 8, 'max_bin': 276, 'min_data_in_leaf': 27, 'extra_trees': False, 'early_stopping_rounds': 36, 'path_smooth': 0.7524843396074916, 'min_gain_to_split': 0.3701710509617548}\n"
     ]
    },
    {
     "name": "stderr",
     "output_type": "stream",
     "text": [
      "[I 2025-07-05 22:41:53,121] Trial 31 finished with value: 0.4129299548167408 and parameters: {'num_leaves': 64, 'learning_rate': 0.15455576721150152, 'feature_fraction': 0.8807544123018737, 'bagging_fraction': 0.878442904424427, 'bagging_freq': 6, 'lambda_l1': 1.8580114670757201e-06, 'lambda_l2': 2.019905921709621e-07, 'min_child_samples': 32, 'max_depth': 9, 'max_bin': 357, 'min_data_in_leaf': 20, 'extra_trees': False, 'early_stopping_rounds': 37, 'path_smooth': 0.8419767573015189, 'min_gain_to_split': 0.44488612582707665}. Best is trial 28 with value: 0.26926062778300813.\n"
     ]
    },
    {
     "name": "stdout",
     "output_type": "stream",
     "text": [
      "Mejor trial hasta ahora: RMSE=0.269261, Parámetros={'num_leaves': 30, 'learning_rate': 0.2991961618916206, 'feature_fraction': 0.8901724174889525, 'bagging_fraction': 0.7737884399534997, 'bagging_freq': 5, 'lambda_l1': 2.147268545449047e-06, 'lambda_l2': 1.0305050066959539e-08, 'min_child_samples': 29, 'max_depth': 8, 'max_bin': 276, 'min_data_in_leaf': 27, 'extra_trees': False, 'early_stopping_rounds': 36, 'path_smooth': 0.7524843396074916, 'min_gain_to_split': 0.3701710509617548}\n"
     ]
    },
    {
     "name": "stderr",
     "output_type": "stream",
     "text": [
      "[I 2025-07-05 22:48:44,236] Trial 32 finished with value: 0.38436297289277976 and parameters: {'num_leaves': 45, 'learning_rate': 0.2218189418386987, 'feature_fraction': 0.8931439639977596, 'bagging_fraction': 0.7783343540960727, 'bagging_freq': 3, 'lambda_l1': 1.7242009693725875e-06, 'lambda_l2': 3.243516282776026e-08, 'min_child_samples': 32, 'max_depth': 10, 'max_bin': 388, 'min_data_in_leaf': 20, 'extra_trees': False, 'early_stopping_rounds': 35, 'path_smooth': 0.8526037017972269, 'min_gain_to_split': 0.4586808273695398}. Best is trial 28 with value: 0.26926062778300813.\n"
     ]
    },
    {
     "name": "stdout",
     "output_type": "stream",
     "text": [
      "Mejor trial hasta ahora: RMSE=0.269261, Parámetros={'num_leaves': 30, 'learning_rate': 0.2991961618916206, 'feature_fraction': 0.8901724174889525, 'bagging_fraction': 0.7737884399534997, 'bagging_freq': 5, 'lambda_l1': 2.147268545449047e-06, 'lambda_l2': 1.0305050066959539e-08, 'min_child_samples': 29, 'max_depth': 8, 'max_bin': 276, 'min_data_in_leaf': 27, 'extra_trees': False, 'early_stopping_rounds': 36, 'path_smooth': 0.7524843396074916, 'min_gain_to_split': 0.3701710509617548}\n"
     ]
    },
    {
     "name": "stderr",
     "output_type": "stream",
     "text": [
      "[I 2025-07-05 22:55:00,962] Trial 33 finished with value: 0.5267487474328746 and parameters: {'num_leaves': 31, 'learning_rate': 0.2888901648946118, 'feature_fraction': 0.9504893312622493, 'bagging_fraction': 0.7572541278068823, 'bagging_freq': 3, 'lambda_l1': 3.090220478634161e-07, 'lambda_l2': 1.036288597326762e-08, 'min_child_samples': 23, 'max_depth': 10, 'max_bin': 439, 'min_data_in_leaf': 37, 'extra_trees': False, 'early_stopping_rounds': 35, 'path_smooth': 0.900645385228766, 'min_gain_to_split': 0.47101075819839705}. Best is trial 28 with value: 0.26926062778300813.\n"
     ]
    },
    {
     "name": "stdout",
     "output_type": "stream",
     "text": [
      "Mejor trial hasta ahora: RMSE=0.269261, Parámetros={'num_leaves': 30, 'learning_rate': 0.2991961618916206, 'feature_fraction': 0.8901724174889525, 'bagging_fraction': 0.7737884399534997, 'bagging_freq': 5, 'lambda_l1': 2.147268545449047e-06, 'lambda_l2': 1.0305050066959539e-08, 'min_child_samples': 29, 'max_depth': 8, 'max_bin': 276, 'min_data_in_leaf': 27, 'extra_trees': False, 'early_stopping_rounds': 36, 'path_smooth': 0.7524843396074916, 'min_gain_to_split': 0.3701710509617548}\n"
     ]
    },
    {
     "name": "stderr",
     "output_type": "stream",
     "text": [
      "[I 2025-07-05 23:01:56,946] Trial 34 finished with value: 0.42577369817288824 and parameters: {'num_leaves': 45, 'learning_rate': 0.2253255033530387, 'feature_fraction': 0.9658488201514767, 'bagging_fraction': 0.7815094455277911, 'bagging_freq': 3, 'lambda_l1': 5.380019508151311e-06, 'lambda_l2': 2.6423847226536517e-06, 'min_child_samples': 29, 'max_depth': 10, 'max_bin': 402, 'min_data_in_leaf': 26, 'extra_trees': False, 'early_stopping_rounds': 32, 'path_smooth': 0.7204763983704954, 'min_gain_to_split': 0.4429410121752323}. Best is trial 28 with value: 0.26926062778300813.\n"
     ]
    },
    {
     "name": "stdout",
     "output_type": "stream",
     "text": [
      "Mejor trial hasta ahora: RMSE=0.269261, Parámetros={'num_leaves': 30, 'learning_rate': 0.2991961618916206, 'feature_fraction': 0.8901724174889525, 'bagging_fraction': 0.7737884399534997, 'bagging_freq': 5, 'lambda_l1': 2.147268545449047e-06, 'lambda_l2': 1.0305050066959539e-08, 'min_child_samples': 29, 'max_depth': 8, 'max_bin': 276, 'min_data_in_leaf': 27, 'extra_trees': False, 'early_stopping_rounds': 36, 'path_smooth': 0.7524843396074916, 'min_gain_to_split': 0.3701710509617548}\n"
     ]
    },
    {
     "name": "stderr",
     "output_type": "stream",
     "text": [
      "[I 2025-07-05 23:09:24,767] Trial 35 finished with value: 0.34067605212752894 and parameters: {'num_leaves': 27, 'learning_rate': 0.21446997261454515, 'feature_fraction': 0.8959166619576631, 'bagging_fraction': 0.7389288844489098, 'bagging_freq': 3, 'lambda_l1': 1.1593029857130162e-07, 'lambda_l2': 5.168627559548923e-08, 'min_child_samples': 26, 'max_depth': 8, 'max_bin': 378, 'min_data_in_leaf': 24, 'extra_trees': False, 'early_stopping_rounds': 44, 'path_smooth': 0.539533582251534, 'min_gain_to_split': 0.35258282270350727}. Best is trial 28 with value: 0.26926062778300813.\n"
     ]
    },
    {
     "name": "stdout",
     "output_type": "stream",
     "text": [
      "Mejor trial hasta ahora: RMSE=0.269261, Parámetros={'num_leaves': 30, 'learning_rate': 0.2991961618916206, 'feature_fraction': 0.8901724174889525, 'bagging_fraction': 0.7737884399534997, 'bagging_freq': 5, 'lambda_l1': 2.147268545449047e-06, 'lambda_l2': 1.0305050066959539e-08, 'min_child_samples': 29, 'max_depth': 8, 'max_bin': 276, 'min_data_in_leaf': 27, 'extra_trees': False, 'early_stopping_rounds': 36, 'path_smooth': 0.7524843396074916, 'min_gain_to_split': 0.3701710509617548}\n"
     ]
    },
    {
     "name": "stderr",
     "output_type": "stream",
     "text": [
      "[I 2025-07-05 23:16:23,740] Trial 36 finished with value: 0.7970120018720092 and parameters: {'num_leaves': 22, 'learning_rate': 0.10763072992886549, 'feature_fraction': 0.8550973261029757, 'bagging_fraction': 0.7361026701119784, 'bagging_freq': 4, 'lambda_l1': 1.5456178528728736e-07, 'lambda_l2': 1.4807793345337246e-06, 'min_child_samples': 25, 'max_depth': 6, 'max_bin': 324, 'min_data_in_leaf': 30, 'extra_trees': False, 'early_stopping_rounds': 44, 'path_smooth': 0.5409606592933014, 'min_gain_to_split': 0.35269833894086533}. Best is trial 28 with value: 0.26926062778300813.\n"
     ]
    },
    {
     "name": "stdout",
     "output_type": "stream",
     "text": [
      "Mejor trial hasta ahora: RMSE=0.269261, Parámetros={'num_leaves': 30, 'learning_rate': 0.2991961618916206, 'feature_fraction': 0.8901724174889525, 'bagging_fraction': 0.7737884399534997, 'bagging_freq': 5, 'lambda_l1': 2.147268545449047e-06, 'lambda_l2': 1.0305050066959539e-08, 'min_child_samples': 29, 'max_depth': 8, 'max_bin': 276, 'min_data_in_leaf': 27, 'extra_trees': False, 'early_stopping_rounds': 36, 'path_smooth': 0.7524843396074916, 'min_gain_to_split': 0.3701710509617548}\n"
     ]
    },
    {
     "name": "stderr",
     "output_type": "stream",
     "text": [
      "[I 2025-07-05 23:20:20,274] Trial 37 finished with value: 0.7977131773720196 and parameters: {'num_leaves': 35, 'learning_rate': 0.29985016358485456, 'feature_fraction': 0.8910943461770938, 'bagging_fraction': 0.7399396397959247, 'bagging_freq': 2, 'lambda_l1': 1.2856818249824451e-07, 'lambda_l2': 1.8420805737983464e-05, 'min_child_samples': 19, 'max_depth': 8, 'max_bin': 312, 'min_data_in_leaf': 28, 'extra_trees': True, 'early_stopping_rounds': 47, 'path_smooth': 0.3960763474746544, 'min_gain_to_split': 0.304377486364416}. Best is trial 28 with value: 0.26926062778300813.\n"
     ]
    },
    {
     "name": "stdout",
     "output_type": "stream",
     "text": [
      "Mejor trial hasta ahora: RMSE=0.269261, Parámetros={'num_leaves': 30, 'learning_rate': 0.2991961618916206, 'feature_fraction': 0.8901724174889525, 'bagging_fraction': 0.7737884399534997, 'bagging_freq': 5, 'lambda_l1': 2.147268545449047e-06, 'lambda_l2': 1.0305050066959539e-08, 'min_child_samples': 29, 'max_depth': 8, 'max_bin': 276, 'min_data_in_leaf': 27, 'extra_trees': False, 'early_stopping_rounds': 36, 'path_smooth': 0.7524843396074916, 'min_gain_to_split': 0.3701710509617548}\n"
     ]
    },
    {
     "name": "stderr",
     "output_type": "stream",
     "text": [
      "[I 2025-07-05 23:33:09,941] Trial 38 finished with value: 1.108818346649551 and parameters: {'num_leaves': 24, 'learning_rate': 0.023438240737944954, 'feature_fraction': 0.9595999531846413, 'bagging_fraction': 0.7109086631246534, 'bagging_freq': 5, 'lambda_l1': 7.295693849232215e-07, 'lambda_l2': 4.928984213093656e-08, 'min_child_samples': 16, 'max_depth': 7, 'max_bin': 423, 'min_data_in_leaf': 25, 'extra_trees': False, 'early_stopping_rounds': 42, 'path_smooth': 0.30938284048763026, 'min_gain_to_split': 0.24420010730820835}. Best is trial 28 with value: 0.26926062778300813.\n"
     ]
    },
    {
     "name": "stdout",
     "output_type": "stream",
     "text": [
      "Mejor trial hasta ahora: RMSE=0.269261, Parámetros={'num_leaves': 30, 'learning_rate': 0.2991961618916206, 'feature_fraction': 0.8901724174889525, 'bagging_fraction': 0.7737884399534997, 'bagging_freq': 5, 'lambda_l1': 2.147268545449047e-06, 'lambda_l2': 1.0305050066959539e-08, 'min_child_samples': 29, 'max_depth': 8, 'max_bin': 276, 'min_data_in_leaf': 27, 'extra_trees': False, 'early_stopping_rounds': 36, 'path_smooth': 0.7524843396074916, 'min_gain_to_split': 0.3701710509617548}\n"
     ]
    },
    {
     "name": "stderr",
     "output_type": "stream",
     "text": [
      "[I 2025-07-05 23:38:17,642] Trial 39 finished with value: 0.735351155547281 and parameters: {'num_leaves': 15, 'learning_rate': 0.2153857819033113, 'feature_fraction': 0.7855211120503487, 'bagging_fraction': 0.8071853115135906, 'bagging_freq': 7, 'lambda_l1': 1.6560750567432568e-05, 'lambda_l2': 0.02743335962981579, 'min_child_samples': 27, 'max_depth': 8, 'max_bin': 280, 'min_data_in_leaf': 38, 'extra_trees': False, 'early_stopping_rounds': 39, 'path_smooth': 0.7850504715497039, 'min_gain_to_split': 0.38976077739295956}. Best is trial 28 with value: 0.26926062778300813.\n"
     ]
    },
    {
     "name": "stdout",
     "output_type": "stream",
     "text": [
      "Mejor trial hasta ahora: RMSE=0.269261, Parámetros={'num_leaves': 30, 'learning_rate': 0.2991961618916206, 'feature_fraction': 0.8901724174889525, 'bagging_fraction': 0.7737884399534997, 'bagging_freq': 5, 'lambda_l1': 2.147268545449047e-06, 'lambda_l2': 1.0305050066959539e-08, 'min_child_samples': 29, 'max_depth': 8, 'max_bin': 276, 'min_data_in_leaf': 27, 'extra_trees': False, 'early_stopping_rounds': 36, 'path_smooth': 0.7524843396074916, 'min_gain_to_split': 0.3701710509617548}\n"
     ]
    },
    {
     "name": "stderr",
     "output_type": "stream",
     "text": [
      "[I 2025-07-05 23:43:21,051] Trial 40 finished with value: 0.8380631845348242 and parameters: {'num_leaves': 26, 'learning_rate': 0.15069602179274227, 'feature_fraction': 0.9868757953498479, 'bagging_fraction': 0.7275258044733751, 'bagging_freq': 4, 'lambda_l1': 3.056305671982887e-08, 'lambda_l2': 0.008009749024303358, 'min_child_samples': 21, 'max_depth': 7, 'max_bin': 479, 'min_data_in_leaf': 50, 'extra_trees': True, 'early_stopping_rounds': 49, 'path_smooth': 0.47260319732412404, 'min_gain_to_split': 0.3576722295367652}. Best is trial 28 with value: 0.26926062778300813.\n"
     ]
    },
    {
     "name": "stdout",
     "output_type": "stream",
     "text": [
      "Mejor trial hasta ahora: RMSE=0.269261, Parámetros={'num_leaves': 30, 'learning_rate': 0.2991961618916206, 'feature_fraction': 0.8901724174889525, 'bagging_fraction': 0.7737884399534997, 'bagging_freq': 5, 'lambda_l1': 2.147268545449047e-06, 'lambda_l2': 1.0305050066959539e-08, 'min_child_samples': 29, 'max_depth': 8, 'max_bin': 276, 'min_data_in_leaf': 27, 'extra_trees': False, 'early_stopping_rounds': 36, 'path_smooth': 0.7524843396074916, 'min_gain_to_split': 0.3701710509617548}\n"
     ]
    },
    {
     "name": "stderr",
     "output_type": "stream",
     "text": [
      "[I 2025-07-05 23:51:19,630] Trial 41 finished with value: 0.3427221068012295 and parameters: {'num_leaves': 43, 'learning_rate': 0.20714658046378873, 'feature_fraction': 0.9033488589350143, 'bagging_fraction': 0.7788689384240419, 'bagging_freq': 3, 'lambda_l1': 3.6100091486850166e-06, 'lambda_l2': 2.874240653987942e-08, 'min_child_samples': 30, 'max_depth': 10, 'max_bin': 372, 'min_data_in_leaf': 21, 'extra_trees': False, 'early_stopping_rounds': 36, 'path_smooth': 0.8372785624539623, 'min_gain_to_split': 0.47263358543807965}. Best is trial 28 with value: 0.26926062778300813.\n"
     ]
    },
    {
     "name": "stdout",
     "output_type": "stream",
     "text": [
      "Mejor trial hasta ahora: RMSE=0.269261, Parámetros={'num_leaves': 30, 'learning_rate': 0.2991961618916206, 'feature_fraction': 0.8901724174889525, 'bagging_fraction': 0.7737884399534997, 'bagging_freq': 5, 'lambda_l1': 2.147268545449047e-06, 'lambda_l2': 1.0305050066959539e-08, 'min_child_samples': 29, 'max_depth': 8, 'max_bin': 276, 'min_data_in_leaf': 27, 'extra_trees': False, 'early_stopping_rounds': 36, 'path_smooth': 0.7524843396074916, 'min_gain_to_split': 0.3701710509617548}\n"
     ]
    },
    {
     "name": "stderr",
     "output_type": "stream",
     "text": [
      "[I 2025-07-06 00:00:30,241] Trial 42 finished with value: 0.6900053693195927 and parameters: {'num_leaves': 37, 'learning_rate': 0.11241091251553136, 'feature_fraction': 0.9070250516013408, 'bagging_fraction': 0.7459747569433575, 'bagging_freq': 2, 'lambda_l1': 5.265196783085242e-07, 'lambda_l2': 2.987902146051075e-08, 'min_child_samples': 30, 'max_depth': 9, 'max_bin': 371, 'min_data_in_leaf': 23, 'extra_trees': False, 'early_stopping_rounds': 43, 'path_smooth': 0.8117647682986201, 'min_gain_to_split': 0.4276919039714308}. Best is trial 28 with value: 0.26926062778300813.\n"
     ]
    },
    {
     "name": "stdout",
     "output_type": "stream",
     "text": [
      "Mejor trial hasta ahora: RMSE=0.269261, Parámetros={'num_leaves': 30, 'learning_rate': 0.2991961618916206, 'feature_fraction': 0.8901724174889525, 'bagging_fraction': 0.7737884399534997, 'bagging_freq': 5, 'lambda_l1': 2.147268545449047e-06, 'lambda_l2': 1.0305050066959539e-08, 'min_child_samples': 29, 'max_depth': 8, 'max_bin': 276, 'min_data_in_leaf': 27, 'extra_trees': False, 'early_stopping_rounds': 36, 'path_smooth': 0.7524843396074916, 'min_gain_to_split': 0.3701710509617548}\n"
     ]
    },
    {
     "name": "stderr",
     "output_type": "stream",
     "text": [
      "[I 2025-07-06 00:06:33,693] Trial 43 finished with value: 0.42788248221710995 and parameters: {'num_leaves': 42, 'learning_rate': 0.24779058143048158, 'feature_fraction': 0.8708658993412852, 'bagging_fraction': 0.768174591428039, 'bagging_freq': 3, 'lambda_l1': 3.129439417016319e-06, 'lambda_l2': 8.652139631035169e-08, 'min_child_samples': 24, 'max_depth': 10, 'max_bin': 304, 'min_data_in_leaf': 33, 'extra_trees': False, 'early_stopping_rounds': 46, 'path_smooth': 0.7367221068509607, 'min_gain_to_split': 0.39959772875685967}. Best is trial 28 with value: 0.26926062778300813.\n"
     ]
    },
    {
     "name": "stdout",
     "output_type": "stream",
     "text": [
      "Mejor trial hasta ahora: RMSE=0.269261, Parámetros={'num_leaves': 30, 'learning_rate': 0.2991961618916206, 'feature_fraction': 0.8901724174889525, 'bagging_fraction': 0.7737884399534997, 'bagging_freq': 5, 'lambda_l1': 2.147268545449047e-06, 'lambda_l2': 1.0305050066959539e-08, 'min_child_samples': 29, 'max_depth': 8, 'max_bin': 276, 'min_data_in_leaf': 27, 'extra_trees': False, 'early_stopping_rounds': 36, 'path_smooth': 0.7524843396074916, 'min_gain_to_split': 0.3701710509617548}\n"
     ]
    },
    {
     "name": "stderr",
     "output_type": "stream",
     "text": [
      "[I 2025-07-06 00:32:19,646] Trial 44 finished with value: 1.0928192667308936 and parameters: {'num_leaves': 51, 'learning_rate': 0.01165841072784702, 'feature_fraction': 0.8463551978817409, 'bagging_fraction': 0.7496628006194601, 'bagging_freq': 1, 'lambda_l1': 0.00011192152451496694, 'lambda_l2': 0.0006877615707578116, 'min_child_samples': 34, 'max_depth': 9, 'max_bin': 404, 'min_data_in_leaf': 24, 'extra_trees': False, 'early_stopping_rounds': 31, 'path_smooth': 0.5900074387884566, 'min_gain_to_split': 0.4811891832928304}. Best is trial 28 with value: 0.26926062778300813.\n"
     ]
    },
    {
     "name": "stdout",
     "output_type": "stream",
     "text": [
      "Mejor trial hasta ahora: RMSE=0.269261, Parámetros={'num_leaves': 30, 'learning_rate': 0.2991961618916206, 'feature_fraction': 0.8901724174889525, 'bagging_fraction': 0.7737884399534997, 'bagging_freq': 5, 'lambda_l1': 2.147268545449047e-06, 'lambda_l2': 1.0305050066959539e-08, 'min_child_samples': 29, 'max_depth': 8, 'max_bin': 276, 'min_data_in_leaf': 27, 'extra_trees': False, 'early_stopping_rounds': 36, 'path_smooth': 0.7524843396074916, 'min_gain_to_split': 0.3701710509617548}\n"
     ]
    },
    {
     "name": "stderr",
     "output_type": "stream",
     "text": [
      "[I 2025-07-06 00:40:13,005] Trial 45 finished with value: 0.3730971176762873 and parameters: {'num_leaves': 33, 'learning_rate': 0.2019850481551982, 'feature_fraction': 0.9025235153939154, 'bagging_fraction': 0.7955572004589426, 'bagging_freq': 4, 'lambda_l1': 1.2867300138456734e-07, 'lambda_l2': 2.6449771511976083e-08, 'min_child_samples': 29, 'max_depth': 10, 'max_bin': 369, 'min_data_in_leaf': 31, 'extra_trees': False, 'early_stopping_rounds': 36, 'path_smooth': 0.6676638812434949, 'min_gain_to_split': 0.36706233256334464}. Best is trial 28 with value: 0.26926062778300813.\n"
     ]
    },
    {
     "name": "stdout",
     "output_type": "stream",
     "text": [
      "Mejor trial hasta ahora: RMSE=0.269261, Parámetros={'num_leaves': 30, 'learning_rate': 0.2991961618916206, 'feature_fraction': 0.8901724174889525, 'bagging_fraction': 0.7737884399534997, 'bagging_freq': 5, 'lambda_l1': 2.147268545449047e-06, 'lambda_l2': 1.0305050066959539e-08, 'min_child_samples': 29, 'max_depth': 8, 'max_bin': 276, 'min_data_in_leaf': 27, 'extra_trees': False, 'early_stopping_rounds': 36, 'path_smooth': 0.7524843396074916, 'min_gain_to_split': 0.3701710509617548}\n"
     ]
    },
    {
     "name": "stderr",
     "output_type": "stream",
     "text": [
      "[I 2025-07-06 00:46:29,185] Trial 46 finished with value: 0.8164026036426385 and parameters: {'num_leaves': 32, 'learning_rate': 0.20050801942784813, 'feature_fraction': 0.9751979091922345, 'bagging_fraction': 0.797984949965184, 'bagging_freq': 4, 'lambda_l1': 6.42423850959145e-08, 'lambda_l2': 2.5465429172941203e-08, 'min_child_samples': 28, 'max_depth': 5, 'max_bin': 338, 'min_data_in_leaf': 31, 'extra_trees': False, 'early_stopping_rounds': 35, 'path_smooth': 0.5237925986653981, 'min_gain_to_split': 0.2669270296257463}. Best is trial 28 with value: 0.26926062778300813.\n"
     ]
    },
    {
     "name": "stdout",
     "output_type": "stream",
     "text": [
      "Mejor trial hasta ahora: RMSE=0.269261, Parámetros={'num_leaves': 30, 'learning_rate': 0.2991961618916206, 'feature_fraction': 0.8901724174889525, 'bagging_fraction': 0.7737884399534997, 'bagging_freq': 5, 'lambda_l1': 2.147268545449047e-06, 'lambda_l2': 1.0305050066959539e-08, 'min_child_samples': 29, 'max_depth': 8, 'max_bin': 276, 'min_data_in_leaf': 27, 'extra_trees': False, 'early_stopping_rounds': 36, 'path_smooth': 0.7524843396074916, 'min_gain_to_split': 0.3701710509617548}\n"
     ]
    },
    {
     "name": "stderr",
     "output_type": "stream",
     "text": [
      "[I 2025-07-06 00:53:56,874] Trial 47 finished with value: 0.4345389664340412 and parameters: {'num_leaves': 19, 'learning_rate': 0.25035226323856963, 'feature_fraction': 0.9027155408658344, 'bagging_fraction': 0.823940920450503, 'bagging_freq': 3, 'lambda_l1': 1.1875218793760709e-07, 'lambda_l2': 1.86574830609858e-07, 'min_child_samples': 25, 'max_depth': 10, 'max_bin': 369, 'min_data_in_leaf': 21, 'extra_trees': False, 'early_stopping_rounds': 37, 'path_smooth': 0.6686127065508276, 'min_gain_to_split': 0.318349204721383}. Best is trial 28 with value: 0.26926062778300813.\n"
     ]
    },
    {
     "name": "stdout",
     "output_type": "stream",
     "text": [
      "Mejor trial hasta ahora: RMSE=0.269261, Parámetros={'num_leaves': 30, 'learning_rate': 0.2991961618916206, 'feature_fraction': 0.8901724174889525, 'bagging_fraction': 0.7737884399534997, 'bagging_freq': 5, 'lambda_l1': 2.147268545449047e-06, 'lambda_l2': 1.0305050066959539e-08, 'min_child_samples': 29, 'max_depth': 8, 'max_bin': 276, 'min_data_in_leaf': 27, 'extra_trees': False, 'early_stopping_rounds': 36, 'path_smooth': 0.7524843396074916, 'min_gain_to_split': 0.3701710509617548}\n"
     ]
    },
    {
     "name": "stderr",
     "output_type": "stream",
     "text": [
      "[I 2025-07-06 01:00:47,437] Trial 48 finished with value: 1.0343725226186322 and parameters: {'num_leaves': 57, 'learning_rate': 0.0491949009626429, 'feature_fraction': 0.9246442608426831, 'bagging_fraction': 0.8504754223097886, 'bagging_freq': 5, 'lambda_l1': 4.04104388220241e-06, 'lambda_l2': 7.165536819889694e-08, 'min_child_samples': 35, 'max_depth': 5, 'max_bin': 201, 'min_data_in_leaf': 28, 'extra_trees': False, 'early_stopping_rounds': 41, 'path_smooth': 0.6131955214285293, 'min_gain_to_split': 0.3674715442516878}. Best is trial 28 with value: 0.26926062778300813.\n"
     ]
    },
    {
     "name": "stdout",
     "output_type": "stream",
     "text": [
      "Mejor trial hasta ahora: RMSE=0.269261, Parámetros={'num_leaves': 30, 'learning_rate': 0.2991961618916206, 'feature_fraction': 0.8901724174889525, 'bagging_fraction': 0.7737884399534997, 'bagging_freq': 5, 'lambda_l1': 2.147268545449047e-06, 'lambda_l2': 1.0305050066959539e-08, 'min_child_samples': 29, 'max_depth': 8, 'max_bin': 276, 'min_data_in_leaf': 27, 'extra_trees': False, 'early_stopping_rounds': 36, 'path_smooth': 0.7524843396074916, 'min_gain_to_split': 0.3701710509617548}\n"
     ]
    },
    {
     "name": "stderr",
     "output_type": "stream",
     "text": [
      "[I 2025-07-06 01:07:08,146] Trial 49 finished with value: 0.6621820246242445 and parameters: {'num_leaves': 41, 'learning_rate': 0.145638456230674, 'feature_fraction': 0.7092466392724551, 'bagging_fraction': 0.811202266143938, 'bagging_freq': 4, 'lambda_l1': 1.7166549527463167e-05, 'lambda_l2': 1.200150177088079e-06, 'min_child_samples': 30, 'max_depth': 6, 'max_bin': 313, 'min_data_in_leaf': 40, 'extra_trees': False, 'early_stopping_rounds': 36, 'path_smooth': 0.3628961684839819, 'min_gain_to_split': 0.34326167088085713}. Best is trial 28 with value: 0.26926062778300813.\n"
     ]
    },
    {
     "name": "stdout",
     "output_type": "stream",
     "text": [
      "Mejor trial hasta ahora: RMSE=0.269261, Parámetros={'num_leaves': 30, 'learning_rate': 0.2991961618916206, 'feature_fraction': 0.8901724174889525, 'bagging_fraction': 0.7737884399534997, 'bagging_freq': 5, 'lambda_l1': 2.147268545449047e-06, 'lambda_l2': 1.0305050066959539e-08, 'min_child_samples': 29, 'max_depth': 8, 'max_bin': 276, 'min_data_in_leaf': 27, 'extra_trees': False, 'early_stopping_rounds': 36, 'path_smooth': 0.7524843396074916, 'min_gain_to_split': 0.3701710509617548}\n"
     ]
    },
    {
     "name": "stderr",
     "output_type": "stream",
     "text": [
      "[I 2025-07-06 01:13:03,339] Trial 50 finished with value: 0.8958046681202445 and parameters: {'num_leaves': 34, 'learning_rate': 0.12359792587340555, 'feature_fraction': 0.6640550023156483, 'bagging_fraction': 0.7206975543621317, 'bagging_freq': 3, 'lambda_l1': 2.4710395146281825, 'lambda_l2': 1.1050615117592468e-08, 'min_child_samples': 13, 'max_depth': 10, 'max_bin': 345, 'min_data_in_leaf': 23, 'extra_trees': False, 'early_stopping_rounds': 39, 'path_smooth': 0.6633567175339958, 'min_gain_to_split': 0.3991235100164677}. Best is trial 28 with value: 0.26926062778300813.\n"
     ]
    },
    {
     "name": "stdout",
     "output_type": "stream",
     "text": [
      "Mejor trial hasta ahora: RMSE=0.269261, Parámetros={'num_leaves': 30, 'learning_rate': 0.2991961618916206, 'feature_fraction': 0.8901724174889525, 'bagging_fraction': 0.7737884399534997, 'bagging_freq': 5, 'lambda_l1': 2.147268545449047e-06, 'lambda_l2': 1.0305050066959539e-08, 'min_child_samples': 29, 'max_depth': 8, 'max_bin': 276, 'min_data_in_leaf': 27, 'extra_trees': False, 'early_stopping_rounds': 36, 'path_smooth': 0.7524843396074916, 'min_gain_to_split': 0.3701710509617548}\n"
     ]
    },
    {
     "name": "stderr",
     "output_type": "stream",
     "text": [
      "[I 2025-07-06 01:22:32,719] Trial 51 finished with value: 0.5185488923252194 and parameters: {'num_leaves': 28, 'learning_rate': 0.17256051724146887, 'feature_fraction': 0.8273105427076293, 'bagging_fraction': 0.7707045957784178, 'bagging_freq': 5, 'lambda_l1': 2.234494677948992e-07, 'lambda_l2': 2.590518535033964e-08, 'min_child_samples': 27, 'max_depth': 9, 'max_bin': 392, 'min_data_in_leaf': 44, 'extra_trees': False, 'early_stopping_rounds': 27, 'path_smooth': 0.8223871630618764, 'min_gain_to_split': 0.13861520382398357}. Best is trial 28 with value: 0.26926062778300813.\n"
     ]
    },
    {
     "name": "stdout",
     "output_type": "stream",
     "text": [
      "Mejor trial hasta ahora: RMSE=0.269261, Parámetros={'num_leaves': 30, 'learning_rate': 0.2991961618916206, 'feature_fraction': 0.8901724174889525, 'bagging_fraction': 0.7737884399534997, 'bagging_freq': 5, 'lambda_l1': 2.147268545449047e-06, 'lambda_l2': 1.0305050066959539e-08, 'min_child_samples': 29, 'max_depth': 8, 'max_bin': 276, 'min_data_in_leaf': 27, 'extra_trees': False, 'early_stopping_rounds': 36, 'path_smooth': 0.7524843396074916, 'min_gain_to_split': 0.3701710509617548}\n"
     ]
    },
    {
     "name": "stderr",
     "output_type": "stream",
     "text": [
      "[I 2025-07-06 01:29:49,650] Trial 52 finished with value: 0.7349655410916266 and parameters: {'num_leaves': 20, 'learning_rate': 0.15930934001242222, 'feature_fraction': 0.883070002984652, 'bagging_fraction': 0.7873490227529942, 'bagging_freq': 10, 'lambda_l1': 2.129621552115474e-08, 'lambda_l2': 2.408458130533544e-07, 'min_child_samples': 33, 'max_depth': 10, 'max_bin': 437, 'min_data_in_leaf': 57, 'extra_trees': False, 'early_stopping_rounds': 29, 'path_smooth': 0.6993070742804967, 'min_gain_to_split': 0.42729835747886385}. Best is trial 28 with value: 0.26926062778300813.\n"
     ]
    },
    {
     "name": "stdout",
     "output_type": "stream",
     "text": [
      "Mejor trial hasta ahora: RMSE=0.269261, Parámetros={'num_leaves': 30, 'learning_rate': 0.2991961618916206, 'feature_fraction': 0.8901724174889525, 'bagging_fraction': 0.7737884399534997, 'bagging_freq': 5, 'lambda_l1': 2.147268545449047e-06, 'lambda_l2': 1.0305050066959539e-08, 'min_child_samples': 29, 'max_depth': 8, 'max_bin': 276, 'min_data_in_leaf': 27, 'extra_trees': False, 'early_stopping_rounds': 36, 'path_smooth': 0.7524843396074916, 'min_gain_to_split': 0.3701710509617548}\n"
     ]
    },
    {
     "name": "stderr",
     "output_type": "stream",
     "text": [
      "[I 2025-07-06 01:35:41,163] Trial 53 finished with value: 0.566461296725723 and parameters: {'num_leaves': 38, 'learning_rate': 0.2098306139872246, 'feature_fraction': 0.7698307604411243, 'bagging_fraction': 0.9710791854934205, 'bagging_freq': 4, 'lambda_l1': 7.808182457674704e-07, 'lambda_l2': 0.09809090671802954, 'min_child_samples': 30, 'max_depth': 9, 'max_bin': 289, 'min_data_in_leaf': 97, 'extra_trees': False, 'early_stopping_rounds': 33, 'path_smooth': 0.9108128722708995, 'min_gain_to_split': 0.3704332146129953}. Best is trial 28 with value: 0.26926062778300813.\n"
     ]
    },
    {
     "name": "stdout",
     "output_type": "stream",
     "text": [
      "Mejor trial hasta ahora: RMSE=0.269261, Parámetros={'num_leaves': 30, 'learning_rate': 0.2991961618916206, 'feature_fraction': 0.8901724174889525, 'bagging_fraction': 0.7737884399534997, 'bagging_freq': 5, 'lambda_l1': 2.147268545449047e-06, 'lambda_l2': 1.0305050066959539e-08, 'min_child_samples': 29, 'max_depth': 8, 'max_bin': 276, 'min_data_in_leaf': 27, 'extra_trees': False, 'early_stopping_rounds': 36, 'path_smooth': 0.7524843396074916, 'min_gain_to_split': 0.3701710509617548}\n"
     ]
    },
    {
     "name": "stderr",
     "output_type": "stream",
     "text": [
      "[I 2025-07-06 01:41:45,724] Trial 54 finished with value: 0.4657641467656223 and parameters: {'num_leaves': 59, 'learning_rate': 0.2553648354935014, 'feature_fraction': 0.8487688217871243, 'bagging_fraction': 0.8317714096963499, 'bagging_freq': 2, 'lambda_l1': 1.0250286838033982e-07, 'lambda_l2': 1.3781387889409338, 'min_child_samples': 36, 'max_depth': 8, 'max_bin': 371, 'min_data_in_leaf': 32, 'extra_trees': False, 'early_stopping_rounds': 24, 'path_smooth': 0.7628050039202918, 'min_gain_to_split': 0.4782098127995924}. Best is trial 28 with value: 0.26926062778300813.\n"
     ]
    },
    {
     "name": "stdout",
     "output_type": "stream",
     "text": [
      "Mejor trial hasta ahora: RMSE=0.269261, Parámetros={'num_leaves': 30, 'learning_rate': 0.2991961618916206, 'feature_fraction': 0.8901724174889525, 'bagging_fraction': 0.7737884399534997, 'bagging_freq': 5, 'lambda_l1': 2.147268545449047e-06, 'lambda_l2': 1.0305050066959539e-08, 'min_child_samples': 29, 'max_depth': 8, 'max_bin': 276, 'min_data_in_leaf': 27, 'extra_trees': False, 'early_stopping_rounds': 36, 'path_smooth': 0.7524843396074916, 'min_gain_to_split': 0.3701710509617548}\n"
     ]
    },
    {
     "name": "stderr",
     "output_type": "stream",
     "text": [
      "[I 2025-07-06 01:49:46,078] Trial 55 finished with value: 0.5744195226387593 and parameters: {'num_leaves': 96, 'learning_rate': 0.19194003462184062, 'feature_fraction': 0.9384547582870905, 'bagging_fraction': 0.9269453815311779, 'bagging_freq': 6, 'lambda_l1': 1.8371990713399131e-06, 'lambda_l2': 5.344536495041805e-05, 'min_child_samples': 28, 'max_depth': 9, 'max_bin': 500, 'min_data_in_leaf': 27, 'extra_trees': False, 'early_stopping_rounds': 40, 'path_smooth': 0.9424287245151237, 'min_gain_to_split': 0.4356685484932318}. Best is trial 28 with value: 0.26926062778300813.\n"
     ]
    },
    {
     "name": "stdout",
     "output_type": "stream",
     "text": [
      "Mejor trial hasta ahora: RMSE=0.269261, Parámetros={'num_leaves': 30, 'learning_rate': 0.2991961618916206, 'feature_fraction': 0.8901724174889525, 'bagging_fraction': 0.7737884399534997, 'bagging_freq': 5, 'lambda_l1': 2.147268545449047e-06, 'lambda_l2': 1.0305050066959539e-08, 'min_child_samples': 29, 'max_depth': 8, 'max_bin': 276, 'min_data_in_leaf': 27, 'extra_trees': False, 'early_stopping_rounds': 36, 'path_smooth': 0.7524843396074916, 'min_gain_to_split': 0.3701710509617548}\n"
     ]
    },
    {
     "name": "stderr",
     "output_type": "stream",
     "text": [
      "[I 2025-07-06 01:54:31,628] Trial 56 finished with value: 0.9907629554434767 and parameters: {'num_leaves': 28, 'learning_rate': 0.1340094283438352, 'feature_fraction': 0.8314170981371172, 'bagging_fraction': 0.7047633686841669, 'bagging_freq': 9, 'lambda_l1': 1.0966014596844668e-08, 'lambda_l2': 0.006059453078478229, 'min_child_samples': 39, 'max_depth': 10, 'max_bin': 478, 'min_data_in_leaf': 35, 'extra_trees': True, 'early_stopping_rounds': 43, 'path_smooth': 0.5249071031079222, 'min_gain_to_split': 0.399046063727832}. Best is trial 28 with value: 0.26926062778300813.\n"
     ]
    },
    {
     "name": "stdout",
     "output_type": "stream",
     "text": [
      "Mejor trial hasta ahora: RMSE=0.269261, Parámetros={'num_leaves': 30, 'learning_rate': 0.2991961618916206, 'feature_fraction': 0.8901724174889525, 'bagging_fraction': 0.7737884399534997, 'bagging_freq': 5, 'lambda_l1': 2.147268545449047e-06, 'lambda_l2': 1.0305050066959539e-08, 'min_child_samples': 29, 'max_depth': 8, 'max_bin': 276, 'min_data_in_leaf': 27, 'extra_trees': False, 'early_stopping_rounds': 36, 'path_smooth': 0.7524843396074916, 'min_gain_to_split': 0.3701710509617548}\n"
     ]
    },
    {
     "name": "stderr",
     "output_type": "stream",
     "text": [
      "[I 2025-07-06 02:01:19,453] Trial 57 finished with value: 0.6197397477776051 and parameters: {'num_leaves': 74, 'learning_rate': 0.2391509719047981, 'feature_fraction': 0.8724262607499542, 'bagging_fraction': 0.79488119936826, 'bagging_freq': 2, 'lambda_l1': 7.867864018132563e-06, 'lambda_l2': 2.0343405678510375e-08, 'min_child_samples': 31, 'max_depth': 9, 'max_bin': 420, 'min_data_in_leaf': 67, 'extra_trees': False, 'early_stopping_rounds': 30, 'path_smooth': 0.4637241421721035, 'min_gain_to_split': 0.33183026031239315}. Best is trial 28 with value: 0.26926062778300813.\n"
     ]
    },
    {
     "name": "stdout",
     "output_type": "stream",
     "text": [
      "Mejor trial hasta ahora: RMSE=0.269261, Parámetros={'num_leaves': 30, 'learning_rate': 0.2991961618916206, 'feature_fraction': 0.8901724174889525, 'bagging_fraction': 0.7737884399534997, 'bagging_freq': 5, 'lambda_l1': 2.147268545449047e-06, 'lambda_l2': 1.0305050066959539e-08, 'min_child_samples': 29, 'max_depth': 8, 'max_bin': 276, 'min_data_in_leaf': 27, 'extra_trees': False, 'early_stopping_rounds': 36, 'path_smooth': 0.7524843396074916, 'min_gain_to_split': 0.3701710509617548}\n"
     ]
    },
    {
     "name": "stderr",
     "output_type": "stream",
     "text": [
      "[I 2025-07-06 02:06:49,294] Trial 58 finished with value: 0.7266631517927274 and parameters: {'num_leaves': 34, 'learning_rate': 0.16823161854155783, 'feature_fraction': 0.9169766978028349, 'bagging_fraction': 0.9480403252727198, 'bagging_freq': 5, 'lambda_l1': 4.243376272717984e-07, 'lambda_l2': 1.3088297368997705e-07, 'min_child_samples': 34, 'max_depth': 8, 'max_bin': 259, 'min_data_in_leaf': 40, 'extra_trees': False, 'early_stopping_rounds': 10, 'path_smooth': 0.8749293496430386, 'min_gain_to_split': 0.46284985111679183}. Best is trial 28 with value: 0.26926062778300813.\n"
     ]
    },
    {
     "name": "stdout",
     "output_type": "stream",
     "text": [
      "Mejor trial hasta ahora: RMSE=0.269261, Parámetros={'num_leaves': 30, 'learning_rate': 0.2991961618916206, 'feature_fraction': 0.8901724174889525, 'bagging_fraction': 0.7737884399534997, 'bagging_freq': 5, 'lambda_l1': 2.147268545449047e-06, 'lambda_l2': 1.0305050066959539e-08, 'min_child_samples': 29, 'max_depth': 8, 'max_bin': 276, 'min_data_in_leaf': 27, 'extra_trees': False, 'early_stopping_rounds': 36, 'path_smooth': 0.7524843396074916, 'min_gain_to_split': 0.3701710509617548}\n"
     ]
    },
    {
     "name": "stderr",
     "output_type": "stream",
     "text": [
      "[I 2025-07-06 02:13:34,489] Trial 59 finished with value: 0.41961647616002795 and parameters: {'num_leaves': 50, 'learning_rate': 0.11851389035752774, 'feature_fraction': 0.8957522021952322, 'bagging_fraction': 0.759769790098679, 'bagging_freq': 4, 'lambda_l1': 4.126965124986922e-08, 'lambda_l2': 5.057798938836978e-08, 'min_child_samples': 21, 'max_depth': 10, 'max_bin': 212, 'min_data_in_leaf': 47, 'extra_trees': False, 'early_stopping_rounds': 34, 'path_smooth': 0.6070540622084205, 'min_gain_to_split': 0.4118320715763127}. Best is trial 28 with value: 0.26926062778300813.\n"
     ]
    },
    {
     "name": "stdout",
     "output_type": "stream",
     "text": [
      "Mejor trial hasta ahora: RMSE=0.269261, Parámetros={'num_leaves': 30, 'learning_rate': 0.2991961618916206, 'feature_fraction': 0.8901724174889525, 'bagging_fraction': 0.7737884399534997, 'bagging_freq': 5, 'lambda_l1': 2.147268545449047e-06, 'lambda_l2': 1.0305050066959539e-08, 'min_child_samples': 29, 'max_depth': 8, 'max_bin': 276, 'min_data_in_leaf': 27, 'extra_trees': False, 'early_stopping_rounds': 36, 'path_smooth': 0.7524843396074916, 'min_gain_to_split': 0.3701710509617548}\n"
     ]
    },
    {
     "name": "stderr",
     "output_type": "stream",
     "text": [
      "[I 2025-07-06 02:22:22,698] Trial 60 finished with value: 0.8001660725493593 and parameters: {'num_leaves': 24, 'learning_rate': 0.09385463432696416, 'feature_fraction': 0.8186808142041505, 'bagging_fraction': 0.7745612607140293, 'bagging_freq': 8, 'lambda_l1': 3.434677408669549e-05, 'lambda_l2': 3.7644546943191462e-06, 'min_child_samples': 47, 'max_depth': 10, 'max_bin': 349, 'min_data_in_leaf': 51, 'extra_trees': False, 'early_stopping_rounds': 37, 'path_smooth': 0.7403427755113394, 'min_gain_to_split': 0.3071143835146343}. Best is trial 28 with value: 0.26926062778300813.\n"
     ]
    },
    {
     "name": "stdout",
     "output_type": "stream",
     "text": [
      "Mejor trial hasta ahora: RMSE=0.269261, Parámetros={'num_leaves': 30, 'learning_rate': 0.2991961618916206, 'feature_fraction': 0.8901724174889525, 'bagging_fraction': 0.7737884399534997, 'bagging_freq': 5, 'lambda_l1': 2.147268545449047e-06, 'lambda_l2': 1.0305050066959539e-08, 'min_child_samples': 29, 'max_depth': 8, 'max_bin': 276, 'min_data_in_leaf': 27, 'extra_trees': False, 'early_stopping_rounds': 36, 'path_smooth': 0.7524843396074916, 'min_gain_to_split': 0.3701710509617548}\n"
     ]
    },
    {
     "name": "stderr",
     "output_type": "stream",
     "text": [
      "[I 2025-07-06 02:29:35,121] Trial 61 finished with value: 0.3637977270320718 and parameters: {'num_leaves': 45, 'learning_rate': 0.20308784320772336, 'feature_fraction': 0.8817550159228024, 'bagging_fraction': 0.7829643360530181, 'bagging_freq': 3, 'lambda_l1': 1.3957561882989217e-06, 'lambda_l2': 3.6076937761337826e-08, 'min_child_samples': 32, 'max_depth': 10, 'max_bin': 390, 'min_data_in_leaf': 22, 'extra_trees': False, 'early_stopping_rounds': 36, 'path_smooth': 0.8259179397622982, 'min_gain_to_split': 0.4523877375755239}. Best is trial 28 with value: 0.26926062778300813.\n"
     ]
    },
    {
     "name": "stdout",
     "output_type": "stream",
     "text": [
      "Mejor trial hasta ahora: RMSE=0.269261, Parámetros={'num_leaves': 30, 'learning_rate': 0.2991961618916206, 'feature_fraction': 0.8901724174889525, 'bagging_fraction': 0.7737884399534997, 'bagging_freq': 5, 'lambda_l1': 2.147268545449047e-06, 'lambda_l2': 1.0305050066959539e-08, 'min_child_samples': 29, 'max_depth': 8, 'max_bin': 276, 'min_data_in_leaf': 27, 'extra_trees': False, 'early_stopping_rounds': 36, 'path_smooth': 0.7524843396074916, 'min_gain_to_split': 0.3701710509617548}\n"
     ]
    },
    {
     "name": "stderr",
     "output_type": "stream",
     "text": [
      "[I 2025-07-06 02:36:19,849] Trial 62 finished with value: 0.42433703231959397 and parameters: {'num_leaves': 42, 'learning_rate': 0.1993666095108187, 'feature_fraction': 0.8619580380150824, 'bagging_fraction': 0.8154600402019156, 'bagging_freq': 3, 'lambda_l1': 0.0011527376485851175, 'lambda_l2': 1.0689535892974084e-08, 'min_child_samples': 31, 'max_depth': 10, 'max_bin': 371, 'min_data_in_leaf': 23, 'extra_trees': False, 'early_stopping_rounds': 39, 'path_smooth': 0.812926914599069, 'min_gain_to_split': 0.48973044159830276}. Best is trial 28 with value: 0.26926062778300813.\n"
     ]
    },
    {
     "name": "stdout",
     "output_type": "stream",
     "text": [
      "Mejor trial hasta ahora: RMSE=0.269261, Parámetros={'num_leaves': 30, 'learning_rate': 0.2991961618916206, 'feature_fraction': 0.8901724174889525, 'bagging_fraction': 0.7737884399534997, 'bagging_freq': 5, 'lambda_l1': 2.147268545449047e-06, 'lambda_l2': 1.0305050066959539e-08, 'min_child_samples': 29, 'max_depth': 8, 'max_bin': 276, 'min_data_in_leaf': 27, 'extra_trees': False, 'early_stopping_rounds': 36, 'path_smooth': 0.7524843396074916, 'min_gain_to_split': 0.3701710509617548}\n"
     ]
    },
    {
     "name": "stderr",
     "output_type": "stream",
     "text": [
      "[I 2025-07-06 02:42:57,999] Trial 63 finished with value: 0.3355342702473079 and parameters: {'num_leaves': 56, 'learning_rate': 0.2652380557793671, 'feature_fraction': 0.8829965170841408, 'bagging_fraction': 0.8388744525358567, 'bagging_freq': 3, 'lambda_l1': 9.072889715818116e-07, 'lambda_l2': 1.0635229909971835e-07, 'min_child_samples': 33, 'max_depth': 9, 'max_bin': 399, 'min_data_in_leaf': 29, 'extra_trees': False, 'early_stopping_rounds': 32, 'path_smooth': 0.8656815385554905, 'min_gain_to_split': 0.4405825119393362}. Best is trial 28 with value: 0.26926062778300813.\n"
     ]
    },
    {
     "name": "stdout",
     "output_type": "stream",
     "text": [
      "Mejor trial hasta ahora: RMSE=0.269261, Parámetros={'num_leaves': 30, 'learning_rate': 0.2991961618916206, 'feature_fraction': 0.8901724174889525, 'bagging_fraction': 0.7737884399534997, 'bagging_freq': 5, 'lambda_l1': 2.147268545449047e-06, 'lambda_l2': 1.0305050066959539e-08, 'min_child_samples': 29, 'max_depth': 8, 'max_bin': 276, 'min_data_in_leaf': 27, 'extra_trees': False, 'early_stopping_rounds': 36, 'path_smooth': 0.7524843396074916, 'min_gain_to_split': 0.3701710509617548}\n"
     ]
    },
    {
     "name": "stderr",
     "output_type": "stream",
     "text": [
      "[I 2025-07-06 02:49:19,437] Trial 64 finished with value: 0.319685265313506 and parameters: {'num_leaves': 61, 'learning_rate': 0.2793396267965363, 'feature_fraction': 0.9158384413506081, 'bagging_fraction': 0.8618950679492526, 'bagging_freq': 3, 'lambda_l1': 9.787827392514278e-07, 'lambda_l2': 9.078136333920325e-08, 'min_child_samples': 36, 'max_depth': 9, 'max_bin': 397, 'min_data_in_leaf': 30, 'extra_trees': False, 'early_stopping_rounds': 32, 'path_smooth': 0.8620266415622302, 'min_gain_to_split': 0.4518875320282348}. Best is trial 28 with value: 0.26926062778300813.\n"
     ]
    },
    {
     "name": "stdout",
     "output_type": "stream",
     "text": [
      "Mejor trial hasta ahora: RMSE=0.269261, Parámetros={'num_leaves': 30, 'learning_rate': 0.2991961618916206, 'feature_fraction': 0.8901724174889525, 'bagging_fraction': 0.7737884399534997, 'bagging_freq': 5, 'lambda_l1': 2.147268545449047e-06, 'lambda_l2': 1.0305050066959539e-08, 'min_child_samples': 29, 'max_depth': 8, 'max_bin': 276, 'min_data_in_leaf': 27, 'extra_trees': False, 'early_stopping_rounds': 36, 'path_smooth': 0.7524843396074916, 'min_gain_to_split': 0.3701710509617548}\n"
     ]
    },
    {
     "name": "stderr",
     "output_type": "stream",
     "text": [
      "[I 2025-07-06 02:55:49,094] Trial 65 finished with value: 0.2895261013348796 and parameters: {'num_leaves': 55, 'learning_rate': 0.29554923178743886, 'feature_fraction': 0.931944064204954, 'bagging_fraction': 0.8633608387334546, 'bagging_freq': 1, 'lambda_l1': 8.118862433999654e-05, 'lambda_l2': 1.0163686390139758e-07, 'min_child_samples': 41, 'max_depth': 9, 'max_bin': 394, 'min_data_in_leaf': 28, 'extra_trees': False, 'early_stopping_rounds': 32, 'path_smooth': 0.8684109071494264, 'min_gain_to_split': 0.45639440990393476}. Best is trial 28 with value: 0.26926062778300813.\n"
     ]
    },
    {
     "name": "stdout",
     "output_type": "stream",
     "text": [
      "Mejor trial hasta ahora: RMSE=0.269261, Parámetros={'num_leaves': 30, 'learning_rate': 0.2991961618916206, 'feature_fraction': 0.8901724174889525, 'bagging_fraction': 0.7737884399534997, 'bagging_freq': 5, 'lambda_l1': 2.147268545449047e-06, 'lambda_l2': 1.0305050066959539e-08, 'min_child_samples': 29, 'max_depth': 8, 'max_bin': 276, 'min_data_in_leaf': 27, 'extra_trees': False, 'early_stopping_rounds': 36, 'path_smooth': 0.7524843396074916, 'min_gain_to_split': 0.3701710509617548}\n"
     ]
    },
    {
     "name": "stderr",
     "output_type": "stream",
     "text": [
      "[I 2025-07-06 03:02:15,264] Trial 66 finished with value: 0.2896419203233048 and parameters: {'num_leaves': 61, 'learning_rate': 0.2708529948610029, 'feature_fraction': 0.9293528428708958, 'bagging_fraction': 0.8581053881905379, 'bagging_freq': 1, 'lambda_l1': 9.330403685223124e-05, 'lambda_l2': 4.5648566837219336e-07, 'min_child_samples': 41, 'max_depth': 8, 'max_bin': 409, 'min_data_in_leaf': 28, 'extra_trees': False, 'early_stopping_rounds': 31, 'path_smooth': 0.941920797469879, 'min_gain_to_split': 0.4986347104029565}. Best is trial 28 with value: 0.26926062778300813.\n"
     ]
    },
    {
     "name": "stdout",
     "output_type": "stream",
     "text": [
      "Mejor trial hasta ahora: RMSE=0.269261, Parámetros={'num_leaves': 30, 'learning_rate': 0.2991961618916206, 'feature_fraction': 0.8901724174889525, 'bagging_fraction': 0.7737884399534997, 'bagging_freq': 5, 'lambda_l1': 2.147268545449047e-06, 'lambda_l2': 1.0305050066959539e-08, 'min_child_samples': 29, 'max_depth': 8, 'max_bin': 276, 'min_data_in_leaf': 27, 'extra_trees': False, 'early_stopping_rounds': 36, 'path_smooth': 0.7524843396074916, 'min_gain_to_split': 0.3701710509617548}\n"
     ]
    },
    {
     "name": "stderr",
     "output_type": "stream",
     "text": [
      "[I 2025-07-06 03:08:49,114] Trial 67 finished with value: 0.46026557816629426 and parameters: {'num_leaves': 56, 'learning_rate': 0.2656046250775513, 'feature_fraction': 0.9991027051058413, 'bagging_fraction': 0.8623005188970113, 'bagging_freq': 1, 'lambda_l1': 0.0002030588711553906, 'lambda_l2': 3.8840009098455173e-07, 'min_child_samples': 45, 'max_depth': 8, 'max_bin': 409, 'min_data_in_leaf': 28, 'extra_trees': False, 'early_stopping_rounds': 31, 'path_smooth': 0.988389374857231, 'min_gain_to_split': 0.4972134290706848}. Best is trial 28 with value: 0.26926062778300813.\n"
     ]
    },
    {
     "name": "stdout",
     "output_type": "stream",
     "text": [
      "Mejor trial hasta ahora: RMSE=0.269261, Parámetros={'num_leaves': 30, 'learning_rate': 0.2991961618916206, 'feature_fraction': 0.8901724174889525, 'bagging_fraction': 0.7737884399534997, 'bagging_freq': 5, 'lambda_l1': 2.147268545449047e-06, 'lambda_l2': 1.0305050066959539e-08, 'min_child_samples': 29, 'max_depth': 8, 'max_bin': 276, 'min_data_in_leaf': 27, 'extra_trees': False, 'early_stopping_rounds': 36, 'path_smooth': 0.7524843396074916, 'min_gain_to_split': 0.3701710509617548}\n"
     ]
    },
    {
     "name": "stderr",
     "output_type": "stream",
     "text": [
      "[I 2025-07-06 03:13:33,946] Trial 68 finished with value: 0.7948450005724836 and parameters: {'num_leaves': 60, 'learning_rate': 0.2906021825356012, 'feature_fraction': 0.9271400702566026, 'bagging_fraction': 0.8591510095751399, 'bagging_freq': 1, 'lambda_l1': 0.0007972086903846655, 'lambda_l2': 1.1116880612589544e-07, 'min_child_samples': 44, 'max_depth': 7, 'max_bin': 434, 'min_data_in_leaf': 25, 'extra_trees': True, 'early_stopping_rounds': 28, 'path_smooth': 0.944514040182645, 'min_gain_to_split': 0.4727598203681727}. Best is trial 28 with value: 0.26926062778300813.\n"
     ]
    },
    {
     "name": "stdout",
     "output_type": "stream",
     "text": [
      "Mejor trial hasta ahora: RMSE=0.269261, Parámetros={'num_leaves': 30, 'learning_rate': 0.2991961618916206, 'feature_fraction': 0.8901724174889525, 'bagging_fraction': 0.7737884399534997, 'bagging_freq': 5, 'lambda_l1': 2.147268545449047e-06, 'lambda_l2': 1.0305050066959539e-08, 'min_child_samples': 29, 'max_depth': 8, 'max_bin': 276, 'min_data_in_leaf': 27, 'extra_trees': False, 'early_stopping_rounds': 36, 'path_smooth': 0.7524843396074916, 'min_gain_to_split': 0.3701710509617548}\n"
     ]
    },
    {
     "name": "stderr",
     "output_type": "stream",
     "text": [
      "[I 2025-07-06 03:20:28,682] Trial 69 finished with value: 0.564177523759995 and parameters: {'num_leaves': 54, 'learning_rate': 0.2726788754416164, 'feature_fraction': 0.9451226701789733, 'bagging_fraction': 0.888860468228013, 'bagging_freq': 1, 'lambda_l1': 8.35954194815652e-05, 'lambda_l2': 9.184863446514726e-07, 'min_child_samples': 41, 'max_depth': 8, 'max_bin': 418, 'min_data_in_leaf': 20, 'extra_trees': False, 'early_stopping_rounds': 32, 'path_smooth': 0.9019601971018021, 'min_gain_to_split': 0.46190483834355694}. Best is trial 28 with value: 0.26926062778300813.\n"
     ]
    },
    {
     "name": "stdout",
     "output_type": "stream",
     "text": [
      "Mejor trial hasta ahora: RMSE=0.269261, Parámetros={'num_leaves': 30, 'learning_rate': 0.2991961618916206, 'feature_fraction': 0.8901724174889525, 'bagging_fraction': 0.7737884399534997, 'bagging_freq': 5, 'lambda_l1': 2.147268545449047e-06, 'lambda_l2': 1.0305050066959539e-08, 'min_child_samples': 29, 'max_depth': 8, 'max_bin': 276, 'min_data_in_leaf': 27, 'extra_trees': False, 'early_stopping_rounds': 36, 'path_smooth': 0.7524843396074916, 'min_gain_to_split': 0.3701710509617548}\n"
     ]
    },
    {
     "name": "stderr",
     "output_type": "stream",
     "text": [
      "[I 2025-07-06 03:27:53,392] Trial 70 finished with value: 0.4578310311165211 and parameters: {'num_leaves': 69, 'learning_rate': 0.22950640899221, 'feature_fraction': 0.9537699068820227, 'bagging_fraction': 0.8398844567425654, 'bagging_freq': 2, 'lambda_l1': 2.077853254968913e-05, 'lambda_l2': 4.890239101142293e-07, 'min_child_samples': 40, 'max_depth': 9, 'max_bin': 455, 'min_data_in_leaf': 35, 'extra_trees': False, 'early_stopping_rounds': 26, 'path_smooth': 0.8784334119771569, 'min_gain_to_split': 0.44222564802025055}. Best is trial 28 with value: 0.26926062778300813.\n"
     ]
    },
    {
     "name": "stdout",
     "output_type": "stream",
     "text": [
      "Mejor trial hasta ahora: RMSE=0.269261, Parámetros={'num_leaves': 30, 'learning_rate': 0.2991961618916206, 'feature_fraction': 0.8901724174889525, 'bagging_fraction': 0.7737884399534997, 'bagging_freq': 5, 'lambda_l1': 2.147268545449047e-06, 'lambda_l2': 1.0305050066959539e-08, 'min_child_samples': 29, 'max_depth': 8, 'max_bin': 276, 'min_data_in_leaf': 27, 'extra_trees': False, 'early_stopping_rounds': 36, 'path_smooth': 0.7524843396074916, 'min_gain_to_split': 0.3701710509617548}\n"
     ]
    },
    {
     "name": "stderr",
     "output_type": "stream",
     "text": [
      "[I 2025-07-06 03:34:30,948] Trial 71 finished with value: 0.34477261846381957 and parameters: {'num_leaves': 63, 'learning_rate': 0.26493038795272333, 'feature_fraction': 0.9159513710599881, 'bagging_fraction': 0.8423134932216338, 'bagging_freq': 1, 'lambda_l1': 8.685996108444144e-06, 'lambda_l2': 1.0136786479644067e-07, 'min_child_samples': 38, 'max_depth': 9, 'max_bin': 395, 'min_data_in_leaf': 29, 'extra_trees': False, 'early_stopping_rounds': 34, 'path_smooth': 0.9975503570243236, 'min_gain_to_split': 0.48497607756578087}. Best is trial 28 with value: 0.26926062778300813.\n"
     ]
    },
    {
     "name": "stdout",
     "output_type": "stream",
     "text": [
      "Mejor trial hasta ahora: RMSE=0.269261, Parámetros={'num_leaves': 30, 'learning_rate': 0.2991961618916206, 'feature_fraction': 0.8901724174889525, 'bagging_fraction': 0.7737884399534997, 'bagging_freq': 5, 'lambda_l1': 2.147268545449047e-06, 'lambda_l2': 1.0305050066959539e-08, 'min_child_samples': 29, 'max_depth': 8, 'max_bin': 276, 'min_data_in_leaf': 27, 'extra_trees': False, 'early_stopping_rounds': 36, 'path_smooth': 0.7524843396074916, 'min_gain_to_split': 0.3701710509617548}\n"
     ]
    },
    {
     "name": "stderr",
     "output_type": "stream",
     "text": [
      "[I 2025-07-06 03:40:24,390] Trial 72 finished with value: 0.5257141869143085 and parameters: {'num_leaves': 61, 'learning_rate': 0.296375811798086, 'feature_fraction': 0.9158158378959003, 'bagging_fraction': 0.8853170851616549, 'bagging_freq': 1, 'lambda_l1': 9.391452764738604e-06, 'lambda_l2': 1.7380668762773256e-07, 'min_child_samples': 42, 'max_depth': 8, 'max_bin': 397, 'min_data_in_leaf': 29, 'extra_trees': False, 'early_stopping_rounds': 34, 'path_smooth': 0.9240282110366307, 'min_gain_to_split': 0.4960902116438859}. Best is trial 28 with value: 0.26926062778300813.\n"
     ]
    },
    {
     "name": "stdout",
     "output_type": "stream",
     "text": [
      "Mejor trial hasta ahora: RMSE=0.269261, Parámetros={'num_leaves': 30, 'learning_rate': 0.2991961618916206, 'feature_fraction': 0.8901724174889525, 'bagging_fraction': 0.7737884399534997, 'bagging_freq': 5, 'lambda_l1': 2.147268545449047e-06, 'lambda_l2': 1.0305050066959539e-08, 'min_child_samples': 29, 'max_depth': 8, 'max_bin': 276, 'min_data_in_leaf': 27, 'extra_trees': False, 'early_stopping_rounds': 36, 'path_smooth': 0.7524843396074916, 'min_gain_to_split': 0.3701710509617548}\n"
     ]
    },
    {
     "name": "stderr",
     "output_type": "stream",
     "text": [
      "[I 2025-07-06 03:47:08,148] Trial 73 finished with value: 0.4275822961781916 and parameters: {'num_leaves': 65, 'learning_rate': 0.26131246464676583, 'feature_fraction': 0.9734329102721375, 'bagging_fraction': 0.8393578245833619, 'bagging_freq': 2, 'lambda_l1': 6.425831251482963e-05, 'lambda_l2': 7.410164915273077e-08, 'min_child_samples': 38, 'max_depth': 8, 'max_bin': 414, 'min_data_in_leaf': 26, 'extra_trees': False, 'early_stopping_rounds': 29, 'path_smooth': 0.9923173552126713, 'min_gain_to_split': 0.47864942652819537}. Best is trial 28 with value: 0.26926062778300813.\n"
     ]
    },
    {
     "name": "stdout",
     "output_type": "stream",
     "text": [
      "Mejor trial hasta ahora: RMSE=0.269261, Parámetros={'num_leaves': 30, 'learning_rate': 0.2991961618916206, 'feature_fraction': 0.8901724174889525, 'bagging_fraction': 0.7737884399534997, 'bagging_freq': 5, 'lambda_l1': 2.147268545449047e-06, 'lambda_l2': 1.0305050066959539e-08, 'min_child_samples': 29, 'max_depth': 8, 'max_bin': 276, 'min_data_in_leaf': 27, 'extra_trees': False, 'early_stopping_rounds': 36, 'path_smooth': 0.7524843396074916, 'min_gain_to_split': 0.3701710509617548}\n"
     ]
    },
    {
     "name": "stderr",
     "output_type": "stream",
     "text": [
      "[I 2025-07-06 03:54:04,712] Trial 74 finished with value: 0.30425611577761713 and parameters: {'num_leaves': 55, 'learning_rate': 0.23803930521490063, 'feature_fraction': 0.9274392949050585, 'bagging_fraction': 0.8711284459602942, 'bagging_freq': 1, 'lambda_l1': 0.0029539992867974414, 'lambda_l2': 2.8697207356741057e-07, 'min_child_samples': 37, 'max_depth': 9, 'max_bin': 385, 'min_data_in_leaf': 33, 'extra_trees': False, 'early_stopping_rounds': 32, 'path_smooth': 0.8666673478536748, 'min_gain_to_split': 0.462103013604199}. Best is trial 28 with value: 0.26926062778300813.\n"
     ]
    },
    {
     "name": "stdout",
     "output_type": "stream",
     "text": [
      "Mejor trial hasta ahora: RMSE=0.269261, Parámetros={'num_leaves': 30, 'learning_rate': 0.2991961618916206, 'feature_fraction': 0.8901724174889525, 'bagging_fraction': 0.7737884399534997, 'bagging_freq': 5, 'lambda_l1': 2.147268545449047e-06, 'lambda_l2': 1.0305050066959539e-08, 'min_child_samples': 29, 'max_depth': 8, 'max_bin': 276, 'min_data_in_leaf': 27, 'extra_trees': False, 'early_stopping_rounds': 36, 'path_smooth': 0.7524843396074916, 'min_gain_to_split': 0.3701710509617548}\n"
     ]
    },
    {
     "name": "stderr",
     "output_type": "stream",
     "text": [
      "[I 2025-07-06 04:00:52,892] Trial 75 finished with value: 0.3745869425078678 and parameters: {'num_leaves': 49, 'learning_rate': 0.22464460508163162, 'feature_fraction': 0.9340249722653655, 'bagging_fraction': 0.8692347138641482, 'bagging_freq': 2, 'lambda_l1': 0.0037415265895296987, 'lambda_l2': 2.0454606120230113e-06, 'min_child_samples': 40, 'max_depth': 9, 'max_bin': 378, 'min_data_in_leaf': 33, 'extra_trees': False, 'early_stopping_rounds': 31, 'path_smooth': 0.8580727362551815, 'min_gain_to_split': 0.45779548829418837}. Best is trial 28 with value: 0.26926062778300813.\n"
     ]
    },
    {
     "name": "stdout",
     "output_type": "stream",
     "text": [
      "Mejor trial hasta ahora: RMSE=0.269261, Parámetros={'num_leaves': 30, 'learning_rate': 0.2991961618916206, 'feature_fraction': 0.8901724174889525, 'bagging_fraction': 0.7737884399534997, 'bagging_freq': 5, 'lambda_l1': 2.147268545449047e-06, 'lambda_l2': 1.0305050066959539e-08, 'min_child_samples': 29, 'max_depth': 8, 'max_bin': 276, 'min_data_in_leaf': 27, 'extra_trees': False, 'early_stopping_rounds': 36, 'path_smooth': 0.7524843396074916, 'min_gain_to_split': 0.3701710509617548}\n"
     ]
    },
    {
     "name": "stderr",
     "output_type": "stream",
     "text": [
      "[I 2025-07-06 04:05:42,201] Trial 76 finished with value: 0.8594001682140023 and parameters: {'num_leaves': 55, 'learning_rate': 0.24103398178596433, 'feature_fraction': 0.8913336438455778, 'bagging_fraction': 0.8945075384735307, 'bagging_freq': 2, 'lambda_l1': 0.00043485862488267077, 'lambda_l2': 8.601596568674165e-06, 'min_child_samples': 36, 'max_depth': 3, 'max_bin': 361, 'min_data_in_leaf': 37, 'extra_trees': False, 'early_stopping_rounds': 32, 'path_smooth': 0.7898523169107534, 'min_gain_to_split': 0.4342196642221267}. Best is trial 28 with value: 0.26926062778300813.\n"
     ]
    },
    {
     "name": "stdout",
     "output_type": "stream",
     "text": [
      "Mejor trial hasta ahora: RMSE=0.269261, Parámetros={'num_leaves': 30, 'learning_rate': 0.2991961618916206, 'feature_fraction': 0.8901724174889525, 'bagging_fraction': 0.7737884399534997, 'bagging_freq': 5, 'lambda_l1': 2.147268545449047e-06, 'lambda_l2': 1.0305050066959539e-08, 'min_child_samples': 29, 'max_depth': 8, 'max_bin': 276, 'min_data_in_leaf': 27, 'extra_trees': False, 'early_stopping_rounds': 36, 'path_smooth': 0.7524843396074916, 'min_gain_to_split': 0.3701710509617548}\n"
     ]
    },
    {
     "name": "stderr",
     "output_type": "stream",
     "text": [
      "[I 2025-07-06 04:17:49,587] Trial 77 finished with value: 0.6757759397839764 and parameters: {'num_leaves': 53, 'learning_rate': 0.0658727203215993, 'feature_fraction': 0.9330303538437247, 'bagging_fraction': 0.8785478045828089, 'bagging_freq': 1, 'lambda_l1': 0.002881707379791699, 'lambda_l2': 3.2540206332729264e-07, 'min_child_samples': 46, 'max_depth': 8, 'max_bin': 382, 'min_data_in_leaf': 26, 'extra_trees': False, 'early_stopping_rounds': 29, 'path_smooth': 0.8753749656881642, 'min_gain_to_split': 0.4667217520818736}. Best is trial 28 with value: 0.26926062778300813.\n"
     ]
    },
    {
     "name": "stdout",
     "output_type": "stream",
     "text": [
      "Mejor trial hasta ahora: RMSE=0.269261, Parámetros={'num_leaves': 30, 'learning_rate': 0.2991961618916206, 'feature_fraction': 0.8901724174889525, 'bagging_fraction': 0.7737884399534997, 'bagging_freq': 5, 'lambda_l1': 2.147268545449047e-06, 'lambda_l2': 1.0305050066959539e-08, 'min_child_samples': 29, 'max_depth': 8, 'max_bin': 276, 'min_data_in_leaf': 27, 'extra_trees': False, 'early_stopping_rounds': 36, 'path_smooth': 0.7524843396074916, 'min_gain_to_split': 0.3701710509617548}\n"
     ]
    },
    {
     "name": "stderr",
     "output_type": "stream",
     "text": [
      "[I 2025-07-06 04:24:01,847] Trial 78 finished with value: 0.4104304105769655 and parameters: {'num_leaves': 58, 'learning_rate': 0.2988581463254784, 'feature_fraction': 0.9625089102783458, 'bagging_fraction': 0.8564881710512924, 'bagging_freq': 2, 'lambda_l1': 0.03576408673655275, 'lambda_l2': 4.635246665042231e-08, 'min_child_samples': 37, 'max_depth': 9, 'max_bin': 428, 'min_data_in_leaf': 79, 'extra_trees': False, 'early_stopping_rounds': 32, 'path_smooth': 0.962867065975987, 'min_gain_to_split': 0.4118831434144132}. Best is trial 28 with value: 0.26926062778300813.\n"
     ]
    },
    {
     "name": "stdout",
     "output_type": "stream",
     "text": [
      "Mejor trial hasta ahora: RMSE=0.269261, Parámetros={'num_leaves': 30, 'learning_rate': 0.2991961618916206, 'feature_fraction': 0.8901724174889525, 'bagging_fraction': 0.7737884399534997, 'bagging_freq': 5, 'lambda_l1': 2.147268545449047e-06, 'lambda_l2': 1.0305050066959539e-08, 'min_child_samples': 29, 'max_depth': 8, 'max_bin': 276, 'min_data_in_leaf': 27, 'extra_trees': False, 'early_stopping_rounds': 36, 'path_smooth': 0.7524843396074916, 'min_gain_to_split': 0.3701710509617548}\n"
     ]
    },
    {
     "name": "stderr",
     "output_type": "stream",
     "text": [
      "[I 2025-07-06 04:28:58,845] Trial 79 finished with value: 0.8141212114497094 and parameters: {'num_leaves': 48, 'learning_rate': 0.2323947708836588, 'feature_fraction': 0.9511337930015581, 'bagging_fraction': 0.9093701039951518, 'bagging_freq': 1, 'lambda_l1': 0.010740191357540634, 'lambda_l2': 6.412095097618673e-07, 'min_child_samples': 43, 'max_depth': 8, 'max_bin': 462, 'min_data_in_leaf': 24, 'extra_trees': True, 'early_stopping_rounds': 28, 'path_smooth': 0.8523015928574081, 'min_gain_to_split': 0.45141613403697073}. Best is trial 28 with value: 0.26926062778300813.\n"
     ]
    },
    {
     "name": "stdout",
     "output_type": "stream",
     "text": [
      "Mejor trial hasta ahora: RMSE=0.269261, Parámetros={'num_leaves': 30, 'learning_rate': 0.2991961618916206, 'feature_fraction': 0.8901724174889525, 'bagging_fraction': 0.7737884399534997, 'bagging_freq': 5, 'lambda_l1': 2.147268545449047e-06, 'lambda_l2': 1.0305050066959539e-08, 'min_child_samples': 29, 'max_depth': 8, 'max_bin': 276, 'min_data_in_leaf': 27, 'extra_trees': False, 'early_stopping_rounds': 36, 'path_smooth': 0.7524843396074916, 'min_gain_to_split': 0.3701710509617548}\n"
     ]
    },
    {
     "name": "stderr",
     "output_type": "stream",
     "text": [
      "[I 2025-07-06 04:34:02,487] Trial 80 finished with value: 0.42442538836323196 and parameters: {'num_leaves': 71, 'learning_rate': 0.18642968090639486, 'feature_fraction': 0.9063726158212454, 'bagging_fraction': 0.8675039728233428, 'bagging_freq': 3, 'lambda_l1': 0.00027862958330098566, 'lambda_l2': 1.79283122908861e-08, 'min_child_samples': 33, 'max_depth': 9, 'max_bin': 149, 'min_data_in_leaf': 31, 'extra_trees': False, 'early_stopping_rounds': 33, 'path_smooth': 0.2265287011263003, 'min_gain_to_split': 0.4207979047043797}. Best is trial 28 with value: 0.26926062778300813.\n"
     ]
    },
    {
     "name": "stdout",
     "output_type": "stream",
     "text": [
      "Mejor trial hasta ahora: RMSE=0.269261, Parámetros={'num_leaves': 30, 'learning_rate': 0.2991961618916206, 'feature_fraction': 0.8901724174889525, 'bagging_fraction': 0.7737884399534997, 'bagging_freq': 5, 'lambda_l1': 2.147268545449047e-06, 'lambda_l2': 1.0305050066959539e-08, 'min_child_samples': 29, 'max_depth': 8, 'max_bin': 276, 'min_data_in_leaf': 27, 'extra_trees': False, 'early_stopping_rounds': 36, 'path_smooth': 0.7524843396074916, 'min_gain_to_split': 0.3701710509617548}\n"
     ]
    },
    {
     "name": "stderr",
     "output_type": "stream",
     "text": [
      "[I 2025-07-06 04:40:34,427] Trial 81 finished with value: 0.32484844171646793 and parameters: {'num_leaves': 63, 'learning_rate': 0.26423938003610264, 'feature_fraction': 0.9129810424512659, 'bagging_fraction': 0.8318224239635128, 'bagging_freq': 1, 'lambda_l1': 2.862709287675945e-06, 'lambda_l2': 2.5973110777174093e-07, 'min_child_samples': 39, 'max_depth': 9, 'max_bin': 396, 'min_data_in_leaf': 30, 'extra_trees': False, 'early_stopping_rounds': 34, 'path_smooth': 0.9300063834666815, 'min_gain_to_split': 0.48604906073125914}. Best is trial 28 with value: 0.26926062778300813.\n"
     ]
    },
    {
     "name": "stdout",
     "output_type": "stream",
     "text": [
      "Mejor trial hasta ahora: RMSE=0.269261, Parámetros={'num_leaves': 30, 'learning_rate': 0.2991961618916206, 'feature_fraction': 0.8901724174889525, 'bagging_fraction': 0.7737884399534997, 'bagging_freq': 5, 'lambda_l1': 2.147268545449047e-06, 'lambda_l2': 1.0305050066959539e-08, 'min_child_samples': 29, 'max_depth': 8, 'max_bin': 276, 'min_data_in_leaf': 27, 'extra_trees': False, 'early_stopping_rounds': 36, 'path_smooth': 0.7524843396074916, 'min_gain_to_split': 0.3701710509617548}\n"
     ]
    },
    {
     "name": "stderr",
     "output_type": "stream",
     "text": [
      "[I 2025-07-06 04:46:25,870] Trial 82 finished with value: 0.37239720218783895 and parameters: {'num_leaves': 61, 'learning_rate': 0.27419663581436976, 'feature_fraction': 0.6039108247571708, 'bagging_fraction': 0.8278143323133161, 'bagging_freq': 1, 'lambda_l1': 2.8729914766749144e-06, 'lambda_l2': 2.6306469709850275e-07, 'min_child_samples': 40, 'max_depth': 9, 'max_bin': 408, 'min_data_in_leaf': 30, 'extra_trees': False, 'early_stopping_rounds': 30, 'path_smooth': 0.9249697347203862, 'min_gain_to_split': 0.488502341636766}. Best is trial 28 with value: 0.26926062778300813.\n"
     ]
    },
    {
     "name": "stdout",
     "output_type": "stream",
     "text": [
      "Mejor trial hasta ahora: RMSE=0.269261, Parámetros={'num_leaves': 30, 'learning_rate': 0.2991961618916206, 'feature_fraction': 0.8901724174889525, 'bagging_fraction': 0.7737884399534997, 'bagging_freq': 5, 'lambda_l1': 2.147268545449047e-06, 'lambda_l2': 1.0305050066959539e-08, 'min_child_samples': 29, 'max_depth': 8, 'max_bin': 276, 'min_data_in_leaf': 27, 'extra_trees': False, 'early_stopping_rounds': 36, 'path_smooth': 0.7524843396074916, 'min_gain_to_split': 0.3701710509617548}\n"
     ]
    },
    {
     "name": "stderr",
     "output_type": "stream",
     "text": [
      "[I 2025-07-06 04:54:41,257] Trial 83 finished with value: 0.29146312037947564 and parameters: {'num_leaves': 63, 'learning_rate': 0.24892105219944888, 'feature_fraction': 0.9133249898439665, 'bagging_fraction': 0.8475115794995992, 'bagging_freq': 2, 'lambda_l1': 3.6798035474288695e-06, 'lambda_l2': 5.3808772668676e-08, 'min_child_samples': 36, 'max_depth': 9, 'max_bin': 386, 'min_data_in_leaf': 34, 'extra_trees': False, 'early_stopping_rounds': 34, 'path_smooth': 0.7984387965473387, 'min_gain_to_split': 0.2240741552221892}. Best is trial 28 with value: 0.26926062778300813.\n"
     ]
    },
    {
     "name": "stdout",
     "output_type": "stream",
     "text": [
      "Mejor trial hasta ahora: RMSE=0.269261, Parámetros={'num_leaves': 30, 'learning_rate': 0.2991961618916206, 'feature_fraction': 0.8901724174889525, 'bagging_fraction': 0.7737884399534997, 'bagging_freq': 5, 'lambda_l1': 2.147268545449047e-06, 'lambda_l2': 1.0305050066959539e-08, 'min_child_samples': 29, 'max_depth': 8, 'max_bin': 276, 'min_data_in_leaf': 27, 'extra_trees': False, 'early_stopping_rounds': 36, 'path_smooth': 0.7524843396074916, 'min_gain_to_split': 0.3701710509617548}\n"
     ]
    },
    {
     "name": "stderr",
     "output_type": "stream",
     "text": [
      "[I 2025-07-06 09:35:19,329] Trial 84 finished with value: 0.240836225744382 and parameters: {'num_leaves': 68, 'learning_rate': 0.2532776920581744, 'feature_fraction': 0.9270174714470365, 'bagging_fraction': 0.8495091824763285, 'bagging_freq': 1, 'lambda_l1': 9.337106615416643e-07, 'lambda_l2': 7.03462566981182e-08, 'min_child_samples': 39, 'max_depth': 9, 'max_bin': 447, 'min_data_in_leaf': 38, 'extra_trees': False, 'early_stopping_rounds': 34, 'path_smooth': 0.8827156955990074, 'min_gain_to_split': 0.17402750061535727}. Best is trial 84 with value: 0.240836225744382.\n"
     ]
    },
    {
     "name": "stdout",
     "output_type": "stream",
     "text": [
      "Mejor trial hasta ahora: RMSE=0.240836, Parámetros={'num_leaves': 68, 'learning_rate': 0.2532776920581744, 'feature_fraction': 0.9270174714470365, 'bagging_fraction': 0.8495091824763285, 'bagging_freq': 1, 'lambda_l1': 9.337106615416643e-07, 'lambda_l2': 7.03462566981182e-08, 'min_child_samples': 39, 'max_depth': 9, 'max_bin': 447, 'min_data_in_leaf': 38, 'extra_trees': False, 'early_stopping_rounds': 34, 'path_smooth': 0.8827156955990074, 'min_gain_to_split': 0.17402750061535727}\n"
     ]
    },
    {
     "name": "stderr",
     "output_type": "stream",
     "text": [
      "[I 2025-07-06 09:45:36,675] Trial 85 finished with value: 0.4766686891126232 and parameters: {'num_leaves': 67, 'learning_rate': 0.24765274178007857, 'feature_fraction': 0.9239480728298867, 'bagging_fraction': 0.8476937477104288, 'bagging_freq': 1, 'lambda_l1': 0.3260820911629121, 'lambda_l2': 2.0800189036919353e-07, 'min_child_samples': 37, 'max_depth': 9, 'max_bin': 439, 'min_data_in_leaf': 39, 'extra_trees': False, 'early_stopping_rounds': 34, 'path_smooth': 0.8908294105867015, 'min_gain_to_split': 0.23053375054401717}. Best is trial 84 with value: 0.240836225744382.\n"
     ]
    },
    {
     "name": "stdout",
     "output_type": "stream",
     "text": [
      "Mejor trial hasta ahora: RMSE=0.240836, Parámetros={'num_leaves': 68, 'learning_rate': 0.2532776920581744, 'feature_fraction': 0.9270174714470365, 'bagging_fraction': 0.8495091824763285, 'bagging_freq': 1, 'lambda_l1': 9.337106615416643e-07, 'lambda_l2': 7.03462566981182e-08, 'min_child_samples': 39, 'max_depth': 9, 'max_bin': 447, 'min_data_in_leaf': 38, 'extra_trees': False, 'early_stopping_rounds': 34, 'path_smooth': 0.8827156955990074, 'min_gain_to_split': 0.17402750061535727}\n"
     ]
    },
    {
     "name": "stderr",
     "output_type": "stream",
     "text": [
      "[I 2025-07-06 09:55:55,537] Trial 86 finished with value: 0.40330633057217236 and parameters: {'num_leaves': 73, 'learning_rate': 0.2745828246481157, 'feature_fraction': 0.9420498628823322, 'bagging_fraction': 0.8740561949721177, 'bagging_freq': 1, 'lambda_l1': 8.653176959590973e-07, 'lambda_l2': 1.0583374313065222e-06, 'min_child_samples': 39, 'max_depth': 9, 'max_bin': 449, 'min_data_in_leaf': 34, 'extra_trees': False, 'early_stopping_rounds': 31, 'path_smooth': 0.8039277236065838, 'min_gain_to_split': 0.19897937041583164}. Best is trial 84 with value: 0.240836225744382.\n"
     ]
    },
    {
     "name": "stdout",
     "output_type": "stream",
     "text": [
      "Mejor trial hasta ahora: RMSE=0.240836, Parámetros={'num_leaves': 68, 'learning_rate': 0.2532776920581744, 'feature_fraction': 0.9270174714470365, 'bagging_fraction': 0.8495091824763285, 'bagging_freq': 1, 'lambda_l1': 9.337106615416643e-07, 'lambda_l2': 7.03462566981182e-08, 'min_child_samples': 39, 'max_depth': 9, 'max_bin': 447, 'min_data_in_leaf': 38, 'extra_trees': False, 'early_stopping_rounds': 34, 'path_smooth': 0.8827156955990074, 'min_gain_to_split': 0.17402750061535727}\n"
     ]
    },
    {
     "name": "stderr",
     "output_type": "stream",
     "text": [
      "[I 2025-07-06 10:06:20,506] Trial 87 finished with value: 0.3568496170748158 and parameters: {'num_leaves': 80, 'learning_rate': 0.23358346554643686, 'feature_fraction': 0.9720584554500864, 'bagging_fraction': 0.8543175613083432, 'bagging_freq': 1, 'lambda_l1': 6.625159875271432e-06, 'lambda_l2': 7.013299009084217e-08, 'min_child_samples': 41, 'max_depth': 9, 'max_bin': 399, 'min_data_in_leaf': 42, 'extra_trees': False, 'early_stopping_rounds': 35, 'path_smooth': 0.9269494820764013, 'min_gain_to_split': 0.1476037646404037}. Best is trial 84 with value: 0.240836225744382.\n"
     ]
    },
    {
     "name": "stdout",
     "output_type": "stream",
     "text": [
      "Mejor trial hasta ahora: RMSE=0.240836, Parámetros={'num_leaves': 68, 'learning_rate': 0.2532776920581744, 'feature_fraction': 0.9270174714470365, 'bagging_fraction': 0.8495091824763285, 'bagging_freq': 1, 'lambda_l1': 9.337106615416643e-07, 'lambda_l2': 7.03462566981182e-08, 'min_child_samples': 39, 'max_depth': 9, 'max_bin': 447, 'min_data_in_leaf': 38, 'extra_trees': False, 'early_stopping_rounds': 34, 'path_smooth': 0.8827156955990074, 'min_gain_to_split': 0.17402750061535727}\n"
     ]
    },
    {
     "name": "stderr",
     "output_type": "stream",
     "text": [
      "[I 2025-07-06 10:30:51,233] Trial 88 finished with value: 0.9202447479291196 and parameters: {'num_leaves': 62, 'learning_rate': 0.02740571101651807, 'feature_fraction': 0.9274786921313628, 'bagging_fraction': 0.834183470732326, 'bagging_freq': 2, 'lambda_l1': 0.0020583522404282665, 'lambda_l2': 1.3583040036687632e-07, 'min_child_samples': 35, 'max_depth': 9, 'max_bin': 413, 'min_data_in_leaf': 36, 'extra_trees': False, 'early_stopping_rounds': 32, 'path_smooth': 0.9639303957063553, 'min_gain_to_split': 0.1666763160625386}. Best is trial 84 with value: 0.240836225744382.\n"
     ]
    },
    {
     "name": "stdout",
     "output_type": "stream",
     "text": [
      "Mejor trial hasta ahora: RMSE=0.240836, Parámetros={'num_leaves': 68, 'learning_rate': 0.2532776920581744, 'feature_fraction': 0.9270174714470365, 'bagging_fraction': 0.8495091824763285, 'bagging_freq': 1, 'lambda_l1': 9.337106615416643e-07, 'lambda_l2': 7.03462566981182e-08, 'min_child_samples': 39, 'max_depth': 9, 'max_bin': 447, 'min_data_in_leaf': 38, 'extra_trees': False, 'early_stopping_rounds': 34, 'path_smooth': 0.8827156955990074, 'min_gain_to_split': 0.17402750061535727}\n"
     ]
    },
    {
     "name": "stderr",
     "output_type": "stream",
     "text": [
      "[I 2025-07-06 10:43:02,109] Trial 89 finished with value: 0.2716865057646345 and parameters: {'num_leaves': 68, 'learning_rate': 0.2986990546003533, 'feature_fraction': 0.9128847198506607, 'bagging_fraction': 0.8456068831658203, 'bagging_freq': 1, 'lambda_l1': 2.3525792614371497e-06, 'lambda_l2': 3.7374802764038577e-07, 'min_child_samples': 43, 'max_depth': 9, 'max_bin': 427, 'min_data_in_leaf': 32, 'extra_trees': False, 'early_stopping_rounds': 34, 'path_smooth': 0.858819759798361, 'min_gain_to_split': 0.1278776442019527}. Best is trial 84 with value: 0.240836225744382.\n"
     ]
    },
    {
     "name": "stdout",
     "output_type": "stream",
     "text": [
      "Mejor trial hasta ahora: RMSE=0.240836, Parámetros={'num_leaves': 68, 'learning_rate': 0.2532776920581744, 'feature_fraction': 0.9270174714470365, 'bagging_fraction': 0.8495091824763285, 'bagging_freq': 1, 'lambda_l1': 9.337106615416643e-07, 'lambda_l2': 7.03462566981182e-08, 'min_child_samples': 39, 'max_depth': 9, 'max_bin': 447, 'min_data_in_leaf': 38, 'extra_trees': False, 'early_stopping_rounds': 34, 'path_smooth': 0.8827156955990074, 'min_gain_to_split': 0.17402750061535727}\n"
     ]
    },
    {
     "name": "stderr",
     "output_type": "stream",
     "text": [
      "[I 2025-07-06 10:55:49,787] Trial 90 finished with value: 0.19560060749639271 and parameters: {'num_leaves': 67, 'learning_rate': 0.289541332531506, 'feature_fraction': 0.9141674067136535, 'bagging_fraction': 0.8211880852640258, 'bagging_freq': 1, 'lambda_l1': 2.224602451485934e-05, 'lambda_l2': 1.584438270871008e-06, 'min_child_samples': 43, 'max_depth': 8, 'max_bin': 468, 'min_data_in_leaf': 32, 'extra_trees': False, 'early_stopping_rounds': 37, 'path_smooth': 0.7568494780343825, 'min_gain_to_split': 0.0951540169694924}. Best is trial 90 with value: 0.19560060749639271.\n"
     ]
    },
    {
     "name": "stdout",
     "output_type": "stream",
     "text": [
      "Mejor trial hasta ahora: RMSE=0.195601, Parámetros={'num_leaves': 67, 'learning_rate': 0.289541332531506, 'feature_fraction': 0.9141674067136535, 'bagging_fraction': 0.8211880852640258, 'bagging_freq': 1, 'lambda_l1': 2.224602451485934e-05, 'lambda_l2': 1.584438270871008e-06, 'min_child_samples': 43, 'max_depth': 8, 'max_bin': 468, 'min_data_in_leaf': 32, 'extra_trees': False, 'early_stopping_rounds': 37, 'path_smooth': 0.7568494780343825, 'min_gain_to_split': 0.0951540169694924}\n"
     ]
    },
    {
     "name": "stderr",
     "output_type": "stream",
     "text": [
      "[I 2025-07-06 11:06:36,797] Trial 91 finished with value: 0.2905637936017909 and parameters: {'num_leaves': 67, 'learning_rate': 0.29757026028327094, 'feature_fraction': 0.9117266633625682, 'bagging_fraction': 0.8477304207040612, 'bagging_freq': 1, 'lambda_l1': 2.5553087707888797e-05, 'lambda_l2': 1.7987311649312477e-06, 'min_child_samples': 43, 'max_depth': 8, 'max_bin': 466, 'min_data_in_leaf': 33, 'extra_trees': False, 'early_stopping_rounds': 38, 'path_smooth': 0.7551034165538736, 'min_gain_to_split': 0.11712616513158515}. Best is trial 90 with value: 0.19560060749639271.\n"
     ]
    },
    {
     "name": "stdout",
     "output_type": "stream",
     "text": [
      "Mejor trial hasta ahora: RMSE=0.195601, Parámetros={'num_leaves': 67, 'learning_rate': 0.289541332531506, 'feature_fraction': 0.9141674067136535, 'bagging_fraction': 0.8211880852640258, 'bagging_freq': 1, 'lambda_l1': 2.224602451485934e-05, 'lambda_l2': 1.584438270871008e-06, 'min_child_samples': 43, 'max_depth': 8, 'max_bin': 468, 'min_data_in_leaf': 32, 'extra_trees': False, 'early_stopping_rounds': 37, 'path_smooth': 0.7568494780343825, 'min_gain_to_split': 0.0951540169694924}\n"
     ]
    },
    {
     "name": "stderr",
     "output_type": "stream",
     "text": [
      "[I 2025-07-06 11:16:17,136] Trial 92 finished with value: 0.2668705478426486 and parameters: {'num_leaves': 67, 'learning_rate': 0.29993565005686784, 'feature_fraction': 0.9334267565403656, 'bagging_fraction': 0.8478947882706307, 'bagging_freq': 1, 'lambda_l1': 5.116677242436065e-05, 'lambda_l2': 5.521191064941143e-06, 'min_child_samples': 48, 'max_depth': 8, 'max_bin': 466, 'min_data_in_leaf': 33, 'extra_trees': False, 'early_stopping_rounds': 38, 'path_smooth': 0.7573486958283439, 'min_gain_to_split': 0.11927163029007709}. Best is trial 90 with value: 0.19560060749639271.\n"
     ]
    },
    {
     "name": "stdout",
     "output_type": "stream",
     "text": [
      "Mejor trial hasta ahora: RMSE=0.195601, Parámetros={'num_leaves': 67, 'learning_rate': 0.289541332531506, 'feature_fraction': 0.9141674067136535, 'bagging_fraction': 0.8211880852640258, 'bagging_freq': 1, 'lambda_l1': 2.224602451485934e-05, 'lambda_l2': 1.584438270871008e-06, 'min_child_samples': 43, 'max_depth': 8, 'max_bin': 468, 'min_data_in_leaf': 32, 'extra_trees': False, 'early_stopping_rounds': 37, 'path_smooth': 0.7568494780343825, 'min_gain_to_split': 0.0951540169694924}\n"
     ]
    },
    {
     "name": "stderr",
     "output_type": "stream",
     "text": [
      "[I 2025-07-06 11:25:48,172] Trial 93 finished with value: 0.3030182573808543 and parameters: {'num_leaves': 67, 'learning_rate': 0.29319113029332006, 'feature_fraction': 0.9534781100164651, 'bagging_fraction': 0.8484992824553036, 'bagging_freq': 1, 'lambda_l1': 4.73729784419444e-05, 'lambda_l2': 3.1139465144063127e-06, 'min_child_samples': 50, 'max_depth': 7, 'max_bin': 466, 'min_data_in_leaf': 33, 'extra_trees': False, 'early_stopping_rounds': 38, 'path_smooth': 0.7510088755838646, 'min_gain_to_split': 0.10615471400711347}. Best is trial 90 with value: 0.19560060749639271.\n"
     ]
    },
    {
     "name": "stdout",
     "output_type": "stream",
     "text": [
      "Mejor trial hasta ahora: RMSE=0.195601, Parámetros={'num_leaves': 67, 'learning_rate': 0.289541332531506, 'feature_fraction': 0.9141674067136535, 'bagging_fraction': 0.8211880852640258, 'bagging_freq': 1, 'lambda_l1': 2.224602451485934e-05, 'lambda_l2': 1.584438270871008e-06, 'min_child_samples': 43, 'max_depth': 8, 'max_bin': 468, 'min_data_in_leaf': 32, 'extra_trees': False, 'early_stopping_rounds': 37, 'path_smooth': 0.7568494780343825, 'min_gain_to_split': 0.0951540169694924}\n"
     ]
    },
    {
     "name": "stderr",
     "output_type": "stream",
     "text": [
      "[I 2025-07-06 11:35:31,968] Trial 94 finished with value: 0.2033334465012861 and parameters: {'num_leaves': 76, 'learning_rate': 0.2864461554334921, 'feature_fraction': 0.9391838878266525, 'bagging_fraction': 0.8466324862981917, 'bagging_freq': 1, 'lambda_l1': 2.4738529341119046e-05, 'lambda_l2': 2.4439424055995143e-05, 'min_child_samples': 50, 'max_depth': 7, 'max_bin': 483, 'min_data_in_leaf': 35, 'extra_trees': False, 'early_stopping_rounds': 38, 'path_smooth': 0.7681877061735285, 'min_gain_to_split': 0.11038495178585864}. Best is trial 90 with value: 0.19560060749639271.\n"
     ]
    },
    {
     "name": "stdout",
     "output_type": "stream",
     "text": [
      "Mejor trial hasta ahora: RMSE=0.195601, Parámetros={'num_leaves': 67, 'learning_rate': 0.289541332531506, 'feature_fraction': 0.9141674067136535, 'bagging_fraction': 0.8211880852640258, 'bagging_freq': 1, 'lambda_l1': 2.224602451485934e-05, 'lambda_l2': 1.584438270871008e-06, 'min_child_samples': 43, 'max_depth': 8, 'max_bin': 468, 'min_data_in_leaf': 32, 'extra_trees': False, 'early_stopping_rounds': 37, 'path_smooth': 0.7568494780343825, 'min_gain_to_split': 0.0951540169694924}\n"
     ]
    },
    {
     "name": "stderr",
     "output_type": "stream",
     "text": [
      "[I 2025-07-06 11:46:42,331] Trial 95 finished with value: 0.5064918528394969 and parameters: {'num_leaves': 76, 'learning_rate': 0.21739433939945096, 'feature_fraction': 0.9389243853073884, 'bagging_fraction': 0.8236708449414729, 'bagging_freq': 1, 'lambda_l1': 2.0516295646162982e-05, 'lambda_l2': 1.2804608578565354e-05, 'min_child_samples': 48, 'max_depth': 7, 'max_bin': 488, 'min_data_in_leaf': 42, 'extra_trees': False, 'early_stopping_rounds': 38, 'path_smooth': 0.713159491060678, 'min_gain_to_split': 0.11221191724733559}. Best is trial 90 with value: 0.19560060749639271.\n"
     ]
    },
    {
     "name": "stdout",
     "output_type": "stream",
     "text": [
      "Mejor trial hasta ahora: RMSE=0.195601, Parámetros={'num_leaves': 67, 'learning_rate': 0.289541332531506, 'feature_fraction': 0.9141674067136535, 'bagging_fraction': 0.8211880852640258, 'bagging_freq': 1, 'lambda_l1': 2.224602451485934e-05, 'lambda_l2': 1.584438270871008e-06, 'min_child_samples': 43, 'max_depth': 8, 'max_bin': 468, 'min_data_in_leaf': 32, 'extra_trees': False, 'early_stopping_rounds': 37, 'path_smooth': 0.7568494780343825, 'min_gain_to_split': 0.0951540169694924}\n"
     ]
    },
    {
     "name": "stderr",
     "output_type": "stream",
     "text": [
      "[I 2025-07-06 11:59:14,922] Trial 96 finished with value: 0.21655856869938286 and parameters: {'num_leaves': 71, 'learning_rate': 0.29957678714068414, 'feature_fraction': 0.9465230521982221, 'bagging_fraction': 0.8156905890083634, 'bagging_freq': 2, 'lambda_l1': 1.3121278623556214e-05, 'lambda_l2': 5.954520374349797e-06, 'min_child_samples': 49, 'max_depth': 8, 'max_bin': 468, 'min_data_in_leaf': 38, 'extra_trees': False, 'early_stopping_rounds': 40, 'path_smooth': 0.7765898311374687, 'min_gain_to_split': 0.06538163155073731}. Best is trial 90 with value: 0.19560060749639271.\n"
     ]
    },
    {
     "name": "stdout",
     "output_type": "stream",
     "text": [
      "Mejor trial hasta ahora: RMSE=0.195601, Parámetros={'num_leaves': 67, 'learning_rate': 0.289541332531506, 'feature_fraction': 0.9141674067136535, 'bagging_fraction': 0.8211880852640258, 'bagging_freq': 1, 'lambda_l1': 2.224602451485934e-05, 'lambda_l2': 1.584438270871008e-06, 'min_child_samples': 43, 'max_depth': 8, 'max_bin': 468, 'min_data_in_leaf': 32, 'extra_trees': False, 'early_stopping_rounds': 37, 'path_smooth': 0.7568494780343825, 'min_gain_to_split': 0.0951540169694924}\n"
     ]
    },
    {
     "name": "stderr",
     "output_type": "stream",
     "text": [
      "[I 2025-07-06 12:13:35,470] Trial 97 finished with value: 0.4345152365999231 and parameters: {'num_leaves': 71, 'learning_rate': 0.2923941011391761, 'feature_fraction': 0.9611651679742236, 'bagging_fraction': 0.8035264309025806, 'bagging_freq': 1, 'lambda_l1': 0.00010208285622420424, 'lambda_l2': 5.2425052448539415e-06, 'min_child_samples': 49, 'max_depth': 8, 'max_bin': 468, 'min_data_in_leaf': 38, 'extra_trees': False, 'early_stopping_rounds': 40, 'path_smooth': 0.7744274925054694, 'min_gain_to_split': 0.05445064380793918}. Best is trial 90 with value: 0.19560060749639271.\n"
     ]
    },
    {
     "name": "stdout",
     "output_type": "stream",
     "text": [
      "Mejor trial hasta ahora: RMSE=0.195601, Parámetros={'num_leaves': 67, 'learning_rate': 0.289541332531506, 'feature_fraction': 0.9141674067136535, 'bagging_fraction': 0.8211880852640258, 'bagging_freq': 1, 'lambda_l1': 2.224602451485934e-05, 'lambda_l2': 1.584438270871008e-06, 'min_child_samples': 43, 'max_depth': 8, 'max_bin': 468, 'min_data_in_leaf': 32, 'extra_trees': False, 'early_stopping_rounds': 37, 'path_smooth': 0.7568494780343825, 'min_gain_to_split': 0.0951540169694924}\n"
     ]
    },
    {
     "name": "stderr",
     "output_type": "stream",
     "text": [
      "[I 2025-07-06 12:20:36,366] Trial 98 finished with value: 0.41505686156721106 and parameters: {'num_leaves': 83, 'learning_rate': 0.27985605504061684, 'feature_fraction': 0.9469296001431072, 'bagging_fraction': 0.8159632384915377, 'bagging_freq': 1, 'lambda_l1': 1.2525458562855315e-05, 'lambda_l2': 5.180000790663399e-06, 'min_child_samples': 45, 'max_depth': 8, 'max_bin': 488, 'min_data_in_leaf': 38, 'extra_trees': True, 'early_stopping_rounds': 37, 'path_smooth': 0.7321659011045555, 'min_gain_to_split': 0.06410367863302574}. Best is trial 90 with value: 0.19560060749639271.\n"
     ]
    },
    {
     "name": "stdout",
     "output_type": "stream",
     "text": [
      "Mejor trial hasta ahora: RMSE=0.195601, Parámetros={'num_leaves': 67, 'learning_rate': 0.289541332531506, 'feature_fraction': 0.9141674067136535, 'bagging_fraction': 0.8211880852640258, 'bagging_freq': 1, 'lambda_l1': 2.224602451485934e-05, 'lambda_l2': 1.584438270871008e-06, 'min_child_samples': 43, 'max_depth': 8, 'max_bin': 468, 'min_data_in_leaf': 32, 'extra_trees': False, 'early_stopping_rounds': 37, 'path_smooth': 0.7568494780343825, 'min_gain_to_split': 0.0951540169694924}\n"
     ]
    },
    {
     "name": "stderr",
     "output_type": "stream",
     "text": [
      "[I 2025-07-06 12:43:23,370] Trial 99 finished with value: 1.1576233141203534 and parameters: {'num_leaves': 69, 'learning_rate': 0.015351146181094349, 'feature_fraction': 0.9679949356556539, 'bagging_fraction': 0.8450964523897098, 'bagging_freq': 2, 'lambda_l1': 2.930665999768009e-05, 'lambda_l2': 5.401903889375866e-05, 'min_child_samples': 48, 'max_depth': 6, 'max_bin': 471, 'min_data_in_leaf': 44, 'extra_trees': False, 'early_stopping_rounds': 38, 'path_smooth': 0.6849191088911234, 'min_gain_to_split': 0.1248008988949314}. Best is trial 90 with value: 0.19560060749639271.\n"
     ]
    },
    {
     "name": "stdout",
     "output_type": "stream",
     "text": [
      "Mejor trial hasta ahora: RMSE=0.195601, Parámetros={'num_leaves': 67, 'learning_rate': 0.289541332531506, 'feature_fraction': 0.9141674067136535, 'bagging_fraction': 0.8211880852640258, 'bagging_freq': 1, 'lambda_l1': 2.224602451485934e-05, 'lambda_l2': 1.584438270871008e-06, 'min_child_samples': 43, 'max_depth': 8, 'max_bin': 468, 'min_data_in_leaf': 32, 'extra_trees': False, 'early_stopping_rounds': 37, 'path_smooth': 0.7568494780343825, 'min_gain_to_split': 0.0951540169694924}\n"
     ]
    },
    {
     "name": "stderr",
     "output_type": "stream",
     "text": [
      "[I 2025-07-06 12:55:09,467] Trial 100 finished with value: 0.40937971030360754 and parameters: {'num_leaves': 77, 'learning_rate': 0.25115396370292425, 'feature_fraction': 0.9796402742338806, 'bagging_fraction': 0.8561283362888032, 'bagging_freq': 1, 'lambda_l1': 0.0001736909424723376, 'lambda_l2': 2.35304589393951e-06, 'min_child_samples': 44, 'max_depth': 7, 'max_bin': 487, 'min_data_in_leaf': 36, 'extra_trees': False, 'early_stopping_rounds': 41, 'path_smooth': 0.7712716649684747, 'min_gain_to_split': 0.08743283698465867}. Best is trial 90 with value: 0.19560060749639271.\n"
     ]
    },
    {
     "name": "stdout",
     "output_type": "stream",
     "text": [
      "Mejor trial hasta ahora: RMSE=0.195601, Parámetros={'num_leaves': 67, 'learning_rate': 0.289541332531506, 'feature_fraction': 0.9141674067136535, 'bagging_fraction': 0.8211880852640258, 'bagging_freq': 1, 'lambda_l1': 2.224602451485934e-05, 'lambda_l2': 1.584438270871008e-06, 'min_child_samples': 43, 'max_depth': 8, 'max_bin': 468, 'min_data_in_leaf': 32, 'extra_trees': False, 'early_stopping_rounds': 37, 'path_smooth': 0.7568494780343825, 'min_gain_to_split': 0.0951540169694924}\n"
     ]
    },
    {
     "name": "stderr",
     "output_type": "stream",
     "text": [
      "[I 2025-07-06 13:04:15,828] Trial 101 finished with value: 0.3829977148535676 and parameters: {'num_leaves': 73, 'learning_rate': 0.2516511494333826, 'feature_fraction': 0.9317484640185763, 'bagging_fraction': 0.8174063476510053, 'bagging_freq': 2, 'lambda_l1': 4.954984591649585e-06, 'lambda_l2': 2.1132321031439957e-05, 'min_child_samples': 46, 'max_depth': 8, 'max_bin': 449, 'min_data_in_leaf': 35, 'extra_trees': False, 'early_stopping_rounds': 36, 'path_smooth': 0.7921658093681521, 'min_gain_to_split': 0.17396390438488743}. Best is trial 90 with value: 0.19560060749639271.\n"
     ]
    },
    {
     "name": "stdout",
     "output_type": "stream",
     "text": [
      "Mejor trial hasta ahora: RMSE=0.195601, Parámetros={'num_leaves': 67, 'learning_rate': 0.289541332531506, 'feature_fraction': 0.9141674067136535, 'bagging_fraction': 0.8211880852640258, 'bagging_freq': 1, 'lambda_l1': 2.224602451485934e-05, 'lambda_l2': 1.584438270871008e-06, 'min_child_samples': 43, 'max_depth': 8, 'max_bin': 468, 'min_data_in_leaf': 32, 'extra_trees': False, 'early_stopping_rounds': 37, 'path_smooth': 0.7568494780343825, 'min_gain_to_split': 0.0951540169694924}\n"
     ]
    },
    {
     "name": "stderr",
     "output_type": "stream",
     "text": [
      "[I 2025-07-06 13:15:00,969] Trial 102 finished with value: 0.3411707074303595 and parameters: {'num_leaves': 68, 'learning_rate': 0.279463997338492, 'feature_fraction': 0.9066019901197737, 'bagging_fraction': 0.8354012624785716, 'bagging_freq': 1, 'lambda_l1': 5.121916821005699e-05, 'lambda_l2': 1.6456314437590815e-06, 'min_child_samples': 49, 'max_depth': 8, 'max_bin': 443, 'min_data_in_leaf': 27, 'extra_trees': False, 'early_stopping_rounds': 42, 'path_smooth': 0.8345352376058353, 'min_gain_to_split': 0.07733004876488495}. Best is trial 90 with value: 0.19560060749639271.\n"
     ]
    },
    {
     "name": "stdout",
     "output_type": "stream",
     "text": [
      "Mejor trial hasta ahora: RMSE=0.195601, Parámetros={'num_leaves': 67, 'learning_rate': 0.289541332531506, 'feature_fraction': 0.9141674067136535, 'bagging_fraction': 0.8211880852640258, 'bagging_freq': 1, 'lambda_l1': 2.224602451485934e-05, 'lambda_l2': 1.584438270871008e-06, 'min_child_samples': 43, 'max_depth': 8, 'max_bin': 468, 'min_data_in_leaf': 32, 'extra_trees': False, 'early_stopping_rounds': 37, 'path_smooth': 0.7568494780343825, 'min_gain_to_split': 0.0951540169694924}\n"
     ]
    },
    {
     "name": "stderr",
     "output_type": "stream",
     "text": [
      "[I 2025-07-06 13:26:31,609] Trial 103 finished with value: 0.2183900072457931 and parameters: {'num_leaves': 80, 'learning_rate': 0.2978015714916315, 'feature_fraction': 0.898986789034254, 'bagging_fraction': 0.8508859068785651, 'bagging_freq': 2, 'lambda_l1': 3.078896233320762e-05, 'lambda_l2': 2.5378764099522793e-05, 'min_child_samples': 43, 'max_depth': 8, 'max_bin': 459, 'min_data_in_leaf': 32, 'extra_trees': False, 'early_stopping_rounds': 36, 'path_smooth': 0.7067188124004884, 'min_gain_to_split': 0.10072846430998864}. Best is trial 90 with value: 0.19560060749639271.\n"
     ]
    },
    {
     "name": "stdout",
     "output_type": "stream",
     "text": [
      "Mejor trial hasta ahora: RMSE=0.195601, Parámetros={'num_leaves': 67, 'learning_rate': 0.289541332531506, 'feature_fraction': 0.9141674067136535, 'bagging_fraction': 0.8211880852640258, 'bagging_freq': 1, 'lambda_l1': 2.224602451485934e-05, 'lambda_l2': 1.584438270871008e-06, 'min_child_samples': 43, 'max_depth': 8, 'max_bin': 468, 'min_data_in_leaf': 32, 'extra_trees': False, 'early_stopping_rounds': 37, 'path_smooth': 0.7568494780343825, 'min_gain_to_split': 0.0951540169694924}\n"
     ]
    },
    {
     "name": "stderr",
     "output_type": "stream",
     "text": [
      "[I 2025-07-06 13:39:50,942] Trial 104 finished with value: 0.2591363969115698 and parameters: {'num_leaves': 65, 'learning_rate': 0.2964681731019566, 'feature_fraction': 0.8906482074342664, 'bagging_fraction': 0.825597047586351, 'bagging_freq': 1, 'lambda_l1': 1.3490949276989866e-05, 'lambda_l2': 3.318917306088318e-05, 'min_child_samples': 43, 'max_depth': 8, 'max_bin': 474, 'min_data_in_leaf': 32, 'extra_trees': False, 'early_stopping_rounds': 37, 'path_smooth': 0.7057757926758678, 'min_gain_to_split': 0.043378983444872996}. Best is trial 90 with value: 0.19560060749639271.\n"
     ]
    },
    {
     "name": "stdout",
     "output_type": "stream",
     "text": [
      "Mejor trial hasta ahora: RMSE=0.195601, Parámetros={'num_leaves': 67, 'learning_rate': 0.289541332531506, 'feature_fraction': 0.9141674067136535, 'bagging_fraction': 0.8211880852640258, 'bagging_freq': 1, 'lambda_l1': 2.224602451485934e-05, 'lambda_l2': 1.584438270871008e-06, 'min_child_samples': 43, 'max_depth': 8, 'max_bin': 468, 'min_data_in_leaf': 32, 'extra_trees': False, 'early_stopping_rounds': 37, 'path_smooth': 0.7568494780343825, 'min_gain_to_split': 0.0951540169694924}\n"
     ]
    },
    {
     "name": "stderr",
     "output_type": "stream",
     "text": [
      "[I 2025-07-06 13:53:35,712] Trial 105 finished with value: 0.3821240127358957 and parameters: {'num_leaves': 80, 'learning_rate': 0.21927163204100808, 'feature_fraction': 0.8951034068382537, 'bagging_fraction': 0.8073012008793223, 'bagging_freq': 2, 'lambda_l1': 1.3319938868327642e-05, 'lambda_l2': 0.00026660152195424723, 'min_child_samples': 42, 'max_depth': 8, 'max_bin': 476, 'min_data_in_leaf': 41, 'extra_trees': False, 'early_stopping_rounds': 35, 'path_smooth': 0.6867668861267884, 'min_gain_to_split': 0.09824076515526378}. Best is trial 90 with value: 0.19560060749639271.\n"
     ]
    },
    {
     "name": "stdout",
     "output_type": "stream",
     "text": [
      "Mejor trial hasta ahora: RMSE=0.195601, Parámetros={'num_leaves': 67, 'learning_rate': 0.289541332531506, 'feature_fraction': 0.9141674067136535, 'bagging_fraction': 0.8211880852640258, 'bagging_freq': 1, 'lambda_l1': 2.224602451485934e-05, 'lambda_l2': 1.584438270871008e-06, 'min_child_samples': 43, 'max_depth': 8, 'max_bin': 468, 'min_data_in_leaf': 32, 'extra_trees': False, 'early_stopping_rounds': 37, 'path_smooth': 0.7568494780343825, 'min_gain_to_split': 0.0951540169694924}\n"
     ]
    },
    {
     "name": "stderr",
     "output_type": "stream",
     "text": [
      "[I 2025-07-06 14:05:48,535] Trial 106 finished with value: 0.4269682234157905 and parameters: {'num_leaves': 72, 'learning_rate': 0.29907950767889235, 'feature_fraction': 0.8715020507237429, 'bagging_fraction': 0.8219899704119329, 'bagging_freq': 1, 'lambda_l1': 7.305312781556379e-05, 'lambda_l2': 3.5604134259019605e-05, 'min_child_samples': 44, 'max_depth': 7, 'max_bin': 495, 'min_data_in_leaf': 32, 'extra_trees': False, 'early_stopping_rounds': 39, 'path_smooth': 0.6366370073608623, 'min_gain_to_split': 0.028665105664569028}. Best is trial 90 with value: 0.19560060749639271.\n"
     ]
    },
    {
     "name": "stdout",
     "output_type": "stream",
     "text": [
      "Mejor trial hasta ahora: RMSE=0.195601, Parámetros={'num_leaves': 67, 'learning_rate': 0.289541332531506, 'feature_fraction': 0.9141674067136535, 'bagging_fraction': 0.8211880852640258, 'bagging_freq': 1, 'lambda_l1': 2.224602451485934e-05, 'lambda_l2': 1.584438270871008e-06, 'min_child_samples': 43, 'max_depth': 8, 'max_bin': 468, 'min_data_in_leaf': 32, 'extra_trees': False, 'early_stopping_rounds': 37, 'path_smooth': 0.7568494780343825, 'min_gain_to_split': 0.0951540169694924}\n"
     ]
    },
    {
     "name": "stderr",
     "output_type": "stream",
     "text": [
      "[I 2025-07-06 14:16:04,031] Trial 107 finished with value: 0.40516648925759496 and parameters: {'num_leaves': 86, 'learning_rate': 0.26352317613052634, 'feature_fraction': 0.8888763137815107, 'bagging_fraction': 0.8266969243563319, 'bagging_freq': 2, 'lambda_l1': 3.860370574431119e-05, 'lambda_l2': 0.00011729466661581179, 'min_child_samples': 47, 'max_depth': 7, 'max_bin': 429, 'min_data_in_leaf': 28, 'extra_trees': False, 'early_stopping_rounds': 36, 'path_smooth': 0.7118317553093818, 'min_gain_to_split': 0.13155781085006368}. Best is trial 90 with value: 0.19560060749639271.\n"
     ]
    },
    {
     "name": "stdout",
     "output_type": "stream",
     "text": [
      "Mejor trial hasta ahora: RMSE=0.195601, Parámetros={'num_leaves': 67, 'learning_rate': 0.289541332531506, 'feature_fraction': 0.9141674067136535, 'bagging_fraction': 0.8211880852640258, 'bagging_freq': 1, 'lambda_l1': 2.224602451485934e-05, 'lambda_l2': 1.584438270871008e-06, 'min_child_samples': 43, 'max_depth': 8, 'max_bin': 468, 'min_data_in_leaf': 32, 'extra_trees': False, 'early_stopping_rounds': 37, 'path_smooth': 0.7568494780343825, 'min_gain_to_split': 0.0951540169694924}\n"
     ]
    },
    {
     "name": "stderr",
     "output_type": "stream",
     "text": [
      "[I 2025-07-06 14:27:37,199] Trial 108 finished with value: 0.37989470934414216 and parameters: {'num_leaves': 75, 'learning_rate': 0.2762048400361703, 'feature_fraction': 0.9558001690826763, 'bagging_fraction': 0.8817344647970107, 'bagging_freq': 1, 'lambda_l1': 0.00012973802103803943, 'lambda_l2': 2.590749820398223e-05, 'min_child_samples': 46, 'max_depth': 8, 'max_bin': 459, 'min_data_in_leaf': 31, 'extra_trees': False, 'early_stopping_rounds': 37, 'path_smooth': 0.7256833002186291, 'min_gain_to_split': 0.04133976472837287}. Best is trial 90 with value: 0.19560060749639271.\n"
     ]
    },
    {
     "name": "stdout",
     "output_type": "stream",
     "text": [
      "Mejor trial hasta ahora: RMSE=0.195601, Parámetros={'num_leaves': 67, 'learning_rate': 0.289541332531506, 'feature_fraction': 0.9141674067136535, 'bagging_fraction': 0.8211880852640258, 'bagging_freq': 1, 'lambda_l1': 2.224602451485934e-05, 'lambda_l2': 1.584438270871008e-06, 'min_child_samples': 43, 'max_depth': 8, 'max_bin': 468, 'min_data_in_leaf': 32, 'extra_trees': False, 'early_stopping_rounds': 37, 'path_smooth': 0.7568494780343825, 'min_gain_to_split': 0.0951540169694924}\n"
     ]
    },
    {
     "name": "stderr",
     "output_type": "stream",
     "text": [
      "[I 2025-07-06 14:40:32,948] Trial 109 finished with value: 0.31237220731333093 and parameters: {'num_leaves': 82, 'learning_rate': 0.23047850928469055, 'feature_fraction': 0.9216470235897619, 'bagging_fraction': 0.8630217193780012, 'bagging_freq': 1, 'lambda_l1': 0.0002703535794897268, 'lambda_l2': 1.3305193920210187e-05, 'min_child_samples': 49, 'max_depth': 8, 'max_bin': 444, 'min_data_in_leaf': 37, 'extra_trees': False, 'early_stopping_rounds': 36, 'path_smooth': 0.6476747854201346, 'min_gain_to_split': 0.07634076909663867}. Best is trial 90 with value: 0.19560060749639271.\n"
     ]
    },
    {
     "name": "stdout",
     "output_type": "stream",
     "text": [
      "Mejor trial hasta ahora: RMSE=0.195601, Parámetros={'num_leaves': 67, 'learning_rate': 0.289541332531506, 'feature_fraction': 0.9141674067136535, 'bagging_fraction': 0.8211880852640258, 'bagging_freq': 1, 'lambda_l1': 2.224602451485934e-05, 'lambda_l2': 1.584438270871008e-06, 'min_child_samples': 43, 'max_depth': 8, 'max_bin': 468, 'min_data_in_leaf': 32, 'extra_trees': False, 'early_stopping_rounds': 37, 'path_smooth': 0.7568494780343825, 'min_gain_to_split': 0.0951540169694924}\n"
     ]
    },
    {
     "name": "stderr",
     "output_type": "stream",
     "text": [
      "[I 2025-07-06 14:56:59,541] Trial 110 finished with value: 0.2697671344289585 and parameters: {'num_leaves': 65, 'learning_rate': 0.1935903313467057, 'feature_fraction': 0.9016996351474932, 'bagging_fraction': 0.8523350829636595, 'bagging_freq': 2, 'lambda_l1': 2.0279506890320696e-06, 'lambda_l2': 7.366213175132433e-05, 'min_child_samples': 48, 'max_depth': 8, 'max_bin': 477, 'min_data_in_leaf': 39, 'extra_trees': False, 'early_stopping_rounds': 40, 'path_smooth': 0.8375749297281057, 'min_gain_to_split': 0.09434283303411083}. Best is trial 90 with value: 0.19560060749639271.\n"
     ]
    },
    {
     "name": "stdout",
     "output_type": "stream",
     "text": [
      "Mejor trial hasta ahora: RMSE=0.195601, Parámetros={'num_leaves': 67, 'learning_rate': 0.289541332531506, 'feature_fraction': 0.9141674067136535, 'bagging_fraction': 0.8211880852640258, 'bagging_freq': 1, 'lambda_l1': 2.224602451485934e-05, 'lambda_l2': 1.584438270871008e-06, 'min_child_samples': 43, 'max_depth': 8, 'max_bin': 468, 'min_data_in_leaf': 32, 'extra_trees': False, 'early_stopping_rounds': 37, 'path_smooth': 0.7568494780343825, 'min_gain_to_split': 0.0951540169694924}\n"
     ]
    },
    {
     "name": "stderr",
     "output_type": "stream",
     "text": [
      "[I 2025-07-06 15:11:32,216] Trial 111 finished with value: 0.19175511746303414 and parameters: {'num_leaves': 70, 'learning_rate': 0.25072606384602897, 'feature_fraction': 0.9404694279655373, 'bagging_fraction': 0.8538790246000807, 'bagging_freq': 2, 'lambda_l1': 2.3699566571925306e-06, 'lambda_l2': 7.596093664820326e-05, 'min_child_samples': 50, 'max_depth': 8, 'max_bin': 478, 'min_data_in_leaf': 39, 'extra_trees': False, 'early_stopping_rounds': 40, 'path_smooth': 0.8312783630398137, 'min_gain_to_split': 0.09724216662326413}. Best is trial 111 with value: 0.19175511746303414.\n"
     ]
    },
    {
     "name": "stdout",
     "output_type": "stream",
     "text": [
      "Mejor trial hasta ahora: RMSE=0.191755, Parámetros={'num_leaves': 70, 'learning_rate': 0.25072606384602897, 'feature_fraction': 0.9404694279655373, 'bagging_fraction': 0.8538790246000807, 'bagging_freq': 2, 'lambda_l1': 2.3699566571925306e-06, 'lambda_l2': 7.596093664820326e-05, 'min_child_samples': 50, 'max_depth': 8, 'max_bin': 478, 'min_data_in_leaf': 39, 'extra_trees': False, 'early_stopping_rounds': 40, 'path_smooth': 0.8312783630398137, 'min_gain_to_split': 0.09724216662326413}\n"
     ]
    },
    {
     "name": "stderr",
     "output_type": "stream",
     "text": [
      "[I 2025-07-06 15:24:02,204] Trial 112 finished with value: 0.4499627528971951 and parameters: {'num_leaves': 70, 'learning_rate': 0.25596646249146177, 'feature_fraction': 0.8996437779123743, 'bagging_fraction': 0.852224034260563, 'bagging_freq': 2, 'lambda_l1': 2.210036242564314e-06, 'lambda_l2': 8.697705168020285e-05, 'min_child_samples': 50, 'max_depth': 8, 'max_bin': 482, 'min_data_in_leaf': 44, 'extra_trees': False, 'early_stopping_rounds': 40, 'path_smooth': 0.8215461453302517, 'min_gain_to_split': 0.10143617132914462}. Best is trial 111 with value: 0.19175511746303414.\n"
     ]
    },
    {
     "name": "stdout",
     "output_type": "stream",
     "text": [
      "Mejor trial hasta ahora: RMSE=0.191755, Parámetros={'num_leaves': 70, 'learning_rate': 0.25072606384602897, 'feature_fraction': 0.9404694279655373, 'bagging_fraction': 0.8538790246000807, 'bagging_freq': 2, 'lambda_l1': 2.3699566571925306e-06, 'lambda_l2': 7.596093664820326e-05, 'min_child_samples': 50, 'max_depth': 8, 'max_bin': 478, 'min_data_in_leaf': 39, 'extra_trees': False, 'early_stopping_rounds': 40, 'path_smooth': 0.8312783630398137, 'min_gain_to_split': 0.09724216662326413}\n"
     ]
    },
    {
     "name": "stderr",
     "output_type": "stream",
     "text": [
      "[I 2025-07-06 15:41:29,284] Trial 113 finished with value: 0.32661740626090086 and parameters: {'num_leaves': 65, 'learning_rate': 0.20457986985716933, 'feature_fraction': 0.938997693158128, 'bagging_fraction': 0.8351730616825701, 'bagging_freq': 2, 'lambda_l1': 1.2511060265071214e-05, 'lambda_l2': 0.00045396893203238716, 'min_child_samples': 48, 'max_depth': 8, 'max_bin': 474, 'min_data_in_leaf': 39, 'extra_trees': False, 'early_stopping_rounds': 41, 'path_smooth': 0.8425486940455564, 'min_gain_to_split': 0.06302425558735661}. Best is trial 111 with value: 0.19175511746303414.\n"
     ]
    },
    {
     "name": "stdout",
     "output_type": "stream",
     "text": [
      "Mejor trial hasta ahora: RMSE=0.191755, Parámetros={'num_leaves': 70, 'learning_rate': 0.25072606384602897, 'feature_fraction': 0.9404694279655373, 'bagging_fraction': 0.8538790246000807, 'bagging_freq': 2, 'lambda_l1': 2.3699566571925306e-06, 'lambda_l2': 7.596093664820326e-05, 'min_child_samples': 50, 'max_depth': 8, 'max_bin': 478, 'min_data_in_leaf': 39, 'extra_trees': False, 'early_stopping_rounds': 40, 'path_smooth': 0.8312783630398137, 'min_gain_to_split': 0.09724216662326413}\n"
     ]
    },
    {
     "name": "stderr",
     "output_type": "stream",
     "text": [
      "[I 2025-07-06 15:54:46,061] Trial 114 finished with value: 0.30835285656054323 and parameters: {'num_leaves': 75, 'learning_rate': 0.24220122877815795, 'feature_fraction': 0.8755699566726697, 'bagging_fraction': 0.8438664673884031, 'bagging_freq': 2, 'lambda_l1': 5.562903502671906e-06, 'lambda_l2': 0.0001811996058837843, 'min_child_samples': 49, 'max_depth': 8, 'max_bin': 500, 'min_data_in_leaf': 35, 'extra_trees': False, 'early_stopping_rounds': 42, 'path_smooth': 0.7562047848213778, 'min_gain_to_split': 0.08913686935385327}. Best is trial 111 with value: 0.19175511746303414.\n"
     ]
    },
    {
     "name": "stdout",
     "output_type": "stream",
     "text": [
      "Mejor trial hasta ahora: RMSE=0.191755, Parámetros={'num_leaves': 70, 'learning_rate': 0.25072606384602897, 'feature_fraction': 0.9404694279655373, 'bagging_fraction': 0.8538790246000807, 'bagging_freq': 2, 'lambda_l1': 2.3699566571925306e-06, 'lambda_l2': 7.596093664820326e-05, 'min_child_samples': 50, 'max_depth': 8, 'max_bin': 478, 'min_data_in_leaf': 39, 'extra_trees': False, 'early_stopping_rounds': 40, 'path_smooth': 0.8312783630398137, 'min_gain_to_split': 0.09724216662326413}\n"
     ]
    },
    {
     "name": "stderr",
     "output_type": "stream",
     "text": [
      "[I 2025-07-06 16:04:10,017] Trial 115 finished with value: 0.363827628459693 and parameters: {'num_leaves': 78, 'learning_rate': 0.29947128193291006, 'feature_fraction': 0.9477361408288699, 'bagging_fraction': 0.8121076721394287, 'bagging_freq': 2, 'lambda_l1': 5.895156687972439e-07, 'lambda_l2': 3.643180945101303e-05, 'min_child_samples': 47, 'max_depth': 8, 'max_bin': 459, 'min_data_in_leaf': 41, 'extra_trees': False, 'early_stopping_rounds': 39, 'path_smooth': 0.04707132597243102, 'min_gain_to_split': 0.1509459855052678}. Best is trial 111 with value: 0.19175511746303414.\n"
     ]
    },
    {
     "name": "stdout",
     "output_type": "stream",
     "text": [
      "Mejor trial hasta ahora: RMSE=0.191755, Parámetros={'num_leaves': 70, 'learning_rate': 0.25072606384602897, 'feature_fraction': 0.9404694279655373, 'bagging_fraction': 0.8538790246000807, 'bagging_freq': 2, 'lambda_l1': 2.3699566571925306e-06, 'lambda_l2': 7.596093664820326e-05, 'min_child_samples': 50, 'max_depth': 8, 'max_bin': 478, 'min_data_in_leaf': 39, 'extra_trees': False, 'early_stopping_rounds': 40, 'path_smooth': 0.8312783630398137, 'min_gain_to_split': 0.09724216662326413}\n"
     ]
    },
    {
     "name": "stderr",
     "output_type": "stream",
     "text": [
      "[I 2025-07-06 16:17:34,590] Trial 116 finished with value: 0.46023061005340116 and parameters: {'num_leaves': 71, 'learning_rate': 0.2305753192544976, 'feature_fraction': 0.8847712645929888, 'bagging_fraction': 0.8654278444918801, 'bagging_freq': 1, 'lambda_l1': 1.3980381985127356e-06, 'lambda_l2': 8.424664589252463e-06, 'min_child_samples': 45, 'max_depth': 7, 'max_bin': 453, 'min_data_in_leaf': 32, 'extra_trees': False, 'early_stopping_rounds': 40, 'path_smooth': 0.8102160733657531, 'min_gain_to_split': 0.019330942628625947}. Best is trial 111 with value: 0.19175511746303414.\n"
     ]
    },
    {
     "name": "stdout",
     "output_type": "stream",
     "text": [
      "Mejor trial hasta ahora: RMSE=0.191755, Parámetros={'num_leaves': 70, 'learning_rate': 0.25072606384602897, 'feature_fraction': 0.9404694279655373, 'bagging_fraction': 0.8538790246000807, 'bagging_freq': 2, 'lambda_l1': 2.3699566571925306e-06, 'lambda_l2': 7.596093664820326e-05, 'min_child_samples': 50, 'max_depth': 8, 'max_bin': 478, 'min_data_in_leaf': 39, 'extra_trees': False, 'early_stopping_rounds': 40, 'path_smooth': 0.8312783630398137, 'min_gain_to_split': 0.09724216662326413}\n"
     ]
    },
    {
     "name": "stderr",
     "output_type": "stream",
     "text": [
      "[I 2025-07-06 16:30:00,859] Trial 117 finished with value: 0.5652258416368037 and parameters: {'num_leaves': 69, 'learning_rate': 0.1926734653312977, 'feature_fraction': 0.898437082416981, 'bagging_fraction': 0.8299079146482259, 'bagging_freq': 2, 'lambda_l1': 7.573326931285046e-06, 'lambda_l2': 7.713289583384026e-05, 'min_child_samples': 50, 'max_depth': 8, 'max_bin': 484, 'min_data_in_leaf': 37, 'extra_trees': False, 'early_stopping_rounds': 17, 'path_smooth': 0.8904440653941801, 'min_gain_to_split': 0.07375965247081138}. Best is trial 111 with value: 0.19175511746303414.\n"
     ]
    },
    {
     "name": "stdout",
     "output_type": "stream",
     "text": [
      "Mejor trial hasta ahora: RMSE=0.191755, Parámetros={'num_leaves': 70, 'learning_rate': 0.25072606384602897, 'feature_fraction': 0.9404694279655373, 'bagging_fraction': 0.8538790246000807, 'bagging_freq': 2, 'lambda_l1': 2.3699566571925306e-06, 'lambda_l2': 7.596093664820326e-05, 'min_child_samples': 50, 'max_depth': 8, 'max_bin': 478, 'min_data_in_leaf': 39, 'extra_trees': False, 'early_stopping_rounds': 40, 'path_smooth': 0.8312783630398137, 'min_gain_to_split': 0.09724216662326413}\n"
     ]
    },
    {
     "name": "stderr",
     "output_type": "stream",
     "text": [
      "[I 2025-07-06 16:35:22,881] Trial 118 finished with value: 0.8274405128690983 and parameters: {'num_leaves': 65, 'learning_rate': 0.2140695459067385, 'feature_fraction': 0.9930911834246612, 'bagging_fraction': 0.840342954641144, 'bagging_freq': 1, 'lambda_l1': 2.301178174746549e-06, 'lambda_l2': 1.6185884872657523e-05, 'min_child_samples': 47, 'max_depth': 6, 'max_bin': 494, 'min_data_in_leaf': 39, 'extra_trees': True, 'early_stopping_rounds': 43, 'path_smooth': 0.7008147872059143, 'min_gain_to_split': 0.05411648980061452}. Best is trial 111 with value: 0.19175511746303414.\n"
     ]
    },
    {
     "name": "stdout",
     "output_type": "stream",
     "text": [
      "Mejor trial hasta ahora: RMSE=0.191755, Parámetros={'num_leaves': 70, 'learning_rate': 0.25072606384602897, 'feature_fraction': 0.9404694279655373, 'bagging_fraction': 0.8538790246000807, 'bagging_freq': 2, 'lambda_l1': 2.3699566571925306e-06, 'lambda_l2': 7.596093664820326e-05, 'min_child_samples': 50, 'max_depth': 8, 'max_bin': 478, 'min_data_in_leaf': 39, 'extra_trees': False, 'early_stopping_rounds': 40, 'path_smooth': 0.8312783630398137, 'min_gain_to_split': 0.09724216662326413}\n"
     ]
    },
    {
     "name": "stderr",
     "output_type": "stream",
     "text": [
      "[I 2025-07-06 16:54:08,002] Trial 119 finished with value: 0.7539477547052134 and parameters: {'num_leaves': 73, 'learning_rate': 0.04990388596102001, 'feature_fraction': 0.8555947094958358, 'bagging_fraction': 0.8538923425727742, 'bagging_freq': 1, 'lambda_l1': 2.895207305967005e-05, 'lambda_l2': 5.984959510494336e-06, 'min_child_samples': 42, 'max_depth': 7, 'max_bin': 472, 'min_data_in_leaf': 36, 'extra_trees': False, 'early_stopping_rounds': 37, 'path_smooth': 0.7369164711741523, 'min_gain_to_split': 0.12095020682524117}. Best is trial 111 with value: 0.19175511746303414.\n"
     ]
    },
    {
     "name": "stdout",
     "output_type": "stream",
     "text": [
      "Mejor trial hasta ahora: RMSE=0.191755, Parámetros={'num_leaves': 70, 'learning_rate': 0.25072606384602897, 'feature_fraction': 0.9404694279655373, 'bagging_fraction': 0.8538790246000807, 'bagging_freq': 2, 'lambda_l1': 2.3699566571925306e-06, 'lambda_l2': 7.596093664820326e-05, 'min_child_samples': 50, 'max_depth': 8, 'max_bin': 478, 'min_data_in_leaf': 39, 'extra_trees': False, 'early_stopping_rounds': 40, 'path_smooth': 0.8312783630398137, 'min_gain_to_split': 0.09724216662326413}\n"
     ]
    },
    {
     "name": "stderr",
     "output_type": "stream",
     "text": [
      "[I 2025-07-06 17:17:29,657] Trial 120 finished with value: 0.8530786346102538 and parameters: {'num_leaves': 66, 'learning_rate': 0.039875943066022324, 'feature_fraction': 0.9199260108742106, 'bagging_fraction': 0.836111910719877, 'bagging_freq': 2, 'lambda_l1': 1.7647560000041837e-05, 'lambda_l2': 3.4969543002706225e-05, 'min_child_samples': 44, 'max_depth': 8, 'max_bin': 461, 'min_data_in_leaf': 34, 'extra_trees': False, 'early_stopping_rounds': 39, 'path_smooth': 0.7762329854719107, 'min_gain_to_split': 0.043638197684758524}. Best is trial 111 with value: 0.19175511746303414.\n"
     ]
    },
    {
     "name": "stdout",
     "output_type": "stream",
     "text": [
      "Mejor trial hasta ahora: RMSE=0.191755, Parámetros={'num_leaves': 70, 'learning_rate': 0.25072606384602897, 'feature_fraction': 0.9404694279655373, 'bagging_fraction': 0.8538790246000807, 'bagging_freq': 2, 'lambda_l1': 2.3699566571925306e-06, 'lambda_l2': 7.596093664820326e-05, 'min_child_samples': 50, 'max_depth': 8, 'max_bin': 478, 'min_data_in_leaf': 39, 'extra_trees': False, 'early_stopping_rounds': 40, 'path_smooth': 0.8312783630398137, 'min_gain_to_split': 0.09724216662326413}\n"
     ]
    },
    {
     "name": "stderr",
     "output_type": "stream",
     "text": [
      "[I 2025-07-06 17:25:05,125] Trial 121 finished with value: 0.24591745520407135 and parameters: {'num_leaves': 64, 'learning_rate': 0.27430703318329624, 'feature_fraction': 0.9331123288888066, 'bagging_fraction': 0.8615425284792445, 'bagging_freq': 1, 'lambda_l1': 4.614000715217328e-05, 'lambda_l2': 0.00015060287058772298, 'min_child_samples': 43, 'max_depth': 8, 'max_bin': 278, 'min_data_in_leaf': 27, 'extra_trees': False, 'early_stopping_rounds': 35, 'path_smooth': 0.840092834066593, 'min_gain_to_split': 0.1368667518792999}. Best is trial 111 with value: 0.19175511746303414.\n"
     ]
    },
    {
     "name": "stdout",
     "output_type": "stream",
     "text": [
      "Mejor trial hasta ahora: RMSE=0.191755, Parámetros={'num_leaves': 70, 'learning_rate': 0.25072606384602897, 'feature_fraction': 0.9404694279655373, 'bagging_fraction': 0.8538790246000807, 'bagging_freq': 2, 'lambda_l1': 2.3699566571925306e-06, 'lambda_l2': 7.596093664820326e-05, 'min_child_samples': 50, 'max_depth': 8, 'max_bin': 478, 'min_data_in_leaf': 39, 'extra_trees': False, 'early_stopping_rounds': 40, 'path_smooth': 0.8312783630398137, 'min_gain_to_split': 0.09724216662326413}\n"
     ]
    },
    {
     "name": "stderr",
     "output_type": "stream",
     "text": [
      "[I 2025-07-06 17:32:36,609] Trial 122 finished with value: 0.18531639606907524 and parameters: {'num_leaves': 64, 'learning_rate': 0.28065227608035226, 'feature_fraction': 0.9333600565094247, 'bagging_fraction': 0.8598520114855284, 'bagging_freq': 1, 'lambda_l1': 3.0537157049570355e-07, 'lambda_l2': 0.0007720811892991811, 'min_child_samples': 43, 'max_depth': 8, 'max_bin': 281, 'min_data_in_leaf': 27, 'extra_trees': False, 'early_stopping_rounds': 35, 'path_smooth': 0.8373589929930142, 'min_gain_to_split': 0.13429383452015403}. Best is trial 122 with value: 0.18531639606907524.\n"
     ]
    },
    {
     "name": "stdout",
     "output_type": "stream",
     "text": [
      "Mejor trial hasta ahora: RMSE=0.185316, Parámetros={'num_leaves': 64, 'learning_rate': 0.28065227608035226, 'feature_fraction': 0.9333600565094247, 'bagging_fraction': 0.8598520114855284, 'bagging_freq': 1, 'lambda_l1': 3.0537157049570355e-07, 'lambda_l2': 0.0007720811892991811, 'min_child_samples': 43, 'max_depth': 8, 'max_bin': 281, 'min_data_in_leaf': 27, 'extra_trees': False, 'early_stopping_rounds': 35, 'path_smooth': 0.8373589929930142, 'min_gain_to_split': 0.13429383452015403}\n"
     ]
    },
    {
     "name": "stderr",
     "output_type": "stream",
     "text": [
      "[I 2025-07-06 17:40:27,597] Trial 123 finished with value: 0.3331464383730124 and parameters: {'num_leaves': 64, 'learning_rate': 0.2533365567644298, 'feature_fraction': 0.9422501962141725, 'bagging_fraction': 0.8756153493331141, 'bagging_freq': 1, 'lambda_l1': 4.571254093825575e-06, 'lambda_l2': 0.00100934305471849, 'min_child_samples': 46, 'max_depth': 8, 'max_bin': 279, 'min_data_in_leaf': 26, 'extra_trees': False, 'early_stopping_rounds': 38, 'path_smooth': 0.791187597915517, 'min_gain_to_split': 0.1399783946356929}. Best is trial 122 with value: 0.18531639606907524.\n"
     ]
    },
    {
     "name": "stdout",
     "output_type": "stream",
     "text": [
      "Mejor trial hasta ahora: RMSE=0.185316, Parámetros={'num_leaves': 64, 'learning_rate': 0.28065227608035226, 'feature_fraction': 0.9333600565094247, 'bagging_fraction': 0.8598520114855284, 'bagging_freq': 1, 'lambda_l1': 3.0537157049570355e-07, 'lambda_l2': 0.0007720811892991811, 'min_child_samples': 43, 'max_depth': 8, 'max_bin': 281, 'min_data_in_leaf': 27, 'extra_trees': False, 'early_stopping_rounds': 35, 'path_smooth': 0.8373589929930142, 'min_gain_to_split': 0.13429383452015403}\n"
     ]
    },
    {
     "name": "stderr",
     "output_type": "stream",
     "text": [
      "[I 2025-07-06 17:47:13,762] Trial 124 finished with value: 0.2535448582776546 and parameters: {'num_leaves': 68, 'learning_rate': 0.2776895051775872, 'feature_fraction': 0.9086811033157028, 'bagging_fraction': 0.8579250694293304, 'bagging_freq': 1, 'lambda_l1': 2.177184309693806e-07, 'lambda_l2': 0.0001909082741303392, 'min_child_samples': 43, 'max_depth': 8, 'max_bin': 248, 'min_data_in_leaf': 31, 'extra_trees': False, 'early_stopping_rounds': 35, 'path_smooth': 0.8473798983670309, 'min_gain_to_split': 0.16251944780494904}. Best is trial 122 with value: 0.18531639606907524.\n"
     ]
    },
    {
     "name": "stdout",
     "output_type": "stream",
     "text": [
      "Mejor trial hasta ahora: RMSE=0.185316, Parámetros={'num_leaves': 64, 'learning_rate': 0.28065227608035226, 'feature_fraction': 0.9333600565094247, 'bagging_fraction': 0.8598520114855284, 'bagging_freq': 1, 'lambda_l1': 3.0537157049570355e-07, 'lambda_l2': 0.0007720811892991811, 'min_child_samples': 43, 'max_depth': 8, 'max_bin': 281, 'min_data_in_leaf': 27, 'extra_trees': False, 'early_stopping_rounds': 35, 'path_smooth': 0.8373589929930142, 'min_gain_to_split': 0.13429383452015403}\n"
     ]
    },
    {
     "name": "stderr",
     "output_type": "stream",
     "text": [
      "[I 2025-07-06 17:53:47,286] Trial 125 finished with value: 0.292470440043143 and parameters: {'num_leaves': 59, 'learning_rate': 0.27507403262515845, 'feature_fraction': 0.9059265564078354, 'bagging_fraction': 0.8695065766042003, 'bagging_freq': 2, 'lambda_l1': 2.1771755245071121e-07, 'lambda_l2': 0.0001984876999417089, 'min_child_samples': 48, 'max_depth': 8, 'max_bin': 257, 'min_data_in_leaf': 25, 'extra_trees': False, 'early_stopping_rounds': 35, 'path_smooth': 0.8296791798842134, 'min_gain_to_split': 0.16624916454384916}. Best is trial 122 with value: 0.18531639606907524.\n"
     ]
    },
    {
     "name": "stdout",
     "output_type": "stream",
     "text": [
      "Mejor trial hasta ahora: RMSE=0.185316, Parámetros={'num_leaves': 64, 'learning_rate': 0.28065227608035226, 'feature_fraction': 0.9333600565094247, 'bagging_fraction': 0.8598520114855284, 'bagging_freq': 1, 'lambda_l1': 3.0537157049570355e-07, 'lambda_l2': 0.0007720811892991811, 'min_child_samples': 43, 'max_depth': 8, 'max_bin': 281, 'min_data_in_leaf': 27, 'extra_trees': False, 'early_stopping_rounds': 35, 'path_smooth': 0.8373589929930142, 'min_gain_to_split': 0.13429383452015403}\n"
     ]
    },
    {
     "name": "stderr",
     "output_type": "stream",
     "text": [
      "[I 2025-07-06 17:59:53,996] Trial 126 finished with value: 0.24470366082951345 and parameters: {'num_leaves': 70, 'learning_rate': 0.26081695741932664, 'feature_fraction': 0.6398181397402944, 'bagging_fraction': 0.8571020485415388, 'bagging_freq': 1, 'lambda_l1': 4.03863321388882e-07, 'lambda_l2': 0.0005054534179110595, 'min_child_samples': 45, 'max_depth': 8, 'max_bin': 273, 'min_data_in_leaf': 30, 'extra_trees': False, 'early_stopping_rounds': 37, 'path_smooth': 0.8133323244096561, 'min_gain_to_split': 0.19500736148979428}. Best is trial 122 with value: 0.18531639606907524.\n"
     ]
    },
    {
     "name": "stdout",
     "output_type": "stream",
     "text": [
      "Mejor trial hasta ahora: RMSE=0.185316, Parámetros={'num_leaves': 64, 'learning_rate': 0.28065227608035226, 'feature_fraction': 0.9333600565094247, 'bagging_fraction': 0.8598520114855284, 'bagging_freq': 1, 'lambda_l1': 3.0537157049570355e-07, 'lambda_l2': 0.0007720811892991811, 'min_child_samples': 43, 'max_depth': 8, 'max_bin': 281, 'min_data_in_leaf': 27, 'extra_trees': False, 'early_stopping_rounds': 35, 'path_smooth': 0.8373589929930142, 'min_gain_to_split': 0.13429383452015403}\n"
     ]
    },
    {
     "name": "stderr",
     "output_type": "stream",
     "text": [
      "[I 2025-07-06 18:06:11,569] Trial 127 finished with value: 0.4170690346192085 and parameters: {'num_leaves': 70, 'learning_rate': 0.26122627188870445, 'feature_fraction': 0.9810265050310847, 'bagging_fraction': 0.8599526849895638, 'bagging_freq': 1, 'lambda_l1': 5.836043870404297e-07, 'lambda_l2': 0.000765004009307237, 'min_child_samples': 44, 'max_depth': 8, 'max_bin': 237, 'min_data_in_leaf': 30, 'extra_trees': False, 'early_stopping_rounds': 37, 'path_smooth': 0.8102517088179801, 'min_gain_to_split': 0.19400651080822184}. Best is trial 122 with value: 0.18531639606907524.\n"
     ]
    },
    {
     "name": "stdout",
     "output_type": "stream",
     "text": [
      "Mejor trial hasta ahora: RMSE=0.185316, Parámetros={'num_leaves': 64, 'learning_rate': 0.28065227608035226, 'feature_fraction': 0.9333600565094247, 'bagging_fraction': 0.8598520114855284, 'bagging_freq': 1, 'lambda_l1': 3.0537157049570355e-07, 'lambda_l2': 0.0007720811892991811, 'min_child_samples': 43, 'max_depth': 8, 'max_bin': 281, 'min_data_in_leaf': 27, 'extra_trees': False, 'early_stopping_rounds': 35, 'path_smooth': 0.8373589929930142, 'min_gain_to_split': 0.13429383452015403}\n"
     ]
    },
    {
     "name": "stderr",
     "output_type": "stream",
     "text": [
      "[I 2025-07-06 18:13:28,536] Trial 128 finished with value: 0.29892729528451106 and parameters: {'num_leaves': 74, 'learning_rate': 0.236225121059468, 'feature_fraction': 0.7616682881485888, 'bagging_fraction': 0.7987886328187602, 'bagging_freq': 1, 'lambda_l1': 2.6834914631950434e-07, 'lambda_l2': 0.0014465060759355716, 'min_child_samples': 45, 'max_depth': 8, 'max_bin': 297, 'min_data_in_leaf': 22, 'extra_trees': False, 'early_stopping_rounds': 35, 'path_smooth': 0.7545738416056206, 'min_gain_to_split': 0.1866448590785937}. Best is trial 122 with value: 0.18531639606907524.\n"
     ]
    },
    {
     "name": "stdout",
     "output_type": "stream",
     "text": [
      "Mejor trial hasta ahora: RMSE=0.185316, Parámetros={'num_leaves': 64, 'learning_rate': 0.28065227608035226, 'feature_fraction': 0.9333600565094247, 'bagging_fraction': 0.8598520114855284, 'bagging_freq': 1, 'lambda_l1': 3.0537157049570355e-07, 'lambda_l2': 0.0007720811892991811, 'min_child_samples': 43, 'max_depth': 8, 'max_bin': 281, 'min_data_in_leaf': 27, 'extra_trees': False, 'early_stopping_rounds': 35, 'path_smooth': 0.8373589929930142, 'min_gain_to_split': 0.13429383452015403}\n"
     ]
    },
    {
     "name": "stderr",
     "output_type": "stream",
     "text": [
      "[I 2025-07-06 18:19:06,985] Trial 129 finished with value: 0.5415751282395478 and parameters: {'num_leaves': 68, 'learning_rate': 0.2785469609325003, 'feature_fraction': 0.9354563521019831, 'bagging_fraction': 0.8831480269491641, 'bagging_freq': 6, 'lambda_l1': 4.0031789231836083e-07, 'lambda_l2': 0.0027198892172274397, 'min_child_samples': 43, 'max_depth': 7, 'max_bin': 263, 'min_data_in_leaf': 27, 'extra_trees': False, 'early_stopping_rounds': 13, 'path_smooth': 0.7885793654920624, 'min_gain_to_split': 0.15985019316767696}. Best is trial 122 with value: 0.18531639606907524.\n"
     ]
    },
    {
     "name": "stdout",
     "output_type": "stream",
     "text": [
      "Mejor trial hasta ahora: RMSE=0.185316, Parámetros={'num_leaves': 64, 'learning_rate': 0.28065227608035226, 'feature_fraction': 0.9333600565094247, 'bagging_fraction': 0.8598520114855284, 'bagging_freq': 1, 'lambda_l1': 3.0537157049570355e-07, 'lambda_l2': 0.0007720811892991811, 'min_child_samples': 43, 'max_depth': 8, 'max_bin': 281, 'min_data_in_leaf': 27, 'extra_trees': False, 'early_stopping_rounds': 35, 'path_smooth': 0.8373589929930142, 'min_gain_to_split': 0.13429383452015403}\n"
     ]
    },
    {
     "name": "stderr",
     "output_type": "stream",
     "text": [
      "[I 2025-07-06 18:26:20,384] Trial 130 finished with value: 0.4025874270084392 and parameters: {'num_leaves': 72, 'learning_rate': 0.22207845842750307, 'feature_fraction': 0.6300926148936741, 'bagging_fraction': 0.8584653470046534, 'bagging_freq': 1, 'lambda_l1': 1.7172376619691648e-07, 'lambda_l2': 0.0005344853660507952, 'min_child_samples': 46, 'max_depth': 8, 'max_bin': 280, 'min_data_in_leaf': 31, 'extra_trees': False, 'early_stopping_rounds': 36, 'path_smooth': 0.6788386634945727, 'min_gain_to_split': 0.1084605953940655}. Best is trial 122 with value: 0.18531639606907524.\n"
     ]
    },
    {
     "name": "stdout",
     "output_type": "stream",
     "text": [
      "Mejor trial hasta ahora: RMSE=0.185316, Parámetros={'num_leaves': 64, 'learning_rate': 0.28065227608035226, 'feature_fraction': 0.9333600565094247, 'bagging_fraction': 0.8598520114855284, 'bagging_freq': 1, 'lambda_l1': 3.0537157049570355e-07, 'lambda_l2': 0.0007720811892991811, 'min_child_samples': 43, 'max_depth': 8, 'max_bin': 281, 'min_data_in_leaf': 27, 'extra_trees': False, 'early_stopping_rounds': 35, 'path_smooth': 0.8373589929930142, 'min_gain_to_split': 0.13429383452015403}\n",
      "Estudio guardado en: sqlite:///optuna_studies_v19.db\n",
      "\n",
      "Mejores hiperparámetros encontrados:\n",
      "num_leaves: 64\n",
      "learning_rate: 0.28065227608035226\n",
      "feature_fraction: 0.9333600565094247\n",
      "bagging_fraction: 0.8598520114855284\n",
      "bagging_freq: 1\n",
      "lambda_l1: 3.0537157049570355e-07\n",
      "lambda_l2: 0.0007720811892991811\n",
      "min_child_samples: 43\n",
      "max_depth: 8\n",
      "max_bin: 281\n",
      "min_data_in_leaf: 27\n",
      "extra_trees: False\n",
      "early_stopping_rounds: 35\n",
      "path_smooth: 0.8373589929930142\n",
      "min_gain_to_split: 0.13429383452015403\n"
     ]
    },
    {
     "data": {
      "text/plain": [
       "(<optuna.study.study.Study at 0x29a8c113550>,\n",
       " {'num_leaves': 64,\n",
       "  'learning_rate': 0.28065227608035226,\n",
       "  'feature_fraction': 0.9333600565094247,\n",
       "  'bagging_fraction': 0.8598520114855284,\n",
       "  'bagging_freq': 1,\n",
       "  'lambda_l1': 3.0537157049570355e-07,\n",
       "  'lambda_l2': 0.0007720811892991811,\n",
       "  'min_child_samples': 43,\n",
       "  'max_depth': 8,\n",
       "  'max_bin': 281,\n",
       "  'min_data_in_leaf': 27,\n",
       "  'extra_trees': False,\n",
       "  'early_stopping_rounds': 35,\n",
       "  'path_smooth': 0.8373589929930142,\n",
       "  'min_gain_to_split': 0.13429383452015403,\n",
       "  'objective': 'regression',\n",
       "  'metric': 'rmse',\n",
       "  'boosting_type': 'gbdt',\n",
       "  'verbosity': -1})"
      ]
     },
     "execution_count": 19,
     "metadata": {},
     "output_type": "execute_result"
    }
   ],
   "source": [
    "model_lgb.optimizar_con_optuna_con_semillerio_db(train, version=\"v19\", n_trials=500)"
   ]
  },
  {
   "cell_type": "markdown",
   "id": "99697cdb",
   "metadata": {},
   "source": [
    "Prediccion"
   ]
  },
  {
   "cell_type": "code",
   "execution_count": 20,
   "id": "2cff69ee",
   "metadata": {},
   "outputs": [],
   "source": [
    "df_future = model_lgb.semillerio_en_prediccion_con_pesos(train, test, version=\"v19\")"
   ]
  },
  {
   "cell_type": "code",
   "execution_count": 21,
   "id": "793edd1d",
   "metadata": {},
   "outputs": [
    {
     "data": {
      "application/vnd.microsoft.datawrangler.viewer.v0+json": {
       "columns": [
        {
         "name": "index",
         "rawType": "int64",
         "type": "integer"
        },
        {
         "name": "periodo",
         "rawType": "int64",
         "type": "integer"
        },
        {
         "name": "product_id",
         "rawType": "int64",
         "type": "integer"
        },
        {
         "name": "target",
         "rawType": "float64",
         "type": "float"
        },
        {
         "name": "pred",
         "rawType": "float64",
         "type": "float"
        }
       ],
       "ref": "2e3c0d80-689f-4e08-9e95-d8509ff888d0",
       "rows": [
        [
         "30476",
         "201912",
         "20001",
         "0.0",
         "1.257929923205329"
        ],
        [
         "30477",
         "201912",
         "20002",
         "0.0",
         "0.3415495413854746"
        ],
        [
         "30478",
         "201912",
         "20003",
         "0.0",
         "0.0261310483121081"
        ],
        [
         "30479",
         "201912",
         "20004",
         "0.0",
         "0.41969538791338723"
        ],
        [
         "30480",
         "201912",
         "20005",
         "0.0",
         "0.20523005034313746"
        ],
        [
         "30481",
         "201912",
         "20006",
         "0.0",
         "0.009959045273330313"
        ],
        [
         "30482",
         "201912",
         "20007",
         "0.0",
         "-0.4691896174549474"
        ],
        [
         "30483",
         "201912",
         "20008",
         "0.0",
         "-0.3684383056575962"
        ],
        [
         "30484",
         "201912",
         "20009",
         "0.0",
         "0.41136848000188814"
        ],
        [
         "30485",
         "201912",
         "20010",
         "0.0",
         "-0.09807481950994626"
        ],
        [
         "30486",
         "201912",
         "20011",
         "0.0",
         "0.05378497253433108"
        ],
        [
         "30487",
         "201912",
         "20012",
         "0.0",
         "-0.7354650531851454"
        ],
        [
         "30488",
         "201912",
         "20013",
         "0.0",
         "0.09145629564721038"
        ],
        [
         "30489",
         "201912",
         "20014",
         "0.0",
         "0.2590594954121725"
        ],
        [
         "30490",
         "201912",
         "20015",
         "0.0",
         "0.23173662239512655"
        ],
        [
         "30491",
         "201912",
         "20016",
         "0.0",
         "-0.15371011081731792"
        ],
        [
         "30492",
         "201912",
         "20017",
         "0.0",
         "-0.026958725376929404"
        ],
        [
         "30493",
         "201912",
         "20018",
         "0.0",
         "-0.08200672599673672"
        ],
        [
         "30494",
         "201912",
         "20019",
         "0.0",
         "0.13593968604791773"
        ],
        [
         "30495",
         "201912",
         "20020",
         "0.0",
         "-0.07944727580137306"
        ],
        [
         "30496",
         "201912",
         "20021",
         "0.0",
         "-0.19974888789638462"
        ],
        [
         "30497",
         "201912",
         "20022",
         "0.0",
         "0.022903584699056824"
        ],
        [
         "30498",
         "201912",
         "20023",
         "0.0",
         "-0.15155921647489307"
        ],
        [
         "30499",
         "201912",
         "20024",
         "0.0",
         "-0.12318766486844979"
        ],
        [
         "30500",
         "201912",
         "20025",
         "0.0",
         "0.14695715816087457"
        ],
        [
         "30501",
         "201912",
         "20026",
         "0.0",
         "0.4078247645221039"
        ],
        [
         "30502",
         "201912",
         "20027",
         "0.0",
         "0.1009895473106183"
        ],
        [
         "30503",
         "201912",
         "20028",
         "0.0",
         "-0.06056903597802269"
        ],
        [
         "30504",
         "201912",
         "20029",
         "0.0",
         "0.009245544249856685"
        ],
        [
         "30505",
         "201912",
         "20030",
         "0.0",
         "-0.5184657311073757"
        ],
        [
         "30506",
         "201912",
         "20031",
         "0.0",
         "-0.24801103271227873"
        ],
        [
         "30507",
         "201912",
         "20032",
         "0.0",
         "0.18547888720377417"
        ],
        [
         "30508",
         "201912",
         "20033",
         "0.0",
         "0.027379782141150756"
        ],
        [
         "30509",
         "201912",
         "20035",
         "0.0",
         "-0.12561895468945333"
        ],
        [
         "30510",
         "201912",
         "20037",
         "0.0",
         "0.31106124130229756"
        ],
        [
         "30511",
         "201912",
         "20038",
         "0.0",
         "0.06959777938343314"
        ],
        [
         "30512",
         "201912",
         "20039",
         "0.0",
         "-0.15228581804273433"
        ],
        [
         "30513",
         "201912",
         "20041",
         "0.0",
         "-0.09016089882188301"
        ],
        [
         "30514",
         "201912",
         "20042",
         "0.0",
         "0.6519088529269987"
        ],
        [
         "30515",
         "201912",
         "20043",
         "0.0",
         "-0.22747523105719686"
        ],
        [
         "30516",
         "201912",
         "20044",
         "0.0",
         "0.6363520868082632"
        ],
        [
         "30517",
         "201912",
         "20045",
         "0.0",
         "0.28772731688619635"
        ],
        [
         "30518",
         "201912",
         "20046",
         "0.0",
         "0.19290186690828615"
        ],
        [
         "30519",
         "201912",
         "20047",
         "0.0",
         "0.1778223569948339"
        ],
        [
         "30520",
         "201912",
         "20048",
         "0.0",
         "-0.1314430802649995"
        ],
        [
         "30521",
         "201912",
         "20049",
         "0.0",
         "0.21860035824653057"
        ],
        [
         "30522",
         "201912",
         "20050",
         "0.0",
         "-0.0870486214436493"
        ],
        [
         "30523",
         "201912",
         "20051",
         "0.0",
         "-0.309719664008676"
        ],
        [
         "30524",
         "201912",
         "20052",
         "0.0",
         "-0.3496025240116215"
        ],
        [
         "30525",
         "201912",
         "20053",
         "0.0",
         "0.4448289365423804"
        ]
       ],
       "shape": {
        "columns": 4,
        "rows": 886
       }
      },
      "text/html": [
       "<div>\n",
       "<style scoped>\n",
       "    .dataframe tbody tr th:only-of-type {\n",
       "        vertical-align: middle;\n",
       "    }\n",
       "\n",
       "    .dataframe tbody tr th {\n",
       "        vertical-align: top;\n",
       "    }\n",
       "\n",
       "    .dataframe thead th {\n",
       "        text-align: right;\n",
       "    }\n",
       "</style>\n",
       "<table border=\"1\" class=\"dataframe\">\n",
       "  <thead>\n",
       "    <tr style=\"text-align: right;\">\n",
       "      <th></th>\n",
       "      <th>periodo</th>\n",
       "      <th>product_id</th>\n",
       "      <th>target</th>\n",
       "      <th>pred</th>\n",
       "    </tr>\n",
       "  </thead>\n",
       "  <tbody>\n",
       "    <tr>\n",
       "      <th>30476</th>\n",
       "      <td>201912</td>\n",
       "      <td>20001</td>\n",
       "      <td>0.0</td>\n",
       "      <td>1.257930</td>\n",
       "    </tr>\n",
       "    <tr>\n",
       "      <th>30477</th>\n",
       "      <td>201912</td>\n",
       "      <td>20002</td>\n",
       "      <td>0.0</td>\n",
       "      <td>0.341550</td>\n",
       "    </tr>\n",
       "    <tr>\n",
       "      <th>30478</th>\n",
       "      <td>201912</td>\n",
       "      <td>20003</td>\n",
       "      <td>0.0</td>\n",
       "      <td>0.026131</td>\n",
       "    </tr>\n",
       "    <tr>\n",
       "      <th>30479</th>\n",
       "      <td>201912</td>\n",
       "      <td>20004</td>\n",
       "      <td>0.0</td>\n",
       "      <td>0.419695</td>\n",
       "    </tr>\n",
       "    <tr>\n",
       "      <th>30480</th>\n",
       "      <td>201912</td>\n",
       "      <td>20005</td>\n",
       "      <td>0.0</td>\n",
       "      <td>0.205230</td>\n",
       "    </tr>\n",
       "    <tr>\n",
       "      <th>...</th>\n",
       "      <td>...</td>\n",
       "      <td>...</td>\n",
       "      <td>...</td>\n",
       "      <td>...</td>\n",
       "    </tr>\n",
       "    <tr>\n",
       "      <th>31357</th>\n",
       "      <td>201912</td>\n",
       "      <td>21265</td>\n",
       "      <td>0.0</td>\n",
       "      <td>0.389642</td>\n",
       "    </tr>\n",
       "    <tr>\n",
       "      <th>31358</th>\n",
       "      <td>201912</td>\n",
       "      <td>21266</td>\n",
       "      <td>0.0</td>\n",
       "      <td>0.190140</td>\n",
       "    </tr>\n",
       "    <tr>\n",
       "      <th>31359</th>\n",
       "      <td>201912</td>\n",
       "      <td>21267</td>\n",
       "      <td>0.0</td>\n",
       "      <td>-0.013840</td>\n",
       "    </tr>\n",
       "    <tr>\n",
       "      <th>31360</th>\n",
       "      <td>201912</td>\n",
       "      <td>21271</td>\n",
       "      <td>0.0</td>\n",
       "      <td>0.024966</td>\n",
       "    </tr>\n",
       "    <tr>\n",
       "      <th>31361</th>\n",
       "      <td>201912</td>\n",
       "      <td>21276</td>\n",
       "      <td>0.0</td>\n",
       "      <td>-0.070640</td>\n",
       "    </tr>\n",
       "  </tbody>\n",
       "</table>\n",
       "<p>886 rows × 4 columns</p>\n",
       "</div>"
      ],
      "text/plain": [
       "       periodo  product_id  target      pred\n",
       "30476   201912       20001     0.0  1.257930\n",
       "30477   201912       20002     0.0  0.341550\n",
       "30478   201912       20003     0.0  0.026131\n",
       "30479   201912       20004     0.0  0.419695\n",
       "30480   201912       20005     0.0  0.205230\n",
       "...        ...         ...     ...       ...\n",
       "31357   201912       21265     0.0  0.389642\n",
       "31358   201912       21266     0.0  0.190140\n",
       "31359   201912       21267     0.0 -0.013840\n",
       "31360   201912       21271     0.0  0.024966\n",
       "31361   201912       21276     0.0 -0.070640\n",
       "\n",
       "[886 rows x 4 columns]"
      ]
     },
     "execution_count": 21,
     "metadata": {},
     "output_type": "execute_result"
    }
   ],
   "source": [
    "df_future"
   ]
  },
  {
   "cell_type": "markdown",
   "id": "593064b3",
   "metadata": {},
   "source": [
    "Filtramos los 180 productos"
   ]
  },
  {
   "cell_type": "code",
   "execution_count": 22,
   "id": "d0ab5e05",
   "metadata": {},
   "outputs": [],
   "source": [
    "productos_ok = pd.read_csv(\"https://storage.googleapis.com/open-courses/austral2025-af91/labo3v/product_id_apredecir201912.txt\", sep=\"\\t\")\n",
    "df_future = df_future[df_future['periodo'] == 201912]\n",
    "df_future = df_future[df_future['product_id'].isin(productos_ok['product_id'].unique())]\n"
   ]
  },
  {
   "cell_type": "code",
   "execution_count": 23,
   "id": "da03e91d",
   "metadata": {},
   "outputs": [
    {
     "data": {
      "application/vnd.microsoft.datawrangler.viewer.v0+json": {
       "columns": [
        {
         "name": "index",
         "rawType": "int64",
         "type": "integer"
        },
        {
         "name": "periodo",
         "rawType": "int64",
         "type": "integer"
        },
        {
         "name": "product_id",
         "rawType": "int64",
         "type": "integer"
        },
        {
         "name": "target",
         "rawType": "float64",
         "type": "float"
        },
        {
         "name": "pred",
         "rawType": "float64",
         "type": "float"
        }
       ],
       "ref": "763f9d69-abcf-4a1f-ac3d-ceade4982dd3",
       "rows": [
        [
         "30476",
         "201912",
         "20001",
         "0.0",
         "1.257929923205329"
        ],
        [
         "30477",
         "201912",
         "20002",
         "0.0",
         "0.3415495413854746"
        ],
        [
         "30478",
         "201912",
         "20003",
         "0.0",
         "0.0261310483121081"
        ],
        [
         "30479",
         "201912",
         "20004",
         "0.0",
         "0.41969538791338723"
        ],
        [
         "30480",
         "201912",
         "20005",
         "0.0",
         "0.20523005034313746"
        ],
        [
         "30481",
         "201912",
         "20006",
         "0.0",
         "0.009959045273330313"
        ],
        [
         "30482",
         "201912",
         "20007",
         "0.0",
         "-0.4691896174549474"
        ],
        [
         "30483",
         "201912",
         "20008",
         "0.0",
         "-0.3684383056575962"
        ],
        [
         "30484",
         "201912",
         "20009",
         "0.0",
         "0.41136848000188814"
        ],
        [
         "30485",
         "201912",
         "20010",
         "0.0",
         "-0.09807481950994626"
        ],
        [
         "30486",
         "201912",
         "20011",
         "0.0",
         "0.05378497253433108"
        ],
        [
         "30487",
         "201912",
         "20012",
         "0.0",
         "-0.7354650531851454"
        ],
        [
         "30488",
         "201912",
         "20013",
         "0.0",
         "0.09145629564721038"
        ],
        [
         "30489",
         "201912",
         "20014",
         "0.0",
         "0.2590594954121725"
        ],
        [
         "30490",
         "201912",
         "20015",
         "0.0",
         "0.23173662239512655"
        ],
        [
         "30491",
         "201912",
         "20016",
         "0.0",
         "-0.15371011081731792"
        ],
        [
         "30492",
         "201912",
         "20017",
         "0.0",
         "-0.026958725376929404"
        ],
        [
         "30493",
         "201912",
         "20018",
         "0.0",
         "-0.08200672599673672"
        ],
        [
         "30494",
         "201912",
         "20019",
         "0.0",
         "0.13593968604791773"
        ],
        [
         "30495",
         "201912",
         "20020",
         "0.0",
         "-0.07944727580137306"
        ],
        [
         "30496",
         "201912",
         "20021",
         "0.0",
         "-0.19974888789638462"
        ],
        [
         "30497",
         "201912",
         "20022",
         "0.0",
         "0.022903584699056824"
        ],
        [
         "30498",
         "201912",
         "20023",
         "0.0",
         "-0.15155921647489307"
        ],
        [
         "30499",
         "201912",
         "20024",
         "0.0",
         "-0.12318766486844979"
        ],
        [
         "30500",
         "201912",
         "20025",
         "0.0",
         "0.14695715816087457"
        ],
        [
         "30501",
         "201912",
         "20026",
         "0.0",
         "0.4078247645221039"
        ],
        [
         "30502",
         "201912",
         "20027",
         "0.0",
         "0.1009895473106183"
        ],
        [
         "30503",
         "201912",
         "20028",
         "0.0",
         "-0.06056903597802269"
        ],
        [
         "30504",
         "201912",
         "20029",
         "0.0",
         "0.009245544249856685"
        ],
        [
         "30505",
         "201912",
         "20030",
         "0.0",
         "-0.5184657311073757"
        ],
        [
         "30506",
         "201912",
         "20031",
         "0.0",
         "-0.24801103271227873"
        ],
        [
         "30507",
         "201912",
         "20032",
         "0.0",
         "0.18547888720377417"
        ],
        [
         "30508",
         "201912",
         "20033",
         "0.0",
         "0.027379782141150756"
        ],
        [
         "30509",
         "201912",
         "20035",
         "0.0",
         "-0.12561895468945333"
        ],
        [
         "30510",
         "201912",
         "20037",
         "0.0",
         "0.31106124130229756"
        ],
        [
         "30511",
         "201912",
         "20038",
         "0.0",
         "0.06959777938343314"
        ],
        [
         "30512",
         "201912",
         "20039",
         "0.0",
         "-0.15228581804273433"
        ],
        [
         "30513",
         "201912",
         "20041",
         "0.0",
         "-0.09016089882188301"
        ],
        [
         "30514",
         "201912",
         "20042",
         "0.0",
         "0.6519088529269987"
        ],
        [
         "30515",
         "201912",
         "20043",
         "0.0",
         "-0.22747523105719686"
        ],
        [
         "30516",
         "201912",
         "20044",
         "0.0",
         "0.6363520868082632"
        ],
        [
         "30517",
         "201912",
         "20045",
         "0.0",
         "0.28772731688619635"
        ],
        [
         "30518",
         "201912",
         "20046",
         "0.0",
         "0.19290186690828615"
        ],
        [
         "30519",
         "201912",
         "20047",
         "0.0",
         "0.1778223569948339"
        ],
        [
         "30521",
         "201912",
         "20049",
         "0.0",
         "0.21860035824653057"
        ],
        [
         "30522",
         "201912",
         "20050",
         "0.0",
         "-0.0870486214436493"
        ],
        [
         "30523",
         "201912",
         "20051",
         "0.0",
         "-0.309719664008676"
        ],
        [
         "30524",
         "201912",
         "20052",
         "0.0",
         "-0.3496025240116215"
        ],
        [
         "30525",
         "201912",
         "20053",
         "0.0",
         "0.4448289365423804"
        ],
        [
         "30526",
         "201912",
         "20054",
         "0.0",
         "0.3441261867597375"
        ]
       ],
       "shape": {
        "columns": 4,
        "rows": 780
       }
      },
      "text/html": [
       "<div>\n",
       "<style scoped>\n",
       "    .dataframe tbody tr th:only-of-type {\n",
       "        vertical-align: middle;\n",
       "    }\n",
       "\n",
       "    .dataframe tbody tr th {\n",
       "        vertical-align: top;\n",
       "    }\n",
       "\n",
       "    .dataframe thead th {\n",
       "        text-align: right;\n",
       "    }\n",
       "</style>\n",
       "<table border=\"1\" class=\"dataframe\">\n",
       "  <thead>\n",
       "    <tr style=\"text-align: right;\">\n",
       "      <th></th>\n",
       "      <th>periodo</th>\n",
       "      <th>product_id</th>\n",
       "      <th>target</th>\n",
       "      <th>pred</th>\n",
       "    </tr>\n",
       "  </thead>\n",
       "  <tbody>\n",
       "    <tr>\n",
       "      <th>30476</th>\n",
       "      <td>201912</td>\n",
       "      <td>20001</td>\n",
       "      <td>0.0</td>\n",
       "      <td>1.257930</td>\n",
       "    </tr>\n",
       "    <tr>\n",
       "      <th>30477</th>\n",
       "      <td>201912</td>\n",
       "      <td>20002</td>\n",
       "      <td>0.0</td>\n",
       "      <td>0.341550</td>\n",
       "    </tr>\n",
       "    <tr>\n",
       "      <th>30478</th>\n",
       "      <td>201912</td>\n",
       "      <td>20003</td>\n",
       "      <td>0.0</td>\n",
       "      <td>0.026131</td>\n",
       "    </tr>\n",
       "    <tr>\n",
       "      <th>30479</th>\n",
       "      <td>201912</td>\n",
       "      <td>20004</td>\n",
       "      <td>0.0</td>\n",
       "      <td>0.419695</td>\n",
       "    </tr>\n",
       "    <tr>\n",
       "      <th>30480</th>\n",
       "      <td>201912</td>\n",
       "      <td>20005</td>\n",
       "      <td>0.0</td>\n",
       "      <td>0.205230</td>\n",
       "    </tr>\n",
       "    <tr>\n",
       "      <th>...</th>\n",
       "      <td>...</td>\n",
       "      <td>...</td>\n",
       "      <td>...</td>\n",
       "      <td>...</td>\n",
       "    </tr>\n",
       "    <tr>\n",
       "      <th>31355</th>\n",
       "      <td>201912</td>\n",
       "      <td>21263</td>\n",
       "      <td>0.0</td>\n",
       "      <td>-0.069597</td>\n",
       "    </tr>\n",
       "    <tr>\n",
       "      <th>31357</th>\n",
       "      <td>201912</td>\n",
       "      <td>21265</td>\n",
       "      <td>0.0</td>\n",
       "      <td>0.389642</td>\n",
       "    </tr>\n",
       "    <tr>\n",
       "      <th>31358</th>\n",
       "      <td>201912</td>\n",
       "      <td>21266</td>\n",
       "      <td>0.0</td>\n",
       "      <td>0.190140</td>\n",
       "    </tr>\n",
       "    <tr>\n",
       "      <th>31359</th>\n",
       "      <td>201912</td>\n",
       "      <td>21267</td>\n",
       "      <td>0.0</td>\n",
       "      <td>-0.013840</td>\n",
       "    </tr>\n",
       "    <tr>\n",
       "      <th>31361</th>\n",
       "      <td>201912</td>\n",
       "      <td>21276</td>\n",
       "      <td>0.0</td>\n",
       "      <td>-0.070640</td>\n",
       "    </tr>\n",
       "  </tbody>\n",
       "</table>\n",
       "<p>780 rows × 4 columns</p>\n",
       "</div>"
      ],
      "text/plain": [
       "       periodo  product_id  target      pred\n",
       "30476   201912       20001     0.0  1.257930\n",
       "30477   201912       20002     0.0  0.341550\n",
       "30478   201912       20003     0.0  0.026131\n",
       "30479   201912       20004     0.0  0.419695\n",
       "30480   201912       20005     0.0  0.205230\n",
       "...        ...         ...     ...       ...\n",
       "31355   201912       21263     0.0 -0.069597\n",
       "31357   201912       21265     0.0  0.389642\n",
       "31358   201912       21266     0.0  0.190140\n",
       "31359   201912       21267     0.0 -0.013840\n",
       "31361   201912       21276     0.0 -0.070640\n",
       "\n",
       "[780 rows x 4 columns]"
      ]
     },
     "execution_count": 23,
     "metadata": {},
     "output_type": "execute_result"
    }
   ],
   "source": [
    "df_future"
   ]
  },
  {
   "cell_type": "code",
   "execution_count": 24,
   "id": "f55ef311",
   "metadata": {},
   "outputs": [],
   "source": [
    "df_future_copy = df_future.copy()"
   ]
  },
  {
   "cell_type": "code",
   "execution_count": 25,
   "id": "ee029be1",
   "metadata": {},
   "outputs": [
    {
     "data": {
      "application/vnd.microsoft.datawrangler.viewer.v0+json": {
       "columns": [
        {
         "name": "index",
         "rawType": "int64",
         "type": "integer"
        },
        {
         "name": "product_id",
         "rawType": "int64",
         "type": "integer"
        },
        {
         "name": "tn_mean",
         "rawType": "float64",
         "type": "float"
        },
        {
         "name": "tn_std",
         "rawType": "float64",
         "type": "float"
        }
       ],
       "ref": "3f1b0da8-0f76-4a1c-931e-e332cb1b9a90",
       "rows": [
        [
         "0",
         "20001",
         "1398.3443216666665",
         "293.975388252036"
        ],
        [
         "1",
         "20002",
         "1009.3681775",
         "299.5851873465385"
        ],
        [
         "2",
         "20003",
         "889.0042427777778",
         "287.9519520473356"
        ],
        [
         "3",
         "20004",
         "671.6153830555555",
         "221.3107686715116"
        ],
        [
         "4",
         "20005",
         "644.2005144444444",
         "215.2202995703281"
        ],
        [
         "5",
         "20006",
         "585.7988908333333",
         "159.76143793829195"
        ],
        [
         "6",
         "20007",
         "611.6236761111111",
         "208.57569945871236"
        ],
        [
         "7",
         "20008",
         "554.1192644444444",
         "159.27522236897937"
        ],
        [
         "8",
         "20009",
         "469.1951191666667",
         "113.76500195124936"
        ],
        [
         "9",
         "20010",
         "518.6410883333333",
         "223.6844133486925"
        ],
        [
         "10",
         "20011",
         "446.816825",
         "153.82921650267764"
        ],
        [
         "11",
         "20012",
         "494.82220416666667",
         "180.97758422749212"
        ],
        [
         "12",
         "20013",
         "442.787345",
         "103.49781947397672"
        ],
        [
         "13",
         "20014",
         "449.38150972222223",
         "108.50071362186962"
        ],
        [
         "14",
         "20015",
         "411.9545483333334",
         "80.10449715963468"
        ],
        [
         "15",
         "20016",
         "398.65007",
         "116.20962216356398"
        ],
        [
         "16",
         "20017",
         "374.8885675",
         "115.70397197351596"
        ],
        [
         "17",
         "20018",
         "366.0780158333333",
         "125.5795294637906"
        ],
        [
         "18",
         "20019",
         "382.403415",
         "144.43775214808176"
        ],
        [
         "19",
         "20020",
         "340.51083444444447",
         "124.95119599690726"
        ],
        [
         "20",
         "20021",
         "347.2747572222222",
         "145.25185934579136"
        ],
        [
         "21",
         "20022",
         "297.05553444444445",
         "142.14264254967077"
        ],
        [
         "22",
         "20023",
         "289.869125",
         "86.60323956175095"
        ],
        [
         "23",
         "20024",
         "295.51977",
         "101.86416748883632"
        ],
        [
         "24",
         "20025",
         "258.80309",
         "73.93671019978167"
        ],
        [
         "25",
         "20026",
         "262.31150722222225",
         "65.39108636927249"
        ],
        [
         "26",
         "20027",
         "233.99432388888889",
         "45.9002767395348"
        ],
        [
         "27",
         "20028",
         "256.722375",
         "85.26927934350726"
        ],
        [
         "28",
         "20029",
         "243.0021883333333",
         "77.59415396552863"
        ],
        [
         "29",
         "20030",
         "275.6379888888889",
         "152.99246905259346"
        ],
        [
         "30",
         "20031",
         "238.84903",
         "85.18140664581252"
        ],
        [
         "31",
         "20032",
         "590.33366",
         "174.84053822254907"
        ],
        [
         "32",
         "20033",
         "218.14944666666668",
         "68.11147958496832"
        ],
        [
         "33",
         "20034",
         "314.42447400000003",
         "126.50392563265444"
        ],
        [
         "34",
         "20035",
         "213.54528555555555",
         "73.96602508685196"
        ],
        [
         "35",
         "20036",
         "285.78151875",
         "168.62215103086888"
        ],
        [
         "36",
         "20037",
         "170.05525555555556",
         "90.02791727471634"
        ],
        [
         "37",
         "20038",
         "196.64637833333333",
         "64.80419900913068"
        ],
        [
         "38",
         "20039",
         "180.2939452777778",
         "49.04072621002164"
        ],
        [
         "39",
         "20040",
         "252.77242787878788",
         "108.3074628831556"
        ],
        [
         "40",
         "20041",
         "191.38569416666667",
         "75.78201411071343"
        ],
        [
         "41",
         "20042",
         "166.0648377777778",
         "36.28537083421362"
        ],
        [
         "42",
         "20043",
         "187.54492694444448",
         "65.8577383975878"
        ],
        [
         "43",
         "20044",
         "170.62645166666667",
         "53.88994518220412"
        ],
        [
         "44",
         "20045",
         "176.51761805555554",
         "41.97509468487374"
        ],
        [
         "45",
         "20046",
         "173.60985722222222",
         "54.796392007644926"
        ],
        [
         "46",
         "20047",
         "172.49971888888888",
         "44.1859603946134"
        ],
        [
         "47",
         "20048",
         "206.46693166666668",
         "60.42979884042969"
        ],
        [
         "48",
         "20049",
         "211.9613472413793",
         "72.36261427241979"
        ],
        [
         "49",
         "20050",
         "167.14344805555555",
         "57.1884899173811"
        ]
       ],
       "shape": {
        "columns": 3,
        "rows": 1164
       }
      },
      "text/html": [
       "<div>\n",
       "<style scoped>\n",
       "    .dataframe tbody tr th:only-of-type {\n",
       "        vertical-align: middle;\n",
       "    }\n",
       "\n",
       "    .dataframe tbody tr th {\n",
       "        vertical-align: top;\n",
       "    }\n",
       "\n",
       "    .dataframe thead th {\n",
       "        text-align: right;\n",
       "    }\n",
       "</style>\n",
       "<table border=\"1\" class=\"dataframe\">\n",
       "  <thead>\n",
       "    <tr style=\"text-align: right;\">\n",
       "      <th></th>\n",
       "      <th>product_id</th>\n",
       "      <th>tn_mean</th>\n",
       "      <th>tn_std</th>\n",
       "    </tr>\n",
       "  </thead>\n",
       "  <tbody>\n",
       "    <tr>\n",
       "      <th>0</th>\n",
       "      <td>20001</td>\n",
       "      <td>1398.344322</td>\n",
       "      <td>293.975388</td>\n",
       "    </tr>\n",
       "    <tr>\n",
       "      <th>1</th>\n",
       "      <td>20002</td>\n",
       "      <td>1009.368178</td>\n",
       "      <td>299.585187</td>\n",
       "    </tr>\n",
       "    <tr>\n",
       "      <th>2</th>\n",
       "      <td>20003</td>\n",
       "      <td>889.004243</td>\n",
       "      <td>287.951952</td>\n",
       "    </tr>\n",
       "    <tr>\n",
       "      <th>3</th>\n",
       "      <td>20004</td>\n",
       "      <td>671.615383</td>\n",
       "      <td>221.310769</td>\n",
       "    </tr>\n",
       "    <tr>\n",
       "      <th>4</th>\n",
       "      <td>20005</td>\n",
       "      <td>644.200514</td>\n",
       "      <td>215.220300</td>\n",
       "    </tr>\n",
       "    <tr>\n",
       "      <th>...</th>\n",
       "      <td>...</td>\n",
       "      <td>...</td>\n",
       "      <td>...</td>\n",
       "    </tr>\n",
       "    <tr>\n",
       "      <th>1159</th>\n",
       "      <td>21271</td>\n",
       "      <td>0.024268</td>\n",
       "      <td>0.019484</td>\n",
       "    </tr>\n",
       "    <tr>\n",
       "      <th>1160</th>\n",
       "      <td>21273</td>\n",
       "      <td>0.057242</td>\n",
       "      <td>0.124272</td>\n",
       "    </tr>\n",
       "    <tr>\n",
       "      <th>1161</th>\n",
       "      <td>21274</td>\n",
       "      <td>0.067028</td>\n",
       "      <td>0.096980</td>\n",
       "    </tr>\n",
       "    <tr>\n",
       "      <th>1162</th>\n",
       "      <td>21276</td>\n",
       "      <td>0.045447</td>\n",
       "      <td>0.041380</td>\n",
       "    </tr>\n",
       "    <tr>\n",
       "      <th>1163</th>\n",
       "      <td>21281</td>\n",
       "      <td>0.021060</td>\n",
       "      <td>0.031414</td>\n",
       "    </tr>\n",
       "  </tbody>\n",
       "</table>\n",
       "<p>1164 rows × 3 columns</p>\n",
       "</div>"
      ],
      "text/plain": [
       "      product_id      tn_mean      tn_std\n",
       "0          20001  1398.344322  293.975388\n",
       "1          20002  1009.368178  299.585187\n",
       "2          20003   889.004243  287.951952\n",
       "3          20004   671.615383  221.310769\n",
       "4          20005   644.200514  215.220300\n",
       "...          ...          ...         ...\n",
       "1159       21271     0.024268    0.019484\n",
       "1160       21273     0.057242    0.124272\n",
       "1161       21274     0.067028    0.096980\n",
       "1162       21276     0.045447    0.041380\n",
       "1163       21281     0.021060    0.031414\n",
       "\n",
       "[1164 rows x 3 columns]"
      ]
     },
     "execution_count": 25,
     "metadata": {},
     "output_type": "execute_result"
    }
   ],
   "source": [
    "import os\n",
    "ruta_archivo = f'./datasets/tn_stats_201912.csv'\n",
    "    \n",
    "df_stats = pd.DataFrame()\n",
    "\n",
    "if os.path.exists(ruta_archivo) and ruta_archivo.endswith('.csv'):\n",
    "    df_stats = pd.read_csv(ruta_archivo, sep=',')\n",
    "\n",
    "df_stats"
   ]
  },
  {
   "cell_type": "code",
   "execution_count": 26,
   "id": "778a885e",
   "metadata": {},
   "outputs": [
    {
     "data": {
      "application/vnd.microsoft.datawrangler.viewer.v0+json": {
       "columns": [
        {
         "name": "index",
         "rawType": "int64",
         "type": "integer"
        },
        {
         "name": "periodo",
         "rawType": "int64",
         "type": "integer"
        },
        {
         "name": "product_id",
         "rawType": "int64",
         "type": "integer"
        },
        {
         "name": "target",
         "rawType": "float64",
         "type": "float"
        },
        {
         "name": "pred",
         "rawType": "float64",
         "type": "float"
        },
        {
         "name": "tn_mean",
         "rawType": "float64",
         "type": "float"
        },
        {
         "name": "tn_std",
         "rawType": "float64",
         "type": "float"
        }
       ],
       "ref": "e3690deb-f386-4a48-9340-eaa8ee4a3295",
       "rows": [
        [
         "0",
         "201912",
         "20001",
         "0.0",
         "1.257929923205329",
         "1398.3443216666665",
         "293.975388252036"
        ],
        [
         "1",
         "201912",
         "20002",
         "0.0",
         "0.3415495413854746",
         "1009.3681775",
         "299.5851873465385"
        ],
        [
         "2",
         "201912",
         "20003",
         "0.0",
         "0.0261310483121081",
         "889.0042427777778",
         "287.9519520473356"
        ],
        [
         "3",
         "201912",
         "20004",
         "0.0",
         "0.41969538791338723",
         "671.6153830555555",
         "221.3107686715116"
        ],
        [
         "4",
         "201912",
         "20005",
         "0.0",
         "0.20523005034313746",
         "644.2005144444444",
         "215.2202995703281"
        ],
        [
         "5",
         "201912",
         "20006",
         "0.0",
         "0.009959045273330313",
         "585.7988908333333",
         "159.76143793829195"
        ],
        [
         "6",
         "201912",
         "20007",
         "0.0",
         "-0.4691896174549474",
         "611.6236761111111",
         "208.57569945871236"
        ],
        [
         "7",
         "201912",
         "20008",
         "0.0",
         "-0.3684383056575962",
         "554.1192644444444",
         "159.27522236897937"
        ],
        [
         "8",
         "201912",
         "20009",
         "0.0",
         "0.41136848000188814",
         "469.1951191666667",
         "113.76500195124936"
        ],
        [
         "9",
         "201912",
         "20010",
         "0.0",
         "-0.09807481950994626",
         "518.6410883333333",
         "223.6844133486925"
        ],
        [
         "10",
         "201912",
         "20011",
         "0.0",
         "0.05378497253433108",
         "446.816825",
         "153.82921650267764"
        ],
        [
         "11",
         "201912",
         "20012",
         "0.0",
         "-0.7354650531851454",
         "494.82220416666667",
         "180.97758422749212"
        ],
        [
         "12",
         "201912",
         "20013",
         "0.0",
         "0.09145629564721038",
         "442.787345",
         "103.49781947397672"
        ],
        [
         "13",
         "201912",
         "20014",
         "0.0",
         "0.2590594954121725",
         "449.38150972222223",
         "108.50071362186962"
        ],
        [
         "14",
         "201912",
         "20015",
         "0.0",
         "0.23173662239512655",
         "411.9545483333334",
         "80.10449715963468"
        ],
        [
         "15",
         "201912",
         "20016",
         "0.0",
         "-0.15371011081731792",
         "398.65007",
         "116.20962216356398"
        ],
        [
         "16",
         "201912",
         "20017",
         "0.0",
         "-0.026958725376929404",
         "374.8885675",
         "115.70397197351596"
        ],
        [
         "17",
         "201912",
         "20018",
         "0.0",
         "-0.08200672599673672",
         "366.0780158333333",
         "125.5795294637906"
        ],
        [
         "18",
         "201912",
         "20019",
         "0.0",
         "0.13593968604791773",
         "382.403415",
         "144.43775214808176"
        ],
        [
         "19",
         "201912",
         "20020",
         "0.0",
         "-0.07944727580137306",
         "340.51083444444447",
         "124.95119599690726"
        ],
        [
         "20",
         "201912",
         "20021",
         "0.0",
         "-0.19974888789638462",
         "347.2747572222222",
         "145.25185934579136"
        ],
        [
         "21",
         "201912",
         "20022",
         "0.0",
         "0.022903584699056824",
         "297.05553444444445",
         "142.14264254967077"
        ],
        [
         "22",
         "201912",
         "20023",
         "0.0",
         "-0.15155921647489307",
         "289.869125",
         "86.60323956175095"
        ],
        [
         "23",
         "201912",
         "20024",
         "0.0",
         "-0.12318766486844979",
         "295.51977",
         "101.86416748883632"
        ],
        [
         "24",
         "201912",
         "20025",
         "0.0",
         "0.14695715816087457",
         "258.80309",
         "73.93671019978167"
        ],
        [
         "25",
         "201912",
         "20026",
         "0.0",
         "0.4078247645221039",
         "262.31150722222225",
         "65.39108636927249"
        ],
        [
         "26",
         "201912",
         "20027",
         "0.0",
         "0.1009895473106183",
         "233.99432388888889",
         "45.9002767395348"
        ],
        [
         "27",
         "201912",
         "20028",
         "0.0",
         "-0.06056903597802269",
         "256.722375",
         "85.26927934350726"
        ],
        [
         "28",
         "201912",
         "20029",
         "0.0",
         "0.009245544249856685",
         "243.0021883333333",
         "77.59415396552863"
        ],
        [
         "29",
         "201912",
         "20030",
         "0.0",
         "-0.5184657311073757",
         "275.6379888888889",
         "152.99246905259346"
        ],
        [
         "30",
         "201912",
         "20031",
         "0.0",
         "-0.24801103271227873",
         "238.84903",
         "85.18140664581252"
        ],
        [
         "31",
         "201912",
         "20032",
         "0.0",
         "0.18547888720377417",
         "590.33366",
         "174.84053822254907"
        ],
        [
         "32",
         "201912",
         "20033",
         "0.0",
         "0.027379782141150756",
         "218.14944666666668",
         "68.11147958496832"
        ],
        [
         "33",
         "201912",
         "20035",
         "0.0",
         "-0.12561895468945333",
         "213.54528555555555",
         "73.96602508685196"
        ],
        [
         "34",
         "201912",
         "20037",
         "0.0",
         "0.31106124130229756",
         "170.05525555555556",
         "90.02791727471634"
        ],
        [
         "35",
         "201912",
         "20038",
         "0.0",
         "0.06959777938343314",
         "196.64637833333333",
         "64.80419900913068"
        ],
        [
         "36",
         "201912",
         "20039",
         "0.0",
         "-0.15228581804273433",
         "180.2939452777778",
         "49.04072621002164"
        ],
        [
         "37",
         "201912",
         "20041",
         "0.0",
         "-0.09016089882188301",
         "191.38569416666667",
         "75.78201411071343"
        ],
        [
         "38",
         "201912",
         "20042",
         "0.0",
         "0.6519088529269987",
         "166.0648377777778",
         "36.28537083421362"
        ],
        [
         "39",
         "201912",
         "20043",
         "0.0",
         "-0.22747523105719686",
         "187.54492694444448",
         "65.8577383975878"
        ],
        [
         "40",
         "201912",
         "20044",
         "0.0",
         "0.6363520868082632",
         "170.62645166666667",
         "53.88994518220412"
        ],
        [
         "41",
         "201912",
         "20045",
         "0.0",
         "0.28772731688619635",
         "176.51761805555554",
         "41.97509468487374"
        ],
        [
         "42",
         "201912",
         "20046",
         "0.0",
         "0.19290186690828615",
         "173.60985722222222",
         "54.796392007644926"
        ],
        [
         "43",
         "201912",
         "20047",
         "0.0",
         "0.1778223569948339",
         "172.49971888888888",
         "44.1859603946134"
        ],
        [
         "44",
         "201912",
         "20049",
         "0.0",
         "0.21860035824653057",
         "211.9613472413793",
         "72.36261427241979"
        ],
        [
         "45",
         "201912",
         "20050",
         "0.0",
         "-0.0870486214436493",
         "167.14344805555555",
         "57.1884899173811"
        ],
        [
         "46",
         "201912",
         "20051",
         "0.0",
         "-0.309719664008676",
         "171.17151972222223",
         "63.867909811567934"
        ],
        [
         "47",
         "201912",
         "20052",
         "0.0",
         "-0.3496025240116215",
         "173.63487694444444",
         "67.19850059789239"
        ],
        [
         "48",
         "201912",
         "20053",
         "0.0",
         "0.4448289365423804",
         "152.00412333333333",
         "29.155338506553612"
        ],
        [
         "49",
         "201912",
         "20054",
         "0.0",
         "0.3441261867597375",
         "146.28852055555555",
         "43.09484409399116"
        ]
       ],
       "shape": {
        "columns": 6,
        "rows": 780
       }
      },
      "text/html": [
       "<div>\n",
       "<style scoped>\n",
       "    .dataframe tbody tr th:only-of-type {\n",
       "        vertical-align: middle;\n",
       "    }\n",
       "\n",
       "    .dataframe tbody tr th {\n",
       "        vertical-align: top;\n",
       "    }\n",
       "\n",
       "    .dataframe thead th {\n",
       "        text-align: right;\n",
       "    }\n",
       "</style>\n",
       "<table border=\"1\" class=\"dataframe\">\n",
       "  <thead>\n",
       "    <tr style=\"text-align: right;\">\n",
       "      <th></th>\n",
       "      <th>periodo</th>\n",
       "      <th>product_id</th>\n",
       "      <th>target</th>\n",
       "      <th>pred</th>\n",
       "      <th>tn_mean</th>\n",
       "      <th>tn_std</th>\n",
       "    </tr>\n",
       "  </thead>\n",
       "  <tbody>\n",
       "    <tr>\n",
       "      <th>0</th>\n",
       "      <td>201912</td>\n",
       "      <td>20001</td>\n",
       "      <td>0.0</td>\n",
       "      <td>1.257930</td>\n",
       "      <td>1398.344322</td>\n",
       "      <td>293.975388</td>\n",
       "    </tr>\n",
       "    <tr>\n",
       "      <th>1</th>\n",
       "      <td>201912</td>\n",
       "      <td>20002</td>\n",
       "      <td>0.0</td>\n",
       "      <td>0.341550</td>\n",
       "      <td>1009.368178</td>\n",
       "      <td>299.585187</td>\n",
       "    </tr>\n",
       "    <tr>\n",
       "      <th>2</th>\n",
       "      <td>201912</td>\n",
       "      <td>20003</td>\n",
       "      <td>0.0</td>\n",
       "      <td>0.026131</td>\n",
       "      <td>889.004243</td>\n",
       "      <td>287.951952</td>\n",
       "    </tr>\n",
       "    <tr>\n",
       "      <th>3</th>\n",
       "      <td>201912</td>\n",
       "      <td>20004</td>\n",
       "      <td>0.0</td>\n",
       "      <td>0.419695</td>\n",
       "      <td>671.615383</td>\n",
       "      <td>221.310769</td>\n",
       "    </tr>\n",
       "    <tr>\n",
       "      <th>4</th>\n",
       "      <td>201912</td>\n",
       "      <td>20005</td>\n",
       "      <td>0.0</td>\n",
       "      <td>0.205230</td>\n",
       "      <td>644.200514</td>\n",
       "      <td>215.220300</td>\n",
       "    </tr>\n",
       "    <tr>\n",
       "      <th>...</th>\n",
       "      <td>...</td>\n",
       "      <td>...</td>\n",
       "      <td>...</td>\n",
       "      <td>...</td>\n",
       "      <td>...</td>\n",
       "      <td>...</td>\n",
       "    </tr>\n",
       "    <tr>\n",
       "      <th>775</th>\n",
       "      <td>201912</td>\n",
       "      <td>21263</td>\n",
       "      <td>0.0</td>\n",
       "      <td>-0.069597</td>\n",
       "      <td>0.089233</td>\n",
       "      <td>0.148180</td>\n",
       "    </tr>\n",
       "    <tr>\n",
       "      <th>776</th>\n",
       "      <td>201912</td>\n",
       "      <td>21265</td>\n",
       "      <td>0.0</td>\n",
       "      <td>0.389642</td>\n",
       "      <td>0.089541</td>\n",
       "      <td>0.103219</td>\n",
       "    </tr>\n",
       "    <tr>\n",
       "      <th>777</th>\n",
       "      <td>201912</td>\n",
       "      <td>21266</td>\n",
       "      <td>0.0</td>\n",
       "      <td>0.190140</td>\n",
       "      <td>0.094659</td>\n",
       "      <td>0.100530</td>\n",
       "    </tr>\n",
       "    <tr>\n",
       "      <th>778</th>\n",
       "      <td>201912</td>\n",
       "      <td>21267</td>\n",
       "      <td>0.0</td>\n",
       "      <td>-0.013840</td>\n",
       "      <td>0.092835</td>\n",
       "      <td>0.075836</td>\n",
       "    </tr>\n",
       "    <tr>\n",
       "      <th>779</th>\n",
       "      <td>201912</td>\n",
       "      <td>21276</td>\n",
       "      <td>0.0</td>\n",
       "      <td>-0.070640</td>\n",
       "      <td>0.045447</td>\n",
       "      <td>0.041380</td>\n",
       "    </tr>\n",
       "  </tbody>\n",
       "</table>\n",
       "<p>780 rows × 6 columns</p>\n",
       "</div>"
      ],
      "text/plain": [
       "     periodo  product_id  target      pred      tn_mean      tn_std\n",
       "0     201912       20001     0.0  1.257930  1398.344322  293.975388\n",
       "1     201912       20002     0.0  0.341550  1009.368178  299.585187\n",
       "2     201912       20003     0.0  0.026131   889.004243  287.951952\n",
       "3     201912       20004     0.0  0.419695   671.615383  221.310769\n",
       "4     201912       20005     0.0  0.205230   644.200514  215.220300\n",
       "..       ...         ...     ...       ...          ...         ...\n",
       "775   201912       21263     0.0 -0.069597     0.089233    0.148180\n",
       "776   201912       21265     0.0  0.389642     0.089541    0.103219\n",
       "777   201912       21266     0.0  0.190140     0.094659    0.100530\n",
       "778   201912       21267     0.0 -0.013840     0.092835    0.075836\n",
       "779   201912       21276     0.0 -0.070640     0.045447    0.041380\n",
       "\n",
       "[780 rows x 6 columns]"
      ]
     },
     "execution_count": 26,
     "metadata": {},
     "output_type": "execute_result"
    }
   ],
   "source": [
    "df_future_copy = df_future_copy.merge(df_stats, on=['product_id'], how='left')\n",
    "df_future_copy"
   ]
  },
  {
   "cell_type": "code",
   "execution_count": 27,
   "id": "22aa8b8a",
   "metadata": {},
   "outputs": [
    {
     "data": {
      "application/vnd.microsoft.datawrangler.viewer.v0+json": {
       "columns": [
        {
         "name": "index",
         "rawType": "int64",
         "type": "integer"
        },
        {
         "name": "periodo",
         "rawType": "int64",
         "type": "integer"
        },
        {
         "name": "product_id",
         "rawType": "int64",
         "type": "integer"
        },
        {
         "name": "target",
         "rawType": "float64",
         "type": "float"
        },
        {
         "name": "pred",
         "rawType": "float64",
         "type": "float"
        },
        {
         "name": "tn_mean",
         "rawType": "float64",
         "type": "float"
        },
        {
         "name": "tn_std",
         "rawType": "float64",
         "type": "float"
        },
        {
         "name": "tn",
         "rawType": "float64",
         "type": "float"
        }
       ],
       "ref": "e338ee7c-6bdd-4201-b97b-282657497af7",
       "rows": [
        [
         "0",
         "201912",
         "20001",
         "0.0",
         "1.257929923205329",
         "1398.3443216666665",
         "293.975388252036",
         "1768.1447592348068"
        ],
        [
         "1",
         "201912",
         "20002",
         "0.0",
         "0.3415495413854746",
         "1009.3681775",
         "299.5851873465385",
         "1111.6913608440916"
        ],
        [
         "2",
         "201912",
         "20003",
         "0.0",
         "0.0261310483121081",
         "889.0042427777778",
         "287.9519520473356",
         "896.5287291482925"
        ],
        [
         "3",
         "201912",
         "20004",
         "0.0",
         "0.41969538791338723",
         "671.6153830555555",
         "221.3107686715116",
         "764.4984919625555"
        ],
        [
         "4",
         "201912",
         "20005",
         "0.0",
         "0.20523005034313746",
         "644.2005144444444",
         "215.2202995703281",
         "688.3701873601279"
        ],
        [
         "5",
         "201912",
         "20006",
         "0.0",
         "0.009959045273330313",
         "585.7988908333333",
         "159.76143793829195",
         "587.3899622266931"
        ],
        [
         "6",
         "201912",
         "20007",
         "0.0",
         "-0.4691896174549474",
         "611.6236761111111",
         "208.57569945871236",
         "513.7621234716797"
        ],
        [
         "7",
         "201912",
         "20008",
         "0.0",
         "-0.3684383056575962",
         "554.1192644444444",
         "159.27522236897937",
         "495.4361713815808"
        ],
        [
         "8",
         "201912",
         "20009",
         "0.0",
         "0.41136848000188814",
         "469.1951191666667",
         "113.76500195124936",
         "515.994455096764"
        ],
        [
         "9",
         "201912",
         "20010",
         "0.0",
         "-0.09807481950994626",
         "518.6410883333333",
         "223.6844133486925",
         "496.7032798669721"
        ],
        [
         "10",
         "201912",
         "20011",
         "0.0",
         "0.05378497253433108",
         "446.816825",
         "153.82921650267764",
         "455.0905251845742"
        ],
        [
         "11",
         "201912",
         "20012",
         "0.0",
         "-0.7354650531851454",
         "494.82220416666667",
         "180.97758422749212",
         "361.719515557475"
        ],
        [
         "12",
         "201912",
         "20013",
         "0.0",
         "0.09145629564721038",
         "442.787345",
         "103.49781947397672",
         "452.2528721766536"
        ],
        [
         "13",
         "201912",
         "20014",
         "0.0",
         "0.2590594954121725",
         "449.38150972222223",
         "108.50071362186962",
         "477.4896498449644"
        ],
        [
         "14",
         "201912",
         "20015",
         "0.0",
         "0.23173662239512655",
         "411.9545483333334",
         "80.10449715963468",
         "430.51769394376714"
        ],
        [
         "15",
         "201912",
         "20016",
         "0.0",
         "-0.15371011081731792",
         "398.65007",
         "116.20962216356398",
         "380.7874760992"
        ],
        [
         "16",
         "201912",
         "20017",
         "0.0",
         "-0.026958725376929404",
         "374.8885675",
         "115.70397197351596",
         "371.7693358945461"
        ],
        [
         "17",
         "201912",
         "20018",
         "0.0",
         "-0.08200672599673672",
         "366.0780158333333",
         "125.5795294637906",
         "355.7796497697971"
        ],
        [
         "18",
         "201912",
         "20019",
         "0.0",
         "0.13593968604791773",
         "382.403415",
         "144.43775214808176",
         "402.0382376804772"
        ],
        [
         "19",
         "201912",
         "20020",
         "0.0",
         "-0.07944727580137306",
         "340.51083444444447",
         "124.95119599690726",
         "330.5838023143668"
        ],
        [
         "20",
         "201912",
         "20021",
         "0.0",
         "-0.19974888789638462",
         "347.2747572222222",
         "145.25185934579136",
         "318.2608598530183"
        ],
        [
         "21",
         "201912",
         "20022",
         "0.0",
         "0.022903584699056824",
         "297.05553444444445",
         "142.14264254967077",
         "300.3111104974286"
        ],
        [
         "22",
         "201912",
         "20023",
         "0.0",
         "-0.15155921647489307",
         "289.869125",
         "86.60323956175095",
         "276.74360586783354"
        ],
        [
         "23",
         "201912",
         "20024",
         "0.0",
         "-0.12318766486844979",
         "295.51977",
         "101.86416748883632",
         "282.97136107328157"
        ],
        [
         "24",
         "201912",
         "20025",
         "0.0",
         "0.14695715816087457",
         "258.80309",
         "73.93671019978167",
         "269.6686188147241"
        ],
        [
         "25",
         "201912",
         "20026",
         "0.0",
         "0.4078247645221039",
         "262.31150722222225",
         "65.39108636927249",
         "288.9796116226154"
        ],
        [
         "26",
         "201912",
         "20027",
         "0.0",
         "0.1009895473106183",
         "233.99432388888889",
         "45.9002767395348",
         "238.6297720582466"
        ],
        [
         "27",
         "201912",
         "20028",
         "0.0",
         "-0.06056903597802269",
         "256.722375",
         "85.26927934350726",
         "251.55769695162303"
        ],
        [
         "28",
         "201912",
         "20029",
         "0.0",
         "0.009245544249856685",
         "243.0021883333333",
         "77.59415396552863",
         "243.71958851735178"
        ],
        [
         "29",
         "201912",
         "20030",
         "0.0",
         "-0.5184657311073757",
         "275.6379888888889",
         "152.99246905259346",
         "196.3166365676135"
        ],
        [
         "30",
         "201912",
         "20031",
         "0.0",
         "-0.24801103271227873",
         "238.84903",
         "85.18140664581252",
         "217.72310136988747"
        ],
        [
         "31",
         "201912",
         "20032",
         "0.0",
         "0.18547888720377417",
         "590.33366",
         "174.84053822254907",
         "622.7628884676274"
        ],
        [
         "32",
         "201912",
         "20033",
         "0.0",
         "0.027379782141150756",
         "218.14944666666668",
         "68.11147958496832",
         "220.01432413901455"
        ],
        [
         "33",
         "201912",
         "20035",
         "0.0",
         "-0.12561895468945333",
         "213.54528555555555",
         "73.96602508685196",
         "204.25375080161132"
        ],
        [
         "34",
         "201912",
         "20037",
         "0.0",
         "0.31106124130229756",
         "170.05525555555556",
         "90.02791727471634",
         "198.05945125488938"
        ],
        [
         "35",
         "201912",
         "20038",
         "0.0",
         "0.06959777938343314",
         "196.64637833333333",
         "64.80419900913068",
         "201.1566066790909"
        ],
        [
         "36",
         "201912",
         "20039",
         "0.0",
         "-0.15228581804273433",
         "180.2939452777778",
         "49.04072621002164",
         "172.82573816947487"
        ],
        [
         "37",
         "201912",
         "20041",
         "0.0",
         "-0.09016089882188301",
         "191.38569416666667",
         "75.78201411071343",
         "184.5531196599121"
        ],
        [
         "38",
         "201912",
         "20042",
         "0.0",
         "0.6519088529269987",
         "166.0648377777778",
         "36.28537083421362",
         "189.71959225634077"
        ],
        [
         "39",
         "201912",
         "20043",
         "0.0",
         "-0.22747523105719686",
         "187.54492694444448",
         "65.8577383975878",
         "172.5639226855488"
        ],
        [
         "40",
         "201912",
         "20044",
         "0.0",
         "0.6363520868082632",
         "170.62645166666667",
         "53.88994518220412",
         "204.91943074134517"
        ],
        [
         "41",
         "201912",
         "20045",
         "0.0",
         "0.28772731688619635",
         "176.51761805555554",
         "41.97509468487374",
         "188.5949994252783"
        ],
        [
         "42",
         "201912",
         "20046",
         "0.0",
         "0.19290186690828615",
         "173.60985722222222",
         "54.796392007644926",
         "184.1801835403352"
        ],
        [
         "43",
         "201912",
         "20047",
         "0.0",
         "0.1778223569948339",
         "172.49971888888888",
         "44.1859603946134",
         "180.35697051233942"
        ],
        [
         "44",
         "201912",
         "20049",
         "0.0",
         "0.21860035824653057",
         "211.9613472413793",
         "72.36261427241979",
         "227.77984064498577"
        ],
        [
         "45",
         "201912",
         "20050",
         "0.0",
         "-0.0870486214436493",
         "167.14344805555555",
         "57.1884899173811",
         "162.1652688458035"
        ],
        [
         "46",
         "201912",
         "20051",
         "0.0",
         "-0.309719664008676",
         "171.17151972222223",
         "63.867909811567934",
         "151.390372154447"
        ],
        [
         "47",
         "201912",
         "20052",
         "0.0",
         "-0.3496025240116215",
         "173.63487694444444",
         "67.19850059789239",
         "150.1421115256248"
        ],
        [
         "48",
         "201912",
         "20053",
         "0.0",
         "0.4448289365423804",
         "152.00412333333333",
         "29.155338506553612",
         "164.97326155573668"
        ],
        [
         "49",
         "201912",
         "20054",
         "0.0",
         "0.3441261867597375",
         "146.28852055555555",
         "43.09484409399116",
         "161.11858492262613"
        ]
       ],
       "shape": {
        "columns": 7,
        "rows": 780
       }
      },
      "text/html": [
       "<div>\n",
       "<style scoped>\n",
       "    .dataframe tbody tr th:only-of-type {\n",
       "        vertical-align: middle;\n",
       "    }\n",
       "\n",
       "    .dataframe tbody tr th {\n",
       "        vertical-align: top;\n",
       "    }\n",
       "\n",
       "    .dataframe thead th {\n",
       "        text-align: right;\n",
       "    }\n",
       "</style>\n",
       "<table border=\"1\" class=\"dataframe\">\n",
       "  <thead>\n",
       "    <tr style=\"text-align: right;\">\n",
       "      <th></th>\n",
       "      <th>periodo</th>\n",
       "      <th>product_id</th>\n",
       "      <th>target</th>\n",
       "      <th>pred</th>\n",
       "      <th>tn_mean</th>\n",
       "      <th>tn_std</th>\n",
       "      <th>tn</th>\n",
       "    </tr>\n",
       "  </thead>\n",
       "  <tbody>\n",
       "    <tr>\n",
       "      <th>0</th>\n",
       "      <td>201912</td>\n",
       "      <td>20001</td>\n",
       "      <td>0.0</td>\n",
       "      <td>1.257930</td>\n",
       "      <td>1398.344322</td>\n",
       "      <td>293.975388</td>\n",
       "      <td>1768.144759</td>\n",
       "    </tr>\n",
       "    <tr>\n",
       "      <th>1</th>\n",
       "      <td>201912</td>\n",
       "      <td>20002</td>\n",
       "      <td>0.0</td>\n",
       "      <td>0.341550</td>\n",
       "      <td>1009.368178</td>\n",
       "      <td>299.585187</td>\n",
       "      <td>1111.691361</td>\n",
       "    </tr>\n",
       "    <tr>\n",
       "      <th>2</th>\n",
       "      <td>201912</td>\n",
       "      <td>20003</td>\n",
       "      <td>0.0</td>\n",
       "      <td>0.026131</td>\n",
       "      <td>889.004243</td>\n",
       "      <td>287.951952</td>\n",
       "      <td>896.528729</td>\n",
       "    </tr>\n",
       "    <tr>\n",
       "      <th>3</th>\n",
       "      <td>201912</td>\n",
       "      <td>20004</td>\n",
       "      <td>0.0</td>\n",
       "      <td>0.419695</td>\n",
       "      <td>671.615383</td>\n",
       "      <td>221.310769</td>\n",
       "      <td>764.498492</td>\n",
       "    </tr>\n",
       "    <tr>\n",
       "      <th>4</th>\n",
       "      <td>201912</td>\n",
       "      <td>20005</td>\n",
       "      <td>0.0</td>\n",
       "      <td>0.205230</td>\n",
       "      <td>644.200514</td>\n",
       "      <td>215.220300</td>\n",
       "      <td>688.370187</td>\n",
       "    </tr>\n",
       "    <tr>\n",
       "      <th>...</th>\n",
       "      <td>...</td>\n",
       "      <td>...</td>\n",
       "      <td>...</td>\n",
       "      <td>...</td>\n",
       "      <td>...</td>\n",
       "      <td>...</td>\n",
       "      <td>...</td>\n",
       "    </tr>\n",
       "    <tr>\n",
       "      <th>775</th>\n",
       "      <td>201912</td>\n",
       "      <td>21263</td>\n",
       "      <td>0.0</td>\n",
       "      <td>-0.069597</td>\n",
       "      <td>0.089233</td>\n",
       "      <td>0.148180</td>\n",
       "      <td>0.078920</td>\n",
       "    </tr>\n",
       "    <tr>\n",
       "      <th>776</th>\n",
       "      <td>201912</td>\n",
       "      <td>21265</td>\n",
       "      <td>0.0</td>\n",
       "      <td>0.389642</td>\n",
       "      <td>0.089541</td>\n",
       "      <td>0.103219</td>\n",
       "      <td>0.129760</td>\n",
       "    </tr>\n",
       "    <tr>\n",
       "      <th>777</th>\n",
       "      <td>201912</td>\n",
       "      <td>21266</td>\n",
       "      <td>0.0</td>\n",
       "      <td>0.190140</td>\n",
       "      <td>0.094659</td>\n",
       "      <td>0.100530</td>\n",
       "      <td>0.113774</td>\n",
       "    </tr>\n",
       "    <tr>\n",
       "      <th>778</th>\n",
       "      <td>201912</td>\n",
       "      <td>21267</td>\n",
       "      <td>0.0</td>\n",
       "      <td>-0.013840</td>\n",
       "      <td>0.092835</td>\n",
       "      <td>0.075836</td>\n",
       "      <td>0.091785</td>\n",
       "    </tr>\n",
       "    <tr>\n",
       "      <th>779</th>\n",
       "      <td>201912</td>\n",
       "      <td>21276</td>\n",
       "      <td>0.0</td>\n",
       "      <td>-0.070640</td>\n",
       "      <td>0.045447</td>\n",
       "      <td>0.041380</td>\n",
       "      <td>0.042524</td>\n",
       "    </tr>\n",
       "  </tbody>\n",
       "</table>\n",
       "<p>780 rows × 7 columns</p>\n",
       "</div>"
      ],
      "text/plain": [
       "     periodo  product_id  target      pred      tn_mean      tn_std  \\\n",
       "0     201912       20001     0.0  1.257930  1398.344322  293.975388   \n",
       "1     201912       20002     0.0  0.341550  1009.368178  299.585187   \n",
       "2     201912       20003     0.0  0.026131   889.004243  287.951952   \n",
       "3     201912       20004     0.0  0.419695   671.615383  221.310769   \n",
       "4     201912       20005     0.0  0.205230   644.200514  215.220300   \n",
       "..       ...         ...     ...       ...          ...         ...   \n",
       "775   201912       21263     0.0 -0.069597     0.089233    0.148180   \n",
       "776   201912       21265     0.0  0.389642     0.089541    0.103219   \n",
       "777   201912       21266     0.0  0.190140     0.094659    0.100530   \n",
       "778   201912       21267     0.0 -0.013840     0.092835    0.075836   \n",
       "779   201912       21276     0.0 -0.070640     0.045447    0.041380   \n",
       "\n",
       "              tn  \n",
       "0    1768.144759  \n",
       "1    1111.691361  \n",
       "2     896.528729  \n",
       "3     764.498492  \n",
       "4     688.370187  \n",
       "..           ...  \n",
       "775     0.078920  \n",
       "776     0.129760  \n",
       "777     0.113774  \n",
       "778     0.091785  \n",
       "779     0.042524  \n",
       "\n",
       "[780 rows x 7 columns]"
      ]
     },
     "execution_count": 27,
     "metadata": {},
     "output_type": "execute_result"
    }
   ],
   "source": [
    "\n",
    "df_future_copy['tn'] = df_future_copy['pred'] * df_future_copy['tn_std'] + df_future_copy['tn_mean']\n",
    "df_future_copy"
   ]
  },
  {
   "cell_type": "markdown",
   "id": "1ab09e3f",
   "metadata": {},
   "source": [
    "Vemos cuantos negativos hay"
   ]
  },
  {
   "cell_type": "code",
   "execution_count": 29,
   "id": "780ad407",
   "metadata": {},
   "outputs": [
    {
     "data": {
      "application/vnd.microsoft.datawrangler.viewer.v0+json": {
       "columns": [
        {
         "name": "index",
         "rawType": "int64",
         "type": "integer"
        },
        {
         "name": "periodo",
         "rawType": "int64",
         "type": "integer"
        },
        {
         "name": "product_id",
         "rawType": "int64",
         "type": "integer"
        },
        {
         "name": "target",
         "rawType": "float64",
         "type": "float"
        },
        {
         "name": "pred",
         "rawType": "float64",
         "type": "float"
        },
        {
         "name": "tn_mean",
         "rawType": "float64",
         "type": "float"
        },
        {
         "name": "tn_std",
         "rawType": "float64",
         "type": "float"
        },
        {
         "name": "tn",
         "rawType": "float64",
         "type": "float"
        }
       ],
       "ref": "110844df-f0fe-4453-a285-c2b2b4174c1b",
       "rows": [],
       "shape": {
        "columns": 7,
        "rows": 0
       }
      },
      "text/html": [
       "<div>\n",
       "<style scoped>\n",
       "    .dataframe tbody tr th:only-of-type {\n",
       "        vertical-align: middle;\n",
       "    }\n",
       "\n",
       "    .dataframe tbody tr th {\n",
       "        vertical-align: top;\n",
       "    }\n",
       "\n",
       "    .dataframe thead th {\n",
       "        text-align: right;\n",
       "    }\n",
       "</style>\n",
       "<table border=\"1\" class=\"dataframe\">\n",
       "  <thead>\n",
       "    <tr style=\"text-align: right;\">\n",
       "      <th></th>\n",
       "      <th>periodo</th>\n",
       "      <th>product_id</th>\n",
       "      <th>target</th>\n",
       "      <th>pred</th>\n",
       "      <th>tn_mean</th>\n",
       "      <th>tn_std</th>\n",
       "      <th>tn</th>\n",
       "    </tr>\n",
       "  </thead>\n",
       "  <tbody>\n",
       "  </tbody>\n",
       "</table>\n",
       "</div>"
      ],
      "text/plain": [
       "Empty DataFrame\n",
       "Columns: [periodo, product_id, target, pred, tn_mean, tn_std, tn]\n",
       "Index: []"
      ]
     },
     "execution_count": 29,
     "metadata": {},
     "output_type": "execute_result"
    }
   ],
   "source": [
    "df_future_copy[df_future_copy['tn'] < 0]"
   ]
  },
  {
   "cell_type": "markdown",
   "id": "066372ef",
   "metadata": {},
   "source": [
    "Reemplazamos los negativos por el promedio de ultimos 12 meses"
   ]
  },
  {
   "cell_type": "code",
   "execution_count": null,
   "id": "8c6b9870",
   "metadata": {},
   "outputs": [
    {
     "data": {
      "application/vnd.microsoft.datawrangler.viewer.v0+json": {
       "columns": [
        {
         "name": "index",
         "rawType": "int64",
         "type": "integer"
        },
        {
         "name": "product_id",
         "rawType": "int64",
         "type": "integer"
        },
        {
         "name": "pred",
         "rawType": "float64",
         "type": "float"
        },
        {
         "name": "tn",
         "rawType": "float64",
         "type": "float"
        }
       ],
       "ref": "7087b6c3-f40b-41d4-bb62-a05d56a9d86b",
       "rows": [
        [
         "0",
         "20001",
         "1397.305481376857",
         "1454.73272"
        ],
        [
         "1",
         "20002",
         "1086.538942198725",
         "1175.4371416666665"
        ],
        [
         "2",
         "20003",
         "747.1636586690961",
         "784.9764074999999"
        ],
        [
         "3",
         "20004",
         "565.7998719734156",
         "627.2153283333333"
        ],
        [
         "4",
         "20005",
         "638.9657131140414",
         "668.2701041666667"
        ],
        [
         "5",
         "20006",
         "461.8133010085213",
         "478.6137083333333"
        ],
        [
         "6",
         "20007",
         "418.66486252998845",
         "434.1378058333333"
        ],
        [
         "7",
         "20008",
         "360.71083726854715",
         "422.0481833333333"
        ],
        [
         "8",
         "20009",
         "577.2438868967586",
         "541.3225866666667"
        ],
        [
         "9",
         "20010",
         "311.3762948431978",
         "429.5746608333333"
        ],
        [
         "10",
         "20011",
         "324.9402866676792",
         "377.63544"
        ],
        [
         "11",
         "20012",
         "296.97090440889775",
         "332.228885"
        ],
        [
         "12",
         "20013",
         "338.14330377850547",
         "416.06292"
        ],
        [
         "13",
         "20014",
         "331.96835714254746",
         "414.70520000000005"
        ],
        [
         "14",
         "20015",
         "312.29997487979017",
         "369.02365166666664"
        ],
        [
         "15",
         "20016",
         "261.3450396369512",
         "288.51459"
        ],
        [
         "16",
         "20017",
         "264.3246354712052",
         "287.38575166666664"
        ],
        [
         "17",
         "20018",
         "221.5180232503426",
         "275.44511083333333"
        ],
        [
         "18",
         "20019",
         "257.26549130989906",
         "306.52162749999997"
        ],
        [
         "19",
         "20020",
         "212.70595783068083",
         "280.10235416666666"
        ],
        [
         "20",
         "20021",
         "185.41286096250033",
         "259.495665"
        ],
        [
         "21",
         "20022",
         "235.5492124998329",
         "279.20400333333333"
        ],
        [
         "22",
         "20023",
         "158.6788911636226",
         "266.90118"
        ],
        [
         "23",
         "20024",
         "135.88818456184077",
         "222.11553"
        ],
        [
         "24",
         "20025",
         "168.70616817991916",
         "222.86218499999998"
        ],
        [
         "25",
         "20026",
         "221.8016140718949",
         "237.10623833333332"
        ],
        [
         "26",
         "20027",
         "194.00960376625827",
         "230.0149175"
        ],
        [
         "27",
         "20028",
         "140.21458453178133",
         "213.228015"
        ],
        [
         "28",
         "20029",
         "181.97740478756765",
         "185.16274833333333"
        ],
        [
         "29",
         "20030",
         "85.94273910080187",
         "127.85045000000001"
        ],
        [
         "30",
         "20031",
         "151.51812942410228",
         "185.90788666666666"
        ],
        [
         "31",
         "20032",
         "493.70315066887304",
         "590.33366"
        ],
        [
         "32",
         "20033",
         "108.33969986626043",
         "176.0324475"
        ],
        [
         "33",
         "20035",
         "123.20539247607887",
         "172.19100333333333"
        ],
        [
         "34",
         "20037",
         "134.85957507179359",
         "179.65005833333336"
        ],
        [
         "35",
         "20038",
         "132.41746593792215",
         "175.941565"
        ],
        [
         "36",
         "20039",
         "145.4498990700782",
         "144.37351750000002"
        ],
        [
         "37",
         "20041",
         "105.79596344348639",
         "144.23799083333333"
        ],
        [
         "38",
         "20042",
         "174.735665432366",
         "174.63574083333333"
        ],
        [
         "39",
         "20043",
         "95.43227799913822",
         "137.17993833333333"
        ],
        [
         "40",
         "20044",
         "142.80960950847484",
         "169.413755"
        ],
        [
         "41",
         "20045",
         "109.12018162337833",
         "154.42506916666667"
        ],
        [
         "42",
         "20046",
         "112.42178724284717",
         "155.99976583333333"
        ],
        [
         "43",
         "20047",
         "139.85508655475013",
         "165.353965"
        ],
        [
         "44",
         "20049",
         "136.90838186222174",
         "203.98650999999998"
        ],
        [
         "45",
         "20050",
         "99.82666541652259",
         "131.337005"
        ],
        [
         "46",
         "20051",
         "77.1811799068137",
         "150.87717916666668"
        ],
        [
         "47",
         "20052",
         "99.26456215326755",
         "119.09683416666667"
        ],
        [
         "48",
         "20053",
         "130.5331212387635",
         "146.06558583333333"
        ],
        [
         "49",
         "20054",
         "128.97911665032808",
         "137.87184249999999"
        ]
       ],
       "shape": {
        "columns": 3,
        "rows": 780
       }
      },
      "text/html": [
       "<div>\n",
       "<style scoped>\n",
       "    .dataframe tbody tr th:only-of-type {\n",
       "        vertical-align: middle;\n",
       "    }\n",
       "\n",
       "    .dataframe tbody tr th {\n",
       "        vertical-align: top;\n",
       "    }\n",
       "\n",
       "    .dataframe thead th {\n",
       "        text-align: right;\n",
       "    }\n",
       "</style>\n",
       "<table border=\"1\" class=\"dataframe\">\n",
       "  <thead>\n",
       "    <tr style=\"text-align: right;\">\n",
       "      <th></th>\n",
       "      <th>product_id</th>\n",
       "      <th>pred</th>\n",
       "      <th>tn</th>\n",
       "    </tr>\n",
       "  </thead>\n",
       "  <tbody>\n",
       "    <tr>\n",
       "      <th>0</th>\n",
       "      <td>20001</td>\n",
       "      <td>1397.305481</td>\n",
       "      <td>1454.732720</td>\n",
       "    </tr>\n",
       "    <tr>\n",
       "      <th>1</th>\n",
       "      <td>20002</td>\n",
       "      <td>1086.538942</td>\n",
       "      <td>1175.437142</td>\n",
       "    </tr>\n",
       "    <tr>\n",
       "      <th>2</th>\n",
       "      <td>20003</td>\n",
       "      <td>747.163659</td>\n",
       "      <td>784.976407</td>\n",
       "    </tr>\n",
       "    <tr>\n",
       "      <th>3</th>\n",
       "      <td>20004</td>\n",
       "      <td>565.799872</td>\n",
       "      <td>627.215328</td>\n",
       "    </tr>\n",
       "    <tr>\n",
       "      <th>4</th>\n",
       "      <td>20005</td>\n",
       "      <td>638.965713</td>\n",
       "      <td>668.270104</td>\n",
       "    </tr>\n",
       "    <tr>\n",
       "      <th>...</th>\n",
       "      <td>...</td>\n",
       "      <td>...</td>\n",
       "      <td>...</td>\n",
       "    </tr>\n",
       "    <tr>\n",
       "      <th>775</th>\n",
       "      <td>21263</td>\n",
       "      <td>0.029993</td>\n",
       "      <td>0.029993</td>\n",
       "    </tr>\n",
       "    <tr>\n",
       "      <th>776</th>\n",
       "      <td>21265</td>\n",
       "      <td>0.791975</td>\n",
       "      <td>0.089541</td>\n",
       "    </tr>\n",
       "    <tr>\n",
       "      <th>777</th>\n",
       "      <td>21266</td>\n",
       "      <td>0.094659</td>\n",
       "      <td>0.094659</td>\n",
       "    </tr>\n",
       "    <tr>\n",
       "      <th>778</th>\n",
       "      <td>21267</td>\n",
       "      <td>0.092835</td>\n",
       "      <td>0.092835</td>\n",
       "    </tr>\n",
       "    <tr>\n",
       "      <th>779</th>\n",
       "      <td>21276</td>\n",
       "      <td>0.045447</td>\n",
       "      <td>0.045447</td>\n",
       "    </tr>\n",
       "  </tbody>\n",
       "</table>\n",
       "<p>780 rows × 3 columns</p>\n",
       "</div>"
      ],
      "text/plain": [
       "     product_id         pred           tn\n",
       "0         20001  1397.305481  1454.732720\n",
       "1         20002  1086.538942  1175.437142\n",
       "2         20003   747.163659   784.976407\n",
       "3         20004   565.799872   627.215328\n",
       "4         20005   638.965713   668.270104\n",
       "..          ...          ...          ...\n",
       "775       21263     0.029993     0.029993\n",
       "776       21265     0.791975     0.089541\n",
       "777       21266     0.094659     0.094659\n",
       "778       21267     0.092835     0.092835\n",
       "779       21276     0.045447     0.045447\n",
       "\n",
       "[780 rows x 3 columns]"
      ]
     },
     "execution_count": 22,
     "metadata": {},
     "output_type": "execute_result"
    }
   ],
   "source": [
    "# promedio780 = model_lgb.promedio_12_meses_780p()\n",
    "# df_future = df_future.merge(promedio780, on='product_id', how='left')\n",
    "# df_future.drop(columns=['target','periodo'], inplace=True)\n",
    "# df_future.loc[df_future['pred'] < 0, 'pred'] = df_future['tn']\n",
    "# df_future\n",
    "\n"
   ]
  },
  {
   "cell_type": "markdown",
   "id": "dda8de6a",
   "metadata": {},
   "source": [
    "Guardamos el archivo"
   ]
  },
  {
   "cell_type": "code",
   "execution_count": 30,
   "id": "d2cddb61",
   "metadata": {},
   "outputs": [],
   "source": [
    "# df_future_copy.drop(columns=['tn'], inplace=True)\n",
    "# df_future_copy.rename(columns={'pred': 'tn'}, inplace=True)\n",
    "df_future_copy[['product_id', 'tn']].to_csv(\"./outputs/predicciones_exp_07_lgb_v6.csv\", index=False, sep=',')"
   ]
  },
  {
   "cell_type": "markdown",
   "id": "38baf74d",
   "metadata": {},
   "source": [
    "Ensemble"
   ]
  },
  {
   "cell_type": "code",
   "execution_count": 31,
   "id": "3947124a",
   "metadata": {},
   "outputs": [],
   "source": [
    "df_lgb = df_future_copy[['product_id', 'tn']].rename(columns={'tn': 'tn_lgb'})\n",
    "df_rl = pd.read_csv(\"./outputs/predicciones_regresion_lineal_v1.csv\", sep=',', encoding='utf-8').rename(columns={'tn': 'tn_rl'})\n",
    "df_ensemble = df_lgb.merge(df_rl, on='product_id', how='left')\n",
    "df_ensemble['tn'] = (df_ensemble['tn_lgb'] + df_ensemble['tn_rl']) / 2\n",
    "df_ensemble[['product_id', 'tn']].to_csv(\"./outputs/predicciones_exp_07_lgb_v6_ensemble.csv\", index=False, sep=',')"
   ]
  },
  {
   "cell_type": "code",
   "execution_count": 32,
   "id": "887b37b1",
   "metadata": {},
   "outputs": [],
   "source": [
    "df_lgb = df_future_copy[['product_id', 'tn']].rename(columns={'tn': 'tn_lgb'})\n",
    "df_rl = pd.read_csv(\"./outputs/predicciones_regresion_lineal_v1.csv\", sep=',', encoding='utf-8').rename(columns={'tn': 'tn_rl'})\n",
    "df_ag = pd.read_csv(\"./outputs/prediccion_autogluon_2ventanas.csv\", sep=',', encoding='utf-8').rename(columns={'tn': 'tn_ag'})\n",
    "df_ensemble = df_lgb.merge(df_rl, on='product_id', how='left')\n",
    "df_ensemble = df_ensemble.merge(df_ag, on='product_id', how='left')\n",
    "df_ensemble['tn'] = (df_ensemble['tn_lgb'] + df_ensemble['tn_rl'] + df_ensemble['tn_ag']) / 3\n",
    "df_ensemble[['product_id', 'tn']].to_csv(\"./outputs/predicciones_exp_07_lgb_v6_ensemble_3models.csv\", index=False, sep=',')"
   ]
  }
 ],
 "metadata": {
  "kernelspec": {
   "display_name": "py311lab3",
   "language": "python",
   "name": "python3"
  },
  "language_info": {
   "codemirror_mode": {
    "name": "ipython",
    "version": 3
   },
   "file_extension": ".py",
   "mimetype": "text/x-python",
   "name": "python",
   "nbconvert_exporter": "python",
   "pygments_lexer": "ipython3",
   "version": "3.11.13"
  }
 },
 "nbformat": 4,
 "nbformat_minor": 5
}
