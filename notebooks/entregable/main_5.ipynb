{
 "cells": [
  {
   "cell_type": "code",
   "execution_count": 47,
   "id": "dbae8eac",
   "metadata": {},
   "outputs": [],
   "source": [
    "import pandas as pd\n",
    "import numpy as np\n",
    "import importlib\n",
    "import gc\n",
    "import sys\n",
    "import warnings\n",
    "sys.path.append('./scripts')  \n",
    "import preprocesamiento\n",
    "import feature_engineering\n",
    "import model_lgb\n",
    "importlib.reload(preprocesamiento)\n",
    "importlib.reload(model_lgb)\n",
    "importlib.reload(feature_engineering)\n",
    "warnings.filterwarnings(\"ignore\")"
   ]
  },
  {
   "cell_type": "markdown",
   "id": "14763c97",
   "metadata": {},
   "source": [
    "# Experimento 5: \n",
    "- Nuevas relacion entre variables\n",
    "- Eliminamos variables no importantes del exp 04, nos quedamos que las menos.\n",
    "- Kaggle =  0.391\n"
   ]
  },
  {
   "cell_type": "markdown",
   "id": "3e128128",
   "metadata": {},
   "source": [
    "##### Levantamos el dataset con target ya calculado"
   ]
  },
  {
   "cell_type": "code",
   "execution_count": 48,
   "id": "23d157af",
   "metadata": {},
   "outputs": [
    {
     "data": {
      "text/plain": [
       "(31362, 19)"
      ]
     },
     "execution_count": 48,
     "metadata": {},
     "output_type": "execute_result"
    }
   ],
   "source": [
    "df = pd.read_csv(\"./datasets/periodo_x_producto_con_target.csv\", sep=',', encoding='utf-8')\n",
    "df.shape"
   ]
  },
  {
   "cell_type": "code",
   "execution_count": 49,
   "id": "dd58191b",
   "metadata": {},
   "outputs": [
    {
     "data": {
      "text/plain": [
       "['product_id',\n",
       " 'periodo',\n",
       " 'nacimiento_producto',\n",
       " 'muerte_producto',\n",
       " 'mes_n',\n",
       " 'total_meses',\n",
       " 'producto_nuevo',\n",
       " 'ciclo_de_vida_inicial',\n",
       " 'cat1',\n",
       " 'cat2',\n",
       " 'cat3',\n",
       " 'brand',\n",
       " 'sku_size',\n",
       " 'stock_final',\n",
       " 'tn',\n",
       " 'plan_precios_cuidados',\n",
       " 'cust_request_qty',\n",
       " 'cust_request_tn',\n",
       " 'target']"
      ]
     },
     "execution_count": 49,
     "metadata": {},
     "output_type": "execute_result"
    }
   ],
   "source": [
    "columnas_baseline = df.columns.tolist()\n",
    "columnas_baseline"
   ]
  },
  {
   "cell_type": "markdown",
   "id": "b6556d30",
   "metadata": {},
   "source": [
    "##### Preprocesamiento a la minima expresión :)"
   ]
  },
  {
   "cell_type": "code",
   "execution_count": 50,
   "id": "9665b526",
   "metadata": {},
   "outputs": [],
   "source": [
    "# ##### aplicamos OHE\n",
    "# df = preprocesamiento.aplicarOHE(df)\n",
    "# df.shape"
   ]
  },
  {
   "cell_type": "markdown",
   "id": "902b1e13",
   "metadata": {},
   "source": [
    "### Feature Engineering"
   ]
  },
  {
   "cell_type": "markdown",
   "id": "2bd77df9",
   "metadata": {},
   "source": [
    "##### Neural Prophet"
   ]
  },
  {
   "cell_type": "code",
   "execution_count": 51,
   "id": "34d306ff",
   "metadata": {},
   "outputs": [
    {
     "data": {
      "text/plain": [
       "(31362, 22)"
      ]
     },
     "execution_count": 51,
     "metadata": {},
     "output_type": "execute_result"
    }
   ],
   "source": [
    "neural_prophet_fe = pd.read_csv(\"./datasets/features_neuralprophet_completo.csv\", sep=',', encoding='utf-8')\n",
    "neural_prophet_fe['ds'] = pd.to_datetime(neural_prophet_fe['ds'], errors='coerce')\n",
    "# Versión alternativa más robusta:\n",
    "neural_prophet_fe['periodo'] = neural_prophet_fe['ds'].apply(\n",
    "    lambda x: x.year * 100 + x.month if pd.notnull(x) else None\n",
    ")\n",
    "neural_prophet_fe = neural_prophet_fe[['periodo', 'product_id', 'trend', \"season_yearly\", \"season_monthly\"]]\n",
    "df = df.merge(neural_prophet_fe, on=['periodo', 'product_id'], how='left')\n",
    "df.shape"
   ]
  },
  {
   "cell_type": "markdown",
   "id": "ff026986",
   "metadata": {},
   "source": [
    "##### Prophet"
   ]
  },
  {
   "cell_type": "code",
   "execution_count": 52,
   "id": "4318910f",
   "metadata": {},
   "outputs": [
    {
     "data": {
      "text/plain": [
       "(31362, 28)"
      ]
     },
     "execution_count": 52,
     "metadata": {},
     "output_type": "execute_result"
    }
   ],
   "source": [
    "prophet_fe = pd.read_csv(\"./datasets/prophet_features_tn_zscore.csv\", sep=',', encoding='utf-8')\n",
    "prophet_fe['ds'] = pd.to_datetime(prophet_fe['ds'], errors='coerce')\n",
    "prophet_fe['periodo'] = prophet_fe['ds'].apply(\n",
    "    lambda x: x.year * 100 + x.month if pd.notnull(x) else None\n",
    ")\n",
    "prophet_fe = prophet_fe[['periodo', 'product_id', 'trend_add', \"yearly_add\", \"additive_terms\", 'trend_mult', 'yearly_mult', 'multiplicative_terms']]\n",
    "df = df.merge(prophet_fe, on=['periodo', 'product_id'], how='left')\n",
    "df.shape"
   ]
  },
  {
   "cell_type": "markdown",
   "id": "2eb4d3aa",
   "metadata": {},
   "source": [
    "##### FE Moviles"
   ]
  },
  {
   "cell_type": "code",
   "execution_count": 53,
   "id": "7dc30b4c",
   "metadata": {},
   "outputs": [
    {
     "data": {
      "text/plain": [
       "(31362, 590)"
      ]
     },
     "execution_count": 53,
     "metadata": {},
     "output_type": "execute_result"
    }
   ],
   "source": [
    "df = feature_engineering.get_lags(df, \"tn\", 201912)\n",
    "df = feature_engineering.get_delta_lags(df, \"tn\", 24)\n",
    "df = feature_engineering.get_rolling_means(df, \"tn\", 201912)\n",
    "df = feature_engineering.get_rolling_stds(df, \"tn\", 201912)\n",
    "df = feature_engineering.get_rolling_mins(df, \"tn\", 201912)\n",
    "df = feature_engineering.get_rolling_maxs(df, \"tn\", 201912)\n",
    "df = feature_engineering.get_rolling_medians(df, \"tn\", 201912)\n",
    "df = feature_engineering.get_rolling_skewness(df, \"tn\", 201912)\n",
    "df = feature_engineering.get_autocorrelaciones(df, \"tn\", 201912)\n",
    "df.shape"
   ]
  },
  {
   "cell_type": "code",
   "execution_count": 54,
   "id": "e0500070",
   "metadata": {},
   "outputs": [],
   "source": [
    "df = feature_engineering.get_lags(df, \"cust_request_qty\", 201912)\n",
    "df = feature_engineering.get_delta_lags(df, \"cust_request_qty\", 24)\n",
    "df = feature_engineering.get_rolling_means(df, \"cust_request_qty\", 201912)\n",
    "df = feature_engineering.get_rolling_stds(df, \"cust_request_qty\", 201912)\n",
    "df = feature_engineering.get_rolling_mins(df, \"cust_request_qty\", 201912)\n",
    "df = feature_engineering.get_rolling_maxs(df, \"cust_request_qty\", 201912)"
   ]
  },
  {
   "cell_type": "code",
   "execution_count": 55,
   "id": "195bd5b9",
   "metadata": {},
   "outputs": [
    {
     "data": {
      "text/plain": [
       "(31362, 1500)"
      ]
     },
     "execution_count": 55,
     "metadata": {},
     "output_type": "execute_result"
    }
   ],
   "source": [
    "df = feature_engineering.get_lags(df, \"stock_final\", 201912)\n",
    "df = feature_engineering.get_delta_lags(df, \"stock_final\", 24)\n",
    "df = feature_engineering.get_rolling_means(df, \"stock_final\", 201912)\n",
    "df = feature_engineering.get_rolling_stds(df, \"stock_final\", 201912)\n",
    "df = feature_engineering.get_rolling_mins(df, \"stock_final\", 201912)\n",
    "df = feature_engineering.get_rolling_maxs(df, \"stock_final\", 201912)\n",
    "df.shape"
   ]
  },
  {
   "cell_type": "markdown",
   "id": "e2436c9b",
   "metadata": {},
   "source": [
    "##### FE Moviles sobre otras variables"
   ]
  },
  {
   "cell_type": "code",
   "execution_count": 56,
   "id": "0dca7531",
   "metadata": {},
   "outputs": [],
   "source": [
    "# #  stock final\n",
    "# df = feature_engineering.get_lagsEspecificos(df, col='stock_final_zscore')\n",
    "# df = feature_engineering.get_delta_lags_especificos(df, col='stock_final_zscore')\n",
    "# df = feature_engineering.get_rolling_means_especificos(df, col='stock_final_zscore')\n",
    "# df = feature_engineering.get_rolling_stds_especificos(df, col='stock_final_zscore')\n",
    "# df = feature_engineering.get_rolling_medians_especificos(df, col='stock_final_zscore')\n",
    "# df = feature_engineering.get_rolling_mins_especificos(df, col='stock_final_zscore')\n",
    "# df = feature_engineering.get_rolling_maxs_especificos(df, col='stock_final_zscore')\n",
    "# df = feature_engineering.get_rolling_skewness_especificos(df, col='stock_final_zscore')\n",
    "\n",
    "#  cust_request_qty\n",
    "# df = feature_engineering.get_lagsEspecificos(df, col='cust_request_qty')\n",
    "# df = feature_engineering.get_delta_lags_especificos(df, col='cust_request_qty')\n",
    "# df = feature_engineering.get_rolling_means_especificos(df, col='cust_request_qty')\n",
    "# df = feature_engineering.get_rolling_stds_especificos(df, col='cust_request_qty')\n",
    "# df = feature_engineering.get_rolling_mins_especificos(df, col='cust_request_qty')\n",
    "# df = feature_engineering.get_rolling_maxs_especificos(df, col='cust_request_qty')\n",
    "# df = feature_engineering.get_rolling_medians_especificos(df, col='cust_request_qty')\n",
    "# df = feature_engineering.get_rolling_skewness_especificos(df, col='cust_request_qty')"
   ]
  },
  {
   "cell_type": "markdown",
   "id": "6fb9716d",
   "metadata": {},
   "source": [
    "##### FE Calendario"
   ]
  },
  {
   "cell_type": "code",
   "execution_count": 57,
   "id": "3e810260",
   "metadata": {},
   "outputs": [
    {
     "data": {
      "text/plain": [
       "(31362, 1525)"
      ]
     },
     "execution_count": 57,
     "metadata": {},
     "output_type": "execute_result"
    }
   ],
   "source": [
    "df = feature_engineering.generar_ids(df)\n",
    "df = feature_engineering.get_componentesTemporales(df)\n",
    "df = feature_engineering.get_anomaliasPoliticas(df)\n",
    "# df = feature_engineering.descomposicion_serie_temporal(df, col='tn')\n",
    "df.shape"
   ]
  },
  {
   "cell_type": "markdown",
   "id": "b34d19db",
   "metadata": {},
   "source": [
    "##### FE sobre FE"
   ]
  },
  {
   "cell_type": "code",
   "execution_count": 58,
   "id": "14345585",
   "metadata": {},
   "outputs": [
    {
     "data": {
      "text/plain": [
       "(31362, 1554)"
      ]
     },
     "execution_count": 58,
     "metadata": {},
     "output_type": "execute_result"
    }
   ],
   "source": [
    "df = feature_engineering.chatGPT_features_serie(df, \"tn\")\n",
    "df = feature_engineering.mes_con_feriado(df)\n",
    "df.shape"
   ]
  },
  {
   "cell_type": "markdown",
   "id": "62f1cbad",
   "metadata": {},
   "source": [
    "##### Variables Exogenas"
   ]
  },
  {
   "cell_type": "code",
   "execution_count": 59,
   "id": "d10e572a",
   "metadata": {},
   "outputs": [
    {
     "data": {
      "text/plain": [
       "(31362, 1557)"
      ]
     },
     "execution_count": 59,
     "metadata": {},
     "output_type": "execute_result"
    }
   ],
   "source": [
    "df = feature_engineering.get_dolar(df)\n",
    "df = feature_engineering.get_IPC(df)\n",
    "df['ipc'] = df['ipc'].str.replace(',', '.').astype(float)\n",
    "df['dolar'] = df['dolar'].str.replace(',', '.').astype(float)\n",
    "# df.drop(columns=['ds'], inplace=True)\n",
    "df.fillna(0, inplace=True) ##### EXPERIMENTAR\n",
    "df = feature_engineering.correlacion_exogenas(df)\n",
    "df = feature_engineering.get_mes_receso_escolar(df)\n",
    "df.shape"
   ]
  },
  {
   "cell_type": "markdown",
   "id": "574cbf29",
   "metadata": {},
   "source": [
    "##### Nuevas FE"
   ]
  },
  {
   "cell_type": "code",
   "execution_count": 60,
   "id": "ac0b5e13",
   "metadata": {},
   "outputs": [
    {
     "data": {
      "text/plain": [
       "(31362, 1599)"
      ]
     },
     "execution_count": 60,
     "metadata": {},
     "output_type": "execute_result"
    }
   ],
   "source": [
    "df = feature_engineering.create_ratio_features(df)\n",
    "df = feature_engineering.enhance_lifecycle_features(df)\n",
    "df = feature_engineering.create_category_features(df)\n",
    "df = feature_engineering.create_regime_features(df)\n",
    "df = feature_engineering.create_nonlinear_trends(df)\n",
    "df = feature_engineering.create_temporal_interactions(df)\n",
    "df = feature_engineering.create_asymmetric_window_features(df)\n",
    "df = feature_engineering.recomendaciones_deepseek(df)\n",
    "df = feature_engineering.get_nuevas_features(df)\n",
    "df.shape"
   ]
  },
  {
   "cell_type": "markdown",
   "id": "01403c73",
   "metadata": {},
   "source": [
    "##### Elimino aquellas que no sirven"
   ]
  },
  {
   "cell_type": "code",
   "execution_count": 61,
   "id": "394f26c7",
   "metadata": {},
   "outputs": [
    {
     "data": {
      "application/vnd.microsoft.datawrangler.viewer.v0+json": {
       "columns": [
        {
         "name": "index",
         "rawType": "int64",
         "type": "integer"
        },
        {
         "name": "feature",
         "rawType": "object",
         "type": "string"
        },
        {
         "name": "importance",
         "rawType": "int64",
         "type": "integer"
        }
       ],
       "ref": "99236d7e-1c34-47b5-99a8-f8d5590bf473",
       "rows": [
        [
         "67",
         "tn_vs_prev_year",
         "100"
        ],
        [
         "68",
         "tn_delta_lag5_lag8",
         "99"
        ],
        [
         "69",
         "tn_rolling_min_4",
         "96"
        ],
        [
         "70",
         "tn_lag_5",
         "95"
        ],
        [
         "71",
         "tn_rolling_std_6",
         "95"
        ],
        [
         "72",
         "tn_delta_lag4_lag9",
         "94"
        ],
        [
         "73",
         "tn_rolling_std_7",
         "92"
        ],
        [
         "74",
         "season_yearly",
         "92"
        ],
        [
         "75",
         "tn_delta_lag3_lag8",
         "91"
        ],
        [
         "76",
         "tn_delta_lag9_lag10",
         "90"
        ],
        [
         "77",
         "tn_lag_7",
         "89"
        ],
        [
         "78",
         "tn_delta_lag4_lag8",
         "88"
        ],
        [
         "79",
         "tn_lag_8",
         "87"
        ],
        [
         "80",
         "tn_rolling_max_4",
         "87"
        ],
        [
         "81",
         "tn_delta_lag7_lag10",
         "86"
        ],
        [
         "82",
         "tn_delta_lag2_lag8",
         "84"
        ],
        [
         "83",
         "tn_delta_lag5_lag7",
         "84"
        ],
        [
         "84",
         "tn_delta_lag1_lag9",
         "83"
        ],
        [
         "85",
         "tn_delta_lag4_lag10",
         "83"
        ],
        [
         "86",
         "tn_rolling_std_8",
         "83"
        ],
        [
         "88",
         "tn_delta_lag8_lag11",
         "83"
        ],
        [
         "89",
         "tn_delta_lag5_lag10",
         "82"
        ],
        [
         "90",
         "tn_seasonal_diff_12",
         "82"
        ],
        [
         "91",
         "tn_delta_lag2_lag9",
         "82"
        ],
        [
         "92",
         "tn_delta_lag3_lag11",
         "81"
        ],
        [
         "93",
         "tn_rolling_max_3",
         "81"
        ],
        [
         "94",
         "tn_delta_lag11_lag12",
         "81"
        ],
        [
         "95",
         "tn_delta_lag7_lag9",
         "78"
        ],
        [
         "96",
         "tn_delta_lag1_lag8",
         "78"
        ],
        [
         "97",
         "tn_delta_lag2_lag10",
         "78"
        ],
        [
         "98",
         "tn_delta_lag5_lag9",
         "77"
        ],
        [
         "99",
         "tn_delta_lag10_lag12",
         "77"
        ],
        [
         "100",
         "tn_rolling_mean_4",
         "75"
        ],
        [
         "101",
         "tn_trend_linear",
         "72"
        ],
        [
         "102",
         "tn_delta_lag6_lag9",
         "72"
        ],
        [
         "103",
         "tn_last3_vs_ly3",
         "71"
        ],
        [
         "105",
         "tn_rolling_min_6",
         "71"
        ],
        [
         "106",
         "tn_delta_lag2_lag11",
         "71"
        ],
        [
         "107",
         "tn_rolling_min_5",
         "71"
        ],
        [
         "108",
         "tn_lag_9",
         "70"
        ],
        [
         "109",
         "tn_delta_lag3_lag9",
         "70"
        ],
        [
         "110",
         "tn_rolling_mean_3",
         "69"
        ],
        [
         "112",
         "tn_lag_10",
         "68"
        ],
        [
         "113",
         "tn_delta_lag9_lag12",
         "67"
        ],
        [
         "114",
         "tn_delta_lag8_lag10",
         "66"
        ],
        [
         "115",
         "additive_terms",
         "65"
        ],
        [
         "116",
         "tn_delta_lag5_lag11",
         "65"
        ],
        [
         "117",
         "cat2_ROPA LAVADO",
         "64"
        ],
        [
         "118",
         "tn_delta_lag9_lag11",
         "62"
        ],
        [
         "119",
         "tn_delta_lag10_lag11",
         "61"
        ]
       ],
       "shape": {
        "columns": 2,
        "rows": 608
       }
      },
      "text/html": [
       "<div>\n",
       "<style scoped>\n",
       "    .dataframe tbody tr th:only-of-type {\n",
       "        vertical-align: middle;\n",
       "    }\n",
       "\n",
       "    .dataframe tbody tr th {\n",
       "        vertical-align: top;\n",
       "    }\n",
       "\n",
       "    .dataframe thead th {\n",
       "        text-align: right;\n",
       "    }\n",
       "</style>\n",
       "<table border=\"1\" class=\"dataframe\">\n",
       "  <thead>\n",
       "    <tr style=\"text-align: right;\">\n",
       "      <th></th>\n",
       "      <th>feature</th>\n",
       "      <th>importance</th>\n",
       "    </tr>\n",
       "  </thead>\n",
       "  <tbody>\n",
       "    <tr>\n",
       "      <th>67</th>\n",
       "      <td>tn_vs_prev_year</td>\n",
       "      <td>100</td>\n",
       "    </tr>\n",
       "    <tr>\n",
       "      <th>68</th>\n",
       "      <td>tn_delta_lag5_lag8</td>\n",
       "      <td>99</td>\n",
       "    </tr>\n",
       "    <tr>\n",
       "      <th>69</th>\n",
       "      <td>tn_rolling_min_4</td>\n",
       "      <td>96</td>\n",
       "    </tr>\n",
       "    <tr>\n",
       "      <th>70</th>\n",
       "      <td>tn_lag_5</td>\n",
       "      <td>95</td>\n",
       "    </tr>\n",
       "    <tr>\n",
       "      <th>71</th>\n",
       "      <td>tn_rolling_std_6</td>\n",
       "      <td>95</td>\n",
       "    </tr>\n",
       "    <tr>\n",
       "      <th>...</th>\n",
       "      <td>...</td>\n",
       "      <td>...</td>\n",
       "    </tr>\n",
       "    <tr>\n",
       "      <th>677</th>\n",
       "      <td>dia_del_year</td>\n",
       "      <td>0</td>\n",
       "    </tr>\n",
       "    <tr>\n",
       "      <th>678</th>\n",
       "      <td>cat2_TE</td>\n",
       "      <td>0</td>\n",
       "    </tr>\n",
       "    <tr>\n",
       "      <th>680</th>\n",
       "      <td>cat2_PIEL1</td>\n",
       "      <td>0</td>\n",
       "    </tr>\n",
       "    <tr>\n",
       "      <th>681</th>\n",
       "      <td>cat2_OTROS</td>\n",
       "      <td>0</td>\n",
       "    </tr>\n",
       "    <tr>\n",
       "      <th>682</th>\n",
       "      <td>tn_is_outlier_3sigma</td>\n",
       "      <td>0</td>\n",
       "    </tr>\n",
       "  </tbody>\n",
       "</table>\n",
       "<p>608 rows × 2 columns</p>\n",
       "</div>"
      ],
      "text/plain": [
       "                  feature  importance\n",
       "67        tn_vs_prev_year         100\n",
       "68     tn_delta_lag5_lag8          99\n",
       "69       tn_rolling_min_4          96\n",
       "70               tn_lag_5          95\n",
       "71       tn_rolling_std_6          95\n",
       "..                    ...         ...\n",
       "677          dia_del_year           0\n",
       "678               cat2_TE           0\n",
       "680            cat2_PIEL1           0\n",
       "681            cat2_OTROS           0\n",
       "682  tn_is_outlier_3sigma           0\n",
       "\n",
       "[608 rows x 2 columns]"
      ]
     },
     "execution_count": 61,
     "metadata": {},
     "output_type": "execute_result"
    }
   ],
   "source": [
    "importantes = pd.read_csv(\"./feature_importance/exp04_3.csv\", sep=',', encoding='utf-8')\n",
    "no_importantes = importantes[importantes['importance'] <= 100]\n",
    "no_importantes = no_importantes[~no_importantes['feature'].isin(columnas_baseline)]\n",
    "no_importantes"
   ]
  },
  {
   "cell_type": "code",
   "execution_count": 62,
   "id": "64ffa0fc",
   "metadata": {},
   "outputs": [
    {
     "name": "stdout",
     "output_type": "stream",
     "text": [
      "Antes de eliminar: 1599 columnas\n",
      "Después de eliminar: 1139 columnas\n"
     ]
    }
   ],
   "source": [
    "cols_a_eliminar = no_importantes.feature.unique()\n",
    "print(f\"Antes de eliminar: {df.shape[1]} columnas\")\n",
    "df = df.drop(columns=cols_a_eliminar, errors='ignore')\n",
    "print(f\"Después de eliminar: {df.shape[1]} columnas\")"
   ]
  },
  {
   "cell_type": "markdown",
   "id": "db213673",
   "metadata": {},
   "source": [
    "Eliminar object/categorical columnas"
   ]
  },
  {
   "cell_type": "code",
   "execution_count": 68,
   "id": "a71a529b",
   "metadata": {},
   "outputs": [],
   "source": [
    "df = df.select_dtypes(exclude=['datetime', 'datetime64', 'object'])\n"
   ]
  },
  {
   "cell_type": "markdown",
   "id": "4ff4ee13",
   "metadata": {},
   "source": [
    "##### EXP 1\n",
    "\n",
    "-   \n"
   ]
  },
  {
   "cell_type": "code",
   "execution_count": 69,
   "id": "f43f0ecc",
   "metadata": {},
   "outputs": [
    {
     "name": "stderr",
     "output_type": "stream",
     "text": [
      "[I 2025-06-27 19:35:57,861] A new study created in memory with name: no-name-11f77fbc-b8ec-4e21-9340-5deed7cf2c21\n"
     ]
    },
    {
     "name": "stdout",
     "output_type": "stream",
     "text": [
      "Features: ['product_id', 'periodo', 'nacimiento_producto', 'muerte_producto', 'mes_n', 'total_meses', 'producto_nuevo', 'ciclo_de_vida_inicial', 'sku_size', 'stock_final', 'tn', 'plan_precios_cuidados', 'cust_request_qty', 'cust_request_tn', 'trend', 'trend_add', 'yearly_add', 'trend_mult', 'yearly_mult', 'tn_lag_1', 'tn_lag_2', 'tn_lag_3', 'tn_lag_4', 'tn_lag_6', 'tn_delta_lag1_lag2', 'tn_delta_lag1_lag3', 'tn_delta_lag1_lag4', 'tn_delta_lag1_lag5', 'tn_delta_lag1_lag6', 'tn_delta_lag1_lag7', 'tn_delta_lag2_lag3', 'tn_delta_lag2_lag4', 'tn_delta_lag2_lag5', 'tn_delta_lag2_lag6', 'tn_delta_lag2_lag7', 'tn_delta_lag3_lag4', 'tn_delta_lag3_lag5', 'tn_delta_lag3_lag6', 'tn_delta_lag3_lag7', 'tn_delta_lag4_lag5', 'tn_delta_lag4_lag6', 'tn_delta_lag4_lag7', 'tn_delta_lag5_lag6', 'tn_delta_lag6_lag7', 'tn_delta_lag6_lag8', 'tn_delta_lag7_lag8', 'tn_delta_lag8_lag9', 'tn_rolling_mean_2', 'tn_rolling_std_2', 'tn_rolling_std_3', 'tn_rolling_std_4', 'tn_rolling_std_5', 'tn_rolling_min_2', 'tn_rolling_min_3', 'tn_rolling_max_2', 'tn_rolling_median_1', 'tn_rolling_median_2', 'tn_rolling_median_3', 'tn_rolling_median_4', 'tn_rolling_median_5', 'tn_rolling_median_6', 'tn_rolling_median_7', 'tn_rolling_median_8', 'tn_rolling_median_9', 'tn_rolling_median_10', 'tn_rolling_median_11', 'tn_rolling_median_12', 'tn_rolling_median_13', 'tn_rolling_median_14', 'tn_rolling_median_15', 'tn_rolling_median_16', 'tn_rolling_median_17', 'tn_rolling_median_18', 'tn_rolling_median_19', 'tn_rolling_median_20', 'tn_rolling_median_21', 'tn_rolling_median_22', 'tn_rolling_median_23', 'tn_rolling_median_24', 'tn_rolling_median_25', 'tn_rolling_median_26', 'tn_rolling_median_27', 'tn_rolling_median_28', 'tn_rolling_median_29', 'tn_rolling_median_30', 'tn_rolling_median_31', 'tn_rolling_median_32', 'tn_rolling_median_33', 'tn_rolling_median_34', 'tn_rolling_median_35', 'tn_rolling_median_36', 'tn_rolling_skew_1', 'tn_rolling_skew_2', 'tn_rolling_skew_3', 'tn_rolling_skew_4', 'tn_rolling_skew_5', 'tn_rolling_skew_6', 'tn_rolling_skew_7', 'tn_rolling_skew_8', 'tn_rolling_skew_9', 'tn_rolling_skew_10', 'tn_rolling_skew_11', 'tn_rolling_skew_12', 'tn_rolling_skew_13', 'tn_rolling_skew_14', 'tn_rolling_skew_15', 'tn_rolling_skew_16', 'tn_rolling_skew_17', 'tn_rolling_skew_18', 'tn_rolling_skew_19', 'tn_rolling_skew_20', 'tn_rolling_skew_21', 'tn_rolling_skew_22', 'tn_rolling_skew_23', 'tn_rolling_skew_24', 'tn_rolling_skew_25', 'tn_rolling_skew_26', 'tn_rolling_skew_27', 'tn_rolling_skew_28', 'tn_rolling_skew_29', 'tn_rolling_skew_30', 'tn_rolling_skew_31', 'tn_rolling_skew_32', 'tn_rolling_skew_33', 'tn_rolling_skew_34', 'tn_rolling_skew_35', 'tn_rolling_skew_36', 'autocorr_lag_1', 'autocorr_lag_2', 'autocorr_lag_3', 'autocorr_lag_4', 'autocorr_lag_5', 'autocorr_lag_6', 'autocorr_lag_7', 'autocorr_lag_8', 'autocorr_lag_9', 'autocorr_lag_10', 'autocorr_lag_11', 'autocorr_lag_12', 'autocorr_lag_13', 'autocorr_lag_14', 'autocorr_lag_15', 'autocorr_lag_16', 'autocorr_lag_17', 'autocorr_lag_18', 'autocorr_lag_19', 'autocorr_lag_20', 'autocorr_lag_21', 'autocorr_lag_22', 'autocorr_lag_23', 'autocorr_lag_24', 'autocorr_lag_25', 'autocorr_lag_26', 'autocorr_lag_27', 'autocorr_lag_28', 'autocorr_lag_29', 'autocorr_lag_30', 'autocorr_lag_31', 'autocorr_lag_32', 'autocorr_lag_33', 'autocorr_lag_34', 'autocorr_lag_35', 'cust_request_qty_lag_1', 'cust_request_qty_lag_2', 'cust_request_qty_lag_3', 'cust_request_qty_lag_4', 'cust_request_qty_lag_5', 'cust_request_qty_lag_6', 'cust_request_qty_lag_7', 'cust_request_qty_lag_8', 'cust_request_qty_lag_9', 'cust_request_qty_lag_10', 'cust_request_qty_lag_11', 'cust_request_qty_lag_12', 'cust_request_qty_lag_13', 'cust_request_qty_lag_14', 'cust_request_qty_lag_15', 'cust_request_qty_lag_16', 'cust_request_qty_lag_17', 'cust_request_qty_lag_18', 'cust_request_qty_lag_19', 'cust_request_qty_lag_20', 'cust_request_qty_lag_21', 'cust_request_qty_lag_22', 'cust_request_qty_lag_23', 'cust_request_qty_lag_24', 'cust_request_qty_lag_25', 'cust_request_qty_lag_26', 'cust_request_qty_lag_27', 'cust_request_qty_lag_28', 'cust_request_qty_lag_29', 'cust_request_qty_lag_30', 'cust_request_qty_lag_31', 'cust_request_qty_lag_32', 'cust_request_qty_lag_33', 'cust_request_qty_lag_34', 'cust_request_qty_lag_35', 'cust_request_qty_delta_lag1_lag2', 'cust_request_qty_delta_lag1_lag3', 'cust_request_qty_delta_lag1_lag4', 'cust_request_qty_delta_lag1_lag5', 'cust_request_qty_delta_lag1_lag6', 'cust_request_qty_delta_lag1_lag7', 'cust_request_qty_delta_lag1_lag8', 'cust_request_qty_delta_lag1_lag9', 'cust_request_qty_delta_lag1_lag10', 'cust_request_qty_delta_lag1_lag11', 'cust_request_qty_delta_lag1_lag12', 'cust_request_qty_delta_lag1_lag13', 'cust_request_qty_delta_lag1_lag14', 'cust_request_qty_delta_lag1_lag15', 'cust_request_qty_delta_lag1_lag16', 'cust_request_qty_delta_lag1_lag17', 'cust_request_qty_delta_lag1_lag18', 'cust_request_qty_delta_lag1_lag19', 'cust_request_qty_delta_lag1_lag20', 'cust_request_qty_delta_lag1_lag21', 'cust_request_qty_delta_lag1_lag22', 'cust_request_qty_delta_lag1_lag23', 'cust_request_qty_delta_lag1_lag24', 'cust_request_qty_delta_lag2_lag3', 'cust_request_qty_delta_lag2_lag4', 'cust_request_qty_delta_lag2_lag5', 'cust_request_qty_delta_lag2_lag6', 'cust_request_qty_delta_lag2_lag7', 'cust_request_qty_delta_lag2_lag8', 'cust_request_qty_delta_lag2_lag9', 'cust_request_qty_delta_lag2_lag10', 'cust_request_qty_delta_lag2_lag11', 'cust_request_qty_delta_lag2_lag12', 'cust_request_qty_delta_lag2_lag13', 'cust_request_qty_delta_lag2_lag14', 'cust_request_qty_delta_lag2_lag15', 'cust_request_qty_delta_lag2_lag16', 'cust_request_qty_delta_lag2_lag17', 'cust_request_qty_delta_lag2_lag18', 'cust_request_qty_delta_lag2_lag19', 'cust_request_qty_delta_lag2_lag20', 'cust_request_qty_delta_lag2_lag21', 'cust_request_qty_delta_lag2_lag22', 'cust_request_qty_delta_lag2_lag23', 'cust_request_qty_delta_lag2_lag24', 'cust_request_qty_delta_lag3_lag4', 'cust_request_qty_delta_lag3_lag5', 'cust_request_qty_delta_lag3_lag6', 'cust_request_qty_delta_lag3_lag7', 'cust_request_qty_delta_lag3_lag8', 'cust_request_qty_delta_lag3_lag9', 'cust_request_qty_delta_lag3_lag10', 'cust_request_qty_delta_lag3_lag11', 'cust_request_qty_delta_lag3_lag12', 'cust_request_qty_delta_lag3_lag13', 'cust_request_qty_delta_lag3_lag14', 'cust_request_qty_delta_lag3_lag15', 'cust_request_qty_delta_lag3_lag16', 'cust_request_qty_delta_lag3_lag17', 'cust_request_qty_delta_lag3_lag18', 'cust_request_qty_delta_lag3_lag19', 'cust_request_qty_delta_lag3_lag20', 'cust_request_qty_delta_lag3_lag21', 'cust_request_qty_delta_lag3_lag22', 'cust_request_qty_delta_lag3_lag23', 'cust_request_qty_delta_lag3_lag24', 'cust_request_qty_delta_lag4_lag5', 'cust_request_qty_delta_lag4_lag6', 'cust_request_qty_delta_lag4_lag7', 'cust_request_qty_delta_lag4_lag8', 'cust_request_qty_delta_lag4_lag9', 'cust_request_qty_delta_lag4_lag10', 'cust_request_qty_delta_lag4_lag11', 'cust_request_qty_delta_lag4_lag12', 'cust_request_qty_delta_lag4_lag13', 'cust_request_qty_delta_lag4_lag14', 'cust_request_qty_delta_lag4_lag15', 'cust_request_qty_delta_lag4_lag16', 'cust_request_qty_delta_lag4_lag17', 'cust_request_qty_delta_lag4_lag18', 'cust_request_qty_delta_lag4_lag19', 'cust_request_qty_delta_lag4_lag20', 'cust_request_qty_delta_lag4_lag21', 'cust_request_qty_delta_lag4_lag22', 'cust_request_qty_delta_lag4_lag23', 'cust_request_qty_delta_lag4_lag24', 'cust_request_qty_delta_lag5_lag6', 'cust_request_qty_delta_lag5_lag7', 'cust_request_qty_delta_lag5_lag8', 'cust_request_qty_delta_lag5_lag9', 'cust_request_qty_delta_lag5_lag10', 'cust_request_qty_delta_lag5_lag11', 'cust_request_qty_delta_lag5_lag12', 'cust_request_qty_delta_lag5_lag13', 'cust_request_qty_delta_lag5_lag14', 'cust_request_qty_delta_lag5_lag15', 'cust_request_qty_delta_lag5_lag16', 'cust_request_qty_delta_lag5_lag17', 'cust_request_qty_delta_lag5_lag18', 'cust_request_qty_delta_lag5_lag19', 'cust_request_qty_delta_lag5_lag20', 'cust_request_qty_delta_lag5_lag21', 'cust_request_qty_delta_lag5_lag22', 'cust_request_qty_delta_lag5_lag23', 'cust_request_qty_delta_lag5_lag24', 'cust_request_qty_delta_lag6_lag7', 'cust_request_qty_delta_lag6_lag8', 'cust_request_qty_delta_lag6_lag9', 'cust_request_qty_delta_lag6_lag10', 'cust_request_qty_delta_lag6_lag11', 'cust_request_qty_delta_lag6_lag12', 'cust_request_qty_delta_lag6_lag13', 'cust_request_qty_delta_lag6_lag14', 'cust_request_qty_delta_lag6_lag15', 'cust_request_qty_delta_lag6_lag16', 'cust_request_qty_delta_lag6_lag17', 'cust_request_qty_delta_lag6_lag18', 'cust_request_qty_delta_lag6_lag19', 'cust_request_qty_delta_lag6_lag20', 'cust_request_qty_delta_lag6_lag21', 'cust_request_qty_delta_lag6_lag22', 'cust_request_qty_delta_lag6_lag23', 'cust_request_qty_delta_lag6_lag24', 'cust_request_qty_delta_lag7_lag8', 'cust_request_qty_delta_lag7_lag9', 'cust_request_qty_delta_lag7_lag10', 'cust_request_qty_delta_lag7_lag11', 'cust_request_qty_delta_lag7_lag12', 'cust_request_qty_delta_lag7_lag13', 'cust_request_qty_delta_lag7_lag14', 'cust_request_qty_delta_lag7_lag15', 'cust_request_qty_delta_lag7_lag16', 'cust_request_qty_delta_lag7_lag17', 'cust_request_qty_delta_lag7_lag18', 'cust_request_qty_delta_lag7_lag19', 'cust_request_qty_delta_lag7_lag20', 'cust_request_qty_delta_lag7_lag21', 'cust_request_qty_delta_lag7_lag22', 'cust_request_qty_delta_lag7_lag23', 'cust_request_qty_delta_lag7_lag24', 'cust_request_qty_delta_lag8_lag9', 'cust_request_qty_delta_lag8_lag10', 'cust_request_qty_delta_lag8_lag11', 'cust_request_qty_delta_lag8_lag12', 'cust_request_qty_delta_lag8_lag13', 'cust_request_qty_delta_lag8_lag14', 'cust_request_qty_delta_lag8_lag15', 'cust_request_qty_delta_lag8_lag16', 'cust_request_qty_delta_lag8_lag17', 'cust_request_qty_delta_lag8_lag18', 'cust_request_qty_delta_lag8_lag19', 'cust_request_qty_delta_lag8_lag20', 'cust_request_qty_delta_lag8_lag21', 'cust_request_qty_delta_lag8_lag22', 'cust_request_qty_delta_lag8_lag23', 'cust_request_qty_delta_lag8_lag24', 'cust_request_qty_delta_lag9_lag10', 'cust_request_qty_delta_lag9_lag11', 'cust_request_qty_delta_lag9_lag12', 'cust_request_qty_delta_lag9_lag13', 'cust_request_qty_delta_lag9_lag14', 'cust_request_qty_delta_lag9_lag15', 'cust_request_qty_delta_lag9_lag16', 'cust_request_qty_delta_lag9_lag17', 'cust_request_qty_delta_lag9_lag18', 'cust_request_qty_delta_lag9_lag19', 'cust_request_qty_delta_lag9_lag20', 'cust_request_qty_delta_lag9_lag21', 'cust_request_qty_delta_lag9_lag22', 'cust_request_qty_delta_lag9_lag23', 'cust_request_qty_delta_lag9_lag24', 'cust_request_qty_delta_lag10_lag11', 'cust_request_qty_delta_lag10_lag12', 'cust_request_qty_delta_lag10_lag13', 'cust_request_qty_delta_lag10_lag14', 'cust_request_qty_delta_lag10_lag15', 'cust_request_qty_delta_lag10_lag16', 'cust_request_qty_delta_lag10_lag17', 'cust_request_qty_delta_lag10_lag18', 'cust_request_qty_delta_lag10_lag19', 'cust_request_qty_delta_lag10_lag20', 'cust_request_qty_delta_lag10_lag21', 'cust_request_qty_delta_lag10_lag22', 'cust_request_qty_delta_lag10_lag23', 'cust_request_qty_delta_lag10_lag24', 'cust_request_qty_delta_lag11_lag12', 'cust_request_qty_delta_lag11_lag13', 'cust_request_qty_delta_lag11_lag14', 'cust_request_qty_delta_lag11_lag15', 'cust_request_qty_delta_lag11_lag16', 'cust_request_qty_delta_lag11_lag17', 'cust_request_qty_delta_lag11_lag18', 'cust_request_qty_delta_lag11_lag19', 'cust_request_qty_delta_lag11_lag20', 'cust_request_qty_delta_lag11_lag21', 'cust_request_qty_delta_lag11_lag22', 'cust_request_qty_delta_lag11_lag23', 'cust_request_qty_delta_lag11_lag24', 'cust_request_qty_delta_lag12_lag13', 'cust_request_qty_delta_lag12_lag14', 'cust_request_qty_delta_lag12_lag15', 'cust_request_qty_delta_lag12_lag16', 'cust_request_qty_delta_lag12_lag17', 'cust_request_qty_delta_lag12_lag18', 'cust_request_qty_delta_lag12_lag19', 'cust_request_qty_delta_lag12_lag20', 'cust_request_qty_delta_lag12_lag21', 'cust_request_qty_delta_lag12_lag22', 'cust_request_qty_delta_lag12_lag23', 'cust_request_qty_delta_lag12_lag24', 'cust_request_qty_delta_lag13_lag14', 'cust_request_qty_delta_lag13_lag15', 'cust_request_qty_delta_lag13_lag16', 'cust_request_qty_delta_lag13_lag17', 'cust_request_qty_delta_lag13_lag18', 'cust_request_qty_delta_lag13_lag19', 'cust_request_qty_delta_lag13_lag20', 'cust_request_qty_delta_lag13_lag21', 'cust_request_qty_delta_lag13_lag22', 'cust_request_qty_delta_lag13_lag23', 'cust_request_qty_delta_lag13_lag24', 'cust_request_qty_delta_lag14_lag15', 'cust_request_qty_delta_lag14_lag16', 'cust_request_qty_delta_lag14_lag17', 'cust_request_qty_delta_lag14_lag18', 'cust_request_qty_delta_lag14_lag19', 'cust_request_qty_delta_lag14_lag20', 'cust_request_qty_delta_lag14_lag21', 'cust_request_qty_delta_lag14_lag22', 'cust_request_qty_delta_lag14_lag23', 'cust_request_qty_delta_lag14_lag24', 'cust_request_qty_delta_lag15_lag16', 'cust_request_qty_delta_lag15_lag17', 'cust_request_qty_delta_lag15_lag18', 'cust_request_qty_delta_lag15_lag19', 'cust_request_qty_delta_lag15_lag20', 'cust_request_qty_delta_lag15_lag21', 'cust_request_qty_delta_lag15_lag22', 'cust_request_qty_delta_lag15_lag23', 'cust_request_qty_delta_lag15_lag24', 'cust_request_qty_delta_lag16_lag17', 'cust_request_qty_delta_lag16_lag18', 'cust_request_qty_delta_lag16_lag19', 'cust_request_qty_delta_lag16_lag20', 'cust_request_qty_delta_lag16_lag21', 'cust_request_qty_delta_lag16_lag22', 'cust_request_qty_delta_lag16_lag23', 'cust_request_qty_delta_lag16_lag24', 'cust_request_qty_delta_lag17_lag18', 'cust_request_qty_delta_lag17_lag19', 'cust_request_qty_delta_lag17_lag20', 'cust_request_qty_delta_lag17_lag21', 'cust_request_qty_delta_lag17_lag22', 'cust_request_qty_delta_lag17_lag23', 'cust_request_qty_delta_lag17_lag24', 'cust_request_qty_delta_lag18_lag19', 'cust_request_qty_delta_lag18_lag20', 'cust_request_qty_delta_lag18_lag21', 'cust_request_qty_delta_lag18_lag22', 'cust_request_qty_delta_lag18_lag23', 'cust_request_qty_delta_lag18_lag24', 'cust_request_qty_delta_lag19_lag20', 'cust_request_qty_delta_lag19_lag21', 'cust_request_qty_delta_lag19_lag22', 'cust_request_qty_delta_lag19_lag23', 'cust_request_qty_delta_lag19_lag24', 'cust_request_qty_delta_lag20_lag21', 'cust_request_qty_delta_lag20_lag22', 'cust_request_qty_delta_lag20_lag23', 'cust_request_qty_delta_lag20_lag24', 'cust_request_qty_delta_lag21_lag22', 'cust_request_qty_delta_lag21_lag23', 'cust_request_qty_delta_lag21_lag24', 'cust_request_qty_delta_lag22_lag23', 'cust_request_qty_delta_lag22_lag24', 'cust_request_qty_delta_lag23_lag24', 'cust_request_qty_rolling_mean_1', 'cust_request_qty_rolling_mean_2', 'cust_request_qty_rolling_mean_3', 'cust_request_qty_rolling_mean_4', 'cust_request_qty_rolling_mean_5', 'cust_request_qty_rolling_mean_6', 'cust_request_qty_rolling_mean_7', 'cust_request_qty_rolling_mean_8', 'cust_request_qty_rolling_mean_9', 'cust_request_qty_rolling_mean_10', 'cust_request_qty_rolling_mean_11', 'cust_request_qty_rolling_mean_12', 'cust_request_qty_rolling_mean_13', 'cust_request_qty_rolling_mean_14', 'cust_request_qty_rolling_mean_15', 'cust_request_qty_rolling_mean_16', 'cust_request_qty_rolling_mean_17', 'cust_request_qty_rolling_mean_18', 'cust_request_qty_rolling_mean_19', 'cust_request_qty_rolling_mean_20', 'cust_request_qty_rolling_mean_21', 'cust_request_qty_rolling_mean_22', 'cust_request_qty_rolling_mean_23', 'cust_request_qty_rolling_mean_24', 'cust_request_qty_rolling_mean_25', 'cust_request_qty_rolling_mean_26', 'cust_request_qty_rolling_mean_27', 'cust_request_qty_rolling_mean_28', 'cust_request_qty_rolling_mean_29', 'cust_request_qty_rolling_mean_30', 'cust_request_qty_rolling_mean_31', 'cust_request_qty_rolling_mean_32', 'cust_request_qty_rolling_mean_33', 'cust_request_qty_rolling_mean_34', 'cust_request_qty_rolling_mean_35', 'cust_request_qty_rolling_mean_36', 'cust_request_qty_rolling_std_1', 'cust_request_qty_rolling_std_2', 'cust_request_qty_rolling_std_3', 'cust_request_qty_rolling_std_4', 'cust_request_qty_rolling_std_5', 'cust_request_qty_rolling_std_6', 'cust_request_qty_rolling_std_7', 'cust_request_qty_rolling_std_8', 'cust_request_qty_rolling_std_9', 'cust_request_qty_rolling_std_10', 'cust_request_qty_rolling_std_11', 'cust_request_qty_rolling_std_12', 'cust_request_qty_rolling_std_13', 'cust_request_qty_rolling_std_14', 'cust_request_qty_rolling_std_15', 'cust_request_qty_rolling_std_16', 'cust_request_qty_rolling_std_17', 'cust_request_qty_rolling_std_18', 'cust_request_qty_rolling_std_19', 'cust_request_qty_rolling_std_20', 'cust_request_qty_rolling_std_21', 'cust_request_qty_rolling_std_22', 'cust_request_qty_rolling_std_23', 'cust_request_qty_rolling_std_24', 'cust_request_qty_rolling_std_25', 'cust_request_qty_rolling_std_26', 'cust_request_qty_rolling_std_27', 'cust_request_qty_rolling_std_28', 'cust_request_qty_rolling_std_29', 'cust_request_qty_rolling_std_30', 'cust_request_qty_rolling_std_31', 'cust_request_qty_rolling_std_32', 'cust_request_qty_rolling_std_33', 'cust_request_qty_rolling_std_34', 'cust_request_qty_rolling_std_35', 'cust_request_qty_rolling_std_36', 'cust_request_qty_rolling_min_1', 'cust_request_qty_rolling_min_2', 'cust_request_qty_rolling_min_3', 'cust_request_qty_rolling_min_4', 'cust_request_qty_rolling_min_5', 'cust_request_qty_rolling_min_6', 'cust_request_qty_rolling_min_7', 'cust_request_qty_rolling_min_8', 'cust_request_qty_rolling_min_9', 'cust_request_qty_rolling_min_10', 'cust_request_qty_rolling_min_11', 'cust_request_qty_rolling_min_12', 'cust_request_qty_rolling_min_13', 'cust_request_qty_rolling_min_14', 'cust_request_qty_rolling_min_15', 'cust_request_qty_rolling_min_16', 'cust_request_qty_rolling_min_17', 'cust_request_qty_rolling_min_18', 'cust_request_qty_rolling_min_19', 'cust_request_qty_rolling_min_20', 'cust_request_qty_rolling_min_21', 'cust_request_qty_rolling_min_22', 'cust_request_qty_rolling_min_23', 'cust_request_qty_rolling_min_24', 'cust_request_qty_rolling_min_25', 'cust_request_qty_rolling_min_26', 'cust_request_qty_rolling_min_27', 'cust_request_qty_rolling_min_28', 'cust_request_qty_rolling_min_29', 'cust_request_qty_rolling_min_30', 'cust_request_qty_rolling_min_31', 'cust_request_qty_rolling_min_32', 'cust_request_qty_rolling_min_33', 'cust_request_qty_rolling_min_34', 'cust_request_qty_rolling_min_35', 'cust_request_qty_rolling_min_36', 'cust_request_qty_rolling_max_1', 'cust_request_qty_rolling_max_2', 'cust_request_qty_rolling_max_3', 'cust_request_qty_rolling_max_4', 'cust_request_qty_rolling_max_5', 'cust_request_qty_rolling_max_6', 'cust_request_qty_rolling_max_7', 'cust_request_qty_rolling_max_8', 'cust_request_qty_rolling_max_9', 'cust_request_qty_rolling_max_10', 'cust_request_qty_rolling_max_11', 'cust_request_qty_rolling_max_12', 'cust_request_qty_rolling_max_13', 'cust_request_qty_rolling_max_14', 'cust_request_qty_rolling_max_15', 'cust_request_qty_rolling_max_16', 'cust_request_qty_rolling_max_17', 'cust_request_qty_rolling_max_18', 'cust_request_qty_rolling_max_19', 'cust_request_qty_rolling_max_20', 'cust_request_qty_rolling_max_21', 'cust_request_qty_rolling_max_22', 'cust_request_qty_rolling_max_23', 'cust_request_qty_rolling_max_24', 'cust_request_qty_rolling_max_25', 'cust_request_qty_rolling_max_26', 'cust_request_qty_rolling_max_27', 'cust_request_qty_rolling_max_28', 'cust_request_qty_rolling_max_29', 'cust_request_qty_rolling_max_30', 'cust_request_qty_rolling_max_31', 'cust_request_qty_rolling_max_32', 'cust_request_qty_rolling_max_33', 'cust_request_qty_rolling_max_34', 'cust_request_qty_rolling_max_35', 'cust_request_qty_rolling_max_36', 'stock_final_lag_1', 'stock_final_lag_2', 'stock_final_lag_3', 'stock_final_lag_4', 'stock_final_lag_5', 'stock_final_lag_6', 'stock_final_lag_7', 'stock_final_lag_8', 'stock_final_lag_9', 'stock_final_lag_10', 'stock_final_lag_11', 'stock_final_lag_12', 'stock_final_lag_13', 'stock_final_lag_14', 'stock_final_lag_15', 'stock_final_lag_16', 'stock_final_lag_17', 'stock_final_lag_18', 'stock_final_lag_19', 'stock_final_lag_20', 'stock_final_lag_21', 'stock_final_lag_22', 'stock_final_lag_23', 'stock_final_lag_24', 'stock_final_lag_25', 'stock_final_lag_26', 'stock_final_lag_27', 'stock_final_lag_28', 'stock_final_lag_29', 'stock_final_lag_30', 'stock_final_lag_31', 'stock_final_lag_32', 'stock_final_lag_33', 'stock_final_lag_34', 'stock_final_lag_35', 'stock_final_delta_lag1_lag2', 'stock_final_delta_lag1_lag3', 'stock_final_delta_lag1_lag4', 'stock_final_delta_lag1_lag5', 'stock_final_delta_lag1_lag6', 'stock_final_delta_lag1_lag7', 'stock_final_delta_lag1_lag8', 'stock_final_delta_lag1_lag9', 'stock_final_delta_lag1_lag10', 'stock_final_delta_lag1_lag11', 'stock_final_delta_lag1_lag12', 'stock_final_delta_lag1_lag13', 'stock_final_delta_lag1_lag14', 'stock_final_delta_lag1_lag15', 'stock_final_delta_lag1_lag16', 'stock_final_delta_lag1_lag17', 'stock_final_delta_lag1_lag18', 'stock_final_delta_lag1_lag19', 'stock_final_delta_lag1_lag20', 'stock_final_delta_lag1_lag21', 'stock_final_delta_lag1_lag22', 'stock_final_delta_lag1_lag23', 'stock_final_delta_lag1_lag24', 'stock_final_delta_lag2_lag3', 'stock_final_delta_lag2_lag4', 'stock_final_delta_lag2_lag5', 'stock_final_delta_lag2_lag6', 'stock_final_delta_lag2_lag7', 'stock_final_delta_lag2_lag8', 'stock_final_delta_lag2_lag9', 'stock_final_delta_lag2_lag10', 'stock_final_delta_lag2_lag11', 'stock_final_delta_lag2_lag12', 'stock_final_delta_lag2_lag13', 'stock_final_delta_lag2_lag14', 'stock_final_delta_lag2_lag15', 'stock_final_delta_lag2_lag16', 'stock_final_delta_lag2_lag17', 'stock_final_delta_lag2_lag18', 'stock_final_delta_lag2_lag19', 'stock_final_delta_lag2_lag20', 'stock_final_delta_lag2_lag21', 'stock_final_delta_lag2_lag22', 'stock_final_delta_lag2_lag23', 'stock_final_delta_lag2_lag24', 'stock_final_delta_lag3_lag4', 'stock_final_delta_lag3_lag5', 'stock_final_delta_lag3_lag6', 'stock_final_delta_lag3_lag7', 'stock_final_delta_lag3_lag8', 'stock_final_delta_lag3_lag9', 'stock_final_delta_lag3_lag10', 'stock_final_delta_lag3_lag11', 'stock_final_delta_lag3_lag12', 'stock_final_delta_lag3_lag13', 'stock_final_delta_lag3_lag14', 'stock_final_delta_lag3_lag15', 'stock_final_delta_lag3_lag16', 'stock_final_delta_lag3_lag17', 'stock_final_delta_lag3_lag18', 'stock_final_delta_lag3_lag19', 'stock_final_delta_lag3_lag20', 'stock_final_delta_lag3_lag21', 'stock_final_delta_lag3_lag22', 'stock_final_delta_lag3_lag23', 'stock_final_delta_lag3_lag24', 'stock_final_delta_lag4_lag5', 'stock_final_delta_lag4_lag6', 'stock_final_delta_lag4_lag7', 'stock_final_delta_lag4_lag8', 'stock_final_delta_lag4_lag9', 'stock_final_delta_lag4_lag10', 'stock_final_delta_lag4_lag11', 'stock_final_delta_lag4_lag12', 'stock_final_delta_lag4_lag13', 'stock_final_delta_lag4_lag14', 'stock_final_delta_lag4_lag15', 'stock_final_delta_lag4_lag16', 'stock_final_delta_lag4_lag17', 'stock_final_delta_lag4_lag18', 'stock_final_delta_lag4_lag19', 'stock_final_delta_lag4_lag20', 'stock_final_delta_lag4_lag21', 'stock_final_delta_lag4_lag22', 'stock_final_delta_lag4_lag23', 'stock_final_delta_lag4_lag24', 'stock_final_delta_lag5_lag6', 'stock_final_delta_lag5_lag7', 'stock_final_delta_lag5_lag8', 'stock_final_delta_lag5_lag9', 'stock_final_delta_lag5_lag10', 'stock_final_delta_lag5_lag11', 'stock_final_delta_lag5_lag12', 'stock_final_delta_lag5_lag13', 'stock_final_delta_lag5_lag14', 'stock_final_delta_lag5_lag15', 'stock_final_delta_lag5_lag16', 'stock_final_delta_lag5_lag17', 'stock_final_delta_lag5_lag18', 'stock_final_delta_lag5_lag19', 'stock_final_delta_lag5_lag20', 'stock_final_delta_lag5_lag21', 'stock_final_delta_lag5_lag22', 'stock_final_delta_lag5_lag23', 'stock_final_delta_lag5_lag24', 'stock_final_delta_lag6_lag7', 'stock_final_delta_lag6_lag8', 'stock_final_delta_lag6_lag9', 'stock_final_delta_lag6_lag10', 'stock_final_delta_lag6_lag11', 'stock_final_delta_lag6_lag12', 'stock_final_delta_lag6_lag13', 'stock_final_delta_lag6_lag14', 'stock_final_delta_lag6_lag15', 'stock_final_delta_lag6_lag16', 'stock_final_delta_lag6_lag17', 'stock_final_delta_lag6_lag18', 'stock_final_delta_lag6_lag19', 'stock_final_delta_lag6_lag20', 'stock_final_delta_lag6_lag21', 'stock_final_delta_lag6_lag22', 'stock_final_delta_lag6_lag23', 'stock_final_delta_lag6_lag24', 'stock_final_delta_lag7_lag8', 'stock_final_delta_lag7_lag9', 'stock_final_delta_lag7_lag10', 'stock_final_delta_lag7_lag11', 'stock_final_delta_lag7_lag12', 'stock_final_delta_lag7_lag13', 'stock_final_delta_lag7_lag14', 'stock_final_delta_lag7_lag15', 'stock_final_delta_lag7_lag16', 'stock_final_delta_lag7_lag17', 'stock_final_delta_lag7_lag18', 'stock_final_delta_lag7_lag19', 'stock_final_delta_lag7_lag20', 'stock_final_delta_lag7_lag21', 'stock_final_delta_lag7_lag22', 'stock_final_delta_lag7_lag23', 'stock_final_delta_lag7_lag24', 'stock_final_delta_lag8_lag9', 'stock_final_delta_lag8_lag10', 'stock_final_delta_lag8_lag11', 'stock_final_delta_lag8_lag12', 'stock_final_delta_lag8_lag13', 'stock_final_delta_lag8_lag14', 'stock_final_delta_lag8_lag15', 'stock_final_delta_lag8_lag16', 'stock_final_delta_lag8_lag17', 'stock_final_delta_lag8_lag18', 'stock_final_delta_lag8_lag19', 'stock_final_delta_lag8_lag20', 'stock_final_delta_lag8_lag21', 'stock_final_delta_lag8_lag22', 'stock_final_delta_lag8_lag23', 'stock_final_delta_lag8_lag24', 'stock_final_delta_lag9_lag10', 'stock_final_delta_lag9_lag11', 'stock_final_delta_lag9_lag12', 'stock_final_delta_lag9_lag13', 'stock_final_delta_lag9_lag14', 'stock_final_delta_lag9_lag15', 'stock_final_delta_lag9_lag16', 'stock_final_delta_lag9_lag17', 'stock_final_delta_lag9_lag18', 'stock_final_delta_lag9_lag19', 'stock_final_delta_lag9_lag20', 'stock_final_delta_lag9_lag21', 'stock_final_delta_lag9_lag22', 'stock_final_delta_lag9_lag23', 'stock_final_delta_lag9_lag24', 'stock_final_delta_lag10_lag11', 'stock_final_delta_lag10_lag12', 'stock_final_delta_lag10_lag13', 'stock_final_delta_lag10_lag14', 'stock_final_delta_lag10_lag15', 'stock_final_delta_lag10_lag16', 'stock_final_delta_lag10_lag17', 'stock_final_delta_lag10_lag18', 'stock_final_delta_lag10_lag19', 'stock_final_delta_lag10_lag20', 'stock_final_delta_lag10_lag21', 'stock_final_delta_lag10_lag22', 'stock_final_delta_lag10_lag23', 'stock_final_delta_lag10_lag24', 'stock_final_delta_lag11_lag12', 'stock_final_delta_lag11_lag13', 'stock_final_delta_lag11_lag14', 'stock_final_delta_lag11_lag15', 'stock_final_delta_lag11_lag16', 'stock_final_delta_lag11_lag17', 'stock_final_delta_lag11_lag18', 'stock_final_delta_lag11_lag19', 'stock_final_delta_lag11_lag20', 'stock_final_delta_lag11_lag21', 'stock_final_delta_lag11_lag22', 'stock_final_delta_lag11_lag23', 'stock_final_delta_lag11_lag24', 'stock_final_delta_lag12_lag13', 'stock_final_delta_lag12_lag14', 'stock_final_delta_lag12_lag15', 'stock_final_delta_lag12_lag16', 'stock_final_delta_lag12_lag17', 'stock_final_delta_lag12_lag18', 'stock_final_delta_lag12_lag19', 'stock_final_delta_lag12_lag20', 'stock_final_delta_lag12_lag21', 'stock_final_delta_lag12_lag22', 'stock_final_delta_lag12_lag23', 'stock_final_delta_lag12_lag24', 'stock_final_delta_lag13_lag14', 'stock_final_delta_lag13_lag15', 'stock_final_delta_lag13_lag16', 'stock_final_delta_lag13_lag17', 'stock_final_delta_lag13_lag18', 'stock_final_delta_lag13_lag19', 'stock_final_delta_lag13_lag20', 'stock_final_delta_lag13_lag21', 'stock_final_delta_lag13_lag22', 'stock_final_delta_lag13_lag23', 'stock_final_delta_lag13_lag24', 'stock_final_delta_lag14_lag15', 'stock_final_delta_lag14_lag16', 'stock_final_delta_lag14_lag17', 'stock_final_delta_lag14_lag18', 'stock_final_delta_lag14_lag19', 'stock_final_delta_lag14_lag20', 'stock_final_delta_lag14_lag21', 'stock_final_delta_lag14_lag22', 'stock_final_delta_lag14_lag23', 'stock_final_delta_lag14_lag24', 'stock_final_delta_lag15_lag16', 'stock_final_delta_lag15_lag17', 'stock_final_delta_lag15_lag18', 'stock_final_delta_lag15_lag19', 'stock_final_delta_lag15_lag20', 'stock_final_delta_lag15_lag21', 'stock_final_delta_lag15_lag22', 'stock_final_delta_lag15_lag23', 'stock_final_delta_lag15_lag24', 'stock_final_delta_lag16_lag17', 'stock_final_delta_lag16_lag18', 'stock_final_delta_lag16_lag19', 'stock_final_delta_lag16_lag20', 'stock_final_delta_lag16_lag21', 'stock_final_delta_lag16_lag22', 'stock_final_delta_lag16_lag23', 'stock_final_delta_lag16_lag24', 'stock_final_delta_lag17_lag18', 'stock_final_delta_lag17_lag19', 'stock_final_delta_lag17_lag20', 'stock_final_delta_lag17_lag21', 'stock_final_delta_lag17_lag22', 'stock_final_delta_lag17_lag23', 'stock_final_delta_lag17_lag24', 'stock_final_delta_lag18_lag19', 'stock_final_delta_lag18_lag20', 'stock_final_delta_lag18_lag21', 'stock_final_delta_lag18_lag22', 'stock_final_delta_lag18_lag23', 'stock_final_delta_lag18_lag24', 'stock_final_delta_lag19_lag20', 'stock_final_delta_lag19_lag21', 'stock_final_delta_lag19_lag22', 'stock_final_delta_lag19_lag23', 'stock_final_delta_lag19_lag24', 'stock_final_delta_lag20_lag21', 'stock_final_delta_lag20_lag22', 'stock_final_delta_lag20_lag23', 'stock_final_delta_lag20_lag24', 'stock_final_delta_lag21_lag22', 'stock_final_delta_lag21_lag23', 'stock_final_delta_lag21_lag24', 'stock_final_delta_lag22_lag23', 'stock_final_delta_lag22_lag24', 'stock_final_delta_lag23_lag24', 'stock_final_rolling_mean_1', 'stock_final_rolling_mean_2', 'stock_final_rolling_mean_3', 'stock_final_rolling_mean_4', 'stock_final_rolling_mean_5', 'stock_final_rolling_mean_6', 'stock_final_rolling_mean_7', 'stock_final_rolling_mean_8', 'stock_final_rolling_mean_9', 'stock_final_rolling_mean_10', 'stock_final_rolling_mean_11', 'stock_final_rolling_mean_12', 'stock_final_rolling_mean_13', 'stock_final_rolling_mean_14', 'stock_final_rolling_mean_15', 'stock_final_rolling_mean_16', 'stock_final_rolling_mean_17', 'stock_final_rolling_mean_18', 'stock_final_rolling_mean_19', 'stock_final_rolling_mean_20', 'stock_final_rolling_mean_21', 'stock_final_rolling_mean_22', 'stock_final_rolling_mean_23', 'stock_final_rolling_mean_24', 'stock_final_rolling_mean_25', 'stock_final_rolling_mean_26', 'stock_final_rolling_mean_27', 'stock_final_rolling_mean_28', 'stock_final_rolling_mean_29', 'stock_final_rolling_mean_30', 'stock_final_rolling_mean_31', 'stock_final_rolling_mean_32', 'stock_final_rolling_mean_33', 'stock_final_rolling_mean_34', 'stock_final_rolling_mean_35', 'stock_final_rolling_mean_36', 'stock_final_rolling_std_1', 'stock_final_rolling_std_2', 'stock_final_rolling_std_3', 'stock_final_rolling_std_4', 'stock_final_rolling_std_5', 'stock_final_rolling_std_6', 'stock_final_rolling_std_7', 'stock_final_rolling_std_8', 'stock_final_rolling_std_9', 'stock_final_rolling_std_10', 'stock_final_rolling_std_11', 'stock_final_rolling_std_12', 'stock_final_rolling_std_13', 'stock_final_rolling_std_14', 'stock_final_rolling_std_15', 'stock_final_rolling_std_16', 'stock_final_rolling_std_17', 'stock_final_rolling_std_18', 'stock_final_rolling_std_19', 'stock_final_rolling_std_20', 'stock_final_rolling_std_21', 'stock_final_rolling_std_22', 'stock_final_rolling_std_23', 'stock_final_rolling_std_24', 'stock_final_rolling_std_25', 'stock_final_rolling_std_26', 'stock_final_rolling_std_27', 'stock_final_rolling_std_28', 'stock_final_rolling_std_29', 'stock_final_rolling_std_30', 'stock_final_rolling_std_31', 'stock_final_rolling_std_32', 'stock_final_rolling_std_33', 'stock_final_rolling_std_34', 'stock_final_rolling_std_35', 'stock_final_rolling_std_36', 'stock_final_rolling_min_1', 'stock_final_rolling_min_2', 'stock_final_rolling_min_3', 'stock_final_rolling_min_4', 'stock_final_rolling_min_5', 'stock_final_rolling_min_6', 'stock_final_rolling_min_7', 'stock_final_rolling_min_8', 'stock_final_rolling_min_9', 'stock_final_rolling_min_10', 'stock_final_rolling_min_11', 'stock_final_rolling_min_12', 'stock_final_rolling_min_13', 'stock_final_rolling_min_14', 'stock_final_rolling_min_15', 'stock_final_rolling_min_16', 'stock_final_rolling_min_17', 'stock_final_rolling_min_18', 'stock_final_rolling_min_19', 'stock_final_rolling_min_20', 'stock_final_rolling_min_21', 'stock_final_rolling_min_22', 'stock_final_rolling_min_23', 'stock_final_rolling_min_24', 'stock_final_rolling_min_25', 'stock_final_rolling_min_26', 'stock_final_rolling_min_27', 'stock_final_rolling_min_28', 'stock_final_rolling_min_29', 'stock_final_rolling_min_30', 'stock_final_rolling_min_31', 'stock_final_rolling_min_32', 'stock_final_rolling_min_33', 'stock_final_rolling_min_34', 'stock_final_rolling_min_35', 'stock_final_rolling_min_36', 'stock_final_rolling_max_1', 'stock_final_rolling_max_2', 'stock_final_rolling_max_3', 'stock_final_rolling_max_4', 'stock_final_rolling_max_5', 'stock_final_rolling_max_6', 'stock_final_rolling_max_7', 'stock_final_rolling_max_8', 'stock_final_rolling_max_9', 'stock_final_rolling_max_10', 'stock_final_rolling_max_11', 'stock_final_rolling_max_12', 'stock_final_rolling_max_13', 'stock_final_rolling_max_14', 'stock_final_rolling_max_15', 'stock_final_rolling_max_16', 'stock_final_rolling_max_17', 'stock_final_rolling_max_18', 'stock_final_rolling_max_19', 'stock_final_rolling_max_20', 'stock_final_rolling_max_21', 'stock_final_rolling_max_22', 'stock_final_rolling_max_23', 'stock_final_rolling_max_24', 'stock_final_rolling_max_25', 'stock_final_rolling_max_26', 'stock_final_rolling_max_27', 'stock_final_rolling_max_28', 'stock_final_rolling_max_29', 'stock_final_rolling_max_30', 'stock_final_rolling_max_31', 'stock_final_rolling_max_32', 'stock_final_rolling_max_33', 'stock_final_rolling_max_34', 'stock_final_rolling_max_35', 'stock_final_rolling_max_36', 'tn_expanding_mean', 'tn_cumulative_sum', 'tn_seasonal_diff_6', 'tn_trend', 'tn_seasonality', 'tn_ewm_alpha_0.3', 'tn_ewm_alpha_0.5', 'tn_rolling_center_mean_3', 'tn_ytd_sum', 'tn_residual_trend', 'tn_ratio_mean6_std6', 'tn_naive_forecast', 'tn_seasonal_naive', 'tn_ma_forecast_3', 'tn_best_month_rank', 'dolar', 'ipc', 'corr_tn_dolar', 'corr_tn_ipc', 'corr_tn_dolar_x_prod', 'tn_to_stock_ratio', 'cust_request_ratio', 'tn_plan_ratio', 'tn_x_cust_request', 'stock_x_plan_precios', 'tn_per_sku_size', 'life_remaining_ratio', 'life_stage', 'tn_life_velocity', 'cat2_avg_tn', 'tn_vs_cat2', 'cat2_rank', 'tn_zscore', 'positive_shock', 'negative_shock', 'tn_log', 'tn_sqrt', 'tn_pct_change', 'tn_pct_change_3m', 'month_life_interaction', 'tn_elecciones_legislativas_1_interaction', 'tn_crisis_cambiaria_1_interaction', 'tn_las_paso_2019_1_interaction', 'tn_last3_vs_prev3', 'tn_acceleration', 'yearly_trend_interaction', 'seasonal_naive_ratio', 'naive_forecast_error', 'trend_season_std_interaction', 'tn_lag1_div_lag2', 'tn_lag1_div_rolling_mean3', 'tn_lag2_minus_rolling_median3', 'tn_acceleration_1_2', 'tn_acceleration_2_3', 'tn_volatility_ratio_3_12', 'tn_log_return_1', 'tn_log_return_3', 'tn_zscore_6', 'tn_momentum_3', 'tn_momentum_vs_ma', 'tn_minus_trend_add', 'tn_trend_add_ratio', 'tn_scaled']\n",
      "Training until validation scores don't improve for 30 rounds\n",
      "Early stopping, best iteration is:\n",
      "[13]\tvalid_0's l1: 26.3762\n",
      "Training until validation scores don't improve for 30 rounds\n",
      "Early stopping, best iteration is:\n",
      "[9]\tvalid_0's l1: 28.5705\n",
      "Training until validation scores don't improve for 30 rounds\n",
      "Early stopping, best iteration is:\n",
      "[12]\tvalid_0's l1: 22.1197\n",
      "Training until validation scores don't improve for 30 rounds\n",
      "Early stopping, best iteration is:\n",
      "[18]\tvalid_0's l1: 16.3037\n",
      "Training until validation scores don't improve for 30 rounds\n",
      "Early stopping, best iteration is:\n",
      "[24]\tvalid_0's l1: 16.6258\n",
      "Training until validation scores don't improve for 30 rounds\n",
      "Early stopping, best iteration is:\n",
      "[18]\tvalid_0's l1: 16.6487\n",
      "Training until validation scores don't improve for 30 rounds\n",
      "Early stopping, best iteration is:\n",
      "[16]\tvalid_0's l1: 16.4465\n",
      "Training until validation scores don't improve for 30 rounds\n",
      "Early stopping, best iteration is:\n",
      "[17]\tvalid_0's l1: 14.8937\n",
      "Training until validation scores don't improve for 30 rounds\n",
      "Early stopping, best iteration is:\n",
      "[34]\tvalid_0's l1: 13.6917\n",
      "Training until validation scores don't improve for 30 rounds\n",
      "Early stopping, best iteration is:\n",
      "[15]\tvalid_0's l1: 14.9659\n",
      "Training until validation scores don't improve for 30 rounds\n",
      "Early stopping, best iteration is:\n",
      "[15]\tvalid_0's l1: 15.919\n",
      "Training until validation scores don't improve for 30 rounds\n",
      "Early stopping, best iteration is:\n",
      "[13]\tvalid_0's l1: 11.2853\n",
      "Training until validation scores don't improve for 30 rounds\n",
      "Early stopping, best iteration is:\n",
      "[26]\tvalid_0's l1: 12.5774\n",
      "Training until validation scores don't improve for 30 rounds\n",
      "Early stopping, best iteration is:\n",
      "[47]\tvalid_0's l1: 12.5173\n",
      "Training until validation scores don't improve for 30 rounds\n",
      "Early stopping, best iteration is:\n",
      "[26]\tvalid_0's l1: 12.0527\n",
      "Training until validation scores don't improve for 30 rounds\n",
      "Did not meet early stopping. Best iteration is:\n",
      "[759]\tvalid_0's l1: 2.17798\n",
      "Training until validation scores don't improve for 30 rounds\n",
      "Did not meet early stopping. Best iteration is:\n",
      "[759]\tvalid_0's l1: 2.30626\n",
      "Training until validation scores don't improve for 30 rounds\n",
      "Did not meet early stopping. Best iteration is:\n",
      "[759]\tvalid_0's l1: 2.17405\n"
     ]
    },
    {
     "name": "stderr",
     "output_type": "stream",
     "text": [
      "[I 2025-06-27 19:39:28,121] Trial 0 finished with value: 16.73293405913477 and parameters: {'max_depth': 9, 'learning_rate': 0.2536999076681772, 'n_estimators': 759, 'min_child_weight': 6, 'subsample': 0.5780093202212182, 'colsample_bytree': 0.5779972601681014, 'reg_alpha': 0.05808361216819946, 'reg_lambda': 0.8661761457749352}. Best is trial 0 with value: 16.73293405913477.\n"
     ]
    },
    {
     "name": "stdout",
     "output_type": "stream",
     "text": [
      "Training until validation scores don't improve for 30 rounds\n",
      "Early stopping, best iteration is:\n",
      "[37]\tvalid_0's l1: 29.2289\n",
      "Training until validation scores don't improve for 30 rounds\n",
      "Early stopping, best iteration is:\n",
      "[21]\tvalid_0's l1: 31.0257\n",
      "Training until validation scores don't improve for 30 rounds\n",
      "Early stopping, best iteration is:\n",
      "[24]\tvalid_0's l1: 26.0436\n",
      "Training until validation scores don't improve for 30 rounds\n",
      "Early stopping, best iteration is:\n",
      "[56]\tvalid_0's l1: 14.9918\n",
      "Training until validation scores don't improve for 30 rounds\n",
      "Early stopping, best iteration is:\n",
      "[52]\tvalid_0's l1: 14.7185\n",
      "Training until validation scores don't improve for 30 rounds\n",
      "Early stopping, best iteration is:\n",
      "[50]\tvalid_0's l1: 15.0563\n",
      "Training until validation scores don't improve for 30 rounds\n",
      "Early stopping, best iteration is:\n",
      "[47]\tvalid_0's l1: 13.3216\n",
      "Training until validation scores don't improve for 30 rounds\n",
      "Did not meet early stopping. Best iteration is:\n",
      "[118]\tvalid_0's l1: 13.5044\n",
      "Training until validation scores don't improve for 30 rounds\n",
      "Did not meet early stopping. Best iteration is:\n",
      "[99]\tvalid_0's l1: 13.549\n",
      "Training until validation scores don't improve for 30 rounds\n",
      "Early stopping, best iteration is:\n",
      "[41]\tvalid_0's l1: 12.8283\n",
      "Training until validation scores don't improve for 30 rounds\n",
      "Early stopping, best iteration is:\n",
      "[56]\tvalid_0's l1: 13.235\n",
      "Training until validation scores don't improve for 30 rounds\n",
      "Early stopping, best iteration is:\n",
      "[28]\tvalid_0's l1: 15.8821\n",
      "Training until validation scores don't improve for 30 rounds\n",
      "Early stopping, best iteration is:\n",
      "[77]\tvalid_0's l1: 12.2415\n",
      "Training until validation scores don't improve for 30 rounds\n",
      "Early stopping, best iteration is:\n",
      "[88]\tvalid_0's l1: 11.894\n",
      "Training until validation scores don't improve for 30 rounds\n",
      "Early stopping, best iteration is:\n",
      "[75]\tvalid_0's l1: 11.6906\n",
      "Training until validation scores don't improve for 30 rounds\n",
      "Did not meet early stopping. Best iteration is:\n",
      "[118]\tvalid_0's l1: 6.74636\n",
      "Training until validation scores don't improve for 30 rounds\n",
      "Did not meet early stopping. Best iteration is:\n",
      "[118]\tvalid_0's l1: 7.01666\n",
      "Training until validation scores don't improve for 30 rounds\n"
     ]
    },
    {
     "name": "stderr",
     "output_type": "stream",
     "text": [
      "[I 2025-06-27 19:41:16,340] Trial 1 finished with value: 16.614086362831785 and parameters: {'max_depth': 13, 'learning_rate': 0.11114989443094977, 'n_estimators': 118, 'min_child_weight': 10, 'subsample': 0.9162213204002109, 'colsample_bytree': 0.6061695553391381, 'reg_alpha': 0.18182496720710062, 'reg_lambda': 0.18340450985343382}. Best is trial 1 with value: 16.614086362831785.\n"
     ]
    },
    {
     "name": "stdout",
     "output_type": "stream",
     "text": [
      "Did not meet early stopping. Best iteration is:\n",
      "[118]\tvalid_0's l1: 6.70612\n",
      "Training until validation scores don't improve for 30 rounds\n",
      "Early stopping, best iteration is:\n",
      "[72]\tvalid_0's l1: 21.0757\n",
      "Training until validation scores don't improve for 30 rounds\n",
      "Early stopping, best iteration is:\n",
      "[72]\tvalid_0's l1: 21.6057\n",
      "Training until validation scores don't improve for 30 rounds\n",
      "Early stopping, best iteration is:\n",
      "[89]\tvalid_0's l1: 20.7111\n",
      "Training until validation scores don't improve for 30 rounds\n",
      "Early stopping, best iteration is:\n",
      "[129]\tvalid_0's l1: 13.5201\n",
      "Training until validation scores don't improve for 30 rounds\n",
      "Early stopping, best iteration is:\n",
      "[111]\tvalid_0's l1: 13.6234\n",
      "Training until validation scores don't improve for 30 rounds\n",
      "Early stopping, best iteration is:\n",
      "[113]\tvalid_0's l1: 13.4371\n",
      "Training until validation scores don't improve for 30 rounds\n",
      "Early stopping, best iteration is:\n",
      "[192]\tvalid_0's l1: 12.3153\n",
      "Training until validation scores don't improve for 30 rounds\n",
      "Early stopping, best iteration is:\n",
      "[167]\tvalid_0's l1: 11.8333\n",
      "Training until validation scores don't improve for 30 rounds\n",
      "Early stopping, best iteration is:\n",
      "[196]\tvalid_0's l1: 11.5189\n",
      "Training until validation scores don't improve for 30 rounds\n",
      "Early stopping, best iteration is:\n",
      "[78]\tvalid_0's l1: 12.7861\n",
      "Training until validation scores don't improve for 30 rounds\n",
      "Early stopping, best iteration is:\n",
      "[56]\tvalid_0's l1: 15.4536\n",
      "Training until validation scores don't improve for 30 rounds\n",
      "Early stopping, best iteration is:\n",
      "[113]\tvalid_0's l1: 11.8544\n",
      "Training until validation scores don't improve for 30 rounds\n",
      "Early stopping, best iteration is:\n",
      "[128]\tvalid_0's l1: 11.0491\n",
      "Training until validation scores don't improve for 30 rounds\n",
      "Early stopping, best iteration is:\n",
      "[164]\tvalid_0's l1: 10.8017\n",
      "Training until validation scores don't improve for 30 rounds\n",
      "Early stopping, best iteration is:\n",
      "[136]\tvalid_0's l1: 10.802\n",
      "Training until validation scores don't improve for 30 rounds\n",
      "Did not meet early stopping. Best iteration is:\n",
      "[489]\tvalid_0's l1: 4.2825\n",
      "Training until validation scores don't improve for 30 rounds\n",
      "Did not meet early stopping. Best iteration is:\n",
      "[489]\tvalid_0's l1: 4.28626\n",
      "Training until validation scores don't improve for 30 rounds\n",
      "Did not meet early stopping. Best iteration is:\n",
      "[489]\tvalid_0's l1: 4.22038\n"
     ]
    },
    {
     "name": "stderr",
     "output_type": "stream",
     "text": [
      "[I 2025-06-27 19:44:52,552] Trial 2 finished with value: 14.159163159379432 and parameters: {'max_depth': 8, 'learning_rate': 0.05958389350068958, 'n_estimators': 489, 'min_child_weight': 3, 'subsample': 0.8059264473611898, 'colsample_bytree': 0.569746930326021, 'reg_alpha': 0.29214464853521815, 'reg_lambda': 0.3663618432936917}. Best is trial 2 with value: 14.159163159379432.\n"
     ]
    },
    {
     "name": "stdout",
     "output_type": "stream",
     "text": [
      "Training until validation scores don't improve for 30 rounds\n",
      "Early stopping, best iteration is:\n",
      "[29]\tvalid_0's l1: 23.7872\n",
      "Training until validation scores don't improve for 30 rounds\n",
      "Early stopping, best iteration is:\n",
      "[20]\tvalid_0's l1: 23.8576\n",
      "Training until validation scores don't improve for 30 rounds\n",
      "Early stopping, best iteration is:\n",
      "[19]\tvalid_0's l1: 25.0415\n",
      "Training until validation scores don't improve for 30 rounds\n",
      "Early stopping, best iteration is:\n",
      "[37]\tvalid_0's l1: 14.7718\n",
      "Training until validation scores don't improve for 30 rounds\n",
      "Early stopping, best iteration is:\n",
      "[37]\tvalid_0's l1: 15.9361\n",
      "Training until validation scores don't improve for 30 rounds\n",
      "Early stopping, best iteration is:\n",
      "[29]\tvalid_0's l1: 15.4489\n",
      "Training until validation scores don't improve for 30 rounds\n",
      "Early stopping, best iteration is:\n",
      "[138]\tvalid_0's l1: 12.5467\n",
      "Training until validation scores don't improve for 30 rounds\n",
      "Early stopping, best iteration is:\n",
      "[68]\tvalid_0's l1: 12.4866\n",
      "Training until validation scores don't improve for 30 rounds\n",
      "Early stopping, best iteration is:\n",
      "[37]\tvalid_0's l1: 13.8206\n",
      "Training until validation scores don't improve for 30 rounds\n",
      "Early stopping, best iteration is:\n",
      "[20]\tvalid_0's l1: 18.5583\n",
      "Training until validation scores don't improve for 30 rounds\n",
      "Early stopping, best iteration is:\n",
      "[189]\tvalid_0's l1: 14.8948\n",
      "Training until validation scores don't improve for 30 rounds\n",
      "Early stopping, best iteration is:\n",
      "[22]\tvalid_0's l1: 15.8722\n",
      "Training until validation scores don't improve for 30 rounds\n",
      "Early stopping, best iteration is:\n",
      "[56]\tvalid_0's l1: 11.1973\n",
      "Training until validation scores don't improve for 30 rounds\n",
      "Early stopping, best iteration is:\n",
      "[61]\tvalid_0's l1: 11.1785\n",
      "Training until validation scores don't improve for 30 rounds\n",
      "Early stopping, best iteration is:\n",
      "[63]\tvalid_0's l1: 11.6937\n",
      "Training until validation scores don't improve for 30 rounds\n",
      "Did not meet early stopping. Best iteration is:\n",
      "[279]\tvalid_0's l1: 4.52705\n",
      "Training until validation scores don't improve for 30 rounds\n",
      "Did not meet early stopping. Best iteration is:\n",
      "[278]\tvalid_0's l1: 4.14987\n",
      "Training until validation scores don't improve for 30 rounds\n"
     ]
    },
    {
     "name": "stderr",
     "output_type": "stream",
     "text": [
      "[I 2025-06-27 19:47:17,296] Trial 3 finished with value: 16.072785321451754 and parameters: {'max_depth': 11, 'learning_rate': 0.14447746112718687, 'n_estimators': 279, 'min_child_weight': 6, 'subsample': 0.7962072844310213, 'colsample_bytree': 0.5232252063599989, 'reg_alpha': 0.6075448519014384, 'reg_lambda': 0.17052412368729153}. Best is trial 2 with value: 14.159163159379432.\n"
     ]
    },
    {
     "name": "stdout",
     "output_type": "stream",
     "text": [
      "Did not meet early stopping. Best iteration is:\n",
      "[279]\tvalid_0's l1: 4.20146\n",
      "Training until validation scores don't improve for 30 rounds\n",
      "Early stopping, best iteration is:\n",
      "[11]\tvalid_0's l1: 33.2101\n",
      "Training until validation scores don't improve for 30 rounds\n",
      "Early stopping, best iteration is:\n",
      "[9]\tvalid_0's l1: 34.2205\n",
      "Training until validation scores don't improve for 30 rounds\n",
      "Early stopping, best iteration is:\n",
      "[17]\tvalid_0's l1: 28.751\n",
      "Training until validation scores don't improve for 30 rounds\n",
      "Early stopping, best iteration is:\n",
      "[23]\tvalid_0's l1: 16.1407\n",
      "Training until validation scores don't improve for 30 rounds\n",
      "Early stopping, best iteration is:\n",
      "[29]\tvalid_0's l1: 17.5466\n",
      "Training until validation scores don't improve for 30 rounds\n",
      "Early stopping, best iteration is:\n",
      "[19]\tvalid_0's l1: 17.9693\n",
      "Training until validation scores don't improve for 30 rounds\n",
      "Early stopping, best iteration is:\n",
      "[37]\tvalid_0's l1: 13.9905\n",
      "Training until validation scores don't improve for 30 rounds\n",
      "Early stopping, best iteration is:\n",
      "[16]\tvalid_0's l1: 16.3975\n",
      "Training until validation scores don't improve for 30 rounds\n",
      "Early stopping, best iteration is:\n",
      "[71]\tvalid_0's l1: 14.1038\n",
      "Training until validation scores don't improve for 30 rounds\n",
      "Early stopping, best iteration is:\n",
      "[17]\tvalid_0's l1: 16.1088\n",
      "Training until validation scores don't improve for 30 rounds\n",
      "Early stopping, best iteration is:\n",
      "[24]\tvalid_0's l1: 16.1178\n",
      "Training until validation scores don't improve for 30 rounds\n",
      "Early stopping, best iteration is:\n",
      "[18]\tvalid_0's l1: 16.1819\n",
      "Training until validation scores don't improve for 30 rounds\n",
      "Early stopping, best iteration is:\n",
      "[55]\tvalid_0's l1: 14.7919\n",
      "Training until validation scores don't improve for 30 rounds\n",
      "Early stopping, best iteration is:\n",
      "[58]\tvalid_0's l1: 14.7755\n",
      "Training until validation scores don't improve for 30 rounds\n",
      "Early stopping, best iteration is:\n",
      "[59]\tvalid_0's l1: 13.961\n",
      "Training until validation scores don't improve for 30 rounds\n",
      "Did not meet early stopping. Best iteration is:\n",
      "[970]\tvalid_0's l1: 5.46135\n",
      "Training until validation scores don't improve for 30 rounds\n",
      "Did not meet early stopping. Best iteration is:\n",
      "[970]\tvalid_0's l1: 5.939\n",
      "Training until validation scores don't improve for 30 rounds\n",
      "Did not meet early stopping. Best iteration is:\n",
      "[970]\tvalid_0's l1: 6.08068\n"
     ]
    },
    {
     "name": "stderr",
     "output_type": "stream",
     "text": [
      "[I 2025-06-27 19:49:40,474] Trial 4 finished with value: 18.951115253883774 and parameters: {'max_depth': 4, 'learning_rate': 0.2521267904777921, 'n_estimators': 970, 'min_child_weight': 9, 'subsample': 0.6523068845866853, 'colsample_bytree': 0.5488360570031919, 'reg_alpha': 0.6842330265121569, 'reg_lambda': 0.4401524937396013}. Best is trial 2 with value: 14.159163159379432.\n"
     ]
    },
    {
     "name": "stdout",
     "output_type": "stream",
     "text": [
      "Training until validation scores don't improve for 30 rounds\n",
      "Early stopping, best iteration is:\n",
      "[58]\tvalid_0's l1: 30.4656\n",
      "Training until validation scores don't improve for 30 rounds\n",
      "Early stopping, best iteration is:\n",
      "[68]\tvalid_0's l1: 33.9014\n",
      "Training until validation scores don't improve for 30 rounds\n",
      "Early stopping, best iteration is:\n",
      "[60]\tvalid_0's l1: 30.155\n",
      "Training until validation scores don't improve for 30 rounds\n",
      "Did not meet early stopping. Best iteration is:\n",
      "[130]\tvalid_0's l1: 16.0248\n",
      "Training until validation scores don't improve for 30 rounds\n",
      "Did not meet early stopping. Best iteration is:\n",
      "[116]\tvalid_0's l1: 16.1689\n",
      "Training until validation scores don't improve for 30 rounds\n",
      "Did not meet early stopping. Best iteration is:\n",
      "[106]\tvalid_0's l1: 15.4273\n",
      "Training until validation scores don't improve for 30 rounds\n",
      "Did not meet early stopping. Best iteration is:\n",
      "[130]\tvalid_0's l1: 13.4287\n",
      "Training until validation scores don't improve for 30 rounds\n",
      "Did not meet early stopping. Best iteration is:\n",
      "[130]\tvalid_0's l1: 15.2525\n",
      "Training until validation scores don't improve for 30 rounds\n",
      "Did not meet early stopping. Best iteration is:\n",
      "[128]\tvalid_0's l1: 12.3855\n",
      "Training until validation scores don't improve for 30 rounds\n",
      "Early stopping, best iteration is:\n",
      "[80]\tvalid_0's l1: 11.8066\n",
      "Training until validation scores don't improve for 30 rounds\n",
      "Early stopping, best iteration is:\n",
      "[68]\tvalid_0's l1: 16.1205\n",
      "Training until validation scores don't improve for 30 rounds\n",
      "Early stopping, best iteration is:\n",
      "[76]\tvalid_0's l1: 15.119\n",
      "Training until validation scores don't improve for 30 rounds\n",
      "Did not meet early stopping. Best iteration is:\n",
      "[130]\tvalid_0's l1: 12.9821\n",
      "Training until validation scores don't improve for 30 rounds\n",
      "Did not meet early stopping. Best iteration is:\n",
      "[129]\tvalid_0's l1: 13.4716\n",
      "Training until validation scores don't improve for 30 rounds\n",
      "Did not meet early stopping. Best iteration is:\n",
      "[129]\tvalid_0's l1: 13.523\n",
      "Training until validation scores don't improve for 30 rounds\n",
      "Did not meet early stopping. Best iteration is:\n",
      "[130]\tvalid_0's l1: 10.8571\n",
      "Training until validation scores don't improve for 30 rounds\n",
      "Did not meet early stopping. Best iteration is:\n",
      "[130]\tvalid_0's l1: 11.1127\n",
      "Training until validation scores don't improve for 30 rounds\n"
     ]
    },
    {
     "name": "stderr",
     "output_type": "stream",
     "text": [
      "[I 2025-06-27 19:50:59,402] Trial 5 finished with value: 17.748830460876754 and parameters: {'max_depth': 5, 'learning_rate': 0.05388108577817234, 'n_estimators': 130, 'min_child_weight': 10, 'subsample': 0.6293899908000085, 'colsample_bytree': 0.831261142176991, 'reg_alpha': 0.31171107608941095, 'reg_lambda': 0.5200680211778108}. Best is trial 2 with value: 14.159163159379432.\n"
     ]
    },
    {
     "name": "stdout",
     "output_type": "stream",
     "text": [
      "Did not meet early stopping. Best iteration is:\n",
      "[130]\tvalid_0's l1: 11.0075\n",
      "Training until validation scores don't improve for 30 rounds\n",
      "Early stopping, best iteration is:\n",
      "[200]\tvalid_0's l1: 27.4015\n",
      "Training until validation scores don't improve for 30 rounds\n",
      "Early stopping, best iteration is:\n",
      "[199]\tvalid_0's l1: 26.3849\n",
      "Training until validation scores don't improve for 30 rounds\n",
      "Early stopping, best iteration is:\n",
      "[196]\tvalid_0's l1: 26.7017\n",
      "Training until validation scores don't improve for 30 rounds\n",
      "Early stopping, best iteration is:\n",
      "[318]\tvalid_0's l1: 13.9346\n",
      "Training until validation scores don't improve for 30 rounds\n",
      "Early stopping, best iteration is:\n",
      "[315]\tvalid_0's l1: 13.9845\n",
      "Training until validation scores don't improve for 30 rounds\n",
      "Early stopping, best iteration is:\n",
      "[362]\tvalid_0's l1: 14.1086\n",
      "Training until validation scores don't improve for 30 rounds\n",
      "Early stopping, best iteration is:\n",
      "[657]\tvalid_0's l1: 11.4859\n",
      "Training until validation scores don't improve for 30 rounds\n",
      "Early stopping, best iteration is:\n",
      "[639]\tvalid_0's l1: 11.745\n",
      "Training until validation scores don't improve for 30 rounds\n",
      "Early stopping, best iteration is:\n",
      "[724]\tvalid_0's l1: 11.5575\n",
      "Training until validation scores don't improve for 30 rounds\n",
      "Early stopping, best iteration is:\n",
      "[190]\tvalid_0's l1: 13.4169\n",
      "Training until validation scores don't improve for 30 rounds\n",
      "Early stopping, best iteration is:\n",
      "[206]\tvalid_0's l1: 14.4187\n",
      "Training until validation scores don't improve for 30 rounds\n",
      "Early stopping, best iteration is:\n",
      "[202]\tvalid_0's l1: 14.2746\n",
      "Training until validation scores don't improve for 30 rounds\n",
      "Early stopping, best iteration is:\n",
      "[425]\tvalid_0's l1: 11.04\n",
      "Training until validation scores don't improve for 30 rounds\n",
      "Early stopping, best iteration is:\n",
      "[444]\tvalid_0's l1: 10.8571\n",
      "Training until validation scores don't improve for 30 rounds\n",
      "Early stopping, best iteration is:\n",
      "[440]\tvalid_0's l1: 11.0644\n",
      "Training until validation scores don't improve for 30 rounds\n",
      "Did not meet early stopping. Best iteration is:\n",
      "[973]\tvalid_0's l1: 5.08072\n",
      "Training until validation scores don't improve for 30 rounds\n",
      "Did not meet early stopping. Best iteration is:\n",
      "[973]\tvalid_0's l1: 5.02224\n",
      "Training until validation scores don't improve for 30 rounds\n",
      "Did not meet early stopping. Best iteration is:\n",
      "[973]\tvalid_0's l1: 5.0914\n"
     ]
    },
    {
     "name": "stderr",
     "output_type": "stream",
     "text": [
      "[I 2025-06-27 20:00:37,528] Trial 6 finished with value: 15.49172867615047 and parameters: {'max_depth': 12, 'learning_rate': 0.01875220945578641, 'n_estimators': 973, 'min_child_weight': 8, 'subsample': 0.9697494707820946, 'colsample_bytree': 0.9474136752138245, 'reg_alpha': 0.5978999788110851, 'reg_lambda': 0.9218742350231168}. Best is trial 2 with value: 14.159163159379432.\n"
     ]
    },
    {
     "name": "stdout",
     "output_type": "stream",
     "text": [
      "Training until validation scores don't improve for 30 rounds\n",
      "Did not meet early stopping. Best iteration is:\n",
      "[140]\tvalid_0's l1: 30.511\n",
      "Training until validation scores don't improve for 30 rounds\n",
      "Did not meet early stopping. Best iteration is:\n",
      "[140]\tvalid_0's l1: 30.7436\n",
      "Training until validation scores don't improve for 30 rounds\n",
      "Did not meet early stopping. Best iteration is:\n",
      "[140]\tvalid_0's l1: 30.4587\n",
      "Training until validation scores don't improve for 30 rounds\n",
      "Did not meet early stopping. Best iteration is:\n",
      "[140]\tvalid_0's l1: 24.266\n",
      "Training until validation scores don't improve for 30 rounds\n",
      "Did not meet early stopping. Best iteration is:\n",
      "[140]\tvalid_0's l1: 23.4602\n",
      "Training until validation scores don't improve for 30 rounds\n",
      "Did not meet early stopping. Best iteration is:\n",
      "[140]\tvalid_0's l1: 23.4722\n",
      "Training until validation scores don't improve for 30 rounds\n",
      "Did not meet early stopping. Best iteration is:\n",
      "[140]\tvalid_0's l1: 23.8315\n",
      "Training until validation scores don't improve for 30 rounds\n",
      "Did not meet early stopping. Best iteration is:\n",
      "[140]\tvalid_0's l1: 23.6142\n",
      "Training until validation scores don't improve for 30 rounds\n",
      "Did not meet early stopping. Best iteration is:\n",
      "[140]\tvalid_0's l1: 23.3561\n",
      "Training until validation scores don't improve for 30 rounds\n",
      "Did not meet early stopping. Best iteration is:\n",
      "[140]\tvalid_0's l1: 21.1732\n",
      "Training until validation scores don't improve for 30 rounds\n",
      "Did not meet early stopping. Best iteration is:\n",
      "[140]\tvalid_0's l1: 21.3053\n",
      "Training until validation scores don't improve for 30 rounds\n",
      "Did not meet early stopping. Best iteration is:\n",
      "[140]\tvalid_0's l1: 21.2549\n",
      "Training until validation scores don't improve for 30 rounds\n",
      "Did not meet early stopping. Best iteration is:\n",
      "[140]\tvalid_0's l1: 21.7063\n",
      "Training until validation scores don't improve for 30 rounds\n",
      "Did not meet early stopping. Best iteration is:\n",
      "[140]\tvalid_0's l1: 21.6347\n",
      "Training until validation scores don't improve for 30 rounds\n",
      "Did not meet early stopping. Best iteration is:\n",
      "[140]\tvalid_0's l1: 21.7656\n",
      "Training until validation scores don't improve for 30 rounds\n",
      "Did not meet early stopping. Best iteration is:\n",
      "[140]\tvalid_0's l1: 19.4036\n",
      "Training until validation scores don't improve for 30 rounds\n",
      "Did not meet early stopping. Best iteration is:\n",
      "[140]\tvalid_0's l1: 19.3917\n",
      "Training until validation scores don't improve for 30 rounds\n"
     ]
    },
    {
     "name": "stderr",
     "output_type": "stream",
     "text": [
      "[I 2025-06-27 20:01:50,916] Trial 7 finished with value: 24.170233262083705 and parameters: {'max_depth': 4, 'learning_rate': 0.01947558230629543, 'n_estimators': 140, 'min_child_weight': 4, 'subsample': 0.6943386448447411, 'colsample_bytree': 0.6356745158869479, 'reg_alpha': 0.8287375091519293, 'reg_lambda': 0.3567533266935893}. Best is trial 2 with value: 14.159163159379432.\n"
     ]
    },
    {
     "name": "stdout",
     "output_type": "stream",
     "text": [
      "Did not meet early stopping. Best iteration is:\n",
      "[140]\tvalid_0's l1: 19.5872\n",
      "Training until validation scores don't improve for 30 rounds\n",
      "Early stopping, best iteration is:\n",
      "[44]\tvalid_0's l1: 34.1154\n",
      "Training until validation scores don't improve for 30 rounds\n",
      "Early stopping, best iteration is:\n",
      "[80]\tvalid_0's l1: 32.5621\n",
      "Training until validation scores don't improve for 30 rounds\n",
      "Early stopping, best iteration is:\n",
      "[57]\tvalid_0's l1: 28.0866\n",
      "Training until validation scores don't improve for 30 rounds\n",
      "Early stopping, best iteration is:\n",
      "[88]\tvalid_0's l1: 15.8245\n",
      "Training until validation scores don't improve for 30 rounds\n",
      "Early stopping, best iteration is:\n",
      "[97]\tvalid_0's l1: 16.3972\n",
      "Training until validation scores don't improve for 30 rounds\n",
      "Early stopping, best iteration is:\n",
      "[89]\tvalid_0's l1: 15.3074\n",
      "Training until validation scores don't improve for 30 rounds\n",
      "Early stopping, best iteration is:\n",
      "[129]\tvalid_0's l1: 14.5731\n",
      "Training until validation scores don't improve for 30 rounds\n",
      "Early stopping, best iteration is:\n",
      "[97]\tvalid_0's l1: 14.0344\n",
      "Training until validation scores don't improve for 30 rounds\n",
      "Early stopping, best iteration is:\n",
      "[80]\tvalid_0's l1: 14.4563\n",
      "Training until validation scores don't improve for 30 rounds\n",
      "Early stopping, best iteration is:\n",
      "[38]\tvalid_0's l1: 17.6668\n",
      "Training until validation scores don't improve for 30 rounds\n",
      "Early stopping, best iteration is:\n",
      "[63]\tvalid_0's l1: 14.6329\n",
      "Training until validation scores don't improve for 30 rounds\n",
      "Early stopping, best iteration is:\n",
      "[61]\tvalid_0's l1: 18.6907\n",
      "Training until validation scores don't improve for 30 rounds\n",
      "Did not meet early stopping. Best iteration is:\n",
      "[207]\tvalid_0's l1: 11.9241\n",
      "Training until validation scores don't improve for 30 rounds\n",
      "Early stopping, best iteration is:\n",
      "[168]\tvalid_0's l1: 12.1155\n",
      "Training until validation scores don't improve for 30 rounds\n",
      "Did not meet early stopping. Best iteration is:\n",
      "[225]\tvalid_0's l1: 12.3926\n",
      "Training until validation scores don't improve for 30 rounds\n",
      "Did not meet early stopping. Best iteration is:\n",
      "[226]\tvalid_0's l1: 8.70178\n",
      "Training until validation scores don't improve for 30 rounds\n",
      "Did not meet early stopping. Best iteration is:\n",
      "[226]\tvalid_0's l1: 8.04618\n",
      "Training until validation scores don't improve for 30 rounds\n"
     ]
    },
    {
     "name": "stderr",
     "output_type": "stream",
     "text": [
      "[I 2025-06-27 20:03:58,512] Trial 8 finished with value: 18.18532289078878 and parameters: {'max_depth': 8, 'learning_rate': 0.06333268775321843, 'n_estimators': 226, 'min_child_weight': 9, 'subsample': 0.5372753218398854, 'colsample_bytree': 0.9934434683002586, 'reg_alpha': 0.7722447692966574, 'reg_lambda': 0.1987156815341724}. Best is trial 2 with value: 14.159163159379432.\n"
     ]
    },
    {
     "name": "stdout",
     "output_type": "stream",
     "text": [
      "Did not meet early stopping. Best iteration is:\n",
      "[226]\tvalid_0's l1: 8.51542\n",
      "Training until validation scores don't improve for 30 rounds\n",
      "Early stopping, best iteration is:\n",
      "[64]\tvalid_0's l1: 31.5441\n",
      "Training until validation scores don't improve for 30 rounds\n",
      "Early stopping, best iteration is:\n",
      "[108]\tvalid_0's l1: 30.465\n",
      "Training until validation scores don't improve for 30 rounds\n",
      "Early stopping, best iteration is:\n",
      "[64]\tvalid_0's l1: 28.2729\n",
      "Training until validation scores don't improve for 30 rounds\n",
      "Early stopping, best iteration is:\n",
      "[55]\tvalid_0's l1: 18.3801\n",
      "Training until validation scores don't improve for 30 rounds\n",
      "Early stopping, best iteration is:\n",
      "[72]\tvalid_0's l1: 18.8749\n",
      "Training until validation scores don't improve for 30 rounds\n",
      "Early stopping, best iteration is:\n",
      "[21]\tvalid_0's l1: 22.8711\n",
      "Training until validation scores don't improve for 30 rounds\n",
      "Early stopping, best iteration is:\n",
      "[84]\tvalid_0's l1: 14.0702\n",
      "Training until validation scores don't improve for 30 rounds\n",
      "Early stopping, best iteration is:\n",
      "[123]\tvalid_0's l1: 14.4106\n",
      "Training until validation scores don't improve for 30 rounds\n",
      "Early stopping, best iteration is:\n",
      "[58]\tvalid_0's l1: 14.501\n",
      "Training until validation scores don't improve for 30 rounds\n",
      "Early stopping, best iteration is:\n",
      "[24]\tvalid_0's l1: 12.8272\n",
      "Training until validation scores don't improve for 30 rounds\n",
      "Early stopping, best iteration is:\n",
      "[39]\tvalid_0's l1: 15.0743\n",
      "Training until validation scores don't improve for 30 rounds\n",
      "Early stopping, best iteration is:\n",
      "[32]\tvalid_0's l1: 17.2853\n",
      "Training until validation scores don't improve for 30 rounds\n",
      "Early stopping, best iteration is:\n",
      "[140]\tvalid_0's l1: 12.4728\n",
      "Training until validation scores don't improve for 30 rounds\n",
      "Early stopping, best iteration is:\n",
      "[95]\tvalid_0's l1: 12.6161\n",
      "Training until validation scores don't improve for 30 rounds\n",
      "Early stopping, best iteration is:\n",
      "[132]\tvalid_0's l1: 12.7091\n",
      "Training until validation scores don't improve for 30 rounds\n",
      "Early stopping, best iteration is:\n",
      "[558]\tvalid_0's l1: 7.69867\n",
      "Training until validation scores don't improve for 30 rounds\n",
      "Did not meet early stopping. Best iteration is:\n",
      "[735]\tvalid_0's l1: 7.31878\n",
      "Training until validation scores don't improve for 30 rounds\n"
     ]
    },
    {
     "name": "stderr",
     "output_type": "stream",
     "text": [
      "[I 2025-06-27 20:05:40,129] Trial 9 finished with value: 18.424985027039195 and parameters: {'max_depth': 3, 'learning_rate': 0.1601531217136121, 'n_estimators': 736, 'min_child_weight': 8, 'subsample': 0.8856351733429728, 'colsample_bytree': 0.5370223258670452, 'reg_alpha': 0.3584657285442726, 'reg_lambda': 0.11586905952512971}. Best is trial 2 with value: 14.159163159379432.\n"
     ]
    },
    {
     "name": "stdout",
     "output_type": "stream",
     "text": [
      "Did not meet early stopping. Best iteration is:\n",
      "[734]\tvalid_0's l1: 6.92043\n",
      "Training until validation scores don't improve for 30 rounds\n",
      "Did not meet early stopping. Best iteration is:\n",
      "[432]\tvalid_0's l1: 18.9628\n",
      "Training until validation scores don't improve for 30 rounds\n",
      "Did not meet early stopping. Best iteration is:\n",
      "[424]\tvalid_0's l1: 19.0218\n",
      "Training until validation scores don't improve for 30 rounds\n",
      "Did not meet early stopping. Best iteration is:\n",
      "[430]\tvalid_0's l1: 18.9648\n",
      "Training until validation scores don't improve for 30 rounds\n",
      "Did not meet early stopping. Best iteration is:\n",
      "[432]\tvalid_0's l1: 14.9051\n",
      "Training until validation scores don't improve for 30 rounds\n",
      "Did not meet early stopping. Best iteration is:\n",
      "[432]\tvalid_0's l1: 14.8133\n",
      "Training until validation scores don't improve for 30 rounds\n",
      "Did not meet early stopping. Best iteration is:\n",
      "[432]\tvalid_0's l1: 14.7546\n",
      "Training until validation scores don't improve for 30 rounds\n",
      "Did not meet early stopping. Best iteration is:\n",
      "[432]\tvalid_0's l1: 13.7055\n",
      "Training until validation scores don't improve for 30 rounds\n",
      "Did not meet early stopping. Best iteration is:\n",
      "[432]\tvalid_0's l1: 13.8948\n",
      "Training until validation scores don't improve for 30 rounds\n",
      "Did not meet early stopping. Best iteration is:\n",
      "[432]\tvalid_0's l1: 14.0597\n",
      "Training until validation scores don't improve for 30 rounds\n",
      "Did not meet early stopping. Best iteration is:\n",
      "[432]\tvalid_0's l1: 12.2606\n",
      "Training until validation scores don't improve for 30 rounds\n",
      "Did not meet early stopping. Best iteration is:\n",
      "[432]\tvalid_0's l1: 12.2224\n",
      "Training until validation scores don't improve for 30 rounds\n",
      "Did not meet early stopping. Best iteration is:\n",
      "[432]\tvalid_0's l1: 12.3891\n",
      "Training until validation scores don't improve for 30 rounds\n",
      "Did not meet early stopping. Best iteration is:\n",
      "[432]\tvalid_0's l1: 12.7313\n",
      "Training until validation scores don't improve for 30 rounds\n",
      "Did not meet early stopping. Best iteration is:\n",
      "[432]\tvalid_0's l1: 12.4805\n",
      "Training until validation scores don't improve for 30 rounds\n",
      "Did not meet early stopping. Best iteration is:\n",
      "[432]\tvalid_0's l1: 12.682\n",
      "Training until validation scores don't improve for 30 rounds\n",
      "Did not meet early stopping. Best iteration is:\n",
      "[432]\tvalid_0's l1: 10.0272\n",
      "Training until validation scores don't improve for 30 rounds\n",
      "Did not meet early stopping. Best iteration is:\n",
      "[432]\tvalid_0's l1: 9.96258\n",
      "Training until validation scores don't improve for 30 rounds\n",
      "Did not meet early stopping. Best iteration is:\n",
      "[432]\tvalid_0's l1: 10.0485\n"
     ]
    },
    {
     "name": "stderr",
     "output_type": "stream",
     "text": [
      "[I 2025-06-27 20:10:37,014] Trial 10 finished with value: 14.523228068722352 and parameters: {'max_depth': 18, 'learning_rate': 0.010206070557576998, 'n_estimators': 432, 'min_child_weight': 1, 'subsample': 0.7846562513261506, 'colsample_bytree': 0.721539898400351, 'reg_alpha': 0.9597707459454202, 'reg_lambda': 0.6668582750825782}. Best is trial 2 with value: 14.159163159379432.\n"
     ]
    },
    {
     "name": "stdout",
     "output_type": "stream",
     "text": [
      "Training until validation scores don't improve for 30 rounds\n",
      "Did not meet early stopping. Best iteration is:\n",
      "[432]\tvalid_0's l1: 18.6402\n",
      "Training until validation scores don't improve for 30 rounds\n",
      "Did not meet early stopping. Best iteration is:\n",
      "[433]\tvalid_0's l1: 18.6478\n",
      "Training until validation scores don't improve for 30 rounds\n",
      "Did not meet early stopping. Best iteration is:\n",
      "[418]\tvalid_0's l1: 18.8795\n",
      "Training until validation scores don't improve for 30 rounds\n",
      "Did not meet early stopping. Best iteration is:\n",
      "[434]\tvalid_0's l1: 14.8937\n",
      "Training until validation scores don't improve for 30 rounds\n",
      "Did not meet early stopping. Best iteration is:\n",
      "[434]\tvalid_0's l1: 14.7989\n",
      "Training until validation scores don't improve for 30 rounds\n",
      "Did not meet early stopping. Best iteration is:\n",
      "[434]\tvalid_0's l1: 14.6983\n",
      "Training until validation scores don't improve for 30 rounds\n",
      "Did not meet early stopping. Best iteration is:\n",
      "[434]\tvalid_0's l1: 13.6294\n",
      "Training until validation scores don't improve for 30 rounds\n",
      "Did not meet early stopping. Best iteration is:\n",
      "[434]\tvalid_0's l1: 13.5169\n",
      "Training until validation scores don't improve for 30 rounds\n",
      "Did not meet early stopping. Best iteration is:\n",
      "[434]\tvalid_0's l1: 13.8838\n",
      "Training until validation scores don't improve for 30 rounds\n",
      "Did not meet early stopping. Best iteration is:\n",
      "[434]\tvalid_0's l1: 12.1778\n",
      "Training until validation scores don't improve for 30 rounds\n",
      "Did not meet early stopping. Best iteration is:\n",
      "[434]\tvalid_0's l1: 11.9952\n",
      "Training until validation scores don't improve for 30 rounds\n",
      "Did not meet early stopping. Best iteration is:\n",
      "[434]\tvalid_0's l1: 12.2691\n",
      "Training until validation scores don't improve for 30 rounds\n",
      "Did not meet early stopping. Best iteration is:\n",
      "[434]\tvalid_0's l1: 12.638\n",
      "Training until validation scores don't improve for 30 rounds\n",
      "Did not meet early stopping. Best iteration is:\n",
      "[434]\tvalid_0's l1: 12.6034\n",
      "Training until validation scores don't improve for 30 rounds\n",
      "Did not meet early stopping. Best iteration is:\n",
      "[434]\tvalid_0's l1: 12.4523\n",
      "Training until validation scores don't improve for 30 rounds\n",
      "Did not meet early stopping. Best iteration is:\n",
      "[434]\tvalid_0's l1: 9.98886\n",
      "Training until validation scores don't improve for 30 rounds\n",
      "Did not meet early stopping. Best iteration is:\n",
      "[434]\tvalid_0's l1: 9.9402\n",
      "Training until validation scores don't improve for 30 rounds\n",
      "Did not meet early stopping. Best iteration is:\n",
      "[434]\tvalid_0's l1: 9.95846\n"
     ]
    },
    {
     "name": "stderr",
     "output_type": "stream",
     "text": [
      "[I 2025-06-27 20:15:48,817] Trial 11 finished with value: 14.381637404983078 and parameters: {'max_depth': 19, 'learning_rate': 0.010233524192808546, 'n_estimators': 434, 'min_child_weight': 1, 'subsample': 0.7930679183446125, 'colsample_bytree': 0.7171781358782057, 'reg_alpha': 0.9580055402844472, 'reg_lambda': 0.6584088996754022}. Best is trial 2 with value: 14.159163159379432.\n"
     ]
    },
    {
     "name": "stdout",
     "output_type": "stream",
     "text": [
      "Training until validation scores don't improve for 30 rounds\n",
      "Early stopping, best iteration is:\n",
      "[163]\tvalid_0's l1: 18.732\n",
      "Training until validation scores don't improve for 30 rounds\n",
      "Early stopping, best iteration is:\n",
      "[117]\tvalid_0's l1: 17.3716\n",
      "Training until validation scores don't improve for 30 rounds\n",
      "Early stopping, best iteration is:\n",
      "[109]\tvalid_0's l1: 19.0806\n",
      "Training until validation scores don't improve for 30 rounds\n",
      "Early stopping, best iteration is:\n",
      "[195]\tvalid_0's l1: 13.1108\n",
      "Training until validation scores don't improve for 30 rounds\n",
      "Early stopping, best iteration is:\n",
      "[197]\tvalid_0's l1: 13.2595\n",
      "Training until validation scores don't improve for 30 rounds\n",
      "Early stopping, best iteration is:\n",
      "[341]\tvalid_0's l1: 12.7808\n",
      "Training until validation scores don't improve for 30 rounds\n",
      "Did not meet early stopping. Best iteration is:\n",
      "[484]\tvalid_0's l1: 10.5433\n",
      "Training until validation scores don't improve for 30 rounds\n",
      "Early stopping, best iteration is:\n",
      "[213]\tvalid_0's l1: 11.0962\n",
      "Training until validation scores don't improve for 30 rounds\n",
      "Early stopping, best iteration is:\n",
      "[290]\tvalid_0's l1: 10.7196\n",
      "Training until validation scores don't improve for 30 rounds\n",
      "Early stopping, best iteration is:\n",
      "[166]\tvalid_0's l1: 10.5049\n",
      "Training until validation scores don't improve for 30 rounds\n",
      "Early stopping, best iteration is:\n",
      "[247]\tvalid_0's l1: 10.0683\n",
      "Training until validation scores don't improve for 30 rounds\n",
      "Early stopping, best iteration is:\n",
      "[193]\tvalid_0's l1: 10.2253\n",
      "Training until validation scores don't improve for 30 rounds\n",
      "Early stopping, best iteration is:\n",
      "[174]\tvalid_0's l1: 10.6637\n",
      "Training until validation scores don't improve for 30 rounds\n",
      "Early stopping, best iteration is:\n",
      "[135]\tvalid_0's l1: 10.5993\n",
      "Training until validation scores don't improve for 30 rounds\n",
      "Early stopping, best iteration is:\n",
      "[140]\tvalid_0's l1: 10.8155\n",
      "Training until validation scores don't improve for 30 rounds\n",
      "Did not meet early stopping. Best iteration is:\n",
      "[499]\tvalid_0's l1: 4.16241\n",
      "Training until validation scores don't improve for 30 rounds\n",
      "Did not meet early stopping. Best iteration is:\n",
      "[500]\tvalid_0's l1: 4.29022\n",
      "Training until validation scores don't improve for 30 rounds\n",
      "Did not meet early stopping. Best iteration is:\n",
      "[500]\tvalid_0's l1: 4.27683\n"
     ]
    },
    {
     "name": "stderr",
     "output_type": "stream",
     "text": [
      "[I 2025-06-27 20:19:31,698] Trial 12 finished with value: 12.638085210008594 and parameters: {'max_depth': 20, 'learning_rate': 0.046130768702232365, 'n_estimators': 500, 'min_child_weight': 1, 'subsample': 0.8265015800721067, 'colsample_bytree': 0.6997406053099458, 'reg_alpha': 0.41655711627713987, 'reg_lambda': 0.6768180580956151}. Best is trial 12 with value: 12.638085210008594.\n"
     ]
    },
    {
     "name": "stdout",
     "output_type": "stream",
     "text": [
      "Training until validation scores don't improve for 30 rounds\n",
      "Early stopping, best iteration is:\n",
      "[92]\tvalid_0's l1: 20.9031\n",
      "Training until validation scores don't improve for 30 rounds\n",
      "Early stopping, best iteration is:\n",
      "[71]\tvalid_0's l1: 20.5972\n",
      "Training until validation scores don't improve for 30 rounds\n",
      "Early stopping, best iteration is:\n",
      "[87]\tvalid_0's l1: 20.2155\n",
      "Training until validation scores don't improve for 30 rounds\n",
      "Early stopping, best iteration is:\n",
      "[151]\tvalid_0's l1: 13.6602\n",
      "Training until validation scores don't improve for 30 rounds\n",
      "Early stopping, best iteration is:\n",
      "[149]\tvalid_0's l1: 13.6134\n",
      "Training until validation scores don't improve for 30 rounds\n",
      "Early stopping, best iteration is:\n",
      "[126]\tvalid_0's l1: 13.5174\n",
      "Training until validation scores don't improve for 30 rounds\n",
      "Early stopping, best iteration is:\n",
      "[250]\tvalid_0's l1: 11.3278\n",
      "Training until validation scores don't improve for 30 rounds\n",
      "Early stopping, best iteration is:\n",
      "[195]\tvalid_0's l1: 11.3607\n",
      "Training until validation scores don't improve for 30 rounds\n",
      "Did not meet early stopping. Best iteration is:\n",
      "[599]\tvalid_0's l1: 11.1916\n",
      "Training until validation scores don't improve for 30 rounds\n",
      "Early stopping, best iteration is:\n",
      "[163]\tvalid_0's l1: 12.3146\n",
      "Training until validation scores don't improve for 30 rounds\n",
      "Early stopping, best iteration is:\n",
      "[142]\tvalid_0's l1: 12.456\n",
      "Training until validation scores don't improve for 30 rounds\n",
      "Early stopping, best iteration is:\n",
      "[146]\tvalid_0's l1: 12.0198\n",
      "Training until validation scores don't improve for 30 rounds\n",
      "Early stopping, best iteration is:\n",
      "[151]\tvalid_0's l1: 11.1057\n",
      "Training until validation scores don't improve for 30 rounds\n",
      "Early stopping, best iteration is:\n",
      "[168]\tvalid_0's l1: 10.718\n",
      "Training until validation scores don't improve for 30 rounds\n",
      "Early stopping, best iteration is:\n",
      "[160]\tvalid_0's l1: 11.0705\n",
      "Training until validation scores don't improve for 30 rounds\n",
      "Did not meet early stopping. Best iteration is:\n",
      "[604]\tvalid_0's l1: 3.85856\n",
      "Training until validation scores don't improve for 30 rounds\n",
      "Did not meet early stopping. Best iteration is:\n",
      "[604]\tvalid_0's l1: 3.8947\n",
      "Training until validation scores don't improve for 30 rounds\n",
      "Did not meet early stopping. Best iteration is:\n",
      "[604]\tvalid_0's l1: 3.85741\n"
     ]
    },
    {
     "name": "stderr",
     "output_type": "stream",
     "text": [
      "[I 2025-06-27 20:23:43,137] Trial 13 finished with value: 13.738099743527542 and parameters: {'max_depth': 16, 'learning_rate': 0.047719135676806405, 'n_estimators': 604, 'min_child_weight': 3, 'subsample': 0.8959036026125031, 'colsample_bytree': 0.8244982524834705, 'reg_alpha': 0.4078588319549548, 'reg_lambda': 0.7093773974157526}. Best is trial 12 with value: 12.638085210008594.\n"
     ]
    },
    {
     "name": "stdout",
     "output_type": "stream",
     "text": [
      "Training until validation scores don't improve for 30 rounds\n",
      "Early stopping, best iteration is:\n",
      "[119]\tvalid_0's l1: 20.5491\n",
      "Training until validation scores don't improve for 30 rounds\n",
      "Early stopping, best iteration is:\n",
      "[145]\tvalid_0's l1: 20.5086\n",
      "Training until validation scores don't improve for 30 rounds\n",
      "Early stopping, best iteration is:\n",
      "[127]\tvalid_0's l1: 21.1642\n",
      "Training until validation scores don't improve for 30 rounds\n",
      "Early stopping, best iteration is:\n",
      "[179]\tvalid_0's l1: 13.3354\n",
      "Training until validation scores don't improve for 30 rounds\n",
      "Early stopping, best iteration is:\n",
      "[198]\tvalid_0's l1: 13.5143\n",
      "Training until validation scores don't improve for 30 rounds\n",
      "Early stopping, best iteration is:\n",
      "[173]\tvalid_0's l1: 13.6003\n",
      "Training until validation scores don't improve for 30 rounds\n",
      "Early stopping, best iteration is:\n",
      "[477]\tvalid_0's l1: 11.1262\n",
      "Training until validation scores don't improve for 30 rounds\n",
      "Early stopping, best iteration is:\n",
      "[220]\tvalid_0's l1: 11.9716\n",
      "Training until validation scores don't improve for 30 rounds\n",
      "Early stopping, best iteration is:\n",
      "[344]\tvalid_0's l1: 11.1652\n",
      "Training until validation scores don't improve for 30 rounds\n",
      "Early stopping, best iteration is:\n",
      "[222]\tvalid_0's l1: 12.0546\n",
      "Training until validation scores don't improve for 30 rounds\n",
      "Early stopping, best iteration is:\n",
      "[151]\tvalid_0's l1: 12.2992\n",
      "Training until validation scores don't improve for 30 rounds\n",
      "Early stopping, best iteration is:\n",
      "[170]\tvalid_0's l1: 12.4827\n",
      "Training until validation scores don't improve for 30 rounds\n",
      "Early stopping, best iteration is:\n",
      "[232]\tvalid_0's l1: 10.9663\n",
      "Training until validation scores don't improve for 30 rounds\n",
      "Early stopping, best iteration is:\n",
      "[247]\tvalid_0's l1: 10.8388\n",
      "Training until validation scores don't improve for 30 rounds\n",
      "Early stopping, best iteration is:\n",
      "[239]\tvalid_0's l1: 10.915\n",
      "Training until validation scores don't improve for 30 rounds\n",
      "Did not meet early stopping. Best iteration is:\n",
      "[650]\tvalid_0's l1: 4.57238\n",
      "Training until validation scores don't improve for 30 rounds\n",
      "Did not meet early stopping. Best iteration is:\n",
      "[651]\tvalid_0's l1: 4.4477\n",
      "Training until validation scores don't improve for 30 rounds\n",
      "Did not meet early stopping. Best iteration is:\n",
      "[651]\tvalid_0's l1: 4.44163\n"
     ]
    },
    {
     "name": "stderr",
     "output_type": "stream",
     "text": [
      "[I 2025-06-27 20:28:42,783] Trial 14 finished with value: 13.766090932353473 and parameters: {'max_depth': 16, 'learning_rate': 0.0332405582609334, 'n_estimators': 651, 'min_child_weight': 3, 'subsample': 0.8649174147658507, 'colsample_bytree': 0.8590798451747579, 'reg_alpha': 0.45521666646173026, 'reg_lambda': 0.7380983421262327}. Best is trial 12 with value: 12.638085210008594.\n"
     ]
    },
    {
     "name": "stdout",
     "output_type": "stream",
     "text": [
      "Training until validation scores don't improve for 30 rounds\n",
      "Early stopping, best iteration is:\n",
      "[120]\tvalid_0's l1: 17.6894\n",
      "Training until validation scores don't improve for 30 rounds\n",
      "Early stopping, best iteration is:\n",
      "[129]\tvalid_0's l1: 17.9448\n",
      "Training until validation scores don't improve for 30 rounds\n",
      "Early stopping, best iteration is:\n",
      "[140]\tvalid_0's l1: 18.6919\n",
      "Training until validation scores don't improve for 30 rounds\n",
      "Early stopping, best iteration is:\n",
      "[263]\tvalid_0's l1: 13.1538\n",
      "Training until validation scores don't improve for 30 rounds\n",
      "Early stopping, best iteration is:\n",
      "[294]\tvalid_0's l1: 13.5086\n",
      "Training until validation scores don't improve for 30 rounds\n",
      "Early stopping, best iteration is:\n",
      "[220]\tvalid_0's l1: 13.3656\n",
      "Training until validation scores don't improve for 30 rounds\n",
      "Early stopping, best iteration is:\n",
      "[515]\tvalid_0's l1: 11.1837\n",
      "Training until validation scores don't improve for 30 rounds\n",
      "Early stopping, best iteration is:\n",
      "[418]\tvalid_0's l1: 10.9299\n",
      "Training until validation scores don't improve for 30 rounds\n",
      "Did not meet early stopping. Best iteration is:\n",
      "[600]\tvalid_0's l1: 11.5437\n",
      "Training until validation scores don't improve for 30 rounds\n",
      "Early stopping, best iteration is:\n",
      "[299]\tvalid_0's l1: 11.1101\n",
      "Training until validation scores don't improve for 30 rounds\n",
      "Early stopping, best iteration is:\n",
      "[230]\tvalid_0's l1: 11.1241\n",
      "Training until validation scores don't improve for 30 rounds\n",
      "Early stopping, best iteration is:\n",
      "[175]\tvalid_0's l1: 11.4249\n",
      "Training until validation scores don't improve for 30 rounds\n",
      "Early stopping, best iteration is:\n",
      "[166]\tvalid_0's l1: 10.993\n",
      "Training until validation scores don't improve for 30 rounds\n",
      "Early stopping, best iteration is:\n",
      "[168]\tvalid_0's l1: 11.1502\n",
      "Training until validation scores don't improve for 30 rounds\n",
      "Early stopping, best iteration is:\n",
      "[175]\tvalid_0's l1: 10.8419\n",
      "Training until validation scores don't improve for 30 rounds\n",
      "Did not meet early stopping. Best iteration is:\n",
      "[603]\tvalid_0's l1: 4.16212\n",
      "Training until validation scores don't improve for 30 rounds\n",
      "Did not meet early stopping. Best iteration is:\n",
      "[603]\tvalid_0's l1: 4.20754\n",
      "Training until validation scores don't improve for 30 rounds\n",
      "Did not meet early stopping. Best iteration is:\n",
      "[603]\tvalid_0's l1: 4.24187\n"
     ]
    },
    {
     "name": "stderr",
     "output_type": "stream",
     "text": [
      "[I 2025-06-27 20:34:04,882] Trial 15 finished with value: 12.977030474443717 and parameters: {'max_depth': 16, 'learning_rate': 0.03941980262875491, 'n_estimators': 603, 'min_child_weight': 2, 'subsample': 0.9470736373952626, 'colsample_bytree': 0.7833396651626415, 'reg_alpha': 0.4712914759174496, 'reg_lambda': 0.7946453641120891}. Best is trial 12 with value: 12.638085210008594.\n"
     ]
    },
    {
     "name": "stdout",
     "output_type": "stream",
     "text": [
      "Training until validation scores don't improve for 30 rounds\n",
      "Early stopping, best iteration is:\n",
      "[172]\tvalid_0's l1: 17.8615\n",
      "Training until validation scores don't improve for 30 rounds\n",
      "Early stopping, best iteration is:\n",
      "[173]\tvalid_0's l1: 17.8348\n",
      "Training until validation scores don't improve for 30 rounds\n",
      "Early stopping, best iteration is:\n",
      "[170]\tvalid_0's l1: 18.4734\n",
      "Training until validation scores don't improve for 30 rounds\n",
      "Did not meet early stopping. Best iteration is:\n",
      "[334]\tvalid_0's l1: 12.9043\n",
      "Training until validation scores don't improve for 30 rounds\n",
      "Did not meet early stopping. Best iteration is:\n",
      "[342]\tvalid_0's l1: 12.9273\n",
      "Training until validation scores don't improve for 30 rounds\n",
      "Did not meet early stopping. Best iteration is:\n",
      "[339]\tvalid_0's l1: 12.8214\n",
      "Training until validation scores don't improve for 30 rounds\n",
      "Did not meet early stopping. Best iteration is:\n",
      "[342]\tvalid_0's l1: 10.3481\n",
      "Training until validation scores don't improve for 30 rounds\n",
      "Did not meet early stopping. Best iteration is:\n",
      "[341]\tvalid_0's l1: 10.6814\n",
      "Training until validation scores don't improve for 30 rounds\n",
      "Did not meet early stopping. Best iteration is:\n",
      "[341]\tvalid_0's l1: 10.7384\n",
      "Training until validation scores don't improve for 30 rounds\n",
      "Early stopping, best iteration is:\n",
      "[299]\tvalid_0's l1: 10.1824\n",
      "Training until validation scores don't improve for 30 rounds\n",
      "Did not meet early stopping. Best iteration is:\n",
      "[317]\tvalid_0's l1: 10.0819\n",
      "Training until validation scores don't improve for 30 rounds\n",
      "Did not meet early stopping. Best iteration is:\n",
      "[320]\tvalid_0's l1: 10.2654\n",
      "Training until validation scores don't improve for 30 rounds\n",
      "Early stopping, best iteration is:\n",
      "[209]\tvalid_0's l1: 10.8971\n",
      "Training until validation scores don't improve for 30 rounds\n",
      "Early stopping, best iteration is:\n",
      "[229]\tvalid_0's l1: 10.7531\n",
      "Training until validation scores don't improve for 30 rounds\n",
      "Early stopping, best iteration is:\n",
      "[240]\tvalid_0's l1: 10.924\n",
      "Training until validation scores don't improve for 30 rounds\n",
      "Did not meet early stopping. Best iteration is:\n",
      "[342]\tvalid_0's l1: 6.10882\n",
      "Training until validation scores don't improve for 30 rounds\n",
      "Did not meet early stopping. Best iteration is:\n",
      "[342]\tvalid_0's l1: 6.04398\n",
      "Training until validation scores don't improve for 30 rounds\n",
      "Did not meet early stopping. Best iteration is:\n",
      "[342]\tvalid_0's l1: 6.072\n"
     ]
    },
    {
     "name": "stderr",
     "output_type": "stream",
     "text": [
      "[I 2025-06-27 20:38:19,364] Trial 16 finished with value: 12.51296760943281 and parameters: {'max_depth': 20, 'learning_rate': 0.027805212911903306, 'n_estimators': 342, 'min_child_weight': 1, 'subsample': 0.9983813146210843, 'colsample_bytree': 0.6649028910368371, 'reg_alpha': 0.5305608505257258, 'reg_lambda': 0.827787259457541}. Best is trial 16 with value: 12.51296760943281.\n"
     ]
    },
    {
     "name": "stdout",
     "output_type": "stream",
     "text": [
      "Training until validation scores don't improve for 30 rounds\n",
      "Early stopping, best iteration is:\n",
      "[193]\tvalid_0's l1: 17.6922\n",
      "Training until validation scores don't improve for 30 rounds\n",
      "Early stopping, best iteration is:\n",
      "[196]\tvalid_0's l1: 17.3329\n",
      "Training until validation scores don't improve for 30 rounds\n",
      "Early stopping, best iteration is:\n",
      "[198]\tvalid_0's l1: 17.4557\n",
      "Training until validation scores don't improve for 30 rounds\n",
      "Did not meet early stopping. Best iteration is:\n",
      "[329]\tvalid_0's l1: 13.1102\n",
      "Training until validation scores don't improve for 30 rounds\n",
      "Did not meet early stopping. Best iteration is:\n",
      "[324]\tvalid_0's l1: 12.9102\n",
      "Training until validation scores don't improve for 30 rounds\n",
      "Did not meet early stopping. Best iteration is:\n",
      "[329]\tvalid_0's l1: 13.0518\n",
      "Training until validation scores don't improve for 30 rounds\n",
      "Did not meet early stopping. Best iteration is:\n",
      "[327]\tvalid_0's l1: 10.5979\n",
      "Training until validation scores don't improve for 30 rounds\n",
      "Did not meet early stopping. Best iteration is:\n",
      "[329]\tvalid_0's l1: 10.7423\n",
      "Training until validation scores don't improve for 30 rounds\n",
      "Did not meet early stopping. Best iteration is:\n",
      "[329]\tvalid_0's l1: 10.6137\n",
      "Training until validation scores don't improve for 30 rounds\n",
      "Did not meet early stopping. Best iteration is:\n",
      "[314]\tvalid_0's l1: 10.2841\n",
      "Training until validation scores don't improve for 30 rounds\n",
      "Did not meet early stopping. Best iteration is:\n",
      "[310]\tvalid_0's l1: 10.0986\n",
      "Training until validation scores don't improve for 30 rounds\n",
      "Early stopping, best iteration is:\n",
      "[296]\tvalid_0's l1: 9.97048\n",
      "Training until validation scores don't improve for 30 rounds\n",
      "Early stopping, best iteration is:\n",
      "[265]\tvalid_0's l1: 11.0197\n",
      "Training until validation scores don't improve for 30 rounds\n",
      "Early stopping, best iteration is:\n",
      "[276]\tvalid_0's l1: 10.7972\n",
      "Training until validation scores don't improve for 30 rounds\n",
      "Early stopping, best iteration is:\n",
      "[280]\tvalid_0's l1: 10.7463\n",
      "Training until validation scores don't improve for 30 rounds\n",
      "Did not meet early stopping. Best iteration is:\n",
      "[329]\tvalid_0's l1: 6.48046\n",
      "Training until validation scores don't improve for 30 rounds\n",
      "Did not meet early stopping. Best iteration is:\n",
      "[329]\tvalid_0's l1: 6.47136\n",
      "Training until validation scores don't improve for 30 rounds\n"
     ]
    },
    {
     "name": "stderr",
     "output_type": "stream",
     "text": [
      "[I 2025-06-27 20:42:33,099] Trial 17 finished with value: 12.4282187556986 and parameters: {'max_depth': 20, 'learning_rate': 0.024945078345490552, 'n_estimators': 329, 'min_child_weight': 1, 'subsample': 0.9967258366576043, 'colsample_bytree': 0.6681541788036026, 'reg_alpha': 0.5693913836117062, 'reg_lambda': 0.9816080996349033}. Best is trial 17 with value: 12.4282187556986.\n"
     ]
    },
    {
     "name": "stdout",
     "output_type": "stream",
     "text": [
      "Did not meet early stopping. Best iteration is:\n",
      "[329]\tvalid_0's l1: 6.46256\n",
      "Training until validation scores don't improve for 30 rounds\n",
      "Early stopping, best iteration is:\n",
      "[173]\tvalid_0's l1: 22.3564\n",
      "Training until validation scores don't improve for 30 rounds\n",
      "Early stopping, best iteration is:\n",
      "[163]\tvalid_0's l1: 22.6954\n",
      "Training until validation scores don't improve for 30 rounds\n",
      "Early stopping, best iteration is:\n",
      "[159]\tvalid_0's l1: 22.5257\n",
      "Training until validation scores don't improve for 30 rounds\n",
      "Early stopping, best iteration is:\n",
      "[243]\tvalid_0's l1: 13.8951\n",
      "Training until validation scores don't improve for 30 rounds\n",
      "Early stopping, best iteration is:\n",
      "[234]\tvalid_0's l1: 13.7876\n",
      "Training until validation scores don't improve for 30 rounds\n",
      "Early stopping, best iteration is:\n",
      "[240]\tvalid_0's l1: 13.8729\n",
      "Training until validation scores don't improve for 30 rounds\n",
      "Did not meet early stopping. Best iteration is:\n",
      "[329]\tvalid_0's l1: 11.2626\n",
      "Training until validation scores don't improve for 30 rounds\n",
      "Did not meet early stopping. Best iteration is:\n",
      "[328]\tvalid_0's l1: 11.4068\n",
      "Training until validation scores don't improve for 30 rounds\n",
      "Did not meet early stopping. Best iteration is:\n",
      "[329]\tvalid_0's l1: 10.9986\n",
      "Training until validation scores don't improve for 30 rounds\n",
      "Early stopping, best iteration is:\n",
      "[236]\tvalid_0's l1: 12.3565\n",
      "Training until validation scores don't improve for 30 rounds\n",
      "Did not meet early stopping. Best iteration is:\n",
      "[328]\tvalid_0's l1: 12.2233\n",
      "Training until validation scores don't improve for 30 rounds\n",
      "Early stopping, best iteration is:\n",
      "[232]\tvalid_0's l1: 12.012\n",
      "Training until validation scores don't improve for 30 rounds\n",
      "Early stopping, best iteration is:\n",
      "[295]\tvalid_0's l1: 10.9398\n",
      "Training until validation scores don't improve for 30 rounds\n",
      "Did not meet early stopping. Best iteration is:\n",
      "[312]\tvalid_0's l1: 11.1646\n",
      "Training until validation scores don't improve for 30 rounds\n",
      "Early stopping, best iteration is:\n",
      "[280]\tvalid_0's l1: 10.7794\n",
      "Training until validation scores don't improve for 30 rounds\n",
      "Did not meet early stopping. Best iteration is:\n",
      "[329]\tvalid_0's l1: 7.06683\n",
      "Training until validation scores don't improve for 30 rounds\n",
      "Did not meet early stopping. Best iteration is:\n",
      "[329]\tvalid_0's l1: 7.11184\n",
      "Training until validation scores don't improve for 30 rounds\n",
      "Did not meet early stopping. Best iteration is:\n",
      "[329]\tvalid_0's l1: 7.10836\n"
     ]
    },
    {
     "name": "stderr",
     "output_type": "stream",
     "text": [
      "[I 2025-06-27 20:46:15,386] Trial 18 finished with value: 14.151790324980041 and parameters: {'max_depth': 18, 'learning_rate': 0.02444725083091164, 'n_estimators': 329, 'min_child_weight': 5, 'subsample': 0.9991578432680781, 'colsample_bytree': 0.6601624214125588, 'reg_alpha': 0.5736894675055922, 'reg_lambda': 0.9971442974266869}. Best is trial 17 with value: 12.4282187556986.\n"
     ]
    },
    {
     "name": "stdout",
     "output_type": "stream",
     "text": [
      "Training until validation scores don't improve for 30 rounds\n",
      "Early stopping, best iteration is:\n",
      "[328]\tvalid_0's l1: 21.4318\n",
      "Training until validation scores don't improve for 30 rounds\n",
      "Early stopping, best iteration is:\n",
      "[328]\tvalid_0's l1: 20.6952\n",
      "Training until validation scores don't improve for 30 rounds\n",
      "Early stopping, best iteration is:\n",
      "[260]\tvalid_0's l1: 20.7923\n",
      "Training until validation scores don't improve for 30 rounds\n",
      "Did not meet early stopping. Best iteration is:\n",
      "[359]\tvalid_0's l1: 13.3547\n",
      "Training until validation scores don't improve for 30 rounds\n",
      "Did not meet early stopping. Best iteration is:\n",
      "[359]\tvalid_0's l1: 13.4261\n",
      "Training until validation scores don't improve for 30 rounds\n",
      "Did not meet early stopping. Best iteration is:\n",
      "[359]\tvalid_0's l1: 13.5331\n",
      "Training until validation scores don't improve for 30 rounds\n",
      "Did not meet early stopping. Best iteration is:\n",
      "[359]\tvalid_0's l1: 12.6097\n",
      "Training until validation scores don't improve for 30 rounds\n",
      "Did not meet early stopping. Best iteration is:\n",
      "[359]\tvalid_0's l1: 12.2352\n",
      "Training until validation scores don't improve for 30 rounds\n",
      "Did not meet early stopping. Best iteration is:\n",
      "[359]\tvalid_0's l1: 12.3954\n",
      "Training until validation scores don't improve for 30 rounds\n",
      "Did not meet early stopping. Best iteration is:\n",
      "[359]\tvalid_0's l1: 12.0725\n",
      "Training until validation scores don't improve for 30 rounds\n",
      "Did not meet early stopping. Best iteration is:\n",
      "[359]\tvalid_0's l1: 11.5271\n",
      "Training until validation scores don't improve for 30 rounds\n",
      "Did not meet early stopping. Best iteration is:\n",
      "[359]\tvalid_0's l1: 11.9496\n",
      "Training until validation scores don't improve for 30 rounds\n",
      "Did not meet early stopping. Best iteration is:\n",
      "[357]\tvalid_0's l1: 11.3454\n",
      "Training until validation scores don't improve for 30 rounds\n",
      "Did not meet early stopping. Best iteration is:\n",
      "[359]\tvalid_0's l1: 11.4278\n",
      "Training until validation scores don't improve for 30 rounds\n",
      "Did not meet early stopping. Best iteration is:\n",
      "[359]\tvalid_0's l1: 11.4934\n",
      "Training until validation scores don't improve for 30 rounds\n",
      "Did not meet early stopping. Best iteration is:\n",
      "[359]\tvalid_0's l1: 8.5087\n",
      "Training until validation scores don't improve for 30 rounds\n",
      "Did not meet early stopping. Best iteration is:\n",
      "[359]\tvalid_0's l1: 8.53406\n",
      "Training until validation scores don't improve for 30 rounds\n"
     ]
    },
    {
     "name": "stderr",
     "output_type": "stream",
     "text": [
      "[I 2025-06-27 20:51:01,837] Trial 19 finished with value: 14.019279770558398 and parameters: {'max_depth': 14, 'learning_rate': 0.015429181330201555, 'n_estimators': 359, 'min_child_weight': 2, 'subsample': 0.7249458943111116, 'colsample_bytree': 0.6639103427638051, 'reg_alpha': 0.7402601340155535, 'reg_lambda': 0.9579267621163626}. Best is trial 17 with value: 12.4282187556986.\n"
     ]
    },
    {
     "name": "stdout",
     "output_type": "stream",
     "text": [
      "Did not meet early stopping. Best iteration is:\n",
      "[359]\tvalid_0's l1: 8.58924\n",
      "Training until validation scores don't improve for 30 rounds\n",
      "Early stopping, best iteration is:\n",
      "[180]\tvalid_0's l1: 22.1388\n",
      "Training until validation scores don't improve for 30 rounds\n",
      "Early stopping, best iteration is:\n",
      "[159]\tvalid_0's l1: 22.4261\n",
      "Training until validation scores don't improve for 30 rounds\n",
      "Early stopping, best iteration is:\n",
      "[161]\tvalid_0's l1: 22.432\n",
      "Training until validation scores don't improve for 30 rounds\n",
      "Early stopping, best iteration is:\n",
      "[202]\tvalid_0's l1: 14.0463\n",
      "Training until validation scores don't improve for 30 rounds\n",
      "Did not meet early stopping. Best iteration is:\n",
      "[230]\tvalid_0's l1: 14.1255\n",
      "Training until validation scores don't improve for 30 rounds\n",
      "Did not meet early stopping. Best iteration is:\n",
      "[223]\tvalid_0's l1: 13.81\n",
      "Training until validation scores don't improve for 30 rounds\n",
      "Did not meet early stopping. Best iteration is:\n",
      "[244]\tvalid_0's l1: 11.7072\n",
      "Training until validation scores don't improve for 30 rounds\n",
      "Did not meet early stopping. Best iteration is:\n",
      "[242]\tvalid_0's l1: 11.9312\n",
      "Training until validation scores don't improve for 30 rounds\n",
      "Did not meet early stopping. Best iteration is:\n",
      "[245]\tvalid_0's l1: 11.8493\n",
      "Training until validation scores don't improve for 30 rounds\n",
      "Did not meet early stopping. Best iteration is:\n",
      "[225]\tvalid_0's l1: 11.7849\n",
      "Training until validation scores don't improve for 30 rounds\n",
      "Did not meet early stopping. Best iteration is:\n",
      "[245]\tvalid_0's l1: 11.7418\n",
      "Training until validation scores don't improve for 30 rounds\n",
      "Did not meet early stopping. Best iteration is:\n",
      "[245]\tvalid_0's l1: 12.3418\n",
      "Training until validation scores don't improve for 30 rounds\n",
      "Did not meet early stopping. Best iteration is:\n",
      "[245]\tvalid_0's l1: 11.2217\n",
      "Training until validation scores don't improve for 30 rounds\n",
      "Did not meet early stopping. Best iteration is:\n",
      "[245]\tvalid_0's l1: 11.2937\n",
      "Training until validation scores don't improve for 30 rounds\n",
      "Did not meet early stopping. Best iteration is:\n",
      "[245]\tvalid_0's l1: 11.2674\n",
      "Training until validation scores don't improve for 30 rounds\n",
      "Did not meet early stopping. Best iteration is:\n",
      "[245]\tvalid_0's l1: 8.00587\n",
      "Training until validation scores don't improve for 30 rounds\n",
      "Did not meet early stopping. Best iteration is:\n",
      "[245]\tvalid_0's l1: 7.94555\n",
      "Training until validation scores don't improve for 30 rounds\n",
      "Did not meet early stopping. Best iteration is:\n",
      "[245]\tvalid_0's l1: 8.09541\n"
     ]
    },
    {
     "name": "stderr",
     "output_type": "stream",
     "text": [
      "[I 2025-06-27 20:55:10,080] Trial 20 finished with value: 14.274518621316243 and parameters: {'max_depth': 20, 'learning_rate': 0.025342408734938128, 'n_estimators': 245, 'min_child_weight': 5, 'subsample': 0.9956385980717999, 'colsample_bytree': 0.7767898432700129, 'reg_alpha': 0.2072414471984515, 'reg_lambda': 0.8576332970644512}. Best is trial 17 with value: 12.4282187556986.\n"
     ]
    },
    {
     "name": "stdout",
     "output_type": "stream",
     "text": [
      "Training until validation scores don't improve for 30 rounds\n",
      "Early stopping, best iteration is:\n",
      "[57]\tvalid_0's l1: 18.4066\n",
      "Training until validation scores don't improve for 30 rounds\n",
      "Early stopping, best iteration is:\n",
      "[66]\tvalid_0's l1: 17.5571\n",
      "Training until validation scores don't improve for 30 rounds\n",
      "Early stopping, best iteration is:\n",
      "[67]\tvalid_0's l1: 17.5523\n",
      "Training until validation scores don't improve for 30 rounds\n",
      "Early stopping, best iteration is:\n",
      "[140]\tvalid_0's l1: 13.0938\n",
      "Training until validation scores don't improve for 30 rounds\n",
      "Early stopping, best iteration is:\n",
      "[91]\tvalid_0's l1: 13.4273\n",
      "Training until validation scores don't improve for 30 rounds\n",
      "Early stopping, best iteration is:\n",
      "[193]\tvalid_0's l1: 12.7683\n",
      "Training until validation scores don't improve for 30 rounds\n",
      "Early stopping, best iteration is:\n",
      "[237]\tvalid_0's l1: 10.5549\n",
      "Training until validation scores don't improve for 30 rounds\n",
      "Early stopping, best iteration is:\n",
      "[128]\tvalid_0's l1: 11.0898\n",
      "Training until validation scores don't improve for 30 rounds\n",
      "Early stopping, best iteration is:\n",
      "[158]\tvalid_0's l1: 10.8095\n",
      "Training until validation scores don't improve for 30 rounds\n",
      "Early stopping, best iteration is:\n",
      "[86]\tvalid_0's l1: 10.7099\n",
      "Training until validation scores don't improve for 30 rounds\n",
      "Early stopping, best iteration is:\n",
      "[111]\tvalid_0's l1: 10.0805\n",
      "Training until validation scores don't improve for 30 rounds\n",
      "Early stopping, best iteration is:\n",
      "[88]\tvalid_0's l1: 10.6343\n",
      "Training until validation scores don't improve for 30 rounds\n",
      "Early stopping, best iteration is:\n",
      "[80]\tvalid_0's l1: 10.5716\n",
      "Training until validation scores don't improve for 30 rounds\n",
      "Early stopping, best iteration is:\n",
      "[91]\tvalid_0's l1: 10.7622\n",
      "Training until validation scores don't improve for 30 rounds\n",
      "Early stopping, best iteration is:\n",
      "[86]\tvalid_0's l1: 10.6514\n",
      "Training until validation scores don't improve for 30 rounds\n",
      "Did not meet early stopping. Best iteration is:\n",
      "[500]\tvalid_0's l1: 3.26574\n",
      "Training until validation scores don't improve for 30 rounds\n",
      "Did not meet early stopping. Best iteration is:\n",
      "[500]\tvalid_0's l1: 3.18791\n",
      "Training until validation scores don't improve for 30 rounds\n",
      "Did not meet early stopping. Best iteration is:\n",
      "[500]\tvalid_0's l1: 3.25931\n"
     ]
    },
    {
     "name": "stderr",
     "output_type": "stream",
     "text": [
      "[I 2025-06-27 20:59:44,762] Trial 21 finished with value: 12.577959008973698 and parameters: {'max_depth': 20, 'learning_rate': 0.08165108840336587, 'n_estimators': 500, 'min_child_weight': 1, 'subsample': 0.9394533264765708, 'colsample_bytree': 0.6995501434778548, 'reg_alpha': 0.5173525652140668, 'reg_lambda': 0.6288887686012441}. Best is trial 17 with value: 12.4282187556986.\n"
     ]
    },
    {
     "name": "stdout",
     "output_type": "stream",
     "text": [
      "Training until validation scores don't improve for 30 rounds\n",
      "Early stopping, best iteration is:\n",
      "[75]\tvalid_0's l1: 18.6944\n",
      "Training until validation scores don't improve for 30 rounds\n",
      "Early stopping, best iteration is:\n",
      "[57]\tvalid_0's l1: 18.1912\n",
      "Training until validation scores don't improve for 30 rounds\n",
      "Early stopping, best iteration is:\n",
      "[78]\tvalid_0's l1: 19.1159\n",
      "Training until validation scores don't improve for 30 rounds\n",
      "Early stopping, best iteration is:\n",
      "[87]\tvalid_0's l1: 13.3491\n",
      "Training until validation scores don't improve for 30 rounds\n",
      "Early stopping, best iteration is:\n",
      "[82]\tvalid_0's l1: 13.397\n",
      "Training until validation scores don't improve for 30 rounds\n",
      "Early stopping, best iteration is:\n",
      "[81]\tvalid_0's l1: 13.3041\n",
      "Training until validation scores don't improve for 30 rounds\n",
      "Early stopping, best iteration is:\n",
      "[131]\tvalid_0's l1: 11.5114\n",
      "Training until validation scores don't improve for 30 rounds\n",
      "Early stopping, best iteration is:\n",
      "[135]\tvalid_0's l1: 10.7555\n",
      "Training until validation scores don't improve for 30 rounds\n",
      "Early stopping, best iteration is:\n",
      "[134]\tvalid_0's l1: 11.0274\n",
      "Training until validation scores don't improve for 30 rounds\n",
      "Early stopping, best iteration is:\n",
      "[106]\tvalid_0's l1: 11.0985\n",
      "Training until validation scores don't improve for 30 rounds\n",
      "Early stopping, best iteration is:\n",
      "[89]\tvalid_0's l1: 11.548\n",
      "Training until validation scores don't improve for 30 rounds\n",
      "Early stopping, best iteration is:\n",
      "[96]\tvalid_0's l1: 11.295\n",
      "Training until validation scores don't improve for 30 rounds\n",
      "Early stopping, best iteration is:\n",
      "[76]\tvalid_0's l1: 11.5374\n",
      "Training until validation scores don't improve for 30 rounds\n",
      "Early stopping, best iteration is:\n",
      "[80]\tvalid_0's l1: 10.8554\n",
      "Training until validation scores don't improve for 30 rounds\n",
      "Early stopping, best iteration is:\n",
      "[83]\tvalid_0's l1: 10.9892\n",
      "Training until validation scores don't improve for 30 rounds\n",
      "Did not meet early stopping. Best iteration is:\n",
      "[403]\tvalid_0's l1: 3.72762\n",
      "Training until validation scores don't improve for 30 rounds\n",
      "Did not meet early stopping. Best iteration is:\n",
      "[403]\tvalid_0's l1: 3.68641\n",
      "Training until validation scores don't improve for 30 rounds\n",
      "Did not meet early stopping. Best iteration is:\n",
      "[403]\tvalid_0's l1: 3.66708\n"
     ]
    },
    {
     "name": "stderr",
     "output_type": "stream",
     "text": [
      "[I 2025-06-27 21:03:15,178] Trial 22 finished with value: 13.111285750926404 and parameters: {'max_depth': 18, 'learning_rate': 0.08281171009252188, 'n_estimators': 403, 'min_child_weight': 2, 'subsample': 0.9392201303610148, 'colsample_bytree': 0.6242933866914709, 'reg_alpha': 0.5331759570463934, 'reg_lambda': 0.5961138378710463}. Best is trial 17 with value: 12.4282187556986.\n"
     ]
    },
    {
     "name": "stdout",
     "output_type": "stream",
     "text": [
      "Training until validation scores don't improve for 30 rounds\n",
      "Early stopping, best iteration is:\n",
      "[156]\tvalid_0's l1: 18.2641\n",
      "Training until validation scores don't improve for 30 rounds\n",
      "Early stopping, best iteration is:\n",
      "[149]\tvalid_0's l1: 17.9791\n",
      "Training until validation scores don't improve for 30 rounds\n",
      "Early stopping, best iteration is:\n",
      "[150]\tvalid_0's l1: 18.56\n",
      "Training until validation scores don't improve for 30 rounds\n",
      "Early stopping, best iteration is:\n",
      "[281]\tvalid_0's l1: 12.9586\n",
      "Training until validation scores don't improve for 30 rounds\n",
      "Early stopping, best iteration is:\n",
      "[333]\tvalid_0's l1: 13.0621\n",
      "Training until validation scores don't improve for 30 rounds\n",
      "Early stopping, best iteration is:\n",
      "[347]\tvalid_0's l1: 12.8553\n",
      "Training until validation scores don't improve for 30 rounds\n",
      "Early stopping, best iteration is:\n",
      "[406]\tvalid_0's l1: 10.8247\n",
      "Training until validation scores don't improve for 30 rounds\n",
      "Early stopping, best iteration is:\n",
      "[381]\tvalid_0's l1: 10.5458\n",
      "Training until validation scores don't improve for 30 rounds\n",
      "Early stopping, best iteration is:\n",
      "[321]\tvalid_0's l1: 11.5116\n",
      "Training until validation scores don't improve for 30 rounds\n",
      "Early stopping, best iteration is:\n",
      "[300]\tvalid_0's l1: 10.1044\n",
      "Training until validation scores don't improve for 30 rounds\n",
      "Early stopping, best iteration is:\n",
      "[315]\tvalid_0's l1: 10.1426\n",
      "Training until validation scores don't improve for 30 rounds\n",
      "Early stopping, best iteration is:\n",
      "[406]\tvalid_0's l1: 10.1251\n",
      "Training until validation scores don't improve for 30 rounds\n",
      "Early stopping, best iteration is:\n",
      "[206]\tvalid_0's l1: 10.5166\n",
      "Training until validation scores don't improve for 30 rounds\n",
      "Early stopping, best iteration is:\n",
      "[223]\tvalid_0's l1: 11.1708\n",
      "Training until validation scores don't improve for 30 rounds\n",
      "Early stopping, best iteration is:\n",
      "[256]\tvalid_0's l1: 11.1576\n",
      "Training until validation scores don't improve for 30 rounds\n",
      "Did not meet early stopping. Best iteration is:\n",
      "[523]\tvalid_0's l1: 4.92747\n",
      "Training until validation scores don't improve for 30 rounds\n",
      "Did not meet early stopping. Best iteration is:\n",
      "[523]\tvalid_0's l1: 4.89536\n",
      "Training until validation scores don't improve for 30 rounds\n",
      "Did not meet early stopping. Best iteration is:\n",
      "[523]\tvalid_0's l1: 4.91346\n"
     ]
    },
    {
     "name": "stderr",
     "output_type": "stream",
     "text": [
      "[I 2025-06-27 21:08:36,604] Trial 23 finished with value: 12.651892333517633 and parameters: {'max_depth': 20, 'learning_rate': 0.031957450149104755, 'n_estimators': 523, 'min_child_weight': 1, 'subsample': 0.8602755002805238, 'colsample_bytree': 0.6819155781371196, 'reg_alpha': 0.5186913921006847, 'reg_lambda': 0.8032037063172592}. Best is trial 17 with value: 12.4282187556986.\n"
     ]
    },
    {
     "name": "stdout",
     "output_type": "stream",
     "text": [
      "Training until validation scores don't improve for 30 rounds\n",
      "Early stopping, best iteration is:\n",
      "[80]\tvalid_0's l1: 17.7231\n",
      "Training until validation scores don't improve for 30 rounds\n",
      "Early stopping, best iteration is:\n",
      "[79]\tvalid_0's l1: 18.6096\n",
      "Training until validation scores don't improve for 30 rounds\n",
      "Early stopping, best iteration is:\n",
      "[63]\tvalid_0's l1: 18.147\n",
      "Training until validation scores don't improve for 30 rounds\n",
      "Early stopping, best iteration is:\n",
      "[93]\tvalid_0's l1: 13.2391\n",
      "Training until validation scores don't improve for 30 rounds\n",
      "Early stopping, best iteration is:\n",
      "[149]\tvalid_0's l1: 13.4352\n",
      "Training until validation scores don't improve for 30 rounds\n",
      "Early stopping, best iteration is:\n",
      "[103]\tvalid_0's l1: 13.358\n",
      "Training until validation scores don't improve for 30 rounds\n",
      "Did not meet early stopping. Best iteration is:\n",
      "[289]\tvalid_0's l1: 11.2008\n",
      "Training until validation scores don't improve for 30 rounds\n",
      "Early stopping, best iteration is:\n",
      "[134]\tvalid_0's l1: 11.218\n",
      "Training until validation scores don't improve for 30 rounds\n",
      "Early stopping, best iteration is:\n",
      "[185]\tvalid_0's l1: 11.3573\n",
      "Training until validation scores don't improve for 30 rounds\n",
      "Early stopping, best iteration is:\n",
      "[94]\tvalid_0's l1: 11.3274\n",
      "Training until validation scores don't improve for 30 rounds\n",
      "Early stopping, best iteration is:\n",
      "[134]\tvalid_0's l1: 11.7205\n",
      "Training until validation scores don't improve for 30 rounds\n",
      "Early stopping, best iteration is:\n",
      "[119]\tvalid_0's l1: 11.6891\n",
      "Training until validation scores don't improve for 30 rounds\n",
      "Early stopping, best iteration is:\n",
      "[100]\tvalid_0's l1: 10.7987\n",
      "Training until validation scores don't improve for 30 rounds\n",
      "Early stopping, best iteration is:\n",
      "[103]\tvalid_0's l1: 11.0661\n",
      "Training until validation scores don't improve for 30 rounds\n",
      "Early stopping, best iteration is:\n",
      "[102]\tvalid_0's l1: 11.1808\n",
      "Training until validation scores don't improve for 30 rounds\n",
      "Did not meet early stopping. Best iteration is:\n",
      "[316]\tvalid_0's l1: 4.45687\n",
      "Training until validation scores don't improve for 30 rounds\n",
      "Did not meet early stopping. Best iteration is:\n",
      "[316]\tvalid_0's l1: 4.55719\n",
      "Training until validation scores don't improve for 30 rounds\n",
      "Did not meet early stopping. Best iteration is:\n",
      "[316]\tvalid_0's l1: 4.4016\n"
     ]
    },
    {
     "name": "stderr",
     "output_type": "stream",
     "text": [
      "[I 2025-06-27 21:12:13,827] Trial 24 finished with value: 13.071373148153162 and parameters: {'max_depth': 17, 'learning_rate': 0.06875933174452255, 'n_estimators': 316, 'min_child_weight': 2, 'subsample': 0.9566075118861417, 'colsample_bytree': 0.7571278580039853, 'reg_alpha': 0.6405301333656301, 'reg_lambda': 0.5549019581571372}. Best is trial 17 with value: 12.4282187556986.\n"
     ]
    },
    {
     "name": "stdout",
     "output_type": "stream",
     "text": [
      "Training until validation scores don't improve for 30 rounds\n",
      "Early stopping, best iteration is:\n",
      "[75]\tvalid_0's l1: 23.584\n",
      "Training until validation scores don't improve for 30 rounds\n",
      "Early stopping, best iteration is:\n",
      "[47]\tvalid_0's l1: 22.062\n",
      "Training until validation scores don't improve for 30 rounds\n",
      "Early stopping, best iteration is:\n",
      "[54]\tvalid_0's l1: 20.9403\n",
      "Training until validation scores don't improve for 30 rounds\n",
      "Early stopping, best iteration is:\n",
      "[53]\tvalid_0's l1: 14.1169\n",
      "Training until validation scores don't improve for 30 rounds\n",
      "Early stopping, best iteration is:\n",
      "[58]\tvalid_0's l1: 14.2161\n",
      "Training until validation scores don't improve for 30 rounds\n",
      "Early stopping, best iteration is:\n",
      "[62]\tvalid_0's l1: 13.6547\n",
      "Training until validation scores don't improve for 30 rounds\n",
      "Did not meet early stopping. Best iteration is:\n",
      "[164]\tvalid_0's l1: 11.2863\n",
      "Training until validation scores don't improve for 30 rounds\n",
      "Did not meet early stopping. Best iteration is:\n",
      "[188]\tvalid_0's l1: 11.6242\n",
      "Training until validation scores don't improve for 30 rounds\n",
      "Did not meet early stopping. Best iteration is:\n",
      "[159]\tvalid_0's l1: 11.9234\n",
      "Training until validation scores don't improve for 30 rounds\n",
      "Early stopping, best iteration is:\n",
      "[59]\tvalid_0's l1: 12.2464\n",
      "Training until validation scores don't improve for 30 rounds\n",
      "Early stopping, best iteration is:\n",
      "[72]\tvalid_0's l1: 12.3012\n",
      "Training until validation scores don't improve for 30 rounds\n",
      "Early stopping, best iteration is:\n",
      "[90]\tvalid_0's l1: 12.8809\n",
      "Training until validation scores don't improve for 30 rounds\n",
      "Early stopping, best iteration is:\n",
      "[75]\tvalid_0's l1: 11.5181\n",
      "Training until validation scores don't improve for 30 rounds\n",
      "Early stopping, best iteration is:\n",
      "[80]\tvalid_0's l1: 11.0279\n",
      "Training until validation scores don't improve for 30 rounds\n",
      "Early stopping, best iteration is:\n",
      "[75]\tvalid_0's l1: 11.6835\n",
      "Training until validation scores don't improve for 30 rounds\n",
      "Did not meet early stopping. Best iteration is:\n",
      "[188]\tvalid_0's l1: 5.20439\n",
      "Training until validation scores don't improve for 30 rounds\n",
      "Did not meet early stopping. Best iteration is:\n",
      "[188]\tvalid_0's l1: 5.31274\n",
      "Training until validation scores don't improve for 30 rounds\n"
     ]
    },
    {
     "name": "stderr",
     "output_type": "stream",
     "text": [
      "[I 2025-06-27 21:14:34,172] Trial 25 finished with value: 14.337718673113073 and parameters: {'max_depth': 15, 'learning_rate': 0.09311240307380889, 'n_estimators': 188, 'min_child_weight': 4, 'subsample': 0.9289565535185018, 'colsample_bytree': 0.7329937220657116, 'reg_alpha': 0.6925272425108354, 'reg_lambda': 0.8893706494343059}. Best is trial 17 with value: 12.4282187556986.\n"
     ]
    },
    {
     "name": "stdout",
     "output_type": "stream",
     "text": [
      "Did not meet early stopping. Best iteration is:\n",
      "[188]\tvalid_0's l1: 5.30298\n",
      "Training until validation scores don't improve for 30 rounds\n",
      "Early stopping, best iteration is:\n",
      "[327]\tvalid_0's l1: 17.8846\n",
      "Training until validation scores don't improve for 30 rounds\n",
      "Early stopping, best iteration is:\n",
      "[322]\tvalid_0's l1: 18.2467\n",
      "Training until validation scores don't improve for 30 rounds\n",
      "Early stopping, best iteration is:\n",
      "[326]\tvalid_0's l1: 17.7702\n",
      "Training until validation scores don't improve for 30 rounds\n",
      "Did not meet early stopping. Best iteration is:\n",
      "[379]\tvalid_0's l1: 13.6067\n",
      "Training until validation scores don't improve for 30 rounds\n",
      "Did not meet early stopping. Best iteration is:\n",
      "[379]\tvalid_0's l1: 13.4969\n",
      "Training until validation scores don't improve for 30 rounds\n",
      "Did not meet early stopping. Best iteration is:\n",
      "[379]\tvalid_0's l1: 13.3715\n",
      "Training until validation scores don't improve for 30 rounds\n",
      "Did not meet early stopping. Best iteration is:\n",
      "[377]\tvalid_0's l1: 11.4089\n",
      "Training until validation scores don't improve for 30 rounds\n",
      "Did not meet early stopping. Best iteration is:\n",
      "[379]\tvalid_0's l1: 11.4402\n",
      "Training until validation scores don't improve for 30 rounds\n",
      "Did not meet early stopping. Best iteration is:\n",
      "[376]\tvalid_0's l1: 11.4652\n",
      "Training until validation scores don't improve for 30 rounds\n",
      "Did not meet early stopping. Best iteration is:\n",
      "[379]\tvalid_0's l1: 10.5581\n",
      "Training until validation scores don't improve for 30 rounds\n",
      "Did not meet early stopping. Best iteration is:\n",
      "[379]\tvalid_0's l1: 10.3607\n",
      "Training until validation scores don't improve for 30 rounds\n",
      "Did not meet early stopping. Best iteration is:\n",
      "[379]\tvalid_0's l1: 10.5552\n",
      "Training until validation scores don't improve for 30 rounds\n",
      "Did not meet early stopping. Best iteration is:\n",
      "[379]\tvalid_0's l1: 11.0448\n",
      "Training until validation scores don't improve for 30 rounds\n",
      "Did not meet early stopping. Best iteration is:\n",
      "[378]\tvalid_0's l1: 10.883\n",
      "Training until validation scores don't improve for 30 rounds\n",
      "Did not meet early stopping. Best iteration is:\n",
      "[372]\tvalid_0's l1: 11.2021\n",
      "Training until validation scores don't improve for 30 rounds\n",
      "Did not meet early stopping. Best iteration is:\n",
      "[379]\tvalid_0's l1: 7.71528\n",
      "Training until validation scores don't improve for 30 rounds\n",
      "Did not meet early stopping. Best iteration is:\n",
      "[379]\tvalid_0's l1: 7.63707\n",
      "Training until validation scores don't improve for 30 rounds\n",
      "Did not meet early stopping. Best iteration is:\n",
      "[379]\tvalid_0's l1: 7.64438\n"
     ]
    },
    {
     "name": "stderr",
     "output_type": "stream",
     "text": [
      "[I 2025-06-27 21:19:09,462] Trial 26 finished with value: 12.886311946793153 and parameters: {'max_depth': 19, 'learning_rate': 0.015464615939902563, 'n_estimators': 379, 'min_child_weight': 1, 'subsample': 0.9826713962884603, 'colsample_bytree': 0.5938780931591925, 'reg_alpha': 0.8415517644519968, 'reg_lambda': 0.7792204349727323}. Best is trial 17 with value: 12.4282187556986.\n"
     ]
    },
    {
     "name": "stdout",
     "output_type": "stream",
     "text": [
      "Training until validation scores don't improve for 30 rounds\n",
      "Early stopping, best iteration is:\n",
      "[130]\tvalid_0's l1: 21.5688\n",
      "Training until validation scores don't improve for 30 rounds\n",
      "Early stopping, best iteration is:\n",
      "[129]\tvalid_0's l1: 21.9487\n",
      "Training until validation scores don't improve for 30 rounds\n",
      "Early stopping, best iteration is:\n",
      "[174]\tvalid_0's l1: 22.0277\n",
      "Training until validation scores don't improve for 30 rounds\n",
      "Early stopping, best iteration is:\n",
      "[182]\tvalid_0's l1: 13.5446\n",
      "Training until validation scores don't improve for 30 rounds\n",
      "Early stopping, best iteration is:\n",
      "[186]\tvalid_0's l1: 13.64\n",
      "Training until validation scores don't improve for 30 rounds\n",
      "Early stopping, best iteration is:\n",
      "[203]\tvalid_0's l1: 13.7178\n",
      "Training until validation scores don't improve for 30 rounds\n",
      "Early stopping, best iteration is:\n",
      "[414]\tvalid_0's l1: 11.4456\n",
      "Training until validation scores don't improve for 30 rounds\n",
      "Early stopping, best iteration is:\n",
      "[284]\tvalid_0's l1: 11.4648\n",
      "Training until validation scores don't improve for 30 rounds\n",
      "Did not meet early stopping. Best iteration is:\n",
      "[462]\tvalid_0's l1: 10.9512\n",
      "Training until validation scores don't improve for 30 rounds\n",
      "Early stopping, best iteration is:\n",
      "[237]\tvalid_0's l1: 11.6723\n",
      "Training until validation scores don't improve for 30 rounds\n",
      "Early stopping, best iteration is:\n",
      "[217]\tvalid_0's l1: 11.8326\n",
      "Training until validation scores don't improve for 30 rounds\n",
      "Early stopping, best iteration is:\n",
      "[253]\tvalid_0's l1: 11.6263\n",
      "Training until validation scores don't improve for 30 rounds\n",
      "Early stopping, best iteration is:\n",
      "[219]\tvalid_0's l1: 10.975\n",
      "Training until validation scores don't improve for 30 rounds\n",
      "Early stopping, best iteration is:\n",
      "[237]\tvalid_0's l1: 11.0442\n",
      "Training until validation scores don't improve for 30 rounds\n",
      "Early stopping, best iteration is:\n",
      "[266]\tvalid_0's l1: 11.256\n",
      "Training until validation scores don't improve for 30 rounds\n",
      "Did not meet early stopping. Best iteration is:\n",
      "[463]\tvalid_0's l1: 5.60312\n",
      "Training until validation scores don't improve for 30 rounds\n",
      "Did not meet early stopping. Best iteration is:\n",
      "[463]\tvalid_0's l1: 5.52107\n",
      "Training until validation scores don't improve for 30 rounds\n",
      "Did not meet early stopping. Best iteration is:\n",
      "[463]\tvalid_0's l1: 5.56236\n"
     ]
    },
    {
     "name": "stderr",
     "output_type": "stream",
     "text": [
      "[I 2025-06-27 21:22:56,391] Trial 27 finished with value: 13.914372473319839 and parameters: {'max_depth': 17, 'learning_rate': 0.03121275671545524, 'n_estimators': 463, 'min_child_weight': 4, 'subsample': 0.9145942595193253, 'colsample_bytree': 0.6463567920534524, 'reg_alpha': 0.2481679312849709, 'reg_lambda': 0.9940240912670544}. Best is trial 17 with value: 12.4282187556986.\n"
     ]
    },
    {
     "name": "stdout",
     "output_type": "stream",
     "text": [
      "Training until validation scores don't improve for 30 rounds\n",
      "Early stopping, best iteration is:\n",
      "[184]\tvalid_0's l1: 19.2659\n",
      "Training until validation scores don't improve for 30 rounds\n",
      "Early stopping, best iteration is:\n",
      "[165]\tvalid_0's l1: 20.5372\n",
      "Training until validation scores don't improve for 30 rounds\n",
      "Early stopping, best iteration is:\n",
      "[259]\tvalid_0's l1: 18.9421\n",
      "Training until validation scores don't improve for 30 rounds\n",
      "Early stopping, best iteration is:\n",
      "[259]\tvalid_0's l1: 13.2474\n",
      "Training until validation scores don't improve for 30 rounds\n",
      "Early stopping, best iteration is:\n",
      "[291]\tvalid_0's l1: 13.1388\n",
      "Training until validation scores don't improve for 30 rounds\n",
      "Early stopping, best iteration is:\n",
      "[308]\tvalid_0's l1: 13.0494\n",
      "Training until validation scores don't improve for 30 rounds\n",
      "Early stopping, best iteration is:\n",
      "[303]\tvalid_0's l1: 11.284\n",
      "Training until validation scores don't improve for 30 rounds\n",
      "Did not meet early stopping. Best iteration is:\n",
      "[568]\tvalid_0's l1: 10.7729\n",
      "Training until validation scores don't improve for 30 rounds\n",
      "Early stopping, best iteration is:\n",
      "[360]\tvalid_0's l1: 11.166\n",
      "Training until validation scores don't improve for 30 rounds\n",
      "Early stopping, best iteration is:\n",
      "[272]\tvalid_0's l1: 11.9679\n",
      "Training until validation scores don't improve for 30 rounds\n",
      "Early stopping, best iteration is:\n",
      "[400]\tvalid_0's l1: 11.0909\n",
      "Training until validation scores don't improve for 30 rounds\n",
      "Early stopping, best iteration is:\n",
      "[464]\tvalid_0's l1: 12.0458\n",
      "Training until validation scores don't improve for 30 rounds\n",
      "Early stopping, best iteration is:\n",
      "[309]\tvalid_0's l1: 10.8731\n",
      "Training until validation scores don't improve for 30 rounds\n",
      "Early stopping, best iteration is:\n",
      "[334]\tvalid_0's l1: 11.0307\n",
      "Training until validation scores don't improve for 30 rounds\n",
      "Early stopping, best iteration is:\n",
      "[327]\tvalid_0's l1: 10.766\n",
      "Training until validation scores don't improve for 30 rounds\n",
      "Did not meet early stopping. Best iteration is:\n",
      "[574]\tvalid_0's l1: 5.47781\n",
      "Training until validation scores don't improve for 30 rounds\n",
      "Did not meet early stopping. Best iteration is:\n",
      "[574]\tvalid_0's l1: 5.42043\n",
      "Training until validation scores don't improve for 30 rounds\n",
      "Did not meet early stopping. Best iteration is:\n",
      "[574]\tvalid_0's l1: 5.42318\n"
     ]
    },
    {
     "name": "stderr",
     "output_type": "stream",
     "text": [
      "[I 2025-06-27 21:27:46,845] Trial 28 finished with value: 13.278543485820737 and parameters: {'max_depth': 19, 'learning_rate': 0.02455921915462766, 'n_estimators': 574, 'min_child_weight': 2, 'subsample': 0.8452065984407452, 'colsample_bytree': 0.6966098450048857, 'reg_alpha': 0.5306556833646568, 'reg_lambda': 0.836178693342983}. Best is trial 17 with value: 12.4282187556986.\n"
     ]
    },
    {
     "name": "stdout",
     "output_type": "stream",
     "text": [
      "Training until validation scores don't improve for 30 rounds\n",
      "Early stopping, best iteration is:\n",
      "[256]\tvalid_0's l1: 26.3607\n",
      "Training until validation scores don't improve for 30 rounds\n",
      "Early stopping, best iteration is:\n",
      "[274]\tvalid_0's l1: 26.7452\n",
      "Training until validation scores don't improve for 30 rounds\n",
      "Early stopping, best iteration is:\n",
      "[312]\tvalid_0's l1: 25.6579\n",
      "Training until validation scores don't improve for 30 rounds\n",
      "Early stopping, best iteration is:\n",
      "[401]\tvalid_0's l1: 14.1103\n",
      "Training until validation scores don't improve for 30 rounds\n",
      "Early stopping, best iteration is:\n",
      "[478]\tvalid_0's l1: 13.9726\n",
      "Training until validation scores don't improve for 30 rounds\n",
      "Early stopping, best iteration is:\n",
      "[393]\tvalid_0's l1: 13.7914\n",
      "Training until validation scores don't improve for 30 rounds\n",
      "Early stopping, best iteration is:\n",
      "[509]\tvalid_0's l1: 13.0268\n",
      "Training until validation scores don't improve for 30 rounds\n",
      "Did not meet early stopping. Best iteration is:\n",
      "[715]\tvalid_0's l1: 12.484\n",
      "Training until validation scores don't improve for 30 rounds\n",
      "Early stopping, best iteration is:\n",
      "[494]\tvalid_0's l1: 12.5052\n",
      "Training until validation scores don't improve for 30 rounds\n",
      "Early stopping, best iteration is:\n",
      "[269]\tvalid_0's l1: 14.2167\n",
      "Training until validation scores don't improve for 30 rounds\n",
      "Early stopping, best iteration is:\n",
      "[301]\tvalid_0's l1: 15.4779\n",
      "Training until validation scores don't improve for 30 rounds\n",
      "Early stopping, best iteration is:\n",
      "[296]\tvalid_0's l1: 15.4207\n",
      "Training until validation scores don't improve for 30 rounds\n",
      "Early stopping, best iteration is:\n",
      "[603]\tvalid_0's l1: 11.1561\n",
      "Training until validation scores don't improve for 30 rounds\n",
      "Early stopping, best iteration is:\n",
      "[665]\tvalid_0's l1: 10.8636\n",
      "Training until validation scores don't improve for 30 rounds\n",
      "Early stopping, best iteration is:\n",
      "[675]\tvalid_0's l1: 10.9608\n",
      "Training until validation scores don't improve for 30 rounds\n",
      "Did not meet early stopping. Best iteration is:\n",
      "[715]\tvalid_0's l1: 7.44673\n",
      "Training until validation scores don't improve for 30 rounds\n",
      "Did not meet early stopping. Best iteration is:\n",
      "[715]\tvalid_0's l1: 7.43378\n",
      "Training until validation scores don't improve for 30 rounds\n",
      "Did not meet early stopping. Best iteration is:\n",
      "[715]\tvalid_0's l1: 7.45663\n"
     ]
    },
    {
     "name": "stderr",
     "output_type": "stream",
     "text": [
      "[I 2025-06-27 21:31:58,800] Trial 29 finished with value: 15.783323597590273 and parameters: {'max_depth': 10, 'learning_rate': 0.013809645621212091, 'n_estimators': 715, 'min_child_weight': 6, 'subsample': 0.7500949942496842, 'colsample_bytree': 0.5022492844318391, 'reg_alpha': 0.35838882953787676, 'reg_lambda': 0.6099497732951082}. Best is trial 17 with value: 12.4282187556986.\n"
     ]
    },
    {
     "name": "stdout",
     "output_type": "stream",
     "text": [
      "Training until validation scores don't improve for 30 rounds\n",
      "Early stopping, best iteration is:\n",
      "[131]\tvalid_0's l1: 19.7793\n",
      "Training until validation scores don't improve for 30 rounds\n",
      "Early stopping, best iteration is:\n",
      "[96]\tvalid_0's l1: 20.419\n",
      "Training until validation scores don't improve for 30 rounds\n",
      "Early stopping, best iteration is:\n",
      "[96]\tvalid_0's l1: 19.5877\n",
      "Training until validation scores don't improve for 30 rounds\n",
      "Early stopping, best iteration is:\n",
      "[159]\tvalid_0's l1: 13.2257\n",
      "Training until validation scores don't improve for 30 rounds\n",
      "Early stopping, best iteration is:\n",
      "[162]\tvalid_0's l1: 13.5548\n",
      "Training until validation scores don't improve for 30 rounds\n",
      "Early stopping, best iteration is:\n",
      "[146]\tvalid_0's l1: 13.4339\n",
      "Training until validation scores don't improve for 30 rounds\n",
      "Early stopping, best iteration is:\n",
      "[263]\tvalid_0's l1: 11.1031\n",
      "Training until validation scores don't improve for 30 rounds\n",
      "Early stopping, best iteration is:\n",
      "[241]\tvalid_0's l1: 10.9335\n",
      "Training until validation scores don't improve for 30 rounds\n",
      "Early stopping, best iteration is:\n",
      "[265]\tvalid_0's l1: 11.2878\n",
      "Training until validation scores don't improve for 30 rounds\n",
      "Did not meet early stopping. Best iteration is:\n",
      "[299]\tvalid_0's l1: 11.4115\n",
      "Training until validation scores don't improve for 30 rounds\n",
      "Early stopping, best iteration is:\n",
      "[275]\tvalid_0's l1: 11.4856\n",
      "Training until validation scores don't improve for 30 rounds\n",
      "Early stopping, best iteration is:\n",
      "[153]\tvalid_0's l1: 11.7653\n",
      "Training until validation scores don't improve for 30 rounds\n",
      "Early stopping, best iteration is:\n",
      "[186]\tvalid_0's l1: 11.08\n",
      "Training until validation scores don't improve for 30 rounds\n",
      "Early stopping, best iteration is:\n",
      "[176]\tvalid_0's l1: 10.776\n",
      "Training until validation scores don't improve for 30 rounds\n",
      "Early stopping, best iteration is:\n",
      "[175]\tvalid_0's l1: 10.6252\n",
      "Training until validation scores don't improve for 30 rounds\n",
      "Did not meet early stopping. Best iteration is:\n",
      "[313]\tvalid_0's l1: 5.60329\n",
      "Training until validation scores don't improve for 30 rounds\n",
      "Did not meet early stopping. Best iteration is:\n",
      "[313]\tvalid_0's l1: 5.61324\n",
      "Training until validation scores don't improve for 30 rounds\n"
     ]
    },
    {
     "name": "stderr",
     "output_type": "stream",
     "text": [
      "[I 2025-06-27 21:34:45,526] Trial 30 finished with value: 13.36455569798532 and parameters: {'max_depth': 14, 'learning_rate': 0.0423759426127223, 'n_estimators': 313, 'min_child_weight': 3, 'subsample': 0.9654486656481912, 'colsample_bytree': 0.5802199061933745, 'reg_alpha': 0.042745180079641565, 'reg_lambda': 0.8985871404343979}. Best is trial 17 with value: 12.4282187556986.\n"
     ]
    },
    {
     "name": "stdout",
     "output_type": "stream",
     "text": [
      "Did not meet early stopping. Best iteration is:\n",
      "[313]\tvalid_0's l1: 5.46574\n",
      "Training until validation scores don't improve for 30 rounds\n",
      "Early stopping, best iteration is:\n",
      "[133]\tvalid_0's l1: 18.009\n",
      "Training until validation scores don't improve for 30 rounds\n",
      "Early stopping, best iteration is:\n",
      "[149]\tvalid_0's l1: 18.5605\n",
      "Training until validation scores don't improve for 30 rounds\n",
      "Early stopping, best iteration is:\n",
      "[109]\tvalid_0's l1: 18.8095\n",
      "Training until validation scores don't improve for 30 rounds\n",
      "Early stopping, best iteration is:\n",
      "[192]\tvalid_0's l1: 13.2152\n",
      "Training until validation scores don't improve for 30 rounds\n",
      "Early stopping, best iteration is:\n",
      "[379]\tvalid_0's l1: 12.9054\n",
      "Training until validation scores don't improve for 30 rounds\n",
      "Early stopping, best iteration is:\n",
      "[340]\tvalid_0's l1: 12.9644\n",
      "Training until validation scores don't improve for 30 rounds\n",
      "Early stopping, best iteration is:\n",
      "[318]\tvalid_0's l1: 10.9373\n",
      "Training until validation scores don't improve for 30 rounds\n",
      "Early stopping, best iteration is:\n",
      "[355]\tvalid_0's l1: 11.084\n",
      "Training until validation scores don't improve for 30 rounds\n",
      "Early stopping, best iteration is:\n",
      "[313]\tvalid_0's l1: 10.5505\n",
      "Training until validation scores don't improve for 30 rounds\n",
      "Early stopping, best iteration is:\n",
      "[190]\tvalid_0's l1: 10.3211\n",
      "Training until validation scores don't improve for 30 rounds\n",
      "Early stopping, best iteration is:\n",
      "[233]\tvalid_0's l1: 10.2322\n",
      "Training until validation scores don't improve for 30 rounds\n",
      "Early stopping, best iteration is:\n",
      "[246]\tvalid_0's l1: 10.1752\n",
      "Training until validation scores don't improve for 30 rounds\n",
      "Early stopping, best iteration is:\n",
      "[204]\tvalid_0's l1: 10.9915\n",
      "Training until validation scores don't improve for 30 rounds\n",
      "Early stopping, best iteration is:\n",
      "[192]\tvalid_0's l1: 10.8553\n",
      "Training until validation scores don't improve for 30 rounds\n",
      "Early stopping, best iteration is:\n",
      "[192]\tvalid_0's l1: 11.1688\n",
      "Training until validation scores don't improve for 30 rounds\n",
      "Did not meet early stopping. Best iteration is:\n",
      "[530]\tvalid_0's l1: 4.56122\n",
      "Training until validation scores don't improve for 30 rounds\n",
      "Did not meet early stopping. Best iteration is:\n",
      "[530]\tvalid_0's l1: 4.52907\n",
      "Training until validation scores don't improve for 30 rounds\n",
      "Did not meet early stopping. Best iteration is:\n",
      "[530]\tvalid_0's l1: 4.50214\n"
     ]
    },
    {
     "name": "stderr",
     "output_type": "stream",
     "text": [
      "[I 2025-06-27 21:38:40,224] Trial 31 finished with value: 12.71864990883064 and parameters: {'max_depth': 20, 'learning_rate': 0.03830932476259781, 'n_estimators': 530, 'min_child_weight': 1, 'subsample': 0.8412630821036882, 'colsample_bytree': 0.693925814685701, 'reg_alpha': 0.4142858555677579, 'reg_lambda': 0.7273677194827682}. Best is trial 17 with value: 12.4282187556986.\n"
     ]
    },
    {
     "name": "stdout",
     "output_type": "stream",
     "text": [
      "Training until validation scores don't improve for 30 rounds\n",
      "Early stopping, best iteration is:\n",
      "[67]\tvalid_0's l1: 19.0372\n",
      "Training until validation scores don't improve for 30 rounds\n",
      "Early stopping, best iteration is:\n",
      "[58]\tvalid_0's l1: 18.7588\n",
      "Training until validation scores don't improve for 30 rounds\n",
      "Early stopping, best iteration is:\n",
      "[78]\tvalid_0's l1: 18.4702\n",
      "Training until validation scores don't improve for 30 rounds\n",
      "Early stopping, best iteration is:\n",
      "[174]\tvalid_0's l1: 12.8595\n",
      "Training until validation scores don't improve for 30 rounds\n",
      "Early stopping, best iteration is:\n",
      "[153]\tvalid_0's l1: 13.1421\n",
      "Training until validation scores don't improve for 30 rounds\n",
      "Early stopping, best iteration is:\n",
      "[198]\tvalid_0's l1: 12.9939\n",
      "Training until validation scores don't improve for 30 rounds\n",
      "Early stopping, best iteration is:\n",
      "[224]\tvalid_0's l1: 10.5947\n",
      "Training until validation scores don't improve for 30 rounds\n",
      "Early stopping, best iteration is:\n",
      "[385]\tvalid_0's l1: 10.4953\n",
      "Training until validation scores don't improve for 30 rounds\n",
      "Early stopping, best iteration is:\n",
      "[166]\tvalid_0's l1: 10.9069\n",
      "Training until validation scores don't improve for 30 rounds\n",
      "Early stopping, best iteration is:\n",
      "[103]\tvalid_0's l1: 10.5129\n",
      "Training until validation scores don't improve for 30 rounds\n",
      "Early stopping, best iteration is:\n",
      "[112]\tvalid_0's l1: 10.4587\n",
      "Training until validation scores don't improve for 30 rounds\n",
      "Early stopping, best iteration is:\n",
      "[100]\tvalid_0's l1: 10.493\n",
      "Training until validation scores don't improve for 30 rounds\n",
      "Early stopping, best iteration is:\n",
      "[111]\tvalid_0's l1: 11.2489\n",
      "Training until validation scores don't improve for 30 rounds\n",
      "Early stopping, best iteration is:\n",
      "[94]\tvalid_0's l1: 10.5305\n",
      "Training until validation scores don't improve for 30 rounds\n",
      "Early stopping, best iteration is:\n",
      "[114]\tvalid_0's l1: 10.6975\n",
      "Training until validation scores don't improve for 30 rounds\n",
      "Did not meet early stopping. Best iteration is:\n",
      "[856]\tvalid_0's l1: 2.52315\n",
      "Training until validation scores don't improve for 30 rounds\n",
      "Did not meet early stopping. Best iteration is:\n",
      "[856]\tvalid_0's l1: 2.41119\n",
      "Training until validation scores don't improve for 30 rounds\n",
      "Did not meet early stopping. Best iteration is:\n",
      "[856]\tvalid_0's l1: 2.39134\n"
     ]
    },
    {
     "name": "stderr",
     "output_type": "stream",
     "text": [
      "[I 2025-06-27 21:42:53,851] Trial 32 finished with value: 12.746675939883083 and parameters: {'max_depth': 20, 'learning_rate': 0.07251388708297225, 'n_estimators': 856, 'min_child_weight': 1, 'subsample': 0.902885117869504, 'colsample_bytree': 0.6241911695849744, 'reg_alpha': 0.4472639544515543, 'reg_lambda': 0.44452451558992595}. Best is trial 17 with value: 12.4282187556986.\n"
     ]
    },
    {
     "name": "stdout",
     "output_type": "stream",
     "text": [
      "Training until validation scores don't improve for 30 rounds\n",
      "Early stopping, best iteration is:\n",
      "[40]\tvalid_0's l1: 18.3417\n",
      "Training until validation scores don't improve for 30 rounds\n",
      "Early stopping, best iteration is:\n",
      "[44]\tvalid_0's l1: 17.5307\n",
      "Training until validation scores don't improve for 30 rounds\n",
      "Early stopping, best iteration is:\n",
      "[41]\tvalid_0's l1: 18.0432\n",
      "Training until validation scores don't improve for 30 rounds\n",
      "Early stopping, best iteration is:\n",
      "[81]\tvalid_0's l1: 13.7761\n",
      "Training until validation scores don't improve for 30 rounds\n",
      "Early stopping, best iteration is:\n",
      "[66]\tvalid_0's l1: 13.1358\n",
      "Training until validation scores don't improve for 30 rounds\n",
      "Early stopping, best iteration is:\n",
      "[60]\tvalid_0's l1: 13.3404\n",
      "Training until validation scores don't improve for 30 rounds\n",
      "Early stopping, best iteration is:\n",
      "[111]\tvalid_0's l1: 11.4773\n",
      "Training until validation scores don't improve for 30 rounds\n",
      "Early stopping, best iteration is:\n",
      "[132]\tvalid_0's l1: 11.0729\n",
      "Training until validation scores don't improve for 30 rounds\n",
      "Early stopping, best iteration is:\n",
      "[116]\tvalid_0's l1: 11.9098\n",
      "Training until validation scores don't improve for 30 rounds\n",
      "Early stopping, best iteration is:\n",
      "[86]\tvalid_0's l1: 11.762\n",
      "Training until validation scores don't improve for 30 rounds\n",
      "Early stopping, best iteration is:\n",
      "[70]\tvalid_0's l1: 11.7712\n",
      "Training until validation scores don't improve for 30 rounds\n",
      "Early stopping, best iteration is:\n",
      "[100]\tvalid_0's l1: 11.8706\n",
      "Training until validation scores don't improve for 30 rounds\n",
      "Early stopping, best iteration is:\n",
      "[57]\tvalid_0's l1: 11.0162\n",
      "Training until validation scores don't improve for 30 rounds\n",
      "Early stopping, best iteration is:\n",
      "[86]\tvalid_0's l1: 10.8209\n",
      "Training until validation scores don't improve for 30 rounds\n",
      "Early stopping, best iteration is:\n",
      "[70]\tvalid_0's l1: 11.696\n",
      "Training until validation scores don't improve for 30 rounds\n",
      "Did not meet early stopping. Best iteration is:\n",
      "[658]\tvalid_0's l1: 2.224\n",
      "Training until validation scores don't improve for 30 rounds\n",
      "Did not meet early stopping. Best iteration is:\n",
      "[658]\tvalid_0's l1: 2.22849\n",
      "Training until validation scores don't improve for 30 rounds\n",
      "Did not meet early stopping. Best iteration is:\n",
      "[658]\tvalid_0's l1: 2.24588\n"
     ]
    },
    {
     "name": "stderr",
     "output_type": "stream",
     "text": [
      "[I 2025-06-27 21:46:14,294] Trial 33 finished with value: 13.170986585109754 and parameters: {'max_depth': 18, 'learning_rate': 0.11446214681973368, 'n_estimators': 658, 'min_child_weight': 2, 'subsample': 0.9383816726716192, 'colsample_bytree': 0.7482184559028706, 'reg_alpha': 0.3710705775673934, 'reg_lambda': 0.6606134769385174}. Best is trial 17 with value: 12.4282187556986.\n"
     ]
    },
    {
     "name": "stdout",
     "output_type": "stream",
     "text": [
      "Training until validation scores don't improve for 30 rounds\n",
      "Early stopping, best iteration is:\n",
      "[90]\tvalid_0's l1: 16.9871\n",
      "Training until validation scores don't improve for 30 rounds\n",
      "Early stopping, best iteration is:\n",
      "[110]\tvalid_0's l1: 19.5808\n",
      "Training until validation scores don't improve for 30 rounds\n",
      "Early stopping, best iteration is:\n",
      "[93]\tvalid_0's l1: 18.9967\n",
      "Training until validation scores don't improve for 30 rounds\n",
      "Early stopping, best iteration is:\n",
      "[241]\tvalid_0's l1: 12.9748\n",
      "Training until validation scores don't improve for 30 rounds\n",
      "Early stopping, best iteration is:\n",
      "[210]\tvalid_0's l1: 13.0787\n",
      "Training until validation scores don't improve for 30 rounds\n",
      "Early stopping, best iteration is:\n",
      "[292]\tvalid_0's l1: 12.9125\n",
      "Training until validation scores don't improve for 30 rounds\n",
      "Early stopping, best iteration is:\n",
      "[272]\tvalid_0's l1: 11.5878\n",
      "Training until validation scores don't improve for 30 rounds\n",
      "Early stopping, best iteration is:\n",
      "[294]\tvalid_0's l1: 10.3535\n",
      "Training until validation scores don't improve for 30 rounds\n",
      "Early stopping, best iteration is:\n",
      "[182]\tvalid_0's l1: 11.1477\n",
      "Training until validation scores don't improve for 30 rounds\n",
      "Early stopping, best iteration is:\n",
      "[202]\tvalid_0's l1: 10.5143\n",
      "Training until validation scores don't improve for 30 rounds\n",
      "Early stopping, best iteration is:\n",
      "[315]\tvalid_0's l1: 9.97198\n",
      "Training until validation scores don't improve for 30 rounds\n",
      "Early stopping, best iteration is:\n",
      "[150]\tvalid_0's l1: 10.4022\n",
      "Training until validation scores don't improve for 30 rounds\n",
      "Early stopping, best iteration is:\n",
      "[147]\tvalid_0's l1: 10.7474\n",
      "Training until validation scores don't improve for 30 rounds\n",
      "Early stopping, best iteration is:\n",
      "[140]\tvalid_0's l1: 10.7484\n",
      "Training until validation scores don't improve for 30 rounds\n",
      "Early stopping, best iteration is:\n",
      "[143]\tvalid_0's l1: 10.6124\n",
      "Training until validation scores don't improve for 30 rounds\n",
      "Did not meet early stopping. Best iteration is:\n",
      "[486]\tvalid_0's l1: 3.95491\n",
      "Training until validation scores don't improve for 30 rounds\n",
      "Did not meet early stopping. Best iteration is:\n",
      "[486]\tvalid_0's l1: 4.06521\n",
      "Training until validation scores don't improve for 30 rounds\n"
     ]
    },
    {
     "name": "stderr",
     "output_type": "stream",
     "text": [
      "[I 2025-06-27 21:49:39,569] Trial 34 finished with value: 12.70774556317735 and parameters: {'max_depth': 19, 'learning_rate': 0.05287547206696657, 'n_estimators': 486, 'min_child_weight': 1, 'subsample': 0.830417745303583, 'colsample_bytree': 0.6790552417943139, 'reg_alpha': 0.12231542722209099, 'reg_lambda': 0.7583300585046758}. Best is trial 17 with value: 12.4282187556986.\n"
     ]
    },
    {
     "name": "stdout",
     "output_type": "stream",
     "text": [
      "Did not meet early stopping. Best iteration is:\n",
      "[486]\tvalid_0's l1: 4.08469\n",
      "Training until validation scores don't improve for 30 rounds\n",
      "Early stopping, best iteration is:\n",
      "[204]\tvalid_0's l1: 19.2396\n",
      "Training until validation scores don't improve for 30 rounds\n",
      "Early stopping, best iteration is:\n",
      "[185]\tvalid_0's l1: 20.4329\n",
      "Training until validation scores don't improve for 30 rounds\n",
      "Early stopping, best iteration is:\n",
      "[191]\tvalid_0's l1: 20.0569\n",
      "Training until validation scores don't improve for 30 rounds\n",
      "Did not meet early stopping. Best iteration is:\n",
      "[246]\tvalid_0's l1: 13.3242\n",
      "Training until validation scores don't improve for 30 rounds\n",
      "Early stopping, best iteration is:\n",
      "[228]\tvalid_0's l1: 13.3216\n",
      "Training until validation scores don't improve for 30 rounds\n",
      "Did not meet early stopping. Best iteration is:\n",
      "[263]\tvalid_0's l1: 13.3754\n",
      "Training until validation scores don't improve for 30 rounds\n",
      "Did not meet early stopping. Best iteration is:\n",
      "[272]\tvalid_0's l1: 11.6143\n",
      "Training until validation scores don't improve for 30 rounds\n",
      "Did not meet early stopping. Best iteration is:\n",
      "[273]\tvalid_0's l1: 11.5401\n",
      "Training until validation scores don't improve for 30 rounds\n",
      "Did not meet early stopping. Best iteration is:\n",
      "[273]\tvalid_0's l1: 11.2821\n",
      "Training until validation scores don't improve for 30 rounds\n",
      "Did not meet early stopping. Best iteration is:\n",
      "[273]\tvalid_0's l1: 12.0871\n",
      "Training until validation scores don't improve for 30 rounds\n",
      "Did not meet early stopping. Best iteration is:\n",
      "[270]\tvalid_0's l1: 11.8659\n",
      "Training until validation scores don't improve for 30 rounds\n",
      "Did not meet early stopping. Best iteration is:\n",
      "[272]\tvalid_0's l1: 11.6808\n",
      "Training until validation scores don't improve for 30 rounds\n",
      "Did not meet early stopping. Best iteration is:\n",
      "[247]\tvalid_0's l1: 10.846\n",
      "Training until validation scores don't improve for 30 rounds\n",
      "Did not meet early stopping. Best iteration is:\n",
      "[248]\tvalid_0's l1: 11.0553\n",
      "Training until validation scores don't improve for 30 rounds\n",
      "Did not meet early stopping. Best iteration is:\n",
      "[244]\tvalid_0's l1: 10.96\n",
      "Training until validation scores don't improve for 30 rounds\n",
      "Did not meet early stopping. Best iteration is:\n",
      "[273]\tvalid_0's l1: 7.04727\n",
      "Training until validation scores don't improve for 30 rounds\n",
      "Did not meet early stopping. Best iteration is:\n",
      "[273]\tvalid_0's l1: 6.93543\n",
      "Training until validation scores don't improve for 30 rounds\n"
     ]
    },
    {
     "name": "stderr",
     "output_type": "stream",
     "text": [
      "[I 2025-06-27 21:52:42,103] Trial 35 finished with value: 13.512143744807677 and parameters: {'max_depth': 17, 'learning_rate': 0.027879413366139697, 'n_estimators': 273, 'min_child_weight': 3, 'subsample': 0.9995167284759888, 'colsample_bytree': 0.605780799370161, 'reg_alpha': 0.575043272335651, 'reg_lambda': 0.8439583162852715}. Best is trial 17 with value: 12.4282187556986.\n"
     ]
    },
    {
     "name": "stdout",
     "output_type": "stream",
     "text": [
      "Did not meet early stopping. Best iteration is:\n",
      "[273]\tvalid_0's l1: 6.91696\n",
      "Training until validation scores don't improve for 30 rounds\n",
      "Early stopping, best iteration is:\n",
      "[264]\tvalid_0's l1: 18.6581\n",
      "Training until validation scores don't improve for 30 rounds\n",
      "Early stopping, best iteration is:\n",
      "[196]\tvalid_0's l1: 19.4858\n",
      "Training until validation scores don't improve for 30 rounds\n",
      "Early stopping, best iteration is:\n",
      "[280]\tvalid_0's l1: 18.812\n",
      "Training until validation scores don't improve for 30 rounds\n",
      "Early stopping, best iteration is:\n",
      "[366]\tvalid_0's l1: 13.3191\n",
      "Training until validation scores don't improve for 30 rounds\n",
      "Early stopping, best iteration is:\n",
      "[323]\tvalid_0's l1: 13.5384\n",
      "Training until validation scores don't improve for 30 rounds\n",
      "Did not meet early stopping. Best iteration is:\n",
      "[381]\tvalid_0's l1: 13.2153\n",
      "Training until validation scores don't improve for 30 rounds\n",
      "Did not meet early stopping. Best iteration is:\n",
      "[392]\tvalid_0's l1: 11.5512\n",
      "Training until validation scores don't improve for 30 rounds\n",
      "Did not meet early stopping. Best iteration is:\n",
      "[399]\tvalid_0's l1: 11.6282\n",
      "Training until validation scores don't improve for 30 rounds\n",
      "Did not meet early stopping. Best iteration is:\n",
      "[400]\tvalid_0's l1: 11.524\n",
      "Training until validation scores don't improve for 30 rounds\n",
      "Did not meet early stopping. Best iteration is:\n",
      "[371]\tvalid_0's l1: 11.5493\n",
      "Training until validation scores don't improve for 30 rounds\n",
      "Did not meet early stopping. Best iteration is:\n",
      "[396]\tvalid_0's l1: 11.2476\n",
      "Training until validation scores don't improve for 30 rounds\n",
      "Did not meet early stopping. Best iteration is:\n",
      "[392]\tvalid_0's l1: 11.3858\n",
      "Training until validation scores don't improve for 30 rounds\n",
      "Did not meet early stopping. Best iteration is:\n",
      "[375]\tvalid_0's l1: 10.6791\n",
      "Training until validation scores don't improve for 30 rounds\n",
      "Did not meet early stopping. Best iteration is:\n",
      "[374]\tvalid_0's l1: 10.9421\n",
      "Training until validation scores don't improve for 30 rounds\n",
      "Early stopping, best iteration is:\n",
      "[336]\tvalid_0's l1: 11.1913\n",
      "Training until validation scores don't improve for 30 rounds\n",
      "Did not meet early stopping. Best iteration is:\n",
      "[400]\tvalid_0's l1: 6.65237\n",
      "Training until validation scores don't improve for 30 rounds\n",
      "Did not meet early stopping. Best iteration is:\n",
      "[400]\tvalid_0's l1: 6.67868\n",
      "Training until validation scores don't improve for 30 rounds\n"
     ]
    },
    {
     "name": "stderr",
     "output_type": "stream",
     "text": [
      "[I 2025-06-27 21:57:23,472] Trial 36 finished with value: 13.248481997199022 and parameters: {'max_depth': 20, 'learning_rate': 0.020468712644116566, 'n_estimators': 400, 'min_child_weight': 2, 'subsample': 0.8839739211017348, 'colsample_bytree': 0.7971107677933889, 'reg_alpha': 0.6578671580805686, 'reg_lambda': 0.46107669508749505}. Best is trial 17 with value: 12.4282187556986.\n"
     ]
    },
    {
     "name": "stdout",
     "output_type": "stream",
     "text": [
      "Did not meet early stopping. Best iteration is:\n",
      "[400]\tvalid_0's l1: 6.72003\n",
      "Training until validation scores don't improve for 30 rounds\n",
      "Early stopping, best iteration is:\n",
      "[20]\tvalid_0's l1: 17.7132\n",
      "Training until validation scores don't improve for 30 rounds\n",
      "Early stopping, best iteration is:\n",
      "[24]\tvalid_0's l1: 17.9728\n",
      "Training until validation scores don't improve for 30 rounds\n",
      "Early stopping, best iteration is:\n",
      "[22]\tvalid_0's l1: 16.411\n",
      "Training until validation scores don't improve for 30 rounds\n",
      "Early stopping, best iteration is:\n",
      "[39]\tvalid_0's l1: 14.0319\n",
      "Training until validation scores don't improve for 30 rounds\n",
      "Early stopping, best iteration is:\n",
      "[46]\tvalid_0's l1: 13.8301\n",
      "Training until validation scores don't improve for 30 rounds\n",
      "Early stopping, best iteration is:\n",
      "[52]\tvalid_0's l1: 14.1293\n",
      "Training until validation scores don't improve for 30 rounds\n",
      "Early stopping, best iteration is:\n",
      "[60]\tvalid_0's l1: 11.6839\n",
      "Training until validation scores don't improve for 30 rounds\n",
      "Early stopping, best iteration is:\n",
      "[37]\tvalid_0's l1: 10.9897\n",
      "Training until validation scores don't improve for 30 rounds\n",
      "Early stopping, best iteration is:\n",
      "[88]\tvalid_0's l1: 11.3413\n",
      "Training until validation scores don't improve for 30 rounds\n",
      "Early stopping, best iteration is:\n",
      "[19]\tvalid_0's l1: 11.3671\n",
      "Training until validation scores don't improve for 30 rounds\n",
      "Early stopping, best iteration is:\n",
      "[38]\tvalid_0's l1: 11.1825\n",
      "Training until validation scores don't improve for 30 rounds\n",
      "Early stopping, best iteration is:\n",
      "[37]\tvalid_0's l1: 11.3973\n",
      "Training until validation scores don't improve for 30 rounds\n",
      "Early stopping, best iteration is:\n",
      "[27]\tvalid_0's l1: 11.0955\n",
      "Training until validation scores don't improve for 30 rounds\n",
      "Early stopping, best iteration is:\n",
      "[35]\tvalid_0's l1: 11.1995\n",
      "Training until validation scores don't improve for 30 rounds\n",
      "Early stopping, best iteration is:\n",
      "[29]\tvalid_0's l1: 11.4012\n",
      "Training until validation scores don't improve for 30 rounds\n",
      "Did not meet early stopping. Best iteration is:\n",
      "[482]\tvalid_0's l1: 1.99125\n",
      "Training until validation scores don't improve for 30 rounds\n",
      "Did not meet early stopping. Best iteration is:\n",
      "[483]\tvalid_0's l1: 2.03609\n",
      "Training until validation scores don't improve for 30 rounds\n"
     ]
    },
    {
     "name": "stderr",
     "output_type": "stream",
     "text": [
      "[I 2025-06-27 21:59:30,660] Trial 37 finished with value: 13.049770258861637 and parameters: {'max_depth': 7, 'learning_rate': 0.2112690232293965, 'n_estimators': 483, 'min_child_weight': 1, 'subsample': 0.9696174307627357, 'colsample_bytree': 0.556326002316473, 'reg_alpha': 0.3030662245436312, 'reg_lambda': 0.9150666528578115}. Best is trial 17 with value: 12.4282187556986.\n"
     ]
    },
    {
     "name": "stdout",
     "output_type": "stream",
     "text": [
      "Did not meet early stopping. Best iteration is:\n",
      "[483]\tvalid_0's l1: 2.02292\n",
      "Training until validation scores don't improve for 30 rounds\n",
      "Early stopping, best iteration is:\n",
      "[37]\tvalid_0's l1: 26.1119\n",
      "Training until validation scores don't improve for 30 rounds\n",
      "Early stopping, best iteration is:\n",
      "[45]\tvalid_0's l1: 27.6939\n",
      "Training until validation scores don't improve for 30 rounds\n",
      "Early stopping, best iteration is:\n",
      "[39]\tvalid_0's l1: 24.854\n",
      "Training until validation scores don't improve for 30 rounds\n",
      "Early stopping, best iteration is:\n",
      "[56]\tvalid_0's l1: 14.662\n",
      "Training until validation scores don't improve for 30 rounds\n",
      "Early stopping, best iteration is:\n",
      "[49]\tvalid_0's l1: 15.014\n",
      "Training until validation scores don't improve for 30 rounds\n",
      "Early stopping, best iteration is:\n",
      "[60]\tvalid_0's l1: 14.1197\n",
      "Training until validation scores don't improve for 30 rounds\n",
      "Early stopping, best iteration is:\n",
      "[56]\tvalid_0's l1: 13.3546\n",
      "Training until validation scores don't improve for 30 rounds\n",
      "Did not meet early stopping. Best iteration is:\n",
      "[183]\tvalid_0's l1: 12.4703\n",
      "Training until validation scores don't improve for 30 rounds\n",
      "Early stopping, best iteration is:\n",
      "[92]\tvalid_0's l1: 13.9497\n",
      "Training until validation scores don't improve for 30 rounds\n",
      "Early stopping, best iteration is:\n",
      "[29]\tvalid_0's l1: 16.6264\n",
      "Training until validation scores don't improve for 30 rounds\n",
      "Early stopping, best iteration is:\n",
      "[32]\tvalid_0's l1: 15.1301\n",
      "Training until validation scores don't improve for 30 rounds\n",
      "Early stopping, best iteration is:\n",
      "[33]\tvalid_0's l1: 15.2742\n",
      "Training until validation scores don't improve for 30 rounds\n",
      "Early stopping, best iteration is:\n",
      "[90]\tvalid_0's l1: 11.2497\n",
      "Training until validation scores don't improve for 30 rounds\n",
      "Early stopping, best iteration is:\n",
      "[118]\tvalid_0's l1: 11.4559\n",
      "Training until validation scores don't improve for 30 rounds\n",
      "Early stopping, best iteration is:\n",
      "[92]\tvalid_0's l1: 11.2608\n",
      "Training until validation scores don't improve for 30 rounds\n",
      "Did not meet early stopping. Best iteration is:\n",
      "[183]\tvalid_0's l1: 5.67297\n",
      "Training until validation scores don't improve for 30 rounds\n",
      "Did not meet early stopping. Best iteration is:\n",
      "[183]\tvalid_0's l1: 5.92705\n",
      "Training until validation scores don't improve for 30 rounds\n"
     ]
    },
    {
     "name": "stderr",
     "output_type": "stream",
     "text": [
      "[I 2025-06-27 22:01:15,673] Trial 38 finished with value: 16.215149269927625 and parameters: {'max_depth': 12, 'learning_rate': 0.10063555490304958, 'n_estimators': 183, 'min_child_weight': 7, 'subsample': 0.8159260676030575, 'colsample_bytree': 0.8837076162411475, 'reg_alpha': 0.5126073710479339, 'reg_lambda': 0.5986600689606317}. Best is trial 17 with value: 12.4282187556986.\n"
     ]
    },
    {
     "name": "stdout",
     "output_type": "stream",
     "text": [
      "Did not meet early stopping. Best iteration is:\n",
      "[183]\tvalid_0's l1: 5.71268\n",
      "Training until validation scores don't improve for 30 rounds\n",
      "Early stopping, best iteration is:\n",
      "[37]\tvalid_0's l1: 20.6736\n",
      "Training until validation scores don't improve for 30 rounds\n",
      "Early stopping, best iteration is:\n",
      "[38]\tvalid_0's l1: 21.6979\n",
      "Training until validation scores don't improve for 30 rounds\n",
      "Early stopping, best iteration is:\n",
      "[26]\tvalid_0's l1: 21.948\n",
      "Training until validation scores don't improve for 30 rounds\n",
      "Early stopping, best iteration is:\n",
      "[36]\tvalid_0's l1: 14.6872\n",
      "Training until validation scores don't improve for 30 rounds\n",
      "Early stopping, best iteration is:\n",
      "[44]\tvalid_0's l1: 15.0435\n",
      "Training until validation scores don't improve for 30 rounds\n",
      "Early stopping, best iteration is:\n",
      "[41]\tvalid_0's l1: 14.7318\n",
      "Training until validation scores don't improve for 30 rounds\n",
      "Early stopping, best iteration is:\n",
      "[68]\tvalid_0's l1: 11.9914\n",
      "Training until validation scores don't improve for 30 rounds\n",
      "Early stopping, best iteration is:\n",
      "[52]\tvalid_0's l1: 12.3178\n",
      "Training until validation scores don't improve for 30 rounds\n",
      "Early stopping, best iteration is:\n",
      "[130]\tvalid_0's l1: 12.1961\n",
      "Training until validation scores don't improve for 30 rounds\n",
      "Early stopping, best iteration is:\n",
      "[30]\tvalid_0's l1: 13.1947\n",
      "Training until validation scores don't improve for 30 rounds\n",
      "Early stopping, best iteration is:\n",
      "[46]\tvalid_0's l1: 14.0806\n",
      "Training until validation scores don't improve for 30 rounds\n",
      "Early stopping, best iteration is:\n",
      "[28]\tvalid_0's l1: 15.7525\n",
      "Training until validation scores don't improve for 30 rounds\n",
      "Early stopping, best iteration is:\n",
      "[57]\tvalid_0's l1: 10.9917\n",
      "Training until validation scores don't improve for 30 rounds\n",
      "Early stopping, best iteration is:\n",
      "[69]\tvalid_0's l1: 10.9573\n",
      "Training until validation scores don't improve for 30 rounds\n",
      "Early stopping, best iteration is:\n",
      "[61]\tvalid_0's l1: 11.5581\n",
      "Training until validation scores don't improve for 30 rounds\n",
      "Did not meet early stopping. Best iteration is:\n",
      "[360]\tvalid_0's l1: 3.67006\n",
      "Training until validation scores don't improve for 30 rounds\n",
      "Did not meet early stopping. Best iteration is:\n",
      "[360]\tvalid_0's l1: 3.63284\n",
      "Training until validation scores don't improve for 30 rounds\n",
      "Did not meet early stopping. Best iteration is:\n",
      "[360]\tvalid_0's l1: 3.64671\n"
     ]
    },
    {
     "name": "stderr",
     "output_type": "stream",
     "text": [
      "[I 2025-06-27 22:03:16,049] Trial 39 finished with value: 14.788151692917731 and parameters: {'max_depth': 19, 'learning_rate': 0.12830560020432852, 'n_estimators': 360, 'min_child_weight': 2, 'subsample': 0.6406089351880104, 'colsample_bytree': 0.7099837094539714, 'reg_alpha': 0.6223383254772283, 'reg_lambda': 0.34670527027130504}. Best is trial 17 with value: 12.4282187556986.\n"
     ]
    },
    {
     "name": "stdout",
     "output_type": "stream",
     "text": [
      "Training until validation scores don't improve for 30 rounds\n",
      "Early stopping, best iteration is:\n",
      "[122]\tvalid_0's l1: 23.7822\n",
      "Training until validation scores don't improve for 30 rounds\n",
      "Early stopping, best iteration is:\n",
      "[142]\tvalid_0's l1: 22.7589\n",
      "Training until validation scores don't improve for 30 rounds\n",
      "Early stopping, best iteration is:\n",
      "[114]\tvalid_0's l1: 24.4749\n",
      "Training until validation scores don't improve for 30 rounds\n",
      "Early stopping, best iteration is:\n",
      "[129]\tvalid_0's l1: 14.512\n",
      "Training until validation scores don't improve for 30 rounds\n",
      "Early stopping, best iteration is:\n",
      "[133]\tvalid_0's l1: 14.179\n",
      "Training until validation scores don't improve for 30 rounds\n",
      "Early stopping, best iteration is:\n",
      "[100]\tvalid_0's l1: 14.3106\n",
      "Training until validation scores don't improve for 30 rounds\n",
      "Early stopping, best iteration is:\n",
      "[287]\tvalid_0's l1: 11.7275\n",
      "Training until validation scores don't improve for 30 rounds\n",
      "Early stopping, best iteration is:\n",
      "[207]\tvalid_0's l1: 12.0233\n",
      "Training until validation scores don't improve for 30 rounds\n",
      "Early stopping, best iteration is:\n",
      "[263]\tvalid_0's l1: 11.8964\n",
      "Training until validation scores don't improve for 30 rounds\n",
      "Early stopping, best iteration is:\n",
      "[55]\tvalid_0's l1: 21.7914\n",
      "Training until validation scores don't improve for 30 rounds\n",
      "Early stopping, best iteration is:\n",
      "[70]\tvalid_0's l1: 16.3267\n",
      "Training until validation scores don't improve for 30 rounds\n",
      "Early stopping, best iteration is:\n",
      "[79]\tvalid_0's l1: 14.5079\n",
      "Training until validation scores don't improve for 30 rounds\n",
      "Early stopping, best iteration is:\n",
      "[193]\tvalid_0's l1: 11.4502\n",
      "Training until validation scores don't improve for 30 rounds\n",
      "Early stopping, best iteration is:\n",
      "[187]\tvalid_0's l1: 11.4575\n",
      "Training until validation scores don't improve for 30 rounds\n",
      "Early stopping, best iteration is:\n",
      "[181]\tvalid_0's l1: 11.4523\n",
      "Training until validation scores don't improve for 30 rounds\n",
      "Did not meet early stopping. Best iteration is:\n",
      "[895]\tvalid_0's l1: 3.70197\n",
      "Training until validation scores don't improve for 30 rounds\n",
      "Did not meet early stopping. Best iteration is:\n",
      "[895]\tvalid_0's l1: 3.67516\n",
      "Training until validation scores don't improve for 30 rounds\n",
      "Did not meet early stopping. Best iteration is:\n",
      "[895]\tvalid_0's l1: 3.70742\n"
     ]
    },
    {
     "name": "stderr",
     "output_type": "stream",
     "text": [
      "[I 2025-06-27 22:07:20,969] Trial 40 finished with value: 15.776725991145636 and parameters: {'max_depth': 15, 'learning_rate': 0.04704573058944909, 'n_estimators': 895, 'min_child_weight': 3, 'subsample': 0.586174690943968, 'colsample_bytree': 0.7501487536958877, 'reg_alpha': 0.7175551064042818, 'reg_lambda': 0.685169914785187}. Best is trial 17 with value: 12.4282187556986.\n"
     ]
    },
    {
     "name": "stdout",
     "output_type": "stream",
     "text": [
      "Training until validation scores don't improve for 30 rounds\n",
      "Early stopping, best iteration is:\n",
      "[194]\tvalid_0's l1: 18.2166\n",
      "Training until validation scores don't improve for 30 rounds\n",
      "Early stopping, best iteration is:\n",
      "[172]\tvalid_0's l1: 17.012\n",
      "Training until validation scores don't improve for 30 rounds\n",
      "Early stopping, best iteration is:\n",
      "[174]\tvalid_0's l1: 17.4346\n",
      "Training until validation scores don't improve for 30 rounds\n",
      "Early stopping, best iteration is:\n",
      "[284]\tvalid_0's l1: 13.0404\n",
      "Training until validation scores don't improve for 30 rounds\n",
      "Early stopping, best iteration is:\n",
      "[367]\tvalid_0's l1: 12.8413\n",
      "Training until validation scores don't improve for 30 rounds\n",
      "Early stopping, best iteration is:\n",
      "[340]\tvalid_0's l1: 12.8953\n",
      "Training until validation scores don't improve for 30 rounds\n",
      "Early stopping, best iteration is:\n",
      "[314]\tvalid_0's l1: 10.6071\n",
      "Training until validation scores don't improve for 30 rounds\n",
      "Did not meet early stopping. Best iteration is:\n",
      "[544]\tvalid_0's l1: 10.292\n",
      "Training until validation scores don't improve for 30 rounds\n",
      "Early stopping, best iteration is:\n",
      "[449]\tvalid_0's l1: 10.2307\n",
      "Training until validation scores don't improve for 30 rounds\n",
      "Early stopping, best iteration is:\n",
      "[331]\tvalid_0's l1: 10.1946\n",
      "Training until validation scores don't improve for 30 rounds\n",
      "Early stopping, best iteration is:\n",
      "[310]\tvalid_0's l1: 10.1117\n",
      "Training until validation scores don't improve for 30 rounds\n",
      "Early stopping, best iteration is:\n",
      "[315]\tvalid_0's l1: 10.2246\n",
      "Training until validation scores don't improve for 30 rounds\n",
      "Early stopping, best iteration is:\n",
      "[227]\tvalid_0's l1: 10.8908\n",
      "Training until validation scores don't improve for 30 rounds\n",
      "Early stopping, best iteration is:\n",
      "[237]\tvalid_0's l1: 10.9989\n",
      "Training until validation scores don't improve for 30 rounds\n",
      "Early stopping, best iteration is:\n",
      "[217]\tvalid_0's l1: 10.8553\n",
      "Training until validation scores don't improve for 30 rounds\n",
      "Did not meet early stopping. Best iteration is:\n",
      "[544]\tvalid_0's l1: 4.93346\n",
      "Training until validation scores don't improve for 30 rounds\n",
      "Did not meet early stopping. Best iteration is:\n",
      "[544]\tvalid_0's l1: 4.93075\n",
      "Training until validation scores don't improve for 30 rounds\n",
      "Did not meet early stopping. Best iteration is:\n",
      "[544]\tvalid_0's l1: 4.85688\n"
     ]
    },
    {
     "name": "stderr",
     "output_type": "stream",
     "text": [
      "[I 2025-06-27 22:11:39,631] Trial 41 finished with value: 12.389729267352534 and parameters: {'max_depth': 20, 'learning_rate': 0.030897880551777897, 'n_estimators': 544, 'min_child_weight': 1, 'subsample': 0.874619568382676, 'colsample_bytree': 0.6778820699438167, 'reg_alpha': 0.49149655286672733, 'reg_lambda': 0.7981828538456203}. Best is trial 41 with value: 12.389729267352534.\n"
     ]
    },
    {
     "name": "stdout",
     "output_type": "stream",
     "text": [
      "Training until validation scores don't improve for 30 rounds\n",
      "Early stopping, best iteration is:\n",
      "[230]\tvalid_0's l1: 19.2673\n",
      "Training until validation scores don't improve for 30 rounds\n",
      "Early stopping, best iteration is:\n",
      "[230]\tvalid_0's l1: 17.4906\n",
      "Training until validation scores don't improve for 30 rounds\n",
      "Early stopping, best iteration is:\n",
      "[261]\tvalid_0's l1: 18.0508\n",
      "Training until validation scores don't improve for 30 rounds\n",
      "Did not meet early stopping. Best iteration is:\n",
      "[550]\tvalid_0's l1: 12.7343\n",
      "Training until validation scores don't improve for 30 rounds\n",
      "Early stopping, best iteration is:\n",
      "[502]\tvalid_0's l1: 12.7908\n",
      "Training until validation scores don't improve for 30 rounds\n",
      "Early stopping, best iteration is:\n",
      "[479]\tvalid_0's l1: 12.824\n",
      "Training until validation scores don't improve for 30 rounds\n",
      "Early stopping, best iteration is:\n",
      "[522]\tvalid_0's l1: 10.5771\n",
      "Training until validation scores don't improve for 30 rounds\n",
      "Did not meet early stopping. Best iteration is:\n",
      "[548]\tvalid_0's l1: 10.5203\n",
      "Training until validation scores don't improve for 30 rounds\n",
      "Did not meet early stopping. Best iteration is:\n",
      "[556]\tvalid_0's l1: 10.3852\n",
      "Training until validation scores don't improve for 30 rounds\n",
      "Early stopping, best iteration is:\n",
      "[314]\tvalid_0's l1: 10.255\n",
      "Training until validation scores don't improve for 30 rounds\n",
      "Early stopping, best iteration is:\n",
      "[388]\tvalid_0's l1: 9.95837\n",
      "Training until validation scores don't improve for 30 rounds\n",
      "Early stopping, best iteration is:\n",
      "[390]\tvalid_0's l1: 10.3046\n",
      "Training until validation scores don't improve for 30 rounds\n",
      "Early stopping, best iteration is:\n",
      "[292]\tvalid_0's l1: 10.8313\n",
      "Training until validation scores don't improve for 30 rounds\n",
      "Early stopping, best iteration is:\n",
      "[321]\tvalid_0's l1: 10.9899\n",
      "Training until validation scores don't improve for 30 rounds\n",
      "Early stopping, best iteration is:\n",
      "[300]\tvalid_0's l1: 10.9579\n",
      "Training until validation scores don't improve for 30 rounds\n",
      "Did not meet early stopping. Best iteration is:\n",
      "[558]\tvalid_0's l1: 5.57561\n",
      "Training until validation scores don't improve for 30 rounds\n",
      "Did not meet early stopping. Best iteration is:\n",
      "[559]\tvalid_0's l1: 5.59495\n",
      "Training until validation scores don't improve for 30 rounds\n",
      "Did not meet early stopping. Best iteration is:\n",
      "[560]\tvalid_0's l1: 5.66964\n"
     ]
    },
    {
     "name": "stderr",
     "output_type": "stream",
     "text": [
      "[I 2025-06-27 22:16:40,177] Trial 42 finished with value: 12.529168677477136 and parameters: {'max_depth': 20, 'learning_rate': 0.021473649060897788, 'n_estimators': 560, 'min_child_weight': 1, 'subsample': 0.9254026581653871, 'colsample_bytree': 0.6602838162261648, 'reg_alpha': 0.5720350328570766, 'reg_lambda': 0.818197497091604}. Best is trial 41 with value: 12.389729267352534.\n"
     ]
    },
    {
     "name": "stdout",
     "output_type": "stream",
     "text": [
      "Training until validation scores don't improve for 30 rounds\n",
      "Early stopping, best iteration is:\n",
      "[236]\tvalid_0's l1: 18.6941\n",
      "Training until validation scores don't improve for 30 rounds\n",
      "Early stopping, best iteration is:\n",
      "[252]\tvalid_0's l1: 17.9782\n",
      "Training until validation scores don't improve for 30 rounds\n",
      "Early stopping, best iteration is:\n",
      "[233]\tvalid_0's l1: 17.8541\n",
      "Training until validation scores don't improve for 30 rounds\n",
      "Early stopping, best iteration is:\n",
      "[443]\tvalid_0's l1: 12.8918\n",
      "Training until validation scores don't improve for 30 rounds\n",
      "Early stopping, best iteration is:\n",
      "[373]\tvalid_0's l1: 13.0578\n",
      "Training until validation scores don't improve for 30 rounds\n",
      "Early stopping, best iteration is:\n",
      "[469]\tvalid_0's l1: 12.9941\n",
      "Training until validation scores don't improve for 30 rounds\n",
      "Did not meet early stopping. Best iteration is:\n",
      "[564]\tvalid_0's l1: 10.4938\n",
      "Training until validation scores don't improve for 30 rounds\n",
      "Early stopping, best iteration is:\n",
      "[368]\tvalid_0's l1: 10.6211\n",
      "Training until validation scores don't improve for 30 rounds\n",
      "Did not meet early stopping. Best iteration is:\n",
      "[564]\tvalid_0's l1: 10.6806\n",
      "Training until validation scores don't improve for 30 rounds\n",
      "Early stopping, best iteration is:\n",
      "[461]\tvalid_0's l1: 10.0422\n",
      "Training until validation scores don't improve for 30 rounds\n",
      "Early stopping, best iteration is:\n",
      "[281]\tvalid_0's l1: 10.7372\n",
      "Training until validation scores don't improve for 30 rounds\n",
      "Early stopping, best iteration is:\n",
      "[440]\tvalid_0's l1: 10.0841\n",
      "Training until validation scores don't improve for 30 rounds\n",
      "Early stopping, best iteration is:\n",
      "[349]\tvalid_0's l1: 10.9364\n",
      "Training until validation scores don't improve for 30 rounds\n",
      "Early stopping, best iteration is:\n",
      "[335]\tvalid_0's l1: 11.1262\n",
      "Training until validation scores don't improve for 30 rounds\n",
      "Early stopping, best iteration is:\n",
      "[311]\tvalid_0's l1: 10.8267\n",
      "Training until validation scores don't improve for 30 rounds\n",
      "Did not meet early stopping. Best iteration is:\n",
      "[572]\tvalid_0's l1: 5.65405\n",
      "Training until validation scores don't improve for 30 rounds\n",
      "Did not meet early stopping. Best iteration is:\n",
      "[572]\tvalid_0's l1: 5.67113\n",
      "Training until validation scores don't improve for 30 rounds\n",
      "Did not meet early stopping. Best iteration is:\n",
      "[572]\tvalid_0's l1: 5.66025\n"
     ]
    },
    {
     "name": "stderr",
     "output_type": "stream",
     "text": [
      "[I 2025-06-27 22:21:39,929] Trial 43 finished with value: 12.601249146695446 and parameters: {'max_depth': 18, 'learning_rate': 0.02039586146138851, 'n_estimators': 572, 'min_child_weight': 1, 'subsample': 0.9205926535640085, 'colsample_bytree': 0.6497076776806845, 'reg_alpha': 0.5783799308993927, 'reg_lambda': 0.9604058647032495}. Best is trial 41 with value: 12.389729267352534.\n"
     ]
    },
    {
     "name": "stdout",
     "output_type": "stream",
     "text": [
      "Training until validation scores don't improve for 30 rounds\n",
      "Early stopping, best iteration is:\n",
      "[345]\tvalid_0's l1: 18.095\n",
      "Training until validation scores don't improve for 30 rounds\n",
      "Early stopping, best iteration is:\n",
      "[383]\tvalid_0's l1: 18.3783\n",
      "Training until validation scores don't improve for 30 rounds\n",
      "Early stopping, best iteration is:\n",
      "[405]\tvalid_0's l1: 18.3308\n",
      "Training until validation scores don't improve for 30 rounds\n",
      "Early stopping, best iteration is:\n",
      "[617]\tvalid_0's l1: 13.1387\n",
      "Training until validation scores don't improve for 30 rounds\n",
      "Early stopping, best iteration is:\n",
      "[563]\tvalid_0's l1: 13.1298\n",
      "Training until validation scores don't improve for 30 rounds\n",
      "Early stopping, best iteration is:\n",
      "[589]\tvalid_0's l1: 13.1001\n",
      "Training until validation scores don't improve for 30 rounds\n",
      "Did not meet early stopping. Best iteration is:\n",
      "[664]\tvalid_0's l1: 11.2352\n",
      "Training until validation scores don't improve for 30 rounds\n",
      "Did not meet early stopping. Best iteration is:\n",
      "[653]\tvalid_0's l1: 11.3545\n",
      "Training until validation scores don't improve for 30 rounds\n",
      "Did not meet early stopping. Best iteration is:\n",
      "[664]\tvalid_0's l1: 11.2867\n",
      "Training until validation scores don't improve for 30 rounds\n",
      "Early stopping, best iteration is:\n",
      "[522]\tvalid_0's l1: 11.2825\n",
      "Training until validation scores don't improve for 30 rounds\n",
      "Did not meet early stopping. Best iteration is:\n",
      "[663]\tvalid_0's l1: 11.2033\n",
      "Training until validation scores don't improve for 30 rounds\n",
      "Did not meet early stopping. Best iteration is:\n",
      "[643]\tvalid_0's l1: 11.0063\n",
      "Training until validation scores don't improve for 30 rounds\n",
      "Early stopping, best iteration is:\n",
      "[518]\tvalid_0's l1: 10.9298\n",
      "Training until validation scores don't improve for 30 rounds\n",
      "Early stopping, best iteration is:\n",
      "[504]\tvalid_0's l1: 10.7693\n",
      "Training until validation scores don't improve for 30 rounds\n",
      "Early stopping, best iteration is:\n",
      "[510]\tvalid_0's l1: 10.8214\n",
      "Training until validation scores don't improve for 30 rounds\n",
      "Did not meet early stopping. Best iteration is:\n",
      "[664]\tvalid_0's l1: 6.45213\n",
      "Training until validation scores don't improve for 30 rounds\n",
      "Did not meet early stopping. Best iteration is:\n",
      "[664]\tvalid_0's l1: 6.40709\n",
      "Training until validation scores don't improve for 30 rounds\n",
      "Did not meet early stopping. Best iteration is:\n",
      "[664]\tvalid_0's l1: 6.43347\n"
     ]
    },
    {
     "name": "stderr",
     "output_type": "stream",
     "text": [
      "[I 2025-06-27 22:27:49,595] Trial 44 finished with value: 12.937442288629388 and parameters: {'max_depth': 19, 'learning_rate': 0.01318949716488865, 'n_estimators': 664, 'min_child_weight': 2, 'subsample': 0.9707567504746889, 'colsample_bytree': 0.6146230176265384, 'reg_alpha': 0.4716157700364134, 'reg_lambda': 0.8179789114912421}. Best is trial 41 with value: 12.389729267352534.\n"
     ]
    },
    {
     "name": "stdout",
     "output_type": "stream",
     "text": [
      "Training until validation scores don't improve for 30 rounds\n",
      "Early stopping, best iteration is:\n",
      "[234]\tvalid_0's l1: 18.0945\n",
      "Training until validation scores don't improve for 30 rounds\n",
      "Early stopping, best iteration is:\n",
      "[224]\tvalid_0's l1: 17.6232\n",
      "Training until validation scores don't improve for 30 rounds\n",
      "Early stopping, best iteration is:\n",
      "[233]\tvalid_0's l1: 18.0754\n",
      "Training until validation scores don't improve for 30 rounds\n",
      "Early stopping, best iteration is:\n",
      "[452]\tvalid_0's l1: 12.9533\n",
      "Training until validation scores don't improve for 30 rounds\n",
      "Early stopping, best iteration is:\n",
      "[410]\tvalid_0's l1: 12.929\n",
      "Training until validation scores don't improve for 30 rounds\n",
      "Early stopping, best iteration is:\n",
      "[535]\tvalid_0's l1: 12.9341\n",
      "Training until validation scores don't improve for 30 rounds\n",
      "Early stopping, best iteration is:\n",
      "[400]\tvalid_0's l1: 10.7877\n",
      "Training until validation scores don't improve for 30 rounds\n",
      "Early stopping, best iteration is:\n",
      "[569]\tvalid_0's l1: 11.1172\n",
      "Training until validation scores don't improve for 30 rounds\n",
      "Early stopping, best iteration is:\n",
      "[692]\tvalid_0's l1: 10.3365\n",
      "Training until validation scores don't improve for 30 rounds\n",
      "Early stopping, best iteration is:\n",
      "[331]\tvalid_0's l1: 10.1064\n",
      "Training until validation scores don't improve for 30 rounds\n",
      "Early stopping, best iteration is:\n",
      "[427]\tvalid_0's l1: 9.87564\n",
      "Training until validation scores don't improve for 30 rounds\n",
      "Early stopping, best iteration is:\n",
      "[339]\tvalid_0's l1: 10.284\n",
      "Training until validation scores don't improve for 30 rounds\n",
      "Early stopping, best iteration is:\n",
      "[333]\tvalid_0's l1: 10.8652\n",
      "Training until validation scores don't improve for 30 rounds\n",
      "Early stopping, best iteration is:\n",
      "[301]\tvalid_0's l1: 10.6885\n",
      "Training until validation scores don't improve for 30 rounds\n",
      "Early stopping, best iteration is:\n",
      "[349]\tvalid_0's l1: 10.8689\n",
      "Training until validation scores don't improve for 30 rounds\n",
      "Did not meet early stopping. Best iteration is:\n",
      "[799]\tvalid_0's l1: 4.71907\n",
      "Training until validation scores don't improve for 30 rounds\n",
      "Did not meet early stopping. Best iteration is:\n",
      "[799]\tvalid_0's l1: 4.72158\n",
      "Training until validation scores don't improve for 30 rounds\n",
      "Did not meet early stopping. Best iteration is:\n",
      "[799]\tvalid_0's l1: 4.67835\n"
     ]
    },
    {
     "name": "stderr",
     "output_type": "stream",
     "text": [
      "[I 2025-06-27 22:33:35,237] Trial 45 finished with value: 12.502641476829336 and parameters: {'max_depth': 17, 'learning_rate': 0.022385669421422495, 'n_estimators': 799, 'min_child_weight': 1, 'subsample': 0.8758885683246557, 'colsample_bytree': 0.6715007531548027, 'reg_alpha': 0.7873700066880385, 'reg_lambda': 0.9107613154832157}. Best is trial 41 with value: 12.389729267352534.\n"
     ]
    },
    {
     "name": "stdout",
     "output_type": "stream",
     "text": [
      "Training until validation scores don't improve for 30 rounds\n",
      "Early stopping, best iteration is:\n",
      "[312]\tvalid_0's l1: 18.4959\n",
      "Training until validation scores don't improve for 30 rounds\n",
      "Early stopping, best iteration is:\n",
      "[329]\tvalid_0's l1: 18.1645\n",
      "Training until validation scores don't improve for 30 rounds\n",
      "Early stopping, best iteration is:\n",
      "[297]\tvalid_0's l1: 18.5819\n",
      "Training until validation scores don't improve for 30 rounds\n",
      "Early stopping, best iteration is:\n",
      "[467]\tvalid_0's l1: 13.051\n",
      "Training until validation scores don't improve for 30 rounds\n",
      "Early stopping, best iteration is:\n",
      "[582]\tvalid_0's l1: 12.8109\n",
      "Training until validation scores don't improve for 30 rounds\n",
      "Early stopping, best iteration is:\n",
      "[539]\tvalid_0's l1: 13.0306\n",
      "Training until validation scores don't improve for 30 rounds\n",
      "Early stopping, best iteration is:\n",
      "[590]\tvalid_0's l1: 10.4719\n",
      "Training until validation scores don't improve for 30 rounds\n",
      "Did not meet early stopping. Best iteration is:\n",
      "[821]\tvalid_0's l1: 10.2449\n",
      "Training until validation scores don't improve for 30 rounds\n",
      "Early stopping, best iteration is:\n",
      "[581]\tvalid_0's l1: 10.3254\n",
      "Training until validation scores don't improve for 30 rounds\n",
      "Early stopping, best iteration is:\n",
      "[450]\tvalid_0's l1: 10.1849\n",
      "Training until validation scores don't improve for 30 rounds\n",
      "Early stopping, best iteration is:\n",
      "[625]\tvalid_0's l1: 10.1012\n",
      "Training until validation scores don't improve for 30 rounds\n",
      "Early stopping, best iteration is:\n",
      "[590]\tvalid_0's l1: 10.0669\n",
      "Training until validation scores don't improve for 30 rounds\n",
      "Early stopping, best iteration is:\n",
      "[413]\tvalid_0's l1: 10.8693\n",
      "Training until validation scores don't improve for 30 rounds\n",
      "Early stopping, best iteration is:\n",
      "[373]\tvalid_0's l1: 10.931\n",
      "Training until validation scores don't improve for 30 rounds\n",
      "Early stopping, best iteration is:\n",
      "[394]\tvalid_0's l1: 10.8053\n",
      "Training until validation scores don't improve for 30 rounds\n",
      "Did not meet early stopping. Best iteration is:\n",
      "[832]\tvalid_0's l1: 5.22102\n",
      "Training until validation scores don't improve for 30 rounds\n",
      "Did not meet early stopping. Best iteration is:\n",
      "[832]\tvalid_0's l1: 5.30567\n",
      "Training until validation scores don't improve for 30 rounds\n",
      "Did not meet early stopping. Best iteration is:\n",
      "[832]\tvalid_0's l1: 5.17382\n"
     ]
    },
    {
     "name": "stderr",
     "output_type": "stream",
     "text": [
      "[I 2025-06-27 22:40:10,075] Trial 46 finished with value: 12.542390032382205 and parameters: {'max_depth': 17, 'learning_rate': 0.01695753093883978, 'n_estimators': 832, 'min_child_weight': 1, 'subsample': 0.8711831217996988, 'colsample_bytree': 0.6579693309759922, 'reg_alpha': 0.806848896150086, 'reg_lambda': 0.9374584941739368}. Best is trial 41 with value: 12.389729267352534.\n"
     ]
    },
    {
     "name": "stdout",
     "output_type": "stream",
     "text": [
      "Training until validation scores don't improve for 30 rounds\n",
      "Early stopping, best iteration is:\n",
      "[238]\tvalid_0's l1: 20.2459\n",
      "Training until validation scores don't improve for 30 rounds\n",
      "Early stopping, best iteration is:\n",
      "[167]\tvalid_0's l1: 21.266\n",
      "Training until validation scores don't improve for 30 rounds\n",
      "Early stopping, best iteration is:\n",
      "[164]\tvalid_0's l1: 21.2443\n",
      "Training until validation scores don't improve for 30 rounds\n",
      "Early stopping, best iteration is:\n",
      "[296]\tvalid_0's l1: 13.3559\n",
      "Training until validation scores don't improve for 30 rounds\n",
      "Early stopping, best iteration is:\n",
      "[304]\tvalid_0's l1: 13.3863\n",
      "Training until validation scores don't improve for 30 rounds\n",
      "Early stopping, best iteration is:\n",
      "[341]\tvalid_0's l1: 13.2288\n",
      "Training until validation scores don't improve for 30 rounds\n",
      "Early stopping, best iteration is:\n",
      "[663]\tvalid_0's l1: 10.998\n",
      "Training until validation scores don't improve for 30 rounds\n",
      "Early stopping, best iteration is:\n",
      "[690]\tvalid_0's l1: 11.0084\n",
      "Training until validation scores don't improve for 30 rounds\n",
      "Early stopping, best iteration is:\n",
      "[426]\tvalid_0's l1: 11.2374\n",
      "Training until validation scores don't improve for 30 rounds\n",
      "Early stopping, best iteration is:\n",
      "[438]\tvalid_0's l1: 11.547\n",
      "Training until validation scores don't improve for 30 rounds\n",
      "Early stopping, best iteration is:\n",
      "[291]\tvalid_0's l1: 12.2552\n",
      "Training until validation scores don't improve for 30 rounds\n",
      "Early stopping, best iteration is:\n",
      "[318]\tvalid_0's l1: 12.007\n",
      "Training until validation scores don't improve for 30 rounds\n",
      "Early stopping, best iteration is:\n",
      "[350]\tvalid_0's l1: 10.8897\n",
      "Training until validation scores don't improve for 30 rounds\n",
      "Early stopping, best iteration is:\n",
      "[341]\tvalid_0's l1: 10.6039\n",
      "Training until validation scores don't improve for 30 rounds\n",
      "Early stopping, best iteration is:\n",
      "[354]\tvalid_0's l1: 11.0134\n",
      "Training until validation scores don't improve for 30 rounds\n",
      "Did not meet early stopping. Best iteration is:\n",
      "[797]\tvalid_0's l1: 4.97875\n",
      "Training until validation scores don't improve for 30 rounds\n",
      "Did not meet early stopping. Best iteration is:\n",
      "[797]\tvalid_0's l1: 4.93978\n",
      "Training until validation scores don't improve for 30 rounds\n",
      "Did not meet early stopping. Best iteration is:\n",
      "[797]\tvalid_0's l1: 5.02651\n"
     ]
    },
    {
     "name": "stderr",
     "output_type": "stream",
     "text": [
      "[I 2025-06-27 22:45:36,045] Trial 47 finished with value: 13.619136525726782 and parameters: {'max_depth': 18, 'learning_rate': 0.021508783904980018, 'n_estimators': 797, 'min_child_weight': 3, 'subsample': 0.9000942276097409, 'colsample_bytree': 0.6732593822692323, 'reg_alpha': 0.8753699823703334, 'reg_lambda': 0.8583127949119312}. Best is trial 41 with value: 12.389729267352534.\n"
     ]
    },
    {
     "name": "stdout",
     "output_type": "stream",
     "text": [
      "Training until validation scores don't improve for 30 rounds\n",
      "Early stopping, best iteration is:\n",
      "[99]\tvalid_0's l1: 32.3611\n",
      "Training until validation scores don't improve for 30 rounds\n",
      "Early stopping, best iteration is:\n",
      "[128]\tvalid_0's l1: 29.6835\n",
      "Training until validation scores don't improve for 30 rounds\n",
      "Early stopping, best iteration is:\n",
      "[109]\tvalid_0's l1: 27.0951\n",
      "Training until validation scores don't improve for 30 rounds\n",
      "Early stopping, best iteration is:\n",
      "[187]\tvalid_0's l1: 14.3063\n",
      "Training until validation scores don't improve for 30 rounds\n",
      "Early stopping, best iteration is:\n",
      "[246]\tvalid_0's l1: 14.6808\n",
      "Training until validation scores don't improve for 30 rounds\n",
      "Early stopping, best iteration is:\n",
      "[212]\tvalid_0's l1: 14.5247\n",
      "Training until validation scores don't improve for 30 rounds\n",
      "Early stopping, best iteration is:\n",
      "[288]\tvalid_0's l1: 13.2084\n",
      "Training until validation scores don't improve for 30 rounds\n",
      "Early stopping, best iteration is:\n",
      "[333]\tvalid_0's l1: 11.9861\n",
      "Training until validation scores don't improve for 30 rounds\n",
      "Early stopping, best iteration is:\n",
      "[226]\tvalid_0's l1: 12.1625\n",
      "Training until validation scores don't improve for 30 rounds\n",
      "Early stopping, best iteration is:\n",
      "[136]\tvalid_0's l1: 14.1372\n",
      "Training until validation scores don't improve for 30 rounds\n",
      "Early stopping, best iteration is:\n",
      "[145]\tvalid_0's l1: 16.6109\n",
      "Training until validation scores don't improve for 30 rounds\n",
      "Early stopping, best iteration is:\n",
      "[147]\tvalid_0's l1: 15.9933\n",
      "Training until validation scores don't improve for 30 rounds\n",
      "Early stopping, best iteration is:\n",
      "[244]\tvalid_0's l1: 11.6736\n",
      "Training until validation scores don't improve for 30 rounds\n",
      "Early stopping, best iteration is:\n",
      "[208]\tvalid_0's l1: 11.6418\n",
      "Training until validation scores don't improve for 30 rounds\n",
      "Early stopping, best iteration is:\n",
      "[222]\tvalid_0's l1: 11.9691\n",
      "Training until validation scores don't improve for 30 rounds\n",
      "Did not meet early stopping. Best iteration is:\n",
      "[929]\tvalid_0's l1: 5.34796\n",
      "Training until validation scores don't improve for 30 rounds\n",
      "Did not meet early stopping. Best iteration is:\n",
      "[929]\tvalid_0's l1: 5.2743\n",
      "Training until validation scores don't improve for 30 rounds\n",
      "Did not meet early stopping. Best iteration is:\n",
      "[929]\tvalid_0's l1: 5.43886\n"
     ]
    },
    {
     "name": "stderr",
     "output_type": "stream",
     "text": [
      "[I 2025-06-27 22:49:57,075] Trial 48 finished with value: 16.80229775331391 and parameters: {'max_depth': 19, 'learning_rate': 0.027564917022197495, 'n_estimators': 929, 'min_child_weight': 10, 'subsample': 0.7680620685019279, 'colsample_bytree': 0.6378550428386887, 'reg_alpha': 0.7472348181360324, 'reg_lambda': 0.8956130277869783}. Best is trial 41 with value: 12.389729267352534.\n"
     ]
    },
    {
     "name": "stdout",
     "output_type": "stream",
     "text": [
      "Training until validation scores don't improve for 30 rounds\n",
      "Early stopping, best iteration is:\n",
      "[135]\tvalid_0's l1: 18.7801\n",
      "Training until validation scores don't improve for 30 rounds\n",
      "Early stopping, best iteration is:\n",
      "[134]\tvalid_0's l1: 19.0898\n",
      "Training until validation scores don't improve for 30 rounds\n",
      "Early stopping, best iteration is:\n",
      "[137]\tvalid_0's l1: 18.5055\n",
      "Training until validation scores don't improve for 30 rounds\n",
      "Early stopping, best iteration is:\n",
      "[188]\tvalid_0's l1: 12.9634\n",
      "Training until validation scores don't improve for 30 rounds\n",
      "Early stopping, best iteration is:\n",
      "[230]\tvalid_0's l1: 13.4158\n",
      "Training until validation scores don't improve for 30 rounds\n",
      "Early stopping, best iteration is:\n",
      "[210]\tvalid_0's l1: 13.3035\n",
      "Training until validation scores don't improve for 30 rounds\n",
      "Early stopping, best iteration is:\n",
      "[289]\tvalid_0's l1: 10.765\n",
      "Training until validation scores don't improve for 30 rounds\n",
      "Early stopping, best iteration is:\n",
      "[351]\tvalid_0's l1: 11.2066\n",
      "Training until validation scores don't improve for 30 rounds\n",
      "Early stopping, best iteration is:\n",
      "[526]\tvalid_0's l1: 10.887\n",
      "Training until validation scores don't improve for 30 rounds\n",
      "Early stopping, best iteration is:\n",
      "[228]\tvalid_0's l1: 11.0648\n",
      "Training until validation scores don't improve for 30 rounds\n",
      "Early stopping, best iteration is:\n",
      "[230]\tvalid_0's l1: 11.2474\n",
      "Training until validation scores don't improve for 30 rounds\n",
      "Early stopping, best iteration is:\n",
      "[317]\tvalid_0's l1: 11.181\n",
      "Training until validation scores don't improve for 30 rounds\n",
      "Early stopping, best iteration is:\n",
      "[219]\tvalid_0's l1: 11.0463\n",
      "Training until validation scores don't improve for 30 rounds\n",
      "Early stopping, best iteration is:\n",
      "[200]\tvalid_0's l1: 10.874\n",
      "Training until validation scores don't improve for 30 rounds\n",
      "Early stopping, best iteration is:\n",
      "[200]\tvalid_0's l1: 10.832\n",
      "Training until validation scores don't improve for 30 rounds\n",
      "Did not meet early stopping. Best iteration is:\n",
      "[765]\tvalid_0's l1: 3.90701\n",
      "Training until validation scores don't improve for 30 rounds\n",
      "Did not meet early stopping. Best iteration is:\n",
      "[765]\tvalid_0's l1: 3.90394\n",
      "Training until validation scores don't improve for 30 rounds\n",
      "Did not meet early stopping. Best iteration is:\n",
      "[765]\tvalid_0's l1: 3.90633\n"
     ]
    },
    {
     "name": "stderr",
     "output_type": "stream",
     "text": [
      "[I 2025-06-27 22:54:27,045] Trial 49 finished with value: 13.010816339336145 and parameters: {'max_depth': 16, 'learning_rate': 0.03574200182162175, 'n_estimators': 765, 'min_child_weight': 2, 'subsample': 0.9158690424805265, 'colsample_bytree': 0.5817147621039089, 'reg_alpha': 0.9951838734046929, 'reg_lambda': 0.9513861357843706}. Best is trial 41 with value: 12.389729267352534.\n"
     ]
    },
    {
     "name": "stdout",
     "output_type": "stream",
     "text": [
      "\n",
      "🏆 Mejores parámetros:\n",
      "max_depth: 20\n",
      "learning_rate: 0.030897880551777897\n",
      "n_estimators: 544\n",
      "min_child_weight: 1\n",
      "subsample: 0.874619568382676\n",
      "colsample_bytree: 0.6778820699438167\n",
      "reg_alpha: 0.49149655286672733\n",
      "reg_lambda: 0.7981828538456203\n",
      "boosting_type: gbdt\n",
      "objective: regression\n",
      "metric: mae\n",
      "verbosity: -1\n",
      "deterministic: True\n",
      "force_col_wise: True\n",
      "\n",
      "Entrenando modelo final...\n",
      "Training until validation scores don't improve for 30 rounds\n",
      "Did not meet early stopping. Best iteration is:\n",
      "[543]\tvalid_0's l1: 4.9737\n",
      "Training until validation scores don't improve for 30 rounds\n",
      "Did not meet early stopping. Best iteration is:\n",
      "[544]\tvalid_0's l1: 5.03021\n",
      "Training until validation scores don't improve for 30 rounds\n",
      "Did not meet early stopping. Best iteration is:\n",
      "[544]\tvalid_0's l1: 5.03189\n",
      "Ensemble MAE Val: 4.9567\n",
      "\n",
      "🎯 MAE Test Ensemble: 4.8619\n",
      "\n",
      "Top 5 mejores trials:\n",
      "1. MAE: 12.3897\n",
      "2. MAE: 12.4282\n",
      "3. MAE: 12.5026\n",
      "4. MAE: 12.5130\n",
      "5. MAE: 12.5292\n"
     ]
    }
   ],
   "source": [
    "study, models, results = model_lgb.main_entrenar(df, VERSION=\"v13\")"
   ]
  },
  {
   "cell_type": "code",
   "execution_count": null,
   "id": "756fba15",
   "metadata": {},
   "outputs": [
    {
     "data": {
      "text/plain": [
       "{'mae_val': 4.956717124092388,\n",
       " 'mae_test': 4.8619254927456295,\n",
       " 'ensemble_pred': array([ 1.40075789e+03,  1.42303071e+03,  9.47133785e+02, ...,\n",
       "        -2.04589048e+00, -1.14853019e+00,  1.76687987e+00]),\n",
       " 'best_params': {'max_depth': 20,\n",
       "  'learning_rate': 0.030897880551777897,\n",
       "  'n_estimators': 544,\n",
       "  'min_child_weight': 1,\n",
       "  'subsample': 0.874619568382676,\n",
       "  'colsample_bytree': 0.6778820699438167,\n",
       "  'reg_alpha': 0.49149655286672733,\n",
       "  'reg_lambda': 0.7981828538456203,\n",
       "  'boosting_type': 'gbdt',\n",
       "  'objective': 'regression',\n",
       "  'metric': 'mae',\n",
       "  'verbosity': -1,\n",
       "  'deterministic': True,\n",
       "  'force_col_wise': True}}"
      ]
     },
     "execution_count": 71,
     "metadata": {},
     "output_type": "execute_result"
    }
   ],
   "source": [
    "study, models, "
   ]
  },
  {
   "cell_type": "code",
   "execution_count": 72,
   "id": "562ed0c1",
   "metadata": {},
   "outputs": [
    {
     "name": "stdout",
     "output_type": "stream",
     "text": [
      "📊 MAE Future: 27.5312\n"
     ]
    }
   ],
   "source": [
    "from sklearn.metrics import mean_squared_error, mean_absolute_error\n",
    "\n",
    "# Supongamos que querés predecir para los períodos 202011 y 202012\n",
    "periodos_future = [201912]\n",
    "df_future = df[df['periodo'].isin(periodos_future)].copy()\n",
    "\n",
    "# Asegurate de tener las mismas columnas que en entrenamiento\n",
    "features = [col for col in df.columns if col not in ['target']]\n",
    "\n",
    "# Predecir\n",
    "future_preds = model_lgb.predict_with_ensemble(models, df_future, features)\n",
    "\n",
    "# Si querés evaluar el MAE (solo si tenés target en esos períodos)\n",
    "if 'target' in df_future:\n",
    "    mae_future = mean_absolute_error(df_future['target'], future_preds)\n",
    "    print(f\"📊 MAE Future: {mae_future:.4f}\")\n",
    "\n",
    "# Guardar las predicciones\n",
    "df_future['pred_ensemble'] = future_preds"
   ]
  },
  {
   "cell_type": "code",
   "execution_count": 73,
   "id": "bca64c61",
   "metadata": {},
   "outputs": [],
   "source": [
    "productos_ok = pd.read_csv(\"https://storage.googleapis.com/open-courses/austral2025-af91/labo3v/product_id_apredecir201912.txt\", sep=\"\\t\")\n",
    "df_future = df_future[df_future['periodo'] == 201912]\n",
    "df_future = df_future[df_future['product_id'].isin(productos_ok['product_id'].unique())]\n",
    "df_future = df_future[['product_id', 'pred_ensemble']]\n",
    "df_future.rename(columns={'pred_ensemble': 'tn'}, inplace=True)\n",
    "df_future.to_csv(\"./outputs/predicciones_exp_05_lgb_fe_v1.csv\", index=False, sep=',')\n"
   ]
  },
  {
   "cell_type": "code",
   "execution_count": 74,
   "id": "7efbc12b",
   "metadata": {},
   "outputs": [
    {
     "data": {
      "application/vnd.microsoft.datawrangler.viewer.v0+json": {
       "columns": [
        {
         "name": "index",
         "rawType": "int64",
         "type": "integer"
        },
        {
         "name": "product_id",
         "rawType": "int64",
         "type": "integer"
        },
        {
         "name": "tn",
         "rawType": "float64",
         "type": "float"
        }
       ],
       "ref": "4eea47a9-91e4-41b2-913a-b69d2c74fe6e",
       "rows": [
        [
         "30745",
         "20302",
         "-5.1530566226585846"
        ],
        [
         "30747",
         "20304",
         "-3.1512039794419295"
        ],
        [
         "30811",
         "20378",
         "-0.11986081920384356"
        ],
        [
         "30812",
         "20379",
         "-0.6741364301842482"
        ],
        [
         "30815",
         "20382",
         "-2.8070604337205842"
        ],
        [
         "30827",
         "20398",
         "-7.387740878180576"
        ],
        [
         "30833",
         "20404",
         "-2.5337998987046144"
        ],
        [
         "30843",
         "20415",
         "-0.9985306305287871"
        ],
        [
         "30846",
         "20418",
         "-0.6311813146288657"
        ],
        [
         "30849",
         "20422",
         "-2.3476170226809097"
        ],
        [
         "30851",
         "20426",
         "-1.5456033416800425"
        ],
        [
         "30853",
         "20429",
         "-2.832407639781318"
        ],
        [
         "30855",
         "20433",
         "-0.6846259315718032"
        ],
        [
         "30856",
         "20434",
         "-3.1871162461173115"
        ],
        [
         "30863",
         "20449",
         "-1.2498570724959015"
        ],
        [
         "30867",
         "20456",
         "-0.30517556661457174"
        ],
        [
         "30882",
         "20477",
         "-0.8027024945373631"
        ],
        [
         "30883",
         "20478",
         "-3.263354233420408"
        ],
        [
         "30885",
         "20480",
         "-0.6968205797878317"
        ],
        [
         "30892",
         "20490",
         "-2.2009146210662043"
        ],
        [
         "30893",
         "20491",
         "-1.9059291643321075"
        ],
        [
         "30900",
         "20502",
         "-0.414292659196873"
        ],
        [
         "30904",
         "20508",
         "-2.607567710631882"
        ],
        [
         "30905",
         "20509",
         "-1.3531897303878828"
        ],
        [
         "30909",
         "20514",
         "-0.43447435092317505"
        ],
        [
         "30921",
         "20532",
         "-2.4297087590650936"
        ],
        [
         "30923",
         "20537",
         "-0.6789332803337521"
        ],
        [
         "30925",
         "20539",
         "-0.01445559962753698"
        ],
        [
         "30929",
         "20544",
         "-3.701485407267421"
        ],
        [
         "30935",
         "20552",
         "-0.9243704533767859"
        ],
        [
         "30943",
         "20561",
         "-1.100024063158706"
        ],
        [
         "30947",
         "20565",
         "-2.961659785724146"
        ],
        [
         "30950",
         "20569",
         "-1.8432667812675687"
        ],
        [
         "30952",
         "20571",
         "-1.7604613904770574"
        ],
        [
         "30953",
         "20572",
         "-0.1550358975252115"
        ],
        [
         "30954",
         "20574",
         "-1.3466218346170382"
        ],
        [
         "30956",
         "20576",
         "-3.6940885247805717"
        ],
        [
         "30961",
         "20583",
         "-0.511678660727778"
        ],
        [
         "30963",
         "20586",
         "-0.9500299712528485"
        ],
        [
         "30966",
         "20592",
         "-3.184036276475967"
        ],
        [
         "30967",
         "20593",
         "-3.4908576511837395"
        ],
        [
         "30970",
         "20596",
         "-0.05122565893125528"
        ],
        [
         "30971",
         "20597",
         "-0.058151776703377234"
        ],
        [
         "30972",
         "20599",
         "-1.3629349220781364"
        ],
        [
         "30975",
         "20602",
         "-0.1799670133893471"
        ],
        [
         "30977",
         "20604",
         "-3.415542353696266"
        ],
        [
         "30978",
         "20605",
         "-4.776643148421883"
        ],
        [
         "30982",
         "20612",
         "-1.5972789098059792"
        ],
        [
         "30984",
         "20615",
         "-1.1973625130645054"
        ],
        [
         "30988",
         "20622",
         "-2.834086041711842"
        ]
       ],
       "shape": {
        "columns": 2,
        "rows": 274
       }
      },
      "text/html": [
       "<div>\n",
       "<style scoped>\n",
       "    .dataframe tbody tr th:only-of-type {\n",
       "        vertical-align: middle;\n",
       "    }\n",
       "\n",
       "    .dataframe tbody tr th {\n",
       "        vertical-align: top;\n",
       "    }\n",
       "\n",
       "    .dataframe thead th {\n",
       "        text-align: right;\n",
       "    }\n",
       "</style>\n",
       "<table border=\"1\" class=\"dataframe\">\n",
       "  <thead>\n",
       "    <tr style=\"text-align: right;\">\n",
       "      <th></th>\n",
       "      <th>product_id</th>\n",
       "      <th>tn</th>\n",
       "    </tr>\n",
       "  </thead>\n",
       "  <tbody>\n",
       "    <tr>\n",
       "      <th>30745</th>\n",
       "      <td>20302</td>\n",
       "      <td>-5.153057</td>\n",
       "    </tr>\n",
       "    <tr>\n",
       "      <th>30747</th>\n",
       "      <td>20304</td>\n",
       "      <td>-3.151204</td>\n",
       "    </tr>\n",
       "    <tr>\n",
       "      <th>30811</th>\n",
       "      <td>20378</td>\n",
       "      <td>-0.119861</td>\n",
       "    </tr>\n",
       "    <tr>\n",
       "      <th>30812</th>\n",
       "      <td>20379</td>\n",
       "      <td>-0.674136</td>\n",
       "    </tr>\n",
       "    <tr>\n",
       "      <th>30815</th>\n",
       "      <td>20382</td>\n",
       "      <td>-2.807060</td>\n",
       "    </tr>\n",
       "    <tr>\n",
       "      <th>...</th>\n",
       "      <td>...</td>\n",
       "      <td>...</td>\n",
       "    </tr>\n",
       "    <tr>\n",
       "      <th>31353</th>\n",
       "      <td>21259</td>\n",
       "      <td>-3.817922</td>\n",
       "    </tr>\n",
       "    <tr>\n",
       "      <th>31354</th>\n",
       "      <td>21262</td>\n",
       "      <td>-4.824055</td>\n",
       "    </tr>\n",
       "    <tr>\n",
       "      <th>31355</th>\n",
       "      <td>21263</td>\n",
       "      <td>-4.935911</td>\n",
       "    </tr>\n",
       "    <tr>\n",
       "      <th>31358</th>\n",
       "      <td>21266</td>\n",
       "      <td>-4.755991</td>\n",
       "    </tr>\n",
       "    <tr>\n",
       "      <th>31359</th>\n",
       "      <td>21267</td>\n",
       "      <td>-5.517247</td>\n",
       "    </tr>\n",
       "  </tbody>\n",
       "</table>\n",
       "<p>274 rows × 2 columns</p>\n",
       "</div>"
      ],
      "text/plain": [
       "       product_id        tn\n",
       "30745       20302 -5.153057\n",
       "30747       20304 -3.151204\n",
       "30811       20378 -0.119861\n",
       "30812       20379 -0.674136\n",
       "30815       20382 -2.807060\n",
       "...           ...       ...\n",
       "31353       21259 -3.817922\n",
       "31354       21262 -4.824055\n",
       "31355       21263 -4.935911\n",
       "31358       21266 -4.755991\n",
       "31359       21267 -5.517247\n",
       "\n",
       "[274 rows x 2 columns]"
      ]
     },
     "execution_count": 74,
     "metadata": {},
     "output_type": "execute_result"
    }
   ],
   "source": [
    "df_future[df_future['tn'] < 0]"
   ]
  },
  {
   "cell_type": "code",
   "execution_count": 75,
   "id": "6b0bdec2",
   "metadata": {},
   "outputs": [
    {
     "data": {
      "application/vnd.microsoft.datawrangler.viewer.v0+json": {
       "columns": [
        {
         "name": "index",
         "rawType": "int64",
         "type": "integer"
        },
        {
         "name": "product_id",
         "rawType": "int64",
         "type": "integer"
        },
        {
         "name": "tn_x",
         "rawType": "float64",
         "type": "float"
        },
        {
         "name": "tn_y",
         "rawType": "float64",
         "type": "float"
        }
       ],
       "ref": "619a6daa-011a-4014-a925-09eca7a90288",
       "rows": [
        [
         "0",
         "20001",
         "1544.9250937977404",
         "1454.73272"
        ],
        [
         "1",
         "20002",
         "1121.1138716843695",
         "1175.4371416666665"
        ],
        [
         "2",
         "20003",
         "882.853085239171",
         "784.9764074999999"
        ],
        [
         "3",
         "20004",
         "716.8192943978552",
         "627.2153283333333"
        ],
        [
         "4",
         "20005",
         "748.6053518291086",
         "668.2701041666667"
        ],
        [
         "5",
         "20006",
         "442.8545813139255",
         "478.6137083333333"
        ],
        [
         "6",
         "20007",
         "442.63105694555406",
         "434.1378058333333"
        ],
        [
         "7",
         "20008",
         "378.22072192477566",
         "422.0481833333333"
        ],
        [
         "8",
         "20009",
         "544.5234352031906",
         "541.3225866666667"
        ],
        [
         "9",
         "20010",
         "367.27455911879673",
         "429.5746608333333"
        ],
        [
         "10",
         "20011",
         "338.1871515087438",
         "377.63544"
        ],
        [
         "11",
         "20012",
         "275.3712070023508",
         "332.228885"
        ],
        [
         "12",
         "20013",
         "382.8842066472152",
         "416.06292"
        ],
        [
         "13",
         "20014",
         "375.7730780924347",
         "414.70520000000005"
        ],
        [
         "14",
         "20015",
         "296.53086998886863",
         "369.02365166666664"
        ],
        [
         "15",
         "20016",
         "280.59113390437136",
         "288.51459"
        ],
        [
         "16",
         "20017",
         "231.1313241121851",
         "287.38575166666664"
        ],
        [
         "17",
         "20018",
         "204.32873211419712",
         "275.44511083333333"
        ],
        [
         "18",
         "20019",
         "281.2375278715919",
         "306.52162749999997"
        ],
        [
         "19",
         "20020",
         "226.794132964679",
         "280.10235416666666"
        ],
        [
         "20",
         "20021",
         "161.14939239990304",
         "259.495665"
        ],
        [
         "21",
         "20022",
         "201.1248881088188",
         "279.20400333333333"
        ],
        [
         "22",
         "20023",
         "156.73607447220743",
         "266.90118"
        ],
        [
         "23",
         "20024",
         "150.8397054660684",
         "222.11553"
        ],
        [
         "24",
         "20025",
         "184.26846231752896",
         "222.86218499999998"
        ],
        [
         "25",
         "20026",
         "229.8738100095426",
         "237.10623833333332"
        ],
        [
         "26",
         "20027",
         "207.19174478944936",
         "230.0149175"
        ],
        [
         "27",
         "20028",
         "156.3567708622583",
         "213.228015"
        ],
        [
         "28",
         "20029",
         "146.54735229112796",
         "185.16274833333333"
        ],
        [
         "29",
         "20030",
         "67.05549212767026",
         "127.85045000000001"
        ],
        [
         "30",
         "20031",
         "143.4986407801184",
         "185.90788666666666"
        ],
        [
         "31",
         "20032",
         "434.56288287237084",
         "590.33366"
        ],
        [
         "32",
         "20033",
         "98.84293791439173",
         "176.0324475"
        ],
        [
         "33",
         "20035",
         "120.26779095116063",
         "172.19100333333333"
        ],
        [
         "34",
         "20037",
         "97.61793406023837",
         "179.65005833333336"
        ],
        [
         "35",
         "20038",
         "114.95856117713254",
         "175.941565"
        ],
        [
         "36",
         "20039",
         "121.33266175296815",
         "144.37351750000002"
        ],
        [
         "37",
         "20041",
         "90.71737527618302",
         "144.23799083333333"
        ],
        [
         "38",
         "20042",
         "156.79731691887108",
         "174.63574083333333"
        ],
        [
         "39",
         "20043",
         "99.77814838960177",
         "137.17993833333333"
        ],
        [
         "40",
         "20044",
         "98.23639178399213",
         "169.413755"
        ],
        [
         "41",
         "20045",
         "85.66722248822123",
         "154.42506916666667"
        ],
        [
         "42",
         "20046",
         "98.1277364352087",
         "155.99976583333333"
        ],
        [
         "43",
         "20047",
         "135.755720066834",
         "165.353965"
        ],
        [
         "44",
         "20049",
         "120.45609665444174",
         "203.98650999999998"
        ],
        [
         "45",
         "20050",
         "94.7515748261216",
         "131.337005"
        ],
        [
         "46",
         "20051",
         "80.54367152644842",
         "150.87717916666668"
        ],
        [
         "47",
         "20052",
         "84.47144248358349",
         "119.09683416666667"
        ],
        [
         "48",
         "20053",
         "97.53624572647611",
         "146.06558583333333"
        ],
        [
         "49",
         "20054",
         "85.29608505021712",
         "137.87184249999999"
        ]
       ],
       "shape": {
        "columns": 3,
        "rows": 780
       }
      },
      "text/html": [
       "<div>\n",
       "<style scoped>\n",
       "    .dataframe tbody tr th:only-of-type {\n",
       "        vertical-align: middle;\n",
       "    }\n",
       "\n",
       "    .dataframe tbody tr th {\n",
       "        vertical-align: top;\n",
       "    }\n",
       "\n",
       "    .dataframe thead th {\n",
       "        text-align: right;\n",
       "    }\n",
       "</style>\n",
       "<table border=\"1\" class=\"dataframe\">\n",
       "  <thead>\n",
       "    <tr style=\"text-align: right;\">\n",
       "      <th></th>\n",
       "      <th>product_id</th>\n",
       "      <th>tn_x</th>\n",
       "      <th>tn_y</th>\n",
       "    </tr>\n",
       "  </thead>\n",
       "  <tbody>\n",
       "    <tr>\n",
       "      <th>0</th>\n",
       "      <td>20001</td>\n",
       "      <td>1544.925094</td>\n",
       "      <td>1454.732720</td>\n",
       "    </tr>\n",
       "    <tr>\n",
       "      <th>1</th>\n",
       "      <td>20002</td>\n",
       "      <td>1121.113872</td>\n",
       "      <td>1175.437142</td>\n",
       "    </tr>\n",
       "    <tr>\n",
       "      <th>2</th>\n",
       "      <td>20003</td>\n",
       "      <td>882.853085</td>\n",
       "      <td>784.976407</td>\n",
       "    </tr>\n",
       "    <tr>\n",
       "      <th>3</th>\n",
       "      <td>20004</td>\n",
       "      <td>716.819294</td>\n",
       "      <td>627.215328</td>\n",
       "    </tr>\n",
       "    <tr>\n",
       "      <th>4</th>\n",
       "      <td>20005</td>\n",
       "      <td>748.605352</td>\n",
       "      <td>668.270104</td>\n",
       "    </tr>\n",
       "    <tr>\n",
       "      <th>...</th>\n",
       "      <td>...</td>\n",
       "      <td>...</td>\n",
       "      <td>...</td>\n",
       "    </tr>\n",
       "    <tr>\n",
       "      <th>775</th>\n",
       "      <td>21263</td>\n",
       "      <td>-4.935911</td>\n",
       "      <td>0.029993</td>\n",
       "    </tr>\n",
       "    <tr>\n",
       "      <th>776</th>\n",
       "      <td>21265</td>\n",
       "      <td>0.723631</td>\n",
       "      <td>0.089541</td>\n",
       "    </tr>\n",
       "    <tr>\n",
       "      <th>777</th>\n",
       "      <td>21266</td>\n",
       "      <td>-4.755991</td>\n",
       "      <td>0.094659</td>\n",
       "    </tr>\n",
       "    <tr>\n",
       "      <th>778</th>\n",
       "      <td>21267</td>\n",
       "      <td>-5.517247</td>\n",
       "      <td>0.092835</td>\n",
       "    </tr>\n",
       "    <tr>\n",
       "      <th>779</th>\n",
       "      <td>21276</td>\n",
       "      <td>56.531890</td>\n",
       "      <td>0.045447</td>\n",
       "    </tr>\n",
       "  </tbody>\n",
       "</table>\n",
       "<p>780 rows × 3 columns</p>\n",
       "</div>"
      ],
      "text/plain": [
       "     product_id         tn_x         tn_y\n",
       "0         20001  1544.925094  1454.732720\n",
       "1         20002  1121.113872  1175.437142\n",
       "2         20003   882.853085   784.976407\n",
       "3         20004   716.819294   627.215328\n",
       "4         20005   748.605352   668.270104\n",
       "..          ...          ...          ...\n",
       "775       21263    -4.935911     0.029993\n",
       "776       21265     0.723631     0.089541\n",
       "777       21266    -4.755991     0.094659\n",
       "778       21267    -5.517247     0.092835\n",
       "779       21276    56.531890     0.045447\n",
       "\n",
       "[780 rows x 3 columns]"
      ]
     },
     "execution_count": 75,
     "metadata": {},
     "output_type": "execute_result"
    }
   ],
   "source": [
    "promedios = model_lgb.promedio_12_meses_780p()\n",
    "df_future = df_future.merge(promedios, on='product_id', how='left')\n",
    "df_future\n"
   ]
  },
  {
   "cell_type": "code",
   "execution_count": 76,
   "id": "4958d3be",
   "metadata": {},
   "outputs": [
    {
     "data": {
      "application/vnd.microsoft.datawrangler.viewer.v0+json": {
       "columns": [
        {
         "name": "index",
         "rawType": "int64",
         "type": "integer"
        },
        {
         "name": "product_id",
         "rawType": "int64",
         "type": "integer"
        },
        {
         "name": "tn",
         "rawType": "float64",
         "type": "float"
        },
        {
         "name": "tn_12m",
         "rawType": "float64",
         "type": "float"
        }
       ],
       "ref": "ca59d6a4-0939-4854-b576-ae3cbecf5481",
       "rows": [
        [
         "0",
         "20001",
         "1544.9250937977404",
         "1454.73272"
        ],
        [
         "1",
         "20002",
         "1121.1138716843695",
         "1175.4371416666665"
        ],
        [
         "2",
         "20003",
         "882.853085239171",
         "784.9764074999999"
        ],
        [
         "3",
         "20004",
         "716.8192943978552",
         "627.2153283333333"
        ],
        [
         "4",
         "20005",
         "748.6053518291086",
         "668.2701041666667"
        ],
        [
         "5",
         "20006",
         "442.8545813139255",
         "478.6137083333333"
        ],
        [
         "6",
         "20007",
         "442.63105694555406",
         "434.1378058333333"
        ],
        [
         "7",
         "20008",
         "378.22072192477566",
         "422.0481833333333"
        ],
        [
         "8",
         "20009",
         "544.5234352031906",
         "541.3225866666667"
        ],
        [
         "9",
         "20010",
         "367.27455911879673",
         "429.5746608333333"
        ],
        [
         "10",
         "20011",
         "338.1871515087438",
         "377.63544"
        ],
        [
         "11",
         "20012",
         "275.3712070023508",
         "332.228885"
        ],
        [
         "12",
         "20013",
         "382.8842066472152",
         "416.06292"
        ],
        [
         "13",
         "20014",
         "375.7730780924347",
         "414.70520000000005"
        ],
        [
         "14",
         "20015",
         "296.53086998886863",
         "369.02365166666664"
        ],
        [
         "15",
         "20016",
         "280.59113390437136",
         "288.51459"
        ],
        [
         "16",
         "20017",
         "231.1313241121851",
         "287.38575166666664"
        ],
        [
         "17",
         "20018",
         "204.32873211419712",
         "275.44511083333333"
        ],
        [
         "18",
         "20019",
         "281.2375278715919",
         "306.52162749999997"
        ],
        [
         "19",
         "20020",
         "226.794132964679",
         "280.10235416666666"
        ],
        [
         "20",
         "20021",
         "161.14939239990304",
         "259.495665"
        ],
        [
         "21",
         "20022",
         "201.1248881088188",
         "279.20400333333333"
        ],
        [
         "22",
         "20023",
         "156.73607447220743",
         "266.90118"
        ],
        [
         "23",
         "20024",
         "150.8397054660684",
         "222.11553"
        ],
        [
         "24",
         "20025",
         "184.26846231752896",
         "222.86218499999998"
        ],
        [
         "25",
         "20026",
         "229.8738100095426",
         "237.10623833333332"
        ],
        [
         "26",
         "20027",
         "207.19174478944936",
         "230.0149175"
        ],
        [
         "27",
         "20028",
         "156.3567708622583",
         "213.228015"
        ],
        [
         "28",
         "20029",
         "146.54735229112796",
         "185.16274833333333"
        ],
        [
         "29",
         "20030",
         "67.05549212767026",
         "127.85045000000001"
        ],
        [
         "30",
         "20031",
         "143.4986407801184",
         "185.90788666666666"
        ],
        [
         "31",
         "20032",
         "434.56288287237084",
         "590.33366"
        ],
        [
         "32",
         "20033",
         "98.84293791439173",
         "176.0324475"
        ],
        [
         "33",
         "20035",
         "120.26779095116063",
         "172.19100333333333"
        ],
        [
         "34",
         "20037",
         "97.61793406023837",
         "179.65005833333336"
        ],
        [
         "35",
         "20038",
         "114.95856117713254",
         "175.941565"
        ],
        [
         "36",
         "20039",
         "121.33266175296815",
         "144.37351750000002"
        ],
        [
         "37",
         "20041",
         "90.71737527618302",
         "144.23799083333333"
        ],
        [
         "38",
         "20042",
         "156.79731691887108",
         "174.63574083333333"
        ],
        [
         "39",
         "20043",
         "99.77814838960177",
         "137.17993833333333"
        ],
        [
         "40",
         "20044",
         "98.23639178399213",
         "169.413755"
        ],
        [
         "41",
         "20045",
         "85.66722248822123",
         "154.42506916666667"
        ],
        [
         "42",
         "20046",
         "98.1277364352087",
         "155.99976583333333"
        ],
        [
         "43",
         "20047",
         "135.755720066834",
         "165.353965"
        ],
        [
         "44",
         "20049",
         "120.45609665444174",
         "203.98650999999998"
        ],
        [
         "45",
         "20050",
         "94.7515748261216",
         "131.337005"
        ],
        [
         "46",
         "20051",
         "80.54367152644842",
         "150.87717916666668"
        ],
        [
         "47",
         "20052",
         "84.47144248358349",
         "119.09683416666667"
        ],
        [
         "48",
         "20053",
         "97.53624572647611",
         "146.06558583333333"
        ],
        [
         "49",
         "20054",
         "85.29608505021712",
         "137.87184249999999"
        ]
       ],
       "shape": {
        "columns": 3,
        "rows": 780
       }
      },
      "text/html": [
       "<div>\n",
       "<style scoped>\n",
       "    .dataframe tbody tr th:only-of-type {\n",
       "        vertical-align: middle;\n",
       "    }\n",
       "\n",
       "    .dataframe tbody tr th {\n",
       "        vertical-align: top;\n",
       "    }\n",
       "\n",
       "    .dataframe thead th {\n",
       "        text-align: right;\n",
       "    }\n",
       "</style>\n",
       "<table border=\"1\" class=\"dataframe\">\n",
       "  <thead>\n",
       "    <tr style=\"text-align: right;\">\n",
       "      <th></th>\n",
       "      <th>product_id</th>\n",
       "      <th>tn</th>\n",
       "      <th>tn_12m</th>\n",
       "    </tr>\n",
       "  </thead>\n",
       "  <tbody>\n",
       "    <tr>\n",
       "      <th>0</th>\n",
       "      <td>20001</td>\n",
       "      <td>1544.925094</td>\n",
       "      <td>1454.732720</td>\n",
       "    </tr>\n",
       "    <tr>\n",
       "      <th>1</th>\n",
       "      <td>20002</td>\n",
       "      <td>1121.113872</td>\n",
       "      <td>1175.437142</td>\n",
       "    </tr>\n",
       "    <tr>\n",
       "      <th>2</th>\n",
       "      <td>20003</td>\n",
       "      <td>882.853085</td>\n",
       "      <td>784.976407</td>\n",
       "    </tr>\n",
       "    <tr>\n",
       "      <th>3</th>\n",
       "      <td>20004</td>\n",
       "      <td>716.819294</td>\n",
       "      <td>627.215328</td>\n",
       "    </tr>\n",
       "    <tr>\n",
       "      <th>4</th>\n",
       "      <td>20005</td>\n",
       "      <td>748.605352</td>\n",
       "      <td>668.270104</td>\n",
       "    </tr>\n",
       "    <tr>\n",
       "      <th>...</th>\n",
       "      <td>...</td>\n",
       "      <td>...</td>\n",
       "      <td>...</td>\n",
       "    </tr>\n",
       "    <tr>\n",
       "      <th>775</th>\n",
       "      <td>21263</td>\n",
       "      <td>0.029993</td>\n",
       "      <td>0.029993</td>\n",
       "    </tr>\n",
       "    <tr>\n",
       "      <th>776</th>\n",
       "      <td>21265</td>\n",
       "      <td>0.723631</td>\n",
       "      <td>0.089541</td>\n",
       "    </tr>\n",
       "    <tr>\n",
       "      <th>777</th>\n",
       "      <td>21266</td>\n",
       "      <td>0.094659</td>\n",
       "      <td>0.094659</td>\n",
       "    </tr>\n",
       "    <tr>\n",
       "      <th>778</th>\n",
       "      <td>21267</td>\n",
       "      <td>0.092835</td>\n",
       "      <td>0.092835</td>\n",
       "    </tr>\n",
       "    <tr>\n",
       "      <th>779</th>\n",
       "      <td>21276</td>\n",
       "      <td>56.531890</td>\n",
       "      <td>0.045447</td>\n",
       "    </tr>\n",
       "  </tbody>\n",
       "</table>\n",
       "<p>780 rows × 3 columns</p>\n",
       "</div>"
      ],
      "text/plain": [
       "     product_id           tn       tn_12m\n",
       "0         20001  1544.925094  1454.732720\n",
       "1         20002  1121.113872  1175.437142\n",
       "2         20003   882.853085   784.976407\n",
       "3         20004   716.819294   627.215328\n",
       "4         20005   748.605352   668.270104\n",
       "..          ...          ...          ...\n",
       "775       21263     0.029993     0.029993\n",
       "776       21265     0.723631     0.089541\n",
       "777       21266     0.094659     0.094659\n",
       "778       21267     0.092835     0.092835\n",
       "779       21276    56.531890     0.045447\n",
       "\n",
       "[780 rows x 3 columns]"
      ]
     },
     "execution_count": 76,
     "metadata": {},
     "output_type": "execute_result"
    }
   ],
   "source": [
    "df_future.rename(columns={'tn_x': 'tn', 'tn_y': 'tn_12m'}, inplace=True)\n",
    "df_future['tn'] = df_future['tn'].mask(df_future['tn'] < 0, df_future['tn_12m'])\n",
    "df_future"
   ]
  },
  {
   "cell_type": "code",
   "execution_count": null,
   "id": "eb21e421",
   "metadata": {},
   "outputs": [],
   "source": [
    "df_future.drop(columns=['tn_12m'], inplace=True)\n",
    "df_future.to_csv(\"./outputs/predicciones_exp_05_lgb_fe_v2.csv\", index=False, sep=',')"
   ]
  },
  {
   "cell_type": "markdown",
   "id": "a1ea63eb",
   "metadata": {},
   "source": [
    "Feature importance"
   ]
  },
  {
   "cell_type": "code",
   "execution_count": 78,
   "id": "60e96a4f",
   "metadata": {},
   "outputs": [],
   "source": [
    "model_lgb.feature_importance(df, models, \"05\")"
   ]
  },
  {
   "cell_type": "code",
   "execution_count": 79,
   "id": "18b2c7df",
   "metadata": {},
   "outputs": [
    {
     "data": {
      "application/vnd.microsoft.datawrangler.viewer.v0+json": {
       "columns": [
        {
         "name": "index",
         "rawType": "int64",
         "type": "integer"
        },
        {
         "name": "feature",
         "rawType": "object",
         "type": "string"
        },
        {
         "name": "importance",
         "rawType": "float64",
         "type": "float"
        }
       ],
       "ref": "1f51023d-c067-4e2d-a426-a0f960dcc1bd",
       "rows": [
        [
         "16",
         "yearly_add",
         "0.025628317625392704"
        ],
        [
         "0",
         "product_id",
         "0.01794421574645819"
        ],
        [
         "1084",
         "tn_seasonal_naive",
         "0.014613425173629917"
        ],
        [
         "1119",
         "naive_forecast_error",
         "0.014388262978610719"
        ],
        [
         "1080",
         "tn_ytd_sum",
         "0.012997982342108113"
        ],
        [
         "1101",
         "cat2_avg_tn",
         "0.011976326749238675"
        ],
        [
         "1076",
         "tn_seasonality",
         "0.011506254589005643"
        ],
        [
         "1075",
         "tn_trend",
         "0.010463534707928596"
        ],
        [
         "17",
         "trend_mult",
         "0.009442104803861385"
        ],
        [
         "1086",
         "tn_best_month_rank",
         "0.009299093332851864"
        ],
        [
         "1091",
         "corr_tn_dolar_x_prod",
         "0.0089718445696265"
        ],
        [
         "1074",
         "tn_seasonal_diff_6",
         "0.00874664475980693"
        ],
        [
         "1093",
         "cust_request_ratio",
         "0.008603445214795556"
        ],
        [
         "15",
         "trend_add",
         "0.008256599140577041"
        ],
        [
         "1112",
         "tn_elecciones_legislativas_1_interaction",
         "0.00782812894955404"
        ],
        [
         "1083",
         "tn_naive_forecast",
         "0.007459315831919017"
        ],
        [
         "1117",
         "yearly_trend_interaction",
         "0.007255180310307058"
        ],
        [
         "18",
         "yearly_mult",
         "0.006867146029682592"
        ],
        [
         "1097",
         "tn_per_sku_size",
         "0.00656058540666113"
        ],
        [
         "1130",
         "tn_momentum_3",
         "0.0065398220368564864"
        ],
        [
         "1078",
         "tn_ewm_alpha_0.5",
         "0.006458197920051999"
        ],
        [
         "1133",
         "tn_trend_add_ratio",
         "0.006416934484045306"
        ],
        [
         "48",
         "tn_rolling_std_2",
         "0.006356111351845832"
        ],
        [
         "1100",
         "tn_life_velocity",
         "0.006294498308838575"
        ],
        [
         "1092",
         "tn_to_stock_ratio",
         "0.006193088807039083"
        ],
        [
         "12",
         "cust_request_qty",
         "0.006172287822434068"
        ],
        [
         "1120",
         "trend_season_std_interaction",
         "0.006151862985832761"
        ],
        [
         "1090",
         "corr_tn_ipc",
         "0.006008512981619904"
        ],
        [
         "510",
         "cust_request_qty_rolling_std_2",
         "0.006008437752019163"
        ],
        [
         "40",
         "tn_delta_lag4_lag6",
         "0.005803850852802754"
        ],
        [
         "1123",
         "tn_lag2_minus_rolling_median3",
         "0.005701425751393253"
        ],
        [
         "24",
         "tn_delta_lag1_lag2",
         "0.005538440821386873"
        ],
        [
         "29",
         "tn_delta_lag1_lag7",
         "0.005538177517784278"
        ],
        [
         "1089",
         "corr_tn_dolar",
         "0.005457042393384609"
        ],
        [
         "1124",
         "tn_acceleration_1_2",
         "0.005456666245380903"
        ],
        [
         "42",
         "tn_delta_lag5_lag6",
         "0.005313692389171752"
        ],
        [
         "1111",
         "month_life_interaction",
         "0.005253057330974133"
        ],
        [
         "130",
         "autocorr_lag_4",
         "0.005252756412571166"
        ],
        [
         "1125",
         "tn_acceleration_2_3",
         "0.005252493108968572"
        ],
        [
         "25",
         "tn_delta_lag1_lag3",
         "0.005170793762563343"
        ],
        [
         "36",
         "tn_delta_lag3_lag5",
         "0.005149879933557216"
        ],
        [
         "26",
         "tn_delta_lag1_lag4",
         "0.005047943824552534"
        ],
        [
         "128",
         "autocorr_lag_2",
         "0.004844109221343541"
        ],
        [
         "39",
         "tn_delta_lag4_lag5",
         "0.004823157777537043"
        ],
        [
         "1072",
         "tn_expanding_mean",
         "0.0048028834001372185"
        ],
        [
         "31",
         "tn_delta_lag2_lag4",
         "0.004782609022737395"
        ],
        [
         "30",
         "tn_delta_lag2_lag3",
         "0.004680334380529376"
        ],
        [
         "45",
         "tn_delta_lag7_lag8",
         "0.004679281166118996"
        ],
        [
         "35",
         "tn_delta_lag3_lag4",
         "0.004598710263724889"
        ],
        [
         "1088",
         "ipc",
         "0.004598296500920811"
        ]
       ],
       "shape": {
        "columns": 2,
        "rows": 1135
       }
      },
      "text/html": [
       "<div>\n",
       "<style scoped>\n",
       "    .dataframe tbody tr th:only-of-type {\n",
       "        vertical-align: middle;\n",
       "    }\n",
       "\n",
       "    .dataframe tbody tr th {\n",
       "        vertical-align: top;\n",
       "    }\n",
       "\n",
       "    .dataframe thead th {\n",
       "        text-align: right;\n",
       "    }\n",
       "</style>\n",
       "<table border=\"1\" class=\"dataframe\">\n",
       "  <thead>\n",
       "    <tr style=\"text-align: right;\">\n",
       "      <th></th>\n",
       "      <th>feature</th>\n",
       "      <th>importance</th>\n",
       "    </tr>\n",
       "  </thead>\n",
       "  <tbody>\n",
       "    <tr>\n",
       "      <th>16</th>\n",
       "      <td>yearly_add</td>\n",
       "      <td>0.025628</td>\n",
       "    </tr>\n",
       "    <tr>\n",
       "      <th>0</th>\n",
       "      <td>product_id</td>\n",
       "      <td>0.017944</td>\n",
       "    </tr>\n",
       "    <tr>\n",
       "      <th>1084</th>\n",
       "      <td>tn_seasonal_naive</td>\n",
       "      <td>0.014613</td>\n",
       "    </tr>\n",
       "    <tr>\n",
       "      <th>1119</th>\n",
       "      <td>naive_forecast_error</td>\n",
       "      <td>0.014388</td>\n",
       "    </tr>\n",
       "    <tr>\n",
       "      <th>1080</th>\n",
       "      <td>tn_ytd_sum</td>\n",
       "      <td>0.012998</td>\n",
       "    </tr>\n",
       "    <tr>\n",
       "      <th>...</th>\n",
       "      <td>...</td>\n",
       "      <td>...</td>\n",
       "    </tr>\n",
       "    <tr>\n",
       "      <th>1053</th>\n",
       "      <td>stock_final_rolling_max_18</td>\n",
       "      <td>0.000000</td>\n",
       "    </tr>\n",
       "    <tr>\n",
       "      <th>1052</th>\n",
       "      <td>stock_final_rolling_max_17</td>\n",
       "      <td>0.000000</td>\n",
       "    </tr>\n",
       "    <tr>\n",
       "      <th>1051</th>\n",
       "      <td>stock_final_rolling_max_16</td>\n",
       "      <td>0.000000</td>\n",
       "    </tr>\n",
       "    <tr>\n",
       "      <th>1050</th>\n",
       "      <td>stock_final_rolling_max_15</td>\n",
       "      <td>0.000000</td>\n",
       "    </tr>\n",
       "    <tr>\n",
       "      <th>630</th>\n",
       "      <td>stock_final_lag_14</td>\n",
       "      <td>0.000000</td>\n",
       "    </tr>\n",
       "  </tbody>\n",
       "</table>\n",
       "<p>1135 rows × 2 columns</p>\n",
       "</div>"
      ],
      "text/plain": [
       "                         feature  importance\n",
       "16                    yearly_add    0.025628\n",
       "0                     product_id    0.017944\n",
       "1084           tn_seasonal_naive    0.014613\n",
       "1119        naive_forecast_error    0.014388\n",
       "1080                  tn_ytd_sum    0.012998\n",
       "...                          ...         ...\n",
       "1053  stock_final_rolling_max_18    0.000000\n",
       "1052  stock_final_rolling_max_17    0.000000\n",
       "1051  stock_final_rolling_max_16    0.000000\n",
       "1050  stock_final_rolling_max_15    0.000000\n",
       "630           stock_final_lag_14    0.000000\n",
       "\n",
       "[1135 rows x 2 columns]"
      ]
     },
     "execution_count": 79,
     "metadata": {},
     "output_type": "execute_result"
    }
   ],
   "source": [
    "importances = model_lgb.feature_importance_promedio(models, df.drop(columns=['target']))\n",
    "importances.sort_values(by='importance', ascending=False, inplace=True) \n",
    "importances"
   ]
  }
 ],
 "metadata": {
  "kernelspec": {
   "display_name": "py311lab3",
   "language": "python",
   "name": "python3"
  },
  "language_info": {
   "codemirror_mode": {
    "name": "ipython",
    "version": 3
   },
   "file_extension": ".py",
   "mimetype": "text/x-python",
   "name": "python",
   "nbconvert_exporter": "python",
   "pygments_lexer": "ipython3",
   "version": "3.11.13"
  }
 },
 "nbformat": 4,
 "nbformat_minor": 5
}
