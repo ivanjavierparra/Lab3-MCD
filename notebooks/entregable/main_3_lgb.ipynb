{
 "cells": [
  {
   "cell_type": "code",
   "execution_count": 34,
   "id": "dbae8eac",
   "metadata": {},
   "outputs": [],
   "source": [
    "import pandas as pd\n",
    "import numpy as np\n",
    "import importlib\n",
    "import gc\n",
    "import sys\n",
    "import warnings\n",
    "sys.path.append('./scripts')  \n",
    "import preprocesamiento\n",
    "import feature_engineering\n",
    "import model_lgb\n",
    "importlib.reload(preprocesamiento)\n",
    "importlib.reload(model_lgb)\n",
    "importlib.reload(feature_engineering)\n",
    "warnings.filterwarnings(\"ignore\")"
   ]
  },
  {
   "cell_type": "markdown",
   "id": "3fe552bd",
   "metadata": {},
   "source": [
    "##### Experimento 03\n",
    "Más FE, 50 trials, valores negativos de prediccion se puso el promedio 12 meses"
   ]
  },
  {
   "cell_type": "markdown",
   "id": "3e128128",
   "metadata": {},
   "source": [
    "##### Levantamos el dataset con target ya calculado"
   ]
  },
  {
   "cell_type": "code",
   "execution_count": 8,
   "id": "23d157af",
   "metadata": {},
   "outputs": [
    {
     "data": {
      "text/plain": [
       "(31362, 19)"
      ]
     },
     "execution_count": 8,
     "metadata": {},
     "output_type": "execute_result"
    }
   ],
   "source": [
    "df = pd.read_csv(\"./datasets/periodo_x_producto_con_target.csv\", sep=',', encoding='utf-8')\n",
    "df.shape"
   ]
  },
  {
   "cell_type": "markdown",
   "id": "b6556d30",
   "metadata": {},
   "source": [
    "##### Preprocesamiento a la minima expresión :)"
   ]
  },
  {
   "cell_type": "code",
   "execution_count": 9,
   "id": "9665b526",
   "metadata": {},
   "outputs": [
    {
     "data": {
      "text/plain": [
       "(31362, 162)"
      ]
     },
     "execution_count": 9,
     "metadata": {},
     "output_type": "execute_result"
    }
   ],
   "source": [
    "##### aplicamos OHE\n",
    "df = preprocesamiento.aplicarOHE(df)\n",
    "df.shape"
   ]
  },
  {
   "cell_type": "markdown",
   "id": "902b1e13",
   "metadata": {},
   "source": [
    "### Feature Engineering"
   ]
  },
  {
   "cell_type": "markdown",
   "id": "2bd77df9",
   "metadata": {},
   "source": [
    "##### Neural Prophet"
   ]
  },
  {
   "cell_type": "code",
   "execution_count": 10,
   "id": "34d306ff",
   "metadata": {},
   "outputs": [
    {
     "data": {
      "text/plain": [
       "(31362, 165)"
      ]
     },
     "execution_count": 10,
     "metadata": {},
     "output_type": "execute_result"
    }
   ],
   "source": [
    "neural_prophet_fe = pd.read_csv(\"./datasets/features_neuralprophet_completo.csv\", sep=',', encoding='utf-8')\n",
    "neural_prophet_fe['ds'] = pd.to_datetime(neural_prophet_fe['ds'], errors='coerce')\n",
    "# Versión alternativa más robusta:\n",
    "neural_prophet_fe['periodo'] = neural_prophet_fe['ds'].apply(\n",
    "    lambda x: x.year * 100 + x.month if pd.notnull(x) else None\n",
    ")\n",
    "neural_prophet_fe = neural_prophet_fe[['periodo', 'product_id', 'trend', \"season_yearly\", \"season_monthly\"]]\n",
    "df = df.merge(neural_prophet_fe, on=['periodo', 'product_id'], how='left')\n",
    "df.shape"
   ]
  },
  {
   "cell_type": "markdown",
   "id": "ff026986",
   "metadata": {},
   "source": [
    "##### Prophet"
   ]
  },
  {
   "cell_type": "code",
   "execution_count": 11,
   "id": "4318910f",
   "metadata": {},
   "outputs": [
    {
     "data": {
      "text/plain": [
       "(31362, 171)"
      ]
     },
     "execution_count": 11,
     "metadata": {},
     "output_type": "execute_result"
    }
   ],
   "source": [
    "prophet_fe = pd.read_csv(\"./datasets/prophet_features_tn_zscore.csv\", sep=',', encoding='utf-8')\n",
    "prophet_fe['ds'] = pd.to_datetime(prophet_fe['ds'], errors='coerce')\n",
    "prophet_fe['periodo'] = prophet_fe['ds'].apply(\n",
    "    lambda x: x.year * 100 + x.month if pd.notnull(x) else None\n",
    ")\n",
    "prophet_fe = prophet_fe[['periodo', 'product_id', 'trend_add', \"yearly_add\", \"additive_terms\", 'trend_mult', 'yearly_mult', 'multiplicative_terms']]\n",
    "df = df.merge(prophet_fe, on=['periodo', 'product_id'], how='left')\n",
    "df.shape"
   ]
  },
  {
   "cell_type": "markdown",
   "id": "2eb4d3aa",
   "metadata": {},
   "source": [
    "##### FE Moviles"
   ]
  },
  {
   "cell_type": "code",
   "execution_count": 12,
   "id": "7dc30b4c",
   "metadata": {},
   "outputs": [
    {
     "data": {
      "text/plain": [
       "(31362, 805)"
      ]
     },
     "execution_count": 12,
     "metadata": {},
     "output_type": "execute_result"
    }
   ],
   "source": [
    "df = feature_engineering.get_lags(df, \"tn\", 201912)\n",
    "df = feature_engineering.get_delta_lags(df, \"tn\", 24)\n",
    "df = feature_engineering.get_rolling_means(df, \"tn\", 201912)\n",
    "df = feature_engineering.get_rolling_stds(df, \"tn\", 201912)\n",
    "df = feature_engineering.get_rolling_mins(df, \"tn\", 201912)\n",
    "df = feature_engineering.get_rolling_maxs(df, \"tn\", 201912)\n",
    "df = feature_engineering.get_rolling_medians(df, \"tn\", 201912)\n",
    "df = feature_engineering.get_rolling_skewness(df, \"tn\", 201912)\n",
    "df = feature_engineering.get_autocorrelaciones(df, \"tn\", 201912)\n",
    "df = feature_engineering.add_delta_ma_ratios(df, \"tn\", 24)\n",
    "df.shape"
   ]
  },
  {
   "cell_type": "markdown",
   "id": "e2436c9b",
   "metadata": {},
   "source": [
    "##### FE Moviles sobre otras variables"
   ]
  },
  {
   "cell_type": "code",
   "execution_count": 13,
   "id": "0dca7531",
   "metadata": {},
   "outputs": [],
   "source": [
    "# #  stock final\n",
    "# df = feature_engineering.get_lagsEspecificos(df, col='stock_final_zscore')\n",
    "# df = feature_engineering.get_delta_lags_especificos(df, col='stock_final_zscore')\n",
    "# df = feature_engineering.get_rolling_means_especificos(df, col='stock_final_zscore')\n",
    "# df = feature_engineering.get_rolling_stds_especificos(df, col='stock_final_zscore')\n",
    "# df = feature_engineering.get_rolling_medians_especificos(df, col='stock_final_zscore')\n",
    "# df = feature_engineering.get_rolling_mins_especificos(df, col='stock_final_zscore')\n",
    "# df = feature_engineering.get_rolling_maxs_especificos(df, col='stock_final_zscore')\n",
    "# df = feature_engineering.get_rolling_skewness_especificos(df, col='stock_final_zscore')\n",
    "\n",
    "# #  cust_request_qty\n",
    "# df = feature_engineering.get_lagsEspecificos(df, col='cust_request_qty_zscore')\n",
    "# df = feature_engineering.get_delta_lags_especificos(df, col='cust_request_qty_zscore')\n",
    "# df = feature_engineering.get_rolling_means_especificos(df, col='cust_request_qty_zscore')\n",
    "# df = feature_engineering.get_rolling_stds_especificos(df, col='cust_request_qty_zscore')\n",
    "# df = feature_engineering.get_rolling_medians_especificos(df, col='cust_request_qty_zscore')\n",
    "# df = feature_engineering.get_rolling_mins_especificos(df, col='cust_request_qty_zscore')\n",
    "# df = feature_engineering.get_rolling_maxs_especificos(df, col='cust_request_qty_zscore')\n",
    "# df = feature_engineering.get_rolling_skewness_especificos(df, col='cust_request_qty_zscore')"
   ]
  },
  {
   "cell_type": "markdown",
   "id": "6fb9716d",
   "metadata": {},
   "source": [
    "##### FE Calendario"
   ]
  },
  {
   "cell_type": "code",
   "execution_count": 14,
   "id": "3e810260",
   "metadata": {},
   "outputs": [
    {
     "data": {
      "text/plain": [
       "(31362, 830)"
      ]
     },
     "execution_count": 14,
     "metadata": {},
     "output_type": "execute_result"
    }
   ],
   "source": [
    "df = feature_engineering.generar_ids(df)\n",
    "df = feature_engineering.get_componentesTemporales(df)\n",
    "df = feature_engineering.get_anomaliasPoliticas(df)\n",
    "# df = feature_engineering.descomposicion_serie_temporal(df, col='tn')\n",
    "df.shape"
   ]
  },
  {
   "cell_type": "markdown",
   "id": "b34d19db",
   "metadata": {},
   "source": [
    "##### FE sobre FE"
   ]
  },
  {
   "cell_type": "code",
   "execution_count": 15,
   "id": "14345585",
   "metadata": {},
   "outputs": [
    {
     "data": {
      "text/plain": [
       "(31362, 859)"
      ]
     },
     "execution_count": 15,
     "metadata": {},
     "output_type": "execute_result"
    }
   ],
   "source": [
    "df = feature_engineering.chatGPT_features_serie(df, \"tn\")\n",
    "df = feature_engineering.mes_con_feriado(df)\n",
    "df.shape"
   ]
  },
  {
   "cell_type": "markdown",
   "id": "62f1cbad",
   "metadata": {},
   "source": [
    "##### Variables Exogenas"
   ]
  },
  {
   "cell_type": "code",
   "execution_count": 16,
   "id": "d10e572a",
   "metadata": {},
   "outputs": [
    {
     "data": {
      "text/plain": [
       "(31362, 862)"
      ]
     },
     "execution_count": 16,
     "metadata": {},
     "output_type": "execute_result"
    }
   ],
   "source": [
    "df = feature_engineering.get_dolar(df)\n",
    "df = feature_engineering.get_IPC(df)\n",
    "df['ipc'] = df['ipc'].str.replace(',', '.').astype(float)\n",
    "df['dolar'] = df['dolar'].str.replace(',', '.').astype(float)\n",
    "# df.drop(columns=['ds'], inplace=True)\n",
    "df.fillna(0, inplace=True) ##### EXPERIMENTAR\n",
    "df = feature_engineering.correlacion_exogenas(df)\n",
    "df = feature_engineering.get_mes_receso_escolar(df)\n",
    "df.shape"
   ]
  },
  {
   "cell_type": "markdown",
   "id": "4ff4ee13",
   "metadata": {},
   "source": [
    "##### EXP 2\n",
    "\n",
    "-   Es el EXP 1 pero con linear_tree=True\n",
    "\n",
    "Conclusion: dio horrible.\n"
   ]
  },
  {
   "cell_type": "code",
   "execution_count": 17,
   "id": "f43f0ecc",
   "metadata": {},
   "outputs": [
    {
     "name": "stderr",
     "output_type": "stream",
     "text": [
      "[I 2025-06-26 14:02:29,400] A new study created in memory with name: no-name-90c48cbe-492d-43e9-90b5-3df7e117b152\n"
     ]
    },
    {
     "name": "stdout",
     "output_type": "stream",
     "text": [
      "Features: ['product_id', 'periodo', 'nacimiento_producto', 'muerte_producto', 'mes_n', 'total_meses', 'producto_nuevo', 'ciclo_de_vida_inicial', 'sku_size', 'stock_final', 'tn', 'plan_precios_cuidados', 'cust_request_qty', 'cust_request_tn', 'cat1_FOODS', 'cat1_HC', 'cat1_PC', 'cat1_REF', 'cat1_nan', 'cat2_ADEREZOS', 'cat2_CABELLO', 'cat2_DENTAL', 'cat2_DEOS', 'cat2_HOGAR', 'cat2_OTROS', 'cat2_PIEL1', 'cat2_PIEL2', 'cat2_PROFESIONAL', 'cat2_ROPA ACONDICIONADOR', 'cat2_ROPA LAVADO', 'cat2_ROPA MANCHAS', 'cat2_SOPAS Y CALDOS', 'cat2_TE', 'cat2_VAJILLA', 'cat2_nan', 'cat3_ACONDICIONADOR', 'cat3_Acond Bebe', 'cat3_Acond Mujer', 'cat3_Aero', 'cat3_Aji Picante', 'cat3_Almidon', 'cat3_Antigrasa', 'cat3_Azul', 'cat3_BARRAS', 'cat3_Baking Bags', 'cat3_Barbacoa', 'cat3_Barra', 'cat3_Baño', 'cat3_Bizcochuelo', 'cat3_CREMA', 'cat3_CUIDADO ESPECIAL', 'cat3_Caldo Cubo', 'cat3_Caldos Granulados', 'cat3_Cara', 'cat3_Cepilllo', 'cat3_Chimichurri', 'cat3_Concentrado', 'cat3_Cremoso', 'cat3_Cristalino', 'cat3_Cuerpo', 'cat3_DETOX', 'cat3_Desmaquillante', 'cat3_Diluido', 'cat3_Dishes', 'cat3_Especial', 'cat3_Esponja', 'cat3_Frutas', 'cat3_Galletitas', 'cat3_Gel', 'cat3_Gel Ducha', 'cat3_Granolas', 'cat3_Hierbas', 'cat3_INDUSTRIAL', 'cat3_Jabon Antibacterial', 'cat3_Jabon Barba', 'cat3_Jabon Barra', 'cat3_Jabon Bebe', 'cat3_Jabon Glicerina', 'cat3_Jabon Hotel', 'cat3_Jabon Regular', 'cat3_Ketchup', 'cat3_LAVANDINA EN GEL', 'cat3_LIQUIDOS', 'cat3_Ladrillo', 'cat3_Limpieza', 'cat3_Limpieza Cara', 'cat3_Liquido', 'cat3_Mayonesa', 'cat3_Mostaza', 'cat3_NUTRICION', 'cat3_Niños', 'cat3_NoAero', 'cat3_Opaco', 'cat3_PACKS', 'cat3_PISOS', 'cat3_POST WASH', 'cat3_Paño', 'cat3_Pies Aero', 'cat3_Pies NoAero', 'cat3_Pies Talco', 'cat3_Polvo', 'cat3_Pure de Papas', 'cat3_Pure de Tomate', 'cat3_PurePapas', 'cat3_Repelente', 'cat3_RollOn', 'cat3_SHAMPOO', 'cat3_SUAVIZANTE', 'cat3_Salsa Golf', 'cat3_Salsas', 'cat3_Salsas Dry', 'cat3_Salsas Wet', 'cat3_Sazonadores', 'cat3_Shampoo Bebe', 'cat3_Sopas', 'cat3_Stick', 'cat3_Styling', 'cat3_TOILETTE', 'cat3_Talco', 'cat3_Toallitas Bebe', 'cat3_Tratamiento Fem', 'cat3_Tratamiento Masc', 'cat3_Verde', 'cat3_Vidrios', 'cat3_nan', 'brand_ARIEL', 'brand_AYUDIN', 'brand_CAPILATIS', 'brand_COLBERT', 'brand_COLGATE', 'brand_DEOS1', 'brand_DEOS2', 'brand_DEOS3', 'brand_DOWNY', 'brand_ESPADOL', 'brand_GOMINA', 'brand_HARINAMA', 'brand_Importado', 'brand_JABON1', 'brand_LANCOME', 'brand_LIMPIEX', 'brand_MAGGI', 'brand_MAGGI2', 'brand_MAJESTA', 'brand_MAYOS3', 'brand_MOSTAZA1', 'brand_MUSCULO', 'brand_NATURA', 'brand_NIVEA', 'brand_OFF', 'brand_ROPEX1', 'brand_ROPEX2', 'brand_SALSATI', 'brand_SHAMPOO1', 'brand_SHAMPOO2', 'brand_SHAMPOO3', 'brand_SKIN1', 'brand_TWININGS', 'brand_VICHY', 'brand_VIVERE', 'brand_nan', 'trend', 'season_yearly', 'season_monthly', 'trend_add', 'yearly_add', 'additive_terms', 'trend_mult', 'yearly_mult', 'multiplicative_terms', 'tn_lag_1', 'tn_lag_2', 'tn_lag_3', 'tn_lag_4', 'tn_lag_5', 'tn_lag_6', 'tn_lag_7', 'tn_lag_8', 'tn_lag_9', 'tn_lag_10', 'tn_lag_11', 'tn_lag_12', 'tn_lag_13', 'tn_lag_14', 'tn_lag_15', 'tn_lag_16', 'tn_lag_17', 'tn_lag_18', 'tn_lag_19', 'tn_lag_20', 'tn_lag_21', 'tn_lag_22', 'tn_lag_23', 'tn_lag_24', 'tn_lag_25', 'tn_lag_26', 'tn_lag_27', 'tn_lag_28', 'tn_lag_29', 'tn_lag_30', 'tn_lag_31', 'tn_lag_32', 'tn_lag_33', 'tn_lag_34', 'tn_lag_35', 'tn_delta_lag1_lag2', 'tn_delta_lag1_lag3', 'tn_delta_lag1_lag4', 'tn_delta_lag1_lag5', 'tn_delta_lag1_lag6', 'tn_delta_lag1_lag7', 'tn_delta_lag1_lag8', 'tn_delta_lag1_lag9', 'tn_delta_lag1_lag10', 'tn_delta_lag1_lag11', 'tn_delta_lag1_lag12', 'tn_delta_lag1_lag13', 'tn_delta_lag1_lag14', 'tn_delta_lag1_lag15', 'tn_delta_lag1_lag16', 'tn_delta_lag1_lag17', 'tn_delta_lag1_lag18', 'tn_delta_lag1_lag19', 'tn_delta_lag1_lag20', 'tn_delta_lag1_lag21', 'tn_delta_lag1_lag22', 'tn_delta_lag1_lag23', 'tn_delta_lag1_lag24', 'tn_delta_lag2_lag3', 'tn_delta_lag2_lag4', 'tn_delta_lag2_lag5', 'tn_delta_lag2_lag6', 'tn_delta_lag2_lag7', 'tn_delta_lag2_lag8', 'tn_delta_lag2_lag9', 'tn_delta_lag2_lag10', 'tn_delta_lag2_lag11', 'tn_delta_lag2_lag12', 'tn_delta_lag2_lag13', 'tn_delta_lag2_lag14', 'tn_delta_lag2_lag15', 'tn_delta_lag2_lag16', 'tn_delta_lag2_lag17', 'tn_delta_lag2_lag18', 'tn_delta_lag2_lag19', 'tn_delta_lag2_lag20', 'tn_delta_lag2_lag21', 'tn_delta_lag2_lag22', 'tn_delta_lag2_lag23', 'tn_delta_lag2_lag24', 'tn_delta_lag3_lag4', 'tn_delta_lag3_lag5', 'tn_delta_lag3_lag6', 'tn_delta_lag3_lag7', 'tn_delta_lag3_lag8', 'tn_delta_lag3_lag9', 'tn_delta_lag3_lag10', 'tn_delta_lag3_lag11', 'tn_delta_lag3_lag12', 'tn_delta_lag3_lag13', 'tn_delta_lag3_lag14', 'tn_delta_lag3_lag15', 'tn_delta_lag3_lag16', 'tn_delta_lag3_lag17', 'tn_delta_lag3_lag18', 'tn_delta_lag3_lag19', 'tn_delta_lag3_lag20', 'tn_delta_lag3_lag21', 'tn_delta_lag3_lag22', 'tn_delta_lag3_lag23', 'tn_delta_lag3_lag24', 'tn_delta_lag4_lag5', 'tn_delta_lag4_lag6', 'tn_delta_lag4_lag7', 'tn_delta_lag4_lag8', 'tn_delta_lag4_lag9', 'tn_delta_lag4_lag10', 'tn_delta_lag4_lag11', 'tn_delta_lag4_lag12', 'tn_delta_lag4_lag13', 'tn_delta_lag4_lag14', 'tn_delta_lag4_lag15', 'tn_delta_lag4_lag16', 'tn_delta_lag4_lag17', 'tn_delta_lag4_lag18', 'tn_delta_lag4_lag19', 'tn_delta_lag4_lag20', 'tn_delta_lag4_lag21', 'tn_delta_lag4_lag22', 'tn_delta_lag4_lag23', 'tn_delta_lag4_lag24', 'tn_delta_lag5_lag6', 'tn_delta_lag5_lag7', 'tn_delta_lag5_lag8', 'tn_delta_lag5_lag9', 'tn_delta_lag5_lag10', 'tn_delta_lag5_lag11', 'tn_delta_lag5_lag12', 'tn_delta_lag5_lag13', 'tn_delta_lag5_lag14', 'tn_delta_lag5_lag15', 'tn_delta_lag5_lag16', 'tn_delta_lag5_lag17', 'tn_delta_lag5_lag18', 'tn_delta_lag5_lag19', 'tn_delta_lag5_lag20', 'tn_delta_lag5_lag21', 'tn_delta_lag5_lag22', 'tn_delta_lag5_lag23', 'tn_delta_lag5_lag24', 'tn_delta_lag6_lag7', 'tn_delta_lag6_lag8', 'tn_delta_lag6_lag9', 'tn_delta_lag6_lag10', 'tn_delta_lag6_lag11', 'tn_delta_lag6_lag12', 'tn_delta_lag6_lag13', 'tn_delta_lag6_lag14', 'tn_delta_lag6_lag15', 'tn_delta_lag6_lag16', 'tn_delta_lag6_lag17', 'tn_delta_lag6_lag18', 'tn_delta_lag6_lag19', 'tn_delta_lag6_lag20', 'tn_delta_lag6_lag21', 'tn_delta_lag6_lag22', 'tn_delta_lag6_lag23', 'tn_delta_lag6_lag24', 'tn_delta_lag7_lag8', 'tn_delta_lag7_lag9', 'tn_delta_lag7_lag10', 'tn_delta_lag7_lag11', 'tn_delta_lag7_lag12', 'tn_delta_lag7_lag13', 'tn_delta_lag7_lag14', 'tn_delta_lag7_lag15', 'tn_delta_lag7_lag16', 'tn_delta_lag7_lag17', 'tn_delta_lag7_lag18', 'tn_delta_lag7_lag19', 'tn_delta_lag7_lag20', 'tn_delta_lag7_lag21', 'tn_delta_lag7_lag22', 'tn_delta_lag7_lag23', 'tn_delta_lag7_lag24', 'tn_delta_lag8_lag9', 'tn_delta_lag8_lag10', 'tn_delta_lag8_lag11', 'tn_delta_lag8_lag12', 'tn_delta_lag8_lag13', 'tn_delta_lag8_lag14', 'tn_delta_lag8_lag15', 'tn_delta_lag8_lag16', 'tn_delta_lag8_lag17', 'tn_delta_lag8_lag18', 'tn_delta_lag8_lag19', 'tn_delta_lag8_lag20', 'tn_delta_lag8_lag21', 'tn_delta_lag8_lag22', 'tn_delta_lag8_lag23', 'tn_delta_lag8_lag24', 'tn_delta_lag9_lag10', 'tn_delta_lag9_lag11', 'tn_delta_lag9_lag12', 'tn_delta_lag9_lag13', 'tn_delta_lag9_lag14', 'tn_delta_lag9_lag15', 'tn_delta_lag9_lag16', 'tn_delta_lag9_lag17', 'tn_delta_lag9_lag18', 'tn_delta_lag9_lag19', 'tn_delta_lag9_lag20', 'tn_delta_lag9_lag21', 'tn_delta_lag9_lag22', 'tn_delta_lag9_lag23', 'tn_delta_lag9_lag24', 'tn_delta_lag10_lag11', 'tn_delta_lag10_lag12', 'tn_delta_lag10_lag13', 'tn_delta_lag10_lag14', 'tn_delta_lag10_lag15', 'tn_delta_lag10_lag16', 'tn_delta_lag10_lag17', 'tn_delta_lag10_lag18', 'tn_delta_lag10_lag19', 'tn_delta_lag10_lag20', 'tn_delta_lag10_lag21', 'tn_delta_lag10_lag22', 'tn_delta_lag10_lag23', 'tn_delta_lag10_lag24', 'tn_delta_lag11_lag12', 'tn_delta_lag11_lag13', 'tn_delta_lag11_lag14', 'tn_delta_lag11_lag15', 'tn_delta_lag11_lag16', 'tn_delta_lag11_lag17', 'tn_delta_lag11_lag18', 'tn_delta_lag11_lag19', 'tn_delta_lag11_lag20', 'tn_delta_lag11_lag21', 'tn_delta_lag11_lag22', 'tn_delta_lag11_lag23', 'tn_delta_lag11_lag24', 'tn_delta_lag12_lag13', 'tn_delta_lag12_lag14', 'tn_delta_lag12_lag15', 'tn_delta_lag12_lag16', 'tn_delta_lag12_lag17', 'tn_delta_lag12_lag18', 'tn_delta_lag12_lag19', 'tn_delta_lag12_lag20', 'tn_delta_lag12_lag21', 'tn_delta_lag12_lag22', 'tn_delta_lag12_lag23', 'tn_delta_lag12_lag24', 'tn_delta_lag13_lag14', 'tn_delta_lag13_lag15', 'tn_delta_lag13_lag16', 'tn_delta_lag13_lag17', 'tn_delta_lag13_lag18', 'tn_delta_lag13_lag19', 'tn_delta_lag13_lag20', 'tn_delta_lag13_lag21', 'tn_delta_lag13_lag22', 'tn_delta_lag13_lag23', 'tn_delta_lag13_lag24', 'tn_delta_lag14_lag15', 'tn_delta_lag14_lag16', 'tn_delta_lag14_lag17', 'tn_delta_lag14_lag18', 'tn_delta_lag14_lag19', 'tn_delta_lag14_lag20', 'tn_delta_lag14_lag21', 'tn_delta_lag14_lag22', 'tn_delta_lag14_lag23', 'tn_delta_lag14_lag24', 'tn_delta_lag15_lag16', 'tn_delta_lag15_lag17', 'tn_delta_lag15_lag18', 'tn_delta_lag15_lag19', 'tn_delta_lag15_lag20', 'tn_delta_lag15_lag21', 'tn_delta_lag15_lag22', 'tn_delta_lag15_lag23', 'tn_delta_lag15_lag24', 'tn_delta_lag16_lag17', 'tn_delta_lag16_lag18', 'tn_delta_lag16_lag19', 'tn_delta_lag16_lag20', 'tn_delta_lag16_lag21', 'tn_delta_lag16_lag22', 'tn_delta_lag16_lag23', 'tn_delta_lag16_lag24', 'tn_delta_lag17_lag18', 'tn_delta_lag17_lag19', 'tn_delta_lag17_lag20', 'tn_delta_lag17_lag21', 'tn_delta_lag17_lag22', 'tn_delta_lag17_lag23', 'tn_delta_lag17_lag24', 'tn_delta_lag18_lag19', 'tn_delta_lag18_lag20', 'tn_delta_lag18_lag21', 'tn_delta_lag18_lag22', 'tn_delta_lag18_lag23', 'tn_delta_lag18_lag24', 'tn_delta_lag19_lag20', 'tn_delta_lag19_lag21', 'tn_delta_lag19_lag22', 'tn_delta_lag19_lag23', 'tn_delta_lag19_lag24', 'tn_delta_lag20_lag21', 'tn_delta_lag20_lag22', 'tn_delta_lag20_lag23', 'tn_delta_lag20_lag24', 'tn_delta_lag21_lag22', 'tn_delta_lag21_lag23', 'tn_delta_lag21_lag24', 'tn_delta_lag22_lag23', 'tn_delta_lag22_lag24', 'tn_delta_lag23_lag24', 'tn_rolling_mean_1', 'tn_rolling_mean_2', 'tn_rolling_mean_3', 'tn_rolling_mean_4', 'tn_rolling_mean_5', 'tn_rolling_mean_6', 'tn_rolling_mean_7', 'tn_rolling_mean_8', 'tn_rolling_mean_9', 'tn_rolling_mean_10', 'tn_rolling_mean_11', 'tn_rolling_mean_12', 'tn_rolling_mean_13', 'tn_rolling_mean_14', 'tn_rolling_mean_15', 'tn_rolling_mean_16', 'tn_rolling_mean_17', 'tn_rolling_mean_18', 'tn_rolling_mean_19', 'tn_rolling_mean_20', 'tn_rolling_mean_21', 'tn_rolling_mean_22', 'tn_rolling_mean_23', 'tn_rolling_mean_24', 'tn_rolling_mean_25', 'tn_rolling_mean_26', 'tn_rolling_mean_27', 'tn_rolling_mean_28', 'tn_rolling_mean_29', 'tn_rolling_mean_30', 'tn_rolling_mean_31', 'tn_rolling_mean_32', 'tn_rolling_mean_33', 'tn_rolling_mean_34', 'tn_rolling_mean_35', 'tn_rolling_mean_36', 'tn_rolling_std_1', 'tn_rolling_std_2', 'tn_rolling_std_3', 'tn_rolling_std_4', 'tn_rolling_std_5', 'tn_rolling_std_6', 'tn_rolling_std_7', 'tn_rolling_std_8', 'tn_rolling_std_9', 'tn_rolling_std_10', 'tn_rolling_std_11', 'tn_rolling_std_12', 'tn_rolling_std_13', 'tn_rolling_std_14', 'tn_rolling_std_15', 'tn_rolling_std_16', 'tn_rolling_std_17', 'tn_rolling_std_18', 'tn_rolling_std_19', 'tn_rolling_std_20', 'tn_rolling_std_21', 'tn_rolling_std_22', 'tn_rolling_std_23', 'tn_rolling_std_24', 'tn_rolling_std_25', 'tn_rolling_std_26', 'tn_rolling_std_27', 'tn_rolling_std_28', 'tn_rolling_std_29', 'tn_rolling_std_30', 'tn_rolling_std_31', 'tn_rolling_std_32', 'tn_rolling_std_33', 'tn_rolling_std_34', 'tn_rolling_std_35', 'tn_rolling_std_36', 'tn_rolling_min_1', 'tn_rolling_min_2', 'tn_rolling_min_3', 'tn_rolling_min_4', 'tn_rolling_min_5', 'tn_rolling_min_6', 'tn_rolling_min_7', 'tn_rolling_min_8', 'tn_rolling_min_9', 'tn_rolling_min_10', 'tn_rolling_min_11', 'tn_rolling_min_12', 'tn_rolling_min_13', 'tn_rolling_min_14', 'tn_rolling_min_15', 'tn_rolling_min_16', 'tn_rolling_min_17', 'tn_rolling_min_18', 'tn_rolling_min_19', 'tn_rolling_min_20', 'tn_rolling_min_21', 'tn_rolling_min_22', 'tn_rolling_min_23', 'tn_rolling_min_24', 'tn_rolling_min_25', 'tn_rolling_min_26', 'tn_rolling_min_27', 'tn_rolling_min_28', 'tn_rolling_min_29', 'tn_rolling_min_30', 'tn_rolling_min_31', 'tn_rolling_min_32', 'tn_rolling_min_33', 'tn_rolling_min_34', 'tn_rolling_min_35', 'tn_rolling_min_36', 'tn_rolling_max_1', 'tn_rolling_max_2', 'tn_rolling_max_3', 'tn_rolling_max_4', 'tn_rolling_max_5', 'tn_rolling_max_6', 'tn_rolling_max_7', 'tn_rolling_max_8', 'tn_rolling_max_9', 'tn_rolling_max_10', 'tn_rolling_max_11', 'tn_rolling_max_12', 'tn_rolling_max_13', 'tn_rolling_max_14', 'tn_rolling_max_15', 'tn_rolling_max_16', 'tn_rolling_max_17', 'tn_rolling_max_18', 'tn_rolling_max_19', 'tn_rolling_max_20', 'tn_rolling_max_21', 'tn_rolling_max_22', 'tn_rolling_max_23', 'tn_rolling_max_24', 'tn_rolling_max_25', 'tn_rolling_max_26', 'tn_rolling_max_27', 'tn_rolling_max_28', 'tn_rolling_max_29', 'tn_rolling_max_30', 'tn_rolling_max_31', 'tn_rolling_max_32', 'tn_rolling_max_33', 'tn_rolling_max_34', 'tn_rolling_max_35', 'tn_rolling_max_36', 'tn_rolling_median_1', 'tn_rolling_median_2', 'tn_rolling_median_3', 'tn_rolling_median_4', 'tn_rolling_median_5', 'tn_rolling_median_6', 'tn_rolling_median_7', 'tn_rolling_median_8', 'tn_rolling_median_9', 'tn_rolling_median_10', 'tn_rolling_median_11', 'tn_rolling_median_12', 'tn_rolling_median_13', 'tn_rolling_median_14', 'tn_rolling_median_15', 'tn_rolling_median_16', 'tn_rolling_median_17', 'tn_rolling_median_18', 'tn_rolling_median_19', 'tn_rolling_median_20', 'tn_rolling_median_21', 'tn_rolling_median_22', 'tn_rolling_median_23', 'tn_rolling_median_24', 'tn_rolling_median_25', 'tn_rolling_median_26', 'tn_rolling_median_27', 'tn_rolling_median_28', 'tn_rolling_median_29', 'tn_rolling_median_30', 'tn_rolling_median_31', 'tn_rolling_median_32', 'tn_rolling_median_33', 'tn_rolling_median_34', 'tn_rolling_median_35', 'tn_rolling_median_36', 'tn_rolling_skew_1', 'tn_rolling_skew_2', 'tn_rolling_skew_3', 'tn_rolling_skew_4', 'tn_rolling_skew_5', 'tn_rolling_skew_6', 'tn_rolling_skew_7', 'tn_rolling_skew_8', 'tn_rolling_skew_9', 'tn_rolling_skew_10', 'tn_rolling_skew_11', 'tn_rolling_skew_12', 'tn_rolling_skew_13', 'tn_rolling_skew_14', 'tn_rolling_skew_15', 'tn_rolling_skew_16', 'tn_rolling_skew_17', 'tn_rolling_skew_18', 'tn_rolling_skew_19', 'tn_rolling_skew_20', 'tn_rolling_skew_21', 'tn_rolling_skew_22', 'tn_rolling_skew_23', 'tn_rolling_skew_24', 'tn_rolling_skew_25', 'tn_rolling_skew_26', 'tn_rolling_skew_27', 'tn_rolling_skew_28', 'tn_rolling_skew_29', 'tn_rolling_skew_30', 'tn_rolling_skew_31', 'tn_rolling_skew_32', 'tn_rolling_skew_33', 'tn_rolling_skew_34', 'tn_rolling_skew_35', 'tn_rolling_skew_36', 'autocorr_lag_1', 'autocorr_lag_2', 'autocorr_lag_3', 'autocorr_lag_4', 'autocorr_lag_5', 'autocorr_lag_6', 'autocorr_lag_7', 'autocorr_lag_8', 'autocorr_lag_9', 'autocorr_lag_10', 'autocorr_lag_11', 'autocorr_lag_12', 'autocorr_lag_13', 'autocorr_lag_14', 'autocorr_lag_15', 'autocorr_lag_16', 'autocorr_lag_17', 'autocorr_lag_18', 'autocorr_lag_19', 'autocorr_lag_20', 'autocorr_lag_21', 'autocorr_lag_22', 'autocorr_lag_23', 'autocorr_lag_24', 'autocorr_lag_25', 'autocorr_lag_26', 'autocorr_lag_27', 'autocorr_lag_28', 'autocorr_lag_29', 'autocorr_lag_30', 'autocorr_lag_31', 'autocorr_lag_32', 'autocorr_lag_33', 'autocorr_lag_34', 'autocorr_lag_35', 'tn_delta_lag1', 'tn_ma_lag1', 'tn_delta_div_ma_lag1', 'tn_delta_lag2', 'tn_ma_lag2', 'tn_delta_div_ma_lag2', 'tn_delta_lag3', 'tn_ma_lag3', 'tn_delta_div_ma_lag3', 'tn_delta_lag4', 'tn_ma_lag4', 'tn_delta_div_ma_lag4', 'tn_delta_lag5', 'tn_ma_lag5', 'tn_delta_div_ma_lag5', 'tn_delta_lag6', 'tn_ma_lag6', 'tn_delta_div_ma_lag6', 'tn_delta_lag7', 'tn_ma_lag7', 'tn_delta_div_ma_lag7', 'tn_delta_lag8', 'tn_ma_lag8', 'tn_delta_div_ma_lag8', 'tn_delta_lag9', 'tn_ma_lag9', 'tn_delta_div_ma_lag9', 'tn_delta_lag10', 'tn_ma_lag10', 'tn_delta_div_ma_lag10', 'tn_delta_lag11', 'tn_ma_lag11', 'tn_delta_div_ma_lag11', 'tn_delta_lag12', 'tn_ma_lag12', 'tn_delta_div_ma_lag12', 'tn_delta_lag13', 'tn_ma_lag13', 'tn_delta_div_ma_lag13', 'tn_delta_lag14', 'tn_ma_lag14', 'tn_delta_div_ma_lag14', 'tn_delta_lag15', 'tn_ma_lag15', 'tn_delta_div_ma_lag15', 'tn_delta_lag16', 'tn_ma_lag16', 'tn_delta_div_ma_lag16', 'tn_delta_lag17', 'tn_ma_lag17', 'tn_delta_div_ma_lag17', 'tn_delta_lag18', 'tn_ma_lag18', 'tn_delta_div_ma_lag18', 'tn_delta_lag19', 'tn_ma_lag19', 'tn_delta_div_ma_lag19', 'tn_delta_lag20', 'tn_ma_lag20', 'tn_delta_div_ma_lag20', 'tn_delta_lag21', 'tn_ma_lag21', 'tn_delta_div_ma_lag21', 'tn_delta_lag22', 'tn_ma_lag22', 'tn_delta_div_ma_lag22', 'tn_delta_lag23', 'tn_ma_lag23', 'tn_delta_div_ma_lag23', 'tn_delta_lag24', 'tn_ma_lag24', 'tn_delta_div_ma_lag24', 'id', 'year', 'month', 'quarter', 'semester', 'dias_en_mes', 'week_of_year', 'year_end', 'year_start', 'season', 'month_sin', 'month_cos', 'quarter_sin', 'quarter_cos', 'dia_del_year', 'dia_del_year_sin', 'dia_del_year_cos', 'elecciones_legislativas_1', 'elecciones_legislativas_2', 'crisis_cambiaria_1', 'crisis_cambiaria_2', 'las_paso_2019_1', 'las_paso_2019_2', 'devaluacion_post_PASO', 'elecciones_presidenciales_2019', 'tn_expanding_mean', 'tn_cumulative_sum', 'tn_seasonal_diff_6', 'tn_seasonal_diff_12', 'tn_seasonal_diff_18', 'tn_seasonal_diff_24', 'tn_vs_prev_year', 'tn_trend', 'tn_seasonality', 'tn_ewm_alpha_0.3', 'tn_ewm_alpha_0.5', 'tn_rolling_center_mean_3', 'tn_ytd_sum', 'tn_time_index', 'tn_trend_linear', 'tn_trend_quadratic', 'tn_residual_trend', 'tn_ratio_mean6_std6', 'tn_is_outlier_3sigma', 'tn_naive_forecast', 'tn_seasonal_naive', 'tn_ma_forecast_3', 'tn_best_month_rank', 'tn_vs_last_year_same_month', 'tn_last3_vs_ly3', 'contiene_feriado', 'dolar', 'ipc', 'corr_tn_dolar', 'corr_tn_ipc', 'corr_tn_dolar_x_prod', 'receso_escolar', 'tn_scaled']\n",
      "Training until validation scores don't improve for 30 rounds\n",
      "Early stopping, best iteration is:\n",
      "[12]\tvalid_0's l1: 25.4048\n",
      "Training until validation scores don't improve for 30 rounds\n",
      "Early stopping, best iteration is:\n",
      "[11]\tvalid_0's l1: 23.3302\n",
      "Training until validation scores don't improve for 30 rounds\n",
      "Early stopping, best iteration is:\n",
      "[18]\tvalid_0's l1: 19.9007\n",
      "Training until validation scores don't improve for 30 rounds\n",
      "Early stopping, best iteration is:\n",
      "[19]\tvalid_0's l1: 16.0437\n",
      "Training until validation scores don't improve for 30 rounds\n",
      "Early stopping, best iteration is:\n",
      "[20]\tvalid_0's l1: 15.8095\n",
      "Training until validation scores don't improve for 30 rounds\n",
      "Early stopping, best iteration is:\n",
      "[22]\tvalid_0's l1: 15.3494\n",
      "Training until validation scores don't improve for 30 rounds\n",
      "Early stopping, best iteration is:\n",
      "[50]\tvalid_0's l1: 13.4424\n",
      "Training until validation scores don't improve for 30 rounds\n",
      "Early stopping, best iteration is:\n",
      "[101]\tvalid_0's l1: 13.5373\n",
      "Training until validation scores don't improve for 30 rounds\n",
      "Early stopping, best iteration is:\n",
      "[28]\tvalid_0's l1: 12.7873\n",
      "Training until validation scores don't improve for 30 rounds\n",
      "Early stopping, best iteration is:\n",
      "[46]\tvalid_0's l1: 11.2317\n",
      "Training until validation scores don't improve for 30 rounds\n",
      "Early stopping, best iteration is:\n",
      "[14]\tvalid_0's l1: 14.2232\n",
      "Training until validation scores don't improve for 30 rounds\n",
      "Early stopping, best iteration is:\n",
      "[91]\tvalid_0's l1: 11.175\n",
      "Training until validation scores don't improve for 30 rounds\n",
      "Early stopping, best iteration is:\n",
      "[45]\tvalid_0's l1: 11.6644\n",
      "Training until validation scores don't improve for 30 rounds\n",
      "Early stopping, best iteration is:\n",
      "[41]\tvalid_0's l1: 12.1898\n",
      "Training until validation scores don't improve for 30 rounds\n",
      "Early stopping, best iteration is:\n",
      "[68]\tvalid_0's l1: 11.6543\n",
      "Training until validation scores don't improve for 30 rounds\n",
      "Did not meet early stopping. Best iteration is:\n",
      "[759]\tvalid_0's l1: 1.64122\n",
      "Training until validation scores don't improve for 30 rounds\n",
      "Did not meet early stopping. Best iteration is:\n",
      "[759]\tvalid_0's l1: 1.66661\n",
      "Training until validation scores don't improve for 30 rounds\n",
      "Did not meet early stopping. Best iteration is:\n",
      "[758]\tvalid_0's l1: 1.51472\n"
     ]
    },
    {
     "name": "stderr",
     "output_type": "stream",
     "text": [
      "[I 2025-06-26 14:05:03,052] Trial 0 finished with value: 15.182921813785393 and parameters: {'max_depth': 9, 'learning_rate': 0.2536999076681772, 'n_estimators': 759, 'min_child_weight': 6, 'subsample': 0.5780093202212182, 'colsample_bytree': 0.5779972601681014, 'reg_alpha': 0.05808361216819946, 'reg_lambda': 0.8661761457749352}. Best is trial 0 with value: 15.182921813785393.\n"
     ]
    },
    {
     "name": "stdout",
     "output_type": "stream",
     "text": [
      "Training until validation scores don't improve for 30 rounds\n",
      "Early stopping, best iteration is:\n",
      "[27]\tvalid_0's l1: 21.5676\n",
      "Training until validation scores don't improve for 30 rounds\n",
      "Early stopping, best iteration is:\n",
      "[28]\tvalid_0's l1: 25.6977\n",
      "Training until validation scores don't improve for 30 rounds\n",
      "Early stopping, best iteration is:\n",
      "[30]\tvalid_0's l1: 21.763\n",
      "Training until validation scores don't improve for 30 rounds\n",
      "Early stopping, best iteration is:\n",
      "[50]\tvalid_0's l1: 14.786\n",
      "Training until validation scores don't improve for 30 rounds\n",
      "Early stopping, best iteration is:\n",
      "[57]\tvalid_0's l1: 14.6243\n",
      "Training until validation scores don't improve for 30 rounds\n",
      "Early stopping, best iteration is:\n",
      "[45]\tvalid_0's l1: 15.0878\n",
      "Training until validation scores don't improve for 30 rounds\n",
      "Did not meet early stopping. Best iteration is:\n",
      "[117]\tvalid_0's l1: 12.2931\n",
      "Training until validation scores don't improve for 30 rounds\n",
      "Did not meet early stopping. Best iteration is:\n",
      "[118]\tvalid_0's l1: 12.0014\n",
      "Training until validation scores don't improve for 30 rounds\n",
      "Did not meet early stopping. Best iteration is:\n",
      "[118]\tvalid_0's l1: 12.2822\n",
      "Training until validation scores don't improve for 30 rounds\n",
      "Did not meet early stopping. Best iteration is:\n",
      "[99]\tvalid_0's l1: 10.2777\n",
      "Training until validation scores don't improve for 30 rounds\n",
      "Early stopping, best iteration is:\n",
      "[49]\tvalid_0's l1: 14.3278\n",
      "Training until validation scores don't improve for 30 rounds\n",
      "Early stopping, best iteration is:\n",
      "[35]\tvalid_0's l1: 10.1642\n",
      "Training until validation scores don't improve for 30 rounds\n",
      "Did not meet early stopping. Best iteration is:\n",
      "[118]\tvalid_0's l1: 10.7611\n",
      "Training until validation scores don't improve for 30 rounds\n",
      "Did not meet early stopping. Best iteration is:\n",
      "[114]\tvalid_0's l1: 10.4342\n",
      "Training until validation scores don't improve for 30 rounds\n",
      "Did not meet early stopping. Best iteration is:\n",
      "[118]\tvalid_0's l1: 10.7193\n",
      "Training until validation scores don't improve for 30 rounds\n",
      "Did not meet early stopping. Best iteration is:\n",
      "[118]\tvalid_0's l1: 6.91507\n",
      "Training until validation scores don't improve for 30 rounds\n",
      "Did not meet early stopping. Best iteration is:\n",
      "[118]\tvalid_0's l1: 7.07043\n",
      "Training until validation scores don't improve for 30 rounds\n"
     ]
    },
    {
     "name": "stderr",
     "output_type": "stream",
     "text": [
      "[I 2025-06-26 14:06:21,974] Trial 1 finished with value: 14.452486459406611 and parameters: {'max_depth': 13, 'learning_rate': 0.11114989443094977, 'n_estimators': 118, 'min_child_weight': 10, 'subsample': 0.9162213204002109, 'colsample_bytree': 0.6061695553391381, 'reg_alpha': 0.18182496720710062, 'reg_lambda': 0.18340450985343382}. Best is trial 1 with value: 14.452486459406611.\n"
     ]
    },
    {
     "name": "stdout",
     "output_type": "stream",
     "text": [
      "Did not meet early stopping. Best iteration is:\n",
      "[118]\tvalid_0's l1: 6.98418\n",
      "Training until validation scores don't improve for 30 rounds\n",
      "Early stopping, best iteration is:\n",
      "[88]\tvalid_0's l1: 21.5281\n",
      "Training until validation scores don't improve for 30 rounds\n",
      "Early stopping, best iteration is:\n",
      "[139]\tvalid_0's l1: 19.3153\n",
      "Training until validation scores don't improve for 30 rounds\n",
      "Early stopping, best iteration is:\n",
      "[74]\tvalid_0's l1: 19.7168\n",
      "Training until validation scores don't improve for 30 rounds\n",
      "Early stopping, best iteration is:\n",
      "[155]\tvalid_0's l1: 13.6337\n",
      "Training until validation scores don't improve for 30 rounds\n",
      "Early stopping, best iteration is:\n",
      "[120]\tvalid_0's l1: 13.9851\n",
      "Training until validation scores don't improve for 30 rounds\n",
      "Early stopping, best iteration is:\n",
      "[139]\tvalid_0's l1: 13.706\n",
      "Training until validation scores don't improve for 30 rounds\n",
      "Early stopping, best iteration is:\n",
      "[281]\tvalid_0's l1: 10.3983\n",
      "Training until validation scores don't improve for 30 rounds\n",
      "Early stopping, best iteration is:\n",
      "[324]\tvalid_0's l1: 10.3462\n",
      "Training until validation scores don't improve for 30 rounds\n",
      "Early stopping, best iteration is:\n",
      "[302]\tvalid_0's l1: 10.1149\n",
      "Training until validation scores don't improve for 30 rounds\n",
      "Early stopping, best iteration is:\n",
      "[317]\tvalid_0's l1: 9.87382\n",
      "Training until validation scores don't improve for 30 rounds\n",
      "Early stopping, best iteration is:\n",
      "[173]\tvalid_0's l1: 9.99109\n",
      "Training until validation scores don't improve for 30 rounds\n",
      "Early stopping, best iteration is:\n",
      "[206]\tvalid_0's l1: 9.88118\n",
      "Training until validation scores don't improve for 30 rounds\n",
      "Early stopping, best iteration is:\n",
      "[224]\tvalid_0's l1: 9.72887\n",
      "Training until validation scores don't improve for 30 rounds\n",
      "Early stopping, best iteration is:\n",
      "[213]\tvalid_0's l1: 9.70578\n",
      "Training until validation scores don't improve for 30 rounds\n",
      "Early stopping, best iteration is:\n",
      "[194]\tvalid_0's l1: 9.8655\n",
      "Training until validation scores don't improve for 30 rounds\n",
      "Did not meet early stopping. Best iteration is:\n",
      "[489]\tvalid_0's l1: 3.84883\n",
      "Training until validation scores don't improve for 30 rounds\n",
      "Did not meet early stopping. Best iteration is:\n",
      "[489]\tvalid_0's l1: 3.81516\n",
      "Training until validation scores don't improve for 30 rounds\n"
     ]
    },
    {
     "name": "stderr",
     "output_type": "stream",
     "text": [
      "[I 2025-06-26 14:09:18,643] Trial 2 finished with value: 12.786034158485974 and parameters: {'max_depth': 8, 'learning_rate': 0.05958389350068958, 'n_estimators': 489, 'min_child_weight': 3, 'subsample': 0.8059264473611898, 'colsample_bytree': 0.569746930326021, 'reg_alpha': 0.29214464853521815, 'reg_lambda': 0.3663618432936917}. Best is trial 2 with value: 12.786034158485974.\n"
     ]
    },
    {
     "name": "stdout",
     "output_type": "stream",
     "text": [
      "Did not meet early stopping. Best iteration is:\n",
      "[489]\tvalid_0's l1: 3.86946\n",
      "Training until validation scores don't improve for 30 rounds\n",
      "Early stopping, best iteration is:\n",
      "[27]\tvalid_0's l1: 23.1619\n",
      "Training until validation scores don't improve for 30 rounds\n",
      "Early stopping, best iteration is:\n",
      "[36]\tvalid_0's l1: 21.0472\n",
      "Training until validation scores don't improve for 30 rounds\n",
      "Early stopping, best iteration is:\n",
      "[30]\tvalid_0's l1: 19.8725\n",
      "Training until validation scores don't improve for 30 rounds\n",
      "Early stopping, best iteration is:\n",
      "[41]\tvalid_0's l1: 14.7193\n",
      "Training until validation scores don't improve for 30 rounds\n",
      "Early stopping, best iteration is:\n",
      "[40]\tvalid_0's l1: 15.5975\n",
      "Training until validation scores don't improve for 30 rounds\n",
      "Early stopping, best iteration is:\n",
      "[50]\tvalid_0's l1: 14.8027\n",
      "Training until validation scores don't improve for 30 rounds\n",
      "Early stopping, best iteration is:\n",
      "[150]\tvalid_0's l1: 11.4526\n",
      "Training until validation scores don't improve for 30 rounds\n",
      "Early stopping, best iteration is:\n",
      "[181]\tvalid_0's l1: 11.7823\n",
      "Training until validation scores don't improve for 30 rounds\n",
      "Early stopping, best iteration is:\n",
      "[113]\tvalid_0's l1: 11.6749\n",
      "Training until validation scores don't improve for 30 rounds\n",
      "Early stopping, best iteration is:\n",
      "[87]\tvalid_0's l1: 10.6681\n",
      "Training until validation scores don't improve for 30 rounds\n",
      "Early stopping, best iteration is:\n",
      "[154]\tvalid_0's l1: 10.6557\n",
      "Training until validation scores don't improve for 30 rounds\n",
      "Early stopping, best iteration is:\n",
      "[63]\tvalid_0's l1: 10.6244\n",
      "Training until validation scores don't improve for 30 rounds\n",
      "Early stopping, best iteration is:\n",
      "[126]\tvalid_0's l1: 10.0583\n",
      "Training until validation scores don't improve for 30 rounds\n",
      "Early stopping, best iteration is:\n",
      "[114]\tvalid_0's l1: 10.1193\n",
      "Training until validation scores don't improve for 30 rounds\n",
      "Early stopping, best iteration is:\n",
      "[138]\tvalid_0's l1: 10.0632\n",
      "Training until validation scores don't improve for 30 rounds\n",
      "Did not meet early stopping. Best iteration is:\n",
      "[279]\tvalid_0's l1: 3.85936\n",
      "Training until validation scores don't improve for 30 rounds\n",
      "Did not meet early stopping. Best iteration is:\n",
      "[279]\tvalid_0's l1: 3.79701\n",
      "Training until validation scores don't improve for 30 rounds\n"
     ]
    },
    {
     "name": "stderr",
     "output_type": "stream",
     "text": [
      "[I 2025-06-26 14:11:09,437] Trial 3 finished with value: 13.75333465413419 and parameters: {'max_depth': 11, 'learning_rate': 0.14447746112718687, 'n_estimators': 279, 'min_child_weight': 6, 'subsample': 0.7962072844310213, 'colsample_bytree': 0.5232252063599989, 'reg_alpha': 0.6075448519014384, 'reg_lambda': 0.17052412368729153}. Best is trial 2 with value: 12.786034158485974.\n"
     ]
    },
    {
     "name": "stdout",
     "output_type": "stream",
     "text": [
      "Did not meet early stopping. Best iteration is:\n",
      "[279]\tvalid_0's l1: 3.80729\n",
      "Training until validation scores don't improve for 30 rounds\n",
      "Early stopping, best iteration is:\n",
      "[20]\tvalid_0's l1: 24.1837\n",
      "Training until validation scores don't improve for 30 rounds\n",
      "Early stopping, best iteration is:\n",
      "[13]\tvalid_0's l1: 23.1166\n",
      "Training until validation scores don't improve for 30 rounds\n",
      "Early stopping, best iteration is:\n",
      "[23]\tvalid_0's l1: 26.9737\n",
      "Training until validation scores don't improve for 30 rounds\n",
      "Early stopping, best iteration is:\n",
      "[27]\tvalid_0's l1: 15.1422\n",
      "Training until validation scores don't improve for 30 rounds\n",
      "Early stopping, best iteration is:\n",
      "[34]\tvalid_0's l1: 16.5528\n",
      "Training until validation scores don't improve for 30 rounds\n",
      "Early stopping, best iteration is:\n",
      "[36]\tvalid_0's l1: 17.1138\n",
      "Training until validation scores don't improve for 30 rounds\n",
      "Early stopping, best iteration is:\n",
      "[38]\tvalid_0's l1: 13.6498\n",
      "Training until validation scores don't improve for 30 rounds\n",
      "Early stopping, best iteration is:\n",
      "[95]\tvalid_0's l1: 13.1923\n",
      "Training until validation scores don't improve for 30 rounds\n",
      "Early stopping, best iteration is:\n",
      "[29]\tvalid_0's l1: 14.5991\n",
      "Training until validation scores don't improve for 30 rounds\n",
      "Early stopping, best iteration is:\n",
      "[21]\tvalid_0's l1: 13.9057\n",
      "Training until validation scores don't improve for 30 rounds\n",
      "Early stopping, best iteration is:\n",
      "[25]\tvalid_0's l1: 13.2017\n",
      "Training until validation scores don't improve for 30 rounds\n",
      "Early stopping, best iteration is:\n",
      "[67]\tvalid_0's l1: 13.0395\n",
      "Training until validation scores don't improve for 30 rounds\n",
      "Early stopping, best iteration is:\n",
      "[101]\tvalid_0's l1: 12.0849\n",
      "Training until validation scores don't improve for 30 rounds\n",
      "Early stopping, best iteration is:\n",
      "[86]\tvalid_0's l1: 11.4336\n",
      "Training until validation scores don't improve for 30 rounds\n",
      "Early stopping, best iteration is:\n",
      "[71]\tvalid_0's l1: 11.4542\n",
      "Training until validation scores don't improve for 30 rounds\n",
      "Did not meet early stopping. Best iteration is:\n",
      "[970]\tvalid_0's l1: 3.86754\n",
      "Training until validation scores don't improve for 30 rounds\n",
      "Did not meet early stopping. Best iteration is:\n",
      "[967]\tvalid_0's l1: 3.65559\n",
      "Training until validation scores don't improve for 30 rounds\n",
      "Did not meet early stopping. Best iteration is:\n",
      "[970]\tvalid_0's l1: 3.86094\n"
     ]
    },
    {
     "name": "stderr",
     "output_type": "stream",
     "text": [
      "[I 2025-06-26 14:13:11,848] Trial 4 finished with value: 15.976239601151368 and parameters: {'max_depth': 4, 'learning_rate': 0.2521267904777921, 'n_estimators': 970, 'min_child_weight': 9, 'subsample': 0.6523068845866853, 'colsample_bytree': 0.5488360570031919, 'reg_alpha': 0.6842330265121569, 'reg_lambda': 0.4401524937396013}. Best is trial 2 with value: 12.786034158485974.\n"
     ]
    },
    {
     "name": "stdout",
     "output_type": "stream",
     "text": [
      "\n",
      "🏆 Mejores parámetros:\n",
      "max_depth: 8\n",
      "learning_rate: 0.05958389350068958\n",
      "n_estimators: 489\n",
      "min_child_weight: 3\n",
      "subsample: 0.8059264473611898\n",
      "colsample_bytree: 0.569746930326021\n",
      "reg_alpha: 0.29214464853521815\n",
      "reg_lambda: 0.3663618432936917\n",
      "boosting_type: gbdt\n",
      "objective: regression\n",
      "metric: mae\n",
      "verbosity: -1\n",
      "deterministic: True\n",
      "force_col_wise: True\n",
      "\n",
      "Entrenando modelo final...\n",
      "Training until validation scores don't improve for 30 rounds\n",
      "Did not meet early stopping. Best iteration is:\n",
      "[489]\tvalid_0's l1: 3.67743\n",
      "Training until validation scores don't improve for 30 rounds\n",
      "Did not meet early stopping. Best iteration is:\n",
      "[489]\tvalid_0's l1: 3.77169\n",
      "Training until validation scores don't improve for 30 rounds\n",
      "Did not meet early stopping. Best iteration is:\n",
      "[489]\tvalid_0's l1: 3.70015\n",
      "Ensemble MAE Val: 3.6225\n",
      "\n",
      "🎯 MAE Test Ensemble: 3.7440\n",
      "\n",
      "Top 5 mejores trials:\n",
      "1. MAE: 12.7860\n",
      "2. MAE: 13.7533\n",
      "3. MAE: 14.4525\n",
      "4. MAE: 15.1829\n",
      "5. MAE: 15.9762\n"
     ]
    }
   ],
   "source": [
    "study, models, results = model_lgb.main_entrenar(df, VERSION=\"v12\")"
   ]
  },
  {
   "cell_type": "code",
   "execution_count": 18,
   "id": "562ed0c1",
   "metadata": {},
   "outputs": [
    {
     "name": "stdout",
     "output_type": "stream",
     "text": [
      "📊 MAE Future: 28.8536\n"
     ]
    }
   ],
   "source": [
    "from sklearn.metrics import mean_squared_error, mean_absolute_error\n",
    "\n",
    "# Supongamos que querés predecir para los períodos 202011 y 202012\n",
    "periodos_future = [201911, 201912]\n",
    "df_future = df[df['periodo'].isin(periodos_future)].copy()\n",
    "\n",
    "# Asegurate de tener las mismas columnas que en entrenamiento\n",
    "features = [col for col in df.columns if col not in ['target']]\n",
    "\n",
    "# Predecir\n",
    "future_preds = model_lgb.predict_with_ensemble(models, df_future, features)\n",
    "\n",
    "# Si querés evaluar el MAE (solo si tenés target en esos períodos)\n",
    "if 'target' in df_future:\n",
    "    mae_future = mean_absolute_error(df_future['target'], future_preds)\n",
    "    print(f\"📊 MAE Future: {mae_future:.4f}\")\n",
    "\n",
    "# Guardar las predicciones\n",
    "df_future['pred_ensemble'] = future_preds"
   ]
  },
  {
   "cell_type": "code",
   "execution_count": 19,
   "id": "bca64c61",
   "metadata": {},
   "outputs": [
    {
     "data": {
      "application/vnd.microsoft.datawrangler.viewer.v0+json": {
       "columns": [
        {
         "name": "index",
         "rawType": "int64",
         "type": "integer"
        },
        {
         "name": "product_id",
         "rawType": "int64",
         "type": "integer"
        },
        {
         "name": "pred_ensemble",
         "rawType": "float64",
         "type": "float"
        }
       ],
       "ref": "1d0382dd-bc1a-4237-ac8b-de4af07d1e23",
       "rows": [
        [
         "30476",
         "20001",
         "1553.3965492268692"
        ],
        [
         "30477",
         "20002",
         "1108.824228180357"
        ],
        [
         "30478",
         "20003",
         "635.5668570145782"
        ],
        [
         "30479",
         "20004",
         "535.9351069151849"
        ],
        [
         "30480",
         "20005",
         "639.5998437735166"
        ],
        [
         "30481",
         "20006",
         "372.1057416363099"
        ],
        [
         "30482",
         "20007",
         "368.3248227732033"
        ],
        [
         "30483",
         "20008",
         "342.5518609714418"
        ],
        [
         "30484",
         "20009",
         "553.1718428143075"
        ],
        [
         "30485",
         "20010",
         "363.6295300618927"
        ],
        [
         "30486",
         "20011",
         "334.9947254562413"
        ],
        [
         "30487",
         "20012",
         "295.16793578691176"
        ],
        [
         "30488",
         "20013",
         "333.5825291621988"
        ],
        [
         "30489",
         "20014",
         "363.9395777446011"
        ],
        [
         "30490",
         "20015",
         "281.2442753017867"
        ],
        [
         "30491",
         "20016",
         "288.2945601783133"
        ],
        [
         "30492",
         "20017",
         "233.43852066364425"
        ],
        [
         "30493",
         "20018",
         "228.4319422603536"
        ],
        [
         "30494",
         "20019",
         "201.43634123010114"
        ],
        [
         "30495",
         "20020",
         "241.70603324180664"
        ],
        [
         "30496",
         "20021",
         "170.22562769901648"
        ],
        [
         "30497",
         "20022",
         "201.36739936316675"
        ],
        [
         "30498",
         "20023",
         "168.01557210584951"
        ],
        [
         "30499",
         "20024",
         "159.02189166135304"
        ],
        [
         "30500",
         "20025",
         "191.48190040084341"
        ],
        [
         "30501",
         "20026",
         "263.3491308765022"
        ],
        [
         "30502",
         "20027",
         "223.28797017444083"
        ],
        [
         "30503",
         "20028",
         "152.83130599745925"
        ],
        [
         "30504",
         "20029",
         "119.43043932732841"
        ],
        [
         "30505",
         "20030",
         "74.37005123645682"
        ],
        [
         "30506",
         "20031",
         "162.04299599218282"
        ],
        [
         "30507",
         "20032",
         "414.00836952698813"
        ],
        [
         "30508",
         "20033",
         "131.4932806147979"
        ],
        [
         "30509",
         "20035",
         "119.06118586997839"
        ],
        [
         "30510",
         "20037",
         "135.63756635535938"
        ],
        [
         "30511",
         "20038",
         "119.31270157989739"
        ],
        [
         "30512",
         "20039",
         "100.23363932313312"
        ],
        [
         "30513",
         "20041",
         "90.7062725545403"
        ],
        [
         "30514",
         "20042",
         "185.20583063390188"
        ],
        [
         "30515",
         "20043",
         "108.48944385750237"
        ],
        [
         "30516",
         "20044",
         "151.67329727533556"
        ],
        [
         "30517",
         "20045",
         "112.41068296129076"
        ],
        [
         "30518",
         "20046",
         "93.19933547468538"
        ],
        [
         "30519",
         "20047",
         "123.57313872409007"
        ],
        [
         "30521",
         "20049",
         "188.2106416033032"
        ],
        [
         "30522",
         "20050",
         "102.19471359602579"
        ],
        [
         "30523",
         "20051",
         "65.46314802543193"
        ],
        [
         "30524",
         "20052",
         "86.5819997636983"
        ],
        [
         "30525",
         "20053",
         "113.32536112326447"
        ],
        [
         "30526",
         "20054",
         "110.38033784282415"
        ]
       ],
       "shape": {
        "columns": 2,
        "rows": 780
       }
      },
      "text/html": [
       "<div>\n",
       "<style scoped>\n",
       "    .dataframe tbody tr th:only-of-type {\n",
       "        vertical-align: middle;\n",
       "    }\n",
       "\n",
       "    .dataframe tbody tr th {\n",
       "        vertical-align: top;\n",
       "    }\n",
       "\n",
       "    .dataframe thead th {\n",
       "        text-align: right;\n",
       "    }\n",
       "</style>\n",
       "<table border=\"1\" class=\"dataframe\">\n",
       "  <thead>\n",
       "    <tr style=\"text-align: right;\">\n",
       "      <th></th>\n",
       "      <th>product_id</th>\n",
       "      <th>pred_ensemble</th>\n",
       "    </tr>\n",
       "  </thead>\n",
       "  <tbody>\n",
       "    <tr>\n",
       "      <th>30476</th>\n",
       "      <td>20001</td>\n",
       "      <td>1553.396549</td>\n",
       "    </tr>\n",
       "    <tr>\n",
       "      <th>30477</th>\n",
       "      <td>20002</td>\n",
       "      <td>1108.824228</td>\n",
       "    </tr>\n",
       "    <tr>\n",
       "      <th>30478</th>\n",
       "      <td>20003</td>\n",
       "      <td>635.566857</td>\n",
       "    </tr>\n",
       "    <tr>\n",
       "      <th>30479</th>\n",
       "      <td>20004</td>\n",
       "      <td>535.935107</td>\n",
       "    </tr>\n",
       "    <tr>\n",
       "      <th>30480</th>\n",
       "      <td>20005</td>\n",
       "      <td>639.599844</td>\n",
       "    </tr>\n",
       "    <tr>\n",
       "      <th>...</th>\n",
       "      <td>...</td>\n",
       "      <td>...</td>\n",
       "    </tr>\n",
       "    <tr>\n",
       "      <th>31355</th>\n",
       "      <td>21263</td>\n",
       "      <td>-4.356842</td>\n",
       "    </tr>\n",
       "    <tr>\n",
       "      <th>31357</th>\n",
       "      <td>21265</td>\n",
       "      <td>1.240013</td>\n",
       "    </tr>\n",
       "    <tr>\n",
       "      <th>31358</th>\n",
       "      <td>21266</td>\n",
       "      <td>-1.558357</td>\n",
       "    </tr>\n",
       "    <tr>\n",
       "      <th>31359</th>\n",
       "      <td>21267</td>\n",
       "      <td>-3.819683</td>\n",
       "    </tr>\n",
       "    <tr>\n",
       "      <th>31361</th>\n",
       "      <td>21276</td>\n",
       "      <td>0.921643</td>\n",
       "    </tr>\n",
       "  </tbody>\n",
       "</table>\n",
       "<p>780 rows × 2 columns</p>\n",
       "</div>"
      ],
      "text/plain": [
       "       product_id  pred_ensemble\n",
       "30476       20001    1553.396549\n",
       "30477       20002    1108.824228\n",
       "30478       20003     635.566857\n",
       "30479       20004     535.935107\n",
       "30480       20005     639.599844\n",
       "...           ...            ...\n",
       "31355       21263      -4.356842\n",
       "31357       21265       1.240013\n",
       "31358       21266      -1.558357\n",
       "31359       21267      -3.819683\n",
       "31361       21276       0.921643\n",
       "\n",
       "[780 rows x 2 columns]"
      ]
     },
     "execution_count": 19,
     "metadata": {},
     "output_type": "execute_result"
    }
   ],
   "source": [
    "productos_ok = pd.read_csv(\"https://storage.googleapis.com/open-courses/austral2025-af91/labo3v/product_id_apredecir201912.txt\", sep=\"\\t\")\n",
    "df_future = df_future[df_future['periodo'] == 201912]\n",
    "df_future = df_future[df_future['product_id'].isin(productos_ok['product_id'].unique())]\n",
    "df_future = df_future[['product_id', 'pred_ensemble']]\n",
    "df_future\n"
   ]
  },
  {
   "cell_type": "code",
   "execution_count": null,
   "id": "6d5f1587",
   "metadata": {},
   "outputs": [],
   "source": [
    "promedios = model_lgb.promedio_12_meses_780p()\n",
    "df_future = df_future.merge(promedios, on='product_id', how='left')\n",
    "df_future.rename(columns={'tn_x': 'tn', 'tn_y': 'tn_12m'}, inplace=True)"
   ]
  },
  {
   "cell_type": "code",
   "execution_count": null,
   "id": "63be4faf",
   "metadata": {},
   "outputs": [
    {
     "data": {
      "application/vnd.microsoft.datawrangler.viewer.v0+json": {
       "columns": [
        {
         "name": "index",
         "rawType": "int64",
         "type": "integer"
        },
        {
         "name": "product_id",
         "rawType": "int64",
         "type": "integer"
        },
        {
         "name": "tn",
         "rawType": "float64",
         "type": "float"
        },
        {
         "name": "tn_12m",
         "rawType": "float64",
         "type": "float"
        },
        {
         "name": "mean",
         "rawType": "float64",
         "type": "float"
        }
       ],
       "ref": "fe7afc5a-472f-4c4a-95a6-f0aac95a7953",
       "rows": [
        [
         "0",
         "20001",
         "1553.3965492268692",
         "1454.73272",
         "1454.73272"
        ],
        [
         "1",
         "20002",
         "1108.824228180357",
         "1175.4371416666665",
         "1175.4371416666665"
        ],
        [
         "2",
         "20003",
         "635.5668570145782",
         "784.9764074999999",
         "784.9764074999999"
        ],
        [
         "3",
         "20004",
         "535.9351069151849",
         "627.2153283333333",
         "627.2153283333333"
        ],
        [
         "4",
         "20005",
         "639.5998437735166",
         "668.2701041666667",
         "668.2701041666667"
        ],
        [
         "5",
         "20006",
         "372.1057416363099",
         "478.6137083333333",
         "478.6137083333333"
        ],
        [
         "6",
         "20007",
         "368.3248227732033",
         "434.1378058333333",
         "434.1378058333333"
        ],
        [
         "7",
         "20008",
         "342.5518609714418",
         "422.0481833333333",
         "422.0481833333333"
        ],
        [
         "8",
         "20009",
         "553.1718428143075",
         "541.3225866666667",
         "541.3225866666667"
        ],
        [
         "9",
         "20010",
         "363.6295300618927",
         "429.5746608333333",
         "429.5746608333333"
        ],
        [
         "10",
         "20011",
         "334.9947254562413",
         "377.63544",
         "377.63544"
        ],
        [
         "11",
         "20012",
         "295.16793578691176",
         "332.228885",
         "332.228885"
        ],
        [
         "12",
         "20013",
         "333.5825291621988",
         "416.06292",
         "416.06292"
        ],
        [
         "13",
         "20014",
         "363.9395777446011",
         "414.70520000000005",
         "414.70520000000005"
        ],
        [
         "14",
         "20015",
         "281.2442753017867",
         "369.02365166666664",
         "369.02365166666664"
        ],
        [
         "15",
         "20016",
         "288.2945601783133",
         "288.51459",
         "288.51459"
        ],
        [
         "16",
         "20017",
         "233.43852066364425",
         "287.38575166666664",
         "287.38575166666664"
        ],
        [
         "17",
         "20018",
         "228.4319422603536",
         "275.44511083333333",
         "275.44511083333333"
        ],
        [
         "18",
         "20019",
         "201.43634123010114",
         "306.52162749999997",
         "306.52162749999997"
        ],
        [
         "19",
         "20020",
         "241.70603324180664",
         "280.10235416666666",
         "280.10235416666666"
        ],
        [
         "20",
         "20021",
         "170.22562769901648",
         "259.495665",
         "259.495665"
        ],
        [
         "21",
         "20022",
         "201.36739936316675",
         "279.20400333333333",
         "279.20400333333333"
        ],
        [
         "22",
         "20023",
         "168.01557210584951",
         "266.90118",
         "266.90118"
        ],
        [
         "23",
         "20024",
         "159.02189166135304",
         "222.11553",
         "222.11553"
        ],
        [
         "24",
         "20025",
         "191.48190040084341",
         "222.86218499999998",
         "222.86218499999998"
        ],
        [
         "25",
         "20026",
         "263.3491308765022",
         "237.10623833333332",
         "237.10623833333332"
        ],
        [
         "26",
         "20027",
         "223.28797017444083",
         "230.0149175",
         "230.0149175"
        ],
        [
         "27",
         "20028",
         "152.83130599745925",
         "213.228015",
         "213.228015"
        ],
        [
         "28",
         "20029",
         "119.43043932732841",
         "185.16274833333333",
         "185.16274833333333"
        ],
        [
         "29",
         "20030",
         "74.37005123645682",
         "127.85045000000001",
         "127.85045000000001"
        ],
        [
         "30",
         "20031",
         "162.04299599218282",
         "185.90788666666666",
         "185.90788666666666"
        ],
        [
         "31",
         "20032",
         "414.00836952698813",
         "590.33366",
         "590.33366"
        ],
        [
         "32",
         "20033",
         "131.4932806147979",
         "176.0324475",
         "176.0324475"
        ],
        [
         "33",
         "20035",
         "119.06118586997839",
         "172.19100333333333",
         "172.19100333333333"
        ],
        [
         "34",
         "20037",
         "135.63756635535938",
         "179.65005833333336",
         "179.65005833333336"
        ],
        [
         "35",
         "20038",
         "119.31270157989739",
         "175.941565",
         "175.941565"
        ],
        [
         "36",
         "20039",
         "100.23363932313312",
         "144.37351750000002",
         "144.37351750000002"
        ],
        [
         "37",
         "20041",
         "90.7062725545403",
         "144.23799083333333",
         "144.23799083333333"
        ],
        [
         "38",
         "20042",
         "185.20583063390188",
         "174.63574083333333",
         "174.63574083333333"
        ],
        [
         "39",
         "20043",
         "108.48944385750237",
         "137.17993833333333",
         "137.17993833333333"
        ],
        [
         "40",
         "20044",
         "151.67329727533556",
         "169.413755",
         "169.413755"
        ],
        [
         "41",
         "20045",
         "112.41068296129076",
         "154.42506916666667",
         "154.42506916666667"
        ],
        [
         "42",
         "20046",
         "93.19933547468538",
         "155.99976583333333",
         "155.99976583333333"
        ],
        [
         "43",
         "20047",
         "123.57313872409007",
         "165.353965",
         "165.353965"
        ],
        [
         "44",
         "20049",
         "188.2106416033032",
         "203.98650999999998",
         "203.98650999999998"
        ],
        [
         "45",
         "20050",
         "102.19471359602579",
         "131.337005",
         "131.337005"
        ],
        [
         "46",
         "20051",
         "65.46314802543193",
         "150.87717916666668",
         "150.87717916666668"
        ],
        [
         "47",
         "20052",
         "86.5819997636983",
         "119.09683416666667",
         "119.09683416666667"
        ],
        [
         "48",
         "20053",
         "113.32536112326447",
         "146.06558583333333",
         "146.06558583333333"
        ],
        [
         "49",
         "20054",
         "110.38033784282415",
         "137.87184249999999",
         "137.87184249999999"
        ]
       ],
       "shape": {
        "columns": 4,
        "rows": 780
       }
      },
      "text/html": [
       "<div>\n",
       "<style scoped>\n",
       "    .dataframe tbody tr th:only-of-type {\n",
       "        vertical-align: middle;\n",
       "    }\n",
       "\n",
       "    .dataframe tbody tr th {\n",
       "        vertical-align: top;\n",
       "    }\n",
       "\n",
       "    .dataframe thead th {\n",
       "        text-align: right;\n",
       "    }\n",
       "</style>\n",
       "<table border=\"1\" class=\"dataframe\">\n",
       "  <thead>\n",
       "    <tr style=\"text-align: right;\">\n",
       "      <th></th>\n",
       "      <th>product_id</th>\n",
       "      <th>tn</th>\n",
       "      <th>tn_12m</th>\n",
       "      <th>mean</th>\n",
       "    </tr>\n",
       "  </thead>\n",
       "  <tbody>\n",
       "    <tr>\n",
       "      <th>0</th>\n",
       "      <td>20001</td>\n",
       "      <td>1553.396549</td>\n",
       "      <td>1454.732720</td>\n",
       "      <td>1454.732720</td>\n",
       "    </tr>\n",
       "    <tr>\n",
       "      <th>1</th>\n",
       "      <td>20002</td>\n",
       "      <td>1108.824228</td>\n",
       "      <td>1175.437142</td>\n",
       "      <td>1175.437142</td>\n",
       "    </tr>\n",
       "    <tr>\n",
       "      <th>2</th>\n",
       "      <td>20003</td>\n",
       "      <td>635.566857</td>\n",
       "      <td>784.976407</td>\n",
       "      <td>784.976407</td>\n",
       "    </tr>\n",
       "    <tr>\n",
       "      <th>3</th>\n",
       "      <td>20004</td>\n",
       "      <td>535.935107</td>\n",
       "      <td>627.215328</td>\n",
       "      <td>627.215328</td>\n",
       "    </tr>\n",
       "    <tr>\n",
       "      <th>4</th>\n",
       "      <td>20005</td>\n",
       "      <td>639.599844</td>\n",
       "      <td>668.270104</td>\n",
       "      <td>668.270104</td>\n",
       "    </tr>\n",
       "    <tr>\n",
       "      <th>...</th>\n",
       "      <td>...</td>\n",
       "      <td>...</td>\n",
       "      <td>...</td>\n",
       "      <td>...</td>\n",
       "    </tr>\n",
       "    <tr>\n",
       "      <th>775</th>\n",
       "      <td>21263</td>\n",
       "      <td>-4.356842</td>\n",
       "      <td>0.029993</td>\n",
       "      <td>0.029993</td>\n",
       "    </tr>\n",
       "    <tr>\n",
       "      <th>776</th>\n",
       "      <td>21265</td>\n",
       "      <td>1.240013</td>\n",
       "      <td>0.089541</td>\n",
       "      <td>0.089541</td>\n",
       "    </tr>\n",
       "    <tr>\n",
       "      <th>777</th>\n",
       "      <td>21266</td>\n",
       "      <td>-1.558357</td>\n",
       "      <td>0.094659</td>\n",
       "      <td>0.094659</td>\n",
       "    </tr>\n",
       "    <tr>\n",
       "      <th>778</th>\n",
       "      <td>21267</td>\n",
       "      <td>-3.819683</td>\n",
       "      <td>0.092835</td>\n",
       "      <td>0.092835</td>\n",
       "    </tr>\n",
       "    <tr>\n",
       "      <th>779</th>\n",
       "      <td>21276</td>\n",
       "      <td>0.921643</td>\n",
       "      <td>0.045447</td>\n",
       "      <td>0.045447</td>\n",
       "    </tr>\n",
       "  </tbody>\n",
       "</table>\n",
       "<p>780 rows × 4 columns</p>\n",
       "</div>"
      ],
      "text/plain": [
       "     product_id           tn       tn_12m         mean\n",
       "0         20001  1553.396549  1454.732720  1454.732720\n",
       "1         20002  1108.824228  1175.437142  1175.437142\n",
       "2         20003   635.566857   784.976407   784.976407\n",
       "3         20004   535.935107   627.215328   627.215328\n",
       "4         20005   639.599844   668.270104   668.270104\n",
       "..          ...          ...          ...          ...\n",
       "775       21263    -4.356842     0.029993     0.029993\n",
       "776       21265     1.240013     0.089541     0.089541\n",
       "777       21266    -1.558357     0.094659     0.094659\n",
       "778       21267    -3.819683     0.092835     0.092835\n",
       "779       21276     0.921643     0.045447     0.045447\n",
       "\n",
       "[780 rows x 4 columns]"
      ]
     },
     "execution_count": 39,
     "metadata": {},
     "output_type": "execute_result"
    }
   ],
   "source": [
    "df_future.rename(columns={'pred_ensemble': 'tn', 'tn': 'tn_12m', 'tn_12m': 'mean'}, inplace=True)\n"
   ]
  },
  {
   "cell_type": "code",
   "execution_count": 40,
   "id": "cb5ae21d",
   "metadata": {},
   "outputs": [],
   "source": [
    "df_future.drop(columns=['mean'], inplace=True)\n",
    "df_future['tn'] = df_future['tn'].mask(df_future['tn'] < 0, df_future['tn_12m'])\n",
    "df_future.drop(columns=['tn_12m'], inplace=True)"
   ]
  },
  {
   "cell_type": "code",
   "execution_count": 41,
   "id": "c5e94c10",
   "metadata": {},
   "outputs": [
    {
     "data": {
      "application/vnd.microsoft.datawrangler.viewer.v0+json": {
       "columns": [
        {
         "name": "index",
         "rawType": "int64",
         "type": "integer"
        },
        {
         "name": "product_id",
         "rawType": "int64",
         "type": "integer"
        },
        {
         "name": "tn",
         "rawType": "float64",
         "type": "float"
        }
       ],
       "ref": "bbac99d6-e9f8-4e23-b935-eb5395647bf4",
       "rows": [
        [
         "0",
         "20001",
         "1553.3965492268692"
        ],
        [
         "1",
         "20002",
         "1108.824228180357"
        ],
        [
         "2",
         "20003",
         "635.5668570145782"
        ],
        [
         "3",
         "20004",
         "535.9351069151849"
        ],
        [
         "4",
         "20005",
         "639.5998437735166"
        ],
        [
         "5",
         "20006",
         "372.1057416363099"
        ],
        [
         "6",
         "20007",
         "368.3248227732033"
        ],
        [
         "7",
         "20008",
         "342.5518609714418"
        ],
        [
         "8",
         "20009",
         "553.1718428143075"
        ],
        [
         "9",
         "20010",
         "363.6295300618927"
        ],
        [
         "10",
         "20011",
         "334.9947254562413"
        ],
        [
         "11",
         "20012",
         "295.16793578691176"
        ],
        [
         "12",
         "20013",
         "333.5825291621988"
        ],
        [
         "13",
         "20014",
         "363.9395777446011"
        ],
        [
         "14",
         "20015",
         "281.2442753017867"
        ],
        [
         "15",
         "20016",
         "288.2945601783133"
        ],
        [
         "16",
         "20017",
         "233.43852066364425"
        ],
        [
         "17",
         "20018",
         "228.4319422603536"
        ],
        [
         "18",
         "20019",
         "201.43634123010114"
        ],
        [
         "19",
         "20020",
         "241.70603324180664"
        ],
        [
         "20",
         "20021",
         "170.22562769901648"
        ],
        [
         "21",
         "20022",
         "201.36739936316675"
        ],
        [
         "22",
         "20023",
         "168.01557210584951"
        ],
        [
         "23",
         "20024",
         "159.02189166135304"
        ],
        [
         "24",
         "20025",
         "191.48190040084341"
        ],
        [
         "25",
         "20026",
         "263.3491308765022"
        ],
        [
         "26",
         "20027",
         "223.28797017444083"
        ],
        [
         "27",
         "20028",
         "152.83130599745925"
        ],
        [
         "28",
         "20029",
         "119.43043932732841"
        ],
        [
         "29",
         "20030",
         "74.37005123645682"
        ],
        [
         "30",
         "20031",
         "162.04299599218282"
        ],
        [
         "31",
         "20032",
         "414.00836952698813"
        ],
        [
         "32",
         "20033",
         "131.4932806147979"
        ],
        [
         "33",
         "20035",
         "119.06118586997839"
        ],
        [
         "34",
         "20037",
         "135.63756635535938"
        ],
        [
         "35",
         "20038",
         "119.31270157989739"
        ],
        [
         "36",
         "20039",
         "100.23363932313312"
        ],
        [
         "37",
         "20041",
         "90.7062725545403"
        ],
        [
         "38",
         "20042",
         "185.20583063390188"
        ],
        [
         "39",
         "20043",
         "108.48944385750237"
        ],
        [
         "40",
         "20044",
         "151.67329727533556"
        ],
        [
         "41",
         "20045",
         "112.41068296129076"
        ],
        [
         "42",
         "20046",
         "93.19933547468538"
        ],
        [
         "43",
         "20047",
         "123.57313872409007"
        ],
        [
         "44",
         "20049",
         "188.2106416033032"
        ],
        [
         "45",
         "20050",
         "102.19471359602579"
        ],
        [
         "46",
         "20051",
         "65.46314802543193"
        ],
        [
         "47",
         "20052",
         "86.5819997636983"
        ],
        [
         "48",
         "20053",
         "113.32536112326447"
        ],
        [
         "49",
         "20054",
         "110.38033784282415"
        ]
       ],
       "shape": {
        "columns": 2,
        "rows": 780
       }
      },
      "text/html": [
       "<div>\n",
       "<style scoped>\n",
       "    .dataframe tbody tr th:only-of-type {\n",
       "        vertical-align: middle;\n",
       "    }\n",
       "\n",
       "    .dataframe tbody tr th {\n",
       "        vertical-align: top;\n",
       "    }\n",
       "\n",
       "    .dataframe thead th {\n",
       "        text-align: right;\n",
       "    }\n",
       "</style>\n",
       "<table border=\"1\" class=\"dataframe\">\n",
       "  <thead>\n",
       "    <tr style=\"text-align: right;\">\n",
       "      <th></th>\n",
       "      <th>product_id</th>\n",
       "      <th>tn</th>\n",
       "    </tr>\n",
       "  </thead>\n",
       "  <tbody>\n",
       "    <tr>\n",
       "      <th>0</th>\n",
       "      <td>20001</td>\n",
       "      <td>1553.396549</td>\n",
       "    </tr>\n",
       "    <tr>\n",
       "      <th>1</th>\n",
       "      <td>20002</td>\n",
       "      <td>1108.824228</td>\n",
       "    </tr>\n",
       "    <tr>\n",
       "      <th>2</th>\n",
       "      <td>20003</td>\n",
       "      <td>635.566857</td>\n",
       "    </tr>\n",
       "    <tr>\n",
       "      <th>3</th>\n",
       "      <td>20004</td>\n",
       "      <td>535.935107</td>\n",
       "    </tr>\n",
       "    <tr>\n",
       "      <th>4</th>\n",
       "      <td>20005</td>\n",
       "      <td>639.599844</td>\n",
       "    </tr>\n",
       "    <tr>\n",
       "      <th>...</th>\n",
       "      <td>...</td>\n",
       "      <td>...</td>\n",
       "    </tr>\n",
       "    <tr>\n",
       "      <th>775</th>\n",
       "      <td>21263</td>\n",
       "      <td>0.029993</td>\n",
       "    </tr>\n",
       "    <tr>\n",
       "      <th>776</th>\n",
       "      <td>21265</td>\n",
       "      <td>1.240013</td>\n",
       "    </tr>\n",
       "    <tr>\n",
       "      <th>777</th>\n",
       "      <td>21266</td>\n",
       "      <td>0.094659</td>\n",
       "    </tr>\n",
       "    <tr>\n",
       "      <th>778</th>\n",
       "      <td>21267</td>\n",
       "      <td>0.092835</td>\n",
       "    </tr>\n",
       "    <tr>\n",
       "      <th>779</th>\n",
       "      <td>21276</td>\n",
       "      <td>0.921643</td>\n",
       "    </tr>\n",
       "  </tbody>\n",
       "</table>\n",
       "<p>780 rows × 2 columns</p>\n",
       "</div>"
      ],
      "text/plain": [
       "     product_id           tn\n",
       "0         20001  1553.396549\n",
       "1         20002  1108.824228\n",
       "2         20003   635.566857\n",
       "3         20004   535.935107\n",
       "4         20005   639.599844\n",
       "..          ...          ...\n",
       "775       21263     0.029993\n",
       "776       21265     1.240013\n",
       "777       21266     0.094659\n",
       "778       21267     0.092835\n",
       "779       21276     0.921643\n",
       "\n",
       "[780 rows x 2 columns]"
      ]
     },
     "execution_count": 41,
     "metadata": {},
     "output_type": "execute_result"
    }
   ],
   "source": [
    "df_future"
   ]
  },
  {
   "cell_type": "markdown",
   "id": "2c6def4f",
   "metadata": {},
   "source": [
    "guardo el archivo"
   ]
  },
  {
   "cell_type": "code",
   "execution_count": 42,
   "id": "6f45d2fd",
   "metadata": {},
   "outputs": [],
   "source": [
    "df_future.to_csv(\"./outputs/predicciones_exp_03_lgb_fe_v1.csv\", index=False, sep=',')"
   ]
  },
  {
   "cell_type": "markdown",
   "id": "946f8f1e",
   "metadata": {},
   "source": [
    "Feature Importance"
   ]
  },
  {
   "cell_type": "code",
   "execution_count": 33,
   "id": "c9bfd242",
   "metadata": {},
   "outputs": [
    {
     "data": {
      "application/vnd.microsoft.datawrangler.viewer.v0+json": {
       "columns": [
        {
         "name": "index",
         "rawType": "int64",
         "type": "integer"
        },
        {
         "name": "feature",
         "rawType": "object",
         "type": "string"
        },
        {
         "name": "importance",
         "rawType": "int32",
         "type": "integer"
        }
       ],
       "ref": "6b455133-f240-4426-a51e-e4cc631577b9",
       "rows": [
        [
         "165",
         "yearly_add",
         "220"
        ],
        [
         "164",
         "trend_add",
         "183"
        ],
        [
         "849",
         "tn_seasonal_naive",
         "173"
        ],
        [
         "167",
         "trend_mult",
         "144"
        ],
        [
         "837",
         "tn_seasonality",
         "141"
        ],
        [
         "0",
         "product_id",
         "128"
        ],
        [
         "859",
         "corr_tn_dolar_x_prod",
         "123"
        ],
        [
         "738",
         "tn_delta_lag3",
         "122"
        ],
        [
         "735",
         "tn_delta_lag2",
         "119"
        ],
        [
         "831",
         "tn_seasonal_diff_6",
         "119"
        ],
        [
         "829",
         "tn_expanding_mean",
         "118"
        ],
        [
         "12",
         "cust_request_qty",
         "117"
        ],
        [
         "700",
         "autocorr_lag_4",
         "112"
        ],
        [
         "741",
         "tn_delta_lag4",
         "110"
        ],
        [
         "836",
         "tn_trend",
         "109"
        ],
        [
         "798",
         "tn_delta_lag23",
         "109"
        ],
        [
         "166",
         "additive_terms",
         "107"
        ],
        [
         "841",
         "tn_ytd_sum",
         "101"
        ],
        [
         "228",
         "tn_delta_lag2_lag3",
         "99"
        ],
        [
         "762",
         "tn_delta_lag11",
         "98"
        ],
        [
         "168",
         "yearly_mult",
         "97"
        ],
        [
         "732",
         "tn_delta_lag1",
         "96"
        ],
        [
         "795",
         "tn_delta_lag22",
         "94"
        ],
        [
         "851",
         "tn_best_month_rank",
         "90"
        ],
        [
         "756",
         "tn_delta_lag9",
         "88"
        ],
        [
         "698",
         "autocorr_lag_2",
         "88"
        ],
        [
         "662",
         "tn_rolling_skew_2",
         "87"
        ],
        [
         "699",
         "autocorr_lag_3",
         "83"
        ],
        [
         "697",
         "autocorr_lag_1",
         "83"
        ],
        [
         "777",
         "tn_delta_lag16",
         "82"
        ],
        [
         "744",
         "tn_delta_lag5",
         "82"
        ],
        [
         "857",
         "corr_tn_dolar",
         "81"
        ],
        [
         "207",
         "tn_delta_lag1_lag4",
         "81"
        ],
        [
         "753",
         "tn_delta_lag8",
         "80"
        ],
        [
         "801",
         "tn_delta_lag24",
         "79"
        ],
        [
         "768",
         "tn_delta_lag13",
         "78"
        ],
        [
         "701",
         "autocorr_lag_5",
         "77"
        ],
        [
         "663",
         "tn_rolling_skew_3",
         "75"
        ],
        [
         "750",
         "tn_delta_lag7",
         "75"
        ],
        [
         "664",
         "tn_rolling_skew_4",
         "75"
        ],
        [
         "758",
         "tn_delta_div_ma_lag9",
         "72"
        ],
        [
         "747",
         "tn_delta_lag6",
         "72"
        ],
        [
         "205",
         "tn_delta_lag1_lag2",
         "70"
        ],
        [
         "271",
         "tn_delta_lag4_lag5",
         "70"
        ],
        [
         "734",
         "tn_delta_div_ma_lag1",
         "70"
        ],
        [
         "789",
         "tn_delta_lag20",
         "69"
        ],
        [
         "786",
         "tn_delta_lag19",
         "68"
        ],
        [
         "250",
         "tn_delta_lag3_lag4",
         "67"
        ],
        [
         "206",
         "tn_delta_lag1_lag3",
         "65"
        ],
        [
         "848",
         "tn_naive_forecast",
         "65"
        ]
       ],
       "shape": {
        "columns": 2,
        "rows": 862
       }
      },
      "text/html": [
       "<div>\n",
       "<style scoped>\n",
       "    .dataframe tbody tr th:only-of-type {\n",
       "        vertical-align: middle;\n",
       "    }\n",
       "\n",
       "    .dataframe tbody tr th {\n",
       "        vertical-align: top;\n",
       "    }\n",
       "\n",
       "    .dataframe thead th {\n",
       "        text-align: right;\n",
       "    }\n",
       "</style>\n",
       "<table border=\"1\" class=\"dataframe\">\n",
       "  <thead>\n",
       "    <tr style=\"text-align: right;\">\n",
       "      <th></th>\n",
       "      <th>feature</th>\n",
       "      <th>importance</th>\n",
       "    </tr>\n",
       "  </thead>\n",
       "  <tbody>\n",
       "    <tr>\n",
       "      <th>165</th>\n",
       "      <td>yearly_add</td>\n",
       "      <td>220</td>\n",
       "    </tr>\n",
       "    <tr>\n",
       "      <th>164</th>\n",
       "      <td>trend_add</td>\n",
       "      <td>183</td>\n",
       "    </tr>\n",
       "    <tr>\n",
       "      <th>849</th>\n",
       "      <td>tn_seasonal_naive</td>\n",
       "      <td>173</td>\n",
       "    </tr>\n",
       "    <tr>\n",
       "      <th>167</th>\n",
       "      <td>trend_mult</td>\n",
       "      <td>144</td>\n",
       "    </tr>\n",
       "    <tr>\n",
       "      <th>837</th>\n",
       "      <td>tn_seasonality</td>\n",
       "      <td>141</td>\n",
       "    </tr>\n",
       "    <tr>\n",
       "      <th>...</th>\n",
       "      <td>...</td>\n",
       "      <td>...</td>\n",
       "    </tr>\n",
       "    <tr>\n",
       "      <th>39</th>\n",
       "      <td>cat3_Aji Picante</td>\n",
       "      <td>0</td>\n",
       "    </tr>\n",
       "    <tr>\n",
       "      <th>20</th>\n",
       "      <td>cat2_CABELLO</td>\n",
       "      <td>0</td>\n",
       "    </tr>\n",
       "    <tr>\n",
       "      <th>6</th>\n",
       "      <td>producto_nuevo</td>\n",
       "      <td>0</td>\n",
       "    </tr>\n",
       "    <tr>\n",
       "      <th>18</th>\n",
       "      <td>cat1_nan</td>\n",
       "      <td>0</td>\n",
       "    </tr>\n",
       "    <tr>\n",
       "      <th>17</th>\n",
       "      <td>cat1_REF</td>\n",
       "      <td>0</td>\n",
       "    </tr>\n",
       "  </tbody>\n",
       "</table>\n",
       "<p>862 rows × 2 columns</p>\n",
       "</div>"
      ],
      "text/plain": [
       "               feature  importance\n",
       "165         yearly_add         220\n",
       "164          trend_add         183\n",
       "849  tn_seasonal_naive         173\n",
       "167         trend_mult         144\n",
       "837     tn_seasonality         141\n",
       "..                 ...         ...\n",
       "39    cat3_Aji Picante           0\n",
       "20        cat2_CABELLO           0\n",
       "6       producto_nuevo           0\n",
       "18            cat1_nan           0\n",
       "17            cat1_REF           0\n",
       "\n",
       "[862 rows x 2 columns]"
      ]
     },
     "metadata": {},
     "output_type": "display_data"
    },
    {
     "data": {
      "application/vnd.microsoft.datawrangler.viewer.v0+json": {
       "columns": [
        {
         "name": "index",
         "rawType": "int64",
         "type": "integer"
        },
        {
         "name": "feature",
         "rawType": "object",
         "type": "string"
        },
        {
         "name": "importance",
         "rawType": "int32",
         "type": "integer"
        }
       ],
       "ref": "36838b21-6a18-44c1-8825-0a8e428c6d8f",
       "rows": [
        [
         "165",
         "yearly_add",
         "193"
        ],
        [
         "164",
         "trend_add",
         "177"
        ],
        [
         "849",
         "tn_seasonal_naive",
         "163"
        ],
        [
         "12",
         "cust_request_qty",
         "143"
        ],
        [
         "167",
         "trend_mult",
         "138"
        ],
        [
         "859",
         "corr_tn_dolar_x_prod",
         "134"
        ],
        [
         "837",
         "tn_seasonality",
         "130"
        ],
        [
         "831",
         "tn_seasonal_diff_6",
         "128"
        ],
        [
         "0",
         "product_id",
         "113"
        ],
        [
         "795",
         "tn_delta_lag22",
         "104"
        ],
        [
         "166",
         "additive_terms",
         "100"
        ],
        [
         "168",
         "yearly_mult",
         "98"
        ],
        [
         "841",
         "tn_ytd_sum",
         "98"
        ],
        [
         "798",
         "tn_delta_lag23",
         "97"
        ],
        [
         "829",
         "tn_expanding_mean",
         "97"
        ],
        [
         "738",
         "tn_delta_lag3",
         "96"
        ],
        [
         "697",
         "autocorr_lag_1",
         "96"
        ],
        [
         "700",
         "autocorr_lag_4",
         "96"
        ],
        [
         "228",
         "tn_delta_lag2_lag3",
         "95"
        ],
        [
         "732",
         "tn_delta_lag1",
         "91"
        ],
        [
         "205",
         "tn_delta_lag1_lag2",
         "87"
        ],
        [
         "836",
         "tn_trend",
         "87"
        ],
        [
         "735",
         "tn_delta_lag2",
         "87"
        ],
        [
         "744",
         "tn_delta_lag5",
         "86"
        ],
        [
         "762",
         "tn_delta_lag11",
         "84"
        ],
        [
         "756",
         "tn_delta_lag9",
         "82"
        ],
        [
         "699",
         "autocorr_lag_3",
         "82"
        ],
        [
         "848",
         "tn_naive_forecast",
         "82"
        ],
        [
         "518",
         "tn_rolling_std_2",
         "82"
        ],
        [
         "206",
         "tn_delta_lag1_lag3",
         "79"
        ],
        [
         "229",
         "tn_delta_lag2_lag4",
         "78"
        ],
        [
         "741",
         "tn_delta_lag4",
         "78"
        ],
        [
         "801",
         "tn_delta_lag24",
         "77"
        ],
        [
         "662",
         "tn_rolling_skew_2",
         "77"
        ],
        [
         "701",
         "autocorr_lag_5",
         "77"
        ],
        [
         "857",
         "corr_tn_dolar",
         "75"
        ],
        [
         "753",
         "tn_delta_lag8",
         "75"
        ],
        [
         "851",
         "tn_best_month_rank",
         "75"
        ],
        [
         "663",
         "tn_rolling_skew_3",
         "74"
        ],
        [
         "698",
         "autocorr_lag_2",
         "74"
        ],
        [
         "750",
         "tn_delta_lag7",
         "74"
        ],
        [
         "759",
         "tn_delta_lag10",
         "72"
        ],
        [
         "768",
         "tn_delta_lag13",
         "72"
        ],
        [
         "792",
         "tn_delta_lag21",
         "71"
        ],
        [
         "765",
         "tn_delta_lag12",
         "71"
        ],
        [
         "737",
         "tn_delta_div_ma_lag2",
         "69"
        ],
        [
         "777",
         "tn_delta_lag16",
         "68"
        ],
        [
         "520",
         "tn_rolling_std_4",
         "66"
        ],
        [
         "771",
         "tn_delta_lag14",
         "66"
        ],
        [
         "8",
         "sku_size",
         "65"
        ]
       ],
       "shape": {
        "columns": 2,
        "rows": 862
       }
      },
      "text/html": [
       "<div>\n",
       "<style scoped>\n",
       "    .dataframe tbody tr th:only-of-type {\n",
       "        vertical-align: middle;\n",
       "    }\n",
       "\n",
       "    .dataframe tbody tr th {\n",
       "        vertical-align: top;\n",
       "    }\n",
       "\n",
       "    .dataframe thead th {\n",
       "        text-align: right;\n",
       "    }\n",
       "</style>\n",
       "<table border=\"1\" class=\"dataframe\">\n",
       "  <thead>\n",
       "    <tr style=\"text-align: right;\">\n",
       "      <th></th>\n",
       "      <th>feature</th>\n",
       "      <th>importance</th>\n",
       "    </tr>\n",
       "  </thead>\n",
       "  <tbody>\n",
       "    <tr>\n",
       "      <th>165</th>\n",
       "      <td>yearly_add</td>\n",
       "      <td>193</td>\n",
       "    </tr>\n",
       "    <tr>\n",
       "      <th>164</th>\n",
       "      <td>trend_add</td>\n",
       "      <td>177</td>\n",
       "    </tr>\n",
       "    <tr>\n",
       "      <th>849</th>\n",
       "      <td>tn_seasonal_naive</td>\n",
       "      <td>163</td>\n",
       "    </tr>\n",
       "    <tr>\n",
       "      <th>12</th>\n",
       "      <td>cust_request_qty</td>\n",
       "      <td>143</td>\n",
       "    </tr>\n",
       "    <tr>\n",
       "      <th>167</th>\n",
       "      <td>trend_mult</td>\n",
       "      <td>138</td>\n",
       "    </tr>\n",
       "    <tr>\n",
       "      <th>...</th>\n",
       "      <td>...</td>\n",
       "      <td>...</td>\n",
       "    </tr>\n",
       "    <tr>\n",
       "      <th>47</th>\n",
       "      <td>cat3_Baño</td>\n",
       "      <td>0</td>\n",
       "    </tr>\n",
       "    <tr>\n",
       "      <th>325</th>\n",
       "      <td>tn_delta_lag6_lag22</td>\n",
       "      <td>0</td>\n",
       "    </tr>\n",
       "    <tr>\n",
       "      <th>17</th>\n",
       "      <td>cat1_REF</td>\n",
       "      <td>0</td>\n",
       "    </tr>\n",
       "    <tr>\n",
       "      <th>32</th>\n",
       "      <td>cat2_TE</td>\n",
       "      <td>0</td>\n",
       "    </tr>\n",
       "    <tr>\n",
       "      <th>847</th>\n",
       "      <td>tn_is_outlier_3sigma</td>\n",
       "      <td>0</td>\n",
       "    </tr>\n",
       "  </tbody>\n",
       "</table>\n",
       "<p>862 rows × 2 columns</p>\n",
       "</div>"
      ],
      "text/plain": [
       "                  feature  importance\n",
       "165            yearly_add         193\n",
       "164             trend_add         177\n",
       "849     tn_seasonal_naive         163\n",
       "12       cust_request_qty         143\n",
       "167            trend_mult         138\n",
       "..                    ...         ...\n",
       "47              cat3_Baño           0\n",
       "325   tn_delta_lag6_lag22           0\n",
       "17               cat1_REF           0\n",
       "32                cat2_TE           0\n",
       "847  tn_is_outlier_3sigma           0\n",
       "\n",
       "[862 rows x 2 columns]"
      ]
     },
     "metadata": {},
     "output_type": "display_data"
    },
    {
     "data": {
      "application/vnd.microsoft.datawrangler.viewer.v0+json": {
       "columns": [
        {
         "name": "index",
         "rawType": "int64",
         "type": "integer"
        },
        {
         "name": "feature",
         "rawType": "object",
         "type": "string"
        },
        {
         "name": "importance",
         "rawType": "int32",
         "type": "integer"
        }
       ],
       "ref": "d148980b-eb99-4051-adb6-49ed68113688",
       "rows": [
        [
         "165",
         "yearly_add",
         "222"
        ],
        [
         "164",
         "trend_add",
         "182"
        ],
        [
         "849",
         "tn_seasonal_naive",
         "172"
        ],
        [
         "837",
         "tn_seasonality",
         "139"
        ],
        [
         "12",
         "cust_request_qty",
         "130"
        ],
        [
         "167",
         "trend_mult",
         "130"
        ],
        [
         "831",
         "tn_seasonal_diff_6",
         "126"
        ],
        [
         "829",
         "tn_expanding_mean",
         "125"
        ],
        [
         "0",
         "product_id",
         "124"
        ],
        [
         "798",
         "tn_delta_lag23",
         "117"
        ],
        [
         "738",
         "tn_delta_lag3",
         "110"
        ],
        [
         "859",
         "corr_tn_dolar_x_prod",
         "110"
        ],
        [
         "166",
         "additive_terms",
         "107"
        ],
        [
         "698",
         "autocorr_lag_2",
         "106"
        ],
        [
         "735",
         "tn_delta_lag2",
         "103"
        ],
        [
         "836",
         "tn_trend",
         "98"
        ],
        [
         "777",
         "tn_delta_lag16",
         "96"
        ],
        [
         "759",
         "tn_delta_lag10",
         "95"
        ],
        [
         "228",
         "tn_delta_lag2_lag3",
         "93"
        ],
        [
         "753",
         "tn_delta_lag8",
         "91"
        ],
        [
         "744",
         "tn_delta_lag5",
         "90"
        ],
        [
         "851",
         "tn_best_month_rank",
         "89"
        ],
        [
         "168",
         "yearly_mult",
         "89"
        ],
        [
         "732",
         "tn_delta_lag1",
         "88"
        ],
        [
         "205",
         "tn_delta_lag1_lag2",
         "88"
        ],
        [
         "801",
         "tn_delta_lag24",
         "87"
        ],
        [
         "700",
         "autocorr_lag_4",
         "86"
        ],
        [
         "663",
         "tn_rolling_skew_3",
         "84"
        ],
        [
         "795",
         "tn_delta_lag22",
         "83"
        ],
        [
         "229",
         "tn_delta_lag2_lag4",
         "83"
        ],
        [
         "841",
         "tn_ytd_sum",
         "81"
        ],
        [
         "206",
         "tn_delta_lag1_lag3",
         "80"
        ],
        [
         "768",
         "tn_delta_lag13",
         "77"
        ],
        [
         "697",
         "autocorr_lag_1",
         "77"
        ],
        [
         "762",
         "tn_delta_lag11",
         "77"
        ],
        [
         "848",
         "tn_naive_forecast",
         "76"
        ],
        [
         "858",
         "corr_tn_ipc",
         "76"
        ],
        [
         "756",
         "tn_delta_lag9",
         "75"
        ],
        [
         "701",
         "autocorr_lag_5",
         "75"
        ],
        [
         "662",
         "tn_rolling_skew_2",
         "74"
        ],
        [
         "741",
         "tn_delta_lag4",
         "73"
        ],
        [
         "797",
         "tn_delta_div_ma_lag22",
         "72"
        ],
        [
         "699",
         "autocorr_lag_3",
         "71"
        ],
        [
         "758",
         "tn_delta_div_ma_lag9",
         "70"
        ],
        [
         "702",
         "autocorr_lag_6",
         "69"
        ],
        [
         "789",
         "tn_delta_lag20",
         "68"
        ],
        [
         "761",
         "tn_delta_div_ma_lag10",
         "68"
        ],
        [
         "750",
         "tn_delta_lag7",
         "66"
        ],
        [
         "251",
         "tn_delta_lag3_lag5",
         "64"
        ],
        [
         "792",
         "tn_delta_lag21",
         "62"
        ]
       ],
       "shape": {
        "columns": 2,
        "rows": 862
       }
      },
      "text/html": [
       "<div>\n",
       "<style scoped>\n",
       "    .dataframe tbody tr th:only-of-type {\n",
       "        vertical-align: middle;\n",
       "    }\n",
       "\n",
       "    .dataframe tbody tr th {\n",
       "        vertical-align: top;\n",
       "    }\n",
       "\n",
       "    .dataframe thead th {\n",
       "        text-align: right;\n",
       "    }\n",
       "</style>\n",
       "<table border=\"1\" class=\"dataframe\">\n",
       "  <thead>\n",
       "    <tr style=\"text-align: right;\">\n",
       "      <th></th>\n",
       "      <th>feature</th>\n",
       "      <th>importance</th>\n",
       "    </tr>\n",
       "  </thead>\n",
       "  <tbody>\n",
       "    <tr>\n",
       "      <th>165</th>\n",
       "      <td>yearly_add</td>\n",
       "      <td>222</td>\n",
       "    </tr>\n",
       "    <tr>\n",
       "      <th>164</th>\n",
       "      <td>trend_add</td>\n",
       "      <td>182</td>\n",
       "    </tr>\n",
       "    <tr>\n",
       "      <th>849</th>\n",
       "      <td>tn_seasonal_naive</td>\n",
       "      <td>172</td>\n",
       "    </tr>\n",
       "    <tr>\n",
       "      <th>837</th>\n",
       "      <td>tn_seasonality</td>\n",
       "      <td>139</td>\n",
       "    </tr>\n",
       "    <tr>\n",
       "      <th>12</th>\n",
       "      <td>cust_request_qty</td>\n",
       "      <td>130</td>\n",
       "    </tr>\n",
       "    <tr>\n",
       "      <th>...</th>\n",
       "      <td>...</td>\n",
       "      <td>...</td>\n",
       "    </tr>\n",
       "    <tr>\n",
       "      <th>202</th>\n",
       "      <td>tn_lag_33</td>\n",
       "      <td>0</td>\n",
       "    </tr>\n",
       "    <tr>\n",
       "      <th>811</th>\n",
       "      <td>year_end</td>\n",
       "      <td>0</td>\n",
       "    </tr>\n",
       "    <tr>\n",
       "      <th>57</th>\n",
       "      <td>cat3_Cremoso</td>\n",
       "      <td>0</td>\n",
       "    </tr>\n",
       "    <tr>\n",
       "      <th>18</th>\n",
       "      <td>cat1_nan</td>\n",
       "      <td>0</td>\n",
       "    </tr>\n",
       "    <tr>\n",
       "      <th>17</th>\n",
       "      <td>cat1_REF</td>\n",
       "      <td>0</td>\n",
       "    </tr>\n",
       "  </tbody>\n",
       "</table>\n",
       "<p>862 rows × 2 columns</p>\n",
       "</div>"
      ],
      "text/plain": [
       "               feature  importance\n",
       "165         yearly_add         222\n",
       "164          trend_add         182\n",
       "849  tn_seasonal_naive         172\n",
       "837     tn_seasonality         139\n",
       "12    cust_request_qty         130\n",
       "..                 ...         ...\n",
       "202          tn_lag_33           0\n",
       "811           year_end           0\n",
       "57        cat3_Cremoso           0\n",
       "18            cat1_nan           0\n",
       "17            cat1_REF           0\n",
       "\n",
       "[862 rows x 2 columns]"
      ]
     },
     "metadata": {},
     "output_type": "display_data"
    }
   ],
   "source": [
    "df_aux = df.drop(columns=['target'])\n",
    "\n",
    "\n",
    "models_aux = models.copy()\n",
    "count = 1\n",
    "\n",
    "for model in models_aux:\n",
    "    \n",
    "    \n",
    "    feature_importances = pd.DataFrame({\n",
    "        'feature': df_aux.columns,\n",
    "        'importance':  model.feature_importances_\n",
    "    }).sort_values('importance', ascending=False)\n",
    "    \n",
    "    display(feature_importances)\n",
    "    \n",
    "    feature_importances.to_csv(f\"./feature_importance/exp03_{count}.csv\", index=False, sep=',')\n",
    "    count += 1\n",
    "    "
   ]
  }
 ],
 "metadata": {
  "kernelspec": {
   "display_name": "py311lab3",
   "language": "python",
   "name": "python3"
  },
  "language_info": {
   "codemirror_mode": {
    "name": "ipython",
    "version": 3
   },
   "file_extension": ".py",
   "mimetype": "text/x-python",
   "name": "python",
   "nbconvert_exporter": "python",
   "pygments_lexer": "ipython3",
   "version": "3.11.13"
  }
 },
 "nbformat": 4,
 "nbformat_minor": 5
}
