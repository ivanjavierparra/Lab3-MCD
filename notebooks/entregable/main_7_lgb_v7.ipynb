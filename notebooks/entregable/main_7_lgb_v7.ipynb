{
 "cells": [
  {
   "cell_type": "code",
   "execution_count": 18,
   "id": "dbae8eac",
   "metadata": {},
   "outputs": [],
   "source": [
    "import pandas as pd\n",
    "import numpy as np\n",
    "import importlib\n",
    "import gc\n",
    "import sys\n",
    "import warnings\n",
    "sys.path.append('./scripts')  \n",
    "import preprocesamiento\n",
    "import feature_engineering\n",
    "import model_lgb\n",
    "importlib.reload(preprocesamiento)\n",
    "importlib.reload(model_lgb)\n",
    "importlib.reload(feature_engineering)\n",
    "warnings.filterwarnings(\"ignore\")"
   ]
  },
  {
   "cell_type": "markdown",
   "id": "14763c97",
   "metadata": {},
   "source": [
    "# Experimento 7: \n",
    "- LGBM\n",
    "- Uso de DWT\n",
    "- Estandarizacion del target\n",
    "- Usando funcion entrenamiento: semillerio_en_prediccion\n",
    "- Mismas variables\n",
    "- Pesos: (log o max?)\n",
    "- sqlite:///optuna_studies_v16.db\n",
    "- Kaggle =  \n"
   ]
  },
  {
   "cell_type": "markdown",
   "id": "3e128128",
   "metadata": {},
   "source": [
    "##### Levantamos el dataset con target ya calculado"
   ]
  },
  {
   "cell_type": "code",
   "execution_count": 2,
   "id": "23d157af",
   "metadata": {},
   "outputs": [
    {
     "name": "stdout",
     "output_type": "stream",
     "text": [
      "Dataset sin transformar tenia esto: (31362, 19)\n"
     ]
    },
    {
     "data": {
      "text/plain": [
       "(31362, 35)"
      ]
     },
     "execution_count": 2,
     "metadata": {},
     "output_type": "execute_result"
    }
   ],
   "source": [
    "df = pd.read_csv(\"./datasets/periodo_x_producto_con_target_transformado_201912.csv\", sep=',', encoding='utf-8')\n",
    "print(\"Dataset sin transformar tenia esto: (31362, 19)\")\n",
    "df.shape"
   ]
  },
  {
   "cell_type": "code",
   "execution_count": null,
   "id": "f4c2a0e9",
   "metadata": {},
   "outputs": [],
   "source": [
    "import pandas as pd\n",
    "import numpy as np\n",
    "from dtaidistance import dtw\n",
    "from scipy.cluster.hierarchy import linkage, dendrogram, fcluster\n",
    "import matplotlib.pyplot as plt\n",
    "\n",
    "# ----------------------------\n",
    "# Paso 1: cargar y preparar datos\n",
    "# ----------------------------\n",
    "\n",
    "# Supongamos que tu DataFrame tiene: 'item_id', 'timestamp', 'target'\n",
    "# y querés una serie por 'item_id'\n",
    "# MUY IMPORTANTE: primero agrupar o muestrear para reducir tamaño\n",
    "df = pd.read_csv('tus_series.csv')  # o cargá tu df directamente\n",
    "\n",
    "# Por ejemplo: convertir a mensual y tomar promedio\n",
    "df['timestamp'] = pd.to_datetime(df['timestamp'])\n",
    "df = df.set_index('timestamp').groupby('item_id').resample('M')['target'].mean().reset_index()\n",
    "\n",
    "# Pivotear a formato wide (una serie por fila)\n",
    "series_wide = df.pivot(index='item_id', columns='timestamp', values='target')\n",
    "\n",
    "# Opcional: rellenar NaNs si hay pocos\n",
    "series_wide = series_wide.fillna(method='ffill', axis=1).fillna(method='bfill', axis=1)\n",
    "\n",
    "# ----------------------------\n",
    "# Paso 2: calcular matriz de distancias DTW\n",
    "# ----------------------------\n",
    "\n",
    "# Convertir cada fila a lista para calcular DTW\n",
    "series_list = series_wide.values.tolist()\n",
    "\n",
    "# Usar fast DTW si querés velocidad: (solo para longitudes grandes)\n",
    "from dtaidistance import dtw_distance_matrix_fast\n",
    "distance_matrix = dtw_distance_matrix_fast(series_list, parallel=True)\n",
    "\n",
    "# ----------------------------\n",
    "# Paso 3: clustering jerárquico\n",
    "# ----------------------------\n",
    "\n",
    "# linkage requiere una forma \"condensed\" de la matriz\n",
    "from scipy.spatial.distance import squareform\n",
    "\n",
    "linkage_matrix = linkage(squareform(distance_matrix), method='ward')\n",
    "\n",
    "# ----------------------------\n",
    "# Paso 4: visualización o etiquetas\n",
    "# ----------------------------\n",
    "\n",
    "# Dendrograma\n",
    "plt.figure(figsize=(12, 5))\n",
    "dendrogram(linkage_matrix, labels=series_wide.index.tolist(), leaf_rotation=90)\n",
    "plt.title('Clustering jerárquico con DTW')\n",
    "plt.show()\n",
    "\n",
    "# Obtener etiquetas de clúster\n",
    "n_clusters = 4\n",
    "labels = fcluster(linkage_matrix, n_clusters, criterion='maxclust')\n",
    "\n",
    "# Añadir al dataframe original\n",
    "resultado = pd.DataFrame({\n",
    "    'item_id': series_wide.index,\n",
    "    'cluster': labels\n",
    "})\n"
   ]
  }
 ],
 "metadata": {
  "kernelspec": {
   "display_name": "py311lab3",
   "language": "python",
   "name": "python3"
  },
  "language_info": {
   "codemirror_mode": {
    "name": "ipython",
    "version": 3
   },
   "file_extension": ".py",
   "mimetype": "text/x-python",
   "name": "python",
   "nbconvert_exporter": "python",
   "pygments_lexer": "ipython3",
   "version": "3.11.13"
  }
 },
 "nbformat": 4,
 "nbformat_minor": 5
}
