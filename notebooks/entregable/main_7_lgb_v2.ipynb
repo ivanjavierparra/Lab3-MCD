{
 "cells": [
  {
   "cell_type": "code",
   "execution_count": 17,
   "id": "dbae8eac",
   "metadata": {},
   "outputs": [],
   "source": [
    "import pandas as pd\n",
    "import numpy as np\n",
    "import importlib\n",
    "import gc\n",
    "import sys\n",
    "import warnings\n",
    "sys.path.append('./scripts')  \n",
    "import preprocesamiento\n",
    "import feature_engineering\n",
    "import model_lgb\n",
    "importlib.reload(preprocesamiento)\n",
    "importlib.reload(model_lgb)\n",
    "importlib.reload(feature_engineering)\n",
    "warnings.filterwarnings(\"ignore\")"
   ]
  },
  {
   "cell_type": "markdown",
   "id": "14763c97",
   "metadata": {},
   "source": [
    "# Experimento 7: \n",
    "- LGBM\n",
    "- Usando funcion entrenamiento: semillerio_en_prediccion\n",
    "- Aumento cantidad de variables\n",
    "- sqlite:///optuna_studies_v15.db\n",
    "- Kaggle =  \n"
   ]
  },
  {
   "cell_type": "markdown",
   "id": "3e128128",
   "metadata": {},
   "source": [
    "##### Levantamos el dataset con target ya calculado"
   ]
  },
  {
   "cell_type": "code",
   "execution_count": 3,
   "id": "23d157af",
   "metadata": {},
   "outputs": [
    {
     "data": {
      "text/plain": [
       "(31362, 19)"
      ]
     },
     "execution_count": 3,
     "metadata": {},
     "output_type": "execute_result"
    }
   ],
   "source": [
    "df = pd.read_csv(\"./datasets/periodo_x_producto_con_target.csv\", sep=',', encoding='utf-8')\n",
    "df.shape"
   ]
  },
  {
   "cell_type": "code",
   "execution_count": 4,
   "id": "dd58191b",
   "metadata": {},
   "outputs": [
    {
     "data": {
      "text/plain": [
       "['product_id',\n",
       " 'periodo',\n",
       " 'nacimiento_producto',\n",
       " 'muerte_producto',\n",
       " 'mes_n',\n",
       " 'total_meses',\n",
       " 'producto_nuevo',\n",
       " 'ciclo_de_vida_inicial',\n",
       " 'cat1',\n",
       " 'cat2',\n",
       " 'cat3',\n",
       " 'brand',\n",
       " 'sku_size',\n",
       " 'stock_final',\n",
       " 'tn',\n",
       " 'plan_precios_cuidados',\n",
       " 'cust_request_qty',\n",
       " 'cust_request_tn',\n",
       " 'target']"
      ]
     },
     "execution_count": 4,
     "metadata": {},
     "output_type": "execute_result"
    }
   ],
   "source": [
    "columnas_baseline = df.columns.tolist()\n",
    "columnas_baseline"
   ]
  },
  {
   "cell_type": "markdown",
   "id": "b6556d30",
   "metadata": {},
   "source": [
    "##### Preprocesamiento a la minima expresión :)"
   ]
  },
  {
   "cell_type": "code",
   "execution_count": 50,
   "id": "9665b526",
   "metadata": {},
   "outputs": [],
   "source": [
    "# ##### aplicamos OHE\n",
    "# df = preprocesamiento.aplicarOHE(df)\n",
    "# df.shape"
   ]
  },
  {
   "cell_type": "markdown",
   "id": "902b1e13",
   "metadata": {},
   "source": [
    "### Feature Engineering"
   ]
  },
  {
   "cell_type": "markdown",
   "id": "2bd77df9",
   "metadata": {},
   "source": [
    "##### Neural Prophet"
   ]
  },
  {
   "cell_type": "code",
   "execution_count": 5,
   "id": "34d306ff",
   "metadata": {},
   "outputs": [
    {
     "data": {
      "text/plain": [
       "(31362, 22)"
      ]
     },
     "execution_count": 5,
     "metadata": {},
     "output_type": "execute_result"
    }
   ],
   "source": [
    "neural_prophet_fe = pd.read_csv(\"./datasets/features_neuralprophet_completo.csv\", sep=',', encoding='utf-8')\n",
    "neural_prophet_fe['ds'] = pd.to_datetime(neural_prophet_fe['ds'], errors='coerce')\n",
    "# Versión alternativa más robusta:\n",
    "neural_prophet_fe['periodo'] = neural_prophet_fe['ds'].apply(\n",
    "    lambda x: x.year * 100 + x.month if pd.notnull(x) else None\n",
    ")\n",
    "neural_prophet_fe = neural_prophet_fe[['periodo', 'product_id', 'trend', \"season_yearly\", \"season_monthly\"]]\n",
    "df = df.merge(neural_prophet_fe, on=['periodo', 'product_id'], how='left')\n",
    "df.shape"
   ]
  },
  {
   "cell_type": "markdown",
   "id": "ff026986",
   "metadata": {},
   "source": [
    "##### Prophet"
   ]
  },
  {
   "cell_type": "code",
   "execution_count": 6,
   "id": "4318910f",
   "metadata": {},
   "outputs": [
    {
     "data": {
      "text/plain": [
       "(31362, 28)"
      ]
     },
     "execution_count": 6,
     "metadata": {},
     "output_type": "execute_result"
    }
   ],
   "source": [
    "prophet_fe = pd.read_csv(\"./datasets/prophet_features_tn_zscore.csv\", sep=',', encoding='utf-8')\n",
    "prophet_fe['ds'] = pd.to_datetime(prophet_fe['ds'], errors='coerce')\n",
    "prophet_fe['periodo'] = prophet_fe['ds'].apply(\n",
    "    lambda x: x.year * 100 + x.month if pd.notnull(x) else None\n",
    ")\n",
    "prophet_fe = prophet_fe[['periodo', 'product_id', 'trend_add', \"yearly_add\", \"additive_terms\", 'trend_mult', 'yearly_mult', 'multiplicative_terms']]\n",
    "df = df.merge(prophet_fe, on=['periodo', 'product_id'], how='left')\n",
    "df.shape"
   ]
  },
  {
   "cell_type": "markdown",
   "id": "2eb4d3aa",
   "metadata": {},
   "source": [
    "##### FE Moviles"
   ]
  },
  {
   "cell_type": "code",
   "execution_count": 7,
   "id": "7dc30b4c",
   "metadata": {},
   "outputs": [
    {
     "data": {
      "text/plain": [
       "(31362, 590)"
      ]
     },
     "execution_count": 7,
     "metadata": {},
     "output_type": "execute_result"
    }
   ],
   "source": [
    "df = feature_engineering.get_lags(df, \"tn\", 201912)\n",
    "df = feature_engineering.get_delta_lags(df, \"tn\", 24)\n",
    "df = feature_engineering.get_rolling_means(df, \"tn\", 201912)\n",
    "df = feature_engineering.get_rolling_stds(df, \"tn\", 201912)\n",
    "df = feature_engineering.get_rolling_mins(df, \"tn\", 201912)\n",
    "df = feature_engineering.get_rolling_maxs(df, \"tn\", 201912)\n",
    "df = feature_engineering.get_rolling_medians(df, \"tn\", 201912)\n",
    "df = feature_engineering.get_rolling_skewness(df, \"tn\", 201912)\n",
    "df = feature_engineering.get_autocorrelaciones(df, \"tn\", 201912)\n",
    "df.shape"
   ]
  },
  {
   "cell_type": "code",
   "execution_count": 8,
   "id": "e0500070",
   "metadata": {},
   "outputs": [],
   "source": [
    "df = feature_engineering.get_lags(df, \"cust_request_qty\", 201912)\n",
    "df = feature_engineering.get_delta_lags(df, \"cust_request_qty\", 24)\n",
    "df = feature_engineering.get_rolling_means(df, \"cust_request_qty\", 201912)\n",
    "df = feature_engineering.get_rolling_stds(df, \"cust_request_qty\", 201912)\n",
    "df = feature_engineering.get_rolling_mins(df, \"cust_request_qty\", 201912)\n",
    "df = feature_engineering.get_rolling_maxs(df, \"cust_request_qty\", 201912)"
   ]
  },
  {
   "cell_type": "code",
   "execution_count": 9,
   "id": "195bd5b9",
   "metadata": {},
   "outputs": [
    {
     "data": {
      "text/plain": [
       "(31362, 1500)"
      ]
     },
     "execution_count": 9,
     "metadata": {},
     "output_type": "execute_result"
    }
   ],
   "source": [
    "df = feature_engineering.get_lags(df, \"stock_final\", 201912)\n",
    "df = feature_engineering.get_delta_lags(df, \"stock_final\", 24)\n",
    "df = feature_engineering.get_rolling_means(df, \"stock_final\", 201912)\n",
    "df = feature_engineering.get_rolling_stds(df, \"stock_final\", 201912)\n",
    "df = feature_engineering.get_rolling_mins(df, \"stock_final\", 201912)\n",
    "df = feature_engineering.get_rolling_maxs(df, \"stock_final\", 201912)\n",
    "df.shape"
   ]
  },
  {
   "cell_type": "markdown",
   "id": "e2436c9b",
   "metadata": {},
   "source": [
    "##### FE Moviles sobre otras variables"
   ]
  },
  {
   "cell_type": "code",
   "execution_count": 56,
   "id": "0dca7531",
   "metadata": {},
   "outputs": [],
   "source": [
    "# #  stock final\n",
    "# df = feature_engineering.get_lagsEspecificos(df, col='stock_final_zscore')\n",
    "# df = feature_engineering.get_delta_lags_especificos(df, col='stock_final_zscore')\n",
    "# df = feature_engineering.get_rolling_means_especificos(df, col='stock_final_zscore')\n",
    "# df = feature_engineering.get_rolling_stds_especificos(df, col='stock_final_zscore')\n",
    "# df = feature_engineering.get_rolling_medians_especificos(df, col='stock_final_zscore')\n",
    "# df = feature_engineering.get_rolling_mins_especificos(df, col='stock_final_zscore')\n",
    "# df = feature_engineering.get_rolling_maxs_especificos(df, col='stock_final_zscore')\n",
    "# df = feature_engineering.get_rolling_skewness_especificos(df, col='stock_final_zscore')\n",
    "\n",
    "#  cust_request_qty\n",
    "# df = feature_engineering.get_lagsEspecificos(df, col='cust_request_qty')\n",
    "# df = feature_engineering.get_delta_lags_especificos(df, col='cust_request_qty')\n",
    "# df = feature_engineering.get_rolling_means_especificos(df, col='cust_request_qty')\n",
    "# df = feature_engineering.get_rolling_stds_especificos(df, col='cust_request_qty')\n",
    "# df = feature_engineering.get_rolling_mins_especificos(df, col='cust_request_qty')\n",
    "# df = feature_engineering.get_rolling_maxs_especificos(df, col='cust_request_qty')\n",
    "# df = feature_engineering.get_rolling_medians_especificos(df, col='cust_request_qty')\n",
    "# df = feature_engineering.get_rolling_skewness_especificos(df, col='cust_request_qty')"
   ]
  },
  {
   "cell_type": "markdown",
   "id": "6fb9716d",
   "metadata": {},
   "source": [
    "##### FE Calendario"
   ]
  },
  {
   "cell_type": "code",
   "execution_count": 10,
   "id": "3e810260",
   "metadata": {},
   "outputs": [
    {
     "data": {
      "text/plain": [
       "(31362, 1525)"
      ]
     },
     "execution_count": 10,
     "metadata": {},
     "output_type": "execute_result"
    }
   ],
   "source": [
    "df = feature_engineering.generar_ids(df)\n",
    "df = feature_engineering.get_componentesTemporales(df)\n",
    "df = feature_engineering.get_anomaliasPoliticas(df)\n",
    "# df = feature_engineering.descomposicion_serie_temporal(df, col='tn')\n",
    "df.shape"
   ]
  },
  {
   "cell_type": "markdown",
   "id": "b34d19db",
   "metadata": {},
   "source": [
    "##### FE sobre FE"
   ]
  },
  {
   "cell_type": "code",
   "execution_count": 11,
   "id": "14345585",
   "metadata": {},
   "outputs": [
    {
     "data": {
      "text/plain": [
       "(31362, 1554)"
      ]
     },
     "execution_count": 11,
     "metadata": {},
     "output_type": "execute_result"
    }
   ],
   "source": [
    "df = feature_engineering.chatGPT_features_serie(df, \"tn\")\n",
    "df = feature_engineering.mes_con_feriado(df)\n",
    "df.shape"
   ]
  },
  {
   "cell_type": "markdown",
   "id": "62f1cbad",
   "metadata": {},
   "source": [
    "##### Variables Exogenas"
   ]
  },
  {
   "cell_type": "code",
   "execution_count": 12,
   "id": "d10e572a",
   "metadata": {},
   "outputs": [
    {
     "data": {
      "text/plain": [
       "(31362, 1557)"
      ]
     },
     "execution_count": 12,
     "metadata": {},
     "output_type": "execute_result"
    }
   ],
   "source": [
    "df = feature_engineering.get_dolar(df)\n",
    "df = feature_engineering.get_IPC(df)\n",
    "df['ipc'] = df['ipc'].str.replace(',', '.').astype(float)\n",
    "df['dolar'] = df['dolar'].str.replace(',', '.').astype(float)\n",
    "# df.drop(columns=['ds'], inplace=True)\n",
    "df.fillna(0, inplace=True) ##### EXPERIMENTAR\n",
    "df = feature_engineering.correlacion_exogenas(df)\n",
    "df = feature_engineering.get_mes_receso_escolar(df)\n",
    "df.shape"
   ]
  },
  {
   "cell_type": "markdown",
   "id": "574cbf29",
   "metadata": {},
   "source": [
    "##### Nuevas FE"
   ]
  },
  {
   "cell_type": "code",
   "execution_count": 13,
   "id": "ac0b5e13",
   "metadata": {},
   "outputs": [
    {
     "data": {
      "text/plain": [
       "(31362, 1599)"
      ]
     },
     "execution_count": 13,
     "metadata": {},
     "output_type": "execute_result"
    }
   ],
   "source": [
    "df = feature_engineering.create_ratio_features(df)\n",
    "df = feature_engineering.enhance_lifecycle_features(df)\n",
    "df = feature_engineering.create_category_features(df)\n",
    "df = feature_engineering.create_regime_features(df)\n",
    "df = feature_engineering.create_nonlinear_trends(df)\n",
    "df = feature_engineering.create_temporal_interactions(df)\n",
    "df = feature_engineering.create_asymmetric_window_features(df)\n",
    "df = feature_engineering.recomendaciones_deepseek(df)\n",
    "df = feature_engineering.get_nuevas_features(df)\n",
    "df.shape"
   ]
  },
  {
   "cell_type": "markdown",
   "id": "01403c73",
   "metadata": {},
   "source": [
    "##### Elimino aquellas que no sirven"
   ]
  },
  {
   "cell_type": "code",
   "execution_count": null,
   "id": "394f26c7",
   "metadata": {},
   "outputs": [
    {
     "data": {
      "application/vnd.microsoft.datawrangler.viewer.v0+json": {
       "columns": [
        {
         "name": "index",
         "rawType": "int64",
         "type": "integer"
        },
        {
         "name": "feature",
         "rawType": "object",
         "type": "string"
        },
        {
         "name": "importance",
         "rawType": "int64",
         "type": "integer"
        }
       ],
       "ref": "87fa4b9b-5553-4771-9749-4241efc53e0e",
       "rows": [
        [
         "67",
         "tn_vs_prev_year",
         "100"
        ],
        [
         "68",
         "tn_delta_lag5_lag8",
         "99"
        ],
        [
         "69",
         "tn_rolling_min_4",
         "96"
        ],
        [
         "70",
         "tn_lag_5",
         "95"
        ],
        [
         "71",
         "tn_rolling_std_6",
         "95"
        ],
        [
         "72",
         "tn_delta_lag4_lag9",
         "94"
        ],
        [
         "73",
         "tn_rolling_std_7",
         "92"
        ],
        [
         "74",
         "season_yearly",
         "92"
        ],
        [
         "75",
         "tn_delta_lag3_lag8",
         "91"
        ],
        [
         "76",
         "tn_delta_lag9_lag10",
         "90"
        ],
        [
         "77",
         "tn_lag_7",
         "89"
        ],
        [
         "78",
         "tn_delta_lag4_lag8",
         "88"
        ],
        [
         "79",
         "tn_lag_8",
         "87"
        ],
        [
         "80",
         "tn_rolling_max_4",
         "87"
        ],
        [
         "81",
         "tn_delta_lag7_lag10",
         "86"
        ],
        [
         "82",
         "tn_delta_lag2_lag8",
         "84"
        ],
        [
         "83",
         "tn_delta_lag5_lag7",
         "84"
        ],
        [
         "84",
         "tn_delta_lag1_lag9",
         "83"
        ],
        [
         "85",
         "tn_delta_lag4_lag10",
         "83"
        ],
        [
         "86",
         "tn_rolling_std_8",
         "83"
        ],
        [
         "88",
         "tn_delta_lag8_lag11",
         "83"
        ],
        [
         "89",
         "tn_delta_lag5_lag10",
         "82"
        ],
        [
         "90",
         "tn_seasonal_diff_12",
         "82"
        ],
        [
         "91",
         "tn_delta_lag2_lag9",
         "82"
        ],
        [
         "92",
         "tn_delta_lag3_lag11",
         "81"
        ],
        [
         "93",
         "tn_rolling_max_3",
         "81"
        ],
        [
         "94",
         "tn_delta_lag11_lag12",
         "81"
        ],
        [
         "95",
         "tn_delta_lag7_lag9",
         "78"
        ],
        [
         "96",
         "tn_delta_lag1_lag8",
         "78"
        ],
        [
         "97",
         "tn_delta_lag2_lag10",
         "78"
        ],
        [
         "98",
         "tn_delta_lag5_lag9",
         "77"
        ],
        [
         "99",
         "tn_delta_lag10_lag12",
         "77"
        ],
        [
         "100",
         "tn_rolling_mean_4",
         "75"
        ],
        [
         "101",
         "tn_trend_linear",
         "72"
        ],
        [
         "102",
         "tn_delta_lag6_lag9",
         "72"
        ],
        [
         "103",
         "tn_last3_vs_ly3",
         "71"
        ],
        [
         "105",
         "tn_rolling_min_6",
         "71"
        ],
        [
         "106",
         "tn_delta_lag2_lag11",
         "71"
        ],
        [
         "107",
         "tn_rolling_min_5",
         "71"
        ],
        [
         "108",
         "tn_lag_9",
         "70"
        ],
        [
         "109",
         "tn_delta_lag3_lag9",
         "70"
        ],
        [
         "110",
         "tn_rolling_mean_3",
         "69"
        ],
        [
         "112",
         "tn_lag_10",
         "68"
        ],
        [
         "113",
         "tn_delta_lag9_lag12",
         "67"
        ],
        [
         "114",
         "tn_delta_lag8_lag10",
         "66"
        ],
        [
         "115",
         "additive_terms",
         "65"
        ],
        [
         "116",
         "tn_delta_lag5_lag11",
         "65"
        ],
        [
         "117",
         "cat2_ROPA LAVADO",
         "64"
        ],
        [
         "118",
         "tn_delta_lag9_lag11",
         "62"
        ],
        [
         "119",
         "tn_delta_lag10_lag11",
         "61"
        ]
       ],
       "shape": {
        "columns": 2,
        "rows": 608
       }
      },
      "text/html": [
       "<div>\n",
       "<style scoped>\n",
       "    .dataframe tbody tr th:only-of-type {\n",
       "        vertical-align: middle;\n",
       "    }\n",
       "\n",
       "    .dataframe tbody tr th {\n",
       "        vertical-align: top;\n",
       "    }\n",
       "\n",
       "    .dataframe thead th {\n",
       "        text-align: right;\n",
       "    }\n",
       "</style>\n",
       "<table border=\"1\" class=\"dataframe\">\n",
       "  <thead>\n",
       "    <tr style=\"text-align: right;\">\n",
       "      <th></th>\n",
       "      <th>feature</th>\n",
       "      <th>importance</th>\n",
       "    </tr>\n",
       "  </thead>\n",
       "  <tbody>\n",
       "    <tr>\n",
       "      <th>67</th>\n",
       "      <td>tn_vs_prev_year</td>\n",
       "      <td>100</td>\n",
       "    </tr>\n",
       "    <tr>\n",
       "      <th>68</th>\n",
       "      <td>tn_delta_lag5_lag8</td>\n",
       "      <td>99</td>\n",
       "    </tr>\n",
       "    <tr>\n",
       "      <th>69</th>\n",
       "      <td>tn_rolling_min_4</td>\n",
       "      <td>96</td>\n",
       "    </tr>\n",
       "    <tr>\n",
       "      <th>70</th>\n",
       "      <td>tn_lag_5</td>\n",
       "      <td>95</td>\n",
       "    </tr>\n",
       "    <tr>\n",
       "      <th>71</th>\n",
       "      <td>tn_rolling_std_6</td>\n",
       "      <td>95</td>\n",
       "    </tr>\n",
       "    <tr>\n",
       "      <th>...</th>\n",
       "      <td>...</td>\n",
       "      <td>...</td>\n",
       "    </tr>\n",
       "    <tr>\n",
       "      <th>677</th>\n",
       "      <td>dia_del_year</td>\n",
       "      <td>0</td>\n",
       "    </tr>\n",
       "    <tr>\n",
       "      <th>678</th>\n",
       "      <td>cat2_TE</td>\n",
       "      <td>0</td>\n",
       "    </tr>\n",
       "    <tr>\n",
       "      <th>680</th>\n",
       "      <td>cat2_PIEL1</td>\n",
       "      <td>0</td>\n",
       "    </tr>\n",
       "    <tr>\n",
       "      <th>681</th>\n",
       "      <td>cat2_OTROS</td>\n",
       "      <td>0</td>\n",
       "    </tr>\n",
       "    <tr>\n",
       "      <th>682</th>\n",
       "      <td>tn_is_outlier_3sigma</td>\n",
       "      <td>0</td>\n",
       "    </tr>\n",
       "  </tbody>\n",
       "</table>\n",
       "<p>608 rows × 2 columns</p>\n",
       "</div>"
      ],
      "text/plain": [
       "                  feature  importance\n",
       "67        tn_vs_prev_year         100\n",
       "68     tn_delta_lag5_lag8          99\n",
       "69       tn_rolling_min_4          96\n",
       "70               tn_lag_5          95\n",
       "71       tn_rolling_std_6          95\n",
       "..                    ...         ...\n",
       "677          dia_del_year           0\n",
       "678               cat2_TE           0\n",
       "680            cat2_PIEL1           0\n",
       "681            cat2_OTROS           0\n",
       "682  tn_is_outlier_3sigma           0\n",
       "\n",
       "[608 rows x 2 columns]"
      ]
     },
     "execution_count": 13,
     "metadata": {},
     "output_type": "execute_result"
    }
   ],
   "source": [
    "# importantes = pd.read_csv(\"./feature_importance/exp04_3.csv\", sep=',', encoding='utf-8')\n",
    "# no_importantes = importantes[importantes['importance'] <= 100]\n",
    "# no_importantes = no_importantes[~no_importantes['feature'].isin(columnas_baseline)]\n",
    "# no_importantes"
   ]
  },
  {
   "cell_type": "code",
   "execution_count": null,
   "id": "64ffa0fc",
   "metadata": {},
   "outputs": [
    {
     "name": "stdout",
     "output_type": "stream",
     "text": [
      "Antes de eliminar: 1144 columnas\n",
      "Después de eliminar: 684 columnas\n"
     ]
    }
   ],
   "source": [
    "# cols_a_eliminar = no_importantes.feature.unique()\n",
    "# print(f\"Antes de eliminar: {df.shape[1]} columnas\")\n",
    "# df = df.drop(columns=cols_a_eliminar, errors='ignore')\n",
    "# print(f\"Después de eliminar: {df.shape[1]} columnas\")"
   ]
  },
  {
   "cell_type": "markdown",
   "id": "db213673",
   "metadata": {},
   "source": [
    "Eliminar object/categorical columnas"
   ]
  },
  {
   "cell_type": "code",
   "execution_count": 14,
   "id": "a71a529b",
   "metadata": {},
   "outputs": [],
   "source": [
    "df = df.select_dtypes(exclude=['datetime', 'datetime64', 'object'])"
   ]
  },
  {
   "cell_type": "markdown",
   "id": "4ff4ee13",
   "metadata": {},
   "source": [
    "Train Test Split"
   ]
  },
  {
   "cell_type": "code",
   "execution_count": 15,
   "id": "32557458",
   "metadata": {},
   "outputs": [],
   "source": [
    "train = df[df['periodo'] <= 201912]\n",
    "test = df[df['periodo'] == 201912]"
   ]
  },
  {
   "cell_type": "markdown",
   "id": "cf3fabe4",
   "metadata": {},
   "source": [
    "Entrenamiento"
   ]
  },
  {
   "cell_type": "code",
   "execution_count": 16,
   "id": "73042e3d",
   "metadata": {},
   "outputs": [
    {
     "name": "stdout",
     "output_type": "stream",
     "text": [
      "\n",
      "Para visualizar los resultados en tiempo real:\n",
      "1. Abre otra terminal y ejecuta:\n",
      "   optuna-dashboard sqlite:///optuna_studies_v15.db\n",
      "2. Abre en tu navegador: http://127.0.0.1:8080/\n"
     ]
    },
    {
     "name": "stderr",
     "output_type": "stream",
     "text": [
      "[I 2025-06-30 22:05:36,488] A new study created in RDB with name: lightgbm_optimization_v15\n",
      "[I 2025-06-30 22:10:45,212] Trial 0 finished with value: 8.484416635084013 and parameters: {'num_leaves': 47, 'learning_rate': 0.2536999076681772, 'feature_fraction': 0.892797576724562, 'bagging_fraction': 0.8795975452591109, 'bagging_freq': 2, 'lambda_l1': 2.5348407664333426e-07, 'lambda_l2': 3.3323645788192616e-08, 'min_child_samples': 45, 'max_depth': 7, 'max_bin': 383, 'min_data_in_leaf': 21, 'extra_trees': True, 'early_stopping_rounds': 18, 'path_smooth': 0.18182496720710062, 'min_gain_to_split': 0.09170225492671691}. Best is trial 0 with value: 8.484416635084013.\n"
     ]
    },
    {
     "name": "stdout",
     "output_type": "stream",
     "text": [
      "Mejor trial hasta ahora: RMSE=8.484417, Parámetros={'num_leaves': 47, 'learning_rate': 0.2536999076681772, 'feature_fraction': 0.892797576724562, 'bagging_fraction': 0.8795975452591109, 'bagging_freq': 2, 'lambda_l1': 2.5348407664333426e-07, 'lambda_l2': 3.3323645788192616e-08, 'min_child_samples': 45, 'max_depth': 7, 'max_bin': 383, 'min_data_in_leaf': 21, 'extra_trees': True, 'early_stopping_rounds': 18, 'path_smooth': 0.18182496720710062, 'min_gain_to_split': 0.09170225492671691}\n"
     ]
    },
    {
     "name": "stderr",
     "output_type": "stream",
     "text": [
      "[I 2025-06-30 22:21:27,633] Trial 1 finished with value: 17.15767005667181 and parameters: {'num_leaves': 41, 'learning_rate': 0.05958389350068958, 'feature_fraction': 0.7727780074568463, 'bagging_fraction': 0.7873687420594125, 'bagging_freq': 7, 'lambda_l1': 1.8007140198129195e-07, 'lambda_l2': 4.258943089524393e-06, 'min_child_samples': 25, 'max_depth': 6, 'max_bin': 414, 'min_data_in_leaf': 36, 'extra_trees': False, 'early_stopping_rounds': 11, 'path_smooth': 0.6075448519014384, 'min_gain_to_split': 0.08526206184364576}. Best is trial 0 with value: 8.484416635084013.\n"
     ]
    },
    {
     "name": "stdout",
     "output_type": "stream",
     "text": [
      "Mejor trial hasta ahora: RMSE=8.484417, Parámetros={'num_leaves': 47, 'learning_rate': 0.2536999076681772, 'feature_fraction': 0.892797576724562, 'bagging_fraction': 0.8795975452591109, 'bagging_freq': 2, 'lambda_l1': 2.5348407664333426e-07, 'lambda_l2': 3.3323645788192616e-08, 'min_child_samples': 45, 'max_depth': 7, 'max_bin': 383, 'min_data_in_leaf': 21, 'extra_trees': True, 'early_stopping_rounds': 18, 'path_smooth': 0.18182496720710062, 'min_gain_to_split': 0.09170225492671691}\n"
     ]
    },
    {
     "name": "stderr",
     "output_type": "stream",
     "text": [
      "[I 2025-06-30 22:25:19,594] Trial 2 finished with value: 44.991070785300806 and parameters: {'num_leaves': 20, 'learning_rate': 0.2521267904777921, 'feature_fraction': 0.9862528132298237, 'bagging_fraction': 0.9425192044349383, 'bagging_freq': 4, 'lambda_l1': 7.569183361880229e-08, 'lambda_l2': 0.014391207615728067, 'min_child_samples': 28, 'max_depth': 3, 'max_bin': 298, 'min_data_in_leaf': 22, 'extra_trees': True, 'early_stopping_rounds': 37, 'path_smooth': 0.31171107608941095, 'min_gain_to_split': 0.2600340105889054}. Best is trial 0 with value: 8.484416635084013.\n"
     ]
    },
    {
     "name": "stdout",
     "output_type": "stream",
     "text": [
      "Mejor trial hasta ahora: RMSE=8.484417, Parámetros={'num_leaves': 47, 'learning_rate': 0.2536999076681772, 'feature_fraction': 0.892797576724562, 'bagging_fraction': 0.8795975452591109, 'bagging_freq': 2, 'lambda_l1': 2.5348407664333426e-07, 'lambda_l2': 3.3323645788192616e-08, 'min_child_samples': 45, 'max_depth': 7, 'max_bin': 383, 'min_data_in_leaf': 21, 'extra_trees': True, 'early_stopping_rounds': 18, 'path_smooth': 0.18182496720710062, 'min_gain_to_split': 0.09170225492671691}\n"
     ]
    },
    {
     "name": "stderr",
     "output_type": "stream",
     "text": [
      "[I 2025-06-30 22:35:07,804] Trial 3 finished with value: 110.30584542497763 and parameters: {'num_leaves': 62, 'learning_rate': 0.01875220945578641, 'feature_fraction': 0.9878338511058234, 'bagging_fraction': 0.9325398470083344, 'bagging_freq': 10, 'lambda_l1': 1.1309571585271483, 'lambda_l2': 0.002404915432737351, 'min_child_samples': 47, 'max_depth': 3, 'max_bin': 178, 'min_data_in_leaf': 23, 'extra_trees': False, 'early_stopping_rounds': 21, 'path_smooth': 0.8287375091519293, 'min_gain_to_split': 0.17837666334679464}. Best is trial 0 with value: 8.484416635084013.\n"
     ]
    },
    {
     "name": "stdout",
     "output_type": "stream",
     "text": [
      "Mejor trial hasta ahora: RMSE=8.484417, Parámetros={'num_leaves': 47, 'learning_rate': 0.2536999076681772, 'feature_fraction': 0.892797576724562, 'bagging_fraction': 0.8795975452591109, 'bagging_freq': 2, 'lambda_l1': 2.5348407664333426e-07, 'lambda_l2': 3.3323645788192616e-08, 'min_child_samples': 45, 'max_depth': 7, 'max_bin': 383, 'min_data_in_leaf': 21, 'extra_trees': True, 'early_stopping_rounds': 18, 'path_smooth': 0.18182496720710062, 'min_gain_to_split': 0.09170225492671691}\n"
     ]
    },
    {
     "name": "stderr",
     "output_type": "stream",
     "text": [
      "[I 2025-06-30 22:41:49,159] Trial 4 finished with value: 106.69240781582789 and parameters: {'num_leaves': 39, 'learning_rate': 0.06333268775321843, 'feature_fraction': 0.6563696899899051, 'bagging_fraction': 0.9406590942262119, 'bagging_freq': 1, 'lambda_l1': 7.620481786158549, 'lambda_l2': 0.08916674715636537, 'min_child_samples': 18, 'max_depth': 3, 'max_bin': 427, 'min_data_in_leaf': 77, 'extra_trees': False, 'early_stopping_rounds': 13, 'path_smooth': 0.3584657285442726, 'min_gain_to_split': 0.05793452976256486}. Best is trial 0 with value: 8.484416635084013.\n"
     ]
    },
    {
     "name": "stdout",
     "output_type": "stream",
     "text": [
      "Mejor trial hasta ahora: RMSE=8.484417, Parámetros={'num_leaves': 47, 'learning_rate': 0.2536999076681772, 'feature_fraction': 0.892797576724562, 'bagging_fraction': 0.8795975452591109, 'bagging_freq': 2, 'lambda_l1': 2.5348407664333426e-07, 'lambda_l2': 3.3323645788192616e-08, 'min_child_samples': 45, 'max_depth': 7, 'max_bin': 383, 'min_data_in_leaf': 21, 'extra_trees': True, 'early_stopping_rounds': 18, 'path_smooth': 0.18182496720710062, 'min_gain_to_split': 0.09170225492671691}\n"
     ]
    },
    {
     "name": "stderr",
     "output_type": "stream",
     "text": [
      "[I 2025-06-30 22:52:47,108] Trial 5 finished with value: 8.205587190202099 and parameters: {'num_leaves': 89, 'learning_rate': 0.08330803890301997, 'feature_fraction': 0.7323592099410596, 'bagging_fraction': 0.7190675050858071, 'bagging_freq': 4, 'lambda_l1': 8.445977074223802e-06, 'lambda_l2': 0.036851536911881845, 'min_child_samples': 36, 'max_depth': 10, 'max_bin': 289, 'min_data_in_leaf': 29, 'extra_trees': False, 'early_stopping_rounds': 33, 'path_smooth': 0.770967179954561, 'min_gain_to_split': 0.24689779818219537}. Best is trial 5 with value: 8.205587190202099.\n"
     ]
    },
    {
     "name": "stdout",
     "output_type": "stream",
     "text": [
      "Mejor trial hasta ahora: RMSE=8.205587, Parámetros={'num_leaves': 89, 'learning_rate': 0.08330803890301997, 'feature_fraction': 0.7323592099410596, 'bagging_fraction': 0.7190675050858071, 'bagging_freq': 4, 'lambda_l1': 8.445977074223802e-06, 'lambda_l2': 0.036851536911881845, 'min_child_samples': 36, 'max_depth': 10, 'max_bin': 289, 'min_data_in_leaf': 29, 'extra_trees': False, 'early_stopping_rounds': 33, 'path_smooth': 0.770967179954561, 'min_gain_to_split': 0.24689779818219537}\n"
     ]
    },
    {
     "name": "stderr",
     "output_type": "stream",
     "text": [
      "[I 2025-06-30 23:00:18,136] Trial 6 finished with value: 5.382897215379932 and parameters: {'num_leaves': 59, 'learning_rate': 0.042808491617570936, 'feature_fraction': 0.610167650697638, 'bagging_fraction': 0.7323674280979913, 'bagging_freq': 1, 'lambda_l1': 0.005341874754868531, 'lambda_l2': 6.748446817464346e-06, 'min_child_samples': 30, 'max_depth': 10, 'max_bin': 199, 'min_data_in_leaf': 53, 'extra_trees': True, 'early_stopping_rounds': 13, 'path_smooth': 0.289751452913768, 'min_gain_to_split': 0.08061064362700221}. Best is trial 6 with value: 5.382897215379932.\n"
     ]
    },
    {
     "name": "stdout",
     "output_type": "stream",
     "text": [
      "Mejor trial hasta ahora: RMSE=5.382897, Parámetros={'num_leaves': 59, 'learning_rate': 0.042808491617570936, 'feature_fraction': 0.610167650697638, 'bagging_fraction': 0.7323674280979913, 'bagging_freq': 1, 'lambda_l1': 0.005341874754868531, 'lambda_l2': 6.748446817464346e-06, 'min_child_samples': 30, 'max_depth': 10, 'max_bin': 199, 'min_data_in_leaf': 53, 'extra_trees': True, 'early_stopping_rounds': 13, 'path_smooth': 0.289751452913768, 'min_gain_to_split': 0.08061064362700221}\n"
     ]
    },
    {
     "name": "stderr",
     "output_type": "stream",
     "text": [
      "[I 2025-06-30 23:12:02,766] Trial 7 finished with value: 5.75373309312771 and parameters: {'num_leaves': 94, 'learning_rate': 0.156203869845265, 'feature_fraction': 0.8533615026041694, 'bagging_fraction': 0.9614381770563153, 'bagging_freq': 9, 'lambda_l1': 4.776728196949699e-07, 'lambda_l2': 1.0790237065789294, 'min_child_samples': 32, 'max_depth': 9, 'max_bin': 459, 'min_data_in_leaf': 45, 'extra_trees': False, 'early_stopping_rounds': 27, 'path_smooth': 0.8180147659224931, 'min_gain_to_split': 0.4303652916281717}. Best is trial 6 with value: 5.382897215379932.\n"
     ]
    },
    {
     "name": "stdout",
     "output_type": "stream",
     "text": [
      "Mejor trial hasta ahora: RMSE=5.382897, Parámetros={'num_leaves': 59, 'learning_rate': 0.042808491617570936, 'feature_fraction': 0.610167650697638, 'bagging_fraction': 0.7323674280979913, 'bagging_freq': 1, 'lambda_l1': 0.005341874754868531, 'lambda_l2': 6.748446817464346e-06, 'min_child_samples': 30, 'max_depth': 10, 'max_bin': 199, 'min_data_in_leaf': 53, 'extra_trees': True, 'early_stopping_rounds': 13, 'path_smooth': 0.289751452913768, 'min_gain_to_split': 0.08061064362700221}\n"
     ]
    },
    {
     "name": "stderr",
     "output_type": "stream",
     "text": [
      "[I 2025-06-30 23:18:44,866] Trial 8 finished with value: 25.76518359328828 and parameters: {'num_leaves': 15, 'learning_rate': 0.05681142678077596, 'feature_fraction': 0.7669644012595116, 'bagging_fraction': 0.7666323431412191, 'bagging_freq': 2, 'lambda_l1': 1.0927895733904103e-05, 'lambda_l2': 3.0632845126552133, 'min_child_samples': 23, 'max_depth': 7, 'max_bin': 381, 'min_data_in_leaf': 49, 'extra_trees': True, 'early_stopping_rounds': 20, 'path_smooth': 0.49724850589238545, 'min_gain_to_split': 0.15043915490838483}. Best is trial 6 with value: 5.382897215379932.\n"
     ]
    },
    {
     "name": "stdout",
     "output_type": "stream",
     "text": [
      "Mejor trial hasta ahora: RMSE=5.382897, Parámetros={'num_leaves': 59, 'learning_rate': 0.042808491617570936, 'feature_fraction': 0.610167650697638, 'bagging_fraction': 0.7323674280979913, 'bagging_freq': 1, 'lambda_l1': 0.005341874754868531, 'lambda_l2': 6.748446817464346e-06, 'min_child_samples': 30, 'max_depth': 10, 'max_bin': 199, 'min_data_in_leaf': 53, 'extra_trees': True, 'early_stopping_rounds': 13, 'path_smooth': 0.289751452913768, 'min_gain_to_split': 0.08061064362700221}\n"
     ]
    },
    {
     "name": "stderr",
     "output_type": "stream",
     "text": [
      "[I 2025-06-30 23:33:36,593] Trial 9 finished with value: 77.29682170667218 and parameters: {'num_leaves': 39, 'learning_rate': 0.011336695817840537, 'feature_fraction': 0.8438257335919588, 'bagging_fraction': 0.8508037069686585, 'bagging_freq': 1, 'lambda_l1': 3.21972053981427e-06, 'lambda_l2': 1.49414578394363, 'min_child_samples': 19, 'max_depth': 4, 'max_bin': 296, 'min_data_in_leaf': 99, 'extra_trees': False, 'early_stopping_rounds': 41, 'path_smooth': 0.23763754399239967, 'min_gain_to_split': 0.3641081743059298}. Best is trial 6 with value: 5.382897215379932.\n"
     ]
    },
    {
     "name": "stdout",
     "output_type": "stream",
     "text": [
      "Mejor trial hasta ahora: RMSE=5.382897, Parámetros={'num_leaves': 59, 'learning_rate': 0.042808491617570936, 'feature_fraction': 0.610167650697638, 'bagging_fraction': 0.7323674280979913, 'bagging_freq': 1, 'lambda_l1': 0.005341874754868531, 'lambda_l2': 6.748446817464346e-06, 'min_child_samples': 30, 'max_depth': 10, 'max_bin': 199, 'min_data_in_leaf': 53, 'extra_trees': True, 'early_stopping_rounds': 13, 'path_smooth': 0.289751452913768, 'min_gain_to_split': 0.08061064362700221}\n"
     ]
    },
    {
     "name": "stderr",
     "output_type": "stream",
     "text": [
      "[I 2025-06-30 23:41:19,236] Trial 10 finished with value: 7.467538121738829 and parameters: {'num_leaves': 70, 'learning_rate': 0.029068799010326083, 'feature_fraction': 0.6030189277265172, 'bagging_fraction': 0.7053885626844458, 'bagging_freq': 6, 'lambda_l1': 0.016301353379407614, 'lambda_l2': 1.785697818123025e-05, 'min_child_samples': 11, 'max_depth': 9, 'max_bin': 104, 'min_data_in_leaf': 67, 'extra_trees': True, 'early_stopping_rounds': 47, 'path_smooth': 0.07644843397269116, 'min_gain_to_split': 0.016311559769174172}. Best is trial 6 with value: 5.382897215379932.\n"
     ]
    },
    {
     "name": "stdout",
     "output_type": "stream",
     "text": [
      "Mejor trial hasta ahora: RMSE=5.382897, Parámetros={'num_leaves': 59, 'learning_rate': 0.042808491617570936, 'feature_fraction': 0.610167650697638, 'bagging_fraction': 0.7323674280979913, 'bagging_freq': 1, 'lambda_l1': 0.005341874754868531, 'lambda_l2': 6.748446817464346e-06, 'min_child_samples': 30, 'max_depth': 10, 'max_bin': 199, 'min_data_in_leaf': 53, 'extra_trees': True, 'early_stopping_rounds': 13, 'path_smooth': 0.289751452913768, 'min_gain_to_split': 0.08061064362700221}\n"
     ]
    },
    {
     "name": "stderr",
     "output_type": "stream",
     "text": [
      "[I 2025-06-30 23:48:51,665] Trial 11 finished with value: 3.2461153050439577 and parameters: {'num_leaves': 96, 'learning_rate': 0.1251653145864116, 'feature_fraction': 0.8834227868828812, 'bagging_fraction': 0.9812246562585575, 'bagging_freq': 10, 'lambda_l1': 0.0017917827394915457, 'lambda_l2': 5.258219487669763e-05, 'min_child_samples': 34, 'max_depth': 9, 'max_bin': 494, 'min_data_in_leaf': 49, 'extra_trees': True, 'early_stopping_rounds': 27, 'path_smooth': 0.9812035852809249, 'min_gain_to_split': 0.47411998848815184}. Best is trial 11 with value: 3.2461153050439577.\n"
     ]
    },
    {
     "name": "stdout",
     "output_type": "stream",
     "text": [
      "Mejor trial hasta ahora: RMSE=3.246115, Parámetros={'num_leaves': 96, 'learning_rate': 0.1251653145864116, 'feature_fraction': 0.8834227868828812, 'bagging_fraction': 0.9812246562585575, 'bagging_freq': 10, 'lambda_l1': 0.0017917827394915457, 'lambda_l2': 5.258219487669763e-05, 'min_child_samples': 34, 'max_depth': 9, 'max_bin': 494, 'min_data_in_leaf': 49, 'extra_trees': True, 'early_stopping_rounds': 27, 'path_smooth': 0.9812035852809249, 'min_gain_to_split': 0.47411998848815184}\n"
     ]
    },
    {
     "name": "stderr",
     "output_type": "stream",
     "text": [
      "[I 2025-06-30 23:54:08,816] Trial 12 finished with value: 1.299332378968511 and parameters: {'num_leaves': 79, 'learning_rate': 0.11440654892094684, 'feature_fraction': 0.9053986232371537, 'bagging_fraction': 0.7988287677667018, 'bagging_freq': 8, 'lambda_l1': 0.003857574161640363, 'lambda_l2': 3.8925679417681855e-05, 'min_child_samples': 39, 'max_depth': 10, 'max_bin': 208, 'min_data_in_leaf': 58, 'extra_trees': True, 'early_stopping_rounds': 27, 'path_smooth': 0.9901597696400357, 'min_gain_to_split': 0.44819072914026564}. Best is trial 12 with value: 1.299332378968511.\n"
     ]
    },
    {
     "name": "stdout",
     "output_type": "stream",
     "text": [
      "Mejor trial hasta ahora: RMSE=1.299332, Parámetros={'num_leaves': 79, 'learning_rate': 0.11440654892094684, 'feature_fraction': 0.9053986232371537, 'bagging_fraction': 0.7988287677667018, 'bagging_freq': 8, 'lambda_l1': 0.003857574161640363, 'lambda_l2': 3.8925679417681855e-05, 'min_child_samples': 39, 'max_depth': 10, 'max_bin': 208, 'min_data_in_leaf': 58, 'extra_trees': True, 'early_stopping_rounds': 27, 'path_smooth': 0.9901597696400357, 'min_gain_to_split': 0.44819072914026564}\n"
     ]
    },
    {
     "name": "stderr",
     "output_type": "stream",
     "text": [
      "[I 2025-07-01 00:00:26,650] Trial 13 finished with value: 5.552548771971881 and parameters: {'num_leaves': 80, 'learning_rate': 0.12135983719521656, 'feature_fraction': 0.9178581456448356, 'bagging_fraction': 0.8121933117224753, 'bagging_freq': 8, 'lambda_l1': 0.0006418643074595679, 'lambda_l2': 0.0001582574379358235, 'min_child_samples': 39, 'max_depth': 8, 'max_bin': 492, 'min_data_in_leaf': 66, 'extra_trees': True, 'early_stopping_rounds': 27, 'path_smooth': 0.9559291326495888, 'min_gain_to_split': 0.4900967110055443}. Best is trial 12 with value: 1.299332378968511.\n"
     ]
    },
    {
     "name": "stdout",
     "output_type": "stream",
     "text": [
      "Mejor trial hasta ahora: RMSE=1.299332, Parámetros={'num_leaves': 79, 'learning_rate': 0.11440654892094684, 'feature_fraction': 0.9053986232371537, 'bagging_fraction': 0.7988287677667018, 'bagging_freq': 8, 'lambda_l1': 0.003857574161640363, 'lambda_l2': 3.8925679417681855e-05, 'min_child_samples': 39, 'max_depth': 10, 'max_bin': 208, 'min_data_in_leaf': 58, 'extra_trees': True, 'early_stopping_rounds': 27, 'path_smooth': 0.9901597696400357, 'min_gain_to_split': 0.44819072914026564}\n"
     ]
    },
    {
     "name": "stderr",
     "output_type": "stream",
     "text": [
      "[I 2025-07-01 00:05:45,890] Trial 14 finished with value: 1.0106892200633344 and parameters: {'num_leaves': 100, 'learning_rate': 0.11852639795705067, 'feature_fraction': 0.9325299021978121, 'bagging_fraction': 0.9913043905607574, 'bagging_freq': 10, 'lambda_l1': 0.10351163679178885, 'lambda_l2': 1.3129174195141697e-07, 'min_child_samples': 42, 'max_depth': 9, 'max_bin': 220, 'min_data_in_leaf': 78, 'extra_trees': True, 'early_stopping_rounds': 31, 'path_smooth': 0.9652325178791951, 'min_gain_to_split': 0.3734857029985921}. Best is trial 14 with value: 1.0106892200633344.\n"
     ]
    },
    {
     "name": "stdout",
     "output_type": "stream",
     "text": [
      "Mejor trial hasta ahora: RMSE=1.010689, Parámetros={'num_leaves': 100, 'learning_rate': 0.11852639795705067, 'feature_fraction': 0.9325299021978121, 'bagging_fraction': 0.9913043905607574, 'bagging_freq': 10, 'lambda_l1': 0.10351163679178885, 'lambda_l2': 1.3129174195141697e-07, 'min_child_samples': 42, 'max_depth': 9, 'max_bin': 220, 'min_data_in_leaf': 78, 'extra_trees': True, 'early_stopping_rounds': 31, 'path_smooth': 0.9652325178791951, 'min_gain_to_split': 0.3734857029985921}\n"
     ]
    },
    {
     "name": "stderr",
     "output_type": "stream",
     "text": [
      "[I 2025-07-01 00:10:23,148] Trial 15 finished with value: 2.10479020322729 and parameters: {'num_leaves': 79, 'learning_rate': 0.17109224279309102, 'feature_fraction': 0.9485257618766799, 'bagging_fraction': 0.8958654007917661, 'bagging_freq': 8, 'lambda_l1': 0.19311805214142994, 'lambda_l2': 3.421572849180321e-08, 'min_child_samples': 41, 'max_depth': 10, 'max_bin': 220, 'min_data_in_leaf': 84, 'extra_trees': True, 'early_stopping_rounds': 33, 'path_smooth': 0.6538839629254711, 'min_gain_to_split': 0.3721830905975507}. Best is trial 14 with value: 1.0106892200633344.\n"
     ]
    },
    {
     "name": "stdout",
     "output_type": "stream",
     "text": [
      "Mejor trial hasta ahora: RMSE=1.010689, Parámetros={'num_leaves': 100, 'learning_rate': 0.11852639795705067, 'feature_fraction': 0.9325299021978121, 'bagging_fraction': 0.9913043905607574, 'bagging_freq': 10, 'lambda_l1': 0.10351163679178885, 'lambda_l2': 1.3129174195141697e-07, 'min_child_samples': 42, 'max_depth': 9, 'max_bin': 220, 'min_data_in_leaf': 78, 'extra_trees': True, 'early_stopping_rounds': 31, 'path_smooth': 0.9652325178791951, 'min_gain_to_split': 0.3734857029985921}\n"
     ]
    },
    {
     "name": "stderr",
     "output_type": "stream",
     "text": [
      "[I 2025-07-01 00:14:12,152] Trial 16 finished with value: 11.944736460363904 and parameters: {'num_leaves': 83, 'learning_rate': 0.10054887949195469, 'feature_fraction': 0.8227026716857875, 'bagging_fraction': 0.822061595670232, 'bagging_freq': 9, 'lambda_l1': 0.057278386004176896, 'lambda_l2': 5.46078271227366e-07, 'min_child_samples': 50, 'max_depth': 5, 'max_bin': 144, 'min_data_in_leaf': 79, 'extra_trees': True, 'early_stopping_rounds': 41, 'path_smooth': 0.9864440343486612, 'min_gain_to_split': 0.3565405469003663}. Best is trial 14 with value: 1.0106892200633344.\n"
     ]
    },
    {
     "name": "stdout",
     "output_type": "stream",
     "text": [
      "Mejor trial hasta ahora: RMSE=1.010689, Parámetros={'num_leaves': 100, 'learning_rate': 0.11852639795705067, 'feature_fraction': 0.9325299021978121, 'bagging_fraction': 0.9913043905607574, 'bagging_freq': 10, 'lambda_l1': 0.10351163679178885, 'lambda_l2': 1.3129174195141697e-07, 'min_child_samples': 42, 'max_depth': 9, 'max_bin': 220, 'min_data_in_leaf': 78, 'extra_trees': True, 'early_stopping_rounds': 31, 'path_smooth': 0.9652325178791951, 'min_gain_to_split': 0.3734857029985921}\n"
     ]
    },
    {
     "name": "stderr",
     "output_type": "stream",
     "text": [
      "[I 2025-07-01 00:23:30,604] Trial 17 finished with value: 5.4934539018805255 and parameters: {'num_leaves': 99, 'learning_rate': 0.036622033681778327, 'feature_fraction': 0.9287211378997813, 'bagging_fraction': 0.8976369323205313, 'bagging_freq': 7, 'lambda_l1': 8.306630840098401e-05, 'lambda_l2': 5.54450238813181e-07, 'min_child_samples': 43, 'max_depth': 8, 'max_bin': 243, 'min_data_in_leaf': 96, 'extra_trees': True, 'early_stopping_rounds': 23, 'path_smooth': 0.7087397162307963, 'min_gain_to_split': 0.29370324178919}. Best is trial 14 with value: 1.0106892200633344.\n"
     ]
    },
    {
     "name": "stdout",
     "output_type": "stream",
     "text": [
      "Mejor trial hasta ahora: RMSE=1.010689, Parámetros={'num_leaves': 100, 'learning_rate': 0.11852639795705067, 'feature_fraction': 0.9325299021978121, 'bagging_fraction': 0.9913043905607574, 'bagging_freq': 10, 'lambda_l1': 0.10351163679178885, 'lambda_l2': 1.3129174195141697e-07, 'min_child_samples': 42, 'max_depth': 9, 'max_bin': 220, 'min_data_in_leaf': 78, 'extra_trees': True, 'early_stopping_rounds': 31, 'path_smooth': 0.9652325178791951, 'min_gain_to_split': 0.3734857029985921}\n"
     ]
    },
    {
     "name": "stderr",
     "output_type": "stream",
     "text": [
      "[I 2025-07-01 00:27:52,466] Trial 18 finished with value: 2.8313129467650398 and parameters: {'num_leaves': 70, 'learning_rate': 0.18707824638286116, 'feature_fraction': 0.8748882346435806, 'bagging_fraction': 0.7633081745592074, 'bagging_freq': 9, 'lambda_l1': 0.00011815497621861733, 'lambda_l2': 0.0010816765158133525, 'min_child_samples': 38, 'max_depth': 8, 'max_bin': 251, 'min_data_in_leaf': 61, 'extra_trees': True, 'early_stopping_rounds': 32, 'path_smooth': 0.9085597177400111, 'min_gain_to_split': 0.4207498089725614}. Best is trial 14 with value: 1.0106892200633344.\n"
     ]
    },
    {
     "name": "stdout",
     "output_type": "stream",
     "text": [
      "Mejor trial hasta ahora: RMSE=1.010689, Parámetros={'num_leaves': 100, 'learning_rate': 0.11852639795705067, 'feature_fraction': 0.9325299021978121, 'bagging_fraction': 0.9913043905607574, 'bagging_freq': 10, 'lambda_l1': 0.10351163679178885, 'lambda_l2': 1.3129174195141697e-07, 'min_child_samples': 42, 'max_depth': 9, 'max_bin': 220, 'min_data_in_leaf': 78, 'extra_trees': True, 'early_stopping_rounds': 31, 'path_smooth': 0.9652325178791951, 'min_gain_to_split': 0.3734857029985921}\n"
     ]
    },
    {
     "name": "stderr",
     "output_type": "stream",
     "text": [
      "[I 2025-07-01 00:35:01,375] Trial 19 finished with value: 1.7926265318393881 and parameters: {'num_leaves': 88, 'learning_rate': 0.08239946405325899, 'feature_fraction': 0.9592829493986843, 'bagging_fraction': 0.8560114029693604, 'bagging_freq': 5, 'lambda_l1': 0.29019950769397734, 'lambda_l2': 7.188763352094568e-07, 'min_child_samples': 49, 'max_depth': 9, 'max_bin': 345, 'min_data_in_leaf': 90, 'extra_trees': True, 'early_stopping_rounds': 39, 'path_smooth': 0.49148803447070455, 'min_gain_to_split': 0.3127213185315013}. Best is trial 14 with value: 1.0106892200633344.\n"
     ]
    },
    {
     "name": "stdout",
     "output_type": "stream",
     "text": [
      "Mejor trial hasta ahora: RMSE=1.010689, Parámetros={'num_leaves': 100, 'learning_rate': 0.11852639795705067, 'feature_fraction': 0.9325299021978121, 'bagging_fraction': 0.9913043905607574, 'bagging_freq': 10, 'lambda_l1': 0.10351163679178885, 'lambda_l2': 1.3129174195141697e-07, 'min_child_samples': 42, 'max_depth': 9, 'max_bin': 220, 'min_data_in_leaf': 78, 'extra_trees': True, 'early_stopping_rounds': 31, 'path_smooth': 0.9652325178791951, 'min_gain_to_split': 0.3734857029985921}\n"
     ]
    },
    {
     "name": "stderr",
     "output_type": "stream",
     "text": [
      "[I 2025-07-01 00:38:26,676] Trial 20 finished with value: 4.342914619026405 and parameters: {'num_leaves': 71, 'learning_rate': 0.27695181472908825, 'feature_fraction': 0.7987169132990556, 'bagging_fraction': 0.9921770866603778, 'bagging_freq': 10, 'lambda_l1': 5.646099525142642, 'lambda_l2': 1.2688802305139627e-08, 'min_child_samples': 43, 'max_depth': 6, 'max_bin': 131, 'min_data_in_leaf': 71, 'extra_trees': True, 'early_stopping_rounds': 50, 'path_smooth': 0.8744625619759305, 'min_gain_to_split': 0.4017824311708472}. Best is trial 14 with value: 1.0106892200633344.\n"
     ]
    },
    {
     "name": "stdout",
     "output_type": "stream",
     "text": [
      "Mejor trial hasta ahora: RMSE=1.010689, Parámetros={'num_leaves': 100, 'learning_rate': 0.11852639795705067, 'feature_fraction': 0.9325299021978121, 'bagging_fraction': 0.9913043905607574, 'bagging_freq': 10, 'lambda_l1': 0.10351163679178885, 'lambda_l2': 1.3129174195141697e-07, 'min_child_samples': 42, 'max_depth': 9, 'max_bin': 220, 'min_data_in_leaf': 78, 'extra_trees': True, 'early_stopping_rounds': 31, 'path_smooth': 0.9652325178791951, 'min_gain_to_split': 0.3734857029985921}\n"
     ]
    },
    {
     "name": "stderr",
     "output_type": "stream",
     "text": [
      "[I 2025-07-01 00:45:03,435] Trial 21 finished with value: 3.228538761393019 and parameters: {'num_leaves': 88, 'learning_rate': 0.0856778490792569, 'feature_fraction': 0.9615262820385787, 'bagging_fraction': 0.8498901197745152, 'bagging_freq': 5, 'lambda_l1': 0.27433635712274546, 'lambda_l2': 7.23766171586278e-07, 'min_child_samples': 50, 'max_depth': 9, 'max_bin': 333, 'min_data_in_leaf': 91, 'extra_trees': True, 'early_stopping_rounds': 38, 'path_smooth': 0.4715116714365277, 'min_gain_to_split': 0.30962118932291743}. Best is trial 14 with value: 1.0106892200633344.\n"
     ]
    },
    {
     "name": "stdout",
     "output_type": "stream",
     "text": [
      "Mejor trial hasta ahora: RMSE=1.010689, Parámetros={'num_leaves': 100, 'learning_rate': 0.11852639795705067, 'feature_fraction': 0.9325299021978121, 'bagging_fraction': 0.9913043905607574, 'bagging_freq': 10, 'lambda_l1': 0.10351163679178885, 'lambda_l2': 1.3129174195141697e-07, 'min_child_samples': 42, 'max_depth': 9, 'max_bin': 220, 'min_data_in_leaf': 78, 'extra_trees': True, 'early_stopping_rounds': 31, 'path_smooth': 0.9652325178791951, 'min_gain_to_split': 0.3734857029985921}\n"
     ]
    },
    {
     "name": "stderr",
     "output_type": "stream",
     "text": [
      "[I 2025-07-01 00:52:16,082] Trial 22 finished with value: 3.8326630542110074 and parameters: {'num_leaves': 99, 'learning_rate': 0.0799021879712553, 'feature_fraction': 0.9181046678091449, 'bagging_fraction': 0.8139292933591038, 'bagging_freq': 5, 'lambda_l1': 0.013665203725712225, 'lambda_l2': 1.5468616329274978e-07, 'min_child_samples': 47, 'max_depth': 10, 'max_bin': 345, 'min_data_in_leaf': 87, 'extra_trees': True, 'early_stopping_rounds': 37, 'path_smooth': 0.41655835255999285, 'min_gain_to_split': 0.33389971119681044}. Best is trial 14 with value: 1.0106892200633344.\n"
     ]
    },
    {
     "name": "stdout",
     "output_type": "stream",
     "text": [
      "Mejor trial hasta ahora: RMSE=1.010689, Parámetros={'num_leaves': 100, 'learning_rate': 0.11852639795705067, 'feature_fraction': 0.9325299021978121, 'bagging_fraction': 0.9913043905607574, 'bagging_freq': 10, 'lambda_l1': 0.10351163679178885, 'lambda_l2': 1.3129174195141697e-07, 'min_child_samples': 42, 'max_depth': 9, 'max_bin': 220, 'min_data_in_leaf': 78, 'extra_trees': True, 'early_stopping_rounds': 31, 'path_smooth': 0.9652325178791951, 'min_gain_to_split': 0.3734857029985921}\n"
     ]
    },
    {
     "name": "stderr",
     "output_type": "stream",
     "text": [
      "[I 2025-07-01 00:57:36,663] Trial 23 finished with value: 3.989614703967129 and parameters: {'num_leaves': 88, 'learning_rate': 0.11505759709059823, 'feature_fraction': 0.9620323392128296, 'bagging_fraction': 0.8615575260217088, 'bagging_freq': 7, 'lambda_l1': 0.6925493413868201, 'lambda_l2': 2.587577084494008e-06, 'min_child_samples': 40, 'max_depth': 8, 'max_bin': 262, 'min_data_in_leaf': 75, 'extra_trees': True, 'early_stopping_rounds': 30, 'path_smooth': 0.6308189452654209, 'min_gain_to_split': 0.4420082508084827}. Best is trial 14 with value: 1.0106892200633344.\n"
     ]
    },
    {
     "name": "stdout",
     "output_type": "stream",
     "text": [
      "Mejor trial hasta ahora: RMSE=1.010689, Parámetros={'num_leaves': 100, 'learning_rate': 0.11852639795705067, 'feature_fraction': 0.9325299021978121, 'bagging_fraction': 0.9913043905607574, 'bagging_freq': 10, 'lambda_l1': 0.10351163679178885, 'lambda_l2': 1.3129174195141697e-07, 'min_child_samples': 42, 'max_depth': 9, 'max_bin': 220, 'min_data_in_leaf': 78, 'extra_trees': True, 'early_stopping_rounds': 31, 'path_smooth': 0.9652325178791951, 'min_gain_to_split': 0.3734857029985921}\n"
     ]
    },
    {
     "name": "stderr",
     "output_type": "stream",
     "text": [
      "[I 2025-07-01 01:01:52,936] Trial 24 finished with value: 6.159770385483371 and parameters: {'num_leaves': 74, 'learning_rate': 0.14568924319434676, 'feature_fraction': 0.9896176725148149, 'bagging_fraction': 0.7858982672977801, 'bagging_freq': 6, 'lambda_l1': 0.05871381583986674, 'lambda_l2': 5.4662403953602196e-05, 'min_child_samples': 46, 'max_depth': 9, 'max_bin': 166, 'min_data_in_leaf': 58, 'extra_trees': True, 'early_stopping_rounds': 44, 'path_smooth': 0.5594887642857059, 'min_gain_to_split': 0.22747772415856038}. Best is trial 14 with value: 1.0106892200633344.\n"
     ]
    },
    {
     "name": "stdout",
     "output_type": "stream",
     "text": [
      "Mejor trial hasta ahora: RMSE=1.010689, Parámetros={'num_leaves': 100, 'learning_rate': 0.11852639795705067, 'feature_fraction': 0.9325299021978121, 'bagging_fraction': 0.9913043905607574, 'bagging_freq': 10, 'lambda_l1': 0.10351163679178885, 'lambda_l2': 1.3129174195141697e-07, 'min_child_samples': 42, 'max_depth': 9, 'max_bin': 220, 'min_data_in_leaf': 78, 'extra_trees': True, 'early_stopping_rounds': 31, 'path_smooth': 0.9652325178791951, 'min_gain_to_split': 0.3734857029985921}\n"
     ]
    },
    {
     "name": "stderr",
     "output_type": "stream",
     "text": [
      "[I 2025-07-01 01:05:55,584] Trial 25 finished with value: 1.5762878385446588 and parameters: {'num_leaves': 90, 'learning_rate': 0.20130980409705235, 'feature_fraction': 0.9016437302675341, 'bagging_fraction': 0.7460290598414079, 'bagging_freq': 8, 'lambda_l1': 0.0011025917499955906, 'lambda_l2': 1.3774897562296066e-07, 'min_child_samples': 36, 'max_depth': 10, 'max_bin': 215, 'min_data_in_leaf': 83, 'extra_trees': True, 'early_stopping_rounds': 25, 'path_smooth': 0.7226957415743933, 'min_gain_to_split': 0.38937888415620175}. Best is trial 14 with value: 1.0106892200633344.\n"
     ]
    },
    {
     "name": "stdout",
     "output_type": "stream",
     "text": [
      "Mejor trial hasta ahora: RMSE=1.010689, Parámetros={'num_leaves': 100, 'learning_rate': 0.11852639795705067, 'feature_fraction': 0.9325299021978121, 'bagging_fraction': 0.9913043905607574, 'bagging_freq': 10, 'lambda_l1': 0.10351163679178885, 'lambda_l2': 1.3129174195141697e-07, 'min_child_samples': 42, 'max_depth': 9, 'max_bin': 220, 'min_data_in_leaf': 78, 'extra_trees': True, 'early_stopping_rounds': 31, 'path_smooth': 0.9652325178791951, 'min_gain_to_split': 0.3734857029985921}\n",
      "Estudio guardado en: sqlite:///optuna_studies_v15.db\n",
      "\n",
      "Mejores hiperparámetros encontrados:\n",
      "num_leaves: 100\n",
      "learning_rate: 0.11852639795705067\n",
      "feature_fraction: 0.9325299021978121\n",
      "bagging_fraction: 0.9913043905607574\n",
      "bagging_freq: 10\n",
      "lambda_l1: 0.10351163679178885\n",
      "lambda_l2: 1.3129174195141697e-07\n",
      "min_child_samples: 42\n",
      "max_depth: 9\n",
      "max_bin: 220\n",
      "min_data_in_leaf: 78\n",
      "extra_trees: True\n",
      "early_stopping_rounds: 31\n",
      "path_smooth: 0.9652325178791951\n",
      "min_gain_to_split: 0.3734857029985921\n"
     ]
    },
    {
     "data": {
      "text/plain": [
       "(<optuna.study.study.Study at 0x21580c09510>,\n",
       " {'num_leaves': 100,\n",
       "  'learning_rate': 0.11852639795705067,\n",
       "  'feature_fraction': 0.9325299021978121,\n",
       "  'bagging_fraction': 0.9913043905607574,\n",
       "  'bagging_freq': 10,\n",
       "  'lambda_l1': 0.10351163679178885,\n",
       "  'lambda_l2': 1.3129174195141697e-07,\n",
       "  'min_child_samples': 42,\n",
       "  'max_depth': 9,\n",
       "  'max_bin': 220,\n",
       "  'min_data_in_leaf': 78,\n",
       "  'extra_trees': True,\n",
       "  'early_stopping_rounds': 31,\n",
       "  'path_smooth': 0.9652325178791951,\n",
       "  'min_gain_to_split': 0.3734857029985921,\n",
       "  'objective': 'regression',\n",
       "  'metric': 'rmse',\n",
       "  'boosting_type': 'gbdt',\n",
       "  'verbosity': -1})"
      ]
     },
     "execution_count": 16,
     "metadata": {},
     "output_type": "execute_result"
    }
   ],
   "source": [
    "model_lgb.optimizar_con_optuna_con_semillerio_db(train, version=\"v15\")"
   ]
  },
  {
   "cell_type": "markdown",
   "id": "99697cdb",
   "metadata": {},
   "source": [
    "Prediccion"
   ]
  },
  {
   "cell_type": "code",
   "execution_count": 18,
   "id": "2cff69ee",
   "metadata": {},
   "outputs": [],
   "source": [
    "df_future = model_lgb.semillerio_en_prediccion_con_pesos(train, test, version=\"v15\")"
   ]
  },
  {
   "cell_type": "code",
   "execution_count": 19,
   "id": "793edd1d",
   "metadata": {},
   "outputs": [
    {
     "data": {
      "application/vnd.microsoft.datawrangler.viewer.v0+json": {
       "columns": [
        {
         "name": "index",
         "rawType": "int64",
         "type": "integer"
        },
        {
         "name": "periodo",
         "rawType": "int64",
         "type": "integer"
        },
        {
         "name": "product_id",
         "rawType": "int64",
         "type": "integer"
        },
        {
         "name": "target",
         "rawType": "float64",
         "type": "float"
        },
        {
         "name": "pred",
         "rawType": "float64",
         "type": "float"
        }
       ],
       "ref": "f7b8b6c0-7b62-4359-b54f-8e0e259b6212",
       "rows": [
        [
         "30476",
         "201912",
         "20001",
         "0.0",
         "1312.0982065134071"
        ],
        [
         "30477",
         "201912",
         "20002",
         "0.0",
         "1016.4468870857645"
        ],
        [
         "30478",
         "201912",
         "20003",
         "0.0",
         "728.7428974057227"
        ],
        [
         "30479",
         "201912",
         "20004",
         "0.0",
         "717.1392155804695"
        ],
        [
         "30480",
         "201912",
         "20005",
         "0.0",
         "678.526220580569"
        ],
        [
         "30481",
         "201912",
         "20006",
         "0.0",
         "417.76696467794744"
        ],
        [
         "30482",
         "201912",
         "20007",
         "0.0",
         "362.9455295208826"
        ],
        [
         "30483",
         "201912",
         "20008",
         "0.0",
         "359.5191914013544"
        ],
        [
         "30484",
         "201912",
         "20009",
         "0.0",
         "573.9259997138731"
        ],
        [
         "30485",
         "201912",
         "20010",
         "0.0",
         "322.6900600703003"
        ],
        [
         "30486",
         "201912",
         "20011",
         "0.0",
         "339.0606878868116"
        ],
        [
         "30487",
         "201912",
         "20012",
         "0.0",
         "246.79247211350102"
        ],
        [
         "30488",
         "201912",
         "20013",
         "0.0",
         "356.4752828586336"
        ],
        [
         "30489",
         "201912",
         "20014",
         "0.0",
         "321.1494418638525"
        ],
        [
         "30490",
         "201912",
         "20015",
         "0.0",
         "292.1227795588396"
        ],
        [
         "30491",
         "201912",
         "20016",
         "0.0",
         "248.20945375657894"
        ],
        [
         "30492",
         "201912",
         "20017",
         "0.0",
         "257.21475034260516"
        ],
        [
         "30493",
         "201912",
         "20018",
         "0.0",
         "234.52279778137873"
        ],
        [
         "30494",
         "201912",
         "20019",
         "0.0",
         "223.40635711671135"
        ],
        [
         "30495",
         "201912",
         "20020",
         "0.0",
         "194.0904817548963"
        ],
        [
         "30496",
         "201912",
         "20021",
         "0.0",
         "178.84234497448318"
        ],
        [
         "30497",
         "201912",
         "20022",
         "0.0",
         "247.93719211331967"
        ],
        [
         "30498",
         "201912",
         "20023",
         "0.0",
         "166.53885395738936"
        ],
        [
         "30499",
         "201912",
         "20024",
         "0.0",
         "124.08590103242427"
        ],
        [
         "30500",
         "201912",
         "20025",
         "0.0",
         "170.23824384655524"
        ],
        [
         "30501",
         "201912",
         "20026",
         "0.0",
         "212.36639284977053"
        ],
        [
         "30502",
         "201912",
         "20027",
         "0.0",
         "200.9007396376324"
        ],
        [
         "30503",
         "201912",
         "20028",
         "0.0",
         "168.7453712910329"
        ],
        [
         "30504",
         "201912",
         "20029",
         "0.0",
         "168.84066273696897"
        ],
        [
         "30505",
         "201912",
         "20030",
         "0.0",
         "72.69985988928602"
        ],
        [
         "30506",
         "201912",
         "20031",
         "0.0",
         "155.48948961564037"
        ],
        [
         "30507",
         "201912",
         "20032",
         "0.0",
         "447.66720735367153"
        ],
        [
         "30508",
         "201912",
         "20033",
         "0.0",
         "101.2913091010766"
        ],
        [
         "30509",
         "201912",
         "20035",
         "0.0",
         "130.84394406281632"
        ],
        [
         "30510",
         "201912",
         "20037",
         "0.0",
         "106.81680053598438"
        ],
        [
         "30511",
         "201912",
         "20038",
         "0.0",
         "136.00779212497292"
        ],
        [
         "30512",
         "201912",
         "20039",
         "0.0",
         "137.9378197767912"
        ],
        [
         "30513",
         "201912",
         "20041",
         "0.0",
         "109.30434148766851"
        ],
        [
         "30514",
         "201912",
         "20042",
         "0.0",
         "145.2452557428904"
        ],
        [
         "30515",
         "201912",
         "20043",
         "0.0",
         "102.80419153905049"
        ],
        [
         "30516",
         "201912",
         "20044",
         "0.0",
         "136.00887767844392"
        ],
        [
         "30517",
         "201912",
         "20045",
         "0.0",
         "92.83835789344468"
        ],
        [
         "30518",
         "201912",
         "20046",
         "0.0",
         "110.83191909352558"
        ],
        [
         "30519",
         "201912",
         "20047",
         "0.0",
         "155.71488394104304"
        ],
        [
         "30520",
         "201912",
         "20048",
         "0.0",
         "120.14183918432107"
        ],
        [
         "30521",
         "201912",
         "20049",
         "0.0",
         "127.3534459173862"
        ],
        [
         "30522",
         "201912",
         "20050",
         "0.0",
         "96.70048500761015"
        ],
        [
         "30523",
         "201912",
         "20051",
         "0.0",
         "79.3160277340783"
        ],
        [
         "30524",
         "201912",
         "20052",
         "0.0",
         "74.63458492248256"
        ],
        [
         "30525",
         "201912",
         "20053",
         "0.0",
         "136.90578505030032"
        ]
       ],
       "shape": {
        "columns": 4,
        "rows": 886
       }
      },
      "text/html": [
       "<div>\n",
       "<style scoped>\n",
       "    .dataframe tbody tr th:only-of-type {\n",
       "        vertical-align: middle;\n",
       "    }\n",
       "\n",
       "    .dataframe tbody tr th {\n",
       "        vertical-align: top;\n",
       "    }\n",
       "\n",
       "    .dataframe thead th {\n",
       "        text-align: right;\n",
       "    }\n",
       "</style>\n",
       "<table border=\"1\" class=\"dataframe\">\n",
       "  <thead>\n",
       "    <tr style=\"text-align: right;\">\n",
       "      <th></th>\n",
       "      <th>periodo</th>\n",
       "      <th>product_id</th>\n",
       "      <th>target</th>\n",
       "      <th>pred</th>\n",
       "    </tr>\n",
       "  </thead>\n",
       "  <tbody>\n",
       "    <tr>\n",
       "      <th>30476</th>\n",
       "      <td>201912</td>\n",
       "      <td>20001</td>\n",
       "      <td>0.0</td>\n",
       "      <td>1312.098207</td>\n",
       "    </tr>\n",
       "    <tr>\n",
       "      <th>30477</th>\n",
       "      <td>201912</td>\n",
       "      <td>20002</td>\n",
       "      <td>0.0</td>\n",
       "      <td>1016.446887</td>\n",
       "    </tr>\n",
       "    <tr>\n",
       "      <th>30478</th>\n",
       "      <td>201912</td>\n",
       "      <td>20003</td>\n",
       "      <td>0.0</td>\n",
       "      <td>728.742897</td>\n",
       "    </tr>\n",
       "    <tr>\n",
       "      <th>30479</th>\n",
       "      <td>201912</td>\n",
       "      <td>20004</td>\n",
       "      <td>0.0</td>\n",
       "      <td>717.139216</td>\n",
       "    </tr>\n",
       "    <tr>\n",
       "      <th>30480</th>\n",
       "      <td>201912</td>\n",
       "      <td>20005</td>\n",
       "      <td>0.0</td>\n",
       "      <td>678.526221</td>\n",
       "    </tr>\n",
       "    <tr>\n",
       "      <th>...</th>\n",
       "      <td>...</td>\n",
       "      <td>...</td>\n",
       "      <td>...</td>\n",
       "      <td>...</td>\n",
       "    </tr>\n",
       "    <tr>\n",
       "      <th>31357</th>\n",
       "      <td>201912</td>\n",
       "      <td>21265</td>\n",
       "      <td>0.0</td>\n",
       "      <td>-1.218135</td>\n",
       "    </tr>\n",
       "    <tr>\n",
       "      <th>31358</th>\n",
       "      <td>201912</td>\n",
       "      <td>21266</td>\n",
       "      <td>0.0</td>\n",
       "      <td>-2.318349</td>\n",
       "    </tr>\n",
       "    <tr>\n",
       "      <th>31359</th>\n",
       "      <td>201912</td>\n",
       "      <td>21267</td>\n",
       "      <td>0.0</td>\n",
       "      <td>-2.595775</td>\n",
       "    </tr>\n",
       "    <tr>\n",
       "      <th>31360</th>\n",
       "      <td>201912</td>\n",
       "      <td>21271</td>\n",
       "      <td>0.0</td>\n",
       "      <td>1.564772</td>\n",
       "    </tr>\n",
       "    <tr>\n",
       "      <th>31361</th>\n",
       "      <td>201912</td>\n",
       "      <td>21276</td>\n",
       "      <td>0.0</td>\n",
       "      <td>1.121281</td>\n",
       "    </tr>\n",
       "  </tbody>\n",
       "</table>\n",
       "<p>886 rows × 4 columns</p>\n",
       "</div>"
      ],
      "text/plain": [
       "       periodo  product_id  target         pred\n",
       "30476   201912       20001     0.0  1312.098207\n",
       "30477   201912       20002     0.0  1016.446887\n",
       "30478   201912       20003     0.0   728.742897\n",
       "30479   201912       20004     0.0   717.139216\n",
       "30480   201912       20005     0.0   678.526221\n",
       "...        ...         ...     ...          ...\n",
       "31357   201912       21265     0.0    -1.218135\n",
       "31358   201912       21266     0.0    -2.318349\n",
       "31359   201912       21267     0.0    -2.595775\n",
       "31360   201912       21271     0.0     1.564772\n",
       "31361   201912       21276     0.0     1.121281\n",
       "\n",
       "[886 rows x 4 columns]"
      ]
     },
     "execution_count": 19,
     "metadata": {},
     "output_type": "execute_result"
    }
   ],
   "source": [
    "df_future"
   ]
  },
  {
   "cell_type": "markdown",
   "id": "593064b3",
   "metadata": {},
   "source": [
    "Filtramos los 180 productos"
   ]
  },
  {
   "cell_type": "code",
   "execution_count": 20,
   "id": "d0ab5e05",
   "metadata": {},
   "outputs": [],
   "source": [
    "productos_ok = pd.read_csv(\"https://storage.googleapis.com/open-courses/austral2025-af91/labo3v/product_id_apredecir201912.txt\", sep=\"\\t\")\n",
    "df_future = df_future[df_future['periodo'] == 201912]\n",
    "df_future = df_future[df_future['product_id'].isin(productos_ok['product_id'].unique())]\n"
   ]
  },
  {
   "cell_type": "code",
   "execution_count": 21,
   "id": "da03e91d",
   "metadata": {},
   "outputs": [
    {
     "data": {
      "application/vnd.microsoft.datawrangler.viewer.v0+json": {
       "columns": [
        {
         "name": "index",
         "rawType": "int64",
         "type": "integer"
        },
        {
         "name": "periodo",
         "rawType": "int64",
         "type": "integer"
        },
        {
         "name": "product_id",
         "rawType": "int64",
         "type": "integer"
        },
        {
         "name": "target",
         "rawType": "float64",
         "type": "float"
        },
        {
         "name": "pred",
         "rawType": "float64",
         "type": "float"
        }
       ],
       "ref": "7c41eda2-2688-407f-bbf0-68bdaf50bced",
       "rows": [
        [
         "30476",
         "201912",
         "20001",
         "0.0",
         "1312.0982065134071"
        ],
        [
         "30477",
         "201912",
         "20002",
         "0.0",
         "1016.4468870857645"
        ],
        [
         "30478",
         "201912",
         "20003",
         "0.0",
         "728.7428974057227"
        ],
        [
         "30479",
         "201912",
         "20004",
         "0.0",
         "717.1392155804695"
        ],
        [
         "30480",
         "201912",
         "20005",
         "0.0",
         "678.526220580569"
        ],
        [
         "30481",
         "201912",
         "20006",
         "0.0",
         "417.76696467794744"
        ],
        [
         "30482",
         "201912",
         "20007",
         "0.0",
         "362.9455295208826"
        ],
        [
         "30483",
         "201912",
         "20008",
         "0.0",
         "359.5191914013544"
        ],
        [
         "30484",
         "201912",
         "20009",
         "0.0",
         "573.9259997138731"
        ],
        [
         "30485",
         "201912",
         "20010",
         "0.0",
         "322.6900600703003"
        ],
        [
         "30486",
         "201912",
         "20011",
         "0.0",
         "339.0606878868116"
        ],
        [
         "30487",
         "201912",
         "20012",
         "0.0",
         "246.79247211350102"
        ],
        [
         "30488",
         "201912",
         "20013",
         "0.0",
         "356.4752828586336"
        ],
        [
         "30489",
         "201912",
         "20014",
         "0.0",
         "321.1494418638525"
        ],
        [
         "30490",
         "201912",
         "20015",
         "0.0",
         "292.1227795588396"
        ],
        [
         "30491",
         "201912",
         "20016",
         "0.0",
         "248.20945375657894"
        ],
        [
         "30492",
         "201912",
         "20017",
         "0.0",
         "257.21475034260516"
        ],
        [
         "30493",
         "201912",
         "20018",
         "0.0",
         "234.52279778137873"
        ],
        [
         "30494",
         "201912",
         "20019",
         "0.0",
         "223.40635711671135"
        ],
        [
         "30495",
         "201912",
         "20020",
         "0.0",
         "194.0904817548963"
        ],
        [
         "30496",
         "201912",
         "20021",
         "0.0",
         "178.84234497448318"
        ],
        [
         "30497",
         "201912",
         "20022",
         "0.0",
         "247.93719211331967"
        ],
        [
         "30498",
         "201912",
         "20023",
         "0.0",
         "166.53885395738936"
        ],
        [
         "30499",
         "201912",
         "20024",
         "0.0",
         "124.08590103242427"
        ],
        [
         "30500",
         "201912",
         "20025",
         "0.0",
         "170.23824384655524"
        ],
        [
         "30501",
         "201912",
         "20026",
         "0.0",
         "212.36639284977053"
        ],
        [
         "30502",
         "201912",
         "20027",
         "0.0",
         "200.9007396376324"
        ],
        [
         "30503",
         "201912",
         "20028",
         "0.0",
         "168.7453712910329"
        ],
        [
         "30504",
         "201912",
         "20029",
         "0.0",
         "168.84066273696897"
        ],
        [
         "30505",
         "201912",
         "20030",
         "0.0",
         "72.69985988928602"
        ],
        [
         "30506",
         "201912",
         "20031",
         "0.0",
         "155.48948961564037"
        ],
        [
         "30507",
         "201912",
         "20032",
         "0.0",
         "447.66720735367153"
        ],
        [
         "30508",
         "201912",
         "20033",
         "0.0",
         "101.2913091010766"
        ],
        [
         "30509",
         "201912",
         "20035",
         "0.0",
         "130.84394406281632"
        ],
        [
         "30510",
         "201912",
         "20037",
         "0.0",
         "106.81680053598438"
        ],
        [
         "30511",
         "201912",
         "20038",
         "0.0",
         "136.00779212497292"
        ],
        [
         "30512",
         "201912",
         "20039",
         "0.0",
         "137.9378197767912"
        ],
        [
         "30513",
         "201912",
         "20041",
         "0.0",
         "109.30434148766851"
        ],
        [
         "30514",
         "201912",
         "20042",
         "0.0",
         "145.2452557428904"
        ],
        [
         "30515",
         "201912",
         "20043",
         "0.0",
         "102.80419153905049"
        ],
        [
         "30516",
         "201912",
         "20044",
         "0.0",
         "136.00887767844392"
        ],
        [
         "30517",
         "201912",
         "20045",
         "0.0",
         "92.83835789344468"
        ],
        [
         "30518",
         "201912",
         "20046",
         "0.0",
         "110.83191909352558"
        ],
        [
         "30519",
         "201912",
         "20047",
         "0.0",
         "155.71488394104304"
        ],
        [
         "30521",
         "201912",
         "20049",
         "0.0",
         "127.3534459173862"
        ],
        [
         "30522",
         "201912",
         "20050",
         "0.0",
         "96.70048500761015"
        ],
        [
         "30523",
         "201912",
         "20051",
         "0.0",
         "79.3160277340783"
        ],
        [
         "30524",
         "201912",
         "20052",
         "0.0",
         "74.63458492248256"
        ],
        [
         "30525",
         "201912",
         "20053",
         "0.0",
         "136.90578505030032"
        ],
        [
         "30526",
         "201912",
         "20054",
         "0.0",
         "104.5305267940158"
        ]
       ],
       "shape": {
        "columns": 4,
        "rows": 780
       }
      },
      "text/html": [
       "<div>\n",
       "<style scoped>\n",
       "    .dataframe tbody tr th:only-of-type {\n",
       "        vertical-align: middle;\n",
       "    }\n",
       "\n",
       "    .dataframe tbody tr th {\n",
       "        vertical-align: top;\n",
       "    }\n",
       "\n",
       "    .dataframe thead th {\n",
       "        text-align: right;\n",
       "    }\n",
       "</style>\n",
       "<table border=\"1\" class=\"dataframe\">\n",
       "  <thead>\n",
       "    <tr style=\"text-align: right;\">\n",
       "      <th></th>\n",
       "      <th>periodo</th>\n",
       "      <th>product_id</th>\n",
       "      <th>target</th>\n",
       "      <th>pred</th>\n",
       "    </tr>\n",
       "  </thead>\n",
       "  <tbody>\n",
       "    <tr>\n",
       "      <th>30476</th>\n",
       "      <td>201912</td>\n",
       "      <td>20001</td>\n",
       "      <td>0.0</td>\n",
       "      <td>1312.098207</td>\n",
       "    </tr>\n",
       "    <tr>\n",
       "      <th>30477</th>\n",
       "      <td>201912</td>\n",
       "      <td>20002</td>\n",
       "      <td>0.0</td>\n",
       "      <td>1016.446887</td>\n",
       "    </tr>\n",
       "    <tr>\n",
       "      <th>30478</th>\n",
       "      <td>201912</td>\n",
       "      <td>20003</td>\n",
       "      <td>0.0</td>\n",
       "      <td>728.742897</td>\n",
       "    </tr>\n",
       "    <tr>\n",
       "      <th>30479</th>\n",
       "      <td>201912</td>\n",
       "      <td>20004</td>\n",
       "      <td>0.0</td>\n",
       "      <td>717.139216</td>\n",
       "    </tr>\n",
       "    <tr>\n",
       "      <th>30480</th>\n",
       "      <td>201912</td>\n",
       "      <td>20005</td>\n",
       "      <td>0.0</td>\n",
       "      <td>678.526221</td>\n",
       "    </tr>\n",
       "    <tr>\n",
       "      <th>...</th>\n",
       "      <td>...</td>\n",
       "      <td>...</td>\n",
       "      <td>...</td>\n",
       "      <td>...</td>\n",
       "    </tr>\n",
       "    <tr>\n",
       "      <th>31355</th>\n",
       "      <td>201912</td>\n",
       "      <td>21263</td>\n",
       "      <td>0.0</td>\n",
       "      <td>1.518800</td>\n",
       "    </tr>\n",
       "    <tr>\n",
       "      <th>31357</th>\n",
       "      <td>201912</td>\n",
       "      <td>21265</td>\n",
       "      <td>0.0</td>\n",
       "      <td>-1.218135</td>\n",
       "    </tr>\n",
       "    <tr>\n",
       "      <th>31358</th>\n",
       "      <td>201912</td>\n",
       "      <td>21266</td>\n",
       "      <td>0.0</td>\n",
       "      <td>-2.318349</td>\n",
       "    </tr>\n",
       "    <tr>\n",
       "      <th>31359</th>\n",
       "      <td>201912</td>\n",
       "      <td>21267</td>\n",
       "      <td>0.0</td>\n",
       "      <td>-2.595775</td>\n",
       "    </tr>\n",
       "    <tr>\n",
       "      <th>31361</th>\n",
       "      <td>201912</td>\n",
       "      <td>21276</td>\n",
       "      <td>0.0</td>\n",
       "      <td>1.121281</td>\n",
       "    </tr>\n",
       "  </tbody>\n",
       "</table>\n",
       "<p>780 rows × 4 columns</p>\n",
       "</div>"
      ],
      "text/plain": [
       "       periodo  product_id  target         pred\n",
       "30476   201912       20001     0.0  1312.098207\n",
       "30477   201912       20002     0.0  1016.446887\n",
       "30478   201912       20003     0.0   728.742897\n",
       "30479   201912       20004     0.0   717.139216\n",
       "30480   201912       20005     0.0   678.526221\n",
       "...        ...         ...     ...          ...\n",
       "31355   201912       21263     0.0     1.518800\n",
       "31357   201912       21265     0.0    -1.218135\n",
       "31358   201912       21266     0.0    -2.318349\n",
       "31359   201912       21267     0.0    -2.595775\n",
       "31361   201912       21276     0.0     1.121281\n",
       "\n",
       "[780 rows x 4 columns]"
      ]
     },
     "execution_count": 21,
     "metadata": {},
     "output_type": "execute_result"
    }
   ],
   "source": [
    "df_future"
   ]
  },
  {
   "cell_type": "markdown",
   "id": "1ab09e3f",
   "metadata": {},
   "source": [
    "Vemos cuantos negativos hay"
   ]
  },
  {
   "cell_type": "code",
   "execution_count": 22,
   "id": "780ad407",
   "metadata": {},
   "outputs": [
    {
     "data": {
      "application/vnd.microsoft.datawrangler.viewer.v0+json": {
       "columns": [
        {
         "name": "index",
         "rawType": "int64",
         "type": "integer"
        },
        {
         "name": "periodo",
         "rawType": "int64",
         "type": "integer"
        },
        {
         "name": "product_id",
         "rawType": "int64",
         "type": "integer"
        },
        {
         "name": "target",
         "rawType": "float64",
         "type": "float"
        },
        {
         "name": "pred",
         "rawType": "float64",
         "type": "float"
        }
       ],
       "ref": "60659363-86c8-42e0-a5c9-9a888cbfcab3",
       "rows": [
        [
         "30549",
         "201912",
         "20079",
         "0.0",
         "-5.693166009614016"
        ],
        [
         "30570",
         "201912",
         "20102",
         "0.0",
         "-17.69330609762869"
        ],
        [
         "30629",
         "201912",
         "20168",
         "0.0",
         "-1.6821075652875404"
        ],
        [
         "30643",
         "201912",
         "20183",
         "0.0",
         "-1.7106604011509798"
        ],
        [
         "30647",
         "201912",
         "20187",
         "0.0",
         "-1.2161757483539681"
        ],
        [
         "30668",
         "201912",
         "20211",
         "0.0",
         "-5.16234261484329"
        ],
        [
         "30672",
         "201912",
         "20216",
         "0.0",
         "-7.716122965220874"
        ],
        [
         "30677",
         "201912",
         "20222",
         "0.0",
         "-2.850792104540419"
        ],
        [
         "30679",
         "201912",
         "20225",
         "0.0",
         "-0.2516889019187854"
        ],
        [
         "30682",
         "201912",
         "20228",
         "0.0",
         "-5.648078089544175"
        ],
        [
         "30688",
         "201912",
         "20234",
         "0.0",
         "-0.6356493615405755"
        ],
        [
         "30695",
         "201912",
         "20241",
         "0.0",
         "-0.19126240811183842"
        ],
        [
         "30696",
         "201912",
         "20242",
         "0.0",
         "-4.9387403609300815"
        ],
        [
         "30701",
         "201912",
         "20251",
         "0.0",
         "-0.16936521430993032"
        ],
        [
         "30702",
         "201912",
         "20252",
         "0.0",
         "-1.4021519224777343"
        ],
        [
         "30723",
         "201912",
         "20276",
         "0.0",
         "-1.9392981704274697"
        ],
        [
         "30734",
         "201912",
         "20289",
         "0.0",
         "-1.4278429419095258"
        ],
        [
         "30744",
         "201912",
         "20301",
         "0.0",
         "-6.269411115373336"
        ],
        [
         "30745",
         "201912",
         "20302",
         "0.0",
         "-8.919478600915307"
        ],
        [
         "30747",
         "201912",
         "20304",
         "0.0",
         "-6.003054290961399"
        ],
        [
         "30752",
         "201912",
         "20309",
         "0.0",
         "-8.646736220491272"
        ],
        [
         "30764",
         "201912",
         "20322",
         "0.0",
         "-6.478809786654011"
        ],
        [
         "30767",
         "201912",
         "20325",
         "0.0",
         "-4.439941038041955"
        ],
        [
         "30780",
         "201912",
         "20341",
         "0.0",
         "-2.600584788897988"
        ],
        [
         "30788",
         "201912",
         "20350",
         "0.0",
         "-7.306629457654397"
        ],
        [
         "30791",
         "201912",
         "20353",
         "0.0",
         "-0.9353105695075412"
        ],
        [
         "30806",
         "201912",
         "20372",
         "0.0",
         "-0.733571590306678"
        ],
        [
         "30808",
         "201912",
         "20375",
         "0.0",
         "-3.1281199005076243"
        ],
        [
         "30812",
         "201912",
         "20379",
         "0.0",
         "-2.082422959709363"
        ],
        [
         "30816",
         "201912",
         "20383",
         "0.0",
         "-1.0230795206047507"
        ],
        [
         "30817",
         "201912",
         "20384",
         "0.0",
         "-0.7185462477500668"
        ],
        [
         "30826",
         "201912",
         "20396",
         "0.0",
         "-8.136780016136992"
        ],
        [
         "30827",
         "201912",
         "20398",
         "0.0",
         "-3.9523195616644755"
        ],
        [
         "30835",
         "201912",
         "20407",
         "0.0",
         "-1.2642897032047926"
        ],
        [
         "30837",
         "201912",
         "20409",
         "0.0",
         "-4.830812491878176"
        ],
        [
         "30843",
         "201912",
         "20415",
         "0.0",
         "-9.197936039390921"
        ],
        [
         "30844",
         "201912",
         "20416",
         "0.0",
         "-6.457969803001111"
        ],
        [
         "30846",
         "201912",
         "20418",
         "0.0",
         "-0.7929400856091642"
        ],
        [
         "30849",
         "201912",
         "20422",
         "0.0",
         "-9.25068172403767"
        ],
        [
         "30853",
         "201912",
         "20429",
         "0.0",
         "-1.0713104559679987"
        ],
        [
         "30854",
         "201912",
         "20432",
         "0.0",
         "-3.1707070995305817"
        ],
        [
         "30861",
         "201912",
         "20443",
         "0.0",
         "-3.852341207062004"
        ],
        [
         "30863",
         "201912",
         "20449",
         "0.0",
         "-4.592285536135142"
        ],
        [
         "30867",
         "201912",
         "20456",
         "0.0",
         "-1.9981959651361643"
        ],
        [
         "30872",
         "201912",
         "20464",
         "0.0",
         "-6.349704191264386"
        ],
        [
         "30873",
         "201912",
         "20465",
         "0.0",
         "-0.3176090549025131"
        ],
        [
         "30882",
         "201912",
         "20477",
         "0.0",
         "-1.0905620246015597"
        ],
        [
         "30883",
         "201912",
         "20478",
         "0.0",
         "-2.508844247992151"
        ],
        [
         "30885",
         "201912",
         "20480",
         "0.0",
         "-0.5687816710529088"
        ],
        [
         "30887",
         "201912",
         "20482",
         "0.0",
         "-0.10931862621021393"
        ]
       ],
       "shape": {
        "columns": 4,
        "rows": 257
       }
      },
      "text/html": [
       "<div>\n",
       "<style scoped>\n",
       "    .dataframe tbody tr th:only-of-type {\n",
       "        vertical-align: middle;\n",
       "    }\n",
       "\n",
       "    .dataframe tbody tr th {\n",
       "        vertical-align: top;\n",
       "    }\n",
       "\n",
       "    .dataframe thead th {\n",
       "        text-align: right;\n",
       "    }\n",
       "</style>\n",
       "<table border=\"1\" class=\"dataframe\">\n",
       "  <thead>\n",
       "    <tr style=\"text-align: right;\">\n",
       "      <th></th>\n",
       "      <th>periodo</th>\n",
       "      <th>product_id</th>\n",
       "      <th>target</th>\n",
       "      <th>pred</th>\n",
       "    </tr>\n",
       "  </thead>\n",
       "  <tbody>\n",
       "    <tr>\n",
       "      <th>30549</th>\n",
       "      <td>201912</td>\n",
       "      <td>20079</td>\n",
       "      <td>0.0</td>\n",
       "      <td>-5.693166</td>\n",
       "    </tr>\n",
       "    <tr>\n",
       "      <th>30570</th>\n",
       "      <td>201912</td>\n",
       "      <td>20102</td>\n",
       "      <td>0.0</td>\n",
       "      <td>-17.693306</td>\n",
       "    </tr>\n",
       "    <tr>\n",
       "      <th>30629</th>\n",
       "      <td>201912</td>\n",
       "      <td>20168</td>\n",
       "      <td>0.0</td>\n",
       "      <td>-1.682108</td>\n",
       "    </tr>\n",
       "    <tr>\n",
       "      <th>30643</th>\n",
       "      <td>201912</td>\n",
       "      <td>20183</td>\n",
       "      <td>0.0</td>\n",
       "      <td>-1.710660</td>\n",
       "    </tr>\n",
       "    <tr>\n",
       "      <th>30647</th>\n",
       "      <td>201912</td>\n",
       "      <td>20187</td>\n",
       "      <td>0.0</td>\n",
       "      <td>-1.216176</td>\n",
       "    </tr>\n",
       "    <tr>\n",
       "      <th>...</th>\n",
       "      <td>...</td>\n",
       "      <td>...</td>\n",
       "      <td>...</td>\n",
       "      <td>...</td>\n",
       "    </tr>\n",
       "    <tr>\n",
       "      <th>31344</th>\n",
       "      <td>201912</td>\n",
       "      <td>21233</td>\n",
       "      <td>0.0</td>\n",
       "      <td>-1.073537</td>\n",
       "    </tr>\n",
       "    <tr>\n",
       "      <th>31354</th>\n",
       "      <td>201912</td>\n",
       "      <td>21262</td>\n",
       "      <td>0.0</td>\n",
       "      <td>-0.944677</td>\n",
       "    </tr>\n",
       "    <tr>\n",
       "      <th>31357</th>\n",
       "      <td>201912</td>\n",
       "      <td>21265</td>\n",
       "      <td>0.0</td>\n",
       "      <td>-1.218135</td>\n",
       "    </tr>\n",
       "    <tr>\n",
       "      <th>31358</th>\n",
       "      <td>201912</td>\n",
       "      <td>21266</td>\n",
       "      <td>0.0</td>\n",
       "      <td>-2.318349</td>\n",
       "    </tr>\n",
       "    <tr>\n",
       "      <th>31359</th>\n",
       "      <td>201912</td>\n",
       "      <td>21267</td>\n",
       "      <td>0.0</td>\n",
       "      <td>-2.595775</td>\n",
       "    </tr>\n",
       "  </tbody>\n",
       "</table>\n",
       "<p>257 rows × 4 columns</p>\n",
       "</div>"
      ],
      "text/plain": [
       "       periodo  product_id  target       pred\n",
       "30549   201912       20079     0.0  -5.693166\n",
       "30570   201912       20102     0.0 -17.693306\n",
       "30629   201912       20168     0.0  -1.682108\n",
       "30643   201912       20183     0.0  -1.710660\n",
       "30647   201912       20187     0.0  -1.216176\n",
       "...        ...         ...     ...        ...\n",
       "31344   201912       21233     0.0  -1.073537\n",
       "31354   201912       21262     0.0  -0.944677\n",
       "31357   201912       21265     0.0  -1.218135\n",
       "31358   201912       21266     0.0  -2.318349\n",
       "31359   201912       21267     0.0  -2.595775\n",
       "\n",
       "[257 rows x 4 columns]"
      ]
     },
     "execution_count": 22,
     "metadata": {},
     "output_type": "execute_result"
    }
   ],
   "source": [
    "df_future[df_future['pred'] < 0]"
   ]
  },
  {
   "cell_type": "markdown",
   "id": "066372ef",
   "metadata": {},
   "source": [
    "Reemplazamos los negativos por el promedio de ultimos 12 meses"
   ]
  },
  {
   "cell_type": "code",
   "execution_count": 24,
   "id": "8c6b9870",
   "metadata": {},
   "outputs": [
    {
     "data": {
      "application/vnd.microsoft.datawrangler.viewer.v0+json": {
       "columns": [
        {
         "name": "index",
         "rawType": "int64",
         "type": "integer"
        },
        {
         "name": "product_id",
         "rawType": "int64",
         "type": "integer"
        },
        {
         "name": "pred",
         "rawType": "float64",
         "type": "float"
        },
        {
         "name": "tn",
         "rawType": "float64",
         "type": "float"
        }
       ],
       "ref": "914bb693-d50d-4fd3-b6f4-a64dfd5dc439",
       "rows": [
        [
         "0",
         "20001",
         "1312.0982065134071",
         "1454.73272"
        ],
        [
         "1",
         "20002",
         "1016.4468870857645",
         "1175.4371416666665"
        ],
        [
         "2",
         "20003",
         "728.7428974057227",
         "784.9764074999999"
        ],
        [
         "3",
         "20004",
         "717.1392155804695",
         "627.2153283333333"
        ],
        [
         "4",
         "20005",
         "678.526220580569",
         "668.2701041666667"
        ],
        [
         "5",
         "20006",
         "417.76696467794744",
         "478.6137083333333"
        ],
        [
         "6",
         "20007",
         "362.9455295208826",
         "434.1378058333333"
        ],
        [
         "7",
         "20008",
         "359.5191914013544",
         "422.0481833333333"
        ],
        [
         "8",
         "20009",
         "573.9259997138731",
         "541.3225866666667"
        ],
        [
         "9",
         "20010",
         "322.6900600703003",
         "429.5746608333333"
        ],
        [
         "10",
         "20011",
         "339.0606878868116",
         "377.63544"
        ],
        [
         "11",
         "20012",
         "246.79247211350102",
         "332.228885"
        ],
        [
         "12",
         "20013",
         "356.4752828586336",
         "416.06292"
        ],
        [
         "13",
         "20014",
         "321.1494418638525",
         "414.70520000000005"
        ],
        [
         "14",
         "20015",
         "292.1227795588396",
         "369.02365166666664"
        ],
        [
         "15",
         "20016",
         "248.20945375657894",
         "288.51459"
        ],
        [
         "16",
         "20017",
         "257.21475034260516",
         "287.38575166666664"
        ],
        [
         "17",
         "20018",
         "234.52279778137873",
         "275.44511083333333"
        ],
        [
         "18",
         "20019",
         "223.40635711671135",
         "306.52162749999997"
        ],
        [
         "19",
         "20020",
         "194.0904817548963",
         "280.10235416666666"
        ],
        [
         "20",
         "20021",
         "178.84234497448318",
         "259.495665"
        ],
        [
         "21",
         "20022",
         "247.93719211331967",
         "279.20400333333333"
        ],
        [
         "22",
         "20023",
         "166.53885395738936",
         "266.90118"
        ],
        [
         "23",
         "20024",
         "124.08590103242427",
         "222.11553"
        ],
        [
         "24",
         "20025",
         "170.23824384655524",
         "222.86218499999998"
        ],
        [
         "25",
         "20026",
         "212.36639284977053",
         "237.10623833333332"
        ],
        [
         "26",
         "20027",
         "200.9007396376324",
         "230.0149175"
        ],
        [
         "27",
         "20028",
         "168.7453712910329",
         "213.228015"
        ],
        [
         "28",
         "20029",
         "168.84066273696897",
         "185.16274833333333"
        ],
        [
         "29",
         "20030",
         "72.69985988928602",
         "127.85045000000001"
        ],
        [
         "30",
         "20031",
         "155.48948961564037",
         "185.90788666666666"
        ],
        [
         "31",
         "20032",
         "447.66720735367153",
         "590.33366"
        ],
        [
         "32",
         "20033",
         "101.2913091010766",
         "176.0324475"
        ],
        [
         "33",
         "20035",
         "130.84394406281632",
         "172.19100333333333"
        ],
        [
         "34",
         "20037",
         "106.81680053598438",
         "179.65005833333336"
        ],
        [
         "35",
         "20038",
         "136.00779212497292",
         "175.941565"
        ],
        [
         "36",
         "20039",
         "137.9378197767912",
         "144.37351750000002"
        ],
        [
         "37",
         "20041",
         "109.30434148766851",
         "144.23799083333333"
        ],
        [
         "38",
         "20042",
         "145.2452557428904",
         "174.63574083333333"
        ],
        [
         "39",
         "20043",
         "102.80419153905049",
         "137.17993833333333"
        ],
        [
         "40",
         "20044",
         "136.00887767844392",
         "169.413755"
        ],
        [
         "41",
         "20045",
         "92.83835789344468",
         "154.42506916666667"
        ],
        [
         "42",
         "20046",
         "110.83191909352558",
         "155.99976583333333"
        ],
        [
         "43",
         "20047",
         "155.71488394104304",
         "165.353965"
        ],
        [
         "44",
         "20049",
         "127.3534459173862",
         "203.98650999999998"
        ],
        [
         "45",
         "20050",
         "96.70048500761015",
         "131.337005"
        ],
        [
         "46",
         "20051",
         "79.3160277340783",
         "150.87717916666668"
        ],
        [
         "47",
         "20052",
         "74.63458492248256",
         "119.09683416666667"
        ],
        [
         "48",
         "20053",
         "136.90578505030032",
         "146.06558583333333"
        ],
        [
         "49",
         "20054",
         "104.5305267940158",
         "137.87184249999999"
        ]
       ],
       "shape": {
        "columns": 3,
        "rows": 780
       }
      },
      "text/html": [
       "<div>\n",
       "<style scoped>\n",
       "    .dataframe tbody tr th:only-of-type {\n",
       "        vertical-align: middle;\n",
       "    }\n",
       "\n",
       "    .dataframe tbody tr th {\n",
       "        vertical-align: top;\n",
       "    }\n",
       "\n",
       "    .dataframe thead th {\n",
       "        text-align: right;\n",
       "    }\n",
       "</style>\n",
       "<table border=\"1\" class=\"dataframe\">\n",
       "  <thead>\n",
       "    <tr style=\"text-align: right;\">\n",
       "      <th></th>\n",
       "      <th>product_id</th>\n",
       "      <th>pred</th>\n",
       "      <th>tn</th>\n",
       "    </tr>\n",
       "  </thead>\n",
       "  <tbody>\n",
       "    <tr>\n",
       "      <th>0</th>\n",
       "      <td>20001</td>\n",
       "      <td>1312.098207</td>\n",
       "      <td>1454.732720</td>\n",
       "    </tr>\n",
       "    <tr>\n",
       "      <th>1</th>\n",
       "      <td>20002</td>\n",
       "      <td>1016.446887</td>\n",
       "      <td>1175.437142</td>\n",
       "    </tr>\n",
       "    <tr>\n",
       "      <th>2</th>\n",
       "      <td>20003</td>\n",
       "      <td>728.742897</td>\n",
       "      <td>784.976407</td>\n",
       "    </tr>\n",
       "    <tr>\n",
       "      <th>3</th>\n",
       "      <td>20004</td>\n",
       "      <td>717.139216</td>\n",
       "      <td>627.215328</td>\n",
       "    </tr>\n",
       "    <tr>\n",
       "      <th>4</th>\n",
       "      <td>20005</td>\n",
       "      <td>678.526221</td>\n",
       "      <td>668.270104</td>\n",
       "    </tr>\n",
       "    <tr>\n",
       "      <th>...</th>\n",
       "      <td>...</td>\n",
       "      <td>...</td>\n",
       "      <td>...</td>\n",
       "    </tr>\n",
       "    <tr>\n",
       "      <th>775</th>\n",
       "      <td>21263</td>\n",
       "      <td>1.518800</td>\n",
       "      <td>0.029993</td>\n",
       "    </tr>\n",
       "    <tr>\n",
       "      <th>776</th>\n",
       "      <td>21265</td>\n",
       "      <td>0.089541</td>\n",
       "      <td>0.089541</td>\n",
       "    </tr>\n",
       "    <tr>\n",
       "      <th>777</th>\n",
       "      <td>21266</td>\n",
       "      <td>0.094659</td>\n",
       "      <td>0.094659</td>\n",
       "    </tr>\n",
       "    <tr>\n",
       "      <th>778</th>\n",
       "      <td>21267</td>\n",
       "      <td>0.092835</td>\n",
       "      <td>0.092835</td>\n",
       "    </tr>\n",
       "    <tr>\n",
       "      <th>779</th>\n",
       "      <td>21276</td>\n",
       "      <td>1.121281</td>\n",
       "      <td>0.045447</td>\n",
       "    </tr>\n",
       "  </tbody>\n",
       "</table>\n",
       "<p>780 rows × 3 columns</p>\n",
       "</div>"
      ],
      "text/plain": [
       "     product_id         pred           tn\n",
       "0         20001  1312.098207  1454.732720\n",
       "1         20002  1016.446887  1175.437142\n",
       "2         20003   728.742897   784.976407\n",
       "3         20004   717.139216   627.215328\n",
       "4         20005   678.526221   668.270104\n",
       "..          ...          ...          ...\n",
       "775       21263     1.518800     0.029993\n",
       "776       21265     0.089541     0.089541\n",
       "777       21266     0.094659     0.094659\n",
       "778       21267     0.092835     0.092835\n",
       "779       21276     1.121281     0.045447\n",
       "\n",
       "[780 rows x 3 columns]"
      ]
     },
     "execution_count": 24,
     "metadata": {},
     "output_type": "execute_result"
    }
   ],
   "source": [
    "promedio780 = model_lgb.promedio_12_meses_780p()\n",
    "df_future = df_future.merge(promedio780, on='product_id', how='left')\n",
    "df_future.drop(columns=['target','periodo'], inplace=True)\n",
    "df_future.loc[df_future['pred'] < 0, 'pred'] = df_future['tn']\n",
    "df_future\n",
    "\n"
   ]
  },
  {
   "cell_type": "markdown",
   "id": "dda8de6a",
   "metadata": {},
   "source": [
    "Guardamos el archivo"
   ]
  },
  {
   "cell_type": "code",
   "execution_count": 25,
   "id": "d2cddb61",
   "metadata": {},
   "outputs": [],
   "source": [
    "df_future.drop(columns=['tn'], inplace=True)\n",
    "df_future.rename(columns={'pred': 'tn'}, inplace=True)\n",
    "df_future.to_csv(\"./outputs/predicciones_exp_07_lgb_v2.csv\", index=False, sep=',')"
   ]
  }
 ],
 "metadata": {
  "kernelspec": {
   "display_name": "py311lab3",
   "language": "python",
   "name": "python3"
  },
  "language_info": {
   "codemirror_mode": {
    "name": "ipython",
    "version": 3
   },
   "file_extension": ".py",
   "mimetype": "text/x-python",
   "name": "python",
   "nbconvert_exporter": "python",
   "pygments_lexer": "ipython3",
   "version": "3.11.13"
  }
 },
 "nbformat": 4,
 "nbformat_minor": 5
}
