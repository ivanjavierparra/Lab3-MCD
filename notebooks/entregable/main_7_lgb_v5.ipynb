{
 "cells": [
  {
   "cell_type": "code",
   "execution_count": 17,
   "id": "dbae8eac",
   "metadata": {},
   "outputs": [],
   "source": [
    "import pandas as pd\n",
    "import numpy as np\n",
    "import importlib\n",
    "import gc\n",
    "import sys\n",
    "import warnings\n",
    "sys.path.append('./scripts')  \n",
    "import preprocesamiento\n",
    "import feature_engineering\n",
    "import model_lgb\n",
    "importlib.reload(preprocesamiento)\n",
    "importlib.reload(model_lgb)\n",
    "importlib.reload(feature_engineering)\n",
    "warnings.filterwarnings(\"ignore\")"
   ]
  },
  {
   "cell_type": "markdown",
   "id": "14763c97",
   "metadata": {},
   "source": [
    "# Experimento 7: \n",
    "- LGBM\n",
    "- Usando funcion entrenamiento: semillerio_en_prediccion\n",
    "- Aumento cantidad de variables\n",
    "- cambio pesos de logaritmo a y_max\n",
    "- sqlite:///optuna_studies_v16.db\n",
    "- Kaggle =  \n"
   ]
  },
  {
   "cell_type": "markdown",
   "id": "3e128128",
   "metadata": {},
   "source": [
    "##### Levantamos el dataset con target ya calculado"
   ]
  },
  {
   "cell_type": "code",
   "execution_count": 2,
   "id": "23d157af",
   "metadata": {},
   "outputs": [
    {
     "data": {
      "text/plain": [
       "(31362, 19)"
      ]
     },
     "execution_count": 2,
     "metadata": {},
     "output_type": "execute_result"
    }
   ],
   "source": [
    "df = pd.read_csv(\"./datasets/periodo_x_producto_con_target.csv\", sep=',', encoding='utf-8')\n",
    "df.shape"
   ]
  },
  {
   "cell_type": "code",
   "execution_count": 3,
   "id": "dd58191b",
   "metadata": {},
   "outputs": [
    {
     "data": {
      "text/plain": [
       "['product_id',\n",
       " 'periodo',\n",
       " 'nacimiento_producto',\n",
       " 'muerte_producto',\n",
       " 'mes_n',\n",
       " 'total_meses',\n",
       " 'producto_nuevo',\n",
       " 'ciclo_de_vida_inicial',\n",
       " 'cat1',\n",
       " 'cat2',\n",
       " 'cat3',\n",
       " 'brand',\n",
       " 'sku_size',\n",
       " 'stock_final',\n",
       " 'tn',\n",
       " 'plan_precios_cuidados',\n",
       " 'cust_request_qty',\n",
       " 'cust_request_tn',\n",
       " 'target']"
      ]
     },
     "execution_count": 3,
     "metadata": {},
     "output_type": "execute_result"
    }
   ],
   "source": [
    "columnas_baseline = df.columns.tolist()\n",
    "columnas_baseline"
   ]
  },
  {
   "cell_type": "markdown",
   "id": "b6556d30",
   "metadata": {},
   "source": [
    "##### Preprocesamiento a la minima expresión :)"
   ]
  },
  {
   "cell_type": "code",
   "execution_count": 50,
   "id": "9665b526",
   "metadata": {},
   "outputs": [],
   "source": [
    "# ##### aplicamos OHE\n",
    "# df = preprocesamiento.aplicarOHE(df)\n",
    "# df.shape"
   ]
  },
  {
   "cell_type": "markdown",
   "id": "902b1e13",
   "metadata": {},
   "source": [
    "### Feature Engineering"
   ]
  },
  {
   "cell_type": "markdown",
   "id": "2bd77df9",
   "metadata": {},
   "source": [
    "##### Neural Prophet"
   ]
  },
  {
   "cell_type": "code",
   "execution_count": 4,
   "id": "34d306ff",
   "metadata": {},
   "outputs": [
    {
     "data": {
      "text/plain": [
       "(31362, 22)"
      ]
     },
     "execution_count": 4,
     "metadata": {},
     "output_type": "execute_result"
    }
   ],
   "source": [
    "neural_prophet_fe = pd.read_csv(\"./datasets/features_neuralprophet_completo.csv\", sep=',', encoding='utf-8')\n",
    "neural_prophet_fe['ds'] = pd.to_datetime(neural_prophet_fe['ds'], errors='coerce')\n",
    "# Versión alternativa más robusta:\n",
    "neural_prophet_fe['periodo'] = neural_prophet_fe['ds'].apply(\n",
    "    lambda x: x.year * 100 + x.month if pd.notnull(x) else None\n",
    ")\n",
    "neural_prophet_fe = neural_prophet_fe[['periodo', 'product_id', 'trend', \"season_yearly\", \"season_monthly\"]]\n",
    "df = df.merge(neural_prophet_fe, on=['periodo', 'product_id'], how='left')\n",
    "df.shape"
   ]
  },
  {
   "cell_type": "markdown",
   "id": "ff026986",
   "metadata": {},
   "source": [
    "##### Prophet"
   ]
  },
  {
   "cell_type": "code",
   "execution_count": 5,
   "id": "4318910f",
   "metadata": {},
   "outputs": [
    {
     "data": {
      "text/plain": [
       "(31362, 28)"
      ]
     },
     "execution_count": 5,
     "metadata": {},
     "output_type": "execute_result"
    }
   ],
   "source": [
    "prophet_fe = pd.read_csv(\"./datasets/prophet_features_tn_zscore.csv\", sep=',', encoding='utf-8')\n",
    "prophet_fe['ds'] = pd.to_datetime(prophet_fe['ds'], errors='coerce')\n",
    "prophet_fe['periodo'] = prophet_fe['ds'].apply(\n",
    "    lambda x: x.year * 100 + x.month if pd.notnull(x) else None\n",
    ")\n",
    "prophet_fe = prophet_fe[['periodo', 'product_id', 'trend_add', \"yearly_add\", \"additive_terms\", 'trend_mult', 'yearly_mult', 'multiplicative_terms']]\n",
    "df = df.merge(prophet_fe, on=['periodo', 'product_id'], how='left')\n",
    "df.shape"
   ]
  },
  {
   "cell_type": "markdown",
   "id": "2eb4d3aa",
   "metadata": {},
   "source": [
    "##### FE Moviles"
   ]
  },
  {
   "cell_type": "code",
   "execution_count": 6,
   "id": "7dc30b4c",
   "metadata": {},
   "outputs": [
    {
     "data": {
      "text/plain": [
       "(31362, 590)"
      ]
     },
     "execution_count": 6,
     "metadata": {},
     "output_type": "execute_result"
    }
   ],
   "source": [
    "df = feature_engineering.get_lags(df, \"tn\", 201912)\n",
    "df = feature_engineering.get_delta_lags(df, \"tn\", 24)\n",
    "df = feature_engineering.get_rolling_means(df, \"tn\", 201912)\n",
    "df = feature_engineering.get_rolling_stds(df, \"tn\", 201912)\n",
    "df = feature_engineering.get_rolling_mins(df, \"tn\", 201912)\n",
    "df = feature_engineering.get_rolling_maxs(df, \"tn\", 201912)\n",
    "df = feature_engineering.get_rolling_medians(df, \"tn\", 201912)\n",
    "df = feature_engineering.get_rolling_skewness(df, \"tn\", 201912)\n",
    "df = feature_engineering.get_autocorrelaciones(df, \"tn\", 201912)\n",
    "df.shape"
   ]
  },
  {
   "cell_type": "code",
   "execution_count": 7,
   "id": "e0500070",
   "metadata": {},
   "outputs": [],
   "source": [
    "df = feature_engineering.get_lags(df, \"cust_request_qty\", 201912)\n",
    "df = feature_engineering.get_delta_lags(df, \"cust_request_qty\", 24)\n",
    "df = feature_engineering.get_rolling_means(df, \"cust_request_qty\", 201912)\n",
    "df = feature_engineering.get_rolling_stds(df, \"cust_request_qty\", 201912)\n",
    "df = feature_engineering.get_rolling_mins(df, \"cust_request_qty\", 201912)\n",
    "df = feature_engineering.get_rolling_maxs(df, \"cust_request_qty\", 201912)"
   ]
  },
  {
   "cell_type": "code",
   "execution_count": 8,
   "id": "195bd5b9",
   "metadata": {},
   "outputs": [
    {
     "data": {
      "text/plain": [
       "(31362, 1500)"
      ]
     },
     "execution_count": 8,
     "metadata": {},
     "output_type": "execute_result"
    }
   ],
   "source": [
    "df = feature_engineering.get_lags(df, \"stock_final\", 201912)\n",
    "df = feature_engineering.get_delta_lags(df, \"stock_final\", 24)\n",
    "df = feature_engineering.get_rolling_means(df, \"stock_final\", 201912)\n",
    "df = feature_engineering.get_rolling_stds(df, \"stock_final\", 201912)\n",
    "df = feature_engineering.get_rolling_mins(df, \"stock_final\", 201912)\n",
    "df = feature_engineering.get_rolling_maxs(df, \"stock_final\", 201912)\n",
    "df.shape"
   ]
  },
  {
   "cell_type": "markdown",
   "id": "2fbc712c",
   "metadata": {},
   "source": [
    "Features Diana"
   ]
  },
  {
   "cell_type": "code",
   "execution_count": 9,
   "id": "c6acf0b7",
   "metadata": {},
   "outputs": [],
   "source": [
    "df = feature_engineering.calcular_diferencia_con_medias_moviles(df)\n",
    "df = feature_engineering.calcular_ratios_con_medias_moviles(df)"
   ]
  },
  {
   "cell_type": "markdown",
   "id": "e2436c9b",
   "metadata": {},
   "source": [
    "##### FE Moviles sobre otras variables"
   ]
  },
  {
   "cell_type": "code",
   "execution_count": 56,
   "id": "0dca7531",
   "metadata": {},
   "outputs": [],
   "source": [
    "# #  stock final\n",
    "# df = feature_engineering.get_lagsEspecificos(df, col='stock_final_zscore')\n",
    "# df = feature_engineering.get_delta_lags_especificos(df, col='stock_final_zscore')\n",
    "# df = feature_engineering.get_rolling_means_especificos(df, col='stock_final_zscore')\n",
    "# df = feature_engineering.get_rolling_stds_especificos(df, col='stock_final_zscore')\n",
    "# df = feature_engineering.get_rolling_medians_especificos(df, col='stock_final_zscore')\n",
    "# df = feature_engineering.get_rolling_mins_especificos(df, col='stock_final_zscore')\n",
    "# df = feature_engineering.get_rolling_maxs_especificos(df, col='stock_final_zscore')\n",
    "# df = feature_engineering.get_rolling_skewness_especificos(df, col='stock_final_zscore')\n",
    "\n",
    "#  cust_request_qty\n",
    "# df = feature_engineering.get_lagsEspecificos(df, col='cust_request_qty')\n",
    "# df = feature_engineering.get_delta_lags_especificos(df, col='cust_request_qty')\n",
    "# df = feature_engineering.get_rolling_means_especificos(df, col='cust_request_qty')\n",
    "# df = feature_engineering.get_rolling_stds_especificos(df, col='cust_request_qty')\n",
    "# df = feature_engineering.get_rolling_mins_especificos(df, col='cust_request_qty')\n",
    "# df = feature_engineering.get_rolling_maxs_especificos(df, col='cust_request_qty')\n",
    "# df = feature_engineering.get_rolling_medians_especificos(df, col='cust_request_qty')\n",
    "# df = feature_engineering.get_rolling_skewness_especificos(df, col='cust_request_qty')"
   ]
  },
  {
   "cell_type": "markdown",
   "id": "6fb9716d",
   "metadata": {},
   "source": [
    "##### FE Calendario"
   ]
  },
  {
   "cell_type": "code",
   "execution_count": 10,
   "id": "3e810260",
   "metadata": {},
   "outputs": [
    {
     "data": {
      "text/plain": [
       "(31362, 1561)"
      ]
     },
     "execution_count": 10,
     "metadata": {},
     "output_type": "execute_result"
    }
   ],
   "source": [
    "df = feature_engineering.generar_ids(df)\n",
    "df = feature_engineering.get_componentesTemporales(df)\n",
    "df = feature_engineering.get_anomaliasPoliticas(df)\n",
    "# df = feature_engineering.descomposicion_serie_temporal(df, col='tn')\n",
    "df.shape"
   ]
  },
  {
   "cell_type": "markdown",
   "id": "b34d19db",
   "metadata": {},
   "source": [
    "##### FE sobre FE"
   ]
  },
  {
   "cell_type": "code",
   "execution_count": 11,
   "id": "14345585",
   "metadata": {},
   "outputs": [
    {
     "data": {
      "text/plain": [
       "(31362, 1590)"
      ]
     },
     "execution_count": 11,
     "metadata": {},
     "output_type": "execute_result"
    }
   ],
   "source": [
    "df = feature_engineering.chatGPT_features_serie(df, \"tn\")\n",
    "df = feature_engineering.mes_con_feriado(df)\n",
    "df.shape"
   ]
  },
  {
   "cell_type": "markdown",
   "id": "62f1cbad",
   "metadata": {},
   "source": [
    "##### Variables Exogenas"
   ]
  },
  {
   "cell_type": "code",
   "execution_count": 12,
   "id": "d10e572a",
   "metadata": {},
   "outputs": [
    {
     "data": {
      "text/plain": [
       "(31362, 1593)"
      ]
     },
     "execution_count": 12,
     "metadata": {},
     "output_type": "execute_result"
    }
   ],
   "source": [
    "df = feature_engineering.get_dolar(df)\n",
    "df = feature_engineering.get_IPC(df)\n",
    "df['ipc'] = df['ipc'].str.replace(',', '.').astype(float)\n",
    "df['dolar'] = df['dolar'].str.replace(',', '.').astype(float)\n",
    "# df.drop(columns=['ds'], inplace=True)\n",
    "df.fillna(0, inplace=True) ##### EXPERIMENTAR\n",
    "df = feature_engineering.correlacion_exogenas(df)\n",
    "df = feature_engineering.get_mes_receso_escolar(df)\n",
    "df.shape"
   ]
  },
  {
   "cell_type": "markdown",
   "id": "574cbf29",
   "metadata": {},
   "source": [
    "##### Nuevas FE"
   ]
  },
  {
   "cell_type": "code",
   "execution_count": 13,
   "id": "ac0b5e13",
   "metadata": {},
   "outputs": [
    {
     "data": {
      "text/plain": [
       "(31362, 1635)"
      ]
     },
     "execution_count": 13,
     "metadata": {},
     "output_type": "execute_result"
    }
   ],
   "source": [
    "df = feature_engineering.create_ratio_features(df)\n",
    "df = feature_engineering.enhance_lifecycle_features(df)\n",
    "df = feature_engineering.create_category_features(df)\n",
    "df = feature_engineering.create_regime_features(df)\n",
    "df = feature_engineering.create_nonlinear_trends(df)\n",
    "df = feature_engineering.create_temporal_interactions(df)\n",
    "df = feature_engineering.create_asymmetric_window_features(df)\n",
    "df = feature_engineering.recomendaciones_deepseek(df)\n",
    "df = feature_engineering.get_nuevas_features(df)\n",
    "df.shape"
   ]
  },
  {
   "cell_type": "markdown",
   "id": "01403c73",
   "metadata": {},
   "source": [
    "##### Elimino aquellas que no sirven"
   ]
  },
  {
   "cell_type": "code",
   "execution_count": null,
   "id": "394f26c7",
   "metadata": {},
   "outputs": [
    {
     "data": {
      "application/vnd.microsoft.datawrangler.viewer.v0+json": {
       "columns": [
        {
         "name": "index",
         "rawType": "int64",
         "type": "integer"
        },
        {
         "name": "feature",
         "rawType": "object",
         "type": "string"
        },
        {
         "name": "importance",
         "rawType": "int64",
         "type": "integer"
        }
       ],
       "ref": "87fa4b9b-5553-4771-9749-4241efc53e0e",
       "rows": [
        [
         "67",
         "tn_vs_prev_year",
         "100"
        ],
        [
         "68",
         "tn_delta_lag5_lag8",
         "99"
        ],
        [
         "69",
         "tn_rolling_min_4",
         "96"
        ],
        [
         "70",
         "tn_lag_5",
         "95"
        ],
        [
         "71",
         "tn_rolling_std_6",
         "95"
        ],
        [
         "72",
         "tn_delta_lag4_lag9",
         "94"
        ],
        [
         "73",
         "tn_rolling_std_7",
         "92"
        ],
        [
         "74",
         "season_yearly",
         "92"
        ],
        [
         "75",
         "tn_delta_lag3_lag8",
         "91"
        ],
        [
         "76",
         "tn_delta_lag9_lag10",
         "90"
        ],
        [
         "77",
         "tn_lag_7",
         "89"
        ],
        [
         "78",
         "tn_delta_lag4_lag8",
         "88"
        ],
        [
         "79",
         "tn_lag_8",
         "87"
        ],
        [
         "80",
         "tn_rolling_max_4",
         "87"
        ],
        [
         "81",
         "tn_delta_lag7_lag10",
         "86"
        ],
        [
         "82",
         "tn_delta_lag2_lag8",
         "84"
        ],
        [
         "83",
         "tn_delta_lag5_lag7",
         "84"
        ],
        [
         "84",
         "tn_delta_lag1_lag9",
         "83"
        ],
        [
         "85",
         "tn_delta_lag4_lag10",
         "83"
        ],
        [
         "86",
         "tn_rolling_std_8",
         "83"
        ],
        [
         "88",
         "tn_delta_lag8_lag11",
         "83"
        ],
        [
         "89",
         "tn_delta_lag5_lag10",
         "82"
        ],
        [
         "90",
         "tn_seasonal_diff_12",
         "82"
        ],
        [
         "91",
         "tn_delta_lag2_lag9",
         "82"
        ],
        [
         "92",
         "tn_delta_lag3_lag11",
         "81"
        ],
        [
         "93",
         "tn_rolling_max_3",
         "81"
        ],
        [
         "94",
         "tn_delta_lag11_lag12",
         "81"
        ],
        [
         "95",
         "tn_delta_lag7_lag9",
         "78"
        ],
        [
         "96",
         "tn_delta_lag1_lag8",
         "78"
        ],
        [
         "97",
         "tn_delta_lag2_lag10",
         "78"
        ],
        [
         "98",
         "tn_delta_lag5_lag9",
         "77"
        ],
        [
         "99",
         "tn_delta_lag10_lag12",
         "77"
        ],
        [
         "100",
         "tn_rolling_mean_4",
         "75"
        ],
        [
         "101",
         "tn_trend_linear",
         "72"
        ],
        [
         "102",
         "tn_delta_lag6_lag9",
         "72"
        ],
        [
         "103",
         "tn_last3_vs_ly3",
         "71"
        ],
        [
         "105",
         "tn_rolling_min_6",
         "71"
        ],
        [
         "106",
         "tn_delta_lag2_lag11",
         "71"
        ],
        [
         "107",
         "tn_rolling_min_5",
         "71"
        ],
        [
         "108",
         "tn_lag_9",
         "70"
        ],
        [
         "109",
         "tn_delta_lag3_lag9",
         "70"
        ],
        [
         "110",
         "tn_rolling_mean_3",
         "69"
        ],
        [
         "112",
         "tn_lag_10",
         "68"
        ],
        [
         "113",
         "tn_delta_lag9_lag12",
         "67"
        ],
        [
         "114",
         "tn_delta_lag8_lag10",
         "66"
        ],
        [
         "115",
         "additive_terms",
         "65"
        ],
        [
         "116",
         "tn_delta_lag5_lag11",
         "65"
        ],
        [
         "117",
         "cat2_ROPA LAVADO",
         "64"
        ],
        [
         "118",
         "tn_delta_lag9_lag11",
         "62"
        ],
        [
         "119",
         "tn_delta_lag10_lag11",
         "61"
        ]
       ],
       "shape": {
        "columns": 2,
        "rows": 608
       }
      },
      "text/html": [
       "<div>\n",
       "<style scoped>\n",
       "    .dataframe tbody tr th:only-of-type {\n",
       "        vertical-align: middle;\n",
       "    }\n",
       "\n",
       "    .dataframe tbody tr th {\n",
       "        vertical-align: top;\n",
       "    }\n",
       "\n",
       "    .dataframe thead th {\n",
       "        text-align: right;\n",
       "    }\n",
       "</style>\n",
       "<table border=\"1\" class=\"dataframe\">\n",
       "  <thead>\n",
       "    <tr style=\"text-align: right;\">\n",
       "      <th></th>\n",
       "      <th>feature</th>\n",
       "      <th>importance</th>\n",
       "    </tr>\n",
       "  </thead>\n",
       "  <tbody>\n",
       "    <tr>\n",
       "      <th>67</th>\n",
       "      <td>tn_vs_prev_year</td>\n",
       "      <td>100</td>\n",
       "    </tr>\n",
       "    <tr>\n",
       "      <th>68</th>\n",
       "      <td>tn_delta_lag5_lag8</td>\n",
       "      <td>99</td>\n",
       "    </tr>\n",
       "    <tr>\n",
       "      <th>69</th>\n",
       "      <td>tn_rolling_min_4</td>\n",
       "      <td>96</td>\n",
       "    </tr>\n",
       "    <tr>\n",
       "      <th>70</th>\n",
       "      <td>tn_lag_5</td>\n",
       "      <td>95</td>\n",
       "    </tr>\n",
       "    <tr>\n",
       "      <th>71</th>\n",
       "      <td>tn_rolling_std_6</td>\n",
       "      <td>95</td>\n",
       "    </tr>\n",
       "    <tr>\n",
       "      <th>...</th>\n",
       "      <td>...</td>\n",
       "      <td>...</td>\n",
       "    </tr>\n",
       "    <tr>\n",
       "      <th>677</th>\n",
       "      <td>dia_del_year</td>\n",
       "      <td>0</td>\n",
       "    </tr>\n",
       "    <tr>\n",
       "      <th>678</th>\n",
       "      <td>cat2_TE</td>\n",
       "      <td>0</td>\n",
       "    </tr>\n",
       "    <tr>\n",
       "      <th>680</th>\n",
       "      <td>cat2_PIEL1</td>\n",
       "      <td>0</td>\n",
       "    </tr>\n",
       "    <tr>\n",
       "      <th>681</th>\n",
       "      <td>cat2_OTROS</td>\n",
       "      <td>0</td>\n",
       "    </tr>\n",
       "    <tr>\n",
       "      <th>682</th>\n",
       "      <td>tn_is_outlier_3sigma</td>\n",
       "      <td>0</td>\n",
       "    </tr>\n",
       "  </tbody>\n",
       "</table>\n",
       "<p>608 rows × 2 columns</p>\n",
       "</div>"
      ],
      "text/plain": [
       "                  feature  importance\n",
       "67        tn_vs_prev_year         100\n",
       "68     tn_delta_lag5_lag8          99\n",
       "69       tn_rolling_min_4          96\n",
       "70               tn_lag_5          95\n",
       "71       tn_rolling_std_6          95\n",
       "..                    ...         ...\n",
       "677          dia_del_year           0\n",
       "678               cat2_TE           0\n",
       "680            cat2_PIEL1           0\n",
       "681            cat2_OTROS           0\n",
       "682  tn_is_outlier_3sigma           0\n",
       "\n",
       "[608 rows x 2 columns]"
      ]
     },
     "execution_count": 13,
     "metadata": {},
     "output_type": "execute_result"
    }
   ],
   "source": [
    "# importantes = pd.read_csv(\"./feature_importance/exp04_3.csv\", sep=',', encoding='utf-8')\n",
    "# no_importantes = importantes[importantes['importance'] <= 100]\n",
    "# no_importantes = no_importantes[~no_importantes['feature'].isin(columnas_baseline)]\n",
    "# no_importantes"
   ]
  },
  {
   "cell_type": "code",
   "execution_count": null,
   "id": "64ffa0fc",
   "metadata": {},
   "outputs": [
    {
     "name": "stdout",
     "output_type": "stream",
     "text": [
      "Antes de eliminar: 1144 columnas\n",
      "Después de eliminar: 684 columnas\n"
     ]
    }
   ],
   "source": [
    "# cols_a_eliminar = no_importantes.feature.unique()\n",
    "# print(f\"Antes de eliminar: {df.shape[1]} columnas\")\n",
    "# df = df.drop(columns=cols_a_eliminar, errors='ignore')\n",
    "# print(f\"Después de eliminar: {df.shape[1]} columnas\")"
   ]
  },
  {
   "cell_type": "markdown",
   "id": "db213673",
   "metadata": {},
   "source": [
    "Eliminar object/categorical columnas"
   ]
  },
  {
   "cell_type": "code",
   "execution_count": 14,
   "id": "a71a529b",
   "metadata": {},
   "outputs": [],
   "source": [
    "df = df.select_dtypes(exclude=['datetime', 'datetime64', 'object'])"
   ]
  },
  {
   "cell_type": "markdown",
   "id": "4ff4ee13",
   "metadata": {},
   "source": [
    "Train Test Split"
   ]
  },
  {
   "cell_type": "code",
   "execution_count": 15,
   "id": "32557458",
   "metadata": {},
   "outputs": [],
   "source": [
    "train = df[df['periodo'] <= 201912]\n",
    "test = df[df['periodo'] == 201912]"
   ]
  },
  {
   "cell_type": "markdown",
   "id": "cf3fabe4",
   "metadata": {},
   "source": [
    "Entrenamiento"
   ]
  },
  {
   "cell_type": "code",
   "execution_count": 16,
   "id": "73042e3d",
   "metadata": {},
   "outputs": [
    {
     "name": "stdout",
     "output_type": "stream",
     "text": [
      "\n",
      "Para visualizar los resultados en tiempo real:\n",
      "1. Abre otra terminal y ejecuta:\n",
      "   optuna-dashboard sqlite:///optuna_studies_v18.db\n",
      "2. Abre en tu navegador: http://127.0.0.1:8080/\n"
     ]
    },
    {
     "name": "stderr",
     "output_type": "stream",
     "text": [
      "[I 2025-07-05 09:34:02,190] A new study created in RDB with name: lightgbm_optimization_v18\n",
      "[I 2025-07-05 09:40:08,664] Trial 0 finished with value: 51.816161217243554 and parameters: {'num_leaves': 47, 'learning_rate': 0.2536999076681772, 'feature_fraction': 0.892797576724562, 'bagging_fraction': 0.8795975452591109, 'bagging_freq': 2, 'lambda_l1': 2.5348407664333426e-07, 'lambda_l2': 3.3323645788192616e-08, 'min_child_samples': 45, 'max_depth': 7, 'max_bin': 383, 'min_data_in_leaf': 21, 'extra_trees': True, 'early_stopping_rounds': 18, 'path_smooth': 0.18182496720710062, 'min_gain_to_split': 0.09170225492671691}. Best is trial 0 with value: 51.816161217243554.\n"
     ]
    },
    {
     "name": "stdout",
     "output_type": "stream",
     "text": [
      "Mejor trial hasta ahora: RMSE=51.816161, Parámetros={'num_leaves': 47, 'learning_rate': 0.2536999076681772, 'feature_fraction': 0.892797576724562, 'bagging_fraction': 0.8795975452591109, 'bagging_freq': 2, 'lambda_l1': 2.5348407664333426e-07, 'lambda_l2': 3.3323645788192616e-08, 'min_child_samples': 45, 'max_depth': 7, 'max_bin': 383, 'min_data_in_leaf': 21, 'extra_trees': True, 'early_stopping_rounds': 18, 'path_smooth': 0.18182496720710062, 'min_gain_to_split': 0.09170225492671691}\n"
     ]
    },
    {
     "name": "stderr",
     "output_type": "stream",
     "text": [
      "[I 2025-07-05 09:50:50,771] Trial 1 finished with value: 259.6389303683741 and parameters: {'num_leaves': 41, 'learning_rate': 0.05958389350068958, 'feature_fraction': 0.7727780074568463, 'bagging_fraction': 0.7873687420594125, 'bagging_freq': 7, 'lambda_l1': 1.8007140198129195e-07, 'lambda_l2': 4.258943089524393e-06, 'min_child_samples': 25, 'max_depth': 6, 'max_bin': 414, 'min_data_in_leaf': 36, 'extra_trees': False, 'early_stopping_rounds': 11, 'path_smooth': 0.6075448519014384, 'min_gain_to_split': 0.08526206184364576}. Best is trial 0 with value: 51.816161217243554.\n"
     ]
    },
    {
     "name": "stdout",
     "output_type": "stream",
     "text": [
      "Mejor trial hasta ahora: RMSE=51.816161, Parámetros={'num_leaves': 47, 'learning_rate': 0.2536999076681772, 'feature_fraction': 0.892797576724562, 'bagging_fraction': 0.8795975452591109, 'bagging_freq': 2, 'lambda_l1': 2.5348407664333426e-07, 'lambda_l2': 3.3323645788192616e-08, 'min_child_samples': 45, 'max_depth': 7, 'max_bin': 383, 'min_data_in_leaf': 21, 'extra_trees': True, 'early_stopping_rounds': 18, 'path_smooth': 0.18182496720710062, 'min_gain_to_split': 0.09170225492671691}\n"
     ]
    },
    {
     "name": "stderr",
     "output_type": "stream",
     "text": [
      "[I 2025-07-05 09:54:59,191] Trial 2 finished with value: 495.949895189545 and parameters: {'num_leaves': 20, 'learning_rate': 0.2521267904777921, 'feature_fraction': 0.9862528132298237, 'bagging_fraction': 0.9425192044349383, 'bagging_freq': 4, 'lambda_l1': 7.569183361880229e-08, 'lambda_l2': 0.014391207615728067, 'min_child_samples': 28, 'max_depth': 3, 'max_bin': 298, 'min_data_in_leaf': 22, 'extra_trees': True, 'early_stopping_rounds': 37, 'path_smooth': 0.31171107608941095, 'min_gain_to_split': 0.2600340105889054}. Best is trial 0 with value: 51.816161217243554.\n"
     ]
    },
    {
     "name": "stdout",
     "output_type": "stream",
     "text": [
      "Mejor trial hasta ahora: RMSE=51.816161, Parámetros={'num_leaves': 47, 'learning_rate': 0.2536999076681772, 'feature_fraction': 0.892797576724562, 'bagging_fraction': 0.8795975452591109, 'bagging_freq': 2, 'lambda_l1': 2.5348407664333426e-07, 'lambda_l2': 3.3323645788192616e-08, 'min_child_samples': 45, 'max_depth': 7, 'max_bin': 383, 'min_data_in_leaf': 21, 'extra_trees': True, 'early_stopping_rounds': 18, 'path_smooth': 0.18182496720710062, 'min_gain_to_split': 0.09170225492671691}\n"
     ]
    },
    {
     "name": "stderr",
     "output_type": "stream",
     "text": [
      "[I 2025-07-05 10:02:57,899] Trial 3 finished with value: 2193.8122488455087 and parameters: {'num_leaves': 62, 'learning_rate': 0.01875220945578641, 'feature_fraction': 0.9878338511058234, 'bagging_fraction': 0.9325398470083344, 'bagging_freq': 10, 'lambda_l1': 1.1309571585271483, 'lambda_l2': 0.002404915432737351, 'min_child_samples': 47, 'max_depth': 3, 'max_bin': 178, 'min_data_in_leaf': 23, 'extra_trees': False, 'early_stopping_rounds': 21, 'path_smooth': 0.8287375091519293, 'min_gain_to_split': 0.17837666334679464}. Best is trial 0 with value: 51.816161217243554.\n"
     ]
    },
    {
     "name": "stdout",
     "output_type": "stream",
     "text": [
      "Mejor trial hasta ahora: RMSE=51.816161, Parámetros={'num_leaves': 47, 'learning_rate': 0.2536999076681772, 'feature_fraction': 0.892797576724562, 'bagging_fraction': 0.8795975452591109, 'bagging_freq': 2, 'lambda_l1': 2.5348407664333426e-07, 'lambda_l2': 3.3323645788192616e-08, 'min_child_samples': 45, 'max_depth': 7, 'max_bin': 383, 'min_data_in_leaf': 21, 'extra_trees': True, 'early_stopping_rounds': 18, 'path_smooth': 0.18182496720710062, 'min_gain_to_split': 0.09170225492671691}\n"
     ]
    },
    {
     "name": "stderr",
     "output_type": "stream",
     "text": [
      "[I 2025-07-05 10:09:35,907] Trial 4 finished with value: 3229.5596097533826 and parameters: {'num_leaves': 39, 'learning_rate': 0.06333268775321843, 'feature_fraction': 0.6563696899899051, 'bagging_fraction': 0.9406590942262119, 'bagging_freq': 1, 'lambda_l1': 7.620481786158549, 'lambda_l2': 0.08916674715636537, 'min_child_samples': 18, 'max_depth': 3, 'max_bin': 427, 'min_data_in_leaf': 77, 'extra_trees': False, 'early_stopping_rounds': 13, 'path_smooth': 0.3584657285442726, 'min_gain_to_split': 0.05793452976256486}. Best is trial 0 with value: 51.816161217243554.\n"
     ]
    },
    {
     "name": "stdout",
     "output_type": "stream",
     "text": [
      "Mejor trial hasta ahora: RMSE=51.816161, Parámetros={'num_leaves': 47, 'learning_rate': 0.2536999076681772, 'feature_fraction': 0.892797576724562, 'bagging_fraction': 0.8795975452591109, 'bagging_freq': 2, 'lambda_l1': 2.5348407664333426e-07, 'lambda_l2': 3.3323645788192616e-08, 'min_child_samples': 45, 'max_depth': 7, 'max_bin': 383, 'min_data_in_leaf': 21, 'extra_trees': True, 'early_stopping_rounds': 18, 'path_smooth': 0.18182496720710062, 'min_gain_to_split': 0.09170225492671691}\n"
     ]
    },
    {
     "name": "stderr",
     "output_type": "stream",
     "text": [
      "[I 2025-07-05 10:19:50,179] Trial 5 finished with value: 120.32902290226943 and parameters: {'num_leaves': 89, 'learning_rate': 0.08330803890301997, 'feature_fraction': 0.7323592099410596, 'bagging_fraction': 0.7190675050858071, 'bagging_freq': 4, 'lambda_l1': 8.445977074223802e-06, 'lambda_l2': 0.036851536911881845, 'min_child_samples': 36, 'max_depth': 10, 'max_bin': 289, 'min_data_in_leaf': 29, 'extra_trees': False, 'early_stopping_rounds': 33, 'path_smooth': 0.770967179954561, 'min_gain_to_split': 0.24689779818219537}. Best is trial 0 with value: 51.816161217243554.\n"
     ]
    },
    {
     "name": "stdout",
     "output_type": "stream",
     "text": [
      "Mejor trial hasta ahora: RMSE=51.816161, Parámetros={'num_leaves': 47, 'learning_rate': 0.2536999076681772, 'feature_fraction': 0.892797576724562, 'bagging_fraction': 0.8795975452591109, 'bagging_freq': 2, 'lambda_l1': 2.5348407664333426e-07, 'lambda_l2': 3.3323645788192616e-08, 'min_child_samples': 45, 'max_depth': 7, 'max_bin': 383, 'min_data_in_leaf': 21, 'extra_trees': True, 'early_stopping_rounds': 18, 'path_smooth': 0.18182496720710062, 'min_gain_to_split': 0.09170225492671691}\n"
     ]
    },
    {
     "name": "stderr",
     "output_type": "stream",
     "text": [
      "[I 2025-07-05 10:26:41,795] Trial 6 finished with value: 168.39593357885548 and parameters: {'num_leaves': 59, 'learning_rate': 0.042808491617570936, 'feature_fraction': 0.610167650697638, 'bagging_fraction': 0.7323674280979913, 'bagging_freq': 1, 'lambda_l1': 0.005341874754868531, 'lambda_l2': 6.748446817464346e-06, 'min_child_samples': 30, 'max_depth': 10, 'max_bin': 199, 'min_data_in_leaf': 53, 'extra_trees': True, 'early_stopping_rounds': 13, 'path_smooth': 0.289751452913768, 'min_gain_to_split': 0.08061064362700221}. Best is trial 0 with value: 51.816161217243554.\n"
     ]
    },
    {
     "name": "stdout",
     "output_type": "stream",
     "text": [
      "Mejor trial hasta ahora: RMSE=51.816161, Parámetros={'num_leaves': 47, 'learning_rate': 0.2536999076681772, 'feature_fraction': 0.892797576724562, 'bagging_fraction': 0.8795975452591109, 'bagging_freq': 2, 'lambda_l1': 2.5348407664333426e-07, 'lambda_l2': 3.3323645788192616e-08, 'min_child_samples': 45, 'max_depth': 7, 'max_bin': 383, 'min_data_in_leaf': 21, 'extra_trees': True, 'early_stopping_rounds': 18, 'path_smooth': 0.18182496720710062, 'min_gain_to_split': 0.09170225492671691}\n"
     ]
    },
    {
     "name": "stderr",
     "output_type": "stream",
     "text": [
      "[I 2025-07-05 10:38:34,645] Trial 7 finished with value: 23.690437334931165 and parameters: {'num_leaves': 94, 'learning_rate': 0.156203869845265, 'feature_fraction': 0.8533615026041694, 'bagging_fraction': 0.9614381770563153, 'bagging_freq': 9, 'lambda_l1': 4.776728196949699e-07, 'lambda_l2': 1.0790237065789294, 'min_child_samples': 32, 'max_depth': 9, 'max_bin': 459, 'min_data_in_leaf': 45, 'extra_trees': False, 'early_stopping_rounds': 27, 'path_smooth': 0.8180147659224931, 'min_gain_to_split': 0.4303652916281717}. Best is trial 7 with value: 23.690437334931165.\n"
     ]
    },
    {
     "name": "stdout",
     "output_type": "stream",
     "text": [
      "Mejor trial hasta ahora: RMSE=23.690437, Parámetros={'num_leaves': 94, 'learning_rate': 0.156203869845265, 'feature_fraction': 0.8533615026041694, 'bagging_fraction': 0.9614381770563153, 'bagging_freq': 9, 'lambda_l1': 4.776728196949699e-07, 'lambda_l2': 1.0790237065789294, 'min_child_samples': 32, 'max_depth': 9, 'max_bin': 459, 'min_data_in_leaf': 45, 'extra_trees': False, 'early_stopping_rounds': 27, 'path_smooth': 0.8180147659224931, 'min_gain_to_split': 0.4303652916281717}\n"
     ]
    },
    {
     "name": "stderr",
     "output_type": "stream",
     "text": [
      "[I 2025-07-05 10:45:25,016] Trial 8 finished with value: 687.576238989167 and parameters: {'num_leaves': 15, 'learning_rate': 0.05681142678077596, 'feature_fraction': 0.7669644012595116, 'bagging_fraction': 0.7666323431412191, 'bagging_freq': 2, 'lambda_l1': 1.0927895733904103e-05, 'lambda_l2': 3.0632845126552133, 'min_child_samples': 23, 'max_depth': 7, 'max_bin': 381, 'min_data_in_leaf': 49, 'extra_trees': True, 'early_stopping_rounds': 20, 'path_smooth': 0.49724850589238545, 'min_gain_to_split': 0.15043915490838483}. Best is trial 7 with value: 23.690437334931165.\n"
     ]
    },
    {
     "name": "stdout",
     "output_type": "stream",
     "text": [
      "Mejor trial hasta ahora: RMSE=23.690437, Parámetros={'num_leaves': 94, 'learning_rate': 0.156203869845265, 'feature_fraction': 0.8533615026041694, 'bagging_fraction': 0.9614381770563153, 'bagging_freq': 9, 'lambda_l1': 4.776728196949699e-07, 'lambda_l2': 1.0790237065789294, 'min_child_samples': 32, 'max_depth': 9, 'max_bin': 459, 'min_data_in_leaf': 45, 'extra_trees': False, 'early_stopping_rounds': 27, 'path_smooth': 0.8180147659224931, 'min_gain_to_split': 0.4303652916281717}\n"
     ]
    },
    {
     "name": "stderr",
     "output_type": "stream",
     "text": [
      "[I 2025-07-05 11:00:21,483] Trial 9 finished with value: 3425.932399393901 and parameters: {'num_leaves': 39, 'learning_rate': 0.011336695817840537, 'feature_fraction': 0.8438257335919588, 'bagging_fraction': 0.8508037069686585, 'bagging_freq': 1, 'lambda_l1': 3.21972053981427e-06, 'lambda_l2': 1.49414578394363, 'min_child_samples': 19, 'max_depth': 4, 'max_bin': 296, 'min_data_in_leaf': 99, 'extra_trees': False, 'early_stopping_rounds': 41, 'path_smooth': 0.23763754399239967, 'min_gain_to_split': 0.3641081743059298}. Best is trial 7 with value: 23.690437334931165.\n"
     ]
    },
    {
     "name": "stdout",
     "output_type": "stream",
     "text": [
      "Mejor trial hasta ahora: RMSE=23.690437, Parámetros={'num_leaves': 94, 'learning_rate': 0.156203869845265, 'feature_fraction': 0.8533615026041694, 'bagging_fraction': 0.9614381770563153, 'bagging_freq': 9, 'lambda_l1': 4.776728196949699e-07, 'lambda_l2': 1.0790237065789294, 'min_child_samples': 32, 'max_depth': 9, 'max_bin': 459, 'min_data_in_leaf': 45, 'extra_trees': False, 'early_stopping_rounds': 27, 'path_smooth': 0.8180147659224931, 'min_gain_to_split': 0.4303652916281717}\n"
     ]
    },
    {
     "name": "stderr",
     "output_type": "stream",
     "text": [
      "[I 2025-07-05 11:10:11,183] Trial 10 finished with value: 225.14631889102816 and parameters: {'num_leaves': 99, 'learning_rate': 0.13416032434032454, 'feature_fraction': 0.8784471213433285, 'bagging_fraction': 0.9862830691251867, 'bagging_freq': 10, 'lambda_l1': 0.001502701089682037, 'lambda_l2': 6.3791369398325e-05, 'min_child_samples': 11, 'max_depth': 9, 'max_bin': 497, 'min_data_in_leaf': 70, 'extra_trees': False, 'early_stopping_rounds': 47, 'path_smooth': 0.990907327492855, 'min_gain_to_split': 0.49687192922818807}. Best is trial 7 with value: 23.690437334931165.\n"
     ]
    },
    {
     "name": "stdout",
     "output_type": "stream",
     "text": [
      "Mejor trial hasta ahora: RMSE=23.690437, Parámetros={'num_leaves': 94, 'learning_rate': 0.156203869845265, 'feature_fraction': 0.8533615026041694, 'bagging_fraction': 0.9614381770563153, 'bagging_freq': 9, 'lambda_l1': 4.776728196949699e-07, 'lambda_l2': 1.0790237065789294, 'min_child_samples': 32, 'max_depth': 9, 'max_bin': 459, 'min_data_in_leaf': 45, 'extra_trees': False, 'early_stopping_rounds': 27, 'path_smooth': 0.8180147659224931, 'min_gain_to_split': 0.4303652916281717}\n"
     ]
    },
    {
     "name": "stderr",
     "output_type": "stream",
     "text": [
      "[I 2025-07-05 11:16:49,134] Trial 11 finished with value: 54.911064089237314 and parameters: {'num_leaves': 76, 'learning_rate': 0.28971664054261004, 'feature_fraction': 0.9052045095657504, 'bagging_fraction': 0.8588256102468118, 'bagging_freq': 7, 'lambda_l1': 4.3380793966630313e-08, 'lambda_l2': 1.7270812116459777e-08, 'min_child_samples': 50, 'max_depth': 8, 'max_bin': 496, 'min_data_in_leaf': 42, 'extra_trees': True, 'early_stopping_rounds': 26, 'path_smooth': 0.07846238496678071, 'min_gain_to_split': 0.47411998848815184}. Best is trial 7 with value: 23.690437334931165.\n"
     ]
    },
    {
     "name": "stdout",
     "output_type": "stream",
     "text": [
      "Mejor trial hasta ahora: RMSE=23.690437, Parámetros={'num_leaves': 94, 'learning_rate': 0.156203869845265, 'feature_fraction': 0.8533615026041694, 'bagging_fraction': 0.9614381770563153, 'bagging_freq': 9, 'lambda_l1': 4.776728196949699e-07, 'lambda_l2': 1.0790237065789294, 'min_child_samples': 32, 'max_depth': 9, 'max_bin': 459, 'min_data_in_leaf': 45, 'extra_trees': False, 'early_stopping_rounds': 27, 'path_smooth': 0.8180147659224931, 'min_gain_to_split': 0.4303652916281717}\n"
     ]
    },
    {
     "name": "stderr",
     "output_type": "stream",
     "text": [
      "[I 2025-07-05 11:23:01,989] Trial 12 finished with value: 175.75346518011474 and parameters: {'num_leaves': 77, 'learning_rate': 0.16741718695640792, 'feature_fraction': 0.925913487601959, 'bagging_fraction': 0.8855023408544529, 'bagging_freq': 8, 'lambda_l1': 0.00014211618981379697, 'lambda_l2': 1.31299430222377e-08, 'min_child_samples': 41, 'max_depth': 6, 'max_bin': 357, 'min_data_in_leaf': 70, 'extra_trees': True, 'early_stopping_rounds': 27, 'path_smooth': 0.08788444971810856, 'min_gain_to_split': 0.370576595589974}. Best is trial 7 with value: 23.690437334931165.\n"
     ]
    },
    {
     "name": "stdout",
     "output_type": "stream",
     "text": [
      "Mejor trial hasta ahora: RMSE=23.690437, Parámetros={'num_leaves': 94, 'learning_rate': 0.156203869845265, 'feature_fraction': 0.8533615026041694, 'bagging_fraction': 0.9614381770563153, 'bagging_freq': 9, 'lambda_l1': 4.776728196949699e-07, 'lambda_l2': 1.0790237065789294, 'min_child_samples': 32, 'max_depth': 9, 'max_bin': 459, 'min_data_in_leaf': 45, 'extra_trees': False, 'early_stopping_rounds': 27, 'path_smooth': 0.8180147659224931, 'min_gain_to_split': 0.4303652916281717}\n"
     ]
    },
    {
     "name": "stderr",
     "output_type": "stream",
     "text": [
      "[I 2025-07-05 11:27:26,307] Trial 13 finished with value: 95.35411319719863 and parameters: {'num_leaves': 48, 'learning_rate': 0.14519268913318212, 'feature_fraction': 0.826308855197473, 'bagging_fraction': 0.89875512954508, 'bagging_freq': 4, 'lambda_l1': 8.163671809851979e-07, 'lambda_l2': 1.102565393878713e-06, 'min_child_samples': 37, 'max_depth': 8, 'max_bin': 101, 'min_data_in_leaf': 38, 'extra_trees': True, 'early_stopping_rounds': 20, 'path_smooth': 0.5625128570253415, 'min_gain_to_split': 0.012753625520683445}. Best is trial 7 with value: 23.690437334931165.\n"
     ]
    },
    {
     "name": "stdout",
     "output_type": "stream",
     "text": [
      "Mejor trial hasta ahora: RMSE=23.690437, Parámetros={'num_leaves': 94, 'learning_rate': 0.156203869845265, 'feature_fraction': 0.8533615026041694, 'bagging_fraction': 0.9614381770563153, 'bagging_freq': 9, 'lambda_l1': 4.776728196949699e-07, 'lambda_l2': 1.0790237065789294, 'min_child_samples': 32, 'max_depth': 9, 'max_bin': 459, 'min_data_in_leaf': 45, 'extra_trees': False, 'early_stopping_rounds': 27, 'path_smooth': 0.8180147659224931, 'min_gain_to_split': 0.4303652916281717}\n"
     ]
    },
    {
     "name": "stderr",
     "output_type": "stream",
     "text": [
      "[I 2025-07-05 11:33:11,961] Trial 14 finished with value: 527.7685121772287 and parameters: {'num_leaves': 71, 'learning_rate': 0.19168857979413848, 'feature_fraction': 0.9406932611185447, 'bagging_fraction': 0.9951570865434065, 'bagging_freq': 6, 'lambda_l1': 1.6340250254137068e-08, 'lambda_l2': 0.0003365583633830093, 'min_child_samples': 44, 'max_depth': 5, 'max_bin': 442, 'min_data_in_leaf': 58, 'extra_trees': False, 'early_stopping_rounds': 31, 'path_smooth': 0.7958677618935732, 'min_gain_to_split': 0.39500659174426994}. Best is trial 7 with value: 23.690437334931165.\n"
     ]
    },
    {
     "name": "stdout",
     "output_type": "stream",
     "text": [
      "Mejor trial hasta ahora: RMSE=23.690437, Parámetros={'num_leaves': 94, 'learning_rate': 0.156203869845265, 'feature_fraction': 0.8533615026041694, 'bagging_fraction': 0.9614381770563153, 'bagging_freq': 9, 'lambda_l1': 4.776728196949699e-07, 'lambda_l2': 1.0790237065789294, 'min_child_samples': 32, 'max_depth': 9, 'max_bin': 459, 'min_data_in_leaf': 45, 'extra_trees': False, 'early_stopping_rounds': 27, 'path_smooth': 0.8180147659224931, 'min_gain_to_split': 0.4303652916281717}\n"
     ]
    },
    {
     "name": "stderr",
     "output_type": "stream",
     "text": [
      "[I 2025-07-05 11:38:43,128] Trial 15 finished with value: 329.57611889858936 and parameters: {'num_leaves': 29, 'learning_rate': 0.12386192844163976, 'feature_fraction': 0.8624175337686146, 'bagging_fraction': 0.7997359893631422, 'bagging_freq': 9, 'lambda_l1': 9.341148350501848e-05, 'lambda_l2': 1.6500464738094685e-07, 'min_child_samples': 34, 'max_depth': 8, 'max_bin': 362, 'min_data_in_leaf': 45, 'extra_trees': True, 'early_stopping_rounds': 23, 'path_smooth': 0.9984987252001404, 'min_gain_to_split': 0.2719512092425288}. Best is trial 7 with value: 23.690437334931165.\n"
     ]
    },
    {
     "name": "stdout",
     "output_type": "stream",
     "text": [
      "Mejor trial hasta ahora: RMSE=23.690437, Parámetros={'num_leaves': 94, 'learning_rate': 0.156203869845265, 'feature_fraction': 0.8533615026041694, 'bagging_fraction': 0.9614381770563153, 'bagging_freq': 9, 'lambda_l1': 4.776728196949699e-07, 'lambda_l2': 1.0790237065789294, 'min_child_samples': 32, 'max_depth': 9, 'max_bin': 459, 'min_data_in_leaf': 45, 'extra_trees': False, 'early_stopping_rounds': 27, 'path_smooth': 0.8180147659224931, 'min_gain_to_split': 0.4303652916281717}\n"
     ]
    },
    {
     "name": "stderr",
     "output_type": "stream",
     "text": [
      "[I 2025-07-05 11:48:34,009] Trial 16 finished with value: 232.6441202121376 and parameters: {'num_leaves': 88, 'learning_rate': 0.030792216974309318, 'feature_fraction': 0.6984494811659784, 'bagging_fraction': 0.8252020862566151, 'bagging_freq': 3, 'lambda_l1': 0.03141951598789899, 'lambda_l2': 0.3117720452365209, 'min_child_samples': 40, 'max_depth': 7, 'max_bin': 448, 'min_data_in_leaf': 32, 'extra_trees': True, 'early_stopping_rounds': 17, 'path_smooth': 0.4514328155142508, 'min_gain_to_split': 0.16756019390833982}. Best is trial 7 with value: 23.690437334931165.\n"
     ]
    },
    {
     "name": "stdout",
     "output_type": "stream",
     "text": [
      "Mejor trial hasta ahora: RMSE=23.690437, Parámetros={'num_leaves': 94, 'learning_rate': 0.156203869845265, 'feature_fraction': 0.8533615026041694, 'bagging_fraction': 0.9614381770563153, 'bagging_freq': 9, 'lambda_l1': 4.776728196949699e-07, 'lambda_l2': 1.0790237065789294, 'min_child_samples': 32, 'max_depth': 9, 'max_bin': 459, 'min_data_in_leaf': 45, 'extra_trees': False, 'early_stopping_rounds': 27, 'path_smooth': 0.8180147659224931, 'min_gain_to_split': 0.4303652916281717}\n"
     ]
    },
    {
     "name": "stderr",
     "output_type": "stream",
     "text": [
      "[I 2025-07-05 11:54:11,262] Trial 17 finished with value: 481.4486270378329 and parameters: {'num_leaves': 54, 'learning_rate': 0.10296044495960273, 'feature_fraction': 0.8147324663134726, 'bagging_fraction': 0.8976369323205313, 'bagging_freq': 5, 'lambda_l1': 9.216515731670393e-07, 'lambda_l2': 0.00014593568357602004, 'min_child_samples': 32, 'max_depth': 9, 'max_bin': 231, 'min_data_in_leaf': 100, 'extra_trees': False, 'early_stopping_rounds': 34, 'path_smooth': 0.6725859207420777, 'min_gain_to_split': 0.31120079283829877}. Best is trial 7 with value: 23.690437334931165.\n"
     ]
    },
    {
     "name": "stdout",
     "output_type": "stream",
     "text": [
      "Mejor trial hasta ahora: RMSE=23.690437, Parámetros={'num_leaves': 94, 'learning_rate': 0.156203869845265, 'feature_fraction': 0.8533615026041694, 'bagging_fraction': 0.9614381770563153, 'bagging_freq': 9, 'lambda_l1': 4.776728196949699e-07, 'lambda_l2': 1.0790237065789294, 'min_child_samples': 32, 'max_depth': 9, 'max_bin': 459, 'min_data_in_leaf': 45, 'extra_trees': False, 'early_stopping_rounds': 27, 'path_smooth': 0.8180147659224931, 'min_gain_to_split': 0.4303652916281717}\n"
     ]
    },
    {
     "name": "stderr",
     "output_type": "stream",
     "text": [
      "[I 2025-07-05 11:59:40,977] Trial 18 finished with value: 440.4736849183969 and parameters: {'num_leaves': 67, 'learning_rate': 0.2181832153087695, 'feature_fraction': 0.8937453835988592, 'bagging_fraction': 0.9452904666198787, 'bagging_freq': 6, 'lambda_l1': 2.280946906991963e-05, 'lambda_l2': 0.0022584545819610774, 'min_child_samples': 43, 'max_depth': 9, 'max_bin': 337, 'min_data_in_leaf': 87, 'extra_trees': False, 'early_stopping_rounds': 26, 'path_smooth': 0.16448804475298406, 'min_gain_to_split': 0.430515477520969}. Best is trial 7 with value: 23.690437334931165.\n"
     ]
    },
    {
     "name": "stdout",
     "output_type": "stream",
     "text": [
      "Mejor trial hasta ahora: RMSE=23.690437, Parámetros={'num_leaves': 94, 'learning_rate': 0.156203869845265, 'feature_fraction': 0.8533615026041694, 'bagging_fraction': 0.9614381770563153, 'bagging_freq': 9, 'lambda_l1': 4.776728196949699e-07, 'lambda_l2': 1.0790237065789294, 'min_child_samples': 32, 'max_depth': 9, 'max_bin': 459, 'min_data_in_leaf': 45, 'extra_trees': False, 'early_stopping_rounds': 27, 'path_smooth': 0.8180147659224931, 'min_gain_to_split': 0.4303652916281717}\n"
     ]
    },
    {
     "name": "stderr",
     "output_type": "stream",
     "text": [
      "[I 2025-07-05 12:05:40,390] Trial 19 finished with value: 783.7873679363437 and parameters: {'num_leaves': 99, 'learning_rate': 0.08641148551188793, 'feature_fraction': 0.9405278000235617, 'bagging_fraction': 0.966150963007428, 'bagging_freq': 8, 'lambda_l1': 1.020155732268282e-08, 'lambda_l2': 6.1815752406034745, 'min_child_samples': 50, 'max_depth': 5, 'max_bin': 407, 'min_data_in_leaf': 20, 'extra_trees': True, 'early_stopping_rounds': 17, 'path_smooth': 0.4448660691865179, 'min_gain_to_split': 0.320574167909676}. Best is trial 7 with value: 23.690437334931165.\n"
     ]
    },
    {
     "name": "stdout",
     "output_type": "stream",
     "text": [
      "Mejor trial hasta ahora: RMSE=23.690437, Parámetros={'num_leaves': 94, 'learning_rate': 0.156203869845265, 'feature_fraction': 0.8533615026041694, 'bagging_fraction': 0.9614381770563153, 'bagging_freq': 9, 'lambda_l1': 4.776728196949699e-07, 'lambda_l2': 1.0790237065789294, 'min_child_samples': 32, 'max_depth': 9, 'max_bin': 459, 'min_data_in_leaf': 45, 'extra_trees': False, 'early_stopping_rounds': 27, 'path_smooth': 0.8180147659224931, 'min_gain_to_split': 0.4303652916281717}\n"
     ]
    },
    {
     "name": "stderr",
     "output_type": "stream",
     "text": [
      "[I 2025-07-05 12:09:54,610] Trial 20 finished with value: 325.056827194063 and parameters: {'num_leaves': 30, 'learning_rate': 0.27695181472908825, 'feature_fraction': 0.7870075896462443, 'bagging_fraction': 0.9124714230256978, 'bagging_freq': 3, 'lambda_l1': 4.7085484185731894e-07, 'lambda_l2': 1.274818793866283e-07, 'min_child_samples': 10, 'max_depth': 7, 'max_bin': 461, 'min_data_in_leaf': 64, 'extra_trees': True, 'early_stopping_rounds': 50, 'path_smooth': 0.01478120517468584, 'min_gain_to_split': 0.20721559622698366}. Best is trial 7 with value: 23.690437334931165.\n"
     ]
    },
    {
     "name": "stdout",
     "output_type": "stream",
     "text": [
      "Mejor trial hasta ahora: RMSE=23.690437, Parámetros={'num_leaves': 94, 'learning_rate': 0.156203869845265, 'feature_fraction': 0.8533615026041694, 'bagging_fraction': 0.9614381770563153, 'bagging_freq': 9, 'lambda_l1': 4.776728196949699e-07, 'lambda_l2': 1.0790237065789294, 'min_child_samples': 32, 'max_depth': 9, 'max_bin': 459, 'min_data_in_leaf': 45, 'extra_trees': False, 'early_stopping_rounds': 27, 'path_smooth': 0.8180147659224931, 'min_gain_to_split': 0.4303652916281717}\n"
     ]
    },
    {
     "name": "stderr",
     "output_type": "stream",
     "text": [
      "[I 2025-07-05 12:14:45,465] Trial 21 finished with value: 45.30830653500514 and parameters: {'num_leaves': 81, 'learning_rate': 0.2800708641106189, 'feature_fraction': 0.9137297806001223, 'bagging_fraction': 0.8498901197745152, 'bagging_freq': 8, 'lambda_l1': 6.222247264455146e-08, 'lambda_l2': 1.0636605953302615e-08, 'min_child_samples': 50, 'max_depth': 8, 'max_bin': 496, 'min_data_in_leaf': 42, 'extra_trees': True, 'early_stopping_rounds': 27, 'path_smooth': 0.16173608671122056, 'min_gain_to_split': 0.49937823147175053}. Best is trial 7 with value: 23.690437334931165.\n"
     ]
    },
    {
     "name": "stdout",
     "output_type": "stream",
     "text": [
      "Mejor trial hasta ahora: RMSE=23.690437, Parámetros={'num_leaves': 94, 'learning_rate': 0.156203869845265, 'feature_fraction': 0.8533615026041694, 'bagging_fraction': 0.9614381770563153, 'bagging_freq': 9, 'lambda_l1': 4.776728196949699e-07, 'lambda_l2': 1.0790237065789294, 'min_child_samples': 32, 'max_depth': 9, 'max_bin': 459, 'min_data_in_leaf': 45, 'extra_trees': False, 'early_stopping_rounds': 27, 'path_smooth': 0.8180147659224931, 'min_gain_to_split': 0.4303652916281717}\n"
     ]
    },
    {
     "name": "stderr",
     "output_type": "stream",
     "text": [
      "[I 2025-07-05 12:21:02,841] Trial 22 finished with value: 116.46086897485577 and parameters: {'num_leaves': 87, 'learning_rate': 0.18545119947871933, 'feature_fraction': 0.8671818675015122, 'bagging_fraction': 0.8726182101432829, 'bagging_freq': 9, 'lambda_l1': 7.672709160593344e-08, 'lambda_l2': 1.2822835644335922e-07, 'min_child_samples': 46, 'max_depth': 8, 'max_bin': 491, 'min_data_in_leaf': 30, 'extra_trees': True, 'early_stopping_rounds': 27, 'path_smooth': 0.1724297152314208, 'min_gain_to_split': 0.45061727320671363}. Best is trial 7 with value: 23.690437334931165.\n"
     ]
    },
    {
     "name": "stdout",
     "output_type": "stream",
     "text": [
      "Mejor trial hasta ahora: RMSE=23.690437, Parámetros={'num_leaves': 94, 'learning_rate': 0.156203869845265, 'feature_fraction': 0.8533615026041694, 'bagging_fraction': 0.9614381770563153, 'bagging_freq': 9, 'lambda_l1': 4.776728196949699e-07, 'lambda_l2': 1.0790237065789294, 'min_child_samples': 32, 'max_depth': 9, 'max_bin': 459, 'min_data_in_leaf': 45, 'extra_trees': False, 'early_stopping_rounds': 27, 'path_smooth': 0.8180147659224931, 'min_gain_to_split': 0.4303652916281717}\n"
     ]
    },
    {
     "name": "stderr",
     "output_type": "stream",
     "text": [
      "[I 2025-07-05 12:27:04,511] Trial 23 finished with value: 74.36183365236836 and parameters: {'num_leaves': 83, 'learning_rate': 0.2919505189195406, 'feature_fraction': 0.9144917526190501, 'bagging_fraction': 0.826752896569488, 'bagging_freq': 8, 'lambda_l1': 1.8330210432421913e-06, 'lambda_l2': 4.0428230960960376e-07, 'min_child_samples': 39, 'max_depth': 9, 'max_bin': 393, 'min_data_in_leaf': 54, 'extra_trees': True, 'early_stopping_rounds': 36, 'path_smooth': 0.18487092956980355, 'min_gain_to_split': 0.4364833350247777}. Best is trial 7 with value: 23.690437334931165.\n"
     ]
    },
    {
     "name": "stdout",
     "output_type": "stream",
     "text": [
      "Mejor trial hasta ahora: RMSE=23.690437, Parámetros={'num_leaves': 94, 'learning_rate': 0.156203869845265, 'feature_fraction': 0.8533615026041694, 'bagging_fraction': 0.9614381770563153, 'bagging_freq': 9, 'lambda_l1': 4.776728196949699e-07, 'lambda_l2': 1.0790237065789294, 'min_child_samples': 32, 'max_depth': 9, 'max_bin': 459, 'min_data_in_leaf': 45, 'extra_trees': False, 'early_stopping_rounds': 27, 'path_smooth': 0.8180147659224931, 'min_gain_to_split': 0.4303652916281717}\n"
     ]
    },
    {
     "name": "stderr",
     "output_type": "stream",
     "text": [
      "[I 2025-07-05 12:33:50,372] Trial 24 finished with value: 47.90270289216812 and parameters: {'num_leaves': 93, 'learning_rate': 0.2087511543581648, 'feature_fraction': 0.975256060400439, 'bagging_fraction': 0.8305014798202526, 'bagging_freq': 9, 'lambda_l1': 2.244591103786046e-07, 'lambda_l2': 2.2452869495924043e-08, 'min_child_samples': 47, 'max_depth': 10, 'max_bin': 458, 'min_data_in_leaf': 46, 'extra_trees': True, 'early_stopping_rounds': 41, 'path_smooth': 0.3653599236797689, 'min_gain_to_split': 0.40446788762687114}. Best is trial 7 with value: 23.690437334931165.\n"
     ]
    },
    {
     "name": "stdout",
     "output_type": "stream",
     "text": [
      "Mejor trial hasta ahora: RMSE=23.690437, Parámetros={'num_leaves': 94, 'learning_rate': 0.156203869845265, 'feature_fraction': 0.8533615026041694, 'bagging_fraction': 0.9614381770563153, 'bagging_freq': 9, 'lambda_l1': 4.776728196949699e-07, 'lambda_l2': 1.0790237065789294, 'min_child_samples': 32, 'max_depth': 9, 'max_bin': 459, 'min_data_in_leaf': 45, 'extra_trees': False, 'early_stopping_rounds': 27, 'path_smooth': 0.8180147659224931, 'min_gain_to_split': 0.4303652916281717}\n"
     ]
    },
    {
     "name": "stderr",
     "output_type": "stream",
     "text": [
      "[I 2025-07-05 12:41:15,821] Trial 25 finished with value: 49.24820547076514 and parameters: {'num_leaves': 94, 'learning_rate': 0.11777044730344836, 'feature_fraction': 0.9657779127740821, 'bagging_fraction': 0.8188400459203229, 'bagging_freq': 9, 'lambda_l1': 4.014447999501781e-05, 'lambda_l2': 1.713482889508348e-05, 'min_child_samples': 48, 'max_depth': 10, 'max_bin': 460, 'min_data_in_leaf': 45, 'extra_trees': True, 'early_stopping_rounds': 40, 'path_smooth': 0.41036922644443014, 'min_gain_to_split': 0.40334472418034417}. Best is trial 7 with value: 23.690437334931165.\n"
     ]
    },
    {
     "name": "stdout",
     "output_type": "stream",
     "text": [
      "Mejor trial hasta ahora: RMSE=23.690437, Parámetros={'num_leaves': 94, 'learning_rate': 0.156203869845265, 'feature_fraction': 0.8533615026041694, 'bagging_fraction': 0.9614381770563153, 'bagging_freq': 9, 'lambda_l1': 4.776728196949699e-07, 'lambda_l2': 1.0790237065789294, 'min_child_samples': 32, 'max_depth': 9, 'max_bin': 459, 'min_data_in_leaf': 45, 'extra_trees': False, 'early_stopping_rounds': 27, 'path_smooth': 0.8180147659224931, 'min_gain_to_split': 0.4303652916281717}\n",
      "Estudio guardado en: sqlite:///optuna_studies_v18.db\n",
      "\n",
      "Mejores hiperparámetros encontrados:\n",
      "num_leaves: 94\n",
      "learning_rate: 0.156203869845265\n",
      "feature_fraction: 0.8533615026041694\n",
      "bagging_fraction: 0.9614381770563153\n",
      "bagging_freq: 9\n",
      "lambda_l1: 4.776728196949699e-07\n",
      "lambda_l2: 1.0790237065789294\n",
      "min_child_samples: 32\n",
      "max_depth: 9\n",
      "max_bin: 459\n",
      "min_data_in_leaf: 45\n",
      "extra_trees: False\n",
      "early_stopping_rounds: 27\n",
      "path_smooth: 0.8180147659224931\n",
      "min_gain_to_split: 0.4303652916281717\n"
     ]
    },
    {
     "data": {
      "text/plain": [
       "(<optuna.study.study.Study at 0x1e6048d9890>,\n",
       " {'num_leaves': 94,\n",
       "  'learning_rate': 0.156203869845265,\n",
       "  'feature_fraction': 0.8533615026041694,\n",
       "  'bagging_fraction': 0.9614381770563153,\n",
       "  'bagging_freq': 9,\n",
       "  'lambda_l1': 4.776728196949699e-07,\n",
       "  'lambda_l2': 1.0790237065789294,\n",
       "  'min_child_samples': 32,\n",
       "  'max_depth': 9,\n",
       "  'max_bin': 459,\n",
       "  'min_data_in_leaf': 45,\n",
       "  'extra_trees': False,\n",
       "  'early_stopping_rounds': 27,\n",
       "  'path_smooth': 0.8180147659224931,\n",
       "  'min_gain_to_split': 0.4303652916281717,\n",
       "  'objective': 'regression',\n",
       "  'metric': 'rmse',\n",
       "  'boosting_type': 'gbdt',\n",
       "  'verbosity': -1})"
      ]
     },
     "execution_count": 16,
     "metadata": {},
     "output_type": "execute_result"
    }
   ],
   "source": [
    "model_lgb.optimizar_con_optuna_con_semillerio_db(train, version=\"v18\", n_trials=500, pesos=\"max\")"
   ]
  },
  {
   "cell_type": "markdown",
   "id": "99697cdb",
   "metadata": {},
   "source": [
    "Prediccion"
   ]
  },
  {
   "cell_type": "code",
   "execution_count": 18,
   "id": "2cff69ee",
   "metadata": {},
   "outputs": [],
   "source": [
    "df_future = model_lgb.semillerio_en_prediccion_con_pesos(train, test, version=\"v18\", pesos=\"max\")"
   ]
  },
  {
   "cell_type": "code",
   "execution_count": 19,
   "id": "793edd1d",
   "metadata": {},
   "outputs": [
    {
     "data": {
      "application/vnd.microsoft.datawrangler.viewer.v0+json": {
       "columns": [
        {
         "name": "index",
         "rawType": "int64",
         "type": "integer"
        },
        {
         "name": "periodo",
         "rawType": "int64",
         "type": "integer"
        },
        {
         "name": "product_id",
         "rawType": "int64",
         "type": "integer"
        },
        {
         "name": "target",
         "rawType": "float64",
         "type": "float"
        },
        {
         "name": "pred",
         "rawType": "float64",
         "type": "float"
        }
       ],
       "ref": "f34673a1-a182-4e4b-ab3a-4b52074467df",
       "rows": [
        [
         "30476",
         "201912",
         "20001",
         "0.0",
         "813.458404707581"
        ],
        [
         "30477",
         "201912",
         "20002",
         "0.0",
         "368.5416204957569"
        ],
        [
         "30478",
         "201912",
         "20003",
         "0.0",
         "68.68295010615846"
        ],
        [
         "30479",
         "201912",
         "20004",
         "0.0",
         "-19.712523618751543"
        ],
        [
         "30480",
         "201912",
         "20005",
         "0.0",
         "94.84686008276913"
        ],
        [
         "30481",
         "201912",
         "20006",
         "0.0",
         "-20.043549334872182"
        ],
        [
         "30482",
         "201912",
         "20007",
         "0.0",
         "-47.520696399966546"
        ],
        [
         "30483",
         "201912",
         "20008",
         "0.0",
         "-34.54391470055318"
        ],
        [
         "30484",
         "201912",
         "20009",
         "0.0",
         "-0.037304939869124844"
        ],
        [
         "30485",
         "201912",
         "20010",
         "0.0",
         "-39.163636608029044"
        ],
        [
         "30486",
         "201912",
         "20011",
         "0.0",
         "-23.302076443081393"
        ],
        [
         "30487",
         "201912",
         "20012",
         "0.0",
         "-43.915246715421034"
        ],
        [
         "30488",
         "201912",
         "20013",
         "0.0",
         "-36.081398074985955"
        ],
        [
         "30489",
         "201912",
         "20014",
         "0.0",
         "-1.2622110308285657"
        ],
        [
         "30490",
         "201912",
         "20015",
         "0.0",
         "-66.65204003051899"
        ],
        [
         "30491",
         "201912",
         "20016",
         "0.0",
         "-2.0577548964363763"
        ],
        [
         "30492",
         "201912",
         "20017",
         "0.0",
         "-13.163626338646296"
        ],
        [
         "30493",
         "201912",
         "20018",
         "0.0",
         "-39.23908766858371"
        ],
        [
         "30494",
         "201912",
         "20019",
         "0.0",
         "-113.95550984867059"
        ],
        [
         "30495",
         "201912",
         "20020",
         "0.0",
         "-27.56126357001167"
        ],
        [
         "30496",
         "201912",
         "20021",
         "0.0",
         "-37.964183144877346"
        ],
        [
         "30497",
         "201912",
         "20022",
         "0.0",
         "-18.748482836192643"
        ],
        [
         "30498",
         "201912",
         "20023",
         "0.0",
         "-86.27754576400135"
        ],
        [
         "30499",
         "201912",
         "20024",
         "0.0",
         "-14.804202507493319"
        ],
        [
         "30500",
         "201912",
         "20025",
         "0.0",
         "4.044903232404755"
        ],
        [
         "30501",
         "201912",
         "20026",
         "0.0",
         "-29.860737892118284"
        ],
        [
         "30502",
         "201912",
         "20027",
         "0.0",
         "-5.192341522450403"
        ],
        [
         "30503",
         "201912",
         "20028",
         "0.0",
         "-31.262954887823696"
        ],
        [
         "30504",
         "201912",
         "20029",
         "0.0",
         "4.550238258305431"
        ],
        [
         "30505",
         "201912",
         "20030",
         "0.0",
         "12.78965679029461"
        ],
        [
         "30506",
         "201912",
         "20031",
         "0.0",
         "-28.072066212217248"
        ],
        [
         "30507",
         "201912",
         "20032",
         "0.0",
         "173.05751009477692"
        ],
        [
         "30508",
         "201912",
         "20033",
         "0.0",
         "-3.479152294697163"
        ],
        [
         "30509",
         "201912",
         "20035",
         "0.0",
         "-7.605863233643328"
        ],
        [
         "30510",
         "201912",
         "20037",
         "0.0",
         "5.485479382281982"
        ],
        [
         "30511",
         "201912",
         "20038",
         "0.0",
         "7.809966918980026"
        ],
        [
         "30512",
         "201912",
         "20039",
         "0.0",
         "32.33568267506233"
        ],
        [
         "30513",
         "201912",
         "20041",
         "0.0",
         "-34.026419291447304"
        ],
        [
         "30514",
         "201912",
         "20042",
         "0.0",
         "24.747095795923496"
        ],
        [
         "30515",
         "201912",
         "20043",
         "0.0",
         "11.580730777923055"
        ],
        [
         "30516",
         "201912",
         "20044",
         "0.0",
         "-9.973308804316728"
        ],
        [
         "30517",
         "201912",
         "20045",
         "0.0",
         "9.264228188118537"
        ],
        [
         "30518",
         "201912",
         "20046",
         "0.0",
         "-12.48985176219268"
        ],
        [
         "30519",
         "201912",
         "20047",
         "0.0",
         "2.0058441837539784"
        ],
        [
         "30520",
         "201912",
         "20048",
         "0.0",
         "-7.454330031883226"
        ],
        [
         "30521",
         "201912",
         "20049",
         "0.0",
         "2.5963636947594475"
        ],
        [
         "30522",
         "201912",
         "20050",
         "0.0",
         "3.186817331907828"
        ],
        [
         "30523",
         "201912",
         "20051",
         "0.0",
         "-1.8484439833068222"
        ],
        [
         "30524",
         "201912",
         "20052",
         "0.0",
         "8.195760147730748"
        ],
        [
         "30525",
         "201912",
         "20053",
         "0.0",
         "2.0909931926448135"
        ]
       ],
       "shape": {
        "columns": 4,
        "rows": 886
       }
      },
      "text/html": [
       "<div>\n",
       "<style scoped>\n",
       "    .dataframe tbody tr th:only-of-type {\n",
       "        vertical-align: middle;\n",
       "    }\n",
       "\n",
       "    .dataframe tbody tr th {\n",
       "        vertical-align: top;\n",
       "    }\n",
       "\n",
       "    .dataframe thead th {\n",
       "        text-align: right;\n",
       "    }\n",
       "</style>\n",
       "<table border=\"1\" class=\"dataframe\">\n",
       "  <thead>\n",
       "    <tr style=\"text-align: right;\">\n",
       "      <th></th>\n",
       "      <th>periodo</th>\n",
       "      <th>product_id</th>\n",
       "      <th>target</th>\n",
       "      <th>pred</th>\n",
       "    </tr>\n",
       "  </thead>\n",
       "  <tbody>\n",
       "    <tr>\n",
       "      <th>30476</th>\n",
       "      <td>201912</td>\n",
       "      <td>20001</td>\n",
       "      <td>0.0</td>\n",
       "      <td>813.458405</td>\n",
       "    </tr>\n",
       "    <tr>\n",
       "      <th>30477</th>\n",
       "      <td>201912</td>\n",
       "      <td>20002</td>\n",
       "      <td>0.0</td>\n",
       "      <td>368.541620</td>\n",
       "    </tr>\n",
       "    <tr>\n",
       "      <th>30478</th>\n",
       "      <td>201912</td>\n",
       "      <td>20003</td>\n",
       "      <td>0.0</td>\n",
       "      <td>68.682950</td>\n",
       "    </tr>\n",
       "    <tr>\n",
       "      <th>30479</th>\n",
       "      <td>201912</td>\n",
       "      <td>20004</td>\n",
       "      <td>0.0</td>\n",
       "      <td>-19.712524</td>\n",
       "    </tr>\n",
       "    <tr>\n",
       "      <th>30480</th>\n",
       "      <td>201912</td>\n",
       "      <td>20005</td>\n",
       "      <td>0.0</td>\n",
       "      <td>94.846860</td>\n",
       "    </tr>\n",
       "    <tr>\n",
       "      <th>...</th>\n",
       "      <td>...</td>\n",
       "      <td>...</td>\n",
       "      <td>...</td>\n",
       "      <td>...</td>\n",
       "    </tr>\n",
       "    <tr>\n",
       "      <th>31357</th>\n",
       "      <td>201912</td>\n",
       "      <td>21265</td>\n",
       "      <td>0.0</td>\n",
       "      <td>-3.468574</td>\n",
       "    </tr>\n",
       "    <tr>\n",
       "      <th>31358</th>\n",
       "      <td>201912</td>\n",
       "      <td>21266</td>\n",
       "      <td>0.0</td>\n",
       "      <td>-4.426887</td>\n",
       "    </tr>\n",
       "    <tr>\n",
       "      <th>31359</th>\n",
       "      <td>201912</td>\n",
       "      <td>21267</td>\n",
       "      <td>0.0</td>\n",
       "      <td>-7.239316</td>\n",
       "    </tr>\n",
       "    <tr>\n",
       "      <th>31360</th>\n",
       "      <td>201912</td>\n",
       "      <td>21271</td>\n",
       "      <td>0.0</td>\n",
       "      <td>-6.789859</td>\n",
       "    </tr>\n",
       "    <tr>\n",
       "      <th>31361</th>\n",
       "      <td>201912</td>\n",
       "      <td>21276</td>\n",
       "      <td>0.0</td>\n",
       "      <td>4.211352</td>\n",
       "    </tr>\n",
       "  </tbody>\n",
       "</table>\n",
       "<p>886 rows × 4 columns</p>\n",
       "</div>"
      ],
      "text/plain": [
       "       periodo  product_id  target        pred\n",
       "30476   201912       20001     0.0  813.458405\n",
       "30477   201912       20002     0.0  368.541620\n",
       "30478   201912       20003     0.0   68.682950\n",
       "30479   201912       20004     0.0  -19.712524\n",
       "30480   201912       20005     0.0   94.846860\n",
       "...        ...         ...     ...         ...\n",
       "31357   201912       21265     0.0   -3.468574\n",
       "31358   201912       21266     0.0   -4.426887\n",
       "31359   201912       21267     0.0   -7.239316\n",
       "31360   201912       21271     0.0   -6.789859\n",
       "31361   201912       21276     0.0    4.211352\n",
       "\n",
       "[886 rows x 4 columns]"
      ]
     },
     "execution_count": 19,
     "metadata": {},
     "output_type": "execute_result"
    }
   ],
   "source": [
    "df_future"
   ]
  },
  {
   "cell_type": "markdown",
   "id": "593064b3",
   "metadata": {},
   "source": [
    "Filtramos los 180 productos"
   ]
  },
  {
   "cell_type": "code",
   "execution_count": 20,
   "id": "d0ab5e05",
   "metadata": {},
   "outputs": [],
   "source": [
    "productos_ok = pd.read_csv(\"https://storage.googleapis.com/open-courses/austral2025-af91/labo3v/product_id_apredecir201912.txt\", sep=\"\\t\")\n",
    "df_future = df_future[df_future['periodo'] == 201912]\n",
    "df_future = df_future[df_future['product_id'].isin(productos_ok['product_id'].unique())]\n"
   ]
  },
  {
   "cell_type": "code",
   "execution_count": 21,
   "id": "da03e91d",
   "metadata": {},
   "outputs": [
    {
     "data": {
      "application/vnd.microsoft.datawrangler.viewer.v0+json": {
       "columns": [
        {
         "name": "index",
         "rawType": "int64",
         "type": "integer"
        },
        {
         "name": "periodo",
         "rawType": "int64",
         "type": "integer"
        },
        {
         "name": "product_id",
         "rawType": "int64",
         "type": "integer"
        },
        {
         "name": "target",
         "rawType": "float64",
         "type": "float"
        },
        {
         "name": "pred",
         "rawType": "float64",
         "type": "float"
        }
       ],
       "ref": "9f0bbd3b-accc-4632-ae2a-fbb3c00f4f13",
       "rows": [
        [
         "30476",
         "201912",
         "20001",
         "0.0",
         "813.458404707581"
        ],
        [
         "30477",
         "201912",
         "20002",
         "0.0",
         "368.5416204957569"
        ],
        [
         "30478",
         "201912",
         "20003",
         "0.0",
         "68.68295010615846"
        ],
        [
         "30479",
         "201912",
         "20004",
         "0.0",
         "-19.712523618751543"
        ],
        [
         "30480",
         "201912",
         "20005",
         "0.0",
         "94.84686008276913"
        ],
        [
         "30481",
         "201912",
         "20006",
         "0.0",
         "-20.043549334872182"
        ],
        [
         "30482",
         "201912",
         "20007",
         "0.0",
         "-47.520696399966546"
        ],
        [
         "30483",
         "201912",
         "20008",
         "0.0",
         "-34.54391470055318"
        ],
        [
         "30484",
         "201912",
         "20009",
         "0.0",
         "-0.037304939869124844"
        ],
        [
         "30485",
         "201912",
         "20010",
         "0.0",
         "-39.163636608029044"
        ],
        [
         "30486",
         "201912",
         "20011",
         "0.0",
         "-23.302076443081393"
        ],
        [
         "30487",
         "201912",
         "20012",
         "0.0",
         "-43.915246715421034"
        ],
        [
         "30488",
         "201912",
         "20013",
         "0.0",
         "-36.081398074985955"
        ],
        [
         "30489",
         "201912",
         "20014",
         "0.0",
         "-1.2622110308285657"
        ],
        [
         "30490",
         "201912",
         "20015",
         "0.0",
         "-66.65204003051899"
        ],
        [
         "30491",
         "201912",
         "20016",
         "0.0",
         "-2.0577548964363763"
        ],
        [
         "30492",
         "201912",
         "20017",
         "0.0",
         "-13.163626338646296"
        ],
        [
         "30493",
         "201912",
         "20018",
         "0.0",
         "-39.23908766858371"
        ],
        [
         "30494",
         "201912",
         "20019",
         "0.0",
         "-113.95550984867059"
        ],
        [
         "30495",
         "201912",
         "20020",
         "0.0",
         "-27.56126357001167"
        ],
        [
         "30496",
         "201912",
         "20021",
         "0.0",
         "-37.964183144877346"
        ],
        [
         "30497",
         "201912",
         "20022",
         "0.0",
         "-18.748482836192643"
        ],
        [
         "30498",
         "201912",
         "20023",
         "0.0",
         "-86.27754576400135"
        ],
        [
         "30499",
         "201912",
         "20024",
         "0.0",
         "-14.804202507493319"
        ],
        [
         "30500",
         "201912",
         "20025",
         "0.0",
         "4.044903232404755"
        ],
        [
         "30501",
         "201912",
         "20026",
         "0.0",
         "-29.860737892118284"
        ],
        [
         "30502",
         "201912",
         "20027",
         "0.0",
         "-5.192341522450403"
        ],
        [
         "30503",
         "201912",
         "20028",
         "0.0",
         "-31.262954887823696"
        ],
        [
         "30504",
         "201912",
         "20029",
         "0.0",
         "4.550238258305431"
        ],
        [
         "30505",
         "201912",
         "20030",
         "0.0",
         "12.78965679029461"
        ],
        [
         "30506",
         "201912",
         "20031",
         "0.0",
         "-28.072066212217248"
        ],
        [
         "30507",
         "201912",
         "20032",
         "0.0",
         "173.05751009477692"
        ],
        [
         "30508",
         "201912",
         "20033",
         "0.0",
         "-3.479152294697163"
        ],
        [
         "30509",
         "201912",
         "20035",
         "0.0",
         "-7.605863233643328"
        ],
        [
         "30510",
         "201912",
         "20037",
         "0.0",
         "5.485479382281982"
        ],
        [
         "30511",
         "201912",
         "20038",
         "0.0",
         "7.809966918980026"
        ],
        [
         "30512",
         "201912",
         "20039",
         "0.0",
         "32.33568267506233"
        ],
        [
         "30513",
         "201912",
         "20041",
         "0.0",
         "-34.026419291447304"
        ],
        [
         "30514",
         "201912",
         "20042",
         "0.0",
         "24.747095795923496"
        ],
        [
         "30515",
         "201912",
         "20043",
         "0.0",
         "11.580730777923055"
        ],
        [
         "30516",
         "201912",
         "20044",
         "0.0",
         "-9.973308804316728"
        ],
        [
         "30517",
         "201912",
         "20045",
         "0.0",
         "9.264228188118537"
        ],
        [
         "30518",
         "201912",
         "20046",
         "0.0",
         "-12.48985176219268"
        ],
        [
         "30519",
         "201912",
         "20047",
         "0.0",
         "2.0058441837539784"
        ],
        [
         "30521",
         "201912",
         "20049",
         "0.0",
         "2.5963636947594475"
        ],
        [
         "30522",
         "201912",
         "20050",
         "0.0",
         "3.186817331907828"
        ],
        [
         "30523",
         "201912",
         "20051",
         "0.0",
         "-1.8484439833068222"
        ],
        [
         "30524",
         "201912",
         "20052",
         "0.0",
         "8.195760147730748"
        ],
        [
         "30525",
         "201912",
         "20053",
         "0.0",
         "2.0909931926448135"
        ],
        [
         "30526",
         "201912",
         "20054",
         "0.0",
         "-15.488348050475684"
        ]
       ],
       "shape": {
        "columns": 4,
        "rows": 780
       }
      },
      "text/html": [
       "<div>\n",
       "<style scoped>\n",
       "    .dataframe tbody tr th:only-of-type {\n",
       "        vertical-align: middle;\n",
       "    }\n",
       "\n",
       "    .dataframe tbody tr th {\n",
       "        vertical-align: top;\n",
       "    }\n",
       "\n",
       "    .dataframe thead th {\n",
       "        text-align: right;\n",
       "    }\n",
       "</style>\n",
       "<table border=\"1\" class=\"dataframe\">\n",
       "  <thead>\n",
       "    <tr style=\"text-align: right;\">\n",
       "      <th></th>\n",
       "      <th>periodo</th>\n",
       "      <th>product_id</th>\n",
       "      <th>target</th>\n",
       "      <th>pred</th>\n",
       "    </tr>\n",
       "  </thead>\n",
       "  <tbody>\n",
       "    <tr>\n",
       "      <th>30476</th>\n",
       "      <td>201912</td>\n",
       "      <td>20001</td>\n",
       "      <td>0.0</td>\n",
       "      <td>813.458405</td>\n",
       "    </tr>\n",
       "    <tr>\n",
       "      <th>30477</th>\n",
       "      <td>201912</td>\n",
       "      <td>20002</td>\n",
       "      <td>0.0</td>\n",
       "      <td>368.541620</td>\n",
       "    </tr>\n",
       "    <tr>\n",
       "      <th>30478</th>\n",
       "      <td>201912</td>\n",
       "      <td>20003</td>\n",
       "      <td>0.0</td>\n",
       "      <td>68.682950</td>\n",
       "    </tr>\n",
       "    <tr>\n",
       "      <th>30479</th>\n",
       "      <td>201912</td>\n",
       "      <td>20004</td>\n",
       "      <td>0.0</td>\n",
       "      <td>-19.712524</td>\n",
       "    </tr>\n",
       "    <tr>\n",
       "      <th>30480</th>\n",
       "      <td>201912</td>\n",
       "      <td>20005</td>\n",
       "      <td>0.0</td>\n",
       "      <td>94.846860</td>\n",
       "    </tr>\n",
       "    <tr>\n",
       "      <th>...</th>\n",
       "      <td>...</td>\n",
       "      <td>...</td>\n",
       "      <td>...</td>\n",
       "      <td>...</td>\n",
       "    </tr>\n",
       "    <tr>\n",
       "      <th>31355</th>\n",
       "      <td>201912</td>\n",
       "      <td>21263</td>\n",
       "      <td>0.0</td>\n",
       "      <td>0.067347</td>\n",
       "    </tr>\n",
       "    <tr>\n",
       "      <th>31357</th>\n",
       "      <td>201912</td>\n",
       "      <td>21265</td>\n",
       "      <td>0.0</td>\n",
       "      <td>-3.468574</td>\n",
       "    </tr>\n",
       "    <tr>\n",
       "      <th>31358</th>\n",
       "      <td>201912</td>\n",
       "      <td>21266</td>\n",
       "      <td>0.0</td>\n",
       "      <td>-4.426887</td>\n",
       "    </tr>\n",
       "    <tr>\n",
       "      <th>31359</th>\n",
       "      <td>201912</td>\n",
       "      <td>21267</td>\n",
       "      <td>0.0</td>\n",
       "      <td>-7.239316</td>\n",
       "    </tr>\n",
       "    <tr>\n",
       "      <th>31361</th>\n",
       "      <td>201912</td>\n",
       "      <td>21276</td>\n",
       "      <td>0.0</td>\n",
       "      <td>4.211352</td>\n",
       "    </tr>\n",
       "  </tbody>\n",
       "</table>\n",
       "<p>780 rows × 4 columns</p>\n",
       "</div>"
      ],
      "text/plain": [
       "       periodo  product_id  target        pred\n",
       "30476   201912       20001     0.0  813.458405\n",
       "30477   201912       20002     0.0  368.541620\n",
       "30478   201912       20003     0.0   68.682950\n",
       "30479   201912       20004     0.0  -19.712524\n",
       "30480   201912       20005     0.0   94.846860\n",
       "...        ...         ...     ...         ...\n",
       "31355   201912       21263     0.0    0.067347\n",
       "31357   201912       21265     0.0   -3.468574\n",
       "31358   201912       21266     0.0   -4.426887\n",
       "31359   201912       21267     0.0   -7.239316\n",
       "31361   201912       21276     0.0    4.211352\n",
       "\n",
       "[780 rows x 4 columns]"
      ]
     },
     "execution_count": 21,
     "metadata": {},
     "output_type": "execute_result"
    }
   ],
   "source": [
    "df_future"
   ]
  },
  {
   "cell_type": "markdown",
   "id": "1ab09e3f",
   "metadata": {},
   "source": [
    "Vemos cuantos negativos hay"
   ]
  },
  {
   "cell_type": "code",
   "execution_count": 22,
   "id": "780ad407",
   "metadata": {},
   "outputs": [
    {
     "data": {
      "application/vnd.microsoft.datawrangler.viewer.v0+json": {
       "columns": [
        {
         "name": "index",
         "rawType": "int64",
         "type": "integer"
        },
        {
         "name": "periodo",
         "rawType": "int64",
         "type": "integer"
        },
        {
         "name": "product_id",
         "rawType": "int64",
         "type": "integer"
        },
        {
         "name": "target",
         "rawType": "float64",
         "type": "float"
        },
        {
         "name": "pred",
         "rawType": "float64",
         "type": "float"
        }
       ],
       "ref": "dfe740eb-2a68-4b1d-b41d-45bf62ad5095",
       "rows": [
        [
         "30479",
         "201912",
         "20004",
         "0.0",
         "-19.712523618751543"
        ],
        [
         "30481",
         "201912",
         "20006",
         "0.0",
         "-20.043549334872182"
        ],
        [
         "30482",
         "201912",
         "20007",
         "0.0",
         "-47.520696399966546"
        ],
        [
         "30483",
         "201912",
         "20008",
         "0.0",
         "-34.54391470055318"
        ],
        [
         "30484",
         "201912",
         "20009",
         "0.0",
         "-0.037304939869124844"
        ],
        [
         "30485",
         "201912",
         "20010",
         "0.0",
         "-39.163636608029044"
        ],
        [
         "30486",
         "201912",
         "20011",
         "0.0",
         "-23.302076443081393"
        ],
        [
         "30487",
         "201912",
         "20012",
         "0.0",
         "-43.915246715421034"
        ],
        [
         "30488",
         "201912",
         "20013",
         "0.0",
         "-36.081398074985955"
        ],
        [
         "30489",
         "201912",
         "20014",
         "0.0",
         "-1.2622110308285657"
        ],
        [
         "30490",
         "201912",
         "20015",
         "0.0",
         "-66.65204003051899"
        ],
        [
         "30491",
         "201912",
         "20016",
         "0.0",
         "-2.0577548964363763"
        ],
        [
         "30492",
         "201912",
         "20017",
         "0.0",
         "-13.163626338646296"
        ],
        [
         "30493",
         "201912",
         "20018",
         "0.0",
         "-39.23908766858371"
        ],
        [
         "30494",
         "201912",
         "20019",
         "0.0",
         "-113.95550984867059"
        ],
        [
         "30495",
         "201912",
         "20020",
         "0.0",
         "-27.56126357001167"
        ],
        [
         "30496",
         "201912",
         "20021",
         "0.0",
         "-37.964183144877346"
        ],
        [
         "30497",
         "201912",
         "20022",
         "0.0",
         "-18.748482836192643"
        ],
        [
         "30498",
         "201912",
         "20023",
         "0.0",
         "-86.27754576400135"
        ],
        [
         "30499",
         "201912",
         "20024",
         "0.0",
         "-14.804202507493319"
        ],
        [
         "30501",
         "201912",
         "20026",
         "0.0",
         "-29.860737892118284"
        ],
        [
         "30502",
         "201912",
         "20027",
         "0.0",
         "-5.192341522450403"
        ],
        [
         "30503",
         "201912",
         "20028",
         "0.0",
         "-31.262954887823696"
        ],
        [
         "30506",
         "201912",
         "20031",
         "0.0",
         "-28.072066212217248"
        ],
        [
         "30508",
         "201912",
         "20033",
         "0.0",
         "-3.479152294697163"
        ],
        [
         "30509",
         "201912",
         "20035",
         "0.0",
         "-7.605863233643328"
        ],
        [
         "30513",
         "201912",
         "20041",
         "0.0",
         "-34.026419291447304"
        ],
        [
         "30516",
         "201912",
         "20044",
         "0.0",
         "-9.973308804316728"
        ],
        [
         "30518",
         "201912",
         "20046",
         "0.0",
         "-12.48985176219268"
        ],
        [
         "30523",
         "201912",
         "20051",
         "0.0",
         "-1.8484439833068222"
        ],
        [
         "30526",
         "201912",
         "20054",
         "0.0",
         "-15.488348050475684"
        ],
        [
         "30528",
         "201912",
         "20056",
         "0.0",
         "-15.83758795985247"
        ],
        [
         "30530",
         "201912",
         "20058",
         "0.0",
         "-24.279889244073715"
        ],
        [
         "30532",
         "201912",
         "20061",
         "0.0",
         "-2.8724291289432786"
        ],
        [
         "30539",
         "201912",
         "20069",
         "0.0",
         "-8.333034763066614"
        ],
        [
         "30543",
         "201912",
         "20073",
         "0.0",
         "-0.7926003253512596"
        ],
        [
         "30547",
         "201912",
         "20077",
         "0.0",
         "-1.779546060031927"
        ],
        [
         "30549",
         "201912",
         "20079",
         "0.0",
         "-6.025665149453062"
        ],
        [
         "30551",
         "201912",
         "20081",
         "0.0",
         "-1.0409968093752624"
        ],
        [
         "30553",
         "201912",
         "20084",
         "0.0",
         "-1.136333473434196"
        ],
        [
         "30554",
         "201912",
         "20085",
         "0.0",
         "-24.129058670277573"
        ],
        [
         "30555",
         "201912",
         "20086",
         "0.0",
         "-1.4203464120476532"
        ],
        [
         "30559",
         "201912",
         "20090",
         "0.0",
         "-0.4510284215902588"
        ],
        [
         "30560",
         "201912",
         "20091",
         "0.0",
         "-0.9239642566577555"
        ],
        [
         "30561",
         "201912",
         "20092",
         "0.0",
         "-1.984337826596852"
        ],
        [
         "30562",
         "201912",
         "20093",
         "0.0",
         "-20.04254322000175"
        ],
        [
         "30564",
         "201912",
         "20095",
         "0.0",
         "-0.732203488543097"
        ],
        [
         "30565",
         "201912",
         "20096",
         "0.0",
         "-7.100721684388104"
        ],
        [
         "30568",
         "201912",
         "20100",
         "0.0",
         "-15.657534661685673"
        ],
        [
         "30570",
         "201912",
         "20102",
         "0.0",
         "-7.348614547332232"
        ]
       ],
       "shape": {
        "columns": 4,
        "rows": 352
       }
      },
      "text/html": [
       "<div>\n",
       "<style scoped>\n",
       "    .dataframe tbody tr th:only-of-type {\n",
       "        vertical-align: middle;\n",
       "    }\n",
       "\n",
       "    .dataframe tbody tr th {\n",
       "        vertical-align: top;\n",
       "    }\n",
       "\n",
       "    .dataframe thead th {\n",
       "        text-align: right;\n",
       "    }\n",
       "</style>\n",
       "<table border=\"1\" class=\"dataframe\">\n",
       "  <thead>\n",
       "    <tr style=\"text-align: right;\">\n",
       "      <th></th>\n",
       "      <th>periodo</th>\n",
       "      <th>product_id</th>\n",
       "      <th>target</th>\n",
       "      <th>pred</th>\n",
       "    </tr>\n",
       "  </thead>\n",
       "  <tbody>\n",
       "    <tr>\n",
       "      <th>30479</th>\n",
       "      <td>201912</td>\n",
       "      <td>20004</td>\n",
       "      <td>0.0</td>\n",
       "      <td>-19.712524</td>\n",
       "    </tr>\n",
       "    <tr>\n",
       "      <th>30481</th>\n",
       "      <td>201912</td>\n",
       "      <td>20006</td>\n",
       "      <td>0.0</td>\n",
       "      <td>-20.043549</td>\n",
       "    </tr>\n",
       "    <tr>\n",
       "      <th>30482</th>\n",
       "      <td>201912</td>\n",
       "      <td>20007</td>\n",
       "      <td>0.0</td>\n",
       "      <td>-47.520696</td>\n",
       "    </tr>\n",
       "    <tr>\n",
       "      <th>30483</th>\n",
       "      <td>201912</td>\n",
       "      <td>20008</td>\n",
       "      <td>0.0</td>\n",
       "      <td>-34.543915</td>\n",
       "    </tr>\n",
       "    <tr>\n",
       "      <th>30484</th>\n",
       "      <td>201912</td>\n",
       "      <td>20009</td>\n",
       "      <td>0.0</td>\n",
       "      <td>-0.037305</td>\n",
       "    </tr>\n",
       "    <tr>\n",
       "      <th>...</th>\n",
       "      <td>...</td>\n",
       "      <td>...</td>\n",
       "      <td>...</td>\n",
       "      <td>...</td>\n",
       "    </tr>\n",
       "    <tr>\n",
       "      <th>31351</th>\n",
       "      <td>201912</td>\n",
       "      <td>21256</td>\n",
       "      <td>0.0</td>\n",
       "      <td>-5.154890</td>\n",
       "    </tr>\n",
       "    <tr>\n",
       "      <th>31354</th>\n",
       "      <td>201912</td>\n",
       "      <td>21262</td>\n",
       "      <td>0.0</td>\n",
       "      <td>-0.830648</td>\n",
       "    </tr>\n",
       "    <tr>\n",
       "      <th>31357</th>\n",
       "      <td>201912</td>\n",
       "      <td>21265</td>\n",
       "      <td>0.0</td>\n",
       "      <td>-3.468574</td>\n",
       "    </tr>\n",
       "    <tr>\n",
       "      <th>31358</th>\n",
       "      <td>201912</td>\n",
       "      <td>21266</td>\n",
       "      <td>0.0</td>\n",
       "      <td>-4.426887</td>\n",
       "    </tr>\n",
       "    <tr>\n",
       "      <th>31359</th>\n",
       "      <td>201912</td>\n",
       "      <td>21267</td>\n",
       "      <td>0.0</td>\n",
       "      <td>-7.239316</td>\n",
       "    </tr>\n",
       "  </tbody>\n",
       "</table>\n",
       "<p>352 rows × 4 columns</p>\n",
       "</div>"
      ],
      "text/plain": [
       "       periodo  product_id  target       pred\n",
       "30479   201912       20004     0.0 -19.712524\n",
       "30481   201912       20006     0.0 -20.043549\n",
       "30482   201912       20007     0.0 -47.520696\n",
       "30483   201912       20008     0.0 -34.543915\n",
       "30484   201912       20009     0.0  -0.037305\n",
       "...        ...         ...     ...        ...\n",
       "31351   201912       21256     0.0  -5.154890\n",
       "31354   201912       21262     0.0  -0.830648\n",
       "31357   201912       21265     0.0  -3.468574\n",
       "31358   201912       21266     0.0  -4.426887\n",
       "31359   201912       21267     0.0  -7.239316\n",
       "\n",
       "[352 rows x 4 columns]"
      ]
     },
     "execution_count": 22,
     "metadata": {},
     "output_type": "execute_result"
    }
   ],
   "source": [
    "df_future[df_future['pred'] < 0]"
   ]
  },
  {
   "cell_type": "markdown",
   "id": "066372ef",
   "metadata": {},
   "source": [
    "Reemplazamos los negativos por el promedio de ultimos 12 meses"
   ]
  },
  {
   "cell_type": "code",
   "execution_count": 23,
   "id": "8c6b9870",
   "metadata": {},
   "outputs": [
    {
     "data": {
      "application/vnd.microsoft.datawrangler.viewer.v0+json": {
       "columns": [
        {
         "name": "index",
         "rawType": "int64",
         "type": "integer"
        },
        {
         "name": "product_id",
         "rawType": "int64",
         "type": "integer"
        },
        {
         "name": "pred",
         "rawType": "float64",
         "type": "float"
        },
        {
         "name": "tn",
         "rawType": "float64",
         "type": "float"
        }
       ],
       "ref": "2f4c3643-b828-4c97-aee8-7740947b41f8",
       "rows": [
        [
         "0",
         "20001",
         "813.458404707581",
         "1454.73272"
        ],
        [
         "1",
         "20002",
         "368.5416204957569",
         "1175.4371416666665"
        ],
        [
         "2",
         "20003",
         "68.68295010615846",
         "784.9764074999999"
        ],
        [
         "3",
         "20004",
         "627.2153283333333",
         "627.2153283333333"
        ],
        [
         "4",
         "20005",
         "94.84686008276913",
         "668.2701041666667"
        ],
        [
         "5",
         "20006",
         "478.6137083333333",
         "478.6137083333333"
        ],
        [
         "6",
         "20007",
         "434.1378058333333",
         "434.1378058333333"
        ],
        [
         "7",
         "20008",
         "422.0481833333333",
         "422.0481833333333"
        ],
        [
         "8",
         "20009",
         "541.3225866666667",
         "541.3225866666667"
        ],
        [
         "9",
         "20010",
         "429.5746608333333",
         "429.5746608333333"
        ],
        [
         "10",
         "20011",
         "377.63544",
         "377.63544"
        ],
        [
         "11",
         "20012",
         "332.228885",
         "332.228885"
        ],
        [
         "12",
         "20013",
         "416.06292",
         "416.06292"
        ],
        [
         "13",
         "20014",
         "414.70520000000005",
         "414.70520000000005"
        ],
        [
         "14",
         "20015",
         "369.02365166666664",
         "369.02365166666664"
        ],
        [
         "15",
         "20016",
         "288.51459",
         "288.51459"
        ],
        [
         "16",
         "20017",
         "287.38575166666664",
         "287.38575166666664"
        ],
        [
         "17",
         "20018",
         "275.44511083333333",
         "275.44511083333333"
        ],
        [
         "18",
         "20019",
         "306.52162749999997",
         "306.52162749999997"
        ],
        [
         "19",
         "20020",
         "280.10235416666666",
         "280.10235416666666"
        ],
        [
         "20",
         "20021",
         "259.495665",
         "259.495665"
        ],
        [
         "21",
         "20022",
         "279.20400333333333",
         "279.20400333333333"
        ],
        [
         "22",
         "20023",
         "266.90118",
         "266.90118"
        ],
        [
         "23",
         "20024",
         "222.11553",
         "222.11553"
        ],
        [
         "24",
         "20025",
         "4.044903232404755",
         "222.86218499999998"
        ],
        [
         "25",
         "20026",
         "237.10623833333332",
         "237.10623833333332"
        ],
        [
         "26",
         "20027",
         "230.0149175",
         "230.0149175"
        ],
        [
         "27",
         "20028",
         "213.228015",
         "213.228015"
        ],
        [
         "28",
         "20029",
         "4.550238258305431",
         "185.16274833333333"
        ],
        [
         "29",
         "20030",
         "12.78965679029461",
         "127.85045000000001"
        ],
        [
         "30",
         "20031",
         "185.90788666666666",
         "185.90788666666666"
        ],
        [
         "31",
         "20032",
         "173.05751009477692",
         "590.33366"
        ],
        [
         "32",
         "20033",
         "176.0324475",
         "176.0324475"
        ],
        [
         "33",
         "20035",
         "172.19100333333333",
         "172.19100333333333"
        ],
        [
         "34",
         "20037",
         "5.485479382281982",
         "179.65005833333336"
        ],
        [
         "35",
         "20038",
         "7.809966918980026",
         "175.941565"
        ],
        [
         "36",
         "20039",
         "32.33568267506233",
         "144.37351750000002"
        ],
        [
         "37",
         "20041",
         "144.23799083333333",
         "144.23799083333333"
        ],
        [
         "38",
         "20042",
         "24.747095795923496",
         "174.63574083333333"
        ],
        [
         "39",
         "20043",
         "11.580730777923055",
         "137.17993833333333"
        ],
        [
         "40",
         "20044",
         "169.413755",
         "169.413755"
        ],
        [
         "41",
         "20045",
         "9.264228188118537",
         "154.42506916666667"
        ],
        [
         "42",
         "20046",
         "155.99976583333333",
         "155.99976583333333"
        ],
        [
         "43",
         "20047",
         "2.0058441837539784",
         "165.353965"
        ],
        [
         "44",
         "20049",
         "2.5963636947594475",
         "203.98650999999998"
        ],
        [
         "45",
         "20050",
         "3.186817331907828",
         "131.337005"
        ],
        [
         "46",
         "20051",
         "150.87717916666668",
         "150.87717916666668"
        ],
        [
         "47",
         "20052",
         "8.195760147730748",
         "119.09683416666667"
        ],
        [
         "48",
         "20053",
         "2.0909931926448135",
         "146.06558583333333"
        ],
        [
         "49",
         "20054",
         "137.87184249999999",
         "137.87184249999999"
        ]
       ],
       "shape": {
        "columns": 3,
        "rows": 780
       }
      },
      "text/html": [
       "<div>\n",
       "<style scoped>\n",
       "    .dataframe tbody tr th:only-of-type {\n",
       "        vertical-align: middle;\n",
       "    }\n",
       "\n",
       "    .dataframe tbody tr th {\n",
       "        vertical-align: top;\n",
       "    }\n",
       "\n",
       "    .dataframe thead th {\n",
       "        text-align: right;\n",
       "    }\n",
       "</style>\n",
       "<table border=\"1\" class=\"dataframe\">\n",
       "  <thead>\n",
       "    <tr style=\"text-align: right;\">\n",
       "      <th></th>\n",
       "      <th>product_id</th>\n",
       "      <th>pred</th>\n",
       "      <th>tn</th>\n",
       "    </tr>\n",
       "  </thead>\n",
       "  <tbody>\n",
       "    <tr>\n",
       "      <th>0</th>\n",
       "      <td>20001</td>\n",
       "      <td>813.458405</td>\n",
       "      <td>1454.732720</td>\n",
       "    </tr>\n",
       "    <tr>\n",
       "      <th>1</th>\n",
       "      <td>20002</td>\n",
       "      <td>368.541620</td>\n",
       "      <td>1175.437142</td>\n",
       "    </tr>\n",
       "    <tr>\n",
       "      <th>2</th>\n",
       "      <td>20003</td>\n",
       "      <td>68.682950</td>\n",
       "      <td>784.976407</td>\n",
       "    </tr>\n",
       "    <tr>\n",
       "      <th>3</th>\n",
       "      <td>20004</td>\n",
       "      <td>627.215328</td>\n",
       "      <td>627.215328</td>\n",
       "    </tr>\n",
       "    <tr>\n",
       "      <th>4</th>\n",
       "      <td>20005</td>\n",
       "      <td>94.846860</td>\n",
       "      <td>668.270104</td>\n",
       "    </tr>\n",
       "    <tr>\n",
       "      <th>...</th>\n",
       "      <td>...</td>\n",
       "      <td>...</td>\n",
       "      <td>...</td>\n",
       "    </tr>\n",
       "    <tr>\n",
       "      <th>775</th>\n",
       "      <td>21263</td>\n",
       "      <td>0.067347</td>\n",
       "      <td>0.029993</td>\n",
       "    </tr>\n",
       "    <tr>\n",
       "      <th>776</th>\n",
       "      <td>21265</td>\n",
       "      <td>0.089541</td>\n",
       "      <td>0.089541</td>\n",
       "    </tr>\n",
       "    <tr>\n",
       "      <th>777</th>\n",
       "      <td>21266</td>\n",
       "      <td>0.094659</td>\n",
       "      <td>0.094659</td>\n",
       "    </tr>\n",
       "    <tr>\n",
       "      <th>778</th>\n",
       "      <td>21267</td>\n",
       "      <td>0.092835</td>\n",
       "      <td>0.092835</td>\n",
       "    </tr>\n",
       "    <tr>\n",
       "      <th>779</th>\n",
       "      <td>21276</td>\n",
       "      <td>4.211352</td>\n",
       "      <td>0.045447</td>\n",
       "    </tr>\n",
       "  </tbody>\n",
       "</table>\n",
       "<p>780 rows × 3 columns</p>\n",
       "</div>"
      ],
      "text/plain": [
       "     product_id        pred           tn\n",
       "0         20001  813.458405  1454.732720\n",
       "1         20002  368.541620  1175.437142\n",
       "2         20003   68.682950   784.976407\n",
       "3         20004  627.215328   627.215328\n",
       "4         20005   94.846860   668.270104\n",
       "..          ...         ...          ...\n",
       "775       21263    0.067347     0.029993\n",
       "776       21265    0.089541     0.089541\n",
       "777       21266    0.094659     0.094659\n",
       "778       21267    0.092835     0.092835\n",
       "779       21276    4.211352     0.045447\n",
       "\n",
       "[780 rows x 3 columns]"
      ]
     },
     "execution_count": 23,
     "metadata": {},
     "output_type": "execute_result"
    }
   ],
   "source": [
    "promedio780 = model_lgb.promedio_12_meses_780p()\n",
    "df_future = df_future.merge(promedio780, on='product_id', how='left')\n",
    "df_future.drop(columns=['target','periodo'], inplace=True)\n",
    "df_future.loc[df_future['pred'] < 0, 'pred'] = df_future['tn']\n",
    "df_future\n",
    "\n"
   ]
  },
  {
   "cell_type": "markdown",
   "id": "dda8de6a",
   "metadata": {},
   "source": [
    "Guardamos el archivo"
   ]
  },
  {
   "cell_type": "code",
   "execution_count": 24,
   "id": "d2cddb61",
   "metadata": {},
   "outputs": [],
   "source": [
    "df_future.drop(columns=['tn'], inplace=True)\n",
    "df_future.rename(columns={'pred': 'tn'}, inplace=True)\n",
    "df_future.to_csv(\"./outputs/predicciones_exp_07_lgb_v5.csv\", index=False, sep=',')"
   ]
  }
 ],
 "metadata": {
  "kernelspec": {
   "display_name": "py311lab3",
   "language": "python",
   "name": "python3"
  },
  "language_info": {
   "codemirror_mode": {
    "name": "ipython",
    "version": 3
   },
   "file_extension": ".py",
   "mimetype": "text/x-python",
   "name": "python",
   "nbconvert_exporter": "python",
   "pygments_lexer": "ipython3",
   "version": "3.11.13"
  }
 },
 "nbformat": 4,
 "nbformat_minor": 5
}
