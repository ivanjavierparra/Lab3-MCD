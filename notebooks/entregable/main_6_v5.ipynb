{
 "cells": [
  {
   "cell_type": "code",
   "execution_count": 3,
   "id": "dbae8eac",
   "metadata": {},
   "outputs": [
    {
     "name": "stderr",
     "output_type": "stream",
     "text": [
      "Importing plotly failed. Interactive plots will not work.\n",
      "Importing plotly failed. Interactive plots will not work.\n"
     ]
    }
   ],
   "source": [
    "import pandas as pd\n",
    "import numpy as np\n",
    "import importlib\n",
    "import gc\n",
    "import sys\n",
    "import warnings\n",
    "import numpy as np\n",
    "import pandas as pd\n",
    "from autogluon.timeseries import TimeSeriesPredictor, TimeSeriesDataFrame\n",
    "from autogluon.common import space\n",
    "from sklearn.metrics import mean_absolute_error\n",
    "from typing import List, Dict\n",
    "from sklearn.preprocessing import LabelEncoder\n",
    "from sklearn.feature_selection import mutual_info_regression\n",
    "import numpy as np\n",
    "sys.path.append('./scripts')  \n",
    "import preprocesamiento\n",
    "import feature_engineering\n",
    "import model_autogluon\n",
    "importlib.reload(preprocesamiento)\n",
    "importlib.reload(model_autogluon)\n",
    "importlib.reload(feature_engineering)\n",
    "warnings.filterwarnings(\"ignore\")"
   ]
  },
  {
   "cell_type": "markdown",
   "id": "14763c97",
   "metadata": {},
   "source": [
    "# Experimento 6: \n",
    "- Autogluon: FE automatizado\n",
    "   \n",
    "\n",
    "- Target: mes+2\n",
    "\n",
    "\n",
    "- Kaggle =  0.336\n"
   ]
  },
  {
   "cell_type": "code",
   "execution_count": 9,
   "id": "98fea3c5",
   "metadata": {},
   "outputs": [
    {
     "data": {
      "application/vnd.microsoft.datawrangler.viewer.v0+json": {
       "columns": [
        {
         "name": "index",
         "rawType": "object",
         "type": "string"
        },
        {
         "name": "0",
         "rawType": "int64",
         "type": "integer"
        }
       ],
       "ref": "3d422239-9a48-4be2-8ff7-3d13c2a8a537",
       "rows": [
        [
         "product_id",
         "0"
        ],
        [
         "periodo",
         "0"
        ],
        [
         "nacimiento_producto",
         "0"
        ],
        [
         "muerte_producto",
         "0"
        ],
        [
         "mes_n",
         "0"
        ],
        [
         "total_meses",
         "0"
        ],
        [
         "producto_nuevo",
         "0"
        ],
        [
         "ciclo_de_vida_inicial",
         "0"
        ],
        [
         "cat1_x",
         "254"
        ],
        [
         "cat2_x",
         "254"
        ],
        [
         "cat3_x",
         "254"
        ],
        [
         "brand_x",
         "254"
        ],
        [
         "sku_size_x",
         "254"
        ],
        [
         "stock_final",
         "17782"
        ],
        [
         "tn",
         "0"
        ],
        [
         "plan_precios_cuidados",
         "272"
        ],
        [
         "cust_request_qty",
         "272"
        ],
        [
         "cust_request_tn",
         "272"
        ],
        [
         "target",
         "538"
        ],
        [
         "cat1_y",
         "254"
        ],
        [
         "cat2_y",
         "254"
        ],
        [
         "cat3_y",
         "254"
        ],
        [
         "brand_y",
         "254"
        ],
        [
         "sku_size_y",
         "254"
        ]
       ],
       "shape": {
        "columns": 1,
        "rows": 24
       }
      },
      "text/plain": [
       "product_id                   0\n",
       "periodo                      0\n",
       "nacimiento_producto          0\n",
       "muerte_producto              0\n",
       "mes_n                        0\n",
       "total_meses                  0\n",
       "producto_nuevo               0\n",
       "ciclo_de_vida_inicial        0\n",
       "cat1_x                     254\n",
       "cat2_x                     254\n",
       "cat3_x                     254\n",
       "brand_x                    254\n",
       "sku_size_x                 254\n",
       "stock_final              17782\n",
       "tn                           0\n",
       "plan_precios_cuidados      272\n",
       "cust_request_qty           272\n",
       "cust_request_tn            272\n",
       "target                     538\n",
       "cat1_y                     254\n",
       "cat2_y                     254\n",
       "cat3_y                     254\n",
       "brand_y                    254\n",
       "sku_size_y                 254\n",
       "dtype: int64"
      ]
     },
     "execution_count": 9,
     "metadata": {},
     "output_type": "execute_result"
    }
   ],
   "source": [
    "df = pd.read_csv(\"./datasets/periodo_x_producto_con_target.csv\", sep=',', encoding='utf-8')\n",
    "productos = pd.read_csv(\"../../data/raw/tb_productos.csv\", sep='\\t')\n",
    "productos = productos.drop_duplicates(subset=['product_id'], keep='first')\n",
    "df = df.merge(productos, on='product_id', how='left')\n",
    "df = df[df['periodo']<201911]\n",
    "df.isna().sum()"
   ]
  },
  {
   "cell_type": "code",
   "execution_count": null,
   "id": "737e84e2",
   "metadata": {},
   "outputs": [
    {
     "data": {
      "text/plain": [
       "(31362, 20)"
      ]
     },
     "execution_count": 5,
     "metadata": {},
     "output_type": "execute_result"
    }
   ],
   "source": [
    "df = pd.read_csv(\"./datasets/periodo_x_producto_con_target.csv\", sep=',', encoding='utf-8')\n",
    "\n",
    "df = feature_engineering.get_dolar(df)\n",
    "df.shape"
   ]
  },
  {
   "cell_type": "code",
   "execution_count": 11,
   "id": "ab761cfb",
   "metadata": {},
   "outputs": [],
   "source": [
    "df = pd.read_csv(\"./datasets/periodo_x_producto_con_target.csv\", sep=',', encoding='utf-8')\n",
    "dfg = df.groupby(['periodo', 'product_id']).agg({'target': 'sum'}).reset_index()\n",
    "dfg['timestamp'] = pd.to_datetime(dfg['periodo'].astype(str), format='%Y%m')\n",
    "dfg.rename(columns={'product_id': 'item_id'}, inplace=True)\n",
    "\n",
    "# Filtrar productos\n",
    "productos_ok = pd.read_csv('../../data/raw/product_id_apredecir201912.csv', sep=',')\n",
    "dfg = dfg[dfg['item_id'].isin(productos_ok['product_id'].unique())]\n",
    "\n",
    "# Convertir a TimeSeriesDataFrame\n",
    "data = TimeSeriesDataFrame.from_data_frame(\n",
    "    dfg,\n",
    "    id_column=\"item_id\",\n",
    "    timestamp_column=\"timestamp\"\n",
    ")"
   ]
  },
  {
   "cell_type": "code",
   "execution_count": 20,
   "id": "96676ed4",
   "metadata": {},
   "outputs": [
    {
     "name": "stderr",
     "output_type": "stream",
     "text": [
      "Frequency 'M' stored as 'ME'\n",
      "Beginning AutoGluon training... Time limit = 300s\n",
      "AutoGluon will save models to 'c:\\Users\\Usuario\\Documents\\Universidad\\austral\\2025\\Lab3\\Lab3-MCD\\notebooks\\entregable\\AutogluonModels\\ag-20250629_185412'\n",
      "=================== System Info ===================\n",
      "AutoGluon Version:  1.3.1\n",
      "Python Version:     3.11.13\n",
      "Operating System:   Windows\n",
      "Platform Machine:   AMD64\n",
      "Platform Version:   10.0.26100\n",
      "CPU Count:          4\n",
      "GPU Count:          0\n",
      "Memory Avail:       2.17 GB / 15.89 GB (13.7%)\n",
      "Disk Space Avail:   413.56 GB / 893.49 GB (46.3%)\n",
      "===================================================\n",
      "\n",
      "Fitting with arguments:\n",
      "{'enable_ensemble': True,\n",
      " 'eval_metric': MAPE,\n",
      " 'freq': 'ME',\n",
      " 'hyperparameters': 'default',\n",
      " 'known_covariates_names': [],\n",
      " 'num_val_windows': 5,\n",
      " 'prediction_length': 1,\n",
      " 'quantile_levels': [0.1, 0.2, 0.3, 0.4, 0.5, 0.6, 0.7, 0.8, 0.9],\n",
      " 'random_seed': 123,\n",
      " 'refit_every_n_windows': 1,\n",
      " 'refit_full': False,\n",
      " 'skip_model_selection': False,\n",
      " 'target': 'target',\n",
      " 'time_limit': 300,\n",
      " 'verbosity': 2}\n",
      "\n",
      "train_data with frequency 'IRREG' has been resampled to frequency 'ME'.\n",
      "Provided train_data has 25516 rows, 1101 time series. Median time series length is 31 (min=2, max=31). \n",
      "\tRemoving 167 short time series from train_data. Only series with length >= 10 will be used for training.\n",
      "\tAfter filtering, train_data has 24729 rows, 934 time series. Median time series length is 31 (min=10, max=31). \n",
      "\n",
      "Provided data contains following columns:\n",
      "\ttarget: 'target'\n",
      "\tpast_covariates:\n",
      "\t\tcategorical:        []\n",
      "\t\tcontinuous (float): ['lag_tn_1', 'lag_tn_2', 'lag_tn_3']\n",
      "\n",
      "To learn how to fix incorrectly inferred types, please see documentation for TimeSeriesPredictor.fit\n",
      "\n",
      "AutoGluon will gauge predictive performance using evaluation metric: 'MAPE'\n",
      "\tThis metric's sign has been flipped to adhere to being higher_is_better. The metric score can be multiplied by -1 to get the metric value.\n",
      "===================================================\n",
      "\n",
      "Starting training. Start time is 2025-06-29 15:54:21\n",
      "Models that will be trained: ['SeasonalNaive', 'RecursiveTabular', 'DirectTabular', 'NPTS', 'DynamicOptimizedTheta', 'AutoETS', 'ChronosZeroShot[bolt_base]', 'ChronosFineTuned[bolt_small]', 'TemporalFusionTransformer', 'DeepAR', 'PatchTST', 'TiDE']\n",
      "Training timeseries model SeasonalNaive. Training for up to 22.4s of the 291.3s of remaining time.\n",
      "\tTime limit exceeded... Skipping SeasonalNaive.\n",
      "Training timeseries model RecursiveTabular. Training for up to 22.3s of the 267.4s of remaining time.\n",
      "\tTime series in the dataset are too short for chosen differences [12]. Setting differences to [1].\n",
      "\tTime series in the dataset are too short for chosen differences [12]. Setting differences to [1].\n",
      "\tTime series in the dataset are too short for chosen differences [12]. Setting differences to [1].\n",
      "\tTime series in the dataset are too short for chosen differences [12]. Setting differences to [1].\n",
      "\tTime series in the dataset are too short for chosen differences [12]. Setting differences to [1].\n",
      "\t-5.1392       = Validation score (-MAPE)\n",
      "\t22.03   s     = Training runtime\n",
      "\t0.12    s     = Validation (prediction) runtime\n",
      "Training timeseries model DirectTabular. Training for up to 22.3s of the 245.2s of remaining time.\n",
      "\t-21.3562      = Validation score (-MAPE)\n",
      "\t22.10   s     = Training runtime\n",
      "\t0.18    s     = Validation (prediction) runtime\n",
      "Training timeseries model NPTS. Training for up to 22.3s of the 222.9s of remaining time.\n",
      "\tTime limit exceeded... Skipping NPTS.\n",
      "Training timeseries model DynamicOptimizedTheta. Training for up to 22.3s of the 200.4s of remaining time.\n",
      "\tTime limit exceeded... Skipping DynamicOptimizedTheta.\n",
      "Training timeseries model AutoETS. Training for up to 23.5s of the 188.1s of remaining time.\n",
      "\tWarning: AutoETS\\W0 failed for 61 time series (6.5%). Fallback model SeasonalNaive was used for these time series.\n",
      "\tTime limit exceeded... Skipping AutoETS.\n",
      "Training timeseries model ChronosZeroShot[bolt_base]. Training for up to 23.5s of the 164.4s of remaining time.\n",
      "\tWarning: Exception caused ChronosZeroShot[bolt_base] to fail during training... Skipping this model.\n",
      "\tFailed to import transformers.integrations.integration_utils because of the following error (look up to see its traceback):\n",
      "Failed to import transformers.modeling_tf_utils because of the following error (look up to see its traceback):\n",
      "Your currently installed version of Keras is Keras 3, but this is not yet supported in Transformers. Please install the backwards-compatible tf-keras package with `pip install tf-keras`.\n",
      "Training timeseries model ChronosFineTuned[bolt_small]. Training for up to 27.4s of the 164.3s of remaining time.\n",
      "\tSkipping covariate_regressor since the dataset contains no covariates or static features.\n",
      "\tWarning: Exception caused ChronosFineTuned[bolt_small] to fail during training... Skipping this model.\n",
      "\tFailed to import transformers.integrations.integration_utils because of the following error (look up to see its traceback):\n",
      "Failed to import transformers.modeling_tf_utils because of the following error (look up to see its traceback):\n",
      "Your currently installed version of Keras is Keras 3, but this is not yet supported in Transformers. Please install the backwards-compatible tf-keras package with `pip install tf-keras`.\n",
      "Training timeseries model TemporalFusionTransformer. Training for up to 32.8s of the 164.1s of remaining time.\n",
      "\tWarning: Model has no time left to train, skipping model... (Time Left = -1.6s)\n",
      "\tTime limit exceeded... Skipping TemporalFusionTransformer.\n",
      "Training timeseries model DeepAR. Training for up to 32.4s of the 129.5s of remaining time.\n",
      "\t-11.0436      = Validation score (-MAPE)\n",
      "\t33.30   s     = Training runtime\n",
      "\t1.68    s     = Validation (prediction) runtime\n",
      "Training timeseries model PatchTST. Training for up to 31.5s of the 94.5s of remaining time.\n",
      "\t-21.6693      = Validation score (-MAPE)\n",
      "\t31.99   s     = Training runtime\n",
      "\t0.96    s     = Validation (prediction) runtime\n",
      "Training timeseries model TiDE. Training for up to 30.8s of the 61.5s of remaining time.\n",
      "\tWarning: Model has no time left to train, skipping model... (Time Left = -4.7s)\n",
      "\tTime limit exceeded... Skipping TiDE.\n",
      "Fitting simple weighted ensemble.\n",
      "\tEnsemble weights: {'DeepAR': 0.03, 'DirectTabular': 0.06, 'RecursiveTabular': 0.91}\n",
      "\t-4.9577       = Validation score (-MAPE)\n",
      "\t2.61    s     = Training runtime\n",
      "\t1.97    s     = Validation (prediction) runtime\n",
      "Training complete. Models trained: ['RecursiveTabular', 'DirectTabular', 'DeepAR', 'PatchTST', 'WeightedEnsemble']\n",
      "Total runtime: 268.78 s\n",
      "Best model: WeightedEnsemble\n",
      "Best model score: -4.9577\n",
      "data with frequency 'IRREG' has been resampled to frequency 'ME'.\n",
      "Model not specified in predict, will default to the model with the best validation score: WeightedEnsemble\n",
      "data with frequency 'IRREG' has been resampled to frequency 'ME'.\n",
      "Model not specified in predict, will default to the model with the best validation score: WeightedEnsemble\n",
      "Warning: 27 time series (2.5%) are shorter than 1 and cannot be predicted by RecursiveTabular\\W4. Fallback model SeasonalNaive is used for these time series.\n",
      "Warning: No path was specified for model, defaulting to: c:\\Users\\Usuario\\Documents\\Universidad\\austral\\2025\\Lab3\\Lab3-MCD\\notebooks\\entregable\\AutogluonModels\\ag-20250629_185902\\\n"
     ]
    },
    {
     "name": "stdout",
     "output_type": "stream",
     "text": [
      "📊 Performance: {'MAPE': -17.25357465627524}\n"
     ]
    }
   ],
   "source": [
    "import pandas as pd\n",
    "import numpy as np\n",
    "from autogluon.timeseries import TimeSeriesPredictor, TimeSeriesDataFrame\n",
    "\n",
    "def prepare_data(path=\"./datasets/periodo_x_producto_con_target.csv\"):\n",
    "    # Cargar datos\n",
    "    df = pd.read_csv(path, sep=\",\", encoding=\"utf-8\")\n",
    "    \n",
    "    # Convertir a timestamp\n",
    "    df['timestamp'] = pd.to_datetime(df['periodo'].astype(str), format=\"%Y%m\", errors='coerce')\n",
    "    df = df.dropna(subset=['timestamp', 'target'])\n",
    "    \n",
    "    # Renombrar columnas para AutoGluon\n",
    "    df = df.rename(columns={\"product_id\": \"item_id\"})\n",
    "    \n",
    "    # Validaciones mínimas\n",
    "    if df['item_id'].nunique() < 1:\n",
    "        raise ValueError(\"No hay suficientes series para entrenar.\")\n",
    "    if df['timestamp'].isnull().any():\n",
    "        raise ValueError(\"Timestamps inválidos detectados.\")\n",
    "    \n",
    "    return df\n",
    "\n",
    "def add_lags(df, lags=[1, 2, 3]):\n",
    "    \"\"\"Agrega lags de la variable tn como features\"\"\"\n",
    "    df = df.sort_values(['item_id', 'timestamp'])\n",
    "    for lag in lags:\n",
    "        df[f'lag_tn_{lag}'] = df.groupby('item_id')['tn'].shift(lag)\n",
    "    return df\n",
    "\n",
    "def run_autogluon_pipeline():\n",
    "    df = prepare_data()\n",
    "    df = add_lags(df)\n",
    "\n",
    "    # Seleccionar columnas relevantes\n",
    "    feature_cols = [col for col in df.columns if col.startswith('lag_tn_')]\n",
    "    all_cols = ['item_id', 'timestamp', 'target'] + feature_cols\n",
    "    df = df[all_cols].dropna()\n",
    "\n",
    "    # 🔧 Filtrar series demasiado cortas\n",
    "    series_lengths = df.groupby(\"item_id\").size()\n",
    "    items_ok = series_lengths[series_lengths > 1].index\n",
    "    df = df[df['item_id'].isin(items_ok)]\n",
    "\n",
    "    # Crear TimeSeriesDataFrame\n",
    "    ts_df = TimeSeriesDataFrame.from_data_frame(\n",
    "        df,\n",
    "        id_column=\"item_id\",\n",
    "        timestamp_column=\"timestamp\"\n",
    "    )\n",
    "\n",
    "    # Entrenar modelo\n",
    "    predictor = TimeSeriesPredictor(\n",
    "        prediction_length=1,  # Porque target ya es mes+2\n",
    "        target=\"target\",\n",
    "        freq=\"M\",\n",
    "        eval_metric=\"MAPE\",\n",
    "    )\n",
    "\n",
    "    predictor.fit(\n",
    "        ts_df,\n",
    "        time_limit=300,  # segundos\n",
    "        num_val_windows=5,\n",
    "        verbosity=2,\n",
    "    )\n",
    "\n",
    "    # 9. Generar predicciones\n",
    "    predicciones = predictor.predict(ts_df)\n",
    "\n",
    "    # Evaluar en el mismo dataset (podés usar holdout mejor)\n",
    "    performance = predictor.evaluate(ts_df)\n",
    "    print(\"📊 Performance:\", performance)\n",
    "\n",
    "    return predicciones\n",
    "\n",
    "if __name__ == \"__main__\":\n",
    "    predictor = run_autogluon_pipeline()\n"
   ]
  },
  {
   "cell_type": "code",
   "execution_count": 23,
   "id": "22b48b98",
   "metadata": {},
   "outputs": [],
   "source": [
    "predicciones = predictor.copy()\n",
    "predicciones = predicciones.reset_index()\n",
    "predicciones.rename(columns={'item_id': 'product_id'}, inplace=True)\n",
    "predicciones = predicciones[['product_id', 'mean']]\n",
    "predicciones.to_csv('./outputs/predicciones_exp_06_autogluon_v6.csv', index=False, sep=',', encoding='utf-8')"
   ]
  },
  {
   "cell_type": "code",
   "execution_count": 25,
   "id": "a89bf5b4",
   "metadata": {},
   "outputs": [
    {
     "data": {
      "text/html": [
       "<div>\n",
       "<style scoped>\n",
       "    .dataframe tbody tr th:only-of-type {\n",
       "        vertical-align: middle;\n",
       "    }\n",
       "\n",
       "    .dataframe tbody tr th {\n",
       "        vertical-align: top;\n",
       "    }\n",
       "\n",
       "    .dataframe thead th {\n",
       "        text-align: right;\n",
       "    }\n",
       "</style>\n",
       "<table border=\"1\" class=\"dataframe\">\n",
       "  <thead>\n",
       "    <tr style=\"text-align: right;\">\n",
       "      <th></th>\n",
       "      <th>product_id</th>\n",
       "      <th>mean</th>\n",
       "    </tr>\n",
       "  </thead>\n",
       "  <tbody>\n",
       "    <tr>\n",
       "      <th>0</th>\n",
       "      <td>20001</td>\n",
       "      <td>1477.161573</td>\n",
       "    </tr>\n",
       "    <tr>\n",
       "      <th>1</th>\n",
       "      <td>20002</td>\n",
       "      <td>1085.026099</td>\n",
       "    </tr>\n",
       "    <tr>\n",
       "      <th>2</th>\n",
       "      <td>20003</td>\n",
       "      <td>879.127719</td>\n",
       "    </tr>\n",
       "    <tr>\n",
       "      <th>3</th>\n",
       "      <td>20004</td>\n",
       "      <td>632.324335</td>\n",
       "    </tr>\n",
       "    <tr>\n",
       "      <th>4</th>\n",
       "      <td>20005</td>\n",
       "      <td>586.334104</td>\n",
       "    </tr>\n",
       "    <tr>\n",
       "      <th>...</th>\n",
       "      <td>...</td>\n",
       "      <td>...</td>\n",
       "    </tr>\n",
       "    <tr>\n",
       "      <th>1090</th>\n",
       "      <td>21263</td>\n",
       "      <td>0.007857</td>\n",
       "    </tr>\n",
       "    <tr>\n",
       "      <th>1092</th>\n",
       "      <td>21265</td>\n",
       "      <td>0.057972</td>\n",
       "    </tr>\n",
       "    <tr>\n",
       "      <th>1093</th>\n",
       "      <td>21266</td>\n",
       "      <td>0.059661</td>\n",
       "    </tr>\n",
       "    <tr>\n",
       "      <th>1094</th>\n",
       "      <td>21267</td>\n",
       "      <td>0.011926</td>\n",
       "    </tr>\n",
       "    <tr>\n",
       "      <th>1099</th>\n",
       "      <td>21276</td>\n",
       "      <td>0.008998</td>\n",
       "    </tr>\n",
       "  </tbody>\n",
       "</table>\n",
       "<p>734 rows × 2 columns</p>\n",
       "</div>"
      ],
      "text/plain": [
       "      product_id         mean\n",
       "0          20001  1477.161573\n",
       "1          20002  1085.026099\n",
       "2          20003   879.127719\n",
       "3          20004   632.324335\n",
       "4          20005   586.334104\n",
       "...          ...          ...\n",
       "1090       21263     0.007857\n",
       "1092       21265     0.057972\n",
       "1093       21266     0.059661\n",
       "1094       21267     0.011926\n",
       "1099       21276     0.008998\n",
       "\n",
       "[734 rows x 2 columns]"
      ]
     },
     "execution_count": 25,
     "metadata": {},
     "output_type": "execute_result"
    }
   ],
   "source": [
    "productos_ok = pd.read_csv('../../data/raw/product_id_apredecir201912.csv', sep=',')\n",
    "predicciones = predicciones[predicciones['product_id'].isin(productos_ok['product_id'].unique())]\n",
    "predicciones"
   ]
  },
  {
   "cell_type": "code",
   "execution_count": 26,
   "id": "37c6ebb5",
   "metadata": {},
   "outputs": [
    {
     "data": {
      "application/vnd.microsoft.datawrangler.viewer.v0+json": {
       "columns": [
        {
         "name": "index",
         "rawType": "int64",
         "type": "integer"
        },
        {
         "name": "product_id",
         "rawType": "int64",
         "type": "integer"
        },
        {
         "name": "pred_windows_12",
         "rawType": "float64",
         "type": "float"
        }
       ],
       "ref": "c9821dcb-e550-4787-b872-e816b0aa2d5c",
       "rows": [
        [
         "0",
         "20001",
         "1458.3844518121684"
        ],
        [
         "1",
         "20002",
         "1193.750890767799"
        ],
        [
         "2",
         "20003",
         "771.7216543521522"
        ],
        [
         "3",
         "20004",
         "561.1472173726784"
        ],
        [
         "4",
         "20005",
         "602.6507775648586"
        ],
        [
         "5",
         "20006",
         "525.9506726534862"
        ],
        [
         "6",
         "20007",
         "425.1909196961601"
        ],
        [
         "7",
         "20008",
         "388.7167053222656"
        ],
        [
         "8",
         "20009",
         "555.2461945155882"
        ],
        [
         "9",
         "20010",
         "411.7851663265589"
        ],
        [
         "10",
         "20011",
         "444.4273960905255"
        ],
        [
         "11",
         "20012",
         "327.107696677154"
        ],
        [
         "12",
         "20013",
         "420.3256389689896"
        ],
        [
         "13",
         "20014",
         "404.55375181953866"
        ],
        [
         "14",
         "20015",
         "355.5837074135834"
        ],
        [
         "15",
         "20016",
         "296.9517200397995"
        ],
        [
         "16",
         "20017",
         "307.6685788136608"
        ],
        [
         "17",
         "20018",
         "280.8884188094229"
        ],
        [
         "18",
         "20019",
         "316.9280062981372"
        ],
        [
         "19",
         "20020",
         "313.9293746948242"
        ],
        [
         "20",
         "20021",
         "245.09488202940744"
        ],
        [
         "21",
         "20022",
         "348.5570926306383"
        ],
        [
         "22",
         "20023",
         "221.30819054369655"
        ],
        [
         "23",
         "20024",
         "236.4293176902915"
        ],
        [
         "24",
         "20025",
         "242.10924069386607"
        ],
        [
         "25",
         "20026",
         "240.8006021751548"
        ],
        [
         "26",
         "20027",
         "240.2849896988779"
        ],
        [
         "27",
         "20028",
         "229.4611869668061"
        ],
        [
         "28",
         "20029",
         "201.71898953419813"
        ],
        [
         "29",
         "20030",
         "120.04069475857716"
        ],
        [
         "30",
         "20031",
         "195.7944821051832"
        ],
        [
         "31",
         "20032",
         "533.5686434613613"
        ],
        [
         "32",
         "20033",
         "146.94867231261054"
        ],
        [
         "33",
         "20035",
         "177.11039892232645"
        ],
        [
         "34",
         "20037",
         "185.76096718266325"
        ],
        [
         "35",
         "20038",
         "193.0991601044277"
        ],
        [
         "36",
         "20039",
         "171.66721941390128"
        ],
        [
         "37",
         "20041",
         "135.55566449435253"
        ],
        [
         "38",
         "20042",
         "180.36956599973283"
        ],
        [
         "39",
         "20043",
         "131.62542163201098"
        ],
        [
         "40",
         "20044",
         "201.38167111378797"
        ],
        [
         "41",
         "20045",
         "153.75173676688718"
        ],
        [
         "42",
         "20046",
         "156.22642761806273"
        ],
        [
         "43",
         "20047",
         "196.25962757614425"
        ],
        [
         "44",
         "20049",
         "167.87195011354842"
        ],
        [
         "45",
         "20050",
         "136.0754963856823"
        ],
        [
         "46",
         "20051",
         "137.71289775056658"
        ],
        [
         "47",
         "20052",
         "117.77223810159936"
        ],
        [
         "48",
         "20053",
         "174.1819564531434"
        ],
        [
         "49",
         "20054",
         "172.2490846166071"
        ]
       ],
       "shape": {
        "columns": 2,
        "rows": 780
       }
      },
      "text/html": [
       "<div>\n",
       "<style scoped>\n",
       "    .dataframe tbody tr th:only-of-type {\n",
       "        vertical-align: middle;\n",
       "    }\n",
       "\n",
       "    .dataframe tbody tr th {\n",
       "        vertical-align: top;\n",
       "    }\n",
       "\n",
       "    .dataframe thead th {\n",
       "        text-align: right;\n",
       "    }\n",
       "</style>\n",
       "<table border=\"1\" class=\"dataframe\">\n",
       "  <thead>\n",
       "    <tr style=\"text-align: right;\">\n",
       "      <th></th>\n",
       "      <th>product_id</th>\n",
       "      <th>pred_windows_12</th>\n",
       "    </tr>\n",
       "  </thead>\n",
       "  <tbody>\n",
       "    <tr>\n",
       "      <th>0</th>\n",
       "      <td>20001</td>\n",
       "      <td>1458.384452</td>\n",
       "    </tr>\n",
       "    <tr>\n",
       "      <th>1</th>\n",
       "      <td>20002</td>\n",
       "      <td>1193.750891</td>\n",
       "    </tr>\n",
       "    <tr>\n",
       "      <th>2</th>\n",
       "      <td>20003</td>\n",
       "      <td>771.721654</td>\n",
       "    </tr>\n",
       "    <tr>\n",
       "      <th>3</th>\n",
       "      <td>20004</td>\n",
       "      <td>561.147217</td>\n",
       "    </tr>\n",
       "    <tr>\n",
       "      <th>4</th>\n",
       "      <td>20005</td>\n",
       "      <td>602.650778</td>\n",
       "    </tr>\n",
       "    <tr>\n",
       "      <th>...</th>\n",
       "      <td>...</td>\n",
       "      <td>...</td>\n",
       "    </tr>\n",
       "    <tr>\n",
       "      <th>775</th>\n",
       "      <td>21263</td>\n",
       "      <td>0.023488</td>\n",
       "    </tr>\n",
       "    <tr>\n",
       "      <th>776</th>\n",
       "      <td>21265</td>\n",
       "      <td>0.096101</td>\n",
       "    </tr>\n",
       "    <tr>\n",
       "      <th>777</th>\n",
       "      <td>21266</td>\n",
       "      <td>0.093510</td>\n",
       "    </tr>\n",
       "    <tr>\n",
       "      <th>778</th>\n",
       "      <td>21267</td>\n",
       "      <td>0.074795</td>\n",
       "    </tr>\n",
       "    <tr>\n",
       "      <th>779</th>\n",
       "      <td>21276</td>\n",
       "      <td>0.040926</td>\n",
       "    </tr>\n",
       "  </tbody>\n",
       "</table>\n",
       "<p>780 rows × 2 columns</p>\n",
       "</div>"
      ],
      "text/plain": [
       "     product_id  pred_windows_12\n",
       "0         20001      1458.384452\n",
       "1         20002      1193.750891\n",
       "2         20003       771.721654\n",
       "3         20004       561.147217\n",
       "4         20005       602.650778\n",
       "..          ...              ...\n",
       "775       21263         0.023488\n",
       "776       21265         0.096101\n",
       "777       21266         0.093510\n",
       "778       21267         0.074795\n",
       "779       21276         0.040926\n",
       "\n",
       "[780 rows x 2 columns]"
      ]
     },
     "execution_count": 26,
     "metadata": {},
     "output_type": "execute_result"
    }
   ],
   "source": [
    "output = pd.read_csv(\"./outputs/predicciones_exp_06_autogluon_v1_12kfold.csv\", sep=',', encoding='utf-8')\n",
    "output"
   ]
  },
  {
   "cell_type": "code",
   "execution_count": 27,
   "id": "1ba3e19d",
   "metadata": {},
   "outputs": [],
   "source": [
    "# Unión externa (outer join) para incluir todos los product_id\n",
    "predicciones_completo = predicciones.merge(\n",
    "    output[[\"product_id\", \"pred_windows_12\"]],\n",
    "    on=\"product_id\",\n",
    "    how=\"outer\"\n",
    ")\n",
    "\n",
    "# Opcional: Ordenar por product_id\n",
    "predicciones_completo = predicciones_completo.sort_values(\"product_id\").reset_index(drop=True)"
   ]
  },
  {
   "cell_type": "code",
   "execution_count": 33,
   "id": "f1566b72",
   "metadata": {},
   "outputs": [
    {
     "data": {
      "text/html": [
       "<div>\n",
       "<style scoped>\n",
       "    .dataframe tbody tr th:only-of-type {\n",
       "        vertical-align: middle;\n",
       "    }\n",
       "\n",
       "    .dataframe tbody tr th {\n",
       "        vertical-align: top;\n",
       "    }\n",
       "\n",
       "    .dataframe thead th {\n",
       "        text-align: right;\n",
       "    }\n",
       "</style>\n",
       "<table border=\"1\" class=\"dataframe\">\n",
       "  <thead>\n",
       "    <tr style=\"text-align: right;\">\n",
       "      <th></th>\n",
       "      <th>product_id</th>\n",
       "      <th>mean</th>\n",
       "      <th>pred_windows_12</th>\n",
       "    </tr>\n",
       "  </thead>\n",
       "  <tbody>\n",
       "    <tr>\n",
       "      <th>0</th>\n",
       "      <td>20001</td>\n",
       "      <td>1477.161573</td>\n",
       "      <td>1458.384452</td>\n",
       "    </tr>\n",
       "    <tr>\n",
       "      <th>1</th>\n",
       "      <td>20002</td>\n",
       "      <td>1085.026099</td>\n",
       "      <td>1193.750891</td>\n",
       "    </tr>\n",
       "    <tr>\n",
       "      <th>2</th>\n",
       "      <td>20003</td>\n",
       "      <td>879.127719</td>\n",
       "      <td>771.721654</td>\n",
       "    </tr>\n",
       "    <tr>\n",
       "      <th>3</th>\n",
       "      <td>20004</td>\n",
       "      <td>632.324335</td>\n",
       "      <td>561.147217</td>\n",
       "    </tr>\n",
       "    <tr>\n",
       "      <th>4</th>\n",
       "      <td>20005</td>\n",
       "      <td>586.334104</td>\n",
       "      <td>602.650778</td>\n",
       "    </tr>\n",
       "    <tr>\n",
       "      <th>...</th>\n",
       "      <td>...</td>\n",
       "      <td>...</td>\n",
       "      <td>...</td>\n",
       "    </tr>\n",
       "    <tr>\n",
       "      <th>775</th>\n",
       "      <td>21263</td>\n",
       "      <td>0.007857</td>\n",
       "      <td>0.023488</td>\n",
       "    </tr>\n",
       "    <tr>\n",
       "      <th>776</th>\n",
       "      <td>21265</td>\n",
       "      <td>0.057972</td>\n",
       "      <td>0.096101</td>\n",
       "    </tr>\n",
       "    <tr>\n",
       "      <th>777</th>\n",
       "      <td>21266</td>\n",
       "      <td>0.059661</td>\n",
       "      <td>0.093510</td>\n",
       "    </tr>\n",
       "    <tr>\n",
       "      <th>778</th>\n",
       "      <td>21267</td>\n",
       "      <td>0.011926</td>\n",
       "      <td>0.074795</td>\n",
       "    </tr>\n",
       "    <tr>\n",
       "      <th>779</th>\n",
       "      <td>21276</td>\n",
       "      <td>0.008998</td>\n",
       "      <td>0.040926</td>\n",
       "    </tr>\n",
       "  </tbody>\n",
       "</table>\n",
       "<p>780 rows × 3 columns</p>\n",
       "</div>"
      ],
      "text/plain": [
       "     product_id         mean  pred_windows_12\n",
       "0         20001  1477.161573      1458.384452\n",
       "1         20002  1085.026099      1193.750891\n",
       "2         20003   879.127719       771.721654\n",
       "3         20004   632.324335       561.147217\n",
       "4         20005   586.334104       602.650778\n",
       "..          ...          ...              ...\n",
       "775       21263     0.007857         0.023488\n",
       "776       21265     0.057972         0.096101\n",
       "777       21266     0.059661         0.093510\n",
       "778       21267     0.011926         0.074795\n",
       "779       21276     0.008998         0.040926\n",
       "\n",
       "[780 rows x 3 columns]"
      ]
     },
     "execution_count": 33,
     "metadata": {},
     "output_type": "execute_result"
    }
   ],
   "source": [
    "predicciones_completo"
   ]
  },
  {
   "cell_type": "code",
   "execution_count": 37,
   "id": "a76568cb",
   "metadata": {},
   "outputs": [
    {
     "data": {
      "application/vnd.microsoft.datawrangler.viewer.v0+json": {
       "columns": [
        {
         "name": "index",
         "rawType": "object",
         "type": "string"
        },
        {
         "name": "0",
         "rawType": "int64",
         "type": "integer"
        }
       ],
       "ref": "12dc2d4c-0c87-4708-8c04-9820601963a3",
       "rows": [
        [
         "product_id",
         "0"
        ],
        [
         "mean",
         "0"
        ],
        [
         "pred_windows_12",
         "0"
        ]
       ],
       "shape": {
        "columns": 1,
        "rows": 3
       }
      },
      "text/plain": [
       "product_id         0\n",
       "mean               0\n",
       "pred_windows_12    0\n",
       "dtype: int64"
      ]
     },
     "execution_count": 37,
     "metadata": {},
     "output_type": "execute_result"
    }
   ],
   "source": [
    "# Rellenar pred_ponderado con pred_windows_12 donde pred_ponderado sea NaN (nuevos registros)\n",
    "predicciones_completo[\"mean\"] = predicciones_completo[\"mean\"].fillna(\n",
    "    predicciones_completo[\"pred_windows_12\"]\n",
    ")\n",
    "predicciones_completo.isna().sum()"
   ]
  },
  {
   "cell_type": "code",
   "execution_count": 38,
   "id": "ddbf53c9",
   "metadata": {},
   "outputs": [],
   "source": [
    "predicciones_completo.drop(columns=['pred_windows_12'], inplace=True)\n",
    "predicciones_completo.rename(columns={'mean': 'tn'}, inplace=True)\n",
    "predicciones_completo.to_csv('./outputs/predicciones_exp_06_autogluon_v6.csv', index=False, sep=',', encoding='utf-8')"
   ]
  },
  {
   "cell_type": "code",
   "execution_count": 39,
   "id": "ebb169a8",
   "metadata": {},
   "outputs": [
    {
     "data": {
      "text/html": [
       "<div>\n",
       "<style scoped>\n",
       "    .dataframe tbody tr th:only-of-type {\n",
       "        vertical-align: middle;\n",
       "    }\n",
       "\n",
       "    .dataframe tbody tr th {\n",
       "        vertical-align: top;\n",
       "    }\n",
       "\n",
       "    .dataframe thead th {\n",
       "        text-align: right;\n",
       "    }\n",
       "</style>\n",
       "<table border=\"1\" class=\"dataframe\">\n",
       "  <thead>\n",
       "    <tr style=\"text-align: right;\">\n",
       "      <th></th>\n",
       "      <th>product_id</th>\n",
       "      <th>tn</th>\n",
       "    </tr>\n",
       "  </thead>\n",
       "  <tbody>\n",
       "    <tr>\n",
       "      <th>0</th>\n",
       "      <td>20001</td>\n",
       "      <td>1477.161573</td>\n",
       "    </tr>\n",
       "    <tr>\n",
       "      <th>1</th>\n",
       "      <td>20002</td>\n",
       "      <td>1085.026099</td>\n",
       "    </tr>\n",
       "    <tr>\n",
       "      <th>2</th>\n",
       "      <td>20003</td>\n",
       "      <td>879.127719</td>\n",
       "    </tr>\n",
       "    <tr>\n",
       "      <th>3</th>\n",
       "      <td>20004</td>\n",
       "      <td>632.324335</td>\n",
       "    </tr>\n",
       "    <tr>\n",
       "      <th>4</th>\n",
       "      <td>20005</td>\n",
       "      <td>586.334104</td>\n",
       "    </tr>\n",
       "    <tr>\n",
       "      <th>...</th>\n",
       "      <td>...</td>\n",
       "      <td>...</td>\n",
       "    </tr>\n",
       "    <tr>\n",
       "      <th>775</th>\n",
       "      <td>21263</td>\n",
       "      <td>0.007857</td>\n",
       "    </tr>\n",
       "    <tr>\n",
       "      <th>776</th>\n",
       "      <td>21265</td>\n",
       "      <td>0.057972</td>\n",
       "    </tr>\n",
       "    <tr>\n",
       "      <th>777</th>\n",
       "      <td>21266</td>\n",
       "      <td>0.059661</td>\n",
       "    </tr>\n",
       "    <tr>\n",
       "      <th>778</th>\n",
       "      <td>21267</td>\n",
       "      <td>0.011926</td>\n",
       "    </tr>\n",
       "    <tr>\n",
       "      <th>779</th>\n",
       "      <td>21276</td>\n",
       "      <td>0.008998</td>\n",
       "    </tr>\n",
       "  </tbody>\n",
       "</table>\n",
       "<p>780 rows × 2 columns</p>\n",
       "</div>"
      ],
      "text/plain": [
       "     product_id           tn\n",
       "0         20001  1477.161573\n",
       "1         20002  1085.026099\n",
       "2         20003   879.127719\n",
       "3         20004   632.324335\n",
       "4         20005   586.334104\n",
       "..          ...          ...\n",
       "775       21263     0.007857\n",
       "776       21265     0.057972\n",
       "777       21266     0.059661\n",
       "778       21267     0.011926\n",
       "779       21276     0.008998\n",
       "\n",
       "[780 rows x 2 columns]"
      ]
     },
     "execution_count": 39,
     "metadata": {},
     "output_type": "execute_result"
    }
   ],
   "source": [
    "predicciones_completo"
   ]
  }
 ],
 "metadata": {
  "kernelspec": {
   "display_name": "py311lab3",
   "language": "python",
   "name": "python3"
  },
  "language_info": {
   "codemirror_mode": {
    "name": "ipython",
    "version": 3
   },
   "file_extension": ".py",
   "mimetype": "text/x-python",
   "name": "python",
   "nbconvert_exporter": "python",
   "pygments_lexer": "ipython3",
   "version": "3.11.13"
  }
 },
 "nbformat": 4,
 "nbformat_minor": 5
}
