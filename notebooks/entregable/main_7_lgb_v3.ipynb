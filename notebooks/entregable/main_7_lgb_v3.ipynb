{
 "cells": [
  {
   "cell_type": "code",
   "execution_count": 1,
   "id": "dbae8eac",
   "metadata": {},
   "outputs": [
    {
     "name": "stderr",
     "output_type": "stream",
     "text": [
      "c:\\Users\\Usuario\\.conda\\envs\\py311lab3\\Lib\\site-packages\\tqdm\\auto.py:21: TqdmWarning: IProgress not found. Please update jupyter and ipywidgets. See https://ipywidgets.readthedocs.io/en/stable/user_install.html\n",
      "  from .autonotebook import tqdm as notebook_tqdm\n",
      "Importing plotly failed. Interactive plots will not work.\n",
      "Importing plotly failed. Interactive plots will not work.\n"
     ]
    }
   ],
   "source": [
    "import pandas as pd\n",
    "import numpy as np\n",
    "import importlib\n",
    "import gc\n",
    "import sys\n",
    "import warnings\n",
    "sys.path.append('./scripts')  \n",
    "import preprocesamiento\n",
    "import feature_engineering\n",
    "import model_lgb\n",
    "importlib.reload(preprocesamiento)\n",
    "importlib.reload(model_lgb)\n",
    "importlib.reload(feature_engineering)\n",
    "warnings.filterwarnings(\"ignore\")"
   ]
  },
  {
   "cell_type": "markdown",
   "id": "14763c97",
   "metadata": {},
   "source": [
    "# Experimento 7: \n",
    "- LGBM\n",
    "- Usando funcion entrenamiento: semillerio_en_prediccion\n",
    "- Aumento cantidad de variables\n",
    "- sqlite:///optuna_studies_v16.db\n",
    "- Kaggle =  \n"
   ]
  },
  {
   "cell_type": "markdown",
   "id": "3e128128",
   "metadata": {},
   "source": [
    "##### Levantamos el dataset con target ya calculado"
   ]
  },
  {
   "cell_type": "code",
   "execution_count": 2,
   "id": "23d157af",
   "metadata": {},
   "outputs": [
    {
     "data": {
      "text/plain": [
       "(31362, 19)"
      ]
     },
     "execution_count": 2,
     "metadata": {},
     "output_type": "execute_result"
    }
   ],
   "source": [
    "df = pd.read_csv(\"./datasets/periodo_x_producto_con_target.csv\", sep=',', encoding='utf-8')\n",
    "df.shape"
   ]
  },
  {
   "cell_type": "code",
   "execution_count": 3,
   "id": "dd58191b",
   "metadata": {},
   "outputs": [
    {
     "data": {
      "text/plain": [
       "['product_id',\n",
       " 'periodo',\n",
       " 'nacimiento_producto',\n",
       " 'muerte_producto',\n",
       " 'mes_n',\n",
       " 'total_meses',\n",
       " 'producto_nuevo',\n",
       " 'ciclo_de_vida_inicial',\n",
       " 'cat1',\n",
       " 'cat2',\n",
       " 'cat3',\n",
       " 'brand',\n",
       " 'sku_size',\n",
       " 'stock_final',\n",
       " 'tn',\n",
       " 'plan_precios_cuidados',\n",
       " 'cust_request_qty',\n",
       " 'cust_request_tn',\n",
       " 'target']"
      ]
     },
     "execution_count": 3,
     "metadata": {},
     "output_type": "execute_result"
    }
   ],
   "source": [
    "columnas_baseline = df.columns.tolist()\n",
    "columnas_baseline"
   ]
  },
  {
   "cell_type": "markdown",
   "id": "b6556d30",
   "metadata": {},
   "source": [
    "##### Preprocesamiento a la minima expresión :)"
   ]
  },
  {
   "cell_type": "code",
   "execution_count": 50,
   "id": "9665b526",
   "metadata": {},
   "outputs": [],
   "source": [
    "# ##### aplicamos OHE\n",
    "# df = preprocesamiento.aplicarOHE(df)\n",
    "# df.shape"
   ]
  },
  {
   "cell_type": "markdown",
   "id": "902b1e13",
   "metadata": {},
   "source": [
    "### Feature Engineering"
   ]
  },
  {
   "cell_type": "markdown",
   "id": "2bd77df9",
   "metadata": {},
   "source": [
    "##### Neural Prophet"
   ]
  },
  {
   "cell_type": "code",
   "execution_count": 4,
   "id": "34d306ff",
   "metadata": {},
   "outputs": [
    {
     "data": {
      "text/plain": [
       "(31362, 22)"
      ]
     },
     "execution_count": 4,
     "metadata": {},
     "output_type": "execute_result"
    }
   ],
   "source": [
    "neural_prophet_fe = pd.read_csv(\"./datasets/features_neuralprophet_completo.csv\", sep=',', encoding='utf-8')\n",
    "neural_prophet_fe['ds'] = pd.to_datetime(neural_prophet_fe['ds'], errors='coerce')\n",
    "# Versión alternativa más robusta:\n",
    "neural_prophet_fe['periodo'] = neural_prophet_fe['ds'].apply(\n",
    "    lambda x: x.year * 100 + x.month if pd.notnull(x) else None\n",
    ")\n",
    "neural_prophet_fe = neural_prophet_fe[['periodo', 'product_id', 'trend', \"season_yearly\", \"season_monthly\"]]\n",
    "df = df.merge(neural_prophet_fe, on=['periodo', 'product_id'], how='left')\n",
    "df.shape"
   ]
  },
  {
   "cell_type": "markdown",
   "id": "ff026986",
   "metadata": {},
   "source": [
    "##### Prophet"
   ]
  },
  {
   "cell_type": "code",
   "execution_count": 5,
   "id": "4318910f",
   "metadata": {},
   "outputs": [
    {
     "data": {
      "text/plain": [
       "(31362, 28)"
      ]
     },
     "execution_count": 5,
     "metadata": {},
     "output_type": "execute_result"
    }
   ],
   "source": [
    "prophet_fe = pd.read_csv(\"./datasets/prophet_features_tn_zscore.csv\", sep=',', encoding='utf-8')\n",
    "prophet_fe['ds'] = pd.to_datetime(prophet_fe['ds'], errors='coerce')\n",
    "prophet_fe['periodo'] = prophet_fe['ds'].apply(\n",
    "    lambda x: x.year * 100 + x.month if pd.notnull(x) else None\n",
    ")\n",
    "prophet_fe = prophet_fe[['periodo', 'product_id', 'trend_add', \"yearly_add\", \"additive_terms\", 'trend_mult', 'yearly_mult', 'multiplicative_terms']]\n",
    "df = df.merge(prophet_fe, on=['periodo', 'product_id'], how='left')\n",
    "df.shape"
   ]
  },
  {
   "cell_type": "markdown",
   "id": "2eb4d3aa",
   "metadata": {},
   "source": [
    "##### FE Moviles"
   ]
  },
  {
   "cell_type": "code",
   "execution_count": 6,
   "id": "7dc30b4c",
   "metadata": {},
   "outputs": [
    {
     "data": {
      "text/plain": [
       "(31362, 590)"
      ]
     },
     "execution_count": 6,
     "metadata": {},
     "output_type": "execute_result"
    }
   ],
   "source": [
    "df = feature_engineering.get_lags(df, \"tn\", 201912)\n",
    "df = feature_engineering.get_delta_lags(df, \"tn\", 24)\n",
    "df = feature_engineering.get_rolling_means(df, \"tn\", 201912)\n",
    "df = feature_engineering.get_rolling_stds(df, \"tn\", 201912)\n",
    "df = feature_engineering.get_rolling_mins(df, \"tn\", 201912)\n",
    "df = feature_engineering.get_rolling_maxs(df, \"tn\", 201912)\n",
    "df = feature_engineering.get_rolling_medians(df, \"tn\", 201912)\n",
    "df = feature_engineering.get_rolling_skewness(df, \"tn\", 201912)\n",
    "df = feature_engineering.get_autocorrelaciones(df, \"tn\", 201912)\n",
    "df.shape"
   ]
  },
  {
   "cell_type": "code",
   "execution_count": 7,
   "id": "e0500070",
   "metadata": {},
   "outputs": [],
   "source": [
    "df = feature_engineering.get_lags(df, \"cust_request_qty\", 201912)\n",
    "df = feature_engineering.get_delta_lags(df, \"cust_request_qty\", 24)\n",
    "df = feature_engineering.get_rolling_means(df, \"cust_request_qty\", 201912)\n",
    "df = feature_engineering.get_rolling_stds(df, \"cust_request_qty\", 201912)\n",
    "df = feature_engineering.get_rolling_mins(df, \"cust_request_qty\", 201912)\n",
    "df = feature_engineering.get_rolling_maxs(df, \"cust_request_qty\", 201912)"
   ]
  },
  {
   "cell_type": "code",
   "execution_count": 8,
   "id": "195bd5b9",
   "metadata": {},
   "outputs": [
    {
     "data": {
      "text/plain": [
       "(31362, 1500)"
      ]
     },
     "execution_count": 8,
     "metadata": {},
     "output_type": "execute_result"
    }
   ],
   "source": [
    "df = feature_engineering.get_lags(df, \"stock_final\", 201912)\n",
    "df = feature_engineering.get_delta_lags(df, \"stock_final\", 24)\n",
    "df = feature_engineering.get_rolling_means(df, \"stock_final\", 201912)\n",
    "df = feature_engineering.get_rolling_stds(df, \"stock_final\", 201912)\n",
    "df = feature_engineering.get_rolling_mins(df, \"stock_final\", 201912)\n",
    "df = feature_engineering.get_rolling_maxs(df, \"stock_final\", 201912)\n",
    "df.shape"
   ]
  },
  {
   "cell_type": "markdown",
   "id": "2fbc712c",
   "metadata": {},
   "source": [
    "Features Diana"
   ]
  },
  {
   "cell_type": "code",
   "execution_count": 9,
   "id": "c6acf0b7",
   "metadata": {},
   "outputs": [],
   "source": [
    "df = feature_engineering.calcular_diferencia_con_medias_moviles(df)\n",
    "df = feature_engineering.calcular_ratios_con_medias_moviles(df)"
   ]
  },
  {
   "cell_type": "markdown",
   "id": "e2436c9b",
   "metadata": {},
   "source": [
    "##### FE Moviles sobre otras variables"
   ]
  },
  {
   "cell_type": "code",
   "execution_count": 56,
   "id": "0dca7531",
   "metadata": {},
   "outputs": [],
   "source": [
    "# #  stock final\n",
    "# df = feature_engineering.get_lagsEspecificos(df, col='stock_final_zscore')\n",
    "# df = feature_engineering.get_delta_lags_especificos(df, col='stock_final_zscore')\n",
    "# df = feature_engineering.get_rolling_means_especificos(df, col='stock_final_zscore')\n",
    "# df = feature_engineering.get_rolling_stds_especificos(df, col='stock_final_zscore')\n",
    "# df = feature_engineering.get_rolling_medians_especificos(df, col='stock_final_zscore')\n",
    "# df = feature_engineering.get_rolling_mins_especificos(df, col='stock_final_zscore')\n",
    "# df = feature_engineering.get_rolling_maxs_especificos(df, col='stock_final_zscore')\n",
    "# df = feature_engineering.get_rolling_skewness_especificos(df, col='stock_final_zscore')\n",
    "\n",
    "#  cust_request_qty\n",
    "# df = feature_engineering.get_lagsEspecificos(df, col='cust_request_qty')\n",
    "# df = feature_engineering.get_delta_lags_especificos(df, col='cust_request_qty')\n",
    "# df = feature_engineering.get_rolling_means_especificos(df, col='cust_request_qty')\n",
    "# df = feature_engineering.get_rolling_stds_especificos(df, col='cust_request_qty')\n",
    "# df = feature_engineering.get_rolling_mins_especificos(df, col='cust_request_qty')\n",
    "# df = feature_engineering.get_rolling_maxs_especificos(df, col='cust_request_qty')\n",
    "# df = feature_engineering.get_rolling_medians_especificos(df, col='cust_request_qty')\n",
    "# df = feature_engineering.get_rolling_skewness_especificos(df, col='cust_request_qty')"
   ]
  },
  {
   "cell_type": "markdown",
   "id": "6fb9716d",
   "metadata": {},
   "source": [
    "##### FE Calendario"
   ]
  },
  {
   "cell_type": "code",
   "execution_count": 10,
   "id": "3e810260",
   "metadata": {},
   "outputs": [
    {
     "data": {
      "text/plain": [
       "(31362, 1561)"
      ]
     },
     "execution_count": 10,
     "metadata": {},
     "output_type": "execute_result"
    }
   ],
   "source": [
    "df = feature_engineering.generar_ids(df)\n",
    "df = feature_engineering.get_componentesTemporales(df)\n",
    "df = feature_engineering.get_anomaliasPoliticas(df)\n",
    "# df = feature_engineering.descomposicion_serie_temporal(df, col='tn')\n",
    "df.shape"
   ]
  },
  {
   "cell_type": "markdown",
   "id": "b34d19db",
   "metadata": {},
   "source": [
    "##### FE sobre FE"
   ]
  },
  {
   "cell_type": "code",
   "execution_count": 11,
   "id": "14345585",
   "metadata": {},
   "outputs": [
    {
     "data": {
      "text/plain": [
       "(31362, 1590)"
      ]
     },
     "execution_count": 11,
     "metadata": {},
     "output_type": "execute_result"
    }
   ],
   "source": [
    "df = feature_engineering.chatGPT_features_serie(df, \"tn\")\n",
    "df = feature_engineering.mes_con_feriado(df)\n",
    "df.shape"
   ]
  },
  {
   "cell_type": "markdown",
   "id": "62f1cbad",
   "metadata": {},
   "source": [
    "##### Variables Exogenas"
   ]
  },
  {
   "cell_type": "code",
   "execution_count": 12,
   "id": "d10e572a",
   "metadata": {},
   "outputs": [
    {
     "data": {
      "text/plain": [
       "(31362, 1593)"
      ]
     },
     "execution_count": 12,
     "metadata": {},
     "output_type": "execute_result"
    }
   ],
   "source": [
    "df = feature_engineering.get_dolar(df)\n",
    "df = feature_engineering.get_IPC(df)\n",
    "df['ipc'] = df['ipc'].str.replace(',', '.').astype(float)\n",
    "df['dolar'] = df['dolar'].str.replace(',', '.').astype(float)\n",
    "# df.drop(columns=['ds'], inplace=True)\n",
    "df.fillna(0, inplace=True) ##### EXPERIMENTAR\n",
    "df = feature_engineering.correlacion_exogenas(df)\n",
    "df = feature_engineering.get_mes_receso_escolar(df)\n",
    "df.shape"
   ]
  },
  {
   "cell_type": "markdown",
   "id": "574cbf29",
   "metadata": {},
   "source": [
    "##### Nuevas FE"
   ]
  },
  {
   "cell_type": "code",
   "execution_count": 13,
   "id": "ac0b5e13",
   "metadata": {},
   "outputs": [
    {
     "data": {
      "text/plain": [
       "(31362, 1635)"
      ]
     },
     "execution_count": 13,
     "metadata": {},
     "output_type": "execute_result"
    }
   ],
   "source": [
    "df = feature_engineering.create_ratio_features(df)\n",
    "df = feature_engineering.enhance_lifecycle_features(df)\n",
    "df = feature_engineering.create_category_features(df)\n",
    "df = feature_engineering.create_regime_features(df)\n",
    "df = feature_engineering.create_nonlinear_trends(df)\n",
    "df = feature_engineering.create_temporal_interactions(df)\n",
    "df = feature_engineering.create_asymmetric_window_features(df)\n",
    "df = feature_engineering.recomendaciones_deepseek(df)\n",
    "df = feature_engineering.get_nuevas_features(df)\n",
    "df.shape"
   ]
  },
  {
   "cell_type": "markdown",
   "id": "01403c73",
   "metadata": {},
   "source": [
    "##### Elimino aquellas que no sirven"
   ]
  },
  {
   "cell_type": "code",
   "execution_count": null,
   "id": "394f26c7",
   "metadata": {},
   "outputs": [
    {
     "data": {
      "application/vnd.microsoft.datawrangler.viewer.v0+json": {
       "columns": [
        {
         "name": "index",
         "rawType": "int64",
         "type": "integer"
        },
        {
         "name": "feature",
         "rawType": "object",
         "type": "string"
        },
        {
         "name": "importance",
         "rawType": "int64",
         "type": "integer"
        }
       ],
       "ref": "87fa4b9b-5553-4771-9749-4241efc53e0e",
       "rows": [
        [
         "67",
         "tn_vs_prev_year",
         "100"
        ],
        [
         "68",
         "tn_delta_lag5_lag8",
         "99"
        ],
        [
         "69",
         "tn_rolling_min_4",
         "96"
        ],
        [
         "70",
         "tn_lag_5",
         "95"
        ],
        [
         "71",
         "tn_rolling_std_6",
         "95"
        ],
        [
         "72",
         "tn_delta_lag4_lag9",
         "94"
        ],
        [
         "73",
         "tn_rolling_std_7",
         "92"
        ],
        [
         "74",
         "season_yearly",
         "92"
        ],
        [
         "75",
         "tn_delta_lag3_lag8",
         "91"
        ],
        [
         "76",
         "tn_delta_lag9_lag10",
         "90"
        ],
        [
         "77",
         "tn_lag_7",
         "89"
        ],
        [
         "78",
         "tn_delta_lag4_lag8",
         "88"
        ],
        [
         "79",
         "tn_lag_8",
         "87"
        ],
        [
         "80",
         "tn_rolling_max_4",
         "87"
        ],
        [
         "81",
         "tn_delta_lag7_lag10",
         "86"
        ],
        [
         "82",
         "tn_delta_lag2_lag8",
         "84"
        ],
        [
         "83",
         "tn_delta_lag5_lag7",
         "84"
        ],
        [
         "84",
         "tn_delta_lag1_lag9",
         "83"
        ],
        [
         "85",
         "tn_delta_lag4_lag10",
         "83"
        ],
        [
         "86",
         "tn_rolling_std_8",
         "83"
        ],
        [
         "88",
         "tn_delta_lag8_lag11",
         "83"
        ],
        [
         "89",
         "tn_delta_lag5_lag10",
         "82"
        ],
        [
         "90",
         "tn_seasonal_diff_12",
         "82"
        ],
        [
         "91",
         "tn_delta_lag2_lag9",
         "82"
        ],
        [
         "92",
         "tn_delta_lag3_lag11",
         "81"
        ],
        [
         "93",
         "tn_rolling_max_3",
         "81"
        ],
        [
         "94",
         "tn_delta_lag11_lag12",
         "81"
        ],
        [
         "95",
         "tn_delta_lag7_lag9",
         "78"
        ],
        [
         "96",
         "tn_delta_lag1_lag8",
         "78"
        ],
        [
         "97",
         "tn_delta_lag2_lag10",
         "78"
        ],
        [
         "98",
         "tn_delta_lag5_lag9",
         "77"
        ],
        [
         "99",
         "tn_delta_lag10_lag12",
         "77"
        ],
        [
         "100",
         "tn_rolling_mean_4",
         "75"
        ],
        [
         "101",
         "tn_trend_linear",
         "72"
        ],
        [
         "102",
         "tn_delta_lag6_lag9",
         "72"
        ],
        [
         "103",
         "tn_last3_vs_ly3",
         "71"
        ],
        [
         "105",
         "tn_rolling_min_6",
         "71"
        ],
        [
         "106",
         "tn_delta_lag2_lag11",
         "71"
        ],
        [
         "107",
         "tn_rolling_min_5",
         "71"
        ],
        [
         "108",
         "tn_lag_9",
         "70"
        ],
        [
         "109",
         "tn_delta_lag3_lag9",
         "70"
        ],
        [
         "110",
         "tn_rolling_mean_3",
         "69"
        ],
        [
         "112",
         "tn_lag_10",
         "68"
        ],
        [
         "113",
         "tn_delta_lag9_lag12",
         "67"
        ],
        [
         "114",
         "tn_delta_lag8_lag10",
         "66"
        ],
        [
         "115",
         "additive_terms",
         "65"
        ],
        [
         "116",
         "tn_delta_lag5_lag11",
         "65"
        ],
        [
         "117",
         "cat2_ROPA LAVADO",
         "64"
        ],
        [
         "118",
         "tn_delta_lag9_lag11",
         "62"
        ],
        [
         "119",
         "tn_delta_lag10_lag11",
         "61"
        ]
       ],
       "shape": {
        "columns": 2,
        "rows": 608
       }
      },
      "text/html": [
       "<div>\n",
       "<style scoped>\n",
       "    .dataframe tbody tr th:only-of-type {\n",
       "        vertical-align: middle;\n",
       "    }\n",
       "\n",
       "    .dataframe tbody tr th {\n",
       "        vertical-align: top;\n",
       "    }\n",
       "\n",
       "    .dataframe thead th {\n",
       "        text-align: right;\n",
       "    }\n",
       "</style>\n",
       "<table border=\"1\" class=\"dataframe\">\n",
       "  <thead>\n",
       "    <tr style=\"text-align: right;\">\n",
       "      <th></th>\n",
       "      <th>feature</th>\n",
       "      <th>importance</th>\n",
       "    </tr>\n",
       "  </thead>\n",
       "  <tbody>\n",
       "    <tr>\n",
       "      <th>67</th>\n",
       "      <td>tn_vs_prev_year</td>\n",
       "      <td>100</td>\n",
       "    </tr>\n",
       "    <tr>\n",
       "      <th>68</th>\n",
       "      <td>tn_delta_lag5_lag8</td>\n",
       "      <td>99</td>\n",
       "    </tr>\n",
       "    <tr>\n",
       "      <th>69</th>\n",
       "      <td>tn_rolling_min_4</td>\n",
       "      <td>96</td>\n",
       "    </tr>\n",
       "    <tr>\n",
       "      <th>70</th>\n",
       "      <td>tn_lag_5</td>\n",
       "      <td>95</td>\n",
       "    </tr>\n",
       "    <tr>\n",
       "      <th>71</th>\n",
       "      <td>tn_rolling_std_6</td>\n",
       "      <td>95</td>\n",
       "    </tr>\n",
       "    <tr>\n",
       "      <th>...</th>\n",
       "      <td>...</td>\n",
       "      <td>...</td>\n",
       "    </tr>\n",
       "    <tr>\n",
       "      <th>677</th>\n",
       "      <td>dia_del_year</td>\n",
       "      <td>0</td>\n",
       "    </tr>\n",
       "    <tr>\n",
       "      <th>678</th>\n",
       "      <td>cat2_TE</td>\n",
       "      <td>0</td>\n",
       "    </tr>\n",
       "    <tr>\n",
       "      <th>680</th>\n",
       "      <td>cat2_PIEL1</td>\n",
       "      <td>0</td>\n",
       "    </tr>\n",
       "    <tr>\n",
       "      <th>681</th>\n",
       "      <td>cat2_OTROS</td>\n",
       "      <td>0</td>\n",
       "    </tr>\n",
       "    <tr>\n",
       "      <th>682</th>\n",
       "      <td>tn_is_outlier_3sigma</td>\n",
       "      <td>0</td>\n",
       "    </tr>\n",
       "  </tbody>\n",
       "</table>\n",
       "<p>608 rows × 2 columns</p>\n",
       "</div>"
      ],
      "text/plain": [
       "                  feature  importance\n",
       "67        tn_vs_prev_year         100\n",
       "68     tn_delta_lag5_lag8          99\n",
       "69       tn_rolling_min_4          96\n",
       "70               tn_lag_5          95\n",
       "71       tn_rolling_std_6          95\n",
       "..                    ...         ...\n",
       "677          dia_del_year           0\n",
       "678               cat2_TE           0\n",
       "680            cat2_PIEL1           0\n",
       "681            cat2_OTROS           0\n",
       "682  tn_is_outlier_3sigma           0\n",
       "\n",
       "[608 rows x 2 columns]"
      ]
     },
     "execution_count": 13,
     "metadata": {},
     "output_type": "execute_result"
    }
   ],
   "source": [
    "# importantes = pd.read_csv(\"./feature_importance/exp04_3.csv\", sep=',', encoding='utf-8')\n",
    "# no_importantes = importantes[importantes['importance'] <= 100]\n",
    "# no_importantes = no_importantes[~no_importantes['feature'].isin(columnas_baseline)]\n",
    "# no_importantes"
   ]
  },
  {
   "cell_type": "code",
   "execution_count": null,
   "id": "64ffa0fc",
   "metadata": {},
   "outputs": [
    {
     "name": "stdout",
     "output_type": "stream",
     "text": [
      "Antes de eliminar: 1144 columnas\n",
      "Después de eliminar: 684 columnas\n"
     ]
    }
   ],
   "source": [
    "# cols_a_eliminar = no_importantes.feature.unique()\n",
    "# print(f\"Antes de eliminar: {df.shape[1]} columnas\")\n",
    "# df = df.drop(columns=cols_a_eliminar, errors='ignore')\n",
    "# print(f\"Después de eliminar: {df.shape[1]} columnas\")"
   ]
  },
  {
   "cell_type": "markdown",
   "id": "db213673",
   "metadata": {},
   "source": [
    "Eliminar object/categorical columnas"
   ]
  },
  {
   "cell_type": "code",
   "execution_count": 14,
   "id": "a71a529b",
   "metadata": {},
   "outputs": [],
   "source": [
    "df = df.select_dtypes(exclude=['datetime', 'datetime64', 'object'])"
   ]
  },
  {
   "cell_type": "markdown",
   "id": "4ff4ee13",
   "metadata": {},
   "source": [
    "Train Test Split"
   ]
  },
  {
   "cell_type": "code",
   "execution_count": 15,
   "id": "32557458",
   "metadata": {},
   "outputs": [],
   "source": [
    "train = df[df['periodo'] <= 201912]\n",
    "test = df[df['periodo'] == 201912]"
   ]
  },
  {
   "cell_type": "markdown",
   "id": "cf3fabe4",
   "metadata": {},
   "source": [
    "Entrenamiento"
   ]
  },
  {
   "cell_type": "code",
   "execution_count": 16,
   "id": "73042e3d",
   "metadata": {},
   "outputs": [
    {
     "name": "stdout",
     "output_type": "stream",
     "text": [
      "\n",
      "Para visualizar los resultados en tiempo real:\n",
      "1. Abre otra terminal y ejecuta:\n",
      "   optuna-dashboard sqlite:///optuna_studies_v16.db\n",
      "2. Abre en tu navegador: http://127.0.0.1:8080/\n"
     ]
    },
    {
     "name": "stderr",
     "output_type": "stream",
     "text": [
      "[I 2025-07-03 14:25:49,054] A new study created in RDB with name: lightgbm_optimization_v16\n",
      "[I 2025-07-03 14:31:40,686] Trial 0 finished with value: 9.655218078421573 and parameters: {'num_leaves': 47, 'learning_rate': 0.2536999076681772, 'feature_fraction': 0.892797576724562, 'bagging_fraction': 0.8795975452591109, 'bagging_freq': 2, 'lambda_l1': 2.5348407664333426e-07, 'lambda_l2': 3.3323645788192616e-08, 'min_child_samples': 45, 'max_depth': 7, 'max_bin': 383, 'min_data_in_leaf': 21, 'extra_trees': True, 'early_stopping_rounds': 18, 'path_smooth': 0.18182496720710062, 'min_gain_to_split': 0.09170225492671691}. Best is trial 0 with value: 9.655218078421573.\n"
     ]
    },
    {
     "name": "stdout",
     "output_type": "stream",
     "text": [
      "Mejor trial hasta ahora: RMSE=9.655218, Parámetros={'num_leaves': 47, 'learning_rate': 0.2536999076681772, 'feature_fraction': 0.892797576724562, 'bagging_fraction': 0.8795975452591109, 'bagging_freq': 2, 'lambda_l1': 2.5348407664333426e-07, 'lambda_l2': 3.3323645788192616e-08, 'min_child_samples': 45, 'max_depth': 7, 'max_bin': 383, 'min_data_in_leaf': 21, 'extra_trees': True, 'early_stopping_rounds': 18, 'path_smooth': 0.18182496720710062, 'min_gain_to_split': 0.09170225492671691}\n"
     ]
    },
    {
     "name": "stderr",
     "output_type": "stream",
     "text": [
      "[I 2025-07-03 14:44:41,985] Trial 1 finished with value: 16.993553818248238 and parameters: {'num_leaves': 41, 'learning_rate': 0.05958389350068958, 'feature_fraction': 0.7727780074568463, 'bagging_fraction': 0.7873687420594125, 'bagging_freq': 7, 'lambda_l1': 1.8007140198129195e-07, 'lambda_l2': 4.258943089524393e-06, 'min_child_samples': 25, 'max_depth': 6, 'max_bin': 414, 'min_data_in_leaf': 36, 'extra_trees': False, 'early_stopping_rounds': 11, 'path_smooth': 0.6075448519014384, 'min_gain_to_split': 0.08526206184364576}. Best is trial 0 with value: 9.655218078421573.\n"
     ]
    },
    {
     "name": "stdout",
     "output_type": "stream",
     "text": [
      "Mejor trial hasta ahora: RMSE=9.655218, Parámetros={'num_leaves': 47, 'learning_rate': 0.2536999076681772, 'feature_fraction': 0.892797576724562, 'bagging_fraction': 0.8795975452591109, 'bagging_freq': 2, 'lambda_l1': 2.5348407664333426e-07, 'lambda_l2': 3.3323645788192616e-08, 'min_child_samples': 45, 'max_depth': 7, 'max_bin': 383, 'min_data_in_leaf': 21, 'extra_trees': True, 'early_stopping_rounds': 18, 'path_smooth': 0.18182496720710062, 'min_gain_to_split': 0.09170225492671691}\n"
     ]
    },
    {
     "name": "stderr",
     "output_type": "stream",
     "text": [
      "[I 2025-07-03 14:49:36,598] Trial 2 finished with value: 35.57040155832384 and parameters: {'num_leaves': 20, 'learning_rate': 0.2521267904777921, 'feature_fraction': 0.9862528132298237, 'bagging_fraction': 0.9425192044349383, 'bagging_freq': 4, 'lambda_l1': 7.569183361880229e-08, 'lambda_l2': 0.014391207615728067, 'min_child_samples': 28, 'max_depth': 3, 'max_bin': 298, 'min_data_in_leaf': 22, 'extra_trees': True, 'early_stopping_rounds': 37, 'path_smooth': 0.31171107608941095, 'min_gain_to_split': 0.2600340105889054}. Best is trial 0 with value: 9.655218078421573.\n"
     ]
    },
    {
     "name": "stdout",
     "output_type": "stream",
     "text": [
      "Mejor trial hasta ahora: RMSE=9.655218, Parámetros={'num_leaves': 47, 'learning_rate': 0.2536999076681772, 'feature_fraction': 0.892797576724562, 'bagging_fraction': 0.8795975452591109, 'bagging_freq': 2, 'lambda_l1': 2.5348407664333426e-07, 'lambda_l2': 3.3323645788192616e-08, 'min_child_samples': 45, 'max_depth': 7, 'max_bin': 383, 'min_data_in_leaf': 21, 'extra_trees': True, 'early_stopping_rounds': 18, 'path_smooth': 0.18182496720710062, 'min_gain_to_split': 0.09170225492671691}\n"
     ]
    },
    {
     "name": "stderr",
     "output_type": "stream",
     "text": [
      "[I 2025-07-03 15:00:31,892] Trial 3 finished with value: 104.41198160876215 and parameters: {'num_leaves': 62, 'learning_rate': 0.01875220945578641, 'feature_fraction': 0.9878338511058234, 'bagging_fraction': 0.9325398470083344, 'bagging_freq': 10, 'lambda_l1': 1.1309571585271483, 'lambda_l2': 0.002404915432737351, 'min_child_samples': 47, 'max_depth': 3, 'max_bin': 178, 'min_data_in_leaf': 23, 'extra_trees': False, 'early_stopping_rounds': 21, 'path_smooth': 0.8287375091519293, 'min_gain_to_split': 0.17837666334679464}. Best is trial 0 with value: 9.655218078421573.\n"
     ]
    },
    {
     "name": "stdout",
     "output_type": "stream",
     "text": [
      "Mejor trial hasta ahora: RMSE=9.655218, Parámetros={'num_leaves': 47, 'learning_rate': 0.2536999076681772, 'feature_fraction': 0.892797576724562, 'bagging_fraction': 0.8795975452591109, 'bagging_freq': 2, 'lambda_l1': 2.5348407664333426e-07, 'lambda_l2': 3.3323645788192616e-08, 'min_child_samples': 45, 'max_depth': 7, 'max_bin': 383, 'min_data_in_leaf': 21, 'extra_trees': True, 'early_stopping_rounds': 18, 'path_smooth': 0.18182496720710062, 'min_gain_to_split': 0.09170225492671691}\n"
     ]
    },
    {
     "name": "stderr",
     "output_type": "stream",
     "text": [
      "[I 2025-07-03 15:07:44,776] Trial 4 finished with value: 106.73662591028014 and parameters: {'num_leaves': 39, 'learning_rate': 0.06333268775321843, 'feature_fraction': 0.6563696899899051, 'bagging_fraction': 0.9406590942262119, 'bagging_freq': 1, 'lambda_l1': 7.620481786158549, 'lambda_l2': 0.08916674715636537, 'min_child_samples': 18, 'max_depth': 3, 'max_bin': 427, 'min_data_in_leaf': 77, 'extra_trees': False, 'early_stopping_rounds': 13, 'path_smooth': 0.3584657285442726, 'min_gain_to_split': 0.05793452976256486}. Best is trial 0 with value: 9.655218078421573.\n"
     ]
    },
    {
     "name": "stdout",
     "output_type": "stream",
     "text": [
      "Mejor trial hasta ahora: RMSE=9.655218, Parámetros={'num_leaves': 47, 'learning_rate': 0.2536999076681772, 'feature_fraction': 0.892797576724562, 'bagging_fraction': 0.8795975452591109, 'bagging_freq': 2, 'lambda_l1': 2.5348407664333426e-07, 'lambda_l2': 3.3323645788192616e-08, 'min_child_samples': 45, 'max_depth': 7, 'max_bin': 383, 'min_data_in_leaf': 21, 'extra_trees': True, 'early_stopping_rounds': 18, 'path_smooth': 0.18182496720710062, 'min_gain_to_split': 0.09170225492671691}\n"
     ]
    },
    {
     "name": "stderr",
     "output_type": "stream",
     "text": [
      "[I 2025-07-03 15:19:19,703] Trial 5 finished with value: 8.010879917477485 and parameters: {'num_leaves': 89, 'learning_rate': 0.08330803890301997, 'feature_fraction': 0.7323592099410596, 'bagging_fraction': 0.7190675050858071, 'bagging_freq': 4, 'lambda_l1': 8.445977074223802e-06, 'lambda_l2': 0.036851536911881845, 'min_child_samples': 36, 'max_depth': 10, 'max_bin': 289, 'min_data_in_leaf': 29, 'extra_trees': False, 'early_stopping_rounds': 33, 'path_smooth': 0.770967179954561, 'min_gain_to_split': 0.24689779818219537}. Best is trial 5 with value: 8.010879917477485.\n"
     ]
    },
    {
     "name": "stdout",
     "output_type": "stream",
     "text": [
      "Mejor trial hasta ahora: RMSE=8.010880, Parámetros={'num_leaves': 89, 'learning_rate': 0.08330803890301997, 'feature_fraction': 0.7323592099410596, 'bagging_fraction': 0.7190675050858071, 'bagging_freq': 4, 'lambda_l1': 8.445977074223802e-06, 'lambda_l2': 0.036851536911881845, 'min_child_samples': 36, 'max_depth': 10, 'max_bin': 289, 'min_data_in_leaf': 29, 'extra_trees': False, 'early_stopping_rounds': 33, 'path_smooth': 0.770967179954561, 'min_gain_to_split': 0.24689779818219537}\n"
     ]
    },
    {
     "name": "stderr",
     "output_type": "stream",
     "text": [
      "[I 2025-07-03 15:26:46,631] Trial 6 finished with value: 3.7439563904501405 and parameters: {'num_leaves': 59, 'learning_rate': 0.042808491617570936, 'feature_fraction': 0.610167650697638, 'bagging_fraction': 0.7323674280979913, 'bagging_freq': 1, 'lambda_l1': 0.005341874754868531, 'lambda_l2': 6.748446817464346e-06, 'min_child_samples': 30, 'max_depth': 10, 'max_bin': 199, 'min_data_in_leaf': 53, 'extra_trees': True, 'early_stopping_rounds': 13, 'path_smooth': 0.289751452913768, 'min_gain_to_split': 0.08061064362700221}. Best is trial 6 with value: 3.7439563904501405.\n"
     ]
    },
    {
     "name": "stdout",
     "output_type": "stream",
     "text": [
      "Mejor trial hasta ahora: RMSE=3.743956, Parámetros={'num_leaves': 59, 'learning_rate': 0.042808491617570936, 'feature_fraction': 0.610167650697638, 'bagging_fraction': 0.7323674280979913, 'bagging_freq': 1, 'lambda_l1': 0.005341874754868531, 'lambda_l2': 6.748446817464346e-06, 'min_child_samples': 30, 'max_depth': 10, 'max_bin': 199, 'min_data_in_leaf': 53, 'extra_trees': True, 'early_stopping_rounds': 13, 'path_smooth': 0.289751452913768, 'min_gain_to_split': 0.08061064362700221}\n"
     ]
    },
    {
     "name": "stderr",
     "output_type": "stream",
     "text": [
      "[I 2025-07-03 15:38:03,215] Trial 7 finished with value: 5.15615881548735 and parameters: {'num_leaves': 94, 'learning_rate': 0.156203869845265, 'feature_fraction': 0.8533615026041694, 'bagging_fraction': 0.9614381770563153, 'bagging_freq': 9, 'lambda_l1': 4.776728196949699e-07, 'lambda_l2': 1.0790237065789294, 'min_child_samples': 32, 'max_depth': 9, 'max_bin': 459, 'min_data_in_leaf': 45, 'extra_trees': False, 'early_stopping_rounds': 27, 'path_smooth': 0.8180147659224931, 'min_gain_to_split': 0.4303652916281717}. Best is trial 6 with value: 3.7439563904501405.\n"
     ]
    },
    {
     "name": "stdout",
     "output_type": "stream",
     "text": [
      "Mejor trial hasta ahora: RMSE=3.743956, Parámetros={'num_leaves': 59, 'learning_rate': 0.042808491617570936, 'feature_fraction': 0.610167650697638, 'bagging_fraction': 0.7323674280979913, 'bagging_freq': 1, 'lambda_l1': 0.005341874754868531, 'lambda_l2': 6.748446817464346e-06, 'min_child_samples': 30, 'max_depth': 10, 'max_bin': 199, 'min_data_in_leaf': 53, 'extra_trees': True, 'early_stopping_rounds': 13, 'path_smooth': 0.289751452913768, 'min_gain_to_split': 0.08061064362700221}\n"
     ]
    },
    {
     "name": "stderr",
     "output_type": "stream",
     "text": [
      "[I 2025-07-03 15:44:36,188] Trial 8 finished with value: 24.46249567021842 and parameters: {'num_leaves': 15, 'learning_rate': 0.05681142678077596, 'feature_fraction': 0.7669644012595116, 'bagging_fraction': 0.7666323431412191, 'bagging_freq': 2, 'lambda_l1': 1.0927895733904103e-05, 'lambda_l2': 3.0632845126552133, 'min_child_samples': 23, 'max_depth': 7, 'max_bin': 381, 'min_data_in_leaf': 49, 'extra_trees': True, 'early_stopping_rounds': 20, 'path_smooth': 0.49724850589238545, 'min_gain_to_split': 0.15043915490838483}. Best is trial 6 with value: 3.7439563904501405.\n"
     ]
    },
    {
     "name": "stdout",
     "output_type": "stream",
     "text": [
      "Mejor trial hasta ahora: RMSE=3.743956, Parámetros={'num_leaves': 59, 'learning_rate': 0.042808491617570936, 'feature_fraction': 0.610167650697638, 'bagging_fraction': 0.7323674280979913, 'bagging_freq': 1, 'lambda_l1': 0.005341874754868531, 'lambda_l2': 6.748446817464346e-06, 'min_child_samples': 30, 'max_depth': 10, 'max_bin': 199, 'min_data_in_leaf': 53, 'extra_trees': True, 'early_stopping_rounds': 13, 'path_smooth': 0.289751452913768, 'min_gain_to_split': 0.08061064362700221}\n"
     ]
    },
    {
     "name": "stderr",
     "output_type": "stream",
     "text": [
      "[I 2025-07-03 15:58:14,711] Trial 9 finished with value: 78.33851099382329 and parameters: {'num_leaves': 39, 'learning_rate': 0.011336695817840537, 'feature_fraction': 0.8438257335919588, 'bagging_fraction': 0.8508037069686585, 'bagging_freq': 1, 'lambda_l1': 3.21972053981427e-06, 'lambda_l2': 1.49414578394363, 'min_child_samples': 19, 'max_depth': 4, 'max_bin': 296, 'min_data_in_leaf': 99, 'extra_trees': False, 'early_stopping_rounds': 41, 'path_smooth': 0.23763754399239967, 'min_gain_to_split': 0.3641081743059298}. Best is trial 6 with value: 3.7439563904501405.\n"
     ]
    },
    {
     "name": "stdout",
     "output_type": "stream",
     "text": [
      "Mejor trial hasta ahora: RMSE=3.743956, Parámetros={'num_leaves': 59, 'learning_rate': 0.042808491617570936, 'feature_fraction': 0.610167650697638, 'bagging_fraction': 0.7323674280979913, 'bagging_freq': 1, 'lambda_l1': 0.005341874754868531, 'lambda_l2': 6.748446817464346e-06, 'min_child_samples': 30, 'max_depth': 10, 'max_bin': 199, 'min_data_in_leaf': 53, 'extra_trees': True, 'early_stopping_rounds': 13, 'path_smooth': 0.289751452913768, 'min_gain_to_split': 0.08061064362700221}\n"
     ]
    },
    {
     "name": "stderr",
     "output_type": "stream",
     "text": [
      "[I 2025-07-03 16:05:42,858] Trial 10 finished with value: 5.526504733626148 and parameters: {'num_leaves': 70, 'learning_rate': 0.029068799010326083, 'feature_fraction': 0.6030189277265172, 'bagging_fraction': 0.7053885626844458, 'bagging_freq': 6, 'lambda_l1': 0.016301353379407614, 'lambda_l2': 1.785697818123025e-05, 'min_child_samples': 11, 'max_depth': 9, 'max_bin': 104, 'min_data_in_leaf': 67, 'extra_trees': True, 'early_stopping_rounds': 47, 'path_smooth': 0.07644843397269116, 'min_gain_to_split': 0.016311559769174172}. Best is trial 6 with value: 3.7439563904501405.\n"
     ]
    },
    {
     "name": "stdout",
     "output_type": "stream",
     "text": [
      "Mejor trial hasta ahora: RMSE=3.743956, Parámetros={'num_leaves': 59, 'learning_rate': 0.042808491617570936, 'feature_fraction': 0.610167650697638, 'bagging_fraction': 0.7323674280979913, 'bagging_freq': 1, 'lambda_l1': 0.005341874754868531, 'lambda_l2': 6.748446817464346e-06, 'min_child_samples': 30, 'max_depth': 10, 'max_bin': 199, 'min_data_in_leaf': 53, 'extra_trees': True, 'early_stopping_rounds': 13, 'path_smooth': 0.289751452913768, 'min_gain_to_split': 0.08061064362700221}\n"
     ]
    },
    {
     "name": "stderr",
     "output_type": "stream",
     "text": [
      "[I 2025-07-03 16:13:11,203] Trial 11 finished with value: 3.5164749548688676 and parameters: {'num_leaves': 96, 'learning_rate': 0.1251653145864116, 'feature_fraction': 0.8834227868828812, 'bagging_fraction': 0.9812246562585575, 'bagging_freq': 10, 'lambda_l1': 0.0017917827394915457, 'lambda_l2': 5.258219487669763e-05, 'min_child_samples': 34, 'max_depth': 9, 'max_bin': 494, 'min_data_in_leaf': 49, 'extra_trees': True, 'early_stopping_rounds': 27, 'path_smooth': 0.9812035852809249, 'min_gain_to_split': 0.47411998848815184}. Best is trial 11 with value: 3.5164749548688676.\n"
     ]
    },
    {
     "name": "stdout",
     "output_type": "stream",
     "text": [
      "Mejor trial hasta ahora: RMSE=3.516475, Parámetros={'num_leaves': 96, 'learning_rate': 0.1251653145864116, 'feature_fraction': 0.8834227868828812, 'bagging_fraction': 0.9812246562585575, 'bagging_freq': 10, 'lambda_l1': 0.0017917827394915457, 'lambda_l2': 5.258219487669763e-05, 'min_child_samples': 34, 'max_depth': 9, 'max_bin': 494, 'min_data_in_leaf': 49, 'extra_trees': True, 'early_stopping_rounds': 27, 'path_smooth': 0.9812035852809249, 'min_gain_to_split': 0.47411998848815184}\n"
     ]
    },
    {
     "name": "stderr",
     "output_type": "stream",
     "text": [
      "[I 2025-07-03 16:18:18,243] Trial 12 finished with value: 2.5456387922260126 and parameters: {'num_leaves': 79, 'learning_rate': 0.11440654892094684, 'feature_fraction': 0.9053986232371537, 'bagging_fraction': 0.7988287677667018, 'bagging_freq': 8, 'lambda_l1': 0.003857574161640363, 'lambda_l2': 3.8925679417681855e-05, 'min_child_samples': 39, 'max_depth': 10, 'max_bin': 208, 'min_data_in_leaf': 58, 'extra_trees': True, 'early_stopping_rounds': 27, 'path_smooth': 0.9901597696400357, 'min_gain_to_split': 0.44819072914026564}. Best is trial 12 with value: 2.5456387922260126.\n"
     ]
    },
    {
     "name": "stdout",
     "output_type": "stream",
     "text": [
      "Mejor trial hasta ahora: RMSE=2.545639, Parámetros={'num_leaves': 79, 'learning_rate': 0.11440654892094684, 'feature_fraction': 0.9053986232371537, 'bagging_fraction': 0.7988287677667018, 'bagging_freq': 8, 'lambda_l1': 0.003857574161640363, 'lambda_l2': 3.8925679417681855e-05, 'min_child_samples': 39, 'max_depth': 10, 'max_bin': 208, 'min_data_in_leaf': 58, 'extra_trees': True, 'early_stopping_rounds': 27, 'path_smooth': 0.9901597696400357, 'min_gain_to_split': 0.44819072914026564}\n"
     ]
    },
    {
     "name": "stderr",
     "output_type": "stream",
     "text": [
      "[I 2025-07-03 16:24:17,830] Trial 13 finished with value: 2.339916962648217 and parameters: {'num_leaves': 80, 'learning_rate': 0.12135983719521656, 'feature_fraction': 0.9178581456448356, 'bagging_fraction': 0.8121933117224753, 'bagging_freq': 8, 'lambda_l1': 0.0006418643074595679, 'lambda_l2': 0.0001582574379358235, 'min_child_samples': 39, 'max_depth': 8, 'max_bin': 492, 'min_data_in_leaf': 66, 'extra_trees': True, 'early_stopping_rounds': 27, 'path_smooth': 0.9559291326495888, 'min_gain_to_split': 0.4900967110055443}. Best is trial 13 with value: 2.339916962648217.\n"
     ]
    },
    {
     "name": "stdout",
     "output_type": "stream",
     "text": [
      "Mejor trial hasta ahora: RMSE=2.339917, Parámetros={'num_leaves': 80, 'learning_rate': 0.12135983719521656, 'feature_fraction': 0.9178581456448356, 'bagging_fraction': 0.8121933117224753, 'bagging_freq': 8, 'lambda_l1': 0.0006418643074595679, 'lambda_l2': 0.0001582574379358235, 'min_child_samples': 39, 'max_depth': 8, 'max_bin': 492, 'min_data_in_leaf': 66, 'extra_trees': True, 'early_stopping_rounds': 27, 'path_smooth': 0.9559291326495888, 'min_gain_to_split': 0.4900967110055443}\n"
     ]
    },
    {
     "name": "stderr",
     "output_type": "stream",
     "text": [
      "[I 2025-07-03 16:29:09,616] Trial 14 finished with value: 3.066245688783929 and parameters: {'num_leaves': 78, 'learning_rate': 0.11852639795705067, 'feature_fraction': 0.9386049328904916, 'bagging_fraction': 0.8149924739869824, 'bagging_freq': 8, 'lambda_l1': 0.00012961835467466295, 'lambda_l2': 1.867419886801835e-07, 'min_child_samples': 40, 'max_depth': 8, 'max_bin': 228, 'min_data_in_leaf': 73, 'extra_trees': True, 'early_stopping_rounds': 31, 'path_smooth': 0.9652325178791951, 'min_gain_to_split': 0.345031054419045}. Best is trial 13 with value: 2.339916962648217.\n"
     ]
    },
    {
     "name": "stdout",
     "output_type": "stream",
     "text": [
      "Mejor trial hasta ahora: RMSE=2.339917, Parámetros={'num_leaves': 80, 'learning_rate': 0.12135983719521656, 'feature_fraction': 0.9178581456448356, 'bagging_fraction': 0.8121933117224753, 'bagging_freq': 8, 'lambda_l1': 0.0006418643074595679, 'lambda_l2': 0.0001582574379358235, 'min_child_samples': 39, 'max_depth': 8, 'max_bin': 492, 'min_data_in_leaf': 66, 'extra_trees': True, 'early_stopping_rounds': 27, 'path_smooth': 0.9559291326495888, 'min_gain_to_split': 0.4900967110055443}\n"
     ]
    },
    {
     "name": "stderr",
     "output_type": "stream",
     "text": [
      "[I 2025-07-03 16:32:31,414] Trial 15 finished with value: 7.396522712199588 and parameters: {'num_leaves': 81, 'learning_rate': 0.17322152956956832, 'feature_fraction': 0.930746924386335, 'bagging_fraction': 0.8718182373235278, 'bagging_freq': 8, 'lambda_l1': 0.19311805214142994, 'lambda_l2': 0.0003968541767466384, 'min_child_samples': 41, 'max_depth': 6, 'max_bin': 117, 'min_data_in_leaf': 88, 'extra_trees': True, 'early_stopping_rounds': 23, 'path_smooth': 0.6538839629254711, 'min_gain_to_split': 0.4951513177449245}. Best is trial 13 with value: 2.339916962648217.\n"
     ]
    },
    {
     "name": "stdout",
     "output_type": "stream",
     "text": [
      "Mejor trial hasta ahora: RMSE=2.339917, Parámetros={'num_leaves': 80, 'learning_rate': 0.12135983719521656, 'feature_fraction': 0.9178581456448356, 'bagging_fraction': 0.8121933117224753, 'bagging_freq': 8, 'lambda_l1': 0.0006418643074595679, 'lambda_l2': 0.0001582574379358235, 'min_child_samples': 39, 'max_depth': 8, 'max_bin': 492, 'min_data_in_leaf': 66, 'extra_trees': True, 'early_stopping_rounds': 27, 'path_smooth': 0.9559291326495888, 'min_gain_to_split': 0.4900967110055443}\n"
     ]
    },
    {
     "name": "stderr",
     "output_type": "stream",
     "text": [
      "[I 2025-07-03 16:37:30,472] Trial 16 finished with value: 3.6958266404469726 and parameters: {'num_leaves': 76, 'learning_rate': 0.10225815538856867, 'feature_fraction': 0.8259468426760236, 'bagging_fraction': 0.8130078519989985, 'bagging_freq': 6, 'lambda_l1': 0.00023611422733317157, 'lambda_l2': 6.284895195080923e-07, 'min_child_samples': 50, 'max_depth': 8, 'max_bin': 234, 'min_data_in_leaf': 61, 'extra_trees': True, 'early_stopping_rounds': 40, 'path_smooth': 0.910828746260339, 'min_gain_to_split': 0.40114608948482144}. Best is trial 13 with value: 2.339916962648217.\n"
     ]
    },
    {
     "name": "stdout",
     "output_type": "stream",
     "text": [
      "Mejor trial hasta ahora: RMSE=2.339917, Parámetros={'num_leaves': 80, 'learning_rate': 0.12135983719521656, 'feature_fraction': 0.9178581456448356, 'bagging_fraction': 0.8121933117224753, 'bagging_freq': 8, 'lambda_l1': 0.0006418643074595679, 'lambda_l2': 0.0001582574379358235, 'min_child_samples': 39, 'max_depth': 8, 'max_bin': 492, 'min_data_in_leaf': 66, 'extra_trees': True, 'early_stopping_rounds': 27, 'path_smooth': 0.9559291326495888, 'min_gain_to_split': 0.4900967110055443}\n"
     ]
    },
    {
     "name": "stderr",
     "output_type": "stream",
     "text": [
      "[I 2025-07-03 16:43:07,450] Trial 17 finished with value: 15.036304907765096 and parameters: {'num_leaves': 86, 'learning_rate': 0.036622033681778327, 'feature_fraction': 0.9287211378997813, 'bagging_fraction': 0.7594724924908481, 'bagging_freq': 8, 'lambda_l1': 0.1795042431672916, 'lambda_l2': 0.00027940993928528675, 'min_child_samples': 38, 'max_depth': 5, 'max_bin': 154, 'min_data_in_leaf': 83, 'extra_trees': True, 'early_stopping_rounds': 34, 'path_smooth': 0.7087397162307963, 'min_gain_to_split': 0.33339368914638473}. Best is trial 13 with value: 2.339916962648217.\n"
     ]
    },
    {
     "name": "stdout",
     "output_type": "stream",
     "text": [
      "Mejor trial hasta ahora: RMSE=2.339917, Parámetros={'num_leaves': 80, 'learning_rate': 0.12135983719521656, 'feature_fraction': 0.9178581456448356, 'bagging_fraction': 0.8121933117224753, 'bagging_freq': 8, 'lambda_l1': 0.0006418643074595679, 'lambda_l2': 0.0001582574379358235, 'min_child_samples': 39, 'max_depth': 8, 'max_bin': 492, 'min_data_in_leaf': 66, 'extra_trees': True, 'early_stopping_rounds': 27, 'path_smooth': 0.9559291326495888, 'min_gain_to_split': 0.4900967110055443}\n"
     ]
    },
    {
     "name": "stderr",
     "output_type": "stream",
     "text": [
      "[I 2025-07-03 16:47:41,999] Trial 18 finished with value: 2.419971270405219 and parameters: {'num_leaves': 68, 'learning_rate': 0.18917630627280507, 'feature_fraction': 0.8889651410341739, 'bagging_fraction': 0.8243775269784812, 'bagging_freq': 5, 'lambda_l1': 0.028388260236606, 'lambda_l2': 0.00030067283019147707, 'min_child_samples': 43, 'max_depth': 8, 'max_bin': 336, 'min_data_in_leaf': 61, 'extra_trees': True, 'early_stopping_rounds': 26, 'path_smooth': 0.4385986624728322, 'min_gain_to_split': 0.4440384429583144}. Best is trial 13 with value: 2.339916962648217.\n"
     ]
    },
    {
     "name": "stdout",
     "output_type": "stream",
     "text": [
      "Mejor trial hasta ahora: RMSE=2.339917, Parámetros={'num_leaves': 80, 'learning_rate': 0.12135983719521656, 'feature_fraction': 0.9178581456448356, 'bagging_fraction': 0.8121933117224753, 'bagging_freq': 8, 'lambda_l1': 0.0006418643074595679, 'lambda_l2': 0.0001582574379358235, 'min_child_samples': 39, 'max_depth': 8, 'max_bin': 492, 'min_data_in_leaf': 66, 'extra_trees': True, 'early_stopping_rounds': 27, 'path_smooth': 0.9559291326495888, 'min_gain_to_split': 0.4900967110055443}\n"
     ]
    },
    {
     "name": "stderr",
     "output_type": "stream",
     "text": [
      "[I 2025-07-03 16:52:26,350] Trial 19 finished with value: 2.7430432336098685 and parameters: {'num_leaves': 67, 'learning_rate': 0.1888605702612668, 'feature_fraction': 0.8006523783833653, 'bagging_fraction': 0.9037633466282822, 'bagging_freq': 4, 'lambda_l1': 0.030256745798652267, 'lambda_l2': 0.00024249094036864896, 'min_child_samples': 43, 'max_depth': 8, 'max_bin': 343, 'min_data_in_leaf': 67, 'extra_trees': True, 'early_stopping_rounds': 17, 'path_smooth': 0.4869863520491829, 'min_gain_to_split': 0.2787588257864037}. Best is trial 13 with value: 2.339916962648217.\n"
     ]
    },
    {
     "name": "stdout",
     "output_type": "stream",
     "text": [
      "Mejor trial hasta ahora: RMSE=2.339917, Parámetros={'num_leaves': 80, 'learning_rate': 0.12135983719521656, 'feature_fraction': 0.9178581456448356, 'bagging_fraction': 0.8121933117224753, 'bagging_freq': 8, 'lambda_l1': 0.0006418643074595679, 'lambda_l2': 0.0001582574379358235, 'min_child_samples': 39, 'max_depth': 8, 'max_bin': 492, 'min_data_in_leaf': 66, 'extra_trees': True, 'early_stopping_rounds': 27, 'path_smooth': 0.9559291326495888, 'min_gain_to_split': 0.4900967110055443}\n"
     ]
    },
    {
     "name": "stderr",
     "output_type": "stream",
     "text": [
      "[I 2025-07-03 16:56:54,741] Trial 20 finished with value: 6.964026296221431 and parameters: {'num_leaves': 51, 'learning_rate': 0.27695181472908825, 'feature_fraction': 0.9658866639352732, 'bagging_fraction': 0.8337067503420713, 'bagging_freq': 5, 'lambda_l1': 6.546279995164853e-05, 'lambda_l2': 0.0029877678779985017, 'min_child_samples': 49, 'max_depth': 7, 'max_bin': 485, 'min_data_in_leaf': 37, 'extra_trees': True, 'early_stopping_rounds': 50, 'path_smooth': 0.41756479390782164, 'min_gain_to_split': 0.3940592932171197}. Best is trial 13 with value: 2.339916962648217.\n"
     ]
    },
    {
     "name": "stdout",
     "output_type": "stream",
     "text": [
      "Mejor trial hasta ahora: RMSE=2.339917, Parámetros={'num_leaves': 80, 'learning_rate': 0.12135983719521656, 'feature_fraction': 0.9178581456448356, 'bagging_fraction': 0.8121933117224753, 'bagging_freq': 8, 'lambda_l1': 0.0006418643074595679, 'lambda_l2': 0.0001582574379358235, 'min_child_samples': 39, 'max_depth': 8, 'max_bin': 492, 'min_data_in_leaf': 66, 'extra_trees': True, 'early_stopping_rounds': 27, 'path_smooth': 0.9559291326495888, 'min_gain_to_split': 0.4900967110055443}\n"
     ]
    },
    {
     "name": "stderr",
     "output_type": "stream",
     "text": [
      "[I 2025-07-03 17:02:57,303] Trial 21 finished with value: 9.140224211716076 and parameters: {'num_leaves': 68, 'learning_rate': 0.08568906082534365, 'feature_fraction': 0.8939102747980355, 'bagging_fraction': 0.7959719275908881, 'bagging_freq': 7, 'lambda_l1': 0.0009425579006662843, 'lambda_l2': 0.00011014974865256067, 'min_child_samples': 38, 'max_depth': 10, 'max_bin': 257, 'min_data_in_leaf': 58, 'extra_trees': True, 'early_stopping_rounds': 26, 'path_smooth': 0.5862215924725953, 'min_gain_to_split': 0.45482444610910694}. Best is trial 13 with value: 2.339916962648217.\n"
     ]
    },
    {
     "name": "stdout",
     "output_type": "stream",
     "text": [
      "Mejor trial hasta ahora: RMSE=2.339917, Parámetros={'num_leaves': 80, 'learning_rate': 0.12135983719521656, 'feature_fraction': 0.9178581456448356, 'bagging_fraction': 0.8121933117224753, 'bagging_freq': 8, 'lambda_l1': 0.0006418643074595679, 'lambda_l2': 0.0001582574379358235, 'min_child_samples': 39, 'max_depth': 8, 'max_bin': 492, 'min_data_in_leaf': 66, 'extra_trees': True, 'early_stopping_rounds': 27, 'path_smooth': 0.9559291326495888, 'min_gain_to_split': 0.4900967110055443}\n"
     ]
    },
    {
     "name": "stderr",
     "output_type": "stream",
     "text": [
      "[I 2025-07-03 17:08:08,492] Trial 22 finished with value: 4.031056394477456 and parameters: {'num_leaves': 76, 'learning_rate': 0.1515805316493431, 'feature_fraction': 0.8772981754944926, 'bagging_fraction': 0.8370200578755785, 'bagging_freq': 7, 'lambda_l1': 0.052591667004500596, 'lambda_l2': 0.0019726479441021885, 'min_child_samples': 44, 'max_depth': 9, 'max_bin': 346, 'min_data_in_leaf': 62, 'extra_trees': True, 'early_stopping_rounds': 24, 'path_smooth': 0.8814766450697669, 'min_gain_to_split': 0.49914179308300183}. Best is trial 13 with value: 2.339916962648217.\n"
     ]
    },
    {
     "name": "stdout",
     "output_type": "stream",
     "text": [
      "Mejor trial hasta ahora: RMSE=2.339917, Parámetros={'num_leaves': 80, 'learning_rate': 0.12135983719521656, 'feature_fraction': 0.9178581456448356, 'bagging_fraction': 0.8121933117224753, 'bagging_freq': 8, 'lambda_l1': 0.0006418643074595679, 'lambda_l2': 0.0001582574379358235, 'min_child_samples': 39, 'max_depth': 8, 'max_bin': 492, 'min_data_in_leaf': 66, 'extra_trees': True, 'early_stopping_rounds': 27, 'path_smooth': 0.9559291326495888, 'min_gain_to_split': 0.4900967110055443}\n"
     ]
    },
    {
     "name": "stderr",
     "output_type": "stream",
     "text": [
      "[I 2025-07-03 17:14:13,405] Trial 23 finished with value: 5.210529820567333 and parameters: {'num_leaves': 100, 'learning_rate': 0.08279284375665742, 'feature_fraction': 0.9276195453838222, 'bagging_fraction': 0.7551275976538635, 'bagging_freq': 5, 'lambda_l1': 0.0030982075988098077, 'lambda_l2': 8.63226395986657e-07, 'min_child_samples': 34, 'max_depth': 8, 'max_bin': 331, 'min_data_in_leaf': 75, 'extra_trees': True, 'early_stopping_rounds': 29, 'path_smooth': 0.755132656756861, 'min_gain_to_split': 0.42658957198644704}. Best is trial 13 with value: 2.339916962648217.\n"
     ]
    },
    {
     "name": "stdout",
     "output_type": "stream",
     "text": [
      "Mejor trial hasta ahora: RMSE=2.339917, Parámetros={'num_leaves': 80, 'learning_rate': 0.12135983719521656, 'feature_fraction': 0.9178581456448356, 'bagging_fraction': 0.8121933117224753, 'bagging_freq': 8, 'lambda_l1': 0.0006418643074595679, 'lambda_l2': 0.0001582574379358235, 'min_child_samples': 39, 'max_depth': 8, 'max_bin': 492, 'min_data_in_leaf': 66, 'extra_trees': True, 'early_stopping_rounds': 27, 'path_smooth': 0.9559291326495888, 'min_gain_to_split': 0.4900967110055443}\n"
     ]
    },
    {
     "name": "stderr",
     "output_type": "stream",
     "text": [
      "[I 2025-07-03 17:18:41,367] Trial 24 finished with value: 3.668187666692792 and parameters: {'num_leaves': 85, 'learning_rate': 0.19001425151634038, 'feature_fraction': 0.9527182837428496, 'bagging_fraction': 0.7859788220819446, 'bagging_freq': 9, 'lambda_l1': 0.010083280930209266, 'lambda_l2': 2.741147072113021e-05, 'min_child_samples': 42, 'max_depth': 9, 'max_bin': 258, 'min_data_in_leaf': 68, 'extra_trees': True, 'early_stopping_rounds': 31, 'path_smooth': 0.8950709875919433, 'min_gain_to_split': 0.44922282299778943}. Best is trial 13 with value: 2.339916962648217.\n"
     ]
    },
    {
     "name": "stdout",
     "output_type": "stream",
     "text": [
      "Mejor trial hasta ahora: RMSE=2.339917, Parámetros={'num_leaves': 80, 'learning_rate': 0.12135983719521656, 'feature_fraction': 0.9178581456448356, 'bagging_fraction': 0.8121933117224753, 'bagging_freq': 8, 'lambda_l1': 0.0006418643074595679, 'lambda_l2': 0.0001582574379358235, 'min_child_samples': 39, 'max_depth': 8, 'max_bin': 492, 'min_data_in_leaf': 66, 'extra_trees': True, 'early_stopping_rounds': 27, 'path_smooth': 0.9559291326495888, 'min_gain_to_split': 0.4900967110055443}\n"
     ]
    },
    {
     "name": "stderr",
     "output_type": "stream",
     "text": [
      "[I 2025-07-03 17:23:36,140] Trial 25 finished with value: 3.3873231431405584 and parameters: {'num_leaves': 74, 'learning_rate': 0.1264505749480517, 'feature_fraction': 0.9103037811953676, 'bagging_fraction': 0.8699801881459475, 'bagging_freq': 9, 'lambda_l1': 0.0006837978105948634, 'lambda_l2': 0.0012616393080595186, 'min_child_samples': 46, 'max_depth': 10, 'max_bin': 148, 'min_data_in_leaf': 41, 'extra_trees': True, 'early_stopping_rounds': 35, 'path_smooth': 0.996339688677947, 'min_gain_to_split': 0.3765784188051042}. Best is trial 13 with value: 2.339916962648217.\n"
     ]
    },
    {
     "name": "stdout",
     "output_type": "stream",
     "text": [
      "Mejor trial hasta ahora: RMSE=2.339917, Parámetros={'num_leaves': 80, 'learning_rate': 0.12135983719521656, 'feature_fraction': 0.9178581456448356, 'bagging_fraction': 0.8121933117224753, 'bagging_freq': 8, 'lambda_l1': 0.0006418643074595679, 'lambda_l2': 0.0001582574379358235, 'min_child_samples': 39, 'max_depth': 8, 'max_bin': 492, 'min_data_in_leaf': 66, 'extra_trees': True, 'early_stopping_rounds': 27, 'path_smooth': 0.9559291326495888, 'min_gain_to_split': 0.4900967110055443}\n"
     ]
    },
    {
     "name": "stderr",
     "output_type": "stream",
     "text": [
      "[I 2025-07-03 17:27:59,969] Trial 26 finished with value: 12.444833579352728 and parameters: {'num_leaves': 62, 'learning_rate': 0.21143725439255703, 'feature_fraction': 0.8647346271372789, 'bagging_fraction': 0.8139887494844241, 'bagging_freq': 6, 'lambda_l1': 0.26254747876299117, 'lambda_l2': 6.446451145167795e-06, 'min_child_samples': 38, 'max_depth': 6, 'max_bin': 461, 'min_data_in_leaf': 56, 'extra_trees': True, 'early_stopping_rounds': 24, 'path_smooth': 0.5530242672312145, 'min_gain_to_split': 0.30527217595162176}. Best is trial 13 with value: 2.339916962648217.\n"
     ]
    },
    {
     "name": "stdout",
     "output_type": "stream",
     "text": [
      "Mejor trial hasta ahora: RMSE=2.339917, Parámetros={'num_leaves': 80, 'learning_rate': 0.12135983719521656, 'feature_fraction': 0.9178581456448356, 'bagging_fraction': 0.8121933117224753, 'bagging_freq': 8, 'lambda_l1': 0.0006418643074595679, 'lambda_l2': 0.0001582574379358235, 'min_child_samples': 39, 'max_depth': 8, 'max_bin': 492, 'min_data_in_leaf': 66, 'extra_trees': True, 'early_stopping_rounds': 27, 'path_smooth': 0.9559291326495888, 'min_gain_to_split': 0.4900967110055443}\n",
      "Estudio guardado en: sqlite:///optuna_studies_v16.db\n",
      "\n",
      "Mejores hiperparámetros encontrados:\n",
      "num_leaves: 80\n",
      "learning_rate: 0.12135983719521656\n",
      "feature_fraction: 0.9178581456448356\n",
      "bagging_fraction: 0.8121933117224753\n",
      "bagging_freq: 8\n",
      "lambda_l1: 0.0006418643074595679\n",
      "lambda_l2: 0.0001582574379358235\n",
      "min_child_samples: 39\n",
      "max_depth: 8\n",
      "max_bin: 492\n",
      "min_data_in_leaf: 66\n",
      "extra_trees: True\n",
      "early_stopping_rounds: 27\n",
      "path_smooth: 0.9559291326495888\n",
      "min_gain_to_split: 0.4900967110055443\n"
     ]
    },
    {
     "data": {
      "text/plain": [
       "(<optuna.study.study.Study at 0x20980919c10>,\n",
       " {'num_leaves': 80,\n",
       "  'learning_rate': 0.12135983719521656,\n",
       "  'feature_fraction': 0.9178581456448356,\n",
       "  'bagging_fraction': 0.8121933117224753,\n",
       "  'bagging_freq': 8,\n",
       "  'lambda_l1': 0.0006418643074595679,\n",
       "  'lambda_l2': 0.0001582574379358235,\n",
       "  'min_child_samples': 39,\n",
       "  'max_depth': 8,\n",
       "  'max_bin': 492,\n",
       "  'min_data_in_leaf': 66,\n",
       "  'extra_trees': True,\n",
       "  'early_stopping_rounds': 27,\n",
       "  'path_smooth': 0.9559291326495888,\n",
       "  'min_gain_to_split': 0.4900967110055443,\n",
       "  'objective': 'regression',\n",
       "  'metric': 'rmse',\n",
       "  'boosting_type': 'gbdt',\n",
       "  'verbosity': -1})"
      ]
     },
     "execution_count": 16,
     "metadata": {},
     "output_type": "execute_result"
    }
   ],
   "source": [
    "model_lgb.optimizar_con_optuna_con_semillerio_db(train, version=\"v16\")"
   ]
  },
  {
   "cell_type": "markdown",
   "id": "99697cdb",
   "metadata": {},
   "source": [
    "Prediccion"
   ]
  },
  {
   "cell_type": "code",
   "execution_count": 17,
   "id": "2cff69ee",
   "metadata": {},
   "outputs": [],
   "source": [
    "df_future = model_lgb.semillerio_en_prediccion_con_pesos(train, test, version=\"v16\")"
   ]
  },
  {
   "cell_type": "code",
   "execution_count": 18,
   "id": "793edd1d",
   "metadata": {},
   "outputs": [
    {
     "data": {
      "application/vnd.microsoft.datawrangler.viewer.v0+json": {
       "columns": [
        {
         "name": "index",
         "rawType": "int64",
         "type": "integer"
        },
        {
         "name": "periodo",
         "rawType": "int64",
         "type": "integer"
        },
        {
         "name": "product_id",
         "rawType": "int64",
         "type": "integer"
        },
        {
         "name": "target",
         "rawType": "float64",
         "type": "float"
        },
        {
         "name": "pred",
         "rawType": "float64",
         "type": "float"
        }
       ],
       "ref": "c419430f-1a73-4f19-88d6-26ab15f4d024",
       "rows": [
        [
         "30476",
         "201912",
         "20001",
         "0.0",
         "1397.305481376857"
        ],
        [
         "30477",
         "201912",
         "20002",
         "0.0",
         "1086.538942198725"
        ],
        [
         "30478",
         "201912",
         "20003",
         "0.0",
         "747.1636586690961"
        ],
        [
         "30479",
         "201912",
         "20004",
         "0.0",
         "565.7998719734156"
        ],
        [
         "30480",
         "201912",
         "20005",
         "0.0",
         "638.9657131140414"
        ],
        [
         "30481",
         "201912",
         "20006",
         "0.0",
         "461.8133010085213"
        ],
        [
         "30482",
         "201912",
         "20007",
         "0.0",
         "418.66486252998845"
        ],
        [
         "30483",
         "201912",
         "20008",
         "0.0",
         "360.71083726854715"
        ],
        [
         "30484",
         "201912",
         "20009",
         "0.0",
         "577.2438868967586"
        ],
        [
         "30485",
         "201912",
         "20010",
         "0.0",
         "311.3762948431978"
        ],
        [
         "30486",
         "201912",
         "20011",
         "0.0",
         "324.9402866676792"
        ],
        [
         "30487",
         "201912",
         "20012",
         "0.0",
         "296.97090440889775"
        ],
        [
         "30488",
         "201912",
         "20013",
         "0.0",
         "338.14330377850547"
        ],
        [
         "30489",
         "201912",
         "20014",
         "0.0",
         "331.96835714254746"
        ],
        [
         "30490",
         "201912",
         "20015",
         "0.0",
         "312.29997487979017"
        ],
        [
         "30491",
         "201912",
         "20016",
         "0.0",
         "261.3450396369512"
        ],
        [
         "30492",
         "201912",
         "20017",
         "0.0",
         "264.3246354712052"
        ],
        [
         "30493",
         "201912",
         "20018",
         "0.0",
         "221.5180232503426"
        ],
        [
         "30494",
         "201912",
         "20019",
         "0.0",
         "257.26549130989906"
        ],
        [
         "30495",
         "201912",
         "20020",
         "0.0",
         "212.70595783068083"
        ],
        [
         "30496",
         "201912",
         "20021",
         "0.0",
         "185.41286096250033"
        ],
        [
         "30497",
         "201912",
         "20022",
         "0.0",
         "235.5492124998329"
        ],
        [
         "30498",
         "201912",
         "20023",
         "0.0",
         "158.6788911636226"
        ],
        [
         "30499",
         "201912",
         "20024",
         "0.0",
         "135.88818456184077"
        ],
        [
         "30500",
         "201912",
         "20025",
         "0.0",
         "168.70616817991916"
        ],
        [
         "30501",
         "201912",
         "20026",
         "0.0",
         "221.8016140718949"
        ],
        [
         "30502",
         "201912",
         "20027",
         "0.0",
         "194.00960376625827"
        ],
        [
         "30503",
         "201912",
         "20028",
         "0.0",
         "140.21458453178133"
        ],
        [
         "30504",
         "201912",
         "20029",
         "0.0",
         "181.97740478756765"
        ],
        [
         "30505",
         "201912",
         "20030",
         "0.0",
         "85.94273910080187"
        ],
        [
         "30506",
         "201912",
         "20031",
         "0.0",
         "151.51812942410228"
        ],
        [
         "30507",
         "201912",
         "20032",
         "0.0",
         "493.70315066887304"
        ],
        [
         "30508",
         "201912",
         "20033",
         "0.0",
         "108.33969986626043"
        ],
        [
         "30509",
         "201912",
         "20035",
         "0.0",
         "123.20539247607887"
        ],
        [
         "30510",
         "201912",
         "20037",
         "0.0",
         "134.85957507179359"
        ],
        [
         "30511",
         "201912",
         "20038",
         "0.0",
         "132.41746593792215"
        ],
        [
         "30512",
         "201912",
         "20039",
         "0.0",
         "145.4498990700782"
        ],
        [
         "30513",
         "201912",
         "20041",
         "0.0",
         "105.79596344348639"
        ],
        [
         "30514",
         "201912",
         "20042",
         "0.0",
         "174.735665432366"
        ],
        [
         "30515",
         "201912",
         "20043",
         "0.0",
         "95.43227799913822"
        ],
        [
         "30516",
         "201912",
         "20044",
         "0.0",
         "142.80960950847484"
        ],
        [
         "30517",
         "201912",
         "20045",
         "0.0",
         "109.12018162337833"
        ],
        [
         "30518",
         "201912",
         "20046",
         "0.0",
         "112.42178724284717"
        ],
        [
         "30519",
         "201912",
         "20047",
         "0.0",
         "139.85508655475013"
        ],
        [
         "30520",
         "201912",
         "20048",
         "0.0",
         "134.59607379589983"
        ],
        [
         "30521",
         "201912",
         "20049",
         "0.0",
         "136.90838186222174"
        ],
        [
         "30522",
         "201912",
         "20050",
         "0.0",
         "99.82666541652259"
        ],
        [
         "30523",
         "201912",
         "20051",
         "0.0",
         "77.1811799068137"
        ],
        [
         "30524",
         "201912",
         "20052",
         "0.0",
         "99.26456215326755"
        ],
        [
         "30525",
         "201912",
         "20053",
         "0.0",
         "130.5331212387635"
        ]
       ],
       "shape": {
        "columns": 4,
        "rows": 886
       }
      },
      "text/html": [
       "<div>\n",
       "<style scoped>\n",
       "    .dataframe tbody tr th:only-of-type {\n",
       "        vertical-align: middle;\n",
       "    }\n",
       "\n",
       "    .dataframe tbody tr th {\n",
       "        vertical-align: top;\n",
       "    }\n",
       "\n",
       "    .dataframe thead th {\n",
       "        text-align: right;\n",
       "    }\n",
       "</style>\n",
       "<table border=\"1\" class=\"dataframe\">\n",
       "  <thead>\n",
       "    <tr style=\"text-align: right;\">\n",
       "      <th></th>\n",
       "      <th>periodo</th>\n",
       "      <th>product_id</th>\n",
       "      <th>target</th>\n",
       "      <th>pred</th>\n",
       "    </tr>\n",
       "  </thead>\n",
       "  <tbody>\n",
       "    <tr>\n",
       "      <th>30476</th>\n",
       "      <td>201912</td>\n",
       "      <td>20001</td>\n",
       "      <td>0.0</td>\n",
       "      <td>1397.305481</td>\n",
       "    </tr>\n",
       "    <tr>\n",
       "      <th>30477</th>\n",
       "      <td>201912</td>\n",
       "      <td>20002</td>\n",
       "      <td>0.0</td>\n",
       "      <td>1086.538942</td>\n",
       "    </tr>\n",
       "    <tr>\n",
       "      <th>30478</th>\n",
       "      <td>201912</td>\n",
       "      <td>20003</td>\n",
       "      <td>0.0</td>\n",
       "      <td>747.163659</td>\n",
       "    </tr>\n",
       "    <tr>\n",
       "      <th>30479</th>\n",
       "      <td>201912</td>\n",
       "      <td>20004</td>\n",
       "      <td>0.0</td>\n",
       "      <td>565.799872</td>\n",
       "    </tr>\n",
       "    <tr>\n",
       "      <th>30480</th>\n",
       "      <td>201912</td>\n",
       "      <td>20005</td>\n",
       "      <td>0.0</td>\n",
       "      <td>638.965713</td>\n",
       "    </tr>\n",
       "    <tr>\n",
       "      <th>...</th>\n",
       "      <td>...</td>\n",
       "      <td>...</td>\n",
       "      <td>...</td>\n",
       "      <td>...</td>\n",
       "    </tr>\n",
       "    <tr>\n",
       "      <th>31357</th>\n",
       "      <td>201912</td>\n",
       "      <td>21265</td>\n",
       "      <td>0.0</td>\n",
       "      <td>0.791975</td>\n",
       "    </tr>\n",
       "    <tr>\n",
       "      <th>31358</th>\n",
       "      <td>201912</td>\n",
       "      <td>21266</td>\n",
       "      <td>0.0</td>\n",
       "      <td>-7.397908</td>\n",
       "    </tr>\n",
       "    <tr>\n",
       "      <th>31359</th>\n",
       "      <td>201912</td>\n",
       "      <td>21267</td>\n",
       "      <td>0.0</td>\n",
       "      <td>-11.797527</td>\n",
       "    </tr>\n",
       "    <tr>\n",
       "      <th>31360</th>\n",
       "      <td>201912</td>\n",
       "      <td>21271</td>\n",
       "      <td>0.0</td>\n",
       "      <td>-1.476822</td>\n",
       "    </tr>\n",
       "    <tr>\n",
       "      <th>31361</th>\n",
       "      <td>201912</td>\n",
       "      <td>21276</td>\n",
       "      <td>0.0</td>\n",
       "      <td>-3.933178</td>\n",
       "    </tr>\n",
       "  </tbody>\n",
       "</table>\n",
       "<p>886 rows × 4 columns</p>\n",
       "</div>"
      ],
      "text/plain": [
       "       periodo  product_id  target         pred\n",
       "30476   201912       20001     0.0  1397.305481\n",
       "30477   201912       20002     0.0  1086.538942\n",
       "30478   201912       20003     0.0   747.163659\n",
       "30479   201912       20004     0.0   565.799872\n",
       "30480   201912       20005     0.0   638.965713\n",
       "...        ...         ...     ...          ...\n",
       "31357   201912       21265     0.0     0.791975\n",
       "31358   201912       21266     0.0    -7.397908\n",
       "31359   201912       21267     0.0   -11.797527\n",
       "31360   201912       21271     0.0    -1.476822\n",
       "31361   201912       21276     0.0    -3.933178\n",
       "\n",
       "[886 rows x 4 columns]"
      ]
     },
     "execution_count": 18,
     "metadata": {},
     "output_type": "execute_result"
    }
   ],
   "source": [
    "df_future"
   ]
  },
  {
   "cell_type": "markdown",
   "id": "593064b3",
   "metadata": {},
   "source": [
    "Filtramos los 180 productos"
   ]
  },
  {
   "cell_type": "code",
   "execution_count": 19,
   "id": "d0ab5e05",
   "metadata": {},
   "outputs": [],
   "source": [
    "productos_ok = pd.read_csv(\"https://storage.googleapis.com/open-courses/austral2025-af91/labo3v/product_id_apredecir201912.txt\", sep=\"\\t\")\n",
    "df_future = df_future[df_future['periodo'] == 201912]\n",
    "df_future = df_future[df_future['product_id'].isin(productos_ok['product_id'].unique())]\n"
   ]
  },
  {
   "cell_type": "code",
   "execution_count": 20,
   "id": "da03e91d",
   "metadata": {},
   "outputs": [
    {
     "data": {
      "application/vnd.microsoft.datawrangler.viewer.v0+json": {
       "columns": [
        {
         "name": "index",
         "rawType": "int64",
         "type": "integer"
        },
        {
         "name": "periodo",
         "rawType": "int64",
         "type": "integer"
        },
        {
         "name": "product_id",
         "rawType": "int64",
         "type": "integer"
        },
        {
         "name": "target",
         "rawType": "float64",
         "type": "float"
        },
        {
         "name": "pred",
         "rawType": "float64",
         "type": "float"
        }
       ],
       "ref": "1a50431e-fef7-4c96-81f6-1ff7fbb49411",
       "rows": [
        [
         "30476",
         "201912",
         "20001",
         "0.0",
         "1397.305481376857"
        ],
        [
         "30477",
         "201912",
         "20002",
         "0.0",
         "1086.538942198725"
        ],
        [
         "30478",
         "201912",
         "20003",
         "0.0",
         "747.1636586690961"
        ],
        [
         "30479",
         "201912",
         "20004",
         "0.0",
         "565.7998719734156"
        ],
        [
         "30480",
         "201912",
         "20005",
         "0.0",
         "638.9657131140414"
        ],
        [
         "30481",
         "201912",
         "20006",
         "0.0",
         "461.8133010085213"
        ],
        [
         "30482",
         "201912",
         "20007",
         "0.0",
         "418.66486252998845"
        ],
        [
         "30483",
         "201912",
         "20008",
         "0.0",
         "360.71083726854715"
        ],
        [
         "30484",
         "201912",
         "20009",
         "0.0",
         "577.2438868967586"
        ],
        [
         "30485",
         "201912",
         "20010",
         "0.0",
         "311.3762948431978"
        ],
        [
         "30486",
         "201912",
         "20011",
         "0.0",
         "324.9402866676792"
        ],
        [
         "30487",
         "201912",
         "20012",
         "0.0",
         "296.97090440889775"
        ],
        [
         "30488",
         "201912",
         "20013",
         "0.0",
         "338.14330377850547"
        ],
        [
         "30489",
         "201912",
         "20014",
         "0.0",
         "331.96835714254746"
        ],
        [
         "30490",
         "201912",
         "20015",
         "0.0",
         "312.29997487979017"
        ],
        [
         "30491",
         "201912",
         "20016",
         "0.0",
         "261.3450396369512"
        ],
        [
         "30492",
         "201912",
         "20017",
         "0.0",
         "264.3246354712052"
        ],
        [
         "30493",
         "201912",
         "20018",
         "0.0",
         "221.5180232503426"
        ],
        [
         "30494",
         "201912",
         "20019",
         "0.0",
         "257.26549130989906"
        ],
        [
         "30495",
         "201912",
         "20020",
         "0.0",
         "212.70595783068083"
        ],
        [
         "30496",
         "201912",
         "20021",
         "0.0",
         "185.41286096250033"
        ],
        [
         "30497",
         "201912",
         "20022",
         "0.0",
         "235.5492124998329"
        ],
        [
         "30498",
         "201912",
         "20023",
         "0.0",
         "158.6788911636226"
        ],
        [
         "30499",
         "201912",
         "20024",
         "0.0",
         "135.88818456184077"
        ],
        [
         "30500",
         "201912",
         "20025",
         "0.0",
         "168.70616817991916"
        ],
        [
         "30501",
         "201912",
         "20026",
         "0.0",
         "221.8016140718949"
        ],
        [
         "30502",
         "201912",
         "20027",
         "0.0",
         "194.00960376625827"
        ],
        [
         "30503",
         "201912",
         "20028",
         "0.0",
         "140.21458453178133"
        ],
        [
         "30504",
         "201912",
         "20029",
         "0.0",
         "181.97740478756765"
        ],
        [
         "30505",
         "201912",
         "20030",
         "0.0",
         "85.94273910080187"
        ],
        [
         "30506",
         "201912",
         "20031",
         "0.0",
         "151.51812942410228"
        ],
        [
         "30507",
         "201912",
         "20032",
         "0.0",
         "493.70315066887304"
        ],
        [
         "30508",
         "201912",
         "20033",
         "0.0",
         "108.33969986626043"
        ],
        [
         "30509",
         "201912",
         "20035",
         "0.0",
         "123.20539247607887"
        ],
        [
         "30510",
         "201912",
         "20037",
         "0.0",
         "134.85957507179359"
        ],
        [
         "30511",
         "201912",
         "20038",
         "0.0",
         "132.41746593792215"
        ],
        [
         "30512",
         "201912",
         "20039",
         "0.0",
         "145.4498990700782"
        ],
        [
         "30513",
         "201912",
         "20041",
         "0.0",
         "105.79596344348639"
        ],
        [
         "30514",
         "201912",
         "20042",
         "0.0",
         "174.735665432366"
        ],
        [
         "30515",
         "201912",
         "20043",
         "0.0",
         "95.43227799913822"
        ],
        [
         "30516",
         "201912",
         "20044",
         "0.0",
         "142.80960950847484"
        ],
        [
         "30517",
         "201912",
         "20045",
         "0.0",
         "109.12018162337833"
        ],
        [
         "30518",
         "201912",
         "20046",
         "0.0",
         "112.42178724284717"
        ],
        [
         "30519",
         "201912",
         "20047",
         "0.0",
         "139.85508655475013"
        ],
        [
         "30521",
         "201912",
         "20049",
         "0.0",
         "136.90838186222174"
        ],
        [
         "30522",
         "201912",
         "20050",
         "0.0",
         "99.82666541652259"
        ],
        [
         "30523",
         "201912",
         "20051",
         "0.0",
         "77.1811799068137"
        ],
        [
         "30524",
         "201912",
         "20052",
         "0.0",
         "99.26456215326755"
        ],
        [
         "30525",
         "201912",
         "20053",
         "0.0",
         "130.5331212387635"
        ],
        [
         "30526",
         "201912",
         "20054",
         "0.0",
         "128.97911665032808"
        ]
       ],
       "shape": {
        "columns": 4,
        "rows": 780
       }
      },
      "text/html": [
       "<div>\n",
       "<style scoped>\n",
       "    .dataframe tbody tr th:only-of-type {\n",
       "        vertical-align: middle;\n",
       "    }\n",
       "\n",
       "    .dataframe tbody tr th {\n",
       "        vertical-align: top;\n",
       "    }\n",
       "\n",
       "    .dataframe thead th {\n",
       "        text-align: right;\n",
       "    }\n",
       "</style>\n",
       "<table border=\"1\" class=\"dataframe\">\n",
       "  <thead>\n",
       "    <tr style=\"text-align: right;\">\n",
       "      <th></th>\n",
       "      <th>periodo</th>\n",
       "      <th>product_id</th>\n",
       "      <th>target</th>\n",
       "      <th>pred</th>\n",
       "    </tr>\n",
       "  </thead>\n",
       "  <tbody>\n",
       "    <tr>\n",
       "      <th>30476</th>\n",
       "      <td>201912</td>\n",
       "      <td>20001</td>\n",
       "      <td>0.0</td>\n",
       "      <td>1397.305481</td>\n",
       "    </tr>\n",
       "    <tr>\n",
       "      <th>30477</th>\n",
       "      <td>201912</td>\n",
       "      <td>20002</td>\n",
       "      <td>0.0</td>\n",
       "      <td>1086.538942</td>\n",
       "    </tr>\n",
       "    <tr>\n",
       "      <th>30478</th>\n",
       "      <td>201912</td>\n",
       "      <td>20003</td>\n",
       "      <td>0.0</td>\n",
       "      <td>747.163659</td>\n",
       "    </tr>\n",
       "    <tr>\n",
       "      <th>30479</th>\n",
       "      <td>201912</td>\n",
       "      <td>20004</td>\n",
       "      <td>0.0</td>\n",
       "      <td>565.799872</td>\n",
       "    </tr>\n",
       "    <tr>\n",
       "      <th>30480</th>\n",
       "      <td>201912</td>\n",
       "      <td>20005</td>\n",
       "      <td>0.0</td>\n",
       "      <td>638.965713</td>\n",
       "    </tr>\n",
       "    <tr>\n",
       "      <th>...</th>\n",
       "      <td>...</td>\n",
       "      <td>...</td>\n",
       "      <td>...</td>\n",
       "      <td>...</td>\n",
       "    </tr>\n",
       "    <tr>\n",
       "      <th>31355</th>\n",
       "      <td>201912</td>\n",
       "      <td>21263</td>\n",
       "      <td>0.0</td>\n",
       "      <td>-4.420262</td>\n",
       "    </tr>\n",
       "    <tr>\n",
       "      <th>31357</th>\n",
       "      <td>201912</td>\n",
       "      <td>21265</td>\n",
       "      <td>0.0</td>\n",
       "      <td>0.791975</td>\n",
       "    </tr>\n",
       "    <tr>\n",
       "      <th>31358</th>\n",
       "      <td>201912</td>\n",
       "      <td>21266</td>\n",
       "      <td>0.0</td>\n",
       "      <td>-7.397908</td>\n",
       "    </tr>\n",
       "    <tr>\n",
       "      <th>31359</th>\n",
       "      <td>201912</td>\n",
       "      <td>21267</td>\n",
       "      <td>0.0</td>\n",
       "      <td>-11.797527</td>\n",
       "    </tr>\n",
       "    <tr>\n",
       "      <th>31361</th>\n",
       "      <td>201912</td>\n",
       "      <td>21276</td>\n",
       "      <td>0.0</td>\n",
       "      <td>-3.933178</td>\n",
       "    </tr>\n",
       "  </tbody>\n",
       "</table>\n",
       "<p>780 rows × 4 columns</p>\n",
       "</div>"
      ],
      "text/plain": [
       "       periodo  product_id  target         pred\n",
       "30476   201912       20001     0.0  1397.305481\n",
       "30477   201912       20002     0.0  1086.538942\n",
       "30478   201912       20003     0.0   747.163659\n",
       "30479   201912       20004     0.0   565.799872\n",
       "30480   201912       20005     0.0   638.965713\n",
       "...        ...         ...     ...          ...\n",
       "31355   201912       21263     0.0    -4.420262\n",
       "31357   201912       21265     0.0     0.791975\n",
       "31358   201912       21266     0.0    -7.397908\n",
       "31359   201912       21267     0.0   -11.797527\n",
       "31361   201912       21276     0.0    -3.933178\n",
       "\n",
       "[780 rows x 4 columns]"
      ]
     },
     "execution_count": 20,
     "metadata": {},
     "output_type": "execute_result"
    }
   ],
   "source": [
    "df_future"
   ]
  },
  {
   "cell_type": "markdown",
   "id": "1ab09e3f",
   "metadata": {},
   "source": [
    "Vemos cuantos negativos hay"
   ]
  },
  {
   "cell_type": "code",
   "execution_count": 21,
   "id": "780ad407",
   "metadata": {},
   "outputs": [
    {
     "data": {
      "application/vnd.microsoft.datawrangler.viewer.v0+json": {
       "columns": [
        {
         "name": "index",
         "rawType": "int64",
         "type": "integer"
        },
        {
         "name": "periodo",
         "rawType": "int64",
         "type": "integer"
        },
        {
         "name": "product_id",
         "rawType": "int64",
         "type": "integer"
        },
        {
         "name": "target",
         "rawType": "float64",
         "type": "float"
        },
        {
         "name": "pred",
         "rawType": "float64",
         "type": "float"
        }
       ],
       "ref": "b9372493-e891-4880-9dc5-bc510dd99985",
       "rows": [
        [
         "30570",
         "201912",
         "20102",
         "0.0",
         "-5.049051257372801"
        ],
        [
         "30675",
         "201912",
         "20219",
         "0.0",
         "-2.13979428360052"
        ],
        [
         "30682",
         "201912",
         "20228",
         "0.0",
         "-3.305181189868538"
        ],
        [
         "30688",
         "201912",
         "20234",
         "0.0",
         "-8.069845329428706"
        ],
        [
         "30696",
         "201912",
         "20242",
         "0.0",
         "-5.409374971771119"
        ],
        [
         "30727",
         "201912",
         "20281",
         "0.0",
         "-2.2752644553578816"
        ],
        [
         "30744",
         "201912",
         "20301",
         "0.0",
         "-0.6309126605786357"
        ],
        [
         "30745",
         "201912",
         "20302",
         "0.0",
         "-7.0348472306405885"
        ],
        [
         "30747",
         "201912",
         "20304",
         "0.0",
         "-6.939410317970511"
        ],
        [
         "30752",
         "201912",
         "20309",
         "0.0",
         "-3.4452200490621165"
        ],
        [
         "30764",
         "201912",
         "20322",
         "0.0",
         "-3.964377097709819"
        ],
        [
         "30766",
         "201912",
         "20324",
         "0.0",
         "-1.6375360148108675"
        ],
        [
         "30780",
         "201912",
         "20341",
         "0.0",
         "-2.303664664683473"
        ],
        [
         "30788",
         "201912",
         "20350",
         "0.0",
         "-1.4566920688841485"
        ],
        [
         "30806",
         "201912",
         "20372",
         "0.0",
         "-1.555367422406979"
        ],
        [
         "30811",
         "201912",
         "20378",
         "0.0",
         "-7.838087609622944"
        ],
        [
         "30812",
         "201912",
         "20379",
         "0.0",
         "-2.3305564033211796"
        ],
        [
         "30816",
         "201912",
         "20383",
         "0.0",
         "-2.0203702041559444"
        ],
        [
         "30818",
         "201912",
         "20385",
         "0.0",
         "-0.9440801643003404"
        ],
        [
         "30826",
         "201912",
         "20396",
         "0.0",
         "-2.082824954769135"
        ],
        [
         "30827",
         "201912",
         "20398",
         "0.0",
         "-4.064363179383678"
        ],
        [
         "30837",
         "201912",
         "20409",
         "0.0",
         "-5.951122524029169"
        ],
        [
         "30843",
         "201912",
         "20415",
         "0.0",
         "-4.839050468809486"
        ],
        [
         "30844",
         "201912",
         "20416",
         "0.0",
         "-2.9821218937183573"
        ],
        [
         "30846",
         "201912",
         "20418",
         "0.0",
         "-1.9903902030928156"
        ],
        [
         "30849",
         "201912",
         "20422",
         "0.0",
         "-6.179065358499939"
        ],
        [
         "30851",
         "201912",
         "20426",
         "0.0",
         "-0.9251055188664941"
        ],
        [
         "30852",
         "201912",
         "20428",
         "0.0",
         "-2.312599999742118"
        ],
        [
         "30853",
         "201912",
         "20429",
         "0.0",
         "-1.1576603405711217"
        ],
        [
         "30854",
         "201912",
         "20432",
         "0.0",
         "-2.5299122840014396"
        ],
        [
         "30863",
         "201912",
         "20449",
         "0.0",
         "-7.2236417888419115"
        ],
        [
         "30872",
         "201912",
         "20464",
         "0.0",
         "-4.235806457720127"
        ],
        [
         "30873",
         "201912",
         "20465",
         "0.0",
         "-0.9713355166708098"
        ],
        [
         "30879",
         "201912",
         "20473",
         "0.0",
         "-1.5660461587869499"
        ],
        [
         "30880",
         "201912",
         "20474",
         "0.0",
         "-1.1684765282871705"
        ],
        [
         "30883",
         "201912",
         "20478",
         "0.0",
         "-1.8327250706434104"
        ],
        [
         "30887",
         "201912",
         "20482",
         "0.0",
         "-3.734692490077655"
        ],
        [
         "30889",
         "201912",
         "20484",
         "0.0",
         "-1.2234604850975117"
        ],
        [
         "30892",
         "201912",
         "20490",
         "0.0",
         "-4.066807953348445"
        ],
        [
         "30902",
         "201912",
         "20505",
         "0.0",
         "-7.846836047656677"
        ],
        [
         "30904",
         "201912",
         "20508",
         "0.0",
         "-3.3633639250567113"
        ],
        [
         "30905",
         "201912",
         "20509",
         "0.0",
         "-1.9724188398391012"
        ],
        [
         "30909",
         "201912",
         "20514",
         "0.0",
         "-1.236063787900025"
        ],
        [
         "30910",
         "201912",
         "20517",
         "0.0",
         "-1.144641117624833"
        ],
        [
         "30915",
         "201912",
         "20524",
         "0.0",
         "-0.08897535716704903"
        ],
        [
         "30919",
         "201912",
         "20530",
         "0.0",
         "-0.06057640712628345"
        ],
        [
         "30921",
         "201912",
         "20532",
         "0.0",
         "-1.8243819368289784"
        ],
        [
         "30925",
         "201912",
         "20539",
         "0.0",
         "-0.21335438851986624"
        ],
        [
         "30935",
         "201912",
         "20552",
         "0.0",
         "-1.0864067740949768"
        ],
        [
         "30937",
         "201912",
         "20555",
         "0.0",
         "-0.4012279644958693"
        ]
       ],
       "shape": {
        "columns": 4,
        "rows": 209
       }
      },
      "text/html": [
       "<div>\n",
       "<style scoped>\n",
       "    .dataframe tbody tr th:only-of-type {\n",
       "        vertical-align: middle;\n",
       "    }\n",
       "\n",
       "    .dataframe tbody tr th {\n",
       "        vertical-align: top;\n",
       "    }\n",
       "\n",
       "    .dataframe thead th {\n",
       "        text-align: right;\n",
       "    }\n",
       "</style>\n",
       "<table border=\"1\" class=\"dataframe\">\n",
       "  <thead>\n",
       "    <tr style=\"text-align: right;\">\n",
       "      <th></th>\n",
       "      <th>periodo</th>\n",
       "      <th>product_id</th>\n",
       "      <th>target</th>\n",
       "      <th>pred</th>\n",
       "    </tr>\n",
       "  </thead>\n",
       "  <tbody>\n",
       "    <tr>\n",
       "      <th>30570</th>\n",
       "      <td>201912</td>\n",
       "      <td>20102</td>\n",
       "      <td>0.0</td>\n",
       "      <td>-5.049051</td>\n",
       "    </tr>\n",
       "    <tr>\n",
       "      <th>30675</th>\n",
       "      <td>201912</td>\n",
       "      <td>20219</td>\n",
       "      <td>0.0</td>\n",
       "      <td>-2.139794</td>\n",
       "    </tr>\n",
       "    <tr>\n",
       "      <th>30682</th>\n",
       "      <td>201912</td>\n",
       "      <td>20228</td>\n",
       "      <td>0.0</td>\n",
       "      <td>-3.305181</td>\n",
       "    </tr>\n",
       "    <tr>\n",
       "      <th>30688</th>\n",
       "      <td>201912</td>\n",
       "      <td>20234</td>\n",
       "      <td>0.0</td>\n",
       "      <td>-8.069845</td>\n",
       "    </tr>\n",
       "    <tr>\n",
       "      <th>30696</th>\n",
       "      <td>201912</td>\n",
       "      <td>20242</td>\n",
       "      <td>0.0</td>\n",
       "      <td>-5.409375</td>\n",
       "    </tr>\n",
       "    <tr>\n",
       "      <th>...</th>\n",
       "      <td>...</td>\n",
       "      <td>...</td>\n",
       "      <td>...</td>\n",
       "      <td>...</td>\n",
       "    </tr>\n",
       "    <tr>\n",
       "      <th>31354</th>\n",
       "      <td>201912</td>\n",
       "      <td>21262</td>\n",
       "      <td>0.0</td>\n",
       "      <td>-1.396375</td>\n",
       "    </tr>\n",
       "    <tr>\n",
       "      <th>31355</th>\n",
       "      <td>201912</td>\n",
       "      <td>21263</td>\n",
       "      <td>0.0</td>\n",
       "      <td>-4.420262</td>\n",
       "    </tr>\n",
       "    <tr>\n",
       "      <th>31358</th>\n",
       "      <td>201912</td>\n",
       "      <td>21266</td>\n",
       "      <td>0.0</td>\n",
       "      <td>-7.397908</td>\n",
       "    </tr>\n",
       "    <tr>\n",
       "      <th>31359</th>\n",
       "      <td>201912</td>\n",
       "      <td>21267</td>\n",
       "      <td>0.0</td>\n",
       "      <td>-11.797527</td>\n",
       "    </tr>\n",
       "    <tr>\n",
       "      <th>31361</th>\n",
       "      <td>201912</td>\n",
       "      <td>21276</td>\n",
       "      <td>0.0</td>\n",
       "      <td>-3.933178</td>\n",
       "    </tr>\n",
       "  </tbody>\n",
       "</table>\n",
       "<p>209 rows × 4 columns</p>\n",
       "</div>"
      ],
      "text/plain": [
       "       periodo  product_id  target       pred\n",
       "30570   201912       20102     0.0  -5.049051\n",
       "30675   201912       20219     0.0  -2.139794\n",
       "30682   201912       20228     0.0  -3.305181\n",
       "30688   201912       20234     0.0  -8.069845\n",
       "30696   201912       20242     0.0  -5.409375\n",
       "...        ...         ...     ...        ...\n",
       "31354   201912       21262     0.0  -1.396375\n",
       "31355   201912       21263     0.0  -4.420262\n",
       "31358   201912       21266     0.0  -7.397908\n",
       "31359   201912       21267     0.0 -11.797527\n",
       "31361   201912       21276     0.0  -3.933178\n",
       "\n",
       "[209 rows x 4 columns]"
      ]
     },
     "execution_count": 21,
     "metadata": {},
     "output_type": "execute_result"
    }
   ],
   "source": [
    "df_future[df_future['pred'] < 0]"
   ]
  },
  {
   "cell_type": "markdown",
   "id": "066372ef",
   "metadata": {},
   "source": [
    "Reemplazamos los negativos por el promedio de ultimos 12 meses"
   ]
  },
  {
   "cell_type": "code",
   "execution_count": 22,
   "id": "8c6b9870",
   "metadata": {},
   "outputs": [
    {
     "data": {
      "application/vnd.microsoft.datawrangler.viewer.v0+json": {
       "columns": [
        {
         "name": "index",
         "rawType": "int64",
         "type": "integer"
        },
        {
         "name": "product_id",
         "rawType": "int64",
         "type": "integer"
        },
        {
         "name": "pred",
         "rawType": "float64",
         "type": "float"
        },
        {
         "name": "tn",
         "rawType": "float64",
         "type": "float"
        }
       ],
       "ref": "7087b6c3-f40b-41d4-bb62-a05d56a9d86b",
       "rows": [
        [
         "0",
         "20001",
         "1397.305481376857",
         "1454.73272"
        ],
        [
         "1",
         "20002",
         "1086.538942198725",
         "1175.4371416666665"
        ],
        [
         "2",
         "20003",
         "747.1636586690961",
         "784.9764074999999"
        ],
        [
         "3",
         "20004",
         "565.7998719734156",
         "627.2153283333333"
        ],
        [
         "4",
         "20005",
         "638.9657131140414",
         "668.2701041666667"
        ],
        [
         "5",
         "20006",
         "461.8133010085213",
         "478.6137083333333"
        ],
        [
         "6",
         "20007",
         "418.66486252998845",
         "434.1378058333333"
        ],
        [
         "7",
         "20008",
         "360.71083726854715",
         "422.0481833333333"
        ],
        [
         "8",
         "20009",
         "577.2438868967586",
         "541.3225866666667"
        ],
        [
         "9",
         "20010",
         "311.3762948431978",
         "429.5746608333333"
        ],
        [
         "10",
         "20011",
         "324.9402866676792",
         "377.63544"
        ],
        [
         "11",
         "20012",
         "296.97090440889775",
         "332.228885"
        ],
        [
         "12",
         "20013",
         "338.14330377850547",
         "416.06292"
        ],
        [
         "13",
         "20014",
         "331.96835714254746",
         "414.70520000000005"
        ],
        [
         "14",
         "20015",
         "312.29997487979017",
         "369.02365166666664"
        ],
        [
         "15",
         "20016",
         "261.3450396369512",
         "288.51459"
        ],
        [
         "16",
         "20017",
         "264.3246354712052",
         "287.38575166666664"
        ],
        [
         "17",
         "20018",
         "221.5180232503426",
         "275.44511083333333"
        ],
        [
         "18",
         "20019",
         "257.26549130989906",
         "306.52162749999997"
        ],
        [
         "19",
         "20020",
         "212.70595783068083",
         "280.10235416666666"
        ],
        [
         "20",
         "20021",
         "185.41286096250033",
         "259.495665"
        ],
        [
         "21",
         "20022",
         "235.5492124998329",
         "279.20400333333333"
        ],
        [
         "22",
         "20023",
         "158.6788911636226",
         "266.90118"
        ],
        [
         "23",
         "20024",
         "135.88818456184077",
         "222.11553"
        ],
        [
         "24",
         "20025",
         "168.70616817991916",
         "222.86218499999998"
        ],
        [
         "25",
         "20026",
         "221.8016140718949",
         "237.10623833333332"
        ],
        [
         "26",
         "20027",
         "194.00960376625827",
         "230.0149175"
        ],
        [
         "27",
         "20028",
         "140.21458453178133",
         "213.228015"
        ],
        [
         "28",
         "20029",
         "181.97740478756765",
         "185.16274833333333"
        ],
        [
         "29",
         "20030",
         "85.94273910080187",
         "127.85045000000001"
        ],
        [
         "30",
         "20031",
         "151.51812942410228",
         "185.90788666666666"
        ],
        [
         "31",
         "20032",
         "493.70315066887304",
         "590.33366"
        ],
        [
         "32",
         "20033",
         "108.33969986626043",
         "176.0324475"
        ],
        [
         "33",
         "20035",
         "123.20539247607887",
         "172.19100333333333"
        ],
        [
         "34",
         "20037",
         "134.85957507179359",
         "179.65005833333336"
        ],
        [
         "35",
         "20038",
         "132.41746593792215",
         "175.941565"
        ],
        [
         "36",
         "20039",
         "145.4498990700782",
         "144.37351750000002"
        ],
        [
         "37",
         "20041",
         "105.79596344348639",
         "144.23799083333333"
        ],
        [
         "38",
         "20042",
         "174.735665432366",
         "174.63574083333333"
        ],
        [
         "39",
         "20043",
         "95.43227799913822",
         "137.17993833333333"
        ],
        [
         "40",
         "20044",
         "142.80960950847484",
         "169.413755"
        ],
        [
         "41",
         "20045",
         "109.12018162337833",
         "154.42506916666667"
        ],
        [
         "42",
         "20046",
         "112.42178724284717",
         "155.99976583333333"
        ],
        [
         "43",
         "20047",
         "139.85508655475013",
         "165.353965"
        ],
        [
         "44",
         "20049",
         "136.90838186222174",
         "203.98650999999998"
        ],
        [
         "45",
         "20050",
         "99.82666541652259",
         "131.337005"
        ],
        [
         "46",
         "20051",
         "77.1811799068137",
         "150.87717916666668"
        ],
        [
         "47",
         "20052",
         "99.26456215326755",
         "119.09683416666667"
        ],
        [
         "48",
         "20053",
         "130.5331212387635",
         "146.06558583333333"
        ],
        [
         "49",
         "20054",
         "128.97911665032808",
         "137.87184249999999"
        ]
       ],
       "shape": {
        "columns": 3,
        "rows": 780
       }
      },
      "text/html": [
       "<div>\n",
       "<style scoped>\n",
       "    .dataframe tbody tr th:only-of-type {\n",
       "        vertical-align: middle;\n",
       "    }\n",
       "\n",
       "    .dataframe tbody tr th {\n",
       "        vertical-align: top;\n",
       "    }\n",
       "\n",
       "    .dataframe thead th {\n",
       "        text-align: right;\n",
       "    }\n",
       "</style>\n",
       "<table border=\"1\" class=\"dataframe\">\n",
       "  <thead>\n",
       "    <tr style=\"text-align: right;\">\n",
       "      <th></th>\n",
       "      <th>product_id</th>\n",
       "      <th>pred</th>\n",
       "      <th>tn</th>\n",
       "    </tr>\n",
       "  </thead>\n",
       "  <tbody>\n",
       "    <tr>\n",
       "      <th>0</th>\n",
       "      <td>20001</td>\n",
       "      <td>1397.305481</td>\n",
       "      <td>1454.732720</td>\n",
       "    </tr>\n",
       "    <tr>\n",
       "      <th>1</th>\n",
       "      <td>20002</td>\n",
       "      <td>1086.538942</td>\n",
       "      <td>1175.437142</td>\n",
       "    </tr>\n",
       "    <tr>\n",
       "      <th>2</th>\n",
       "      <td>20003</td>\n",
       "      <td>747.163659</td>\n",
       "      <td>784.976407</td>\n",
       "    </tr>\n",
       "    <tr>\n",
       "      <th>3</th>\n",
       "      <td>20004</td>\n",
       "      <td>565.799872</td>\n",
       "      <td>627.215328</td>\n",
       "    </tr>\n",
       "    <tr>\n",
       "      <th>4</th>\n",
       "      <td>20005</td>\n",
       "      <td>638.965713</td>\n",
       "      <td>668.270104</td>\n",
       "    </tr>\n",
       "    <tr>\n",
       "      <th>...</th>\n",
       "      <td>...</td>\n",
       "      <td>...</td>\n",
       "      <td>...</td>\n",
       "    </tr>\n",
       "    <tr>\n",
       "      <th>775</th>\n",
       "      <td>21263</td>\n",
       "      <td>0.029993</td>\n",
       "      <td>0.029993</td>\n",
       "    </tr>\n",
       "    <tr>\n",
       "      <th>776</th>\n",
       "      <td>21265</td>\n",
       "      <td>0.791975</td>\n",
       "      <td>0.089541</td>\n",
       "    </tr>\n",
       "    <tr>\n",
       "      <th>777</th>\n",
       "      <td>21266</td>\n",
       "      <td>0.094659</td>\n",
       "      <td>0.094659</td>\n",
       "    </tr>\n",
       "    <tr>\n",
       "      <th>778</th>\n",
       "      <td>21267</td>\n",
       "      <td>0.092835</td>\n",
       "      <td>0.092835</td>\n",
       "    </tr>\n",
       "    <tr>\n",
       "      <th>779</th>\n",
       "      <td>21276</td>\n",
       "      <td>0.045447</td>\n",
       "      <td>0.045447</td>\n",
       "    </tr>\n",
       "  </tbody>\n",
       "</table>\n",
       "<p>780 rows × 3 columns</p>\n",
       "</div>"
      ],
      "text/plain": [
       "     product_id         pred           tn\n",
       "0         20001  1397.305481  1454.732720\n",
       "1         20002  1086.538942  1175.437142\n",
       "2         20003   747.163659   784.976407\n",
       "3         20004   565.799872   627.215328\n",
       "4         20005   638.965713   668.270104\n",
       "..          ...          ...          ...\n",
       "775       21263     0.029993     0.029993\n",
       "776       21265     0.791975     0.089541\n",
       "777       21266     0.094659     0.094659\n",
       "778       21267     0.092835     0.092835\n",
       "779       21276     0.045447     0.045447\n",
       "\n",
       "[780 rows x 3 columns]"
      ]
     },
     "execution_count": 22,
     "metadata": {},
     "output_type": "execute_result"
    }
   ],
   "source": [
    "promedio780 = model_lgb.promedio_12_meses_780p()\n",
    "df_future = df_future.merge(promedio780, on='product_id', how='left')\n",
    "df_future.drop(columns=['target','periodo'], inplace=True)\n",
    "df_future.loc[df_future['pred'] < 0, 'pred'] = df_future['tn']\n",
    "df_future\n",
    "\n"
   ]
  },
  {
   "cell_type": "markdown",
   "id": "dda8de6a",
   "metadata": {},
   "source": [
    "Guardamos el archivo"
   ]
  },
  {
   "cell_type": "code",
   "execution_count": 23,
   "id": "d2cddb61",
   "metadata": {},
   "outputs": [],
   "source": [
    "df_future.drop(columns=['tn'], inplace=True)\n",
    "df_future.rename(columns={'pred': 'tn'}, inplace=True)\n",
    "df_future.to_csv(\"./outputs/predicciones_exp_07_lgb_v3.csv\", index=False, sep=',')"
   ]
  }
 ],
 "metadata": {
  "kernelspec": {
   "display_name": "py311lab3",
   "language": "python",
   "name": "python3"
  },
  "language_info": {
   "codemirror_mode": {
    "name": "ipython",
    "version": 3
   },
   "file_extension": ".py",
   "mimetype": "text/x-python",
   "name": "python",
   "nbconvert_exporter": "python",
   "pygments_lexer": "ipython3",
   "version": "3.11.13"
  }
 },
 "nbformat": 4,
 "nbformat_minor": 5
}
