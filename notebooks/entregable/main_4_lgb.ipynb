{
 "cells": [
  {
   "cell_type": "code",
   "execution_count": 31,
   "id": "dbae8eac",
   "metadata": {},
   "outputs": [],
   "source": [
    "import pandas as pd\n",
    "import numpy as np\n",
    "import importlib\n",
    "import gc\n",
    "import sys\n",
    "import warnings\n",
    "sys.path.append('./scripts')  \n",
    "import preprocesamiento\n",
    "import feature_engineering\n",
    "import model_lgb\n",
    "importlib.reload(preprocesamiento)\n",
    "importlib.reload(model_lgb)\n",
    "importlib.reload(feature_engineering)\n",
    "warnings.filterwarnings(\"ignore\")"
   ]
  },
  {
   "cell_type": "markdown",
   "id": "14763c97",
   "metadata": {},
   "source": [
    "Experimento: FE + valores negativos tomo promedio 12 meses.\n",
    "\n",
    "Kaggle = 0.282\n"
   ]
  },
  {
   "cell_type": "markdown",
   "id": "3e128128",
   "metadata": {},
   "source": [
    "##### Levantamos el dataset con target ya calculado"
   ]
  },
  {
   "cell_type": "code",
   "execution_count": 2,
   "id": "23d157af",
   "metadata": {},
   "outputs": [
    {
     "data": {
      "text/plain": [
       "(31362, 19)"
      ]
     },
     "execution_count": 2,
     "metadata": {},
     "output_type": "execute_result"
    }
   ],
   "source": [
    "df = pd.read_csv(\"./datasets/periodo_x_producto_con_target.csv\", sep=',', encoding='utf-8')\n",
    "df.shape"
   ]
  },
  {
   "cell_type": "markdown",
   "id": "b6556d30",
   "metadata": {},
   "source": [
    "##### Preprocesamiento a la minima expresión :)"
   ]
  },
  {
   "cell_type": "code",
   "execution_count": 3,
   "id": "9665b526",
   "metadata": {},
   "outputs": [
    {
     "data": {
      "text/plain": [
       "(31362, 162)"
      ]
     },
     "execution_count": 3,
     "metadata": {},
     "output_type": "execute_result"
    }
   ],
   "source": [
    "##### aplicamos OHE\n",
    "df = preprocesamiento.aplicarOHE(df)\n",
    "df.shape"
   ]
  },
  {
   "cell_type": "markdown",
   "id": "902b1e13",
   "metadata": {},
   "source": [
    "### Feature Engineering"
   ]
  },
  {
   "cell_type": "markdown",
   "id": "2bd77df9",
   "metadata": {},
   "source": [
    "##### Neural Prophet"
   ]
  },
  {
   "cell_type": "code",
   "execution_count": 4,
   "id": "34d306ff",
   "metadata": {},
   "outputs": [
    {
     "data": {
      "text/plain": [
       "(31362, 165)"
      ]
     },
     "execution_count": 4,
     "metadata": {},
     "output_type": "execute_result"
    }
   ],
   "source": [
    "neural_prophet_fe = pd.read_csv(\"./datasets/features_neuralprophet_completo.csv\", sep=',', encoding='utf-8')\n",
    "neural_prophet_fe['ds'] = pd.to_datetime(neural_prophet_fe['ds'], errors='coerce')\n",
    "# Versión alternativa más robusta:\n",
    "neural_prophet_fe['periodo'] = neural_prophet_fe['ds'].apply(\n",
    "    lambda x: x.year * 100 + x.month if pd.notnull(x) else None\n",
    ")\n",
    "neural_prophet_fe = neural_prophet_fe[['periodo', 'product_id', 'trend', \"season_yearly\", \"season_monthly\"]]\n",
    "df = df.merge(neural_prophet_fe, on=['periodo', 'product_id'], how='left')\n",
    "df.shape"
   ]
  },
  {
   "cell_type": "markdown",
   "id": "ff026986",
   "metadata": {},
   "source": [
    "##### Prophet"
   ]
  },
  {
   "cell_type": "code",
   "execution_count": 5,
   "id": "4318910f",
   "metadata": {},
   "outputs": [
    {
     "data": {
      "text/plain": [
       "(31362, 171)"
      ]
     },
     "execution_count": 5,
     "metadata": {},
     "output_type": "execute_result"
    }
   ],
   "source": [
    "prophet_fe = pd.read_csv(\"./datasets/prophet_features_tn_zscore.csv\", sep=',', encoding='utf-8')\n",
    "prophet_fe['ds'] = pd.to_datetime(prophet_fe['ds'], errors='coerce')\n",
    "prophet_fe['periodo'] = prophet_fe['ds'].apply(\n",
    "    lambda x: x.year * 100 + x.month if pd.notnull(x) else None\n",
    ")\n",
    "prophet_fe = prophet_fe[['periodo', 'product_id', 'trend_add', \"yearly_add\", \"additive_terms\", 'trend_mult', 'yearly_mult', 'multiplicative_terms']]\n",
    "df = df.merge(prophet_fe, on=['periodo', 'product_id'], how='left')\n",
    "df.shape"
   ]
  },
  {
   "cell_type": "markdown",
   "id": "2eb4d3aa",
   "metadata": {},
   "source": [
    "##### FE Moviles"
   ]
  },
  {
   "cell_type": "code",
   "execution_count": 6,
   "id": "7dc30b4c",
   "metadata": {},
   "outputs": [
    {
     "data": {
      "text/plain": [
       "(31362, 626)"
      ]
     },
     "execution_count": 6,
     "metadata": {},
     "output_type": "execute_result"
    }
   ],
   "source": [
    "df = feature_engineering.get_lags(df, \"tn\", 201912)\n",
    "df = feature_engineering.get_delta_lags(df, \"tn\", 24)\n",
    "df = feature_engineering.get_rolling_means(df, \"tn\", 201912)\n",
    "df = feature_engineering.get_rolling_stds(df, \"tn\", 201912)\n",
    "df = feature_engineering.get_rolling_mins(df, \"tn\", 201912)\n",
    "df = feature_engineering.get_rolling_maxs(df, \"tn\", 201912)\n",
    "# df = feature_engineering.get_rolling_medians(df, \"tn\", 201912)\n",
    "# df = feature_engineering.get_rolling_skewness(df, \"tn\", 201912)\n",
    "# df = feature_engineering.get_autocorrelaciones(df, \"tn\", 201912)\n",
    "df.shape"
   ]
  },
  {
   "cell_type": "markdown",
   "id": "e2436c9b",
   "metadata": {},
   "source": [
    "##### FE Moviles sobre otras variables"
   ]
  },
  {
   "cell_type": "code",
   "execution_count": 7,
   "id": "0dca7531",
   "metadata": {},
   "outputs": [],
   "source": [
    "# #  stock final\n",
    "# df = feature_engineering.get_lagsEspecificos(df, col='stock_final_zscore')\n",
    "# df = feature_engineering.get_delta_lags_especificos(df, col='stock_final_zscore')\n",
    "# df = feature_engineering.get_rolling_means_especificos(df, col='stock_final_zscore')\n",
    "# df = feature_engineering.get_rolling_stds_especificos(df, col='stock_final_zscore')\n",
    "# df = feature_engineering.get_rolling_medians_especificos(df, col='stock_final_zscore')\n",
    "# df = feature_engineering.get_rolling_mins_especificos(df, col='stock_final_zscore')\n",
    "# df = feature_engineering.get_rolling_maxs_especificos(df, col='stock_final_zscore')\n",
    "# df = feature_engineering.get_rolling_skewness_especificos(df, col='stock_final_zscore')\n",
    "\n",
    "# #  cust_request_qty\n",
    "# df = feature_engineering.get_lagsEspecificos(df, col='cust_request_qty_zscore')\n",
    "# df = feature_engineering.get_delta_lags_especificos(df, col='cust_request_qty_zscore')\n",
    "# df = feature_engineering.get_rolling_means_especificos(df, col='cust_request_qty_zscore')\n",
    "# df = feature_engineering.get_rolling_stds_especificos(df, col='cust_request_qty_zscore')\n",
    "# df = feature_engineering.get_rolling_medians_especificos(df, col='cust_request_qty_zscore')\n",
    "# df = feature_engineering.get_rolling_mins_especificos(df, col='cust_request_qty_zscore')\n",
    "# df = feature_engineering.get_rolling_maxs_especificos(df, col='cust_request_qty_zscore')\n",
    "# df = feature_engineering.get_rolling_skewness_especificos(df, col='cust_request_qty_zscore')"
   ]
  },
  {
   "cell_type": "markdown",
   "id": "6fb9716d",
   "metadata": {},
   "source": [
    "##### FE Calendario"
   ]
  },
  {
   "cell_type": "code",
   "execution_count": 8,
   "id": "3e810260",
   "metadata": {},
   "outputs": [
    {
     "data": {
      "text/plain": [
       "(31362, 651)"
      ]
     },
     "execution_count": 8,
     "metadata": {},
     "output_type": "execute_result"
    }
   ],
   "source": [
    "df = feature_engineering.generar_ids(df)\n",
    "df = feature_engineering.get_componentesTemporales(df)\n",
    "df = feature_engineering.get_anomaliasPoliticas(df)\n",
    "# df = feature_engineering.descomposicion_serie_temporal(df, col='tn')\n",
    "df.shape"
   ]
  },
  {
   "cell_type": "markdown",
   "id": "b34d19db",
   "metadata": {},
   "source": [
    "##### FE sobre FE"
   ]
  },
  {
   "cell_type": "code",
   "execution_count": 9,
   "id": "14345585",
   "metadata": {},
   "outputs": [
    {
     "data": {
      "text/plain": [
       "(31362, 680)"
      ]
     },
     "execution_count": 9,
     "metadata": {},
     "output_type": "execute_result"
    }
   ],
   "source": [
    "df = feature_engineering.chatGPT_features_serie(df, \"tn\")\n",
    "df = feature_engineering.mes_con_feriado(df)\n",
    "df.shape"
   ]
  },
  {
   "cell_type": "markdown",
   "id": "62f1cbad",
   "metadata": {},
   "source": [
    "##### Variables Exogenas"
   ]
  },
  {
   "cell_type": "code",
   "execution_count": 10,
   "id": "d10e572a",
   "metadata": {},
   "outputs": [
    {
     "data": {
      "text/plain": [
       "(31362, 683)"
      ]
     },
     "execution_count": 10,
     "metadata": {},
     "output_type": "execute_result"
    }
   ],
   "source": [
    "df = feature_engineering.get_dolar(df)\n",
    "df = feature_engineering.get_IPC(df)\n",
    "df['ipc'] = df['ipc'].str.replace(',', '.').astype(float)\n",
    "df['dolar'] = df['dolar'].str.replace(',', '.').astype(float)\n",
    "# df.drop(columns=['ds'], inplace=True)\n",
    "df.fillna(0, inplace=True) ##### EXPERIMENTAR\n",
    "df = feature_engineering.correlacion_exogenas(df)\n",
    "df = feature_engineering.get_mes_receso_escolar(df)\n",
    "df.shape"
   ]
  },
  {
   "cell_type": "markdown",
   "id": "4ff4ee13",
   "metadata": {},
   "source": [
    "##### EXP 1\n",
    "\n",
    "-   \n"
   ]
  },
  {
   "cell_type": "code",
   "execution_count": 11,
   "id": "f43f0ecc",
   "metadata": {},
   "outputs": [
    {
     "name": "stderr",
     "output_type": "stream",
     "text": [
      "[I 2025-06-26 22:15:29,066] A new study created in memory with name: no-name-21f62f9e-b45a-45b6-86e4-c4e9a601e22d\n"
     ]
    },
    {
     "name": "stdout",
     "output_type": "stream",
     "text": [
      "Features: ['product_id', 'periodo', 'nacimiento_producto', 'muerte_producto', 'mes_n', 'total_meses', 'producto_nuevo', 'ciclo_de_vida_inicial', 'sku_size', 'stock_final', 'tn', 'plan_precios_cuidados', 'cust_request_qty', 'cust_request_tn', 'cat1_FOODS', 'cat1_HC', 'cat1_PC', 'cat1_REF', 'cat1_nan', 'cat2_ADEREZOS', 'cat2_CABELLO', 'cat2_DENTAL', 'cat2_DEOS', 'cat2_HOGAR', 'cat2_OTROS', 'cat2_PIEL1', 'cat2_PIEL2', 'cat2_PROFESIONAL', 'cat2_ROPA ACONDICIONADOR', 'cat2_ROPA LAVADO', 'cat2_ROPA MANCHAS', 'cat2_SOPAS Y CALDOS', 'cat2_TE', 'cat2_VAJILLA', 'cat2_nan', 'cat3_ACONDICIONADOR', 'cat3_Acond Bebe', 'cat3_Acond Mujer', 'cat3_Aero', 'cat3_Aji Picante', 'cat3_Almidon', 'cat3_Antigrasa', 'cat3_Azul', 'cat3_BARRAS', 'cat3_Baking Bags', 'cat3_Barbacoa', 'cat3_Barra', 'cat3_Baño', 'cat3_Bizcochuelo', 'cat3_CREMA', 'cat3_CUIDADO ESPECIAL', 'cat3_Caldo Cubo', 'cat3_Caldos Granulados', 'cat3_Cara', 'cat3_Cepilllo', 'cat3_Chimichurri', 'cat3_Concentrado', 'cat3_Cremoso', 'cat3_Cristalino', 'cat3_Cuerpo', 'cat3_DETOX', 'cat3_Desmaquillante', 'cat3_Diluido', 'cat3_Dishes', 'cat3_Especial', 'cat3_Esponja', 'cat3_Frutas', 'cat3_Galletitas', 'cat3_Gel', 'cat3_Gel Ducha', 'cat3_Granolas', 'cat3_Hierbas', 'cat3_INDUSTRIAL', 'cat3_Jabon Antibacterial', 'cat3_Jabon Barba', 'cat3_Jabon Barra', 'cat3_Jabon Bebe', 'cat3_Jabon Glicerina', 'cat3_Jabon Hotel', 'cat3_Jabon Regular', 'cat3_Ketchup', 'cat3_LAVANDINA EN GEL', 'cat3_LIQUIDOS', 'cat3_Ladrillo', 'cat3_Limpieza', 'cat3_Limpieza Cara', 'cat3_Liquido', 'cat3_Mayonesa', 'cat3_Mostaza', 'cat3_NUTRICION', 'cat3_Niños', 'cat3_NoAero', 'cat3_Opaco', 'cat3_PACKS', 'cat3_PISOS', 'cat3_POST WASH', 'cat3_Paño', 'cat3_Pies Aero', 'cat3_Pies NoAero', 'cat3_Pies Talco', 'cat3_Polvo', 'cat3_Pure de Papas', 'cat3_Pure de Tomate', 'cat3_PurePapas', 'cat3_Repelente', 'cat3_RollOn', 'cat3_SHAMPOO', 'cat3_SUAVIZANTE', 'cat3_Salsa Golf', 'cat3_Salsas', 'cat3_Salsas Dry', 'cat3_Salsas Wet', 'cat3_Sazonadores', 'cat3_Shampoo Bebe', 'cat3_Sopas', 'cat3_Stick', 'cat3_Styling', 'cat3_TOILETTE', 'cat3_Talco', 'cat3_Toallitas Bebe', 'cat3_Tratamiento Fem', 'cat3_Tratamiento Masc', 'cat3_Verde', 'cat3_Vidrios', 'cat3_nan', 'brand_ARIEL', 'brand_AYUDIN', 'brand_CAPILATIS', 'brand_COLBERT', 'brand_COLGATE', 'brand_DEOS1', 'brand_DEOS2', 'brand_DEOS3', 'brand_DOWNY', 'brand_ESPADOL', 'brand_GOMINA', 'brand_HARINAMA', 'brand_Importado', 'brand_JABON1', 'brand_LANCOME', 'brand_LIMPIEX', 'brand_MAGGI', 'brand_MAGGI2', 'brand_MAJESTA', 'brand_MAYOS3', 'brand_MOSTAZA1', 'brand_MUSCULO', 'brand_NATURA', 'brand_NIVEA', 'brand_OFF', 'brand_ROPEX1', 'brand_ROPEX2', 'brand_SALSATI', 'brand_SHAMPOO1', 'brand_SHAMPOO2', 'brand_SHAMPOO3', 'brand_SKIN1', 'brand_TWININGS', 'brand_VICHY', 'brand_VIVERE', 'brand_nan', 'trend', 'season_yearly', 'season_monthly', 'trend_add', 'yearly_add', 'additive_terms', 'trend_mult', 'yearly_mult', 'multiplicative_terms', 'tn_lag_1', 'tn_lag_2', 'tn_lag_3', 'tn_lag_4', 'tn_lag_5', 'tn_lag_6', 'tn_lag_7', 'tn_lag_8', 'tn_lag_9', 'tn_lag_10', 'tn_lag_11', 'tn_lag_12', 'tn_lag_13', 'tn_lag_14', 'tn_lag_15', 'tn_lag_16', 'tn_lag_17', 'tn_lag_18', 'tn_lag_19', 'tn_lag_20', 'tn_lag_21', 'tn_lag_22', 'tn_lag_23', 'tn_lag_24', 'tn_lag_25', 'tn_lag_26', 'tn_lag_27', 'tn_lag_28', 'tn_lag_29', 'tn_lag_30', 'tn_lag_31', 'tn_lag_32', 'tn_lag_33', 'tn_lag_34', 'tn_lag_35', 'tn_delta_lag1_lag2', 'tn_delta_lag1_lag3', 'tn_delta_lag1_lag4', 'tn_delta_lag1_lag5', 'tn_delta_lag1_lag6', 'tn_delta_lag1_lag7', 'tn_delta_lag1_lag8', 'tn_delta_lag1_lag9', 'tn_delta_lag1_lag10', 'tn_delta_lag1_lag11', 'tn_delta_lag1_lag12', 'tn_delta_lag1_lag13', 'tn_delta_lag1_lag14', 'tn_delta_lag1_lag15', 'tn_delta_lag1_lag16', 'tn_delta_lag1_lag17', 'tn_delta_lag1_lag18', 'tn_delta_lag1_lag19', 'tn_delta_lag1_lag20', 'tn_delta_lag1_lag21', 'tn_delta_lag1_lag22', 'tn_delta_lag1_lag23', 'tn_delta_lag1_lag24', 'tn_delta_lag2_lag3', 'tn_delta_lag2_lag4', 'tn_delta_lag2_lag5', 'tn_delta_lag2_lag6', 'tn_delta_lag2_lag7', 'tn_delta_lag2_lag8', 'tn_delta_lag2_lag9', 'tn_delta_lag2_lag10', 'tn_delta_lag2_lag11', 'tn_delta_lag2_lag12', 'tn_delta_lag2_lag13', 'tn_delta_lag2_lag14', 'tn_delta_lag2_lag15', 'tn_delta_lag2_lag16', 'tn_delta_lag2_lag17', 'tn_delta_lag2_lag18', 'tn_delta_lag2_lag19', 'tn_delta_lag2_lag20', 'tn_delta_lag2_lag21', 'tn_delta_lag2_lag22', 'tn_delta_lag2_lag23', 'tn_delta_lag2_lag24', 'tn_delta_lag3_lag4', 'tn_delta_lag3_lag5', 'tn_delta_lag3_lag6', 'tn_delta_lag3_lag7', 'tn_delta_lag3_lag8', 'tn_delta_lag3_lag9', 'tn_delta_lag3_lag10', 'tn_delta_lag3_lag11', 'tn_delta_lag3_lag12', 'tn_delta_lag3_lag13', 'tn_delta_lag3_lag14', 'tn_delta_lag3_lag15', 'tn_delta_lag3_lag16', 'tn_delta_lag3_lag17', 'tn_delta_lag3_lag18', 'tn_delta_lag3_lag19', 'tn_delta_lag3_lag20', 'tn_delta_lag3_lag21', 'tn_delta_lag3_lag22', 'tn_delta_lag3_lag23', 'tn_delta_lag3_lag24', 'tn_delta_lag4_lag5', 'tn_delta_lag4_lag6', 'tn_delta_lag4_lag7', 'tn_delta_lag4_lag8', 'tn_delta_lag4_lag9', 'tn_delta_lag4_lag10', 'tn_delta_lag4_lag11', 'tn_delta_lag4_lag12', 'tn_delta_lag4_lag13', 'tn_delta_lag4_lag14', 'tn_delta_lag4_lag15', 'tn_delta_lag4_lag16', 'tn_delta_lag4_lag17', 'tn_delta_lag4_lag18', 'tn_delta_lag4_lag19', 'tn_delta_lag4_lag20', 'tn_delta_lag4_lag21', 'tn_delta_lag4_lag22', 'tn_delta_lag4_lag23', 'tn_delta_lag4_lag24', 'tn_delta_lag5_lag6', 'tn_delta_lag5_lag7', 'tn_delta_lag5_lag8', 'tn_delta_lag5_lag9', 'tn_delta_lag5_lag10', 'tn_delta_lag5_lag11', 'tn_delta_lag5_lag12', 'tn_delta_lag5_lag13', 'tn_delta_lag5_lag14', 'tn_delta_lag5_lag15', 'tn_delta_lag5_lag16', 'tn_delta_lag5_lag17', 'tn_delta_lag5_lag18', 'tn_delta_lag5_lag19', 'tn_delta_lag5_lag20', 'tn_delta_lag5_lag21', 'tn_delta_lag5_lag22', 'tn_delta_lag5_lag23', 'tn_delta_lag5_lag24', 'tn_delta_lag6_lag7', 'tn_delta_lag6_lag8', 'tn_delta_lag6_lag9', 'tn_delta_lag6_lag10', 'tn_delta_lag6_lag11', 'tn_delta_lag6_lag12', 'tn_delta_lag6_lag13', 'tn_delta_lag6_lag14', 'tn_delta_lag6_lag15', 'tn_delta_lag6_lag16', 'tn_delta_lag6_lag17', 'tn_delta_lag6_lag18', 'tn_delta_lag6_lag19', 'tn_delta_lag6_lag20', 'tn_delta_lag6_lag21', 'tn_delta_lag6_lag22', 'tn_delta_lag6_lag23', 'tn_delta_lag6_lag24', 'tn_delta_lag7_lag8', 'tn_delta_lag7_lag9', 'tn_delta_lag7_lag10', 'tn_delta_lag7_lag11', 'tn_delta_lag7_lag12', 'tn_delta_lag7_lag13', 'tn_delta_lag7_lag14', 'tn_delta_lag7_lag15', 'tn_delta_lag7_lag16', 'tn_delta_lag7_lag17', 'tn_delta_lag7_lag18', 'tn_delta_lag7_lag19', 'tn_delta_lag7_lag20', 'tn_delta_lag7_lag21', 'tn_delta_lag7_lag22', 'tn_delta_lag7_lag23', 'tn_delta_lag7_lag24', 'tn_delta_lag8_lag9', 'tn_delta_lag8_lag10', 'tn_delta_lag8_lag11', 'tn_delta_lag8_lag12', 'tn_delta_lag8_lag13', 'tn_delta_lag8_lag14', 'tn_delta_lag8_lag15', 'tn_delta_lag8_lag16', 'tn_delta_lag8_lag17', 'tn_delta_lag8_lag18', 'tn_delta_lag8_lag19', 'tn_delta_lag8_lag20', 'tn_delta_lag8_lag21', 'tn_delta_lag8_lag22', 'tn_delta_lag8_lag23', 'tn_delta_lag8_lag24', 'tn_delta_lag9_lag10', 'tn_delta_lag9_lag11', 'tn_delta_lag9_lag12', 'tn_delta_lag9_lag13', 'tn_delta_lag9_lag14', 'tn_delta_lag9_lag15', 'tn_delta_lag9_lag16', 'tn_delta_lag9_lag17', 'tn_delta_lag9_lag18', 'tn_delta_lag9_lag19', 'tn_delta_lag9_lag20', 'tn_delta_lag9_lag21', 'tn_delta_lag9_lag22', 'tn_delta_lag9_lag23', 'tn_delta_lag9_lag24', 'tn_delta_lag10_lag11', 'tn_delta_lag10_lag12', 'tn_delta_lag10_lag13', 'tn_delta_lag10_lag14', 'tn_delta_lag10_lag15', 'tn_delta_lag10_lag16', 'tn_delta_lag10_lag17', 'tn_delta_lag10_lag18', 'tn_delta_lag10_lag19', 'tn_delta_lag10_lag20', 'tn_delta_lag10_lag21', 'tn_delta_lag10_lag22', 'tn_delta_lag10_lag23', 'tn_delta_lag10_lag24', 'tn_delta_lag11_lag12', 'tn_delta_lag11_lag13', 'tn_delta_lag11_lag14', 'tn_delta_lag11_lag15', 'tn_delta_lag11_lag16', 'tn_delta_lag11_lag17', 'tn_delta_lag11_lag18', 'tn_delta_lag11_lag19', 'tn_delta_lag11_lag20', 'tn_delta_lag11_lag21', 'tn_delta_lag11_lag22', 'tn_delta_lag11_lag23', 'tn_delta_lag11_lag24', 'tn_delta_lag12_lag13', 'tn_delta_lag12_lag14', 'tn_delta_lag12_lag15', 'tn_delta_lag12_lag16', 'tn_delta_lag12_lag17', 'tn_delta_lag12_lag18', 'tn_delta_lag12_lag19', 'tn_delta_lag12_lag20', 'tn_delta_lag12_lag21', 'tn_delta_lag12_lag22', 'tn_delta_lag12_lag23', 'tn_delta_lag12_lag24', 'tn_delta_lag13_lag14', 'tn_delta_lag13_lag15', 'tn_delta_lag13_lag16', 'tn_delta_lag13_lag17', 'tn_delta_lag13_lag18', 'tn_delta_lag13_lag19', 'tn_delta_lag13_lag20', 'tn_delta_lag13_lag21', 'tn_delta_lag13_lag22', 'tn_delta_lag13_lag23', 'tn_delta_lag13_lag24', 'tn_delta_lag14_lag15', 'tn_delta_lag14_lag16', 'tn_delta_lag14_lag17', 'tn_delta_lag14_lag18', 'tn_delta_lag14_lag19', 'tn_delta_lag14_lag20', 'tn_delta_lag14_lag21', 'tn_delta_lag14_lag22', 'tn_delta_lag14_lag23', 'tn_delta_lag14_lag24', 'tn_delta_lag15_lag16', 'tn_delta_lag15_lag17', 'tn_delta_lag15_lag18', 'tn_delta_lag15_lag19', 'tn_delta_lag15_lag20', 'tn_delta_lag15_lag21', 'tn_delta_lag15_lag22', 'tn_delta_lag15_lag23', 'tn_delta_lag15_lag24', 'tn_delta_lag16_lag17', 'tn_delta_lag16_lag18', 'tn_delta_lag16_lag19', 'tn_delta_lag16_lag20', 'tn_delta_lag16_lag21', 'tn_delta_lag16_lag22', 'tn_delta_lag16_lag23', 'tn_delta_lag16_lag24', 'tn_delta_lag17_lag18', 'tn_delta_lag17_lag19', 'tn_delta_lag17_lag20', 'tn_delta_lag17_lag21', 'tn_delta_lag17_lag22', 'tn_delta_lag17_lag23', 'tn_delta_lag17_lag24', 'tn_delta_lag18_lag19', 'tn_delta_lag18_lag20', 'tn_delta_lag18_lag21', 'tn_delta_lag18_lag22', 'tn_delta_lag18_lag23', 'tn_delta_lag18_lag24', 'tn_delta_lag19_lag20', 'tn_delta_lag19_lag21', 'tn_delta_lag19_lag22', 'tn_delta_lag19_lag23', 'tn_delta_lag19_lag24', 'tn_delta_lag20_lag21', 'tn_delta_lag20_lag22', 'tn_delta_lag20_lag23', 'tn_delta_lag20_lag24', 'tn_delta_lag21_lag22', 'tn_delta_lag21_lag23', 'tn_delta_lag21_lag24', 'tn_delta_lag22_lag23', 'tn_delta_lag22_lag24', 'tn_delta_lag23_lag24', 'tn_rolling_mean_1', 'tn_rolling_mean_2', 'tn_rolling_mean_3', 'tn_rolling_mean_4', 'tn_rolling_mean_5', 'tn_rolling_mean_6', 'tn_rolling_mean_7', 'tn_rolling_mean_8', 'tn_rolling_mean_9', 'tn_rolling_mean_10', 'tn_rolling_mean_11', 'tn_rolling_mean_12', 'tn_rolling_mean_13', 'tn_rolling_mean_14', 'tn_rolling_mean_15', 'tn_rolling_mean_16', 'tn_rolling_mean_17', 'tn_rolling_mean_18', 'tn_rolling_mean_19', 'tn_rolling_mean_20', 'tn_rolling_mean_21', 'tn_rolling_mean_22', 'tn_rolling_mean_23', 'tn_rolling_mean_24', 'tn_rolling_mean_25', 'tn_rolling_mean_26', 'tn_rolling_mean_27', 'tn_rolling_mean_28', 'tn_rolling_mean_29', 'tn_rolling_mean_30', 'tn_rolling_mean_31', 'tn_rolling_mean_32', 'tn_rolling_mean_33', 'tn_rolling_mean_34', 'tn_rolling_mean_35', 'tn_rolling_mean_36', 'tn_rolling_std_1', 'tn_rolling_std_2', 'tn_rolling_std_3', 'tn_rolling_std_4', 'tn_rolling_std_5', 'tn_rolling_std_6', 'tn_rolling_std_7', 'tn_rolling_std_8', 'tn_rolling_std_9', 'tn_rolling_std_10', 'tn_rolling_std_11', 'tn_rolling_std_12', 'tn_rolling_std_13', 'tn_rolling_std_14', 'tn_rolling_std_15', 'tn_rolling_std_16', 'tn_rolling_std_17', 'tn_rolling_std_18', 'tn_rolling_std_19', 'tn_rolling_std_20', 'tn_rolling_std_21', 'tn_rolling_std_22', 'tn_rolling_std_23', 'tn_rolling_std_24', 'tn_rolling_std_25', 'tn_rolling_std_26', 'tn_rolling_std_27', 'tn_rolling_std_28', 'tn_rolling_std_29', 'tn_rolling_std_30', 'tn_rolling_std_31', 'tn_rolling_std_32', 'tn_rolling_std_33', 'tn_rolling_std_34', 'tn_rolling_std_35', 'tn_rolling_std_36', 'tn_rolling_min_1', 'tn_rolling_min_2', 'tn_rolling_min_3', 'tn_rolling_min_4', 'tn_rolling_min_5', 'tn_rolling_min_6', 'tn_rolling_min_7', 'tn_rolling_min_8', 'tn_rolling_min_9', 'tn_rolling_min_10', 'tn_rolling_min_11', 'tn_rolling_min_12', 'tn_rolling_min_13', 'tn_rolling_min_14', 'tn_rolling_min_15', 'tn_rolling_min_16', 'tn_rolling_min_17', 'tn_rolling_min_18', 'tn_rolling_min_19', 'tn_rolling_min_20', 'tn_rolling_min_21', 'tn_rolling_min_22', 'tn_rolling_min_23', 'tn_rolling_min_24', 'tn_rolling_min_25', 'tn_rolling_min_26', 'tn_rolling_min_27', 'tn_rolling_min_28', 'tn_rolling_min_29', 'tn_rolling_min_30', 'tn_rolling_min_31', 'tn_rolling_min_32', 'tn_rolling_min_33', 'tn_rolling_min_34', 'tn_rolling_min_35', 'tn_rolling_min_36', 'tn_rolling_max_1', 'tn_rolling_max_2', 'tn_rolling_max_3', 'tn_rolling_max_4', 'tn_rolling_max_5', 'tn_rolling_max_6', 'tn_rolling_max_7', 'tn_rolling_max_8', 'tn_rolling_max_9', 'tn_rolling_max_10', 'tn_rolling_max_11', 'tn_rolling_max_12', 'tn_rolling_max_13', 'tn_rolling_max_14', 'tn_rolling_max_15', 'tn_rolling_max_16', 'tn_rolling_max_17', 'tn_rolling_max_18', 'tn_rolling_max_19', 'tn_rolling_max_20', 'tn_rolling_max_21', 'tn_rolling_max_22', 'tn_rolling_max_23', 'tn_rolling_max_24', 'tn_rolling_max_25', 'tn_rolling_max_26', 'tn_rolling_max_27', 'tn_rolling_max_28', 'tn_rolling_max_29', 'tn_rolling_max_30', 'tn_rolling_max_31', 'tn_rolling_max_32', 'tn_rolling_max_33', 'tn_rolling_max_34', 'tn_rolling_max_35', 'tn_rolling_max_36', 'id', 'year', 'month', 'quarter', 'semester', 'dias_en_mes', 'week_of_year', 'year_end', 'year_start', 'season', 'month_sin', 'month_cos', 'quarter_sin', 'quarter_cos', 'dia_del_year', 'dia_del_year_sin', 'dia_del_year_cos', 'elecciones_legislativas_1', 'elecciones_legislativas_2', 'crisis_cambiaria_1', 'crisis_cambiaria_2', 'las_paso_2019_1', 'las_paso_2019_2', 'devaluacion_post_PASO', 'elecciones_presidenciales_2019', 'tn_expanding_mean', 'tn_cumulative_sum', 'tn_seasonal_diff_6', 'tn_seasonal_diff_12', 'tn_seasonal_diff_18', 'tn_seasonal_diff_24', 'tn_vs_prev_year', 'tn_trend', 'tn_seasonality', 'tn_ewm_alpha_0.3', 'tn_ewm_alpha_0.5', 'tn_rolling_center_mean_3', 'tn_ytd_sum', 'tn_time_index', 'tn_trend_linear', 'tn_trend_quadratic', 'tn_residual_trend', 'tn_ratio_mean6_std6', 'tn_is_outlier_3sigma', 'tn_naive_forecast', 'tn_seasonal_naive', 'tn_ma_forecast_3', 'tn_best_month_rank', 'tn_vs_last_year_same_month', 'tn_last3_vs_ly3', 'contiene_feriado', 'dolar', 'ipc', 'corr_tn_dolar', 'corr_tn_ipc', 'corr_tn_dolar_x_prod', 'receso_escolar', 'tn_scaled']\n",
      "Training until validation scores don't improve for 30 rounds\n",
      "Early stopping, best iteration is:\n",
      "[10]\tvalid_0's l1: 26.7815\n",
      "Training until validation scores don't improve for 30 rounds\n",
      "Early stopping, best iteration is:\n",
      "[17]\tvalid_0's l1: 20.1856\n",
      "Training until validation scores don't improve for 30 rounds\n",
      "Early stopping, best iteration is:\n",
      "[17]\tvalid_0's l1: 21.4642\n",
      "Training until validation scores don't improve for 30 rounds\n",
      "Early stopping, best iteration is:\n",
      "[22]\tvalid_0's l1: 17.1527\n",
      "Training until validation scores don't improve for 30 rounds\n",
      "Early stopping, best iteration is:\n",
      "[15]\tvalid_0's l1: 16.5042\n",
      "Training until validation scores don't improve for 30 rounds\n",
      "Early stopping, best iteration is:\n",
      "[19]\tvalid_0's l1: 15.1433\n",
      "Training until validation scores don't improve for 30 rounds\n",
      "Early stopping, best iteration is:\n",
      "[41]\tvalid_0's l1: 13.5792\n",
      "Training until validation scores don't improve for 30 rounds\n",
      "Early stopping, best iteration is:\n",
      "[26]\tvalid_0's l1: 13.1556\n",
      "Training until validation scores don't improve for 30 rounds\n",
      "Early stopping, best iteration is:\n",
      "[21]\tvalid_0's l1: 13.1676\n",
      "Training until validation scores don't improve for 30 rounds\n",
      "Early stopping, best iteration is:\n",
      "[11]\tvalid_0's l1: 16.3614\n",
      "Training until validation scores don't improve for 30 rounds\n",
      "Early stopping, best iteration is:\n",
      "[15]\tvalid_0's l1: 13.05\n",
      "Training until validation scores don't improve for 30 rounds\n",
      "Early stopping, best iteration is:\n",
      "[14]\tvalid_0's l1: 12.4773\n",
      "Training until validation scores don't improve for 30 rounds\n",
      "Early stopping, best iteration is:\n",
      "[97]\tvalid_0's l1: 10.9719\n",
      "Training until validation scores don't improve for 30 rounds\n",
      "Early stopping, best iteration is:\n",
      "[91]\tvalid_0's l1: 11.8044\n",
      "Training until validation scores don't improve for 30 rounds\n",
      "Early stopping, best iteration is:\n",
      "[26]\tvalid_0's l1: 12.1758\n",
      "Training until validation scores don't improve for 30 rounds\n",
      "Did not meet early stopping. Best iteration is:\n",
      "[759]\tvalid_0's l1: 1.6824\n",
      "Training until validation scores don't improve for 30 rounds\n",
      "Did not meet early stopping. Best iteration is:\n",
      "[759]\tvalid_0's l1: 1.84522\n",
      "Training until validation scores don't improve for 30 rounds\n",
      "Did not meet early stopping. Best iteration is:\n",
      "[759]\tvalid_0's l1: 1.69222\n"
     ]
    },
    {
     "name": "stderr",
     "output_type": "stream",
     "text": [
      "[I 2025-06-26 22:17:27,481] Trial 0 finished with value: 15.59830462682434 and parameters: {'max_depth': 9, 'learning_rate': 0.2536999076681772, 'n_estimators': 759, 'min_child_weight': 6, 'subsample': 0.5780093202212182, 'colsample_bytree': 0.5779972601681014, 'reg_alpha': 0.05808361216819946, 'reg_lambda': 0.8661761457749352}. Best is trial 0 with value: 15.59830462682434.\n"
     ]
    },
    {
     "name": "stdout",
     "output_type": "stream",
     "text": [
      "Training until validation scores don't improve for 30 rounds\n",
      "Early stopping, best iteration is:\n",
      "[27]\tvalid_0's l1: 26.1512\n",
      "Training until validation scores don't improve for 30 rounds\n",
      "Early stopping, best iteration is:\n",
      "[31]\tvalid_0's l1: 28.7795\n",
      "Training until validation scores don't improve for 30 rounds\n",
      "Early stopping, best iteration is:\n",
      "[28]\tvalid_0's l1: 25.1314\n",
      "Training until validation scores don't improve for 30 rounds\n",
      "Early stopping, best iteration is:\n",
      "[49]\tvalid_0's l1: 14.4094\n",
      "Training until validation scores don't improve for 30 rounds\n",
      "Early stopping, best iteration is:\n",
      "[50]\tvalid_0's l1: 14.4708\n",
      "Training until validation scores don't improve for 30 rounds\n",
      "Early stopping, best iteration is:\n",
      "[47]\tvalid_0's l1: 14.4938\n",
      "Training until validation scores don't improve for 30 rounds\n",
      "Early stopping, best iteration is:\n",
      "[53]\tvalid_0's l1: 12.1418\n",
      "Training until validation scores don't improve for 30 rounds\n",
      "Did not meet early stopping. Best iteration is:\n",
      "[118]\tvalid_0's l1: 12.1514\n",
      "Training until validation scores don't improve for 30 rounds\n",
      "Did not meet early stopping. Best iteration is:\n",
      "[116]\tvalid_0's l1: 12.6251\n",
      "Training until validation scores don't improve for 30 rounds\n",
      "Early stopping, best iteration is:\n",
      "[29]\tvalid_0's l1: 14.6195\n",
      "Training until validation scores don't improve for 30 rounds\n",
      "Early stopping, best iteration is:\n",
      "[37]\tvalid_0's l1: 12.4005\n",
      "Training until validation scores don't improve for 30 rounds\n",
      "Early stopping, best iteration is:\n",
      "[29]\tvalid_0's l1: 14.974\n",
      "Training until validation scores don't improve for 30 rounds\n",
      "Did not meet early stopping. Best iteration is:\n",
      "[118]\tvalid_0's l1: 10.6212\n",
      "Training until validation scores don't improve for 30 rounds\n",
      "Did not meet early stopping. Best iteration is:\n",
      "[116]\tvalid_0's l1: 10.8539\n",
      "Training until validation scores don't improve for 30 rounds\n",
      "Did not meet early stopping. Best iteration is:\n",
      "[118]\tvalid_0's l1: 10.8486\n",
      "Training until validation scores don't improve for 30 rounds\n",
      "Did not meet early stopping. Best iteration is:\n",
      "[118]\tvalid_0's l1: 7.0956\n",
      "Training until validation scores don't improve for 30 rounds\n",
      "Did not meet early stopping. Best iteration is:\n",
      "[115]\tvalid_0's l1: 7.47623\n",
      "Training until validation scores don't improve for 30 rounds\n"
     ]
    },
    {
     "name": "stderr",
     "output_type": "stream",
     "text": [
      "[I 2025-06-26 22:18:24,661] Trial 1 finished with value: 15.64481160015418 and parameters: {'max_depth': 13, 'learning_rate': 0.11114989443094977, 'n_estimators': 118, 'min_child_weight': 10, 'subsample': 0.9162213204002109, 'colsample_bytree': 0.6061695553391381, 'reg_alpha': 0.18182496720710062, 'reg_lambda': 0.18340450985343382}. Best is trial 0 with value: 15.59830462682434.\n"
     ]
    },
    {
     "name": "stdout",
     "output_type": "stream",
     "text": [
      "Did not meet early stopping. Best iteration is:\n",
      "[118]\tvalid_0's l1: 7.08846\n",
      "Training until validation scores don't improve for 30 rounds\n",
      "Early stopping, best iteration is:\n",
      "[174]\tvalid_0's l1: 18.6855\n",
      "Training until validation scores don't improve for 30 rounds\n",
      "Early stopping, best iteration is:\n",
      "[73]\tvalid_0's l1: 19.5026\n",
      "Training until validation scores don't improve for 30 rounds\n",
      "Early stopping, best iteration is:\n",
      "[88]\tvalid_0's l1: 19.764\n",
      "Training until validation scores don't improve for 30 rounds\n",
      "Early stopping, best iteration is:\n",
      "[100]\tvalid_0's l1: 13.5629\n",
      "Training until validation scores don't improve for 30 rounds\n",
      "Early stopping, best iteration is:\n",
      "[93]\tvalid_0's l1: 13.3196\n",
      "Training until validation scores don't improve for 30 rounds\n",
      "Early stopping, best iteration is:\n",
      "[94]\tvalid_0's l1: 14.0337\n",
      "Training until validation scores don't improve for 30 rounds\n",
      "Early stopping, best iteration is:\n",
      "[222]\tvalid_0's l1: 10.8279\n",
      "Training until validation scores don't improve for 30 rounds\n",
      "Early stopping, best iteration is:\n",
      "[278]\tvalid_0's l1: 10.8506\n",
      "Training until validation scores don't improve for 30 rounds\n",
      "Early stopping, best iteration is:\n",
      "[266]\tvalid_0's l1: 10.5633\n",
      "Training until validation scores don't improve for 30 rounds\n",
      "Early stopping, best iteration is:\n",
      "[86]\tvalid_0's l1: 11.4607\n",
      "Training until validation scores don't improve for 30 rounds\n",
      "Early stopping, best iteration is:\n",
      "[82]\tvalid_0's l1: 12.0809\n",
      "Training until validation scores don't improve for 30 rounds\n",
      "Early stopping, best iteration is:\n",
      "[84]\tvalid_0's l1: 11.4645\n",
      "Training until validation scores don't improve for 30 rounds\n",
      "Early stopping, best iteration is:\n",
      "[272]\tvalid_0's l1: 9.6316\n",
      "Training until validation scores don't improve for 30 rounds\n",
      "Early stopping, best iteration is:\n",
      "[297]\tvalid_0's l1: 9.73305\n",
      "Training until validation scores don't improve for 30 rounds\n",
      "Early stopping, best iteration is:\n",
      "[262]\tvalid_0's l1: 9.72616\n",
      "Training until validation scores don't improve for 30 rounds\n",
      "Did not meet early stopping. Best iteration is:\n",
      "[489]\tvalid_0's l1: 4.08792\n",
      "Training until validation scores don't improve for 30 rounds\n",
      "Did not meet early stopping. Best iteration is:\n",
      "[489]\tvalid_0's l1: 4.05702\n",
      "Training until validation scores don't improve for 30 rounds\n",
      "Did not meet early stopping. Best iteration is:\n",
      "[489]\tvalid_0's l1: 4.09044\n"
     ]
    },
    {
     "name": "stderr",
     "output_type": "stream",
     "text": [
      "[I 2025-06-26 22:20:28,537] Trial 2 finished with value: 13.013808985164818 and parameters: {'max_depth': 8, 'learning_rate': 0.05958389350068958, 'n_estimators': 489, 'min_child_weight': 3, 'subsample': 0.8059264473611898, 'colsample_bytree': 0.569746930326021, 'reg_alpha': 0.29214464853521815, 'reg_lambda': 0.3663618432936917}. Best is trial 2 with value: 13.013808985164818.\n"
     ]
    },
    {
     "name": "stdout",
     "output_type": "stream",
     "text": [
      "Training until validation scores don't improve for 30 rounds\n",
      "Early stopping, best iteration is:\n",
      "[29]\tvalid_0's l1: 20.4801\n",
      "Training until validation scores don't improve for 30 rounds\n",
      "Early stopping, best iteration is:\n",
      "[86]\tvalid_0's l1: 20.2676\n",
      "Training until validation scores don't improve for 30 rounds\n",
      "Early stopping, best iteration is:\n",
      "[23]\tvalid_0's l1: 20.7131\n",
      "Training until validation scores don't improve for 30 rounds\n",
      "Early stopping, best iteration is:\n",
      "[39]\tvalid_0's l1: 14.4153\n",
      "Training until validation scores don't improve for 30 rounds\n",
      "Early stopping, best iteration is:\n",
      "[47]\tvalid_0's l1: 14.4145\n",
      "Training until validation scores don't improve for 30 rounds\n",
      "Early stopping, best iteration is:\n",
      "[37]\tvalid_0's l1: 14.5572\n",
      "Training until validation scores don't improve for 30 rounds\n",
      "Early stopping, best iteration is:\n",
      "[129]\tvalid_0's l1: 11.3126\n",
      "Training until validation scores don't improve for 30 rounds\n",
      "Early stopping, best iteration is:\n",
      "[60]\tvalid_0's l1: 12.1284\n",
      "Training until validation scores don't improve for 30 rounds\n",
      "Early stopping, best iteration is:\n",
      "[27]\tvalid_0's l1: 12.4475\n",
      "Training until validation scores don't improve for 30 rounds\n",
      "Early stopping, best iteration is:\n",
      "[49]\tvalid_0's l1: 10.8959\n",
      "Training until validation scores don't improve for 30 rounds\n",
      "Early stopping, best iteration is:\n",
      "[44]\tvalid_0's l1: 11.7849\n",
      "Training until validation scores don't improve for 30 rounds\n",
      "Early stopping, best iteration is:\n",
      "[24]\tvalid_0's l1: 13.0362\n",
      "Training until validation scores don't improve for 30 rounds\n",
      "Early stopping, best iteration is:\n",
      "[31]\tvalid_0's l1: 11.9785\n",
      "Training until validation scores don't improve for 30 rounds\n",
      "Early stopping, best iteration is:\n",
      "[98]\tvalid_0's l1: 10.9365\n",
      "Training until validation scores don't improve for 30 rounds\n",
      "Early stopping, best iteration is:\n",
      "[126]\tvalid_0's l1: 10.4527\n",
      "Training until validation scores don't improve for 30 rounds\n",
      "Did not meet early stopping. Best iteration is:\n",
      "[279]\tvalid_0's l1: 4.01009\n",
      "Training until validation scores don't improve for 30 rounds\n",
      "Did not meet early stopping. Best iteration is:\n",
      "[279]\tvalid_0's l1: 4.18449\n",
      "Training until validation scores don't improve for 30 rounds\n"
     ]
    },
    {
     "name": "stderr",
     "output_type": "stream",
     "text": [
      "[I 2025-06-26 22:21:37,542] Trial 3 finished with value: 13.988071755152237 and parameters: {'max_depth': 11, 'learning_rate': 0.14447746112718687, 'n_estimators': 279, 'min_child_weight': 6, 'subsample': 0.7962072844310213, 'colsample_bytree': 0.5232252063599989, 'reg_alpha': 0.6075448519014384, 'reg_lambda': 0.17052412368729153}. Best is trial 2 with value: 13.013808985164818.\n"
     ]
    },
    {
     "name": "stdout",
     "output_type": "stream",
     "text": [
      "Did not meet early stopping. Best iteration is:\n",
      "[279]\tvalid_0's l1: 4.06419\n",
      "Training until validation scores don't improve for 30 rounds\n",
      "Early stopping, best iteration is:\n",
      "[20]\tvalid_0's l1: 20.5552\n",
      "Training until validation scores don't improve for 30 rounds\n",
      "Early stopping, best iteration is:\n",
      "[33]\tvalid_0's l1: 29.693\n",
      "Training until validation scores don't improve for 30 rounds\n",
      "Early stopping, best iteration is:\n",
      "[10]\tvalid_0's l1: 29.8427\n",
      "Training until validation scores don't improve for 30 rounds\n",
      "Early stopping, best iteration is:\n",
      "[26]\tvalid_0's l1: 15.7732\n",
      "Training until validation scores don't improve for 30 rounds\n",
      "Early stopping, best iteration is:\n",
      "[27]\tvalid_0's l1: 17.5036\n",
      "Training until validation scores don't improve for 30 rounds\n",
      "Early stopping, best iteration is:\n",
      "[42]\tvalid_0's l1: 18.1469\n",
      "Training until validation scores don't improve for 30 rounds\n",
      "Early stopping, best iteration is:\n",
      "[15]\tvalid_0's l1: 21.879\n",
      "Training until validation scores don't improve for 30 rounds\n",
      "Early stopping, best iteration is:\n",
      "[42]\tvalid_0's l1: 16.9697\n",
      "Training until validation scores don't improve for 30 rounds\n",
      "Early stopping, best iteration is:\n",
      "[32]\tvalid_0's l1: 15.5625\n",
      "Training until validation scores don't improve for 30 rounds\n",
      "Early stopping, best iteration is:\n",
      "[16]\tvalid_0's l1: 14.9211\n",
      "Training until validation scores don't improve for 30 rounds\n",
      "Early stopping, best iteration is:\n",
      "[24]\tvalid_0's l1: 14.3849\n",
      "Training until validation scores don't improve for 30 rounds\n",
      "Early stopping, best iteration is:\n",
      "[31]\tvalid_0's l1: 12.5551\n",
      "Training until validation scores don't improve for 30 rounds\n",
      "Early stopping, best iteration is:\n",
      "[81]\tvalid_0's l1: 12.1967\n",
      "Training until validation scores don't improve for 30 rounds\n",
      "Early stopping, best iteration is:\n",
      "[43]\tvalid_0's l1: 12.3854\n",
      "Training until validation scores don't improve for 30 rounds\n",
      "Early stopping, best iteration is:\n",
      "[36]\tvalid_0's l1: 12.3014\n",
      "Training until validation scores don't improve for 30 rounds\n",
      "Early stopping, best iteration is:\n",
      "[56]\tvalid_0's l1: 10.9654\n",
      "Training until validation scores don't improve for 30 rounds\n",
      "Did not meet early stopping. Best iteration is:\n",
      "[959]\tvalid_0's l1: 4.31124\n",
      "Training until validation scores don't improve for 30 rounds\n",
      "Did not meet early stopping. Best iteration is:\n",
      "[970]\tvalid_0's l1: 3.99749\n"
     ]
    },
    {
     "name": "stderr",
     "output_type": "stream",
     "text": [
      "[I 2025-06-26 22:22:57,483] Trial 4 finished with value: 17.64469177406094 and parameters: {'max_depth': 4, 'learning_rate': 0.2521267904777921, 'n_estimators': 970, 'min_child_weight': 9, 'subsample': 0.6523068845866853, 'colsample_bytree': 0.5488360570031919, 'reg_alpha': 0.6842330265121569, 'reg_lambda': 0.4401524937396013}. Best is trial 2 with value: 13.013808985164818.\n"
     ]
    },
    {
     "name": "stdout",
     "output_type": "stream",
     "text": [
      "Training until validation scores don't improve for 30 rounds\n",
      "Early stopping, best iteration is:\n",
      "[56]\tvalid_0's l1: 26.6866\n",
      "Training until validation scores don't improve for 30 rounds\n",
      "Early stopping, best iteration is:\n",
      "[55]\tvalid_0's l1: 28.7044\n",
      "Training until validation scores don't improve for 30 rounds\n",
      "Early stopping, best iteration is:\n",
      "[53]\tvalid_0's l1: 26.8693\n",
      "Training until validation scores don't improve for 30 rounds\n",
      "Early stopping, best iteration is:\n",
      "[87]\tvalid_0's l1: 15.7353\n",
      "Training until validation scores don't improve for 30 rounds\n",
      "Early stopping, best iteration is:\n",
      "[94]\tvalid_0's l1: 15.49\n",
      "Training until validation scores don't improve for 30 rounds\n",
      "Did not meet early stopping. Best iteration is:\n",
      "[105]\tvalid_0's l1: 15.3935\n",
      "Training until validation scores don't improve for 30 rounds\n",
      "Did not meet early stopping. Best iteration is:\n",
      "[122]\tvalid_0's l1: 14.403\n",
      "Training until validation scores don't improve for 30 rounds\n",
      "Did not meet early stopping. Best iteration is:\n",
      "[126]\tvalid_0's l1: 14.5705\n",
      "Training until validation scores don't improve for 30 rounds\n",
      "Did not meet early stopping. Best iteration is:\n",
      "[130]\tvalid_0's l1: 14.246\n",
      "Training until validation scores don't improve for 30 rounds\n",
      "Early stopping, best iteration is:\n",
      "[63]\tvalid_0's l1: 13.3282\n",
      "Training until validation scores don't improve for 30 rounds\n",
      "Early stopping, best iteration is:\n",
      "[66]\tvalid_0's l1: 15.1772\n",
      "Training until validation scores don't improve for 30 rounds\n",
      "Early stopping, best iteration is:\n",
      "[61]\tvalid_0's l1: 19.5407\n",
      "Training until validation scores don't improve for 30 rounds\n",
      "Did not meet early stopping. Best iteration is:\n",
      "[126]\tvalid_0's l1: 14.1127\n",
      "Training until validation scores don't improve for 30 rounds\n",
      "Did not meet early stopping. Best iteration is:\n",
      "[130]\tvalid_0's l1: 13.4614\n",
      "Training until validation scores don't improve for 30 rounds\n",
      "Did not meet early stopping. Best iteration is:\n",
      "[128]\tvalid_0's l1: 13.0151\n",
      "Training until validation scores don't improve for 30 rounds\n",
      "Did not meet early stopping. Best iteration is:\n",
      "[130]\tvalid_0's l1: 10.362\n",
      "Training until validation scores don't improve for 30 rounds\n",
      "Did not meet early stopping. Best iteration is:\n",
      "[129]\tvalid_0's l1: 10.3538\n",
      "Training until validation scores don't improve for 30 rounds\n"
     ]
    },
    {
     "name": "stderr",
     "output_type": "stream",
     "text": [
      "[I 2025-06-26 22:23:44,002] Trial 5 finished with value: 17.382257906998813 and parameters: {'max_depth': 5, 'learning_rate': 0.05388108577817234, 'n_estimators': 130, 'min_child_weight': 10, 'subsample': 0.6293899908000085, 'colsample_bytree': 0.831261142176991, 'reg_alpha': 0.31171107608941095, 'reg_lambda': 0.5200680211778108}. Best is trial 2 with value: 13.013808985164818.\n"
     ]
    },
    {
     "name": "stdout",
     "output_type": "stream",
     "text": [
      "Did not meet early stopping. Best iteration is:\n",
      "[130]\tvalid_0's l1: 10.5308\n",
      "Training until validation scores don't improve for 30 rounds\n",
      "Early stopping, best iteration is:\n",
      "[211]\tvalid_0's l1: 24.5582\n",
      "Training until validation scores don't improve for 30 rounds\n",
      "Early stopping, best iteration is:\n",
      "[174]\tvalid_0's l1: 25.3928\n",
      "Training until validation scores don't improve for 30 rounds\n",
      "Early stopping, best iteration is:\n",
      "[211]\tvalid_0's l1: 24.7485\n",
      "Training until validation scores don't improve for 30 rounds\n",
      "Early stopping, best iteration is:\n",
      "[315]\tvalid_0's l1: 13.8416\n",
      "Training until validation scores don't improve for 30 rounds\n",
      "Early stopping, best iteration is:\n",
      "[321]\tvalid_0's l1: 13.9282\n",
      "Training until validation scores don't improve for 30 rounds\n",
      "Early stopping, best iteration is:\n",
      "[326]\tvalid_0's l1: 13.9612\n",
      "Training until validation scores don't improve for 30 rounds\n",
      "Early stopping, best iteration is:\n",
      "[862]\tvalid_0's l1: 11.918\n",
      "Training until validation scores don't improve for 30 rounds\n",
      "Early stopping, best iteration is:\n",
      "[892]\tvalid_0's l1: 11.6655\n",
      "Training until validation scores don't improve for 30 rounds\n",
      "Early stopping, best iteration is:\n",
      "[930]\tvalid_0's l1: 11.2955\n",
      "Training until validation scores don't improve for 30 rounds\n",
      "Early stopping, best iteration is:\n",
      "[159]\tvalid_0's l1: 16.9682\n",
      "Training until validation scores don't improve for 30 rounds\n",
      "Early stopping, best iteration is:\n",
      "[168]\tvalid_0's l1: 16.4141\n",
      "Training until validation scores don't improve for 30 rounds\n",
      "Early stopping, best iteration is:\n",
      "[176]\tvalid_0's l1: 17.0382\n",
      "Training until validation scores don't improve for 30 rounds\n",
      "Early stopping, best iteration is:\n",
      "[373]\tvalid_0's l1: 11.3194\n",
      "Training until validation scores don't improve for 30 rounds\n",
      "Early stopping, best iteration is:\n",
      "[816]\tvalid_0's l1: 9.90156\n",
      "Training until validation scores don't improve for 30 rounds\n",
      "Early stopping, best iteration is:\n",
      "[856]\tvalid_0's l1: 10.0003\n",
      "Training until validation scores don't improve for 30 rounds\n",
      "Did not meet early stopping. Best iteration is:\n",
      "[973]\tvalid_0's l1: 5.59738\n",
      "Training until validation scores don't improve for 30 rounds\n",
      "Did not meet early stopping. Best iteration is:\n",
      "[973]\tvalid_0's l1: 5.56946\n",
      "Training until validation scores don't improve for 30 rounds\n",
      "Did not meet early stopping. Best iteration is:\n",
      "[973]\tvalid_0's l1: 5.55129\n"
     ]
    },
    {
     "name": "stderr",
     "output_type": "stream",
     "text": [
      "[I 2025-06-26 22:29:18,397] Trial 6 finished with value: 15.53008362921101 and parameters: {'max_depth': 12, 'learning_rate': 0.01875220945578641, 'n_estimators': 973, 'min_child_weight': 8, 'subsample': 0.9697494707820946, 'colsample_bytree': 0.9474136752138245, 'reg_alpha': 0.5978999788110851, 'reg_lambda': 0.9218742350231168}. Best is trial 2 with value: 13.013808985164818.\n"
     ]
    },
    {
     "name": "stdout",
     "output_type": "stream",
     "text": [
      "Training until validation scores don't improve for 30 rounds\n",
      "Did not meet early stopping. Best iteration is:\n",
      "[140]\tvalid_0's l1: 28.8115\n",
      "Training until validation scores don't improve for 30 rounds\n",
      "Did not meet early stopping. Best iteration is:\n",
      "[140]\tvalid_0's l1: 29.2464\n",
      "Training until validation scores don't improve for 30 rounds\n",
      "Did not meet early stopping. Best iteration is:\n",
      "[140]\tvalid_0's l1: 29.7538\n",
      "Training until validation scores don't improve for 30 rounds\n",
      "Did not meet early stopping. Best iteration is:\n",
      "[140]\tvalid_0's l1: 23.2217\n",
      "Training until validation scores don't improve for 30 rounds\n",
      "Did not meet early stopping. Best iteration is:\n",
      "[140]\tvalid_0's l1: 23.6407\n",
      "Training until validation scores don't improve for 30 rounds\n",
      "Did not meet early stopping. Best iteration is:\n",
      "[140]\tvalid_0's l1: 23.017\n",
      "Training until validation scores don't improve for 30 rounds\n",
      "Did not meet early stopping. Best iteration is:\n",
      "[140]\tvalid_0's l1: 23.2699\n",
      "Training until validation scores don't improve for 30 rounds\n",
      "Did not meet early stopping. Best iteration is:\n",
      "[140]\tvalid_0's l1: 23.479\n",
      "Training until validation scores don't improve for 30 rounds\n",
      "Did not meet early stopping. Best iteration is:\n",
      "[140]\tvalid_0's l1: 23.1774\n",
      "Training until validation scores don't improve for 30 rounds\n",
      "Did not meet early stopping. Best iteration is:\n",
      "[140]\tvalid_0's l1: 20.6732\n",
      "Training until validation scores don't improve for 30 rounds\n",
      "Did not meet early stopping. Best iteration is:\n",
      "[140]\tvalid_0's l1: 20.5983\n",
      "Training until validation scores don't improve for 30 rounds\n",
      "Did not meet early stopping. Best iteration is:\n",
      "[140]\tvalid_0's l1: 20.7859\n",
      "Training until validation scores don't improve for 30 rounds\n",
      "Did not meet early stopping. Best iteration is:\n",
      "[140]\tvalid_0's l1: 21.7009\n",
      "Training until validation scores don't improve for 30 rounds\n",
      "Did not meet early stopping. Best iteration is:\n",
      "[140]\tvalid_0's l1: 21.6074\n",
      "Training until validation scores don't improve for 30 rounds\n",
      "Did not meet early stopping. Best iteration is:\n",
      "[140]\tvalid_0's l1: 21.5621\n",
      "Training until validation scores don't improve for 30 rounds\n",
      "Did not meet early stopping. Best iteration is:\n",
      "[140]\tvalid_0's l1: 18.7549\n",
      "Training until validation scores don't improve for 30 rounds\n",
      "Did not meet early stopping. Best iteration is:\n",
      "[140]\tvalid_0's l1: 18.8598\n",
      "Training until validation scores don't improve for 30 rounds\n"
     ]
    },
    {
     "name": "stderr",
     "output_type": "stream",
     "text": [
      "[I 2025-06-26 22:30:03,579] Trial 7 finished with value: 23.636343890886135 and parameters: {'max_depth': 4, 'learning_rate': 0.01947558230629543, 'n_estimators': 140, 'min_child_weight': 4, 'subsample': 0.6943386448447411, 'colsample_bytree': 0.6356745158869479, 'reg_alpha': 0.8287375091519293, 'reg_lambda': 0.3567533266935893}. Best is trial 2 with value: 13.013808985164818.\n"
     ]
    },
    {
     "name": "stdout",
     "output_type": "stream",
     "text": [
      "Did not meet early stopping. Best iteration is:\n",
      "[140]\tvalid_0's l1: 18.8545\n",
      "Training until validation scores don't improve for 30 rounds\n",
      "Early stopping, best iteration is:\n",
      "[44]\tvalid_0's l1: 28.9416\n",
      "Training until validation scores don't improve for 30 rounds\n",
      "Early stopping, best iteration is:\n",
      "[65]\tvalid_0's l1: 29.0976\n",
      "Training until validation scores don't improve for 30 rounds\n",
      "Early stopping, best iteration is:\n",
      "[54]\tvalid_0's l1: 25.2046\n",
      "Training until validation scores don't improve for 30 rounds\n",
      "Early stopping, best iteration is:\n",
      "[82]\tvalid_0's l1: 15.3562\n",
      "Training until validation scores don't improve for 30 rounds\n",
      "Early stopping, best iteration is:\n",
      "[69]\tvalid_0's l1: 16.6219\n",
      "Training until validation scores don't improve for 30 rounds\n",
      "Early stopping, best iteration is:\n",
      "[106]\tvalid_0's l1: 15.7592\n",
      "Training until validation scores don't improve for 30 rounds\n",
      "Early stopping, best iteration is:\n",
      "[115]\tvalid_0's l1: 12.3676\n",
      "Training until validation scores don't improve for 30 rounds\n",
      "Early stopping, best iteration is:\n",
      "[92]\tvalid_0's l1: 13.6851\n",
      "Training until validation scores don't improve for 30 rounds\n",
      "Early stopping, best iteration is:\n",
      "[102]\tvalid_0's l1: 12.3586\n",
      "Training until validation scores don't improve for 30 rounds\n",
      "Early stopping, best iteration is:\n",
      "[42]\tvalid_0's l1: 15.5609\n",
      "Training until validation scores don't improve for 30 rounds\n",
      "Early stopping, best iteration is:\n",
      "[50]\tvalid_0's l1: 12.3938\n",
      "Training until validation scores don't improve for 30 rounds\n",
      "Early stopping, best iteration is:\n",
      "[44]\tvalid_0's l1: 22.0281\n",
      "Training until validation scores don't improve for 30 rounds\n",
      "Early stopping, best iteration is:\n",
      "[113]\tvalid_0's l1: 12.3948\n",
      "Training until validation scores don't improve for 30 rounds\n",
      "Did not meet early stopping. Best iteration is:\n",
      "[208]\tvalid_0's l1: 12.0838\n",
      "Training until validation scores don't improve for 30 rounds\n",
      "Did not meet early stopping. Best iteration is:\n",
      "[219]\tvalid_0's l1: 12.3317\n",
      "Training until validation scores don't improve for 30 rounds\n",
      "Did not meet early stopping. Best iteration is:\n",
      "[226]\tvalid_0's l1: 8.17255\n",
      "Training until validation scores don't improve for 30 rounds\n",
      "Did not meet early stopping. Best iteration is:\n",
      "[225]\tvalid_0's l1: 8.27758\n",
      "Training until validation scores don't improve for 30 rounds\n"
     ]
    },
    {
     "name": "stderr",
     "output_type": "stream",
     "text": [
      "[I 2025-06-26 22:31:11,254] Trial 8 finished with value: 17.07903098875081 and parameters: {'max_depth': 8, 'learning_rate': 0.06333268775321843, 'n_estimators': 226, 'min_child_weight': 9, 'subsample': 0.5372753218398854, 'colsample_bytree': 0.9934434683002586, 'reg_alpha': 0.7722447692966574, 'reg_lambda': 0.1987156815341724}. Best is trial 2 with value: 13.013808985164818.\n"
     ]
    },
    {
     "name": "stdout",
     "output_type": "stream",
     "text": [
      "Did not meet early stopping. Best iteration is:\n",
      "[226]\tvalid_0's l1: 8.08578\n",
      "Training until validation scores don't improve for 30 rounds\n",
      "Early stopping, best iteration is:\n",
      "[317]\tvalid_0's l1: 30.4355\n",
      "Training until validation scores don't improve for 30 rounds\n",
      "Early stopping, best iteration is:\n",
      "[17]\tvalid_0's l1: 29.2608\n",
      "Training until validation scores don't improve for 30 rounds\n",
      "Early stopping, best iteration is:\n",
      "[18]\tvalid_0's l1: 29.3441\n",
      "Training until validation scores don't improve for 30 rounds\n",
      "Early stopping, best iteration is:\n",
      "[39]\tvalid_0's l1: 17.2474\n",
      "Training until validation scores don't improve for 30 rounds\n",
      "Early stopping, best iteration is:\n",
      "[42]\tvalid_0's l1: 16.4642\n",
      "Training until validation scores don't improve for 30 rounds\n",
      "Early stopping, best iteration is:\n",
      "[36]\tvalid_0's l1: 16.4723\n",
      "Training until validation scores don't improve for 30 rounds\n",
      "Early stopping, best iteration is:\n",
      "[50]\tvalid_0's l1: 16.3252\n",
      "Training until validation scores don't improve for 30 rounds\n",
      "Early stopping, best iteration is:\n",
      "[33]\tvalid_0's l1: 17.5042\n",
      "Training until validation scores don't improve for 30 rounds\n",
      "Early stopping, best iteration is:\n",
      "[58]\tvalid_0's l1: 15.5889\n",
      "Training until validation scores don't improve for 30 rounds\n",
      "Early stopping, best iteration is:\n",
      "[59]\tvalid_0's l1: 13.0727\n",
      "Training until validation scores don't improve for 30 rounds\n",
      "Early stopping, best iteration is:\n",
      "[33]\tvalid_0's l1: 12.9993\n",
      "Training until validation scores don't improve for 30 rounds\n",
      "Early stopping, best iteration is:\n",
      "[40]\tvalid_0's l1: 15.4421\n",
      "Training until validation scores don't improve for 30 rounds\n",
      "Early stopping, best iteration is:\n",
      "[112]\tvalid_0's l1: 11.4074\n",
      "Training until validation scores don't improve for 30 rounds\n",
      "Early stopping, best iteration is:\n",
      "[159]\tvalid_0's l1: 11.2895\n",
      "Training until validation scores don't improve for 30 rounds\n",
      "Early stopping, best iteration is:\n",
      "[149]\tvalid_0's l1: 11.2131\n",
      "Training until validation scores don't improve for 30 rounds\n",
      "Did not meet early stopping. Best iteration is:\n",
      "[735]\tvalid_0's l1: 5.98228\n",
      "Training until validation scores don't improve for 30 rounds\n",
      "Did not meet early stopping. Best iteration is:\n",
      "[730]\tvalid_0's l1: 6.07158\n",
      "Training until validation scores don't improve for 30 rounds\n"
     ]
    },
    {
     "name": "stderr",
     "output_type": "stream",
     "text": [
      "[I 2025-06-26 22:32:13,715] Trial 9 finished with value: 17.604451511976045 and parameters: {'max_depth': 3, 'learning_rate': 0.1601531217136121, 'n_estimators': 736, 'min_child_weight': 8, 'subsample': 0.8856351733429728, 'colsample_bytree': 0.5370223258670452, 'reg_alpha': 0.3584657285442726, 'reg_lambda': 0.11586905952512971}. Best is trial 2 with value: 13.013808985164818.\n"
     ]
    },
    {
     "name": "stdout",
     "output_type": "stream",
     "text": [
      "Early stopping, best iteration is:\n",
      "[234]\tvalid_0's l1: 8.80395\n",
      "Training until validation scores don't improve for 30 rounds\n",
      "Did not meet early stopping. Best iteration is:\n",
      "[432]\tvalid_0's l1: 19.1183\n",
      "Training until validation scores don't improve for 30 rounds\n",
      "Did not meet early stopping. Best iteration is:\n",
      "[432]\tvalid_0's l1: 19.5211\n",
      "Training until validation scores don't improve for 30 rounds\n",
      "Did not meet early stopping. Best iteration is:\n",
      "[432]\tvalid_0's l1: 18.7563\n",
      "Training until validation scores don't improve for 30 rounds\n",
      "Did not meet early stopping. Best iteration is:\n",
      "[432]\tvalid_0's l1: 14.4352\n",
      "Training until validation scores don't improve for 30 rounds\n",
      "Did not meet early stopping. Best iteration is:\n",
      "[432]\tvalid_0's l1: 14.2981\n",
      "Training until validation scores don't improve for 30 rounds\n",
      "Did not meet early stopping. Best iteration is:\n",
      "[432]\tvalid_0's l1: 14.4364\n",
      "Training until validation scores don't improve for 30 rounds\n",
      "Did not meet early stopping. Best iteration is:\n",
      "[432]\tvalid_0's l1: 13.3334\n",
      "Training until validation scores don't improve for 30 rounds\n",
      "Did not meet early stopping. Best iteration is:\n",
      "[432]\tvalid_0's l1: 13.3239\n",
      "Training until validation scores don't improve for 30 rounds\n",
      "Did not meet early stopping. Best iteration is:\n",
      "[432]\tvalid_0's l1: 13.3873\n",
      "Training until validation scores don't improve for 30 rounds\n",
      "Did not meet early stopping. Best iteration is:\n",
      "[432]\tvalid_0's l1: 12.0826\n",
      "Training until validation scores don't improve for 30 rounds\n",
      "Did not meet early stopping. Best iteration is:\n",
      "[432]\tvalid_0's l1: 11.9536\n",
      "Training until validation scores don't improve for 30 rounds\n",
      "Did not meet early stopping. Best iteration is:\n",
      "[432]\tvalid_0's l1: 12.1018\n",
      "Training until validation scores don't improve for 30 rounds\n",
      "Did not meet early stopping. Best iteration is:\n",
      "[432]\tvalid_0's l1: 12.4345\n",
      "Training until validation scores don't improve for 30 rounds\n",
      "Did not meet early stopping. Best iteration is:\n",
      "[432]\tvalid_0's l1: 12.4861\n",
      "Training until validation scores don't improve for 30 rounds\n",
      "Did not meet early stopping. Best iteration is:\n",
      "[432]\tvalid_0's l1: 12.4137\n",
      "Training until validation scores don't improve for 30 rounds\n",
      "Did not meet early stopping. Best iteration is:\n",
      "[432]\tvalid_0's l1: 9.82081\n",
      "Training until validation scores don't improve for 30 rounds\n",
      "Did not meet early stopping. Best iteration is:\n",
      "[432]\tvalid_0's l1: 9.86551\n",
      "Training until validation scores don't improve for 30 rounds\n"
     ]
    },
    {
     "name": "stderr",
     "output_type": "stream",
     "text": [
      "[I 2025-06-26 22:35:58,943] Trial 10 finished with value: 14.272150587465063 and parameters: {'max_depth': 18, 'learning_rate': 0.010206070557576998, 'n_estimators': 432, 'min_child_weight': 1, 'subsample': 0.7846562513261506, 'colsample_bytree': 0.721539898400351, 'reg_alpha': 0.9597707459454202, 'reg_lambda': 0.6668582750825782}. Best is trial 2 with value: 13.013808985164818.\n"
     ]
    },
    {
     "name": "stdout",
     "output_type": "stream",
     "text": [
      "Did not meet early stopping. Best iteration is:\n",
      "[432]\tvalid_0's l1: 9.89635\n",
      "Training until validation scores don't improve for 30 rounds\n",
      "Early stopping, best iteration is:\n",
      "[111]\tvalid_0's l1: 19.9164\n",
      "Training until validation scores don't improve for 30 rounds\n",
      "Early stopping, best iteration is:\n",
      "[106]\tvalid_0's l1: 20.7426\n",
      "Training until validation scores don't improve for 30 rounds\n",
      "Early stopping, best iteration is:\n",
      "[78]\tvalid_0's l1: 19.6943\n",
      "Training until validation scores don't improve for 30 rounds\n",
      "Early stopping, best iteration is:\n",
      "[80]\tvalid_0's l1: 13.8475\n",
      "Training until validation scores don't improve for 30 rounds\n",
      "Early stopping, best iteration is:\n",
      "[80]\tvalid_0's l1: 13.8642\n",
      "Training until validation scores don't improve for 30 rounds\n",
      "Early stopping, best iteration is:\n",
      "[92]\tvalid_0's l1: 13.6929\n",
      "Training until validation scores don't improve for 30 rounds\n",
      "Early stopping, best iteration is:\n",
      "[210]\tvalid_0's l1: 10.0294\n",
      "Training until validation scores don't improve for 30 rounds\n",
      "Early stopping, best iteration is:\n",
      "[170]\tvalid_0's l1: 10.581\n",
      "Training until validation scores don't improve for 30 rounds\n",
      "Early stopping, best iteration is:\n",
      "[251]\tvalid_0's l1: 10.3289\n",
      "Training until validation scores don't improve for 30 rounds\n",
      "Early stopping, best iteration is:\n",
      "[63]\tvalid_0's l1: 12.8661\n",
      "Training until validation scores don't improve for 30 rounds\n",
      "Early stopping, best iteration is:\n",
      "[73]\tvalid_0's l1: 10.8892\n",
      "Training until validation scores don't improve for 30 rounds\n",
      "Early stopping, best iteration is:\n",
      "[59]\tvalid_0's l1: 13.36\n",
      "Training until validation scores don't improve for 30 rounds\n",
      "Early stopping, best iteration is:\n",
      "[208]\tvalid_0's l1: 9.76151\n",
      "Training until validation scores don't improve for 30 rounds\n",
      "Early stopping, best iteration is:\n",
      "[259]\tvalid_0's l1: 9.42222\n",
      "Training until validation scores don't improve for 30 rounds\n",
      "Early stopping, best iteration is:\n",
      "[203]\tvalid_0's l1: 9.7041\n",
      "Training until validation scores don't improve for 30 rounds\n",
      "Did not meet early stopping. Best iteration is:\n",
      "[383]\tvalid_0's l1: 4.20745\n",
      "Training until validation scores don't improve for 30 rounds\n",
      "Did not meet early stopping. Best iteration is:\n",
      "[384]\tvalid_0's l1: 4.28468\n",
      "Training until validation scores don't improve for 30 rounds\n"
     ]
    },
    {
     "name": "stderr",
     "output_type": "stream",
     "text": [
      "[I 2025-06-26 22:38:02,117] Trial 11 finished with value: 13.246698172531111 and parameters: {'max_depth': 15, 'learning_rate': 0.06530555158582786, 'n_estimators': 384, 'min_child_weight': 3, 'subsample': 0.7930679183446125, 'colsample_bytree': 0.6994762507327695, 'reg_alpha': 0.4727140066579487, 'reg_lambda': 0.019435458310235854}. Best is trial 2 with value: 13.013808985164818.\n"
     ]
    },
    {
     "name": "stdout",
     "output_type": "stream",
     "text": [
      "Did not meet early stopping. Best iteration is:\n",
      "[383]\tvalid_0's l1: 4.20242\n",
      "Training until validation scores don't improve for 30 rounds\n",
      "Early stopping, best iteration is:\n",
      "[144]\tvalid_0's l1: 19.0758\n",
      "Training until validation scores don't improve for 30 rounds\n",
      "Early stopping, best iteration is:\n",
      "[88]\tvalid_0's l1: 19.6594\n",
      "Training until validation scores don't improve for 30 rounds\n",
      "Early stopping, best iteration is:\n",
      "[114]\tvalid_0's l1: 18.8762\n",
      "Training until validation scores don't improve for 30 rounds\n",
      "Early stopping, best iteration is:\n",
      "[115]\tvalid_0's l1: 13.176\n",
      "Training until validation scores don't improve for 30 rounds\n",
      "Early stopping, best iteration is:\n",
      "[113]\tvalid_0's l1: 13.2227\n",
      "Training until validation scores don't improve for 30 rounds\n",
      "Early stopping, best iteration is:\n",
      "[118]\tvalid_0's l1: 13.4672\n",
      "Training until validation scores don't improve for 30 rounds\n",
      "Early stopping, best iteration is:\n",
      "[113]\tvalid_0's l1: 11.2839\n",
      "Training until validation scores don't improve for 30 rounds\n",
      "Early stopping, best iteration is:\n",
      "[198]\tvalid_0's l1: 10.4329\n",
      "Training until validation scores don't improve for 30 rounds\n",
      "Early stopping, best iteration is:\n",
      "[244]\tvalid_0's l1: 10.9989\n",
      "Training until validation scores don't improve for 30 rounds\n",
      "Early stopping, best iteration is:\n",
      "[144]\tvalid_0's l1: 12.568\n",
      "Training until validation scores don't improve for 30 rounds\n",
      "Early stopping, best iteration is:\n",
      "[193]\tvalid_0's l1: 10.6728\n",
      "Training until validation scores don't improve for 30 rounds\n",
      "Early stopping, best iteration is:\n",
      "[112]\tvalid_0's l1: 11.0505\n",
      "Training until validation scores don't improve for 30 rounds\n",
      "Early stopping, best iteration is:\n",
      "[279]\tvalid_0's l1: 9.20227\n",
      "Training until validation scores don't improve for 30 rounds\n",
      "Early stopping, best iteration is:\n",
      "[249]\tvalid_0's l1: 9.48486\n",
      "Training until validation scores don't improve for 30 rounds\n",
      "Early stopping, best iteration is:\n",
      "[238]\tvalid_0's l1: 9.34043\n",
      "Training until validation scores don't improve for 30 rounds\n",
      "Did not meet early stopping. Best iteration is:\n",
      "[461]\tvalid_0's l1: 4.27097\n",
      "Training until validation scores don't improve for 30 rounds\n",
      "Did not meet early stopping. Best iteration is:\n",
      "[461]\tvalid_0's l1: 4.19441\n",
      "Training until validation scores don't improve for 30 rounds\n"
     ]
    },
    {
     "name": "stderr",
     "output_type": "stream",
     "text": [
      "[I 2025-06-26 22:40:30,040] Trial 12 finished with value: 12.834129206521032 and parameters: {'max_depth': 17, 'learning_rate': 0.04944963739945614, 'n_estimators': 461, 'min_child_weight': 2, 'subsample': 0.8265015800721067, 'colsample_bytree': 0.6816152077101791, 'reg_alpha': 0.42694223719324387, 'reg_lambda': 0.6526812002249811}. Best is trial 12 with value: 12.834129206521032.\n"
     ]
    },
    {
     "name": "stdout",
     "output_type": "stream",
     "text": [
      "Did not meet early stopping. Best iteration is:\n",
      "[461]\tvalid_0's l1: 4.27022\n",
      "Training until validation scores don't improve for 30 rounds\n",
      "Early stopping, best iteration is:\n",
      "[145]\tvalid_0's l1: 17.7248\n",
      "Training until validation scores don't improve for 30 rounds\n",
      "Early stopping, best iteration is:\n",
      "[209]\tvalid_0's l1: 18.2928\n",
      "Training until validation scores don't improve for 30 rounds\n",
      "Early stopping, best iteration is:\n",
      "[171]\tvalid_0's l1: 18.4763\n",
      "Training until validation scores don't improve for 30 rounds\n",
      "Early stopping, best iteration is:\n",
      "[181]\tvalid_0's l1: 13.1595\n",
      "Training until validation scores don't improve for 30 rounds\n",
      "Early stopping, best iteration is:\n",
      "[186]\tvalid_0's l1: 13.1208\n",
      "Training until validation scores don't improve for 30 rounds\n",
      "Early stopping, best iteration is:\n",
      "[175]\tvalid_0's l1: 13.3606\n",
      "Training until validation scores don't improve for 30 rounds\n",
      "Early stopping, best iteration is:\n",
      "[207]\tvalid_0's l1: 10.4567\n",
      "Training until validation scores don't improve for 30 rounds\n",
      "Early stopping, best iteration is:\n",
      "[270]\tvalid_0's l1: 10.5031\n",
      "Training until validation scores don't improve for 30 rounds\n",
      "Early stopping, best iteration is:\n",
      "[186]\tvalid_0's l1: 10.915\n",
      "Training until validation scores don't improve for 30 rounds\n",
      "Early stopping, best iteration is:\n",
      "[262]\tvalid_0's l1: 9.9478\n",
      "Training until validation scores don't improve for 30 rounds\n",
      "Early stopping, best iteration is:\n",
      "[196]\tvalid_0's l1: 10.1151\n",
      "Training until validation scores don't improve for 30 rounds\n",
      "Early stopping, best iteration is:\n",
      "[189]\tvalid_0's l1: 10.3063\n",
      "Training until validation scores don't improve for 30 rounds\n",
      "Early stopping, best iteration is:\n",
      "[349]\tvalid_0's l1: 9.13802\n",
      "Training until validation scores don't improve for 30 rounds\n",
      "Early stopping, best iteration is:\n",
      "[305]\tvalid_0's l1: 9.31524\n",
      "Training until validation scores don't improve for 30 rounds\n",
      "Early stopping, best iteration is:\n",
      "[336]\tvalid_0's l1: 9.2148\n",
      "Training until validation scores don't improve for 30 rounds\n",
      "Did not meet early stopping. Best iteration is:\n",
      "[586]\tvalid_0's l1: 4.28611\n",
      "Training until validation scores don't improve for 30 rounds\n",
      "Did not meet early stopping. Best iteration is:\n",
      "[587]\tvalid_0's l1: 4.2936\n",
      "Training until validation scores don't improve for 30 rounds\n",
      "Did not meet early stopping. Best iteration is:\n",
      "[587]\tvalid_0's l1: 4.26711\n"
     ]
    },
    {
     "name": "stderr",
     "output_type": "stream",
     "text": [
      "[I 2025-06-26 22:44:09,939] Trial 13 finished with value: 12.269804242557827 and parameters: {'max_depth': 20, 'learning_rate': 0.03624007410844461, 'n_estimators': 587, 'min_child_weight': 1, 'subsample': 0.8959036026125031, 'colsample_bytree': 0.8145308538534519, 'reg_alpha': 0.38186486717959384, 'reg_lambda': 0.6871141856431894}. Best is trial 13 with value: 12.269804242557827.\n"
     ]
    },
    {
     "name": "stdout",
     "output_type": "stream",
     "text": [
      "Training until validation scores don't improve for 30 rounds\n",
      "Early stopping, best iteration is:\n",
      "[170]\tvalid_0's l1: 17.9181\n",
      "Training until validation scores don't improve for 30 rounds\n",
      "Early stopping, best iteration is:\n",
      "[260]\tvalid_0's l1: 17.7748\n",
      "Training until validation scores don't improve for 30 rounds\n",
      "Early stopping, best iteration is:\n",
      "[238]\tvalid_0's l1: 17.5909\n",
      "Training until validation scores don't improve for 30 rounds\n",
      "Early stopping, best iteration is:\n",
      "[204]\tvalid_0's l1: 13.2959\n",
      "Training until validation scores don't improve for 30 rounds\n",
      "Early stopping, best iteration is:\n",
      "[205]\tvalid_0's l1: 13.1899\n",
      "Training until validation scores don't improve for 30 rounds\n",
      "Early stopping, best iteration is:\n",
      "[209]\tvalid_0's l1: 13.2323\n",
      "Training until validation scores don't improve for 30 rounds\n",
      "Early stopping, best iteration is:\n",
      "[293]\tvalid_0's l1: 10.3712\n",
      "Training until validation scores don't improve for 30 rounds\n",
      "Early stopping, best iteration is:\n",
      "[379]\tvalid_0's l1: 10.1756\n",
      "Training until validation scores don't improve for 30 rounds\n",
      "Early stopping, best iteration is:\n",
      "[248]\tvalid_0's l1: 10.4683\n",
      "Training until validation scores don't improve for 30 rounds\n",
      "Early stopping, best iteration is:\n",
      "[250]\tvalid_0's l1: 10.394\n",
      "Training until validation scores don't improve for 30 rounds\n",
      "Early stopping, best iteration is:\n",
      "[307]\tvalid_0's l1: 9.97713\n",
      "Training until validation scores don't improve for 30 rounds\n",
      "Early stopping, best iteration is:\n",
      "[228]\tvalid_0's l1: 9.87669\n",
      "Training until validation scores don't improve for 30 rounds\n",
      "Early stopping, best iteration is:\n",
      "[489]\tvalid_0's l1: 9.38579\n",
      "Training until validation scores don't improve for 30 rounds\n",
      "Early stopping, best iteration is:\n",
      "[414]\tvalid_0's l1: 9.13725\n",
      "Training until validation scores don't improve for 30 rounds\n",
      "Early stopping, best iteration is:\n",
      "[287]\tvalid_0's l1: 9.42572\n",
      "Training until validation scores don't improve for 30 rounds\n",
      "Did not meet early stopping. Best iteration is:\n",
      "[636]\tvalid_0's l1: 4.36229\n",
      "Training until validation scores don't improve for 30 rounds\n",
      "Did not meet early stopping. Best iteration is:\n",
      "[636]\tvalid_0's l1: 4.33738\n",
      "Training until validation scores don't improve for 30 rounds\n",
      "Did not meet early stopping. Best iteration is:\n",
      "[636]\tvalid_0's l1: 4.39364\n"
     ]
    },
    {
     "name": "stderr",
     "output_type": "stream",
     "text": [
      "[I 2025-06-26 22:48:33,460] Trial 14 finished with value: 12.147583095960307 and parameters: {'max_depth': 20, 'learning_rate': 0.031678528389444086, 'n_estimators': 636, 'min_child_weight': 1, 'subsample': 0.8649174147658507, 'colsample_bytree': 0.8516660571113465, 'reg_alpha': 0.4621147584011281, 'reg_lambda': 0.7199384644255057}. Best is trial 14 with value: 12.147583095960307.\n"
     ]
    },
    {
     "name": "stdout",
     "output_type": "stream",
     "text": [
      "Training until validation scores don't improve for 30 rounds\n",
      "Early stopping, best iteration is:\n",
      "[215]\tvalid_0's l1: 17.6819\n",
      "Training until validation scores don't improve for 30 rounds\n",
      "Early stopping, best iteration is:\n",
      "[214]\tvalid_0's l1: 17.9085\n",
      "Training until validation scores don't improve for 30 rounds\n",
      "Early stopping, best iteration is:\n",
      "[204]\tvalid_0's l1: 16.9457\n",
      "Training until validation scores don't improve for 30 rounds\n",
      "Early stopping, best iteration is:\n",
      "[194]\tvalid_0's l1: 13.2204\n",
      "Training until validation scores don't improve for 30 rounds\n",
      "Early stopping, best iteration is:\n",
      "[229]\tvalid_0's l1: 13.1738\n",
      "Training until validation scores don't improve for 30 rounds\n",
      "Early stopping, best iteration is:\n",
      "[215]\tvalid_0's l1: 13.2273\n",
      "Training until validation scores don't improve for 30 rounds\n",
      "Early stopping, best iteration is:\n",
      "[319]\tvalid_0's l1: 10.3276\n",
      "Training until validation scores don't improve for 30 rounds\n",
      "Early stopping, best iteration is:\n",
      "[206]\tvalid_0's l1: 10.7846\n",
      "Training until validation scores don't improve for 30 rounds\n",
      "Early stopping, best iteration is:\n",
      "[281]\tvalid_0's l1: 10.5269\n",
      "Training until validation scores don't improve for 30 rounds\n",
      "Early stopping, best iteration is:\n",
      "[216]\tvalid_0's l1: 10.2922\n",
      "Training until validation scores don't improve for 30 rounds\n",
      "Early stopping, best iteration is:\n",
      "[272]\tvalid_0's l1: 10.4431\n",
      "Training until validation scores don't improve for 30 rounds\n",
      "Early stopping, best iteration is:\n",
      "[253]\tvalid_0's l1: 10.1933\n",
      "Training until validation scores don't improve for 30 rounds\n",
      "Early stopping, best iteration is:\n",
      "[359]\tvalid_0's l1: 9.29564\n",
      "Training until validation scores don't improve for 30 rounds\n",
      "Early stopping, best iteration is:\n",
      "[555]\tvalid_0's l1: 9.20215\n",
      "Training until validation scores don't improve for 30 rounds\n",
      "Early stopping, best iteration is:\n",
      "[462]\tvalid_0's l1: 9.1238\n",
      "Training until validation scores don't improve for 30 rounds\n",
      "Did not meet early stopping. Best iteration is:\n",
      "[647]\tvalid_0's l1: 4.26198\n",
      "Training until validation scores don't improve for 30 rounds\n",
      "Did not meet early stopping. Best iteration is:\n",
      "[646]\tvalid_0's l1: 4.26473\n",
      "Training until validation scores don't improve for 30 rounds\n",
      "Did not meet early stopping. Best iteration is:\n",
      "[647]\tvalid_0's l1: 4.26044\n"
     ]
    },
    {
     "name": "stderr",
     "output_type": "stream",
     "text": [
      "[I 2025-06-26 22:52:49,998] Trial 15 finished with value: 12.15644923958142 and parameters: {'max_depth': 20, 'learning_rate': 0.031414095461631576, 'n_estimators': 647, 'min_child_weight': 1, 'subsample': 0.9102361265933461, 'colsample_bytree': 0.8181824239535943, 'reg_alpha': 0.19321912554519216, 'reg_lambda': 0.7396084838706836}. Best is trial 14 with value: 12.147583095960307.\n"
     ]
    },
    {
     "name": "stdout",
     "output_type": "stream",
     "text": [
      "Training until validation scores don't improve for 30 rounds\n",
      "Early stopping, best iteration is:\n",
      "[218]\tvalid_0's l1: 20.6912\n",
      "Training until validation scores don't improve for 30 rounds\n",
      "Early stopping, best iteration is:\n",
      "[209]\tvalid_0's l1: 20.4344\n",
      "Training until validation scores don't improve for 30 rounds\n",
      "Early stopping, best iteration is:\n",
      "[219]\tvalid_0's l1: 21.3908\n",
      "Training until validation scores don't improve for 30 rounds\n",
      "Early stopping, best iteration is:\n",
      "[186]\tvalid_0's l1: 13.5\n",
      "Training until validation scores don't improve for 30 rounds\n",
      "Early stopping, best iteration is:\n",
      "[189]\tvalid_0's l1: 13.695\n",
      "Training until validation scores don't improve for 30 rounds\n",
      "Early stopping, best iteration is:\n",
      "[181]\tvalid_0's l1: 13.61\n",
      "Training until validation scores don't improve for 30 rounds\n",
      "Early stopping, best iteration is:\n",
      "[490]\tvalid_0's l1: 10.6811\n",
      "Training until validation scores don't improve for 30 rounds\n",
      "Early stopping, best iteration is:\n",
      "[235]\tvalid_0's l1: 11.4772\n",
      "Training until validation scores don't improve for 30 rounds\n",
      "Early stopping, best iteration is:\n",
      "[498]\tvalid_0's l1: 10.4336\n",
      "Training until validation scores don't improve for 30 rounds\n",
      "Early stopping, best iteration is:\n",
      "[196]\tvalid_0's l1: 11.5128\n",
      "Training until validation scores don't improve for 30 rounds\n",
      "Early stopping, best iteration is:\n",
      "[503]\tvalid_0's l1: 10.6737\n",
      "Training until validation scores don't improve for 30 rounds\n",
      "Did not meet early stopping. Best iteration is:\n",
      "[644]\tvalid_0's l1: 10.6071\n",
      "Training until validation scores don't improve for 30 rounds\n",
      "Early stopping, best iteration is:\n",
      "[438]\tvalid_0's l1: 9.44097\n",
      "Training until validation scores don't improve for 30 rounds\n",
      "Early stopping, best iteration is:\n",
      "[464]\tvalid_0's l1: 9.48905\n",
      "Training until validation scores don't improve for 30 rounds\n",
      "Early stopping, best iteration is:\n",
      "[476]\tvalid_0's l1: 9.64975\n",
      "Training until validation scores don't improve for 30 rounds\n",
      "Did not meet early stopping. Best iteration is:\n",
      "[646]\tvalid_0's l1: 4.63372\n",
      "Training until validation scores don't improve for 30 rounds\n",
      "Did not meet early stopping. Best iteration is:\n",
      "[646]\tvalid_0's l1: 4.63037\n",
      "Training until validation scores don't improve for 30 rounds\n",
      "Did not meet early stopping. Best iteration is:\n",
      "[646]\tvalid_0's l1: 4.59292\n"
     ]
    },
    {
     "name": "stderr",
     "output_type": "stream",
     "text": [
      "[I 2025-06-26 22:57:38,285] Trial 16 finished with value: 13.152457762523062 and parameters: {'max_depth': 20, 'learning_rate': 0.02713539157687054, 'n_estimators': 646, 'min_child_weight': 4, 'subsample': 0.9989539160495404, 'colsample_bytree': 0.8724368945879094, 'reg_alpha': 0.004740119653089292, 'reg_lambda': 0.807824072447995}. Best is trial 14 with value: 12.147583095960307.\n"
     ]
    },
    {
     "name": "stdout",
     "output_type": "stream",
     "text": [
      "Training until validation scores don't improve for 30 rounds\n",
      "Early stopping, best iteration is:\n",
      "[606]\tvalid_0's l1: 17.7083\n",
      "Training until validation scores don't improve for 30 rounds\n",
      "Early stopping, best iteration is:\n",
      "[512]\tvalid_0's l1: 17.7008\n",
      "Training until validation scores don't improve for 30 rounds\n",
      "Early stopping, best iteration is:\n",
      "[505]\tvalid_0's l1: 17.333\n",
      "Training until validation scores don't improve for 30 rounds\n",
      "Early stopping, best iteration is:\n",
      "[631]\tvalid_0's l1: 13.1649\n",
      "Training until validation scores don't improve for 30 rounds\n",
      "Early stopping, best iteration is:\n",
      "[574]\tvalid_0's l1: 13.2191\n",
      "Training until validation scores don't improve for 30 rounds\n",
      "Early stopping, best iteration is:\n",
      "[546]\tvalid_0's l1: 13.2375\n",
      "Training until validation scores don't improve for 30 rounds\n",
      "Early stopping, best iteration is:\n",
      "[684]\tvalid_0's l1: 10.4029\n",
      "Training until validation scores don't improve for 30 rounds\n",
      "Did not meet early stopping. Best iteration is:\n",
      "[788]\tvalid_0's l1: 10.2308\n",
      "Training until validation scores don't improve for 30 rounds\n",
      "Did not meet early stopping. Best iteration is:\n",
      "[763]\tvalid_0's l1: 10.262\n",
      "Training until validation scores don't improve for 30 rounds\n",
      "Early stopping, best iteration is:\n",
      "[623]\tvalid_0's l1: 10.2162\n",
      "Training until validation scores don't improve for 30 rounds\n",
      "Early stopping, best iteration is:\n",
      "[656]\tvalid_0's l1: 9.83118\n",
      "Training until validation scores don't improve for 30 rounds\n",
      "Early stopping, best iteration is:\n",
      "[575]\tvalid_0's l1: 10.0607\n",
      "Training until validation scores don't improve for 30 rounds\n",
      "Did not meet early stopping. Best iteration is:\n",
      "[784]\tvalid_0's l1: 9.32234\n",
      "Training until validation scores don't improve for 30 rounds\n",
      "Did not meet early stopping. Best iteration is:\n",
      "[783]\tvalid_0's l1: 9.39184\n",
      "Training until validation scores don't improve for 30 rounds\n",
      "Did not meet early stopping. Best iteration is:\n",
      "[781]\tvalid_0's l1: 9.35455\n",
      "Training until validation scores don't improve for 30 rounds\n",
      "Did not meet early stopping. Best iteration is:\n",
      "[788]\tvalid_0's l1: 6.04736\n",
      "Training until validation scores don't improve for 30 rounds\n",
      "Did not meet early stopping. Best iteration is:\n",
      "[787]\tvalid_0's l1: 6.1171\n",
      "Training until validation scores don't improve for 30 rounds\n",
      "Did not meet early stopping. Best iteration is:\n",
      "[788]\tvalid_0's l1: 6.05995\n"
     ]
    },
    {
     "name": "stderr",
     "output_type": "stream",
     "text": [
      "[I 2025-06-26 23:04:20,875] Trial 17 finished with value: 12.095756542158513 and parameters: {'max_depth': 17, 'learning_rate': 0.01203016706890819, 'n_estimators': 788, 'min_child_weight': 1, 'subsample': 0.8609727402803516, 'colsample_bytree': 0.7798079465483917, 'reg_alpha': 0.16316890060788372, 'reg_lambda': 0.9727339300854918}. Best is trial 17 with value: 12.095756542158513.\n"
     ]
    },
    {
     "name": "stdout",
     "output_type": "stream",
     "text": [
      "Training until validation scores don't improve for 30 rounds\n",
      "Early stopping, best iteration is:\n",
      "[456]\tvalid_0's l1: 20.3946\n",
      "Training until validation scores don't improve for 30 rounds\n",
      "Early stopping, best iteration is:\n",
      "[388]\tvalid_0's l1: 20.5659\n",
      "Training until validation scores don't improve for 30 rounds\n",
      "Early stopping, best iteration is:\n",
      "[412]\tvalid_0's l1: 20.2971\n",
      "Training until validation scores don't improve for 30 rounds\n",
      "Early stopping, best iteration is:\n",
      "[495]\tvalid_0's l1: 13.6593\n",
      "Training until validation scores don't improve for 30 rounds\n",
      "Early stopping, best iteration is:\n",
      "[472]\tvalid_0's l1: 13.8379\n",
      "Training until validation scores don't improve for 30 rounds\n",
      "Early stopping, best iteration is:\n",
      "[524]\tvalid_0's l1: 13.8032\n",
      "Training until validation scores don't improve for 30 rounds\n",
      "Early stopping, best iteration is:\n",
      "[680]\tvalid_0's l1: 11.3878\n",
      "Training until validation scores don't improve for 30 rounds\n",
      "Did not meet early stopping. Best iteration is:\n",
      "[838]\tvalid_0's l1: 10.7238\n",
      "Training until validation scores don't improve for 30 rounds\n",
      "Did not meet early stopping. Best iteration is:\n",
      "[838]\tvalid_0's l1: 10.8101\n",
      "Training until validation scores don't improve for 30 rounds\n",
      "Early stopping, best iteration is:\n",
      "[355]\tvalid_0's l1: 14.6608\n",
      "Training until validation scores don't improve for 30 rounds\n",
      "Early stopping, best iteration is:\n",
      "[304]\tvalid_0's l1: 16.8297\n",
      "Training until validation scores don't improve for 30 rounds\n",
      "Early stopping, best iteration is:\n",
      "[327]\tvalid_0's l1: 14.7789\n",
      "Training until validation scores don't improve for 30 rounds\n",
      "Did not meet early stopping. Best iteration is:\n",
      "[838]\tvalid_0's l1: 10.4218\n",
      "Training until validation scores don't improve for 30 rounds\n",
      "Did not meet early stopping. Best iteration is:\n",
      "[838]\tvalid_0's l1: 10.3845\n",
      "Training until validation scores don't improve for 30 rounds\n",
      "Did not meet early stopping. Best iteration is:\n",
      "[834]\tvalid_0's l1: 10.1515\n",
      "Training until validation scores don't improve for 30 rounds\n",
      "Did not meet early stopping. Best iteration is:\n",
      "[838]\tvalid_0's l1: 7.23821\n",
      "Training until validation scores don't improve for 30 rounds\n",
      "Did not meet early stopping. Best iteration is:\n",
      "[838]\tvalid_0's l1: 7.30211\n",
      "Training until validation scores don't improve for 30 rounds\n",
      "Did not meet early stopping. Best iteration is:\n",
      "[836]\tvalid_0's l1: 7.34901\n"
     ]
    },
    {
     "name": "stderr",
     "output_type": "stream",
     "text": [
      "[I 2025-06-26 23:09:41,014] Trial 18 finished with value: 14.180455433568941 and parameters: {'max_depth': 17, 'learning_rate': 0.010825685610519489, 'n_estimators': 838, 'min_child_weight': 5, 'subsample': 0.71804991678614, 'colsample_bytree': 0.767892681904533, 'reg_alpha': 0.14811837660120308, 'reg_lambda': 0.9956244806431762}. Best is trial 17 with value: 12.095756542158513.\n"
     ]
    },
    {
     "name": "stdout",
     "output_type": "stream",
     "text": [
      "Training until validation scores don't improve for 30 rounds\n",
      "Early stopping, best iteration is:\n",
      "[431]\tvalid_0's l1: 19.1032\n",
      "Training until validation scores don't improve for 30 rounds\n",
      "Early stopping, best iteration is:\n",
      "[380]\tvalid_0's l1: 19.3879\n",
      "Training until validation scores don't improve for 30 rounds\n",
      "Early stopping, best iteration is:\n",
      "[248]\tvalid_0's l1: 20.1093\n",
      "Training until validation scores don't improve for 30 rounds\n",
      "Early stopping, best iteration is:\n",
      "[401]\tvalid_0's l1: 13.0388\n",
      "Training until validation scores don't improve for 30 rounds\n",
      "Early stopping, best iteration is:\n",
      "[362]\tvalid_0's l1: 13.0943\n",
      "Training until validation scores don't improve for 30 rounds\n",
      "Early stopping, best iteration is:\n",
      "[413]\tvalid_0's l1: 13.2642\n",
      "Training until validation scores don't improve for 30 rounds\n",
      "Early stopping, best iteration is:\n",
      "[770]\tvalid_0's l1: 10.3804\n",
      "Training until validation scores don't improve for 30 rounds\n",
      "Early stopping, best iteration is:\n",
      "[719]\tvalid_0's l1: 10.2246\n",
      "Training until validation scores don't improve for 30 rounds\n",
      "Early stopping, best iteration is:\n",
      "[699]\tvalid_0's l1: 10.1767\n",
      "Training until validation scores don't improve for 30 rounds\n",
      "Early stopping, best iteration is:\n",
      "[427]\tvalid_0's l1: 10.4028\n",
      "Training until validation scores don't improve for 30 rounds\n",
      "Early stopping, best iteration is:\n",
      "[635]\tvalid_0's l1: 10.6474\n",
      "Training until validation scores don't improve for 30 rounds\n",
      "Early stopping, best iteration is:\n",
      "[309]\tvalid_0's l1: 11.4905\n",
      "Training until validation scores don't improve for 30 rounds\n",
      "Early stopping, best iteration is:\n",
      "[774]\tvalid_0's l1: 9.19988\n",
      "Training until validation scores don't improve for 30 rounds\n",
      "Early stopping, best iteration is:\n",
      "[796]\tvalid_0's l1: 9.21827\n",
      "Training until validation scores don't improve for 30 rounds\n",
      "Early stopping, best iteration is:\n",
      "[691]\tvalid_0's l1: 9.36001\n",
      "Training until validation scores don't improve for 30 rounds\n",
      "Did not meet early stopping. Best iteration is:\n",
      "[863]\tvalid_0's l1: 5.23275\n",
      "Training until validation scores don't improve for 30 rounds\n",
      "Did not meet early stopping. Best iteration is:\n",
      "[863]\tvalid_0's l1: 5.23341\n",
      "Training until validation scores don't improve for 30 rounds\n",
      "Did not meet early stopping. Best iteration is:\n",
      "[863]\tvalid_0's l1: 5.26545\n"
     ]
    },
    {
     "name": "stderr",
     "output_type": "stream",
     "text": [
      "[I 2025-06-26 23:16:39,806] Trial 19 finished with value: 12.606543232060385 and parameters: {'max_depth': 14, 'learning_rate': 0.015494202152702577, 'n_estimators': 863, 'min_child_weight': 2, 'subsample': 0.8498872707989745, 'colsample_bytree': 0.9134336554829188, 'reg_alpha': 0.5639746990214329, 'reg_lambda': 0.5889150822943673}. Best is trial 17 with value: 12.095756542158513.\n"
     ]
    },
    {
     "name": "stdout",
     "output_type": "stream",
     "text": [
      "Training until validation scores don't improve for 30 rounds\n",
      "Early stopping, best iteration is:\n",
      "[185]\tvalid_0's l1: 19.4193\n",
      "Training until validation scores don't improve for 30 rounds\n",
      "Early stopping, best iteration is:\n",
      "[332]\tvalid_0's l1: 18.8113\n",
      "Training until validation scores don't improve for 30 rounds\n",
      "Early stopping, best iteration is:\n",
      "[216]\tvalid_0's l1: 18.9303\n",
      "Training until validation scores don't improve for 30 rounds\n",
      "Early stopping, best iteration is:\n",
      "[253]\tvalid_0's l1: 13.2365\n",
      "Training until validation scores don't improve for 30 rounds\n",
      "Early stopping, best iteration is:\n",
      "[264]\tvalid_0's l1: 13.2494\n",
      "Training until validation scores don't improve for 30 rounds\n",
      "Early stopping, best iteration is:\n",
      "[256]\tvalid_0's l1: 13.1775\n",
      "Training until validation scores don't improve for 30 rounds\n",
      "Early stopping, best iteration is:\n",
      "[517]\tvalid_0's l1: 10.2403\n",
      "Training until validation scores don't improve for 30 rounds\n",
      "Early stopping, best iteration is:\n",
      "[572]\tvalid_0's l1: 10.2322\n",
      "Training until validation scores don't improve for 30 rounds\n",
      "Early stopping, best iteration is:\n",
      "[452]\tvalid_0's l1: 9.98885\n",
      "Training until validation scores don't improve for 30 rounds\n",
      "Early stopping, best iteration is:\n",
      "[289]\tvalid_0's l1: 10.2749\n",
      "Training until validation scores don't improve for 30 rounds\n",
      "Early stopping, best iteration is:\n",
      "[366]\tvalid_0's l1: 9.95619\n",
      "Training until validation scores don't improve for 30 rounds\n",
      "Early stopping, best iteration is:\n",
      "[289]\tvalid_0's l1: 10.0886\n",
      "Training until validation scores don't improve for 30 rounds\n",
      "Early stopping, best iteration is:\n",
      "[537]\tvalid_0's l1: 9.26886\n",
      "Training until validation scores don't improve for 30 rounds\n",
      "Early stopping, best iteration is:\n",
      "[464]\tvalid_0's l1: 9.32696\n",
      "Training until validation scores don't improve for 30 rounds\n",
      "Early stopping, best iteration is:\n",
      "[496]\tvalid_0's l1: 9.18403\n",
      "Training until validation scores don't improve for 30 rounds\n",
      "Did not meet early stopping. Best iteration is:\n",
      "[738]\tvalid_0's l1: 4.60037\n",
      "Training until validation scores don't improve for 30 rounds\n",
      "Did not meet early stopping. Best iteration is:\n",
      "[738]\tvalid_0's l1: 4.54784\n",
      "Training until validation scores don't improve for 30 rounds\n",
      "Did not meet early stopping. Best iteration is:\n",
      "[738]\tvalid_0's l1: 4.51251\n"
     ]
    },
    {
     "name": "stderr",
     "output_type": "stream",
     "text": [
      "[I 2025-06-26 23:21:27,266] Trial 20 finished with value: 12.359014527230883 and parameters: {'max_depth': 16, 'learning_rate': 0.023871866949232694, 'n_estimators': 738, 'min_child_weight': 2, 'subsample': 0.9554658993512832, 'colsample_bytree': 0.7714652614152906, 'reg_alpha': 0.23207929105138594, 'reg_lambda': 0.8122160264329291}. Best is trial 17 with value: 12.095756542158513.\n"
     ]
    },
    {
     "name": "stdout",
     "output_type": "stream",
     "text": [
      "Training until validation scores don't improve for 30 rounds\n",
      "Early stopping, best iteration is:\n",
      "[135]\tvalid_0's l1: 18.2587\n",
      "Training until validation scores don't improve for 30 rounds\n",
      "Early stopping, best iteration is:\n",
      "[230]\tvalid_0's l1: 17.6297\n",
      "Training until validation scores don't improve for 30 rounds\n",
      "Early stopping, best iteration is:\n",
      "[189]\tvalid_0's l1: 17.1753\n",
      "Training until validation scores don't improve for 30 rounds\n",
      "Early stopping, best iteration is:\n",
      "[191]\tvalid_0's l1: 13.3213\n",
      "Training until validation scores don't improve for 30 rounds\n",
      "Early stopping, best iteration is:\n",
      "[176]\tvalid_0's l1: 13.224\n",
      "Training until validation scores don't improve for 30 rounds\n",
      "Early stopping, best iteration is:\n",
      "[201]\tvalid_0's l1: 13.1943\n",
      "Training until validation scores don't improve for 30 rounds\n",
      "Early stopping, best iteration is:\n",
      "[305]\tvalid_0's l1: 10.3219\n",
      "Training until validation scores don't improve for 30 rounds\n",
      "Early stopping, best iteration is:\n",
      "[369]\tvalid_0's l1: 10.1481\n",
      "Training until validation scores don't improve for 30 rounds\n",
      "Early stopping, best iteration is:\n",
      "[247]\tvalid_0's l1: 10.6151\n",
      "Training until validation scores don't improve for 30 rounds\n",
      "Early stopping, best iteration is:\n",
      "[166]\tvalid_0's l1: 10.0965\n",
      "Training until validation scores don't improve for 30 rounds\n",
      "Early stopping, best iteration is:\n",
      "[242]\tvalid_0's l1: 10.1274\n",
      "Training until validation scores don't improve for 30 rounds\n",
      "Early stopping, best iteration is:\n",
      "[193]\tvalid_0's l1: 10.2142\n",
      "Training until validation scores don't improve for 30 rounds\n",
      "Early stopping, best iteration is:\n",
      "[339]\tvalid_0's l1: 9.34565\n",
      "Training until validation scores don't improve for 30 rounds\n",
      "Early stopping, best iteration is:\n",
      "[308]\tvalid_0's l1: 9.16912\n",
      "Training until validation scores don't improve for 30 rounds\n",
      "Early stopping, best iteration is:\n",
      "[403]\tvalid_0's l1: 9.15814\n",
      "Training until validation scores don't improve for 30 rounds\n",
      "Did not meet early stopping. Best iteration is:\n",
      "[635]\tvalid_0's l1: 4.05895\n",
      "Training until validation scores don't improve for 30 rounds\n",
      "Did not meet early stopping. Best iteration is:\n",
      "[634]\tvalid_0's l1: 4.0433\n",
      "Training until validation scores don't improve for 30 rounds\n",
      "Did not meet early stopping. Best iteration is:\n",
      "[635]\tvalid_0's l1: 4.05813\n"
     ]
    },
    {
     "name": "stderr",
     "output_type": "stream",
     "text": [
      "[I 2025-06-26 23:25:29,545] Trial 21 finished with value: 12.133283799601958 and parameters: {'max_depth': 19, 'learning_rate': 0.036271835325002715, 'n_estimators': 635, 'min_child_weight': 1, 'subsample': 0.8657943008875992, 'colsample_bytree': 0.8294225138722384, 'reg_alpha': 0.08258418940260707, 'reg_lambda': 0.743577475755889}. Best is trial 17 with value: 12.095756542158513.\n"
     ]
    },
    {
     "name": "stdout",
     "output_type": "stream",
     "text": [
      "Training until validation scores don't improve for 30 rounds\n",
      "Early stopping, best iteration is:\n",
      "[170]\tvalid_0's l1: 17.5447\n",
      "Training until validation scores don't improve for 30 rounds\n",
      "Early stopping, best iteration is:\n",
      "[145]\tvalid_0's l1: 18.2142\n",
      "Training until validation scores don't improve for 30 rounds\n",
      "Early stopping, best iteration is:\n",
      "[243]\tvalid_0's l1: 17.7976\n",
      "Training until validation scores don't improve for 30 rounds\n",
      "Early stopping, best iteration is:\n",
      "[181]\tvalid_0's l1: 13.354\n",
      "Training until validation scores don't improve for 30 rounds\n",
      "Early stopping, best iteration is:\n",
      "[152]\tvalid_0's l1: 13.4157\n",
      "Training until validation scores don't improve for 30 rounds\n",
      "Early stopping, best iteration is:\n",
      "[177]\tvalid_0's l1: 13.4198\n",
      "Training until validation scores don't improve for 30 rounds\n",
      "Early stopping, best iteration is:\n",
      "[283]\tvalid_0's l1: 10.125\n",
      "Training until validation scores don't improve for 30 rounds\n",
      "Early stopping, best iteration is:\n",
      "[278]\tvalid_0's l1: 10.6109\n",
      "Training until validation scores don't improve for 30 rounds\n",
      "Early stopping, best iteration is:\n",
      "[246]\tvalid_0's l1: 10.3514\n",
      "Training until validation scores don't improve for 30 rounds\n",
      "Early stopping, best iteration is:\n",
      "[247]\tvalid_0's l1: 9.9311\n",
      "Training until validation scores don't improve for 30 rounds\n",
      "Early stopping, best iteration is:\n",
      "[229]\tvalid_0's l1: 10.2235\n",
      "Training until validation scores don't improve for 30 rounds\n",
      "Early stopping, best iteration is:\n",
      "[170]\tvalid_0's l1: 10.3335\n",
      "Training until validation scores don't improve for 30 rounds\n",
      "Early stopping, best iteration is:\n",
      "[325]\tvalid_0's l1: 9.1882\n",
      "Training until validation scores don't improve for 30 rounds\n",
      "Early stopping, best iteration is:\n",
      "[310]\tvalid_0's l1: 9.24769\n",
      "Training until validation scores don't improve for 30 rounds\n",
      "Early stopping, best iteration is:\n",
      "[311]\tvalid_0's l1: 9.10253\n",
      "Training until validation scores don't improve for 30 rounds\n",
      "Did not meet early stopping. Best iteration is:\n",
      "[574]\tvalid_0's l1: 4.12375\n",
      "Training until validation scores don't improve for 30 rounds\n",
      "Did not meet early stopping. Best iteration is:\n",
      "[574]\tvalid_0's l1: 4.20763\n",
      "Training until validation scores don't improve for 30 rounds\n",
      "Did not meet early stopping. Best iteration is:\n",
      "[574]\tvalid_0's l1: 4.15431\n"
     ]
    },
    {
     "name": "stderr",
     "output_type": "stream",
     "text": [
      "[I 2025-06-26 23:29:17,953] Trial 22 finished with value: 12.190642293570857 and parameters: {'max_depth': 18, 'learning_rate': 0.03843978620545196, 'n_estimators': 574, 'min_child_weight': 1, 'subsample': 0.8553007604546677, 'colsample_bytree': 0.8706198495102796, 'reg_alpha': 0.08878568046158114, 'reg_lambda': 0.9928195091891787}. Best is trial 17 with value: 12.095756542158513.\n"
     ]
    },
    {
     "name": "stdout",
     "output_type": "stream",
     "text": [
      "Training until validation scores don't improve for 30 rounds\n",
      "Early stopping, best iteration is:\n",
      "[274]\tvalid_0's l1: 20.7029\n",
      "Training until validation scores don't improve for 30 rounds\n",
      "Early stopping, best iteration is:\n",
      "[489]\tvalid_0's l1: 20.0709\n",
      "Training until validation scores don't improve for 30 rounds\n",
      "Early stopping, best iteration is:\n",
      "[309]\tvalid_0's l1: 20.3325\n",
      "Training until validation scores don't improve for 30 rounds\n",
      "Early stopping, best iteration is:\n",
      "[401]\tvalid_0's l1: 13.3682\n",
      "Training until validation scores don't improve for 30 rounds\n",
      "Early stopping, best iteration is:\n",
      "[390]\tvalid_0's l1: 13.3301\n",
      "Training until validation scores don't improve for 30 rounds\n",
      "Early stopping, best iteration is:\n",
      "[388]\tvalid_0's l1: 13.3765\n",
      "Training until validation scores don't improve for 30 rounds\n",
      "Did not meet early stopping. Best iteration is:\n",
      "[666]\tvalid_0's l1: 10.5068\n",
      "Training until validation scores don't improve for 30 rounds\n",
      "Did not meet early stopping. Best iteration is:\n",
      "[663]\tvalid_0's l1: 10.5357\n",
      "Training until validation scores don't improve for 30 rounds\n",
      "Early stopping, best iteration is:\n",
      "[627]\tvalid_0's l1: 10.903\n",
      "Training until validation scores don't improve for 30 rounds\n",
      "Early stopping, best iteration is:\n",
      "[289]\tvalid_0's l1: 13.5297\n",
      "Training until validation scores don't improve for 30 rounds\n",
      "Early stopping, best iteration is:\n",
      "[224]\tvalid_0's l1: 16.5066\n",
      "Training until validation scores don't improve for 30 rounds\n",
      "Early stopping, best iteration is:\n",
      "[291]\tvalid_0's l1: 13.3557\n",
      "Training until validation scores don't improve for 30 rounds\n",
      "Did not meet early stopping. Best iteration is:\n",
      "[665]\tvalid_0's l1: 9.79213\n",
      "Training until validation scores don't improve for 30 rounds\n",
      "Did not meet early stopping. Best iteration is:\n",
      "[666]\tvalid_0's l1: 9.89669\n",
      "Training until validation scores don't improve for 30 rounds\n",
      "Did not meet early stopping. Best iteration is:\n",
      "[662]\tvalid_0's l1: 9.74139\n",
      "Training until validation scores don't improve for 30 rounds\n",
      "Did not meet early stopping. Best iteration is:\n",
      "[666]\tvalid_0's l1: 6.6258\n",
      "Training until validation scores don't improve for 30 rounds\n",
      "Did not meet early stopping. Best iteration is:\n",
      "[666]\tvalid_0's l1: 6.60137\n",
      "Training until validation scores don't improve for 30 rounds\n",
      "Did not meet early stopping. Best iteration is:\n",
      "[666]\tvalid_0's l1: 6.58337\n"
     ]
    },
    {
     "name": "stderr",
     "output_type": "stream",
     "text": [
      "[I 2025-06-26 23:34:23,550] Trial 23 finished with value: 13.729920333587497 and parameters: {'max_depth': 19, 'learning_rate': 0.014001114335006068, 'n_estimators': 666, 'min_child_weight': 3, 'subsample': 0.7463512386470611, 'colsample_bytree': 0.8565080497662401, 'reg_alpha': 0.09463528034997448, 'reg_lambda': 0.7714884574594473}. Best is trial 17 with value: 12.095756542158513.\n"
     ]
    },
    {
     "name": "stdout",
     "output_type": "stream",
     "text": [
      "Training until validation scores don't improve for 30 rounds\n",
      "Early stopping, best iteration is:\n",
      "[93]\tvalid_0's l1: 19.0674\n",
      "Training until validation scores don't improve for 30 rounds\n",
      "Early stopping, best iteration is:\n",
      "[79]\tvalid_0's l1: 18.5885\n",
      "Training until validation scores don't improve for 30 rounds\n",
      "Early stopping, best iteration is:\n",
      "[90]\tvalid_0's l1: 17.7295\n",
      "Training until validation scores don't improve for 30 rounds\n",
      "Early stopping, best iteration is:\n",
      "[73]\tvalid_0's l1: 13.3538\n",
      "Training until validation scores don't improve for 30 rounds\n",
      "Early stopping, best iteration is:\n",
      "[61]\tvalid_0's l1: 13.7808\n",
      "Training until validation scores don't improve for 30 rounds\n",
      "Early stopping, best iteration is:\n",
      "[62]\tvalid_0's l1: 13.4963\n",
      "Training until validation scores don't improve for 30 rounds\n",
      "Early stopping, best iteration is:\n",
      "[119]\tvalid_0's l1: 10.5025\n",
      "Training until validation scores don't improve for 30 rounds\n",
      "Early stopping, best iteration is:\n",
      "[115]\tvalid_0's l1: 10.1997\n",
      "Training until validation scores don't improve for 30 rounds\n",
      "Early stopping, best iteration is:\n",
      "[73]\tvalid_0's l1: 10.8834\n",
      "Training until validation scores don't improve for 30 rounds\n",
      "Early stopping, best iteration is:\n",
      "[83]\tvalid_0's l1: 11.3674\n",
      "Training until validation scores don't improve for 30 rounds\n",
      "Early stopping, best iteration is:\n",
      "[185]\tvalid_0's l1: 9.94969\n",
      "Training until validation scores don't improve for 30 rounds\n",
      "Early stopping, best iteration is:\n",
      "[172]\tvalid_0's l1: 9.8915\n",
      "Training until validation scores don't improve for 30 rounds\n",
      "Early stopping, best iteration is:\n",
      "[167]\tvalid_0's l1: 9.62477\n",
      "Training until validation scores don't improve for 30 rounds\n",
      "Early stopping, best iteration is:\n",
      "[122]\tvalid_0's l1: 9.45455\n",
      "Training until validation scores don't improve for 30 rounds\n",
      "Early stopping, best iteration is:\n",
      "[128]\tvalid_0's l1: 9.55876\n",
      "Training until validation scores don't improve for 30 rounds\n",
      "Did not meet early stopping. Best iteration is:\n",
      "[838]\tvalid_0's l1: 1.99221\n",
      "Training until validation scores don't improve for 30 rounds\n",
      "Did not meet early stopping. Best iteration is:\n",
      "[838]\tvalid_0's l1: 2.04847\n",
      "Training until validation scores don't improve for 30 rounds\n",
      "Did not meet early stopping. Best iteration is:\n",
      "[838]\tvalid_0's l1: 2.09511\n"
     ]
    },
    {
     "name": "stderr",
     "output_type": "stream",
     "text": [
      "[I 2025-06-26 23:37:37,156] Trial 24 finished with value: 12.49656931718396 and parameters: {'max_depth': 16, 'learning_rate': 0.08803817447963706, 'n_estimators': 838, 'min_child_weight': 2, 'subsample': 0.9375683944938005, 'colsample_bytree': 0.7849527378148703, 'reg_alpha': 0.2957267610762212, 'reg_lambda': 0.9019193919212043}. Best is trial 17 with value: 12.095756542158513.\n"
     ]
    },
    {
     "name": "stdout",
     "output_type": "stream",
     "text": [
      "Training until validation scores don't improve for 30 rounds\n",
      "Early stopping, best iteration is:\n",
      "[122]\tvalid_0's l1: 20.1355\n",
      "Training until validation scores don't improve for 30 rounds\n",
      "Early stopping, best iteration is:\n",
      "[110]\tvalid_0's l1: 21.5785\n",
      "Training until validation scores don't improve for 30 rounds\n",
      "Early stopping, best iteration is:\n",
      "[182]\tvalid_0's l1: 20.7163\n",
      "Training until validation scores don't improve for 30 rounds\n",
      "Early stopping, best iteration is:\n",
      "[150]\tvalid_0's l1: 14.4831\n",
      "Training until validation scores don't improve for 30 rounds\n",
      "Early stopping, best iteration is:\n",
      "[136]\tvalid_0's l1: 13.837\n",
      "Training until validation scores don't improve for 30 rounds\n",
      "Early stopping, best iteration is:\n",
      "[118]\tvalid_0's l1: 13.303\n",
      "Training until validation scores don't improve for 30 rounds\n",
      "Early stopping, best iteration is:\n",
      "[299]\tvalid_0's l1: 10.1948\n",
      "Training until validation scores don't improve for 30 rounds\n",
      "Early stopping, best iteration is:\n",
      "[341]\tvalid_0's l1: 10.4345\n",
      "Training until validation scores don't improve for 30 rounds\n",
      "Early stopping, best iteration is:\n",
      "[404]\tvalid_0's l1: 10.4091\n",
      "Training until validation scores don't improve for 30 rounds\n",
      "Early stopping, best iteration is:\n",
      "[77]\tvalid_0's l1: 16.3498\n",
      "Training until validation scores don't improve for 30 rounds\n",
      "Early stopping, best iteration is:\n",
      "[77]\tvalid_0's l1: 16.4667\n",
      "Training until validation scores don't improve for 30 rounds\n",
      "Early stopping, best iteration is:\n",
      "[81]\tvalid_0's l1: 15.3339\n",
      "Training until validation scores don't improve for 30 rounds\n",
      "Early stopping, best iteration is:\n",
      "[334]\tvalid_0's l1: 9.67707\n",
      "Training until validation scores don't improve for 30 rounds\n",
      "Early stopping, best iteration is:\n",
      "[373]\tvalid_0's l1: 9.51106\n",
      "Training until validation scores don't improve for 30 rounds\n",
      "Early stopping, best iteration is:\n",
      "[314]\tvalid_0's l1: 9.6442\n",
      "Training until validation scores don't improve for 30 rounds\n",
      "Did not meet early stopping. Best iteration is:\n",
      "[543]\tvalid_0's l1: 4.37375\n",
      "Training until validation scores don't improve for 30 rounds\n",
      "Did not meet early stopping. Best iteration is:\n",
      "[543]\tvalid_0's l1: 4.33623\n",
      "Training until validation scores don't improve for 30 rounds\n",
      "Did not meet early stopping. Best iteration is:\n",
      "[543]\tvalid_0's l1: 4.42\n"
     ]
    },
    {
     "name": "stderr",
     "output_type": "stream",
     "text": [
      "[I 2025-06-26 23:41:08,559] Trial 25 finished with value: 14.138307048229453 and parameters: {'max_depth': 19, 'learning_rate': 0.04038370046194382, 'n_estimators': 543, 'min_child_weight': 4, 'subsample': 0.8634571538868171, 'colsample_bytree': 0.9269454269923241, 'reg_alpha': 0.022874372105263552, 'reg_lambda': 0.5758393158515511}. Best is trial 17 with value: 12.095756542158513.\n"
     ]
    },
    {
     "name": "stdout",
     "output_type": "stream",
     "text": [
      "Training until validation scores don't improve for 30 rounds\n",
      "Early stopping, best iteration is:\n",
      "[305]\tvalid_0's l1: 17.5965\n",
      "Training until validation scores don't improve for 30 rounds\n",
      "Early stopping, best iteration is:\n",
      "[302]\tvalid_0's l1: 17.5835\n",
      "Training until validation scores don't improve for 30 rounds\n",
      "Early stopping, best iteration is:\n",
      "[252]\tvalid_0's l1: 17.5525\n",
      "Training until validation scores don't improve for 30 rounds\n",
      "Early stopping, best iteration is:\n",
      "[302]\tvalid_0's l1: 13.1488\n",
      "Training until validation scores don't improve for 30 rounds\n",
      "Early stopping, best iteration is:\n",
      "[338]\tvalid_0's l1: 13.091\n",
      "Training until validation scores don't improve for 30 rounds\n",
      "Early stopping, best iteration is:\n",
      "[324]\tvalid_0's l1: 13.1314\n",
      "Training until validation scores don't improve for 30 rounds\n",
      "Early stopping, best iteration is:\n",
      "[499]\tvalid_0's l1: 10.1654\n",
      "Training until validation scores don't improve for 30 rounds\n",
      "Early stopping, best iteration is:\n",
      "[512]\tvalid_0's l1: 10.8315\n",
      "Training until validation scores don't improve for 30 rounds\n",
      "Early stopping, best iteration is:\n",
      "[448]\tvalid_0's l1: 10.3641\n",
      "Training until validation scores don't improve for 30 rounds\n",
      "Early stopping, best iteration is:\n",
      "[361]\tvalid_0's l1: 10.0983\n",
      "Training until validation scores don't improve for 30 rounds\n",
      "Early stopping, best iteration is:\n",
      "[289]\tvalid_0's l1: 10.35\n",
      "Training until validation scores don't improve for 30 rounds\n",
      "Early stopping, best iteration is:\n",
      "[318]\tvalid_0's l1: 9.82449\n",
      "Training until validation scores don't improve for 30 rounds\n",
      "Early stopping, best iteration is:\n",
      "[594]\tvalid_0's l1: 9.39169\n",
      "Training until validation scores don't improve for 30 rounds\n",
      "Early stopping, best iteration is:\n",
      "[592]\tvalid_0's l1: 9.09274\n",
      "Training until validation scores don't improve for 30 rounds\n",
      "Early stopping, best iteration is:\n",
      "[569]\tvalid_0's l1: 9.21923\n",
      "Training until validation scores don't improve for 30 rounds\n",
      "Did not meet early stopping. Best iteration is:\n",
      "[906]\tvalid_0's l1: 4.27256\n",
      "Training until validation scores don't improve for 30 rounds\n",
      "Did not meet early stopping. Best iteration is:\n",
      "[906]\tvalid_0's l1: 4.36549\n",
      "Training until validation scores don't improve for 30 rounds\n",
      "Did not meet early stopping. Best iteration is:\n",
      "[906]\tvalid_0's l1: 4.32193\n"
     ]
    },
    {
     "name": "stderr",
     "output_type": "stream",
     "text": [
      "[I 2025-06-26 23:46:15,771] Trial 26 finished with value: 12.096077452105716 and parameters: {'max_depth': 18, 'learning_rate': 0.022633825135309215, 'n_estimators': 906, 'min_child_weight': 1, 'subsample': 0.8387704047275172, 'colsample_bytree': 0.6610813113925638, 'reg_alpha': 0.504623824945564, 'reg_lambda': 0.8598510420940247}. Best is trial 17 with value: 12.095756542158513.\n"
     ]
    },
    {
     "name": "stdout",
     "output_type": "stream",
     "text": [
      "Training until validation scores don't improve for 30 rounds\n",
      "Early stopping, best iteration is:\n",
      "[508]\tvalid_0's l1: 19.1693\n",
      "Training until validation scores don't improve for 30 rounds\n",
      "Early stopping, best iteration is:\n",
      "[374]\tvalid_0's l1: 19.1699\n",
      "Training until validation scores don't improve for 30 rounds\n",
      "Early stopping, best iteration is:\n",
      "[384]\tvalid_0's l1: 19.2331\n",
      "Training until validation scores don't improve for 30 rounds\n",
      "Early stopping, best iteration is:\n",
      "[400]\tvalid_0's l1: 13.1128\n",
      "Training until validation scores don't improve for 30 rounds\n",
      "Early stopping, best iteration is:\n",
      "[471]\tvalid_0's l1: 13.0499\n",
      "Training until validation scores don't improve for 30 rounds\n",
      "Early stopping, best iteration is:\n",
      "[466]\tvalid_0's l1: 12.9059\n",
      "Training until validation scores don't improve for 30 rounds\n",
      "Did not meet early stopping. Best iteration is:\n",
      "[894]\tvalid_0's l1: 10.0402\n",
      "Training until validation scores don't improve for 30 rounds\n",
      "Did not meet early stopping. Best iteration is:\n",
      "[895]\tvalid_0's l1: 10.3236\n",
      "Training until validation scores don't improve for 30 rounds\n",
      "Early stopping, best iteration is:\n",
      "[612]\tvalid_0's l1: 10.3452\n",
      "Training until validation scores don't improve for 30 rounds\n",
      "Early stopping, best iteration is:\n",
      "[252]\tvalid_0's l1: 14.978\n",
      "Training until validation scores don't improve for 30 rounds\n",
      "Early stopping, best iteration is:\n",
      "[458]\tvalid_0's l1: 10.8795\n",
      "Training until validation scores don't improve for 30 rounds\n",
      "Early stopping, best iteration is:\n",
      "[396]\tvalid_0's l1: 12.3342\n",
      "Training until validation scores don't improve for 30 rounds\n",
      "Did not meet early stopping. Best iteration is:\n",
      "[886]\tvalid_0's l1: 9.24196\n",
      "Training until validation scores don't improve for 30 rounds\n",
      "Did not meet early stopping. Best iteration is:\n",
      "[899]\tvalid_0's l1: 9.49204\n",
      "Training until validation scores don't improve for 30 rounds\n",
      "Did not meet early stopping. Best iteration is:\n",
      "[870]\tvalid_0's l1: 9.29727\n",
      "Training until validation scores don't improve for 30 rounds\n",
      "Did not meet early stopping. Best iteration is:\n",
      "[899]\tvalid_0's l1: 5.69547\n",
      "Training until validation scores don't improve for 30 rounds\n",
      "Did not meet early stopping. Best iteration is:\n",
      "[899]\tvalid_0's l1: 5.66654\n",
      "Training until validation scores don't improve for 30 rounds\n",
      "Did not meet early stopping. Best iteration is:\n",
      "[899]\tvalid_0's l1: 5.70877\n"
     ]
    },
    {
     "name": "stderr",
     "output_type": "stream",
     "text": [
      "[I 2025-06-26 23:51:49,003] Trial 27 finished with value: 12.904856715855379 and parameters: {'max_depth': 15, 'learning_rate': 0.01366591947313978, 'n_estimators': 899, 'min_child_weight': 2, 'subsample': 0.7559223059171626, 'colsample_bytree': 0.6614581510218187, 'reg_alpha': 0.23667185377412236, 'reg_lambda': 0.8608286764743995}. Best is trial 17 with value: 12.095756542158513.\n"
     ]
    },
    {
     "name": "stdout",
     "output_type": "stream",
     "text": [
      "Training until validation scores don't improve for 30 rounds\n",
      "Early stopping, best iteration is:\n",
      "[229]\tvalid_0's l1: 19.962\n",
      "Training until validation scores don't improve for 30 rounds\n",
      "Early stopping, best iteration is:\n",
      "[283]\tvalid_0's l1: 19.4037\n",
      "Training until validation scores don't improve for 30 rounds\n",
      "Early stopping, best iteration is:\n",
      "[230]\tvalid_0's l1: 19.968\n",
      "Training until validation scores don't improve for 30 rounds\n",
      "Early stopping, best iteration is:\n",
      "[253]\tvalid_0's l1: 13.2327\n",
      "Training until validation scores don't improve for 30 rounds\n",
      "Early stopping, best iteration is:\n",
      "[260]\tvalid_0's l1: 13.3619\n",
      "Training until validation scores don't improve for 30 rounds\n",
      "Early stopping, best iteration is:\n",
      "[247]\tvalid_0's l1: 13.1841\n",
      "Training until validation scores don't improve for 30 rounds\n",
      "Early stopping, best iteration is:\n",
      "[578]\tvalid_0's l1: 9.99229\n",
      "Training until validation scores don't improve for 30 rounds\n",
      "Early stopping, best iteration is:\n",
      "[327]\tvalid_0's l1: 11.028\n",
      "Training until validation scores don't improve for 30 rounds\n",
      "Early stopping, best iteration is:\n",
      "[512]\tvalid_0's l1: 10.0101\n",
      "Training until validation scores don't improve for 30 rounds\n",
      "Early stopping, best iteration is:\n",
      "[163]\tvalid_0's l1: 15.002\n",
      "Training until validation scores don't improve for 30 rounds\n",
      "Early stopping, best iteration is:\n",
      "[167]\tvalid_0's l1: 13.9834\n",
      "Training until validation scores don't improve for 30 rounds\n",
      "Early stopping, best iteration is:\n",
      "[518]\tvalid_0's l1: 10.6839\n",
      "Training until validation scores don't improve for 30 rounds\n",
      "Early stopping, best iteration is:\n",
      "[647]\tvalid_0's l1: 9.42049\n",
      "Training until validation scores don't improve for 30 rounds\n",
      "Early stopping, best iteration is:\n",
      "[607]\tvalid_0's l1: 9.50839\n",
      "Training until validation scores don't improve for 30 rounds\n",
      "Early stopping, best iteration is:\n",
      "[583]\tvalid_0's l1: 9.66326\n",
      "Training until validation scores don't improve for 30 rounds\n",
      "Did not meet early stopping. Best iteration is:\n",
      "[795]\tvalid_0's l1: 4.83402\n",
      "Training until validation scores don't improve for 30 rounds\n",
      "Did not meet early stopping. Best iteration is:\n",
      "[794]\tvalid_0's l1: 4.91227\n",
      "Training until validation scores don't improve for 30 rounds\n",
      "Did not meet early stopping. Best iteration is:\n",
      "[795]\tvalid_0's l1: 4.85922\n"
     ]
    },
    {
     "name": "stderr",
     "output_type": "stream",
     "text": [
      "[I 2025-06-26 23:56:34,441] Trial 28 finished with value: 13.226950114399088 and parameters: {'max_depth': 18, 'learning_rate': 0.021215836914151652, 'n_estimators': 795, 'min_child_weight': 3, 'subsample': 0.8288841278069212, 'colsample_bytree': 0.7377697713257536, 'reg_alpha': 0.5306556833646568, 'reg_lambda': 0.9446486772055024}. Best is trial 17 with value: 12.095756542158513.\n"
     ]
    },
    {
     "name": "stdout",
     "output_type": "stream",
     "text": [
      "Training until validation scores don't improve for 30 rounds\n",
      "Early stopping, best iteration is:\n",
      "[295]\tvalid_0's l1: 21.5173\n",
      "Training until validation scores don't improve for 30 rounds\n",
      "Early stopping, best iteration is:\n",
      "[283]\tvalid_0's l1: 22.2047\n",
      "Training until validation scores don't improve for 30 rounds\n",
      "Early stopping, best iteration is:\n",
      "[260]\tvalid_0's l1: 21.9188\n",
      "Training until validation scores don't improve for 30 rounds\n",
      "Early stopping, best iteration is:\n",
      "[309]\tvalid_0's l1: 14.1549\n",
      "Training until validation scores don't improve for 30 rounds\n",
      "Early stopping, best iteration is:\n",
      "[396]\tvalid_0's l1: 14.0557\n",
      "Training until validation scores don't improve for 30 rounds\n",
      "Early stopping, best iteration is:\n",
      "[383]\tvalid_0's l1: 13.6098\n",
      "Training until validation scores don't improve for 30 rounds\n",
      "Early stopping, best iteration is:\n",
      "[486]\tvalid_0's l1: 11.3255\n",
      "Training until validation scores don't improve for 30 rounds\n",
      "Early stopping, best iteration is:\n",
      "[556]\tvalid_0's l1: 11.4589\n",
      "Training until validation scores don't improve for 30 rounds\n",
      "Early stopping, best iteration is:\n",
      "[310]\tvalid_0's l1: 13.0159\n",
      "Training until validation scores don't improve for 30 rounds\n",
      "Early stopping, best iteration is:\n",
      "[195]\tvalid_0's l1: 17.5154\n",
      "Training until validation scores don't improve for 30 rounds\n",
      "Early stopping, best iteration is:\n",
      "[190]\tvalid_0's l1: 17.6644\n",
      "Training until validation scores don't improve for 30 rounds\n",
      "Early stopping, best iteration is:\n",
      "[190]\tvalid_0's l1: 18.6002\n",
      "Training until validation scores don't improve for 30 rounds\n",
      "Early stopping, best iteration is:\n",
      "[593]\tvalid_0's l1: 10.9944\n",
      "Training until validation scores don't improve for 30 rounds\n",
      "Did not meet early stopping. Best iteration is:\n",
      "[717]\tvalid_0's l1: 10.7588\n",
      "Training until validation scores don't improve for 30 rounds\n",
      "Did not meet early stopping. Best iteration is:\n",
      "[716]\tvalid_0's l1: 10.548\n",
      "Training until validation scores don't improve for 30 rounds\n",
      "Did not meet early stopping. Best iteration is:\n",
      "[717]\tvalid_0's l1: 7.69448\n",
      "Training until validation scores don't improve for 30 rounds\n",
      "Did not meet early stopping. Best iteration is:\n",
      "[717]\tvalid_0's l1: 7.48584\n",
      "Training until validation scores don't improve for 30 rounds\n",
      "Did not meet early stopping. Best iteration is:\n",
      "[717]\tvalid_0's l1: 7.72241\n"
     ]
    },
    {
     "name": "stderr",
     "output_type": "stream",
     "text": [
      "[I 2025-06-26 23:59:49,405] Trial 29 finished with value: 15.289524282647125 and parameters: {'max_depth': 11, 'learning_rate': 0.015294592943005308, 'n_estimators': 717, 'min_child_weight': 6, 'subsample': 0.7591139500338753, 'colsample_bytree': 0.6425960808279714, 'reg_alpha': 0.10599139455767131, 'reg_lambda': 0.8545629751315492}. Best is trial 17 with value: 12.095756542158513.\n"
     ]
    },
    {
     "name": "stdout",
     "output_type": "stream",
     "text": [
      "Training until validation scores don't improve for 30 rounds\n",
      "Early stopping, best iteration is:\n",
      "[288]\tvalid_0's l1: 19.9989\n",
      "Training until validation scores don't improve for 30 rounds\n",
      "Early stopping, best iteration is:\n",
      "[344]\tvalid_0's l1: 19.177\n",
      "Training until validation scores don't improve for 30 rounds\n",
      "Early stopping, best iteration is:\n",
      "[403]\tvalid_0's l1: 19.7197\n",
      "Training until validation scores don't improve for 30 rounds\n",
      "Early stopping, best iteration is:\n",
      "[245]\tvalid_0's l1: 13.6334\n",
      "Training until validation scores don't improve for 30 rounds\n",
      "Early stopping, best iteration is:\n",
      "[247]\tvalid_0's l1: 13.7206\n",
      "Training until validation scores don't improve for 30 rounds\n",
      "Early stopping, best iteration is:\n",
      "[241]\tvalid_0's l1: 13.904\n",
      "Training until validation scores don't improve for 30 rounds\n",
      "Early stopping, best iteration is:\n",
      "[715]\tvalid_0's l1: 10.2377\n",
      "Training until validation scores don't improve for 30 rounds\n",
      "Early stopping, best iteration is:\n",
      "[625]\tvalid_0's l1: 10.2447\n",
      "Training until validation scores don't improve for 30 rounds\n",
      "Early stopping, best iteration is:\n",
      "[610]\tvalid_0's l1: 10.0876\n",
      "Training until validation scores don't improve for 30 rounds\n",
      "Early stopping, best iteration is:\n",
      "[142]\tvalid_0's l1: 14.7362\n",
      "Training until validation scores don't improve for 30 rounds\n",
      "Early stopping, best iteration is:\n",
      "[173]\tvalid_0's l1: 14.8297\n",
      "Training until validation scores don't improve for 30 rounds\n",
      "Early stopping, best iteration is:\n",
      "[165]\tvalid_0's l1: 13.3547\n",
      "Training until validation scores don't improve for 30 rounds\n",
      "Early stopping, best iteration is:\n",
      "[600]\tvalid_0's l1: 9.66159\n",
      "Training until validation scores don't improve for 30 rounds\n",
      "Early stopping, best iteration is:\n",
      "[699]\tvalid_0's l1: 9.59924\n",
      "Training until validation scores don't improve for 30 rounds\n",
      "Early stopping, best iteration is:\n",
      "[538]\tvalid_0's l1: 9.63976\n",
      "Training until validation scores don't improve for 30 rounds\n",
      "Did not meet early stopping. Best iteration is:\n",
      "[911]\tvalid_0's l1: 4.43156\n",
      "Training until validation scores don't improve for 30 rounds\n",
      "Did not meet early stopping. Best iteration is:\n",
      "[911]\tvalid_0's l1: 4.4528\n",
      "Training until validation scores don't improve for 30 rounds\n",
      "Did not meet early stopping. Best iteration is:\n",
      "[911]\tvalid_0's l1: 4.41176\n"
     ]
    },
    {
     "name": "stderr",
     "output_type": "stream",
     "text": [
      "[I 2025-06-27 00:04:36,774] Trial 30 finished with value: 13.502995081855886 and parameters: {'max_depth': 16, 'learning_rate': 0.024153877067785618, 'n_estimators': 911, 'min_child_weight': 5, 'subsample': 0.937262702296338, 'colsample_bytree': 0.7137686397845503, 'reg_alpha': 0.68074295590911, 'reg_lambda': 0.8605117161834536}. Best is trial 17 with value: 12.095756542158513.\n"
     ]
    },
    {
     "name": "stdout",
     "output_type": "stream",
     "text": [
      "Training until validation scores don't improve for 30 rounds\n",
      "Early stopping, best iteration is:\n",
      "[210]\tvalid_0's l1: 18.3829\n",
      "Training until validation scores don't improve for 30 rounds\n",
      "Early stopping, best iteration is:\n",
      "[218]\tvalid_0's l1: 17.4029\n",
      "Training until validation scores don't improve for 30 rounds\n",
      "Early stopping, best iteration is:\n",
      "[177]\tvalid_0's l1: 17.8085\n",
      "Training until validation scores don't improve for 30 rounds\n",
      "Early stopping, best iteration is:\n",
      "[206]\tvalid_0's l1: 13.2551\n",
      "Training until validation scores don't improve for 30 rounds\n",
      "Early stopping, best iteration is:\n",
      "[212]\tvalid_0's l1: 13.2178\n",
      "Training until validation scores don't improve for 30 rounds\n",
      "Early stopping, best iteration is:\n",
      "[229]\tvalid_0's l1: 13.3542\n",
      "Training until validation scores don't improve for 30 rounds\n",
      "Early stopping, best iteration is:\n",
      "[466]\tvalid_0's l1: 10.0483\n",
      "Training until validation scores don't improve for 30 rounds\n",
      "Early stopping, best iteration is:\n",
      "[334]\tvalid_0's l1: 10.147\n",
      "Training until validation scores don't improve for 30 rounds\n",
      "Early stopping, best iteration is:\n",
      "[417]\tvalid_0's l1: 10.8429\n",
      "Training until validation scores don't improve for 30 rounds\n",
      "Early stopping, best iteration is:\n",
      "[220]\tvalid_0's l1: 10.2838\n",
      "Training until validation scores don't improve for 30 rounds\n",
      "Early stopping, best iteration is:\n",
      "[270]\tvalid_0's l1: 10.0462\n",
      "Training until validation scores don't improve for 30 rounds\n",
      "Early stopping, best iteration is:\n",
      "[277]\tvalid_0's l1: 9.7511\n",
      "Training until validation scores don't improve for 30 rounds\n",
      "Early stopping, best iteration is:\n",
      "[417]\tvalid_0's l1: 9.30636\n",
      "Training until validation scores don't improve for 30 rounds\n",
      "Early stopping, best iteration is:\n",
      "[379]\tvalid_0's l1: 9.41212\n",
      "Training until validation scores don't improve for 30 rounds\n",
      "Early stopping, best iteration is:\n",
      "[399]\tvalid_0's l1: 9.12193\n",
      "Training until validation scores don't improve for 30 rounds\n",
      "Did not meet early stopping. Best iteration is:\n",
      "[779]\tvalid_0's l1: 3.97378\n",
      "Training until validation scores don't improve for 30 rounds\n",
      "Did not meet early stopping. Best iteration is:\n",
      "[780]\tvalid_0's l1: 3.97272\n",
      "Training until validation scores don't improve for 30 rounds\n",
      "Did not meet early stopping. Best iteration is:\n",
      "[780]\tvalid_0's l1: 3.97766\n"
     ]
    },
    {
     "name": "stderr",
     "output_type": "stream",
     "text": [
      "[I 2025-06-27 00:09:18,191] Trial 31 finished with value: 12.158736486137581 and parameters: {'max_depth': 19, 'learning_rate': 0.03055501196437798, 'n_estimators': 780, 'min_child_weight': 1, 'subsample': 0.8768505304243003, 'colsample_bytree': 0.8046185325274221, 'reg_alpha': 0.4657726807683461, 'reg_lambda': 0.7311874379103382}. Best is trial 17 with value: 12.095756542158513.\n"
     ]
    },
    {
     "name": "stdout",
     "output_type": "stream",
     "text": [
      "Training until validation scores don't improve for 30 rounds\n",
      "Early stopping, best iteration is:\n",
      "[112]\tvalid_0's l1: 17.756\n",
      "Training until validation scores don't improve for 30 rounds\n",
      "Early stopping, best iteration is:\n",
      "[112]\tvalid_0's l1: 17.9042\n",
      "Training until validation scores don't improve for 30 rounds\n",
      "Early stopping, best iteration is:\n",
      "[186]\tvalid_0's l1: 17.5982\n",
      "Training until validation scores don't improve for 30 rounds\n",
      "Early stopping, best iteration is:\n",
      "[123]\tvalid_0's l1: 13.4564\n",
      "Training until validation scores don't improve for 30 rounds\n",
      "Early stopping, best iteration is:\n",
      "[165]\tvalid_0's l1: 13.0975\n",
      "Training until validation scores don't improve for 30 rounds\n",
      "Early stopping, best iteration is:\n",
      "[149]\tvalid_0's l1: 13.2067\n",
      "Training until validation scores don't improve for 30 rounds\n",
      "Early stopping, best iteration is:\n",
      "[172]\tvalid_0's l1: 10.4224\n",
      "Training until validation scores don't improve for 30 rounds\n",
      "Early stopping, best iteration is:\n",
      "[249]\tvalid_0's l1: 10.2119\n",
      "Training until validation scores don't improve for 30 rounds\n",
      "Early stopping, best iteration is:\n",
      "[187]\tvalid_0's l1: 10.0898\n",
      "Training until validation scores don't improve for 30 rounds\n",
      "Early stopping, best iteration is:\n",
      "[121]\tvalid_0's l1: 10.5245\n",
      "Training until validation scores don't improve for 30 rounds\n",
      "Early stopping, best iteration is:\n",
      "[175]\tvalid_0's l1: 10.0288\n",
      "Training until validation scores don't improve for 30 rounds\n",
      "Early stopping, best iteration is:\n",
      "[157]\tvalid_0's l1: 10.4499\n",
      "Training until validation scores don't improve for 30 rounds\n",
      "Early stopping, best iteration is:\n",
      "[326]\tvalid_0's l1: 9.24087\n",
      "Training until validation scores don't improve for 30 rounds\n",
      "Early stopping, best iteration is:\n",
      "[300]\tvalid_0's l1: 9.1336\n",
      "Training until validation scores don't improve for 30 rounds\n",
      "Early stopping, best iteration is:\n",
      "[309]\tvalid_0's l1: 9.075\n",
      "Training until validation scores don't improve for 30 rounds\n",
      "Did not meet early stopping. Best iteration is:\n",
      "[692]\tvalid_0's l1: 3.42303\n",
      "Training until validation scores don't improve for 30 rounds\n",
      "Did not meet early stopping. Best iteration is:\n",
      "[692]\tvalid_0's l1: 3.51227\n",
      "Training until validation scores don't improve for 30 rounds\n",
      "Did not meet early stopping. Best iteration is:\n",
      "[692]\tvalid_0's l1: 3.45453\n"
     ]
    },
    {
     "name": "stderr",
     "output_type": "stream",
     "text": [
      "[I 2025-06-27 00:12:53,975] Trial 32 finished with value: 12.146387476969661 and parameters: {'max_depth': 18, 'learning_rate': 0.046874916285241056, 'n_estimators': 692, 'min_child_weight': 1, 'subsample': 0.8344145420262171, 'colsample_bytree': 0.7487652906133508, 'reg_alpha': 0.41133047304536324, 'reg_lambda': 0.7973167931139123}. Best is trial 17 with value: 12.095756542158513.\n"
     ]
    },
    {
     "name": "stdout",
     "output_type": "stream",
     "text": [
      "Training until validation scores don't improve for 30 rounds\n",
      "Early stopping, best iteration is:\n",
      "[128]\tvalid_0's l1: 19.9706\n",
      "Training until validation scores don't improve for 30 rounds\n",
      "Early stopping, best iteration is:\n",
      "[119]\tvalid_0's l1: 19.1347\n",
      "Training until validation scores don't improve for 30 rounds\n",
      "Early stopping, best iteration is:\n",
      "[162]\tvalid_0's l1: 19.1398\n",
      "Training until validation scores don't improve for 30 rounds\n",
      "Early stopping, best iteration is:\n",
      "[132]\tvalid_0's l1: 12.8719\n",
      "Training until validation scores don't improve for 30 rounds\n",
      "Early stopping, best iteration is:\n",
      "[131]\tvalid_0's l1: 12.8002\n",
      "Training until validation scores don't improve for 30 rounds\n",
      "Early stopping, best iteration is:\n",
      "[121]\tvalid_0's l1: 13.0835\n",
      "Training until validation scores don't improve for 30 rounds\n",
      "Early stopping, best iteration is:\n",
      "[279]\tvalid_0's l1: 9.94641\n",
      "Training until validation scores don't improve for 30 rounds\n",
      "Early stopping, best iteration is:\n",
      "[280]\tvalid_0's l1: 10.019\n",
      "Training until validation scores don't improve for 30 rounds\n",
      "Early stopping, best iteration is:\n",
      "[251]\tvalid_0's l1: 10.2778\n",
      "Training until validation scores don't improve for 30 rounds\n",
      "Early stopping, best iteration is:\n",
      "[144]\tvalid_0's l1: 10.8655\n",
      "Training until validation scores don't improve for 30 rounds\n",
      "Early stopping, best iteration is:\n",
      "[152]\tvalid_0's l1: 12.3259\n",
      "Training until validation scores don't improve for 30 rounds\n",
      "Early stopping, best iteration is:\n",
      "[168]\tvalid_0's l1: 10.1377\n",
      "Training until validation scores don't improve for 30 rounds\n",
      "Early stopping, best iteration is:\n",
      "[346]\tvalid_0's l1: 9.39985\n",
      "Training until validation scores don't improve for 30 rounds\n",
      "Early stopping, best iteration is:\n",
      "[283]\tvalid_0's l1: 9.28828\n",
      "Training until validation scores don't improve for 30 rounds\n",
      "Early stopping, best iteration is:\n",
      "[324]\tvalid_0's l1: 9.29886\n",
      "Training until validation scores don't improve for 30 rounds\n",
      "Did not meet early stopping. Best iteration is:\n",
      "[695]\tvalid_0's l1: 3.54573\n",
      "Training until validation scores don't improve for 30 rounds\n",
      "Did not meet early stopping. Best iteration is:\n",
      "[696]\tvalid_0's l1: 3.57567\n",
      "Training until validation scores don't improve for 30 rounds\n",
      "Did not meet early stopping. Best iteration is:\n",
      "[696]\tvalid_0's l1: 3.59111\n"
     ]
    },
    {
     "name": "stderr",
     "output_type": "stream",
     "text": [
      "[I 2025-06-27 00:15:59,544] Trial 33 finished with value: 12.570672908492316 and parameters: {'max_depth': 17, 'learning_rate': 0.04397279787870592, 'n_estimators': 696, 'min_child_weight': 2, 'subsample': 0.8385079917027469, 'colsample_bytree': 0.6182128471415015, 'reg_alpha': 0.17216377060509505, 'reg_lambda': 0.8047289678544416}. Best is trial 17 with value: 12.095756542158513.\n"
     ]
    },
    {
     "name": "stdout",
     "output_type": "stream",
     "text": [
      "Training until validation scores don't improve for 30 rounds\n",
      "Early stopping, best iteration is:\n",
      "[63]\tvalid_0's l1: 17.0393\n",
      "Training until validation scores don't improve for 30 rounds\n",
      "Early stopping, best iteration is:\n",
      "[55]\tvalid_0's l1: 18.5353\n",
      "Training until validation scores don't improve for 30 rounds\n",
      "Early stopping, best iteration is:\n",
      "[92]\tvalid_0's l1: 18.561\n",
      "Training until validation scores don't improve for 30 rounds\n",
      "Early stopping, best iteration is:\n",
      "[63]\tvalid_0's l1: 13.5254\n",
      "Training until validation scores don't improve for 30 rounds\n",
      "Early stopping, best iteration is:\n",
      "[69]\tvalid_0's l1: 13.3746\n",
      "Training until validation scores don't improve for 30 rounds\n",
      "Early stopping, best iteration is:\n",
      "[93]\tvalid_0's l1: 13.2896\n",
      "Training until validation scores don't improve for 30 rounds\n",
      "Early stopping, best iteration is:\n",
      "[100]\tvalid_0's l1: 10.52\n",
      "Training until validation scores don't improve for 30 rounds\n",
      "Early stopping, best iteration is:\n",
      "[119]\tvalid_0's l1: 10.5632\n",
      "Training until validation scores don't improve for 30 rounds\n",
      "Early stopping, best iteration is:\n",
      "[131]\tvalid_0's l1: 10.3576\n",
      "Training until validation scores don't improve for 30 rounds\n",
      "Early stopping, best iteration is:\n",
      "[89]\tvalid_0's l1: 10.5044\n",
      "Training until validation scores don't improve for 30 rounds\n",
      "Early stopping, best iteration is:\n",
      "[74]\tvalid_0's l1: 10.1248\n",
      "Training until validation scores don't improve for 30 rounds\n",
      "Early stopping, best iteration is:\n",
      "[100]\tvalid_0's l1: 9.95135\n",
      "Training until validation scores don't improve for 30 rounds\n",
      "Early stopping, best iteration is:\n",
      "[118]\tvalid_0's l1: 9.73372\n",
      "Training until validation scores don't improve for 30 rounds\n",
      "Early stopping, best iteration is:\n",
      "[140]\tvalid_0's l1: 9.8837\n",
      "Training until validation scores don't improve for 30 rounds\n",
      "Early stopping, best iteration is:\n",
      "[195]\tvalid_0's l1: 9.31614\n",
      "Training until validation scores don't improve for 30 rounds\n",
      "Did not meet early stopping. Best iteration is:\n",
      "[793]\tvalid_0's l1: 2.12584\n",
      "Training until validation scores don't improve for 30 rounds\n",
      "Did not meet early stopping. Best iteration is:\n",
      "[794]\tvalid_0's l1: 2.1568\n",
      "Training until validation scores don't improve for 30 rounds\n",
      "Did not meet early stopping. Best iteration is:\n",
      "[794]\tvalid_0's l1: 2.21965\n"
     ]
    },
    {
     "name": "stderr",
     "output_type": "stream",
     "text": [
      "[I 2025-06-27 00:19:03,153] Trial 34 finished with value: 12.352010841291762 and parameters: {'max_depth': 13, 'learning_rate': 0.09014130246612972, 'n_estimators': 794, 'min_child_weight': 1, 'subsample': 0.8132245402155296, 'colsample_bytree': 0.7477528131142288, 'reg_alpha': 0.3567406009485071, 'reg_lambda': 0.9397414913804228}. Best is trial 17 with value: 12.095756542158513.\n"
     ]
    },
    {
     "name": "stdout",
     "output_type": "stream",
     "text": [
      "Training until validation scores don't improve for 30 rounds\n",
      "Early stopping, best iteration is:\n",
      "[103]\tvalid_0's l1: 19.7316\n",
      "Training until validation scores don't improve for 30 rounds\n",
      "Early stopping, best iteration is:\n",
      "[110]\tvalid_0's l1: 19.4128\n",
      "Training until validation scores don't improve for 30 rounds\n",
      "Early stopping, best iteration is:\n",
      "[93]\tvalid_0's l1: 18.9323\n",
      "Training until validation scores don't improve for 30 rounds\n",
      "Early stopping, best iteration is:\n",
      "[79]\tvalid_0's l1: 13.1867\n",
      "Training until validation scores don't improve for 30 rounds\n",
      "Early stopping, best iteration is:\n",
      "[73]\tvalid_0's l1: 13.2144\n",
      "Training until validation scores don't improve for 30 rounds\n",
      "Early stopping, best iteration is:\n",
      "[73]\tvalid_0's l1: 13.3448\n",
      "Training until validation scores don't improve for 30 rounds\n",
      "Early stopping, best iteration is:\n",
      "[168]\tvalid_0's l1: 10.2455\n",
      "Training until validation scores don't improve for 30 rounds\n",
      "Early stopping, best iteration is:\n",
      "[182]\tvalid_0's l1: 9.9736\n",
      "Training until validation scores don't improve for 30 rounds\n",
      "Early stopping, best iteration is:\n",
      "[104]\tvalid_0's l1: 10.2414\n",
      "Training until validation scores don't improve for 30 rounds\n",
      "Early stopping, best iteration is:\n",
      "[77]\tvalid_0's l1: 11.63\n",
      "Training until validation scores don't improve for 30 rounds\n",
      "Early stopping, best iteration is:\n",
      "[107]\tvalid_0's l1: 10.0185\n",
      "Training until validation scores don't improve for 30 rounds\n",
      "Early stopping, best iteration is:\n",
      "[114]\tvalid_0's l1: 10.2857\n",
      "Training until validation scores don't improve for 30 rounds\n",
      "Early stopping, best iteration is:\n",
      "[206]\tvalid_0's l1: 9.14224\n",
      "Training until validation scores don't improve for 30 rounds\n",
      "Early stopping, best iteration is:\n",
      "[150]\tvalid_0's l1: 9.28769\n",
      "Training until validation scores don't improve for 30 rounds\n",
      "Early stopping, best iteration is:\n",
      "[103]\tvalid_0's l1: 9.59591\n",
      "Training until validation scores don't improve for 30 rounds\n",
      "Did not meet early stopping. Best iteration is:\n",
      "[925]\tvalid_0's l1: 2.03668\n",
      "Training until validation scores don't improve for 30 rounds\n",
      "Did not meet early stopping. Best iteration is:\n",
      "[925]\tvalid_0's l1: 2.08671\n",
      "Training until validation scores don't improve for 30 rounds\n",
      "Did not meet early stopping. Best iteration is:\n",
      "[924]\tvalid_0's l1: 2.07282\n"
     ]
    },
    {
     "name": "stderr",
     "output_type": "stream",
     "text": [
      "[I 2025-06-27 00:22:14,955] Trial 35 finished with value: 12.549553853634498 and parameters: {'max_depth': 14, 'learning_rate': 0.08154678850317859, 'n_estimators': 925, 'min_child_weight': 2, 'subsample': 0.9217847035009263, 'colsample_bytree': 0.5878766306674811, 'reg_alpha': 0.24280101913609356, 'reg_lambda': 0.6352268879004912}. Best is trial 17 with value: 12.095756542158513.\n"
     ]
    },
    {
     "name": "stdout",
     "output_type": "stream",
     "text": [
      "Training until validation scores don't improve for 30 rounds\n",
      "Early stopping, best iteration is:\n",
      "[344]\tvalid_0's l1: 19.8797\n",
      "Training until validation scores don't improve for 30 rounds\n",
      "Early stopping, best iteration is:\n",
      "[283]\tvalid_0's l1: 20.6253\n",
      "Training until validation scores don't improve for 30 rounds\n",
      "Early stopping, best iteration is:\n",
      "[436]\tvalid_0's l1: 19.1358\n",
      "Training until validation scores don't improve for 30 rounds\n",
      "Early stopping, best iteration is:\n",
      "[363]\tvalid_0's l1: 13.4705\n",
      "Training until validation scores don't improve for 30 rounds\n",
      "Early stopping, best iteration is:\n",
      "[366]\tvalid_0's l1: 13.1066\n",
      "Training until validation scores don't improve for 30 rounds\n",
      "Early stopping, best iteration is:\n",
      "[336]\tvalid_0's l1: 13.3875\n",
      "Training until validation scores don't improve for 30 rounds\n",
      "Did not meet early stopping. Best iteration is:\n",
      "[544]\tvalid_0's l1: 10.5767\n",
      "Training until validation scores don't improve for 30 rounds\n",
      "Did not meet early stopping. Best iteration is:\n",
      "[544]\tvalid_0's l1: 10.8075\n",
      "Training until validation scores don't improve for 30 rounds\n",
      "Did not meet early stopping. Best iteration is:\n",
      "[544]\tvalid_0's l1: 10.7093\n",
      "Training until validation scores don't improve for 30 rounds\n",
      "Early stopping, best iteration is:\n",
      "[241]\tvalid_0's l1: 13.8783\n",
      "Training until validation scores don't improve for 30 rounds\n",
      "Early stopping, best iteration is:\n",
      "[225]\tvalid_0's l1: 13.3347\n",
      "Training until validation scores don't improve for 30 rounds\n",
      "Early stopping, best iteration is:\n",
      "[230]\tvalid_0's l1: 14.382\n",
      "Training until validation scores don't improve for 30 rounds\n",
      "Did not meet early stopping. Best iteration is:\n",
      "[544]\tvalid_0's l1: 9.98843\n",
      "Training until validation scores don't improve for 30 rounds\n",
      "Did not meet early stopping. Best iteration is:\n",
      "[542]\tvalid_0's l1: 9.97473\n",
      "Training until validation scores don't improve for 30 rounds\n",
      "Did not meet early stopping. Best iteration is:\n",
      "[544]\tvalid_0's l1: 10.0387\n",
      "Training until validation scores don't improve for 30 rounds\n",
      "Did not meet early stopping. Best iteration is:\n",
      "[544]\tvalid_0's l1: 6.86053\n",
      "Training until validation scores don't improve for 30 rounds\n",
      "Did not meet early stopping. Best iteration is:\n",
      "[544]\tvalid_0's l1: 6.75504\n",
      "Training until validation scores don't improve for 30 rounds\n",
      "Did not meet early stopping. Best iteration is:\n",
      "[544]\tvalid_0's l1: 6.82272\n"
     ]
    },
    {
     "name": "stderr",
     "output_type": "stream",
     "text": [
      "[I 2025-06-27 00:25:20,995] Trial 36 finished with value: 13.553054322423872 and parameters: {'max_depth': 9, 'learning_rate': 0.017600705386708767, 'n_estimators': 544, 'min_child_weight': 3, 'subsample': 0.7823146911720469, 'colsample_bytree': 0.6846372707838858, 'reg_alpha': 0.6735246154757732, 'reg_lambda': 0.8826125334318882}. Best is trial 17 with value: 12.095756542158513.\n"
     ]
    },
    {
     "name": "stdout",
     "output_type": "stream",
     "text": [
      "Training until validation scores don't improve for 30 rounds\n",
      "Early stopping, best iteration is:\n",
      "[162]\tvalid_0's l1: 17.5474\n",
      "Training until validation scores don't improve for 30 rounds\n",
      "Early stopping, best iteration is:\n",
      "[145]\tvalid_0's l1: 18.2791\n",
      "Training until validation scores don't improve for 30 rounds\n",
      "Early stopping, best iteration is:\n",
      "[137]\tvalid_0's l1: 17.7814\n",
      "Training until validation scores don't improve for 30 rounds\n",
      "Early stopping, best iteration is:\n",
      "[155]\tvalid_0's l1: 13.4316\n",
      "Training until validation scores don't improve for 30 rounds\n",
      "Early stopping, best iteration is:\n",
      "[150]\tvalid_0's l1: 13.357\n",
      "Training until validation scores don't improve for 30 rounds\n",
      "Early stopping, best iteration is:\n",
      "[150]\tvalid_0's l1: 13.0564\n",
      "Training until validation scores don't improve for 30 rounds\n",
      "Early stopping, best iteration is:\n",
      "[205]\tvalid_0's l1: 10.769\n",
      "Training until validation scores don't improve for 30 rounds\n",
      "Early stopping, best iteration is:\n",
      "[256]\tvalid_0's l1: 10.3105\n",
      "Training until validation scores don't improve for 30 rounds\n",
      "Early stopping, best iteration is:\n",
      "[237]\tvalid_0's l1: 10.2833\n",
      "Training until validation scores don't improve for 30 rounds\n",
      "Early stopping, best iteration is:\n",
      "[182]\tvalid_0's l1: 10.3444\n",
      "Training until validation scores don't improve for 30 rounds\n",
      "Early stopping, best iteration is:\n",
      "[167]\tvalid_0's l1: 10.2912\n",
      "Training until validation scores don't improve for 30 rounds\n",
      "Early stopping, best iteration is:\n",
      "[143]\tvalid_0's l1: 10.2131\n",
      "Training until validation scores don't improve for 30 rounds\n",
      "Early stopping, best iteration is:\n",
      "[346]\tvalid_0's l1: 9.3402\n",
      "Training until validation scores don't improve for 30 rounds\n",
      "Early stopping, best iteration is:\n",
      "[284]\tvalid_0's l1: 9.48066\n",
      "Training until validation scores don't improve for 30 rounds\n",
      "Early stopping, best iteration is:\n",
      "[337]\tvalid_0's l1: 9.1076\n",
      "Training until validation scores don't improve for 30 rounds\n",
      "Did not meet early stopping. Best iteration is:\n",
      "[605]\tvalid_0's l1: 3.61319\n",
      "Training until validation scores don't improve for 30 rounds\n",
      "Did not meet early stopping. Best iteration is:\n",
      "[605]\tvalid_0's l1: 3.60113\n",
      "Training until validation scores don't improve for 30 rounds\n",
      "Did not meet early stopping. Best iteration is:\n",
      "[605]\tvalid_0's l1: 3.69186\n"
     ]
    },
    {
     "name": "stderr",
     "output_type": "stream",
     "text": [
      "[I 2025-06-27 00:28:56,665] Trial 37 finished with value: 12.239532718602192 and parameters: {'max_depth': 18, 'learning_rate': 0.04733875797577252, 'n_estimators': 605, 'min_child_weight': 1, 'subsample': 0.8885856074614332, 'colsample_bytree': 0.7894584120292658, 'reg_alpha': 0.4177192179537592, 'reg_lambda': 0.48278800525573373}. Best is trial 17 with value: 12.095756542158513.\n"
     ]
    },
    {
     "name": "stdout",
     "output_type": "stream",
     "text": [
      "Training until validation scores don't improve for 30 rounds\n",
      "Early stopping, best iteration is:\n",
      "[166]\tvalid_0's l1: 22.1782\n",
      "Training until validation scores don't improve for 30 rounds\n",
      "Early stopping, best iteration is:\n",
      "[147]\tvalid_0's l1: 23.5551\n",
      "Training until validation scores don't improve for 30 rounds\n",
      "Early stopping, best iteration is:\n",
      "[182]\tvalid_0's l1: 24.1413\n",
      "Training until validation scores don't improve for 30 rounds\n",
      "Early stopping, best iteration is:\n",
      "[213]\tvalid_0's l1: 14.0157\n",
      "Training until validation scores don't improve for 30 rounds\n",
      "Early stopping, best iteration is:\n",
      "[218]\tvalid_0's l1: 13.5966\n",
      "Training until validation scores don't improve for 30 rounds\n",
      "Early stopping, best iteration is:\n",
      "[241]\tvalid_0's l1: 14.4487\n",
      "Training until validation scores don't improve for 30 rounds\n",
      "Early stopping, best iteration is:\n",
      "[219]\tvalid_0's l1: 12.1532\n",
      "Training until validation scores don't improve for 30 rounds\n",
      "Early stopping, best iteration is:\n",
      "[346]\tvalid_0's l1: 11.2087\n",
      "Training until validation scores don't improve for 30 rounds\n",
      "Early stopping, best iteration is:\n",
      "[281]\tvalid_0's l1: 11.9354\n",
      "Training until validation scores don't improve for 30 rounds\n",
      "Early stopping, best iteration is:\n",
      "[142]\tvalid_0's l1: 15.9904\n",
      "Training until validation scores don't improve for 30 rounds\n",
      "Early stopping, best iteration is:\n",
      "[127]\tvalid_0's l1: 16.4622\n",
      "Training until validation scores don't improve for 30 rounds\n",
      "Early stopping, best iteration is:\n",
      "[122]\tvalid_0's l1: 17.3754\n",
      "Training until validation scores don't improve for 30 rounds\n",
      "Early stopping, best iteration is:\n",
      "[573]\tvalid_0's l1: 10.1909\n",
      "Training until validation scores don't improve for 30 rounds\n",
      "Early stopping, best iteration is:\n",
      "[756]\tvalid_0's l1: 9.97944\n",
      "Training until validation scores don't improve for 30 rounds\n",
      "Early stopping, best iteration is:\n",
      "[576]\tvalid_0's l1: 10.2879\n",
      "Training until validation scores don't improve for 30 rounds\n",
      "Did not meet early stopping. Best iteration is:\n",
      "[979]\tvalid_0's l1: 5.29672\n",
      "Training until validation scores don't improve for 30 rounds\n",
      "Did not meet early stopping. Best iteration is:\n",
      "[979]\tvalid_0's l1: 5.19635\n",
      "Training until validation scores don't improve for 30 rounds\n",
      "Did not meet early stopping. Best iteration is:\n",
      "[979]\tvalid_0's l1: 5.2811\n"
     ]
    },
    {
     "name": "stderr",
     "output_type": "stream",
     "text": [
      "[I 2025-06-27 00:32:27,708] Trial 38 finished with value: 15.167943113329585 and parameters: {'max_depth': 15, 'learning_rate': 0.024206914633520964, 'n_estimators': 979, 'min_child_weight': 7, 'subsample': 0.7205872055592741, 'colsample_bytree': 0.5013339806386407, 'reg_alpha': 0.052756008403141874, 'reg_lambda': 0.9647738858313216}. Best is trial 17 with value: 12.095756542158513.\n"
     ]
    },
    {
     "name": "stdout",
     "output_type": "stream",
     "text": [
      "Training until validation scores don't improve for 30 rounds\n",
      "Early stopping, best iteration is:\n",
      "[448]\tvalid_0's l1: 19.6143\n",
      "Training until validation scores don't improve for 30 rounds\n",
      "Early stopping, best iteration is:\n",
      "[389]\tvalid_0's l1: 19.7379\n",
      "Training until validation scores don't improve for 30 rounds\n",
      "Early stopping, best iteration is:\n",
      "[363]\tvalid_0's l1: 19.5151\n",
      "Training until validation scores don't improve for 30 rounds\n",
      "Early stopping, best iteration is:\n",
      "[460]\tvalid_0's l1: 13.7639\n",
      "Training until validation scores don't improve for 30 rounds\n",
      "Early stopping, best iteration is:\n",
      "[433]\tvalid_0's l1: 13.158\n",
      "Training until validation scores don't improve for 30 rounds\n",
      "Early stopping, best iteration is:\n",
      "[466]\tvalid_0's l1: 13.2257\n",
      "Training until validation scores don't improve for 30 rounds\n",
      "Did not meet early stopping. Best iteration is:\n",
      "[834]\tvalid_0's l1: 10.4304\n",
      "Training until validation scores don't improve for 30 rounds\n",
      "Early stopping, best iteration is:\n",
      "[767]\tvalid_0's l1: 10.4815\n",
      "Training until validation scores don't improve for 30 rounds\n",
      "Did not meet early stopping. Best iteration is:\n",
      "[834]\tvalid_0's l1: 10.3466\n",
      "Training until validation scores don't improve for 30 rounds\n",
      "Early stopping, best iteration is:\n",
      "[307]\tvalid_0's l1: 14.7664\n",
      "Training until validation scores don't improve for 30 rounds\n",
      "Early stopping, best iteration is:\n",
      "[303]\tvalid_0's l1: 14.2941\n",
      "Training until validation scores don't improve for 30 rounds\n",
      "Early stopping, best iteration is:\n",
      "[295]\tvalid_0's l1: 14.0188\n",
      "Training until validation scores don't improve for 30 rounds\n",
      "Did not meet early stopping. Best iteration is:\n",
      "[834]\tvalid_0's l1: 9.51149\n",
      "Training until validation scores don't improve for 30 rounds\n",
      "Did not meet early stopping. Best iteration is:\n",
      "[832]\tvalid_0's l1: 9.49192\n",
      "Training until validation scores don't improve for 30 rounds\n",
      "Did not meet early stopping. Best iteration is:\n",
      "[834]\tvalid_0's l1: 9.61779\n",
      "Training until validation scores don't improve for 30 rounds\n",
      "Did not meet early stopping. Best iteration is:\n",
      "[834]\tvalid_0's l1: 6.2242\n",
      "Training until validation scores don't improve for 30 rounds\n",
      "Did not meet early stopping. Best iteration is:\n",
      "[834]\tvalid_0's l1: 6.29035\n",
      "Training until validation scores don't improve for 30 rounds\n",
      "Did not meet early stopping. Best iteration is:\n",
      "[834]\tvalid_0's l1: 6.31369\n"
     ]
    },
    {
     "name": "stderr",
     "output_type": "stream",
     "text": [
      "[I 2025-06-27 00:38:00,637] Trial 39 finished with value: 13.464927043232432 and parameters: {'max_depth': 19, 'learning_rate': 0.012696500474651625, 'n_estimators': 834, 'min_child_weight': 2, 'subsample': 0.6406089351880104, 'colsample_bytree': 0.7500376564465077, 'reg_alpha': 0.6223383254772283, 'reg_lambda': 0.34670527027130504}. Best is trial 17 with value: 12.095756542158513.\n"
     ]
    },
    {
     "name": "stdout",
     "output_type": "stream",
     "text": [
      "Training until validation scores don't improve for 30 rounds\n",
      "Early stopping, best iteration is:\n",
      "[38]\tvalid_0's l1: 19.351\n",
      "Training until validation scores don't improve for 30 rounds\n",
      "Early stopping, best iteration is:\n",
      "[35]\tvalid_0's l1: 20.2494\n",
      "Training until validation scores don't improve for 30 rounds\n",
      "Early stopping, best iteration is:\n",
      "[31]\tvalid_0's l1: 19.0785\n",
      "Training until validation scores don't improve for 30 rounds\n",
      "Early stopping, best iteration is:\n",
      "[36]\tvalid_0's l1: 13.8605\n",
      "Training until validation scores don't improve for 30 rounds\n",
      "Early stopping, best iteration is:\n",
      "[34]\tvalid_0's l1: 14.0302\n",
      "Training until validation scores don't improve for 30 rounds\n",
      "Early stopping, best iteration is:\n",
      "[40]\tvalid_0's l1: 13.7922\n",
      "Training until validation scores don't improve for 30 rounds\n",
      "Early stopping, best iteration is:\n",
      "[111]\tvalid_0's l1: 10.3889\n",
      "Training until validation scores don't improve for 30 rounds\n",
      "Early stopping, best iteration is:\n",
      "[103]\tvalid_0's l1: 10.7421\n",
      "Training until validation scores don't improve for 30 rounds\n",
      "Early stopping, best iteration is:\n",
      "[111]\tvalid_0's l1: 10.7324\n",
      "Training until validation scores don't improve for 30 rounds\n",
      "Early stopping, best iteration is:\n",
      "[26]\tvalid_0's l1: 13.8892\n",
      "Training until validation scores don't improve for 30 rounds\n",
      "Early stopping, best iteration is:\n",
      "[27]\tvalid_0's l1: 13.3319\n",
      "Training until validation scores don't improve for 30 rounds\n",
      "Early stopping, best iteration is:\n",
      "[27]\tvalid_0's l1: 12.9568\n",
      "Training until validation scores don't improve for 30 rounds\n",
      "Early stopping, best iteration is:\n",
      "[71]\tvalid_0's l1: 9.76933\n",
      "Training until validation scores don't improve for 30 rounds\n",
      "Early stopping, best iteration is:\n",
      "[114]\tvalid_0's l1: 9.82022\n",
      "Training until validation scores don't improve for 30 rounds\n",
      "Early stopping, best iteration is:\n",
      "[63]\tvalid_0's l1: 10.0859\n",
      "Training until validation scores don't improve for 30 rounds\n",
      "Did not meet early stopping. Best iteration is:\n",
      "[494]\tvalid_0's l1: 2.35837\n",
      "Training until validation scores don't improve for 30 rounds\n",
      "Did not meet early stopping. Best iteration is:\n",
      "[494]\tvalid_0's l1: 2.35394\n",
      "Training until validation scores don't improve for 30 rounds\n",
      "Did not meet early stopping. Best iteration is:\n",
      "[494]\tvalid_0's l1: 2.43753\n"
     ]
    },
    {
     "name": "stderr",
     "output_type": "stream",
     "text": [
      "[I 2025-06-27 00:40:15,672] Trial 40 finished with value: 13.471912768578296 and parameters: {'max_depth': 17, 'learning_rate': 0.13546621664069228, 'n_estimators': 494, 'min_child_weight': 3, 'subsample': 0.810698782845923, 'colsample_bytree': 0.900029857990845, 'reg_alpha': 0.5311279817263754, 'reg_lambda': 0.7735545140408021}. Best is trial 17 with value: 12.095756542158513.\n"
     ]
    },
    {
     "name": "stdout",
     "output_type": "stream",
     "text": [
      "Training until validation scores don't improve for 30 rounds\n",
      "Early stopping, best iteration is:\n",
      "[219]\tvalid_0's l1: 18.0855\n",
      "Training until validation scores don't improve for 30 rounds\n",
      "Early stopping, best iteration is:\n",
      "[216]\tvalid_0's l1: 18.4482\n",
      "Training until validation scores don't improve for 30 rounds\n",
      "Early stopping, best iteration is:\n",
      "[193]\tvalid_0's l1: 18.1781\n",
      "Training until validation scores don't improve for 30 rounds\n",
      "Early stopping, best iteration is:\n",
      "[209]\tvalid_0's l1: 13.1774\n",
      "Training until validation scores don't improve for 30 rounds\n",
      "Early stopping, best iteration is:\n",
      "[254]\tvalid_0's l1: 13.106\n",
      "Training until validation scores don't improve for 30 rounds\n",
      "Early stopping, best iteration is:\n",
      "[228]\tvalid_0's l1: 13.3357\n",
      "Training until validation scores don't improve for 30 rounds\n",
      "Early stopping, best iteration is:\n",
      "[230]\tvalid_0's l1: 10.8349\n",
      "Training until validation scores don't improve for 30 rounds\n",
      "Early stopping, best iteration is:\n",
      "[366]\tvalid_0's l1: 10.1847\n",
      "Training until validation scores don't improve for 30 rounds\n",
      "Early stopping, best iteration is:\n",
      "[318]\tvalid_0's l1: 10.5025\n",
      "Training until validation scores don't improve for 30 rounds\n",
      "Early stopping, best iteration is:\n",
      "[198]\tvalid_0's l1: 10.2389\n",
      "Training until validation scores don't improve for 30 rounds\n",
      "Early stopping, best iteration is:\n",
      "[348]\tvalid_0's l1: 10.0966\n",
      "Training until validation scores don't improve for 30 rounds\n",
      "Early stopping, best iteration is:\n",
      "[212]\tvalid_0's l1: 10.2698\n",
      "Training until validation scores don't improve for 30 rounds\n",
      "Early stopping, best iteration is:\n",
      "[366]\tvalid_0's l1: 9.30619\n",
      "Training until validation scores don't improve for 30 rounds\n",
      "Early stopping, best iteration is:\n",
      "[402]\tvalid_0's l1: 9.13989\n",
      "Training until validation scores don't improve for 30 rounds\n",
      "Early stopping, best iteration is:\n",
      "[576]\tvalid_0's l1: 9.39297\n",
      "Training until validation scores don't improve for 30 rounds\n",
      "Did not meet early stopping. Best iteration is:\n",
      "[676]\tvalid_0's l1: 4.34701\n",
      "Training until validation scores don't improve for 30 rounds\n",
      "Did not meet early stopping. Best iteration is:\n",
      "[676]\tvalid_0's l1: 4.35754\n",
      "Training until validation scores don't improve for 30 rounds\n",
      "Did not meet early stopping. Best iteration is:\n",
      "[676]\tvalid_0's l1: 4.36005\n"
     ]
    },
    {
     "name": "stderr",
     "output_type": "stream",
     "text": [
      "[I 2025-06-27 00:44:46,121] Trial 41 finished with value: 12.286497817528574 and parameters: {'max_depth': 20, 'learning_rate': 0.030038122007656785, 'n_estimators': 676, 'min_child_weight': 1, 'subsample': 0.8677417143837626, 'colsample_bytree': 0.8381664038876625, 'reg_alpha': 0.4949763055330903, 'reg_lambda': 0.7240413566653651}. Best is trial 17 with value: 12.095756542158513.\n"
     ]
    },
    {
     "name": "stdout",
     "output_type": "stream",
     "text": [
      "Training until validation scores don't improve for 30 rounds\n",
      "Early stopping, best iteration is:\n",
      "[192]\tvalid_0's l1: 17.5662\n",
      "Training until validation scores don't improve for 30 rounds\n",
      "Early stopping, best iteration is:\n",
      "[137]\tvalid_0's l1: 17.7357\n",
      "Training until validation scores don't improve for 30 rounds\n",
      "Early stopping, best iteration is:\n",
      "[185]\tvalid_0's l1: 17.5447\n",
      "Training until validation scores don't improve for 30 rounds\n",
      "Early stopping, best iteration is:\n",
      "[181]\tvalid_0's l1: 13.2282\n",
      "Training until validation scores don't improve for 30 rounds\n",
      "Early stopping, best iteration is:\n",
      "[192]\tvalid_0's l1: 13.2201\n",
      "Training until validation scores don't improve for 30 rounds\n",
      "Early stopping, best iteration is:\n",
      "[166]\tvalid_0's l1: 13.3543\n",
      "Training until validation scores don't improve for 30 rounds\n",
      "Early stopping, best iteration is:\n",
      "[207]\tvalid_0's l1: 10.7727\n",
      "Training until validation scores don't improve for 30 rounds\n",
      "Early stopping, best iteration is:\n",
      "[315]\tvalid_0's l1: 10.1731\n",
      "Training until validation scores don't improve for 30 rounds\n",
      "Early stopping, best iteration is:\n",
      "[294]\tvalid_0's l1: 10.2294\n",
      "Training until validation scores don't improve for 30 rounds\n",
      "Early stopping, best iteration is:\n",
      "[219]\tvalid_0's l1: 10.0131\n",
      "Training until validation scores don't improve for 30 rounds\n",
      "Early stopping, best iteration is:\n",
      "[215]\tvalid_0's l1: 10.0746\n",
      "Training until validation scores don't improve for 30 rounds\n",
      "Early stopping, best iteration is:\n",
      "[238]\tvalid_0's l1: 9.90212\n",
      "Training until validation scores don't improve for 30 rounds\n",
      "Early stopping, best iteration is:\n",
      "[340]\tvalid_0's l1: 9.28317\n",
      "Training until validation scores don't improve for 30 rounds\n",
      "Early stopping, best iteration is:\n",
      "[439]\tvalid_0's l1: 9.27538\n",
      "Training until validation scores don't improve for 30 rounds\n",
      "Early stopping, best iteration is:\n",
      "[387]\tvalid_0's l1: 9.09626\n",
      "Training until validation scores don't improve for 30 rounds\n",
      "Did not meet early stopping. Best iteration is:\n",
      "[621]\tvalid_0's l1: 4.06988\n",
      "Training until validation scores don't improve for 30 rounds\n",
      "Did not meet early stopping. Best iteration is:\n",
      "[621]\tvalid_0's l1: 4.0798\n",
      "Training until validation scores don't improve for 30 rounds\n",
      "Did not meet early stopping. Best iteration is:\n",
      "[621]\tvalid_0's l1: 4.14043\n"
     ]
    },
    {
     "name": "stderr",
     "output_type": "stream",
     "text": [
      "[I 2025-06-27 00:49:08,281] Trial 42 finished with value: 12.097935531666602 and parameters: {'max_depth': 19, 'learning_rate': 0.035902664359325744, 'n_estimators': 621, 'min_child_weight': 1, 'subsample': 0.9075218886389056, 'colsample_bytree': 0.8455729460439522, 'reg_alpha': 0.31778694128061236, 'reg_lambda': 0.834969913775296}. Best is trial 17 with value: 12.095756542158513.\n"
     ]
    },
    {
     "name": "stdout",
     "output_type": "stream",
     "text": [
      "Training until validation scores don't improve for 30 rounds\n",
      "Early stopping, best iteration is:\n",
      "[120]\tvalid_0's l1: 17.7507\n",
      "Training until validation scores don't improve for 30 rounds\n",
      "Early stopping, best iteration is:\n",
      "[129]\tvalid_0's l1: 17.0179\n",
      "Training until validation scores don't improve for 30 rounds\n",
      "Early stopping, best iteration is:\n",
      "[113]\tvalid_0's l1: 17.9115\n",
      "Training until validation scores don't improve for 30 rounds\n",
      "Early stopping, best iteration is:\n",
      "[121]\tvalid_0's l1: 13.4599\n",
      "Training until validation scores don't improve for 30 rounds\n",
      "Early stopping, best iteration is:\n",
      "[107]\tvalid_0's l1: 13.4025\n",
      "Training until validation scores don't improve for 30 rounds\n",
      "Early stopping, best iteration is:\n",
      "[147]\tvalid_0's l1: 13.3265\n",
      "Training until validation scores don't improve for 30 rounds\n",
      "Early stopping, best iteration is:\n",
      "[178]\tvalid_0's l1: 10.1584\n",
      "Training until validation scores don't improve for 30 rounds\n",
      "Early stopping, best iteration is:\n",
      "[196]\tvalid_0's l1: 10.3033\n",
      "Training until validation scores don't improve for 30 rounds\n",
      "Early stopping, best iteration is:\n",
      "[225]\tvalid_0's l1: 10.5225\n",
      "Training until validation scores don't improve for 30 rounds\n",
      "Early stopping, best iteration is:\n",
      "[102]\tvalid_0's l1: 9.81036\n",
      "Training until validation scores don't improve for 30 rounds\n",
      "Early stopping, best iteration is:\n",
      "[148]\tvalid_0's l1: 9.87026\n",
      "Training until validation scores don't improve for 30 rounds\n",
      "Early stopping, best iteration is:\n",
      "[168]\tvalid_0's l1: 10.3935\n",
      "Training until validation scores don't improve for 30 rounds\n",
      "Early stopping, best iteration is:\n",
      "[241]\tvalid_0's l1: 9.3093\n",
      "Training until validation scores don't improve for 30 rounds\n",
      "Early stopping, best iteration is:\n",
      "[274]\tvalid_0's l1: 9.37117\n",
      "Training until validation scores don't improve for 30 rounds\n",
      "Early stopping, best iteration is:\n",
      "[263]\tvalid_0's l1: 9.24464\n",
      "Training until validation scores don't improve for 30 rounds\n",
      "Did not meet early stopping. Best iteration is:\n",
      "[754]\tvalid_0's l1: 2.75995\n",
      "Training until validation scores don't improve for 30 rounds\n",
      "Did not meet early stopping. Best iteration is:\n",
      "[754]\tvalid_0's l1: 2.82793\n",
      "Training until validation scores don't improve for 30 rounds\n",
      "Did not meet early stopping. Best iteration is:\n",
      "[754]\tvalid_0's l1: 2.73165\n"
     ]
    },
    {
     "name": "stderr",
     "output_type": "stream",
     "text": [
      "[I 2025-06-27 00:53:10,022] Trial 43 finished with value: 12.12349598640693 and parameters: {'max_depth': 18, 'learning_rate': 0.05853194123933309, 'n_estimators': 754, 'min_child_weight': 1, 'subsample': 0.9767251382439499, 'colsample_bytree': 0.8821853377932687, 'reg_alpha': 0.32864804208271264, 'reg_lambda': 0.8319875865298909}. Best is trial 17 with value: 12.095756542158513.\n"
     ]
    },
    {
     "name": "stdout",
     "output_type": "stream",
     "text": [
      "Training until validation scores don't improve for 30 rounds\n",
      "Early stopping, best iteration is:\n",
      "[126]\tvalid_0's l1: 19.0611\n",
      "Training until validation scores don't improve for 30 rounds\n",
      "Early stopping, best iteration is:\n",
      "[115]\tvalid_0's l1: 18.0703\n",
      "Training until validation scores don't improve for 30 rounds\n",
      "Early stopping, best iteration is:\n",
      "[103]\tvalid_0's l1: 18.8274\n",
      "Training until validation scores don't improve for 30 rounds\n",
      "Early stopping, best iteration is:\n",
      "[89]\tvalid_0's l1: 13.8211\n",
      "Training until validation scores don't improve for 30 rounds\n",
      "Early stopping, best iteration is:\n",
      "[92]\tvalid_0's l1: 13.6396\n",
      "Training until validation scores don't improve for 30 rounds\n",
      "Early stopping, best iteration is:\n",
      "[103]\tvalid_0's l1: 13.5457\n",
      "Training until validation scores don't improve for 30 rounds\n",
      "Early stopping, best iteration is:\n",
      "[163]\tvalid_0's l1: 10.1453\n",
      "Training until validation scores don't improve for 30 rounds\n",
      "Early stopping, best iteration is:\n",
      "[180]\tvalid_0's l1: 10.1198\n",
      "Training until validation scores don't improve for 30 rounds\n",
      "Early stopping, best iteration is:\n",
      "[146]\tvalid_0's l1: 10.3605\n",
      "Training until validation scores don't improve for 30 rounds\n",
      "Early stopping, best iteration is:\n",
      "[170]\tvalid_0's l1: 9.64411\n",
      "Training until validation scores don't improve for 30 rounds\n",
      "Early stopping, best iteration is:\n",
      "[279]\tvalid_0's l1: 9.89606\n",
      "Training until validation scores don't improve for 30 rounds\n",
      "Early stopping, best iteration is:\n",
      "[140]\tvalid_0's l1: 10.0918\n",
      "Training until validation scores don't improve for 30 rounds\n",
      "Early stopping, best iteration is:\n",
      "[146]\tvalid_0's l1: 9.40918\n",
      "Training until validation scores don't improve for 30 rounds\n",
      "Early stopping, best iteration is:\n",
      "[216]\tvalid_0's l1: 9.33217\n",
      "Training until validation scores don't improve for 30 rounds\n",
      "Early stopping, best iteration is:\n",
      "[217]\tvalid_0's l1: 9.41777\n",
      "Training until validation scores don't improve for 30 rounds\n",
      "Did not meet early stopping. Best iteration is:\n",
      "[753]\tvalid_0's l1: 2.68819\n",
      "Training until validation scores don't improve for 30 rounds\n",
      "Did not meet early stopping. Best iteration is:\n",
      "[753]\tvalid_0's l1: 2.5587\n",
      "Training until validation scores don't improve for 30 rounds\n",
      "Did not meet early stopping. Best iteration is:\n",
      "[753]\tvalid_0's l1: 2.68218\n"
     ]
    },
    {
     "name": "stderr",
     "output_type": "stream",
     "text": [
      "[I 2025-06-27 00:57:16,162] Trial 44 finished with value: 12.358789982144517 and parameters: {'max_depth': 19, 'learning_rate': 0.06448038936647993, 'n_estimators': 753, 'min_child_weight': 2, 'subsample': 0.9860283870700959, 'colsample_bytree': 0.9605107117731484, 'reg_alpha': 0.33644244669160894, 'reg_lambda': 0.9091018037737493}. Best is trial 17 with value: 12.095756542158513.\n"
     ]
    },
    {
     "name": "stdout",
     "output_type": "stream",
     "text": [
      "Training until validation scores don't improve for 30 rounds\n",
      "Early stopping, best iteration is:\n",
      "[126]\tvalid_0's l1: 17.4436\n",
      "Training until validation scores don't improve for 30 rounds\n",
      "Early stopping, best iteration is:\n",
      "[106]\tvalid_0's l1: 17.3112\n",
      "Training until validation scores don't improve for 30 rounds\n",
      "Early stopping, best iteration is:\n",
      "[101]\tvalid_0's l1: 18.0299\n",
      "Training until validation scores don't improve for 30 rounds\n",
      "Early stopping, best iteration is:\n",
      "[143]\tvalid_0's l1: 13.3999\n",
      "Training until validation scores don't improve for 30 rounds\n",
      "Early stopping, best iteration is:\n",
      "[133]\tvalid_0's l1: 13.4025\n",
      "Training until validation scores don't improve for 30 rounds\n",
      "Early stopping, best iteration is:\n",
      "[129]\tvalid_0's l1: 13.454\n",
      "Training until validation scores don't improve for 30 rounds\n",
      "Early stopping, best iteration is:\n",
      "[207]\tvalid_0's l1: 10.1786\n",
      "Training until validation scores don't improve for 30 rounds\n",
      "Early stopping, best iteration is:\n",
      "[156]\tvalid_0's l1: 10.2176\n",
      "Training until validation scores don't improve for 30 rounds\n",
      "Early stopping, best iteration is:\n",
      "[186]\tvalid_0's l1: 10.3068\n",
      "Training until validation scores don't improve for 30 rounds\n",
      "Early stopping, best iteration is:\n",
      "[129]\tvalid_0's l1: 9.51129\n",
      "Training until validation scores don't improve for 30 rounds\n",
      "Early stopping, best iteration is:\n",
      "[150]\tvalid_0's l1: 10.0328\n",
      "Training until validation scores don't improve for 30 rounds\n",
      "Early stopping, best iteration is:\n",
      "[172]\tvalid_0's l1: 10.1433\n",
      "Training until validation scores don't improve for 30 rounds\n",
      "Early stopping, best iteration is:\n",
      "[314]\tvalid_0's l1: 9.20602\n",
      "Training until validation scores don't improve for 30 rounds\n",
      "Early stopping, best iteration is:\n",
      "[307]\tvalid_0's l1: 9.19085\n",
      "Training until validation scores don't improve for 30 rounds\n",
      "Early stopping, best iteration is:\n",
      "[251]\tvalid_0's l1: 9.2148\n",
      "Training until validation scores don't improve for 30 rounds\n",
      "Did not meet early stopping. Best iteration is:\n",
      "[936]\tvalid_0's l1: 2.36986\n",
      "Training until validation scores don't improve for 30 rounds\n",
      "Did not meet early stopping. Best iteration is:\n",
      "[936]\tvalid_0's l1: 2.41051\n",
      "Training until validation scores don't improve for 30 rounds\n",
      "Did not meet early stopping. Best iteration is:\n",
      "[936]\tvalid_0's l1: 2.34831\n"
     ]
    },
    {
     "name": "stderr",
     "output_type": "stream",
     "text": [
      "[I 2025-06-27 01:01:53,293] Trial 45 finished with value: 12.069536772395356 and parameters: {'max_depth': 17, 'learning_rate': 0.05890388302112587, 'n_estimators': 936, 'min_child_weight': 1, 'subsample': 0.9644425566679116, 'colsample_bytree': 0.8874372579769764, 'reg_alpha': 0.289959077780367, 'reg_lambda': 0.9107294720478487}. Best is trial 45 with value: 12.069536772395356.\n"
     ]
    },
    {
     "name": "stdout",
     "output_type": "stream",
     "text": [
      "Training until validation scores don't improve for 30 rounds\n",
      "Early stopping, best iteration is:\n",
      "[134]\tvalid_0's l1: 19.5112\n",
      "Training until validation scores don't improve for 30 rounds\n",
      "Early stopping, best iteration is:\n",
      "[89]\tvalid_0's l1: 19.6791\n",
      "Training until validation scores don't improve for 30 rounds\n",
      "Early stopping, best iteration is:\n",
      "[170]\tvalid_0's l1: 19.0915\n",
      "Training until validation scores don't improve for 30 rounds\n",
      "Early stopping, best iteration is:\n",
      "[105]\tvalid_0's l1: 13.2956\n",
      "Training until validation scores don't improve for 30 rounds\n",
      "Early stopping, best iteration is:\n",
      "[95]\tvalid_0's l1: 13.418\n",
      "Training until validation scores don't improve for 30 rounds\n",
      "Early stopping, best iteration is:\n",
      "[93]\tvalid_0's l1: 13.1066\n",
      "Training until validation scores don't improve for 30 rounds\n",
      "Early stopping, best iteration is:\n",
      "[212]\tvalid_0's l1: 10.042\n",
      "Training until validation scores don't improve for 30 rounds\n",
      "Early stopping, best iteration is:\n",
      "[287]\tvalid_0's l1: 10.1238\n",
      "Training until validation scores don't improve for 30 rounds\n",
      "Early stopping, best iteration is:\n",
      "[204]\tvalid_0's l1: 10.9234\n",
      "Training until validation scores don't improve for 30 rounds\n",
      "Early stopping, best iteration is:\n",
      "[163]\tvalid_0's l1: 10.0945\n",
      "Training until validation scores don't improve for 30 rounds\n",
      "Early stopping, best iteration is:\n",
      "[163]\tvalid_0's l1: 9.6227\n",
      "Training until validation scores don't improve for 30 rounds\n",
      "Early stopping, best iteration is:\n",
      "[67]\tvalid_0's l1: 13.6788\n",
      "Training until validation scores don't improve for 30 rounds\n",
      "Early stopping, best iteration is:\n",
      "[297]\tvalid_0's l1: 9.5279\n",
      "Training until validation scores don't improve for 30 rounds\n",
      "Early stopping, best iteration is:\n",
      "[317]\tvalid_0's l1: 9.41331\n",
      "Training until validation scores don't improve for 30 rounds\n",
      "Early stopping, best iteration is:\n",
      "[252]\tvalid_0's l1: 9.38417\n",
      "Training until validation scores don't improve for 30 rounds\n",
      "Did not meet early stopping. Best iteration is:\n",
      "[998]\tvalid_0's l1: 2.44005\n",
      "Training until validation scores don't improve for 30 rounds\n",
      "Did not meet early stopping. Best iteration is:\n",
      "[998]\tvalid_0's l1: 2.45935\n",
      "Training until validation scores don't improve for 30 rounds\n",
      "Did not meet early stopping. Best iteration is:\n",
      "[998]\tvalid_0's l1: 2.43085\n"
     ]
    },
    {
     "name": "stderr",
     "output_type": "stream",
     "text": [
      "[I 2025-06-27 01:06:47,209] Trial 46 finished with value: 12.727497515102089 and parameters: {'max_depth': 16, 'learning_rate': 0.0554418226974003, 'n_estimators': 998, 'min_child_weight': 3, 'subsample': 0.9605048220614706, 'colsample_bytree': 0.9766640330624696, 'reg_alpha': 0.2771066580095495, 'reg_lambda': 0.8505701102820129}. Best is trial 45 with value: 12.069536772395356.\n"
     ]
    },
    {
     "name": "stdout",
     "output_type": "stream",
     "text": [
      "Training until validation scores don't improve for 30 rounds\n",
      "Early stopping, best iteration is:\n",
      "[118]\tvalid_0's l1: 18.0992\n",
      "Training until validation scores don't improve for 30 rounds\n",
      "Early stopping, best iteration is:\n",
      "[97]\tvalid_0's l1: 19.0537\n",
      "Training until validation scores don't improve for 30 rounds\n",
      "Early stopping, best iteration is:\n",
      "[146]\tvalid_0's l1: 18.1671\n",
      "Training until validation scores don't improve for 30 rounds\n",
      "Early stopping, best iteration is:\n",
      "[81]\tvalid_0's l1: 13.4578\n",
      "Training until validation scores don't improve for 30 rounds\n",
      "Early stopping, best iteration is:\n",
      "[84]\tvalid_0's l1: 13.0406\n",
      "Training until validation scores don't improve for 30 rounds\n",
      "Early stopping, best iteration is:\n",
      "[89]\tvalid_0's l1: 13.2412\n",
      "Training until validation scores don't improve for 30 rounds\n",
      "Early stopping, best iteration is:\n",
      "[186]\tvalid_0's l1: 10.7377\n",
      "Training until validation scores don't improve for 30 rounds\n",
      "Early stopping, best iteration is:\n",
      "[136]\tvalid_0's l1: 10.6562\n",
      "Training until validation scores don't improve for 30 rounds\n",
      "Early stopping, best iteration is:\n",
      "[184]\tvalid_0's l1: 10.3677\n",
      "Training until validation scores don't improve for 30 rounds\n",
      "Early stopping, best iteration is:\n",
      "[115]\tvalid_0's l1: 10.3802\n",
      "Training until validation scores don't improve for 30 rounds\n",
      "Early stopping, best iteration is:\n",
      "[59]\tvalid_0's l1: 13.4001\n",
      "Training until validation scores don't improve for 30 rounds\n",
      "Early stopping, best iteration is:\n",
      "[58]\tvalid_0's l1: 12.2482\n",
      "Training until validation scores don't improve for 30 rounds\n",
      "Early stopping, best iteration is:\n",
      "[150]\tvalid_0's l1: 9.85826\n",
      "Training until validation scores don't improve for 30 rounds\n",
      "Early stopping, best iteration is:\n",
      "[143]\tvalid_0's l1: 9.80016\n",
      "Training until validation scores don't improve for 30 rounds\n",
      "Early stopping, best iteration is:\n",
      "[129]\tvalid_0's l1: 10.0467\n",
      "Training until validation scores don't improve for 30 rounds\n",
      "Did not meet early stopping. Best iteration is:\n",
      "[952]\tvalid_0's l1: 2.31138\n",
      "Training until validation scores don't improve for 30 rounds\n",
      "Did not meet early stopping. Best iteration is:\n",
      "[952]\tvalid_0's l1: 2.24829\n",
      "Training until validation scores don't improve for 30 rounds\n",
      "Did not meet early stopping. Best iteration is:\n",
      "[952]\tvalid_0's l1: 2.28626\n"
     ]
    },
    {
     "name": "stderr",
     "output_type": "stream",
     "text": [
      "[I 2025-06-27 01:10:13,196] Trial 47 finished with value: 12.836990191035145 and parameters: {'max_depth': 6, 'learning_rate': 0.07485827192018599, 'n_estimators': 952, 'min_child_weight': 2, 'subsample': 0.9142255426982798, 'colsample_bytree': 0.9374431134521093, 'reg_alpha': 0.3102281617865304, 'reg_lambda': 0.9366596725718209}. Best is trial 45 with value: 12.069536772395356.\n"
     ]
    },
    {
     "name": "stdout",
     "output_type": "stream",
     "text": [
      "Training until validation scores don't improve for 30 rounds\n",
      "Early stopping, best iteration is:\n",
      "[31]\tvalid_0's l1: 33.1954\n",
      "Training until validation scores don't improve for 30 rounds\n",
      "Early stopping, best iteration is:\n",
      "[72]\tvalid_0's l1: 31.7913\n",
      "Training until validation scores don't improve for 30 rounds\n",
      "Early stopping, best iteration is:\n",
      "[23]\tvalid_0's l1: 29.4275\n",
      "Training until validation scores don't improve for 30 rounds\n",
      "Early stopping, best iteration is:\n",
      "[50]\tvalid_0's l1: 14.2193\n",
      "Training until validation scores don't improve for 30 rounds\n",
      "Early stopping, best iteration is:\n",
      "[50]\tvalid_0's l1: 14.6992\n",
      "Training until validation scores don't improve for 30 rounds\n",
      "Early stopping, best iteration is:\n",
      "[48]\tvalid_0's l1: 14.4128\n",
      "Training until validation scores don't improve for 30 rounds\n",
      "Early stopping, best iteration is:\n",
      "[120]\tvalid_0's l1: 11.2272\n",
      "Training until validation scores don't improve for 30 rounds\n",
      "Early stopping, best iteration is:\n",
      "[159]\tvalid_0's l1: 11.5128\n",
      "Training until validation scores don't improve for 30 rounds\n",
      "Early stopping, best iteration is:\n",
      "[202]\tvalid_0's l1: 11.2486\n",
      "Training until validation scores don't improve for 30 rounds\n",
      "Early stopping, best iteration is:\n",
      "[50]\tvalid_0's l1: 15.2017\n",
      "Training until validation scores don't improve for 30 rounds\n",
      "Early stopping, best iteration is:\n",
      "[69]\tvalid_0's l1: 11.0905\n",
      "Training until validation scores don't improve for 30 rounds\n",
      "Early stopping, best iteration is:\n",
      "[32]\tvalid_0's l1: 14.8347\n",
      "Training until validation scores don't improve for 30 rounds\n",
      "Early stopping, best iteration is:\n",
      "[137]\tvalid_0's l1: 10.3828\n",
      "Training until validation scores don't improve for 30 rounds\n",
      "Early stopping, best iteration is:\n",
      "[155]\tvalid_0's l1: 10.2906\n",
      "Training until validation scores don't improve for 30 rounds\n",
      "Early stopping, best iteration is:\n",
      "[145]\tvalid_0's l1: 10.3882\n",
      "Training until validation scores don't improve for 30 rounds\n",
      "Did not meet early stopping. Best iteration is:\n",
      "[893]\tvalid_0's l1: 2.15977\n",
      "Training until validation scores don't improve for 30 rounds\n",
      "Did not meet early stopping. Best iteration is:\n",
      "[893]\tvalid_0's l1: 2.09152\n",
      "Training until validation scores don't improve for 30 rounds\n",
      "Did not meet early stopping. Best iteration is:\n",
      "[893]\tvalid_0's l1: 2.1106\n"
     ]
    },
    {
     "name": "stderr",
     "output_type": "stream",
     "text": [
      "[I 2025-06-27 01:13:40,991] Trial 48 finished with value: 16.2614951510172 and parameters: {'max_depth': 17, 'learning_rate': 0.10244215332627643, 'n_estimators': 893, 'min_child_weight': 10, 'subsample': 0.977538264840095, 'colsample_bytree': 0.8887177203699564, 'reg_alpha': 0.19998346486682367, 'reg_lambda': 0.9999590939522055}. Best is trial 45 with value: 12.069536772395356.\n"
     ]
    },
    {
     "name": "stdout",
     "output_type": "stream",
     "text": [
      "Training until validation scores don't improve for 30 rounds\n",
      "Early stopping, best iteration is:\n",
      "[150]\tvalid_0's l1: 17.2185\n",
      "Training until validation scores don't improve for 30 rounds\n",
      "Early stopping, best iteration is:\n",
      "[111]\tvalid_0's l1: 18.3416\n",
      "Training until validation scores don't improve for 30 rounds\n",
      "Early stopping, best iteration is:\n",
      "[137]\tvalid_0's l1: 17.3062\n",
      "Training until validation scores don't improve for 30 rounds\n",
      "Early stopping, best iteration is:\n",
      "[128]\tvalid_0's l1: 13.492\n",
      "Training until validation scores don't improve for 30 rounds\n",
      "Early stopping, best iteration is:\n",
      "[120]\tvalid_0's l1: 13.4501\n",
      "Training until validation scores don't improve for 30 rounds\n",
      "Early stopping, best iteration is:\n",
      "[124]\tvalid_0's l1: 13.2315\n",
      "Training until validation scores don't improve for 30 rounds\n",
      "Early stopping, best iteration is:\n",
      "[175]\tvalid_0's l1: 10.489\n",
      "Training until validation scores don't improve for 30 rounds\n",
      "Early stopping, best iteration is:\n",
      "[188]\tvalid_0's l1: 10.1805\n",
      "Training until validation scores don't improve for 30 rounds\n",
      "Early stopping, best iteration is:\n",
      "[167]\tvalid_0's l1: 10.6507\n",
      "Training until validation scores don't improve for 30 rounds\n",
      "Early stopping, best iteration is:\n",
      "[138]\tvalid_0's l1: 10.4966\n",
      "Training until validation scores don't improve for 30 rounds\n",
      "Early stopping, best iteration is:\n",
      "[153]\tvalid_0's l1: 9.88537\n",
      "Training until validation scores don't improve for 30 rounds\n",
      "Early stopping, best iteration is:\n",
      "[129]\tvalid_0's l1: 9.79153\n",
      "Training until validation scores don't improve for 30 rounds\n",
      "Early stopping, best iteration is:\n",
      "[239]\tvalid_0's l1: 9.05004\n",
      "Training until validation scores don't improve for 30 rounds\n",
      "Early stopping, best iteration is:\n",
      "[278]\tvalid_0's l1: 9.21587\n",
      "Training until validation scores don't improve for 30 rounds\n",
      "Early stopping, best iteration is:\n",
      "[239]\tvalid_0's l1: 9.42021\n",
      "Training until validation scores don't improve for 30 rounds\n",
      "Did not meet early stopping. Best iteration is:\n",
      "[866]\tvalid_0's l1: 2.628\n",
      "Training until validation scores don't improve for 30 rounds\n",
      "Did not meet early stopping. Best iteration is:\n",
      "[866]\tvalid_0's l1: 2.68949\n",
      "Training until validation scores don't improve for 30 rounds\n",
      "Did not meet early stopping. Best iteration is:\n",
      "[866]\tvalid_0's l1: 2.69442\n"
     ]
    },
    {
     "name": "stderr",
     "output_type": "stream",
     "text": [
      "[I 2025-06-27 01:18:06,994] Trial 49 finished with value: 12.147985477221408 and parameters: {'max_depth': 14, 'learning_rate': 0.05654435777828026, 'n_estimators': 866, 'min_child_weight': 1, 'subsample': 0.9416843983685306, 'colsample_bytree': 0.8875278728669203, 'reg_alpha': 0.13111978413888947, 'reg_lambda': 0.8274027056937}. Best is trial 45 with value: 12.069536772395356.\n"
     ]
    },
    {
     "name": "stdout",
     "output_type": "stream",
     "text": [
      "\n",
      "🏆 Mejores parámetros:\n",
      "max_depth: 17\n",
      "learning_rate: 0.05890388302112587\n",
      "n_estimators: 936\n",
      "min_child_weight: 1\n",
      "subsample: 0.9644425566679116\n",
      "colsample_bytree: 0.8874372579769764\n",
      "reg_alpha: 0.289959077780367\n",
      "reg_lambda: 0.9107294720478487\n",
      "boosting_type: gbdt\n",
      "objective: regression\n",
      "metric: mae\n",
      "verbosity: -1\n",
      "deterministic: True\n",
      "force_col_wise: True\n",
      "\n",
      "Entrenando modelo final...\n",
      "Training until validation scores don't improve for 30 rounds\n",
      "Did not meet early stopping. Best iteration is:\n",
      "[936]\tvalid_0's l1: 2.44808\n",
      "Training until validation scores don't improve for 30 rounds\n",
      "Did not meet early stopping. Best iteration is:\n",
      "[936]\tvalid_0's l1: 2.41836\n",
      "Training until validation scores don't improve for 30 rounds\n",
      "Did not meet early stopping. Best iteration is:\n",
      "[936]\tvalid_0's l1: 2.37154\n",
      "Ensemble MAE Val: 2.3305\n",
      "\n",
      "🎯 MAE Test Ensemble: 2.4000\n",
      "\n",
      "Top 5 mejores trials:\n",
      "1. MAE: 12.0695\n",
      "2. MAE: 12.0958\n",
      "3. MAE: 12.0961\n",
      "4. MAE: 12.0979\n",
      "5. MAE: 12.1235\n"
     ]
    }
   ],
   "source": [
    "study, models, results = model_lgb.main_entrenar(df, VERSION=\"v12\")"
   ]
  },
  {
   "cell_type": "code",
   "execution_count": 12,
   "id": "562ed0c1",
   "metadata": {},
   "outputs": [
    {
     "name": "stdout",
     "output_type": "stream",
     "text": [
      "📊 MAE Future: 30.4279\n"
     ]
    }
   ],
   "source": [
    "from sklearn.metrics import mean_squared_error, mean_absolute_error\n",
    "\n",
    "# Supongamos que querés predecir para los períodos 202011 y 202012\n",
    "periodos_future = [201911, 201912]\n",
    "df_future = df[df['periodo'].isin(periodos_future)].copy()\n",
    "\n",
    "# Asegurate de tener las mismas columnas que en entrenamiento\n",
    "features = [col for col in df.columns if col not in ['target']]\n",
    "\n",
    "# Predecir\n",
    "future_preds = model_lgb.predict_with_ensemble(models, df_future, features)\n",
    "\n",
    "# Si querés evaluar el MAE (solo si tenés target en esos períodos)\n",
    "if 'target' in df_future:\n",
    "    mae_future = mean_absolute_error(df_future['target'], future_preds)\n",
    "    print(f\"📊 MAE Future: {mae_future:.4f}\")\n",
    "\n",
    "# Guardar las predicciones\n",
    "df_future['pred_ensemble'] = future_preds"
   ]
  },
  {
   "cell_type": "code",
   "execution_count": 13,
   "id": "bca64c61",
   "metadata": {},
   "outputs": [],
   "source": [
    "productos_ok = pd.read_csv(\"https://storage.googleapis.com/open-courses/austral2025-af91/labo3v/product_id_apredecir201912.txt\", sep=\"\\t\")\n",
    "df_future = df_future[df_future['periodo'] == 201912]\n",
    "df_future = df_future[df_future['product_id'].isin(productos_ok['product_id'].unique())]\n",
    "df_future = df_future[['product_id', 'pred_ensemble']]\n",
    "df_future.rename(columns={'pred_ensemble': 'tn'}, inplace=True)\n",
    "\n"
   ]
  },
  {
   "cell_type": "code",
   "execution_count": 16,
   "id": "7efbc12b",
   "metadata": {},
   "outputs": [
    {
     "data": {
      "application/vnd.microsoft.datawrangler.viewer.v0+json": {
       "columns": [
        {
         "name": "index",
         "rawType": "int64",
         "type": "integer"
        },
        {
         "name": "product_id",
         "rawType": "int64",
         "type": "integer"
        },
        {
         "name": "tn",
         "rawType": "float64",
         "type": "float"
        }
       ],
       "ref": "7761d28c-b297-4dc2-a48f-59ed47c510dc",
       "rows": [
        [
         "30814",
         "20381",
         "-0.9708890142350306"
        ],
        [
         "30947",
         "20565",
         "-0.8842632468286391"
        ],
        [
         "30982",
         "20612",
         "-3.2058403164663467"
        ],
        [
         "30988",
         "20622",
         "-1.4843494882772788"
        ],
        [
         "31009",
         "20652",
         "-3.7685676756869753"
        ],
        [
         "31077",
         "20743",
         "-0.21585376539742904"
        ],
        [
         "31085",
         "20756",
         "-0.932068728680628"
        ],
        [
         "31086",
         "20757",
         "-0.3187589792823508"
        ],
        [
         "31095",
         "20771",
         "-0.5058056972953985"
        ],
        [
         "31107",
         "20785",
         "-0.9794788344841375"
        ],
        [
         "31109",
         "20788",
         "-0.2855675166116968"
        ],
        [
         "31112",
         "20793",
         "-5.23186806158174"
        ],
        [
         "31120",
         "20802",
         "-0.3689894745179912"
        ],
        [
         "31129",
         "20818",
         "-0.7096755531954418"
        ],
        [
         "31139",
         "20831",
         "-4.929558239858096"
        ],
        [
         "31148",
         "20846",
         "-0.11962162957718898"
        ],
        [
         "31163",
         "20877",
         "-0.17059811057325305"
        ],
        [
         "31170",
         "20886",
         "-1.915082255543209"
        ],
        [
         "31177",
         "20904",
         "-0.04312613967171197"
        ],
        [
         "31178",
         "20906",
         "-0.046292395142969435"
        ],
        [
         "31184",
         "20914",
         "-0.8563696700452771"
        ],
        [
         "31190",
         "20925",
         "-0.15456190632736053"
        ],
        [
         "31200",
         "20941",
         "-0.6290812660112148"
        ],
        [
         "31204",
         "20947",
         "-0.6484151107309225"
        ],
        [
         "31210",
         "20956",
         "-0.42438537305846175"
        ],
        [
         "31213",
         "20961",
         "-0.332855677450201"
        ],
        [
         "31215",
         "20965",
         "-0.2235063389731651"
        ],
        [
         "31219",
         "20970",
         "-0.03364010587995311"
        ],
        [
         "31235",
         "20997",
         "-0.7227511714170006"
        ],
        [
         "31236",
         "21001",
         "-0.39626820064922336"
        ],
        [
         "31241",
         "21008",
         "-1.676870120622997"
        ],
        [
         "31243",
         "21014",
         "-0.19964147844915206"
        ],
        [
         "31244",
         "21016",
         "-1.6327370981285292"
        ],
        [
         "31245",
         "21022",
         "-0.29836055255196"
        ],
        [
         "31247",
         "21024",
         "-1.5070174430274001"
        ],
        [
         "31249",
         "21028",
         "-1.4858088792941404"
        ],
        [
         "31252",
         "21033",
         "-2.145174367110443"
        ],
        [
         "31253",
         "21034",
         "-0.8530220053270968"
        ],
        [
         "31255",
         "21037",
         "-0.18869564037510708"
        ],
        [
         "31256",
         "21038",
         "-0.5672078329781919"
        ],
        [
         "31259",
         "21042",
         "-0.27161697985968997"
        ],
        [
         "31261",
         "21048",
         "-1.4263939645787704"
        ],
        [
         "31262",
         "21049",
         "-1.0571049105770707"
        ],
        [
         "31263",
         "21055",
         "-0.19168610251476462"
        ],
        [
         "31265",
         "21057",
         "-0.2073523276133269"
        ],
        [
         "31269",
         "21065",
         "-1.048274135680577"
        ],
        [
         "31274",
         "21077",
         "-1.0313681687565888"
        ],
        [
         "31275",
         "21079",
         "-2.1042779064301196"
        ],
        [
         "31278",
         "21086",
         "-2.4089951700066017"
        ],
        [
         "31280",
         "21088",
         "-0.7678619097683068"
        ]
       ],
       "shape": {
        "columns": 2,
        "rows": 85
       }
      },
      "text/html": [
       "<div>\n",
       "<style scoped>\n",
       "    .dataframe tbody tr th:only-of-type {\n",
       "        vertical-align: middle;\n",
       "    }\n",
       "\n",
       "    .dataframe tbody tr th {\n",
       "        vertical-align: top;\n",
       "    }\n",
       "\n",
       "    .dataframe thead th {\n",
       "        text-align: right;\n",
       "    }\n",
       "</style>\n",
       "<table border=\"1\" class=\"dataframe\">\n",
       "  <thead>\n",
       "    <tr style=\"text-align: right;\">\n",
       "      <th></th>\n",
       "      <th>product_id</th>\n",
       "      <th>tn</th>\n",
       "    </tr>\n",
       "  </thead>\n",
       "  <tbody>\n",
       "    <tr>\n",
       "      <th>30814</th>\n",
       "      <td>20381</td>\n",
       "      <td>-0.970889</td>\n",
       "    </tr>\n",
       "    <tr>\n",
       "      <th>30947</th>\n",
       "      <td>20565</td>\n",
       "      <td>-0.884263</td>\n",
       "    </tr>\n",
       "    <tr>\n",
       "      <th>30982</th>\n",
       "      <td>20612</td>\n",
       "      <td>-3.205840</td>\n",
       "    </tr>\n",
       "    <tr>\n",
       "      <th>30988</th>\n",
       "      <td>20622</td>\n",
       "      <td>-1.484349</td>\n",
       "    </tr>\n",
       "    <tr>\n",
       "      <th>31009</th>\n",
       "      <td>20652</td>\n",
       "      <td>-3.768568</td>\n",
       "    </tr>\n",
       "    <tr>\n",
       "      <th>...</th>\n",
       "      <td>...</td>\n",
       "      <td>...</td>\n",
       "    </tr>\n",
       "    <tr>\n",
       "      <th>31353</th>\n",
       "      <td>21259</td>\n",
       "      <td>-1.886019</td>\n",
       "    </tr>\n",
       "    <tr>\n",
       "      <th>31354</th>\n",
       "      <td>21262</td>\n",
       "      <td>-2.179109</td>\n",
       "    </tr>\n",
       "    <tr>\n",
       "      <th>31355</th>\n",
       "      <td>21263</td>\n",
       "      <td>-2.380752</td>\n",
       "    </tr>\n",
       "    <tr>\n",
       "      <th>31357</th>\n",
       "      <td>21265</td>\n",
       "      <td>-0.635106</td>\n",
       "    </tr>\n",
       "    <tr>\n",
       "      <th>31359</th>\n",
       "      <td>21267</td>\n",
       "      <td>-3.725477</td>\n",
       "    </tr>\n",
       "  </tbody>\n",
       "</table>\n",
       "<p>85 rows × 2 columns</p>\n",
       "</div>"
      ],
      "text/plain": [
       "       product_id        tn\n",
       "30814       20381 -0.970889\n",
       "30947       20565 -0.884263\n",
       "30982       20612 -3.205840\n",
       "30988       20622 -1.484349\n",
       "31009       20652 -3.768568\n",
       "...           ...       ...\n",
       "31353       21259 -1.886019\n",
       "31354       21262 -2.179109\n",
       "31355       21263 -2.380752\n",
       "31357       21265 -0.635106\n",
       "31359       21267 -3.725477\n",
       "\n",
       "[85 rows x 2 columns]"
      ]
     },
     "execution_count": 16,
     "metadata": {},
     "output_type": "execute_result"
    }
   ],
   "source": [
    "df_future[df_future['tn'] < 0]"
   ]
  },
  {
   "cell_type": "code",
   "execution_count": null,
   "id": "6b0bdec2",
   "metadata": {},
   "outputs": [
    {
     "data": {
      "application/vnd.microsoft.datawrangler.viewer.v0+json": {
       "columns": [
        {
         "name": "index",
         "rawType": "int64",
         "type": "integer"
        },
        {
         "name": "product_id",
         "rawType": "int64",
         "type": "integer"
        },
        {
         "name": "tn_x",
         "rawType": "float64",
         "type": "float"
        },
        {
         "name": "tn_y",
         "rawType": "float64",
         "type": "float"
        }
       ],
       "ref": "f2ef7ed5-978a-418a-b654-b0c39d8b1f51",
       "rows": [
        [
         "0",
         "20001",
         "1485.1645263489897",
         "1454.73272"
        ],
        [
         "1",
         "20002",
         "1073.1277656909842",
         "1175.4371416666665"
        ],
        [
         "2",
         "20003",
         "632.6489873540067",
         "784.9764074999999"
        ],
        [
         "3",
         "20004",
         "512.7580379653672",
         "627.2153283333333"
        ],
        [
         "4",
         "20005",
         "638.5823216152058",
         "668.2701041666667"
        ],
        [
         "5",
         "20006",
         "410.2186165846747",
         "478.6137083333333"
        ],
        [
         "6",
         "20007",
         "381.16320548305004",
         "434.1378058333333"
        ],
        [
         "7",
         "20008",
         "338.7603136062614",
         "422.0481833333333"
        ],
        [
         "8",
         "20009",
         "556.6177377204821",
         "541.3225866666667"
        ],
        [
         "9",
         "20010",
         "397.71055845698487",
         "429.5746608333333"
        ],
        [
         "10",
         "20011",
         "364.83062251778284",
         "377.63544"
        ],
        [
         "11",
         "20012",
         "287.0885783399347",
         "332.228885"
        ],
        [
         "12",
         "20013",
         "334.83265577776893",
         "416.06292"
        ],
        [
         "13",
         "20014",
         "383.4540520019864",
         "414.70520000000005"
        ],
        [
         "14",
         "20015",
         "296.2029476148448",
         "369.02365166666664"
        ],
        [
         "15",
         "20016",
         "315.17043252617134",
         "288.51459"
        ],
        [
         "16",
         "20017",
         "241.40962049321146",
         "287.38575166666664"
        ],
        [
         "17",
         "20018",
         "247.9834371877993",
         "275.44511083333333"
        ],
        [
         "18",
         "20019",
         "199.93938240028797",
         "306.52162749999997"
        ],
        [
         "19",
         "20020",
         "234.41555124945168",
         "280.10235416666666"
        ],
        [
         "20",
         "20021",
         "210.8015942315077",
         "259.495665"
        ],
        [
         "21",
         "20022",
         "211.23348773805233",
         "279.20400333333333"
        ],
        [
         "22",
         "20023",
         "175.14415721655777",
         "266.90118"
        ],
        [
         "23",
         "20024",
         "164.70311601181794",
         "222.11553"
        ],
        [
         "24",
         "20025",
         "195.30822141497444",
         "222.86218499999998"
        ],
        [
         "25",
         "20026",
         "287.59940350444026",
         "237.10623833333332"
        ],
        [
         "26",
         "20027",
         "248.1758277133198",
         "230.0149175"
        ],
        [
         "27",
         "20028",
         "157.10811130562524",
         "213.228015"
        ],
        [
         "28",
         "20029",
         "158.43291272114985",
         "185.16274833333333"
        ],
        [
         "29",
         "20030",
         "79.55594344702247",
         "127.85045000000001"
        ],
        [
         "30",
         "20031",
         "192.0316415574371",
         "185.90788666666666"
        ],
        [
         "31",
         "20032",
         "358.1665183977984",
         "590.33366"
        ],
        [
         "32",
         "20033",
         "132.30936405128412",
         "176.0324475"
        ],
        [
         "33",
         "20035",
         "129.98650560988574",
         "172.19100333333333"
        ],
        [
         "34",
         "20037",
         "138.1756830416756",
         "179.65005833333336"
        ],
        [
         "35",
         "20038",
         "138.9921703647162",
         "175.941565"
        ],
        [
         "36",
         "20039",
         "139.37250732057865",
         "144.37351750000002"
        ],
        [
         "37",
         "20041",
         "119.22338201861271",
         "144.23799083333333"
        ],
        [
         "38",
         "20042",
         "180.7164108893005",
         "174.63574083333333"
        ],
        [
         "39",
         "20043",
         "121.38904343896986",
         "137.17993833333333"
        ],
        [
         "40",
         "20044",
         "152.30401755710716",
         "169.413755"
        ],
        [
         "41",
         "20045",
         "128.3836078241831",
         "154.42506916666667"
        ],
        [
         "42",
         "20046",
         "110.07531516370257",
         "155.99976583333333"
        ],
        [
         "43",
         "20047",
         "147.69492972756277",
         "165.353965"
        ],
        [
         "44",
         "20049",
         "209.18807617716547",
         "203.98650999999998"
        ],
        [
         "45",
         "20050",
         "105.45000709105507",
         "131.337005"
        ],
        [
         "46",
         "20051",
         "79.27449550840807",
         "150.87717916666668"
        ],
        [
         "47",
         "20052",
         "103.66151164246685",
         "119.09683416666667"
        ],
        [
         "48",
         "20053",
         "128.20798514818065",
         "146.06558583333333"
        ],
        [
         "49",
         "20054",
         "117.62477988238004",
         "137.87184249999999"
        ]
       ],
       "shape": {
        "columns": 3,
        "rows": 780
       }
      },
      "text/html": [
       "<div>\n",
       "<style scoped>\n",
       "    .dataframe tbody tr th:only-of-type {\n",
       "        vertical-align: middle;\n",
       "    }\n",
       "\n",
       "    .dataframe tbody tr th {\n",
       "        vertical-align: top;\n",
       "    }\n",
       "\n",
       "    .dataframe thead th {\n",
       "        text-align: right;\n",
       "    }\n",
       "</style>\n",
       "<table border=\"1\" class=\"dataframe\">\n",
       "  <thead>\n",
       "    <tr style=\"text-align: right;\">\n",
       "      <th></th>\n",
       "      <th>product_id</th>\n",
       "      <th>tn_x</th>\n",
       "      <th>tn_y</th>\n",
       "    </tr>\n",
       "  </thead>\n",
       "  <tbody>\n",
       "    <tr>\n",
       "      <th>0</th>\n",
       "      <td>20001</td>\n",
       "      <td>1485.164526</td>\n",
       "      <td>1454.732720</td>\n",
       "    </tr>\n",
       "    <tr>\n",
       "      <th>1</th>\n",
       "      <td>20002</td>\n",
       "      <td>1073.127766</td>\n",
       "      <td>1175.437142</td>\n",
       "    </tr>\n",
       "    <tr>\n",
       "      <th>2</th>\n",
       "      <td>20003</td>\n",
       "      <td>632.648987</td>\n",
       "      <td>784.976407</td>\n",
       "    </tr>\n",
       "    <tr>\n",
       "      <th>3</th>\n",
       "      <td>20004</td>\n",
       "      <td>512.758038</td>\n",
       "      <td>627.215328</td>\n",
       "    </tr>\n",
       "    <tr>\n",
       "      <th>4</th>\n",
       "      <td>20005</td>\n",
       "      <td>638.582322</td>\n",
       "      <td>668.270104</td>\n",
       "    </tr>\n",
       "    <tr>\n",
       "      <th>...</th>\n",
       "      <td>...</td>\n",
       "      <td>...</td>\n",
       "      <td>...</td>\n",
       "    </tr>\n",
       "    <tr>\n",
       "      <th>775</th>\n",
       "      <td>21263</td>\n",
       "      <td>-2.380752</td>\n",
       "      <td>0.029993</td>\n",
       "    </tr>\n",
       "    <tr>\n",
       "      <th>776</th>\n",
       "      <td>21265</td>\n",
       "      <td>-0.635106</td>\n",
       "      <td>0.089541</td>\n",
       "    </tr>\n",
       "    <tr>\n",
       "      <th>777</th>\n",
       "      <td>21266</td>\n",
       "      <td>1.782685</td>\n",
       "      <td>0.094659</td>\n",
       "    </tr>\n",
       "    <tr>\n",
       "      <th>778</th>\n",
       "      <td>21267</td>\n",
       "      <td>-3.725477</td>\n",
       "      <td>0.092835</td>\n",
       "    </tr>\n",
       "    <tr>\n",
       "      <th>779</th>\n",
       "      <td>21276</td>\n",
       "      <td>31.647211</td>\n",
       "      <td>0.045447</td>\n",
       "    </tr>\n",
       "  </tbody>\n",
       "</table>\n",
       "<p>780 rows × 3 columns</p>\n",
       "</div>"
      ],
      "text/plain": [
       "     product_id         tn_x         tn_y\n",
       "0         20001  1485.164526  1454.732720\n",
       "1         20002  1073.127766  1175.437142\n",
       "2         20003   632.648987   784.976407\n",
       "3         20004   512.758038   627.215328\n",
       "4         20005   638.582322   668.270104\n",
       "..          ...          ...          ...\n",
       "775       21263    -2.380752     0.029993\n",
       "776       21265    -0.635106     0.089541\n",
       "777       21266     1.782685     0.094659\n",
       "778       21267    -3.725477     0.092835\n",
       "779       21276    31.647211     0.045447\n",
       "\n",
       "[780 rows x 3 columns]"
      ]
     },
     "execution_count": 22,
     "metadata": {},
     "output_type": "execute_result"
    }
   ],
   "source": [
    "promedios = model_lgb.promedio_12_meses_780p()\n",
    "df_future = df_future.merge(promedios, on='product_id', how='left')\n"
   ]
  },
  {
   "cell_type": "code",
   "execution_count": 23,
   "id": "4958d3be",
   "metadata": {},
   "outputs": [
    {
     "data": {
      "application/vnd.microsoft.datawrangler.viewer.v0+json": {
       "columns": [
        {
         "name": "index",
         "rawType": "int64",
         "type": "integer"
        },
        {
         "name": "product_id",
         "rawType": "int64",
         "type": "integer"
        },
        {
         "name": "tn",
         "rawType": "float64",
         "type": "float"
        },
        {
         "name": "tn_12m",
         "rawType": "float64",
         "type": "float"
        }
       ],
       "ref": "5f484976-9b96-4673-9626-ac4618798220",
       "rows": [
        [
         "0",
         "20001",
         "1485.1645263489897",
         "1454.73272"
        ],
        [
         "1",
         "20002",
         "1073.1277656909842",
         "1175.4371416666665"
        ],
        [
         "2",
         "20003",
         "632.6489873540067",
         "784.9764074999999"
        ],
        [
         "3",
         "20004",
         "512.7580379653672",
         "627.2153283333333"
        ],
        [
         "4",
         "20005",
         "638.5823216152058",
         "668.2701041666667"
        ],
        [
         "5",
         "20006",
         "410.2186165846747",
         "478.6137083333333"
        ],
        [
         "6",
         "20007",
         "381.16320548305004",
         "434.1378058333333"
        ],
        [
         "7",
         "20008",
         "338.7603136062614",
         "422.0481833333333"
        ],
        [
         "8",
         "20009",
         "556.6177377204821",
         "541.3225866666667"
        ],
        [
         "9",
         "20010",
         "397.71055845698487",
         "429.5746608333333"
        ],
        [
         "10",
         "20011",
         "364.83062251778284",
         "377.63544"
        ],
        [
         "11",
         "20012",
         "287.0885783399347",
         "332.228885"
        ],
        [
         "12",
         "20013",
         "334.83265577776893",
         "416.06292"
        ],
        [
         "13",
         "20014",
         "383.4540520019864",
         "414.70520000000005"
        ],
        [
         "14",
         "20015",
         "296.2029476148448",
         "369.02365166666664"
        ],
        [
         "15",
         "20016",
         "315.17043252617134",
         "288.51459"
        ],
        [
         "16",
         "20017",
         "241.40962049321146",
         "287.38575166666664"
        ],
        [
         "17",
         "20018",
         "247.9834371877993",
         "275.44511083333333"
        ],
        [
         "18",
         "20019",
         "199.93938240028797",
         "306.52162749999997"
        ],
        [
         "19",
         "20020",
         "234.41555124945168",
         "280.10235416666666"
        ],
        [
         "20",
         "20021",
         "210.8015942315077",
         "259.495665"
        ],
        [
         "21",
         "20022",
         "211.23348773805233",
         "279.20400333333333"
        ],
        [
         "22",
         "20023",
         "175.14415721655777",
         "266.90118"
        ],
        [
         "23",
         "20024",
         "164.70311601181794",
         "222.11553"
        ],
        [
         "24",
         "20025",
         "195.30822141497444",
         "222.86218499999998"
        ],
        [
         "25",
         "20026",
         "287.59940350444026",
         "237.10623833333332"
        ],
        [
         "26",
         "20027",
         "248.1758277133198",
         "230.0149175"
        ],
        [
         "27",
         "20028",
         "157.10811130562524",
         "213.228015"
        ],
        [
         "28",
         "20029",
         "158.43291272114985",
         "185.16274833333333"
        ],
        [
         "29",
         "20030",
         "79.55594344702247",
         "127.85045000000001"
        ],
        [
         "30",
         "20031",
         "192.0316415574371",
         "185.90788666666666"
        ],
        [
         "31",
         "20032",
         "358.1665183977984",
         "590.33366"
        ],
        [
         "32",
         "20033",
         "132.30936405128412",
         "176.0324475"
        ],
        [
         "33",
         "20035",
         "129.98650560988574",
         "172.19100333333333"
        ],
        [
         "34",
         "20037",
         "138.1756830416756",
         "179.65005833333336"
        ],
        [
         "35",
         "20038",
         "138.9921703647162",
         "175.941565"
        ],
        [
         "36",
         "20039",
         "139.37250732057865",
         "144.37351750000002"
        ],
        [
         "37",
         "20041",
         "119.22338201861271",
         "144.23799083333333"
        ],
        [
         "38",
         "20042",
         "180.7164108893005",
         "174.63574083333333"
        ],
        [
         "39",
         "20043",
         "121.38904343896986",
         "137.17993833333333"
        ],
        [
         "40",
         "20044",
         "152.30401755710716",
         "169.413755"
        ],
        [
         "41",
         "20045",
         "128.3836078241831",
         "154.42506916666667"
        ],
        [
         "42",
         "20046",
         "110.07531516370257",
         "155.99976583333333"
        ],
        [
         "43",
         "20047",
         "147.69492972756277",
         "165.353965"
        ],
        [
         "44",
         "20049",
         "209.18807617716547",
         "203.98650999999998"
        ],
        [
         "45",
         "20050",
         "105.45000709105507",
         "131.337005"
        ],
        [
         "46",
         "20051",
         "79.27449550840807",
         "150.87717916666668"
        ],
        [
         "47",
         "20052",
         "103.66151164246685",
         "119.09683416666667"
        ],
        [
         "48",
         "20053",
         "128.20798514818065",
         "146.06558583333333"
        ],
        [
         "49",
         "20054",
         "117.62477988238004",
         "137.87184249999999"
        ]
       ],
       "shape": {
        "columns": 3,
        "rows": 780
       }
      },
      "text/html": [
       "<div>\n",
       "<style scoped>\n",
       "    .dataframe tbody tr th:only-of-type {\n",
       "        vertical-align: middle;\n",
       "    }\n",
       "\n",
       "    .dataframe tbody tr th {\n",
       "        vertical-align: top;\n",
       "    }\n",
       "\n",
       "    .dataframe thead th {\n",
       "        text-align: right;\n",
       "    }\n",
       "</style>\n",
       "<table border=\"1\" class=\"dataframe\">\n",
       "  <thead>\n",
       "    <tr style=\"text-align: right;\">\n",
       "      <th></th>\n",
       "      <th>product_id</th>\n",
       "      <th>tn</th>\n",
       "      <th>tn_12m</th>\n",
       "    </tr>\n",
       "  </thead>\n",
       "  <tbody>\n",
       "    <tr>\n",
       "      <th>0</th>\n",
       "      <td>20001</td>\n",
       "      <td>1485.164526</td>\n",
       "      <td>1454.732720</td>\n",
       "    </tr>\n",
       "    <tr>\n",
       "      <th>1</th>\n",
       "      <td>20002</td>\n",
       "      <td>1073.127766</td>\n",
       "      <td>1175.437142</td>\n",
       "    </tr>\n",
       "    <tr>\n",
       "      <th>2</th>\n",
       "      <td>20003</td>\n",
       "      <td>632.648987</td>\n",
       "      <td>784.976407</td>\n",
       "    </tr>\n",
       "    <tr>\n",
       "      <th>3</th>\n",
       "      <td>20004</td>\n",
       "      <td>512.758038</td>\n",
       "      <td>627.215328</td>\n",
       "    </tr>\n",
       "    <tr>\n",
       "      <th>4</th>\n",
       "      <td>20005</td>\n",
       "      <td>638.582322</td>\n",
       "      <td>668.270104</td>\n",
       "    </tr>\n",
       "    <tr>\n",
       "      <th>...</th>\n",
       "      <td>...</td>\n",
       "      <td>...</td>\n",
       "      <td>...</td>\n",
       "    </tr>\n",
       "    <tr>\n",
       "      <th>775</th>\n",
       "      <td>21263</td>\n",
       "      <td>0.029993</td>\n",
       "      <td>0.029993</td>\n",
       "    </tr>\n",
       "    <tr>\n",
       "      <th>776</th>\n",
       "      <td>21265</td>\n",
       "      <td>0.089541</td>\n",
       "      <td>0.089541</td>\n",
       "    </tr>\n",
       "    <tr>\n",
       "      <th>777</th>\n",
       "      <td>21266</td>\n",
       "      <td>1.782685</td>\n",
       "      <td>0.094659</td>\n",
       "    </tr>\n",
       "    <tr>\n",
       "      <th>778</th>\n",
       "      <td>21267</td>\n",
       "      <td>0.092835</td>\n",
       "      <td>0.092835</td>\n",
       "    </tr>\n",
       "    <tr>\n",
       "      <th>779</th>\n",
       "      <td>21276</td>\n",
       "      <td>31.647211</td>\n",
       "      <td>0.045447</td>\n",
       "    </tr>\n",
       "  </tbody>\n",
       "</table>\n",
       "<p>780 rows × 3 columns</p>\n",
       "</div>"
      ],
      "text/plain": [
       "     product_id           tn       tn_12m\n",
       "0         20001  1485.164526  1454.732720\n",
       "1         20002  1073.127766  1175.437142\n",
       "2         20003   632.648987   784.976407\n",
       "3         20004   512.758038   627.215328\n",
       "4         20005   638.582322   668.270104\n",
       "..          ...          ...          ...\n",
       "775       21263     0.029993     0.029993\n",
       "776       21265     0.089541     0.089541\n",
       "777       21266     1.782685     0.094659\n",
       "778       21267     0.092835     0.092835\n",
       "779       21276    31.647211     0.045447\n",
       "\n",
       "[780 rows x 3 columns]"
      ]
     },
     "execution_count": 23,
     "metadata": {},
     "output_type": "execute_result"
    }
   ],
   "source": [
    "df_future.rename(columns={'tn_x': 'tn', 'tn_y': 'tn_12m'}, inplace=True)\n",
    "df_future['tn'] = df_future['tn'].mask(df_future['tn'] < 0, df_future['tn_12m'])\n",
    "df_future"
   ]
  },
  {
   "cell_type": "code",
   "execution_count": 24,
   "id": "eb21e421",
   "metadata": {},
   "outputs": [],
   "source": [
    "df_future.drop(columns=['tn_12m'], inplace=True)\n",
    "df_future.to_csv(\"./outputs/predicciones_exp_04_lgb_fe_v1.csv\", index=False, sep=',')"
   ]
  },
  {
   "cell_type": "markdown",
   "id": "a1ea63eb",
   "metadata": {},
   "source": [
    "Feature importance"
   ]
  },
  {
   "cell_type": "code",
   "execution_count": 26,
   "id": "60e96a4f",
   "metadata": {},
   "outputs": [],
   "source": [
    "model_lgb.feature_importance(df, models, \"04\")"
   ]
  },
  {
   "cell_type": "code",
   "execution_count": 34,
   "id": "18b2c7df",
   "metadata": {},
   "outputs": [
    {
     "data": {
      "application/vnd.microsoft.datawrangler.viewer.v0+json": {
       "columns": [
        {
         "name": "index",
         "rawType": "int64",
         "type": "integer"
        },
        {
         "name": "feature",
         "rawType": "object",
         "type": "string"
        },
        {
         "name": "importance",
         "rawType": "float64",
         "type": "float"
        }
       ],
       "ref": "45550ec0-b50d-407c-94f2-5183e5e3e473",
       "rows": [
        [
         "165",
         "yearly_add",
         "0.023933429528069695"
        ],
        [
         "650",
         "tn_expanding_mean",
         "0.020740110008268024"
        ],
        [
         "12",
         "cust_request_qty",
         "0.020621371956284506"
        ],
        [
         "658",
         "tn_seasonality",
         "0.019635920124675632"
        ],
        [
         "670",
         "tn_seasonal_naive",
         "0.0191492391512577"
        ],
        [
         "164",
         "trend_add",
         "0.017404050266587225"
        ],
        [
         "680",
         "corr_tn_dolar_x_prod",
         "0.01666804602395146"
        ],
        [
         "652",
         "tn_seasonal_diff_6",
         "0.01658498562745229"
        ],
        [
         "167",
         "trend_mult",
         "0.015338440321223305"
        ],
        [
         "168",
         "yearly_mult",
         "0.014578605588353983"
        ],
        [
         "669",
         "tn_naive_forecast",
         "0.014507368677152218"
        ],
        [
         "518",
         "tn_rolling_std_2",
         "0.01435303288952703"
        ],
        [
         "205",
         "tn_delta_lag1_lag2",
         "0.01189557257264663"
        ],
        [
         "0",
         "product_id",
         "0.010838984469637885"
        ],
        [
         "8",
         "sku_size",
         "0.010494750678675923"
        ],
        [
         "228",
         "tn_delta_lag2_lag3",
         "0.01026910989998298"
        ],
        [
         "657",
         "tn_trend",
         "0.009568768512860702"
        ],
        [
         "672",
         "tn_best_month_rank",
         "0.009426256210532918"
        ],
        [
         "667",
         "tn_ratio_mean6_std6",
         "0.009224386722190068"
        ],
        [
         "206",
         "tn_delta_lag1_lag3",
         "0.009046321084133217"
        ],
        [
         "662",
         "tn_ytd_sum",
         "0.008975104892890667"
        ],
        [
         "229",
         "tn_delta_lag2_lag4",
         "0.008524015735126055"
        ],
        [
         "250",
         "tn_delta_lag3_lag4",
         "0.008215305679951426"
        ],
        [
         "519",
         "tn_rolling_std_3",
         "0.008037287401801348"
        ],
        [
         "10",
         "tn",
         "0.007455547906930611"
        ],
        [
         "678",
         "corr_tn_dolar",
         "0.007455482787058797"
        ],
        [
         "661",
         "tn_rolling_center_mean_3",
         "0.00718247110732773"
        ],
        [
         "679",
         "corr_tn_ipc",
         "0.006980634178920788"
        ],
        [
         "207",
         "tn_delta_lag1_lag4",
         "0.006909423907666585"
        ],
        [
         "671",
         "tn_ma_forecast_3",
         "0.00689753826249154"
        ],
        [
         "271",
         "tn_delta_lag4_lag5",
         "0.00661256397773692"
        ],
        [
         "251",
         "tn_delta_lag3_lag5",
         "0.006553206791721854"
        ],
        [
         "520",
         "tn_rolling_std_4",
         "0.006541318186552635"
        ],
        [
         "170",
         "tn_lag_1",
         "0.006529497661249404"
        ],
        [
         "272",
         "tn_delta_lag4_lag6",
         "0.006505744130864354"
        ],
        [
         "660",
         "tn_ewm_alpha_0.5",
         "0.006220885285882496"
        ],
        [
         "209",
         "tn_delta_lag1_lag6",
         "0.006090220148805504"
        ],
        [
         "230",
         "tn_delta_lag2_lag5",
         "0.005947820326256309"
        ],
        [
         "677",
         "ipc",
         "0.00582907339429027"
        ],
        [
         "208",
         "tn_delta_lag1_lag5",
         "0.005734130312610227"
        ],
        [
         "291",
         "tn_delta_lag5_lag6",
         "0.005520428458987454"
        ],
        [
         "554",
         "tn_rolling_min_2",
         "0.005294805440259554"
        ],
        [
         "252",
         "tn_delta_lag3_lag6",
         "0.005247307259471974"
        ],
        [
         "171",
         "tn_lag_2",
         "0.005140558452459567"
        ],
        [
         "232",
         "tn_delta_lag2_lag7",
         "0.005021784880545967"
        ],
        [
         "659",
         "tn_ewm_alpha_0.3",
         "0.0049861516249742185"
        ],
        [
         "310",
         "tn_delta_lag6_lag7",
         "0.004962460254466808"
        ],
        [
         "273",
         "tn_delta_lag4_lag7",
         "0.00481995979211572"
        ],
        [
         "13",
         "cust_request_tn",
         "0.004784373896450744"
        ],
        [
         "482",
         "tn_rolling_mean_2",
         "0.004736902355610723"
        ]
       ],
       "shape": {
        "columns": 2,
        "rows": 683
       }
      },
      "text/html": [
       "<div>\n",
       "<style scoped>\n",
       "    .dataframe tbody tr th:only-of-type {\n",
       "        vertical-align: middle;\n",
       "    }\n",
       "\n",
       "    .dataframe tbody tr th {\n",
       "        vertical-align: top;\n",
       "    }\n",
       "\n",
       "    .dataframe thead th {\n",
       "        text-align: right;\n",
       "    }\n",
       "</style>\n",
       "<table border=\"1\" class=\"dataframe\">\n",
       "  <thead>\n",
       "    <tr style=\"text-align: right;\">\n",
       "      <th></th>\n",
       "      <th>feature</th>\n",
       "      <th>importance</th>\n",
       "    </tr>\n",
       "  </thead>\n",
       "  <tbody>\n",
       "    <tr>\n",
       "      <th>165</th>\n",
       "      <td>yearly_add</td>\n",
       "      <td>0.023933</td>\n",
       "    </tr>\n",
       "    <tr>\n",
       "      <th>650</th>\n",
       "      <td>tn_expanding_mean</td>\n",
       "      <td>0.020740</td>\n",
       "    </tr>\n",
       "    <tr>\n",
       "      <th>12</th>\n",
       "      <td>cust_request_qty</td>\n",
       "      <td>0.020621</td>\n",
       "    </tr>\n",
       "    <tr>\n",
       "      <th>658</th>\n",
       "      <td>tn_seasonality</td>\n",
       "      <td>0.019636</td>\n",
       "    </tr>\n",
       "    <tr>\n",
       "      <th>670</th>\n",
       "      <td>tn_seasonal_naive</td>\n",
       "      <td>0.019149</td>\n",
       "    </tr>\n",
       "    <tr>\n",
       "      <th>...</th>\n",
       "      <td>...</td>\n",
       "      <td>...</td>\n",
       "    </tr>\n",
       "    <tr>\n",
       "      <th>622</th>\n",
       "      <td>tn_rolling_max_34</td>\n",
       "      <td>0.000000</td>\n",
       "    </tr>\n",
       "    <tr>\n",
       "      <th>623</th>\n",
       "      <td>tn_rolling_max_35</td>\n",
       "      <td>0.000000</td>\n",
       "    </tr>\n",
       "    <tr>\n",
       "      <th>624</th>\n",
       "      <td>tn_rolling_max_36</td>\n",
       "      <td>0.000000</td>\n",
       "    </tr>\n",
       "    <tr>\n",
       "      <th>25</th>\n",
       "      <td>cat2_PIEL1</td>\n",
       "      <td>0.000000</td>\n",
       "    </tr>\n",
       "    <tr>\n",
       "      <th>18</th>\n",
       "      <td>cat1_nan</td>\n",
       "      <td>0.000000</td>\n",
       "    </tr>\n",
       "  </tbody>\n",
       "</table>\n",
       "<p>683 rows × 2 columns</p>\n",
       "</div>"
      ],
      "text/plain": [
       "               feature  importance\n",
       "165         yearly_add    0.023933\n",
       "650  tn_expanding_mean    0.020740\n",
       "12    cust_request_qty    0.020621\n",
       "658     tn_seasonality    0.019636\n",
       "670  tn_seasonal_naive    0.019149\n",
       "..                 ...         ...\n",
       "622  tn_rolling_max_34    0.000000\n",
       "623  tn_rolling_max_35    0.000000\n",
       "624  tn_rolling_max_36    0.000000\n",
       "25          cat2_PIEL1    0.000000\n",
       "18            cat1_nan    0.000000\n",
       "\n",
       "[683 rows x 2 columns]"
      ]
     },
     "execution_count": 34,
     "metadata": {},
     "output_type": "execute_result"
    }
   ],
   "source": [
    "importances = model_lgb.feature_importance_promedio(models, df.drop(columns=['target']))\n",
    "importances.sort_values(by='importance', ascending=False, inplace=True) \n",
    "importances"
   ]
  }
 ],
 "metadata": {
  "kernelspec": {
   "display_name": "py311lab3",
   "language": "python",
   "name": "python3"
  },
  "language_info": {
   "codemirror_mode": {
    "name": "ipython",
    "version": 3
   },
   "file_extension": ".py",
   "mimetype": "text/x-python",
   "name": "python",
   "nbconvert_exporter": "python",
   "pygments_lexer": "ipython3",
   "version": "3.11.13"
  }
 },
 "nbformat": 4,
 "nbformat_minor": 5
}
