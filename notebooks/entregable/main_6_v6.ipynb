{
 "cells": [
  {
   "cell_type": "code",
   "execution_count": 1,
   "id": "dbae8eac",
   "metadata": {},
   "outputs": [
    {
     "name": "stderr",
     "output_type": "stream",
     "text": [
      "c:\\Users\\Usuario\\.conda\\envs\\py311lab3\\Lib\\site-packages\\tqdm\\auto.py:21: TqdmWarning: IProgress not found. Please update jupyter and ipywidgets. See https://ipywidgets.readthedocs.io/en/stable/user_install.html\n",
      "  from .autonotebook import tqdm as notebook_tqdm\n",
      "Importing plotly failed. Interactive plots will not work.\n",
      "Importing plotly failed. Interactive plots will not work.\n"
     ]
    }
   ],
   "source": [
    "import pandas as pd\n",
    "import numpy as np\n",
    "import importlib\n",
    "import gc\n",
    "import sys\n",
    "import warnings\n",
    "sys.path.append('./scripts')  \n",
    "import preprocesamiento\n",
    "import feature_engineering\n",
    "import model_autogluon\n",
    "importlib.reload(preprocesamiento)\n",
    "importlib.reload(model_autogluon)\n",
    "importlib.reload(feature_engineering)\n",
    "warnings.filterwarnings(\"ignore\")"
   ]
  },
  {
   "cell_type": "markdown",
   "id": "14763c97",
   "metadata": {},
   "source": [
    "# Experimento 6: \n",
    "- Autogluon: lo más simple posible\n",
    "- Transformacion boxcox\n",
    "- Target: TN+2\n",
    "- Kaggle =  0.268\n"
   ]
  },
  {
   "cell_type": "code",
   "execution_count": 5,
   "id": "b70070d3",
   "metadata": {},
   "outputs": [
    {
     "name": "stdout",
     "output_type": "stream",
     "text": [
      "Productos únicos a predecir: 780\n",
      "TimeSeriesDataFrame creado exitosamente\n",
      "Número de series temporales: 780\n"
     ]
    },
    {
     "name": "stderr",
     "output_type": "stream",
     "text": [
      "Frequency 'M' stored as 'ME'\n",
      "Beginning AutoGluon training...\n",
      "AutoGluon will save models to 'c:\\Users\\Usuario\\Documents\\Universidad\\austral\\2025\\Lab3\\Lab3-MCD\\notebooks\\entregable\\AutogluonModels\\ag-20250629_203141'\n",
      "=================== System Info ===================\n",
      "AutoGluon Version:  1.3.1\n",
      "Python Version:     3.11.13\n",
      "Operating System:   Windows\n",
      "Platform Machine:   AMD64\n",
      "Platform Version:   10.0.26100\n",
      "CPU Count:          4\n",
      "GPU Count:          0\n",
      "Memory Avail:       2.36 GB / 15.89 GB (14.8%)\n",
      "Disk Space Avail:   399.99 GB / 893.49 GB (44.8%)\n",
      "===================================================\n",
      "\n",
      "Fitting with arguments:\n",
      "{'enable_ensemble': True,\n",
      " 'eval_metric': MAPE,\n",
      " 'freq': 'ME',\n",
      " 'hyperparameters': 'default',\n",
      " 'known_covariates_names': [],\n",
      " 'num_val_windows': 5,\n",
      " 'prediction_length': 1,\n",
      " 'quantile_levels': [0.1, 0.2, 0.3, 0.4, 0.5, 0.6, 0.7, 0.8, 0.9],\n",
      " 'random_seed': 123,\n",
      " 'refit_every_n_windows': 1,\n",
      " 'refit_full': False,\n",
      " 'skip_model_selection': False,\n",
      " 'target': 'target',\n",
      " 'verbosity': 2}\n",
      "\n",
      "train_data with frequency 'IRREG' has been resampled to frequency 'ME'.\n",
      "Provided train_data has 20815 rows, 780 time series. Median time series length is 34 (min=2, max=34). \n",
      "\tRemoving 124 short time series from train_data. Only series with length >= 10 will be used for training.\n",
      "\tAfter filtering, train_data has 20140 rows, 656 time series. Median time series length is 34 (min=12, max=34). \n",
      "\n",
      "Provided data contains following columns:\n",
      "\ttarget: 'target'\n",
      "\n",
      "AutoGluon will gauge predictive performance using evaluation metric: 'MAPE'\n",
      "\tThis metric's sign has been flipped to adhere to being higher_is_better. The metric score can be multiplied by -1 to get the metric value.\n",
      "===================================================\n",
      "\n",
      "Starting training. Start time is 2025-06-29 17:31:46\n",
      "Models that will be trained: ['SeasonalNaive', 'RecursiveTabular', 'DirectTabular', 'NPTS', 'DynamicOptimizedTheta', 'AutoETS', 'ChronosZeroShot[bolt_base]', 'ChronosFineTuned[bolt_small]', 'TemporalFusionTransformer', 'DeepAR', 'PatchTST', 'TiDE']\n",
      "Training timeseries model SeasonalNaive. \n",
      "\t-0.3216       = Validation score (-MAPE)\n",
      "\t11.13   s     = Training runtime\n",
      "\t1.32    s     = Validation (prediction) runtime\n",
      "Training timeseries model RecursiveTabular. \n",
      "\tTime series in the dataset are too short for chosen differences [12]. Setting differences to [1].\n",
      "\tTime series in the dataset are too short for chosen differences [12]. Setting differences to [1].\n",
      "\tTime series in the dataset are too short for chosen differences [12]. Setting differences to [1].\n",
      "\tTime series in the dataset are too short for chosen differences [12]. Setting differences to [1].\n",
      "\tTime series in the dataset are too short for chosen differences [12]. Setting differences to [1].\n",
      "\t-0.3012       = Validation score (-MAPE)\n",
      "\t11.07   s     = Training runtime\n",
      "\t0.10    s     = Validation (prediction) runtime\n",
      "Training timeseries model DirectTabular. \n",
      "\t-0.2818       = Validation score (-MAPE)\n",
      "\t22.43   s     = Training runtime\n",
      "\t0.16    s     = Validation (prediction) runtime\n",
      "Training timeseries model NPTS. \n",
      "\t-0.3288       = Validation score (-MAPE)\n",
      "\t8.27    s     = Training runtime\n",
      "\t1.96    s     = Validation (prediction) runtime\n",
      "Training timeseries model DynamicOptimizedTheta. \n",
      "\t-0.2770       = Validation score (-MAPE)\n",
      "\t23.15   s     = Training runtime\n",
      "\t5.21    s     = Validation (prediction) runtime\n",
      "Training timeseries model AutoETS. \n",
      "\t-0.2755       = Validation score (-MAPE)\n",
      "\t82.01   s     = Training runtime\n",
      "\t23.89   s     = Validation (prediction) runtime\n",
      "Training timeseries model ChronosZeroShot[bolt_base]. \n",
      "\tWarning: Exception caused ChronosZeroShot[bolt_base] to fail during training... Skipping this model.\n",
      "\tFailed to import transformers.integrations.integration_utils because of the following error (look up to see its traceback):\n",
      "Failed to import transformers.modeling_tf_utils because of the following error (look up to see its traceback):\n",
      "Your currently installed version of Keras is Keras 3, but this is not yet supported in Transformers. Please install the backwards-compatible tf-keras package with `pip install tf-keras`.\n",
      "Training timeseries model ChronosFineTuned[bolt_small]. \n",
      "\tSkipping covariate_regressor since the dataset contains no covariates or static features.\n",
      "\tWarning: Exception caused ChronosFineTuned[bolt_small] to fail during training... Skipping this model.\n",
      "\tFailed to import transformers.integrations.integration_utils because of the following error (look up to see its traceback):\n",
      "Failed to import transformers.modeling_tf_utils because of the following error (look up to see its traceback):\n",
      "Your currently installed version of Keras is Keras 3, but this is not yet supported in Transformers. Please install the backwards-compatible tf-keras package with `pip install tf-keras`.\n",
      "Training timeseries model TemporalFusionTransformer. \n",
      "\t-0.2622       = Validation score (-MAPE)\n",
      "\t1417.45 s     = Training runtime\n",
      "\t1.04    s     = Validation (prediction) runtime\n",
      "Training timeseries model DeepAR. \n",
      "\t-0.2626       = Validation score (-MAPE)\n",
      "\t1185.26 s     = Training runtime\n",
      "\t0.83    s     = Validation (prediction) runtime\n",
      "Training timeseries model PatchTST. \n",
      "\t-0.2624       = Validation score (-MAPE)\n",
      "\t855.22  s     = Training runtime\n",
      "\t0.58    s     = Validation (prediction) runtime\n",
      "Training timeseries model TiDE. \n",
      "\t-0.2742       = Validation score (-MAPE)\n",
      "\t2629.91 s     = Training runtime\n",
      "\t1.01    s     = Validation (prediction) runtime\n",
      "Fitting simple weighted ensemble.\n",
      "\tEnsemble weights: {'AutoETS': 0.06, 'DeepAR': 0.17, 'PatchTST': 0.3, 'TemporalFusionTransformer': 0.48}\n",
      "\t-0.2564       = Validation score (-MAPE)\n",
      "\t2.57    s     = Training runtime\n",
      "\t26.34   s     = Validation (prediction) runtime\n",
      "Training complete. Models trained: ['SeasonalNaive', 'RecursiveTabular', 'DirectTabular', 'NPTS', 'DynamicOptimizedTheta', 'AutoETS', 'TemporalFusionTransformer', 'DeepAR', 'PatchTST', 'TiDE', 'WeightedEnsemble']\n",
      "Total runtime: 6314.37 s\n",
      "Best model: WeightedEnsemble\n",
      "Best model score: -0.2564\n",
      "data with frequency 'IRREG' has been resampled to frequency 'ME'.\n",
      "Model not specified in predict, will default to the model with the best validation score: WeightedEnsemble\n",
      "\tWarning: AutoETS\\W4 failed for 75 time series (9.6%). Fallback model SeasonalNaive was used for these time series.\n"
     ]
    }
   ],
   "source": [
    "from autogluon.timeseries import TimeSeriesDataFrame, TimeSeriesPredictor\n",
    "from scipy.stats import boxcox\n",
    "\n",
    "\n",
    "# Carga y preparación de datos\n",
    "df = pd.read_csv(\"./datasets/periodo_x_producto_con_target.csv\", sep=',', encoding='utf-8')\n",
    "df = df[df['periodo']<201911]\n",
    "df['target'].fillna(0, inplace=True)  # Rellenar NaN en 'target' con 0\n",
    "\n",
    "\n",
    "\n",
    "\n",
    "# Agregación y transformación\n",
    "dfg = df.groupby(['periodo', 'product_id']).agg({'target': 'sum'}).reset_index()\n",
    "dfg['periodo_dt'] = pd.to_datetime(dfg['periodo'].astype(str), format='%Y%m')\n",
    "dfg.rename(columns={'product_id':'item_id', 'periodo_dt': 'timestamp'}, inplace=True)\n",
    "dfg.drop(columns=['periodo'], inplace=True)\n",
    "\n",
    "# Filtrar productos\n",
    "productos_ok = pd.read_csv('../../data/raw/product_id_apredecir201912.csv', sep=',')\n",
    "dfg = dfg[dfg['item_id'].isin(productos_ok['product_id'].unique())]\n",
    "print(f\"Productos únicos a predecir: {len(dfg['item_id'].unique())}\")\n",
    "\n",
    "\n",
    "# Conversión a TimeSeriesDataFrame con verificación\n",
    "if len(dfg) == 0:\n",
    "    raise ValueError(\"El DataFrame está vacío después del filtrado\")\n",
    "\n",
    "try:\n",
    "    data = TimeSeriesDataFrame.from_data_frame(\n",
    "        dfg,\n",
    "        id_column=\"item_id\",\n",
    "        timestamp_column=\"timestamp\"\n",
    "    )\n",
    "    print(\"TimeSeriesDataFrame creado exitosamente\")\n",
    "    print(f\"Número de series temporales: {len(data.item_ids)}\")\n",
    "except Exception as e:\n",
    "    raise ValueError(f\"Error al crear TimeSeriesDataFrame: {str(e)}\")\n",
    "\n",
    "\n",
    "\n",
    "##################\n",
    "# # Box-Cox transform para estabilizar varianza\n",
    "data['target'], lambda_param = boxcox(data['target'] + 1)  # +1 para valores positivos\n",
    "#####################################\n",
    "  \n",
    "predictor = TimeSeriesPredictor(\n",
    "    target='target',\n",
    "    prediction_length=1,\n",
    "    freq=\"M\",\n",
    "    eval_metric=\"MAPE\"\n",
    ").fit(\n",
    "    data,\n",
    "    num_val_windows=5,\n",
    "    verbosity=2  # Más detalle en logs\n",
    ")\n",
    "        \n",
    "\n",
    "        \n",
    "preds = predictor.predict(data)\n",
    "preds['mean'] = (preds['mean'] * lambda_param + 1) ** (1/lambda_param) ### # Inversión de la transformación\n",
    "\n",
    "\n",
    "        \n",
    "\n",
    "\n",
    "\n"
   ]
  },
  {
   "cell_type": "code",
   "execution_count": 6,
   "id": "a088140a",
   "metadata": {},
   "outputs": [
    {
     "data": {
      "text/html": [
       "<div>\n",
       "<style scoped>\n",
       "    .dataframe tbody tr th:only-of-type {\n",
       "        vertical-align: middle;\n",
       "    }\n",
       "\n",
       "    .dataframe tbody tr th {\n",
       "        vertical-align: top;\n",
       "    }\n",
       "\n",
       "    .dataframe thead th {\n",
       "        text-align: right;\n",
       "    }\n",
       "</style>\n",
       "<table border=\"1\" class=\"dataframe\">\n",
       "  <thead>\n",
       "    <tr style=\"text-align: right;\">\n",
       "      <th></th>\n",
       "      <th></th>\n",
       "      <th>mean</th>\n",
       "      <th>0.1</th>\n",
       "      <th>0.2</th>\n",
       "      <th>0.3</th>\n",
       "      <th>0.4</th>\n",
       "      <th>0.5</th>\n",
       "      <th>0.6</th>\n",
       "      <th>0.7</th>\n",
       "      <th>0.8</th>\n",
       "      <th>0.9</th>\n",
       "    </tr>\n",
       "    <tr>\n",
       "      <th>item_id</th>\n",
       "      <th>timestamp</th>\n",
       "      <th></th>\n",
       "      <th></th>\n",
       "      <th></th>\n",
       "      <th></th>\n",
       "      <th></th>\n",
       "      <th></th>\n",
       "      <th></th>\n",
       "      <th></th>\n",
       "      <th></th>\n",
       "      <th></th>\n",
       "    </tr>\n",
       "  </thead>\n",
       "  <tbody>\n",
       "    <tr>\n",
       "      <th>20001</th>\n",
       "      <th>2019-11-30</th>\n",
       "      <td>1288.693263</td>\n",
       "      <td>4.561626</td>\n",
       "      <td>4.656189</td>\n",
       "      <td>4.707328</td>\n",
       "      <td>4.744679</td>\n",
       "      <td>4.779654</td>\n",
       "      <td>4.812743</td>\n",
       "      <td>4.847869</td>\n",
       "      <td>4.894652</td>\n",
       "      <td>4.960503</td>\n",
       "    </tr>\n",
       "    <tr>\n",
       "      <th>20002</th>\n",
       "      <th>2019-11-30</th>\n",
       "      <td>966.019981</td>\n",
       "      <td>4.409449</td>\n",
       "      <td>4.519611</td>\n",
       "      <td>4.577836</td>\n",
       "      <td>4.617780</td>\n",
       "      <td>4.656963</td>\n",
       "      <td>4.693163</td>\n",
       "      <td>4.733598</td>\n",
       "      <td>4.780318</td>\n",
       "      <td>4.854892</td>\n",
       "    </tr>\n",
       "    <tr>\n",
       "      <th>20003</th>\n",
       "      <th>2019-11-30</th>\n",
       "      <td>770.323670</td>\n",
       "      <td>4.304230</td>\n",
       "      <td>4.415450</td>\n",
       "      <td>4.475356</td>\n",
       "      <td>4.517751</td>\n",
       "      <td>4.557530</td>\n",
       "      <td>4.595787</td>\n",
       "      <td>4.637790</td>\n",
       "      <td>4.686601</td>\n",
       "      <td>4.758145</td>\n",
       "    </tr>\n",
       "    <tr>\n",
       "      <th>20004</th>\n",
       "      <th>2019-11-30</th>\n",
       "      <td>577.824443</td>\n",
       "      <td>4.162122</td>\n",
       "      <td>4.277475</td>\n",
       "      <td>4.340693</td>\n",
       "      <td>4.385625</td>\n",
       "      <td>4.427214</td>\n",
       "      <td>4.466137</td>\n",
       "      <td>4.510183</td>\n",
       "      <td>4.559120</td>\n",
       "      <td>4.637107</td>\n",
       "    </tr>\n",
       "    <tr>\n",
       "      <th>20005</th>\n",
       "      <th>2019-11-30</th>\n",
       "      <td>549.614970</td>\n",
       "      <td>4.129753</td>\n",
       "      <td>4.251633</td>\n",
       "      <td>4.316507</td>\n",
       "      <td>4.358970</td>\n",
       "      <td>4.404060</td>\n",
       "      <td>4.443559</td>\n",
       "      <td>4.487608</td>\n",
       "      <td>4.539100</td>\n",
       "      <td>4.613951</td>\n",
       "    </tr>\n",
       "    <tr>\n",
       "      <th>...</th>\n",
       "      <th>...</th>\n",
       "      <td>...</td>\n",
       "      <td>...</td>\n",
       "      <td>...</td>\n",
       "      <td>...</td>\n",
       "      <td>...</td>\n",
       "      <td>...</td>\n",
       "      <td>...</td>\n",
       "      <td>...</td>\n",
       "      <td>...</td>\n",
       "      <td>...</td>\n",
       "    </tr>\n",
       "    <tr>\n",
       "      <th>20962</th>\n",
       "      <th>2019-11-30</th>\n",
       "      <td>3.129831</td>\n",
       "      <td>0.856308</td>\n",
       "      <td>0.929388</td>\n",
       "      <td>0.980419</td>\n",
       "      <td>1.026246</td>\n",
       "      <td>1.065302</td>\n",
       "      <td>1.098694</td>\n",
       "      <td>1.144099</td>\n",
       "      <td>1.190615</td>\n",
       "      <td>1.274296</td>\n",
       "    </tr>\n",
       "    <tr>\n",
       "      <th>20975</th>\n",
       "      <th>2019-11-30</th>\n",
       "      <td>2.837388</td>\n",
       "      <td>0.770897</td>\n",
       "      <td>0.838544</td>\n",
       "      <td>0.891386</td>\n",
       "      <td>0.938767</td>\n",
       "      <td>0.979413</td>\n",
       "      <td>1.009169</td>\n",
       "      <td>1.054113</td>\n",
       "      <td>1.103943</td>\n",
       "      <td>1.188473</td>\n",
       "    </tr>\n",
       "    <tr>\n",
       "      <th>20995</th>\n",
       "      <th>2019-11-30</th>\n",
       "      <td>2.707956</td>\n",
       "      <td>0.719559</td>\n",
       "      <td>0.788882</td>\n",
       "      <td>0.844487</td>\n",
       "      <td>0.896082</td>\n",
       "      <td>0.938172</td>\n",
       "      <td>0.972820</td>\n",
       "      <td>1.022358</td>\n",
       "      <td>1.068038</td>\n",
       "      <td>1.167711</td>\n",
       "    </tr>\n",
       "    <tr>\n",
       "      <th>21087</th>\n",
       "      <th>2019-11-30</th>\n",
       "      <td>2.067912</td>\n",
       "      <td>0.542772</td>\n",
       "      <td>0.595967</td>\n",
       "      <td>0.636391</td>\n",
       "      <td>0.668546</td>\n",
       "      <td>0.695344</td>\n",
       "      <td>0.718823</td>\n",
       "      <td>0.751486</td>\n",
       "      <td>0.782697</td>\n",
       "      <td>0.839972</td>\n",
       "    </tr>\n",
       "    <tr>\n",
       "      <th>21214</th>\n",
       "      <th>2019-11-30</th>\n",
       "      <td>1.348422</td>\n",
       "      <td>0.098361</td>\n",
       "      <td>0.156164</td>\n",
       "      <td>0.203949</td>\n",
       "      <td>0.253746</td>\n",
       "      <td>0.293563</td>\n",
       "      <td>0.322094</td>\n",
       "      <td>0.367452</td>\n",
       "      <td>0.406214</td>\n",
       "      <td>0.483985</td>\n",
       "    </tr>\n",
       "  </tbody>\n",
       "</table>\n",
       "<p>780 rows × 10 columns</p>\n",
       "</div>"
      ],
      "text/plain": [
       "                           mean       0.1       0.2       0.3       0.4  \\\n",
       "item_id timestamp                                                         \n",
       "20001   2019-11-30  1288.693263  4.561626  4.656189  4.707328  4.744679   \n",
       "20002   2019-11-30   966.019981  4.409449  4.519611  4.577836  4.617780   \n",
       "20003   2019-11-30   770.323670  4.304230  4.415450  4.475356  4.517751   \n",
       "20004   2019-11-30   577.824443  4.162122  4.277475  4.340693  4.385625   \n",
       "20005   2019-11-30   549.614970  4.129753  4.251633  4.316507  4.358970   \n",
       "...                         ...       ...       ...       ...       ...   \n",
       "20962   2019-11-30     3.129831  0.856308  0.929388  0.980419  1.026246   \n",
       "20975   2019-11-30     2.837388  0.770897  0.838544  0.891386  0.938767   \n",
       "20995   2019-11-30     2.707956  0.719559  0.788882  0.844487  0.896082   \n",
       "21087   2019-11-30     2.067912  0.542772  0.595967  0.636391  0.668546   \n",
       "21214   2019-11-30     1.348422  0.098361  0.156164  0.203949  0.253746   \n",
       "\n",
       "                         0.5       0.6       0.7       0.8       0.9  \n",
       "item_id timestamp                                                     \n",
       "20001   2019-11-30  4.779654  4.812743  4.847869  4.894652  4.960503  \n",
       "20002   2019-11-30  4.656963  4.693163  4.733598  4.780318  4.854892  \n",
       "20003   2019-11-30  4.557530  4.595787  4.637790  4.686601  4.758145  \n",
       "20004   2019-11-30  4.427214  4.466137  4.510183  4.559120  4.637107  \n",
       "20005   2019-11-30  4.404060  4.443559  4.487608  4.539100  4.613951  \n",
       "...                      ...       ...       ...       ...       ...  \n",
       "20962   2019-11-30  1.065302  1.098694  1.144099  1.190615  1.274296  \n",
       "20975   2019-11-30  0.979413  1.009169  1.054113  1.103943  1.188473  \n",
       "20995   2019-11-30  0.938172  0.972820  1.022358  1.068038  1.167711  \n",
       "21087   2019-11-30  0.695344  0.718823  0.751486  0.782697  0.839972  \n",
       "21214   2019-11-30  0.293563  0.322094  0.367452  0.406214  0.483985  \n",
       "\n",
       "[780 rows x 10 columns]"
      ]
     },
     "execution_count": 6,
     "metadata": {},
     "output_type": "execute_result"
    }
   ],
   "source": [
    "preds"
   ]
  },
  {
   "cell_type": "code",
   "execution_count": 8,
   "id": "292d28f2",
   "metadata": {},
   "outputs": [],
   "source": [
    "final_df_copy = preds.reset_index()\n",
    "\n",
    "final_df_copy = final_df_copy[['item_id', 'mean']].rename(columns={'mean': 'tn', 'item_id': 'product_id'})\n",
    "\n",
    "output_path = \"./outputs/predicciones_exp_06v6_autogluon_mean.csv\"\n",
    "\n",
    "final_df_copy.to_csv(output_path, index=False)"
   ]
  },
  {
   "cell_type": "code",
   "execution_count": 15,
   "id": "875aa4b8",
   "metadata": {},
   "outputs": [
    {
     "data": {
      "application/vnd.microsoft.datawrangler.viewer.v0+json": {
       "columns": [
        {
         "name": "index",
         "rawType": "int64",
         "type": "integer"
        },
        {
         "name": "product_id",
         "rawType": "int64",
         "type": "integer"
        },
        {
         "name": "pred_windows_12",
         "rawType": "float64",
         "type": "float"
        },
        {
         "name": "tn",
         "rawType": "float64",
         "type": "float"
        }
       ],
       "ref": "e062eefe-9e82-43a4-bc67-948480d4be33",
       "rows": [
        [
         "0",
         "20001",
         "1458.3844518121684",
         "1302.8211472739797"
        ],
        [
         "1",
         "20002",
         "1193.750890767799",
         "1087.357424486418"
        ],
        [
         "2",
         "20003",
         "771.7216543521522",
         "682.9755659290678"
        ],
        [
         "3",
         "20004",
         "561.1472173726784",
         "522.4121225146363"
        ],
        [
         "4",
         "20005",
         "602.6507775648586",
         "529.1320872142329"
        ],
        [
         "5",
         "20006",
         "525.9506726534862",
         "472.1338530325566"
        ],
        [
         "6",
         "20007",
         "425.1909196961601",
         "418.84807230217945"
        ],
        [
         "7",
         "20008",
         "388.7167053222656",
         "411.1983320356978"
        ],
        [
         "8",
         "20009",
         "555.2461945155882",
         "489.6907459024525"
        ],
        [
         "9",
         "20010",
         "411.7851663265589",
         "404.1834344700993"
        ],
        [
         "10",
         "20011",
         "444.4273960905255",
         "419.3465331248428"
        ],
        [
         "11",
         "20012",
         "327.107696677154",
         "335.5790018213652"
        ],
        [
         "12",
         "20013",
         "420.3256389689896",
         "386.58264364613495"
        ],
        [
         "13",
         "20014",
         "404.55375181953866",
         "386.6487918197847"
        ],
        [
         "14",
         "20015",
         "355.5837074135834",
         "361.5908314783517"
        ],
        [
         "15",
         "20016",
         "296.9517200397995",
         "294.34084243254244"
        ],
        [
         "16",
         "20017",
         "307.6685788136608",
         "283.2991679532349"
        ],
        [
         "17",
         "20018",
         "280.8884188094229",
         "265.9471370732724"
        ],
        [
         "18",
         "20019",
         "316.9280062981372",
         "311.6287074422155"
        ],
        [
         "19",
         "20020",
         "313.9293746948242",
         "297.83725756373025"
        ],
        [
         "20",
         "20021",
         "245.09488202940744",
         "242.88885821690167"
        ],
        [
         "21",
         "20022",
         "348.5570926306383",
         "277.3579935922721"
        ],
        [
         "22",
         "20023",
         "221.30819054369655",
         "217.03533346971312"
        ],
        [
         "23",
         "20024",
         "236.4293176902915",
         "223.97341029508505"
        ],
        [
         "24",
         "20025",
         "242.10924069386607",
         "223.78401897758252"
        ],
        [
         "25",
         "20026",
         "240.8006021751548",
         "233.63667591664924"
        ],
        [
         "26",
         "20027",
         "240.2849896988779",
         "227.78227943279276"
        ],
        [
         "27",
         "20028",
         "229.4611869668061",
         "207.06162164521024"
        ],
        [
         "28",
         "20029",
         "201.71898953419813",
         "188.14066281166268"
        ],
        [
         "29",
         "20030",
         "120.04069475857716",
         "155.68950212688804"
        ],
        [
         "30",
         "20031",
         "195.7944821051832",
         "190.7148333243057"
        ],
        [
         "31",
         "20032",
         "533.5686434613613",
         "526.8450048710572"
        ],
        [
         "32",
         "20033",
         "146.94867231261054",
         "128.63064304153914"
        ],
        [
         "33",
         "20035",
         "177.11039892232645",
         "172.30759550617836"
        ],
        [
         "34",
         "20037",
         "185.76096718266325",
         "171.61147903517727"
        ],
        [
         "35",
         "20038",
         "193.0991601044277",
         "174.94884662498666"
        ],
        [
         "36",
         "20039",
         "171.66721941390128",
         "148.3217947644831"
        ],
        [
         "37",
         "20041",
         "135.55566449435253",
         "132.95822966778627"
        ],
        [
         "38",
         "20042",
         "180.36956599973283",
         "159.5263008512129"
        ],
        [
         "39",
         "20043",
         "131.62542163201098",
         "130.6806324414345"
        ],
        [
         "40",
         "20044",
         "201.38167111378797",
         "157.71448499006164"
        ],
        [
         "41",
         "20045",
         "153.75173676688718",
         "148.17749627071868"
        ],
        [
         "42",
         "20046",
         "156.22642761806273",
         "149.3438802485567"
        ],
        [
         "43",
         "20047",
         "196.25962757614425",
         "163.48151618829536"
        ],
        [
         "44",
         "20049",
         "167.87195011354842",
         "162.13077807869053"
        ],
        [
         "45",
         "20050",
         "136.0754963856823",
         "131.5020636473452"
        ],
        [
         "46",
         "20051",
         "137.71289775056658",
         "138.096210996225"
        ],
        [
         "47",
         "20052",
         "117.77223810159936",
         "118.2562567419526"
        ],
        [
         "48",
         "20053",
         "174.1819564531434",
         "150.33051591639605"
        ],
        [
         "49",
         "20054",
         "172.2490846166071",
         "136.49547424522763"
        ]
       ],
       "shape": {
        "columns": 3,
        "rows": 780
       }
      },
      "text/html": [
       "<div>\n",
       "<style scoped>\n",
       "    .dataframe tbody tr th:only-of-type {\n",
       "        vertical-align: middle;\n",
       "    }\n",
       "\n",
       "    .dataframe tbody tr th {\n",
       "        vertical-align: top;\n",
       "    }\n",
       "\n",
       "    .dataframe thead th {\n",
       "        text-align: right;\n",
       "    }\n",
       "</style>\n",
       "<table border=\"1\" class=\"dataframe\">\n",
       "  <thead>\n",
       "    <tr style=\"text-align: right;\">\n",
       "      <th></th>\n",
       "      <th>product_id</th>\n",
       "      <th>pred_windows_12</th>\n",
       "      <th>tn</th>\n",
       "    </tr>\n",
       "  </thead>\n",
       "  <tbody>\n",
       "    <tr>\n",
       "      <th>0</th>\n",
       "      <td>20001</td>\n",
       "      <td>1458.384452</td>\n",
       "      <td>1302.821147</td>\n",
       "    </tr>\n",
       "    <tr>\n",
       "      <th>1</th>\n",
       "      <td>20002</td>\n",
       "      <td>1193.750891</td>\n",
       "      <td>1087.357424</td>\n",
       "    </tr>\n",
       "    <tr>\n",
       "      <th>2</th>\n",
       "      <td>20003</td>\n",
       "      <td>771.721654</td>\n",
       "      <td>682.975566</td>\n",
       "    </tr>\n",
       "    <tr>\n",
       "      <th>3</th>\n",
       "      <td>20004</td>\n",
       "      <td>561.147217</td>\n",
       "      <td>522.412123</td>\n",
       "    </tr>\n",
       "    <tr>\n",
       "      <th>4</th>\n",
       "      <td>20005</td>\n",
       "      <td>602.650778</td>\n",
       "      <td>529.132087</td>\n",
       "    </tr>\n",
       "    <tr>\n",
       "      <th>...</th>\n",
       "      <td>...</td>\n",
       "      <td>...</td>\n",
       "      <td>...</td>\n",
       "    </tr>\n",
       "    <tr>\n",
       "      <th>775</th>\n",
       "      <td>21263</td>\n",
       "      <td>0.023488</td>\n",
       "      <td>0.030325</td>\n",
       "    </tr>\n",
       "    <tr>\n",
       "      <th>776</th>\n",
       "      <td>21265</td>\n",
       "      <td>0.096101</td>\n",
       "      <td>0.054927</td>\n",
       "    </tr>\n",
       "    <tr>\n",
       "      <th>777</th>\n",
       "      <td>21266</td>\n",
       "      <td>0.093510</td>\n",
       "      <td>0.057644</td>\n",
       "    </tr>\n",
       "    <tr>\n",
       "      <th>778</th>\n",
       "      <td>21267</td>\n",
       "      <td>0.074795</td>\n",
       "      <td>0.058903</td>\n",
       "    </tr>\n",
       "    <tr>\n",
       "      <th>779</th>\n",
       "      <td>21276</td>\n",
       "      <td>0.040926</td>\n",
       "      <td>0.030344</td>\n",
       "    </tr>\n",
       "  </tbody>\n",
       "</table>\n",
       "<p>780 rows × 3 columns</p>\n",
       "</div>"
      ],
      "text/plain": [
       "     product_id  pred_windows_12           tn\n",
       "0         20001      1458.384452  1302.821147\n",
       "1         20002      1193.750891  1087.357424\n",
       "2         20003       771.721654   682.975566\n",
       "3         20004       561.147217   522.412123\n",
       "4         20005       602.650778   529.132087\n",
       "..          ...              ...          ...\n",
       "775       21263         0.023488     0.030325\n",
       "776       21265         0.096101     0.054927\n",
       "777       21266         0.093510     0.057644\n",
       "778       21267         0.074795     0.058903\n",
       "779       21276         0.040926     0.030344\n",
       "\n",
       "[780 rows x 3 columns]"
      ]
     },
     "execution_count": 15,
     "metadata": {},
     "output_type": "execute_result"
    }
   ],
   "source": [
    "df_a = pd.read_csv(\"./outputs/predicciones_exp_06_autogluon_v1_12kfold.csv\", sep=',', encoding='utf-8')\n",
    "df_b = pd.read_csv(\"./outputs/prediccion_autogluon_2ventanas.csv\", sep=',', encoding='utf-8')\n",
    "df_a = df_a.merge(df_b, on='product_id', how='inner')\n",
    "df_a"
   ]
  },
  {
   "cell_type": "code",
   "execution_count": 16,
   "id": "8874f2e1",
   "metadata": {},
   "outputs": [],
   "source": [
    "df_a['mean'] = (df_a['pred_windows_12'] + df_a['tn']) / 2\n",
    "df_a = df_a[['product_id', 'mean']].rename(columns={'mean': 'tn'})\n",
    "output_path = \"./outputs/predicciones_exp_06v6_autogluon_mean2.csv\"\n",
    "df_a.to_csv(output_path, sep=',', index=False)"
   ]
  },
  {
   "cell_type": "code",
   "execution_count": 17,
   "id": "d9dacd3a",
   "metadata": {},
   "outputs": [
    {
     "data": {
      "application/vnd.microsoft.datawrangler.viewer.v0+json": {
       "columns": [
        {
         "name": "index",
         "rawType": "int64",
         "type": "integer"
        },
        {
         "name": "product_id",
         "rawType": "int64",
         "type": "integer"
        },
        {
         "name": "tn",
         "rawType": "float64",
         "type": "float"
        }
       ],
       "ref": "b3c2ae2f-5908-4cab-8597-74810d4552ae",
       "rows": [
        [
         "0",
         "20001",
         "1380.602799543074"
        ],
        [
         "1",
         "20002",
         "1140.5541576271085"
        ],
        [
         "2",
         "20003",
         "727.3486101406099"
        ],
        [
         "3",
         "20004",
         "541.7796699436574"
        ],
        [
         "4",
         "20005",
         "565.8914323895458"
        ],
        [
         "5",
         "20006",
         "499.0422628430214"
        ],
        [
         "6",
         "20007",
         "422.01949599916975"
        ],
        [
         "7",
         "20008",
         "399.9575186789817"
        ],
        [
         "8",
         "20009",
         "522.4684702090203"
        ],
        [
         "9",
         "20010",
         "407.9843003983291"
        ],
        [
         "10",
         "20011",
         "431.88696460768415"
        ],
        [
         "11",
         "20012",
         "331.34334924925963"
        ],
        [
         "12",
         "20013",
         "403.4541413075623"
        ],
        [
         "13",
         "20014",
         "395.6012718196617"
        ],
        [
         "14",
         "20015",
         "358.58726944596754"
        ],
        [
         "15",
         "20016",
         "295.646281236171"
        ],
        [
         "16",
         "20017",
         "295.4838733834479"
        ],
        [
         "17",
         "20018",
         "273.41777794134765"
        ],
        [
         "18",
         "20019",
         "314.27835687017637"
        ],
        [
         "19",
         "20020",
         "305.8833161292772"
        ],
        [
         "20",
         "20021",
         "243.99187012315457"
        ],
        [
         "21",
         "20022",
         "312.9575431114552"
        ],
        [
         "22",
         "20023",
         "219.17176200670485"
        ],
        [
         "23",
         "20024",
         "230.20136399268827"
        ],
        [
         "24",
         "20025",
         "232.9466298357243"
        ],
        [
         "25",
         "20026",
         "237.21863904590202"
        ],
        [
         "26",
         "20027",
         "234.0336345658353"
        ],
        [
         "27",
         "20028",
         "218.26140430600816"
        ],
        [
         "28",
         "20029",
         "194.9298261729304"
        ],
        [
         "29",
         "20030",
         "137.8650984427326"
        ],
        [
         "30",
         "20031",
         "193.25465771474444"
        ],
        [
         "31",
         "20032",
         "530.2068241662092"
        ],
        [
         "32",
         "20033",
         "137.78965767707484"
        ],
        [
         "33",
         "20035",
         "174.7089972142524"
        ],
        [
         "34",
         "20037",
         "178.68622310892027"
        ],
        [
         "35",
         "20038",
         "184.0240033647072"
        ],
        [
         "36",
         "20039",
         "159.99450708919218"
        ],
        [
         "37",
         "20041",
         "134.2569470810694"
        ],
        [
         "38",
         "20042",
         "169.94793342547285"
        ],
        [
         "39",
         "20043",
         "131.15302703672273"
        ],
        [
         "40",
         "20044",
         "179.5480780519248"
        ],
        [
         "41",
         "20045",
         "150.96461651880293"
        ],
        [
         "42",
         "20046",
         "152.78515393330972"
        ],
        [
         "43",
         "20047",
         "179.8705718822198"
        ],
        [
         "44",
         "20049",
         "165.00136409611946"
        ],
        [
         "45",
         "20050",
         "133.78878001651375"
        ],
        [
         "46",
         "20051",
         "137.9045543733958"
        ],
        [
         "47",
         "20052",
         "118.01424742177598"
        ],
        [
         "48",
         "20053",
         "162.25623618476973"
        ],
        [
         "49",
         "20054",
         "154.37227943091736"
        ]
       ],
       "shape": {
        "columns": 2,
        "rows": 780
       }
      },
      "text/html": [
       "<div>\n",
       "<style scoped>\n",
       "    .dataframe tbody tr th:only-of-type {\n",
       "        vertical-align: middle;\n",
       "    }\n",
       "\n",
       "    .dataframe tbody tr th {\n",
       "        vertical-align: top;\n",
       "    }\n",
       "\n",
       "    .dataframe thead th {\n",
       "        text-align: right;\n",
       "    }\n",
       "</style>\n",
       "<table border=\"1\" class=\"dataframe\">\n",
       "  <thead>\n",
       "    <tr style=\"text-align: right;\">\n",
       "      <th></th>\n",
       "      <th>product_id</th>\n",
       "      <th>tn</th>\n",
       "    </tr>\n",
       "  </thead>\n",
       "  <tbody>\n",
       "    <tr>\n",
       "      <th>0</th>\n",
       "      <td>20001</td>\n",
       "      <td>1380.602800</td>\n",
       "    </tr>\n",
       "    <tr>\n",
       "      <th>1</th>\n",
       "      <td>20002</td>\n",
       "      <td>1140.554158</td>\n",
       "    </tr>\n",
       "    <tr>\n",
       "      <th>2</th>\n",
       "      <td>20003</td>\n",
       "      <td>727.348610</td>\n",
       "    </tr>\n",
       "    <tr>\n",
       "      <th>3</th>\n",
       "      <td>20004</td>\n",
       "      <td>541.779670</td>\n",
       "    </tr>\n",
       "    <tr>\n",
       "      <th>4</th>\n",
       "      <td>20005</td>\n",
       "      <td>565.891432</td>\n",
       "    </tr>\n",
       "    <tr>\n",
       "      <th>...</th>\n",
       "      <td>...</td>\n",
       "      <td>...</td>\n",
       "    </tr>\n",
       "    <tr>\n",
       "      <th>775</th>\n",
       "      <td>21263</td>\n",
       "      <td>0.026906</td>\n",
       "    </tr>\n",
       "    <tr>\n",
       "      <th>776</th>\n",
       "      <td>21265</td>\n",
       "      <td>0.075514</td>\n",
       "    </tr>\n",
       "    <tr>\n",
       "      <th>777</th>\n",
       "      <td>21266</td>\n",
       "      <td>0.075577</td>\n",
       "    </tr>\n",
       "    <tr>\n",
       "      <th>778</th>\n",
       "      <td>21267</td>\n",
       "      <td>0.066849</td>\n",
       "    </tr>\n",
       "    <tr>\n",
       "      <th>779</th>\n",
       "      <td>21276</td>\n",
       "      <td>0.035635</td>\n",
       "    </tr>\n",
       "  </tbody>\n",
       "</table>\n",
       "<p>780 rows × 2 columns</p>\n",
       "</div>"
      ],
      "text/plain": [
       "     product_id           tn\n",
       "0         20001  1380.602800\n",
       "1         20002  1140.554158\n",
       "2         20003   727.348610\n",
       "3         20004   541.779670\n",
       "4         20005   565.891432\n",
       "..          ...          ...\n",
       "775       21263     0.026906\n",
       "776       21265     0.075514\n",
       "777       21266     0.075577\n",
       "778       21267     0.066849\n",
       "779       21276     0.035635\n",
       "\n",
       "[780 rows x 2 columns]"
      ]
     },
     "execution_count": 17,
     "metadata": {},
     "output_type": "execute_result"
    }
   ],
   "source": [
    "df_a"
   ]
  }
 ],
 "metadata": {
  "kernelspec": {
   "display_name": "py311lab3",
   "language": "python",
   "name": "python3"
  },
  "language_info": {
   "codemirror_mode": {
    "name": "ipython",
    "version": 3
   },
   "file_extension": ".py",
   "mimetype": "text/x-python",
   "name": "python",
   "nbconvert_exporter": "python",
   "pygments_lexer": "ipython3",
   "version": "3.11.13"
  }
 },
 "nbformat": 4,
 "nbformat_minor": 5
}
