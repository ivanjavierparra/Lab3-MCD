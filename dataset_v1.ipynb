{
 "cells": [
  {
   "cell_type": "code",
   "execution_count": 2,
   "id": "dd95e021",
   "metadata": {},
   "outputs": [],
   "source": [
    "import pandas as pd\n",
    "import numpy as np\n",
    "import matplotlib.pyplot as plt\n",
    "import seaborn as sns"
   ]
  },
  {
   "cell_type": "code",
   "execution_count": 3,
   "id": "bc9449e8",
   "metadata": {},
   "outputs": [],
   "source": [
    "sellin = pd.read_csv(\"datasets/sell-in.csv\", sep='\\t')\n",
    "productos = pd.read_csv(\"datasets/tb_productos.csv\", sep='\\t')\n",
    "stocks = pd.read_csv(\"datasets/tb_stocks.csv\", sep='\\t')"
   ]
  },
  {
   "cell_type": "code",
   "execution_count": 4,
   "id": "7d347f55",
   "metadata": {},
   "outputs": [
    {
     "name": "stdout",
     "output_type": "stream",
     "text": [
      "Sell-In: 2945818 filas y 7 columnas\n",
      "Productos: 1262 filas y 6 columnas\n",
      "Stocks: 13691 filas y 3 columnas\n"
     ]
    }
   ],
   "source": [
    "# Verificación inicial\n",
    "print(f\"Sell-In: {sellin.shape[0]} filas y {sellin.shape[1]} columnas\")\n",
    "print(f\"Productos: {productos.shape[0]} filas y {productos.shape[1]} columnas\")\n",
    "print(f\"Stocks: {stocks.shape[0]} filas y {stocks.shape[1]} columnas\")"
   ]
  },
  {
   "cell_type": "code",
   "execution_count": 5,
   "id": "6596c0eb",
   "metadata": {},
   "outputs": [
    {
     "name": "stdout",
     "output_type": "stream",
     "text": [
      "Ventas-Productos-Stocks: 2988650 filas y 13 columnas\n"
     ]
    }
   ],
   "source": [
    "# 3. MERGE INICIAL\n",
    "df = sellin.merge(productos, on=\"product_id\", how=\"left\")\n",
    "df = df.merge(stocks, on=[\"product_id\", \"periodo\"], how=\"left\")\n",
    "print(f\"Ventas-Productos-Stocks: {df.shape[0]} filas y {df.shape[1]} columnas\")"
   ]
  },
  {
   "cell_type": "code",
   "execution_count": 6,
   "id": "2905a7bf",
   "metadata": {},
   "outputs": [
    {
     "name": "stdout",
     "output_type": "stream",
     "text": [
      "(1251, 6)\n"
     ]
    }
   ],
   "source": [
    "productos_clean = productos.drop_duplicates(subset=['product_id'], keep='first')\n",
    "print(productos_clean.shape)"
   ]
  },
  {
   "cell_type": "code",
   "execution_count": 7,
   "id": "9bc7cb22",
   "metadata": {},
   "outputs": [
    {
     "name": "stdout",
     "output_type": "stream",
     "text": [
      "(2945818, 7)\n",
      "(2945818, 13)\n"
     ]
    }
   ],
   "source": [
    "df = sellin.merge(productos_clean, on=\"product_id\", how=\"left\")\n",
    "df = df.merge(stocks, on=[\"product_id\", \"periodo\"], how=\"left\")\n",
    "print(sellin.shape)\n",
    "print(df.shape)"
   ]
  },
  {
   "cell_type": "code",
   "execution_count": 8,
   "id": "5852715d",
   "metadata": {},
   "outputs": [],
   "source": [
    "df['periodo_dt'] = pd.to_datetime(df['periodo'].astype(str), format='%Y%m')"
   ]
  },
  {
   "cell_type": "code",
   "execution_count": 9,
   "id": "64ddd67d",
   "metadata": {},
   "outputs": [
    {
     "name": "stdout",
     "output_type": "stream",
     "text": [
      "   periodo  product_id  customer_id        tn\n",
      "0   201701       20001        10234   0.33579\n",
      "1   201701       20001        10032  12.31230\n",
      "2   201701       20001        10217   0.00000\n",
      "3   201701       20001        10125   0.08954\n",
      "4   201701       20001        10012   6.97324\n"
     ]
    }
   ],
   "source": [
    "# Supongamos que df ya contiene las columnas: periodo, customer_id, product_id, tn\n",
    "df[\"periodo_dt\"] = pd.to_datetime(df[\"periodo\"].astype(str), format=\"%Y%m\")\n",
    "\n",
    "# Paso 1: Rango total de periodos\n",
    "todos_los_periodos = pd.date_range(start=df[\"periodo_dt\"].min(), end=df[\"periodo_dt\"].max(), freq=\"MS\")\n",
    "\n",
    "# Paso 2: Todos los clientes únicos\n",
    "todos_los_clientes = df[\"customer_id\"].unique()\n",
    "\n",
    "# Paso 3: Determinar vida útil de cada producto\n",
    "vida_producto = df.groupby(\"product_id\")[\"periodo_dt\"].agg([\"min\", \"max\"]).reset_index()\n",
    "\n",
    "# Paso 4: Generar combinaciones (periodo, producto) considerando restricciones\n",
    "combinaciones_producto_periodo = []\n",
    "fecha_limite_nuevos = pd.to_datetime(\"2017-03\", format=\"%Y-%m\")\n",
    "\n",
    "# Los productos de 35 y 36 meeses de vida son considerados \"vitales\"\n",
    "productos_vitales = df.groupby(\"product_id\")[\"periodo_dt\"].agg([\"min\", \"max\"]).reset_index()\n",
    "mask = (productos_vitales['min'] == '2017-01-01') & ((productos_vitales['max'] == '2019-12-01'))\n",
    "productos_vitales = productos_vitales[mask]['product_id'].unique()  \n",
    "\n",
    "for _, row in vida_producto.iterrows():\n",
    "    producto = row[\"product_id\"]\n",
    "    min_fecha = row[\"min\"]\n",
    "    max_fecha = row[\"max\"]\n",
    "    periodos_validos = pd.date_range(start=min_fecha, end=max_fecha, freq=\"MS\")\n",
    "    es_nuevo = min_fecha >= fecha_limite_nuevos  # solo si el producto es nuevo a partir de 2017-02\n",
    "    \n",
    "    for p in periodos_validos:\n",
    "        if producto in productos_vitales:\n",
    "            combinaciones_producto_periodo.append((p, producto))\n",
    "            continue\n",
    "        # Excluir primeros 3 meses si es nuevo (a partir de 2017-02)\n",
    "        if es_nuevo and (p < min_fecha + pd.DateOffset(months=3)):\n",
    "            continue\n",
    "        # Excluir últimos 3 meses del producto\n",
    "        if p > max_fecha - pd.DateOffset(months=3):\n",
    "            continue\n",
    "        combinaciones_producto_periodo.append((p, producto))\n",
    "\n",
    "df_producto_periodo = pd.DataFrame(combinaciones_producto_periodo, columns=[\"periodo_dt\", \"product_id\"])\n",
    "\n",
    "# Paso 5: Generar combinaciones de todos los clientes con (periodo, producto)\n",
    "combinaciones = []\n",
    "for _, row in df_producto_periodo.iterrows():\n",
    "    periodo = row[\"periodo_dt\"]\n",
    "    producto = row[\"product_id\"]\n",
    "    for cliente in todos_los_clientes:\n",
    "        # if producto in df[df[\"customer_id\"] == cliente][\"product_id\"].unique(): ###### <------ ESTO TARDA 3 AÑOS\n",
    "        combinaciones.append((periodo, producto, cliente)) \n",
    "\n",
    "df_completo = pd.DataFrame(combinaciones, columns=[\"periodo_dt\", \"product_id\", \"customer_id\"])\n",
    "\n",
    "# Paso 6: Unir con toneladas efectivas\n",
    "df_merge = df_completo.merge(df[[\"periodo_dt\", \"product_id\", \"customer_id\", \"tn\"]],\n",
    "                             on=[\"periodo_dt\", \"product_id\", \"customer_id\"],\n",
    "                             how=\"left\")\n",
    "df_merge[\"tn\"] = df_merge[\"tn\"].fillna(0)\n",
    "\n",
    "# Paso 7: Recuperar periodo AAAAMM si lo necesitás\n",
    "df_merge[\"periodo\"] = df_merge[\"periodo_dt\"].dt.strftime(\"%Y%m\").astype(int)\n",
    "\n",
    "# Resultado final\n",
    "df_final = df_merge[[\"periodo\", \"product_id\", \"customer_id\", \"tn\"]]\n",
    "\n",
    "# Vista previa\n",
    "print(df_final.head())"
   ]
  },
  {
   "cell_type": "code",
   "execution_count": 10,
   "id": "6658fca8",
   "metadata": {},
   "outputs": [
    {
     "data": {
      "text/plain": [
       "(16976292, 4)"
      ]
     },
     "execution_count": 10,
     "metadata": {},
     "output_type": "execute_result"
    }
   ],
   "source": [
    "df_final.shape"
   ]
  }
 ],
 "metadata": {
  "kernelspec": {
   "display_name": "Python 3",
   "language": "python",
   "name": "python3"
  },
  "language_info": {
   "codemirror_mode": {
    "name": "ipython",
    "version": 3
   },
   "file_extension": ".py",
   "mimetype": "text/x-python",
   "name": "python",
   "nbconvert_exporter": "python",
   "pygments_lexer": "ipython3",
   "version": "3.11.4"
  }
 },
 "nbformat": 4,
 "nbformat_minor": 5
}
